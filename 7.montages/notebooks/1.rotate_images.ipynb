{
 "cells": [
  {
   "cell_type": "code",
   "execution_count": 1,
   "metadata": {},
   "outputs": [],
   "source": [
    "import pathlib\n",
    "\n",
    "import cv2"
   ]
  },
  {
   "cell_type": "code",
   "execution_count": 2,
   "metadata": {},
   "outputs": [],
   "source": [
    "# set paths\n",
    "input_path = pathlib.Path(\"../../data/7.montage_images/individual_images/\")\n",
    "output_path = pathlib.Path(\"../../data/7.montage_images/individual_images/\")\n",
    "output_path.mkdir(exist_ok=True, parents=True)"
   ]
  },
  {
   "cell_type": "markdown",
   "metadata": {},
   "source": [
    "images need to be manually rotated or mirrored so that each are in the correct orientation."
   ]
  },
  {
   "cell_type": "code",
   "execution_count": 4,
   "metadata": {},
   "outputs": [],
   "source": [
    "# break the files into 3 lists\n",
    "# wt unsel and high\n",
    "wt = [file for file in files if \"wt\" in file.stem]\n",
    "unsel = [file for file in files if \"unsel\" in file.stem]\n",
    "high = [file for file in files if \"high\" in file.stem]\n",
    "# sort the lists\n",
    "wt.sort()\n",
    "unsel.sort()\n",
    "high.sort()"
   ]
  },
  {
   "cell_type": "markdown",
   "metadata": {},
   "source": [
    "## WT rotate"
   ]
  },
  {
   "cell_type": "code",
   "execution_count": 5,
   "metadata": {},
   "outputs": [
    {
     "data": {
      "text/plain": [
       "True"
      ]
     },
     "execution_count": 5,
     "metadata": {},
     "output_type": "execute_result"
    }
   ],
   "source": [
    "img = cv2.imread(str(wt[1]), cv2.IMREAD_UNCHANGED)\n",
    "img = cv2.rotate(img, cv2.ROTATE_90_COUNTERCLOCKWISE)\n",
    "# img = cv2.rotate(img, cv2.ROTATE_90_CLOCKWISE)\n",
    "# img = cv2.rotate(img, cv2.ROTATE_180)\n",
    "# mirror image\n",
    "img = cv2.flip(img, 1)\n",
    "cv2.imwrite(str(wt[1]), img)"
   ]
  },
  {
   "cell_type": "code",
   "execution_count": 6,
   "metadata": {},
   "outputs": [
    {
     "data": {
      "text/plain": [
       "True"
      ]
     },
     "execution_count": 6,
     "metadata": {},
     "output_type": "execute_result"
    }
   ],
   "source": [
    "img = cv2.imread(str(wt[2]), cv2.IMREAD_UNCHANGED)\n",
    "# img = cv2.rotate(img, cv2.ROTATE_90_COUNTERCLOCKWISE)\n",
    "# img = cv2.rotate(img, cv2.ROTATE_90_CLOCKWISE)\n",
    "# img = cv2.rotate(img, cv2.ROTATE_180)\n",
    "# mirror image\n",
    "# img = cv2.flip(img, 1)\n",
    "cv2.imwrite(str(wt[2]), img)"
   ]
  },
  {
   "cell_type": "code",
   "execution_count": 7,
   "metadata": {},
   "outputs": [
    {
     "data": {
      "text/plain": [
       "True"
      ]
     },
     "execution_count": 7,
     "metadata": {},
     "output_type": "execute_result"
    }
   ],
   "source": [
    "img = cv2.imread(str(wt[3]), cv2.IMREAD_UNCHANGED)\n",
    "img = cv2.rotate(img, cv2.ROTATE_90_COUNTERCLOCKWISE)\n",
    "# img = cv2.rotate(img, cv2.ROTATE_90_CLOCKWISE)\n",
    "# img = cv2.rotate(img, cv2.ROTATE_180)\n",
    "# mirror image\n",
    "img = cv2.flip(img, 1)\n",
    "cv2.imwrite(str(wt[3]), img)"
   ]
  },
  {
   "cell_type": "code",
   "execution_count": 8,
   "metadata": {},
   "outputs": [
    {
     "data": {
      "text/plain": [
       "True"
      ]
     },
     "execution_count": 8,
     "metadata": {},
     "output_type": "execute_result"
    }
   ],
   "source": [
    "img = cv2.imread(str(wt[4]), cv2.IMREAD_UNCHANGED)\n",
    "# img = cv2.rotate(img, cv2.ROTATE_90_COUNTERCLOCKWISE)\n",
    "# img = cv2.rotate(img, cv2.ROTATE_90_CLOCKWISE)\n",
    "# img = cv2.rotate(img, cv2.ROTATE_180)\n",
    "# mirror image\n",
    "# img = cv2.flip(img, 1)\n",
    "cv2.imwrite(str(wt[4]), img)"
   ]
  },
  {
   "cell_type": "code",
   "execution_count": 9,
   "metadata": {},
   "outputs": [
    {
     "data": {
      "text/plain": [
       "True"
      ]
     },
     "execution_count": 9,
     "metadata": {},
     "output_type": "execute_result"
    }
   ],
   "source": [
    "img = cv2.imread(str(wt[5]), cv2.IMREAD_UNCHANGED)\n",
    "img = cv2.rotate(img, cv2.ROTATE_90_COUNTERCLOCKWISE)\n",
    "# img = cv2.rotate(img, cv2.ROTATE_90_CLOCKWISE)\n",
    "# img = cv2.rotate(img, cv2.ROTATE_180)\n",
    "# mirror image\n",
    "img = cv2.flip(img, 1)\n",
    "cv2.imwrite(str(wt[5]), img)"
   ]
  },
  {
   "cell_type": "code",
   "execution_count": 10,
   "metadata": {},
   "outputs": [
    {
     "data": {
      "text/plain": [
       "True"
      ]
     },
     "execution_count": 10,
     "metadata": {},
     "output_type": "execute_result"
    }
   ],
   "source": [
    "img = cv2.imread(str(wt[6]), cv2.IMREAD_UNCHANGED)\n",
    "# img = cv2.rotate(img, cv2.ROTATE_90_COUNTERCLOCKWISE)\n",
    "# img = cv2.rotate(img, cv2.ROTATE_90_CLOCKWISE)\n",
    "# img = cv2.rotate(img, cv2.ROTATE_180)\n",
    "# mirror image\n",
    "# img = cv2.flip(img, 1)\n",
    "cv2.imwrite(str(wt[6]), img)"
   ]
  },
  {
   "cell_type": "code",
   "execution_count": 11,
   "metadata": {},
   "outputs": [
    {
     "data": {
      "text/plain": [
       "True"
      ]
     },
     "execution_count": 11,
     "metadata": {},
     "output_type": "execute_result"
    }
   ],
   "source": [
    "img = cv2.imread(str(wt[7]), cv2.IMREAD_UNCHANGED)\n",
    "img = cv2.rotate(img, cv2.ROTATE_90_COUNTERCLOCKWISE)\n",
    "# img = cv2.rotate(img, cv2.ROTATE_90_CLOCKWISE)\n",
    "# img = cv2.rotate(img, cv2.ROTATE_180)\n",
    "# mirror image\n",
    "img = cv2.flip(img, 1)\n",
    "cv2.imwrite(str(wt[7]), img)"
   ]
  },
  {
   "cell_type": "code",
   "execution_count": 12,
   "metadata": {},
   "outputs": [
    {
     "data": {
      "text/plain": [
       "True"
      ]
     },
     "execution_count": 12,
     "metadata": {},
     "output_type": "execute_result"
    }
   ],
   "source": [
    "img = cv2.imread(str(wt[8]), cv2.IMREAD_UNCHANGED)\n",
    "# img = cv2.rotate(img, cv2.ROTATE_90_COUNTERCLOCKWISE)\n",
    "# img = cv2.rotate(img, cv2.ROTATE_90_CLOCKWISE)\n",
    "# img = cv2.rotate(img, cv2.ROTATE_180)\n",
    "# mirror image\n",
    "# img = cv2.flip(img, 1)\n",
    "cv2.imwrite(str(wt[8]), img)"
   ]
  },
  {
   "cell_type": "code",
   "execution_count": 13,
   "metadata": {},
   "outputs": [
    {
     "data": {
      "text/plain": [
       "True"
      ]
     },
     "execution_count": 13,
     "metadata": {},
     "output_type": "execute_result"
    }
   ],
   "source": [
    "img = cv2.imread(str(wt[9]), cv2.IMREAD_UNCHANGED)\n",
    "img = cv2.rotate(img, cv2.ROTATE_90_COUNTERCLOCKWISE)\n",
    "# img = cv2.rotate(img, cv2.ROTATE_90_CLOCKWISE)\n",
    "# img = cv2.rotate(img, cv2.ROTATE_180)\n",
    "# mirror image\n",
    "img = cv2.flip(img, 1)\n",
    "cv2.imwrite(str(wt[9]), img)"
   ]
  },
  {
   "cell_type": "code",
   "execution_count": 14,
   "metadata": {},
   "outputs": [
    {
     "data": {
      "text/plain": [
       "True"
      ]
     },
     "execution_count": 14,
     "metadata": {},
     "output_type": "execute_result"
    }
   ],
   "source": [
    "img = cv2.imread(str(wt[10]), cv2.IMREAD_UNCHANGED)\n",
    "# img = cv2.rotate(img, cv2.ROTATE_90_COUNTERCLOCKWISE)\n",
    "img = cv2.rotate(img, cv2.ROTATE_90_CLOCKWISE)\n",
    "# img = cv2.rotate(img, cv2.ROTATE_180)\n",
    "# mirror image\n",
    "# img = cv2.flip(img, 1)\n",
    "cv2.imwrite(str(wt[10]), img)"
   ]
  },
  {
   "cell_type": "code",
   "execution_count": 15,
   "metadata": {},
   "outputs": [
    {
     "data": {
      "text/plain": [
       "True"
      ]
     },
     "execution_count": 15,
     "metadata": {},
     "output_type": "execute_result"
    }
   ],
   "source": [
    "img = cv2.imread(str(wt[11]), cv2.IMREAD_UNCHANGED)\n",
    "img = cv2.rotate(img, cv2.ROTATE_90_COUNTERCLOCKWISE)\n",
    "# img = cv2.rotate(img, cv2.ROTATE_90_CLOCKWISE)\n",
    "# img = cv2.rotate(img, cv2.ROTATE_180)\n",
    "# mirror image\n",
    "img = cv2.flip(img, 1)\n",
    "cv2.imwrite(str(wt[11]), img)"
   ]
  },
  {
   "cell_type": "code",
   "execution_count": 16,
   "metadata": {},
   "outputs": [
    {
     "data": {
      "text/plain": [
       "True"
      ]
     },
     "execution_count": 16,
     "metadata": {},
     "output_type": "execute_result"
    }
   ],
   "source": [
    "img = cv2.imread(str(wt[12]), cv2.IMREAD_UNCHANGED)\n",
    "# img = cv2.rotate(img, cv2.ROTATE_90_COUNTERCLOCKWISE)\n",
    "img = cv2.rotate(img, cv2.ROTATE_90_CLOCKWISE)\n",
    "# img = cv2.rotate(img, cv2.ROTATE_180)\n",
    "# mirror image\n",
    "# img = cv2.flip(img, 1)\n",
    "cv2.imwrite(str(wt[12]), img)"
   ]
  },
  {
   "cell_type": "code",
   "execution_count": 17,
   "metadata": {},
   "outputs": [
    {
     "data": {
      "text/plain": [
       "True"
      ]
     },
     "execution_count": 17,
     "metadata": {},
     "output_type": "execute_result"
    }
   ],
   "source": [
    "img = cv2.imread(str(wt[13]), cv2.IMREAD_UNCHANGED)\n",
    "img = cv2.rotate(img, cv2.ROTATE_90_COUNTERCLOCKWISE)\n",
    "# img = cv2.rotate(img, cv2.ROTATE_90_CLOCKWISE)\n",
    "# img = cv2.rotate(img, cv2.ROTATE_180)\n",
    "# mirror image\n",
    "img = cv2.flip(img, 1)\n",
    "cv2.imwrite(str(wt[13]), img)"
   ]
  },
  {
   "cell_type": "code",
   "execution_count": 18,
   "metadata": {},
   "outputs": [
    {
     "data": {
      "text/plain": [
       "True"
      ]
     },
     "execution_count": 18,
     "metadata": {},
     "output_type": "execute_result"
    }
   ],
   "source": [
    "img = cv2.imread(str(wt[14]), cv2.IMREAD_UNCHANGED)\n",
    "# img = cv2.rotate(img, cv2.ROTATE_90_COUNTERCLOCKWISE)\n",
    "# img = cv2.rotate(img, cv2.ROTATE_90_CLOCKWISE)\n",
    "# img = cv2.rotate(img, cv2.ROTATE_180)\n",
    "# mirror image\n",
    "# img = cv2.flip(img, 1)\n",
    "cv2.imwrite(str(wt[14]), img)"
   ]
  },
  {
   "cell_type": "code",
   "execution_count": 19,
   "metadata": {},
   "outputs": [
    {
     "data": {
      "text/plain": [
       "True"
      ]
     },
     "execution_count": 19,
     "metadata": {},
     "output_type": "execute_result"
    }
   ],
   "source": [
    "img = cv2.imread(str(wt[15]), cv2.IMREAD_UNCHANGED)\n",
    "img = cv2.rotate(img, cv2.ROTATE_90_COUNTERCLOCKWISE)\n",
    "# img = cv2.rotate(img, cv2.ROTATE_90_CLOCKWISE)\n",
    "# img = cv2.rotate(img, cv2.ROTATE_180)\n",
    "# mirror image\n",
    "img = cv2.flip(img, 1)\n",
    "cv2.imwrite(str(wt[15]), img)"
   ]
  },
  {
   "cell_type": "code",
   "execution_count": 20,
   "metadata": {},
   "outputs": [
    {
     "data": {
      "text/plain": [
       "True"
      ]
     },
     "execution_count": 20,
     "metadata": {},
     "output_type": "execute_result"
    }
   ],
   "source": [
    "img = cv2.imread(str(wt[16]), cv2.IMREAD_UNCHANGED)\n",
    "# img = cv2.rotate(img, cv2.ROTATE_90_COUNTERCLOCKWISE)\n",
    "img = cv2.rotate(img, cv2.ROTATE_90_CLOCKWISE)\n",
    "# img = cv2.rotate(img, cv2.ROTATE_180)\n",
    "# mirror image\n",
    "# img = cv2.flip(img, 1)\n",
    "cv2.imwrite(str(wt[16]), img)"
   ]
  },
  {
   "cell_type": "code",
   "execution_count": 21,
   "metadata": {},
   "outputs": [
    {
     "data": {
      "text/plain": [
       "True"
      ]
     },
     "execution_count": 21,
     "metadata": {},
     "output_type": "execute_result"
    }
   ],
   "source": [
    "img = cv2.imread(str(wt[17]), cv2.IMREAD_UNCHANGED)\n",
    "img = cv2.rotate(img, cv2.ROTATE_90_COUNTERCLOCKWISE)\n",
    "# img = cv2.rotate(img, cv2.ROTATE_90_CLOCKWISE)\n",
    "# img = cv2.rotate(img, cv2.ROTATE_180)\n",
    "# mirror image\n",
    "img = cv2.flip(img, 1)\n",
    "cv2.imwrite(str(wt[17]), img)"
   ]
  },
  {
   "cell_type": "code",
   "execution_count": 22,
   "metadata": {},
   "outputs": [
    {
     "data": {
      "text/plain": [
       "True"
      ]
     },
     "execution_count": 22,
     "metadata": {},
     "output_type": "execute_result"
    }
   ],
   "source": [
    "img = cv2.imread(str(wt[18]), cv2.IMREAD_UNCHANGED)\n",
    "# img = cv2.rotate(img, cv2.ROTATE_90_COUNTERCLOCKWISE)\n",
    "# img = cv2.rotate(img, cv2.ROTATE_90_CLOCKWISE)\n",
    "# img = cv2.rotate(img, cv2.ROTATE_180)\n",
    "# mirror image\n",
    "# img = cv2.flip(img, 1)\n",
    "cv2.imwrite(str(wt[18]), img)"
   ]
  },
  {
   "cell_type": "code",
   "execution_count": 23,
   "metadata": {},
   "outputs": [
    {
     "data": {
      "text/plain": [
       "True"
      ]
     },
     "execution_count": 23,
     "metadata": {},
     "output_type": "execute_result"
    }
   ],
   "source": [
    "img = cv2.imread(str(wt[19]), cv2.IMREAD_UNCHANGED)\n",
    "img = cv2.rotate(img, cv2.ROTATE_90_COUNTERCLOCKWISE)\n",
    "# img = cv2.rotate(img, cv2.ROTATE_90_CLOCKWISE)\n",
    "# img = cv2.rotate(img, cv2.ROTATE_180)\n",
    "# mirror image\n",
    "img = cv2.flip(img, 1)\n",
    "cv2.imwrite(str(wt[19]), img)"
   ]
  },
  {
   "cell_type": "code",
   "execution_count": 24,
   "metadata": {},
   "outputs": [
    {
     "data": {
      "text/plain": [
       "True"
      ]
     },
     "execution_count": 24,
     "metadata": {},
     "output_type": "execute_result"
    }
   ],
   "source": [
    "img = cv2.imread(str(wt[20]), cv2.IMREAD_UNCHANGED)\n",
    "# img = cv2.rotate(img, cv2.ROTATE_90_COUNTERCLOCKWISE)\n",
    "img = cv2.rotate(img, cv2.ROTATE_90_CLOCKWISE)\n",
    "# img = cv2.rotate(img, cv2.ROTATE_180)\n",
    "# mirror image\n",
    "# img = cv2.flip(img, 1)\n",
    "cv2.imwrite(str(wt[20]), img)"
   ]
  },
  {
   "cell_type": "code",
   "execution_count": 25,
   "metadata": {},
   "outputs": [
    {
     "data": {
      "text/plain": [
       "True"
      ]
     },
     "execution_count": 25,
     "metadata": {},
     "output_type": "execute_result"
    }
   ],
   "source": [
    "img = cv2.imread(str(wt[21]), cv2.IMREAD_UNCHANGED)\n",
    "img = cv2.rotate(img, cv2.ROTATE_90_COUNTERCLOCKWISE)\n",
    "# img = cv2.rotate(img, cv2.ROTATE_90_CLOCKWISE)\n",
    "# img = cv2.rotate(img, cv2.ROTATE_180)\n",
    "# mirror image\n",
    "img = cv2.flip(img, 1)\n",
    "cv2.imwrite(str(wt[21]), img)"
   ]
  },
  {
   "cell_type": "code",
   "execution_count": 26,
   "metadata": {},
   "outputs": [
    {
     "data": {
      "text/plain": [
       "True"
      ]
     },
     "execution_count": 26,
     "metadata": {},
     "output_type": "execute_result"
    }
   ],
   "source": [
    "img = cv2.imread(str(wt[22]), cv2.IMREAD_UNCHANGED)\n",
    "# img = cv2.rotate(img, cv2.ROTATE_90_COUNTERCLOCKWISE)\n",
    "# img = cv2.rotate(img, cv2.ROTATE_90_CLOCKWISE)\n",
    "# img = cv2.rotate(img, cv2.ROTATE_180)\n",
    "# mirror image\n",
    "# img = cv2.flip(img, 1)\n",
    "cv2.imwrite(str(wt[22]), img)"
   ]
  },
  {
   "cell_type": "code",
   "execution_count": 27,
   "metadata": {},
   "outputs": [
    {
     "data": {
      "text/plain": [
       "True"
      ]
     },
     "execution_count": 27,
     "metadata": {},
     "output_type": "execute_result"
    }
   ],
   "source": [
    "img = cv2.imread(str(wt[23]), cv2.IMREAD_UNCHANGED)\n",
    "img = cv2.rotate(img, cv2.ROTATE_90_COUNTERCLOCKWISE)\n",
    "# img = cv2.rotate(img, cv2.ROTATE_90_CLOCKWISE)\n",
    "# img = cv2.rotate(img, cv2.ROTATE_180)\n",
    "# mirror image\n",
    "img = cv2.flip(img, 1)\n",
    "cv2.imwrite(str(wt[23]), img)"
   ]
  },
  {
   "cell_type": "code",
   "execution_count": 28,
   "metadata": {},
   "outputs": [
    {
     "data": {
      "text/plain": [
       "True"
      ]
     },
     "execution_count": 28,
     "metadata": {},
     "output_type": "execute_result"
    }
   ],
   "source": [
    "img = cv2.imread(str(wt[24]), cv2.IMREAD_UNCHANGED)\n",
    "# img = cv2.rotate(img, cv2.ROTATE_90_COUNTERCLOCKWISE)\n",
    "# img = cv2.rotate(img, cv2.ROTATE_90_CLOCKWISE)\n",
    "# img = cv2.rotate(img, cv2.ROTATE_180)\n",
    "# mirror image\n",
    "# img = cv2.flip(img, 1)\n",
    "cv2.imwrite(str(wt[24]), img)"
   ]
  },
  {
   "cell_type": "code",
   "execution_count": 29,
   "metadata": {},
   "outputs": [
    {
     "data": {
      "text/plain": [
       "True"
      ]
     },
     "execution_count": 29,
     "metadata": {},
     "output_type": "execute_result"
    }
   ],
   "source": [
    "img = cv2.imread(str(wt[25]), cv2.IMREAD_UNCHANGED)\n",
    "img = cv2.rotate(img, cv2.ROTATE_90_COUNTERCLOCKWISE)\n",
    "# img = cv2.rotate(img, cv2.ROTATE_90_CLOCKWISE)\n",
    "# img = cv2.rotate(img, cv2.ROTATE_180)\n",
    "# mirror image\n",
    "img = cv2.flip(img, 1)\n",
    "cv2.imwrite(str(wt[25]), img)"
   ]
  },
  {
   "cell_type": "code",
   "execution_count": 30,
   "metadata": {},
   "outputs": [
    {
     "data": {
      "text/plain": [
       "True"
      ]
     },
     "execution_count": 30,
     "metadata": {},
     "output_type": "execute_result"
    }
   ],
   "source": [
    "img = cv2.imread(str(wt[26]), cv2.IMREAD_UNCHANGED)\n",
    "# img = cv2.rotate(img, cv2.ROTATE_90_COUNTERCLOCKWISE)\n",
    "img = cv2.rotate(img, cv2.ROTATE_90_CLOCKWISE)\n",
    "# img = cv2.rotate(img, cv2.ROTATE_180)\n",
    "# mirror image\n",
    "# img = cv2.flip(img, 1)\n",
    "cv2.imwrite(str(wt[26]), img)"
   ]
  },
  {
   "cell_type": "code",
   "execution_count": 31,
   "metadata": {},
   "outputs": [
    {
     "data": {
      "text/plain": [
       "True"
      ]
     },
     "execution_count": 31,
     "metadata": {},
     "output_type": "execute_result"
    }
   ],
   "source": [
    "img = cv2.imread(str(wt[27]), cv2.IMREAD_UNCHANGED)\n",
    "img = cv2.rotate(img, cv2.ROTATE_90_COUNTERCLOCKWISE)\n",
    "# img = cv2.rotate(img, cv2.ROTATE_90_CLOCKWISE)\n",
    "# img = cv2.rotate(img, cv2.ROTATE_180)\n",
    "# mirror image\n",
    "img = cv2.flip(img, 1)\n",
    "cv2.imwrite(str(wt[27]), img)"
   ]
  },
  {
   "cell_type": "markdown",
   "metadata": {},
   "source": [
    "## Unselected mutants rotate"
   ]
  },
  {
   "cell_type": "code",
   "execution_count": 32,
   "metadata": {},
   "outputs": [
    {
     "data": {
      "text/plain": [
       "True"
      ]
     },
     "execution_count": 32,
     "metadata": {},
     "output_type": "execute_result"
    }
   ],
   "source": [
    "img = cv2.imread(str(unsel[0]), cv2.IMREAD_UNCHANGED)\n",
    "# img = cv2.rotate(img, cv2.ROTATE_90_COUNTERCLOCKWISE)\n",
    "img = cv2.rotate(img, cv2.ROTATE_90_CLOCKWISE)\n",
    "# img = cv2.rotate(img, cv2.ROTATE_180)\n",
    "# mirror image\n",
    "# img = cv2.flip(img, 1)\n",
    "cv2.imwrite(str(unsel[0]), img)"
   ]
  },
  {
   "cell_type": "code",
   "execution_count": 33,
   "metadata": {},
   "outputs": [
    {
     "data": {
      "text/plain": [
       "True"
      ]
     },
     "execution_count": 33,
     "metadata": {},
     "output_type": "execute_result"
    }
   ],
   "source": [
    "img = cv2.imread(str(unsel[1]), cv2.IMREAD_UNCHANGED)\n",
    "img = cv2.rotate(img, cv2.ROTATE_90_COUNTERCLOCKWISE)\n",
    "# img = cv2.rotate(img, cv2.ROTATE_90_CLOCKWISE)\n",
    "# img = cv2.rotate(img, cv2.ROTATE_180)\n",
    "# mirror image\n",
    "img = cv2.flip(img, 1)\n",
    "cv2.imwrite(str(unsel[1]), img)"
   ]
  },
  {
   "cell_type": "code",
   "execution_count": 34,
   "metadata": {},
   "outputs": [
    {
     "data": {
      "text/plain": [
       "True"
      ]
     },
     "execution_count": 34,
     "metadata": {},
     "output_type": "execute_result"
    }
   ],
   "source": [
    "img = cv2.imread(str(unsel[2]), cv2.IMREAD_UNCHANGED)\n",
    "# img = cv2.rotate(img, cv2.ROTATE_90_COUNTERCLOCKWISE)\n",
    "# img = cv2.rotate(img, cv2.ROTATE_90_CLOCKWISE)\n",
    "img = cv2.rotate(img, cv2.ROTATE_180)\n",
    "# mirror image\n",
    "# img = cv2.flip(img, 1)\n",
    "cv2.imwrite(str(unsel[2]), img)\n",
    "# view the image"
   ]
  },
  {
   "cell_type": "code",
   "execution_count": 35,
   "metadata": {},
   "outputs": [
    {
     "data": {
      "text/plain": [
       "True"
      ]
     },
     "execution_count": 35,
     "metadata": {},
     "output_type": "execute_result"
    }
   ],
   "source": [
    "img = cv2.imread(str(unsel[3]), cv2.IMREAD_UNCHANGED)\n",
    "# img = cv2.rotate(img, cv2.ROTATE_90_COUNTERCLOCKWISE)\n",
    "img = cv2.rotate(img, cv2.ROTATE_90_CLOCKWISE)\n",
    "# img = cv2.rotate(img, cv2.ROTATE_180)\n",
    "# mirror image\n",
    "# img = cv2.flip(img, 1)\n",
    "cv2.imwrite(str(unsel[3]), img)"
   ]
  },
  {
   "cell_type": "code",
   "execution_count": 36,
   "metadata": {},
   "outputs": [
    {
     "data": {
      "text/plain": [
       "True"
      ]
     },
     "execution_count": 36,
     "metadata": {},
     "output_type": "execute_result"
    }
   ],
   "source": [
    "img = cv2.imread(str(unsel[4]), cv2.IMREAD_UNCHANGED)\n",
    "img = cv2.rotate(img, cv2.ROTATE_90_COUNTERCLOCKWISE)\n",
    "# img = cv2.rotate(img, cv2.ROTATE_90_CLOCKWISE)\n",
    "# img = cv2.rotate(img, cv2.ROTATE_180)\n",
    "# mirror image\n",
    "img = cv2.flip(img, 1)\n",
    "cv2.imwrite(str(unsel[4]), img)"
   ]
  },
  {
   "cell_type": "code",
   "execution_count": 37,
   "metadata": {},
   "outputs": [
    {
     "data": {
      "text/plain": [
       "True"
      ]
     },
     "execution_count": 37,
     "metadata": {},
     "output_type": "execute_result"
    }
   ],
   "source": [
    "img = cv2.imread(str(unsel[5]), cv2.IMREAD_UNCHANGED)\n",
    "# img = cv2.rotate(img, cv2.ROTATE_90_COUNTERCLOCKWISE)\n",
    "img = cv2.rotate(img, cv2.ROTATE_90_CLOCKWISE)\n",
    "# img = cv2.rotate(img, cv2.ROTATE_180)\n",
    "# mirror image\n",
    "# img = cv2.flip(img, 1)\\\n",
    "cv2.imwrite(str(unsel[5]), img)"
   ]
  },
  {
   "cell_type": "code",
   "execution_count": 38,
   "metadata": {},
   "outputs": [
    {
     "data": {
      "text/plain": [
       "True"
      ]
     },
     "execution_count": 38,
     "metadata": {},
     "output_type": "execute_result"
    }
   ],
   "source": [
    "img = cv2.imread(str(unsel[6]), cv2.IMREAD_UNCHANGED)\n",
    "# img = cv2.rotate(img, cv2.ROTATE_90_COUNTERCL OCKWISE)\n",
    "# img = cv2.rotate(img, cv2.ROTATE_90_CLOCKWISE)\n",
    "img = cv2.rotate(img, cv2.ROTATE_180)\n",
    "# mirror image\n",
    "img = cv2.flip(img, 1)\n",
    "cv2.imwrite(str(unsel[6]), img)"
   ]
  },
  {
   "cell_type": "code",
   "execution_count": 39,
   "metadata": {},
   "outputs": [
    {
     "data": {
      "text/plain": [
       "True"
      ]
     },
     "execution_count": 39,
     "metadata": {},
     "output_type": "execute_result"
    }
   ],
   "source": [
    "img = cv2.imread(str(unsel[7]), cv2.IMREAD_UNCHANGED)\n",
    "# img = cv2.rotate(img, cv2.ROTATE_90_COUNTERCLOCKWISE)\n",
    "img = cv2.rotate(img, cv2.ROTATE_90_CLOCKWISE)\n",
    "# img = cv2.rotate(img, cv2.ROTATE_180)\n",
    "# mirror image\n",
    "# img = cv2.flip(img, 1)\n",
    "cv2.imwrite(str(unsel[7]), img)"
   ]
  },
  {
   "cell_type": "code",
   "execution_count": 40,
   "metadata": {},
   "outputs": [
    {
     "data": {
      "text/plain": [
       "True"
      ]
     },
     "execution_count": 40,
     "metadata": {},
     "output_type": "execute_result"
    }
   ],
   "source": [
    "img = cv2.imread(str(unsel[8]), cv2.IMREAD_UNCHANGED)\n",
    "# img = cv2.rotate(img, cv2.ROTATE_90_COUNTERCLOCKWISE)\n",
    "# img = cv2.rotate(img, cv2.ROTATE_90_CLOCKWISE)\n",
    "img = cv2.rotate(img, cv2.ROTATE_180)\n",
    "# mirror image\n",
    "img = cv2.flip(img, 1)\n",
    "cv2.imwrite(str(unsel[8]), img)"
   ]
  },
  {
   "cell_type": "code",
   "execution_count": 41,
   "metadata": {},
   "outputs": [
    {
     "data": {
      "text/plain": [
       "True"
      ]
     },
     "execution_count": 41,
     "metadata": {},
     "output_type": "execute_result"
    }
   ],
   "source": [
    "img = cv2.imread(str(unsel[9]), cv2.IMREAD_UNCHANGED)\n",
    "# img = cv2.rotate(img, cv2.ROTATE_90_COUNTERCLOCKWISE)\n",
    "img = cv2.rotate(img, cv2.ROTATE_90_CLOCKWISE)\n",
    "# img = cv2.rotate(img, cv2.ROTATE_180)\n",
    "# mirror image\n",
    "# img = cv2.flip(img, 1)\n",
    "cv2.imwrite(str(unsel[9]), img)"
   ]
  },
  {
   "cell_type": "code",
   "execution_count": 42,
   "metadata": {},
   "outputs": [
    {
     "data": {
      "text/plain": [
       "True"
      ]
     },
     "execution_count": 42,
     "metadata": {},
     "output_type": "execute_result"
    }
   ],
   "source": [
    "img = cv2.imread(str(unsel[10]), cv2.IMREAD_UNCHANGED)\n",
    "img = cv2.rotate(img, cv2.ROTATE_90_COUNTERCLOCKWISE)\n",
    "# img = cv2.rotate(img, cv2.ROTATE_90_CLOCKWISE)\n",
    "# img = cv2.rotate(img, cv2.ROTATE_180)\n",
    "# mirror image\n",
    "img = cv2.flip(img, 1)\n",
    "cv2.imwrite(str(unsel[10]), img)"
   ]
  },
  {
   "cell_type": "code",
   "execution_count": 43,
   "metadata": {},
   "outputs": [
    {
     "data": {
      "text/plain": [
       "True"
      ]
     },
     "execution_count": 43,
     "metadata": {},
     "output_type": "execute_result"
    }
   ],
   "source": [
    "img = cv2.imread(str(unsel[11]), cv2.IMREAD_UNCHANGED)\n",
    "# img = cv2.rotate(img, cv2.ROTATE_90_COUNTERCLOCKWISE)\n",
    "# img = cv2.rotate(img, cv2.ROTATE_90_CLOCKWISE)\n",
    "# img = cv2.rotate(img, cv2.ROTATE_180)\n",
    "# mirror image\n",
    "# img = cv2.flip(img, 1)\n",
    "cv2.imwrite(str(unsel[11]), img)"
   ]
  },
  {
   "cell_type": "code",
   "execution_count": 44,
   "metadata": {},
   "outputs": [
    {
     "data": {
      "text/plain": [
       "True"
      ]
     },
     "execution_count": 44,
     "metadata": {},
     "output_type": "execute_result"
    }
   ],
   "source": [
    "img = cv2.imread(str(unsel[12]), cv2.IMREAD_UNCHANGED)\n",
    "img = cv2.rotate(img, cv2.ROTATE_90_COUNTERCLOCKWISE)\n",
    "# img = cv2.rotate(img, cv2.ROTATE_90_CLOCKWISE)\n",
    "# img = cv2.rotate(img, cv2.ROTATE_180)\n",
    "# mirror image\n",
    "img = cv2.flip(img, 1)\n",
    "cv2.imwrite(str(unsel[12]), img)"
   ]
  },
  {
   "cell_type": "code",
   "execution_count": 45,
   "metadata": {},
   "outputs": [
    {
     "data": {
      "text/plain": [
       "True"
      ]
     },
     "execution_count": 45,
     "metadata": {},
     "output_type": "execute_result"
    }
   ],
   "source": [
    "img = cv2.imread(str(unsel[13]), cv2.IMREAD_UNCHANGED)\n",
    "# img = cv2.rotate(img, cv2.ROTATE_90_COUNTERCLOCKWISE)\n",
    "img = cv2.rotate(img, cv2.ROTATE_90_CLOCKWISE)\n",
    "# img = cv2.rotate(img, cv2.ROTATE_180)\n",
    "# mirror image\n",
    "# img = cv2.flip(img, 1)\n",
    "cv2.imwrite(str(unsel[13]), img)"
   ]
  },
  {
   "cell_type": "code",
   "execution_count": 46,
   "metadata": {},
   "outputs": [
    {
     "data": {
      "text/plain": [
       "True"
      ]
     },
     "execution_count": 46,
     "metadata": {},
     "output_type": "execute_result"
    }
   ],
   "source": [
    "img = cv2.imread(str(unsel[14]), cv2.IMREAD_UNCHANGED)\n",
    "# img = cv2.rotate(img, cv2.ROTATE_90_COUNTERCLOCKWISE)\n",
    "# img = cv2.rotate(img, cv2.ROTATE_90_CLOCKWISE)\n",
    "img = cv2.rotate(img, cv2.ROTATE_180)\n",
    "# mirror image\n",
    "img = cv2.flip(img, 1)\n",
    "cv2.imwrite(str(unsel[14]), img)"
   ]
  },
  {
   "cell_type": "code",
   "execution_count": 47,
   "metadata": {},
   "outputs": [
    {
     "data": {
      "text/plain": [
       "True"
      ]
     },
     "execution_count": 47,
     "metadata": {},
     "output_type": "execute_result"
    }
   ],
   "source": [
    "img = cv2.imread(str(unsel[15]), cv2.IMREAD_UNCHANGED)\n",
    "# img = cv2.rotate(img, cv2.ROTATE_90_COUNTERCLOCKWISE)\n",
    "# img = cv2.rotate(img, cv2.ROTATE_90_CLOCKWISE)\n",
    "img = cv2.rotate(img, cv2.ROTATE_180)\n",
    "# mirror image\n",
    "# img = cv2.flip(img, 1)\n",
    "cv2.imwrite(str(unsel[15]), img)"
   ]
  },
  {
   "cell_type": "code",
   "execution_count": 48,
   "metadata": {},
   "outputs": [
    {
     "data": {
      "text/plain": [
       "True"
      ]
     },
     "execution_count": 48,
     "metadata": {},
     "output_type": "execute_result"
    }
   ],
   "source": [
    "img = cv2.imread(str(unsel[16]), cv2.IMREAD_UNCHANGED)\n",
    "# img = cv2.rotate(img, cv2.ROTATE_90_COUNTERCLOCKWISE)\n",
    "# img = cv2.rotate(img, cv2.ROTATE_90_CLOCKWISE)\n",
    "img = cv2.rotate(img, cv2.ROTATE_180)\n",
    "# mirror image\n",
    "img = cv2.flip(img, 1)\n",
    "cv2.imwrite(str(unsel[16]), img)"
   ]
  },
  {
   "cell_type": "code",
   "execution_count": 49,
   "metadata": {},
   "outputs": [
    {
     "data": {
      "text/plain": [
       "True"
      ]
     },
     "execution_count": 49,
     "metadata": {},
     "output_type": "execute_result"
    }
   ],
   "source": [
    "img = cv2.imread(str(unsel[17]), cv2.IMREAD_UNCHANGED)\n",
    "# img = cv2.rotate(img, cv2.ROTATE_90_COUNTERCLOCKWISE)\n",
    "img = cv2.rotate(img, cv2.ROTATE_90_CLOCKWISE)\n",
    "# img = cv2.rotate(img, cv2.ROTATE_180)\n",
    "# mirror image\n",
    "# img = cv2.flip(img, 1)\n",
    "cv2.imwrite(str(unsel[17]), img)"
   ]
  },
  {
   "cell_type": "code",
   "execution_count": 50,
   "metadata": {},
   "outputs": [
    {
     "data": {
      "text/plain": [
       "True"
      ]
     },
     "execution_count": 50,
     "metadata": {},
     "output_type": "execute_result"
    }
   ],
   "source": [
    "img = cv2.imread(str(unsel[18]), cv2.IMREAD_UNCHANGED)\n",
    "# img = cv2.rotate(img, cv2.ROTATE_90_COUNTERCLOCKWISE)\n",
    "# img = cv2.rotate(img, cv2.ROTATE_90_CLOCKWISE)\n",
    "img = cv2.rotate(img, cv2.ROTATE_180)\n",
    "# mirror image\n",
    "# img = cv2.flip(img, 1)\n",
    "cv2.imwrite(str(unsel[18]), img)"
   ]
  },
  {
   "cell_type": "code",
   "execution_count": 51,
   "metadata": {},
   "outputs": [
    {
     "data": {
      "text/plain": [
       "True"
      ]
     },
     "execution_count": 51,
     "metadata": {},
     "output_type": "execute_result"
    }
   ],
   "source": [
    "img = cv2.imread(str(unsel[19]), cv2.IMREAD_UNCHANGED)\n",
    "# img = cv2.rotate(img, cv2.ROTATE_90_COUNTERCLOCKWISE)\n",
    "img = cv2.rotate(img, cv2.ROTATE_90_CLOCKWISE)\n",
    "# img = cv2.rotate(img, cv2.ROTATE_180)\n",
    "# mirror image\n",
    "# img = cv2.flip(img, 1)\n",
    "cv2.imwrite(str(unsel[19]), img)"
   ]
  },
  {
   "cell_type": "code",
   "execution_count": 52,
   "metadata": {},
   "outputs": [
    {
     "data": {
      "text/plain": [
       "True"
      ]
     },
     "execution_count": 52,
     "metadata": {},
     "output_type": "execute_result"
    }
   ],
   "source": [
    "img = cv2.imread(str(unsel[20]), cv2.IMREAD_UNCHANGED)\n",
    "# img = cv2.rotate(img, cv2.ROTATE_90_COUNTERCLOCKWISE)\n",
    "# img = cv2.rotate(img, cv2.ROTATE_90_CLOCKWISE)\n",
    "img = cv2.rotate(img, cv2.ROTATE_180)\n",
    "# mirror image\n",
    "# img = cv2.flip(img, 1)\n",
    "cv2.imwrite(str(unsel[20]), img)"
   ]
  },
  {
   "cell_type": "code",
   "execution_count": 53,
   "metadata": {},
   "outputs": [
    {
     "data": {
      "text/plain": [
       "True"
      ]
     },
     "execution_count": 53,
     "metadata": {},
     "output_type": "execute_result"
    }
   ],
   "source": [
    "img = cv2.imread(str(unsel[21]), cv2.IMREAD_UNCHANGED)\n",
    "# img = cv2.rotate(img, cv2.ROTATE_90_COUNTERCLOCKWISE)\n",
    "img = cv2.rotate(img, cv2.ROTATE_90_CLOCKWISE)\n",
    "# img = cv2.rotate(img, cv2.ROTATE_180)\n",
    "# mirror image\n",
    "# img = cv2.flip(img, 1)\n",
    "cv2.imwrite(str(unsel[21]), img)"
   ]
  },
  {
   "cell_type": "code",
   "execution_count": 54,
   "metadata": {},
   "outputs": [
    {
     "data": {
      "text/plain": [
       "True"
      ]
     },
     "execution_count": 54,
     "metadata": {},
     "output_type": "execute_result"
    }
   ],
   "source": [
    "img = cv2.imread(str(unsel[22]), cv2.IMREAD_UNCHANGED)\n",
    "# img = cv2.rotate(img, cv2.ROTATE_90_COUNTERCLOCKWISE)\n",
    "# img = cv2.rotate(img, cv2.ROTATE_90_CLOCKWISE)\n",
    "img = cv2.rotate(img, cv2.ROTATE_180)\n",
    "# mirror image\n",
    "img = cv2.flip(img, 1)\n",
    "cv2.imwrite(str(unsel[22]), img)"
   ]
  },
  {
   "cell_type": "code",
   "execution_count": 55,
   "metadata": {},
   "outputs": [
    {
     "data": {
      "text/plain": [
       "True"
      ]
     },
     "execution_count": 55,
     "metadata": {},
     "output_type": "execute_result"
    }
   ],
   "source": [
    "img = cv2.imread(str(unsel[23]), cv2.IMREAD_UNCHANGED)\n",
    "# img = cv2.rotate(img, cv2.ROTATE_90_COUNTERCLOCKWISE)\n",
    "# img = cv2.rotate(img, cv2.ROTATE_90_CLOCKWISE)\n",
    "# img = cv2.rotate(img, cv2.ROTATE_180)\n",
    "# mirror image\n",
    "# img = cv2.flip(img, 1)\n",
    "cv2.imwrite(str(unsel[23]), img)"
   ]
  },
  {
   "cell_type": "code",
   "execution_count": 56,
   "metadata": {},
   "outputs": [
    {
     "data": {
      "text/plain": [
       "True"
      ]
     },
     "execution_count": 56,
     "metadata": {},
     "output_type": "execute_result"
    }
   ],
   "source": [
    "img = cv2.imread(str(unsel[24]), cv2.IMREAD_UNCHANGED)\n",
    "# img = cv2.rotate(img, cv2.ROTATE_90_COUNTERCLOCKWISE)\n",
    "# img = cv2.rotate(img, cv2.ROTATE_90_CLOCKWISE)\n",
    "img = cv2.rotate(img, cv2.ROTATE_180)\n",
    "# mirror image\n",
    "img = cv2.flip(img, 1)\n",
    "cv2.imwrite(str(unsel[24]), img)"
   ]
  },
  {
   "cell_type": "code",
   "execution_count": 57,
   "metadata": {},
   "outputs": [
    {
     "data": {
      "text/plain": [
       "True"
      ]
     },
     "execution_count": 57,
     "metadata": {},
     "output_type": "execute_result"
    }
   ],
   "source": [
    "img = cv2.imread(str(unsel[25]), cv2.IMREAD_UNCHANGED)\n",
    "# img = cv2.rotate(img, cv2.ROTATE_90_COUNTERCLOCKWISE)\n",
    "# img = cv2.rotate(img, cv2.ROTATE_90_CLOCKWISE)\n",
    "# img = cv2.rotate(img, cv2.ROTATE_180)\n",
    "# mirror image\n",
    "# img = cv2.flip(img, 1)\n",
    "cv2.imwrite(str(unsel[25]), img)"
   ]
  },
  {
   "cell_type": "code",
   "execution_count": 58,
   "metadata": {},
   "outputs": [
    {
     "data": {
      "text/plain": [
       "True"
      ]
     },
     "execution_count": 58,
     "metadata": {},
     "output_type": "execute_result"
    }
   ],
   "source": [
    "img = cv2.imread(str(unsel[26]), cv2.IMREAD_UNCHANGED)\n",
    "# img = cv2.rotate(img, cv2.ROTATE_90_COUNTERCLOCKWISE)\n",
    "# img = cv2.rotate(img, cv2.ROTATE_90_CLOCKWISE)\n",
    "img = cv2.rotate(img, cv2.ROTATE_180)\n",
    "# mirror image\n",
    "img = cv2.flip(img, 1)\n",
    "cv2.imwrite(str(unsel[26]), img)"
   ]
  },
  {
   "cell_type": "markdown",
   "metadata": {},
   "source": [
    " ## High penetrance mutants rotate"
   ]
  },
  {
   "cell_type": "code",
   "execution_count": 59,
   "metadata": {},
   "outputs": [
    {
     "data": {
      "text/plain": [
       "True"
      ]
     },
     "execution_count": 59,
     "metadata": {},
     "output_type": "execute_result"
    }
   ],
   "source": [
    "img = cv2.imread(str(high[0]), cv2.IMREAD_UNCHANGED)\n",
    "# img = cv2.rotate(img, cv2.ROTATE_90_COUNTERCLOCKWISE)\n",
    "# img = cv2.rotate(img, cv2.ROTATE_90_CLOCKWISE)\n",
    "img = cv2.rotate(img, cv2.ROTATE_180)\n",
    "# mirror image\n",
    "img = cv2.flip(img, 1)\n",
    "cv2.imwrite(str(high[0]), img)"
   ]
  },
  {
   "cell_type": "code",
   "execution_count": 60,
   "metadata": {},
   "outputs": [
    {
     "data": {
      "text/plain": [
       "True"
      ]
     },
     "execution_count": 60,
     "metadata": {},
     "output_type": "execute_result"
    }
   ],
   "source": [
    "img = cv2.imread(str(high[1]), cv2.IMREAD_UNCHANGED)\n",
    "# img = cv2.rotate(img, cv2.ROTATE_90_COUNTERCLOCKWISE)\n",
    "# img = cv2.rotate(img, cv2.ROTATE_90_CLOCKWISE)\n",
    "img = cv2.rotate(img, cv2.ROTATE_180)\n",
    "# mirror image\n",
    "img = cv2.flip(img, 1)\n",
    "cv2.imwrite(str(high[1]), img)"
   ]
  },
  {
   "cell_type": "code",
   "execution_count": 61,
   "metadata": {},
   "outputs": [
    {
     "data": {
      "text/plain": [
       "True"
      ]
     },
     "execution_count": 61,
     "metadata": {},
     "output_type": "execute_result"
    }
   ],
   "source": [
    "img = cv2.imread(str(high[2]), cv2.IMREAD_UNCHANGED)\n",
    "# img = cv2.rotate(img, cv2.ROTATE_90_COUNTERCLOCKWISE)\n",
    "# img = cv2.rotate(img, cv2.ROTATE_90_CLOCKWISE)\n",
    "img = cv2.rotate(img, cv2.ROTATE_180)\n",
    "# mirror image\n",
    "img = cv2.flip(img, 1)\n",
    "cv2.imwrite(str(high[2]), img)"
   ]
  },
  {
   "cell_type": "code",
   "execution_count": 62,
   "metadata": {},
   "outputs": [
    {
     "data": {
      "text/plain": [
       "True"
      ]
     },
     "execution_count": 62,
     "metadata": {},
     "output_type": "execute_result"
    }
   ],
   "source": [
    "img = cv2.imread(str(high[3]), cv2.IMREAD_UNCHANGED)\n",
    "# img = cv2.rotate(img, cv2.ROTATE_90_COUNTERCLOCKWISE)\n",
    "# img = cv2.rotate(img, cv2.ROTATE_90_CLOCKWISE)\n",
    "img = cv2.rotate(img, cv2.ROTATE_180)\n",
    "# mirror image\n",
    "img = cv2.flip(img, 1)\n",
    "cv2.imwrite(str(high[3]), img)"
   ]
  },
  {
   "cell_type": "code",
   "execution_count": 63,
   "metadata": {},
   "outputs": [
    {
     "data": {
      "text/plain": [
       "True"
      ]
     },
     "execution_count": 63,
     "metadata": {},
     "output_type": "execute_result"
    }
   ],
   "source": [
    "img = cv2.imread(str(high[4]), cv2.IMREAD_UNCHANGED)\n",
    "# img = cv2.rotate(img, cv2.ROTATE_90_COUNTERCLOCKWISE)\n",
    "# img = cv2.rotate(img, cv2.ROTATE_90_CLOCKWISE)\n",
    "img = cv2.rotate(img, cv2.ROTATE_180)\n",
    "# mirror image\n",
    "img = cv2.flip(img, 1)\n",
    "cv2.imwrite(str(high[4]), img)"
   ]
  },
  {
   "cell_type": "code",
   "execution_count": 67,
   "metadata": {},
   "outputs": [
    {
     "data": {
      "text/plain": [
       "True"
      ]
     },
     "execution_count": 67,
     "metadata": {},
     "output_type": "execute_result"
    }
   ],
   "source": [
    "img = cv2.imread(str(high[5]), cv2.IMREAD_UNCHANGED)\n",
    "# img = cv2.rotate(img, cv2.ROTATE_90_COUNTERCLOCKWISE)\n",
    "# img = cv2.rotate(img, cv2.ROTATE_90_CLOCKWISE)\n",
    "img = cv2.rotate(img, cv2.ROTATE_180)\n",
    "# mirror image\n",
    "img = cv2.flip(img, 1)\n",
    "cv2.imwrite(str(high[5]), img)\n",
    "\n",
    "img = cv2.imread(str(high[6]), cv2.IMREAD_UNCHANGED)\n",
    "img = cv2.rotate(img, cv2.ROTATE_180)\n",
    "# mirror image\n",
    "img = cv2.flip(img, 1)\n",
    "cv2.imwrite(str(high[6]), img)\n",
    "\n",
    "img = cv2.imread(str(high[7]), cv2.IMREAD_UNCHANGED)\n",
    "img = cv2.rotate(img, cv2.ROTATE_180)\n",
    "# mirror image\n",
    "img = cv2.flip(img, 1)\n",
    "cv2.imwrite(str(high[7]), img)\n",
    "\n",
    "img = cv2.imread(str(high[8]), cv2.IMREAD_UNCHANGED)\n",
    "img = cv2.rotate(img, cv2.ROTATE_180)\n",
    "# mirror image\n",
    "img = cv2.flip(img, 1)\n",
    "cv2.imwrite(str(high[8]), img)\n",
    "\n",
    "img = cv2.imread(str(high[9]), cv2.IMREAD_UNCHANGED)\n",
    "img = cv2.rotate(img, cv2.ROTATE_180)\n",
    "# mirror image\n",
    "img = cv2.flip(img, 1)\n",
    "cv2.imwrite(str(high[9]), img)\n",
    "\n",
    "img = cv2.imread(str(high[10]), cv2.IMREAD_UNCHANGED)\n",
    "\n",
    "img = cv2.rotate(img, cv2.ROTATE_180)\n",
    "# mirror image\n",
    "img = cv2.flip(img, 1)\n",
    "cv2.imwrite(str(high[10]), img)\n",
    "\n",
    "img = cv2.imread(str(high[11]), cv2.IMREAD_UNCHANGED)\n",
    "img = cv2.rotate(img, cv2.ROTATE_180)\n",
    "# mirror image\n",
    "img = cv2.flip(img, 1)\n",
    "cv2.imwrite(str(high[11]), img)\n",
    "\n",
    "img = cv2.imread(str(high[12]), cv2.IMREAD_UNCHANGED)\n",
    "img = cv2.rotate(img, cv2.ROTATE_180)\n",
    "# mirror image\n",
    "img = cv2.flip(img, 1)\n",
    "cv2.imwrite(str(high[12]), img)\n",
    "\n",
    "img = cv2.imread(str(high[13]), cv2.IMREAD_UNCHANGED)\n",
    "img = cv2.rotate(img, cv2.ROTATE_180)\n",
    "# mirror image\n",
    "img = cv2.flip(img, 1)\n",
    "cv2.imwrite(str(high[13]), img)\n",
    "\n",
    "img = cv2.imread(str(high[14]), cv2.IMREAD_UNCHANGED)\n",
    "img = cv2.rotate(img, cv2.ROTATE_180)\n",
    "# mirror image\n",
    "img = cv2.flip(img, 1)\n",
    "cv2.imwrite(str(high[14]), img)\n",
    "\n",
    "img = cv2.imread(str(high[15]), cv2.IMREAD_UNCHANGED)\n",
    "img = cv2.rotate(img, cv2.ROTATE_180)\n",
    "# mirror image\n",
    "img = cv2.flip(img, 1)\n",
    "cv2.imwrite(str(high[15]), img)\n",
    "\n",
    "img = cv2.imread(str(high[16]), cv2.IMREAD_UNCHANGED)\n",
    "img = cv2.rotate(img, cv2.ROTATE_180)\n",
    "# mirror image\n",
    "img = cv2.flip(img, 1)\n",
    "cv2.imwrite(str(high[16]), img)\n",
    "\n",
    "img = cv2.imread(str(high[17]), cv2.IMREAD_UNCHANGED)\n",
    "img = cv2.rotate(img, cv2.ROTATE_180)\n",
    "# mirror image\n",
    "img = cv2.flip(img, 1)\n",
    "cv2.imwrite(str(high[17]), img)\n",
    "\n",
    "img = cv2.imread(str(high[18]), cv2.IMREAD_UNCHANGED)\n",
    "img = cv2.rotate(img, cv2.ROTATE_180)\n",
    "# mirror image\n",
    "img = cv2.flip(img, 1)\n",
    "cv2.imwrite(str(high[18]), img)\n",
    "\n",
    "img = cv2.imread(str(high[19]), cv2.IMREAD_UNCHANGED)\n",
    "img = cv2.rotate(img, cv2.ROTATE_180)\n",
    "# mirror image\n",
    "img = cv2.flip(img, 1)\n",
    "cv2.imwrite(str(high[19]), img)\n",
    "\n",
    "img = cv2.imread(str(high[20]), cv2.IMREAD_UNCHANGED)\n",
    "img = cv2.rotate(img, cv2.ROTATE_180)\n",
    "# mirror image\n",
    "img = cv2.flip(img, 1)\n",
    "cv2.imwrite(str(high[20]), img)\n",
    "\n",
    "img = cv2.imread(str(high[21]), cv2.IMREAD_UNCHANGED)\n",
    "img = cv2.rotate(img, cv2.ROTATE_180)\n",
    "# mirror image\n",
    "img = cv2.flip(img, 1)\n",
    "\n",
    "\n",
    "cv2.imwrite(str(high[21]), img)\n",
    "img = cv2.imread(str(high[22]), cv2.IMREAD_UNCHANGED)\n",
    "img = cv2.rotate(img, cv2.ROTATE_180)\n",
    "# mirror image\n",
    "img = cv2.flip(img, 1)\n",
    "cv2.imwrite(str(high[22]), img)\n",
    "\n",
    "img = cv2.imread(str(high[23]), cv2.IMREAD_UNCHANGED)\n",
    "img = cv2.rotate(img, cv2.ROTATE_180)\n",
    "# mirror image\n",
    "img = cv2.flip(img, 1)\n",
    "cv2.imwrite(str(high[23]), img)\n",
    "\n",
    "img = cv2.imread(str(high[24]), cv2.IMREAD_UNCHANGED)\n",
    "img = cv2.rotate(img, cv2.ROTATE_180)\n",
    "# mirror image\n",
    "img = cv2.flip(img, 1)\n",
    "cv2.imwrite(str(high[24]), img)\n",
    "\n",
    "img = cv2.imread(str(high[25]), cv2.IMREAD_UNCHANGED)\n",
    "img = cv2.rotate(img, cv2.ROTATE_180)\n",
    "# mirror image\n",
    "img = cv2.flip(img, 1)\n",
    "cv2.imwrite(str(high[25]), img)\n",
    "\n",
    "img = cv2.imread(str(high[26]), cv2.IMREAD_UNCHANGED)\n",
    "img = cv2.rotate(img, cv2.ROTATE_180)\n",
    "# mirror image\n",
    "img = cv2.flip(img, 1)\n",
    "cv2.imwrite(str(high[26]), img)\n",
    "\n",
    "img = cv2.imread(str(high[27]), cv2.IMREAD_UNCHANGED)\n",
    "img = cv2.rotate(img, cv2.ROTATE_180)\n",
    "# mirror image\n",
    "img = cv2.flip(img, 1)\n",
    "cv2.imwrite(str(high[27]), img)"
   ]
  }
 ],
 "metadata": {
  "kernelspec": {
   "display_name": "Interstellar",
   "language": "python",
   "name": "python3"
  },
  "language_info": {
   "codemirror_mode": {
    "name": "ipython",
    "version": 3
   },
   "file_extension": ".py",
   "mimetype": "text/x-python",
   "name": "python",
   "nbconvert_exporter": "python",
   "pygments_lexer": "ipython3",
   "version": "3.10.12"
  }
 },
 "nbformat": 4,
 "nbformat_minor": 2
}
