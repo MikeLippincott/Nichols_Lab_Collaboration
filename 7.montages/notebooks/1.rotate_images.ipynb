{
 "cells": [
  {
   "cell_type": "code",
   "execution_count": 1,
   "metadata": {},
   "outputs": [],
   "source": [
    "import pathlib\n",
    "\n",
    "import cv2"
   ]
  },
  {
   "cell_type": "code",
   "execution_count": null,
   "metadata": {},
   "outputs": [],
   "source": [
    "# set paths\n",
    "input_path = pathlib.Path(\"../../data/7.montage_images/individual_images/\")\n",
    "output_path = pathlib.Path(\"../../data/7.montage_images/individual_images/\")\n",
    "output_path.mkdir(exist_ok=True, parents=True)"
   ]
  },
  {
   "cell_type": "code",
   "execution_count": null,
   "metadata": {},
   "outputs": [],
   "source": [
    "files = list(input_path.glob(\"*.png\"))\n",
    "for image in files:\n",
    "    img = cv2.imread(str(image), cv2.IMREAD_UNCHANGED)\n",
    "    # define dimensions of the image\n",
    "    x = img.shape[0]\n",
    "    y = img.shape[1]\n",
    "    # print(x, y, image)\n",
    "    if y > x:\n",
    "\n",
    "        # resize the image\n",
    "        img_rotated = cv2.rotate(img, cv2.ROTATE_90_COUNTERCLOCKWISE)\n",
    "        # save the image and overwrite the original image\n",
    "        cv2.imwrite(str(image), img_rotated)\n",
    "\n",
    "    else:\n",
    "        pass"
   ]
  }
 ],
 "metadata": {
  "kernelspec": {
   "display_name": "Interstellar",
   "language": "python",
   "name": "python3"
  },
  "language_info": {
   "codemirror_mode": {
    "name": "ipython",
    "version": 3
   },
   "file_extension": ".py",
   "mimetype": "text/x-python",
   "name": "python",
   "nbconvert_exporter": "python",
   "pygments_lexer": "ipython3",
   "version": "3.10.12"
  }
 },
 "nbformat": 4,
 "nbformat_minor": 2
}
