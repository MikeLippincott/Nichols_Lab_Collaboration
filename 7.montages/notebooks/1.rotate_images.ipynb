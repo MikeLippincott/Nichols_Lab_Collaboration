{
 "cells": [
  {
   "cell_type": "code",
   "execution_count": 43,
   "metadata": {},
   "outputs": [],
   "source": [
    "import pathlib\n",
    "\n",
    "import cv2"
   ]
  },
  {
   "cell_type": "code",
   "execution_count": 44,
   "metadata": {},
   "outputs": [],
   "source": [
    "# set paths\n",
    "input_path = pathlib.Path(\"../../data/7.montage_images/individual_images/\")\n",
    "output_path = pathlib.Path(\"../../data/7.montage_images/individual_images/\")\n",
    "output_path.mkdir(exist_ok=True, parents=True)"
   ]
  },
  {
   "cell_type": "code",
   "execution_count": 45,
   "metadata": {},
   "outputs": [],
   "source": [
    "files = list(input_path.glob(\"*.png\"))\n",
    "# for image in files:\n",
    "#     img = cv2.imread(str(image), cv2.IMREAD_UNCHANGED)\n",
    "#     # define dimensions of the image\n",
    "#     x = img.shape[0]\n",
    "#     y = img.shape[1]\n",
    "#     # print(x, y, image)\n",
    "#     if y > x:\n",
    "\n",
    "#         # resize the image\n",
    "#         img_rotated = cv2.rotate(img, cv2.ROTATE_90_COUNTERCLOCKWISE)\n",
    "#         # save the image and overwrite the original image\n",
    "#         cv2.imwrite(str(image), img_rotated)\n",
    "\n",
    "#     else:\n",
    "#         pass"
   ]
  },
  {
   "cell_type": "markdown",
   "metadata": {},
   "source": [
    "images need to be manually rotated or mirrored so that each are in the correct orientation."
   ]
  },
  {
   "cell_type": "code",
   "execution_count": 46,
   "metadata": {},
   "outputs": [
    {
     "data": {
      "text/plain": [
       "[PosixPath('../../data/7.montage_images/individual_images/MAX_wt_10_L.png'),\n",
       " PosixPath('../../data/7.montage_images/individual_images/MAX_wt_10_R.png'),\n",
       " PosixPath('../../data/7.montage_images/individual_images/MAX_wt_11_L.png'),\n",
       " PosixPath('../../data/7.montage_images/individual_images/MAX_wt_11_R.png'),\n",
       " PosixPath('../../data/7.montage_images/individual_images/MAX_wt_12_L.png'),\n",
       " PosixPath('../../data/7.montage_images/individual_images/MAX_wt_12_R.png'),\n",
       " PosixPath('../../data/7.montage_images/individual_images/MAX_wt_13_L.png'),\n",
       " PosixPath('../../data/7.montage_images/individual_images/MAX_wt_13_R.png'),\n",
       " PosixPath('../../data/7.montage_images/individual_images/MAX_wt_14_L.png'),\n",
       " PosixPath('../../data/7.montage_images/individual_images/MAX_wt_14_R.png'),\n",
       " PosixPath('../../data/7.montage_images/individual_images/MAX_wt_1_L.png'),\n",
       " PosixPath('../../data/7.montage_images/individual_images/MAX_wt_1_R.png'),\n",
       " PosixPath('../../data/7.montage_images/individual_images/MAX_wt_2_L.png'),\n",
       " PosixPath('../../data/7.montage_images/individual_images/MAX_wt_2_R.png'),\n",
       " PosixPath('../../data/7.montage_images/individual_images/MAX_wt_3_L.png'),\n",
       " PosixPath('../../data/7.montage_images/individual_images/MAX_wt_3_R.png'),\n",
       " PosixPath('../../data/7.montage_images/individual_images/MAX_wt_4_L.png'),\n",
       " PosixPath('../../data/7.montage_images/individual_images/MAX_wt_4_R.png'),\n",
       " PosixPath('../../data/7.montage_images/individual_images/MAX_wt_5_L.png'),\n",
       " PosixPath('../../data/7.montage_images/individual_images/MAX_wt_5_R.png'),\n",
       " PosixPath('../../data/7.montage_images/individual_images/MAX_wt_6_L.png'),\n",
       " PosixPath('../../data/7.montage_images/individual_images/MAX_wt_6_R.png'),\n",
       " PosixPath('../../data/7.montage_images/individual_images/MAX_wt_7_L.png'),\n",
       " PosixPath('../../data/7.montage_images/individual_images/MAX_wt_7_R.png'),\n",
       " PosixPath('../../data/7.montage_images/individual_images/MAX_wt_8_L.png'),\n",
       " PosixPath('../../data/7.montage_images/individual_images/MAX_wt_8_R.png'),\n",
       " PosixPath('../../data/7.montage_images/individual_images/MAX_wt_9_L.png'),\n",
       " PosixPath('../../data/7.montage_images/individual_images/MAX_wt_9_R.png')]"
      ]
     },
     "execution_count": 46,
     "metadata": {},
     "output_type": "execute_result"
    }
   ],
   "source": [
    "# break the files into 3 lists\n",
    "# wt unsel and high\n",
    "wt = [file for file in files if \"wt\" in file.stem]\n",
    "unsel = [file for file in files if \"unsel\" in file.stem]\n",
    "high = [file for file in files if \"high\" in file.stem]\n",
    "# sort the lists\n",
    "wt.sort()\n",
    "unsel.sort()\n",
    "high.sort()"
   ]
  },
  {
   "cell_type": "markdown",
   "metadata": {},
   "source": [
    "## WT rotate"
   ]
  },
  {
   "cell_type": "code",
   "execution_count": 47,
   "metadata": {},
   "outputs": [
    {
     "data": {
      "text/plain": [
       "True"
      ]
     },
     "execution_count": 47,
     "metadata": {},
     "output_type": "execute_result"
    }
   ],
   "source": [
    "img = cv2.imread(str(wt[1]), cv2.IMREAD_UNCHANGED)\n",
    "img = cv2.rotate(img, cv2.ROTATE_90_COUNTERCLOCKWISE)\n",
    "# img = cv2.rotate(img, cv2.ROTATE_90_CLOCKWISE)\n",
    "# img = cv2.rotate(img, cv2.ROTATE_180)\n",
    "# mirror image\n",
    "img = cv2.flip(img, 1)\n",
    "cv2.imwrite(str(wt[1]), img)"
   ]
  },
  {
   "cell_type": "code",
   "execution_count": 54,
   "metadata": {},
   "outputs": [],
   "source": [
    "img = cv2.imread(str(wt[2]), cv2.IMREAD_UNCHANGED)\n",
    "# img = cv2.rotate(img, cv2.ROTATE_90_COUNTERCLOCKWISE)\n",
    "# img = cv2.rotate(img, cv2.ROTATE_90_CLOCKWISE)\n",
    "# img = cv2.rotate(img, cv2.ROTATE_180)\n",
    "# mirror image\n",
    "# img = cv2.flip(img, 1)\n",
    "cv2.imwrite(str(wt[2]), img)"
   ]
  },
  {
   "cell_type": "code",
   "execution_count": 53,
   "metadata": {},
   "outputs": [],
   "source": [
    "img = cv2.imread(str(wt[3]), cv2.IMREAD_UNCHANGED)\n",
    "img = cv2.rotate(img, cv2.ROTATE_90_COUNTERCLOCKWISE)\n",
    "# img = cv2.rotate(img, cv2.ROTATE_90_CLOCKWISE)\n",
    "# img = cv2.rotate(img, cv2.ROTATE_180)\n",
    "# mirror image\n",
    "img = cv2.flip(img, 1)\n",
    "cv2.imwrite(str(wt[3]), img)"
   ]
  },
  {
   "cell_type": "code",
   "execution_count": 52,
   "metadata": {},
   "outputs": [],
   "source": [
    "img = cv2.imread(str(wt[4]), cv2.IMREAD_UNCHANGED)\n",
    "# img = cv2.rotate(img, cv2.ROTATE_90_COUNTERCLOCKWISE)\n",
    "# img = cv2.rotate(img, cv2.ROTATE_90_CLOCKWISE)\n",
    "# img = cv2.rotate(img, cv2.ROTATE_180)\n",
    "# mirror image\n",
    "# img = cv2.flip(img, 1)\n",
    "cv2.imwrite(str(wt[4]), img)"
   ]
  },
  {
   "cell_type": "code",
   "execution_count": 51,
   "metadata": {},
   "outputs": [],
   "source": [
    "img = cv2.imread(str(wt[5]), cv2.IMREAD_UNCHANGED)\n",
    "img = cv2.rotate(img, cv2.ROTATE_90_COUNTERCLOCKWISE)\n",
    "# img = cv2.rotate(img, cv2.ROTATE_90_CLOCKWISE)\n",
    "# img = cv2.rotate(img, cv2.ROTATE_180)\n",
    "# mirror image\n",
    "img = cv2.flip(img, 1)\n",
    "cv2.imwrite(str(wt[5]), img)"
   ]
  },
  {
   "cell_type": "code",
   "execution_count": 42,
   "metadata": {},
   "outputs": [],
   "source": [
    "img = cv2.imread(str(wt[6]), cv2.IMREAD_UNCHANGED)\n",
    "# img = cv2.rotate(img, cv2.ROTATE_90_COUNTERCLOCKWISE)\n",
    "# img = cv2.rotate(img, cv2.ROTATE_90_CLOCKWISE)\n",
    "# img = cv2.rotate(img, cv2.ROTATE_180)\n",
    "# mirror image\n",
    "# img = cv2.flip(img, 1)\n",
    "cv2.imwrite(str(wt[6]), img)"
   ]
  },
  {
   "cell_type": "code",
   "execution_count": 11,
   "metadata": {},
   "outputs": [
    {
     "data": {
      "text/plain": [
       "True"
      ]
     },
     "execution_count": 11,
     "metadata": {},
     "output_type": "execute_result"
    }
   ],
   "source": [
    "img = cv2.imread(str(wt[7]), cv2.IMREAD_UNCHANGED)\n",
    "img = cv2.rotate(img, cv2.ROTATE_90_COUNTERCLOCKWISE)\n",
    "# img = cv2.rotate(img, cv2.ROTATE_90_CLOCKWISE)\n",
    "# img = cv2.rotate(img, cv2.ROTATE_180)\n",
    "# mirror image\n",
    "img = cv2.flip(img, 1)\n",
    "cv2.imwrite(str(wt[7]), img)"
   ]
  },
  {
   "cell_type": "code",
   "execution_count": 12,
   "metadata": {},
   "outputs": [
    {
     "data": {
      "text/plain": [
       "True"
      ]
     },
     "execution_count": 12,
     "metadata": {},
     "output_type": "execute_result"
    }
   ],
   "source": [
    "img = cv2.imread(str(wt[8]), cv2.IMREAD_UNCHANGED)\n",
    "# img = cv2.rotate(img, cv2.ROTATE_90_COUNTERCLOCKWISE)\n",
    "# img = cv2.rotate(img, cv2.ROTATE_90_CLOCKWISE)\n",
    "# img = cv2.rotate(img, cv2.ROTATE_180)\n",
    "# mirror image\n",
    "# img = cv2.flip(img, 1)\n",
    "cv2.imwrite(str(wt[8]), img)"
   ]
  },
  {
   "cell_type": "code",
   "execution_count": 13,
   "metadata": {},
   "outputs": [
    {
     "data": {
      "text/plain": [
       "True"
      ]
     },
     "execution_count": 13,
     "metadata": {},
     "output_type": "execute_result"
    }
   ],
   "source": [
    "img = cv2.imread(str(wt[9]), cv2.IMREAD_UNCHANGED)\n",
    "img = cv2.rotate(img, cv2.ROTATE_90_COUNTERCLOCKWISE)\n",
    "# img = cv2.rotate(img, cv2.ROTATE_90_CLOCKWISE)\n",
    "# img = cv2.rotate(img, cv2.ROTATE_180)\n",
    "# mirror image\n",
    "img = cv2.flip(img, 1)\n",
    "cv2.imwrite(str(wt[9]), img)"
   ]
  },
  {
   "cell_type": "code",
   "execution_count": 14,
   "metadata": {},
   "outputs": [
    {
     "data": {
      "text/plain": [
       "True"
      ]
     },
     "execution_count": 14,
     "metadata": {},
     "output_type": "execute_result"
    }
   ],
   "source": [
    "img = cv2.imread(str(wt[10]), cv2.IMREAD_UNCHANGED)\n",
    "# img = cv2.rotate(img, cv2.ROTATE_90_COUNTERCLOCKWISE)\n",
    "img = cv2.rotate(img, cv2.ROTATE_90_CLOCKWISE)\n",
    "# img = cv2.rotate(img, cv2.ROTATE_180)\n",
    "# mirror image\n",
    "# img = cv2.flip(img, 1)\n",
    "cv2.imwrite(str(wt[10]), img)"
   ]
  },
  {
   "cell_type": "code",
   "execution_count": 15,
   "metadata": {},
   "outputs": [
    {
     "data": {
      "text/plain": [
       "True"
      ]
     },
     "execution_count": 15,
     "metadata": {},
     "output_type": "execute_result"
    }
   ],
   "source": [
    "img = cv2.imread(str(wt[11]), cv2.IMREAD_UNCHANGED)\n",
    "img = cv2.rotate(img, cv2.ROTATE_90_COUNTERCLOCKWISE)\n",
    "# img = cv2.rotate(img, cv2.ROTATE_90_CLOCKWISE)\n",
    "# img = cv2.rotate(img, cv2.ROTATE_180)\n",
    "# mirror image\n",
    "img = cv2.flip(img, 1)\n",
    "cv2.imwrite(str(wt[11]), img)"
   ]
  },
  {
   "cell_type": "code",
   "execution_count": 16,
   "metadata": {},
   "outputs": [
    {
     "data": {
      "text/plain": [
       "True"
      ]
     },
     "execution_count": 16,
     "metadata": {},
     "output_type": "execute_result"
    }
   ],
   "source": [
    "img = cv2.imread(str(wt[12]), cv2.IMREAD_UNCHANGED)\n",
    "# img = cv2.rotate(img, cv2.ROTATE_90_COUNTERCLOCKWISE)\n",
    "img = cv2.rotate(img, cv2.ROTATE_90_CLOCKWISE)\n",
    "# img = cv2.rotate(img, cv2.ROTATE_180)\n",
    "# mirror image\n",
    "# img = cv2.flip(img, 1)\n",
    "cv2.imwrite(str(wt[12]), img)"
   ]
  },
  {
   "cell_type": "code",
   "execution_count": 17,
   "metadata": {},
   "outputs": [
    {
     "data": {
      "text/plain": [
       "True"
      ]
     },
     "execution_count": 17,
     "metadata": {},
     "output_type": "execute_result"
    }
   ],
   "source": [
    "img = cv2.imread(str(wt[13]), cv2.IMREAD_UNCHANGED)\n",
    "img = cv2.rotate(img, cv2.ROTATE_90_COUNTERCLOCKWISE)\n",
    "# img = cv2.rotate(img, cv2.ROTATE_90_CLOCKWISE)\n",
    "# img = cv2.rotate(img, cv2.ROTATE_180)\n",
    "# mirror image\n",
    "img = cv2.flip(img, 1)\n",
    "cv2.imwrite(str(wt[13]), img)"
   ]
  },
  {
   "cell_type": "code",
   "execution_count": 18,
   "metadata": {},
   "outputs": [
    {
     "data": {
      "text/plain": [
       "True"
      ]
     },
     "execution_count": 18,
     "metadata": {},
     "output_type": "execute_result"
    }
   ],
   "source": [
    "img = cv2.imread(str(wt[14]), cv2.IMREAD_UNCHANGED)\n",
    "# img = cv2.rotate(img, cv2.ROTATE_90_COUNTERCLOCKWISE)\n",
    "# img = cv2.rotate(img, cv2.ROTATE_90_CLOCKWISE)\n",
    "# img = cv2.rotate(img, cv2.ROTATE_180)\n",
    "# mirror image\n",
    "# img = cv2.flip(img, 1)\n",
    "cv2.imwrite(str(wt[14]), img)"
   ]
  },
  {
   "cell_type": "code",
   "execution_count": 19,
   "metadata": {},
   "outputs": [
    {
     "data": {
      "text/plain": [
       "True"
      ]
     },
     "execution_count": 19,
     "metadata": {},
     "output_type": "execute_result"
    }
   ],
   "source": [
    "img = cv2.imread(str(wt[15]), cv2.IMREAD_UNCHANGED)\n",
    "img = cv2.rotate(img, cv2.ROTATE_90_COUNTERCLOCKWISE)\n",
    "# img = cv2.rotate(img, cv2.ROTATE_90_CLOCKWISE)\n",
    "# img = cv2.rotate(img, cv2.ROTATE_180)\n",
    "# mirror image\n",
    "img = cv2.flip(img, 1)\n",
    "cv2.imwrite(str(wt[15]), img)"
   ]
  },
  {
   "cell_type": "code",
   "execution_count": 20,
   "metadata": {},
   "outputs": [
    {
     "data": {
      "text/plain": [
       "True"
      ]
     },
     "execution_count": 20,
     "metadata": {},
     "output_type": "execute_result"
    }
   ],
   "source": [
    "img = cv2.imread(str(wt[16]), cv2.IMREAD_UNCHANGED)\n",
    "# img = cv2.rotate(img, cv2.ROTATE_90_COUNTERCLOCKWISE)\n",
    "img = cv2.rotate(img, cv2.ROTATE_90_CLOCKWISE)\n",
    "# img = cv2.rotate(img, cv2.ROTATE_180)\n",
    "# mirror image\n",
    "# img = cv2.flip(img, 1)\n",
    "cv2.imwrite(str(wt[16]), img)"
   ]
  },
  {
   "cell_type": "code",
   "execution_count": 21,
   "metadata": {},
   "outputs": [
    {
     "data": {
      "text/plain": [
       "True"
      ]
     },
     "execution_count": 21,
     "metadata": {},
     "output_type": "execute_result"
    }
   ],
   "source": [
    "img = cv2.imread(str(wt[17]), cv2.IMREAD_UNCHANGED)\n",
    "img = cv2.rotate(img, cv2.ROTATE_90_COUNTERCLOCKWISE)\n",
    "# img = cv2.rotate(img, cv2.ROTATE_90_CLOCKWISE)\n",
    "# img = cv2.rotate(img, cv2.ROTATE_180)\n",
    "# mirror image\n",
    "img = cv2.flip(img, 1)\n",
    "cv2.imwrite(str(wt[17]), img)"
   ]
  },
  {
   "cell_type": "code",
   "execution_count": 22,
   "metadata": {},
   "outputs": [
    {
     "data": {
      "text/plain": [
       "True"
      ]
     },
     "execution_count": 22,
     "metadata": {},
     "output_type": "execute_result"
    }
   ],
   "source": [
    "img = cv2.imread(str(wt[18]), cv2.IMREAD_UNCHANGED)\n",
    "# img = cv2.rotate(img, cv2.ROTATE_90_COUNTERCLOCKWISE)\n",
    "# img = cv2.rotate(img, cv2.ROTATE_90_CLOCKWISE)\n",
    "# img = cv2.rotate(img, cv2.ROTATE_180)\n",
    "# mirror image\n",
    "# img = cv2.flip(img, 1)\n",
    "cv2.imwrite(str(wt[18]), img)"
   ]
  },
  {
   "cell_type": "code",
   "execution_count": 23,
   "metadata": {},
   "outputs": [
    {
     "data": {
      "text/plain": [
       "True"
      ]
     },
     "execution_count": 23,
     "metadata": {},
     "output_type": "execute_result"
    }
   ],
   "source": [
    "img = cv2.imread(str(wt[19]), cv2.IMREAD_UNCHANGED)\n",
    "img = cv2.rotate(img, cv2.ROTATE_90_COUNTERCLOCKWISE)\n",
    "# img = cv2.rotate(img, cv2.ROTATE_90_CLOCKWISE)\n",
    "# img = cv2.rotate(img, cv2.ROTATE_180)\n",
    "# mirror image\n",
    "img = cv2.flip(img, 1)\n",
    "cv2.imwrite(str(wt[19]), img)"
   ]
  },
  {
   "cell_type": "code",
   "execution_count": 24,
   "metadata": {},
   "outputs": [
    {
     "data": {
      "text/plain": [
       "True"
      ]
     },
     "execution_count": 24,
     "metadata": {},
     "output_type": "execute_result"
    }
   ],
   "source": [
    "img = cv2.imread(str(wt[20]), cv2.IMREAD_UNCHANGED)\n",
    "# img = cv2.rotate(img, cv2.ROTATE_90_COUNTERCLOCKWISE)\n",
    "img = cv2.rotate(img, cv2.ROTATE_90_CLOCKWISE)\n",
    "# img = cv2.rotate(img, cv2.ROTATE_180)\n",
    "# mirror image\n",
    "# img = cv2.flip(img, 1)\n",
    "cv2.imwrite(str(wt[20]), img)"
   ]
  },
  {
   "cell_type": "code",
   "execution_count": 25,
   "metadata": {},
   "outputs": [
    {
     "data": {
      "text/plain": [
       "True"
      ]
     },
     "execution_count": 25,
     "metadata": {},
     "output_type": "execute_result"
    }
   ],
   "source": [
    "img = cv2.imread(str(wt[21]), cv2.IMREAD_UNCHANGED)\n",
    "img = cv2.rotate(img, cv2.ROTATE_90_COUNTERCLOCKWISE)\n",
    "# img = cv2.rotate(img, cv2.ROTATE_90_CLOCKWISE)\n",
    "# img = cv2.rotate(img, cv2.ROTATE_180)\n",
    "# mirror image\n",
    "img = cv2.flip(img, 1)\n",
    "cv2.imwrite(str(wt[21]), img)"
   ]
  },
  {
   "cell_type": "code",
   "execution_count": 26,
   "metadata": {},
   "outputs": [
    {
     "data": {
      "text/plain": [
       "True"
      ]
     },
     "execution_count": 26,
     "metadata": {},
     "output_type": "execute_result"
    }
   ],
   "source": [
    "img = cv2.imread(str(wt[22]), cv2.IMREAD_UNCHANGED)\n",
    "# img = cv2.rotate(img, cv2.ROTATE_90_COUNTERCLOCKWISE)\n",
    "# img = cv2.rotate(img, cv2.ROTATE_90_CLOCKWISE)\n",
    "# img = cv2.rotate(img, cv2.ROTATE_180)\n",
    "# mirror image\n",
    "# img = cv2.flip(img, 1)\n",
    "cv2.imwrite(str(wt[22]), img)"
   ]
  },
  {
   "cell_type": "code",
   "execution_count": 27,
   "metadata": {},
   "outputs": [
    {
     "data": {
      "text/plain": [
       "True"
      ]
     },
     "execution_count": 27,
     "metadata": {},
     "output_type": "execute_result"
    }
   ],
   "source": [
    "img = cv2.imread(str(wt[23]), cv2.IMREAD_UNCHANGED)\n",
    "img = cv2.rotate(img, cv2.ROTATE_90_COUNTERCLOCKWISE)\n",
    "# img = cv2.rotate(img, cv2.ROTATE_90_CLOCKWISE)\n",
    "# img = cv2.rotate(img, cv2.ROTATE_180)\n",
    "# mirror image\n",
    "img = cv2.flip(img, 1)\n",
    "cv2.imwrite(str(wt[23]), img)"
   ]
  },
  {
   "cell_type": "code",
   "execution_count": 28,
   "metadata": {},
   "outputs": [
    {
     "data": {
      "text/plain": [
       "True"
      ]
     },
     "execution_count": 28,
     "metadata": {},
     "output_type": "execute_result"
    }
   ],
   "source": [
    "img = cv2.imread(str(wt[24]), cv2.IMREAD_UNCHANGED)\n",
    "# img = cv2.rotate(img, cv2.ROTATE_90_COUNTERCLOCKWISE)\n",
    "# img = cv2.rotate(img, cv2.ROTATE_90_CLOCKWISE)\n",
    "# img = cv2.rotate(img, cv2.ROTATE_180)\n",
    "# mirror image\n",
    "# img = cv2.flip(img, 1)\n",
    "cv2.imwrite(str(wt[24]), img)"
   ]
  },
  {
   "cell_type": "code",
   "execution_count": 29,
   "metadata": {},
   "outputs": [
    {
     "data": {
      "text/plain": [
       "True"
      ]
     },
     "execution_count": 29,
     "metadata": {},
     "output_type": "execute_result"
    }
   ],
   "source": [
    "img = cv2.imread(str(wt[25]), cv2.IMREAD_UNCHANGED)\n",
    "img = cv2.rotate(img, cv2.ROTATE_90_COUNTERCLOCKWISE)\n",
    "# img = cv2.rotate(img, cv2.ROTATE_90_CLOCKWISE)\n",
    "# img = cv2.rotate(img, cv2.ROTATE_180)\n",
    "# mirror image\n",
    "img = cv2.flip(img, 1)\n",
    "cv2.imwrite(str(wt[25]), img)"
   ]
  },
  {
   "cell_type": "code",
   "execution_count": 30,
   "metadata": {},
   "outputs": [
    {
     "data": {
      "text/plain": [
       "True"
      ]
     },
     "execution_count": 30,
     "metadata": {},
     "output_type": "execute_result"
    }
   ],
   "source": [
    "img = cv2.imread(str(wt[26]), cv2.IMREAD_UNCHANGED)\n",
    "# img = cv2.rotate(img, cv2.ROTATE_90_COUNTERCLOCKWISE)\n",
    "img = cv2.rotate(img, cv2.ROTATE_90_CLOCKWISE)\n",
    "# img = cv2.rotate(img, cv2.ROTATE_180)\n",
    "# mirror image\n",
    "# img = cv2.flip(img, 1)\n",
    "cv2.imwrite(str(wt[26]), img)"
   ]
  },
  {
   "cell_type": "code",
   "execution_count": 31,
   "metadata": {},
   "outputs": [
    {
     "data": {
      "text/plain": [
       "True"
      ]
     },
     "execution_count": 31,
     "metadata": {},
     "output_type": "execute_result"
    }
   ],
   "source": [
    "img = cv2.imread(str(wt[27]), cv2.IMREAD_UNCHANGED)\n",
    "img = cv2.rotate(img, cv2.ROTATE_90_COUNTERCLOCKWISE)\n",
    "# img = cv2.rotate(img, cv2.ROTATE_90_CLOCKWISE)\n",
    "# img = cv2.rotate(img, cv2.ROTATE_180)\n",
    "# mirror image\n",
    "img = cv2.flip(img, 1)\n",
    "cv2.imwrite(str(wt[27]), img)"
   ]
  },
  {
   "cell_type": "markdown",
   "metadata": {},
   "source": [
    "## Unselected mutants rotate"
   ]
  },
  {
   "cell_type": "code",
   "execution_count": null,
   "metadata": {},
   "outputs": [],
   "source": [
    "img = cv2.imread(str(unsel[1]), cv2.IMREAD_UNCHANGED)\n",
    "img = cv2.rotate(img, cv2.ROTATE_90_COUNTERCLOCKWISE)\n",
    "# img = cv2.rotate(img, cv2.ROTATE_90_CLOCKWISE)\n",
    "# img = cv2.rotate(img, cv2.ROTATE_180)\n",
    "# mirror image\n",
    "img = cv2.flip(img, 1)\n",
    "cv2.imwrite(str(unsel[1]), img)"
   ]
  },
  {
   "cell_type": "code",
   "execution_count": null,
   "metadata": {},
   "outputs": [],
   "source": [
    "img = cv2.imread(str(unsel[2]), cv2.IMREAD_UNCHANGED)\n",
    "img = cv2.rotate(img, cv2.ROTATE_90_COUNTERCLOCKWISE)\n",
    "# img = cv2.rotate(img, cv2.ROTATE_90_CLOCKWISE)\n",
    "# img = cv2.rotate(img, cv2.ROTATE_180)\n",
    "# mirror image\n",
    "img = cv2.flip(img, 1)\n",
    "cv2.imwrite(str(unsel[2]), img)"
   ]
  },
  {
   "cell_type": "code",
   "execution_count": null,
   "metadata": {},
   "outputs": [],
   "source": [
    "img = cv2.imread(str(unsel[3]), cv2.IMREAD_UNCHANGED)\n",
    "# img = cv2.rotate(img, cv2.ROTATE_90_COUNTERCLOCKWISE)\n",
    "img = cv2.rotate(img, cv2.ROTATE_90_CLOCKWISE)\n",
    "# img = cv2.rotate(img, cv2.ROTATE_180)\n",
    "# mirror image\n",
    "# img = cv2.flip(img, 1)\n",
    "cv2.imwrite(str(unsel[3]), img)"
   ]
  },
  {
   "cell_type": "code",
   "execution_count": null,
   "metadata": {},
   "outputs": [],
   "source": [
    "img = cv2.imread(str(unsel[4]), cv2.IMREAD_UNCHANGED)\n",
    "img = cv2.rotate(img, cv2.ROTATE_90_COUNTERCLOCKWISE)\n",
    "# img = cv2.rotate(img, cv2.ROTATE_90_CLOCKWISE)\n",
    "# img = cv2.rotate(img, cv2.ROTATE_180)\n",
    "# mirror image\n",
    "img = cv2.flip(img, 1)\n",
    "cv2.imwrite(str(unsel[4]), img)"
   ]
  },
  {
   "cell_type": "code",
   "execution_count": null,
   "metadata": {},
   "outputs": [],
   "source": [
    "img = cv2.imread(str(unsel[5]), cv2.IMREAD_UNCHANGED)\n",
    "# img = cv2.rotate(img, cv2.ROTATE_90_COUNTERCLOCKWISE)\n",
    "# img = cv2.rotate(img, cv2.ROTATE_90_CLOCKWISE)\n",
    "# img = cv2.rotate(img, cv2.ROTATE_180)\n",
    "# mirror image\n",
    "# img = cv2.flip(img, 1)\\\n",
    "cv2.imwrite(str(unsel[5]), img)"
   ]
  },
  {
   "cell_type": "code",
   "execution_count": null,
   "metadata": {},
   "outputs": [],
   "source": [
    "img = cv2.imread(str(unsel[6]), cv2.IMREAD_UNCHANGED)\n",
    "img = cv2.rotate(img, cv2.ROTATE_90_COUNTERCLOCKWISE)\n",
    "# img = cv2.rotate(img, cv2.ROTATE_90_CLOCKWISE)\n",
    "# img = cv2.rotate(img, cv2.ROTATE_180)\n",
    "# mirror image\n",
    "img = cv2.flip(img, 1)\n",
    "cv2.imwrite(str(unsel[6]), img)"
   ]
  },
  {
   "cell_type": "code",
   "execution_count": null,
   "metadata": {},
   "outputs": [],
   "source": [
    "img = cv2.imread(str(unsel[7]), cv2.IMREAD_UNCHANGED)\n",
    "# img = cv2.rotate(img, cv2.ROTATE_90_COUNTERCLOCKWISE)\n",
    "img = cv2.rotate(img, cv2.ROTATE_90_CLOCKWISE)\n",
    "# img = cv2.rotate(img, cv2.ROTATE_180)\n",
    "# mirror image\n",
    "# img = cv2.flip(img, 1)\n",
    "cv2.imwrite(str(unsel[7]), img)"
   ]
  },
  {
   "cell_type": "code",
   "execution_count": null,
   "metadata": {},
   "outputs": [],
   "source": [
    "img = cv2.imread(str(unsel[8]), cv2.IMREAD_UNCHANGED)\n",
    "# img = cv2.rotate(img, cv2.ROTATE_90_COUNTERCLOCKWISE)\n",
    "# img = cv2.rotate(img, cv2.ROTATE_90_CLOCKWISE)\n",
    "img = cv2.rotate(img, cv2.ROTATE_180)\n",
    "# mirror image\n",
    "img = cv2.flip(img, 1)\n",
    "cv2.imwrite(str(unsel[8]), img)"
   ]
  },
  {
   "cell_type": "code",
   "execution_count": null,
   "metadata": {},
   "outputs": [],
   "source": [
    "img = cv2.imread(str(unsel[9]), cv2.IMREAD_UNCHANGED)\n",
    "# img = cv2.rotate(img, cv2.ROTATE_90_COUNTERCLOCKWISE)\n",
    "img = cv2.rotate(img, cv2.ROTATE_90_CLOCKWISE)\n",
    "# img = cv2.rotate(img, cv2.ROTATE_180)\n",
    "# mirror image\n",
    "# img = cv2.flip(img, 1)\n",
    "cv2.imwrite(str(unsel[9]), img)"
   ]
  },
  {
   "cell_type": "code",
   "execution_count": null,
   "metadata": {},
   "outputs": [],
   "source": [
    "img = cv2.imread(str(unsel[10]), cv2.IMREAD_UNCHANGED)\n",
    "img = cv2.rotate(img, cv2.ROTATE_90_COUNTERCLOCKWISE)\n",
    "# img = cv2.rotate(img, cv2.ROTATE_90_CLOCKWISE)\n",
    "# img = cv2.rotate(img, cv2.ROTATE_180)\n",
    "# mirror image\n",
    "img = cv2.flip(img, 1)\n",
    "cv2.imwrite(str(unsel[10]), img)"
   ]
  },
  {
   "cell_type": "code",
   "execution_count": null,
   "metadata": {},
   "outputs": [],
   "source": [
    "img = cv2.imread(str(unsel[11]), cv2.IMREAD_UNCHANGED)\n",
    "# img = cv2.rotate(img, cv2.ROTATE_90_COUNTERCLOCKWISE)\n",
    "# img = cv2.rotate(img, cv2.ROTATE_90_CLOCKWISE)\n",
    "# img = cv2.rotate(img, cv2.ROTATE_180)\n",
    "# mirror image\n",
    "# img = cv2.flip(img, 1)\n",
    "cv2.imwrite(str(unsel[11]), img)"
   ]
  },
  {
   "cell_type": "code",
   "execution_count": null,
   "metadata": {},
   "outputs": [],
   "source": [
    "img = cv2.imread(str(unsel[12]), cv2.IMREAD_UNCHANGED)\n",
    "img = cv2.rotate(img, cv2.ROTATE_90_COUNTERCLOCKWISE)\n",
    "# img = cv2.rotate(img, cv2.ROTATE_90_CLOCKWISE)\n",
    "# img = cv2.rotate(img, cv2.ROTATE_180)\n",
    "# mirror image\n",
    "img = cv2.flip(img, 1)\n",
    "cv2.imwrite(str(unsel[12]), img)"
   ]
  },
  {
   "cell_type": "code",
   "execution_count": null,
   "metadata": {},
   "outputs": [],
   "source": [
    "img = cv2.imread(str(unsel[13]), cv2.IMREAD_UNCHANGED)\n",
    "# img = cv2.rotate(img, cv2.ROTATE_90_COUNTERCLOCKWISE)\n",
    "img = cv2.rotate(img, cv2.ROTATE_90_CLOCKWISE)\n",
    "# img = cv2.rotate(img, cv2.ROTATE_180)\n",
    "# mirror image\n",
    "# img = cv2.flip(img, 1)\n",
    "cv2.imwrite(str(unsel[13]), img)"
   ]
  },
  {
   "cell_type": "code",
   "execution_count": null,
   "metadata": {},
   "outputs": [],
   "source": [
    "img = cv2.imread(str(unsel[14]), cv2.IMREAD_UNCHANGED)\n",
    "# img = cv2.rotate(img, cv2.ROTATE_90_COUNTERCLOCKWISE)\n",
    "# img = cv2.rotate(img, cv2.ROTATE_90_CLOCKWISE)\n",
    "img = cv2.rotate(img, cv2.ROTATE_180)\n",
    "# mirror image\n",
    "img = cv2.flip(img, 1)\n",
    "cv2.imwrite(str(unsel[14]), img)"
   ]
  },
  {
   "cell_type": "code",
   "execution_count": null,
   "metadata": {},
   "outputs": [],
   "source": [
    "img = cv2.imread(str(unsel[15]), cv2.IMREAD_UNCHANGED)\n",
    "# img = cv2.rotate(img, cv2.ROTATE_90_COUNTERCLOCKWISE)\n",
    "# img = cv2.rotate(img, cv2.ROTATE_90_CLOCKWISE)\n",
    "img = cv2.rotate(img, cv2.ROTATE_180)\n",
    "# mirror image\n",
    "# img = cv2.flip(img, 1)\n",
    "cv2.imwrite(str(unsel[15]), img)"
   ]
  },
  {
   "cell_type": "code",
   "execution_count": null,
   "metadata": {},
   "outputs": [],
   "source": [
    "img = cv2.imread(str(unsel[16]), cv2.IMREAD_UNCHANGED)\n",
    "# img = cv2.rotate(img, cv2.ROTATE_90_COUNTERCLOCKWISE)\n",
    "# img = cv2.rotate(img, cv2.ROTATE_90_CLOCKWISE)\n",
    "img = cv2.rotate(img, cv2.ROTATE_180)\n",
    "# mirror image\n",
    "img = cv2.flip(img, 1)\n",
    "cv2.imwrite(str(unsel[16]), img)"
   ]
  },
  {
   "cell_type": "code",
   "execution_count": null,
   "metadata": {},
   "outputs": [],
   "source": [
    "img = cv2.imread(str(unsel[17]), cv2.IMREAD_UNCHANGED)\n",
    "# img = cv2.rotate(img, cv2.ROTATE_90_COUNTERCLOCKWISE)\n",
    "img = cv2.rotate(img, cv2.ROTATE_90_CLOCKWISE)\n",
    "# img = cv2.rotate(img, cv2.ROTATE_180)\n",
    "# mirror image\n",
    "# img = cv2.flip(img, 1)\n",
    "cv2.imwrite(str(unsel[17]), img)"
   ]
  },
  {
   "cell_type": "code",
   "execution_count": null,
   "metadata": {},
   "outputs": [],
   "source": [
    "img = cv2.imread(str(unsel[18]), cv2.IMREAD_UNCHANGED)\n",
    "# img = cv2.rotate(img, cv2.ROTATE_90_COUNTERCLOCKWISE)\n",
    "# img = cv2.rotate(img, cv2.ROTATE_90_CLOCKWISE)\n",
    "img = cv2.rotate(img, cv2.ROTATE_180)\n",
    "# mirror image\n",
    "# img = cv2.flip(img, 1)\n",
    "cv2.imwrite(str(unsel[18]), img)"
   ]
  },
  {
   "cell_type": "code",
   "execution_count": null,
   "metadata": {},
   "outputs": [],
   "source": [
    "img = cv2.imread(str(unsel[19]), cv2.IMREAD_UNCHANGED)\n",
    "# img = cv2.rotate(img, cv2.ROTATE_90_COUNTERCLOCKWISE)\n",
    "# img = cv2.rotate(img, cv2.ROTATE_90_CLOCKWISE)\n",
    "# img = cv2.rotate(img, cv2.ROTATE_180)\n",
    "# mirror image\n",
    "img = cv2.flip(img, 1)\n",
    "cv2.imwrite(str(unsel[19]), img)"
   ]
  },
  {
   "cell_type": "code",
   "execution_count": null,
   "metadata": {},
   "outputs": [],
   "source": [
    "img = cv2.imread(str(unsel[20]), cv2.IMREAD_UNCHANGED)\n",
    "# img = cv2.rotate(img, cv2.ROTATE_90_COUNTERCLOCKWISE)\n",
    "# img = cv2.rotate(img, cv2.ROTATE_90_CLOCKWISE)\n",
    "# img = cv2.rotate(img, cv2.ROTATE_180)\n",
    "# mirror image\n",
    "img = cv2.flip(img, 1)\n",
    "cv2.imwrite(str(unsel[20]), img)"
   ]
  },
  {
   "cell_type": "code",
   "execution_count": null,
   "metadata": {},
   "outputs": [],
   "source": [
    "img = cv2.imread(str(unsel[21]), cv2.IMREAD_UNCHANGED)\n",
    "# img = cv2.rotate(img, cv2.ROTATE_90_COUNTERCLOCKWISE)\n",
    "img = cv2.rotate(img, cv2.ROTATE_90_CLOCKWISE)\n",
    "# img = cv2.rotate(img, cv2.ROTATE_180)\n",
    "# mirror image\n",
    "# img = cv2.flip(img, 1)\n",
    "cv2.imwrite(str(unsel[21]), img)"
   ]
  },
  {
   "cell_type": "code",
   "execution_count": null,
   "metadata": {},
   "outputs": [],
   "source": [
    "img = cv2.imread(str(unsel[22]), cv2.IMREAD_UNCHANGED)\n",
    "# img = cv2.rotate(img, cv2.ROTATE_90_COUNTERCLOCKWISE)\n",
    "# img = cv2.rotate(img, cv2.ROTATE_90_CLOCKWISE)\n",
    "img = cv2.rotate(img, cv2.ROTATE_180)\n",
    "# mirror image\n",
    "img = cv2.flip(img, 1)\n",
    "cv2.imwrite(str(unsel[22]), img)"
   ]
  },
  {
   "cell_type": "code",
   "execution_count": null,
   "metadata": {},
   "outputs": [],
   "source": [
    "img = cv2.imread(str(unsel[23]), cv2.IMREAD_UNCHANGED)\n",
    "# img = cv2.rotate(img, cv2.ROTATE_90_COUNTERCLOCKWISE)\n",
    "# img = cv2.rotate(img, cv2.ROTATE_90_CLOCKWISE)\n",
    "# img = cv2.rotate(img, cv2.ROTATE_180)\n",
    "# mirror image\n",
    "# img = cv2.flip(img, 1)\n",
    "cv2.imwrite(str(unsel[23]), img)"
   ]
  },
  {
   "cell_type": "code",
   "execution_count": null,
   "metadata": {},
   "outputs": [],
   "source": [
    "img = cv2.imread(str(unsel[24]), cv2.IMREAD_UNCHANGED)\n",
    "# img = cv2.rotate(img, cv2.ROTATE_90_COUNTERCLOCKWISE)\n",
    "# img = cv2.rotate(img, cv2.ROTATE_90_CLOCKWISE)\n",
    "img = cv2.rotate(img, cv2.ROTATE_180)\n",
    "# mirror image\n",
    "img = cv2.flip(img, 1)\n",
    "cv2.imwrite(str(unsel[24]), img)"
   ]
  },
  {
   "cell_type": "code",
   "execution_count": null,
   "metadata": {},
   "outputs": [],
   "source": [
    "img = cv2.imread(str(unsel[25]), cv2.IMREAD_UNCHANGED)\n",
    "# img = cv2.rotate(img, cv2.ROTATE_90_COUNTERCLOCKWISE)\n",
    "# img = cv2.rotate(img, cv2.ROTATE_90_CLOCKWISE)\n",
    "# img = cv2.rotate(img, cv2.ROTATE_180)\n",
    "# mirror image\n",
    "# img = cv2.flip(img, 1)\n",
    "cv2.imwrite(str(unsel[25]), img)"
   ]
  },
  {
   "cell_type": "code",
   "execution_count": null,
   "metadata": {},
   "outputs": [],
   "source": [
    "img = cv2.imread(str(unsel[26]), cv2.IMREAD_UNCHANGED)\n",
    "# img = cv2.rotate(img, cv2.ROTATE_90_COUNTERCLOCKWISE)\n",
    "# img = cv2.rotate(img, cv2.ROTATE_90_CLOCKWISE)\n",
    "img = cv2.rotate(img, cv2.ROTATE_180)\n",
    "# mirror image\n",
    "img = cv2.flip(img, 1)\n",
    "cv2.imwrite(str(unsel[26]), img)"
   ]
  },
  {
   "cell_type": "markdown",
   "metadata": {},
   "source": [
    "High mutants need to be rotated not in python as the collaborators know better which orientation is correct."
   ]
  }
 ],
 "metadata": {
  "kernelspec": {
   "display_name": "Interstellar",
   "language": "python",
   "name": "python3"
  },
  "language_info": {
   "codemirror_mode": {
    "name": "ipython",
    "version": 3
   },
   "file_extension": ".py",
   "mimetype": "text/x-python",
   "name": "python",
   "nbconvert_exporter": "python",
   "pygments_lexer": "ipython3",
   "version": "3.10.12"
  }
 },
 "nbformat": 4,
 "nbformat_minor": 2
}
