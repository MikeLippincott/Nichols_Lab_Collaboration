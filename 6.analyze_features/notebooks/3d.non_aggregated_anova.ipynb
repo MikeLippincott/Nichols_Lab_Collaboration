{
 "cells": [
  {
   "cell_type": "code",
   "execution_count": 1,
   "id": "3db4d1cd",
   "metadata": {
    "execution": {
     "iopub.execute_input": "2024-05-10T15:49:42.054690Z",
     "iopub.status.busy": "2024-05-10T15:49:42.054485Z",
     "iopub.status.idle": "2024-05-10T15:49:42.669763Z",
     "shell.execute_reply": "2024-05-10T15:49:42.669423Z"
    },
    "papermill": {
     "duration": 0.620695,
     "end_time": "2024-05-10T15:49:42.670994",
     "exception": false,
     "start_time": "2024-05-10T15:49:42.050299",
     "status": "completed"
    },
    "tags": []
   },
   "outputs": [],
   "source": [
    "import pathlib\n",
    "\n",
    "import matplotlib.pyplot as plt\n",
    "import numpy as np\n",
    "import pandas as pd\n",
    "import seaborn as sns\n",
    "import statsmodels.api as sm\n",
    "import tqdm\n",
    "from scipy.stats import levene\n",
    "\n",
    "# import anova and tukeyhsd\n",
    "from statsmodels.formula.api import ols\n",
    "from statsmodels.stats.multicomp import pairwise_tukeyhsd"
   ]
  },
  {
   "cell_type": "code",
   "execution_count": 2,
   "id": "d112a2b6",
   "metadata": {
    "execution": {
     "iopub.execute_input": "2024-05-10T15:49:42.677914Z",
     "iopub.status.busy": "2024-05-10T15:49:42.677695Z",
     "iopub.status.idle": "2024-05-10T15:49:42.681695Z",
     "shell.execute_reply": "2024-05-10T15:49:42.681403Z"
    },
    "papermill": {
     "duration": 0.00855,
     "end_time": "2024-05-10T15:49:42.682780",
     "exception": false,
     "start_time": "2024-05-10T15:49:42.674230",
     "status": "completed"
    },
    "tags": []
   },
   "outputs": [],
   "source": [
    "def anova_function(features_df: pd.DataFrame, Metdata_column: str) -> pd.DataFrame:\n",
    "    \"\"\"\n",
    "    This function will take in a dataframe and a metadata column and return the results of an anova and tukeyhsd test for each feature.\n",
    "\n",
    "\n",
    "    Parameters\n",
    "    ----------\n",
    "    features_df : pd.DataFrame\n",
    "        The dataframe containing the features with only one metadata column\n",
    "    Metdata_column : str\n",
    "        The name of the metadata column to be used for the anova test\n",
    "\n",
    "    Returns\n",
    "    -------\n",
    "    pd.DataFrame\n",
    "        A dataframe containing the results of the anova and tukeyhsd test for each feature\n",
    "    \"\"\"\n",
    "\n",
    "    # anova and tukeyhsd for each feature\n",
    "    # create a pandas data frame to store the results\n",
    "    anova_results = pd.DataFrame()\n",
    "\n",
    "    # loop through each feature\n",
    "    for feature in tqdm.tqdm(features_df.columns[:-1]):\n",
    "        # create a model\n",
    "        model = ols(f\"{feature} ~ C({Metdata_column})\", data=features_df).fit()\n",
    "        # create an anova table\n",
    "        anova_table = sm.stats.anova_lm(model, typ=2)\n",
    "        # create a tukeyhsd table\n",
    "        tukeyhsd = pairwise_tukeyhsd(features_df[feature], features_df[Metdata_column])\n",
    "        # get the f-statistic based p-value\n",
    "        anova_p_value = anova_table[\"PR(>F)\"][0]\n",
    "        tmp = pd.DataFrame(\n",
    "            tukeyhsd._results_table.data, columns=tukeyhsd._results_table.data[0]\n",
    "        ).drop(0)\n",
    "        tmp.reset_index(inplace=True, drop=True)\n",
    "        # drop the first row\n",
    "        tmp[\"feature\"] = feature\n",
    "        tmp[\"anova_p_value\"] = anova_p_value\n",
    "        tmp = pd.DataFrame(tmp)\n",
    "\n",
    "        anova_results = pd.concat([anova_results, tmp], axis=0).reset_index(drop=True)\n",
    "    return anova_results"
   ]
  },
  {
   "cell_type": "code",
   "execution_count": 3,
   "id": "575d598b",
   "metadata": {
    "execution": {
     "iopub.execute_input": "2024-05-10T15:49:42.689236Z",
     "iopub.status.busy": "2024-05-10T15:49:42.688852Z",
     "iopub.status.idle": "2024-05-10T15:49:42.719344Z",
     "shell.execute_reply": "2024-05-10T15:49:42.719038Z"
    },
    "papermill": {
     "duration": 0.03425,
     "end_time": "2024-05-10T15:49:42.719996",
     "exception": false,
     "start_time": "2024-05-10T15:49:42.685746",
     "status": "completed"
    },
    "tags": []
   },
   "outputs": [
    {
     "data": {
      "text/html": [
       "<div>\n",
       "<style scoped>\n",
       "    .dataframe tbody tr th:only-of-type {\n",
       "        vertical-align: middle;\n",
       "    }\n",
       "\n",
       "    .dataframe tbody tr th {\n",
       "        vertical-align: top;\n",
       "    }\n",
       "\n",
       "    .dataframe thead th {\n",
       "        text-align: right;\n",
       "    }\n",
       "</style>\n",
       "<table border=\"1\" class=\"dataframe\">\n",
       "  <thead>\n",
       "    <tr style=\"text-align: right;\">\n",
       "      <th></th>\n",
       "      <th>Metadata_Image_FileName_OP</th>\n",
       "      <th>Metadata_ObjectNumber</th>\n",
       "      <th>Metadata_Object_ConvertImageToObjects_Number_Object_Number</th>\n",
       "      <th>Metadata_Object_ConvertImageToObjects_AreaShape_BoundingBoxArea</th>\n",
       "      <th>Metadata_Object_ConvertImageToObjects_AreaShape_BoundingBoxMaximum_X</th>\n",
       "      <th>Metadata_Object_ConvertImageToObjects_AreaShape_BoundingBoxMaximum_Y</th>\n",
       "      <th>Metadata_Object_ConvertImageToObjects_AreaShape_BoundingBoxMinimum_X</th>\n",
       "      <th>Metadata_Object_ConvertImageToObjects_AreaShape_BoundingBoxMinimum_Y</th>\n",
       "      <th>Metadata_Object_ConvertImageToObjects_Location_CenterMassIntensity_X_OP</th>\n",
       "      <th>Metadata_Object_ConvertImageToObjects_Location_CenterMassIntensity_Y_OP</th>\n",
       "      <th>...</th>\n",
       "      <th>Texture_SumEntropy_OP_3_02_256</th>\n",
       "      <th>Texture_SumEntropy_OP_3_03_256</th>\n",
       "      <th>Texture_SumVariance_OP_3_00_256</th>\n",
       "      <th>Texture_SumVariance_OP_3_01_256</th>\n",
       "      <th>Texture_SumVariance_OP_3_02_256</th>\n",
       "      <th>Texture_SumVariance_OP_3_03_256</th>\n",
       "      <th>Texture_Variance_OP_3_00_256</th>\n",
       "      <th>Texture_Variance_OP_3_01_256</th>\n",
       "      <th>Texture_Variance_OP_3_02_256</th>\n",
       "      <th>Texture_Variance_OP_3_03_256</th>\n",
       "    </tr>\n",
       "  </thead>\n",
       "  <tbody>\n",
       "    <tr>\n",
       "      <th>0</th>\n",
       "      <td>MAX_high_10_L.tiff</td>\n",
       "      <td>1</td>\n",
       "      <td>1</td>\n",
       "      <td>38250.0</td>\n",
       "      <td>269.0</td>\n",
       "      <td>182.0</td>\n",
       "      <td>44.0</td>\n",
       "      <td>12.0</td>\n",
       "      <td>131.546149</td>\n",
       "      <td>118.641091</td>\n",
       "      <td>...</td>\n",
       "      <td>0.841475</td>\n",
       "      <td>0.834574</td>\n",
       "      <td>1.149186</td>\n",
       "      <td>1.152200</td>\n",
       "      <td>1.078905</td>\n",
       "      <td>1.144848</td>\n",
       "      <td>1.040009</td>\n",
       "      <td>1.025740</td>\n",
       "      <td>1.045492</td>\n",
       "      <td>1.027617</td>\n",
       "    </tr>\n",
       "    <tr>\n",
       "      <th>1</th>\n",
       "      <td>MAX_high_10_R.tiff</td>\n",
       "      <td>1</td>\n",
       "      <td>1</td>\n",
       "      <td>34170.0</td>\n",
       "      <td>208.0</td>\n",
       "      <td>245.0</td>\n",
       "      <td>38.0</td>\n",
       "      <td>44.0</td>\n",
       "      <td>106.962058</td>\n",
       "      <td>162.304190</td>\n",
       "      <td>...</td>\n",
       "      <td>0.452480</td>\n",
       "      <td>0.436138</td>\n",
       "      <td>0.112178</td>\n",
       "      <td>0.131982</td>\n",
       "      <td>0.108602</td>\n",
       "      <td>0.125700</td>\n",
       "      <td>0.075717</td>\n",
       "      <td>0.071207</td>\n",
       "      <td>0.076477</td>\n",
       "      <td>0.067922</td>\n",
       "    </tr>\n",
       "    <tr>\n",
       "      <th>2</th>\n",
       "      <td>MAX_high_11_L.tiff</td>\n",
       "      <td>1</td>\n",
       "      <td>1</td>\n",
       "      <td>41736.0</td>\n",
       "      <td>250.0</td>\n",
       "      <td>267.0</td>\n",
       "      <td>62.0</td>\n",
       "      <td>45.0</td>\n",
       "      <td>131.359827</td>\n",
       "      <td>159.444463</td>\n",
       "      <td>...</td>\n",
       "      <td>0.494813</td>\n",
       "      <td>0.490844</td>\n",
       "      <td>-0.016140</td>\n",
       "      <td>0.001041</td>\n",
       "      <td>-0.021997</td>\n",
       "      <td>-0.020992</td>\n",
       "      <td>-0.033934</td>\n",
       "      <td>-0.042635</td>\n",
       "      <td>-0.034983</td>\n",
       "      <td>-0.038763</td>\n",
       "    </tr>\n",
       "    <tr>\n",
       "      <th>3</th>\n",
       "      <td>MAX_high_11_R.tiff</td>\n",
       "      <td>1</td>\n",
       "      <td>1</td>\n",
       "      <td>43616.0</td>\n",
       "      <td>212.0</td>\n",
       "      <td>272.0</td>\n",
       "      <td>24.0</td>\n",
       "      <td>40.0</td>\n",
       "      <td>101.069901</td>\n",
       "      <td>185.486430</td>\n",
       "      <td>...</td>\n",
       "      <td>0.878729</td>\n",
       "      <td>0.865617</td>\n",
       "      <td>1.120905</td>\n",
       "      <td>1.140604</td>\n",
       "      <td>1.074529</td>\n",
       "      <td>1.117941</td>\n",
       "      <td>1.031585</td>\n",
       "      <td>1.015172</td>\n",
       "      <td>1.035150</td>\n",
       "      <td>1.019188</td>\n",
       "    </tr>\n",
       "    <tr>\n",
       "      <th>4</th>\n",
       "      <td>MAX_high_12_L.tiff</td>\n",
       "      <td>2</td>\n",
       "      <td>2</td>\n",
       "      <td>25894.0</td>\n",
       "      <td>283.0</td>\n",
       "      <td>155.0</td>\n",
       "      <td>69.0</td>\n",
       "      <td>34.0</td>\n",
       "      <td>164.579054</td>\n",
       "      <td>105.266522</td>\n",
       "      <td>...</td>\n",
       "      <td>0.476768</td>\n",
       "      <td>0.482674</td>\n",
       "      <td>0.177886</td>\n",
       "      <td>0.147933</td>\n",
       "      <td>0.103313</td>\n",
       "      <td>0.156457</td>\n",
       "      <td>0.111765</td>\n",
       "      <td>0.107846</td>\n",
       "      <td>0.117614</td>\n",
       "      <td>0.108859</td>\n",
       "    </tr>\n",
       "  </tbody>\n",
       "</table>\n",
       "<p>5 rows × 268 columns</p>\n",
       "</div>"
      ],
      "text/plain": [
       "  Metadata_Image_FileName_OP  Metadata_ObjectNumber  \\\n",
       "0         MAX_high_10_L.tiff                      1   \n",
       "1         MAX_high_10_R.tiff                      1   \n",
       "2         MAX_high_11_L.tiff                      1   \n",
       "3         MAX_high_11_R.tiff                      1   \n",
       "4         MAX_high_12_L.tiff                      2   \n",
       "\n",
       "   Metadata_Object_ConvertImageToObjects_Number_Object_Number  \\\n",
       "0                                                  1            \n",
       "1                                                  1            \n",
       "2                                                  1            \n",
       "3                                                  1            \n",
       "4                                                  2            \n",
       "\n",
       "   Metadata_Object_ConvertImageToObjects_AreaShape_BoundingBoxArea  \\\n",
       "0                                            38250.0                 \n",
       "1                                            34170.0                 \n",
       "2                                            41736.0                 \n",
       "3                                            43616.0                 \n",
       "4                                            25894.0                 \n",
       "\n",
       "   Metadata_Object_ConvertImageToObjects_AreaShape_BoundingBoxMaximum_X  \\\n",
       "0                                              269.0                      \n",
       "1                                              208.0                      \n",
       "2                                              250.0                      \n",
       "3                                              212.0                      \n",
       "4                                              283.0                      \n",
       "\n",
       "   Metadata_Object_ConvertImageToObjects_AreaShape_BoundingBoxMaximum_Y  \\\n",
       "0                                              182.0                      \n",
       "1                                              245.0                      \n",
       "2                                              267.0                      \n",
       "3                                              272.0                      \n",
       "4                                              155.0                      \n",
       "\n",
       "   Metadata_Object_ConvertImageToObjects_AreaShape_BoundingBoxMinimum_X  \\\n",
       "0                                               44.0                      \n",
       "1                                               38.0                      \n",
       "2                                               62.0                      \n",
       "3                                               24.0                      \n",
       "4                                               69.0                      \n",
       "\n",
       "   Metadata_Object_ConvertImageToObjects_AreaShape_BoundingBoxMinimum_Y  \\\n",
       "0                                               12.0                      \n",
       "1                                               44.0                      \n",
       "2                                               45.0                      \n",
       "3                                               40.0                      \n",
       "4                                               34.0                      \n",
       "\n",
       "   Metadata_Object_ConvertImageToObjects_Location_CenterMassIntensity_X_OP  \\\n",
       "0                                         131.546149                         \n",
       "1                                         106.962058                         \n",
       "2                                         131.359827                         \n",
       "3                                         101.069901                         \n",
       "4                                         164.579054                         \n",
       "\n",
       "   Metadata_Object_ConvertImageToObjects_Location_CenterMassIntensity_Y_OP  \\\n",
       "0                                         118.641091                         \n",
       "1                                         162.304190                         \n",
       "2                                         159.444463                         \n",
       "3                                         185.486430                         \n",
       "4                                         105.266522                         \n",
       "\n",
       "   ...  Texture_SumEntropy_OP_3_02_256  Texture_SumEntropy_OP_3_03_256  \\\n",
       "0  ...                        0.841475                        0.834574   \n",
       "1  ...                        0.452480                        0.436138   \n",
       "2  ...                        0.494813                        0.490844   \n",
       "3  ...                        0.878729                        0.865617   \n",
       "4  ...                        0.476768                        0.482674   \n",
       "\n",
       "   Texture_SumVariance_OP_3_00_256  Texture_SumVariance_OP_3_01_256  \\\n",
       "0                         1.149186                         1.152200   \n",
       "1                         0.112178                         0.131982   \n",
       "2                        -0.016140                         0.001041   \n",
       "3                         1.120905                         1.140604   \n",
       "4                         0.177886                         0.147933   \n",
       "\n",
       "   Texture_SumVariance_OP_3_02_256  Texture_SumVariance_OP_3_03_256  \\\n",
       "0                         1.078905                         1.144848   \n",
       "1                         0.108602                         0.125700   \n",
       "2                        -0.021997                        -0.020992   \n",
       "3                         1.074529                         1.117941   \n",
       "4                         0.103313                         0.156457   \n",
       "\n",
       "   Texture_Variance_OP_3_00_256  Texture_Variance_OP_3_01_256  \\\n",
       "0                      1.040009                      1.025740   \n",
       "1                      0.075717                      0.071207   \n",
       "2                     -0.033934                     -0.042635   \n",
       "3                      1.031585                      1.015172   \n",
       "4                      0.111765                      0.107846   \n",
       "\n",
       "   Texture_Variance_OP_3_02_256  Texture_Variance_OP_3_03_256  \n",
       "0                      1.045492                      1.027617  \n",
       "1                      0.076477                      0.067922  \n",
       "2                     -0.034983                     -0.038763  \n",
       "3                      1.035150                      1.019188  \n",
       "4                      0.117614                      0.108859  \n",
       "\n",
       "[5 rows x 268 columns]"
      ]
     },
     "execution_count": 3,
     "metadata": {},
     "output_type": "execute_result"
    }
   ],
   "source": [
    "file_path = pathlib.Path(\"../../data/5.converted_data/non_aggregated_data.parquet\")\n",
    "df = pd.read_parquet(file_path)\n",
    "df.head()"
   ]
  },
  {
   "cell_type": "code",
   "execution_count": 4,
   "id": "3eb75b0d",
   "metadata": {
    "execution": {
     "iopub.execute_input": "2024-05-10T15:49:42.724941Z",
     "iopub.status.busy": "2024-05-10T15:49:42.724594Z",
     "iopub.status.idle": "2024-05-10T15:49:42.727309Z",
     "shell.execute_reply": "2024-05-10T15:49:42.727064Z"
    },
    "papermill": {
     "duration": 0.005774,
     "end_time": "2024-05-10T15:49:42.727932",
     "exception": false,
     "start_time": "2024-05-10T15:49:42.722158",
     "status": "completed"
    },
    "tags": []
   },
   "outputs": [],
   "source": [
    "# split the features and the metadata\n",
    "metadata = df.columns.str.contains(\"Metadata\")\n",
    "# filter the metadata\n",
    "metadata_df = df.loc[:, metadata]\n",
    "# filter the features\n",
    "features_df = df.loc[:, ~metadata]"
   ]
  },
  {
   "cell_type": "markdown",
   "id": "96b70907",
   "metadata": {
    "papermill": {
     "duration": 0.001954,
     "end_time": "2024-05-10T15:49:42.731874",
     "exception": false,
     "start_time": "2024-05-10T15:49:42.729920",
     "status": "completed"
    },
    "tags": []
   },
   "source": [
    "## Anova for genotype only"
   ]
  },
  {
   "cell_type": "code",
   "execution_count": 5,
   "id": "94a53b09",
   "metadata": {
    "execution": {
     "iopub.execute_input": "2024-05-10T15:49:42.736580Z",
     "iopub.status.busy": "2024-05-10T15:49:42.736257Z",
     "iopub.status.idle": "2024-05-10T15:50:09.077077Z",
     "shell.execute_reply": "2024-05-10T15:50:09.076701Z"
    },
    "papermill": {
     "duration": 26.34407,
     "end_time": "2024-05-10T15:50:09.077961",
     "exception": false,
     "start_time": "2024-05-10T15:49:42.733891",
     "status": "completed"
    },
    "tags": []
   },
   "outputs": [
    {
     "name": "stderr",
     "output_type": "stream",
     "text": [
      "\r",
      "  0%|                                                                                         | 0/244 [00:00<?, ?it/s]"
     ]
    },
    {
     "name": "stderr",
     "output_type": "stream",
     "text": [
      "\r",
      "  0%|▎                                                                                | 1/244 [00:00<00:26,  9.31it/s]"
     ]
    },
    {
     "name": "stderr",
     "output_type": "stream",
     "text": [
      "\r",
      "  1%|▋                                                                                | 2/244 [00:00<00:25,  9.50it/s]"
     ]
    },
    {
     "name": "stderr",
     "output_type": "stream",
     "text": [
      "\r",
      "  2%|█▎                                                                               | 4/244 [00:00<00:24,  9.74it/s]"
     ]
    },
    {
     "name": "stderr",
     "output_type": "stream",
     "text": [
      "\r",
      "  2%|█▉                                                                               | 6/244 [00:00<00:24,  9.87it/s]"
     ]
    },
    {
     "name": "stderr",
     "output_type": "stream",
     "text": [
      "\r",
      "  3%|██▎                                                                              | 7/244 [00:00<00:24,  9.82it/s]"
     ]
    },
    {
     "name": "stderr",
     "output_type": "stream",
     "text": [
      "\r",
      "  4%|██▉                                                                              | 9/244 [00:00<00:23,  9.82it/s]"
     ]
    },
    {
     "name": "stderr",
     "output_type": "stream",
     "text": [
      "\r",
      "  4%|███▎                                                                            | 10/244 [00:01<00:23,  9.80it/s]"
     ]
    },
    {
     "name": "stderr",
     "output_type": "stream",
     "text": [
      "\r",
      "  5%|███▌                                                                            | 11/244 [00:01<00:23,  9.79it/s]"
     ]
    },
    {
     "name": "stderr",
     "output_type": "stream",
     "text": [
      "\r",
      "  5%|███▉                                                                            | 12/244 [00:01<00:23,  9.76it/s]"
     ]
    },
    {
     "name": "stderr",
     "output_type": "stream",
     "text": [
      "\r",
      "  5%|████▎                                                                           | 13/244 [00:01<00:23,  9.76it/s]"
     ]
    },
    {
     "name": "stderr",
     "output_type": "stream",
     "text": [
      "\r",
      "  6%|████▌                                                                           | 14/244 [00:01<00:23,  9.74it/s]"
     ]
    },
    {
     "name": "stderr",
     "output_type": "stream",
     "text": [
      "\r",
      "  6%|████▉                                                                           | 15/244 [00:01<00:23,  9.73it/s]"
     ]
    },
    {
     "name": "stderr",
     "output_type": "stream",
     "text": [
      "\r",
      "  7%|█████▏                                                                          | 16/244 [00:01<00:23,  9.71it/s]"
     ]
    },
    {
     "name": "stderr",
     "output_type": "stream",
     "text": [
      "\r",
      "  7%|█████▌                                                                          | 17/244 [00:01<00:23,  9.71it/s]"
     ]
    },
    {
     "name": "stderr",
     "output_type": "stream",
     "text": [
      "\r",
      "  7%|█████▉                                                                          | 18/244 [00:01<00:23,  9.67it/s]"
     ]
    },
    {
     "name": "stderr",
     "output_type": "stream",
     "text": [
      "\r",
      "  8%|██████▏                                                                         | 19/244 [00:01<00:23,  9.59it/s]"
     ]
    },
    {
     "name": "stderr",
     "output_type": "stream",
     "text": [
      "\r",
      "  8%|██████▌                                                                         | 20/244 [00:02<00:23,  9.52it/s]"
     ]
    },
    {
     "name": "stderr",
     "output_type": "stream",
     "text": [
      "\r",
      "  9%|██████▉                                                                         | 21/244 [00:02<00:23,  9.53it/s]"
     ]
    },
    {
     "name": "stderr",
     "output_type": "stream",
     "text": [
      "\r",
      "  9%|███████▏                                                                        | 22/244 [00:02<00:23,  9.55it/s]"
     ]
    },
    {
     "name": "stderr",
     "output_type": "stream",
     "text": [
      "\r",
      "  9%|███████▌                                                                        | 23/244 [00:02<00:23,  9.59it/s]"
     ]
    },
    {
     "name": "stderr",
     "output_type": "stream",
     "text": [
      "\r",
      " 10%|███████▊                                                                        | 24/244 [00:02<00:22,  9.65it/s]"
     ]
    },
    {
     "name": "stderr",
     "output_type": "stream",
     "text": [
      "\r",
      " 10%|████████▏                                                                       | 25/244 [00:02<00:22,  9.67it/s]"
     ]
    },
    {
     "name": "stderr",
     "output_type": "stream",
     "text": [
      "\r",
      " 11%|████████▌                                                                       | 26/244 [00:02<00:22,  9.70it/s]"
     ]
    },
    {
     "name": "stderr",
     "output_type": "stream",
     "text": [
      "\r",
      " 11%|████████▊                                                                       | 27/244 [00:02<00:22,  9.74it/s]"
     ]
    },
    {
     "name": "stderr",
     "output_type": "stream",
     "text": [
      "\r",
      " 11%|█████████▏                                                                      | 28/244 [00:02<00:22,  9.74it/s]"
     ]
    },
    {
     "name": "stderr",
     "output_type": "stream",
     "text": [
      "\r",
      " 12%|█████████▌                                                                      | 29/244 [00:02<00:22,  9.73it/s]"
     ]
    },
    {
     "name": "stderr",
     "output_type": "stream",
     "text": [
      "\r",
      " 12%|█████████▊                                                                      | 30/244 [00:03<00:22,  9.69it/s]"
     ]
    },
    {
     "name": "stderr",
     "output_type": "stream",
     "text": [
      "\r",
      " 13%|██████████▏                                                                     | 31/244 [00:03<00:22,  9.67it/s]"
     ]
    },
    {
     "name": "stderr",
     "output_type": "stream",
     "text": [
      "\r",
      " 13%|██████████▍                                                                     | 32/244 [00:03<00:21,  9.68it/s]"
     ]
    },
    {
     "name": "stderr",
     "output_type": "stream",
     "text": [
      "\r",
      " 14%|██████████▊                                                                     | 33/244 [00:03<00:21,  9.70it/s]"
     ]
    },
    {
     "name": "stderr",
     "output_type": "stream",
     "text": [
      "\r",
      " 14%|███████████▏                                                                    | 34/244 [00:03<00:21,  9.69it/s]"
     ]
    },
    {
     "name": "stderr",
     "output_type": "stream",
     "text": [
      "\r",
      " 14%|███████████▍                                                                    | 35/244 [00:03<00:21,  9.72it/s]"
     ]
    },
    {
     "name": "stderr",
     "output_type": "stream",
     "text": [
      "\r",
      " 15%|███████████▊                                                                    | 36/244 [00:03<00:21,  9.72it/s]"
     ]
    },
    {
     "name": "stderr",
     "output_type": "stream",
     "text": [
      "\r",
      " 15%|████████████▏                                                                   | 37/244 [00:03<00:21,  9.72it/s]"
     ]
    },
    {
     "name": "stderr",
     "output_type": "stream",
     "text": [
      "\r",
      " 16%|████████████▍                                                                   | 38/244 [00:03<00:21,  9.71it/s]"
     ]
    },
    {
     "name": "stderr",
     "output_type": "stream",
     "text": [
      "\r",
      " 16%|████████████▊                                                                   | 39/244 [00:04<00:21,  9.70it/s]"
     ]
    },
    {
     "name": "stderr",
     "output_type": "stream",
     "text": [
      "\r",
      " 16%|█████████████                                                                   | 40/244 [00:04<00:21,  9.71it/s]"
     ]
    },
    {
     "name": "stderr",
     "output_type": "stream",
     "text": [
      "\r",
      " 17%|█████████████▍                                                                  | 41/244 [00:04<00:20,  9.69it/s]"
     ]
    },
    {
     "name": "stderr",
     "output_type": "stream",
     "text": [
      "\r",
      " 17%|█████████████▊                                                                  | 42/244 [00:04<00:20,  9.73it/s]"
     ]
    },
    {
     "name": "stderr",
     "output_type": "stream",
     "text": [
      "\r",
      " 18%|██████████████                                                                  | 43/244 [00:04<00:20,  9.67it/s]"
     ]
    },
    {
     "name": "stderr",
     "output_type": "stream",
     "text": [
      "\r",
      " 18%|██████████████▍                                                                 | 44/244 [00:04<00:20,  9.56it/s]"
     ]
    },
    {
     "name": "stderr",
     "output_type": "stream",
     "text": [
      "\r",
      " 18%|██████████████▊                                                                 | 45/244 [00:04<00:21,  9.13it/s]"
     ]
    },
    {
     "name": "stderr",
     "output_type": "stream",
     "text": [
      "\r",
      " 19%|███████████████                                                                 | 46/244 [00:04<00:21,  9.07it/s]"
     ]
    },
    {
     "name": "stderr",
     "output_type": "stream",
     "text": [
      "\r",
      " 19%|███████████████▍                                                                | 47/244 [00:04<00:21,  9.15it/s]"
     ]
    },
    {
     "name": "stderr",
     "output_type": "stream",
     "text": [
      "\r",
      " 20%|███████████████▋                                                                | 48/244 [00:04<00:21,  9.06it/s]"
     ]
    },
    {
     "name": "stderr",
     "output_type": "stream",
     "text": [
      "\r",
      " 20%|████████████████                                                                | 49/244 [00:05<00:21,  9.06it/s]"
     ]
    },
    {
     "name": "stderr",
     "output_type": "stream",
     "text": [
      "\r",
      " 20%|████████████████▍                                                               | 50/244 [00:05<00:21,  9.10it/s]"
     ]
    },
    {
     "name": "stderr",
     "output_type": "stream",
     "text": [
      "\r",
      " 21%|████████████████▋                                                               | 51/244 [00:05<00:21,  9.11it/s]"
     ]
    },
    {
     "name": "stderr",
     "output_type": "stream",
     "text": [
      "\r",
      " 21%|█████████████████                                                               | 52/244 [00:05<00:21,  9.13it/s]"
     ]
    },
    {
     "name": "stderr",
     "output_type": "stream",
     "text": [
      "\r",
      " 22%|█████████████████▍                                                              | 53/244 [00:05<00:20,  9.11it/s]"
     ]
    },
    {
     "name": "stderr",
     "output_type": "stream",
     "text": [
      "\r",
      " 22%|█████████████████▋                                                              | 54/244 [00:05<00:20,  9.13it/s]"
     ]
    },
    {
     "name": "stderr",
     "output_type": "stream",
     "text": [
      "\r",
      " 23%|██████████████████                                                              | 55/244 [00:05<00:20,  9.09it/s]"
     ]
    },
    {
     "name": "stderr",
     "output_type": "stream",
     "text": [
      "\r",
      " 23%|██████████████████▎                                                             | 56/244 [00:05<00:20,  9.14it/s]"
     ]
    },
    {
     "name": "stderr",
     "output_type": "stream",
     "text": [
      "\r",
      " 23%|██████████████████▋                                                             | 57/244 [00:05<00:20,  9.12it/s]"
     ]
    },
    {
     "name": "stderr",
     "output_type": "stream",
     "text": [
      "\r",
      " 24%|███████████████████                                                             | 58/244 [00:06<00:20,  9.10it/s]"
     ]
    },
    {
     "name": "stderr",
     "output_type": "stream",
     "text": [
      "\r",
      " 24%|███████████████████▎                                                            | 59/244 [00:06<00:20,  9.08it/s]"
     ]
    },
    {
     "name": "stderr",
     "output_type": "stream",
     "text": [
      "\r",
      " 25%|███████████████████▋                                                            | 60/244 [00:06<00:20,  9.06it/s]"
     ]
    },
    {
     "name": "stderr",
     "output_type": "stream",
     "text": [
      "\r",
      " 25%|████████████████████                                                            | 61/244 [00:06<00:20,  9.05it/s]"
     ]
    },
    {
     "name": "stderr",
     "output_type": "stream",
     "text": [
      "\r",
      " 25%|████████████████████▎                                                           | 62/244 [00:06<00:20,  9.05it/s]"
     ]
    },
    {
     "name": "stderr",
     "output_type": "stream",
     "text": [
      "\r",
      " 26%|████████████████████▋                                                           | 63/244 [00:06<00:20,  9.05it/s]"
     ]
    },
    {
     "name": "stderr",
     "output_type": "stream",
     "text": [
      "\r",
      " 26%|████████████████████▉                                                           | 64/244 [00:06<00:19,  9.03it/s]"
     ]
    },
    {
     "name": "stderr",
     "output_type": "stream",
     "text": [
      "\r",
      " 27%|█████████████████████▎                                                          | 65/244 [00:06<00:19,  9.04it/s]"
     ]
    },
    {
     "name": "stderr",
     "output_type": "stream",
     "text": [
      "\r",
      " 27%|█████████████████████▋                                                          | 66/244 [00:06<00:19,  9.05it/s]"
     ]
    },
    {
     "name": "stderr",
     "output_type": "stream",
     "text": [
      "\r",
      " 27%|█████████████████████▉                                                          | 67/244 [00:07<00:19,  9.04it/s]"
     ]
    },
    {
     "name": "stderr",
     "output_type": "stream",
     "text": [
      "\r",
      " 28%|██████████████████████▎                                                         | 68/244 [00:07<00:19,  9.03it/s]"
     ]
    },
    {
     "name": "stderr",
     "output_type": "stream",
     "text": [
      "\r",
      " 28%|██████████████████████▌                                                         | 69/244 [00:07<00:19,  9.03it/s]"
     ]
    },
    {
     "name": "stderr",
     "output_type": "stream",
     "text": [
      "\r",
      " 29%|██████████████████████▉                                                         | 70/244 [00:07<00:19,  9.07it/s]"
     ]
    },
    {
     "name": "stderr",
     "output_type": "stream",
     "text": [
      "\r",
      " 29%|███████████████████████▎                                                        | 71/244 [00:07<00:19,  9.07it/s]"
     ]
    },
    {
     "name": "stderr",
     "output_type": "stream",
     "text": [
      "\r",
      " 30%|███████████████████████▌                                                        | 72/244 [00:07<00:18,  9.07it/s]"
     ]
    },
    {
     "name": "stderr",
     "output_type": "stream",
     "text": [
      "\r",
      " 30%|███████████████████████▉                                                        | 73/244 [00:07<00:18,  9.10it/s]"
     ]
    },
    {
     "name": "stderr",
     "output_type": "stream",
     "text": [
      "\r",
      " 30%|████████████████████████▎                                                       | 74/244 [00:07<00:18,  9.08it/s]"
     ]
    },
    {
     "name": "stderr",
     "output_type": "stream",
     "text": [
      "\r",
      " 31%|████████████████████████▌                                                       | 75/244 [00:07<00:18,  9.07it/s]"
     ]
    },
    {
     "name": "stderr",
     "output_type": "stream",
     "text": [
      "\r",
      " 31%|████████████████████████▉                                                       | 76/244 [00:08<00:18,  9.08it/s]"
     ]
    },
    {
     "name": "stderr",
     "output_type": "stream",
     "text": [
      "\r",
      " 32%|█████████████████████████▏                                                      | 77/244 [00:08<00:18,  9.04it/s]"
     ]
    },
    {
     "name": "stderr",
     "output_type": "stream",
     "text": [
      "\r",
      " 32%|█████████████████████████▌                                                      | 78/244 [00:08<00:18,  9.09it/s]"
     ]
    },
    {
     "name": "stderr",
     "output_type": "stream",
     "text": [
      "\r",
      " 32%|█████████████████████████▉                                                      | 79/244 [00:08<00:18,  9.13it/s]"
     ]
    },
    {
     "name": "stderr",
     "output_type": "stream",
     "text": [
      "\r",
      " 33%|██████████████████████████▏                                                     | 80/244 [00:08<00:17,  9.13it/s]"
     ]
    },
    {
     "name": "stderr",
     "output_type": "stream",
     "text": [
      "\r",
      " 33%|██████████████████████████▌                                                     | 81/244 [00:08<00:17,  9.11it/s]"
     ]
    },
    {
     "name": "stderr",
     "output_type": "stream",
     "text": [
      "\r",
      " 34%|██████████████████████████▉                                                     | 82/244 [00:08<00:17,  9.10it/s]"
     ]
    },
    {
     "name": "stderr",
     "output_type": "stream",
     "text": [
      "\r",
      " 34%|███████████████████████████▏                                                    | 83/244 [00:08<00:17,  9.19it/s]"
     ]
    },
    {
     "name": "stderr",
     "output_type": "stream",
     "text": [
      "\r",
      " 34%|███████████████████████████▌                                                    | 84/244 [00:08<00:17,  9.17it/s]"
     ]
    },
    {
     "name": "stderr",
     "output_type": "stream",
     "text": [
      "\r",
      " 35%|███████████████████████████▊                                                    | 85/244 [00:09<00:17,  9.10it/s]"
     ]
    },
    {
     "name": "stderr",
     "output_type": "stream",
     "text": [
      "\r",
      " 35%|████████████████████████████▏                                                   | 86/244 [00:09<00:17,  9.12it/s]"
     ]
    },
    {
     "name": "stderr",
     "output_type": "stream",
     "text": [
      "\r",
      " 36%|████████████████████████████▌                                                   | 87/244 [00:09<00:17,  9.12it/s]"
     ]
    },
    {
     "name": "stderr",
     "output_type": "stream",
     "text": [
      "\r",
      " 36%|████████████████████████████▊                                                   | 88/244 [00:09<00:17,  9.13it/s]"
     ]
    },
    {
     "name": "stderr",
     "output_type": "stream",
     "text": [
      "\r",
      " 36%|█████████████████████████████▏                                                  | 89/244 [00:09<00:16,  9.14it/s]"
     ]
    },
    {
     "name": "stderr",
     "output_type": "stream",
     "text": [
      "\r",
      " 37%|█████████████████████████████▌                                                  | 90/244 [00:09<00:16,  9.14it/s]"
     ]
    },
    {
     "name": "stderr",
     "output_type": "stream",
     "text": [
      "\r",
      " 37%|█████████████████████████████▊                                                  | 91/244 [00:09<00:16,  9.10it/s]"
     ]
    },
    {
     "name": "stderr",
     "output_type": "stream",
     "text": [
      "\r",
      " 38%|██████████████████████████████▏                                                 | 92/244 [00:09<00:16,  9.10it/s]"
     ]
    },
    {
     "name": "stderr",
     "output_type": "stream",
     "text": [
      "\r",
      " 38%|██████████████████████████████▍                                                 | 93/244 [00:09<00:16,  9.06it/s]"
     ]
    },
    {
     "name": "stderr",
     "output_type": "stream",
     "text": [
      "\r",
      " 39%|██████████████████████████████▊                                                 | 94/244 [00:10<00:16,  9.05it/s]"
     ]
    },
    {
     "name": "stderr",
     "output_type": "stream",
     "text": [
      "\r",
      " 39%|███████████████████████████████▏                                                | 95/244 [00:10<00:16,  9.11it/s]"
     ]
    },
    {
     "name": "stderr",
     "output_type": "stream",
     "text": [
      "\r",
      " 39%|███████████████████████████████▍                                                | 96/244 [00:10<00:16,  9.12it/s]"
     ]
    },
    {
     "name": "stderr",
     "output_type": "stream",
     "text": [
      "\r",
      " 40%|███████████████████████████████▊                                                | 97/244 [00:10<00:16,  9.11it/s]"
     ]
    },
    {
     "name": "stderr",
     "output_type": "stream",
     "text": [
      "\r",
      " 40%|████████████████████████████████▏                                               | 98/244 [00:10<00:16,  9.11it/s]"
     ]
    },
    {
     "name": "stderr",
     "output_type": "stream",
     "text": [
      "\r",
      " 41%|████████████████████████████████▍                                               | 99/244 [00:10<00:15,  9.08it/s]"
     ]
    },
    {
     "name": "stderr",
     "output_type": "stream",
     "text": [
      "\r",
      " 41%|████████████████████████████████▍                                              | 100/244 [00:10<00:15,  9.04it/s]"
     ]
    },
    {
     "name": "stderr",
     "output_type": "stream",
     "text": [
      "\r",
      " 41%|████████████████████████████████▋                                              | 101/244 [00:10<00:15,  9.03it/s]"
     ]
    },
    {
     "name": "stderr",
     "output_type": "stream",
     "text": [
      "\r",
      " 42%|█████████████████████████████████                                              | 102/244 [00:10<00:15,  9.08it/s]"
     ]
    },
    {
     "name": "stderr",
     "output_type": "stream",
     "text": [
      "\r",
      " 42%|█████████████████████████████████▎                                             | 103/244 [00:11<00:15,  9.08it/s]"
     ]
    },
    {
     "name": "stderr",
     "output_type": "stream",
     "text": [
      "\r",
      " 43%|█████████████████████████████████▋                                             | 104/244 [00:11<00:15,  9.16it/s]"
     ]
    },
    {
     "name": "stderr",
     "output_type": "stream",
     "text": [
      "\r",
      " 43%|█████████████████████████████████▉                                             | 105/244 [00:11<00:15,  8.91it/s]"
     ]
    },
    {
     "name": "stderr",
     "output_type": "stream",
     "text": [
      "\r",
      " 43%|██████████████████████████████████▎                                            | 106/244 [00:11<00:15,  8.96it/s]"
     ]
    },
    {
     "name": "stderr",
     "output_type": "stream",
     "text": [
      "\r",
      " 44%|██████████████████████████████████▋                                            | 107/244 [00:11<00:15,  8.97it/s]"
     ]
    },
    {
     "name": "stderr",
     "output_type": "stream",
     "text": [
      "\r",
      " 44%|██████████████████████████████████▉                                            | 108/244 [00:11<00:15,  8.97it/s]"
     ]
    },
    {
     "name": "stderr",
     "output_type": "stream",
     "text": [
      "\r",
      " 45%|███████████████████████████████████▎                                           | 109/244 [00:11<00:15,  8.97it/s]"
     ]
    },
    {
     "name": "stderr",
     "output_type": "stream",
     "text": [
      "\r",
      " 45%|███████████████████████████████████▌                                           | 110/244 [00:11<00:14,  9.07it/s]"
     ]
    },
    {
     "name": "stderr",
     "output_type": "stream",
     "text": [
      "\r",
      " 45%|███████████████████████████████████▉                                           | 111/244 [00:11<00:14,  9.07it/s]"
     ]
    },
    {
     "name": "stderr",
     "output_type": "stream",
     "text": [
      "\r",
      " 46%|████████████████████████████████████▎                                          | 112/244 [00:12<00:14,  9.10it/s]"
     ]
    },
    {
     "name": "stderr",
     "output_type": "stream",
     "text": [
      "\r",
      " 46%|████████████████████████████████████▌                                          | 113/244 [00:12<00:14,  9.08it/s]"
     ]
    },
    {
     "name": "stderr",
     "output_type": "stream",
     "text": [
      "\r",
      " 47%|████████████████████████████████████▉                                          | 114/244 [00:12<00:14,  9.07it/s]"
     ]
    },
    {
     "name": "stderr",
     "output_type": "stream",
     "text": [
      "\r",
      " 47%|█████████████████████████████████████▏                                         | 115/244 [00:12<00:14,  9.09it/s]"
     ]
    },
    {
     "name": "stderr",
     "output_type": "stream",
     "text": [
      "\r",
      " 48%|█████████████████████████████████████▌                                         | 116/244 [00:12<00:14,  9.11it/s]"
     ]
    },
    {
     "name": "stderr",
     "output_type": "stream",
     "text": [
      "\r",
      " 48%|█████████████████████████████████████▉                                         | 117/244 [00:12<00:13,  9.16it/s]"
     ]
    },
    {
     "name": "stderr",
     "output_type": "stream",
     "text": [
      "\r",
      " 48%|██████████████████████████████████████▏                                        | 118/244 [00:12<00:13,  9.14it/s]"
     ]
    },
    {
     "name": "stderr",
     "output_type": "stream",
     "text": [
      "\r",
      " 49%|██████████████████████████████████████▌                                        | 119/244 [00:12<00:13,  9.13it/s]"
     ]
    },
    {
     "name": "stderr",
     "output_type": "stream",
     "text": [
      "\r",
      " 49%|██████████████████████████████████████▊                                        | 120/244 [00:12<00:13,  9.12it/s]"
     ]
    },
    {
     "name": "stderr",
     "output_type": "stream",
     "text": [
      "\r",
      " 50%|███████████████████████████████████████▏                                       | 121/244 [00:13<00:13,  9.13it/s]"
     ]
    },
    {
     "name": "stderr",
     "output_type": "stream",
     "text": [
      "\r",
      " 50%|███████████████████████████████████████▌                                       | 122/244 [00:13<00:13,  9.12it/s]"
     ]
    },
    {
     "name": "stderr",
     "output_type": "stream",
     "text": [
      "\r",
      " 50%|███████████████████████████████████████▊                                       | 123/244 [00:13<00:13,  9.12it/s]"
     ]
    },
    {
     "name": "stderr",
     "output_type": "stream",
     "text": [
      "\r",
      " 51%|████████████████████████████████████████▏                                      | 124/244 [00:13<00:13,  9.12it/s]"
     ]
    },
    {
     "name": "stderr",
     "output_type": "stream",
     "text": [
      "\r",
      " 51%|████████████████████████████████████████▍                                      | 125/244 [00:13<00:13,  9.08it/s]"
     ]
    },
    {
     "name": "stderr",
     "output_type": "stream",
     "text": [
      "\r",
      " 52%|████████████████████████████████████████▊                                      | 126/244 [00:13<00:12,  9.11it/s]"
     ]
    },
    {
     "name": "stderr",
     "output_type": "stream",
     "text": [
      "\r",
      " 52%|█████████████████████████████████████████                                      | 127/244 [00:13<00:12,  9.12it/s]"
     ]
    },
    {
     "name": "stderr",
     "output_type": "stream",
     "text": [
      "\r",
      " 52%|█████████████████████████████████████████▍                                     | 128/244 [00:13<00:12,  9.14it/s]"
     ]
    },
    {
     "name": "stderr",
     "output_type": "stream",
     "text": [
      "\r",
      " 53%|█████████████████████████████████████████▊                                     | 129/244 [00:13<00:12,  9.17it/s]"
     ]
    },
    {
     "name": "stderr",
     "output_type": "stream",
     "text": [
      "\r",
      " 53%|██████████████████████████████████████████                                     | 130/244 [00:14<00:12,  9.17it/s]"
     ]
    },
    {
     "name": "stderr",
     "output_type": "stream",
     "text": [
      "\r",
      " 54%|██████████████████████████████████████████▍                                    | 131/244 [00:14<00:12,  9.25it/s]"
     ]
    },
    {
     "name": "stderr",
     "output_type": "stream",
     "text": [
      "\r",
      " 54%|██████████████████████████████████████████▋                                    | 132/244 [00:14<00:12,  9.33it/s]"
     ]
    },
    {
     "name": "stderr",
     "output_type": "stream",
     "text": [
      "\r",
      " 55%|███████████████████████████████████████████                                    | 133/244 [00:14<00:11,  9.28it/s]"
     ]
    },
    {
     "name": "stderr",
     "output_type": "stream",
     "text": [
      "\r",
      " 55%|███████████████████████████████████████████▍                                   | 134/244 [00:14<00:11,  9.21it/s]"
     ]
    },
    {
     "name": "stderr",
     "output_type": "stream",
     "text": [
      "\r",
      " 55%|███████████████████████████████████████████▋                                   | 135/244 [00:14<00:11,  9.16it/s]"
     ]
    },
    {
     "name": "stderr",
     "output_type": "stream",
     "text": [
      "\r",
      " 56%|████████████████████████████████████████████                                   | 136/244 [00:14<00:11,  9.17it/s]"
     ]
    },
    {
     "name": "stderr",
     "output_type": "stream",
     "text": [
      "\r",
      " 56%|████████████████████████████████████████████▎                                  | 137/244 [00:14<00:11,  9.13it/s]"
     ]
    },
    {
     "name": "stderr",
     "output_type": "stream",
     "text": [
      "\r",
      " 57%|████████████████████████████████████████████▋                                  | 138/244 [00:14<00:11,  9.15it/s]"
     ]
    },
    {
     "name": "stderr",
     "output_type": "stream",
     "text": [
      "\r",
      " 57%|█████████████████████████████████████████████                                  | 139/244 [00:14<00:11,  9.19it/s]"
     ]
    },
    {
     "name": "stderr",
     "output_type": "stream",
     "text": [
      "\r",
      " 57%|█████████████████████████████████████████████▎                                 | 140/244 [00:15<00:11,  9.21it/s]"
     ]
    },
    {
     "name": "stderr",
     "output_type": "stream",
     "text": [
      "\r",
      " 58%|█████████████████████████████████████████████▋                                 | 141/244 [00:15<00:11,  9.21it/s]"
     ]
    },
    {
     "name": "stderr",
     "output_type": "stream",
     "text": [
      "\r",
      " 58%|█████████████████████████████████████████████▉                                 | 142/244 [00:15<00:11,  9.19it/s]"
     ]
    },
    {
     "name": "stderr",
     "output_type": "stream",
     "text": [
      "\r",
      " 59%|██████████████████████████████████████████████▎                                | 143/244 [00:15<00:11,  9.15it/s]"
     ]
    },
    {
     "name": "stderr",
     "output_type": "stream",
     "text": [
      "\r",
      " 59%|██████████████████████████████████████████████▌                                | 144/244 [00:15<00:10,  9.10it/s]"
     ]
    },
    {
     "name": "stderr",
     "output_type": "stream",
     "text": [
      "\r",
      " 59%|██████████████████████████████████████████████▉                                | 145/244 [00:15<00:10,  9.14it/s]"
     ]
    },
    {
     "name": "stderr",
     "output_type": "stream",
     "text": [
      "\r",
      " 60%|███████████████████████████████████████████████▎                               | 146/244 [00:15<00:10,  9.09it/s]"
     ]
    },
    {
     "name": "stderr",
     "output_type": "stream",
     "text": [
      "\r",
      " 60%|███████████████████████████████████████████████▌                               | 147/244 [00:15<00:10,  9.11it/s]"
     ]
    },
    {
     "name": "stderr",
     "output_type": "stream",
     "text": [
      "\r",
      " 61%|███████████████████████████████████████████████▉                               | 148/244 [00:15<00:10,  9.12it/s]"
     ]
    },
    {
     "name": "stderr",
     "output_type": "stream",
     "text": [
      "\r",
      " 61%|████████████████████████████████████████████████▏                              | 149/244 [00:16<00:10,  9.10it/s]"
     ]
    },
    {
     "name": "stderr",
     "output_type": "stream",
     "text": [
      "\r",
      " 61%|████████████████████████████████████████████████▌                              | 150/244 [00:16<00:10,  9.13it/s]"
     ]
    },
    {
     "name": "stderr",
     "output_type": "stream",
     "text": [
      "\r",
      " 62%|████████████████████████████████████████████████▉                              | 151/244 [00:16<00:10,  9.09it/s]"
     ]
    },
    {
     "name": "stderr",
     "output_type": "stream",
     "text": [
      "\r",
      " 62%|█████████████████████████████████████████████████▏                             | 152/244 [00:16<00:10,  9.14it/s]"
     ]
    },
    {
     "name": "stderr",
     "output_type": "stream",
     "text": [
      "\r",
      " 63%|█████████████████████████████████████████████████▌                             | 153/244 [00:16<00:09,  9.13it/s]"
     ]
    },
    {
     "name": "stderr",
     "output_type": "stream",
     "text": [
      "\r",
      " 63%|█████████████████████████████████████████████████▊                             | 154/244 [00:16<00:09,  9.17it/s]"
     ]
    },
    {
     "name": "stderr",
     "output_type": "stream",
     "text": [
      "\r",
      " 64%|██████████████████████████████████████████████████▏                            | 155/244 [00:16<00:09,  9.19it/s]"
     ]
    },
    {
     "name": "stderr",
     "output_type": "stream",
     "text": [
      "\r",
      " 64%|██████████████████████████████████████████████████▌                            | 156/244 [00:16<00:09,  9.25it/s]"
     ]
    },
    {
     "name": "stderr",
     "output_type": "stream",
     "text": [
      "\r",
      " 64%|██████████████████████████████████████████████████▊                            | 157/244 [00:16<00:09,  9.21it/s]"
     ]
    },
    {
     "name": "stderr",
     "output_type": "stream",
     "text": [
      "\r",
      " 65%|███████████████████████████████████████████████████▏                           | 158/244 [00:17<00:09,  9.22it/s]"
     ]
    },
    {
     "name": "stderr",
     "output_type": "stream",
     "text": [
      "\r",
      " 65%|███████████████████████████████████████████████████▍                           | 159/244 [00:17<00:09,  9.22it/s]"
     ]
    },
    {
     "name": "stderr",
     "output_type": "stream",
     "text": [
      "\r",
      " 66%|███████████████████████████████████████████████████▊                           | 160/244 [00:17<00:09,  9.21it/s]"
     ]
    },
    {
     "name": "stderr",
     "output_type": "stream",
     "text": [
      "\r",
      " 66%|████████████████████████████████████████████████████▏                          | 161/244 [00:17<00:09,  9.20it/s]"
     ]
    },
    {
     "name": "stderr",
     "output_type": "stream",
     "text": [
      "\r",
      " 66%|████████████████████████████████████████████████████▍                          | 162/244 [00:17<00:08,  9.16it/s]"
     ]
    },
    {
     "name": "stderr",
     "output_type": "stream",
     "text": [
      "\r",
      " 67%|████████████████████████████████████████████████████▊                          | 163/244 [00:17<00:08,  9.19it/s]"
     ]
    },
    {
     "name": "stderr",
     "output_type": "stream",
     "text": [
      "\r",
      " 67%|█████████████████████████████████████████████████████                          | 164/244 [00:17<00:08,  9.21it/s]"
     ]
    },
    {
     "name": "stderr",
     "output_type": "stream",
     "text": [
      "\r",
      " 68%|█████████████████████████████████████████████████████▍                         | 165/244 [00:17<00:08,  9.20it/s]"
     ]
    },
    {
     "name": "stderr",
     "output_type": "stream",
     "text": [
      "\r",
      " 68%|█████████████████████████████████████████████████████▋                         | 166/244 [00:17<00:08,  9.17it/s]"
     ]
    },
    {
     "name": "stderr",
     "output_type": "stream",
     "text": [
      "\r",
      " 68%|██████████████████████████████████████████████████████                         | 167/244 [00:18<00:08,  9.18it/s]"
     ]
    },
    {
     "name": "stderr",
     "output_type": "stream",
     "text": [
      "\r",
      " 69%|██████████████████████████████████████████████████████▍                        | 168/244 [00:18<00:08,  9.29it/s]"
     ]
    },
    {
     "name": "stderr",
     "output_type": "stream",
     "text": [
      "\r",
      " 69%|██████████████████████████████████████████████████████▋                        | 169/244 [00:18<00:07,  9.39it/s]"
     ]
    },
    {
     "name": "stderr",
     "output_type": "stream",
     "text": [
      "\r",
      " 70%|███████████████████████████████████████████████████████                        | 170/244 [00:18<00:07,  9.42it/s]"
     ]
    },
    {
     "name": "stderr",
     "output_type": "stream",
     "text": [
      "\r",
      " 70%|███████████████████████████████████████████████████████▎                       | 171/244 [00:18<00:07,  9.47it/s]"
     ]
    },
    {
     "name": "stderr",
     "output_type": "stream",
     "text": [
      "\r",
      " 70%|███████████████████████████████████████████████████████▋                       | 172/244 [00:18<00:07,  9.47it/s]"
     ]
    },
    {
     "name": "stderr",
     "output_type": "stream",
     "text": [
      "\r",
      " 71%|████████████████████████████████████████████████████████                       | 173/244 [00:18<00:07,  9.44it/s]"
     ]
    },
    {
     "name": "stderr",
     "output_type": "stream",
     "text": [
      "\r",
      " 71%|████████████████████████████████████████████████████████▎                      | 174/244 [00:18<00:07,  9.47it/s]"
     ]
    },
    {
     "name": "stderr",
     "output_type": "stream",
     "text": [
      "\r",
      " 72%|████████████████████████████████████████████████████████▋                      | 175/244 [00:18<00:07,  9.41it/s]"
     ]
    },
    {
     "name": "stderr",
     "output_type": "stream",
     "text": [
      "\r",
      " 72%|████████████████████████████████████████████████████████▉                      | 176/244 [00:18<00:07,  9.45it/s]"
     ]
    },
    {
     "name": "stderr",
     "output_type": "stream",
     "text": [
      "\r",
      " 73%|█████████████████████████████████████████████████████████▎                     | 177/244 [00:19<00:07,  9.50it/s]"
     ]
    },
    {
     "name": "stderr",
     "output_type": "stream",
     "text": [
      "\r",
      " 73%|█████████████████████████████████████████████████████████▋                     | 178/244 [00:19<00:06,  9.47it/s]"
     ]
    },
    {
     "name": "stderr",
     "output_type": "stream",
     "text": [
      "\r",
      " 73%|█████████████████████████████████████████████████████████▉                     | 179/244 [00:19<00:06,  9.50it/s]"
     ]
    },
    {
     "name": "stderr",
     "output_type": "stream",
     "text": [
      "\r",
      " 74%|██████████████████████████████████████████████████████████▎                    | 180/244 [00:19<00:06,  9.51it/s]"
     ]
    },
    {
     "name": "stderr",
     "output_type": "stream",
     "text": [
      "\r",
      " 74%|██████████████████████████████████████████████████████████▌                    | 181/244 [00:19<00:06,  9.58it/s]"
     ]
    },
    {
     "name": "stderr",
     "output_type": "stream",
     "text": [
      "\r",
      " 75%|██████████████████████████████████████████████████████████▉                    | 182/244 [00:19<00:06,  9.56it/s]"
     ]
    },
    {
     "name": "stderr",
     "output_type": "stream",
     "text": [
      "\r",
      " 75%|███████████████████████████████████████████████████████████▎                   | 183/244 [00:19<00:06,  9.48it/s]"
     ]
    },
    {
     "name": "stderr",
     "output_type": "stream",
     "text": [
      "\r",
      " 75%|███████████████████████████████████████████████████████████▌                   | 184/244 [00:19<00:06,  9.48it/s]"
     ]
    },
    {
     "name": "stderr",
     "output_type": "stream",
     "text": [
      "\r",
      " 76%|███████████████████████████████████████████████████████████▉                   | 185/244 [00:19<00:06,  9.45it/s]"
     ]
    },
    {
     "name": "stderr",
     "output_type": "stream",
     "text": [
      "\r",
      " 76%|████████████████████████████████████████████████████████████▏                  | 186/244 [00:20<00:06,  9.35it/s]"
     ]
    },
    {
     "name": "stderr",
     "output_type": "stream",
     "text": [
      "\r",
      " 77%|████████████████████████████████████████████████████████████▌                  | 187/244 [00:20<00:06,  9.39it/s]"
     ]
    },
    {
     "name": "stderr",
     "output_type": "stream",
     "text": [
      "\r",
      " 77%|████████████████████████████████████████████████████████████▊                  | 188/244 [00:20<00:05,  9.45it/s]"
     ]
    },
    {
     "name": "stderr",
     "output_type": "stream",
     "text": [
      "\r",
      " 77%|█████████████████████████████████████████████████████████████▏                 | 189/244 [00:20<00:05,  9.39it/s]"
     ]
    },
    {
     "name": "stderr",
     "output_type": "stream",
     "text": [
      "\r",
      " 78%|█████████████████████████████████████████████████████████████▌                 | 190/244 [00:20<00:05,  9.38it/s]"
     ]
    },
    {
     "name": "stderr",
     "output_type": "stream",
     "text": [
      "\r",
      " 78%|█████████████████████████████████████████████████████████████▊                 | 191/244 [00:20<00:05,  9.40it/s]"
     ]
    },
    {
     "name": "stderr",
     "output_type": "stream",
     "text": [
      "\r",
      " 79%|██████████████████████████████████████████████████████████████▏                | 192/244 [00:20<00:05,  9.44it/s]"
     ]
    },
    {
     "name": "stderr",
     "output_type": "stream",
     "text": [
      "\r",
      " 79%|██████████████████████████████████████████████████████████████▍                | 193/244 [00:20<00:05,  9.35it/s]"
     ]
    },
    {
     "name": "stderr",
     "output_type": "stream",
     "text": [
      "\r",
      " 80%|██████████████████████████████████████████████████████████████▊                | 194/244 [00:20<00:05,  9.30it/s]"
     ]
    },
    {
     "name": "stderr",
     "output_type": "stream",
     "text": [
      "\r",
      " 80%|███████████████████████████████████████████████████████████████▏               | 195/244 [00:21<00:05,  9.26it/s]"
     ]
    },
    {
     "name": "stderr",
     "output_type": "stream",
     "text": [
      "\r",
      " 80%|███████████████████████████████████████████████████████████████▍               | 196/244 [00:21<00:05,  9.23it/s]"
     ]
    },
    {
     "name": "stderr",
     "output_type": "stream",
     "text": [
      "\r",
      " 81%|███████████████████████████████████████████████████████████████▊               | 197/244 [00:21<00:05,  9.24it/s]"
     ]
    },
    {
     "name": "stderr",
     "output_type": "stream",
     "text": [
      "\r",
      " 81%|████████████████████████████████████████████████████████████████               | 198/244 [00:21<00:04,  9.25it/s]"
     ]
    },
    {
     "name": "stderr",
     "output_type": "stream",
     "text": [
      "\r",
      " 82%|████████████████████████████████████████████████████████████████▍              | 199/244 [00:21<00:04,  9.25it/s]"
     ]
    },
    {
     "name": "stderr",
     "output_type": "stream",
     "text": [
      "\r",
      " 82%|████████████████████████████████████████████████████████████████▊              | 200/244 [00:21<00:04,  9.28it/s]"
     ]
    },
    {
     "name": "stderr",
     "output_type": "stream",
     "text": [
      "\r",
      " 82%|█████████████████████████████████████████████████████████████████              | 201/244 [00:21<00:04,  9.22it/s]"
     ]
    },
    {
     "name": "stderr",
     "output_type": "stream",
     "text": [
      "\r",
      " 83%|█████████████████████████████████████████████████████████████████▍             | 202/244 [00:21<00:04,  9.18it/s]"
     ]
    },
    {
     "name": "stderr",
     "output_type": "stream",
     "text": [
      "\r",
      " 83%|█████████████████████████████████████████████████████████████████▋             | 203/244 [00:21<00:04,  9.14it/s]"
     ]
    },
    {
     "name": "stderr",
     "output_type": "stream",
     "text": [
      "\r",
      " 84%|██████████████████████████████████████████████████████████████████             | 204/244 [00:21<00:04,  9.12it/s]"
     ]
    },
    {
     "name": "stderr",
     "output_type": "stream",
     "text": [
      "\r",
      " 84%|██████████████████████████████████████████████████████████████████▎            | 205/244 [00:22<00:04,  9.14it/s]"
     ]
    },
    {
     "name": "stderr",
     "output_type": "stream",
     "text": [
      "\r",
      " 84%|██████████████████████████████████████████████████████████████████▋            | 206/244 [00:22<00:04,  9.15it/s]"
     ]
    },
    {
     "name": "stderr",
     "output_type": "stream",
     "text": [
      "\r",
      " 85%|███████████████████████████████████████████████████████████████████            | 207/244 [00:22<00:04,  9.16it/s]"
     ]
    },
    {
     "name": "stderr",
     "output_type": "stream",
     "text": [
      "\r",
      " 85%|███████████████████████████████████████████████████████████████████▎           | 208/244 [00:22<00:03,  9.16it/s]"
     ]
    },
    {
     "name": "stderr",
     "output_type": "stream",
     "text": [
      "\r",
      " 86%|███████████████████████████████████████████████████████████████████▋           | 209/244 [00:22<00:03,  9.17it/s]"
     ]
    },
    {
     "name": "stderr",
     "output_type": "stream",
     "text": [
      "\r",
      " 86%|███████████████████████████████████████████████████████████████████▉           | 210/244 [00:22<00:03,  9.18it/s]"
     ]
    },
    {
     "name": "stderr",
     "output_type": "stream",
     "text": [
      "\r",
      " 86%|████████████████████████████████████████████████████████████████████▎          | 211/244 [00:22<00:03,  9.18it/s]"
     ]
    },
    {
     "name": "stderr",
     "output_type": "stream",
     "text": [
      "\r",
      " 87%|████████████████████████████████████████████████████████████████████▋          | 212/244 [00:22<00:03,  9.18it/s]"
     ]
    },
    {
     "name": "stderr",
     "output_type": "stream",
     "text": [
      "\r",
      " 87%|████████████████████████████████████████████████████████████████████▉          | 213/244 [00:22<00:03,  9.18it/s]"
     ]
    },
    {
     "name": "stderr",
     "output_type": "stream",
     "text": [
      "\r",
      " 88%|█████████████████████████████████████████████████████████████████████▎         | 214/244 [00:23<00:03,  9.19it/s]"
     ]
    },
    {
     "name": "stderr",
     "output_type": "stream",
     "text": [
      "\r",
      " 88%|█████████████████████████████████████████████████████████████████████▌         | 215/244 [00:23<00:03,  9.19it/s]"
     ]
    },
    {
     "name": "stderr",
     "output_type": "stream",
     "text": [
      "\r",
      " 89%|█████████████████████████████████████████████████████████████████████▉         | 216/244 [00:23<00:03,  9.18it/s]"
     ]
    },
    {
     "name": "stderr",
     "output_type": "stream",
     "text": [
      "\r",
      " 89%|██████████████████████████████████████████████████████████████████████▎        | 217/244 [00:23<00:02,  9.25it/s]"
     ]
    },
    {
     "name": "stderr",
     "output_type": "stream",
     "text": [
      "\r",
      " 89%|██████████████████████████████████████████████████████████████████████▌        | 218/244 [00:23<00:02,  9.26it/s]"
     ]
    },
    {
     "name": "stderr",
     "output_type": "stream",
     "text": [
      "\r",
      " 90%|██████████████████████████████████████████████████████████████████████▉        | 219/244 [00:23<00:02,  9.26it/s]"
     ]
    },
    {
     "name": "stderr",
     "output_type": "stream",
     "text": [
      "\r",
      " 90%|███████████████████████████████████████████████████████████████████████▏       | 220/244 [00:23<00:02,  9.30it/s]"
     ]
    },
    {
     "name": "stderr",
     "output_type": "stream",
     "text": [
      "\r",
      " 91%|███████████████████████████████████████████████████████████████████████▌       | 221/244 [00:23<00:02,  9.29it/s]"
     ]
    },
    {
     "name": "stderr",
     "output_type": "stream",
     "text": [
      "\r",
      " 91%|███████████████████████████████████████████████████████████████████████▉       | 222/244 [00:23<00:02,  9.26it/s]"
     ]
    },
    {
     "name": "stderr",
     "output_type": "stream",
     "text": [
      "\r",
      " 91%|████████████████████████████████████████████████████████████████████████▏      | 223/244 [00:24<00:02,  9.26it/s]"
     ]
    },
    {
     "name": "stderr",
     "output_type": "stream",
     "text": [
      "\r",
      " 92%|████████████████████████████████████████████████████████████████████████▌      | 224/244 [00:24<00:02,  9.24it/s]"
     ]
    },
    {
     "name": "stderr",
     "output_type": "stream",
     "text": [
      "\r",
      " 92%|████████████████████████████████████████████████████████████████████████▊      | 225/244 [00:24<00:02,  9.28it/s]"
     ]
    },
    {
     "name": "stderr",
     "output_type": "stream",
     "text": [
      "\r",
      " 93%|█████████████████████████████████████████████████████████████████████████▏     | 226/244 [00:24<00:01,  9.28it/s]"
     ]
    },
    {
     "name": "stderr",
     "output_type": "stream",
     "text": [
      "\r",
      " 93%|█████████████████████████████████████████████████████████████████████████▍     | 227/244 [00:24<00:01,  9.29it/s]"
     ]
    },
    {
     "name": "stderr",
     "output_type": "stream",
     "text": [
      "\r",
      " 93%|█████████████████████████████████████████████████████████████████████████▊     | 228/244 [00:24<00:01,  9.31it/s]"
     ]
    },
    {
     "name": "stderr",
     "output_type": "stream",
     "text": [
      "\r",
      " 94%|██████████████████████████████████████████████████████████████████████████▏    | 229/244 [00:24<00:01,  9.25it/s]"
     ]
    },
    {
     "name": "stderr",
     "output_type": "stream",
     "text": [
      "\r",
      " 94%|██████████████████████████████████████████████████████████████████████████▍    | 230/244 [00:24<00:01,  9.21it/s]"
     ]
    },
    {
     "name": "stderr",
     "output_type": "stream",
     "text": [
      "\r",
      " 95%|██████████████████████████████████████████████████████████████████████████▊    | 231/244 [00:24<00:01,  9.18it/s]"
     ]
    },
    {
     "name": "stderr",
     "output_type": "stream",
     "text": [
      "\r",
      " 95%|███████████████████████████████████████████████████████████████████████████    | 232/244 [00:25<00:01,  9.16it/s]"
     ]
    },
    {
     "name": "stderr",
     "output_type": "stream",
     "text": [
      "\r",
      " 95%|███████████████████████████████████████████████████████████████████████████▍   | 233/244 [00:25<00:01,  9.18it/s]"
     ]
    },
    {
     "name": "stderr",
     "output_type": "stream",
     "text": [
      "\r",
      " 96%|███████████████████████████████████████████████████████████████████████████▊   | 234/244 [00:25<00:01,  9.21it/s]"
     ]
    },
    {
     "name": "stderr",
     "output_type": "stream",
     "text": [
      "\r",
      " 96%|████████████████████████████████████████████████████████████████████████████   | 235/244 [00:25<00:00,  9.22it/s]"
     ]
    },
    {
     "name": "stderr",
     "output_type": "stream",
     "text": [
      "\r",
      " 97%|████████████████████████████████████████████████████████████████████████████▍  | 236/244 [00:25<00:00,  9.22it/s]"
     ]
    },
    {
     "name": "stderr",
     "output_type": "stream",
     "text": [
      "\r",
      " 97%|████████████████████████████████████████████████████████████████████████████▋  | 237/244 [00:25<00:00,  9.20it/s]"
     ]
    },
    {
     "name": "stderr",
     "output_type": "stream",
     "text": [
      "\r",
      " 98%|█████████████████████████████████████████████████████████████████████████████  | 238/244 [00:25<00:00,  9.20it/s]"
     ]
    },
    {
     "name": "stderr",
     "output_type": "stream",
     "text": [
      "\r",
      " 98%|█████████████████████████████████████████████████████████████████████████████▍ | 239/244 [00:25<00:00,  9.19it/s]"
     ]
    },
    {
     "name": "stderr",
     "output_type": "stream",
     "text": [
      "\r",
      " 98%|█████████████████████████████████████████████████████████████████████████████▋ | 240/244 [00:25<00:00,  9.18it/s]"
     ]
    },
    {
     "name": "stderr",
     "output_type": "stream",
     "text": [
      "\r",
      " 99%|██████████████████████████████████████████████████████████████████████████████ | 241/244 [00:26<00:00,  9.17it/s]"
     ]
    },
    {
     "name": "stderr",
     "output_type": "stream",
     "text": [
      "\r",
      " 99%|██████████████████████████████████████████████████████████████████████████████▎| 242/244 [00:26<00:00,  9.18it/s]"
     ]
    },
    {
     "name": "stderr",
     "output_type": "stream",
     "text": [
      "\r",
      "100%|██████████████████████████████████████████████████████████████████████████████▋| 243/244 [00:26<00:00,  9.20it/s]"
     ]
    },
    {
     "name": "stderr",
     "output_type": "stream",
     "text": [
      "\r",
      "100%|███████████████████████████████████████████████████████████████████████████████| 244/244 [00:26<00:00,  9.20it/s]"
     ]
    },
    {
     "name": "stderr",
     "output_type": "stream",
     "text": [
      "\r",
      "100%|███████████████████████████████████████████████████████████████████████████████| 244/244 [00:26<00:00,  9.27it/s]"
     ]
    },
    {
     "name": "stdout",
     "output_type": "stream",
     "text": [
      "(732, 9)\n"
     ]
    },
    {
     "name": "stderr",
     "output_type": "stream",
     "text": [
      "\n"
     ]
    },
    {
     "data": {
      "text/html": [
       "<div>\n",
       "<style scoped>\n",
       "    .dataframe tbody tr th:only-of-type {\n",
       "        vertical-align: middle;\n",
       "    }\n",
       "\n",
       "    .dataframe tbody tr th {\n",
       "        vertical-align: top;\n",
       "    }\n",
       "\n",
       "    .dataframe thead th {\n",
       "        text-align: right;\n",
       "    }\n",
       "</style>\n",
       "<table border=\"1\" class=\"dataframe\">\n",
       "  <thead>\n",
       "    <tr style=\"text-align: right;\">\n",
       "      <th></th>\n",
       "      <th>group1</th>\n",
       "      <th>group2</th>\n",
       "      <th>meandiff</th>\n",
       "      <th>p-adj</th>\n",
       "      <th>lower</th>\n",
       "      <th>upper</th>\n",
       "      <th>reject</th>\n",
       "      <th>feature</th>\n",
       "      <th>anova_p_value</th>\n",
       "    </tr>\n",
       "  </thead>\n",
       "  <tbody>\n",
       "    <tr>\n",
       "      <th>0</th>\n",
       "      <td>high</td>\n",
       "      <td>unsel</td>\n",
       "      <td>-1.5854</td>\n",
       "      <td>0.0</td>\n",
       "      <td>-1.9532</td>\n",
       "      <td>-1.2177</td>\n",
       "      <td>True</td>\n",
       "      <td>AreaShape_Area</td>\n",
       "      <td>3.337633e-25</td>\n",
       "    </tr>\n",
       "    <tr>\n",
       "      <th>1</th>\n",
       "      <td>high</td>\n",
       "      <td>wt</td>\n",
       "      <td>-2.0158</td>\n",
       "      <td>0.0</td>\n",
       "      <td>-2.379</td>\n",
       "      <td>-1.6527</td>\n",
       "      <td>True</td>\n",
       "      <td>AreaShape_Area</td>\n",
       "      <td>3.337633e-25</td>\n",
       "    </tr>\n",
       "    <tr>\n",
       "      <th>2</th>\n",
       "      <td>unsel</td>\n",
       "      <td>wt</td>\n",
       "      <td>-0.4304</td>\n",
       "      <td>0.0028</td>\n",
       "      <td>-0.7325</td>\n",
       "      <td>-0.1282</td>\n",
       "      <td>True</td>\n",
       "      <td>AreaShape_Area</td>\n",
       "      <td>3.337633e-25</td>\n",
       "    </tr>\n",
       "    <tr>\n",
       "      <th>3</th>\n",
       "      <td>high</td>\n",
       "      <td>unsel</td>\n",
       "      <td>-1.5854</td>\n",
       "      <td>0.0</td>\n",
       "      <td>-1.9532</td>\n",
       "      <td>-1.2177</td>\n",
       "      <td>True</td>\n",
       "      <td>AreaShape_CentralMoment_0_0</td>\n",
       "      <td>3.337633e-25</td>\n",
       "    </tr>\n",
       "    <tr>\n",
       "      <th>4</th>\n",
       "      <td>high</td>\n",
       "      <td>wt</td>\n",
       "      <td>-2.0158</td>\n",
       "      <td>0.0</td>\n",
       "      <td>-2.379</td>\n",
       "      <td>-1.6527</td>\n",
       "      <td>True</td>\n",
       "      <td>AreaShape_CentralMoment_0_0</td>\n",
       "      <td>3.337633e-25</td>\n",
       "    </tr>\n",
       "  </tbody>\n",
       "</table>\n",
       "</div>"
      ],
      "text/plain": [
       "  group1 group2 meandiff   p-adj   lower   upper reject  \\\n",
       "0   high  unsel  -1.5854     0.0 -1.9532 -1.2177   True   \n",
       "1   high     wt  -2.0158     0.0  -2.379 -1.6527   True   \n",
       "2  unsel     wt  -0.4304  0.0028 -0.7325 -0.1282   True   \n",
       "3   high  unsel  -1.5854     0.0 -1.9532 -1.2177   True   \n",
       "4   high     wt  -2.0158     0.0  -2.379 -1.6527   True   \n",
       "\n",
       "                       feature  anova_p_value  \n",
       "0               AreaShape_Area   3.337633e-25  \n",
       "1               AreaShape_Area   3.337633e-25  \n",
       "2               AreaShape_Area   3.337633e-25  \n",
       "3  AreaShape_CentralMoment_0_0   3.337633e-25  \n",
       "4  AreaShape_CentralMoment_0_0   3.337633e-25  "
      ]
     },
     "execution_count": 5,
     "metadata": {},
     "output_type": "execute_result"
    }
   ],
   "source": [
    "anova_input_df = features_df.copy()\n",
    "anova_input_df[\"Metadata_genotype\"] = metadata_df[\"Metadata_genotype\"]\n",
    "anova_output_df = anova_function(anova_input_df, \"Metadata_genotype\")\n",
    "print(anova_output_df.shape)\n",
    "anova_output_df.head()"
   ]
  },
  {
   "cell_type": "code",
   "execution_count": 6,
   "id": "817e8227",
   "metadata": {
    "execution": {
     "iopub.execute_input": "2024-05-10T15:50:09.103929Z",
     "iopub.status.busy": "2024-05-10T15:50:09.103751Z",
     "iopub.status.idle": "2024-05-10T15:50:09.112013Z",
     "shell.execute_reply": "2024-05-10T15:50:09.111698Z"
    },
    "papermill": {
     "duration": 0.022146,
     "end_time": "2024-05-10T15:50:09.112760",
     "exception": false,
     "start_time": "2024-05-10T15:50:09.090614",
     "status": "completed"
    },
    "tags": []
   },
   "outputs": [],
   "source": [
    "# save the results\n",
    "output_file = pathlib.Path(\n",
    "    \"../../data/6.analysis_results/non_aggregated_anova_results.parquet\"\n",
    ")\n",
    "output_file.parent.mkdir(exist_ok=True, parents=True)\n",
    "anova_output_df.to_parquet(output_file)"
   ]
  },
  {
   "cell_type": "markdown",
   "id": "83b31f35",
   "metadata": {
    "papermill": {
     "duration": 0.011822,
     "end_time": "2024-05-10T15:50:09.136213",
     "exception": false,
     "start_time": "2024-05-10T15:50:09.124391",
     "status": "completed"
    },
    "tags": []
   },
   "source": [
    "## Levene's test for homogeneity of variance"
   ]
  },
  {
   "cell_type": "code",
   "execution_count": 7,
   "id": "1e477019",
   "metadata": {
    "execution": {
     "iopub.execute_input": "2024-05-10T15:50:09.152559Z",
     "iopub.status.busy": "2024-05-10T15:50:09.152316Z",
     "iopub.status.idle": "2024-05-10T15:50:09.227894Z",
     "shell.execute_reply": "2024-05-10T15:50:09.227614Z"
    },
    "papermill": {
     "duration": 0.084563,
     "end_time": "2024-05-10T15:50:09.228534",
     "exception": false,
     "start_time": "2024-05-10T15:50:09.143971",
     "status": "completed"
    },
    "tags": []
   },
   "outputs": [
    {
     "name": "stderr",
     "output_type": "stream",
     "text": [
      "\r",
      "  0%|                                                                                         | 0/244 [00:00<?, ?it/s]"
     ]
    },
    {
     "name": "stderr",
     "output_type": "stream",
     "text": [
      "\r",
      "100%|█████████████████████████████████████████████████████████████████████████████| 244/244 [00:00<00:00, 3626.08it/s]"
     ]
    },
    {
     "name": "stderr",
     "output_type": "stream",
     "text": [
      "\n"
     ]
    },
    {
     "data": {
      "text/html": [
       "<div>\n",
       "<style scoped>\n",
       "    .dataframe tbody tr th:only-of-type {\n",
       "        vertical-align: middle;\n",
       "    }\n",
       "\n",
       "    .dataframe tbody tr th {\n",
       "        vertical-align: top;\n",
       "    }\n",
       "\n",
       "    .dataframe thead th {\n",
       "        text-align: right;\n",
       "    }\n",
       "</style>\n",
       "<table border=\"1\" class=\"dataframe\">\n",
       "  <thead>\n",
       "    <tr style=\"text-align: right;\">\n",
       "      <th></th>\n",
       "      <th>feature</th>\n",
       "      <th>levene_statistic</th>\n",
       "      <th>levene_p_value</th>\n",
       "    </tr>\n",
       "  </thead>\n",
       "  <tbody>\n",
       "    <tr>\n",
       "      <th>0</th>\n",
       "      <td>AreaShape_Area</td>\n",
       "      <td>9.453311</td>\n",
       "      <td>0.000145</td>\n",
       "    </tr>\n",
       "    <tr>\n",
       "      <th>1</th>\n",
       "      <td>AreaShape_CentralMoment_0_0</td>\n",
       "      <td>9.453311</td>\n",
       "      <td>0.000145</td>\n",
       "    </tr>\n",
       "    <tr>\n",
       "      <th>2</th>\n",
       "      <td>AreaShape_CentralMoment_0_1</td>\n",
       "      <td>11.621640</td>\n",
       "      <td>0.000022</td>\n",
       "    </tr>\n",
       "    <tr>\n",
       "      <th>3</th>\n",
       "      <td>AreaShape_CentralMoment_0_2</td>\n",
       "      <td>12.222649</td>\n",
       "      <td>0.000013</td>\n",
       "    </tr>\n",
       "    <tr>\n",
       "      <th>4</th>\n",
       "      <td>AreaShape_CentralMoment_0_3</td>\n",
       "      <td>5.811977</td>\n",
       "      <td>0.003803</td>\n",
       "    </tr>\n",
       "    <tr>\n",
       "      <th>...</th>\n",
       "      <td>...</td>\n",
       "      <td>...</td>\n",
       "      <td>...</td>\n",
       "    </tr>\n",
       "    <tr>\n",
       "      <th>239</th>\n",
       "      <td>Texture_SumVariance_OP_3_03_256</td>\n",
       "      <td>10.292527</td>\n",
       "      <td>0.000070</td>\n",
       "    </tr>\n",
       "    <tr>\n",
       "      <th>240</th>\n",
       "      <td>Texture_Variance_OP_3_00_256</td>\n",
       "      <td>10.985590</td>\n",
       "      <td>0.000038</td>\n",
       "    </tr>\n",
       "    <tr>\n",
       "      <th>241</th>\n",
       "      <td>Texture_Variance_OP_3_01_256</td>\n",
       "      <td>11.610386</td>\n",
       "      <td>0.000023</td>\n",
       "    </tr>\n",
       "    <tr>\n",
       "      <th>242</th>\n",
       "      <td>Texture_Variance_OP_3_02_256</td>\n",
       "      <td>11.052817</td>\n",
       "      <td>0.000036</td>\n",
       "    </tr>\n",
       "    <tr>\n",
       "      <th>243</th>\n",
       "      <td>Texture_Variance_OP_3_03_256</td>\n",
       "      <td>10.923919</td>\n",
       "      <td>0.000040</td>\n",
       "    </tr>\n",
       "  </tbody>\n",
       "</table>\n",
       "<p>244 rows × 3 columns</p>\n",
       "</div>"
      ],
      "text/plain": [
       "                             feature  levene_statistic  levene_p_value\n",
       "0                     AreaShape_Area          9.453311        0.000145\n",
       "1        AreaShape_CentralMoment_0_0          9.453311        0.000145\n",
       "2        AreaShape_CentralMoment_0_1         11.621640        0.000022\n",
       "3        AreaShape_CentralMoment_0_2         12.222649        0.000013\n",
       "4        AreaShape_CentralMoment_0_3          5.811977        0.003803\n",
       "..                               ...               ...             ...\n",
       "239  Texture_SumVariance_OP_3_03_256         10.292527        0.000070\n",
       "240     Texture_Variance_OP_3_00_256         10.985590        0.000038\n",
       "241     Texture_Variance_OP_3_01_256         11.610386        0.000023\n",
       "242     Texture_Variance_OP_3_02_256         11.052817        0.000036\n",
       "243     Texture_Variance_OP_3_03_256         10.923919        0.000040\n",
       "\n",
       "[244 rows x 3 columns]"
      ]
     },
     "execution_count": 7,
     "metadata": {},
     "output_type": "execute_result"
    }
   ],
   "source": [
    "# split the df into three genotypes\n",
    "high_df = df[df[\"Metadata_genotype\"] == \"high\"]\n",
    "unsel_df = df[df[\"Metadata_genotype\"] == \"unsel\"]\n",
    "wt_df = df[df[\"Metadata_genotype\"] == \"wt\"]\n",
    "levene_test_results = {\"feature\": [], \"levene_statistic\": [], \"levene_p_value\": []}\n",
    "for feature in tqdm.tqdm(features_df.columns):\n",
    "    # calculate the levene test for each feature\n",
    "    levene_results = levene(wt_df[feature], unsel_df[feature], high_df[feature])\n",
    "    levene_test_results[\"feature\"].append(feature)\n",
    "    levene_test_results[\"levene_statistic\"].append(levene_results.statistic)\n",
    "    levene_test_results[\"levene_p_value\"].append(levene_results.pvalue)\n",
    "\n",
    "levene_test_results_df = pd.DataFrame(levene_test_results)\n",
    "levene_test_results_df"
   ]
  },
  {
   "cell_type": "markdown",
   "id": "942ff9a8",
   "metadata": {
    "papermill": {
     "duration": 0.008091,
     "end_time": "2024-05-10T15:50:09.244716",
     "exception": false,
     "start_time": "2024-05-10T15:50:09.236625",
     "status": "completed"
    },
    "tags": []
   },
   "source": [
    "## Calculate the levenes test statistic for the equality of variances"
   ]
  },
  {
   "cell_type": "code",
   "execution_count": 8,
   "id": "4144866b",
   "metadata": {
    "execution": {
     "iopub.execute_input": "2024-05-10T15:50:09.261511Z",
     "iopub.status.busy": "2024-05-10T15:50:09.261189Z",
     "iopub.status.idle": "2024-05-10T15:50:09.450756Z",
     "shell.execute_reply": "2024-05-10T15:50:09.450461Z"
    },
    "papermill": {
     "duration": 0.198816,
     "end_time": "2024-05-10T15:50:09.451592",
     "exception": false,
     "start_time": "2024-05-10T15:50:09.252776",
     "status": "completed"
    },
    "tags": []
   },
   "outputs": [
    {
     "name": "stderr",
     "output_type": "stream",
     "text": [
      "\r",
      "  0%|                                                                                           | 0/4 [00:00<?, ?it/s]"
     ]
    },
    {
     "name": "stderr",
     "output_type": "stream",
     "text": [
      "/home/lippincm/miniconda3/envs/op_cell_processing_env/lib/python3.8/site-packages/scipy/stats/_morestats.py:2710: RuntimeWarning: invalid value encountered in scalar divide\n",
      "  W = numer / denom\n"
     ]
    },
    {
     "name": "stderr",
     "output_type": "stream",
     "text": [
      "\r",
      " 75%|██████████████████████████████████████████████████████████████▎                    | 3/4 [00:00<00:00, 23.07it/s]"
     ]
    },
    {
     "name": "stderr",
     "output_type": "stream",
     "text": [
      "\r",
      "100%|███████████████████████████████████████████████████████████████████████████████████| 4/4 [00:00<00:00, 22.50it/s]"
     ]
    },
    {
     "name": "stderr",
     "output_type": "stream",
     "text": [
      "\n"
     ]
    },
    {
     "data": {
      "text/html": [
       "<div>\n",
       "<style scoped>\n",
       "    .dataframe tbody tr th:only-of-type {\n",
       "        vertical-align: middle;\n",
       "    }\n",
       "\n",
       "    .dataframe tbody tr th {\n",
       "        vertical-align: top;\n",
       "    }\n",
       "\n",
       "    .dataframe thead th {\n",
       "        text-align: right;\n",
       "    }\n",
       "</style>\n",
       "<table border=\"1\" class=\"dataframe\">\n",
       "  <thead>\n",
       "    <tr style=\"text-align: right;\">\n",
       "      <th></th>\n",
       "      <th>feature</th>\n",
       "      <th>levene_statistic</th>\n",
       "      <th>levene_p_value</th>\n",
       "      <th>group</th>\n",
       "    </tr>\n",
       "  </thead>\n",
       "  <tbody>\n",
       "    <tr>\n",
       "      <th>427</th>\n",
       "      <td>RadialDistribution_ZernikePhase_OP_8_2</td>\n",
       "      <td>0.000092</td>\n",
       "      <td>9.923639e-01</td>\n",
       "      <td>high_vs_wt</td>\n",
       "    </tr>\n",
       "    <tr>\n",
       "      <th>439</th>\n",
       "      <td>Texture_AngularSecondMoment_OP_3_03_256</td>\n",
       "      <td>0.000620</td>\n",
       "      <td>9.801938e-01</td>\n",
       "      <td>high_vs_wt</td>\n",
       "    </tr>\n",
       "    <tr>\n",
       "      <th>148</th>\n",
       "      <td>RadialDistribution_ZernikeMagnitude_OP_6_4</td>\n",
       "      <td>0.000650</td>\n",
       "      <td>9.797298e-01</td>\n",
       "      <td>high_vs_unsel</td>\n",
       "    </tr>\n",
       "    <tr>\n",
       "      <th>142</th>\n",
       "      <td>RadialDistribution_ZernikeMagnitude_OP_4_4</td>\n",
       "      <td>0.000754</td>\n",
       "      <td>9.781598e-01</td>\n",
       "      <td>high_vs_unsel</td>\n",
       "    </tr>\n",
       "    <tr>\n",
       "      <th>557</th>\n",
       "      <td>AreaShape_Zernike_1_1</td>\n",
       "      <td>0.000796</td>\n",
       "      <td>9.775457e-01</td>\n",
       "      <td>unsel_vs_wt</td>\n",
       "    </tr>\n",
       "    <tr>\n",
       "      <th>...</th>\n",
       "      <td>...</td>\n",
       "      <td>...</td>\n",
       "      <td>...</td>\n",
       "      <td>...</td>\n",
       "    </tr>\n",
       "    <tr>\n",
       "      <th>774</th>\n",
       "      <td>AreaShape_NormalizedMoment_1_1</td>\n",
       "      <td>30.471561</td>\n",
       "      <td>1.275815e-11</td>\n",
       "      <td>all</td>\n",
       "    </tr>\n",
       "    <tr>\n",
       "      <th>309</th>\n",
       "      <td>AreaShape_SpatialMoment_2_1</td>\n",
       "      <td>66.507212</td>\n",
       "      <td>3.441166e-12</td>\n",
       "      <td>high_vs_wt</td>\n",
       "    </tr>\n",
       "    <tr>\n",
       "      <th>286</th>\n",
       "      <td>AreaShape_NormalizedMoment_1_1</td>\n",
       "      <td>71.237345</td>\n",
       "      <td>9.347410e-13</td>\n",
       "      <td>high_vs_wt</td>\n",
       "    </tr>\n",
       "    <tr>\n",
       "      <th>308</th>\n",
       "      <td>AreaShape_SpatialMoment_2_0</td>\n",
       "      <td>87.834227</td>\n",
       "      <td>1.310754e-14</td>\n",
       "      <td>high_vs_wt</td>\n",
       "    </tr>\n",
       "    <tr>\n",
       "      <th>412</th>\n",
       "      <td>RadialDistribution_ZernikePhase_OP_4_0</td>\n",
       "      <td>NaN</td>\n",
       "      <td>NaN</td>\n",
       "      <td>high_vs_wt</td>\n",
       "    </tr>\n",
       "  </tbody>\n",
       "</table>\n",
       "<p>976 rows × 4 columns</p>\n",
       "</div>"
      ],
      "text/plain": [
       "                                        feature  levene_statistic  \\\n",
       "427      RadialDistribution_ZernikePhase_OP_8_2          0.000092   \n",
       "439     Texture_AngularSecondMoment_OP_3_03_256          0.000620   \n",
       "148  RadialDistribution_ZernikeMagnitude_OP_6_4          0.000650   \n",
       "142  RadialDistribution_ZernikeMagnitude_OP_4_4          0.000754   \n",
       "557                       AreaShape_Zernike_1_1          0.000796   \n",
       "..                                          ...               ...   \n",
       "774              AreaShape_NormalizedMoment_1_1         30.471561   \n",
       "309                 AreaShape_SpatialMoment_2_1         66.507212   \n",
       "286              AreaShape_NormalizedMoment_1_1         71.237345   \n",
       "308                 AreaShape_SpatialMoment_2_0         87.834227   \n",
       "412      RadialDistribution_ZernikePhase_OP_4_0               NaN   \n",
       "\n",
       "     levene_p_value          group  \n",
       "427    9.923639e-01     high_vs_wt  \n",
       "439    9.801938e-01     high_vs_wt  \n",
       "148    9.797298e-01  high_vs_unsel  \n",
       "142    9.781598e-01  high_vs_unsel  \n",
       "557    9.775457e-01    unsel_vs_wt  \n",
       "..              ...            ...  \n",
       "774    1.275815e-11            all  \n",
       "309    3.441166e-12     high_vs_wt  \n",
       "286    9.347410e-13     high_vs_wt  \n",
       "308    1.310754e-14     high_vs_wt  \n",
       "412             NaN     high_vs_wt  \n",
       "\n",
       "[976 rows x 4 columns]"
      ]
     },
     "execution_count": 8,
     "metadata": {},
     "output_type": "execute_result"
    }
   ],
   "source": [
    "# split the df into three genotypes\n",
    "high_df = df[df[\"Metadata_genotype\"] == \"high\"]\n",
    "unsel_df = df[df[\"Metadata_genotype\"] == \"unsel\"]\n",
    "wt_df = df[df[\"Metadata_genotype\"] == \"wt\"]\n",
    "group_dict = {\n",
    "    \"high_vs_unsel\": [high_df, unsel_df],\n",
    "    \"high_vs_wt\": [high_df, wt_df],\n",
    "    \"unsel_vs_wt\": [wt_df, unsel_df],\n",
    "    \"all\": [high_df, unsel_df, wt_df],\n",
    "}\n",
    "\n",
    "\n",
    "levene_test_results = {\n",
    "    \"feature\": [],\n",
    "    \"levene_statistic\": [],\n",
    "    \"levene_p_value\": [],\n",
    "    \"group\": [],\n",
    "}\n",
    "for group in tqdm.tqdm(group_dict.keys()):\n",
    "    for feature in features_df.columns:\n",
    "        # calculate the levene test for each feature\n",
    "        if not group == \"all\":\n",
    "            levene_results = levene(\n",
    "                group_dict[group][0][feature], group_dict[group][1][feature]\n",
    "            )\n",
    "            levene_test_results[\"feature\"].append(feature)\n",
    "            levene_test_results[\"levene_statistic\"].append(levene_results.statistic)\n",
    "            levene_test_results[\"levene_p_value\"].append(levene_results.pvalue)\n",
    "            levene_test_results[\"group\"].append(group)\n",
    "        else:\n",
    "            levene_results = levene(\n",
    "                group_dict[group][0][feature],\n",
    "                group_dict[group][1][feature],\n",
    "                group_dict[group][2][feature],\n",
    "            )\n",
    "            levene_test_results[\"feature\"].append(feature)\n",
    "            levene_test_results[\"levene_statistic\"].append(levene_results.statistic)\n",
    "            levene_test_results[\"levene_p_value\"].append(levene_results.pvalue)\n",
    "            levene_test_results[\"group\"].append(group)\n",
    "\n",
    "levene_test_results_df = pd.DataFrame(levene_test_results)\n",
    "\n",
    "# sort the levene test results levene_test_results_df\n",
    "# change the levene p-value to a float\n",
    "levene_test_results_df[\"levene_p_value\"] = levene_test_results_df[\n",
    "    \"levene_p_value\"\n",
    "].astype(float)\n",
    "levene_test_results_df = levene_test_results_df.sort_values(\n",
    "    \"levene_p_value\", ascending=False\n",
    ")\n",
    "levene_test_results_df"
   ]
  },
  {
   "cell_type": "code",
   "execution_count": 9,
   "id": "d06cbc84",
   "metadata": {
    "execution": {
     "iopub.execute_input": "2024-05-10T15:50:09.472623Z",
     "iopub.status.busy": "2024-05-10T15:50:09.472370Z",
     "iopub.status.idle": "2024-05-10T15:50:09.480032Z",
     "shell.execute_reply": "2024-05-10T15:50:09.479748Z"
    },
    "papermill": {
     "duration": 0.017152,
     "end_time": "2024-05-10T15:50:09.480834",
     "exception": false,
     "start_time": "2024-05-10T15:50:09.463682",
     "status": "completed"
    },
    "tags": []
   },
   "outputs": [],
   "source": [
    "# save the levene test results\n",
    "# out dir\n",
    "out_dir = pathlib.Path(\"../../data/6.analysis_results/\")\n",
    "# create the dir if it does not exist\n",
    "out_dir.mkdir(parents=True, exist_ok=True)\n",
    "levene_test_results_path = pathlib.Path(\n",
    "    out_dir / \"non_aggregated_levene_test_results.csv\"\n",
    ")\n",
    "levene_test_results_df.to_csv(levene_test_results_path)"
   ]
  },
  {
   "cell_type": "markdown",
   "id": "386996ba",
   "metadata": {
    "papermill": {
     "duration": 0.008105,
     "end_time": "2024-05-10T15:50:09.497291",
     "exception": false,
     "start_time": "2024-05-10T15:50:09.489186",
     "status": "completed"
    },
    "tags": []
   },
   "source": [
    "### Calculate the levene test statistic for the aggregated data across feature types and genotypes"
   ]
  },
  {
   "cell_type": "code",
   "execution_count": 10,
   "id": "9523519c",
   "metadata": {
    "execution": {
     "iopub.execute_input": "2024-05-10T15:50:09.514542Z",
     "iopub.status.busy": "2024-05-10T15:50:09.514244Z",
     "iopub.status.idle": "2024-05-10T15:50:09.614666Z",
     "shell.execute_reply": "2024-05-10T15:50:09.614373Z"
    },
    "papermill": {
     "duration": 0.110024,
     "end_time": "2024-05-10T15:50:09.615470",
     "exception": false,
     "start_time": "2024-05-10T15:50:09.505446",
     "status": "completed"
    },
    "tags": []
   },
   "outputs": [
    {
     "data": {
      "text/html": [
       "<div>\n",
       "<style scoped>\n",
       "    .dataframe tbody tr th:only-of-type {\n",
       "        vertical-align: middle;\n",
       "    }\n",
       "\n",
       "    .dataframe tbody tr th {\n",
       "        vertical-align: top;\n",
       "    }\n",
       "\n",
       "    .dataframe thead th {\n",
       "        text-align: right;\n",
       "    }\n",
       "</style>\n",
       "<table border=\"1\" class=\"dataframe\">\n",
       "  <thead>\n",
       "    <tr style=\"text-align: right;\">\n",
       "      <th></th>\n",
       "      <th>Metadata_genotype</th>\n",
       "      <th>feature</th>\n",
       "      <th>value</th>\n",
       "      <th>feature_group</th>\n",
       "      <th>measurement</th>\n",
       "      <th>bone</th>\n",
       "      <th>parameter1</th>\n",
       "      <th>parameter2</th>\n",
       "      <th>parameter3</th>\n",
       "    </tr>\n",
       "  </thead>\n",
       "  <tbody>\n",
       "    <tr>\n",
       "      <th>0</th>\n",
       "      <td>High-Severity</td>\n",
       "      <td>AreaShape_Area</td>\n",
       "      <td>1.706234</td>\n",
       "      <td>AreaShape</td>\n",
       "      <td>Area</td>\n",
       "      <td>None</td>\n",
       "      <td>None</td>\n",
       "      <td>None</td>\n",
       "      <td>None</td>\n",
       "    </tr>\n",
       "    <tr>\n",
       "      <th>1</th>\n",
       "      <td>High-Severity</td>\n",
       "      <td>AreaShape_Area</td>\n",
       "      <td>0.771674</td>\n",
       "      <td>AreaShape</td>\n",
       "      <td>Area</td>\n",
       "      <td>None</td>\n",
       "      <td>None</td>\n",
       "      <td>None</td>\n",
       "      <td>None</td>\n",
       "    </tr>\n",
       "    <tr>\n",
       "      <th>2</th>\n",
       "      <td>High-Severity</td>\n",
       "      <td>AreaShape_Area</td>\n",
       "      <td>2.180858</td>\n",
       "      <td>AreaShape</td>\n",
       "      <td>Area</td>\n",
       "      <td>None</td>\n",
       "      <td>None</td>\n",
       "      <td>None</td>\n",
       "      <td>None</td>\n",
       "    </tr>\n",
       "    <tr>\n",
       "      <th>3</th>\n",
       "      <td>High-Severity</td>\n",
       "      <td>AreaShape_Area</td>\n",
       "      <td>2.081557</td>\n",
       "      <td>AreaShape</td>\n",
       "      <td>Area</td>\n",
       "      <td>None</td>\n",
       "      <td>None</td>\n",
       "      <td>None</td>\n",
       "      <td>None</td>\n",
       "    </tr>\n",
       "    <tr>\n",
       "      <th>4</th>\n",
       "      <td>High-Severity</td>\n",
       "      <td>AreaShape_Area</td>\n",
       "      <td>0.659368</td>\n",
       "      <td>AreaShape</td>\n",
       "      <td>Area</td>\n",
       "      <td>None</td>\n",
       "      <td>None</td>\n",
       "      <td>None</td>\n",
       "      <td>None</td>\n",
       "    </tr>\n",
       "  </tbody>\n",
       "</table>\n",
       "</div>"
      ],
      "text/plain": [
       "  Metadata_genotype         feature     value feature_group measurement  bone  \\\n",
       "0     High-Severity  AreaShape_Area  1.706234     AreaShape        Area  None   \n",
       "1     High-Severity  AreaShape_Area  0.771674     AreaShape        Area  None   \n",
       "2     High-Severity  AreaShape_Area  2.180858     AreaShape        Area  None   \n",
       "3     High-Severity  AreaShape_Area  2.081557     AreaShape        Area  None   \n",
       "4     High-Severity  AreaShape_Area  0.659368     AreaShape        Area  None   \n",
       "\n",
       "  parameter1 parameter2 parameter3  \n",
       "0       None       None       None  \n",
       "1       None       None       None  \n",
       "2       None       None       None  \n",
       "3       None       None       None  \n",
       "4       None       None       None  "
      ]
     },
     "execution_count": 10,
     "metadata": {},
     "output_type": "execute_result"
    }
   ],
   "source": [
    "data_path = pathlib.Path(\n",
    "    \"../../data/5.converted_data/non_aggregated_data.parquet\"\n",
    ").resolve(strict=True)\n",
    "# Read the data\n",
    "data = pd.read_parquet(data_path)\n",
    "\n",
    "# Drop all metadata except for the genotype data\n",
    "features_df = data.drop(columns=data.filter(like=\"Metadata\").columns)\n",
    "features_df[\"Metadata_genotype\"] = data[\"Metadata_genotype\"]\n",
    "\n",
    "\n",
    "# turn the features into a long format\n",
    "features_long_df = features_df.melt(\n",
    "    id_vars=\"Metadata_genotype\", var_name=\"feature\", value_name=\"value\"\n",
    ")\n",
    "features_long_df.head()\n",
    "# Separate the feature into different parts\n",
    "features_long_df[\n",
    "    [\"feature_group\", \"measurement\", \"bone\", \"parameter1\", \"parameter2\", \"parameter3\"]\n",
    "] = features_long_df[\"feature\"].str.split(\"_\", expand=True)\n",
    "\n",
    "# Replace the Metadata_genotype with the actual genotype name\n",
    "features_long_df[\"Metadata_genotype\"] = features_long_df[\"Metadata_genotype\"].replace(\n",
    "    {\"high\": \"High-Severity\", \"unsel\": \"Mid-Severity\", \"wt\": \"Wild Type\"}\n",
    ")\n",
    "features_long_df.head()"
   ]
  },
  {
   "cell_type": "code",
   "execution_count": 11,
   "id": "511be48d",
   "metadata": {
    "execution": {
     "iopub.execute_input": "2024-05-10T15:50:09.633399Z",
     "iopub.status.busy": "2024-05-10T15:50:09.633245Z",
     "iopub.status.idle": "2024-05-10T15:50:09.665765Z",
     "shell.execute_reply": "2024-05-10T15:50:09.665467Z"
    },
    "papermill": {
     "duration": 0.042232,
     "end_time": "2024-05-10T15:50:09.666508",
     "exception": false,
     "start_time": "2024-05-10T15:50:09.624276",
     "status": "completed"
    },
    "tags": []
   },
   "outputs": [
    {
     "name": "stderr",
     "output_type": "stream",
     "text": [
      "\r",
      "  0%|                                                                                           | 0/5 [00:00<?, ?it/s]"
     ]
    },
    {
     "name": "stderr",
     "output_type": "stream",
     "text": [
      "\r",
      "100%|█████████████████████████████████████████████████████████████████████████████████| 5/5 [00:00<00:00, 1381.52it/s]"
     ]
    },
    {
     "name": "stderr",
     "output_type": "stream",
     "text": [
      "\n"
     ]
    },
    {
     "data": {
      "text/html": [
       "<div>\n",
       "<style scoped>\n",
       "    .dataframe tbody tr th:only-of-type {\n",
       "        vertical-align: middle;\n",
       "    }\n",
       "\n",
       "    .dataframe tbody tr th {\n",
       "        vertical-align: top;\n",
       "    }\n",
       "\n",
       "    .dataframe thead th {\n",
       "        text-align: right;\n",
       "    }\n",
       "</style>\n",
       "<table border=\"1\" class=\"dataframe\">\n",
       "  <thead>\n",
       "    <tr style=\"text-align: right;\">\n",
       "      <th></th>\n",
       "      <th>feature_group</th>\n",
       "      <th>levene_statistic</th>\n",
       "      <th>levene_p_value</th>\n",
       "      <th>group</th>\n",
       "    </tr>\n",
       "  </thead>\n",
       "  <tbody>\n",
       "    <tr>\n",
       "      <th>0</th>\n",
       "      <td>AreaShape</td>\n",
       "      <td>108.507387</td>\n",
       "      <td>3.039438e-25</td>\n",
       "      <td>high_area_v_unsel_area</td>\n",
       "    </tr>\n",
       "    <tr>\n",
       "      <th>1</th>\n",
       "      <td>AreaShape</td>\n",
       "      <td>244.222294</td>\n",
       "      <td>2.831748e-54</td>\n",
       "      <td>high_area_v_wt_area</td>\n",
       "    </tr>\n",
       "    <tr>\n",
       "      <th>2</th>\n",
       "      <td>AreaShape</td>\n",
       "      <td>22.287274</td>\n",
       "      <td>2.377704e-06</td>\n",
       "      <td>unsel_area_v_wt_area</td>\n",
       "    </tr>\n",
       "    <tr>\n",
       "      <th>3</th>\n",
       "      <td>Intensity</td>\n",
       "      <td>39.619909</td>\n",
       "      <td>4.319952e-10</td>\n",
       "      <td>high_intensity_v_unsel_intensity</td>\n",
       "    </tr>\n",
       "    <tr>\n",
       "      <th>4</th>\n",
       "      <td>Intensity</td>\n",
       "      <td>6.634521</td>\n",
       "      <td>1.011541e-02</td>\n",
       "      <td>high_intensity_v_wt_intensity</td>\n",
       "    </tr>\n",
       "  </tbody>\n",
       "</table>\n",
       "</div>"
      ],
      "text/plain": [
       "  feature_group  levene_statistic  levene_p_value  \\\n",
       "0     AreaShape        108.507387    3.039438e-25   \n",
       "1     AreaShape        244.222294    2.831748e-54   \n",
       "2     AreaShape         22.287274    2.377704e-06   \n",
       "3     Intensity         39.619909    4.319952e-10   \n",
       "4     Intensity          6.634521    1.011541e-02   \n",
       "\n",
       "                              group  \n",
       "0            high_area_v_unsel_area  \n",
       "1               high_area_v_wt_area  \n",
       "2              unsel_area_v_wt_area  \n",
       "3  high_intensity_v_unsel_intensity  \n",
       "4     high_intensity_v_wt_intensity  "
      ]
     },
     "execution_count": 11,
     "metadata": {},
     "output_type": "execute_result"
    }
   ],
   "source": [
    "# break each genotype and featuretype into a separate dataframe\n",
    "high_df = features_long_df[features_long_df[\"Metadata_genotype\"] == \"High-Severity\"]\n",
    "unsel_df = features_long_df[features_long_df[\"Metadata_genotype\"] == \"Mid-Severity\"]\n",
    "wt_df = features_long_df[features_long_df[\"Metadata_genotype\"] == \"Wild Type\"]\n",
    "\n",
    "# each feature group\n",
    "high_df_AreaShape = high_df[high_df[\"feature_group\"] == \"AreaShape\"]\n",
    "high_df_Intensity = high_df[high_df[\"feature_group\"] == \"Intensity\"]\n",
    "high_df_Neighbors = high_df[high_df[\"feature_group\"] == \"Neighbors\"]\n",
    "high_df_radial = high_df[high_df[\"feature_group\"] == \"RadialDistribution\"]\n",
    "high_df_Granularity = high_df[high_df[\"feature_group\"] == \"Granularity\"]\n",
    "\n",
    "unsel_df_AreaShape = unsel_df[unsel_df[\"feature_group\"] == \"AreaShape\"]\n",
    "unsel_df_Intensity = unsel_df[unsel_df[\"feature_group\"] == \"Intensity\"]\n",
    "unsel_df_Neighbors = unsel_df[unsel_df[\"feature_group\"] == \"Neighbors\"]\n",
    "unsel_df_radial = unsel_df[unsel_df[\"feature_group\"] == \"RadialDistribution\"]\n",
    "unsel_df_Granularity = unsel_df[unsel_df[\"feature_group\"] == \"Granularity\"]\n",
    "\n",
    "wt_df_AreaShape = wt_df[wt_df[\"feature_group\"] == \"AreaShape\"]\n",
    "wt_df_Intensity = wt_df[wt_df[\"feature_group\"] == \"Intensity\"]\n",
    "wt_df_Neighbors = wt_df[wt_df[\"feature_group\"] == \"Neighbors\"]\n",
    "wt_df_radial = wt_df[wt_df[\"feature_group\"] == \"RadialDistribution\"]\n",
    "wt_df_Granularity = wt_df[wt_df[\"feature_group\"] == \"Granularity\"]\n",
    "\n",
    "# levene test for each feature group\n",
    "levene_test_results = {\n",
    "    \"feature_group\": [],\n",
    "    \"levene_statistic\": [],\n",
    "    \"levene_p_value\": [],\n",
    "    \"group\": [],\n",
    "}\n",
    "\n",
    "group_dict = {\n",
    "    \"AreaShape\": {\n",
    "        \"high_area_v_unsel_area\": [high_df_AreaShape, unsel_df_AreaShape],\n",
    "        \"high_area_v_wt_area\": [high_df_AreaShape, wt_df_AreaShape],\n",
    "        \"unsel_area_v_wt_area\": [wt_df_AreaShape, unsel_df_AreaShape],\n",
    "    },\n",
    "    \"Intensity\": {\n",
    "        \"high_intensity_v_unsel_intensity\": [high_df_Intensity, unsel_df_Intensity],\n",
    "        \"high_intensity_v_wt_intensity\": [high_df_Intensity, wt_df_Intensity],\n",
    "        \"unsel_intensity_v_wt_intensity\": [wt_df_Intensity, unsel_df_Intensity],\n",
    "    },\n",
    "    \"Neighbors\": {\n",
    "        \"high_neighbors_v_unsel_neighbors\": [high_df_Neighbors, unsel_df_Neighbors],\n",
    "        \"high_neighbors_v_wt_neighbors\": [high_df_Neighbors, wt_df_Neighbors],\n",
    "        \"unsel_neighbors_v_wt_neighbors\": [wt_df_Neighbors, unsel_df_Neighbors],\n",
    "    },\n",
    "    \"RadialDistribution\": {\n",
    "        \"high_radial_v_unsel_radial\": [high_df_radial, unsel_df_radial],\n",
    "        \"high_radial_v_wt_radial\": [high_df_radial, wt_df_radial],\n",
    "        \"unsel_radial_v_wt_radial\": [wt_df_radial, unsel_df_radial],\n",
    "    },\n",
    "    \"Granularity\": {\n",
    "        \"high_granularity_v_unsel_granularity\": [\n",
    "            high_df_Granularity,\n",
    "            unsel_df_Granularity,\n",
    "        ],\n",
    "        \"high_granularity_v_wt_granularity\": [high_df_Granularity, wt_df_Granularity],\n",
    "        \"unsel_granularity_v_wt_granularity\": [wt_df_Granularity, unsel_df_Granularity],\n",
    "    },\n",
    "}\n",
    "\n",
    "for feature_group in tqdm.tqdm(group_dict.keys()):\n",
    "    for group in group_dict[feature_group].keys():\n",
    "        if not group == \"all\":\n",
    "            levene_results = levene(\n",
    "                group_dict[feature_group][group][0][\"value\"],\n",
    "                group_dict[feature_group][group][1][\"value\"],\n",
    "            )\n",
    "            # calculate the variance for each feature group\n",
    "\n",
    "            levene_test_results[\"feature_group\"].append(feature_group)\n",
    "            levene_test_results[\"levene_statistic\"].append(levene_results.statistic)\n",
    "            levene_test_results[\"levene_p_value\"].append(levene_results.pvalue)\n",
    "            levene_test_results[\"group\"].append(group)\n",
    "        else:\n",
    "            pass\n",
    "\n",
    "levene_test_results_df = pd.DataFrame(levene_test_results)\n",
    "levene_test_results_df.head()"
   ]
  },
  {
   "cell_type": "code",
   "execution_count": 12,
   "id": "38da113e",
   "metadata": {
    "execution": {
     "iopub.execute_input": "2024-05-10T15:50:09.684563Z",
     "iopub.status.busy": "2024-05-10T15:50:09.684378Z",
     "iopub.status.idle": "2024-05-10T15:50:09.687291Z",
     "shell.execute_reply": "2024-05-10T15:50:09.687010Z"
    },
    "papermill": {
     "duration": 0.012524,
     "end_time": "2024-05-10T15:50:09.687974",
     "exception": false,
     "start_time": "2024-05-10T15:50:09.675450",
     "status": "completed"
    },
    "tags": []
   },
   "outputs": [],
   "source": [
    "# save the levene test results\n",
    "# out dir\n",
    "out_dir = pathlib.Path(\"../../data/6.analysis_results/\")\n",
    "# create the dir if it does not exist\n",
    "out_dir.mkdir(parents=True, exist_ok=True)\n",
    "levene_test_results_path = pathlib.Path(\n",
    "    out_dir / \"non_aggregated_levene_test_results_feature_types.csv\"\n",
    ")\n",
    "levene_test_results_df.to_csv(levene_test_results_path, index=False)"
   ]
  },
  {
   "cell_type": "code",
   "execution_count": 13,
   "id": "765c7701",
   "metadata": {
    "execution": {
     "iopub.execute_input": "2024-05-10T15:50:09.705773Z",
     "iopub.status.busy": "2024-05-10T15:50:09.705529Z",
     "iopub.status.idle": "2024-05-10T15:50:09.718830Z",
     "shell.execute_reply": "2024-05-10T15:50:09.718571Z"
    },
    "papermill": {
     "duration": 0.022956,
     "end_time": "2024-05-10T15:50:09.719535",
     "exception": false,
     "start_time": "2024-05-10T15:50:09.696579",
     "status": "completed"
    },
    "tags": []
   },
   "outputs": [
    {
     "data": {
      "text/html": [
       "<div>\n",
       "<style scoped>\n",
       "    .dataframe tbody tr th:only-of-type {\n",
       "        vertical-align: middle;\n",
       "    }\n",
       "\n",
       "    .dataframe tbody tr th {\n",
       "        vertical-align: top;\n",
       "    }\n",
       "\n",
       "    .dataframe thead th {\n",
       "        text-align: right;\n",
       "    }\n",
       "</style>\n",
       "<table border=\"1\" class=\"dataframe\">\n",
       "  <thead>\n",
       "    <tr style=\"text-align: right;\">\n",
       "      <th></th>\n",
       "      <th>Metadata_genotype</th>\n",
       "      <th>feature</th>\n",
       "      <th>value</th>\n",
       "    </tr>\n",
       "  </thead>\n",
       "  <tbody>\n",
       "    <tr>\n",
       "      <th>0</th>\n",
       "      <td>high</td>\n",
       "      <td>AreaShape_Area</td>\n",
       "      <td>1.706234</td>\n",
       "    </tr>\n",
       "    <tr>\n",
       "      <th>1</th>\n",
       "      <td>high</td>\n",
       "      <td>AreaShape_Area</td>\n",
       "      <td>0.771674</td>\n",
       "    </tr>\n",
       "    <tr>\n",
       "      <th>2</th>\n",
       "      <td>high</td>\n",
       "      <td>AreaShape_Area</td>\n",
       "      <td>2.180858</td>\n",
       "    </tr>\n",
       "    <tr>\n",
       "      <th>3</th>\n",
       "      <td>high</td>\n",
       "      <td>AreaShape_Area</td>\n",
       "      <td>2.081557</td>\n",
       "    </tr>\n",
       "    <tr>\n",
       "      <th>4</th>\n",
       "      <td>high</td>\n",
       "      <td>AreaShape_Area</td>\n",
       "      <td>0.659368</td>\n",
       "    </tr>\n",
       "    <tr>\n",
       "      <th>...</th>\n",
       "      <td>...</td>\n",
       "      <td>...</td>\n",
       "      <td>...</td>\n",
       "    </tr>\n",
       "    <tr>\n",
       "      <th>33179</th>\n",
       "      <td>wt</td>\n",
       "      <td>Texture_Variance_OP_3_03_256</td>\n",
       "      <td>1.040963</td>\n",
       "    </tr>\n",
       "    <tr>\n",
       "      <th>33180</th>\n",
       "      <td>wt</td>\n",
       "      <td>Texture_Variance_OP_3_03_256</td>\n",
       "      <td>-1.052029</td>\n",
       "    </tr>\n",
       "    <tr>\n",
       "      <th>33181</th>\n",
       "      <td>wt</td>\n",
       "      <td>Texture_Variance_OP_3_03_256</td>\n",
       "      <td>-0.983364</td>\n",
       "    </tr>\n",
       "    <tr>\n",
       "      <th>33182</th>\n",
       "      <td>wt</td>\n",
       "      <td>Texture_Variance_OP_3_03_256</td>\n",
       "      <td>-0.950883</td>\n",
       "    </tr>\n",
       "    <tr>\n",
       "      <th>33183</th>\n",
       "      <td>wt</td>\n",
       "      <td>Texture_Variance_OP_3_03_256</td>\n",
       "      <td>-0.748916</td>\n",
       "    </tr>\n",
       "  </tbody>\n",
       "</table>\n",
       "<p>33184 rows × 3 columns</p>\n",
       "</div>"
      ],
      "text/plain": [
       "      Metadata_genotype                       feature     value\n",
       "0                  high                AreaShape_Area  1.706234\n",
       "1                  high                AreaShape_Area  0.771674\n",
       "2                  high                AreaShape_Area  2.180858\n",
       "3                  high                AreaShape_Area  2.081557\n",
       "4                  high                AreaShape_Area  0.659368\n",
       "...                 ...                           ...       ...\n",
       "33179                wt  Texture_Variance_OP_3_03_256  1.040963\n",
       "33180                wt  Texture_Variance_OP_3_03_256 -1.052029\n",
       "33181                wt  Texture_Variance_OP_3_03_256 -0.983364\n",
       "33182                wt  Texture_Variance_OP_3_03_256 -0.950883\n",
       "33183                wt  Texture_Variance_OP_3_03_256 -0.748916\n",
       "\n",
       "[33184 rows x 3 columns]"
      ]
     },
     "execution_count": 13,
     "metadata": {},
     "output_type": "execute_result"
    }
   ],
   "source": [
    "# Drop all metadata except for the genotype data\n",
    "features_df = data.drop(columns=data.filter(like=\"Metadata\").columns)\n",
    "features_df[\"Metadata_genotype\"] = data[\"Metadata_genotype\"]\n",
    "\n",
    "# turn the features into a long format\n",
    "features_long_df = features_df.melt(\n",
    "    id_vars=\"Metadata_genotype\", var_name=\"feature\", value_name=\"value\"\n",
    ")\n",
    "features_long_df"
   ]
  },
  {
   "cell_type": "code",
   "execution_count": 14,
   "id": "5a66a687",
   "metadata": {
    "execution": {
     "iopub.execute_input": "2024-05-10T15:50:09.737555Z",
     "iopub.status.busy": "2024-05-10T15:50:09.737315Z",
     "iopub.status.idle": "2024-05-10T15:50:09.743499Z",
     "shell.execute_reply": "2024-05-10T15:50:09.743223Z"
    },
    "papermill": {
     "duration": 0.015928,
     "end_time": "2024-05-10T15:50:09.744269",
     "exception": false,
     "start_time": "2024-05-10T15:50:09.728341",
     "status": "completed"
    },
    "tags": []
   },
   "outputs": [],
   "source": [
    "# get the variance for each feature group\n",
    "var_df = features_long_df.groupby([\"Metadata_genotype\", \"feature\"]).var().reset_index()\n",
    "var_df.head()\n",
    "# change the value column name to variance\n",
    "var_df.rename(columns={\"value\": \"variance\"}, inplace=True)"
   ]
  },
  {
   "cell_type": "code",
   "execution_count": 15,
   "id": "cb8cda14",
   "metadata": {
    "execution": {
     "iopub.execute_input": "2024-05-10T15:50:09.762410Z",
     "iopub.status.busy": "2024-05-10T15:50:09.762176Z",
     "iopub.status.idle": "2024-05-10T15:50:09.768538Z",
     "shell.execute_reply": "2024-05-10T15:50:09.768272Z"
    },
    "papermill": {
     "duration": 0.01642,
     "end_time": "2024-05-10T15:50:09.769326",
     "exception": false,
     "start_time": "2024-05-10T15:50:09.752906",
     "status": "completed"
    },
    "tags": []
   },
   "outputs": [],
   "source": [
    "var_df[\n",
    "    [\"feature_group\", \"measurement\", \"bone\", \"parameter1\", \"parameter2\", \"parameter3\"]\n",
    "] = var_df[\"feature\"].str.split(\"_\", expand=True)\n",
    "\n",
    "\n",
    "# Replace the Metadata_genotype with the actual genotype name\n",
    "var_df[\"Metadata_genotype\"] = var_df[\"Metadata_genotype\"].replace(\n",
    "    {\"high\": \"High-Severity\", \"unsel\": \"Mid-Severity\", \"wt\": \"Wild Type\"}\n",
    ")\n",
    "var_df\n",
    "var_df = var_df.drop(\n",
    "    columns=[\"feature\", \"measurement\", \"bone\", \"parameter1\", \"parameter2\", \"parameter3\"]\n",
    ")\n",
    "var_df\n",
    "# save the variance results\n",
    "var_path = pathlib.Path(out_dir / \"non_aggregated_variance_results_feature_types.csv\")\n",
    "var_df.to_csv(var_path, index=False)"
   ]
  },
  {
   "cell_type": "code",
   "execution_count": 16,
   "id": "4022ee0a",
   "metadata": {
    "execution": {
     "iopub.execute_input": "2024-05-10T15:50:09.787449Z",
     "iopub.status.busy": "2024-05-10T15:50:09.787212Z",
     "iopub.status.idle": "2024-05-10T15:50:09.796143Z",
     "shell.execute_reply": "2024-05-10T15:50:09.795888Z"
    },
    "papermill": {
     "duration": 0.018708,
     "end_time": "2024-05-10T15:50:09.796833",
     "exception": false,
     "start_time": "2024-05-10T15:50:09.778125",
     "status": "completed"
    },
    "tags": []
   },
   "outputs": [
    {
     "data": {
      "text/html": [
       "<div>\n",
       "<style scoped>\n",
       "    .dataframe tbody tr th:only-of-type {\n",
       "        vertical-align: middle;\n",
       "    }\n",
       "\n",
       "    .dataframe tbody tr th {\n",
       "        vertical-align: top;\n",
       "    }\n",
       "\n",
       "    .dataframe thead th {\n",
       "        text-align: right;\n",
       "    }\n",
       "</style>\n",
       "<table border=\"1\" class=\"dataframe\">\n",
       "  <thead>\n",
       "    <tr style=\"text-align: right;\">\n",
       "      <th></th>\n",
       "      <th>Metadata_genotype</th>\n",
       "      <th>feature_group</th>\n",
       "      <th>variance_mean</th>\n",
       "      <th>variance_std</th>\n",
       "      <th>variance_max</th>\n",
       "      <th>variance_min</th>\n",
       "      <th>variance_count</th>\n",
       "    </tr>\n",
       "  </thead>\n",
       "  <tbody>\n",
       "    <tr>\n",
       "      <th>0</th>\n",
       "      <td>High-Severity</td>\n",
       "      <td>AreaShape</td>\n",
       "      <td>0.774588</td>\n",
       "      <td>0.669970</td>\n",
       "      <td>3.855982</td>\n",
       "      <td>0.000005</td>\n",
       "      <td>98</td>\n",
       "    </tr>\n",
       "    <tr>\n",
       "      <th>1</th>\n",
       "      <td>High-Severity</td>\n",
       "      <td>Granularity</td>\n",
       "      <td>0.278190</td>\n",
       "      <td>0.357954</td>\n",
       "      <td>0.981199</td>\n",
       "      <td>0.015287</td>\n",
       "      <td>6</td>\n",
       "    </tr>\n",
       "    <tr>\n",
       "      <th>2</th>\n",
       "      <td>High-Severity</td>\n",
       "      <td>Intensity</td>\n",
       "      <td>0.529629</td>\n",
       "      <td>0.281565</td>\n",
       "      <td>1.157014</td>\n",
       "      <td>0.129043</td>\n",
       "      <td>15</td>\n",
       "    </tr>\n",
       "    <tr>\n",
       "      <th>3</th>\n",
       "      <td>High-Severity</td>\n",
       "      <td>Neighbors</td>\n",
       "      <td>0.730238</td>\n",
       "      <td>0.237898</td>\n",
       "      <td>0.953424</td>\n",
       "      <td>0.479949</td>\n",
       "      <td>3</td>\n",
       "    </tr>\n",
       "    <tr>\n",
       "      <th>4</th>\n",
       "      <td>High-Severity</td>\n",
       "      <td>RadialDistribution</td>\n",
       "      <td>0.670404</td>\n",
       "      <td>0.430295</td>\n",
       "      <td>1.751219</td>\n",
       "      <td>0.000000</td>\n",
       "      <td>70</td>\n",
       "    </tr>\n",
       "    <tr>\n",
       "      <th>5</th>\n",
       "      <td>High-Severity</td>\n",
       "      <td>Texture</td>\n",
       "      <td>0.300315</td>\n",
       "      <td>0.206077</td>\n",
       "      <td>0.719217</td>\n",
       "      <td>0.032302</td>\n",
       "      <td>52</td>\n",
       "    </tr>\n",
       "    <tr>\n",
       "      <th>6</th>\n",
       "      <td>Mid-Severity</td>\n",
       "      <td>AreaShape</td>\n",
       "      <td>0.960636</td>\n",
       "      <td>0.350526</td>\n",
       "      <td>2.220865</td>\n",
       "      <td>0.452028</td>\n",
       "      <td>98</td>\n",
       "    </tr>\n",
       "    <tr>\n",
       "      <th>7</th>\n",
       "      <td>Mid-Severity</td>\n",
       "      <td>Granularity</td>\n",
       "      <td>0.838221</td>\n",
       "      <td>0.216005</td>\n",
       "      <td>1.202125</td>\n",
       "      <td>0.543258</td>\n",
       "      <td>6</td>\n",
       "    </tr>\n",
       "    <tr>\n",
       "      <th>8</th>\n",
       "      <td>Mid-Severity</td>\n",
       "      <td>Intensity</td>\n",
       "      <td>0.441779</td>\n",
       "      <td>0.307768</td>\n",
       "      <td>0.984777</td>\n",
       "      <td>0.083974</td>\n",
       "      <td>15</td>\n",
       "    </tr>\n",
       "    <tr>\n",
       "      <th>9</th>\n",
       "      <td>Mid-Severity</td>\n",
       "      <td>Neighbors</td>\n",
       "      <td>1.301735</td>\n",
       "      <td>0.500267</td>\n",
       "      <td>1.637217</td>\n",
       "      <td>0.726740</td>\n",
       "      <td>3</td>\n",
       "    </tr>\n",
       "    <tr>\n",
       "      <th>10</th>\n",
       "      <td>Mid-Severity</td>\n",
       "      <td>RadialDistribution</td>\n",
       "      <td>0.865242</td>\n",
       "      <td>0.416856</td>\n",
       "      <td>2.397436</td>\n",
       "      <td>0.189209</td>\n",
       "      <td>70</td>\n",
       "    </tr>\n",
       "    <tr>\n",
       "      <th>11</th>\n",
       "      <td>Mid-Severity</td>\n",
       "      <td>Texture</td>\n",
       "      <td>0.847538</td>\n",
       "      <td>0.406334</td>\n",
       "      <td>1.733323</td>\n",
       "      <td>0.035695</td>\n",
       "      <td>52</td>\n",
       "    </tr>\n",
       "    <tr>\n",
       "      <th>12</th>\n",
       "      <td>Wild Type</td>\n",
       "      <td>AreaShape</td>\n",
       "      <td>0.674448</td>\n",
       "      <td>0.493532</td>\n",
       "      <td>1.941196</td>\n",
       "      <td>0.020503</td>\n",
       "      <td>98</td>\n",
       "    </tr>\n",
       "    <tr>\n",
       "      <th>13</th>\n",
       "      <td>Wild Type</td>\n",
       "      <td>Granularity</td>\n",
       "      <td>1.235271</td>\n",
       "      <td>0.222102</td>\n",
       "      <td>1.519693</td>\n",
       "      <td>0.997120</td>\n",
       "      <td>6</td>\n",
       "    </tr>\n",
       "    <tr>\n",
       "      <th>14</th>\n",
       "      <td>Wild Type</td>\n",
       "      <td>Intensity</td>\n",
       "      <td>0.834672</td>\n",
       "      <td>0.329069</td>\n",
       "      <td>1.315662</td>\n",
       "      <td>0.389185</td>\n",
       "      <td>15</td>\n",
       "    </tr>\n",
       "    <tr>\n",
       "      <th>15</th>\n",
       "      <td>Wild Type</td>\n",
       "      <td>Neighbors</td>\n",
       "      <td>0.286329</td>\n",
       "      <td>0.160124</td>\n",
       "      <td>0.451563</td>\n",
       "      <td>0.131857</td>\n",
       "      <td>3</td>\n",
       "    </tr>\n",
       "    <tr>\n",
       "      <th>16</th>\n",
       "      <td>Wild Type</td>\n",
       "      <td>RadialDistribution</td>\n",
       "      <td>1.044417</td>\n",
       "      <td>0.314327</td>\n",
       "      <td>1.745394</td>\n",
       "      <td>0.000000</td>\n",
       "      <td>70</td>\n",
       "    </tr>\n",
       "    <tr>\n",
       "      <th>17</th>\n",
       "      <td>Wild Type</td>\n",
       "      <td>Texture</td>\n",
       "      <td>1.174045</td>\n",
       "      <td>0.359492</td>\n",
       "      <td>2.013684</td>\n",
       "      <td>0.549036</td>\n",
       "      <td>52</td>\n",
       "    </tr>\n",
       "  </tbody>\n",
       "</table>\n",
       "</div>"
      ],
      "text/plain": [
       "   Metadata_genotype       feature_group  variance_mean  variance_std  \\\n",
       "0      High-Severity           AreaShape       0.774588      0.669970   \n",
       "1      High-Severity         Granularity       0.278190      0.357954   \n",
       "2      High-Severity           Intensity       0.529629      0.281565   \n",
       "3      High-Severity           Neighbors       0.730238      0.237898   \n",
       "4      High-Severity  RadialDistribution       0.670404      0.430295   \n",
       "5      High-Severity             Texture       0.300315      0.206077   \n",
       "6       Mid-Severity           AreaShape       0.960636      0.350526   \n",
       "7       Mid-Severity         Granularity       0.838221      0.216005   \n",
       "8       Mid-Severity           Intensity       0.441779      0.307768   \n",
       "9       Mid-Severity           Neighbors       1.301735      0.500267   \n",
       "10      Mid-Severity  RadialDistribution       0.865242      0.416856   \n",
       "11      Mid-Severity             Texture       0.847538      0.406334   \n",
       "12         Wild Type           AreaShape       0.674448      0.493532   \n",
       "13         Wild Type         Granularity       1.235271      0.222102   \n",
       "14         Wild Type           Intensity       0.834672      0.329069   \n",
       "15         Wild Type           Neighbors       0.286329      0.160124   \n",
       "16         Wild Type  RadialDistribution       1.044417      0.314327   \n",
       "17         Wild Type             Texture       1.174045      0.359492   \n",
       "\n",
       "    variance_max  variance_min  variance_count  \n",
       "0       3.855982      0.000005              98  \n",
       "1       0.981199      0.015287               6  \n",
       "2       1.157014      0.129043              15  \n",
       "3       0.953424      0.479949               3  \n",
       "4       1.751219      0.000000              70  \n",
       "5       0.719217      0.032302              52  \n",
       "6       2.220865      0.452028              98  \n",
       "7       1.202125      0.543258               6  \n",
       "8       0.984777      0.083974              15  \n",
       "9       1.637217      0.726740               3  \n",
       "10      2.397436      0.189209              70  \n",
       "11      1.733323      0.035695              52  \n",
       "12      1.941196      0.020503              98  \n",
       "13      1.519693      0.997120               6  \n",
       "14      1.315662      0.389185              15  \n",
       "15      0.451563      0.131857               3  \n",
       "16      1.745394      0.000000              70  \n",
       "17      2.013684      0.549036              52  "
      ]
     },
     "execution_count": 16,
     "metadata": {},
     "output_type": "execute_result"
    }
   ],
   "source": [
    "# get the mean and stdev for each feature group's variance\n",
    "var_df = (\n",
    "    var_df.groupby([\"Metadata_genotype\", \"feature_group\"])\n",
    "    .agg([\"mean\", \"std\", \"max\", \"min\", \"count\"])\n",
    "    .reset_index()\n",
    ")\n",
    "# ungroup the columns\n",
    "var_df.columns = [\"_\".join(col).strip() for col in var_df.columns.values]\n",
    "# rename the Metadata_genotype_ column and the feature_group_ column\n",
    "var_df.rename(\n",
    "    columns={\n",
    "        \"Metadata_genotype_\": \"Metadata_genotype\",\n",
    "        \"feature_group_\": \"feature_group\",\n",
    "    },\n",
    "    inplace=True,\n",
    ")\n",
    "var_df"
   ]
  },
  {
   "cell_type": "code",
   "execution_count": 17,
   "id": "a657b8a4",
   "metadata": {
    "execution": {
     "iopub.execute_input": "2024-05-10T15:50:09.815042Z",
     "iopub.status.busy": "2024-05-10T15:50:09.814816Z",
     "iopub.status.idle": "2024-05-10T15:50:09.817471Z",
     "shell.execute_reply": "2024-05-10T15:50:09.817182Z"
    },
    "papermill": {
     "duration": 0.012558,
     "end_time": "2024-05-10T15:50:09.818190",
     "exception": false,
     "start_time": "2024-05-10T15:50:09.805632",
     "status": "completed"
    },
    "tags": []
   },
   "outputs": [],
   "source": [
    "# save the variance results\n",
    "var_path = pathlib.Path(\n",
    "    out_dir / \"non_aggregated_variance_results_feature_types_stats.csv\"\n",
    ")\n",
    "var_df.to_csv(var_path, index=False)"
   ]
  }
 ],
 "metadata": {
  "kernelspec": {
   "display_name": "op_cell_processing_env",
   "language": "python",
   "name": "python3"
  },
  "language_info": {
   "codemirror_mode": {
    "name": "ipython",
    "version": 3
   },
   "file_extension": ".py",
   "mimetype": "text/x-python",
   "name": "python",
   "nbconvert_exporter": "python",
   "pygments_lexer": "ipython3",
   "version": "3.8.15"
  },
  "papermill": {
   "default_parameters": {},
   "duration": 28.796884,
   "end_time": "2024-05-10T15:50:10.141909",
   "environment_variables": {},
   "exception": null,
   "input_path": "3d.non_aggregated_anova.ipynb",
   "output_path": "3d.non_aggregated_anova.ipynb",
   "parameters": {},
   "start_time": "2024-05-10T15:49:41.345025",
   "version": "2.6.0"
  }
 },
 "nbformat": 4,
 "nbformat_minor": 5
}