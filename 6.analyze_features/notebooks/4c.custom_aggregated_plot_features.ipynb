{
    "cells": [
        {
            "cell_type": "code",
            "execution_count": 1,
            "id": "05e1ef0c",
            "metadata": {
                "execution": {
                    "iopub.execute_input": "2024-05-04T20:34:31.869611Z",
                    "iopub.status.busy": "2024-05-04T20:34:31.867076Z",
                    "iopub.status.idle": "2024-05-04T20:34:33.489307Z",
                    "shell.execute_reply": "2024-05-04T20:34:33.487876Z"
                },
                "papermill": {
                    "duration": 1.673514,
                    "end_time": "2024-05-04T20:34:33.490950",
                    "exception": false,
                    "start_time": "2024-05-04T20:34:31.817436",
                    "status": "completed"
                },
                "tags": [],
                "vscode": {
                    "languageId": "r"
                }
            },
            "outputs": [],
            "source": [
                "# load libraries\n",
                "suppressWarnings(suppressPackageStartupMessages(library(ggplot2)))\n",
                "suppressWarnings(suppressPackageStartupMessages(library(tidyr)))\n",
                "suppressWarnings(suppressPackageStartupMessages(library(tidyverse)))\n",
                "suppressWarnings(suppressPackageStartupMessages(library(dplyr)))\n",
                "suppressWarnings(suppressPackageStartupMessages(library(arrow)))\n",
                "suppressWarnings(suppressPackageStartupMessages(library(patchwork)))\n",
                "suppressWarnings(suppressPackageStartupMessages(library(ggsignif)))\n",
                "# import ggplot theme\n",
                "source(\"../../utils/figure_themes.r\")"
            ]
        },
        {
            "cell_type": "markdown",
            "id": "74de969a",
            "metadata": {
                "papermill": {
                    "duration": 0.003009,
                    "end_time": "2024-05-04T20:34:33.498008",
                    "exception": false,
                    "start_time": "2024-05-04T20:34:33.494999",
                    "status": "completed"
                },
                "tags": []
            },
            "source": [
                "### Plot the variance and the levene test for each feature type"
            ]
        },
        {
            "cell_type": "code",
            "execution_count": 2,
            "id": "31851e82",
            "metadata": {
                "execution": {
                    "iopub.execute_input": "2024-05-04T20:34:33.546167Z",
                    "iopub.status.busy": "2024-05-04T20:34:33.515912Z",
                    "iopub.status.idle": "2024-05-04T20:34:33.616961Z",
                    "shell.execute_reply": "2024-05-04T20:34:33.615774Z"
                },
                "papermill": {
                    "duration": 0.106697,
                    "end_time": "2024-05-04T20:34:33.618322",
                    "exception": false,
                    "start_time": "2024-05-04T20:34:33.511625",
                    "status": "completed"
                },
                "tags": [],
                "vscode": {
                    "languageId": "r"
                }
            },
            "outputs": [
                {
                    "data": {
                        "text/html": [
                            "<table class=\"dataframe\">\n",
                            "<caption>A data.frame: 6 \u00d7 4</caption>\n",
                            "<thead>\n",
                            "\t<tr><th></th><th scope=col>feature_group</th><th scope=col>levene_statistic</th><th scope=col>levene_p_value</th><th scope=col>group</th></tr>\n",
                            "\t<tr><th></th><th scope=col>&lt;chr&gt;</th><th scope=col>&lt;dbl&gt;</th><th scope=col>&lt;dbl&gt;</th><th scope=col>&lt;chr&gt;</th></tr>\n",
                            "</thead>\n",
                            "<tbody>\n",
                            "\t<tr><th scope=row>1</th><td>AreaShape</td><td>15.7716696</td><td>7.330314e-05</td><td>high_area_v_unsel_area          </td></tr>\n",
                            "\t<tr><th scope=row>2</th><td>AreaShape</td><td>26.1157656</td><td>3.436447e-07</td><td>high_area_v_wt_area             </td></tr>\n",
                            "\t<tr><th scope=row>3</th><td>AreaShape</td><td> 0.7133463</td><td>3.984088e-01</td><td>unsel_area_v_wt_area            </td></tr>\n",
                            "\t<tr><th scope=row>4</th><td>Intensity</td><td> 4.9574022</td><td>2.651143e-02</td><td>high_intensity_v_unsel_intensity</td></tr>\n",
                            "\t<tr><th scope=row>5</th><td>Intensity</td><td>49.9189315</td><td>6.744700e-12</td><td>high_intensity_v_wt_intensity   </td></tr>\n",
                            "\t<tr><th scope=row>6</th><td>Intensity</td><td>24.4826949</td><td>1.088879e-06</td><td>unsel_intensity_v_wt_intensity  </td></tr>\n",
                            "</tbody>\n",
                            "</table>\n"
                        ],
                        "text/latex": [
                            "A data.frame: 6 \u00d7 4\n",
                            "\\begin{tabular}{r|llll}\n",
                            "  & feature\\_group & levene\\_statistic & levene\\_p\\_value & group\\\\\n",
                            "  & <chr> & <dbl> & <dbl> & <chr>\\\\\n",
                            "\\hline\n",
                            "\t1 & AreaShape & 15.7716696 & 7.330314e-05 & high\\_area\\_v\\_unsel\\_area          \\\\\n",
                            "\t2 & AreaShape & 26.1157656 & 3.436447e-07 & high\\_area\\_v\\_wt\\_area             \\\\\n",
                            "\t3 & AreaShape &  0.7133463 & 3.984088e-01 & unsel\\_area\\_v\\_wt\\_area            \\\\\n",
                            "\t4 & Intensity &  4.9574022 & 2.651143e-02 & high\\_intensity\\_v\\_unsel\\_intensity\\\\\n",
                            "\t5 & Intensity & 49.9189315 & 6.744700e-12 & high\\_intensity\\_v\\_wt\\_intensity   \\\\\n",
                            "\t6 & Intensity & 24.4826949 & 1.088879e-06 & unsel\\_intensity\\_v\\_wt\\_intensity  \\\\\n",
                            "\\end{tabular}\n"
                        ],
                        "text/markdown": [
                            "\n",
                            "A data.frame: 6 \u00d7 4\n",
                            "\n",
                            "| <!--/--> | feature_group &lt;chr&gt; | levene_statistic &lt;dbl&gt; | levene_p_value &lt;dbl&gt; | group &lt;chr&gt; |\n",
                            "|---|---|---|---|---|\n",
                            "| 1 | AreaShape | 15.7716696 | 7.330314e-05 | high_area_v_unsel_area           |\n",
                            "| 2 | AreaShape | 26.1157656 | 3.436447e-07 | high_area_v_wt_area              |\n",
                            "| 3 | AreaShape |  0.7133463 | 3.984088e-01 | unsel_area_v_wt_area             |\n",
                            "| 4 | Intensity |  4.9574022 | 2.651143e-02 | high_intensity_v_unsel_intensity |\n",
                            "| 5 | Intensity | 49.9189315 | 6.744700e-12 | high_intensity_v_wt_intensity    |\n",
                            "| 6 | Intensity | 24.4826949 | 1.088879e-06 | unsel_intensity_v_wt_intensity   |\n",
                            "\n"
                        ],
                        "text/plain": [
                            "  feature_group levene_statistic levene_p_value\n",
                            "1 AreaShape     15.7716696       7.330314e-05  \n",
                            "2 AreaShape     26.1157656       3.436447e-07  \n",
                            "3 AreaShape      0.7133463       3.984088e-01  \n",
                            "4 Intensity      4.9574022       2.651143e-02  \n",
                            "5 Intensity     49.9189315       6.744700e-12  \n",
                            "6 Intensity     24.4826949       1.088879e-06  \n",
                            "  group                           \n",
                            "1 high_area_v_unsel_area          \n",
                            "2 high_area_v_wt_area             \n",
                            "3 unsel_area_v_wt_area            \n",
                            "4 high_intensity_v_unsel_intensity\n",
                            "5 high_intensity_v_wt_intensity   \n",
                            "6 unsel_intensity_v_wt_intensity  "
                        ]
                    },
                    "metadata": {},
                    "output_type": "display_data"
                },
                {
                    "data": {
                        "text/html": [
                            "<table class=\"dataframe\">\n",
                            "<caption>A data.frame: 6 \u00d7 3</caption>\n",
                            "<thead>\n",
                            "\t<tr><th></th><th scope=col>Metadata_genotype</th><th scope=col>variance</th><th scope=col>feature_group</th></tr>\n",
                            "\t<tr><th></th><th scope=col>&lt;chr&gt;</th><th scope=col>&lt;dbl&gt;</th><th scope=col>&lt;chr&gt;</th></tr>\n",
                            "</thead>\n",
                            "<tbody>\n",
                            "\t<tr><th scope=row>1</th><td>High-Severity</td><td>1.4607390</td><td>AreaShape</td></tr>\n",
                            "\t<tr><th scope=row>2</th><td>High-Severity</td><td>0.3651847</td><td>AreaShape</td></tr>\n",
                            "\t<tr><th scope=row>3</th><td>High-Severity</td><td>2.9665618</td><td>AreaShape</td></tr>\n",
                            "\t<tr><th scope=row>4</th><td>High-Severity</td><td>0.7549843</td><td>AreaShape</td></tr>\n",
                            "\t<tr><th scope=row>5</th><td>High-Severity</td><td>0.8409867</td><td>AreaShape</td></tr>\n",
                            "\t<tr><th scope=row>6</th><td>High-Severity</td><td>2.0572265</td><td>AreaShape</td></tr>\n",
                            "</tbody>\n",
                            "</table>\n"
                        ],
                        "text/latex": [
                            "A data.frame: 6 \u00d7 3\n",
                            "\\begin{tabular}{r|lll}\n",
                            "  & Metadata\\_genotype & variance & feature\\_group\\\\\n",
                            "  & <chr> & <dbl> & <chr>\\\\\n",
                            "\\hline\n",
                            "\t1 & High-Severity & 1.4607390 & AreaShape\\\\\n",
                            "\t2 & High-Severity & 0.3651847 & AreaShape\\\\\n",
                            "\t3 & High-Severity & 2.9665618 & AreaShape\\\\\n",
                            "\t4 & High-Severity & 0.7549843 & AreaShape\\\\\n",
                            "\t5 & High-Severity & 0.8409867 & AreaShape\\\\\n",
                            "\t6 & High-Severity & 2.0572265 & AreaShape\\\\\n",
                            "\\end{tabular}\n"
                        ],
                        "text/markdown": [
                            "\n",
                            "A data.frame: 6 \u00d7 3\n",
                            "\n",
                            "| <!--/--> | Metadata_genotype &lt;chr&gt; | variance &lt;dbl&gt; | feature_group &lt;chr&gt; |\n",
                            "|---|---|---|---|\n",
                            "| 1 | High-Severity | 1.4607390 | AreaShape |\n",
                            "| 2 | High-Severity | 0.3651847 | AreaShape |\n",
                            "| 3 | High-Severity | 2.9665618 | AreaShape |\n",
                            "| 4 | High-Severity | 0.7549843 | AreaShape |\n",
                            "| 5 | High-Severity | 0.8409867 | AreaShape |\n",
                            "| 6 | High-Severity | 2.0572265 | AreaShape |\n",
                            "\n"
                        ],
                        "text/plain": [
                            "  Metadata_genotype variance  feature_group\n",
                            "1 High-Severity     1.4607390 AreaShape    \n",
                            "2 High-Severity     0.3651847 AreaShape    \n",
                            "3 High-Severity     2.9665618 AreaShape    \n",
                            "4 High-Severity     0.7549843 AreaShape    \n",
                            "5 High-Severity     0.8409867 AreaShape    \n",
                            "6 High-Severity     2.0572265 AreaShape    "
                        ]
                    },
                    "metadata": {},
                    "output_type": "display_data"
                },
                {
                    "data": {
                        "text/html": [
                            "<table class=\"dataframe\">\n",
                            "<caption>A data.frame: 6 \u00d7 7</caption>\n",
                            "<thead>\n",
                            "\t<tr><th></th><th scope=col>Metadata_genotype</th><th scope=col>feature_group</th><th scope=col>variance_mean</th><th scope=col>variance_std</th><th scope=col>variance_max</th><th scope=col>variance_min</th><th scope=col>variance_count</th></tr>\n",
                            "\t<tr><th></th><th scope=col>&lt;chr&gt;</th><th scope=col>&lt;chr&gt;</th><th scope=col>&lt;dbl&gt;</th><th scope=col>&lt;dbl&gt;</th><th scope=col>&lt;dbl&gt;</th><th scope=col>&lt;dbl&gt;</th><th scope=col>&lt;int&gt;</th></tr>\n",
                            "</thead>\n",
                            "<tbody>\n",
                            "\t<tr><th scope=row>1</th><td>High-Severity</td><td>AreaShape         </td><td>0.9780943</td><td>1.0716358</td><td>4.8014873</td><td>9.149858e-06</td><td>98</td></tr>\n",
                            "\t<tr><th scope=row>2</th><td>High-Severity</td><td>Granularity       </td><td>0.2306647</td><td>0.1914642</td><td>0.4590833</td><td>1.091716e-02</td><td> 6</td></tr>\n",
                            "\t<tr><th scope=row>3</th><td>High-Severity</td><td>Intensity         </td><td>0.8288849</td><td>0.6978751</td><td>2.4756319</td><td>1.961612e-01</td><td>15</td></tr>\n",
                            "\t<tr><th scope=row>4</th><td>High-Severity</td><td>Neighbors         </td><td>1.1442989</td><td>1.3223057</td><td>2.6682794</td><td>3.010385e-01</td><td> 3</td></tr>\n",
                            "\t<tr><th scope=row>5</th><td>High-Severity</td><td>RadialDistribution</td><td>0.8673252</td><td>0.8278467</td><td>3.1928802</td><td>0.000000e+00</td><td>70</td></tr>\n",
                            "\t<tr><th scope=row>6</th><td>High-Severity</td><td>Texture           </td><td>0.4978585</td><td>0.4810848</td><td>1.6957995</td><td>1.460810e-02</td><td>52</td></tr>\n",
                            "</tbody>\n",
                            "</table>\n"
                        ],
                        "text/latex": [
                            "A data.frame: 6 \u00d7 7\n",
                            "\\begin{tabular}{r|lllllll}\n",
                            "  & Metadata\\_genotype & feature\\_group & variance\\_mean & variance\\_std & variance\\_max & variance\\_min & variance\\_count\\\\\n",
                            "  & <chr> & <chr> & <dbl> & <dbl> & <dbl> & <dbl> & <int>\\\\\n",
                            "\\hline\n",
                            "\t1 & High-Severity & AreaShape          & 0.9780943 & 1.0716358 & 4.8014873 & 9.149858e-06 & 98\\\\\n",
                            "\t2 & High-Severity & Granularity        & 0.2306647 & 0.1914642 & 0.4590833 & 1.091716e-02 &  6\\\\\n",
                            "\t3 & High-Severity & Intensity          & 0.8288849 & 0.6978751 & 2.4756319 & 1.961612e-01 & 15\\\\\n",
                            "\t4 & High-Severity & Neighbors          & 1.1442989 & 1.3223057 & 2.6682794 & 3.010385e-01 &  3\\\\\n",
                            "\t5 & High-Severity & RadialDistribution & 0.8673252 & 0.8278467 & 3.1928802 & 0.000000e+00 & 70\\\\\n",
                            "\t6 & High-Severity & Texture            & 0.4978585 & 0.4810848 & 1.6957995 & 1.460810e-02 & 52\\\\\n",
                            "\\end{tabular}\n"
                        ],
                        "text/markdown": [
                            "\n",
                            "A data.frame: 6 \u00d7 7\n",
                            "\n",
                            "| <!--/--> | Metadata_genotype &lt;chr&gt; | feature_group &lt;chr&gt; | variance_mean &lt;dbl&gt; | variance_std &lt;dbl&gt; | variance_max &lt;dbl&gt; | variance_min &lt;dbl&gt; | variance_count &lt;int&gt; |\n",
                            "|---|---|---|---|---|---|---|---|\n",
                            "| 1 | High-Severity | AreaShape          | 0.9780943 | 1.0716358 | 4.8014873 | 9.149858e-06 | 98 |\n",
                            "| 2 | High-Severity | Granularity        | 0.2306647 | 0.1914642 | 0.4590833 | 1.091716e-02 |  6 |\n",
                            "| 3 | High-Severity | Intensity          | 0.8288849 | 0.6978751 | 2.4756319 | 1.961612e-01 | 15 |\n",
                            "| 4 | High-Severity | Neighbors          | 1.1442989 | 1.3223057 | 2.6682794 | 3.010385e-01 |  3 |\n",
                            "| 5 | High-Severity | RadialDistribution | 0.8673252 | 0.8278467 | 3.1928802 | 0.000000e+00 | 70 |\n",
                            "| 6 | High-Severity | Texture            | 0.4978585 | 0.4810848 | 1.6957995 | 1.460810e-02 | 52 |\n",
                            "\n"
                        ],
                        "text/plain": [
                            "  Metadata_genotype feature_group      variance_mean variance_std variance_max\n",
                            "1 High-Severity     AreaShape          0.9780943     1.0716358    4.8014873   \n",
                            "2 High-Severity     Granularity        0.2306647     0.1914642    0.4590833   \n",
                            "3 High-Severity     Intensity          0.8288849     0.6978751    2.4756319   \n",
                            "4 High-Severity     Neighbors          1.1442989     1.3223057    2.6682794   \n",
                            "5 High-Severity     RadialDistribution 0.8673252     0.8278467    3.1928802   \n",
                            "6 High-Severity     Texture            0.4978585     0.4810848    1.6957995   \n",
                            "  variance_min variance_count\n",
                            "1 9.149858e-06 98            \n",
                            "2 1.091716e-02  6            \n",
                            "3 1.961612e-01 15            \n",
                            "4 3.010385e-01  3            \n",
                            "5 0.000000e+00 70            \n",
                            "6 1.460810e-02 52            "
                        ]
                    },
                    "metadata": {},
                    "output_type": "display_data"
                }
            ],
            "source": [
                "# set path to read the data\n",
                "output_var_stats_path <- file.path(\"..\",\"..\",\"data\",\"6.analysis_results\",\"custom_aggregated_variance_results_feature_types_stats.csv\")\n",
                "output_var_path <- file.path(\"..\",\"..\",\"data\",\"6.analysis_results\",\"custom_aggregated_variance_results_feature_types.csv\")\n",
                "output_levene_path <- file.path(\"..\",\"..\",\"data\",\"6.analysis_results\",\"custom_aggregated_levene_test_results_feature_types.csv\")\n",
                "\n",
                "# figures output path\n",
                "fig_path <- file.path(\"..\",\"figures\",\"custom_aggregated\")\n",
                "# make the directory if it doesn't exist\n",
                "if (!dir.exists(fig_path)){\n",
                "  dir.create(fig_path, recursive = TRUE)\n",
                "}\n",
                "\n",
                "# read the data\n",
                "variance_stats_df <- read.csv(output_var_stats_path)\n",
                "variance_df <- read.csv(output_var_path)\n",
                "levene_df <- read.csv(output_levene_path)\n",
                "head(levene_df)\n",
                "head(variance_df)\n",
                "head(variance_stats_df)"
            ]
        },
        {
            "cell_type": "code",
            "execution_count": 3,
            "id": "296d4043",
            "metadata": {
                "execution": {
                    "iopub.execute_input": "2024-05-04T20:34:33.627934Z",
                    "iopub.status.busy": "2024-05-04T20:34:33.626956Z",
                    "iopub.status.idle": "2024-05-04T20:34:33.651997Z",
                    "shell.execute_reply": "2024-05-04T20:34:33.650362Z"
                },
                "papermill": {
                    "duration": 0.030911,
                    "end_time": "2024-05-04T20:34:33.653420",
                    "exception": false,
                    "start_time": "2024-05-04T20:34:33.622509",
                    "status": "completed"
                },
                "tags": [],
                "vscode": {
                    "languageId": "r"
                }
            },
            "outputs": [
                {
                    "data": {
                        "text/html": [
                            "<table class=\"dataframe\">\n",
                            "<caption>A data.frame: 6 \u00d7 5</caption>\n",
                            "<thead>\n",
                            "\t<tr><th></th><th scope=col>feature_group</th><th scope=col>levene_statistic</th><th scope=col>levene_p_value</th><th scope=col>group</th><th scope=col>significance</th></tr>\n",
                            "\t<tr><th></th><th scope=col>&lt;chr&gt;</th><th scope=col>&lt;dbl&gt;</th><th scope=col>&lt;dbl&gt;</th><th scope=col>&lt;chr&gt;</th><th scope=col>&lt;chr&gt;</th></tr>\n",
                            "</thead>\n",
                            "<tbody>\n",
                            "\t<tr><th scope=row>1</th><td>AreaShape</td><td>15.7716696</td><td>7.330314e-05</td><td>high_area_v_unsel_area          </td><td>***</td></tr>\n",
                            "\t<tr><th scope=row>2</th><td>AreaShape</td><td>26.1157656</td><td>3.436447e-07</td><td>high_area_v_wt_area             </td><td>***</td></tr>\n",
                            "\t<tr><th scope=row>3</th><td>AreaShape</td><td> 0.7133463</td><td>3.984088e-01</td><td>unsel_area_v_wt_area            </td><td>ns </td></tr>\n",
                            "\t<tr><th scope=row>4</th><td>Intensity</td><td> 4.9574022</td><td>2.651143e-02</td><td>high_intensity_v_unsel_intensity</td><td>*  </td></tr>\n",
                            "\t<tr><th scope=row>5</th><td>Intensity</td><td>49.9189315</td><td>6.744700e-12</td><td>high_intensity_v_wt_intensity   </td><td>***</td></tr>\n",
                            "\t<tr><th scope=row>6</th><td>Intensity</td><td>24.4826949</td><td>1.088879e-06</td><td>unsel_intensity_v_wt_intensity  </td><td>***</td></tr>\n",
                            "</tbody>\n",
                            "</table>\n"
                        ],
                        "text/latex": [
                            "A data.frame: 6 \u00d7 5\n",
                            "\\begin{tabular}{r|lllll}\n",
                            "  & feature\\_group & levene\\_statistic & levene\\_p\\_value & group & significance\\\\\n",
                            "  & <chr> & <dbl> & <dbl> & <chr> & <chr>\\\\\n",
                            "\\hline\n",
                            "\t1 & AreaShape & 15.7716696 & 7.330314e-05 & high\\_area\\_v\\_unsel\\_area           & ***\\\\\n",
                            "\t2 & AreaShape & 26.1157656 & 3.436447e-07 & high\\_area\\_v\\_wt\\_area              & ***\\\\\n",
                            "\t3 & AreaShape &  0.7133463 & 3.984088e-01 & unsel\\_area\\_v\\_wt\\_area             & ns \\\\\n",
                            "\t4 & Intensity &  4.9574022 & 2.651143e-02 & high\\_intensity\\_v\\_unsel\\_intensity & *  \\\\\n",
                            "\t5 & Intensity & 49.9189315 & 6.744700e-12 & high\\_intensity\\_v\\_wt\\_intensity    & ***\\\\\n",
                            "\t6 & Intensity & 24.4826949 & 1.088879e-06 & unsel\\_intensity\\_v\\_wt\\_intensity   & ***\\\\\n",
                            "\\end{tabular}\n"
                        ],
                        "text/markdown": [
                            "\n",
                            "A data.frame: 6 \u00d7 5\n",
                            "\n",
                            "| <!--/--> | feature_group &lt;chr&gt; | levene_statistic &lt;dbl&gt; | levene_p_value &lt;dbl&gt; | group &lt;chr&gt; | significance &lt;chr&gt; |\n",
                            "|---|---|---|---|---|---|\n",
                            "| 1 | AreaShape | 15.7716696 | 7.330314e-05 | high_area_v_unsel_area           | *** |\n",
                            "| 2 | AreaShape | 26.1157656 | 3.436447e-07 | high_area_v_wt_area              | *** |\n",
                            "| 3 | AreaShape |  0.7133463 | 3.984088e-01 | unsel_area_v_wt_area             | ns  |\n",
                            "| 4 | Intensity |  4.9574022 | 2.651143e-02 | high_intensity_v_unsel_intensity | *   |\n",
                            "| 5 | Intensity | 49.9189315 | 6.744700e-12 | high_intensity_v_wt_intensity    | *** |\n",
                            "| 6 | Intensity | 24.4826949 | 1.088879e-06 | unsel_intensity_v_wt_intensity   | *** |\n",
                            "\n"
                        ],
                        "text/plain": [
                            "  feature_group levene_statistic levene_p_value\n",
                            "1 AreaShape     15.7716696       7.330314e-05  \n",
                            "2 AreaShape     26.1157656       3.436447e-07  \n",
                            "3 AreaShape      0.7133463       3.984088e-01  \n",
                            "4 Intensity      4.9574022       2.651143e-02  \n",
                            "5 Intensity     49.9189315       6.744700e-12  \n",
                            "6 Intensity     24.4826949       1.088879e-06  \n",
                            "  group                            significance\n",
                            "1 high_area_v_unsel_area           ***         \n",
                            "2 high_area_v_wt_area              ***         \n",
                            "3 unsel_area_v_wt_area             ns          \n",
                            "4 high_intensity_v_unsel_intensity *           \n",
                            "5 high_intensity_v_wt_intensity    ***         \n",
                            "6 unsel_intensity_v_wt_intensity   ***         "
                        ]
                    },
                    "metadata": {},
                    "output_type": "display_data"
                }
            ],
            "source": [
                "# make a new column for ***\n",
                "levene_df$significance <- ifelse(\n",
                "    levene_df$levene_p_value < 0.001, \"***\", \n",
                "    ifelse(levene_df$levene_p_value < 0.01, \"**\", \n",
                "    ifelse(levene_df$levene_p_value < 0.05, \"*\", \n",
                "    \"ns\")\n",
                "    )\n",
                ")\n",
                "head(levene_df)"
            ]
        },
        {
            "cell_type": "code",
            "execution_count": 4,
            "id": "8247179e",
            "metadata": {
                "execution": {
                    "iopub.execute_input": "2024-05-04T20:34:33.663684Z",
                    "iopub.status.busy": "2024-05-04T20:34:33.662707Z",
                    "iopub.status.idle": "2024-05-04T20:34:33.748167Z",
                    "shell.execute_reply": "2024-05-04T20:34:33.737838Z"
                },
                "papermill": {
                    "duration": 0.092812,
                    "end_time": "2024-05-04T20:34:33.749880",
                    "exception": false,
                    "start_time": "2024-05-04T20:34:33.657068",
                    "status": "completed"
                },
                "tags": [],
                "vscode": {
                    "languageId": "r"
                }
            },
            "outputs": [],
            "source": [
                "# split the levene_df into dfs for each feature group\n",
                "levene_df_AreaShape <- levene_df %>% filter(feature_group == \"AreaShape\")\n",
                "levene_df_Intensity <- levene_df %>% filter(feature_group == \"Intensity\")\n",
                "levene_df_Granularity <- levene_df %>% filter(feature_group == \"Granularity\")\n",
                "levene_df_Neighbors <- levene_df %>% filter(feature_group == \"Neighbors\")\n",
                "levene_df_RadialDistribution <- levene_df %>% filter(feature_group == \"RadialDistribution\")\n",
                "\n",
                "# split the variance_df into dfs for each feature group\n",
                "variance_df_AreaShape <- variance_stats_df %>% filter(feature_group == \"AreaShape\")\n",
                "variance_df_Intensity <- variance_stats_df %>% filter(feature_group == \"Intensity\")\n",
                "variance_df_Granularity <- variance_stats_df %>% filter(feature_group == \"Granularity\")\n",
                "variance_df_Neighbors <- variance_stats_df %>% filter(feature_group == \"Neighbors\")\n",
                "variance_df_RadialDistribution <- variance_stats_df %>% filter(feature_group == \"RadialDistribution\")\n"
            ]
        },
        {
            "cell_type": "markdown",
            "id": "beba8bd9",
            "metadata": {
                "papermill": {
                    "duration": 0.003689,
                    "end_time": "2024-05-04T20:34:33.757809",
                    "exception": false,
                    "start_time": "2024-05-04T20:34:33.754120",
                    "status": "completed"
                },
                "tags": []
            },
            "source": [
                "## Max variance plots"
            ]
        },
        {
            "cell_type": "code",
            "execution_count": 5,
            "id": "cda5a2dd",
            "metadata": {
                "execution": {
                    "iopub.execute_input": "2024-05-04T20:34:33.779981Z",
                    "iopub.status.busy": "2024-05-04T20:34:33.776078Z",
                    "iopub.status.idle": "2024-05-04T20:34:33.805527Z",
                    "shell.execute_reply": "2024-05-04T20:34:33.803897Z"
                },
                "papermill": {
                    "duration": 0.036773,
                    "end_time": "2024-05-04T20:34:33.806938",
                    "exception": false,
                    "start_time": "2024-05-04T20:34:33.770165",
                    "status": "completed"
                },
                "tags": [],
                "vscode": {
                    "languageId": "r"
                }
            },
            "outputs": [
                {
                    "data": {
                        "text/html": [
                            "<table class=\"dataframe\">\n",
                            "<caption>A data.frame: 6 \u00d7 7</caption>\n",
                            "<thead>\n",
                            "\t<tr><th></th><th scope=col>Metadata_genotype</th><th scope=col>feature_group</th><th scope=col>variance_mean</th><th scope=col>variance_std</th><th scope=col>variance_max</th><th scope=col>variance_min</th><th scope=col>variance_count</th></tr>\n",
                            "\t<tr><th></th><th scope=col>&lt;chr&gt;</th><th scope=col>&lt;chr&gt;</th><th scope=col>&lt;dbl&gt;</th><th scope=col>&lt;dbl&gt;</th><th scope=col>&lt;dbl&gt;</th><th scope=col>&lt;dbl&gt;</th><th scope=col>&lt;int&gt;</th></tr>\n",
                            "</thead>\n",
                            "<tbody>\n",
                            "\t<tr><th scope=row>1</th><td>High-Severity</td><td>AreaShape         </td><td>0.9780943</td><td>1.0716358</td><td>4.8014873</td><td>9.149858e-06</td><td>98</td></tr>\n",
                            "\t<tr><th scope=row>2</th><td>High-Severity</td><td>Granularity       </td><td>0.2306647</td><td>0.1914642</td><td>0.4590833</td><td>1.091716e-02</td><td> 6</td></tr>\n",
                            "\t<tr><th scope=row>3</th><td>High-Severity</td><td>Intensity         </td><td>0.8288849</td><td>0.6978751</td><td>2.4756319</td><td>1.961612e-01</td><td>15</td></tr>\n",
                            "\t<tr><th scope=row>4</th><td>High-Severity</td><td>Neighbors         </td><td>1.1442989</td><td>1.3223057</td><td>2.6682794</td><td>3.010385e-01</td><td> 3</td></tr>\n",
                            "\t<tr><th scope=row>5</th><td>High-Severity</td><td>RadialDistribution</td><td>0.8673252</td><td>0.8278467</td><td>3.1928802</td><td>0.000000e+00</td><td>70</td></tr>\n",
                            "\t<tr><th scope=row>6</th><td>High-Severity</td><td>Texture           </td><td>0.4978585</td><td>0.4810848</td><td>1.6957995</td><td>1.460810e-02</td><td>52</td></tr>\n",
                            "</tbody>\n",
                            "</table>\n"
                        ],
                        "text/latex": [
                            "A data.frame: 6 \u00d7 7\n",
                            "\\begin{tabular}{r|lllllll}\n",
                            "  & Metadata\\_genotype & feature\\_group & variance\\_mean & variance\\_std & variance\\_max & variance\\_min & variance\\_count\\\\\n",
                            "  & <chr> & <chr> & <dbl> & <dbl> & <dbl> & <dbl> & <int>\\\\\n",
                            "\\hline\n",
                            "\t1 & High-Severity & AreaShape          & 0.9780943 & 1.0716358 & 4.8014873 & 9.149858e-06 & 98\\\\\n",
                            "\t2 & High-Severity & Granularity        & 0.2306647 & 0.1914642 & 0.4590833 & 1.091716e-02 &  6\\\\\n",
                            "\t3 & High-Severity & Intensity          & 0.8288849 & 0.6978751 & 2.4756319 & 1.961612e-01 & 15\\\\\n",
                            "\t4 & High-Severity & Neighbors          & 1.1442989 & 1.3223057 & 2.6682794 & 3.010385e-01 &  3\\\\\n",
                            "\t5 & High-Severity & RadialDistribution & 0.8673252 & 0.8278467 & 3.1928802 & 0.000000e+00 & 70\\\\\n",
                            "\t6 & High-Severity & Texture            & 0.4978585 & 0.4810848 & 1.6957995 & 1.460810e-02 & 52\\\\\n",
                            "\\end{tabular}\n"
                        ],
                        "text/markdown": [
                            "\n",
                            "A data.frame: 6 \u00d7 7\n",
                            "\n",
                            "| <!--/--> | Metadata_genotype &lt;chr&gt; | feature_group &lt;chr&gt; | variance_mean &lt;dbl&gt; | variance_std &lt;dbl&gt; | variance_max &lt;dbl&gt; | variance_min &lt;dbl&gt; | variance_count &lt;int&gt; |\n",
                            "|---|---|---|---|---|---|---|---|\n",
                            "| 1 | High-Severity | AreaShape          | 0.9780943 | 1.0716358 | 4.8014873 | 9.149858e-06 | 98 |\n",
                            "| 2 | High-Severity | Granularity        | 0.2306647 | 0.1914642 | 0.4590833 | 1.091716e-02 |  6 |\n",
                            "| 3 | High-Severity | Intensity          | 0.8288849 | 0.6978751 | 2.4756319 | 1.961612e-01 | 15 |\n",
                            "| 4 | High-Severity | Neighbors          | 1.1442989 | 1.3223057 | 2.6682794 | 3.010385e-01 |  3 |\n",
                            "| 5 | High-Severity | RadialDistribution | 0.8673252 | 0.8278467 | 3.1928802 | 0.000000e+00 | 70 |\n",
                            "| 6 | High-Severity | Texture            | 0.4978585 | 0.4810848 | 1.6957995 | 1.460810e-02 | 52 |\n",
                            "\n"
                        ],
                        "text/plain": [
                            "  Metadata_genotype feature_group      variance_mean variance_std variance_max\n",
                            "1 High-Severity     AreaShape          0.9780943     1.0716358    4.8014873   \n",
                            "2 High-Severity     Granularity        0.2306647     0.1914642    0.4590833   \n",
                            "3 High-Severity     Intensity          0.8288849     0.6978751    2.4756319   \n",
                            "4 High-Severity     Neighbors          1.1442989     1.3223057    2.6682794   \n",
                            "5 High-Severity     RadialDistribution 0.8673252     0.8278467    3.1928802   \n",
                            "6 High-Severity     Texture            0.4978585     0.4810848    1.6957995   \n",
                            "  variance_min variance_count\n",
                            "1 9.149858e-06 98            \n",
                            "2 1.091716e-02  6            \n",
                            "3 1.961612e-01 15            \n",
                            "4 3.010385e-01  3            \n",
                            "5 0.000000e+00 70            \n",
                            "6 1.460810e-02 52            "
                        ]
                    },
                    "metadata": {},
                    "output_type": "display_data"
                },
                {
                    "data": {
                        "text/html": [
                            "<style>\n",
                            ".list-inline {list-style: none; margin:0; padding: 0}\n",
                            ".list-inline>li {display: inline-block}\n",
                            ".list-inline>li:not(:last-child)::after {content: \"\\00b7\"; padding: 0 .5ex}\n",
                            "</style>\n",
                            "<ol class=list-inline><li>'High-Severity'</li><li>'Mid-Severity'</li><li>'Wild Type'</li></ol>\n"
                        ],
                        "text/latex": [
                            "\\begin{enumerate*}\n",
                            "\\item 'High-Severity'\n",
                            "\\item 'Mid-Severity'\n",
                            "\\item 'Wild Type'\n",
                            "\\end{enumerate*}\n"
                        ],
                        "text/markdown": [
                            "1. 'High-Severity'\n",
                            "2. 'Mid-Severity'\n",
                            "3. 'Wild Type'\n",
                            "\n",
                            "\n"
                        ],
                        "text/plain": [
                            "[1] \"High-Severity\" \"Mid-Severity\"  \"Wild Type\"    "
                        ]
                    },
                    "metadata": {},
                    "output_type": "display_data"
                }
            ],
            "source": [
                "head(variance_stats_df)\n",
                "unique(variance_stats_df$Metadata_genotype)"
            ]
        },
        {
            "cell_type": "code",
            "execution_count": 6,
            "id": "402b49ff",
            "metadata": {
                "execution": {
                    "iopub.execute_input": "2024-05-04T20:34:33.818575Z",
                    "iopub.status.busy": "2024-05-04T20:34:33.817337Z",
                    "iopub.status.idle": "2024-05-04T20:34:34.845688Z",
                    "shell.execute_reply": "2024-05-04T20:34:34.843949Z"
                },
                "papermill": {
                    "duration": 1.036208,
                    "end_time": "2024-05-04T20:34:34.847119",
                    "exception": false,
                    "start_time": "2024-05-04T20:34:33.810911",
                    "status": "completed"
                },
                "tags": [],
                "vscode": {
                    "languageId": "r"
                }
            },
            "outputs": [
                {
                    "data": {
                        "image/png": "[encoded data removed]",
                        "text/plain": [
                            "plot without title"
                        ]
                    },
                    "metadata": {
                        "image/png": {
                            "height": 300,
                            "width": 420
                        }
                    },
                    "output_type": "display_data"
                }
            ],
            "source": [
                "width <- 7\n",
                "height <- 5\n",
                "options(repr.plot.width=width, repr.plot.height=height)\n",
                "# make genotypes and sides into factors\n",
                "variance_stats_df$Metadata_genotype <- factor(variance_stats_df$Metadata_genotype, levels = c(\"Wild Type\", \"Mid-Severity\", \"High-Severity\"))\n",
                "coef_gg <- (\n",
                "        ggplot(variance_stats_df, aes(x = Metadata_genotype, y = feature_group))\n",
                "        + geom_point(aes(fill = abs(variance_max)), pch = 22, size = 16)\n",
                "        + theme_bw()\n",
                "        + scale_fill_continuous(\n",
                "            name=\"Top variance \\nper genotype\",\n",
                "            low = \"purple\",\n",
                "            high = \"green\",\n",
                "        )\n",
                "        + xlab(\"Genotype\")\n",
                "        + ylab(\"Feature\")\n",
                "        \n",
                "        + figure_theme\n",
                "        + theme(\n",
                "            axis.text.x = element_text(angle = 45, hjust = 1, size = 14),\n",
                "        )\n",
                "        # rotate x axis labels\n",
                "        + theme(axis.text.x = element_text(angle = 45, hjust = 1))\n",
                "        + theme(plot.title = element_text(hjust = 0.5))\n",
                "        )\n",
                "coef_gg\n",
                "# save the plot\n",
                "ggsave(file=\"custom_aggregated_top_variance_per_genotype.png\", plot=coef_gg, path= file.path(fig_path), dpi=600, width=width, height=height, units=\"in\", limitsize = FALSE)"
            ]
        },
        {
            "cell_type": "markdown",
            "id": "6cb06844",
            "metadata": {
                "papermill": {
                    "duration": 0.004589,
                    "end_time": "2024-05-04T20:34:34.857176",
                    "exception": false,
                    "start_time": "2024-05-04T20:34:34.852587",
                    "status": "completed"
                },
                "tags": []
            },
            "source": [
                "## Variance plots with levene's test"
            ]
        },
        {
            "cell_type": "markdown",
            "id": "eb918df7",
            "metadata": {
                "papermill": {
                    "duration": 0.004264,
                    "end_time": "2024-05-04T20:34:34.866027",
                    "exception": false,
                    "start_time": "2024-05-04T20:34:34.861763",
                    "status": "completed"
                },
                "tags": []
            },
            "source": [
                "### AreaShape boxplot"
            ]
        },
        {
            "cell_type": "code",
            "execution_count": 7,
            "id": "91ee6a11",
            "metadata": {
                "execution": {
                    "iopub.execute_input": "2024-05-04T20:34:34.880037Z",
                    "iopub.status.busy": "2024-05-04T20:34:34.879025Z",
                    "iopub.status.idle": "2024-05-04T20:34:35.888835Z",
                    "shell.execute_reply": "2024-05-04T20:34:35.887631Z"
                },
                "papermill": {
                    "duration": 1.019523,
                    "end_time": "2024-05-04T20:34:35.890124",
                    "exception": false,
                    "start_time": "2024-05-04T20:34:34.870601",
                    "status": "completed"
                },
                "tags": [],
                "vscode": {
                    "languageId": "r"
                }
            },
            "outputs": [
                {
                    "name": "stderr",
                    "output_type": "stream",
                    "text": [
                        "Warning message:\n",
                        "\u201c\u001b[1m\u001b[22mRemoved 51 rows containing non-finite outside the scale range (`stat_boxplot()`).\u201d\n"
                    ]
                },
                {
                    "name": "stderr",
                    "output_type": "stream",
                    "text": [
                        "Warning message:\n",
                        "\u201c\u001b[1m\u001b[22mRemoved 51 rows containing non-finite outside the scale range (`stat_signif()`).\u201d\n"
                    ]
                },
                {
                    "name": "stderr",
                    "output_type": "stream",
                    "text": [
                        "Warning message:\n",
                        "\u201c\u001b[1m\u001b[22mRemoved 51 rows containing non-finite outside the scale range (`stat_signif()`).\u201d\n"
                    ]
                },
                {
                    "name": "stderr",
                    "output_type": "stream",
                    "text": [
                        "Warning message:\n",
                        "\u201c\u001b[1m\u001b[22mRemoved 51 rows containing non-finite outside the scale range (`stat_signif()`).\u201d\n"
                    ]
                },
                {
                    "name": "stderr",
                    "output_type": "stream",
                    "text": [
                        "Warning message:\n",
                        "\u201c\u001b[1m\u001b[22mRemoved 51 rows containing non-finite outside the scale range (`stat_boxplot()`).\u201d\n"
                    ]
                },
                {
                    "name": "stderr",
                    "output_type": "stream",
                    "text": [
                        "Warning message:\n",
                        "\u201c\u001b[1m\u001b[22mRemoved 51 rows containing non-finite outside the scale range (`stat_signif()`).\u201d\n"
                    ]
                },
                {
                    "name": "stderr",
                    "output_type": "stream",
                    "text": [
                        "Warning message:\n",
                        "\u201c\u001b[1m\u001b[22mRemoved 51 rows containing non-finite outside the scale range (`stat_signif()`).\u201d\n"
                    ]
                },
                {
                    "name": "stderr",
                    "output_type": "stream",
                    "text": [
                        "Warning message:\n",
                        "\u201c\u001b[1m\u001b[22mRemoved 51 rows containing non-finite outside the scale range (`stat_signif()`).\u201d\n"
                    ]
                },
                {
                    "data": {
                        "image/png": "[encoded data removed]",
                        "text/plain": [
                            "plot without title"
                        ]
                    },
                    "metadata": {
                        "image/png": {
                            "height": 300,
                            "width": 480
                        }
                    },
                    "output_type": "display_data"
                }
            ],
            "source": [
                "areashape_var <- variance_df %>% filter(feature_group == \"AreaShape\")\n",
                "WT_vs_high_significance <- levene_df_AreaShape %>% filter(group == \"high_area_v_wt_area\")\n",
                "WT_vs_unsel_significance <- levene_df_AreaShape %>% filter(group == \"unsel_area_v_wt_area\")\n",
                "unsel_vs_high_significance <- levene_df_AreaShape %>% filter(group == \"high_area_v_unsel_area\")\n",
                "WT_vs_high_significance <- WT_vs_high_significance$significance\n",
                "WT_vs_unsel_significance <- WT_vs_unsel_significance$significance\n",
                "unsel_vs_high_significance <- unsel_vs_high_significance$significance\n",
                "# make genotype a factor\n",
                "areashape_var$Metadata_genotype <- factor(areashape_var$Metadata_genotype, levels = c(\"Wild Type\", \"Mid-Severity\", \"High-Severity\"))\n",
                "width <- 8\n",
                "height <- 5\n",
                "options(repr.plot.width=width, repr.plot.height=height)\n",
                "areashape_plot <- (\n",
                "        ggplot(areashape_var, aes(x = Metadata_genotype, y = variance)) \n",
                "        + geom_boxplot(aes(fill = Metadata_genotype))\n",
                "        + labs(x = \"Genotype\", y = \"Variance\", fill = \"Genotype\")\n",
                "        # remove the x axis label\n",
                "        + theme(\n",
                "            axis.title.x=element_blank(), \n",
                "            axis.ticks.x = element_blank(),\n",
                "            axis.text.x = element_blank()\n",
                "        )\n",
                "        + theme_bw()\n",
                "        + figure_theme\n",
                "        # add significance bars\n",
                "        + geom_signif(\n",
                "            comparisons = list(c(\"High-Severity\",\"Mid-Severity\")), \n",
                "            annotations = unsel_vs_high_significance,\n",
                "            textsize = 7,\n",
                "            y_position = c(2.5, 3)       ) \n",
                "        + geom_signif(\n",
                "            comparisons = list(c(\"Wild Type\",\"Mid-Severity\")), \n",
                "            annotations = WT_vs_unsel_significance, \n",
                "            textsize = 7,\n",
                "            y_position = c(2.5, 3)        )\n",
                "        + geom_signif(\n",
                "            comparisons = list(c(\"High-Severity\",\"Wild Type\")), \n",
                "            annotations = WT_vs_high_significance,\n",
                "            textsize = 7,\n",
                "            vjust = 0.1,\n",
                "            y_position = c(1.8, 2)\n",
                "\n",
                "        )\n",
                "        # # remove the legend\n",
                "        + theme(legend.position = \"none\")\n",
                "        + ylim(0, 3)\n",
                "    )\n",
                "areashape_plot\n",
                "ggsave(file=\"custom_aggregated_variance_across_genotype_AreaShape.png\", plot=areashape_plot, path= file.path(fig_path), dpi=600, width=width, height=height, units=\"in\", limitsize = FALSE)"
            ]
        },
        {
            "cell_type": "markdown",
            "id": "a5a4dd23",
            "metadata": {
                "papermill": {
                    "duration": 0.003118,
                    "end_time": "2024-05-04T20:34:35.897221",
                    "exception": false,
                    "start_time": "2024-05-04T20:34:35.894103",
                    "status": "completed"
                },
                "tags": []
            },
            "source": [
                "### Intensity mean variance plot"
            ]
        },
        {
            "cell_type": "code",
            "execution_count": 8,
            "id": "6a7aae68",
            "metadata": {
                "execution": {
                    "iopub.execute_input": "2024-05-04T20:34:35.905921Z",
                    "iopub.status.busy": "2024-05-04T20:34:35.905138Z",
                    "iopub.status.idle": "2024-05-04T20:34:37.069221Z",
                    "shell.execute_reply": "2024-05-04T20:34:37.067817Z"
                },
                "papermill": {
                    "duration": 1.170539,
                    "end_time": "2024-05-04T20:34:37.070855",
                    "exception": false,
                    "start_time": "2024-05-04T20:34:35.900316",
                    "status": "completed"
                },
                "tags": [],
                "vscode": {
                    "languageId": "r"
                }
            },
            "outputs": [
                {
                    "name": "stderr",
                    "output_type": "stream",
                    "text": [
                        "Warning message:\n",
                        "\u201c\u001b[1m\u001b[22mRemoved 13 rows containing non-finite outside the scale range (`stat_boxplot()`).\u201d\n"
                    ]
                },
                {
                    "name": "stderr",
                    "output_type": "stream",
                    "text": [
                        "Warning message:\n",
                        "\u201c\u001b[1m\u001b[22mRemoved 13 rows containing non-finite outside the scale range (`stat_signif()`).\u201d\n"
                    ]
                },
                {
                    "name": "stderr",
                    "output_type": "stream",
                    "text": [
                        "Warning message:\n",
                        "\u201c\u001b[1m\u001b[22mRemoved 13 rows containing non-finite outside the scale range (`stat_signif()`).\u201d\n"
                    ]
                },
                {
                    "name": "stderr",
                    "output_type": "stream",
                    "text": [
                        "Warning message:\n",
                        "\u201c\u001b[1m\u001b[22mRemoved 13 rows containing non-finite outside the scale range (`stat_signif()`).\u201d\n"
                    ]
                },
                {
                    "name": "stderr",
                    "output_type": "stream",
                    "text": [
                        "Warning message:\n",
                        "\u201c\u001b[1m\u001b[22mRemoved 3 rows containing missing values or values outside the scale range (`geom_signif()`).\u201d\n"
                    ]
                },
                {
                    "name": "stderr",
                    "output_type": "stream",
                    "text": [
                        "Warning message:\n",
                        "\u201c\u001b[1m\u001b[22mRemoved 3 rows containing missing values or values outside the scale range (`geom_signif()`).\u201d\n"
                    ]
                },
                {
                    "name": "stderr",
                    "output_type": "stream",
                    "text": [
                        "Warning message:\n",
                        "\u201c\u001b[1m\u001b[22mRemoved 13 rows containing non-finite outside the scale range (`stat_boxplot()`).\u201d\n"
                    ]
                },
                {
                    "name": "stderr",
                    "output_type": "stream",
                    "text": [
                        "Warning message:\n",
                        "\u201c\u001b[1m\u001b[22mRemoved 13 rows containing non-finite outside the scale range (`stat_signif()`).\u201d\n"
                    ]
                },
                {
                    "name": "stderr",
                    "output_type": "stream",
                    "text": [
                        "Warning message:\n",
                        "\u201c\u001b[1m\u001b[22mRemoved 13 rows containing non-finite outside the scale range (`stat_signif()`).\u201d\n"
                    ]
                },
                {
                    "name": "stderr",
                    "output_type": "stream",
                    "text": [
                        "Warning message:\n",
                        "\u201c\u001b[1m\u001b[22mRemoved 13 rows containing non-finite outside the scale range (`stat_signif()`).\u201d\n"
                    ]
                },
                {
                    "name": "stderr",
                    "output_type": "stream",
                    "text": [
                        "Warning message:\n",
                        "\u201c\u001b[1m\u001b[22mRemoved 3 rows containing missing values or values outside the scale range (`geom_signif()`).\u201d\n"
                    ]
                },
                {
                    "name": "stderr",
                    "output_type": "stream",
                    "text": [
                        "Warning message:\n",
                        "\u201c\u001b[1m\u001b[22mRemoved 3 rows containing missing values or values outside the scale range (`geom_signif()`).\u201d\n"
                    ]
                },
                {
                    "data": {
                        "image/png": "[encoded data removed]",
                        "text/plain": [
                            "plot without title"
                        ]
                    },
                    "metadata": {
                        "image/png": {
                            "height": 300,
                            "width": 480
                        }
                    },
                    "output_type": "display_data"
                }
            ],
            "source": [
                "intensity_var <- variance_df %>% filter(feature_group == \"Intensity\")\n",
                "WT_vs_high_significance <- levene_df_Intensity %>% filter(group == \"high_intensity_v_wt_intensity\")\n",
                "WT_vs_unsel_significance <- levene_df_Intensity %>% filter(group == \"unsel_intensity_v_wt_intensity\")\n",
                "unsel_vs_high_significance <- levene_df_Intensity %>% filter(group == \"high_intensity_v_unsel_intensity\")\n",
                "WT_vs_high_significance <- WT_vs_high_significance$significance\n",
                "WT_vs_unsel_significance <- WT_vs_unsel_significance$significance\n",
                "unsel_vs_high_significance <- unsel_vs_high_significance$significance\n",
                "# make genotype a factor\n",
                "intensity_var$Metadata_genotype <- factor(intensity_var$Metadata_genotype, levels = c(\"Wild Type\", \"Mid-Severity\", \"High-Severity\"))\n",
                "width <- 8\n",
                "height <- 5\n",
                "options(repr.plot.width=width, repr.plot.height=height)\n",
                "\n",
                "intensity_plot <- (\n",
                "        ggplot(intensity_var, aes(x = Metadata_genotype, y = variance)) \n",
                "        + geom_boxplot(aes(fill = Metadata_genotype))\n",
                "        + labs(x = \"Genotype\", y = \"Variance\", fill = \"Genotype\")\n",
                "        # remove the x axis label\n",
                "        + theme(\n",
                "            axis.title.x=element_blank(), \n",
                "            axis.ticks.x = element_blank(),\n",
                "            axis.text.x = element_blank()\n",
                "        )\n",
                "        + theme_bw()\n",
                "        + figure_theme\n",
                "        # add significance bars\n",
                "        + geom_signif(\n",
                "            comparisons = list(c(\"High-Severity\",\"Mid-Severity\")), \n",
                "            annotations = unsel_vs_high_significance,\n",
                "            textsize = 7,\n",
                "            y_position = c(2.5, 3)        ) \n",
                "        + geom_signif(\n",
                "            comparisons = list(c(\"Wild Type\",\"Mid-Severity\")), \n",
                "            annotations = WT_vs_unsel_significance, \n",
                "            textsize = 7,\n",
                "            y_position = c(2.5, 3)        )\n",
                "        + geom_signif(\n",
                "            comparisons = list(c(\"High-Severity\",\"Wild Type\")), \n",
                "            annotations = WT_vs_high_significance,\n",
                "            textsize = 7,\n",
                "            vjust = 0.1,\n",
                "            y_position = c(1.8, 2)\n",
                "\n",
                "        )\n",
                "        # # remove the legend\n",
                "        + theme(legend.position = \"none\")\n",
                "        + ylim(0, 3)\n",
                "    )\n",
                "intensity_plot\n",
                "ggsave(file=\"mean_aggregated_variance_across_genotype_Intensity.png\", plot=intensity_plot, path= file.path(fig_path), dpi=600, width=width, height=height, units=\"in\", limitsize = FALSE)"
            ]
        },
        {
            "cell_type": "markdown",
            "id": "c5f20a9a",
            "metadata": {
                "papermill": {
                    "duration": 0.006691,
                    "end_time": "2024-05-04T20:34:37.086445",
                    "exception": false,
                    "start_time": "2024-05-04T20:34:37.079754",
                    "status": "completed"
                },
                "tags": []
            },
            "source": [
                "## Granularity mean variance plot"
            ]
        },
        {
            "cell_type": "code",
            "execution_count": 9,
            "id": "d3484029",
            "metadata": {
                "execution": {
                    "iopub.execute_input": "2024-05-04T20:34:37.101858Z",
                    "iopub.status.busy": "2024-05-04T20:34:37.100746Z",
                    "iopub.status.idle": "2024-05-04T20:34:38.058868Z",
                    "shell.execute_reply": "2024-05-04T20:34:38.057646Z"
                },
                "papermill": {
                    "duration": 0.967638,
                    "end_time": "2024-05-04T20:34:38.060664",
                    "exception": false,
                    "start_time": "2024-05-04T20:34:37.093026",
                    "status": "completed"
                },
                "tags": [],
                "vscode": {
                    "languageId": "r"
                }
            },
            "outputs": [
                {
                    "name": "stderr",
                    "output_type": "stream",
                    "text": [
                        "Warning message:\n",
                        "\u201c\u001b[1m\u001b[22mRemoved 4 rows containing non-finite outside the scale range (`stat_boxplot()`).\u201d\n"
                    ]
                },
                {
                    "name": "stderr",
                    "output_type": "stream",
                    "text": [
                        "Warning message:\n",
                        "\u201c\u001b[1m\u001b[22mRemoved 4 rows containing non-finite outside the scale range (`stat_signif()`).\u201d\n"
                    ]
                },
                {
                    "name": "stderr",
                    "output_type": "stream",
                    "text": [
                        "Warning message:\n",
                        "\u201c\u001b[1m\u001b[22mRemoved 4 rows containing non-finite outside the scale range (`stat_signif()`).\u201d\n"
                    ]
                },
                {
                    "name": "stderr",
                    "output_type": "stream",
                    "text": [
                        "Warning message:\n",
                        "\u201c\u001b[1m\u001b[22mRemoved 4 rows containing non-finite outside the scale range (`stat_signif()`).\u201d\n"
                    ]
                },
                {
                    "name": "stderr",
                    "output_type": "stream",
                    "text": [
                        "Warning message:\n",
                        "\u201c\u001b[1m\u001b[22mRemoved 4 rows containing non-finite outside the scale range (`stat_boxplot()`).\u201d\n"
                    ]
                },
                {
                    "name": "stderr",
                    "output_type": "stream",
                    "text": [
                        "Warning message:\n",
                        "\u201c\u001b[1m\u001b[22mRemoved 4 rows containing non-finite outside the scale range (`stat_signif()`).\u201d\n"
                    ]
                },
                {
                    "name": "stderr",
                    "output_type": "stream",
                    "text": [
                        "Warning message:\n",
                        "\u201c\u001b[1m\u001b[22mRemoved 4 rows containing non-finite outside the scale range (`stat_signif()`).\u201d\n"
                    ]
                },
                {
                    "name": "stderr",
                    "output_type": "stream",
                    "text": [
                        "Warning message:\n",
                        "\u201c\u001b[1m\u001b[22mRemoved 4 rows containing non-finite outside the scale range (`stat_signif()`).\u201d\n"
                    ]
                },
                {
                    "data": {
                        "image/png": "[encoded data removed]",
                        "text/plain": [
                            "plot without title"
                        ]
                    },
                    "metadata": {
                        "image/png": {
                            "height": 300,
                            "width": 480
                        }
                    },
                    "output_type": "display_data"
                }
            ],
            "source": [
                "granularity_var <- variance_df %>% filter(feature_group == \"Granularity\")\n",
                "WT_vs_high_significance <- levene_df_Granularity %>% filter(group == \"high_granularity_v_wt_granularity\")\n",
                "WT_vs_unsel_significance <- levene_df_Granularity %>% filter(group == \"unsel_granularity_v_wt_granularity\")\n",
                "unsel_vs_high_significance <- levene_df_Granularity %>% filter(group == \"high_granularity_v_unsel_granularity\")\n",
                "WT_vs_high_significance <- WT_vs_high_significance$significance\n",
                "WT_vs_unsel_significance <- WT_vs_unsel_significance$significance\n",
                "unsel_vs_high_significance <- unsel_vs_high_significance$significance\n",
                "# make genotype a factor\n",
                "granularity_var$Metadata_genotype <- factor(granularity_var$Metadata_genotype, levels = c(\"Wild Type\", \"Mid-Severity\", \"High-Severity\"))\n",
                "width <- 8\n",
                "height <- 5\n",
                "options(repr.plot.width=width, repr.plot.height=height)\n",
                "\n",
                "granularity_plot <- (\n",
                "        ggplot(granularity_var, aes(x = Metadata_genotype, y = variance)) \n",
                "        + geom_boxplot(aes(fill = Metadata_genotype))\n",
                "        + labs(x = \"Genotype\", y = \"Variance\", fill = \"Genotype\")\n",
                "        # remove the x axis label\n",
                "        + theme(\n",
                "            axis.title.x=element_blank(), \n",
                "            axis.ticks.x = element_blank(),\n",
                "            axis.text.x = element_blank()\n",
                "        )\n",
                "        + theme_bw()\n",
                "        + figure_theme\n",
                "        # add significance bars\n",
                "        + geom_signif(\n",
                "            comparisons = list(c(\"High-Severity\",\"Mid-Severity\")), \n",
                "            annotations = unsel_vs_high_significance,\n",
                "            textsize = 7,\n",
                "            y_position = c(2.5, 3)        ) \n",
                "        + geom_signif(\n",
                "            comparisons = list(c(\"Wild Type\",\"Mid-Severity\")), \n",
                "            annotations = WT_vs_unsel_significance, \n",
                "            textsize = 7,\n",
                "            y_position = c(2.5, 3)        )\n",
                "        + geom_signif(\n",
                "            comparisons = list(c(\"High-Severity\",\"Wild Type\")), \n",
                "            annotations = WT_vs_high_significance,\n",
                "            textsize = 7,\n",
                "            vjust = 0.1,\n",
                "            y_position = c(1.8, 2)\n",
                "\n",
                "        )\n",
                "        # # remove the legend\n",
                "        + theme(legend.position = \"none\")\n",
                "        + ylim(0, 3)\n",
                "    )\n",
                "granularity_plot\n",
                "ggsave(file=\"custom_aggregated_variance_across_genotype_Granularity.png\", plot=granularity_plot, path= file.path(fig_path), dpi=600, width=width, height=height, units=\"in\", limitsize = FALSE)"
            ]
        },
        {
            "cell_type": "markdown",
            "id": "dc67ed17",
            "metadata": {
                "papermill": {
                    "duration": 0.006994,
                    "end_time": "2024-05-04T20:34:38.077544",
                    "exception": false,
                    "start_time": "2024-05-04T20:34:38.070550",
                    "status": "completed"
                },
                "tags": []
            },
            "source": [
                "## Neighbors mean variance plot"
            ]
        },
        {
            "cell_type": "code",
            "execution_count": 10,
            "id": "811773a3",
            "metadata": {
                "execution": {
                    "iopub.execute_input": "2024-05-04T20:34:38.094495Z",
                    "iopub.status.busy": "2024-05-04T20:34:38.093404Z",
                    "iopub.status.idle": "2024-05-04T20:34:39.211145Z",
                    "shell.execute_reply": "2024-05-04T20:34:39.209934Z"
                },
                "papermill": {
                    "duration": 1.127634,
                    "end_time": "2024-05-04T20:34:39.212525",
                    "exception": false,
                    "start_time": "2024-05-04T20:34:38.084891",
                    "status": "completed"
                },
                "tags": [],
                "vscode": {
                    "languageId": "r"
                }
            },
            "outputs": [
                {
                    "name": "stderr",
                    "output_type": "stream",
                    "text": [
                        "Warning message:\n",
                        "\u201c\u001b[1m\u001b[22mRemoved 1 row containing non-finite outside the scale range (`stat_boxplot()`).\u201d\n"
                    ]
                },
                {
                    "name": "stderr",
                    "output_type": "stream",
                    "text": [
                        "Warning message:\n",
                        "\u201c\u001b[1m\u001b[22mRemoved 1 row containing non-finite outside the scale range (`stat_signif()`).\u201d\n"
                    ]
                },
                {
                    "name": "stderr",
                    "output_type": "stream",
                    "text": [
                        "Warning message:\n",
                        "\u201c\u001b[1m\u001b[22mRemoved 1 row containing non-finite outside the scale range (`stat_signif()`).\u201d\n"
                    ]
                },
                {
                    "name": "stderr",
                    "output_type": "stream",
                    "text": [
                        "Warning message:\n",
                        "\u201c\u001b[1m\u001b[22mRemoved 1 row containing non-finite outside the scale range (`stat_signif()`).\u201d\n"
                    ]
                },
                {
                    "name": "stderr",
                    "output_type": "stream",
                    "text": [
                        "Warning message:\n",
                        "\u201c\u001b[1m\u001b[22mRemoved 1 row containing non-finite outside the scale range (`stat_boxplot()`).\u201d\n"
                    ]
                },
                {
                    "name": "stderr",
                    "output_type": "stream",
                    "text": [
                        "Warning message:\n",
                        "\u201c\u001b[1m\u001b[22mRemoved 1 row containing non-finite outside the scale range (`stat_signif()`).\u201d\n"
                    ]
                },
                {
                    "name": "stderr",
                    "output_type": "stream",
                    "text": [
                        "Warning message:\n",
                        "\u201c\u001b[1m\u001b[22mRemoved 1 row containing non-finite outside the scale range (`stat_signif()`).\u201d\n"
                    ]
                },
                {
                    "name": "stderr",
                    "output_type": "stream",
                    "text": [
                        "Warning message:\n",
                        "\u201c\u001b[1m\u001b[22mRemoved 1 row containing non-finite outside the scale range (`stat_signif()`).\u201d\n"
                    ]
                },
                {
                    "data": {
                        "image/png": "[encoded data removed]",
                        "text/plain": [
                            "plot without title"
                        ]
                    },
                    "metadata": {
                        "image/png": {
                            "height": 300,
                            "width": 480
                        }
                    },
                    "output_type": "display_data"
                }
            ],
            "source": [
                "neighbors_var <- variance_df %>% filter(feature_group == \"Neighbors\")\n",
                "WT_vs_high_significance <- levene_df_Neighbors %>% filter(group == \"high_neighbors_v_wt_neighbors\")\n",
                "WT_vs_unsel_significance <- levene_df_Neighbors %>% filter(group == \"unsel_neighbors_v_wt_neighbors\")\n",
                "unsel_vs_high_significance <- levene_df_Neighbors %>% filter(group == \"high_neighbors_v_unsel_neighbors\")\n",
                "WT_vs_high_significance <- WT_vs_high_significance$significance\n",
                "WT_vs_unsel_significance <- WT_vs_unsel_significance$significance\n",
                "unsel_vs_high_significance <- unsel_vs_high_significance$significance\n",
                "# make genotype a factor\n",
                "neighbors_var$Metadata_genotype <- factor(neighbors_var$Metadata_genotype, levels = c(\"Wild Type\", \"Mid-Severity\", \"High-Severity\"))\n",
                "width <- 8\n",
                "height <- 5\n",
                "options(repr.plot.width=width, repr.plot.height=height)\n",
                "\n",
                "neighbors_plot <- (\n",
                "        ggplot(neighbors_var, aes(x = Metadata_genotype, y = variance)) \n",
                "        + geom_boxplot(aes(fill = Metadata_genotype))\n",
                "        + labs(x = \"Genotype\", y = \"Variance\", fill = \"Genotype\")\n",
                "        # remove the x axis label\n",
                "        + theme(\n",
                "            axis.title.x=element_blank(), \n",
                "            axis.ticks.x = element_blank(),\n",
                "            axis.text.x = element_blank()\n",
                "        )\n",
                "        + theme_bw()\n",
                "        + figure_theme\n",
                "        # add significance bars\n",
                "        + geom_signif(\n",
                "            comparisons = list(c(\"High-Severity\",\"Mid-Severity\")), \n",
                "            annotations = unsel_vs_high_significance,\n",
                "            textsize = 7,\n",
                "            y_position = c(2.5, 3)        ) \n",
                "        + geom_signif(\n",
                "            comparisons = list(c(\"Wild Type\",\"Mid-Severity\")), \n",
                "            annotations = WT_vs_unsel_significance, \n",
                "            textsize = 7,\n",
                "            y_position = c(2.5, 3)        )\n",
                "        + geom_signif(\n",
                "            comparisons = list(c(\"High-Severity\",\"Wild Type\")), \n",
                "            annotations = WT_vs_high_significance,\n",
                "            textsize = 7,\n",
                "            vjust = 0.1,\n",
                "            y_position = c(1.8, 2)\n",
                "\n",
                "        )\n",
                "        # # remove the legend\n",
                "        + theme(legend.position = \"none\")\n",
                "        + ylim(0, 3)\n",
                "    )\n",
                "neighbors_plot\n",
                "ggsave(file=\"custom_aggregated_variance_across_genotype_Neighbors.png\", plot=neighbors_plot, path= file.path(fig_path), dpi=600, width=width, height=height, units=\"in\", limitsize = FALSE)\n"
            ]
        },
        {
            "cell_type": "markdown",
            "id": "8b0de7cb",
            "metadata": {
                "papermill": {
                    "duration": 0.008941,
                    "end_time": "2024-05-04T20:34:39.232381",
                    "exception": false,
                    "start_time": "2024-05-04T20:34:39.223440",
                    "status": "completed"
                },
                "tags": []
            },
            "source": [
                "## RadialDistribution mean variance plot"
            ]
        },
        {
            "cell_type": "code",
            "execution_count": 11,
            "id": "123a3b8e",
            "metadata": {
                "execution": {
                    "iopub.execute_input": "2024-05-04T20:34:39.250957Z",
                    "iopub.status.busy": "2024-05-04T20:34:39.249867Z",
                    "iopub.status.idle": "2024-05-04T20:34:40.278763Z",
                    "shell.execute_reply": "2024-05-04T20:34:40.277548Z"
                },
                "papermill": {
                    "duration": 1.039608,
                    "end_time": "2024-05-04T20:34:40.280196",
                    "exception": false,
                    "start_time": "2024-05-04T20:34:39.240588",
                    "status": "completed"
                },
                "tags": [],
                "vscode": {
                    "languageId": "r"
                }
            },
            "outputs": [
                {
                    "name": "stderr",
                    "output_type": "stream",
                    "text": [
                        "Warning message:\n",
                        "\u201c\u001b[1m\u001b[22mRemoved 47 rows containing non-finite outside the scale range (`stat_boxplot()`).\u201d\n"
                    ]
                },
                {
                    "name": "stderr",
                    "output_type": "stream",
                    "text": [
                        "Warning message:\n",
                        "\u201c\u001b[1m\u001b[22mRemoved 47 rows containing non-finite outside the scale range (`stat_signif()`).\u201d\n"
                    ]
                },
                {
                    "name": "stderr",
                    "output_type": "stream",
                    "text": [
                        "Warning message:\n",
                        "\u201c\u001b[1m\u001b[22mRemoved 47 rows containing non-finite outside the scale range (`stat_signif()`).\u201d\n"
                    ]
                },
                {
                    "name": "stderr",
                    "output_type": "stream",
                    "text": [
                        "Warning message:\n",
                        "\u201c\u001b[1m\u001b[22mRemoved 47 rows containing non-finite outside the scale range (`stat_signif()`).\u201d\n"
                    ]
                },
                {
                    "name": "stderr",
                    "output_type": "stream",
                    "text": [
                        "Warning message:\n",
                        "\u201c\u001b[1m\u001b[22mRemoved 3 rows containing missing values or values outside the scale range (`geom_signif()`).\u201d\n"
                    ]
                },
                {
                    "name": "stderr",
                    "output_type": "stream",
                    "text": [
                        "Warning message:\n",
                        "\u201c\u001b[1m\u001b[22mRemoved 3 rows containing missing values or values outside the scale range (`geom_signif()`).\u201d\n"
                    ]
                },
                {
                    "name": "stderr",
                    "output_type": "stream",
                    "text": [
                        "Warning message:\n",
                        "\u201c\u001b[1m\u001b[22mRemoved 47 rows containing non-finite outside the scale range (`stat_boxplot()`).\u201d\n"
                    ]
                },
                {
                    "name": "stderr",
                    "output_type": "stream",
                    "text": [
                        "Warning message:\n",
                        "\u201c\u001b[1m\u001b[22mRemoved 47 rows containing non-finite outside the scale range (`stat_signif()`).\u201d\n"
                    ]
                },
                {
                    "name": "stderr",
                    "output_type": "stream",
                    "text": [
                        "Warning message:\n",
                        "\u201c\u001b[1m\u001b[22mRemoved 47 rows containing non-finite outside the scale range (`stat_signif()`).\u201d\n"
                    ]
                },
                {
                    "name": "stderr",
                    "output_type": "stream",
                    "text": [
                        "Warning message:\n",
                        "\u201c\u001b[1m\u001b[22mRemoved 47 rows containing non-finite outside the scale range (`stat_signif()`).\u201d\n"
                    ]
                },
                {
                    "name": "stderr",
                    "output_type": "stream",
                    "text": [
                        "Warning message:\n",
                        "\u201c\u001b[1m\u001b[22mRemoved 3 rows containing missing values or values outside the scale range (`geom_signif()`).\u201d\n"
                    ]
                },
                {
                    "name": "stderr",
                    "output_type": "stream",
                    "text": [
                        "Warning message:\n",
                        "\u201c\u001b[1m\u001b[22mRemoved 3 rows containing missing values or values outside the scale range (`geom_signif()`).\u201d\n"
                    ]
                },
                {
                    "data": {
                        "image/png": "[encoded data removed]",
                        "text/plain": [
                            "plot without title"
                        ]
                    },
                    "metadata": {
                        "image/png": {
                            "height": 300,
                            "width": 480
                        }
                    },
                    "output_type": "display_data"
                }
            ],
            "source": [
                "RadialDistribution_var <- variance_df %>% filter(feature_group == \"RadialDistribution\")\n",
                "WT_vs_high_significance <- levene_df_RadialDistribution %>% filter(group == \"high_radial_v_wt_radial\")\n",
                "WT_vs_unsel_significance <- levene_df_RadialDistribution %>% filter(group == \"unsel_radial_v_wt_radial\")\n",
                "unsel_vs_high_significance <- levene_df_RadialDistribution %>% filter(group == \"high_radial_v_unsel_radial\")\n",
                "WT_vs_high_significance <- WT_vs_high_significance$significance\n",
                "WT_vs_unsel_significance <- WT_vs_unsel_significance$significance\n",
                "unsel_vs_high_significance <- unsel_vs_high_significance$significance\n",
                "# make genotype a factor\n",
                "RadialDistribution_var$Metadata_genotype <- factor(RadialDistribution_var$Metadata_genotype, levels = c(\"Wild Type\", \"Mid-Severity\", \"High-Severity\"))\n",
                "width <- 8\n",
                "height <- 5\n",
                "options(repr.plot.width=width, repr.plot.height=height)\n",
                "\n",
                "RadialDistribution_plot <- (\n",
                "        ggplot(RadialDistribution_var, aes(x = Metadata_genotype, y = variance)) \n",
                "        + geom_boxplot(aes(fill = Metadata_genotype))\n",
                "        + labs(x = \"Genotype\", y = \"Variance\", fill = \"Genotype\")\n",
                "        # remove the x axis label\n",
                "        + theme(\n",
                "            axis.title.x=element_blank(), \n",
                "            axis.ticks.x = element_blank(),\n",
                "            axis.text.x = element_blank()\n",
                "        )\n",
                "        + theme_bw()\n",
                "        + figure_theme\n",
                "        # add significance bars\n",
                "        + geom_signif(\n",
                "            comparisons = list(c(\"High-Severity\",\"Mid-Severity\")), \n",
                "            annotations = unsel_vs_high_significance,\n",
                "            textsize = 7,\n",
                "            y_position = c(2.5, 3)        ) \n",
                "        + geom_signif(\n",
                "            comparisons = list(c(\"Wild Type\",\"Mid-Severity\")), \n",
                "            annotations = WT_vs_unsel_significance, \n",
                "            textsize = 7,\n",
                "            y_position = c(2.5, 3)        )\n",
                "        + geom_signif(\n",
                "            comparisons = list(c(\"High-Severity\",\"Wild Type\")), \n",
                "            annotations = WT_vs_high_significance,\n",
                "            textsize = 7,\n",
                "            vjust = 0.1,\n",
                "            y_position = c(1.8, 2)\n",
                "\n",
                "        )\n",
                "        # # remove the legend\n",
                "        + theme(legend.position = \"none\")\n",
                "        + ylim(0, 3)\n",
                "    )\n",
                "RadialDistribution_plot\n",
                "ggsave(file=\"custom_aggregated_variance_across_genotype_RadialDistribution.png\", plot=RadialDistribution_plot, path= file.path(fig_path), dpi=600, width=width, height=height, units=\"in\", limitsize = FALSE)"
            ]
        }
    ],
    "metadata": {
        "kernelspec": {
            "display_name": "R",
            "language": "R",
            "name": "ir"
        },
        "language_info": {
            "codemirror_mode": "r",
            "file_extension": ".r",
            "mimetype": "text/x-r-source",
            "name": "R",
            "pygments_lexer": "r",
            "version": "4.2.2"
        },
        "papermill": {
            "default_parameters": {},
            "duration": 9.548287,
            "end_time": "2024-05-04T20:34:40.411354",
            "environment_variables": {},
            "exception": null,
            "input_path": "4c.custom_aggregated_plot_features.ipynb",
            "output_path": "4c.custom_aggregated_plot_features.ipynb",
            "parameters": {},
            "start_time": "2024-05-04T20:34:30.863067",
            "version": "2.6.0"
        }
    },
    "nbformat": 4,
    "nbformat_minor": 5
}
