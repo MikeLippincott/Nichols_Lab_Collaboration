{
    "cells": [
        {
            "cell_type": "code",
            "execution_count": 1,
            "id": "aeef014c",
            "metadata": {
                "execution": {
                    "iopub.execute_input": "2024-05-04T20:34:21.199124Z",
                    "iopub.status.busy": "2024-05-04T20:34:21.193782Z",
                    "iopub.status.idle": "2024-05-04T20:34:22.720757Z",
                    "shell.execute_reply": "2024-05-04T20:34:22.717243Z"
                },
                "papermill": {
                    "duration": 1.579468,
                    "end_time": "2024-05-04T20:34:22.722655",
                    "exception": false,
                    "start_time": "2024-05-04T20:34:21.143187",
                    "status": "completed"
                },
                "tags": [],
                "vscode": {
                    "languageId": "r"
                }
            },
            "outputs": [],
            "source": [
                "# load libraries\n",
                "suppressWarnings(suppressPackageStartupMessages(library(ggplot2)))\n",
                "suppressWarnings(suppressPackageStartupMessages(library(tidyr)))\n",
                "suppressWarnings(suppressPackageStartupMessages(library(tidyverse)))\n",
                "suppressWarnings(suppressPackageStartupMessages(library(dplyr)))\n",
                "suppressWarnings(suppressPackageStartupMessages(library(arrow)))\n",
                "suppressWarnings(suppressPackageStartupMessages(library(patchwork)))\n",
                "suppressWarnings(suppressPackageStartupMessages(library(ggsignif)))\n",
                "# import ggplot theme\n",
                "source(\"../../utils/figure_themes.r\")"
            ]
        },
        {
            "cell_type": "markdown",
            "id": "f2c21ded",
            "metadata": {
                "papermill": {
                    "duration": 0.003289,
                    "end_time": "2024-05-04T20:34:22.729218",
                    "exception": false,
                    "start_time": "2024-05-04T20:34:22.725929",
                    "status": "completed"
                },
                "tags": []
            },
            "source": [
                "### Plot the variance and the levene test for each feature type"
            ]
        },
        {
            "cell_type": "code",
            "execution_count": 2,
            "id": "d5120d38",
            "metadata": {
                "execution": {
                    "iopub.execute_input": "2024-05-04T20:34:22.772894Z",
                    "iopub.status.busy": "2024-05-04T20:34:22.745512Z",
                    "iopub.status.idle": "2024-05-04T20:34:22.841799Z",
                    "shell.execute_reply": "2024-05-04T20:34:22.840497Z"
                },
                "papermill": {
                    "duration": 0.106926,
                    "end_time": "2024-05-04T20:34:22.843493",
                    "exception": false,
                    "start_time": "2024-05-04T20:34:22.736567",
                    "status": "completed"
                },
                "tags": [],
                "vscode": {
                    "languageId": "r"
                }
            },
            "outputs": [
                {
                    "data": {
                        "text/html": [
                            "<table class=\"dataframe\">\n",
                            "<caption>A data.frame: 6 \u00d7 4</caption>\n",
                            "<thead>\n",
                            "\t<tr><th></th><th scope=col>feature_group</th><th scope=col>levene_statistic</th><th scope=col>levene_p_value</th><th scope=col>group</th></tr>\n",
                            "\t<tr><th></th><th scope=col>&lt;chr&gt;</th><th scope=col>&lt;dbl&gt;</th><th scope=col>&lt;dbl&gt;</th><th scope=col>&lt;chr&gt;</th></tr>\n",
                            "</thead>\n",
                            "<tbody>\n",
                            "\t<tr><th scope=row>1</th><td>AreaShape</td><td>3.076226e-04</td><td>9.860078e-01</td><td>high_area_v_unsel_area          </td></tr>\n",
                            "\t<tr><th scope=row>2</th><td>AreaShape</td><td>2.376294e+00</td><td>1.233049e-01</td><td>high_area_v_wt_area             </td></tr>\n",
                            "\t<tr><th scope=row>3</th><td>AreaShape</td><td>2.239614e+00</td><td>1.346296e-01</td><td>unsel_area_v_wt_area            </td></tr>\n",
                            "\t<tr><th scope=row>4</th><td>Intensity</td><td>2.984981e+00</td><td>8.477890e-02</td><td>high_intensity_v_unsel_intensity</td></tr>\n",
                            "\t<tr><th scope=row>5</th><td>Intensity</td><td>8.292269e+01</td><td>3.550921e-18</td><td>high_intensity_v_wt_intensity   </td></tr>\n",
                            "\t<tr><th scope=row>6</th><td>Intensity</td><td>6.041876e+01</td><td>6.018073e-14</td><td>unsel_intensity_v_wt_intensity  </td></tr>\n",
                            "</tbody>\n",
                            "</table>\n"
                        ],
                        "text/latex": [
                            "A data.frame: 6 \u00d7 4\n",
                            "\\begin{tabular}{r|llll}\n",
                            "  & feature\\_group & levene\\_statistic & levene\\_p\\_value & group\\\\\n",
                            "  & <chr> & <dbl> & <dbl> & <chr>\\\\\n",
                            "\\hline\n",
                            "\t1 & AreaShape & 3.076226e-04 & 9.860078e-01 & high\\_area\\_v\\_unsel\\_area          \\\\\n",
                            "\t2 & AreaShape & 2.376294e+00 & 1.233049e-01 & high\\_area\\_v\\_wt\\_area             \\\\\n",
                            "\t3 & AreaShape & 2.239614e+00 & 1.346296e-01 & unsel\\_area\\_v\\_wt\\_area            \\\\\n",
                            "\t4 & Intensity & 2.984981e+00 & 8.477890e-02 & high\\_intensity\\_v\\_unsel\\_intensity\\\\\n",
                            "\t5 & Intensity & 8.292269e+01 & 3.550921e-18 & high\\_intensity\\_v\\_wt\\_intensity   \\\\\n",
                            "\t6 & Intensity & 6.041876e+01 & 6.018073e-14 & unsel\\_intensity\\_v\\_wt\\_intensity  \\\\\n",
                            "\\end{tabular}\n"
                        ],
                        "text/markdown": [
                            "\n",
                            "A data.frame: 6 \u00d7 4\n",
                            "\n",
                            "| <!--/--> | feature_group &lt;chr&gt; | levene_statistic &lt;dbl&gt; | levene_p_value &lt;dbl&gt; | group &lt;chr&gt; |\n",
                            "|---|---|---|---|---|\n",
                            "| 1 | AreaShape | 3.076226e-04 | 9.860078e-01 | high_area_v_unsel_area           |\n",
                            "| 2 | AreaShape | 2.376294e+00 | 1.233049e-01 | high_area_v_wt_area              |\n",
                            "| 3 | AreaShape | 2.239614e+00 | 1.346296e-01 | unsel_area_v_wt_area             |\n",
                            "| 4 | Intensity | 2.984981e+00 | 8.477890e-02 | high_intensity_v_unsel_intensity |\n",
                            "| 5 | Intensity | 8.292269e+01 | 3.550921e-18 | high_intensity_v_wt_intensity    |\n",
                            "| 6 | Intensity | 6.041876e+01 | 6.018073e-14 | unsel_intensity_v_wt_intensity   |\n",
                            "\n"
                        ],
                        "text/plain": [
                            "  feature_group levene_statistic levene_p_value\n",
                            "1 AreaShape     3.076226e-04     9.860078e-01  \n",
                            "2 AreaShape     2.376294e+00     1.233049e-01  \n",
                            "3 AreaShape     2.239614e+00     1.346296e-01  \n",
                            "4 Intensity     2.984981e+00     8.477890e-02  \n",
                            "5 Intensity     8.292269e+01     3.550921e-18  \n",
                            "6 Intensity     6.041876e+01     6.018073e-14  \n",
                            "  group                           \n",
                            "1 high_area_v_unsel_area          \n",
                            "2 high_area_v_wt_area             \n",
                            "3 unsel_area_v_wt_area            \n",
                            "4 high_intensity_v_unsel_intensity\n",
                            "5 high_intensity_v_wt_intensity   \n",
                            "6 unsel_intensity_v_wt_intensity  "
                        ]
                    },
                    "metadata": {},
                    "output_type": "display_data"
                },
                {
                    "data": {
                        "text/html": [
                            "<table class=\"dataframe\">\n",
                            "<caption>A data.frame: 6 \u00d7 3</caption>\n",
                            "<thead>\n",
                            "\t<tr><th></th><th scope=col>Metadata_genotype</th><th scope=col>variance</th><th scope=col>feature_group</th></tr>\n",
                            "\t<tr><th></th><th scope=col>&lt;chr&gt;</th><th scope=col>&lt;dbl&gt;</th><th scope=col>&lt;chr&gt;</th></tr>\n",
                            "</thead>\n",
                            "<tbody>\n",
                            "\t<tr><th scope=row>1</th><td>High-Severity</td><td>1.4607390</td><td>AreaShape</td></tr>\n",
                            "\t<tr><th scope=row>2</th><td>High-Severity</td><td>1.4607390</td><td>AreaShape</td></tr>\n",
                            "\t<tr><th scope=row>3</th><td>High-Severity</td><td>2.9665618</td><td>AreaShape</td></tr>\n",
                            "\t<tr><th scope=row>4</th><td>High-Severity</td><td>3.0199371</td><td>AreaShape</td></tr>\n",
                            "\t<tr><th scope=row>5</th><td>High-Severity</td><td>0.8409867</td><td>AreaShape</td></tr>\n",
                            "\t<tr><th scope=row>6</th><td>High-Severity</td><td>8.2289058</td><td>AreaShape</td></tr>\n",
                            "</tbody>\n",
                            "</table>\n"
                        ],
                        "text/latex": [
                            "A data.frame: 6 \u00d7 3\n",
                            "\\begin{tabular}{r|lll}\n",
                            "  & Metadata\\_genotype & variance & feature\\_group\\\\\n",
                            "  & <chr> & <dbl> & <chr>\\\\\n",
                            "\\hline\n",
                            "\t1 & High-Severity & 1.4607390 & AreaShape\\\\\n",
                            "\t2 & High-Severity & 1.4607390 & AreaShape\\\\\n",
                            "\t3 & High-Severity & 2.9665618 & AreaShape\\\\\n",
                            "\t4 & High-Severity & 3.0199371 & AreaShape\\\\\n",
                            "\t5 & High-Severity & 0.8409867 & AreaShape\\\\\n",
                            "\t6 & High-Severity & 8.2289058 & AreaShape\\\\\n",
                            "\\end{tabular}\n"
                        ],
                        "text/markdown": [
                            "\n",
                            "A data.frame: 6 \u00d7 3\n",
                            "\n",
                            "| <!--/--> | Metadata_genotype &lt;chr&gt; | variance &lt;dbl&gt; | feature_group &lt;chr&gt; |\n",
                            "|---|---|---|---|\n",
                            "| 1 | High-Severity | 1.4607390 | AreaShape |\n",
                            "| 2 | High-Severity | 1.4607390 | AreaShape |\n",
                            "| 3 | High-Severity | 2.9665618 | AreaShape |\n",
                            "| 4 | High-Severity | 3.0199371 | AreaShape |\n",
                            "| 5 | High-Severity | 0.8409867 | AreaShape |\n",
                            "| 6 | High-Severity | 8.2289058 | AreaShape |\n",
                            "\n"
                        ],
                        "text/plain": [
                            "  Metadata_genotype variance  feature_group\n",
                            "1 High-Severity     1.4607390 AreaShape    \n",
                            "2 High-Severity     1.4607390 AreaShape    \n",
                            "3 High-Severity     2.9665618 AreaShape    \n",
                            "4 High-Severity     3.0199371 AreaShape    \n",
                            "5 High-Severity     0.8409867 AreaShape    \n",
                            "6 High-Severity     8.2289058 AreaShape    "
                        ]
                    },
                    "metadata": {},
                    "output_type": "display_data"
                },
                {
                    "data": {
                        "text/html": [
                            "<table class=\"dataframe\">\n",
                            "<caption>A data.frame: 6 \u00d7 7</caption>\n",
                            "<thead>\n",
                            "\t<tr><th></th><th scope=col>Metadata_genotype</th><th scope=col>feature_group</th><th scope=col>variance_mean</th><th scope=col>variance_std</th><th scope=col>variance_max</th><th scope=col>variance_min</th><th scope=col>variance_count</th></tr>\n",
                            "\t<tr><th></th><th scope=col>&lt;chr&gt;</th><th scope=col>&lt;chr&gt;</th><th scope=col>&lt;dbl&gt;</th><th scope=col>&lt;dbl&gt;</th><th scope=col>&lt;dbl&gt;</th><th scope=col>&lt;dbl&gt;</th><th scope=col>&lt;int&gt;</th></tr>\n",
                            "</thead>\n",
                            "<tbody>\n",
                            "\t<tr><th scope=row>1</th><td>High-Severity</td><td>AreaShape         </td><td>1.6968179</td><td>1.4026803</td><td>8.228906</td><td>9.149858e-06</td><td>98</td></tr>\n",
                            "\t<tr><th scope=row>2</th><td>High-Severity</td><td>Granularity       </td><td>0.4722172</td><td>0.5483877</td><td>1.539938</td><td>4.366863e-02</td><td> 6</td></tr>\n",
                            "\t<tr><th scope=row>3</th><td>High-Severity</td><td>Intensity         </td><td>1.3227816</td><td>0.7719500</td><td>3.331811</td><td>1.961612e-01</td><td>15</td></tr>\n",
                            "\t<tr><th scope=row>4</th><td>High-Severity</td><td>Neighbors         </td><td>1.9089161</td><td>0.7335883</td><td>2.668279</td><td>1.204154e+00</td><td> 3</td></tr>\n",
                            "\t<tr><th scope=row>5</th><td>High-Severity</td><td>RadialDistribution</td><td>1.5271714</td><td>1.0355966</td><td>5.207460</td><td>0.000000e+00</td><td>70</td></tr>\n",
                            "\t<tr><th scope=row>6</th><td>High-Severity</td><td>Texture           </td><td>0.7926973</td><td>0.5089774</td><td>1.702177</td><td>5.843242e-02</td><td>52</td></tr>\n",
                            "</tbody>\n",
                            "</table>\n"
                        ],
                        "text/latex": [
                            "A data.frame: 6 \u00d7 7\n",
                            "\\begin{tabular}{r|lllllll}\n",
                            "  & Metadata\\_genotype & feature\\_group & variance\\_mean & variance\\_std & variance\\_max & variance\\_min & variance\\_count\\\\\n",
                            "  & <chr> & <chr> & <dbl> & <dbl> & <dbl> & <dbl> & <int>\\\\\n",
                            "\\hline\n",
                            "\t1 & High-Severity & AreaShape          & 1.6968179 & 1.4026803 & 8.228906 & 9.149858e-06 & 98\\\\\n",
                            "\t2 & High-Severity & Granularity        & 0.4722172 & 0.5483877 & 1.539938 & 4.366863e-02 &  6\\\\\n",
                            "\t3 & High-Severity & Intensity          & 1.3227816 & 0.7719500 & 3.331811 & 1.961612e-01 & 15\\\\\n",
                            "\t4 & High-Severity & Neighbors          & 1.9089161 & 0.7335883 & 2.668279 & 1.204154e+00 &  3\\\\\n",
                            "\t5 & High-Severity & RadialDistribution & 1.5271714 & 1.0355966 & 5.207460 & 0.000000e+00 & 70\\\\\n",
                            "\t6 & High-Severity & Texture            & 0.7926973 & 0.5089774 & 1.702177 & 5.843242e-02 & 52\\\\\n",
                            "\\end{tabular}\n"
                        ],
                        "text/markdown": [
                            "\n",
                            "A data.frame: 6 \u00d7 7\n",
                            "\n",
                            "| <!--/--> | Metadata_genotype &lt;chr&gt; | feature_group &lt;chr&gt; | variance_mean &lt;dbl&gt; | variance_std &lt;dbl&gt; | variance_max &lt;dbl&gt; | variance_min &lt;dbl&gt; | variance_count &lt;int&gt; |\n",
                            "|---|---|---|---|---|---|---|---|\n",
                            "| 1 | High-Severity | AreaShape          | 1.6968179 | 1.4026803 | 8.228906 | 9.149858e-06 | 98 |\n",
                            "| 2 | High-Severity | Granularity        | 0.4722172 | 0.5483877 | 1.539938 | 4.366863e-02 |  6 |\n",
                            "| 3 | High-Severity | Intensity          | 1.3227816 | 0.7719500 | 3.331811 | 1.961612e-01 | 15 |\n",
                            "| 4 | High-Severity | Neighbors          | 1.9089161 | 0.7335883 | 2.668279 | 1.204154e+00 |  3 |\n",
                            "| 5 | High-Severity | RadialDistribution | 1.5271714 | 1.0355966 | 5.207460 | 0.000000e+00 | 70 |\n",
                            "| 6 | High-Severity | Texture            | 0.7926973 | 0.5089774 | 1.702177 | 5.843242e-02 | 52 |\n",
                            "\n"
                        ],
                        "text/plain": [
                            "  Metadata_genotype feature_group      variance_mean variance_std variance_max\n",
                            "1 High-Severity     AreaShape          1.6968179     1.4026803    8.228906    \n",
                            "2 High-Severity     Granularity        0.4722172     0.5483877    1.539938    \n",
                            "3 High-Severity     Intensity          1.3227816     0.7719500    3.331811    \n",
                            "4 High-Severity     Neighbors          1.9089161     0.7335883    2.668279    \n",
                            "5 High-Severity     RadialDistribution 1.5271714     1.0355966    5.207460    \n",
                            "6 High-Severity     Texture            0.7926973     0.5089774    1.702177    \n",
                            "  variance_min variance_count\n",
                            "1 9.149858e-06 98            \n",
                            "2 4.366863e-02  6            \n",
                            "3 1.961612e-01 15            \n",
                            "4 1.204154e+00  3            \n",
                            "5 0.000000e+00 70            \n",
                            "6 5.843242e-02 52            "
                        ]
                    },
                    "metadata": {},
                    "output_type": "display_data"
                }
            ],
            "source": [
                "# set path to read the data\n",
                "output_var_stats_path <- file.path(\"..\",\"..\",\"data\",\"6.analysis_results\",\"sum_aggregated_variance_results_feature_types_stats.csv\")\n",
                "output_var_path <- file.path(\"..\",\"..\",\"data\",\"6.analysis_results\",\"sum_aggregated_variance_results_feature_types.csv\")\n",
                "output_levene_path <- file.path(\"..\",\"..\",\"data\",\"6.analysis_results\",\"sum_aggregated_levene_test_results_feature_types.csv\")\n",
                "\n",
                "# figures output path\n",
                "fig_path <- file.path(\"..\",\"figures\",\"sum_aggregated\")\n",
                "# make the directory if it doesn't exist\n",
                "if (!dir.exists(fig_path)){\n",
                "  dir.create(fig_path, recursive = TRUE)\n",
                "}\n",
                "\n",
                "# read the data\n",
                "variance_stats_df <- read.csv(output_var_stats_path)\n",
                "variance_df <- read.csv(output_var_path)\n",
                "levene_df <- read.csv(output_levene_path)\n",
                "head(levene_df)\n",
                "head(variance_df)\n",
                "head(variance_stats_df)"
            ]
        },
        {
            "cell_type": "code",
            "execution_count": 3,
            "id": "57123ef7",
            "metadata": {
                "execution": {
                    "iopub.execute_input": "2024-05-04T20:34:22.861108Z",
                    "iopub.status.busy": "2024-05-04T20:34:22.860148Z",
                    "iopub.status.idle": "2024-05-04T20:34:22.879416Z",
                    "shell.execute_reply": "2024-05-04T20:34:22.878112Z"
                },
                "papermill": {
                    "duration": 0.032636,
                    "end_time": "2024-05-04T20:34:22.881033",
                    "exception": false,
                    "start_time": "2024-05-04T20:34:22.848397",
                    "status": "completed"
                },
                "tags": [],
                "vscode": {
                    "languageId": "r"
                }
            },
            "outputs": [
                {
                    "data": {
                        "text/html": [
                            "<table class=\"dataframe\">\n",
                            "<caption>A data.frame: 6 \u00d7 5</caption>\n",
                            "<thead>\n",
                            "\t<tr><th></th><th scope=col>feature_group</th><th scope=col>levene_statistic</th><th scope=col>levene_p_value</th><th scope=col>group</th><th scope=col>significance</th></tr>\n",
                            "\t<tr><th></th><th scope=col>&lt;chr&gt;</th><th scope=col>&lt;dbl&gt;</th><th scope=col>&lt;dbl&gt;</th><th scope=col>&lt;chr&gt;</th><th scope=col>&lt;chr&gt;</th></tr>\n",
                            "</thead>\n",
                            "<tbody>\n",
                            "\t<tr><th scope=row>1</th><td>AreaShape</td><td>3.076226e-04</td><td>9.860078e-01</td><td>high_area_v_unsel_area          </td><td>ns </td></tr>\n",
                            "\t<tr><th scope=row>2</th><td>AreaShape</td><td>2.376294e+00</td><td>1.233049e-01</td><td>high_area_v_wt_area             </td><td>ns </td></tr>\n",
                            "\t<tr><th scope=row>3</th><td>AreaShape</td><td>2.239614e+00</td><td>1.346296e-01</td><td>unsel_area_v_wt_area            </td><td>ns </td></tr>\n",
                            "\t<tr><th scope=row>4</th><td>Intensity</td><td>2.984981e+00</td><td>8.477890e-02</td><td>high_intensity_v_unsel_intensity</td><td>ns </td></tr>\n",
                            "\t<tr><th scope=row>5</th><td>Intensity</td><td>8.292269e+01</td><td>3.550921e-18</td><td>high_intensity_v_wt_intensity   </td><td>***</td></tr>\n",
                            "\t<tr><th scope=row>6</th><td>Intensity</td><td>6.041876e+01</td><td>6.018073e-14</td><td>unsel_intensity_v_wt_intensity  </td><td>***</td></tr>\n",
                            "</tbody>\n",
                            "</table>\n"
                        ],
                        "text/latex": [
                            "A data.frame: 6 \u00d7 5\n",
                            "\\begin{tabular}{r|lllll}\n",
                            "  & feature\\_group & levene\\_statistic & levene\\_p\\_value & group & significance\\\\\n",
                            "  & <chr> & <dbl> & <dbl> & <chr> & <chr>\\\\\n",
                            "\\hline\n",
                            "\t1 & AreaShape & 3.076226e-04 & 9.860078e-01 & high\\_area\\_v\\_unsel\\_area           & ns \\\\\n",
                            "\t2 & AreaShape & 2.376294e+00 & 1.233049e-01 & high\\_area\\_v\\_wt\\_area              & ns \\\\\n",
                            "\t3 & AreaShape & 2.239614e+00 & 1.346296e-01 & unsel\\_area\\_v\\_wt\\_area             & ns \\\\\n",
                            "\t4 & Intensity & 2.984981e+00 & 8.477890e-02 & high\\_intensity\\_v\\_unsel\\_intensity & ns \\\\\n",
                            "\t5 & Intensity & 8.292269e+01 & 3.550921e-18 & high\\_intensity\\_v\\_wt\\_intensity    & ***\\\\\n",
                            "\t6 & Intensity & 6.041876e+01 & 6.018073e-14 & unsel\\_intensity\\_v\\_wt\\_intensity   & ***\\\\\n",
                            "\\end{tabular}\n"
                        ],
                        "text/markdown": [
                            "\n",
                            "A data.frame: 6 \u00d7 5\n",
                            "\n",
                            "| <!--/--> | feature_group &lt;chr&gt; | levene_statistic &lt;dbl&gt; | levene_p_value &lt;dbl&gt; | group &lt;chr&gt; | significance &lt;chr&gt; |\n",
                            "|---|---|---|---|---|---|\n",
                            "| 1 | AreaShape | 3.076226e-04 | 9.860078e-01 | high_area_v_unsel_area           | ns  |\n",
                            "| 2 | AreaShape | 2.376294e+00 | 1.233049e-01 | high_area_v_wt_area              | ns  |\n",
                            "| 3 | AreaShape | 2.239614e+00 | 1.346296e-01 | unsel_area_v_wt_area             | ns  |\n",
                            "| 4 | Intensity | 2.984981e+00 | 8.477890e-02 | high_intensity_v_unsel_intensity | ns  |\n",
                            "| 5 | Intensity | 8.292269e+01 | 3.550921e-18 | high_intensity_v_wt_intensity    | *** |\n",
                            "| 6 | Intensity | 6.041876e+01 | 6.018073e-14 | unsel_intensity_v_wt_intensity   | *** |\n",
                            "\n"
                        ],
                        "text/plain": [
                            "  feature_group levene_statistic levene_p_value\n",
                            "1 AreaShape     3.076226e-04     9.860078e-01  \n",
                            "2 AreaShape     2.376294e+00     1.233049e-01  \n",
                            "3 AreaShape     2.239614e+00     1.346296e-01  \n",
                            "4 Intensity     2.984981e+00     8.477890e-02  \n",
                            "5 Intensity     8.292269e+01     3.550921e-18  \n",
                            "6 Intensity     6.041876e+01     6.018073e-14  \n",
                            "  group                            significance\n",
                            "1 high_area_v_unsel_area           ns          \n",
                            "2 high_area_v_wt_area              ns          \n",
                            "3 unsel_area_v_wt_area             ns          \n",
                            "4 high_intensity_v_unsel_intensity ns          \n",
                            "5 high_intensity_v_wt_intensity    ***         \n",
                            "6 unsel_intensity_v_wt_intensity   ***         "
                        ]
                    },
                    "metadata": {},
                    "output_type": "display_data"
                }
            ],
            "source": [
                "# make a new column for ***\n",
                "levene_df$significance <- ifelse(\n",
                "    levene_df$levene_p_value < 0.001, \"***\", \n",
                "    ifelse(levene_df$levene_p_value < 0.01, \"**\", \n",
                "    ifelse(levene_df$levene_p_value < 0.05, \"*\", \n",
                "    \"ns\")\n",
                "    )\n",
                ")\n",
                "head(levene_df)"
            ]
        },
        {
            "cell_type": "code",
            "execution_count": 4,
            "id": "9e521d1b",
            "metadata": {
                "execution": {
                    "iopub.execute_input": "2024-05-04T20:34:22.901412Z",
                    "iopub.status.busy": "2024-05-04T20:34:22.900298Z",
                    "iopub.status.idle": "2024-05-04T20:34:22.985750Z",
                    "shell.execute_reply": "2024-05-04T20:34:22.976765Z"
                },
                "papermill": {
                    "duration": 0.102248,
                    "end_time": "2024-05-04T20:34:22.987372",
                    "exception": false,
                    "start_time": "2024-05-04T20:34:22.885124",
                    "status": "completed"
                },
                "tags": [],
                "vscode": {
                    "languageId": "r"
                }
            },
            "outputs": [],
            "source": [
                "# split the levene_df into dfs for each feature group\n",
                "levene_df_AreaShape <- levene_df %>% filter(feature_group == \"AreaShape\")\n",
                "levene_df_Intensity <- levene_df %>% filter(feature_group == \"Intensity\")\n",
                "levene_df_Granularity <- levene_df %>% filter(feature_group == \"Granularity\")\n",
                "levene_df_Neighbors <- levene_df %>% filter(feature_group == \"Neighbors\")\n",
                "levene_df_RadialDistribution <- levene_df %>% filter(feature_group == \"RadialDistribution\")\n",
                "\n",
                "# split the variance_df into dfs for each feature group\n",
                "variance_df_AreaShape <- variance_stats_df %>% filter(feature_group == \"AreaShape\")\n",
                "variance_df_Intensity <- variance_stats_df %>% filter(feature_group == \"Intensity\")\n",
                "variance_df_Granularity <- variance_stats_df %>% filter(feature_group == \"Granularity\")\n",
                "variance_df_Neighbors <- variance_stats_df %>% filter(feature_group == \"Neighbors\")\n",
                "variance_df_RadialDistribution <- variance_stats_df %>% filter(feature_group == \"RadialDistribution\")\n"
            ]
        },
        {
            "cell_type": "markdown",
            "id": "3e322a07",
            "metadata": {
                "papermill": {
                    "duration": 0.008724,
                    "end_time": "2024-05-04T20:34:23.000318",
                    "exception": false,
                    "start_time": "2024-05-04T20:34:22.991594",
                    "status": "completed"
                },
                "tags": []
            },
            "source": [
                "## Max variance plots"
            ]
        },
        {
            "cell_type": "code",
            "execution_count": 5,
            "id": "c54ece21",
            "metadata": {
                "execution": {
                    "iopub.execute_input": "2024-05-04T20:34:23.012095Z",
                    "iopub.status.busy": "2024-05-04T20:34:23.011109Z",
                    "iopub.status.idle": "2024-05-04T20:34:23.052699Z",
                    "shell.execute_reply": "2024-05-04T20:34:23.049632Z"
                },
                "papermill": {
                    "duration": 0.048018,
                    "end_time": "2024-05-04T20:34:23.054511",
                    "exception": false,
                    "start_time": "2024-05-04T20:34:23.006493",
                    "status": "completed"
                },
                "tags": [],
                "vscode": {
                    "languageId": "r"
                }
            },
            "outputs": [
                {
                    "data": {
                        "text/html": [
                            "<table class=\"dataframe\">\n",
                            "<caption>A data.frame: 6 \u00d7 7</caption>\n",
                            "<thead>\n",
                            "\t<tr><th></th><th scope=col>Metadata_genotype</th><th scope=col>feature_group</th><th scope=col>variance_mean</th><th scope=col>variance_std</th><th scope=col>variance_max</th><th scope=col>variance_min</th><th scope=col>variance_count</th></tr>\n",
                            "\t<tr><th></th><th scope=col>&lt;chr&gt;</th><th scope=col>&lt;chr&gt;</th><th scope=col>&lt;dbl&gt;</th><th scope=col>&lt;dbl&gt;</th><th scope=col>&lt;dbl&gt;</th><th scope=col>&lt;dbl&gt;</th><th scope=col>&lt;int&gt;</th></tr>\n",
                            "</thead>\n",
                            "<tbody>\n",
                            "\t<tr><th scope=row>1</th><td>High-Severity</td><td>AreaShape         </td><td>1.6968179</td><td>1.4026803</td><td>8.228906</td><td>9.149858e-06</td><td>98</td></tr>\n",
                            "\t<tr><th scope=row>2</th><td>High-Severity</td><td>Granularity       </td><td>0.4722172</td><td>0.5483877</td><td>1.539938</td><td>4.366863e-02</td><td> 6</td></tr>\n",
                            "\t<tr><th scope=row>3</th><td>High-Severity</td><td>Intensity         </td><td>1.3227816</td><td>0.7719500</td><td>3.331811</td><td>1.961612e-01</td><td>15</td></tr>\n",
                            "\t<tr><th scope=row>4</th><td>High-Severity</td><td>Neighbors         </td><td>1.9089161</td><td>0.7335883</td><td>2.668279</td><td>1.204154e+00</td><td> 3</td></tr>\n",
                            "\t<tr><th scope=row>5</th><td>High-Severity</td><td>RadialDistribution</td><td>1.5271714</td><td>1.0355966</td><td>5.207460</td><td>0.000000e+00</td><td>70</td></tr>\n",
                            "\t<tr><th scope=row>6</th><td>High-Severity</td><td>Texture           </td><td>0.7926973</td><td>0.5089774</td><td>1.702177</td><td>5.843242e-02</td><td>52</td></tr>\n",
                            "</tbody>\n",
                            "</table>\n"
                        ],
                        "text/latex": [
                            "A data.frame: 6 \u00d7 7\n",
                            "\\begin{tabular}{r|lllllll}\n",
                            "  & Metadata\\_genotype & feature\\_group & variance\\_mean & variance\\_std & variance\\_max & variance\\_min & variance\\_count\\\\\n",
                            "  & <chr> & <chr> & <dbl> & <dbl> & <dbl> & <dbl> & <int>\\\\\n",
                            "\\hline\n",
                            "\t1 & High-Severity & AreaShape          & 1.6968179 & 1.4026803 & 8.228906 & 9.149858e-06 & 98\\\\\n",
                            "\t2 & High-Severity & Granularity        & 0.4722172 & 0.5483877 & 1.539938 & 4.366863e-02 &  6\\\\\n",
                            "\t3 & High-Severity & Intensity          & 1.3227816 & 0.7719500 & 3.331811 & 1.961612e-01 & 15\\\\\n",
                            "\t4 & High-Severity & Neighbors          & 1.9089161 & 0.7335883 & 2.668279 & 1.204154e+00 &  3\\\\\n",
                            "\t5 & High-Severity & RadialDistribution & 1.5271714 & 1.0355966 & 5.207460 & 0.000000e+00 & 70\\\\\n",
                            "\t6 & High-Severity & Texture            & 0.7926973 & 0.5089774 & 1.702177 & 5.843242e-02 & 52\\\\\n",
                            "\\end{tabular}\n"
                        ],
                        "text/markdown": [
                            "\n",
                            "A data.frame: 6 \u00d7 7\n",
                            "\n",
                            "| <!--/--> | Metadata_genotype &lt;chr&gt; | feature_group &lt;chr&gt; | variance_mean &lt;dbl&gt; | variance_std &lt;dbl&gt; | variance_max &lt;dbl&gt; | variance_min &lt;dbl&gt; | variance_count &lt;int&gt; |\n",
                            "|---|---|---|---|---|---|---|---|\n",
                            "| 1 | High-Severity | AreaShape          | 1.6968179 | 1.4026803 | 8.228906 | 9.149858e-06 | 98 |\n",
                            "| 2 | High-Severity | Granularity        | 0.4722172 | 0.5483877 | 1.539938 | 4.366863e-02 |  6 |\n",
                            "| 3 | High-Severity | Intensity          | 1.3227816 | 0.7719500 | 3.331811 | 1.961612e-01 | 15 |\n",
                            "| 4 | High-Severity | Neighbors          | 1.9089161 | 0.7335883 | 2.668279 | 1.204154e+00 |  3 |\n",
                            "| 5 | High-Severity | RadialDistribution | 1.5271714 | 1.0355966 | 5.207460 | 0.000000e+00 | 70 |\n",
                            "| 6 | High-Severity | Texture            | 0.7926973 | 0.5089774 | 1.702177 | 5.843242e-02 | 52 |\n",
                            "\n"
                        ],
                        "text/plain": [
                            "  Metadata_genotype feature_group      variance_mean variance_std variance_max\n",
                            "1 High-Severity     AreaShape          1.6968179     1.4026803    8.228906    \n",
                            "2 High-Severity     Granularity        0.4722172     0.5483877    1.539938    \n",
                            "3 High-Severity     Intensity          1.3227816     0.7719500    3.331811    \n",
                            "4 High-Severity     Neighbors          1.9089161     0.7335883    2.668279    \n",
                            "5 High-Severity     RadialDistribution 1.5271714     1.0355966    5.207460    \n",
                            "6 High-Severity     Texture            0.7926973     0.5089774    1.702177    \n",
                            "  variance_min variance_count\n",
                            "1 9.149858e-06 98            \n",
                            "2 4.366863e-02  6            \n",
                            "3 1.961612e-01 15            \n",
                            "4 1.204154e+00  3            \n",
                            "5 0.000000e+00 70            \n",
                            "6 5.843242e-02 52            "
                        ]
                    },
                    "metadata": {},
                    "output_type": "display_data"
                },
                {
                    "data": {
                        "text/html": [
                            "<style>\n",
                            ".list-inline {list-style: none; margin:0; padding: 0}\n",
                            ".list-inline>li {display: inline-block}\n",
                            ".list-inline>li:not(:last-child)::after {content: \"\\00b7\"; padding: 0 .5ex}\n",
                            "</style>\n",
                            "<ol class=list-inline><li>'High-Severity'</li><li>'Mid-Severity'</li><li>'Wild Type'</li></ol>\n"
                        ],
                        "text/latex": [
                            "\\begin{enumerate*}\n",
                            "\\item 'High-Severity'\n",
                            "\\item 'Mid-Severity'\n",
                            "\\item 'Wild Type'\n",
                            "\\end{enumerate*}\n"
                        ],
                        "text/markdown": [
                            "1. 'High-Severity'\n",
                            "2. 'Mid-Severity'\n",
                            "3. 'Wild Type'\n",
                            "\n",
                            "\n"
                        ],
                        "text/plain": [
                            "[1] \"High-Severity\" \"Mid-Severity\"  \"Wild Type\"    "
                        ]
                    },
                    "metadata": {},
                    "output_type": "display_data"
                }
            ],
            "source": [
                "head(variance_stats_df)\n",
                "unique(variance_stats_df$Metadata_genotype)"
            ]
        },
        {
            "cell_type": "code",
            "execution_count": 6,
            "id": "88753be3",
            "metadata": {
                "execution": {
                    "iopub.execute_input": "2024-05-04T20:34:23.071079Z",
                    "iopub.status.busy": "2024-05-04T20:34:23.069904Z",
                    "iopub.status.idle": "2024-05-04T20:34:24.313735Z",
                    "shell.execute_reply": "2024-05-04T20:34:24.312997Z"
                },
                "papermill": {
                    "duration": 1.256203,
                    "end_time": "2024-05-04T20:34:24.315082",
                    "exception": false,
                    "start_time": "2024-05-04T20:34:23.058879",
                    "status": "completed"
                },
                "tags": [],
                "vscode": {
                    "languageId": "r"
                }
            },
            "outputs": [
                {
                    "data": {
                        "image/png": "[encoded data removed]",
                        "text/plain": [
                            "plot without title"
                        ]
                    },
                    "metadata": {
                        "image/png": {
                            "height": 300,
                            "width": 420
                        }
                    },
                    "output_type": "display_data"
                }
            ],
            "source": [
                "width <- 7\n",
                "height <- 5\n",
                "options(repr.plot.width=width, repr.plot.height=height)\n",
                "# make genotypes and sides into factors\n",
                "variance_stats_df$Metadata_genotype <- factor(variance_stats_df$Metadata_genotype, levels = c(\"Wild Type\", \"Mid-Severity\", \"High-Severity\"))\n",
                "coef_gg <- (\n",
                "        ggplot(variance_stats_df, aes(x = Metadata_genotype, y = feature_group))\n",
                "        + geom_point(aes(fill = abs(variance_max)), pch = 22, size = 16)\n",
                "        + theme_bw()\n",
                "        + scale_fill_continuous(\n",
                "            name=\"Top variance \\nper genotype\",\n",
                "            low = \"purple\",\n",
                "            high = \"green\",\n",
                "        )\n",
                "        + xlab(\"Genotype\")\n",
                "        + ylab(\"Feature\")\n",
                "        \n",
                "        + figure_theme\n",
                "        + theme(\n",
                "            axis.text.x = element_text(angle = 45, hjust = 1, size = 14),\n",
                "        )\n",
                "        # rotate x axis labels\n",
                "        + theme(axis.text.x = element_text(angle = 45, hjust = 1))\n",
                "        + theme(plot.title = element_text(hjust = 0.5))\n",
                "        )\n",
                "coef_gg\n",
                "# save the plot\n",
                "ggsave(file=\"sum_aggregated_top_variance_per_genotype.png\", plot=coef_gg, path= file.path(fig_path), dpi=600, width=width, height=height, units=\"in\", limitsize = FALSE)"
            ]
        },
        {
            "cell_type": "markdown",
            "id": "68ab0bb0",
            "metadata": {
                "papermill": {
                    "duration": 0.004061,
                    "end_time": "2024-05-04T20:34:24.323275",
                    "exception": false,
                    "start_time": "2024-05-04T20:34:24.319214",
                    "status": "completed"
                },
                "tags": []
            },
            "source": [
                "## Variance plots with levene's test"
            ]
        },
        {
            "cell_type": "markdown",
            "id": "bd733412",
            "metadata": {
                "papermill": {
                    "duration": 0.003492,
                    "end_time": "2024-05-04T20:34:24.330225",
                    "exception": false,
                    "start_time": "2024-05-04T20:34:24.326733",
                    "status": "completed"
                },
                "tags": []
            },
            "source": [
                "### AreaShape boxplot"
            ]
        },
        {
            "cell_type": "code",
            "execution_count": 7,
            "id": "a96a787c",
            "metadata": {
                "execution": {
                    "iopub.execute_input": "2024-05-04T20:34:24.339377Z",
                    "iopub.status.busy": "2024-05-04T20:34:24.338685Z",
                    "iopub.status.idle": "2024-05-04T20:34:25.585084Z",
                    "shell.execute_reply": "2024-05-04T20:34:25.583666Z"
                },
                "papermill": {
                    "duration": 1.253902,
                    "end_time": "2024-05-04T20:34:25.587792",
                    "exception": false,
                    "start_time": "2024-05-04T20:34:24.333890",
                    "status": "completed"
                },
                "tags": [],
                "vscode": {
                    "languageId": "r"
                }
            },
            "outputs": [
                {
                    "name": "stderr",
                    "output_type": "stream",
                    "text": [
                        "Warning message:\n",
                        "\u201c\u001b[1m\u001b[22mRemoved 99 rows containing non-finite outside the scale range (`stat_boxplot()`).\u201d\n"
                    ]
                },
                {
                    "name": "stderr",
                    "output_type": "stream",
                    "text": [
                        "Warning message:\n",
                        "\u201c\u001b[1m\u001b[22mRemoved 99 rows containing non-finite outside the scale range (`stat_signif()`).\u201d\n"
                    ]
                },
                {
                    "name": "stderr",
                    "output_type": "stream",
                    "text": [
                        "Warning message:\n",
                        "\u201c\u001b[1m\u001b[22mRemoved 99 rows containing non-finite outside the scale range (`stat_signif()`).\u201d\n"
                    ]
                },
                {
                    "name": "stderr",
                    "output_type": "stream",
                    "text": [
                        "Warning message:\n",
                        "\u201c\u001b[1m\u001b[22mRemoved 99 rows containing non-finite outside the scale range (`stat_signif()`).\u201d\n"
                    ]
                },
                {
                    "name": "stderr",
                    "output_type": "stream",
                    "text": [
                        "Warning message:\n",
                        "\u201c\u001b[1m\u001b[22mRemoved 99 rows containing non-finite outside the scale range (`stat_boxplot()`).\u201d\n"
                    ]
                },
                {
                    "name": "stderr",
                    "output_type": "stream",
                    "text": [
                        "Warning message:\n",
                        "\u201c\u001b[1m\u001b[22mRemoved 99 rows containing non-finite outside the scale range (`stat_signif()`).\u201d\n"
                    ]
                },
                {
                    "name": "stderr",
                    "output_type": "stream",
                    "text": [
                        "Warning message:\n",
                        "\u201c\u001b[1m\u001b[22mRemoved 99 rows containing non-finite outside the scale range (`stat_signif()`).\u201d\n"
                    ]
                },
                {
                    "name": "stderr",
                    "output_type": "stream",
                    "text": [
                        "Warning message:\n",
                        "\u201c\u001b[1m\u001b[22mRemoved 99 rows containing non-finite outside the scale range (`stat_signif()`).\u201d\n"
                    ]
                },
                {
                    "data": {
                        "image/png": "[encoded data removed]",
                        "text/plain": [
                            "plot without title"
                        ]
                    },
                    "metadata": {
                        "image/png": {
                            "height": 300,
                            "width": 480
                        }
                    },
                    "output_type": "display_data"
                }
            ],
            "source": [
                "areashape_var <- variance_df %>% filter(feature_group == \"AreaShape\")\n",
                "WT_vs_high_significance <- levene_df_AreaShape %>% filter(group == \"high_area_v_wt_area\")\n",
                "WT_vs_unsel_significance <- levene_df_AreaShape %>% filter(group == \"unsel_area_v_wt_area\")\n",
                "unsel_vs_high_significance <- levene_df_AreaShape %>% filter(group == \"high_area_v_unsel_area\")\n",
                "WT_vs_high_significance <- WT_vs_high_significance$significance\n",
                "WT_vs_unsel_significance <- WT_vs_unsel_significance$significance\n",
                "unsel_vs_high_significance <- unsel_vs_high_significance$significance\n",
                "# make genotype a factor\n",
                "areashape_var$Metadata_genotype <- factor(areashape_var$Metadata_genotype, levels = c(\"Wild Type\", \"Mid-Severity\", \"High-Severity\"))\n",
                "width <- 8\n",
                "height <- 5\n",
                "options(repr.plot.width=width, repr.plot.height=height)\n",
                "areashape_plot <- (\n",
                "        ggplot(areashape_var, aes(x = Metadata_genotype, y = variance)) \n",
                "        + geom_boxplot(aes(fill = Metadata_genotype))\n",
                "        + labs(x = \"Genotype\", y = \"Variance\", fill = \"Genotype\")\n",
                "        # remove the x axis label\n",
                "        + theme(\n",
                "            axis.title.x=element_blank(), \n",
                "            axis.ticks.x = element_blank(),\n",
                "            axis.text.x = element_blank()\n",
                "        )\n",
                "        + theme_bw()\n",
                "        + figure_theme\n",
                "        # add significance bars\n",
                "        + geom_signif(\n",
                "            comparisons = list(c(\"High-Severity\",\"Mid-Severity\")), \n",
                "            annotations = unsel_vs_high_significance,\n",
                "            textsize = 7,\n",
                "            y_position = c(2.5, 3)       ) \n",
                "        + geom_signif(\n",
                "            comparisons = list(c(\"Wild Type\",\"Mid-Severity\")), \n",
                "            annotations = WT_vs_unsel_significance, \n",
                "            textsize = 7,\n",
                "            y_position = c(2.5, 3)        )\n",
                "        + geom_signif(\n",
                "            comparisons = list(c(\"High-Severity\",\"Wild Type\")), \n",
                "            annotations = WT_vs_high_significance,\n",
                "            textsize = 7,\n",
                "            vjust = 0.1,\n",
                "            y_position = c(1.8, 2)\n",
                "\n",
                "        )\n",
                "        # # remove the legend\n",
                "        + theme(legend.position = \"none\")\n",
                "        + ylim(0, 3)\n",
                "    )\n",
                "areashape_plot\n",
                "ggsave(file=\"sum_aggregated_variance_across_genotype_AreaShape.png\", plot=areashape_plot, path= file.path(fig_path), dpi=600, width=width, height=height, units=\"in\", limitsize = FALSE)"
            ]
        },
        {
            "cell_type": "markdown",
            "id": "a8dd9040",
            "metadata": {
                "papermill": {
                    "duration": 0.01054,
                    "end_time": "2024-05-04T20:34:25.608641",
                    "exception": false,
                    "start_time": "2024-05-04T20:34:25.598101",
                    "status": "completed"
                },
                "tags": []
            },
            "source": [
                "### Intensity mean variance plot"
            ]
        },
        {
            "cell_type": "code",
            "execution_count": 8,
            "id": "905f56d3",
            "metadata": {
                "execution": {
                    "iopub.execute_input": "2024-05-04T20:34:25.632121Z",
                    "iopub.status.busy": "2024-05-04T20:34:25.631077Z",
                    "iopub.status.idle": "2024-05-04T20:34:26.459916Z",
                    "shell.execute_reply": "2024-05-04T20:34:26.459214Z"
                },
                "papermill": {
                    "duration": 0.844091,
                    "end_time": "2024-05-04T20:34:26.461048",
                    "exception": false,
                    "start_time": "2024-05-04T20:34:25.616957",
                    "status": "completed"
                },
                "tags": [],
                "vscode": {
                    "languageId": "r"
                }
            },
            "outputs": [
                {
                    "name": "stderr",
                    "output_type": "stream",
                    "text": [
                        "Warning message:\n",
                        "\u201c\u001b[1m\u001b[22mRemoved 24 rows containing non-finite outside the scale range (`stat_boxplot()`).\u201d\n"
                    ]
                },
                {
                    "name": "stderr",
                    "output_type": "stream",
                    "text": [
                        "Warning message:\n",
                        "\u201c\u001b[1m\u001b[22mRemoved 24 rows containing non-finite outside the scale range (`stat_signif()`).\u201d\n"
                    ]
                },
                {
                    "name": "stderr",
                    "output_type": "stream",
                    "text": [
                        "Warning message:\n",
                        "\u201c\u001b[1m\u001b[22mRemoved 24 rows containing non-finite outside the scale range (`stat_signif()`).\u201d\n"
                    ]
                },
                {
                    "name": "stderr",
                    "output_type": "stream",
                    "text": [
                        "Warning message:\n",
                        "\u201c\u001b[1m\u001b[22mRemoved 24 rows containing non-finite outside the scale range (`stat_signif()`).\u201d\n"
                    ]
                },
                {
                    "name": "stderr",
                    "output_type": "stream",
                    "text": [
                        "Warning message:\n",
                        "\u201c\u001b[1m\u001b[22mRemoved 3 rows containing missing values or values outside the scale range (`geom_signif()`).\u201d\n"
                    ]
                },
                {
                    "name": "stderr",
                    "output_type": "stream",
                    "text": [
                        "Warning message:\n",
                        "\u201c\u001b[1m\u001b[22mRemoved 24 rows containing non-finite outside the scale range (`stat_boxplot()`).\u201d\n"
                    ]
                },
                {
                    "name": "stderr",
                    "output_type": "stream",
                    "text": [
                        "Warning message:\n",
                        "\u201c\u001b[1m\u001b[22mRemoved 24 rows containing non-finite outside the scale range (`stat_signif()`).\u201d\n"
                    ]
                },
                {
                    "name": "stderr",
                    "output_type": "stream",
                    "text": [
                        "Warning message:\n",
                        "\u201c\u001b[1m\u001b[22mRemoved 24 rows containing non-finite outside the scale range (`stat_signif()`).\u201d\n"
                    ]
                },
                {
                    "name": "stderr",
                    "output_type": "stream",
                    "text": [
                        "Warning message:\n",
                        "\u201c\u001b[1m\u001b[22mRemoved 24 rows containing non-finite outside the scale range (`stat_signif()`).\u201d\n"
                    ]
                },
                {
                    "name": "stderr",
                    "output_type": "stream",
                    "text": [
                        "Warning message:\n",
                        "\u201c\u001b[1m\u001b[22mRemoved 3 rows containing missing values or values outside the scale range (`geom_signif()`).\u201d\n"
                    ]
                },
                {
                    "data": {
                        "image/png": "[encoded data removed]",
                        "text/plain": [
                            "plot without title"
                        ]
                    },
                    "metadata": {
                        "image/png": {
                            "height": 300,
                            "width": 480
                        }
                    },
                    "output_type": "display_data"
                }
            ],
            "source": [
                "intensity_var <- variance_df %>% filter(feature_group == \"Intensity\")\n",
                "WT_vs_high_significance <- levene_df_Intensity %>% filter(group == \"high_intensity_v_wt_intensity\")\n",
                "WT_vs_unsel_significance <- levene_df_Intensity %>% filter(group == \"unsel_intensity_v_wt_intensity\")\n",
                "unsel_vs_high_significance <- levene_df_Intensity %>% filter(group == \"high_intensity_v_unsel_intensity\")\n",
                "WT_vs_high_significance <- WT_vs_high_significance$significance\n",
                "WT_vs_unsel_significance <- WT_vs_unsel_significance$significance\n",
                "unsel_vs_high_significance <- unsel_vs_high_significance$significance\n",
                "# make genotype a factor\n",
                "intensity_var$Metadata_genotype <- factor(intensity_var$Metadata_genotype, levels = c(\"Wild Type\", \"Mid-Severity\", \"High-Severity\"))\n",
                "width <- 8\n",
                "height <- 5\n",
                "options(repr.plot.width=width, repr.plot.height=height)\n",
                "\n",
                "intensity_plot <- (\n",
                "        ggplot(intensity_var, aes(x = Metadata_genotype, y = variance)) \n",
                "        + geom_boxplot(aes(fill = Metadata_genotype))\n",
                "        + labs(x = \"Genotype\", y = \"Variance\", fill = \"Genotype\")\n",
                "        # remove the x axis label\n",
                "        + theme(\n",
                "            axis.title.x=element_blank(), \n",
                "            axis.ticks.x = element_blank(),\n",
                "            axis.text.x = element_blank()\n",
                "        )\n",
                "        + theme_bw()\n",
                "        + figure_theme\n",
                "        # add significance bars\n",
                "        + geom_signif(\n",
                "            comparisons = list(c(\"High-Severity\",\"Mid-Severity\")), \n",
                "            annotations = unsel_vs_high_significance,\n",
                "            textsize = 7,\n",
                "            y_position = c(2.5, 3)        ) \n",
                "        + geom_signif(\n",
                "            comparisons = list(c(\"Wild Type\",\"Mid-Severity\")), \n",
                "            annotations = WT_vs_unsel_significance, \n",
                "            textsize = 7,\n",
                "            y_position = c(2.5, 3)        )\n",
                "        + geom_signif(\n",
                "            comparisons = list(c(\"High-Severity\",\"Wild Type\")), \n",
                "            annotations = WT_vs_high_significance,\n",
                "            textsize = 7,\n",
                "            vjust = 0.1,\n",
                "            y_position = c(1.8, 2)\n",
                "\n",
                "        )\n",
                "        # # remove the legend\n",
                "        + theme(legend.position = \"none\")\n",
                "        + ylim(0, 3)\n",
                "    )\n",
                "intensity_plot\n",
                "ggsave(file=\"mean_aggregated_variance_across_genotype_Intensity.png\", plot=intensity_plot, path= file.path(fig_path), dpi=600, width=width, height=height, units=\"in\", limitsize = FALSE)"
            ]
        },
        {
            "cell_type": "markdown",
            "id": "9b0f2731",
            "metadata": {
                "papermill": {
                    "duration": 0.005238,
                    "end_time": "2024-05-04T20:34:26.472334",
                    "exception": false,
                    "start_time": "2024-05-04T20:34:26.467096",
                    "status": "completed"
                },
                "tags": []
            },
            "source": [
                "## Granularity mean variance plot"
            ]
        },
        {
            "cell_type": "code",
            "execution_count": 9,
            "id": "353b07e1",
            "metadata": {
                "execution": {
                    "iopub.execute_input": "2024-05-04T20:34:26.484958Z",
                    "iopub.status.busy": "2024-05-04T20:34:26.483855Z",
                    "iopub.status.idle": "2024-05-04T20:34:27.889364Z",
                    "shell.execute_reply": "2024-05-04T20:34:27.888084Z"
                },
                "papermill": {
                    "duration": 1.415553,
                    "end_time": "2024-05-04T20:34:27.892400",
                    "exception": false,
                    "start_time": "2024-05-04T20:34:26.476847",
                    "status": "completed"
                },
                "tags": [],
                "vscode": {
                    "languageId": "r"
                }
            },
            "outputs": [
                {
                    "name": "stderr",
                    "output_type": "stream",
                    "text": [
                        "Warning message:\n",
                        "\u201c\u001b[1m\u001b[22mRemoved 5 rows containing non-finite outside the scale range (`stat_boxplot()`).\u201d\n"
                    ]
                },
                {
                    "name": "stderr",
                    "output_type": "stream",
                    "text": [
                        "Warning message:\n",
                        "\u201c\u001b[1m\u001b[22mRemoved 5 rows containing non-finite outside the scale range (`stat_signif()`).\u201d\n"
                    ]
                },
                {
                    "name": "stderr",
                    "output_type": "stream",
                    "text": [
                        "Warning message:\n",
                        "\u201c\u001b[1m\u001b[22mRemoved 5 rows containing non-finite outside the scale range (`stat_signif()`).\u201d\n"
                    ]
                },
                {
                    "name": "stderr",
                    "output_type": "stream",
                    "text": [
                        "Warning message:\n",
                        "\u201c\u001b[1m\u001b[22mRemoved 5 rows containing non-finite outside the scale range (`stat_signif()`).\u201d\n"
                    ]
                },
                {
                    "name": "stderr",
                    "output_type": "stream",
                    "text": [
                        "Warning message:\n",
                        "\u201c\u001b[1m\u001b[22mRemoved 5 rows containing non-finite outside the scale range (`stat_boxplot()`).\u201d\n"
                    ]
                },
                {
                    "name": "stderr",
                    "output_type": "stream",
                    "text": [
                        "Warning message:\n",
                        "\u201c\u001b[1m\u001b[22mRemoved 5 rows containing non-finite outside the scale range (`stat_signif()`).\u201d\n"
                    ]
                },
                {
                    "name": "stderr",
                    "output_type": "stream",
                    "text": [
                        "Warning message:\n",
                        "\u201c\u001b[1m\u001b[22mRemoved 5 rows containing non-finite outside the scale range (`stat_signif()`).\u201d\n"
                    ]
                },
                {
                    "name": "stderr",
                    "output_type": "stream",
                    "text": [
                        "Warning message:\n",
                        "\u201c\u001b[1m\u001b[22mRemoved 5 rows containing non-finite outside the scale range (`stat_signif()`).\u201d\n"
                    ]
                },
                {
                    "data": {
                        "image/png": "[encoded data removed]",
                        "text/plain": [
                            "plot without title"
                        ]
                    },
                    "metadata": {
                        "image/png": {
                            "height": 300,
                            "width": 480
                        }
                    },
                    "output_type": "display_data"
                }
            ],
            "source": [
                "granularity_var <- variance_df %>% filter(feature_group == \"Granularity\")\n",
                "WT_vs_high_significance <- levene_df_Granularity %>% filter(group == \"high_granularity_v_wt_granularity\")\n",
                "WT_vs_unsel_significance <- levene_df_Granularity %>% filter(group == \"unsel_granularity_v_wt_granularity\")\n",
                "unsel_vs_high_significance <- levene_df_Granularity %>% filter(group == \"high_granularity_v_unsel_granularity\")\n",
                "WT_vs_high_significance <- WT_vs_high_significance$significance\n",
                "WT_vs_unsel_significance <- WT_vs_unsel_significance$significance\n",
                "unsel_vs_high_significance <- unsel_vs_high_significance$significance\n",
                "# make genotype a factor\n",
                "granularity_var$Metadata_genotype <- factor(granularity_var$Metadata_genotype, levels = c(\"Wild Type\", \"Mid-Severity\", \"High-Severity\"))\n",
                "width <- 8\n",
                "height <- 5\n",
                "options(repr.plot.width=width, repr.plot.height=height)\n",
                "\n",
                "granularity_plot <- (\n",
                "        ggplot(granularity_var, aes(x = Metadata_genotype, y = variance)) \n",
                "        + geom_boxplot(aes(fill = Metadata_genotype))\n",
                "        + labs(x = \"Genotype\", y = \"Variance\", fill = \"Genotype\")\n",
                "        # remove the x axis label\n",
                "        + theme(\n",
                "            axis.title.x=element_blank(), \n",
                "            axis.ticks.x = element_blank(),\n",
                "            axis.text.x = element_blank()\n",
                "        )\n",
                "        + theme_bw()\n",
                "        + figure_theme\n",
                "        # add significance bars\n",
                "        + geom_signif(\n",
                "            comparisons = list(c(\"High-Severity\",\"Mid-Severity\")), \n",
                "            annotations = unsel_vs_high_significance,\n",
                "            textsize = 7,\n",
                "            y_position = c(2.5, 3)        ) \n",
                "        + geom_signif(\n",
                "            comparisons = list(c(\"Wild Type\",\"Mid-Severity\")), \n",
                "            annotations = WT_vs_unsel_significance, \n",
                "            textsize = 7,\n",
                "            y_position = c(2.5, 3)        )\n",
                "        + geom_signif(\n",
                "            comparisons = list(c(\"High-Severity\",\"Wild Type\")), \n",
                "            annotations = WT_vs_high_significance,\n",
                "            textsize = 7,\n",
                "            vjust = 0.1,\n",
                "            y_position = c(1.8, 2)\n",
                "\n",
                "        )\n",
                "        # # remove the legend\n",
                "        + theme(legend.position = \"none\")\n",
                "        + ylim(0, 3)\n",
                "    )\n",
                "granularity_plot\n",
                "ggsave(file=\"sum_aggregated_variance_across_genotype_Granularity.png\", plot=granularity_plot, path= file.path(fig_path), dpi=600, width=width, height=height, units=\"in\", limitsize = FALSE)"
            ]
        },
        {
            "cell_type": "markdown",
            "id": "c15773d3",
            "metadata": {
                "papermill": {
                    "duration": 0.014552,
                    "end_time": "2024-05-04T20:34:27.917109",
                    "exception": false,
                    "start_time": "2024-05-04T20:34:27.902557",
                    "status": "completed"
                },
                "tags": []
            },
            "source": [
                "## Neighbors mean variance plot"
            ]
        },
        {
            "cell_type": "code",
            "execution_count": 10,
            "id": "2207be78",
            "metadata": {
                "execution": {
                    "iopub.execute_input": "2024-05-04T20:34:27.967176Z",
                    "iopub.status.busy": "2024-05-04T20:34:27.966063Z",
                    "iopub.status.idle": "2024-05-04T20:34:28.834605Z",
                    "shell.execute_reply": "2024-05-04T20:34:28.833867Z"
                },
                "papermill": {
                    "duration": 0.902112,
                    "end_time": "2024-05-04T20:34:28.835690",
                    "exception": false,
                    "start_time": "2024-05-04T20:34:27.933578",
                    "status": "completed"
                },
                "tags": [],
                "vscode": {
                    "languageId": "r"
                }
            },
            "outputs": [
                {
                    "name": "stderr",
                    "output_type": "stream",
                    "text": [
                        "Warning message:\n",
                        "\u201c\u001b[1m\u001b[22mRemoved 4 rows containing non-finite outside the scale range (`stat_boxplot()`).\u201d\n"
                    ]
                },
                {
                    "name": "stderr",
                    "output_type": "stream",
                    "text": [
                        "Warning message:\n",
                        "\u201c\u001b[1m\u001b[22mRemoved 4 rows containing non-finite outside the scale range (`stat_signif()`).\u201d\n"
                    ]
                },
                {
                    "name": "stderr",
                    "output_type": "stream",
                    "text": [
                        "Warning message:\n",
                        "\u201c\u001b[1m\u001b[22mRemoved 4 rows containing non-finite outside the scale range (`stat_signif()`).\u201d\n"
                    ]
                },
                {
                    "name": "stderr",
                    "output_type": "stream",
                    "text": [
                        "Warning message:\n",
                        "\u201c\u001b[1m\u001b[22mRemoved 4 rows containing non-finite outside the scale range (`stat_signif()`).\u201d\n"
                    ]
                },
                {
                    "name": "stderr",
                    "output_type": "stream",
                    "text": [
                        "Warning message:\n",
                        "\u201c\u001b[1m\u001b[22mRemoved 3 rows containing missing values or values outside the scale range (`geom_signif()`).\u201d\n"
                    ]
                },
                {
                    "name": "stderr",
                    "output_type": "stream",
                    "text": [
                        "Warning message:\n",
                        "\u201c\u001b[1m\u001b[22mRemoved 3 rows containing missing values or values outside the scale range (`geom_signif()`).\u201d\n"
                    ]
                },
                {
                    "name": "stderr",
                    "output_type": "stream",
                    "text": [
                        "Warning message:\n",
                        "\u201c\u001b[1m\u001b[22mRemoved 4 rows containing non-finite outside the scale range (`stat_boxplot()`).\u201d\n"
                    ]
                },
                {
                    "name": "stderr",
                    "output_type": "stream",
                    "text": [
                        "Warning message:\n",
                        "\u201c\u001b[1m\u001b[22mRemoved 4 rows containing non-finite outside the scale range (`stat_signif()`).\u201d\n"
                    ]
                },
                {
                    "name": "stderr",
                    "output_type": "stream",
                    "text": [
                        "Warning message:\n",
                        "\u201c\u001b[1m\u001b[22mRemoved 4 rows containing non-finite outside the scale range (`stat_signif()`).\u201d\n"
                    ]
                },
                {
                    "name": "stderr",
                    "output_type": "stream",
                    "text": [
                        "Warning message:\n",
                        "\u201c\u001b[1m\u001b[22mRemoved 4 rows containing non-finite outside the scale range (`stat_signif()`).\u201d\n"
                    ]
                },
                {
                    "name": "stderr",
                    "output_type": "stream",
                    "text": [
                        "Warning message:\n",
                        "\u201c\u001b[1m\u001b[22mRemoved 3 rows containing missing values or values outside the scale range (`geom_signif()`).\u201d\n"
                    ]
                },
                {
                    "name": "stderr",
                    "output_type": "stream",
                    "text": [
                        "Warning message:\n",
                        "\u201c\u001b[1m\u001b[22mRemoved 3 rows containing missing values or values outside the scale range (`geom_signif()`).\u201d\n"
                    ]
                },
                {
                    "data": {
                        "image/png": "[encoded data removed]",
                        "text/plain": [
                            "plot without title"
                        ]
                    },
                    "metadata": {
                        "image/png": {
                            "height": 300,
                            "width": 480
                        }
                    },
                    "output_type": "display_data"
                }
            ],
            "source": [
                "neighbors_var <- variance_df %>% filter(feature_group == \"Neighbors\")\n",
                "WT_vs_high_significance <- levene_df_Neighbors %>% filter(group == \"high_neighbors_v_wt_neighbors\")\n",
                "WT_vs_unsel_significance <- levene_df_Neighbors %>% filter(group == \"unsel_neighbors_v_wt_neighbors\")\n",
                "unsel_vs_high_significance <- levene_df_Neighbors %>% filter(group == \"high_neighbors_v_unsel_neighbors\")\n",
                "WT_vs_high_significance <- WT_vs_high_significance$significance\n",
                "WT_vs_unsel_significance <- WT_vs_unsel_significance$significance\n",
                "unsel_vs_high_significance <- unsel_vs_high_significance$significance\n",
                "# make genotype a factor\n",
                "neighbors_var$Metadata_genotype <- factor(neighbors_var$Metadata_genotype, levels = c(\"Wild Type\", \"Mid-Severity\", \"High-Severity\"))\n",
                "width <- 8\n",
                "height <- 5\n",
                "options(repr.plot.width=width, repr.plot.height=height)\n",
                "\n",
                "neighbors_plot <- (\n",
                "        ggplot(neighbors_var, aes(x = Metadata_genotype, y = variance)) \n",
                "        + geom_boxplot(aes(fill = Metadata_genotype))\n",
                "        + labs(x = \"Genotype\", y = \"Variance\", fill = \"Genotype\")\n",
                "        # remove the x axis label\n",
                "        + theme(\n",
                "            axis.title.x=element_blank(), \n",
                "            axis.ticks.x = element_blank(),\n",
                "            axis.text.x = element_blank()\n",
                "        )\n",
                "        + theme_bw()\n",
                "        + figure_theme\n",
                "        # add significance bars\n",
                "        + geom_signif(\n",
                "            comparisons = list(c(\"High-Severity\",\"Mid-Severity\")), \n",
                "            annotations = unsel_vs_high_significance,\n",
                "            textsize = 7,\n",
                "            y_position = c(2.5, 3)        ) \n",
                "        + geom_signif(\n",
                "            comparisons = list(c(\"Wild Type\",\"Mid-Severity\")), \n",
                "            annotations = WT_vs_unsel_significance, \n",
                "            textsize = 7,\n",
                "            y_position = c(2.5, 3)        )\n",
                "        + geom_signif(\n",
                "            comparisons = list(c(\"High-Severity\",\"Wild Type\")), \n",
                "            annotations = WT_vs_high_significance,\n",
                "            textsize = 7,\n",
                "            vjust = 0.1,\n",
                "            y_position = c(1.8, 2)\n",
                "\n",
                "        )\n",
                "        # # remove the legend\n",
                "        + theme(legend.position = \"none\")\n",
                "        + ylim(0, 3)\n",
                "    )\n",
                "neighbors_plot\n",
                "ggsave(file=\"sum_aggregated_variance_across_genotype_Neighbors.png\", plot=neighbors_plot, path= file.path(fig_path), dpi=600, width=width, height=height, units=\"in\", limitsize = FALSE)\n"
            ]
        },
        {
            "cell_type": "markdown",
            "id": "85943dcd",
            "metadata": {
                "papermill": {
                    "duration": 0.00777,
                    "end_time": "2024-05-04T20:34:28.852994",
                    "exception": false,
                    "start_time": "2024-05-04T20:34:28.845224",
                    "status": "completed"
                },
                "tags": []
            },
            "source": [
                "## RadialDistribution mean variance plot"
            ]
        },
        {
            "cell_type": "code",
            "execution_count": 11,
            "id": "dcaef573",
            "metadata": {
                "execution": {
                    "iopub.execute_input": "2024-05-04T20:34:28.871406Z",
                    "iopub.status.busy": "2024-05-04T20:34:28.870270Z",
                    "iopub.status.idle": "2024-05-04T20:34:30.224749Z",
                    "shell.execute_reply": "2024-05-04T20:34:30.223592Z"
                },
                "papermill": {
                    "duration": 1.365179,
                    "end_time": "2024-05-04T20:34:30.226145",
                    "exception": false,
                    "start_time": "2024-05-04T20:34:28.860966",
                    "status": "completed"
                },
                "tags": [],
                "vscode": {
                    "languageId": "r"
                }
            },
            "outputs": [
                {
                    "name": "stderr",
                    "output_type": "stream",
                    "text": [
                        "Warning message:\n",
                        "\u201c\u001b[1m\u001b[22mRemoved 93 rows containing non-finite outside the scale range (`stat_boxplot()`).\u201d\n"
                    ]
                },
                {
                    "name": "stderr",
                    "output_type": "stream",
                    "text": [
                        "Warning message:\n",
                        "\u201c\u001b[1m\u001b[22mRemoved 93 rows containing non-finite outside the scale range (`stat_signif()`).\u201d\n"
                    ]
                },
                {
                    "name": "stderr",
                    "output_type": "stream",
                    "text": [
                        "Warning message:\n",
                        "\u201c\u001b[1m\u001b[22mRemoved 93 rows containing non-finite outside the scale range (`stat_signif()`).\u201d\n"
                    ]
                },
                {
                    "name": "stderr",
                    "output_type": "stream",
                    "text": [
                        "Warning message:\n",
                        "\u201c\u001b[1m\u001b[22mRemoved 93 rows containing non-finite outside the scale range (`stat_signif()`).\u201d\n"
                    ]
                },
                {
                    "name": "stderr",
                    "output_type": "stream",
                    "text": [
                        "Warning message:\n",
                        "\u201c\u001b[1m\u001b[22mRemoved 3 rows containing missing values or values outside the scale range (`geom_signif()`).\u201d\n"
                    ]
                },
                {
                    "name": "stderr",
                    "output_type": "stream",
                    "text": [
                        "Warning message:\n",
                        "\u201c\u001b[1m\u001b[22mRemoved 3 rows containing missing values or values outside the scale range (`geom_signif()`).\u201d\n"
                    ]
                },
                {
                    "name": "stderr",
                    "output_type": "stream",
                    "text": [
                        "Warning message:\n",
                        "\u201c\u001b[1m\u001b[22mRemoved 93 rows containing non-finite outside the scale range (`stat_boxplot()`).\u201d\n"
                    ]
                },
                {
                    "name": "stderr",
                    "output_type": "stream",
                    "text": [
                        "Warning message:\n",
                        "\u201c\u001b[1m\u001b[22mRemoved 93 rows containing non-finite outside the scale range (`stat_signif()`).\u201d\n"
                    ]
                },
                {
                    "name": "stderr",
                    "output_type": "stream",
                    "text": [
                        "Warning message:\n",
                        "\u201c\u001b[1m\u001b[22mRemoved 93 rows containing non-finite outside the scale range (`stat_signif()`).\u201d\n"
                    ]
                },
                {
                    "name": "stderr",
                    "output_type": "stream",
                    "text": [
                        "Warning message:\n",
                        "\u201c\u001b[1m\u001b[22mRemoved 93 rows containing non-finite outside the scale range (`stat_signif()`).\u201d\n"
                    ]
                },
                {
                    "name": "stderr",
                    "output_type": "stream",
                    "text": [
                        "Warning message:\n",
                        "\u201c\u001b[1m\u001b[22mRemoved 3 rows containing missing values or values outside the scale range (`geom_signif()`).\u201d\n"
                    ]
                },
                {
                    "name": "stderr",
                    "output_type": "stream",
                    "text": [
                        "Warning message:\n",
                        "\u201c\u001b[1m\u001b[22mRemoved 3 rows containing missing values or values outside the scale range (`geom_signif()`).\u201d\n"
                    ]
                },
                {
                    "data": {
                        "image/png": "[encoded data removed]",
                        "text/plain": [
                            "plot without title"
                        ]
                    },
                    "metadata": {
                        "image/png": {
                            "height": 300,
                            "width": 480
                        }
                    },
                    "output_type": "display_data"
                }
            ],
            "source": [
                "RadialDistribution_var <- variance_df %>% filter(feature_group == \"RadialDistribution\")\n",
                "WT_vs_high_significance <- levene_df_RadialDistribution %>% filter(group == \"high_radial_v_wt_radial\")\n",
                "WT_vs_unsel_significance <- levene_df_RadialDistribution %>% filter(group == \"unsel_radial_v_wt_radial\")\n",
                "unsel_vs_high_significance <- levene_df_RadialDistribution %>% filter(group == \"high_radial_v_unsel_radial\")\n",
                "WT_vs_high_significance <- WT_vs_high_significance$significance\n",
                "WT_vs_unsel_significance <- WT_vs_unsel_significance$significance\n",
                "unsel_vs_high_significance <- unsel_vs_high_significance$significance\n",
                "# make genotype a factor\n",
                "RadialDistribution_var$Metadata_genotype <- factor(RadialDistribution_var$Metadata_genotype, levels = c(\"Wild Type\", \"Mid-Severity\", \"High-Severity\"))\n",
                "width <- 8\n",
                "height <- 5\n",
                "options(repr.plot.width=width, repr.plot.height=height)\n",
                "\n",
                "RadialDistribution_plot <- (\n",
                "        ggplot(RadialDistribution_var, aes(x = Metadata_genotype, y = variance)) \n",
                "        + geom_boxplot(aes(fill = Metadata_genotype))\n",
                "        + labs(x = \"Genotype\", y = \"Variance\", fill = \"Genotype\")\n",
                "        # remove the x axis label\n",
                "        + theme(\n",
                "            axis.title.x=element_blank(), \n",
                "            axis.ticks.x = element_blank(),\n",
                "            axis.text.x = element_blank()\n",
                "        )\n",
                "        + theme_bw()\n",
                "        + figure_theme\n",
                "        # add significance bars\n",
                "        + geom_signif(\n",
                "            comparisons = list(c(\"High-Severity\",\"Mid-Severity\")), \n",
                "            annotations = unsel_vs_high_significance,\n",
                "            textsize = 7,\n",
                "            y_position = c(2.5, 3)        ) \n",
                "        + geom_signif(\n",
                "            comparisons = list(c(\"Wild Type\",\"Mid-Severity\")), \n",
                "            annotations = WT_vs_unsel_significance, \n",
                "            textsize = 7,\n",
                "            y_position = c(2.5, 3)        )\n",
                "        + geom_signif(\n",
                "            comparisons = list(c(\"High-Severity\",\"Wild Type\")), \n",
                "            annotations = WT_vs_high_significance,\n",
                "            textsize = 7,\n",
                "            vjust = 0.1,\n",
                "            y_position = c(1.8, 2)\n",
                "\n",
                "        )\n",
                "        # # remove the legend\n",
                "        + theme(legend.position = \"none\")\n",
                "        + ylim(0, 3)\n",
                "    )\n",
                "RadialDistribution_plot\n",
                "ggsave(file=\"sum_aggregated_variance_across_genotype_RadialDistribution.png\", plot=RadialDistribution_plot, path= file.path(fig_path), dpi=600, width=width, height=height, units=\"in\", limitsize = FALSE)"
            ]
        }
    ],
    "metadata": {
        "kernelspec": {
            "display_name": "R",
            "language": "R",
            "name": "ir"
        },
        "language_info": {
            "codemirror_mode": "r",
            "file_extension": ".r",
            "mimetype": "text/x-r-source",
            "name": "R",
            "pygments_lexer": "r",
            "version": "4.2.2"
        },
        "papermill": {
            "default_parameters": {},
            "duration": 10.042134,
            "end_time": "2024-05-04T20:34:30.357894",
            "environment_variables": {},
            "exception": null,
            "input_path": "4b.sum_aggregated_plot_features.ipynb",
            "output_path": "4b.sum_aggregated_plot_features.ipynb",
            "parameters": {},
            "start_time": "2024-05-04T20:34:20.315760",
            "version": "2.6.0"
        }
    },
    "nbformat": 4,
    "nbformat_minor": 5
}
