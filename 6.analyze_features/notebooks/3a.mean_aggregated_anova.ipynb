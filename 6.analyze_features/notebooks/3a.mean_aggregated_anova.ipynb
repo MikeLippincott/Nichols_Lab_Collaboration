{
    "cells": [
        {
            "cell_type": "code",
            "execution_count": 1,
            "id": "4648cf64",
            "metadata": {
                "execution": {
                    "iopub.execute_input": "2024-11-06T23:45:16.031998Z",
                    "iopub.status.busy": "2024-11-06T23:45:16.031517Z",
                    "iopub.status.idle": "2024-11-06T23:45:16.802096Z",
                    "shell.execute_reply": "2024-11-06T23:45:16.801415Z"
                },
                "papermill": {
                    "duration": 0.775361,
                    "end_time": "2024-11-06T23:45:16.803460",
                    "exception": false,
                    "start_time": "2024-11-06T23:45:16.028099",
                    "status": "completed"
                },
                "tags": []
            },
            "outputs": [],
            "source": [
                "import pathlib\n",
                "\n",
                "import matplotlib.pyplot as plt\n",
                "import numpy as np\n",
                "import pandas as pd\n",
                "import seaborn as sns\n",
                "import statsmodels.api as sm\n",
                "import tqdm\n",
                "from scipy.stats import levene\n",
                "\n",
                "# import anova and tukeyhsd\n",
                "from statsmodels.formula.api import ols\n",
                "from statsmodels.stats.multicomp import pairwise_tukeyhsd\n",
                "from statsmodels.stats.multitest import multipletests"
            ]
        },
        {
            "cell_type": "code",
            "execution_count": 2,
            "id": "3ef4e5ee",
            "metadata": {
                "execution": {
                    "iopub.execute_input": "2024-11-06T23:45:16.813750Z",
                    "iopub.status.busy": "2024-11-06T23:45:16.813485Z",
                    "iopub.status.idle": "2024-11-06T23:45:16.818866Z",
                    "shell.execute_reply": "2024-11-06T23:45:16.818306Z"
                },
                "papermill": {
                    "duration": 0.011411,
                    "end_time": "2024-11-06T23:45:16.820018",
                    "exception": false,
                    "start_time": "2024-11-06T23:45:16.808607",
                    "status": "completed"
                },
                "tags": []
            },
            "outputs": [],
            "source": [
                "def anova_function(features_df: pd.DataFrame, Metdata_column: str) -> pd.DataFrame:\n",
                "    \"\"\"\n",
                "    This function will take in a dataframe and a metadata column and return the results of an anova and tukeyhsd test for each feature.\n",
                "\n",
                "\n",
                "    Parameters\n",
                "    ----------\n",
                "    features_df : pd.DataFrame\n",
                "        The dataframe containing the features with only one metadata column\n",
                "    Metdata_column : str\n",
                "        The name of the metadata column to be used for the anova test\n",
                "\n",
                "    Returns\n",
                "    -------\n",
                "    pd.DataFrame\n",
                "        A dataframe containing the results of the anova and tukeyhsd test for each feature\n",
                "    \"\"\"\n",
                "\n",
                "    # anova and tukeyhsd for each feature\n",
                "    # create a pandas data frame to store the results\n",
                "    anova_results = pd.DataFrame()\n",
                "\n",
                "    # loop through each feature\n",
                "    for feature in tqdm.tqdm(features_df.columns[:-1]):\n",
                "        # create a model\n",
                "        model = ols(f\"{feature} ~ C({Metdata_column})\", data=features_df).fit()\n",
                "        # create an anova table\n",
                "        anova_table = sm.stats.anova_lm(model, typ=2)\n",
                "        # create a tukeyhsd table\n",
                "        tukeyhsd = pairwise_tukeyhsd(features_df[feature], features_df[Metdata_column])\n",
                "        # get the f-statistic based p-value\n",
                "        anova_p_value = anova_table[\"PR(>F)\"][0]\n",
                "        tmp = pd.DataFrame(\n",
                "            tukeyhsd._results_table.data, columns=tukeyhsd._results_table.data[0]\n",
                "        ).drop(0)\n",
                "        tmp.reset_index(inplace=True, drop=True)\n",
                "        # drop the first row\n",
                "        tmp[\"feature\"] = feature\n",
                "        tmp[\"anova_p_value\"] = anova_p_value\n",
                "        tmp = pd.DataFrame(tmp)\n",
                "\n",
                "        anova_results = pd.concat([anova_results, tmp], axis=0).reset_index(drop=True)\n",
                "    return anova_results"
            ]
        },
        {
            "cell_type": "code",
            "execution_count": 3,
            "id": "cd3312e2",
            "metadata": {
                "execution": {
                    "iopub.execute_input": "2024-11-06T23:45:16.829701Z",
                    "iopub.status.busy": "2024-11-06T23:45:16.829539Z",
                    "iopub.status.idle": "2024-11-06T23:45:16.863351Z",
                    "shell.execute_reply": "2024-11-06T23:45:16.862968Z"
                },
                "papermill": {
                    "duration": 0.039209,
                    "end_time": "2024-11-06T23:45:16.863959",
                    "exception": false,
                    "start_time": "2024-11-06T23:45:16.824750",
                    "status": "completed"
                },
                "tags": []
            },
            "outputs": [
                {
                    "data": {
                        "text/html": [
                            "<div>\n",
                            "<style scoped>\n",
                            "    .dataframe tbody tr th:only-of-type {\n",
                            "        vertical-align: middle;\n",
                            "    }\n",
                            "\n",
                            "    .dataframe tbody tr th {\n",
                            "        vertical-align: top;\n",
                            "    }\n",
                            "\n",
                            "    .dataframe thead th {\n",
                            "        text-align: right;\n",
                            "    }\n",
                            "</style>\n",
                            "<table border=\"1\" class=\"dataframe\">\n",
                            "  <thead>\n",
                            "    <tr style=\"text-align: right;\">\n",
                            "      <th></th>\n",
                            "      <th>Metadata_genotype</th>\n",
                            "      <th>Metadata_replicate</th>\n",
                            "      <th>Metadata_side</th>\n",
                            "      <th>AreaShape_Area</th>\n",
                            "      <th>AreaShape_CentralMoment_0_0</th>\n",
                            "      <th>AreaShape_CentralMoment_0_1</th>\n",
                            "      <th>AreaShape_CentralMoment_0_2</th>\n",
                            "      <th>AreaShape_CentralMoment_0_3</th>\n",
                            "      <th>AreaShape_CentralMoment_1_0</th>\n",
                            "      <th>AreaShape_CentralMoment_1_1</th>\n",
                            "      <th>...</th>\n",
                            "      <th>Texture_SumEntropy_OP_3_02_256</th>\n",
                            "      <th>Texture_SumEntropy_OP_3_03_256</th>\n",
                            "      <th>Texture_SumVariance_OP_3_00_256</th>\n",
                            "      <th>Texture_SumVariance_OP_3_01_256</th>\n",
                            "      <th>Texture_SumVariance_OP_3_02_256</th>\n",
                            "      <th>Texture_SumVariance_OP_3_03_256</th>\n",
                            "      <th>Texture_Variance_OP_3_00_256</th>\n",
                            "      <th>Texture_Variance_OP_3_01_256</th>\n",
                            "      <th>Texture_Variance_OP_3_02_256</th>\n",
                            "      <th>Texture_Variance_OP_3_03_256</th>\n",
                            "    </tr>\n",
                            "  </thead>\n",
                            "  <tbody>\n",
                            "    <tr>\n",
                            "      <th>0</th>\n",
                            "      <td>high</td>\n",
                            "      <td>1</td>\n",
                            "      <td>L</td>\n",
                            "      <td>-0.178797</td>\n",
                            "      <td>-0.178797</td>\n",
                            "      <td>0.003558</td>\n",
                            "      <td>-0.386796</td>\n",
                            "      <td>0.280118</td>\n",
                            "      <td>0.037998</td>\n",
                            "      <td>0.434046</td>\n",
                            "      <td>...</td>\n",
                            "      <td>-0.627762</td>\n",
                            "      <td>-0.644990</td>\n",
                            "      <td>-0.903354</td>\n",
                            "      <td>-0.890939</td>\n",
                            "      <td>-0.896995</td>\n",
                            "      <td>-0.902870</td>\n",
                            "      <td>-0.896145</td>\n",
                            "      <td>-0.898448</td>\n",
                            "      <td>-0.898880</td>\n",
                            "      <td>-0.896609</td>\n",
                            "    </tr>\n",
                            "    <tr>\n",
                            "      <th>1</th>\n",
                            "      <td>high</td>\n",
                            "      <td>1</td>\n",
                            "      <td>R</td>\n",
                            "      <td>1.371763</td>\n",
                            "      <td>1.371763</td>\n",
                            "      <td>0.538195</td>\n",
                            "      <td>0.288322</td>\n",
                            "      <td>0.501618</td>\n",
                            "      <td>4.163833</td>\n",
                            "      <td>-1.361920</td>\n",
                            "      <td>...</td>\n",
                            "      <td>0.419551</td>\n",
                            "      <td>0.406918</td>\n",
                            "      <td>-0.188358</td>\n",
                            "      <td>-0.159114</td>\n",
                            "      <td>-0.189615</td>\n",
                            "      <td>-0.186308</td>\n",
                            "      <td>-0.218981</td>\n",
                            "      <td>-0.225754</td>\n",
                            "      <td>-0.219073</td>\n",
                            "      <td>-0.225134</td>\n",
                            "    </tr>\n",
                            "    <tr>\n",
                            "      <th>2</th>\n",
                            "      <td>high</td>\n",
                            "      <td>10</td>\n",
                            "      <td>L</td>\n",
                            "      <td>1.706234</td>\n",
                            "      <td>1.706234</td>\n",
                            "      <td>2.652373</td>\n",
                            "      <td>3.280425</td>\n",
                            "      <td>-1.992966</td>\n",
                            "      <td>0.184630</td>\n",
                            "      <td>-1.404376</td>\n",
                            "      <td>...</td>\n",
                            "      <td>0.841475</td>\n",
                            "      <td>0.834574</td>\n",
                            "      <td>1.149186</td>\n",
                            "      <td>1.152200</td>\n",
                            "      <td>1.078905</td>\n",
                            "      <td>1.144848</td>\n",
                            "      <td>1.040009</td>\n",
                            "      <td>1.025740</td>\n",
                            "      <td>1.045492</td>\n",
                            "      <td>1.027617</td>\n",
                            "    </tr>\n",
                            "    <tr>\n",
                            "      <th>3</th>\n",
                            "      <td>high</td>\n",
                            "      <td>10</td>\n",
                            "      <td>R</td>\n",
                            "      <td>0.771674</td>\n",
                            "      <td>0.771674</td>\n",
                            "      <td>-1.332747</td>\n",
                            "      <td>0.164304</td>\n",
                            "      <td>0.244371</td>\n",
                            "      <td>0.173760</td>\n",
                            "      <td>-1.885144</td>\n",
                            "      <td>...</td>\n",
                            "      <td>0.452480</td>\n",
                            "      <td>0.436138</td>\n",
                            "      <td>0.112178</td>\n",
                            "      <td>0.131982</td>\n",
                            "      <td>0.108602</td>\n",
                            "      <td>0.125700</td>\n",
                            "      <td>0.075717</td>\n",
                            "      <td>0.071207</td>\n",
                            "      <td>0.076477</td>\n",
                            "      <td>0.067922</td>\n",
                            "    </tr>\n",
                            "    <tr>\n",
                            "      <th>4</th>\n",
                            "      <td>high</td>\n",
                            "      <td>11</td>\n",
                            "      <td>L</td>\n",
                            "      <td>2.180858</td>\n",
                            "      <td>2.180858</td>\n",
                            "      <td>2.142686</td>\n",
                            "      <td>1.838038</td>\n",
                            "      <td>-0.077515</td>\n",
                            "      <td>0.008650</td>\n",
                            "      <td>0.876597</td>\n",
                            "      <td>...</td>\n",
                            "      <td>0.494813</td>\n",
                            "      <td>0.490844</td>\n",
                            "      <td>-0.016140</td>\n",
                            "      <td>0.001041</td>\n",
                            "      <td>-0.021997</td>\n",
                            "      <td>-0.020992</td>\n",
                            "      <td>-0.033934</td>\n",
                            "      <td>-0.042635</td>\n",
                            "      <td>-0.034983</td>\n",
                            "      <td>-0.038763</td>\n",
                            "    </tr>\n",
                            "  </tbody>\n",
                            "</table>\n",
                            "<p>5 rows \u00d7 247 columns</p>\n",
                            "</div>"
                        ],
                        "text/plain": [
                            "  Metadata_genotype Metadata_replicate Metadata_side  AreaShape_Area  \\\n",
                            "0              high                  1             L       -0.178797   \n",
                            "1              high                  1             R        1.371763   \n",
                            "2              high                 10             L        1.706234   \n",
                            "3              high                 10             R        0.771674   \n",
                            "4              high                 11             L        2.180858   \n",
                            "\n",
                            "   AreaShape_CentralMoment_0_0  AreaShape_CentralMoment_0_1  \\\n",
                            "0                    -0.178797                     0.003558   \n",
                            "1                     1.371763                     0.538195   \n",
                            "2                     1.706234                     2.652373   \n",
                            "3                     0.771674                    -1.332747   \n",
                            "4                     2.180858                     2.142686   \n",
                            "\n",
                            "   AreaShape_CentralMoment_0_2  AreaShape_CentralMoment_0_3  \\\n",
                            "0                    -0.386796                     0.280118   \n",
                            "1                     0.288322                     0.501618   \n",
                            "2                     3.280425                    -1.992966   \n",
                            "3                     0.164304                     0.244371   \n",
                            "4                     1.838038                    -0.077515   \n",
                            "\n",
                            "   AreaShape_CentralMoment_1_0  AreaShape_CentralMoment_1_1  ...  \\\n",
                            "0                     0.037998                     0.434046  ...   \n",
                            "1                     4.163833                    -1.361920  ...   \n",
                            "2                     0.184630                    -1.404376  ...   \n",
                            "3                     0.173760                    -1.885144  ...   \n",
                            "4                     0.008650                     0.876597  ...   \n",
                            "\n",
                            "   Texture_SumEntropy_OP_3_02_256  Texture_SumEntropy_OP_3_03_256  \\\n",
                            "0                       -0.627762                       -0.644990   \n",
                            "1                        0.419551                        0.406918   \n",
                            "2                        0.841475                        0.834574   \n",
                            "3                        0.452480                        0.436138   \n",
                            "4                        0.494813                        0.490844   \n",
                            "\n",
                            "   Texture_SumVariance_OP_3_00_256  Texture_SumVariance_OP_3_01_256  \\\n",
                            "0                        -0.903354                        -0.890939   \n",
                            "1                        -0.188358                        -0.159114   \n",
                            "2                         1.149186                         1.152200   \n",
                            "3                         0.112178                         0.131982   \n",
                            "4                        -0.016140                         0.001041   \n",
                            "\n",
                            "   Texture_SumVariance_OP_3_02_256  Texture_SumVariance_OP_3_03_256  \\\n",
                            "0                        -0.896995                        -0.902870   \n",
                            "1                        -0.189615                        -0.186308   \n",
                            "2                         1.078905                         1.144848   \n",
                            "3                         0.108602                         0.125700   \n",
                            "4                        -0.021997                        -0.020992   \n",
                            "\n",
                            "   Texture_Variance_OP_3_00_256  Texture_Variance_OP_3_01_256  \\\n",
                            "0                     -0.896145                     -0.898448   \n",
                            "1                     -0.218981                     -0.225754   \n",
                            "2                      1.040009                      1.025740   \n",
                            "3                      0.075717                      0.071207   \n",
                            "4                     -0.033934                     -0.042635   \n",
                            "\n",
                            "   Texture_Variance_OP_3_02_256  Texture_Variance_OP_3_03_256  \n",
                            "0                     -0.898880                     -0.896609  \n",
                            "1                     -0.219073                     -0.225134  \n",
                            "2                      1.045492                      1.027617  \n",
                            "3                      0.076477                      0.067922  \n",
                            "4                     -0.034983                     -0.038763  \n",
                            "\n",
                            "[5 rows x 247 columns]"
                        ]
                    },
                    "execution_count": 3,
                    "metadata": {},
                    "output_type": "execute_result"
                }
            ],
            "source": [
                "file_path = pathlib.Path(\"../../data/5.converted_data/mean_aggregated_data.parquet\")\n",
                "df = pd.read_parquet(file_path)\n",
                "df.head()"
            ]
        },
        {
            "cell_type": "code",
            "execution_count": 4,
            "id": "c0ac438d",
            "metadata": {
                "execution": {
                    "iopub.execute_input": "2024-11-06T23:45:16.872637Z",
                    "iopub.status.busy": "2024-11-06T23:45:16.872463Z",
                    "iopub.status.idle": "2024-11-06T23:45:16.875927Z",
                    "shell.execute_reply": "2024-11-06T23:45:16.875487Z"
                },
                "papermill": {
                    "duration": 0.008553,
                    "end_time": "2024-11-06T23:45:16.876850",
                    "exception": false,
                    "start_time": "2024-11-06T23:45:16.868297",
                    "status": "completed"
                },
                "tags": []
            },
            "outputs": [],
            "source": [
                "# split the features and the metadata\n",
                "metadata = df.columns.str.contains(\"Metadata\")\n",
                "# filter the metadata\n",
                "metadata_df = df.loc[:, metadata]\n",
                "# filter the features\n",
                "features_df = df.loc[:, ~metadata]"
            ]
        },
        {
            "cell_type": "markdown",
            "id": "e43ab752",
            "metadata": {
                "papermill": {
                    "duration": 0.00485,
                    "end_time": "2024-11-06T23:45:16.886356",
                    "exception": false,
                    "start_time": "2024-11-06T23:45:16.881506",
                    "status": "completed"
                },
                "tags": []
            },
            "source": [
                "## Anova for genotype only"
            ]
        },
        {
            "cell_type": "code",
            "execution_count": 5,
            "id": "005dff65",
            "metadata": {
                "execution": {
                    "iopub.execute_input": "2024-11-06T23:45:16.892840Z",
                    "iopub.status.busy": "2024-11-06T23:45:16.892554Z",
                    "iopub.status.idle": "2024-11-06T23:45:44.576400Z",
                    "shell.execute_reply": "2024-11-06T23:45:44.575937Z"
                },
                "papermill": {
                    "duration": 27.687,
                    "end_time": "2024-11-06T23:45:44.577077",
                    "exception": false,
                    "start_time": "2024-11-06T23:45:16.890077",
                    "status": "completed"
                },
                "tags": []
            },
            "outputs": [
                {
                    "name": "stderr",
                    "output_type": "stream",
                    "text": [
                        "\r",
                        "  0%|                                                              | 0/244 [00:00<?, ?it/s]"
                    ]
                },
                {
                    "name": "stderr",
                    "output_type": "stream",
                    "text": [
                        "\r",
                        "  0%|\u258f                                                     | 1/244 [00:00<00:30,  8.10it/s]"
                    ]
                },
                {
                    "name": "stderr",
                    "output_type": "stream",
                    "text": [
                        "\r",
                        "  1%|\u258d                                                     | 2/244 [00:00<00:28,  8.41it/s]"
                    ]
                },
                {
                    "name": "stderr",
                    "output_type": "stream",
                    "text": [
                        "\r",
                        "  1%|\u258b                                                     | 3/244 [00:00<00:28,  8.58it/s]"
                    ]
                },
                {
                    "name": "stderr",
                    "output_type": "stream",
                    "text": [
                        "\r",
                        "  2%|\u2589                                                     | 4/244 [00:00<00:28,  8.55it/s]"
                    ]
                },
                {
                    "name": "stderr",
                    "output_type": "stream",
                    "text": [
                        "\r",
                        "  2%|\u2588                                                     | 5/244 [00:00<00:27,  8.59it/s]"
                    ]
                },
                {
                    "name": "stderr",
                    "output_type": "stream",
                    "text": [
                        "\r",
                        "  2%|\u2588\u258e                                                    | 6/244 [00:00<00:27,  8.80it/s]"
                    ]
                },
                {
                    "name": "stderr",
                    "output_type": "stream",
                    "text": [
                        "\r",
                        "  3%|\u2588\u258c                                                    | 7/244 [00:00<00:27,  8.75it/s]"
                    ]
                },
                {
                    "name": "stderr",
                    "output_type": "stream",
                    "text": [
                        "\r",
                        "  3%|\u2588\u258a                                                    | 8/244 [00:00<00:26,  8.78it/s]"
                    ]
                },
                {
                    "name": "stderr",
                    "output_type": "stream",
                    "text": [
                        "\r",
                        "  4%|\u2588\u2589                                                    | 9/244 [00:01<00:26,  8.72it/s]"
                    ]
                },
                {
                    "name": "stderr",
                    "output_type": "stream",
                    "text": [
                        "\r",
                        "  4%|\u2588\u2588\u258f                                                  | 10/244 [00:01<00:26,  8.67it/s]"
                    ]
                },
                {
                    "name": "stderr",
                    "output_type": "stream",
                    "text": [
                        "\r",
                        "  5%|\u2588\u2588\u258d                                                  | 11/244 [00:01<00:26,  8.70it/s]"
                    ]
                },
                {
                    "name": "stderr",
                    "output_type": "stream",
                    "text": [
                        "\r",
                        "  5%|\u2588\u2588\u258c                                                  | 12/244 [00:01<00:26,  8.66it/s]"
                    ]
                },
                {
                    "name": "stderr",
                    "output_type": "stream",
                    "text": [
                        "\r",
                        "  5%|\u2588\u2588\u258a                                                  | 13/244 [00:01<00:26,  8.64it/s]"
                    ]
                },
                {
                    "name": "stderr",
                    "output_type": "stream",
                    "text": [
                        "\r",
                        "  6%|\u2588\u2588\u2588                                                  | 14/244 [00:01<00:26,  8.63it/s]"
                    ]
                },
                {
                    "name": "stderr",
                    "output_type": "stream",
                    "text": [
                        "\r",
                        "  6%|\u2588\u2588\u2588\u258e                                                 | 15/244 [00:01<00:26,  8.66it/s]"
                    ]
                },
                {
                    "name": "stderr",
                    "output_type": "stream",
                    "text": [
                        "\r",
                        "  7%|\u2588\u2588\u2588\u258d                                                 | 16/244 [00:01<00:26,  8.68it/s]"
                    ]
                },
                {
                    "name": "stderr",
                    "output_type": "stream",
                    "text": [
                        "\r",
                        "  7%|\u2588\u2588\u2588\u258b                                                 | 17/244 [00:01<00:26,  8.67it/s]"
                    ]
                },
                {
                    "name": "stderr",
                    "output_type": "stream",
                    "text": [
                        "\r",
                        "  7%|\u2588\u2588\u2588\u2589                                                 | 18/244 [00:02<00:26,  8.68it/s]"
                    ]
                },
                {
                    "name": "stderr",
                    "output_type": "stream",
                    "text": [
                        "\r",
                        "  8%|\u2588\u2588\u2588\u2588\u258f                                                | 19/244 [00:02<00:25,  8.71it/s]"
                    ]
                },
                {
                    "name": "stderr",
                    "output_type": "stream",
                    "text": [
                        "\r",
                        "  8%|\u2588\u2588\u2588\u2588\u258e                                                | 20/244 [00:02<00:25,  8.72it/s]"
                    ]
                },
                {
                    "name": "stderr",
                    "output_type": "stream",
                    "text": [
                        "\r",
                        "  9%|\u2588\u2588\u2588\u2588\u258c                                                | 21/244 [00:02<00:25,  8.75it/s]"
                    ]
                },
                {
                    "name": "stderr",
                    "output_type": "stream",
                    "text": [
                        "\r",
                        "  9%|\u2588\u2588\u2588\u2588\u258a                                                | 22/244 [00:02<00:25,  8.75it/s]"
                    ]
                },
                {
                    "name": "stderr",
                    "output_type": "stream",
                    "text": [
                        "\r",
                        "  9%|\u2588\u2588\u2588\u2588\u2589                                                | 23/244 [00:02<00:25,  8.72it/s]"
                    ]
                },
                {
                    "name": "stderr",
                    "output_type": "stream",
                    "text": [
                        "\r",
                        " 10%|\u2588\u2588\u2588\u2588\u2588\u258f                                               | 24/244 [00:02<00:25,  8.75it/s]"
                    ]
                },
                {
                    "name": "stderr",
                    "output_type": "stream",
                    "text": [
                        "\r",
                        " 10%|\u2588\u2588\u2588\u2588\u2588\u258d                                               | 25/244 [00:02<00:25,  8.74it/s]"
                    ]
                },
                {
                    "name": "stderr",
                    "output_type": "stream",
                    "text": [
                        "\r",
                        " 11%|\u2588\u2588\u2588\u2588\u2588\u258b                                               | 26/244 [00:02<00:24,  8.78it/s]"
                    ]
                },
                {
                    "name": "stderr",
                    "output_type": "stream",
                    "text": [
                        "\r",
                        " 11%|\u2588\u2588\u2588\u2588\u2588\u258a                                               | 27/244 [00:03<00:24,  8.74it/s]"
                    ]
                },
                {
                    "name": "stderr",
                    "output_type": "stream",
                    "text": [
                        "\r",
                        " 11%|\u2588\u2588\u2588\u2588\u2588\u2588                                               | 28/244 [00:03<00:24,  8.77it/s]"
                    ]
                },
                {
                    "name": "stderr",
                    "output_type": "stream",
                    "text": [
                        "\r",
                        " 12%|\u2588\u2588\u2588\u2588\u2588\u2588\u258e                                              | 29/244 [00:03<00:24,  8.74it/s]"
                    ]
                },
                {
                    "name": "stderr",
                    "output_type": "stream",
                    "text": [
                        "\r",
                        " 12%|\u2588\u2588\u2588\u2588\u2588\u2588\u258c                                              | 30/244 [00:03<00:24,  8.69it/s]"
                    ]
                },
                {
                    "name": "stderr",
                    "output_type": "stream",
                    "text": [
                        "\r",
                        " 13%|\u2588\u2588\u2588\u2588\u2588\u2588\u258b                                              | 31/244 [00:03<00:24,  8.73it/s]"
                    ]
                },
                {
                    "name": "stderr",
                    "output_type": "stream",
                    "text": [
                        "\r",
                        " 13%|\u2588\u2588\u2588\u2588\u2588\u2588\u2589                                              | 32/244 [00:03<00:24,  8.75it/s]"
                    ]
                },
                {
                    "name": "stderr",
                    "output_type": "stream",
                    "text": [
                        "\r",
                        " 14%|\u2588\u2588\u2588\u2588\u2588\u2588\u2588\u258f                                             | 33/244 [00:03<00:23,  8.80it/s]"
                    ]
                },
                {
                    "name": "stderr",
                    "output_type": "stream",
                    "text": [
                        "\r",
                        " 14%|\u2588\u2588\u2588\u2588\u2588\u2588\u2588\u258d                                             | 34/244 [00:03<00:23,  8.81it/s]"
                    ]
                },
                {
                    "name": "stderr",
                    "output_type": "stream",
                    "text": [
                        "\r",
                        " 14%|\u2588\u2588\u2588\u2588\u2588\u2588\u2588\u258c                                             | 35/244 [00:04<00:23,  8.85it/s]"
                    ]
                },
                {
                    "name": "stderr",
                    "output_type": "stream",
                    "text": [
                        "\r",
                        " 15%|\u2588\u2588\u2588\u2588\u2588\u2588\u2588\u258a                                             | 36/244 [00:04<00:23,  8.74it/s]"
                    ]
                },
                {
                    "name": "stderr",
                    "output_type": "stream",
                    "text": [
                        "\r",
                        " 15%|\u2588\u2588\u2588\u2588\u2588\u2588\u2588\u2588                                             | 37/244 [00:04<00:23,  8.76it/s]"
                    ]
                },
                {
                    "name": "stderr",
                    "output_type": "stream",
                    "text": [
                        "\r",
                        " 16%|\u2588\u2588\u2588\u2588\u2588\u2588\u2588\u2588\u258e                                            | 38/244 [00:04<00:23,  8.77it/s]"
                    ]
                },
                {
                    "name": "stderr",
                    "output_type": "stream",
                    "text": [
                        "\r",
                        " 16%|\u2588\u2588\u2588\u2588\u2588\u2588\u2588\u2588\u258d                                            | 39/244 [00:04<00:23,  8.86it/s]"
                    ]
                },
                {
                    "name": "stderr",
                    "output_type": "stream",
                    "text": [
                        "\r",
                        " 16%|\u2588\u2588\u2588\u2588\u2588\u2588\u2588\u2588\u258b                                            | 40/244 [00:04<00:22,  8.92it/s]"
                    ]
                },
                {
                    "name": "stderr",
                    "output_type": "stream",
                    "text": [
                        "\r",
                        " 17%|\u2588\u2588\u2588\u2588\u2588\u2588\u2588\u2588\u2589                                            | 41/244 [00:04<00:22,  8.86it/s]"
                    ]
                },
                {
                    "name": "stderr",
                    "output_type": "stream",
                    "text": [
                        "\r",
                        " 17%|\u2588\u2588\u2588\u2588\u2588\u2588\u2588\u2588\u2588                                            | 42/244 [00:04<00:22,  8.84it/s]"
                    ]
                },
                {
                    "name": "stderr",
                    "output_type": "stream",
                    "text": [
                        "\r",
                        " 18%|\u2588\u2588\u2588\u2588\u2588\u2588\u2588\u2588\u2588\u258e                                           | 43/244 [00:04<00:22,  8.84it/s]"
                    ]
                },
                {
                    "name": "stderr",
                    "output_type": "stream",
                    "text": [
                        "\r",
                        " 18%|\u2588\u2588\u2588\u2588\u2588\u2588\u2588\u2588\u2588\u258c                                           | 44/244 [00:05<00:22,  8.82it/s]"
                    ]
                },
                {
                    "name": "stderr",
                    "output_type": "stream",
                    "text": [
                        "\r",
                        " 18%|\u2588\u2588\u2588\u2588\u2588\u2588\u2588\u2588\u2588\u258a                                           | 45/244 [00:05<00:22,  8.77it/s]"
                    ]
                },
                {
                    "name": "stderr",
                    "output_type": "stream",
                    "text": [
                        "\r",
                        " 19%|\u2588\u2588\u2588\u2588\u2588\u2588\u2588\u2588\u2588\u2589                                           | 46/244 [00:05<00:22,  8.77it/s]"
                    ]
                },
                {
                    "name": "stderr",
                    "output_type": "stream",
                    "text": [
                        "\r",
                        " 19%|\u2588\u2588\u2588\u2588\u2588\u2588\u2588\u2588\u2588\u2588\u258f                                          | 47/244 [00:05<00:22,  8.84it/s]"
                    ]
                },
                {
                    "name": "stderr",
                    "output_type": "stream",
                    "text": [
                        "\r",
                        " 20%|\u2588\u2588\u2588\u2588\u2588\u2588\u2588\u2588\u2588\u2588\u258d                                          | 48/244 [00:05<00:22,  8.82it/s]"
                    ]
                },
                {
                    "name": "stderr",
                    "output_type": "stream",
                    "text": [
                        "\r",
                        " 20%|\u2588\u2588\u2588\u2588\u2588\u2588\u2588\u2588\u2588\u2588\u258b                                          | 49/244 [00:05<00:22,  8.72it/s]"
                    ]
                },
                {
                    "name": "stderr",
                    "output_type": "stream",
                    "text": [
                        "\r",
                        " 20%|\u2588\u2588\u2588\u2588\u2588\u2588\u2588\u2588\u2588\u2588\u258a                                          | 50/244 [00:05<00:22,  8.76it/s]"
                    ]
                },
                {
                    "name": "stderr",
                    "output_type": "stream",
                    "text": [
                        "\r",
                        " 21%|\u2588\u2588\u2588\u2588\u2588\u2588\u2588\u2588\u2588\u2588\u2588                                          | 51/244 [00:05<00:22,  8.76it/s]"
                    ]
                },
                {
                    "name": "stderr",
                    "output_type": "stream",
                    "text": [
                        "\r",
                        " 21%|\u2588\u2588\u2588\u2588\u2588\u2588\u2588\u2588\u2588\u2588\u2588\u258e                                         | 52/244 [00:05<00:21,  8.77it/s]"
                    ]
                },
                {
                    "name": "stderr",
                    "output_type": "stream",
                    "text": [
                        "\r",
                        " 22%|\u2588\u2588\u2588\u2588\u2588\u2588\u2588\u2588\u2588\u2588\u2588\u258c                                         | 53/244 [00:06<00:21,  8.76it/s]"
                    ]
                },
                {
                    "name": "stderr",
                    "output_type": "stream",
                    "text": [
                        "\r",
                        " 22%|\u2588\u2588\u2588\u2588\u2588\u2588\u2588\u2588\u2588\u2588\u2588\u258b                                         | 54/244 [00:06<00:21,  8.78it/s]"
                    ]
                },
                {
                    "name": "stderr",
                    "output_type": "stream",
                    "text": [
                        "\r",
                        " 23%|\u2588\u2588\u2588\u2588\u2588\u2588\u2588\u2588\u2588\u2588\u2588\u2589                                         | 55/244 [00:06<00:21,  8.80it/s]"
                    ]
                },
                {
                    "name": "stderr",
                    "output_type": "stream",
                    "text": [
                        "\r",
                        " 23%|\u2588\u2588\u2588\u2588\u2588\u2588\u2588\u2588\u2588\u2588\u2588\u2588\u258f                                        | 56/244 [00:06<00:21,  8.88it/s]"
                    ]
                },
                {
                    "name": "stderr",
                    "output_type": "stream",
                    "text": [
                        "\r",
                        " 23%|\u2588\u2588\u2588\u2588\u2588\u2588\u2588\u2588\u2588\u2588\u2588\u2588\u258d                                        | 57/244 [00:06<00:21,  8.88it/s]"
                    ]
                },
                {
                    "name": "stderr",
                    "output_type": "stream",
                    "text": [
                        "\r",
                        " 24%|\u2588\u2588\u2588\u2588\u2588\u2588\u2588\u2588\u2588\u2588\u2588\u2588\u258c                                        | 58/244 [00:06<00:20,  8.87it/s]"
                    ]
                },
                {
                    "name": "stderr",
                    "output_type": "stream",
                    "text": [
                        "\r",
                        " 24%|\u2588\u2588\u2588\u2588\u2588\u2588\u2588\u2588\u2588\u2588\u2588\u2588\u258a                                        | 59/244 [00:06<00:20,  8.85it/s]"
                    ]
                },
                {
                    "name": "stderr",
                    "output_type": "stream",
                    "text": [
                        "\r",
                        " 25%|\u2588\u2588\u2588\u2588\u2588\u2588\u2588\u2588\u2588\u2588\u2588\u2588\u2588                                        | 60/244 [00:06<00:20,  8.83it/s]"
                    ]
                },
                {
                    "name": "stderr",
                    "output_type": "stream",
                    "text": [
                        "\r",
                        " 25%|\u2588\u2588\u2588\u2588\u2588\u2588\u2588\u2588\u2588\u2588\u2588\u2588\u2588\u258e                                       | 61/244 [00:06<00:20,  8.83it/s]"
                    ]
                },
                {
                    "name": "stderr",
                    "output_type": "stream",
                    "text": [
                        "\r",
                        " 25%|\u2588\u2588\u2588\u2588\u2588\u2588\u2588\u2588\u2588\u2588\u2588\u2588\u2588\u258d                                       | 62/244 [00:07<00:20,  8.80it/s]"
                    ]
                },
                {
                    "name": "stderr",
                    "output_type": "stream",
                    "text": [
                        "\r",
                        " 26%|\u2588\u2588\u2588\u2588\u2588\u2588\u2588\u2588\u2588\u2588\u2588\u2588\u2588\u258b                                       | 63/244 [00:07<00:20,  8.81it/s]"
                    ]
                },
                {
                    "name": "stderr",
                    "output_type": "stream",
                    "text": [
                        "\r",
                        " 26%|\u2588\u2588\u2588\u2588\u2588\u2588\u2588\u2588\u2588\u2588\u2588\u2588\u2588\u2589                                       | 64/244 [00:07<00:20,  8.81it/s]"
                    ]
                },
                {
                    "name": "stderr",
                    "output_type": "stream",
                    "text": [
                        "\r",
                        " 27%|\u2588\u2588\u2588\u2588\u2588\u2588\u2588\u2588\u2588\u2588\u2588\u2588\u2588\u2588                                       | 65/244 [00:07<00:20,  8.82it/s]"
                    ]
                },
                {
                    "name": "stderr",
                    "output_type": "stream",
                    "text": [
                        "\r",
                        " 27%|\u2588\u2588\u2588\u2588\u2588\u2588\u2588\u2588\u2588\u2588\u2588\u2588\u2588\u2588\u258e                                      | 66/244 [00:07<00:20,  8.83it/s]"
                    ]
                },
                {
                    "name": "stderr",
                    "output_type": "stream",
                    "text": [
                        "\r",
                        " 27%|\u2588\u2588\u2588\u2588\u2588\u2588\u2588\u2588\u2588\u2588\u2588\u2588\u2588\u2588\u258c                                      | 67/244 [00:07<00:20,  8.84it/s]"
                    ]
                },
                {
                    "name": "stderr",
                    "output_type": "stream",
                    "text": [
                        "\r",
                        " 28%|\u2588\u2588\u2588\u2588\u2588\u2588\u2588\u2588\u2588\u2588\u2588\u2588\u2588\u2588\u258a                                      | 68/244 [00:07<00:19,  8.83it/s]"
                    ]
                },
                {
                    "name": "stderr",
                    "output_type": "stream",
                    "text": [
                        "\r",
                        " 28%|\u2588\u2588\u2588\u2588\u2588\u2588\u2588\u2588\u2588\u2588\u2588\u2588\u2588\u2588\u2589                                      | 69/244 [00:07<00:19,  8.86it/s]"
                    ]
                },
                {
                    "name": "stderr",
                    "output_type": "stream",
                    "text": [
                        "\r",
                        " 29%|\u2588\u2588\u2588\u2588\u2588\u2588\u2588\u2588\u2588\u2588\u2588\u2588\u2588\u2588\u2588\u258f                                     | 70/244 [00:07<00:19,  8.88it/s]"
                    ]
                },
                {
                    "name": "stderr",
                    "output_type": "stream",
                    "text": [
                        "\r",
                        " 29%|\u2588\u2588\u2588\u2588\u2588\u2588\u2588\u2588\u2588\u2588\u2588\u2588\u2588\u2588\u2588\u258d                                     | 71/244 [00:08<00:19,  8.88it/s]"
                    ]
                },
                {
                    "name": "stderr",
                    "output_type": "stream",
                    "text": [
                        "\r",
                        " 30%|\u2588\u2588\u2588\u2588\u2588\u2588\u2588\u2588\u2588\u2588\u2588\u2588\u2588\u2588\u2588\u258b                                     | 72/244 [00:08<00:19,  8.85it/s]"
                    ]
                },
                {
                    "name": "stderr",
                    "output_type": "stream",
                    "text": [
                        "\r",
                        " 30%|\u2588\u2588\u2588\u2588\u2588\u2588\u2588\u2588\u2588\u2588\u2588\u2588\u2588\u2588\u2588\u258a                                     | 73/244 [00:08<00:19,  8.84it/s]"
                    ]
                },
                {
                    "name": "stderr",
                    "output_type": "stream",
                    "text": [
                        "\r",
                        " 30%|\u2588\u2588\u2588\u2588\u2588\u2588\u2588\u2588\u2588\u2588\u2588\u2588\u2588\u2588\u2588\u2588                                     | 74/244 [00:08<00:19,  8.71it/s]"
                    ]
                },
                {
                    "name": "stderr",
                    "output_type": "stream",
                    "text": [
                        "\r",
                        " 31%|\u2588\u2588\u2588\u2588\u2588\u2588\u2588\u2588\u2588\u2588\u2588\u2588\u2588\u2588\u2588\u2588\u258e                                    | 75/244 [00:08<00:19,  8.73it/s]"
                    ]
                },
                {
                    "name": "stderr",
                    "output_type": "stream",
                    "text": [
                        "\r",
                        " 31%|\u2588\u2588\u2588\u2588\u2588\u2588\u2588\u2588\u2588\u2588\u2588\u2588\u2588\u2588\u2588\u2588\u258c                                    | 76/244 [00:08<00:19,  8.77it/s]"
                    ]
                },
                {
                    "name": "stderr",
                    "output_type": "stream",
                    "text": [
                        "\r",
                        " 32%|\u2588\u2588\u2588\u2588\u2588\u2588\u2588\u2588\u2588\u2588\u2588\u2588\u2588\u2588\u2588\u2588\u258b                                    | 77/244 [00:08<00:19,  8.75it/s]"
                    ]
                },
                {
                    "name": "stderr",
                    "output_type": "stream",
                    "text": [
                        "\r",
                        " 32%|\u2588\u2588\u2588\u2588\u2588\u2588\u2588\u2588\u2588\u2588\u2588\u2588\u2588\u2588\u2588\u2588\u2589                                    | 78/244 [00:08<00:18,  8.81it/s]"
                    ]
                },
                {
                    "name": "stderr",
                    "output_type": "stream",
                    "text": [
                        "\r",
                        " 32%|\u2588\u2588\u2588\u2588\u2588\u2588\u2588\u2588\u2588\u2588\u2588\u2588\u2588\u2588\u2588\u2588\u2588\u258f                                   | 79/244 [00:09<00:18,  8.85it/s]"
                    ]
                },
                {
                    "name": "stderr",
                    "output_type": "stream",
                    "text": [
                        "\r",
                        " 33%|\u2588\u2588\u2588\u2588\u2588\u2588\u2588\u2588\u2588\u2588\u2588\u2588\u2588\u2588\u2588\u2588\u2588\u258d                                   | 80/244 [00:09<00:18,  8.81it/s]"
                    ]
                },
                {
                    "name": "stderr",
                    "output_type": "stream",
                    "text": [
                        "\r",
                        " 33%|\u2588\u2588\u2588\u2588\u2588\u2588\u2588\u2588\u2588\u2588\u2588\u2588\u2588\u2588\u2588\u2588\u2588\u258c                                   | 81/244 [00:09<00:18,  8.85it/s]"
                    ]
                },
                {
                    "name": "stderr",
                    "output_type": "stream",
                    "text": [
                        "\r",
                        " 34%|\u2588\u2588\u2588\u2588\u2588\u2588\u2588\u2588\u2588\u2588\u2588\u2588\u2588\u2588\u2588\u2588\u2588\u258a                                   | 82/244 [00:09<00:18,  8.85it/s]"
                    ]
                },
                {
                    "name": "stderr",
                    "output_type": "stream",
                    "text": [
                        "\r",
                        " 34%|\u2588\u2588\u2588\u2588\u2588\u2588\u2588\u2588\u2588\u2588\u2588\u2588\u2588\u2588\u2588\u2588\u2588\u2588                                   | 83/244 [00:09<00:18,  8.93it/s]"
                    ]
                },
                {
                    "name": "stderr",
                    "output_type": "stream",
                    "text": [
                        "\r",
                        " 34%|\u2588\u2588\u2588\u2588\u2588\u2588\u2588\u2588\u2588\u2588\u2588\u2588\u2588\u2588\u2588\u2588\u2588\u2588\u258f                                  | 84/244 [00:09<00:17,  8.92it/s]"
                    ]
                },
                {
                    "name": "stderr",
                    "output_type": "stream",
                    "text": [
                        "\r",
                        " 35%|\u2588\u2588\u2588\u2588\u2588\u2588\u2588\u2588\u2588\u2588\u2588\u2588\u2588\u2588\u2588\u2588\u2588\u2588\u258d                                  | 85/244 [00:09<00:17,  8.89it/s]"
                    ]
                },
                {
                    "name": "stderr",
                    "output_type": "stream",
                    "text": [
                        "\r",
                        " 35%|\u2588\u2588\u2588\u2588\u2588\u2588\u2588\u2588\u2588\u2588\u2588\u2588\u2588\u2588\u2588\u2588\u2588\u2588\u258b                                  | 86/244 [00:09<00:17,  8.90it/s]"
                    ]
                },
                {
                    "name": "stderr",
                    "output_type": "stream",
                    "text": [
                        "\r",
                        " 36%|\u2588\u2588\u2588\u2588\u2588\u2588\u2588\u2588\u2588\u2588\u2588\u2588\u2588\u2588\u2588\u2588\u2588\u2588\u2589                                  | 87/244 [00:09<00:17,  8.87it/s]"
                    ]
                },
                {
                    "name": "stderr",
                    "output_type": "stream",
                    "text": [
                        "\r",
                        " 36%|\u2588\u2588\u2588\u2588\u2588\u2588\u2588\u2588\u2588\u2588\u2588\u2588\u2588\u2588\u2588\u2588\u2588\u2588\u2588                                  | 88/244 [00:10<00:17,  8.82it/s]"
                    ]
                },
                {
                    "name": "stderr",
                    "output_type": "stream",
                    "text": [
                        "\r",
                        " 36%|\u2588\u2588\u2588\u2588\u2588\u2588\u2588\u2588\u2588\u2588\u2588\u2588\u2588\u2588\u2588\u2588\u2588\u2588\u2588\u258e                                 | 89/244 [00:10<00:17,  8.84it/s]"
                    ]
                },
                {
                    "name": "stderr",
                    "output_type": "stream",
                    "text": [
                        "\r",
                        " 37%|\u2588\u2588\u2588\u2588\u2588\u2588\u2588\u2588\u2588\u2588\u2588\u2588\u2588\u2588\u2588\u2588\u2588\u2588\u2588\u258c                                 | 90/244 [00:10<00:17,  8.85it/s]"
                    ]
                },
                {
                    "name": "stderr",
                    "output_type": "stream",
                    "text": [
                        "\r",
                        " 37%|\u2588\u2588\u2588\u2588\u2588\u2588\u2588\u2588\u2588\u2588\u2588\u2588\u2588\u2588\u2588\u2588\u2588\u2588\u2588\u258a                                 | 91/244 [00:10<00:17,  8.80it/s]"
                    ]
                },
                {
                    "name": "stderr",
                    "output_type": "stream",
                    "text": [
                        "\r",
                        " 38%|\u2588\u2588\u2588\u2588\u2588\u2588\u2588\u2588\u2588\u2588\u2588\u2588\u2588\u2588\u2588\u2588\u2588\u2588\u2588\u2589                                 | 92/244 [00:10<00:17,  8.78it/s]"
                    ]
                },
                {
                    "name": "stderr",
                    "output_type": "stream",
                    "text": [
                        "\r",
                        " 38%|\u2588\u2588\u2588\u2588\u2588\u2588\u2588\u2588\u2588\u2588\u2588\u2588\u2588\u2588\u2588\u2588\u2588\u2588\u2588\u2588\u258f                                | 93/244 [00:10<00:17,  8.78it/s]"
                    ]
                },
                {
                    "name": "stderr",
                    "output_type": "stream",
                    "text": [
                        "\r",
                        " 39%|\u2588\u2588\u2588\u2588\u2588\u2588\u2588\u2588\u2588\u2588\u2588\u2588\u2588\u2588\u2588\u2588\u2588\u2588\u2588\u2588\u258d                                | 94/244 [00:10<00:17,  8.78it/s]"
                    ]
                },
                {
                    "name": "stderr",
                    "output_type": "stream",
                    "text": [
                        "\r",
                        " 39%|\u2588\u2588\u2588\u2588\u2588\u2588\u2588\u2588\u2588\u2588\u2588\u2588\u2588\u2588\u2588\u2588\u2588\u2588\u2588\u2588\u258b                                | 95/244 [00:10<00:16,  8.83it/s]"
                    ]
                },
                {
                    "name": "stderr",
                    "output_type": "stream",
                    "text": [
                        "\r",
                        " 39%|\u2588\u2588\u2588\u2588\u2588\u2588\u2588\u2588\u2588\u2588\u2588\u2588\u2588\u2588\u2588\u2588\u2588\u2588\u2588\u2588\u258a                                | 96/244 [00:10<00:16,  8.87it/s]"
                    ]
                },
                {
                    "name": "stderr",
                    "output_type": "stream",
                    "text": [
                        "\r",
                        " 40%|\u2588\u2588\u2588\u2588\u2588\u2588\u2588\u2588\u2588\u2588\u2588\u2588\u2588\u2588\u2588\u2588\u2588\u2588\u2588\u2588\u2588                                | 97/244 [00:11<00:16,  8.90it/s]"
                    ]
                },
                {
                    "name": "stderr",
                    "output_type": "stream",
                    "text": [
                        "\r",
                        " 40%|\u2588\u2588\u2588\u2588\u2588\u2588\u2588\u2588\u2588\u2588\u2588\u2588\u2588\u2588\u2588\u2588\u2588\u2588\u2588\u2588\u2588\u258e                               | 98/244 [00:11<00:16,  8.91it/s]"
                    ]
                },
                {
                    "name": "stderr",
                    "output_type": "stream",
                    "text": [
                        "\r",
                        " 41%|\u2588\u2588\u2588\u2588\u2588\u2588\u2588\u2588\u2588\u2588\u2588\u2588\u2588\u2588\u2588\u2588\u2588\u2588\u2588\u2588\u2588\u258c                               | 99/244 [00:11<00:16,  8.89it/s]"
                    ]
                },
                {
                    "name": "stderr",
                    "output_type": "stream",
                    "text": [
                        "\r",
                        " 41%|\u2588\u2588\u2588\u2588\u2588\u2588\u2588\u2588\u2588\u2588\u2588\u2588\u2588\u2588\u2588\u2588\u2588\u2588\u2588\u2588\u2588\u258e                              | 100/244 [00:11<00:16,  8.89it/s]"
                    ]
                },
                {
                    "name": "stderr",
                    "output_type": "stream",
                    "text": [
                        "\r",
                        " 41%|\u2588\u2588\u2588\u2588\u2588\u2588\u2588\u2588\u2588\u2588\u2588\u2588\u2588\u2588\u2588\u2588\u2588\u2588\u2588\u2588\u2588\u258c                              | 101/244 [00:11<00:16,  8.88it/s]"
                    ]
                },
                {
                    "name": "stderr",
                    "output_type": "stream",
                    "text": [
                        "\r",
                        " 42%|\u2588\u2588\u2588\u2588\u2588\u2588\u2588\u2588\u2588\u2588\u2588\u2588\u2588\u2588\u2588\u2588\u2588\u2588\u2588\u2588\u2588\u258b                              | 102/244 [00:11<00:15,  8.91it/s]"
                    ]
                },
                {
                    "name": "stderr",
                    "output_type": "stream",
                    "text": [
                        "\r",
                        " 42%|\u2588\u2588\u2588\u2588\u2588\u2588\u2588\u2588\u2588\u2588\u2588\u2588\u2588\u2588\u2588\u2588\u2588\u2588\u2588\u2588\u2588\u2589                              | 103/244 [00:11<00:15,  8.89it/s]"
                    ]
                },
                {
                    "name": "stderr",
                    "output_type": "stream",
                    "text": [
                        "\r",
                        " 43%|\u2588\u2588\u2588\u2588\u2588\u2588\u2588\u2588\u2588\u2588\u2588\u2588\u2588\u2588\u2588\u2588\u2588\u2588\u2588\u2588\u2588\u2588\u258f                             | 104/244 [00:11<00:15,  8.89it/s]"
                    ]
                },
                {
                    "name": "stderr",
                    "output_type": "stream",
                    "text": [
                        "\r",
                        " 43%|\u2588\u2588\u2588\u2588\u2588\u2588\u2588\u2588\u2588\u2588\u2588\u2588\u2588\u2588\u2588\u2588\u2588\u2588\u2588\u2588\u2588\u2588\u258d                             | 105/244 [00:11<00:15,  8.85it/s]"
                    ]
                },
                {
                    "name": "stderr",
                    "output_type": "stream",
                    "text": [
                        "\r",
                        " 43%|\u2588\u2588\u2588\u2588\u2588\u2588\u2588\u2588\u2588\u2588\u2588\u2588\u2588\u2588\u2588\u2588\u2588\u2588\u2588\u2588\u2588\u2588\u258c                             | 106/244 [00:12<00:15,  8.89it/s]"
                    ]
                },
                {
                    "name": "stderr",
                    "output_type": "stream",
                    "text": [
                        "\r",
                        " 44%|\u2588\u2588\u2588\u2588\u2588\u2588\u2588\u2588\u2588\u2588\u2588\u2588\u2588\u2588\u2588\u2588\u2588\u2588\u2588\u2588\u2588\u2588\u258a                             | 107/244 [00:12<00:15,  8.86it/s]"
                    ]
                },
                {
                    "name": "stderr",
                    "output_type": "stream",
                    "text": [
                        "\r",
                        " 44%|\u2588\u2588\u2588\u2588\u2588\u2588\u2588\u2588\u2588\u2588\u2588\u2588\u2588\u2588\u2588\u2588\u2588\u2588\u2588\u2588\u2588\u2588\u2588                             | 108/244 [00:12<00:15,  8.82it/s]"
                    ]
                },
                {
                    "name": "stderr",
                    "output_type": "stream",
                    "text": [
                        "\r",
                        " 45%|\u2588\u2588\u2588\u2588\u2588\u2588\u2588\u2588\u2588\u2588\u2588\u2588\u2588\u2588\u2588\u2588\u2588\u2588\u2588\u2588\u2588\u2588\u2588\u258f                            | 109/244 [00:12<00:15,  8.80it/s]"
                    ]
                },
                {
                    "name": "stderr",
                    "output_type": "stream",
                    "text": [
                        "\r",
                        " 45%|\u2588\u2588\u2588\u2588\u2588\u2588\u2588\u2588\u2588\u2588\u2588\u2588\u2588\u2588\u2588\u2588\u2588\u2588\u2588\u2588\u2588\u2588\u2588\u258d                            | 110/244 [00:12<00:15,  8.81it/s]"
                    ]
                },
                {
                    "name": "stderr",
                    "output_type": "stream",
                    "text": [
                        "\r",
                        " 45%|\u2588\u2588\u2588\u2588\u2588\u2588\u2588\u2588\u2588\u2588\u2588\u2588\u2588\u2588\u2588\u2588\u2588\u2588\u2588\u2588\u2588\u2588\u2588\u258b                            | 111/244 [00:12<00:15,  8.86it/s]"
                    ]
                },
                {
                    "name": "stderr",
                    "output_type": "stream",
                    "text": [
                        "\r",
                        " 46%|\u2588\u2588\u2588\u2588\u2588\u2588\u2588\u2588\u2588\u2588\u2588\u2588\u2588\u2588\u2588\u2588\u2588\u2588\u2588\u2588\u2588\u2588\u2588\u258a                            | 112/244 [00:12<00:14,  8.99it/s]"
                    ]
                },
                {
                    "name": "stderr",
                    "output_type": "stream",
                    "text": [
                        "\r",
                        " 46%|\u2588\u2588\u2588\u2588\u2588\u2588\u2588\u2588\u2588\u2588\u2588\u2588\u2588\u2588\u2588\u2588\u2588\u2588\u2588\u2588\u2588\u2588\u2588\u2588                            | 113/244 [00:12<00:14,  9.04it/s]"
                    ]
                },
                {
                    "name": "stderr",
                    "output_type": "stream",
                    "text": [
                        "\r",
                        " 47%|\u2588\u2588\u2588\u2588\u2588\u2588\u2588\u2588\u2588\u2588\u2588\u2588\u2588\u2588\u2588\u2588\u2588\u2588\u2588\u2588\u2588\u2588\u2588\u2588\u258e                           | 114/244 [00:12<00:14,  9.11it/s]"
                    ]
                },
                {
                    "name": "stderr",
                    "output_type": "stream",
                    "text": [
                        "\r",
                        " 47%|\u2588\u2588\u2588\u2588\u2588\u2588\u2588\u2588\u2588\u2588\u2588\u2588\u2588\u2588\u2588\u2588\u2588\u2588\u2588\u2588\u2588\u2588\u2588\u2588\u258c                           | 115/244 [00:13<00:14,  9.13it/s]"
                    ]
                },
                {
                    "name": "stderr",
                    "output_type": "stream",
                    "text": [
                        "\r",
                        " 48%|\u2588\u2588\u2588\u2588\u2588\u2588\u2588\u2588\u2588\u2588\u2588\u2588\u2588\u2588\u2588\u2588\u2588\u2588\u2588\u2588\u2588\u2588\u2588\u2588\u258b                           | 116/244 [00:13<00:14,  9.13it/s]"
                    ]
                },
                {
                    "name": "stderr",
                    "output_type": "stream",
                    "text": [
                        "\r",
                        " 48%|\u2588\u2588\u2588\u2588\u2588\u2588\u2588\u2588\u2588\u2588\u2588\u2588\u2588\u2588\u2588\u2588\u2588\u2588\u2588\u2588\u2588\u2588\u2588\u2588\u2589                           | 117/244 [00:13<00:13,  9.18it/s]"
                    ]
                },
                {
                    "name": "stderr",
                    "output_type": "stream",
                    "text": [
                        "\r",
                        " 48%|\u2588\u2588\u2588\u2588\u2588\u2588\u2588\u2588\u2588\u2588\u2588\u2588\u2588\u2588\u2588\u2588\u2588\u2588\u2588\u2588\u2588\u2588\u2588\u2588\u2588\u258f                          | 118/244 [00:13<00:13,  9.20it/s]"
                    ]
                },
                {
                    "name": "stderr",
                    "output_type": "stream",
                    "text": [
                        "\r",
                        " 49%|\u2588\u2588\u2588\u2588\u2588\u2588\u2588\u2588\u2588\u2588\u2588\u2588\u2588\u2588\u2588\u2588\u2588\u2588\u2588\u2588\u2588\u2588\u2588\u2588\u2588\u258e                          | 119/244 [00:13<00:13,  9.17it/s]"
                    ]
                },
                {
                    "name": "stderr",
                    "output_type": "stream",
                    "text": [
                        "\r",
                        " 49%|\u2588\u2588\u2588\u2588\u2588\u2588\u2588\u2588\u2588\u2588\u2588\u2588\u2588\u2588\u2588\u2588\u2588\u2588\u2588\u2588\u2588\u2588\u2588\u2588\u2588\u258c                          | 120/244 [00:13<00:13,  9.18it/s]"
                    ]
                },
                {
                    "name": "stderr",
                    "output_type": "stream",
                    "text": [
                        "\r",
                        " 50%|\u2588\u2588\u2588\u2588\u2588\u2588\u2588\u2588\u2588\u2588\u2588\u2588\u2588\u2588\u2588\u2588\u2588\u2588\u2588\u2588\u2588\u2588\u2588\u2588\u2588\u258a                          | 121/244 [00:13<00:13,  9.20it/s]"
                    ]
                },
                {
                    "name": "stderr",
                    "output_type": "stream",
                    "text": [
                        "\r",
                        " 50%|\u2588\u2588\u2588\u2588\u2588\u2588\u2588\u2588\u2588\u2588\u2588\u2588\u2588\u2588\u2588\u2588\u2588\u2588\u2588\u2588\u2588\u2588\u2588\u2588\u2588\u2588                          | 122/244 [00:13<00:13,  9.21it/s]"
                    ]
                },
                {
                    "name": "stderr",
                    "output_type": "stream",
                    "text": [
                        "\r",
                        " 50%|\u2588\u2588\u2588\u2588\u2588\u2588\u2588\u2588\u2588\u2588\u2588\u2588\u2588\u2588\u2588\u2588\u2588\u2588\u2588\u2588\u2588\u2588\u2588\u2588\u2588\u2588\u258f                         | 123/244 [00:13<00:13,  9.20it/s]"
                    ]
                },
                {
                    "name": "stderr",
                    "output_type": "stream",
                    "text": [
                        "\r",
                        " 51%|\u2588\u2588\u2588\u2588\u2588\u2588\u2588\u2588\u2588\u2588\u2588\u2588\u2588\u2588\u2588\u2588\u2588\u2588\u2588\u2588\u2588\u2588\u2588\u2588\u2588\u2588\u258d                         | 124/244 [00:14<00:13,  9.20it/s]"
                    ]
                },
                {
                    "name": "stderr",
                    "output_type": "stream",
                    "text": [
                        "\r",
                        " 51%|\u2588\u2588\u2588\u2588\u2588\u2588\u2588\u2588\u2588\u2588\u2588\u2588\u2588\u2588\u2588\u2588\u2588\u2588\u2588\u2588\u2588\u2588\u2588\u2588\u2588\u2588\u258b                         | 125/244 [00:14<00:12,  9.18it/s]"
                    ]
                },
                {
                    "name": "stderr",
                    "output_type": "stream",
                    "text": [
                        "\r",
                        " 52%|\u2588\u2588\u2588\u2588\u2588\u2588\u2588\u2588\u2588\u2588\u2588\u2588\u2588\u2588\u2588\u2588\u2588\u2588\u2588\u2588\u2588\u2588\u2588\u2588\u2588\u2588\u258a                         | 126/244 [00:14<00:12,  9.18it/s]"
                    ]
                },
                {
                    "name": "stderr",
                    "output_type": "stream",
                    "text": [
                        "\r",
                        " 52%|\u2588\u2588\u2588\u2588\u2588\u2588\u2588\u2588\u2588\u2588\u2588\u2588\u2588\u2588\u2588\u2588\u2588\u2588\u2588\u2588\u2588\u2588\u2588\u2588\u2588\u2588\u2588                         | 127/244 [00:14<00:12,  9.17it/s]"
                    ]
                },
                {
                    "name": "stderr",
                    "output_type": "stream",
                    "text": [
                        "\r",
                        " 52%|\u2588\u2588\u2588\u2588\u2588\u2588\u2588\u2588\u2588\u2588\u2588\u2588\u2588\u2588\u2588\u2588\u2588\u2588\u2588\u2588\u2588\u2588\u2588\u2588\u2588\u2588\u2588\u258e                        | 128/244 [00:14<00:12,  9.18it/s]"
                    ]
                },
                {
                    "name": "stderr",
                    "output_type": "stream",
                    "text": [
                        "\r",
                        " 53%|\u2588\u2588\u2588\u2588\u2588\u2588\u2588\u2588\u2588\u2588\u2588\u2588\u2588\u2588\u2588\u2588\u2588\u2588\u2588\u2588\u2588\u2588\u2588\u2588\u2588\u2588\u2588\u258d                        | 129/244 [00:14<00:12,  9.22it/s]"
                    ]
                },
                {
                    "name": "stderr",
                    "output_type": "stream",
                    "text": [
                        "\r",
                        " 53%|\u2588\u2588\u2588\u2588\u2588\u2588\u2588\u2588\u2588\u2588\u2588\u2588\u2588\u2588\u2588\u2588\u2588\u2588\u2588\u2588\u2588\u2588\u2588\u2588\u2588\u2588\u2588\u258b                        | 130/244 [00:14<00:12,  9.24it/s]"
                    ]
                },
                {
                    "name": "stderr",
                    "output_type": "stream",
                    "text": [
                        "\r",
                        " 54%|\u2588\u2588\u2588\u2588\u2588\u2588\u2588\u2588\u2588\u2588\u2588\u2588\u2588\u2588\u2588\u2588\u2588\u2588\u2588\u2588\u2588\u2588\u2588\u2588\u2588\u2588\u2588\u2589                        | 131/244 [00:14<00:12,  9.28it/s]"
                    ]
                },
                {
                    "name": "stderr",
                    "output_type": "stream",
                    "text": [
                        "\r",
                        " 54%|\u2588\u2588\u2588\u2588\u2588\u2588\u2588\u2588\u2588\u2588\u2588\u2588\u2588\u2588\u2588\u2588\u2588\u2588\u2588\u2588\u2588\u2588\u2588\u2588\u2588\u2588\u2588\u2588\u258f                       | 132/244 [00:14<00:11,  9.35it/s]"
                    ]
                },
                {
                    "name": "stderr",
                    "output_type": "stream",
                    "text": [
                        "\r",
                        " 55%|\u2588\u2588\u2588\u2588\u2588\u2588\u2588\u2588\u2588\u2588\u2588\u2588\u2588\u2588\u2588\u2588\u2588\u2588\u2588\u2588\u2588\u2588\u2588\u2588\u2588\u2588\u2588\u2588\u258e                       | 133/244 [00:15<00:12,  9.16it/s]"
                    ]
                },
                {
                    "name": "stderr",
                    "output_type": "stream",
                    "text": [
                        "\r",
                        " 55%|\u2588\u2588\u2588\u2588\u2588\u2588\u2588\u2588\u2588\u2588\u2588\u2588\u2588\u2588\u2588\u2588\u2588\u2588\u2588\u2588\u2588\u2588\u2588\u2588\u2588\u2588\u2588\u2588\u258c                       | 134/244 [00:15<00:12,  8.97it/s]"
                    ]
                },
                {
                    "name": "stderr",
                    "output_type": "stream",
                    "text": [
                        "\r",
                        " 55%|\u2588\u2588\u2588\u2588\u2588\u2588\u2588\u2588\u2588\u2588\u2588\u2588\u2588\u2588\u2588\u2588\u2588\u2588\u2588\u2588\u2588\u2588\u2588\u2588\u2588\u2588\u2588\u2588\u258a                       | 135/244 [00:15<00:12,  8.88it/s]"
                    ]
                },
                {
                    "name": "stderr",
                    "output_type": "stream",
                    "text": [
                        "\r",
                        " 56%|\u2588\u2588\u2588\u2588\u2588\u2588\u2588\u2588\u2588\u2588\u2588\u2588\u2588\u2588\u2588\u2588\u2588\u2588\u2588\u2588\u2588\u2588\u2588\u2588\u2588\u2588\u2588\u2588\u2589                       | 136/244 [00:15<00:12,  8.91it/s]"
                    ]
                },
                {
                    "name": "stderr",
                    "output_type": "stream",
                    "text": [
                        "\r",
                        " 56%|\u2588\u2588\u2588\u2588\u2588\u2588\u2588\u2588\u2588\u2588\u2588\u2588\u2588\u2588\u2588\u2588\u2588\u2588\u2588\u2588\u2588\u2588\u2588\u2588\u2588\u2588\u2588\u2588\u2588\u258f                      | 137/244 [00:15<00:12,  8.88it/s]"
                    ]
                },
                {
                    "name": "stderr",
                    "output_type": "stream",
                    "text": [
                        "\r",
                        " 57%|\u2588\u2588\u2588\u2588\u2588\u2588\u2588\u2588\u2588\u2588\u2588\u2588\u2588\u2588\u2588\u2588\u2588\u2588\u2588\u2588\u2588\u2588\u2588\u2588\u2588\u2588\u2588\u2588\u2588\u258d                      | 138/244 [00:15<00:11,  8.89it/s]"
                    ]
                },
                {
                    "name": "stderr",
                    "output_type": "stream",
                    "text": [
                        "\r",
                        " 57%|\u2588\u2588\u2588\u2588\u2588\u2588\u2588\u2588\u2588\u2588\u2588\u2588\u2588\u2588\u2588\u2588\u2588\u2588\u2588\u2588\u2588\u2588\u2588\u2588\u2588\u2588\u2588\u2588\u2588\u258c                      | 139/244 [00:15<00:11,  8.87it/s]"
                    ]
                },
                {
                    "name": "stderr",
                    "output_type": "stream",
                    "text": [
                        "\r",
                        " 57%|\u2588\u2588\u2588\u2588\u2588\u2588\u2588\u2588\u2588\u2588\u2588\u2588\u2588\u2588\u2588\u2588\u2588\u2588\u2588\u2588\u2588\u2588\u2588\u2588\u2588\u2588\u2588\u2588\u2588\u258a                      | 140/244 [00:15<00:11,  8.90it/s]"
                    ]
                },
                {
                    "name": "stderr",
                    "output_type": "stream",
                    "text": [
                        "\r",
                        " 58%|\u2588\u2588\u2588\u2588\u2588\u2588\u2588\u2588\u2588\u2588\u2588\u2588\u2588\u2588\u2588\u2588\u2588\u2588\u2588\u2588\u2588\u2588\u2588\u2588\u2588\u2588\u2588\u2588\u2588\u2588                      | 141/244 [00:15<00:11,  8.88it/s]"
                    ]
                },
                {
                    "name": "stderr",
                    "output_type": "stream",
                    "text": [
                        "\r",
                        " 58%|\u2588\u2588\u2588\u2588\u2588\u2588\u2588\u2588\u2588\u2588\u2588\u2588\u2588\u2588\u2588\u2588\u2588\u2588\u2588\u2588\u2588\u2588\u2588\u2588\u2588\u2588\u2588\u2588\u2588\u2588\u258e                     | 142/244 [00:16<00:11,  8.83it/s]"
                    ]
                },
                {
                    "name": "stderr",
                    "output_type": "stream",
                    "text": [
                        "\r",
                        " 59%|\u2588\u2588\u2588\u2588\u2588\u2588\u2588\u2588\u2588\u2588\u2588\u2588\u2588\u2588\u2588\u2588\u2588\u2588\u2588\u2588\u2588\u2588\u2588\u2588\u2588\u2588\u2588\u2588\u2588\u2588\u258d                     | 143/244 [00:16<00:11,  8.79it/s]"
                    ]
                },
                {
                    "name": "stderr",
                    "output_type": "stream",
                    "text": [
                        "\r",
                        " 59%|\u2588\u2588\u2588\u2588\u2588\u2588\u2588\u2588\u2588\u2588\u2588\u2588\u2588\u2588\u2588\u2588\u2588\u2588\u2588\u2588\u2588\u2588\u2588\u2588\u2588\u2588\u2588\u2588\u2588\u2588\u258b                     | 144/244 [00:16<00:11,  8.77it/s]"
                    ]
                },
                {
                    "name": "stderr",
                    "output_type": "stream",
                    "text": [
                        "\r",
                        " 59%|\u2588\u2588\u2588\u2588\u2588\u2588\u2588\u2588\u2588\u2588\u2588\u2588\u2588\u2588\u2588\u2588\u2588\u2588\u2588\u2588\u2588\u2588\u2588\u2588\u2588\u2588\u2588\u2588\u2588\u2588\u2589                     | 145/244 [00:16<00:11,  8.80it/s]"
                    ]
                },
                {
                    "name": "stderr",
                    "output_type": "stream",
                    "text": [
                        "\r",
                        " 60%|\u2588\u2588\u2588\u2588\u2588\u2588\u2588\u2588\u2588\u2588\u2588\u2588\u2588\u2588\u2588\u2588\u2588\u2588\u2588\u2588\u2588\u2588\u2588\u2588\u2588\u2588\u2588\u2588\u2588\u2588\u2588                     | 146/244 [00:16<00:11,  8.77it/s]"
                    ]
                },
                {
                    "name": "stderr",
                    "output_type": "stream",
                    "text": [
                        "\r",
                        " 60%|\u2588\u2588\u2588\u2588\u2588\u2588\u2588\u2588\u2588\u2588\u2588\u2588\u2588\u2588\u2588\u2588\u2588\u2588\u2588\u2588\u2588\u2588\u2588\u2588\u2588\u2588\u2588\u2588\u2588\u2588\u2588\u258e                    | 147/244 [00:16<00:11,  8.78it/s]"
                    ]
                },
                {
                    "name": "stderr",
                    "output_type": "stream",
                    "text": [
                        "\r",
                        " 61%|\u2588\u2588\u2588\u2588\u2588\u2588\u2588\u2588\u2588\u2588\u2588\u2588\u2588\u2588\u2588\u2588\u2588\u2588\u2588\u2588\u2588\u2588\u2588\u2588\u2588\u2588\u2588\u2588\u2588\u2588\u2588\u258c                    | 148/244 [00:16<00:10,  8.77it/s]"
                    ]
                },
                {
                    "name": "stderr",
                    "output_type": "stream",
                    "text": [
                        "\r",
                        " 61%|\u2588\u2588\u2588\u2588\u2588\u2588\u2588\u2588\u2588\u2588\u2588\u2588\u2588\u2588\u2588\u2588\u2588\u2588\u2588\u2588\u2588\u2588\u2588\u2588\u2588\u2588\u2588\u2588\u2588\u2588\u2588\u258a                    | 149/244 [00:16<00:10,  8.78it/s]"
                    ]
                },
                {
                    "name": "stderr",
                    "output_type": "stream",
                    "text": [
                        "\r",
                        " 61%|\u2588\u2588\u2588\u2588\u2588\u2588\u2588\u2588\u2588\u2588\u2588\u2588\u2588\u2588\u2588\u2588\u2588\u2588\u2588\u2588\u2588\u2588\u2588\u2588\u2588\u2588\u2588\u2588\u2588\u2588\u2588\u2589                    | 150/244 [00:16<00:10,  8.79it/s]"
                    ]
                },
                {
                    "name": "stderr",
                    "output_type": "stream",
                    "text": [
                        "\r",
                        " 62%|\u2588\u2588\u2588\u2588\u2588\u2588\u2588\u2588\u2588\u2588\u2588\u2588\u2588\u2588\u2588\u2588\u2588\u2588\u2588\u2588\u2588\u2588\u2588\u2588\u2588\u2588\u2588\u2588\u2588\u2588\u2588\u2588\u258f                   | 151/244 [00:17<00:10,  8.75it/s]"
                    ]
                },
                {
                    "name": "stderr",
                    "output_type": "stream",
                    "text": [
                        "\r",
                        " 62%|\u2588\u2588\u2588\u2588\u2588\u2588\u2588\u2588\u2588\u2588\u2588\u2588\u2588\u2588\u2588\u2588\u2588\u2588\u2588\u2588\u2588\u2588\u2588\u2588\u2588\u2588\u2588\u2588\u2588\u2588\u2588\u2588\u258d                   | 152/244 [00:17<00:10,  8.73it/s]"
                    ]
                },
                {
                    "name": "stderr",
                    "output_type": "stream",
                    "text": [
                        "\r",
                        " 63%|\u2588\u2588\u2588\u2588\u2588\u2588\u2588\u2588\u2588\u2588\u2588\u2588\u2588\u2588\u2588\u2588\u2588\u2588\u2588\u2588\u2588\u2588\u2588\u2588\u2588\u2588\u2588\u2588\u2588\u2588\u2588\u2588\u258c                   | 153/244 [00:17<00:10,  8.71it/s]"
                    ]
                },
                {
                    "name": "stderr",
                    "output_type": "stream",
                    "text": [
                        "\r",
                        " 63%|\u2588\u2588\u2588\u2588\u2588\u2588\u2588\u2588\u2588\u2588\u2588\u2588\u2588\u2588\u2588\u2588\u2588\u2588\u2588\u2588\u2588\u2588\u2588\u2588\u2588\u2588\u2588\u2588\u2588\u2588\u2588\u2588\u258a                   | 154/244 [00:17<00:10,  8.72it/s]"
                    ]
                },
                {
                    "name": "stderr",
                    "output_type": "stream",
                    "text": [
                        "\r",
                        " 64%|\u2588\u2588\u2588\u2588\u2588\u2588\u2588\u2588\u2588\u2588\u2588\u2588\u2588\u2588\u2588\u2588\u2588\u2588\u2588\u2588\u2588\u2588\u2588\u2588\u2588\u2588\u2588\u2588\u2588\u2588\u2588\u2588\u2588                   | 155/244 [00:17<00:10,  8.72it/s]"
                    ]
                },
                {
                    "name": "stderr",
                    "output_type": "stream",
                    "text": [
                        "\r",
                        " 64%|\u2588\u2588\u2588\u2588\u2588\u2588\u2588\u2588\u2588\u2588\u2588\u2588\u2588\u2588\u2588\u2588\u2588\u2588\u2588\u2588\u2588\u2588\u2588\u2588\u2588\u2588\u2588\u2588\u2588\u2588\u2588\u2588\u2588\u258f                  | 156/244 [00:17<00:10,  8.78it/s]"
                    ]
                },
                {
                    "name": "stderr",
                    "output_type": "stream",
                    "text": [
                        "\r",
                        " 64%|\u2588\u2588\u2588\u2588\u2588\u2588\u2588\u2588\u2588\u2588\u2588\u2588\u2588\u2588\u2588\u2588\u2588\u2588\u2588\u2588\u2588\u2588\u2588\u2588\u2588\u2588\u2588\u2588\u2588\u2588\u2588\u2588\u2588\u258d                  | 157/244 [00:17<00:09,  8.77it/s]"
                    ]
                },
                {
                    "name": "stderr",
                    "output_type": "stream",
                    "text": [
                        "\r",
                        " 65%|\u2588\u2588\u2588\u2588\u2588\u2588\u2588\u2588\u2588\u2588\u2588\u2588\u2588\u2588\u2588\u2588\u2588\u2588\u2588\u2588\u2588\u2588\u2588\u2588\u2588\u2588\u2588\u2588\u2588\u2588\u2588\u2588\u2588\u258b                  | 158/244 [00:17<00:09,  8.73it/s]"
                    ]
                },
                {
                    "name": "stderr",
                    "output_type": "stream",
                    "text": [
                        "\r",
                        " 65%|\u2588\u2588\u2588\u2588\u2588\u2588\u2588\u2588\u2588\u2588\u2588\u2588\u2588\u2588\u2588\u2588\u2588\u2588\u2588\u2588\u2588\u2588\u2588\u2588\u2588\u2588\u2588\u2588\u2588\u2588\u2588\u2588\u2588\u2589                  | 159/244 [00:17<00:09,  8.72it/s]"
                    ]
                },
                {
                    "name": "stderr",
                    "output_type": "stream",
                    "text": [
                        "\r",
                        " 66%|\u2588\u2588\u2588\u2588\u2588\u2588\u2588\u2588\u2588\u2588\u2588\u2588\u2588\u2588\u2588\u2588\u2588\u2588\u2588\u2588\u2588\u2588\u2588\u2588\u2588\u2588\u2588\u2588\u2588\u2588\u2588\u2588\u2588\u2588                  | 160/244 [00:18<00:09,  8.73it/s]"
                    ]
                },
                {
                    "name": "stderr",
                    "output_type": "stream",
                    "text": [
                        "\r",
                        " 66%|\u2588\u2588\u2588\u2588\u2588\u2588\u2588\u2588\u2588\u2588\u2588\u2588\u2588\u2588\u2588\u2588\u2588\u2588\u2588\u2588\u2588\u2588\u2588\u2588\u2588\u2588\u2588\u2588\u2588\u2588\u2588\u2588\u2588\u2588\u258e                 | 161/244 [00:18<00:09,  8.71it/s]"
                    ]
                },
                {
                    "name": "stderr",
                    "output_type": "stream",
                    "text": [
                        "\r",
                        " 66%|\u2588\u2588\u2588\u2588\u2588\u2588\u2588\u2588\u2588\u2588\u2588\u2588\u2588\u2588\u2588\u2588\u2588\u2588\u2588\u2588\u2588\u2588\u2588\u2588\u2588\u2588\u2588\u2588\u2588\u2588\u2588\u2588\u2588\u2588\u258c                 | 162/244 [00:18<00:09,  8.71it/s]"
                    ]
                },
                {
                    "name": "stderr",
                    "output_type": "stream",
                    "text": [
                        "\r",
                        " 67%|\u2588\u2588\u2588\u2588\u2588\u2588\u2588\u2588\u2588\u2588\u2588\u2588\u2588\u2588\u2588\u2588\u2588\u2588\u2588\u2588\u2588\u2588\u2588\u2588\u2588\u2588\u2588\u2588\u2588\u2588\u2588\u2588\u2588\u2588\u258b                 | 163/244 [00:18<00:09,  8.72it/s]"
                    ]
                },
                {
                    "name": "stderr",
                    "output_type": "stream",
                    "text": [
                        "\r",
                        " 67%|\u2588\u2588\u2588\u2588\u2588\u2588\u2588\u2588\u2588\u2588\u2588\u2588\u2588\u2588\u2588\u2588\u2588\u2588\u2588\u2588\u2588\u2588\u2588\u2588\u2588\u2588\u2588\u2588\u2588\u2588\u2588\u2588\u2588\u2588\u2589                 | 164/244 [00:18<00:09,  8.73it/s]"
                    ]
                },
                {
                    "name": "stderr",
                    "output_type": "stream",
                    "text": [
                        "\r",
                        " 68%|\u2588\u2588\u2588\u2588\u2588\u2588\u2588\u2588\u2588\u2588\u2588\u2588\u2588\u2588\u2588\u2588\u2588\u2588\u2588\u2588\u2588\u2588\u2588\u2588\u2588\u2588\u2588\u2588\u2588\u2588\u2588\u2588\u2588\u2588\u2588\u258f                | 165/244 [00:18<00:09,  8.70it/s]"
                    ]
                },
                {
                    "name": "stderr",
                    "output_type": "stream",
                    "text": [
                        "\r",
                        " 68%|\u2588\u2588\u2588\u2588\u2588\u2588\u2588\u2588\u2588\u2588\u2588\u2588\u2588\u2588\u2588\u2588\u2588\u2588\u2588\u2588\u2588\u2588\u2588\u2588\u2588\u2588\u2588\u2588\u2588\u2588\u2588\u2588\u2588\u2588\u2588\u258d                | 166/244 [00:18<00:08,  8.70it/s]"
                    ]
                },
                {
                    "name": "stderr",
                    "output_type": "stream",
                    "text": [
                        "\r",
                        " 68%|\u2588\u2588\u2588\u2588\u2588\u2588\u2588\u2588\u2588\u2588\u2588\u2588\u2588\u2588\u2588\u2588\u2588\u2588\u2588\u2588\u2588\u2588\u2588\u2588\u2588\u2588\u2588\u2588\u2588\u2588\u2588\u2588\u2588\u2588\u2588\u258c                | 167/244 [00:18<00:08,  8.68it/s]"
                    ]
                },
                {
                    "name": "stderr",
                    "output_type": "stream",
                    "text": [
                        "\r",
                        " 69%|\u2588\u2588\u2588\u2588\u2588\u2588\u2588\u2588\u2588\u2588\u2588\u2588\u2588\u2588\u2588\u2588\u2588\u2588\u2588\u2588\u2588\u2588\u2588\u2588\u2588\u2588\u2588\u2588\u2588\u2588\u2588\u2588\u2588\u2588\u2588\u258a                | 168/244 [00:19<00:08,  8.76it/s]"
                    ]
                },
                {
                    "name": "stderr",
                    "output_type": "stream",
                    "text": [
                        "\r",
                        " 69%|\u2588\u2588\u2588\u2588\u2588\u2588\u2588\u2588\u2588\u2588\u2588\u2588\u2588\u2588\u2588\u2588\u2588\u2588\u2588\u2588\u2588\u2588\u2588\u2588\u2588\u2588\u2588\u2588\u2588\u2588\u2588\u2588\u2588\u2588\u2588\u2588                | 169/244 [00:19<00:08,  8.89it/s]"
                    ]
                },
                {
                    "name": "stderr",
                    "output_type": "stream",
                    "text": [
                        "\r",
                        " 70%|\u2588\u2588\u2588\u2588\u2588\u2588\u2588\u2588\u2588\u2588\u2588\u2588\u2588\u2588\u2588\u2588\u2588\u2588\u2588\u2588\u2588\u2588\u2588\u2588\u2588\u2588\u2588\u2588\u2588\u2588\u2588\u2588\u2588\u2588\u2588\u2588\u258f               | 170/244 [00:19<00:08,  8.91it/s]"
                    ]
                },
                {
                    "name": "stderr",
                    "output_type": "stream",
                    "text": [
                        "\r",
                        " 70%|\u2588\u2588\u2588\u2588\u2588\u2588\u2588\u2588\u2588\u2588\u2588\u2588\u2588\u2588\u2588\u2588\u2588\u2588\u2588\u2588\u2588\u2588\u2588\u2588\u2588\u2588\u2588\u2588\u2588\u2588\u2588\u2588\u2588\u2588\u2588\u2588\u258d               | 171/244 [00:19<00:08,  8.95it/s]"
                    ]
                },
                {
                    "name": "stderr",
                    "output_type": "stream",
                    "text": [
                        "\r",
                        " 70%|\u2588\u2588\u2588\u2588\u2588\u2588\u2588\u2588\u2588\u2588\u2588\u2588\u2588\u2588\u2588\u2588\u2588\u2588\u2588\u2588\u2588\u2588\u2588\u2588\u2588\u2588\u2588\u2588\u2588\u2588\u2588\u2588\u2588\u2588\u2588\u2588\u258b               | 172/244 [00:19<00:08,  8.84it/s]"
                    ]
                },
                {
                    "name": "stderr",
                    "output_type": "stream",
                    "text": [
                        "\r",
                        " 71%|\u2588\u2588\u2588\u2588\u2588\u2588\u2588\u2588\u2588\u2588\u2588\u2588\u2588\u2588\u2588\u2588\u2588\u2588\u2588\u2588\u2588\u2588\u2588\u2588\u2588\u2588\u2588\u2588\u2588\u2588\u2588\u2588\u2588\u2588\u2588\u2588\u258a               | 173/244 [00:19<00:08,  8.70it/s]"
                    ]
                },
                {
                    "name": "stderr",
                    "output_type": "stream",
                    "text": [
                        "\r",
                        " 71%|\u2588\u2588\u2588\u2588\u2588\u2588\u2588\u2588\u2588\u2588\u2588\u2588\u2588\u2588\u2588\u2588\u2588\u2588\u2588\u2588\u2588\u2588\u2588\u2588\u2588\u2588\u2588\u2588\u2588\u2588\u2588\u2588\u2588\u2588\u2588\u2588\u2588               | 174/244 [00:19<00:07,  8.76it/s]"
                    ]
                },
                {
                    "name": "stderr",
                    "output_type": "stream",
                    "text": [
                        "\r",
                        " 72%|\u2588\u2588\u2588\u2588\u2588\u2588\u2588\u2588\u2588\u2588\u2588\u2588\u2588\u2588\u2588\u2588\u2588\u2588\u2588\u2588\u2588\u2588\u2588\u2588\u2588\u2588\u2588\u2588\u2588\u2588\u2588\u2588\u2588\u2588\u2588\u2588\u2588\u258e              | 175/244 [00:19<00:07,  8.80it/s]"
                    ]
                },
                {
                    "name": "stderr",
                    "output_type": "stream",
                    "text": [
                        "\r",
                        " 72%|\u2588\u2588\u2588\u2588\u2588\u2588\u2588\u2588\u2588\u2588\u2588\u2588\u2588\u2588\u2588\u2588\u2588\u2588\u2588\u2588\u2588\u2588\u2588\u2588\u2588\u2588\u2588\u2588\u2588\u2588\u2588\u2588\u2588\u2588\u2588\u2588\u2588\u258c              | 176/244 [00:19<00:07,  8.85it/s]"
                    ]
                },
                {
                    "name": "stderr",
                    "output_type": "stream",
                    "text": [
                        "\r",
                        " 73%|\u2588\u2588\u2588\u2588\u2588\u2588\u2588\u2588\u2588\u2588\u2588\u2588\u2588\u2588\u2588\u2588\u2588\u2588\u2588\u2588\u2588\u2588\u2588\u2588\u2588\u2588\u2588\u2588\u2588\u2588\u2588\u2588\u2588\u2588\u2588\u2588\u2588\u258b              | 177/244 [00:20<00:07,  8.90it/s]"
                    ]
                },
                {
                    "name": "stderr",
                    "output_type": "stream",
                    "text": [
                        "\r",
                        " 73%|\u2588\u2588\u2588\u2588\u2588\u2588\u2588\u2588\u2588\u2588\u2588\u2588\u2588\u2588\u2588\u2588\u2588\u2588\u2588\u2588\u2588\u2588\u2588\u2588\u2588\u2588\u2588\u2588\u2588\u2588\u2588\u2588\u2588\u2588\u2588\u2588\u2588\u2589              | 178/244 [00:20<00:07,  8.89it/s]"
                    ]
                },
                {
                    "name": "stderr",
                    "output_type": "stream",
                    "text": [
                        "\r",
                        " 73%|\u2588\u2588\u2588\u2588\u2588\u2588\u2588\u2588\u2588\u2588\u2588\u2588\u2588\u2588\u2588\u2588\u2588\u2588\u2588\u2588\u2588\u2588\u2588\u2588\u2588\u2588\u2588\u2588\u2588\u2588\u2588\u2588\u2588\u2588\u2588\u2588\u2588\u2588\u258f             | 179/244 [00:20<00:07,  8.92it/s]"
                    ]
                },
                {
                    "name": "stderr",
                    "output_type": "stream",
                    "text": [
                        "\r",
                        " 74%|\u2588\u2588\u2588\u2588\u2588\u2588\u2588\u2588\u2588\u2588\u2588\u2588\u2588\u2588\u2588\u2588\u2588\u2588\u2588\u2588\u2588\u2588\u2588\u2588\u2588\u2588\u2588\u2588\u2588\u2588\u2588\u2588\u2588\u2588\u2588\u2588\u2588\u2588\u258e             | 180/244 [00:20<00:07,  8.96it/s]"
                    ]
                },
                {
                    "name": "stderr",
                    "output_type": "stream",
                    "text": [
                        "\r",
                        " 74%|\u2588\u2588\u2588\u2588\u2588\u2588\u2588\u2588\u2588\u2588\u2588\u2588\u2588\u2588\u2588\u2588\u2588\u2588\u2588\u2588\u2588\u2588\u2588\u2588\u2588\u2588\u2588\u2588\u2588\u2588\u2588\u2588\u2588\u2588\u2588\u2588\u2588\u2588\u258c             | 181/244 [00:20<00:06,  9.02it/s]"
                    ]
                },
                {
                    "name": "stderr",
                    "output_type": "stream",
                    "text": [
                        "\r",
                        " 75%|\u2588\u2588\u2588\u2588\u2588\u2588\u2588\u2588\u2588\u2588\u2588\u2588\u2588\u2588\u2588\u2588\u2588\u2588\u2588\u2588\u2588\u2588\u2588\u2588\u2588\u2588\u2588\u2588\u2588\u2588\u2588\u2588\u2588\u2588\u2588\u2588\u2588\u2588\u258a             | 182/244 [00:20<00:06,  8.97it/s]"
                    ]
                },
                {
                    "name": "stderr",
                    "output_type": "stream",
                    "text": [
                        "\r",
                        " 75%|\u2588\u2588\u2588\u2588\u2588\u2588\u2588\u2588\u2588\u2588\u2588\u2588\u2588\u2588\u2588\u2588\u2588\u2588\u2588\u2588\u2588\u2588\u2588\u2588\u2588\u2588\u2588\u2588\u2588\u2588\u2588\u2588\u2588\u2588\u2588\u2588\u2588\u2588\u2588             | 183/244 [00:20<00:06,  8.95it/s]"
                    ]
                },
                {
                    "name": "stderr",
                    "output_type": "stream",
                    "text": [
                        "\r",
                        " 75%|\u2588\u2588\u2588\u2588\u2588\u2588\u2588\u2588\u2588\u2588\u2588\u2588\u2588\u2588\u2588\u2588\u2588\u2588\u2588\u2588\u2588\u2588\u2588\u2588\u2588\u2588\u2588\u2588\u2588\u2588\u2588\u2588\u2588\u2588\u2588\u2588\u2588\u2588\u2588\u258f            | 184/244 [00:20<00:06,  8.98it/s]"
                    ]
                },
                {
                    "name": "stderr",
                    "output_type": "stream",
                    "text": [
                        "\r",
                        " 76%|\u2588\u2588\u2588\u2588\u2588\u2588\u2588\u2588\u2588\u2588\u2588\u2588\u2588\u2588\u2588\u2588\u2588\u2588\u2588\u2588\u2588\u2588\u2588\u2588\u2588\u2588\u2588\u2588\u2588\u2588\u2588\u2588\u2588\u2588\u2588\u2588\u2588\u2588\u2588\u258d            | 185/244 [00:20<00:06,  8.95it/s]"
                    ]
                },
                {
                    "name": "stderr",
                    "output_type": "stream",
                    "text": [
                        "\r",
                        " 76%|\u2588\u2588\u2588\u2588\u2588\u2588\u2588\u2588\u2588\u2588\u2588\u2588\u2588\u2588\u2588\u2588\u2588\u2588\u2588\u2588\u2588\u2588\u2588\u2588\u2588\u2588\u2588\u2588\u2588\u2588\u2588\u2588\u2588\u2588\u2588\u2588\u2588\u2588\u2588\u258b            | 186/244 [00:21<00:06,  8.89it/s]"
                    ]
                },
                {
                    "name": "stderr",
                    "output_type": "stream",
                    "text": [
                        "\r",
                        " 77%|\u2588\u2588\u2588\u2588\u2588\u2588\u2588\u2588\u2588\u2588\u2588\u2588\u2588\u2588\u2588\u2588\u2588\u2588\u2588\u2588\u2588\u2588\u2588\u2588\u2588\u2588\u2588\u2588\u2588\u2588\u2588\u2588\u2588\u2588\u2588\u2588\u2588\u2588\u2588\u258a            | 187/244 [00:21<00:06,  8.94it/s]"
                    ]
                },
                {
                    "name": "stderr",
                    "output_type": "stream",
                    "text": [
                        "\r",
                        " 77%|\u2588\u2588\u2588\u2588\u2588\u2588\u2588\u2588\u2588\u2588\u2588\u2588\u2588\u2588\u2588\u2588\u2588\u2588\u2588\u2588\u2588\u2588\u2588\u2588\u2588\u2588\u2588\u2588\u2588\u2588\u2588\u2588\u2588\u2588\u2588\u2588\u2588\u2588\u2588\u2588            | 188/244 [00:21<00:06,  9.00it/s]"
                    ]
                },
                {
                    "name": "stderr",
                    "output_type": "stream",
                    "text": [
                        "\r",
                        " 77%|\u2588\u2588\u2588\u2588\u2588\u2588\u2588\u2588\u2588\u2588\u2588\u2588\u2588\u2588\u2588\u2588\u2588\u2588\u2588\u2588\u2588\u2588\u2588\u2588\u2588\u2588\u2588\u2588\u2588\u2588\u2588\u2588\u2588\u2588\u2588\u2588\u2588\u2588\u2588\u2588\u258e           | 189/244 [00:21<00:06,  8.95it/s]"
                    ]
                },
                {
                    "name": "stderr",
                    "output_type": "stream",
                    "text": [
                        "\r",
                        " 78%|\u2588\u2588\u2588\u2588\u2588\u2588\u2588\u2588\u2588\u2588\u2588\u2588\u2588\u2588\u2588\u2588\u2588\u2588\u2588\u2588\u2588\u2588\u2588\u2588\u2588\u2588\u2588\u2588\u2588\u2588\u2588\u2588\u2588\u2588\u2588\u2588\u2588\u2588\u2588\u2588\u258d           | 190/244 [00:21<00:06,  8.92it/s]"
                    ]
                },
                {
                    "name": "stderr",
                    "output_type": "stream",
                    "text": [
                        "\r",
                        " 78%|\u2588\u2588\u2588\u2588\u2588\u2588\u2588\u2588\u2588\u2588\u2588\u2588\u2588\u2588\u2588\u2588\u2588\u2588\u2588\u2588\u2588\u2588\u2588\u2588\u2588\u2588\u2588\u2588\u2588\u2588\u2588\u2588\u2588\u2588\u2588\u2588\u2588\u2588\u2588\u2588\u258b           | 191/244 [00:21<00:05,  8.92it/s]"
                    ]
                },
                {
                    "name": "stderr",
                    "output_type": "stream",
                    "text": [
                        "\r",
                        " 79%|\u2588\u2588\u2588\u2588\u2588\u2588\u2588\u2588\u2588\u2588\u2588\u2588\u2588\u2588\u2588\u2588\u2588\u2588\u2588\u2588\u2588\u2588\u2588\u2588\u2588\u2588\u2588\u2588\u2588\u2588\u2588\u2588\u2588\u2588\u2588\u2588\u2588\u2588\u2588\u2588\u2589           | 192/244 [00:21<00:05,  8.93it/s]"
                    ]
                },
                {
                    "name": "stderr",
                    "output_type": "stream",
                    "text": [
                        "\r",
                        " 79%|\u2588\u2588\u2588\u2588\u2588\u2588\u2588\u2588\u2588\u2588\u2588\u2588\u2588\u2588\u2588\u2588\u2588\u2588\u2588\u2588\u2588\u2588\u2588\u2588\u2588\u2588\u2588\u2588\u2588\u2588\u2588\u2588\u2588\u2588\u2588\u2588\u2588\u2588\u2588\u2588\u2588\u258f          | 193/244 [00:21<00:05,  8.90it/s]"
                    ]
                },
                {
                    "name": "stderr",
                    "output_type": "stream",
                    "text": [
                        "\r",
                        " 80%|\u2588\u2588\u2588\u2588\u2588\u2588\u2588\u2588\u2588\u2588\u2588\u2588\u2588\u2588\u2588\u2588\u2588\u2588\u2588\u2588\u2588\u2588\u2588\u2588\u2588\u2588\u2588\u2588\u2588\u2588\u2588\u2588\u2588\u2588\u2588\u2588\u2588\u2588\u2588\u2588\u2588\u258e          | 194/244 [00:21<00:05,  8.85it/s]"
                    ]
                },
                {
                    "name": "stderr",
                    "output_type": "stream",
                    "text": [
                        "\r",
                        " 80%|\u2588\u2588\u2588\u2588\u2588\u2588\u2588\u2588\u2588\u2588\u2588\u2588\u2588\u2588\u2588\u2588\u2588\u2588\u2588\u2588\u2588\u2588\u2588\u2588\u2588\u2588\u2588\u2588\u2588\u2588\u2588\u2588\u2588\u2588\u2588\u2588\u2588\u2588\u2588\u2588\u2588\u258c          | 195/244 [00:22<00:05,  8.82it/s]"
                    ]
                },
                {
                    "name": "stderr",
                    "output_type": "stream",
                    "text": [
                        "\r",
                        " 80%|\u2588\u2588\u2588\u2588\u2588\u2588\u2588\u2588\u2588\u2588\u2588\u2588\u2588\u2588\u2588\u2588\u2588\u2588\u2588\u2588\u2588\u2588\u2588\u2588\u2588\u2588\u2588\u2588\u2588\u2588\u2588\u2588\u2588\u2588\u2588\u2588\u2588\u2588\u2588\u2588\u2588\u258a          | 196/244 [00:22<00:05,  8.77it/s]"
                    ]
                },
                {
                    "name": "stderr",
                    "output_type": "stream",
                    "text": [
                        "\r",
                        " 81%|\u2588\u2588\u2588\u2588\u2588\u2588\u2588\u2588\u2588\u2588\u2588\u2588\u2588\u2588\u2588\u2588\u2588\u2588\u2588\u2588\u2588\u2588\u2588\u2588\u2588\u2588\u2588\u2588\u2588\u2588\u2588\u2588\u2588\u2588\u2588\u2588\u2588\u2588\u2588\u2588\u2588\u2589          | 197/244 [00:22<00:05,  8.78it/s]"
                    ]
                },
                {
                    "name": "stderr",
                    "output_type": "stream",
                    "text": [
                        "\r",
                        " 81%|\u2588\u2588\u2588\u2588\u2588\u2588\u2588\u2588\u2588\u2588\u2588\u2588\u2588\u2588\u2588\u2588\u2588\u2588\u2588\u2588\u2588\u2588\u2588\u2588\u2588\u2588\u2588\u2588\u2588\u2588\u2588\u2588\u2588\u2588\u2588\u2588\u2588\u2588\u2588\u2588\u2588\u2588\u258f         | 198/244 [00:22<00:05,  8.78it/s]"
                    ]
                },
                {
                    "name": "stderr",
                    "output_type": "stream",
                    "text": [
                        "\r",
                        " 82%|\u2588\u2588\u2588\u2588\u2588\u2588\u2588\u2588\u2588\u2588\u2588\u2588\u2588\u2588\u2588\u2588\u2588\u2588\u2588\u2588\u2588\u2588\u2588\u2588\u2588\u2588\u2588\u2588\u2588\u2588\u2588\u2588\u2588\u2588\u2588\u2588\u2588\u2588\u2588\u2588\u2588\u2588\u258d         | 199/244 [00:22<00:05,  8.78it/s]"
                    ]
                },
                {
                    "name": "stderr",
                    "output_type": "stream",
                    "text": [
                        "\r",
                        " 82%|\u2588\u2588\u2588\u2588\u2588\u2588\u2588\u2588\u2588\u2588\u2588\u2588\u2588\u2588\u2588\u2588\u2588\u2588\u2588\u2588\u2588\u2588\u2588\u2588\u2588\u2588\u2588\u2588\u2588\u2588\u2588\u2588\u2588\u2588\u2588\u2588\u2588\u2588\u2588\u2588\u2588\u2588\u258c         | 200/244 [00:22<00:04,  8.82it/s]"
                    ]
                },
                {
                    "name": "stderr",
                    "output_type": "stream",
                    "text": [
                        "\r",
                        " 82%|\u2588\u2588\u2588\u2588\u2588\u2588\u2588\u2588\u2588\u2588\u2588\u2588\u2588\u2588\u2588\u2588\u2588\u2588\u2588\u2588\u2588\u2588\u2588\u2588\u2588\u2588\u2588\u2588\u2588\u2588\u2588\u2588\u2588\u2588\u2588\u2588\u2588\u2588\u2588\u2588\u2588\u2588\u258a         | 201/244 [00:22<00:04,  8.80it/s]"
                    ]
                },
                {
                    "name": "stderr",
                    "output_type": "stream",
                    "text": [
                        "\r",
                        " 83%|\u2588\u2588\u2588\u2588\u2588\u2588\u2588\u2588\u2588\u2588\u2588\u2588\u2588\u2588\u2588\u2588\u2588\u2588\u2588\u2588\u2588\u2588\u2588\u2588\u2588\u2588\u2588\u2588\u2588\u2588\u2588\u2588\u2588\u2588\u2588\u2588\u2588\u2588\u2588\u2588\u2588\u2588\u2588         | 202/244 [00:22<00:04,  8.81it/s]"
                    ]
                },
                {
                    "name": "stderr",
                    "output_type": "stream",
                    "text": [
                        "\r",
                        " 83%|\u2588\u2588\u2588\u2588\u2588\u2588\u2588\u2588\u2588\u2588\u2588\u2588\u2588\u2588\u2588\u2588\u2588\u2588\u2588\u2588\u2588\u2588\u2588\u2588\u2588\u2588\u2588\u2588\u2588\u2588\u2588\u2588\u2588\u2588\u2588\u2588\u2588\u2588\u2588\u2588\u2588\u2588\u2588\u258e        | 203/244 [00:22<00:04,  8.79it/s]"
                    ]
                },
                {
                    "name": "stderr",
                    "output_type": "stream",
                    "text": [
                        "\r",
                        " 84%|\u2588\u2588\u2588\u2588\u2588\u2588\u2588\u2588\u2588\u2588\u2588\u2588\u2588\u2588\u2588\u2588\u2588\u2588\u2588\u2588\u2588\u2588\u2588\u2588\u2588\u2588\u2588\u2588\u2588\u2588\u2588\u2588\u2588\u2588\u2588\u2588\u2588\u2588\u2588\u2588\u2588\u2588\u2588\u258d        | 204/244 [00:23<00:04,  8.77it/s]"
                    ]
                },
                {
                    "name": "stderr",
                    "output_type": "stream",
                    "text": [
                        "\r",
                        " 84%|\u2588\u2588\u2588\u2588\u2588\u2588\u2588\u2588\u2588\u2588\u2588\u2588\u2588\u2588\u2588\u2588\u2588\u2588\u2588\u2588\u2588\u2588\u2588\u2588\u2588\u2588\u2588\u2588\u2588\u2588\u2588\u2588\u2588\u2588\u2588\u2588\u2588\u2588\u2588\u2588\u2588\u2588\u2588\u258b        | 205/244 [00:23<00:04,  8.75it/s]"
                    ]
                },
                {
                    "name": "stderr",
                    "output_type": "stream",
                    "text": [
                        "\r",
                        " 84%|\u2588\u2588\u2588\u2588\u2588\u2588\u2588\u2588\u2588\u2588\u2588\u2588\u2588\u2588\u2588\u2588\u2588\u2588\u2588\u2588\u2588\u2588\u2588\u2588\u2588\u2588\u2588\u2588\u2588\u2588\u2588\u2588\u2588\u2588\u2588\u2588\u2588\u2588\u2588\u2588\u2588\u2588\u2588\u2589        | 206/244 [00:23<00:04,  8.74it/s]"
                    ]
                },
                {
                    "name": "stderr",
                    "output_type": "stream",
                    "text": [
                        "\r",
                        " 85%|\u2588\u2588\u2588\u2588\u2588\u2588\u2588\u2588\u2588\u2588\u2588\u2588\u2588\u2588\u2588\u2588\u2588\u2588\u2588\u2588\u2588\u2588\u2588\u2588\u2588\u2588\u2588\u2588\u2588\u2588\u2588\u2588\u2588\u2588\u2588\u2588\u2588\u2588\u2588\u2588\u2588\u2588\u2588\u2588        | 207/244 [00:23<00:04,  8.73it/s]"
                    ]
                },
                {
                    "name": "stderr",
                    "output_type": "stream",
                    "text": [
                        "\r",
                        " 85%|\u2588\u2588\u2588\u2588\u2588\u2588\u2588\u2588\u2588\u2588\u2588\u2588\u2588\u2588\u2588\u2588\u2588\u2588\u2588\u2588\u2588\u2588\u2588\u2588\u2588\u2588\u2588\u2588\u2588\u2588\u2588\u2588\u2588\u2588\u2588\u2588\u2588\u2588\u2588\u2588\u2588\u2588\u2588\u2588\u258e       | 208/244 [00:23<00:04,  8.73it/s]"
                    ]
                },
                {
                    "name": "stderr",
                    "output_type": "stream",
                    "text": [
                        "\r",
                        " 86%|\u2588\u2588\u2588\u2588\u2588\u2588\u2588\u2588\u2588\u2588\u2588\u2588\u2588\u2588\u2588\u2588\u2588\u2588\u2588\u2588\u2588\u2588\u2588\u2588\u2588\u2588\u2588\u2588\u2588\u2588\u2588\u2588\u2588\u2588\u2588\u2588\u2588\u2588\u2588\u2588\u2588\u2588\u2588\u2588\u258c       | 209/244 [00:23<00:04,  8.72it/s]"
                    ]
                },
                {
                    "name": "stderr",
                    "output_type": "stream",
                    "text": [
                        "\r",
                        " 86%|\u2588\u2588\u2588\u2588\u2588\u2588\u2588\u2588\u2588\u2588\u2588\u2588\u2588\u2588\u2588\u2588\u2588\u2588\u2588\u2588\u2588\u2588\u2588\u2588\u2588\u2588\u2588\u2588\u2588\u2588\u2588\u2588\u2588\u2588\u2588\u2588\u2588\u2588\u2588\u2588\u2588\u2588\u2588\u2588\u258a       | 210/244 [00:23<00:03,  8.70it/s]"
                    ]
                },
                {
                    "name": "stderr",
                    "output_type": "stream",
                    "text": [
                        "\r",
                        " 86%|\u2588\u2588\u2588\u2588\u2588\u2588\u2588\u2588\u2588\u2588\u2588\u2588\u2588\u2588\u2588\u2588\u2588\u2588\u2588\u2588\u2588\u2588\u2588\u2588\u2588\u2588\u2588\u2588\u2588\u2588\u2588\u2588\u2588\u2588\u2588\u2588\u2588\u2588\u2588\u2588\u2588\u2588\u2588\u2588\u2589       | 211/244 [00:23<00:03,  8.72it/s]"
                    ]
                },
                {
                    "name": "stderr",
                    "output_type": "stream",
                    "text": [
                        "\r",
                        " 87%|\u2588\u2588\u2588\u2588\u2588\u2588\u2588\u2588\u2588\u2588\u2588\u2588\u2588\u2588\u2588\u2588\u2588\u2588\u2588\u2588\u2588\u2588\u2588\u2588\u2588\u2588\u2588\u2588\u2588\u2588\u2588\u2588\u2588\u2588\u2588\u2588\u2588\u2588\u2588\u2588\u2588\u2588\u2588\u2588\u2588\u258f      | 212/244 [00:23<00:03,  8.73it/s]"
                    ]
                },
                {
                    "name": "stderr",
                    "output_type": "stream",
                    "text": [
                        "\r",
                        " 87%|\u2588\u2588\u2588\u2588\u2588\u2588\u2588\u2588\u2588\u2588\u2588\u2588\u2588\u2588\u2588\u2588\u2588\u2588\u2588\u2588\u2588\u2588\u2588\u2588\u2588\u2588\u2588\u2588\u2588\u2588\u2588\u2588\u2588\u2588\u2588\u2588\u2588\u2588\u2588\u2588\u2588\u2588\u2588\u2588\u2588\u258d      | 213/244 [00:24<00:03,  8.73it/s]"
                    ]
                },
                {
                    "name": "stderr",
                    "output_type": "stream",
                    "text": [
                        "\r",
                        " 88%|\u2588\u2588\u2588\u2588\u2588\u2588\u2588\u2588\u2588\u2588\u2588\u2588\u2588\u2588\u2588\u2588\u2588\u2588\u2588\u2588\u2588\u2588\u2588\u2588\u2588\u2588\u2588\u2588\u2588\u2588\u2588\u2588\u2588\u2588\u2588\u2588\u2588\u2588\u2588\u2588\u2588\u2588\u2588\u2588\u2588\u258c      | 214/244 [00:24<00:03,  8.75it/s]"
                    ]
                },
                {
                    "name": "stderr",
                    "output_type": "stream",
                    "text": [
                        "\r",
                        " 88%|\u2588\u2588\u2588\u2588\u2588\u2588\u2588\u2588\u2588\u2588\u2588\u2588\u2588\u2588\u2588\u2588\u2588\u2588\u2588\u2588\u2588\u2588\u2588\u2588\u2588\u2588\u2588\u2588\u2588\u2588\u2588\u2588\u2588\u2588\u2588\u2588\u2588\u2588\u2588\u2588\u2588\u2588\u2588\u2588\u2588\u258a      | 215/244 [00:24<00:03,  8.76it/s]"
                    ]
                },
                {
                    "name": "stderr",
                    "output_type": "stream",
                    "text": [
                        "\r",
                        " 89%|\u2588\u2588\u2588\u2588\u2588\u2588\u2588\u2588\u2588\u2588\u2588\u2588\u2588\u2588\u2588\u2588\u2588\u2588\u2588\u2588\u2588\u2588\u2588\u2588\u2588\u2588\u2588\u2588\u2588\u2588\u2588\u2588\u2588\u2588\u2588\u2588\u2588\u2588\u2588\u2588\u2588\u2588\u2588\u2588\u2588\u2588      | 216/244 [00:24<00:03,  8.74it/s]"
                    ]
                },
                {
                    "name": "stderr",
                    "output_type": "stream",
                    "text": [
                        "\r",
                        " 89%|\u2588\u2588\u2588\u2588\u2588\u2588\u2588\u2588\u2588\u2588\u2588\u2588\u2588\u2588\u2588\u2588\u2588\u2588\u2588\u2588\u2588\u2588\u2588\u2588\u2588\u2588\u2588\u2588\u2588\u2588\u2588\u2588\u2588\u2588\u2588\u2588\u2588\u2588\u2588\u2588\u2588\u2588\u2588\u2588\u2588\u2588\u258f     | 217/244 [00:24<00:03,  8.78it/s]"
                    ]
                },
                {
                    "name": "stderr",
                    "output_type": "stream",
                    "text": [
                        "\r",
                        " 89%|\u2588\u2588\u2588\u2588\u2588\u2588\u2588\u2588\u2588\u2588\u2588\u2588\u2588\u2588\u2588\u2588\u2588\u2588\u2588\u2588\u2588\u2588\u2588\u2588\u2588\u2588\u2588\u2588\u2588\u2588\u2588\u2588\u2588\u2588\u2588\u2588\u2588\u2588\u2588\u2588\u2588\u2588\u2588\u2588\u2588\u2588\u258d     | 218/244 [00:24<00:02,  8.82it/s]"
                    ]
                },
                {
                    "name": "stderr",
                    "output_type": "stream",
                    "text": [
                        "\r",
                        " 90%|\u2588\u2588\u2588\u2588\u2588\u2588\u2588\u2588\u2588\u2588\u2588\u2588\u2588\u2588\u2588\u2588\u2588\u2588\u2588\u2588\u2588\u2588\u2588\u2588\u2588\u2588\u2588\u2588\u2588\u2588\u2588\u2588\u2588\u2588\u2588\u2588\u2588\u2588\u2588\u2588\u2588\u2588\u2588\u2588\u2588\u2588\u258b     | 219/244 [00:24<00:02,  8.83it/s]"
                    ]
                },
                {
                    "name": "stderr",
                    "output_type": "stream",
                    "text": [
                        "\r",
                        " 90%|\u2588\u2588\u2588\u2588\u2588\u2588\u2588\u2588\u2588\u2588\u2588\u2588\u2588\u2588\u2588\u2588\u2588\u2588\u2588\u2588\u2588\u2588\u2588\u2588\u2588\u2588\u2588\u2588\u2588\u2588\u2588\u2588\u2588\u2588\u2588\u2588\u2588\u2588\u2588\u2588\u2588\u2588\u2588\u2588\u2588\u2588\u2589     | 220/244 [00:24<00:02,  8.85it/s]"
                    ]
                },
                {
                    "name": "stderr",
                    "output_type": "stream",
                    "text": [
                        "\r",
                        " 91%|\u2588\u2588\u2588\u2588\u2588\u2588\u2588\u2588\u2588\u2588\u2588\u2588\u2588\u2588\u2588\u2588\u2588\u2588\u2588\u2588\u2588\u2588\u2588\u2588\u2588\u2588\u2588\u2588\u2588\u2588\u2588\u2588\u2588\u2588\u2588\u2588\u2588\u2588\u2588\u2588\u2588\u2588\u2588\u2588\u2588\u2588\u2588     | 221/244 [00:25<00:02,  8.83it/s]"
                    ]
                },
                {
                    "name": "stderr",
                    "output_type": "stream",
                    "text": [
                        "\r",
                        " 91%|\u2588\u2588\u2588\u2588\u2588\u2588\u2588\u2588\u2588\u2588\u2588\u2588\u2588\u2588\u2588\u2588\u2588\u2588\u2588\u2588\u2588\u2588\u2588\u2588\u2588\u2588\u2588\u2588\u2588\u2588\u2588\u2588\u2588\u2588\u2588\u2588\u2588\u2588\u2588\u2588\u2588\u2588\u2588\u2588\u2588\u2588\u2588\u258e    | 222/244 [00:25<00:02,  8.77it/s]"
                    ]
                },
                {
                    "name": "stderr",
                    "output_type": "stream",
                    "text": [
                        "\r",
                        " 91%|\u2588\u2588\u2588\u2588\u2588\u2588\u2588\u2588\u2588\u2588\u2588\u2588\u2588\u2588\u2588\u2588\u2588\u2588\u2588\u2588\u2588\u2588\u2588\u2588\u2588\u2588\u2588\u2588\u2588\u2588\u2588\u2588\u2588\u2588\u2588\u2588\u2588\u2588\u2588\u2588\u2588\u2588\u2588\u2588\u2588\u2588\u2588\u258c    | 223/244 [00:25<00:02,  8.74it/s]"
                    ]
                },
                {
                    "name": "stderr",
                    "output_type": "stream",
                    "text": [
                        "\r",
                        " 92%|\u2588\u2588\u2588\u2588\u2588\u2588\u2588\u2588\u2588\u2588\u2588\u2588\u2588\u2588\u2588\u2588\u2588\u2588\u2588\u2588\u2588\u2588\u2588\u2588\u2588\u2588\u2588\u2588\u2588\u2588\u2588\u2588\u2588\u2588\u2588\u2588\u2588\u2588\u2588\u2588\u2588\u2588\u2588\u2588\u2588\u2588\u2588\u258b    | 224/244 [00:25<00:02,  8.69it/s]"
                    ]
                },
                {
                    "name": "stderr",
                    "output_type": "stream",
                    "text": [
                        "\r",
                        " 92%|\u2588\u2588\u2588\u2588\u2588\u2588\u2588\u2588\u2588\u2588\u2588\u2588\u2588\u2588\u2588\u2588\u2588\u2588\u2588\u2588\u2588\u2588\u2588\u2588\u2588\u2588\u2588\u2588\u2588\u2588\u2588\u2588\u2588\u2588\u2588\u2588\u2588\u2588\u2588\u2588\u2588\u2588\u2588\u2588\u2588\u2588\u2588\u2589    | 225/244 [00:25<00:02,  8.43it/s]"
                    ]
                },
                {
                    "name": "stderr",
                    "output_type": "stream",
                    "text": [
                        "\r",
                        " 93%|\u2588\u2588\u2588\u2588\u2588\u2588\u2588\u2588\u2588\u2588\u2588\u2588\u2588\u2588\u2588\u2588\u2588\u2588\u2588\u2588\u2588\u2588\u2588\u2588\u2588\u2588\u2588\u2588\u2588\u2588\u2588\u2588\u2588\u2588\u2588\u2588\u2588\u2588\u2588\u2588\u2588\u2588\u2588\u2588\u2588\u2588\u2588\u2588\u258f   | 226/244 [00:25<00:02,  8.16it/s]"
                    ]
                },
                {
                    "name": "stderr",
                    "output_type": "stream",
                    "text": [
                        "\r",
                        " 93%|\u2588\u2588\u2588\u2588\u2588\u2588\u2588\u2588\u2588\u2588\u2588\u2588\u2588\u2588\u2588\u2588\u2588\u2588\u2588\u2588\u2588\u2588\u2588\u2588\u2588\u2588\u2588\u2588\u2588\u2588\u2588\u2588\u2588\u2588\u2588\u2588\u2588\u2588\u2588\u2588\u2588\u2588\u2588\u2588\u2588\u2588\u2588\u2588\u258d   | 227/244 [00:25<00:02,  8.32it/s]"
                    ]
                },
                {
                    "name": "stderr",
                    "output_type": "stream",
                    "text": [
                        "\r",
                        " 93%|\u2588\u2588\u2588\u2588\u2588\u2588\u2588\u2588\u2588\u2588\u2588\u2588\u2588\u2588\u2588\u2588\u2588\u2588\u2588\u2588\u2588\u2588\u2588\u2588\u2588\u2588\u2588\u2588\u2588\u2588\u2588\u2588\u2588\u2588\u2588\u2588\u2588\u2588\u2588\u2588\u2588\u2588\u2588\u2588\u2588\u2588\u2588\u2588\u258c   | 228/244 [00:25<00:01,  8.45it/s]"
                    ]
                },
                {
                    "name": "stderr",
                    "output_type": "stream",
                    "text": [
                        "\r",
                        " 94%|\u2588\u2588\u2588\u2588\u2588\u2588\u2588\u2588\u2588\u2588\u2588\u2588\u2588\u2588\u2588\u2588\u2588\u2588\u2588\u2588\u2588\u2588\u2588\u2588\u2588\u2588\u2588\u2588\u2588\u2588\u2588\u2588\u2588\u2588\u2588\u2588\u2588\u2588\u2588\u2588\u2588\u2588\u2588\u2588\u2588\u2588\u2588\u2588\u258a   | 229/244 [00:25<00:01,  8.51it/s]"
                    ]
                },
                {
                    "name": "stderr",
                    "output_type": "stream",
                    "text": [
                        "\r",
                        " 94%|\u2588\u2588\u2588\u2588\u2588\u2588\u2588\u2588\u2588\u2588\u2588\u2588\u2588\u2588\u2588\u2588\u2588\u2588\u2588\u2588\u2588\u2588\u2588\u2588\u2588\u2588\u2588\u2588\u2588\u2588\u2588\u2588\u2588\u2588\u2588\u2588\u2588\u2588\u2588\u2588\u2588\u2588\u2588\u2588\u2588\u2588\u2588\u2588\u2588   | 230/244 [00:26<00:01,  8.57it/s]"
                    ]
                },
                {
                    "name": "stderr",
                    "output_type": "stream",
                    "text": [
                        "\r",
                        " 95%|\u2588\u2588\u2588\u2588\u2588\u2588\u2588\u2588\u2588\u2588\u2588\u2588\u2588\u2588\u2588\u2588\u2588\u2588\u2588\u2588\u2588\u2588\u2588\u2588\u2588\u2588\u2588\u2588\u2588\u2588\u2588\u2588\u2588\u2588\u2588\u2588\u2588\u2588\u2588\u2588\u2588\u2588\u2588\u2588\u2588\u2588\u2588\u2588\u2588\u258f  | 231/244 [00:26<00:01,  8.59it/s]"
                    ]
                },
                {
                    "name": "stderr",
                    "output_type": "stream",
                    "text": [
                        "\r",
                        " 95%|\u2588\u2588\u2588\u2588\u2588\u2588\u2588\u2588\u2588\u2588\u2588\u2588\u2588\u2588\u2588\u2588\u2588\u2588\u2588\u2588\u2588\u2588\u2588\u2588\u2588\u2588\u2588\u2588\u2588\u2588\u2588\u2588\u2588\u2588\u2588\u2588\u2588\u2588\u2588\u2588\u2588\u2588\u2588\u2588\u2588\u2588\u2588\u2588\u2588\u258d  | 232/244 [00:26<00:01,  8.61it/s]"
                    ]
                },
                {
                    "name": "stderr",
                    "output_type": "stream",
                    "text": [
                        "\r",
                        " 95%|\u2588\u2588\u2588\u2588\u2588\u2588\u2588\u2588\u2588\u2588\u2588\u2588\u2588\u2588\u2588\u2588\u2588\u2588\u2588\u2588\u2588\u2588\u2588\u2588\u2588\u2588\u2588\u2588\u2588\u2588\u2588\u2588\u2588\u2588\u2588\u2588\u2588\u2588\u2588\u2588\u2588\u2588\u2588\u2588\u2588\u2588\u2588\u2588\u2588\u258b  | 233/244 [00:26<00:01,  8.65it/s]"
                    ]
                },
                {
                    "name": "stderr",
                    "output_type": "stream",
                    "text": [
                        "\r",
                        " 96%|\u2588\u2588\u2588\u2588\u2588\u2588\u2588\u2588\u2588\u2588\u2588\u2588\u2588\u2588\u2588\u2588\u2588\u2588\u2588\u2588\u2588\u2588\u2588\u2588\u2588\u2588\u2588\u2588\u2588\u2588\u2588\u2588\u2588\u2588\u2588\u2588\u2588\u2588\u2588\u2588\u2588\u2588\u2588\u2588\u2588\u2588\u2588\u2588\u2588\u258a  | 234/244 [00:26<00:01,  8.70it/s]"
                    ]
                },
                {
                    "name": "stderr",
                    "output_type": "stream",
                    "text": [
                        "\r",
                        " 96%|\u2588\u2588\u2588\u2588\u2588\u2588\u2588\u2588\u2588\u2588\u2588\u2588\u2588\u2588\u2588\u2588\u2588\u2588\u2588\u2588\u2588\u2588\u2588\u2588\u2588\u2588\u2588\u2588\u2588\u2588\u2588\u2588\u2588\u2588\u2588\u2588\u2588\u2588\u2588\u2588\u2588\u2588\u2588\u2588\u2588\u2588\u2588\u2588\u2588\u2588  | 235/244 [00:26<00:01,  8.72it/s]"
                    ]
                },
                {
                    "name": "stderr",
                    "output_type": "stream",
                    "text": [
                        "\r",
                        " 97%|\u2588\u2588\u2588\u2588\u2588\u2588\u2588\u2588\u2588\u2588\u2588\u2588\u2588\u2588\u2588\u2588\u2588\u2588\u2588\u2588\u2588\u2588\u2588\u2588\u2588\u2588\u2588\u2588\u2588\u2588\u2588\u2588\u2588\u2588\u2588\u2588\u2588\u2588\u2588\u2588\u2588\u2588\u2588\u2588\u2588\u2588\u2588\u2588\u2588\u2588\u258e | 236/244 [00:26<00:00,  8.72it/s]"
                    ]
                },
                {
                    "name": "stderr",
                    "output_type": "stream",
                    "text": [
                        "\r",
                        " 97%|\u2588\u2588\u2588\u2588\u2588\u2588\u2588\u2588\u2588\u2588\u2588\u2588\u2588\u2588\u2588\u2588\u2588\u2588\u2588\u2588\u2588\u2588\u2588\u2588\u2588\u2588\u2588\u2588\u2588\u2588\u2588\u2588\u2588\u2588\u2588\u2588\u2588\u2588\u2588\u2588\u2588\u2588\u2588\u2588\u2588\u2588\u2588\u2588\u2588\u2588\u258c | 237/244 [00:26<00:00,  8.71it/s]"
                    ]
                },
                {
                    "name": "stderr",
                    "output_type": "stream",
                    "text": [
                        "\r",
                        " 98%|\u2588\u2588\u2588\u2588\u2588\u2588\u2588\u2588\u2588\u2588\u2588\u2588\u2588\u2588\u2588\u2588\u2588\u2588\u2588\u2588\u2588\u2588\u2588\u2588\u2588\u2588\u2588\u2588\u2588\u2588\u2588\u2588\u2588\u2588\u2588\u2588\u2588\u2588\u2588\u2588\u2588\u2588\u2588\u2588\u2588\u2588\u2588\u2588\u2588\u2588\u258b | 238/244 [00:26<00:00,  8.71it/s]"
                    ]
                },
                {
                    "name": "stderr",
                    "output_type": "stream",
                    "text": [
                        "\r",
                        " 98%|\u2588\u2588\u2588\u2588\u2588\u2588\u2588\u2588\u2588\u2588\u2588\u2588\u2588\u2588\u2588\u2588\u2588\u2588\u2588\u2588\u2588\u2588\u2588\u2588\u2588\u2588\u2588\u2588\u2588\u2588\u2588\u2588\u2588\u2588\u2588\u2588\u2588\u2588\u2588\u2588\u2588\u2588\u2588\u2588\u2588\u2588\u2588\u2588\u2588\u2588\u2589 | 239/244 [00:27<00:00,  8.69it/s]"
                    ]
                },
                {
                    "name": "stderr",
                    "output_type": "stream",
                    "text": [
                        "\r",
                        " 98%|\u2588\u2588\u2588\u2588\u2588\u2588\u2588\u2588\u2588\u2588\u2588\u2588\u2588\u2588\u2588\u2588\u2588\u2588\u2588\u2588\u2588\u2588\u2588\u2588\u2588\u2588\u2588\u2588\u2588\u2588\u2588\u2588\u2588\u2588\u2588\u2588\u2588\u2588\u2588\u2588\u2588\u2588\u2588\u2588\u2588\u2588\u2588\u2588\u2588\u2588\u2588\u258f| 240/244 [00:27<00:00,  8.68it/s]"
                    ]
                },
                {
                    "name": "stderr",
                    "output_type": "stream",
                    "text": [
                        "\r",
                        " 99%|\u2588\u2588\u2588\u2588\u2588\u2588\u2588\u2588\u2588\u2588\u2588\u2588\u2588\u2588\u2588\u2588\u2588\u2588\u2588\u2588\u2588\u2588\u2588\u2588\u2588\u2588\u2588\u2588\u2588\u2588\u2588\u2588\u2588\u2588\u2588\u2588\u2588\u2588\u2588\u2588\u2588\u2588\u2588\u2588\u2588\u2588\u2588\u2588\u2588\u2588\u2588\u258e| 241/244 [00:27<00:00,  8.66it/s]"
                    ]
                },
                {
                    "name": "stderr",
                    "output_type": "stream",
                    "text": [
                        "\r",
                        " 99%|\u2588\u2588\u2588\u2588\u2588\u2588\u2588\u2588\u2588\u2588\u2588\u2588\u2588\u2588\u2588\u2588\u2588\u2588\u2588\u2588\u2588\u2588\u2588\u2588\u2588\u2588\u2588\u2588\u2588\u2588\u2588\u2588\u2588\u2588\u2588\u2588\u2588\u2588\u2588\u2588\u2588\u2588\u2588\u2588\u2588\u2588\u2588\u2588\u2588\u2588\u2588\u258c| 242/244 [00:27<00:00,  8.66it/s]"
                    ]
                },
                {
                    "name": "stderr",
                    "output_type": "stream",
                    "text": [
                        "\r",
                        "100%|\u2588\u2588\u2588\u2588\u2588\u2588\u2588\u2588\u2588\u2588\u2588\u2588\u2588\u2588\u2588\u2588\u2588\u2588\u2588\u2588\u2588\u2588\u2588\u2588\u2588\u2588\u2588\u2588\u2588\u2588\u2588\u2588\u2588\u2588\u2588\u2588\u2588\u2588\u2588\u2588\u2588\u2588\u2588\u2588\u2588\u2588\u2588\u2588\u2588\u2588\u2588\u258a| 243/244 [00:27<00:00,  8.72it/s]"
                    ]
                },
                {
                    "name": "stderr",
                    "output_type": "stream",
                    "text": [
                        "\r",
                        "100%|\u2588\u2588\u2588\u2588\u2588\u2588\u2588\u2588\u2588\u2588\u2588\u2588\u2588\u2588\u2588\u2588\u2588\u2588\u2588\u2588\u2588\u2588\u2588\u2588\u2588\u2588\u2588\u2588\u2588\u2588\u2588\u2588\u2588\u2588\u2588\u2588\u2588\u2588\u2588\u2588\u2588\u2588\u2588\u2588\u2588\u2588\u2588\u2588\u2588\u2588\u2588\u2588| 244/244 [00:27<00:00,  8.82it/s]"
                    ]
                },
                {
                    "name": "stderr",
                    "output_type": "stream",
                    "text": [
                        "\r",
                        "100%|\u2588\u2588\u2588\u2588\u2588\u2588\u2588\u2588\u2588\u2588\u2588\u2588\u2588\u2588\u2588\u2588\u2588\u2588\u2588\u2588\u2588\u2588\u2588\u2588\u2588\u2588\u2588\u2588\u2588\u2588\u2588\u2588\u2588\u2588\u2588\u2588\u2588\u2588\u2588\u2588\u2588\u2588\u2588\u2588\u2588\u2588\u2588\u2588\u2588\u2588\u2588\u2588| 244/244 [00:27<00:00,  8.82it/s]"
                    ]
                },
                {
                    "name": "stdout",
                    "output_type": "stream",
                    "text": [
                        "(732, 9)\n"
                    ]
                },
                {
                    "name": "stderr",
                    "output_type": "stream",
                    "text": [
                        "\n"
                    ]
                },
                {
                    "data": {
                        "text/html": [
                            "<div>\n",
                            "<style scoped>\n",
                            "    .dataframe tbody tr th:only-of-type {\n",
                            "        vertical-align: middle;\n",
                            "    }\n",
                            "\n",
                            "    .dataframe tbody tr th {\n",
                            "        vertical-align: top;\n",
                            "    }\n",
                            "\n",
                            "    .dataframe thead th {\n",
                            "        text-align: right;\n",
                            "    }\n",
                            "</style>\n",
                            "<table border=\"1\" class=\"dataframe\">\n",
                            "  <thead>\n",
                            "    <tr style=\"text-align: right;\">\n",
                            "      <th></th>\n",
                            "      <th>group1</th>\n",
                            "      <th>group2</th>\n",
                            "      <th>meandiff</th>\n",
                            "      <th>p-adj</th>\n",
                            "      <th>lower</th>\n",
                            "      <th>upper</th>\n",
                            "      <th>reject</th>\n",
                            "      <th>feature</th>\n",
                            "      <th>anova_p_value</th>\n",
                            "    </tr>\n",
                            "  </thead>\n",
                            "  <tbody>\n",
                            "    <tr>\n",
                            "      <th>0</th>\n",
                            "      <td>high</td>\n",
                            "      <td>unsel</td>\n",
                            "      <td>-1.5096</td>\n",
                            "      <td>0.0</td>\n",
                            "      <td>-1.8942</td>\n",
                            "      <td>-1.125</td>\n",
                            "      <td>True</td>\n",
                            "      <td>AreaShape_Area</td>\n",
                            "      <td>1.089545e-20</td>\n",
                            "    </tr>\n",
                            "    <tr>\n",
                            "      <th>1</th>\n",
                            "      <td>high</td>\n",
                            "      <td>wt</td>\n",
                            "      <td>-2.0158</td>\n",
                            "      <td>0.0</td>\n",
                            "      <td>-2.3969</td>\n",
                            "      <td>-1.6347</td>\n",
                            "      <td>True</td>\n",
                            "      <td>AreaShape_Area</td>\n",
                            "      <td>1.089545e-20</td>\n",
                            "    </tr>\n",
                            "    <tr>\n",
                            "      <th>2</th>\n",
                            "      <td>unsel</td>\n",
                            "      <td>wt</td>\n",
                            "      <td>-0.5062</td>\n",
                            "      <td>0.0066</td>\n",
                            "      <td>-0.8908</td>\n",
                            "      <td>-0.1216</td>\n",
                            "      <td>True</td>\n",
                            "      <td>AreaShape_Area</td>\n",
                            "      <td>1.089545e-20</td>\n",
                            "    </tr>\n",
                            "    <tr>\n",
                            "      <th>3</th>\n",
                            "      <td>high</td>\n",
                            "      <td>unsel</td>\n",
                            "      <td>-1.5096</td>\n",
                            "      <td>0.0</td>\n",
                            "      <td>-1.8942</td>\n",
                            "      <td>-1.125</td>\n",
                            "      <td>True</td>\n",
                            "      <td>AreaShape_CentralMoment_0_0</td>\n",
                            "      <td>1.089545e-20</td>\n",
                            "    </tr>\n",
                            "    <tr>\n",
                            "      <th>4</th>\n",
                            "      <td>high</td>\n",
                            "      <td>wt</td>\n",
                            "      <td>-2.0158</td>\n",
                            "      <td>0.0</td>\n",
                            "      <td>-2.3969</td>\n",
                            "      <td>-1.6347</td>\n",
                            "      <td>True</td>\n",
                            "      <td>AreaShape_CentralMoment_0_0</td>\n",
                            "      <td>1.089545e-20</td>\n",
                            "    </tr>\n",
                            "  </tbody>\n",
                            "</table>\n",
                            "</div>"
                        ],
                        "text/plain": [
                            "  group1 group2 meandiff   p-adj   lower   upper reject  \\\n",
                            "0   high  unsel  -1.5096     0.0 -1.8942  -1.125   True   \n",
                            "1   high     wt  -2.0158     0.0 -2.3969 -1.6347   True   \n",
                            "2  unsel     wt  -0.5062  0.0066 -0.8908 -0.1216   True   \n",
                            "3   high  unsel  -1.5096     0.0 -1.8942  -1.125   True   \n",
                            "4   high     wt  -2.0158     0.0 -2.3969 -1.6347   True   \n",
                            "\n",
                            "                       feature  anova_p_value  \n",
                            "0               AreaShape_Area   1.089545e-20  \n",
                            "1               AreaShape_Area   1.089545e-20  \n",
                            "2               AreaShape_Area   1.089545e-20  \n",
                            "3  AreaShape_CentralMoment_0_0   1.089545e-20  \n",
                            "4  AreaShape_CentralMoment_0_0   1.089545e-20  "
                        ]
                    },
                    "execution_count": 5,
                    "metadata": {},
                    "output_type": "execute_result"
                }
            ],
            "source": [
                "anova_input_df = features_df.copy()\n",
                "anova_input_df[\"Metadata_genotype\"] = metadata_df[\"Metadata_genotype\"]\n",
                "anova_output_df = anova_function(anova_input_df, \"Metadata_genotype\")\n",
                "print(anova_output_df.shape)\n",
                "anova_output_df.head()"
            ]
        },
        {
            "cell_type": "code",
            "execution_count": 6,
            "id": "9b05e092",
            "metadata": {
                "execution": {
                    "iopub.execute_input": "2024-11-06T23:45:44.607233Z",
                    "iopub.status.busy": "2024-11-06T23:45:44.606822Z",
                    "iopub.status.idle": "2024-11-06T23:45:44.611982Z",
                    "shell.execute_reply": "2024-11-06T23:45:44.611501Z"
                },
                "papermill": {
                    "duration": 0.020594,
                    "end_time": "2024-11-06T23:45:44.612727",
                    "exception": false,
                    "start_time": "2024-11-06T23:45:44.592133",
                    "status": "completed"
                },
                "tags": []
            },
            "outputs": [],
            "source": [
                "# save the results\n",
                "output_file = pathlib.Path(\n",
                "    \"../../data/6.analysis_results/mean_aggregated_anova_results.parquet\"\n",
                ")\n",
                "output_file.parent.mkdir(exist_ok=True, parents=True)\n",
                "anova_output_df.to_parquet(output_file)"
            ]
        },
        {
            "cell_type": "markdown",
            "id": "87434b5e",
            "metadata": {
                "papermill": {
                    "duration": 0.011578,
                    "end_time": "2024-11-06T23:45:44.638762",
                    "exception": false,
                    "start_time": "2024-11-06T23:45:44.627184",
                    "status": "completed"
                },
                "tags": []
            },
            "source": [
                "## Levene's test for homogeneity of variance across all groups"
            ]
        },
        {
            "cell_type": "code",
            "execution_count": 7,
            "id": "5b883991",
            "metadata": {
                "execution": {
                    "iopub.execute_input": "2024-11-06T23:45:44.656368Z",
                    "iopub.status.busy": "2024-11-06T23:45:44.656104Z",
                    "iopub.status.idle": "2024-11-06T23:45:44.728981Z",
                    "shell.execute_reply": "2024-11-06T23:45:44.728543Z"
                },
                "papermill": {
                    "duration": 0.082362,
                    "end_time": "2024-11-06T23:45:44.729573",
                    "exception": false,
                    "start_time": "2024-11-06T23:45:44.647211",
                    "status": "completed"
                },
                "tags": []
            },
            "outputs": [
                {
                    "name": "stderr",
                    "output_type": "stream",
                    "text": [
                        "\r",
                        "  0%|                                                              | 0/244 [00:00<?, ?it/s]"
                    ]
                },
                {
                    "name": "stderr",
                    "output_type": "stream",
                    "text": [
                        "\r",
                        "100%|\u2588\u2588\u2588\u2588\u2588\u2588\u2588\u2588\u2588\u2588\u2588\u2588\u2588\u2588\u2588\u2588\u2588\u2588\u2588\u2588\u2588\u2588\u2588\u2588\u2588\u2588\u2588\u2588\u2588\u2588\u2588\u2588\u2588\u2588\u2588\u2588\u2588\u2588\u2588\u2588\u2588\u2588\u2588\u2588\u2588\u2588\u2588\u2588\u2588\u2588| 244/244 [00:00<00:00, 3890.27it/s]"
                    ]
                },
                {
                    "name": "stderr",
                    "output_type": "stream",
                    "text": [
                        "\n"
                    ]
                },
                {
                    "data": {
                        "text/html": [
                            "<div>\n",
                            "<style scoped>\n",
                            "    .dataframe tbody tr th:only-of-type {\n",
                            "        vertical-align: middle;\n",
                            "    }\n",
                            "\n",
                            "    .dataframe tbody tr th {\n",
                            "        vertical-align: top;\n",
                            "    }\n",
                            "\n",
                            "    .dataframe thead th {\n",
                            "        text-align: right;\n",
                            "    }\n",
                            "</style>\n",
                            "<table border=\"1\" class=\"dataframe\">\n",
                            "  <thead>\n",
                            "    <tr style=\"text-align: right;\">\n",
                            "      <th></th>\n",
                            "      <th>feature</th>\n",
                            "      <th>levene_statistic</th>\n",
                            "      <th>levene_p_value</th>\n",
                            "    </tr>\n",
                            "  </thead>\n",
                            "  <tbody>\n",
                            "    <tr>\n",
                            "      <th>0</th>\n",
                            "      <td>AreaShape_Area</td>\n",
                            "      <td>4.808285</td>\n",
                            "      <td>0.010668</td>\n",
                            "    </tr>\n",
                            "    <tr>\n",
                            "      <th>1</th>\n",
                            "      <td>AreaShape_CentralMoment_0_0</td>\n",
                            "      <td>4.808285</td>\n",
                            "      <td>0.010668</td>\n",
                            "    </tr>\n",
                            "    <tr>\n",
                            "      <th>2</th>\n",
                            "      <td>AreaShape_CentralMoment_0_1</td>\n",
                            "      <td>9.124611</td>\n",
                            "      <td>0.000269</td>\n",
                            "    </tr>\n",
                            "    <tr>\n",
                            "      <th>3</th>\n",
                            "      <td>AreaShape_CentralMoment_0_2</td>\n",
                            "      <td>9.782865</td>\n",
                            "      <td>0.000158</td>\n",
                            "    </tr>\n",
                            "    <tr>\n",
                            "      <th>4</th>\n",
                            "      <td>AreaShape_CentralMoment_0_3</td>\n",
                            "      <td>3.424782</td>\n",
                            "      <td>0.037402</td>\n",
                            "    </tr>\n",
                            "    <tr>\n",
                            "      <th>...</th>\n",
                            "      <td>...</td>\n",
                            "      <td>...</td>\n",
                            "      <td>...</td>\n",
                            "    </tr>\n",
                            "    <tr>\n",
                            "      <th>239</th>\n",
                            "      <td>Texture_SumVariance_OP_3_03_256</td>\n",
                            "      <td>7.546945</td>\n",
                            "      <td>0.000994</td>\n",
                            "    </tr>\n",
                            "    <tr>\n",
                            "      <th>240</th>\n",
                            "      <td>Texture_Variance_OP_3_00_256</td>\n",
                            "      <td>8.691200</td>\n",
                            "      <td>0.000384</td>\n",
                            "    </tr>\n",
                            "    <tr>\n",
                            "      <th>241</th>\n",
                            "      <td>Texture_Variance_OP_3_01_256</td>\n",
                            "      <td>8.906770</td>\n",
                            "      <td>0.000322</td>\n",
                            "    </tr>\n",
                            "    <tr>\n",
                            "      <th>242</th>\n",
                            "      <td>Texture_Variance_OP_3_02_256</td>\n",
                            "      <td>8.563326</td>\n",
                            "      <td>0.000427</td>\n",
                            "    </tr>\n",
                            "    <tr>\n",
                            "      <th>243</th>\n",
                            "      <td>Texture_Variance_OP_3_03_256</td>\n",
                            "      <td>8.763949</td>\n",
                            "      <td>0.000362</td>\n",
                            "    </tr>\n",
                            "  </tbody>\n",
                            "</table>\n",
                            "<p>244 rows \u00d7 3 columns</p>\n",
                            "</div>"
                        ],
                        "text/plain": [
                            "                             feature  levene_statistic  levene_p_value\n",
                            "0                     AreaShape_Area          4.808285        0.010668\n",
                            "1        AreaShape_CentralMoment_0_0          4.808285        0.010668\n",
                            "2        AreaShape_CentralMoment_0_1          9.124611        0.000269\n",
                            "3        AreaShape_CentralMoment_0_2          9.782865        0.000158\n",
                            "4        AreaShape_CentralMoment_0_3          3.424782        0.037402\n",
                            "..                               ...               ...             ...\n",
                            "239  Texture_SumVariance_OP_3_03_256          7.546945        0.000994\n",
                            "240     Texture_Variance_OP_3_00_256          8.691200        0.000384\n",
                            "241     Texture_Variance_OP_3_01_256          8.906770        0.000322\n",
                            "242     Texture_Variance_OP_3_02_256          8.563326        0.000427\n",
                            "243     Texture_Variance_OP_3_03_256          8.763949        0.000362\n",
                            "\n",
                            "[244 rows x 3 columns]"
                        ]
                    },
                    "execution_count": 7,
                    "metadata": {},
                    "output_type": "execute_result"
                }
            ],
            "source": [
                "# split the df into three genotypes\n",
                "high_df = df[df[\"Metadata_genotype\"] == \"high\"]\n",
                "unsel_df = df[df[\"Metadata_genotype\"] == \"unsel\"]\n",
                "wt_df = df[df[\"Metadata_genotype\"] == \"wt\"]\n",
                "levene_test_results = {\"feature\": [], \"levene_statistic\": [], \"levene_p_value\": []}\n",
                "for feature in tqdm.tqdm(features_df.columns):\n",
                "    # calculate the levene test for each feature\n",
                "    levene_results = levene(wt_df[feature], unsel_df[feature], high_df[feature])\n",
                "    levene_test_results[\"feature\"].append(feature)\n",
                "    levene_test_results[\"levene_statistic\"].append(levene_results.statistic)\n",
                "    levene_test_results[\"levene_p_value\"].append(levene_results.pvalue)\n",
                "\n",
                "levene_test_results_df = pd.DataFrame(levene_test_results)\n",
                "levene_test_results_df"
            ]
        },
        {
            "cell_type": "markdown",
            "id": "7068042c",
            "metadata": {
                "papermill": {
                    "duration": 0.014577,
                    "end_time": "2024-11-06T23:45:44.758876",
                    "exception": false,
                    "start_time": "2024-11-06T23:45:44.744299",
                    "status": "completed"
                },
                "tags": []
            },
            "source": [
                "## Calculate the levenes test statistic for the equality of variances\n",
                "## Pairwise"
            ]
        },
        {
            "cell_type": "code",
            "execution_count": 8,
            "id": "1b0ddc47",
            "metadata": {
                "execution": {
                    "iopub.execute_input": "2024-11-06T23:45:44.799611Z",
                    "iopub.status.busy": "2024-11-06T23:45:44.799267Z"
                },
                "papermill": {
                    "duration": 4.134795,
                    "end_time": "2024-11-06T23:45:48.903343",
                    "exception": false,
                    "start_time": "2024-11-06T23:45:44.768548",
                    "status": "completed"
                },
                "tags": []
            },
            "outputs": [
                {
                    "name": "stderr",
                    "output_type": "stream",
                    "text": [
                        "\r",
                        "  0%|                                                              | 0/244 [00:00<?, ?it/s]"
                    ]
                },
                {
                    "name": "stderr",
                    "output_type": "stream",
                    "text": [
                        "\r",
                        "  1%|\u258b                                                     | 3/244 [00:00<00:09, 26.50it/s]"
                    ]
                },
                {
                    "name": "stderr",
                    "output_type": "stream",
                    "text": [
                        "\r",
                        "  2%|\u2588\u258e                                                    | 6/244 [00:00<00:09, 24.30it/s]"
                    ]
                },
                {
                    "name": "stderr",
                    "output_type": "stream",
                    "text": [
                        "\r",
                        "  4%|\u2588\u2589                                                    | 9/244 [00:00<00:09, 23.83it/s]"
                    ]
                },
                {
                    "name": "stderr",
                    "output_type": "stream",
                    "text": [
                        "\r",
                        "  5%|\u2588\u2588\u258c                                                  | 12/244 [00:00<00:09, 24.98it/s]"
                    ]
                },
                {
                    "name": "stderr",
                    "output_type": "stream",
                    "text": [
                        "\r",
                        "  6%|\u2588\u2588\u2588\u258e                                                 | 15/244 [00:00<00:08, 25.89it/s]"
                    ]
                },
                {
                    "name": "stderr",
                    "output_type": "stream",
                    "text": [
                        "\r",
                        "  7%|\u2588\u2588\u2588\u2589                                                 | 18/244 [00:00<00:08, 26.73it/s]"
                    ]
                },
                {
                    "name": "stderr",
                    "output_type": "stream",
                    "text": [
                        "\r",
                        "  9%|\u2588\u2588\u2588\u2588\u258c                                                | 21/244 [00:00<00:08, 25.59it/s]"
                    ]
                },
                {
                    "name": "stderr",
                    "output_type": "stream",
                    "text": [
                        "\r",
                        " 10%|\u2588\u2588\u2588\u2588\u2588\u258f                                               | 24/244 [00:00<00:08, 25.51it/s]"
                    ]
                },
                {
                    "name": "stderr",
                    "output_type": "stream",
                    "text": [
                        "\r",
                        " 11%|\u2588\u2588\u2588\u2588\u2588\u258a                                               | 27/244 [00:01<00:08, 26.26it/s]"
                    ]
                },
                {
                    "name": "stderr",
                    "output_type": "stream",
                    "text": [
                        "\r",
                        " 12%|\u2588\u2588\u2588\u2588\u2588\u2588\u258c                                              | 30/244 [00:01<00:08, 26.43it/s]"
                    ]
                },
                {
                    "name": "stderr",
                    "output_type": "stream",
                    "text": [
                        "\r",
                        " 14%|\u2588\u2588\u2588\u2588\u2588\u2588\u2588\u258f                                             | 33/244 [00:01<00:07, 26.58it/s]"
                    ]
                },
                {
                    "name": "stderr",
                    "output_type": "stream",
                    "text": [
                        "\r",
                        " 15%|\u2588\u2588\u2588\u2588\u2588\u2588\u2588\u258a                                             | 36/244 [00:01<00:07, 26.33it/s]"
                    ]
                },
                {
                    "name": "stderr",
                    "output_type": "stream",
                    "text": [
                        "\r",
                        " 16%|\u2588\u2588\u2588\u2588\u2588\u2588\u2588\u2588\u258d                                            | 39/244 [00:01<00:07, 25.89it/s]"
                    ]
                },
                {
                    "name": "stderr",
                    "output_type": "stream",
                    "text": [
                        "\r",
                        " 17%|\u2588\u2588\u2588\u2588\u2588\u2588\u2588\u2588\u2588                                            | 42/244 [00:01<00:07, 26.02it/s]"
                    ]
                },
                {
                    "name": "stderr",
                    "output_type": "stream",
                    "text": [
                        "\r",
                        " 18%|\u2588\u2588\u2588\u2588\u2588\u2588\u2588\u2588\u2588\u258a                                           | 45/244 [00:01<00:07, 26.21it/s]"
                    ]
                },
                {
                    "name": "stderr",
                    "output_type": "stream",
                    "text": [
                        "\r",
                        " 20%|\u2588\u2588\u2588\u2588\u2588\u2588\u2588\u2588\u2588\u2588\u258d                                          | 48/244 [00:01<00:07, 25.79it/s]"
                    ]
                },
                {
                    "name": "stderr",
                    "output_type": "stream",
                    "text": [
                        "\r",
                        " 21%|\u2588\u2588\u2588\u2588\u2588\u2588\u2588\u2588\u2588\u2588\u2588                                          | 51/244 [00:01<00:07, 26.21it/s]"
                    ]
                },
                {
                    "name": "stderr",
                    "output_type": "stream",
                    "text": [
                        "\r",
                        " 22%|\u2588\u2588\u2588\u2588\u2588\u2588\u2588\u2588\u2588\u2588\u2588\u258b                                         | 54/244 [00:02<00:07, 26.25it/s]"
                    ]
                },
                {
                    "name": "stderr",
                    "output_type": "stream",
                    "text": [
                        "\r",
                        " 23%|\u2588\u2588\u2588\u2588\u2588\u2588\u2588\u2588\u2588\u2588\u2588\u2588\u258d                                        | 57/244 [00:02<00:07, 26.41it/s]"
                    ]
                },
                {
                    "name": "stderr",
                    "output_type": "stream",
                    "text": [
                        "\r",
                        " 25%|\u2588\u2588\u2588\u2588\u2588\u2588\u2588\u2588\u2588\u2588\u2588\u2588\u2588\u258e                                       | 61/244 [00:02<00:06, 27.87it/s]"
                    ]
                },
                {
                    "name": "stderr",
                    "output_type": "stream",
                    "text": [
                        "\r",
                        " 27%|\u2588\u2588\u2588\u2588\u2588\u2588\u2588\u2588\u2588\u2588\u2588\u2588\u2588\u2588                                       | 65/244 [00:02<00:06, 28.89it/s]"
                    ]
                },
                {
                    "name": "stderr",
                    "output_type": "stream",
                    "text": [
                        "\r",
                        " 28%|\u2588\u2588\u2588\u2588\u2588\u2588\u2588\u2588\u2588\u2588\u2588\u2588\u2588\u2588\u258a                                      | 68/244 [00:02<00:06, 28.88it/s]"
                    ]
                },
                {
                    "name": "stderr",
                    "output_type": "stream",
                    "text": [
                        "\r",
                        " 30%|\u2588\u2588\u2588\u2588\u2588\u2588\u2588\u2588\u2588\u2588\u2588\u2588\u2588\u2588\u2588\u258b                                     | 72/244 [00:02<00:05, 29.76it/s]"
                    ]
                },
                {
                    "name": "stderr",
                    "output_type": "stream",
                    "text": [
                        "\r",
                        " 31%|\u2588\u2588\u2588\u2588\u2588\u2588\u2588\u2588\u2588\u2588\u2588\u2588\u2588\u2588\u2588\u2588\u258c                                    | 76/244 [00:02<00:05, 30.40it/s]"
                    ]
                },
                {
                    "name": "stderr",
                    "output_type": "stream",
                    "text": [
                        "\r",
                        " 33%|\u2588\u2588\u2588\u2588\u2588\u2588\u2588\u2588\u2588\u2588\u2588\u2588\u2588\u2588\u2588\u2588\u2588\u258d                                   | 80/244 [00:02<00:05, 30.58it/s]"
                    ]
                },
                {
                    "name": "stderr",
                    "output_type": "stream",
                    "text": [
                        "\r",
                        " 34%|\u2588\u2588\u2588\u2588\u2588\u2588\u2588\u2588\u2588\u2588\u2588\u2588\u2588\u2588\u2588\u2588\u2588\u2588\u258f                                  | 84/244 [00:03<00:05, 29.23it/s]"
                    ]
                },
                {
                    "name": "stderr",
                    "output_type": "stream",
                    "text": [
                        "\r",
                        " 36%|\u2588\u2588\u2588\u2588\u2588\u2588\u2588\u2588\u2588\u2588\u2588\u2588\u2588\u2588\u2588\u2588\u2588\u2588\u2589                                  | 87/244 [00:03<00:05, 27.86it/s]"
                    ]
                },
                {
                    "name": "stderr",
                    "output_type": "stream",
                    "text": [
                        "\r",
                        " 37%|\u2588\u2588\u2588\u2588\u2588\u2588\u2588\u2588\u2588\u2588\u2588\u2588\u2588\u2588\u2588\u2588\u2588\u2588\u2588\u258c                                 | 90/244 [00:03<00:05, 26.47it/s]"
                    ]
                },
                {
                    "name": "stderr",
                    "output_type": "stream",
                    "text": [
                        "\r",
                        " 38%|\u2588\u2588\u2588\u2588\u2588\u2588\u2588\u2588\u2588\u2588\u2588\u2588\u2588\u2588\u2588\u2588\u2588\u2588\u2588\u2588\u258f                                | 93/244 [00:03<00:05, 26.92it/s]"
                    ]
                },
                {
                    "name": "stderr",
                    "output_type": "stream",
                    "text": [
                        "\r",
                        " 39%|\u2588\u2588\u2588\u2588\u2588\u2588\u2588\u2588\u2588\u2588\u2588\u2588\u2588\u2588\u2588\u2588\u2588\u2588\u2588\u2588\u258a                                | 96/244 [00:03<00:05, 27.32it/s]"
                    ]
                },
                {
                    "name": "stderr",
                    "output_type": "stream",
                    "text": [
                        "\r",
                        " 41%|\u2588\u2588\u2588\u2588\u2588\u2588\u2588\u2588\u2588\u2588\u2588\u2588\u2588\u2588\u2588\u2588\u2588\u2588\u2588\u2588\u2588\u258c                               | 99/244 [00:03<00:05, 26.15it/s]"
                    ]
                },
                {
                    "name": "stderr",
                    "output_type": "stream",
                    "text": [
                        "\r",
                        " 42%|\u2588\u2588\u2588\u2588\u2588\u2588\u2588\u2588\u2588\u2588\u2588\u2588\u2588\u2588\u2588\u2588\u2588\u2588\u2588\u2588\u2588\u258b                              | 102/244 [00:03<00:05, 26.31it/s]"
                    ]
                },
                {
                    "name": "stderr",
                    "output_type": "stream",
                    "text": [
                        "\r",
                        " 43%|\u2588\u2588\u2588\u2588\u2588\u2588\u2588\u2588\u2588\u2588\u2588\u2588\u2588\u2588\u2588\u2588\u2588\u2588\u2588\u2588\u2588\u2588\u258d                             | 105/244 [00:03<00:05, 26.95it/s]"
                    ]
                },
                {
                    "name": "stderr",
                    "output_type": "stream",
                    "text": [
                        "\r",
                        " 44%|\u2588\u2588\u2588\u2588\u2588\u2588\u2588\u2588\u2588\u2588\u2588\u2588\u2588\u2588\u2588\u2588\u2588\u2588\u2588\u2588\u2588\u2588\u2588                             | 108/244 [00:03<00:04, 27.55it/s]"
                    ]
                },
                {
                    "name": "stderr",
                    "output_type": "stream",
                    "text": [
                        "Exception ignored in: <bound method IPythonKernel._clean_thread_parent_frames of <ipykernel.ipkernel.IPythonKernel object at 0x7a505a2662b0>>\n",
                        "Traceback (most recent call last):\n",
                        "  File \"/home/lippincm/miniforge3/envs/op_cell_processing_env/lib/python3.8/site-packages/ipykernel/ipkernel.py\", line 775, in _clean_thread_parent_frames\n"
                    ]
                },
                {
                    "name": "stderr",
                    "output_type": "stream",
                    "text": [
                        "    def _clean_thread_parent_frames(\n",
                        "KeyboardInterrupt: \n"
                    ]
                },
                {
                    "name": "stderr",
                    "output_type": "stream",
                    "text": [
                        "\r",
                        " 46%|\u2588\u2588\u2588\u2588\u2588\u2588\u2588\u2588\u2588\u2588\u2588\u2588\u2588\u2588\u2588\u2588\u2588\u2588\u2588\u2588\u2588\u2588\u2588\u258a                            | 112/244 [00:04<00:04, 27.92it/s]"
                    ]
                },
                {
                    "name": "stderr",
                    "output_type": "stream",
                    "text": [
                        "\r",
                        " 47%|\u2588\u2588\u2588\u2588\u2588\u2588\u2588\u2588\u2588\u2588\u2588\u2588\u2588\u2588\u2588\u2588\u2588\u2588\u2588\u2588\u2588\u2588\u2588\u2588\u258c                           | 115/244 [00:04<00:04, 27.50it/s]"
                    ]
                },
                {
                    "name": "stderr",
                    "output_type": "stream",
                    "text": [
                        "\r",
                        " 49%|\u2588\u2588\u2588\u2588\u2588\u2588\u2588\u2588\u2588\u2588\u2588\u2588\u2588\u2588\u2588\u2588\u2588\u2588\u2588\u2588\u2588\u2588\u2588\u2588\u2588\u258e                          | 119/244 [00:04<00:04, 28.87it/s]"
                    ]
                }
            ],
            "source": [
                "# split the df into three genotypes\n",
                "high_df = df[df[\"Metadata_genotype\"] == \"high\"]\n",
                "unsel_df = df[df[\"Metadata_genotype\"] == \"unsel\"]\n",
                "wt_df = df[df[\"Metadata_genotype\"] == \"wt\"]\n",
                "group_dict = {\n",
                "    \"high_vs_unsel\": [high_df, unsel_df],\n",
                "    \"high_vs_wt\": [high_df, wt_df],\n",
                "    \"unsel_vs_wt\": [wt_df, unsel_df],\n",
                "}\n",
                "\n",
                "\n",
                "levene_test_results = {\n",
                "    \"feature\": [],\n",
                "    \"levene_statistic\": [],\n",
                "    \"levene_p_value\": [],\n",
                "    \"group\": [],\n",
                "    \"holm_bonferroni_p_value\": [],\n",
                "}\n",
                "\n",
                "for feature in tqdm.tqdm(features_df.columns):\n",
                "    levene_p_values = []\n",
                "    for group_comparison in group_dict.keys():\n",
                "        # calculate the levene test for each feature\n",
                "        levene_results = levene(\n",
                "            group_dict[group_comparison][0][feature],\n",
                "            group_dict[group_comparison][1][feature],\n",
                "        )\n",
                "        levene_test_results[\"feature\"].append(feature)\n",
                "        levene_test_results[\"levene_statistic\"].append(levene_results.statistic)\n",
                "        levene_test_results[\"levene_p_value\"].append(levene_results.pvalue)\n",
                "        levene_test_results[\"group\"].append(group_comparison)\n",
                "        levene_p_values.append(levene_results.pvalue)\n",
                "    levene_holm_bonferroni_p_values = multipletests(levene_p_values, method=\"holm\")[1]\n",
                "    # run holm-bonferroni correction on the p-values for each feature\n",
                "    [\n",
                "        levene_test_results[\"holm_bonferroni_p_value\"].append(p_value)\n",
                "        for p_value in levene_holm_bonferroni_p_values\n",
                "    ]"
            ]
        },
        {
            "cell_type": "code",
            "execution_count": null,
            "id": "ad69519f",
            "metadata": {
                "papermill": {
                    "duration": null,
                    "end_time": null,
                    "exception": null,
                    "start_time": null,
                    "status": "completed"
                },
                "tags": []
            },
            "outputs": [],
            "source": [
                "levene_test_results_df = pd.DataFrame(levene_test_results)\n",
                "\n",
                "# sort the levene test results levene_test_results_df\n",
                "# change the levene p-value to a float\n",
                "levene_test_results_df[\"levene_p_value\"] = levene_test_results_df[\n",
                "    \"levene_p_value\"\n",
                "].astype(float)\n",
                "levene_test_results_df = levene_test_results_df.sort_values(\n",
                "    [\"feature\", \"group\"], ascending=[True, True]\n",
                ")\n",
                "levene_test_results_df"
            ]
        },
        {
            "cell_type": "code",
            "execution_count": null,
            "id": "42798e86",
            "metadata": {
                "execution": {
                    "iopub.execute_input": "2024-10-08T21:58:23.642920Z",
                    "iopub.status.busy": "2024-10-08T21:58:23.642777Z",
                    "iopub.status.idle": "2024-10-08T21:58:23.649422Z",
                    "shell.execute_reply": "2024-10-08T21:58:23.649067Z"
                },
                "papermill": {
                    "duration": null,
                    "end_time": null,
                    "exception": null,
                    "start_time": null,
                    "status": "completed"
                },
                "tags": []
            },
            "outputs": [],
            "source": [
                "# save the levene test results\n",
                "# out dir\n",
                "out_dir = pathlib.Path(\"../../data/6.analysis_results/\")\n",
                "# create the dir if it does not exist\n",
                "out_dir.mkdir(parents=True, exist_ok=True)\n",
                "levene_test_results_path = pathlib.Path(\n",
                "    out_dir / \"mean_aggregated_levene_test_results.csv\"\n",
                ")\n",
                "levene_test_results_df.to_csv(levene_test_results_path)"
            ]
        },
        {
            "cell_type": "markdown",
            "id": "d6c4e553",
            "metadata": {
                "papermill": {
                    "duration": null,
                    "end_time": null,
                    "exception": null,
                    "start_time": null,
                    "status": "completed"
                },
                "tags": []
            },
            "source": [
                "### Calculate the levene test statistic for the aggregated data across feature types and genotypes"
            ]
        },
        {
            "cell_type": "code",
            "execution_count": null,
            "id": "e13520be",
            "metadata": {
                "execution": {
                    "iopub.execute_input": "2024-10-08T21:58:23.688573Z",
                    "iopub.status.busy": "2024-10-08T21:58:23.688428Z",
                    "iopub.status.idle": "2024-10-08T21:58:23.789953Z",
                    "shell.execute_reply": "2024-10-08T21:58:23.789487Z"
                },
                "papermill": {
                    "duration": null,
                    "end_time": null,
                    "exception": null,
                    "start_time": null,
                    "status": "completed"
                },
                "tags": []
            },
            "outputs": [],
            "source": [
                "data_path = pathlib.Path(\n",
                "    \"../../data/5.converted_data/mean_aggregated_data.parquet\"\n",
                ").resolve(strict=True)\n",
                "# Read the data\n",
                "data = pd.read_parquet(data_path)\n",
                "\n",
                "# Drop all metadata except for the genotype data\n",
                "features_df = data.drop(columns=data.filter(like=\"Metadata\").columns)\n",
                "features_df[\"Metadata_genotype\"] = data[\"Metadata_genotype\"]\n",
                "\n",
                "\n",
                "# turn the features into a long format\n",
                "features_long_df = features_df.melt(\n",
                "    id_vars=\"Metadata_genotype\", var_name=\"feature\", value_name=\"value\"\n",
                ")\n",
                "features_long_df.head()\n",
                "# Separate the feature into different parts\n",
                "features_long_df[\n",
                "    [\"feature_group\", \"measurement\", \"bone\", \"parameter1\", \"parameter2\", \"parameter3\"]\n",
                "] = features_long_df[\"feature\"].str.split(\"_\", expand=True)\n",
                "\n",
                "# Replace the Metadata_genotype with the actual genotype name\n",
                "features_long_df[\"Metadata_genotype\"] = features_long_df[\"Metadata_genotype\"].replace(\n",
                "    {\"high\": \"High-Severity\", \"unsel\": \"Mid-Severity\", \"wt\": \"Wild Type\"}\n",
                ")\n",
                "features_long_df.head()"
            ]
        },
        {
            "cell_type": "code",
            "execution_count": null,
            "id": "130f089a",
            "metadata": {
                "execution": {
                    "iopub.execute_input": "2024-10-08T21:58:23.811444Z",
                    "iopub.status.busy": "2024-10-08T21:58:23.811259Z",
                    "iopub.status.idle": "2024-10-08T21:58:23.844013Z",
                    "shell.execute_reply": "2024-10-08T21:58:23.843656Z"
                },
                "papermill": {
                    "duration": null,
                    "end_time": null,
                    "exception": null,
                    "start_time": null,
                    "status": "completed"
                },
                "tags": []
            },
            "outputs": [],
            "source": [
                "# break each genotype and featuretype into a separate dataframe\n",
                "high_df = features_long_df[features_long_df[\"Metadata_genotype\"] == \"High-Severity\"]\n",
                "unsel_df = features_long_df[features_long_df[\"Metadata_genotype\"] == \"Mid-Severity\"]\n",
                "wt_df = features_long_df[features_long_df[\"Metadata_genotype\"] == \"Wild Type\"]\n",
                "\n",
                "# each feature group\n",
                "high_df_AreaShape = high_df[high_df[\"feature_group\"] == \"AreaShape\"]\n",
                "high_df_Intensity = high_df[high_df[\"feature_group\"] == \"Intensity\"]\n",
                "high_df_Neighbors = high_df[high_df[\"feature_group\"] == \"Neighbors\"]\n",
                "high_df_radial = high_df[high_df[\"feature_group\"] == \"RadialDistribution\"]\n",
                "high_df_Granularity = high_df[high_df[\"feature_group\"] == \"Granularity\"]\n",
                "\n",
                "unsel_df_AreaShape = unsel_df[unsel_df[\"feature_group\"] == \"AreaShape\"]\n",
                "unsel_df_Intensity = unsel_df[unsel_df[\"feature_group\"] == \"Intensity\"]\n",
                "unsel_df_Neighbors = unsel_df[unsel_df[\"feature_group\"] == \"Neighbors\"]\n",
                "unsel_df_radial = unsel_df[unsel_df[\"feature_group\"] == \"RadialDistribution\"]\n",
                "unsel_df_Granularity = unsel_df[unsel_df[\"feature_group\"] == \"Granularity\"]\n",
                "\n",
                "wt_df_AreaShape = wt_df[wt_df[\"feature_group\"] == \"AreaShape\"]\n",
                "wt_df_Intensity = wt_df[wt_df[\"feature_group\"] == \"Intensity\"]\n",
                "wt_df_Neighbors = wt_df[wt_df[\"feature_group\"] == \"Neighbors\"]\n",
                "wt_df_radial = wt_df[wt_df[\"feature_group\"] == \"RadialDistribution\"]\n",
                "wt_df_Granularity = wt_df[wt_df[\"feature_group\"] == \"Granularity\"]\n",
                "\n",
                "# levene test for each feature group\n",
                "levene_test_results = {\n",
                "    \"feature_group\": [],\n",
                "    \"levene_statistic\": [],\n",
                "    \"levene_p_value\": [],\n",
                "    \"group\": [],\n",
                "}\n",
                "\n",
                "group_dict = {\n",
                "    \"AreaShape\": {\n",
                "        \"high_area_v_unsel_area\": [high_df_AreaShape, unsel_df_AreaShape],\n",
                "        \"high_area_v_wt_area\": [high_df_AreaShape, wt_df_AreaShape],\n",
                "        \"unsel_area_v_wt_area\": [wt_df_AreaShape, unsel_df_AreaShape],\n",
                "    },\n",
                "    \"Intensity\": {\n",
                "        \"high_intensity_v_unsel_intensity\": [high_df_Intensity, unsel_df_Intensity],\n",
                "        \"high_intensity_v_wt_intensity\": [high_df_Intensity, wt_df_Intensity],\n",
                "        \"unsel_intensity_v_wt_intensity\": [wt_df_Intensity, unsel_df_Intensity],\n",
                "    },\n",
                "    \"Neighbors\": {\n",
                "        \"high_neighbors_v_unsel_neighbors\": [high_df_Neighbors, unsel_df_Neighbors],\n",
                "        \"high_neighbors_v_wt_neighbors\": [high_df_Neighbors, wt_df_Neighbors],\n",
                "        \"unsel_neighbors_v_wt_neighbors\": [wt_df_Neighbors, unsel_df_Neighbors],\n",
                "    },\n",
                "    \"RadialDistribution\": {\n",
                "        \"high_radial_v_unsel_radial\": [high_df_radial, unsel_df_radial],\n",
                "        \"high_radial_v_wt_radial\": [high_df_radial, wt_df_radial],\n",
                "        \"unsel_radial_v_wt_radial\": [wt_df_radial, unsel_df_radial],\n",
                "    },\n",
                "    \"Granularity\": {\n",
                "        \"high_granularity_v_unsel_granularity\": [\n",
                "            high_df_Granularity,\n",
                "            unsel_df_Granularity,\n",
                "        ],\n",
                "        \"high_granularity_v_wt_granularity\": [high_df_Granularity, wt_df_Granularity],\n",
                "        \"unsel_granularity_v_wt_granularity\": [wt_df_Granularity, unsel_df_Granularity],\n",
                "    },\n",
                "}\n",
                "\n",
                "for feature_group in tqdm.tqdm(group_dict.keys()):\n",
                "    for group in group_dict[feature_group].keys():\n",
                "        if not group == \"all\":\n",
                "            levene_results = levene(\n",
                "                group_dict[feature_group][group][0][\"value\"],\n",
                "                group_dict[feature_group][group][1][\"value\"],\n",
                "            )\n",
                "            # calculate the variance for each feature group\n",
                "\n",
                "            levene_test_results[\"feature_group\"].append(feature_group)\n",
                "            levene_test_results[\"levene_statistic\"].append(levene_results.statistic)\n",
                "            levene_test_results[\"levene_p_value\"].append(levene_results.pvalue)\n",
                "            levene_test_results[\"group\"].append(group)\n",
                "        else:\n",
                "            pass\n",
                "\n",
                "levene_test_results_df = pd.DataFrame(levene_test_results)\n",
                "levene_test_results_df.head()"
            ]
        },
        {
            "cell_type": "code",
            "execution_count": null,
            "id": "59dead35",
            "metadata": {
                "execution": {
                    "iopub.execute_input": "2024-10-08T21:58:23.872500Z",
                    "iopub.status.busy": "2024-10-08T21:58:23.872201Z",
                    "iopub.status.idle": "2024-10-08T21:58:23.875932Z",
                    "shell.execute_reply": "2024-10-08T21:58:23.875569Z"
                },
                "papermill": {
                    "duration": null,
                    "end_time": null,
                    "exception": null,
                    "start_time": null,
                    "status": "completed"
                },
                "tags": []
            },
            "outputs": [],
            "source": [
                "# save the levene test results\n",
                "# out dir\n",
                "out_dir = pathlib.Path(\"../../data/6.analysis_results/\")\n",
                "# create the dir if it does not exist\n",
                "out_dir.mkdir(parents=True, exist_ok=True)\n",
                "levene_test_results_path = pathlib.Path(\n",
                "    out_dir / \"mean_aggregated_levene_test_results_feature_types.csv\"\n",
                ")\n",
                "levene_test_results_df.to_csv(levene_test_results_path, index=False)"
            ]
        },
        {
            "cell_type": "code",
            "execution_count": null,
            "id": "ce88b8fa",
            "metadata": {
                "execution": {
                    "iopub.execute_input": "2024-10-08T21:58:23.897023Z",
                    "iopub.status.busy": "2024-10-08T21:58:23.896869Z",
                    "iopub.status.idle": "2024-10-08T21:58:23.918024Z",
                    "shell.execute_reply": "2024-10-08T21:58:23.917530Z"
                },
                "papermill": {
                    "duration": null,
                    "end_time": null,
                    "exception": null,
                    "start_time": null,
                    "status": "completed"
                },
                "tags": []
            },
            "outputs": [],
            "source": [
                "# Drop all metadata except for the genotype data\n",
                "features_df = data.drop(columns=data.filter(like=\"Metadata\").columns)\n",
                "features_df[\"Metadata_genotype\"] = data[\"Metadata_genotype\"]\n",
                "\n",
                "# turn the features into a long format\n",
                "features_long_df = features_df.melt(\n",
                "    id_vars=\"Metadata_genotype\", var_name=\"feature\", value_name=\"value\"\n",
                ")\n",
                "# get the variance for each feature for each genotype\n",
                "features_long_df\n",
                "all_features_var = features_long_df.groupby([\"Metadata_genotype\", \"feature\"]).var()\n",
                "# reset the index\n",
                "all_features_var = all_features_var.reset_index()\n",
                "all_features_var.rename(columns={\"value\": \"variance\"}, inplace=True)\n",
                "\n",
                "# save the variance results\n",
                "var_each_feature_path = pathlib.Path(\n",
                "    out_dir / \"mean_aggregated_variance_results_each_feature.csv\"\n",
                ")\n",
                "all_features_var.to_csv(var_each_feature_path, index=False)\n",
                "all_features_var.head()"
            ]
        },
        {
            "cell_type": "code",
            "execution_count": null,
            "id": "d932dd19",
            "metadata": {
                "execution": {
                    "iopub.execute_input": "2024-10-08T21:58:23.939219Z",
                    "iopub.status.busy": "2024-10-08T21:58:23.939060Z",
                    "iopub.status.idle": "2024-10-08T21:58:23.946813Z",
                    "shell.execute_reply": "2024-10-08T21:58:23.946320Z"
                },
                "papermill": {
                    "duration": null,
                    "end_time": null,
                    "exception": null,
                    "start_time": null,
                    "status": "completed"
                },
                "tags": []
            },
            "outputs": [],
            "source": [
                "# get the variance for each feature group\n",
                "var_df = features_long_df.groupby([\"Metadata_genotype\", \"feature\"]).var().reset_index()\n",
                "var_df.head()\n",
                "# change the value column name to variance\n",
                "var_df.rename(columns={\"value\": \"variance\"}, inplace=True)"
            ]
        },
        {
            "cell_type": "code",
            "execution_count": null,
            "id": "731c2b05",
            "metadata": {
                "execution": {
                    "iopub.execute_input": "2024-10-08T21:58:23.967673Z",
                    "iopub.status.busy": "2024-10-08T21:58:23.967523Z",
                    "iopub.status.idle": "2024-10-08T21:58:23.977174Z",
                    "shell.execute_reply": "2024-10-08T21:58:23.976700Z"
                },
                "papermill": {
                    "duration": null,
                    "end_time": null,
                    "exception": null,
                    "start_time": null,
                    "status": "completed"
                },
                "tags": []
            },
            "outputs": [],
            "source": [
                "var_df[\n",
                "    [\"feature_group\", \"measurement\", \"bone\", \"parameter1\", \"parameter2\", \"parameter3\"]\n",
                "] = var_df[\"feature\"].str.split(\"_\", expand=True)\n",
                "\n",
                "# Replace the Metadata_genotype with the actual genotype name\n",
                "var_df[\"Metadata_genotype\"] = var_df[\"Metadata_genotype\"].replace(\n",
                "    {\"high\": \"High-Severity\", \"unsel\": \"Mid-Severity\", \"wt\": \"Wild Type\"}\n",
                ")\n",
                "var_df\n",
                "var_df = var_df.drop(\n",
                "    columns=[\"feature\", \"measurement\", \"bone\", \"parameter1\", \"parameter2\", \"parameter3\"]\n",
                ")\n",
                "var_df\n",
                "# save the variance results\n",
                "var_path = pathlib.Path(out_dir / \"mean_aggregated_variance_results_feature_types.csv\")\n",
                "var_df.to_csv(var_path, index=False)"
            ]
        },
        {
            "cell_type": "code",
            "execution_count": null,
            "id": "a41c62e3",
            "metadata": {
                "execution": {
                    "iopub.execute_input": "2024-10-08T21:58:23.998391Z",
                    "iopub.status.busy": "2024-10-08T21:58:23.998064Z",
                    "iopub.status.idle": "2024-10-08T21:58:24.013294Z",
                    "shell.execute_reply": "2024-10-08T21:58:24.012897Z"
                },
                "papermill": {
                    "duration": null,
                    "end_time": null,
                    "exception": null,
                    "start_time": null,
                    "status": "completed"
                },
                "tags": []
            },
            "outputs": [],
            "source": [
                "# get the mean and stdev for each feature group's variance\n",
                "var_df = (\n",
                "    var_df.groupby([\"Metadata_genotype\", \"feature_group\"])\n",
                "    .agg([\"mean\", \"std\", \"max\", \"min\", \"count\"])\n",
                "    .reset_index()\n",
                ")\n",
                "# ungroup the columns\n",
                "var_df.columns = [\"_\".join(col).strip() for col in var_df.columns.values]\n",
                "# rename the Metadata_genotype_ column and the feature_group_ column\n",
                "var_df.rename(\n",
                "    columns={\n",
                "        \"Metadata_genotype_\": \"Metadata_genotype\",\n",
                "        \"feature_group_\": \"feature_group\",\n",
                "    },\n",
                "    inplace=True,\n",
                ")\n",
                "var_df"
            ]
        },
        {
            "cell_type": "code",
            "execution_count": null,
            "id": "896d2a9b",
            "metadata": {
                "execution": {
                    "iopub.execute_input": "2024-10-08T21:58:24.034679Z",
                    "iopub.status.busy": "2024-10-08T21:58:24.034427Z",
                    "iopub.status.idle": "2024-10-08T21:58:24.037673Z",
                    "shell.execute_reply": "2024-10-08T21:58:24.037316Z"
                },
                "papermill": {
                    "duration": null,
                    "end_time": null,
                    "exception": null,
                    "start_time": null,
                    "status": "completed"
                },
                "tags": []
            },
            "outputs": [],
            "source": [
                "# save the variance results\n",
                "var_path = pathlib.Path(\n",
                "    out_dir / \"mean_aggregated_variance_results_feature_types_stats.csv\"\n",
                ")\n",
                "var_df.to_csv(var_path, index=False)"
            ]
        }
    ],
    "metadata": {
        "kernelspec": {
            "display_name": "op_cell_processing_env",
            "language": "python",
            "name": "python3"
        },
        "language_info": {
            "codemirror_mode": {
                "name": "ipython",
                "version": 3
            },
            "file_extension": ".py",
            "mimetype": "text/x-python",
            "name": "python",
            "nbconvert_exporter": "python",
            "pygments_lexer": "ipython3",
            "version": "3.8.0"
        },
        "papermill": {
            "default_parameters": {},
            "duration": 33.904207,
            "end_time": "2024-11-06T23:45:49.281069",
            "environment_variables": {},
            "exception": null,
            "input_path": "3a.mean_aggregated_anova.ipynb",
            "output_path": "3a.mean_aggregated_anova.ipynb",
            "parameters": {},
            "start_time": "2024-11-06T23:45:15.376862",
            "version": "2.6.0"
        }
    },
    "nbformat": 4,
    "nbformat_minor": 5
}
