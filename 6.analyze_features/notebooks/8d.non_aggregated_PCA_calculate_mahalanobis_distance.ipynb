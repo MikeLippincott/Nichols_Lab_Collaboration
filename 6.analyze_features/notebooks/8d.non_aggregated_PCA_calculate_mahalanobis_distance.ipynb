{
 "cells": [
  {
   "cell_type": "markdown",
   "id": "ab9209a8",
   "metadata": {
    "papermill": {
     "duration": 0.003437,
     "end_time": "2024-10-09T15:23:08.699094",
     "exception": false,
     "start_time": "2024-10-09T15:23:08.695657",
     "status": "completed"
    },
    "tags": []
   },
   "source": [
    "This notebook calculates the Mahalanobis distance between points on a pca. \n",
    "I will document more about what Mahalanobis distance is and how it is calculated in this notebook."
   ]
  },
  {
   "cell_type": "code",
   "execution_count": null,
   "id": "fb0c127b",
   "metadata": {
    "execution": {
     "iopub.execute_input": "2024-10-09T15:23:08.705145Z",
     "iopub.status.busy": "2024-10-09T15:23:08.704778Z",
     "iopub.status.idle": "2024-10-09T15:23:09.300018Z",
     "shell.execute_reply": "2024-10-09T15:23:09.299612Z"
    },
    "papermill": {
     "duration": 0.5992,
     "end_time": "2024-10-09T15:23:09.301015",
     "exception": false,
     "start_time": "2024-10-09T15:23:08.701815",
     "status": "completed"
    },
    "tags": []
   },
   "outputs": [],
   "source": [
    "import itertools\n",
    "import pathlib\n",
    "\n",
    "import matplotlib.pyplot as plt\n",
    "import numpy as np\n",
    "import pandas as pd\n",
    "import seaborn as sns\n",
    "import tqdm\n",
    "from scipy.spatial.distance import mahalanobis\n",
    "from scipy.stats import f_oneway as anova\n",
    "from scipy.stats import ttest_ind\n",
    "from statsmodels.stats.multicomp import pairwise_tukeyhsd"
   ]
  },
  {
   "cell_type": "code",
   "execution_count": null,
   "id": "3aaae5dd",
   "metadata": {
    "execution": {
     "iopub.execute_input": "2024-10-09T15:23:09.306711Z",
     "iopub.status.busy": "2024-10-09T15:23:09.306369Z",
     "iopub.status.idle": "2024-10-09T15:23:09.338823Z",
     "shell.execute_reply": "2024-10-09T15:23:09.338409Z"
    },
    "papermill": {
     "duration": 0.035782,
     "end_time": "2024-10-09T15:23:09.339424",
     "exception": false,
     "start_time": "2024-10-09T15:23:09.303642",
     "status": "completed"
    },
    "tags": []
   },
   "outputs": [],
   "source": [
    "# set the path to the data\n",
    "non_aggregated_data_pca_path = pathlib.Path(\n",
    "    \"../../data/6.analysis_results/non_aggregated_pca.parquet\"\n",
    ").resolve(strict=True)\n",
    "\n",
    "# read the data\n",
    "non_aggregated_data_pca = pd.read_parquet(non_aggregated_data_pca_path)\n",
    "print(non_aggregated_data_pca.shape)\n",
    "non_aggregated_data_pca.head()"
   ]
  },
  {
   "cell_type": "markdown",
   "id": "259d51ba",
   "metadata": {
    "papermill": {
     "duration": 0.002441,
     "end_time": "2024-10-09T15:23:09.344537",
     "exception": false,
     "start_time": "2024-10-09T15:23:09.342096",
     "status": "completed"
    },
    "tags": []
   },
   "source": [
    "# Mahalanobis Distance\n",
    "For more in depth information on Mahalanobis distance, please refer to this [link](https://medium.com/@the_daft_introvert/mahalanobis-distance-5c11a757b099).\n",
    "Mahalanobis distance is a measure of the distance between a point P and a distribution D. \n",
    "It is a multi-dimensional generalization of the idea of measuring how many standard deviations away P is from the mean of D. \n",
    "This distance is zero if P is at the mean of D, and grows as P moves away from the mean along each principal component axis.\n",
    "The formula for Mahalanobis distance is given by:\n",
    "### $D^2 = (x - \\mu)^T \\Sigma^{-1} (x - \\mu)$\n",
    "where:\n",
    "- $D$ is the Mahalanobis distance"
   ]
  },
  {
   "cell_type": "markdown",
   "id": "6bfe16c2",
   "metadata": {
    "papermill": {
     "duration": 0.00241,
     "end_time": "2024-10-09T15:23:09.349445",
     "exception": false,
     "start_time": "2024-10-09T15:23:09.347035",
     "status": "completed"
    },
    "tags": []
   },
   "source": [
    "## Caluclating Mahalanobis Distance on PCA \n",
    "Here I calculate the Mahalanobis distance between the points on the first two principal components of the data for each of the three genotypes."
   ]
  },
  {
   "cell_type": "code",
   "execution_count": null,
   "id": "41688044",
   "metadata": {
    "execution": {
     "iopub.execute_input": "2024-10-09T15:23:09.354918Z",
     "iopub.status.busy": "2024-10-09T15:23:09.354757Z",
     "iopub.status.idle": "2024-10-09T15:23:09.358526Z",
     "shell.execute_reply": "2024-10-09T15:23:09.358158Z"
    },
    "papermill": {
     "duration": 0.007155,
     "end_time": "2024-10-09T15:23:09.359033",
     "exception": false,
     "start_time": "2024-10-09T15:23:09.351878",
     "status": "completed"
    },
    "tags": []
   },
   "outputs": [],
   "source": [
    "# split the genotypes\n",
    "high_severity = non_aggregated_data_pca[\n",
    "    non_aggregated_data_pca[\"Metadata_genotype\"] == \"High-Severity\"\n",
    "]\n",
    "low_severity = non_aggregated_data_pca[\n",
    "    non_aggregated_data_pca[\"Metadata_genotype\"] == \"Mid-Severity\"\n",
    "]\n",
    "wt = non_aggregated_data_pca[\n",
    "    non_aggregated_data_pca[\"Metadata_genotype\"] == \"Wild Type\"\n",
    "]\n",
    "print(len(high_severity), len(low_severity), len(wt))"
   ]
  },
  {
   "cell_type": "code",
   "execution_count": null,
   "id": "5e1432a9",
   "metadata": {
    "execution": {
     "iopub.execute_input": "2024-10-09T15:23:09.364568Z",
     "iopub.status.busy": "2024-10-09T15:23:09.364425Z",
     "iopub.status.idle": "2024-10-09T15:23:09.368192Z",
     "shell.execute_reply": "2024-10-09T15:23:09.367903Z"
    },
    "papermill": {
     "duration": 0.007151,
     "end_time": "2024-10-09T15:23:09.368725",
     "exception": false,
     "start_time": "2024-10-09T15:23:09.361574",
     "status": "completed"
    },
    "tags": []
   },
   "outputs": [],
   "source": [
    "# drop the the Metadata columns\n",
    "metadata_columns = high_severity.columns[high_severity.columns.str.contains(\"Metadata\")]\n",
    "high_severity = high_severity.drop(metadata_columns, axis=1)\n",
    "low_severity = low_severity.drop(metadata_columns, axis=1)\n",
    "wt = wt.drop(metadata_columns, axis=1)\n",
    "\n",
    "\n",
    "# convert the df to coordinates\n",
    "high_severity_coords = high_severity.to_numpy()\n",
    "low_severity_coords = low_severity.to_numpy()\n",
    "wt_coords = wt.to_numpy()\n",
    "print(high_severity_coords.shape, low_severity_coords.shape, wt_coords.shape)"
   ]
  },
  {
   "cell_type": "markdown",
   "id": "ab7a6ea5",
   "metadata": {
    "papermill": {
     "duration": 0.002487,
     "end_time": "2024-10-09T15:23:09.373824",
     "exception": false,
     "start_time": "2024-10-09T15:23:09.371337",
     "status": "completed"
    },
    "tags": []
   },
   "source": [
    "#### High-Severity"
   ]
  },
  {
   "cell_type": "code",
   "execution_count": null,
   "id": "992efa28",
   "metadata": {
    "execution": {
     "iopub.execute_input": "2024-10-09T15:23:09.379438Z",
     "iopub.status.busy": "2024-10-09T15:23:09.379283Z",
     "iopub.status.idle": "2024-10-09T15:23:09.388225Z",
     "shell.execute_reply": "2024-10-09T15:23:09.387815Z"
    },
    "papermill": {
     "duration": 0.012773,
     "end_time": "2024-10-09T15:23:09.389133",
     "exception": false,
     "start_time": "2024-10-09T15:23:09.376360",
     "status": "completed"
    },
    "tags": []
   },
   "outputs": [],
   "source": [
    "# define the mean and the inverse covariance matrix needed for the mahalanobis distance calculation\n",
    "cov_matrix = np.cov(high_severity_coords, rowvar=False)\n",
    "inv_cov_matrix = np.linalg.inv(cov_matrix)\n",
    "# calculate the mahalanobis distance for each point within each genotype\n",
    "high_severity_mahalanobis_distances = []\n",
    "# calculate the mahalanobis distance for each point combination\n",
    "for point in itertools.combinations(high_severity_coords, 2):\n",
    "    distance = mahalanobis(point[0], point[1], inv_cov_matrix)\n",
    "    if np.isnan(distance):  # Check for NaN values\n",
    "        continue\n",
    "    high_severity_mahalanobis_distances.append(distance)\n",
    "mean_high_severity_mahalanobis_distance = np.mean(high_severity_mahalanobis_distances)\n",
    "print(\n",
    "    f\"The mean mahalanobis distance for the High-Severity genotype is {mean_high_severity_mahalanobis_distance}\"\n",
    ")"
   ]
  },
  {
   "cell_type": "markdown",
   "id": "27cad0b8",
   "metadata": {
    "papermill": {
     "duration": 0.004361,
     "end_time": "2024-10-09T15:23:09.397841",
     "exception": false,
     "start_time": "2024-10-09T15:23:09.393480",
     "status": "completed"
    },
    "tags": []
   },
   "source": [
    "#### Low-Severity"
   ]
  },
  {
   "cell_type": "code",
   "execution_count": null,
   "id": "a2370708",
   "metadata": {
    "execution": {
     "iopub.execute_input": "2024-10-09T15:23:09.407489Z",
     "iopub.status.busy": "2024-10-09T15:23:09.407140Z",
     "iopub.status.idle": "2024-10-09T15:23:09.420258Z",
     "shell.execute_reply": "2024-10-09T15:23:09.419847Z"
    },
    "papermill": {
     "duration": 0.019032,
     "end_time": "2024-10-09T15:23:09.421186",
     "exception": false,
     "start_time": "2024-10-09T15:23:09.402154",
     "status": "completed"
    },
    "tags": []
   },
   "outputs": [],
   "source": [
    "# define the mean and the inverse covariance matrix needed for the mahalanobis distance calculation\n",
    "cov_matrix = np.cov(low_severity_coords, rowvar=False)\n",
    "inv_cov_matrix = np.linalg.inv(cov_matrix)\n",
    "# calculate the mahalanobis distance for each point within each genotype\n",
    "low_severity_mahalanobis_distances = []\n",
    "# calculate the mahalanobis distance for each point\n",
    "for point in itertools.combinations(low_severity_coords, 2):\n",
    "    distance = mahalanobis(point[0], point[1], inv_cov_matrix)\n",
    "    if np.isnan(distance):  # Check for NaN values\n",
    "        continue\n",
    "    low_severity_mahalanobis_distances.append(distance)\n",
    "mean_low_severity_mahalanobis_distance = np.mean(low_severity_mahalanobis_distances)\n",
    "print(\n",
    "    f\"The mean mahalanobis distance for the low-Severity genotype is {mean_low_severity_mahalanobis_distance}\"\n",
    ")"
   ]
  },
  {
   "cell_type": "markdown",
   "id": "3cf92944",
   "metadata": {
    "papermill": {
     "duration": 0.004365,
     "end_time": "2024-10-09T15:23:09.430229",
     "exception": false,
     "start_time": "2024-10-09T15:23:09.425864",
     "status": "completed"
    },
    "tags": []
   },
   "source": [
    "#### Wild Type"
   ]
  },
  {
   "cell_type": "code",
   "execution_count": null,
   "id": "6de6ba74",
   "metadata": {
    "execution": {
     "iopub.execute_input": "2024-10-09T15:23:09.440419Z",
     "iopub.status.busy": "2024-10-09T15:23:09.439628Z",
     "iopub.status.idle": "2024-10-09T15:23:09.450685Z",
     "shell.execute_reply": "2024-10-09T15:23:09.450251Z"
    },
    "papermill": {
     "duration": 0.016963,
     "end_time": "2024-10-09T15:23:09.451578",
     "exception": false,
     "start_time": "2024-10-09T15:23:09.434615",
     "status": "completed"
    },
    "tags": []
   },
   "outputs": [],
   "source": [
    "# define the mean and the inverse covariance matrix needed for the mahalanobis distance calculation\n",
    "cov_matrix = np.cov(wt_coords, rowvar=False)\n",
    "inv_cov_matrix = np.linalg.inv(cov_matrix)\n",
    "# calculate the mahalanobis distance for each point within each genotype\n",
    "wt_mahalanobis_distances = []\n",
    "# calculate the mahalanobis distance for each point\n",
    "for point in itertools.combinations(wt_coords, 2):\n",
    "    distance = mahalanobis(point[0], point[1], inv_cov_matrix)\n",
    "    if np.isnan(distance):  # Check for NaN values\n",
    "        continue\n",
    "    wt_mahalanobis_distances.append(distance)\n",
    "mean_wt_mahalanobis_distance = np.mean(wt_mahalanobis_distances)\n",
    "print(\n",
    "    f\"The mean mahalanobis distance for the Wild Type genotype is {mean_wt_mahalanobis_distance}\"\n",
    ")"
   ]
  },
  {
   "cell_type": "markdown",
   "id": "2647b666",
   "metadata": {
    "papermill": {
     "duration": 0.004943,
     "end_time": "2024-10-09T15:23:09.461644",
     "exception": false,
     "start_time": "2024-10-09T15:23:09.456701",
     "status": "completed"
    },
    "tags": []
   },
   "source": [
    "## Calculate the Mahalanobis distance for random shuffled data points"
   ]
  },
  {
   "cell_type": "code",
   "execution_count": null,
   "id": "3bfab0cd",
   "metadata": {
    "execution": {
     "iopub.execute_input": "2024-10-09T15:23:09.472187Z",
     "iopub.status.busy": "2024-10-09T15:23:09.471780Z",
     "iopub.status.idle": "2024-10-09T15:23:09.888883Z",
     "shell.execute_reply": "2024-10-09T15:23:09.888463Z"
    },
    "papermill": {
     "duration": 0.423246,
     "end_time": "2024-10-09T15:23:09.889831",
     "exception": false,
     "start_time": "2024-10-09T15:23:09.466585",
     "status": "completed"
    },
    "tags": []
   },
   "outputs": [],
   "source": [
    "# from the distribution of each PCA component, randomly sample 1000 points and calculate the mahalanobis distance\n",
    "# get the distribution of each PCA component\n",
    "high_severity_pca_component_distribution_std = high_severity.describe().loc[\"std\"]\n",
    "low_severity_pca_component_distribution_std = low_severity.describe().loc[\"std\"]\n",
    "wt_pca_component_distribution_std = wt.describe().loc[\"std\"]\n",
    "\n",
    "high_severity_pca_component_distribution_mean = high_severity.describe().loc[\"mean\"]\n",
    "low_severity_pca_component_distribution_mean = low_severity.describe().loc[\"mean\"]\n",
    "wt_pca_component_distribution_mean = wt.describe().loc[\"mean\"]"
   ]
  },
  {
   "cell_type": "code",
   "execution_count": null,
   "id": "697a64eb",
   "metadata": {
    "execution": {
     "iopub.execute_input": "2024-10-09T15:23:09.920969Z",
     "iopub.status.busy": "2024-10-09T15:23:09.920654Z",
     "iopub.status.idle": "2024-10-09T15:26:16.034927Z",
     "shell.execute_reply": "2024-10-09T15:26:16.034452Z"
    },
    "papermill": {
     "duration": 186.142881,
     "end_time": "2024-10-09T15:26:16.035873",
     "exception": false,
     "start_time": "2024-10-09T15:23:09.892992",
     "status": "completed"
    },
    "tags": []
   },
   "outputs": [],
   "source": [
    "# do 1000 trials of sampling from each PCA component distribution\n",
    "# from the distribution of each PCA component, randomly sample 1000 points and calculate the mahalanobis distance\n",
    "\n",
    "# set the output mean Mahalanobis distance lists per genotype\n",
    "mean_high_severity_sampled_mahalanobis_distances_from_trials = []\n",
    "mean_low_severity_sampled_mahalanobis_distances_from_trials = []\n",
    "mean_wt_sampled_mahalanobis_distances_from_trials = []\n",
    "\n",
    "# sample 1000 points from the distribution of each PCA component\n",
    "num_pca_components = high_severity_pca_component_distribution_std.shape[0]\n",
    "num_samples = 100\n",
    "num_trials = 1000\n",
    "\n",
    "for trial in tqdm.tqdm(range(num_trials)):\n",
    "    high_severity_sampled_points = pd.DataFrame()\n",
    "    low_severity_sampled_points = pd.DataFrame()\n",
    "    wt_sampled_points = pd.DataFrame()\n",
    "\n",
    "    for i in range(num_pca_components):\n",
    "        high_severity_sampled_points[f\"PC{i+1}\"] = np.random.normal(\n",
    "            loc=high_severity_pca_component_distribution_mean[i],\n",
    "            scale=high_severity_pca_component_distribution_std[i],\n",
    "            size=num_samples,\n",
    "        )\n",
    "        low_severity_sampled_points[f\"PC{i+1}\"] = np.random.normal(\n",
    "            loc=low_severity_pca_component_distribution_mean[i],\n",
    "            scale=low_severity_pca_component_distribution_std[i],\n",
    "            size=num_samples,\n",
    "        )\n",
    "        wt_sampled_points[f\"PC{i+1}\"] = np.random.normal(\n",
    "            loc=wt_pca_component_distribution_mean[i],\n",
    "            scale=wt_pca_component_distribution_std[i],\n",
    "            size=num_samples,\n",
    "        )\n",
    "\n",
    "    inv_cov_matrix = np.linalg.inv(\n",
    "        np.cov(high_severity_sampled_points.to_numpy(), rowvar=False)\n",
    "    )\n",
    "    # calculate the mahalanobis distance for each point within each genotype\n",
    "    high_severity_sampled_mahalanobis_distances = []\n",
    "    # calculate the mahalanobis distance for each point combination\n",
    "    for point in itertools.combinations(high_severity_sampled_points.to_numpy(), 2):\n",
    "        distance = mahalanobis(point[0], point[1], inv_cov_matrix)\n",
    "        if np.isnan(distance):  # Check for NaN values\n",
    "            continue\n",
    "        high_severity_sampled_mahalanobis_distances.append(distance)\n",
    "\n",
    "    mean_high_severity_sampled_mahalanobis_distance = np.mean(\n",
    "        high_severity_sampled_mahalanobis_distances\n",
    "    )\n",
    "\n",
    "    inv_cov_matrix = np.linalg.inv(\n",
    "        np.cov(low_severity_sampled_points.to_numpy(), rowvar=False)\n",
    "    )\n",
    "    # calculate the mahalanobis distance for each point within each genotype\n",
    "    low_severity_sampled_mahalanobis_distances = []\n",
    "    # calculate the mahalanobis distance for each point combination\n",
    "    for point in itertools.combinations(low_severity_sampled_points.to_numpy(), 2):\n",
    "        distance = mahalanobis(point[0], point[1], inv_cov_matrix)\n",
    "        if np.isnan(distance):  # Check for NaN values\n",
    "            continue\n",
    "        low_severity_sampled_mahalanobis_distances.append(distance)\n",
    "\n",
    "    mean_low_severity_sampled_mahalanobis_distance = np.mean(\n",
    "        low_severity_sampled_mahalanobis_distances\n",
    "    )\n",
    "\n",
    "    inv_cov_matrix = np.linalg.inv(np.cov(wt_sampled_points.to_numpy(), rowvar=False))\n",
    "    # calculate the mahalanobis distance for each point within each genotype\n",
    "    wt_sampled_mahalanobis_distances = []\n",
    "    # calculate the mahalanobis distance for each point combination\n",
    "    for point in itertools.combinations(wt_sampled_points.to_numpy(), 2):\n",
    "        distance = mahalanobis(point[0], point[1], inv_cov_matrix)\n",
    "        if np.isnan(distance):  # Check for NaN values\n",
    "            continue\n",
    "        wt_sampled_mahalanobis_distances.append(distance)\n",
    "\n",
    "    mean_wt_sampled_mahalanobis_distance = np.mean(wt_sampled_mahalanobis_distances)\n",
    "\n",
    "    # append the average mahalanobis distance from the trial to the list for the trial per genotype\n",
    "    mean_high_severity_sampled_mahalanobis_distances_from_trials.append(\n",
    "        mean_high_severity_sampled_mahalanobis_distance\n",
    "    )\n",
    "    mean_low_severity_sampled_mahalanobis_distances_from_trials.append(\n",
    "        mean_low_severity_sampled_mahalanobis_distance\n",
    "    )\n",
    "    mean_wt_sampled_mahalanobis_distances_from_trials.append(\n",
    "        mean_wt_sampled_mahalanobis_distance\n",
    "    )"
   ]
  },
  {
   "cell_type": "code",
   "execution_count": null,
   "id": "a0661e87",
   "metadata": {
    "execution": {
     "iopub.execute_input": "2024-10-09T15:26:16.107934Z",
     "iopub.status.busy": "2024-10-09T15:26:16.107586Z",
     "iopub.status.idle": "2024-10-09T15:26:16.110638Z",
     "shell.execute_reply": "2024-10-09T15:26:16.110291Z"
    },
    "papermill": {
     "duration": 0.03473,
     "end_time": "2024-10-09T15:26:16.111229",
     "exception": false,
     "start_time": "2024-10-09T15:26:16.076499",
     "status": "completed"
    },
    "tags": []
   },
   "outputs": [],
   "source": [
    "print(\n",
    "    f\"The high Mahalonobis distance for {num_trials} trials is: {round(np.mean(mean_high_severity_sampled_mahalanobis_distances_from_trials),0)}\"\n",
    ")\n",
    "print(\n",
    "    f\"The low Mahalonobis distance for {num_trials} trials is: {round(np.mean(mean_low_severity_sampled_mahalanobis_distances_from_trials),0)}\"\n",
    ")\n",
    "print(\n",
    "    f\"The wt Mahalonobis distance for {num_trials} trials is: {round(np.mean(mean_wt_sampled_mahalanobis_distances_from_trials),0)}\"\n",
    ")"
   ]
  },
  {
   "cell_type": "markdown",
   "id": "815b425c",
   "metadata": {
    "papermill": {
     "duration": 0.029261,
     "end_time": "2024-10-09T15:26:16.171487",
     "exception": false,
     "start_time": "2024-10-09T15:26:16.142226",
     "status": "completed"
    },
    "tags": []
   },
   "source": [
    "### Show the mahalanobis distance for each genotype"
   ]
  },
  {
   "cell_type": "code",
   "execution_count": null,
   "id": "85c30be8",
   "metadata": {
    "execution": {
     "iopub.execute_input": "2024-10-09T15:26:16.233115Z",
     "iopub.status.busy": "2024-10-09T15:26:16.232756Z",
     "iopub.status.idle": "2024-10-09T15:26:16.236061Z",
     "shell.execute_reply": "2024-10-09T15:26:16.235583Z"
    },
    "papermill": {
     "duration": 0.035539,
     "end_time": "2024-10-09T15:26:16.236672",
     "exception": false,
     "start_time": "2024-10-09T15:26:16.201133",
     "status": "completed"
    },
    "tags": []
   },
   "outputs": [],
   "source": [
    "print(\n",
    "    \"Mahalanobis distance for High-Severity: \", mean_high_severity_mahalanobis_distance\n",
    ")\n",
    "print(\"Mahalanobis distance for Low-Severity: \", mean_low_severity_mahalanobis_distance)\n",
    "print(\"Mahalanobis distance for Wild Type: \", mean_wt_mahalanobis_distance)"
   ]
  },
  {
   "cell_type": "code",
   "execution_count": null,
   "id": "a8f8881e",
   "metadata": {
    "execution": {
     "iopub.execute_input": "2024-10-09T15:26:16.297196Z",
     "iopub.status.busy": "2024-10-09T15:26:16.296895Z",
     "iopub.status.idle": "2024-10-09T15:26:16.301912Z",
     "shell.execute_reply": "2024-10-09T15:26:16.301478Z"
    },
    "papermill": {
     "duration": 0.036036,
     "end_time": "2024-10-09T15:26:16.302555",
     "exception": false,
     "start_time": "2024-10-09T15:26:16.266519",
     "status": "completed"
    },
    "tags": []
   },
   "outputs": [],
   "source": [
    "# hypothesis testing the difference between the Mahalanobis distance of the sampled points and the actual points\n",
    "# calculate the p-value for the difference between the Mahalanobis distance of the sampled points and the actual points\n",
    "\n",
    "high_severity_p_value = ttest_ind(\n",
    "    high_severity_mahalanobis_distances,\n",
    "    mean_high_severity_sampled_mahalanobis_distances_from_trials,\n",
    ").pvalue\n",
    "low_severity_p_value = ttest_ind(\n",
    "    low_severity_mahalanobis_distances,\n",
    "    mean_low_severity_sampled_mahalanobis_distances_from_trials,\n",
    ").pvalue\n",
    "wt_p_value = ttest_ind(\n",
    "    wt_mahalanobis_distances, mean_wt_sampled_mahalanobis_distances_from_trials\n",
    ").pvalue\n",
    "\n",
    "print(\n",
    "    f\"The p-value for the difference between the Mahalanobis distance of the sampled points and the actual points for the High-Severity genotype is {high_severity_p_value}\"\n",
    ")\n",
    "print(\n",
    "    f\"The p-value for the difference between the Mahalanobis distance of the sampled points and the actual points for the Low-Severity genotype is {low_severity_p_value}\"\n",
    ")\n",
    "print(\n",
    "    f\"The p-value for the difference between the Mahalanobis distance of the sampled points and the actual points for the Wild Type genotype is {wt_p_value}\"\n",
    ")"
   ]
  },
  {
   "cell_type": "code",
   "execution_count": null,
   "id": "c4dc9f07",
   "metadata": {
    "execution": {
     "iopub.execute_input": "2024-10-09T15:26:16.362948Z",
     "iopub.status.busy": "2024-10-09T15:26:16.362643Z",
     "iopub.status.idle": "2024-10-09T15:26:16.517409Z",
     "shell.execute_reply": "2024-10-09T15:26:16.517026Z"
    },
    "papermill": {
     "duration": 0.185612,
     "end_time": "2024-10-09T15:26:16.518050",
     "exception": false,
     "start_time": "2024-10-09T15:26:16.332438",
     "status": "completed"
    },
    "tags": []
   },
   "outputs": [],
   "source": [
    "# anova test the mahalanobis distance between the genotypes\n",
    "anova_result_across_genotypes = anova(\n",
    "    high_severity_mahalanobis_distances,\n",
    "    low_severity_mahalanobis_distances,\n",
    "    wt_mahalanobis_distances,\n",
    ")\n",
    "\n",
    "print(\n",
    "    f\"The p-value for the ANOVA across the genotypes is {anova_result_across_genotypes.pvalue}\"\n",
    ")\n",
    "\n",
    "# tukeys HSD test for the mahalanobis distance between the genotypes\n",
    "tukeys_result_across_genotypes = pairwise_tukeyhsd(\n",
    "    np.concatenate(\n",
    "        [\n",
    "            high_severity_mahalanobis_distances,\n",
    "            low_severity_mahalanobis_distances,\n",
    "            wt_mahalanobis_distances,\n",
    "        ]\n",
    "    ),\n",
    "    np.concatenate(\n",
    "        [\n",
    "            [\"High Severity\"] * len(high_severity_mahalanobis_distances),\n",
    "            [\"Low Severity\"] * len(low_severity_mahalanobis_distances),\n",
    "            [\"Wild Type\"] * len(wt_mahalanobis_distances),\n",
    "        ]\n",
    "    ),\n",
    ")\n",
    "# get the tukeys HSD results as a dataframe\n",
    "tukeys_result_across_genotypes_df = pd.DataFrame(\n",
    "    data=tukeys_result_across_genotypes._results_table.data[1:],\n",
    "    columns=tukeys_result_across_genotypes._results_table.data[0],\n",
    ")\n",
    "tukeys_result_across_genotypes_df"
   ]
  },
  {
   "cell_type": "markdown",
   "id": "08245986",
   "metadata": {
    "papermill": {
     "duration": 0.029779,
     "end_time": "2024-10-09T15:26:16.580892",
     "exception": false,
     "start_time": "2024-10-09T15:26:16.551113",
     "status": "completed"
    },
    "tags": []
   },
   "source": [
    "### write the Mahanobis distance stats to a file"
   ]
  },
  {
   "cell_type": "code",
   "execution_count": null,
   "id": "df4a29d6",
   "metadata": {
    "execution": {
     "iopub.execute_input": "2024-10-09T15:26:16.641861Z",
     "iopub.status.busy": "2024-10-09T15:26:16.641662Z",
     "iopub.status.idle": "2024-10-09T15:26:16.650393Z",
     "shell.execute_reply": "2024-10-09T15:26:16.650048Z"
    },
    "papermill": {
     "duration": 0.039203,
     "end_time": "2024-10-09T15:26:16.650935",
     "exception": false,
     "start_time": "2024-10-09T15:26:16.611732",
     "status": "completed"
    },
    "tags": []
   },
   "outputs": [],
   "source": [
    "# set the output dir\n",
    "mahalanobis_output_dir = pathlib.Path(\"../results/non_aggregated_results/\").resolve()\n",
    "# make the dir if it does not exist\n",
    "mahalanobis_output_dir.mkdir(parents=True, exist_ok=True)\n",
    "\n",
    "# define the output file path\n",
    "mahalanobis_output_file_path = pathlib.Path(\n",
    "    mahalanobis_output_dir / \"non_aggregated_mahalanobis_distance_results.csv\"\n",
    ").resolve()\n",
    "\n",
    "# compile the results into a df\n",
    "mahalanobis_results_df = pd.DataFrame(\n",
    "    {\n",
    "        \"Genotype\": [\"High-Severity\", \"Low-Severity\", \"Wild Type\"],\n",
    "        \"Actual Mean Mahalanobis Distance\": [\n",
    "            mean_high_severity_mahalanobis_distance,\n",
    "            mean_low_severity_mahalanobis_distance,\n",
    "            mean_wt_mahalanobis_distance,\n",
    "        ],\n",
    "        \"Sampled Mean Mahalanobis Distance\": [\n",
    "            np.mean(mean_high_severity_sampled_mahalanobis_distances_from_trials),\n",
    "            np.mean(mean_low_severity_sampled_mahalanobis_distances_from_trials),\n",
    "            np.mean(mean_wt_sampled_mahalanobis_distances_from_trials),\n",
    "        ],\n",
    "        \"p-Value for Actual compared to sampled\": [\n",
    "            high_severity_p_value,\n",
    "            low_severity_p_value,\n",
    "            wt_p_value,\n",
    "        ],\n",
    "        \"ANOVA Compared to High-Severity p-adj\": [\n",
    "            \"NA\",\n",
    "            tukeys_result_across_genotypes_df.loc[0, \"p-adj\"],\n",
    "            tukeys_result_across_genotypes_df.loc[1, \"p-adj\"],\n",
    "        ],\n",
    "        \"ANOVA Compared to Low-Severity p-adj\": [\n",
    "            tukeys_result_across_genotypes_df.loc[0, \"p-adj\"],\n",
    "            \"NA\",\n",
    "            tukeys_result_across_genotypes_df.loc[2, \"p-adj\"],\n",
    "        ],\n",
    "        \"ANOVA Compared to Wild Type p-adj\": [\n",
    "            tukeys_result_across_genotypes_df.loc[1, \"p-adj\"],\n",
    "            tukeys_result_across_genotypes_df.loc[2, \"p-adj\"],\n",
    "            \"NA\",\n",
    "        ],\n",
    "    }\n",
    ")\n",
    "mahalanobis_results_df"
   ]
  },
  {
   "cell_type": "code",
   "execution_count": null,
   "id": "6c350c37",
   "metadata": {
    "execution": {
     "iopub.execute_input": "2024-10-09T15:26:16.713075Z",
     "iopub.status.busy": "2024-10-09T15:26:16.712898Z",
     "iopub.status.idle": "2024-10-09T15:26:16.718339Z",
     "shell.execute_reply": "2024-10-09T15:26:16.717833Z"
    },
    "papermill": {
     "duration": 0.038056,
     "end_time": "2024-10-09T15:26:16.719082",
     "exception": false,
     "start_time": "2024-10-09T15:26:16.681026",
     "status": "completed"
    },
    "tags": []
   },
   "outputs": [],
   "source": [
    "# output the results\n",
    "mahalanobis_results_df.to_csv(mahalanobis_output_file_path, index=False)"
   ]
  },
  {
   "cell_type": "markdown",
   "id": "a3564a28",
   "metadata": {
    "papermill": {
     "duration": 0.03253,
     "end_time": "2024-10-09T15:26:16.781649",
     "exception": false,
     "start_time": "2024-10-09T15:26:16.749119",
     "status": "completed"
    },
    "tags": []
   },
   "source": [
    "#### Visualization of the last trial's sampled points"
   ]
  },
  {
   "cell_type": "code",
   "execution_count": null,
   "id": "a84237a3",
   "metadata": {
    "execution": {
     "iopub.execute_input": "2024-10-09T15:26:16.859084Z",
     "iopub.status.busy": "2024-10-09T15:26:16.858687Z",
     "iopub.status.idle": "2024-10-09T15:26:17.163559Z",
     "shell.execute_reply": "2024-10-09T15:26:17.163158Z"
    },
    "papermill": {
     "duration": 0.339074,
     "end_time": "2024-10-09T15:26:17.164160",
     "exception": false,
     "start_time": "2024-10-09T15:26:16.825086",
     "status": "completed"
    },
    "tags": []
   },
   "outputs": [],
   "source": [
    "# annotate the genotypes of the sampled points\n",
    "high_severity_sampled_points[\"Metadata_genotype\"] = \"High-Severity\"\n",
    "low_severity_sampled_points[\"Metadata_genotype\"] = \"Mid-Severity\"\n",
    "wt_sampled_points[\"Metadata_genotype\"] = \"Wild Type\"\n",
    "# concat the genotype sampled points\n",
    "sampled_points = pd.concat(\n",
    "    [wt_sampled_points, low_severity_sampled_points, high_severity_sampled_points]\n",
    ")\n",
    "\n",
    "# plot the first 2 PCA components from the actual data\n",
    "# set up subplots\n",
    "plt.figure(figsize=(10, 5))\n",
    "# subplot 1\n",
    "plt.subplot(1, 2, 1)\n",
    "sns.scatterplot(\n",
    "    x=\"PC1\",\n",
    "    y=\"PC2\",\n",
    "    data=non_aggregated_data_pca,\n",
    "    hue=\"Metadata_genotype\",\n",
    "    alpha=0.5,\n",
    ")\n",
    "plt.title(\"Real PCA\")\n",
    "\n",
    "# plot the first 2 PCA components from the sampled data\n",
    "# subplot 2\n",
    "plt.subplot(1, 2, 2)\n",
    "sns.scatterplot(\n",
    "    x=\"PC1\",\n",
    "    y=\"PC2\",\n",
    "    data=sampled_points,\n",
    "    hue=\"Metadata_genotype\",\n",
    "    alpha=0.5,\n",
    ")\n",
    "plt.title(\"Sampled PCA\")\n",
    "plt.show()"
   ]
  }
 ],
 "metadata": {
  "kernelspec": {
   "display_name": "op_cell_processing_env",
   "language": "python",
   "name": "python3"
  },
  "language_info": {
   "codemirror_mode": {
    "name": "ipython",
    "version": 3
   },
   "file_extension": ".py",
   "mimetype": "text/x-python",
   "name": "python",
   "nbconvert_exporter": "python",
   "pygments_lexer": "ipython3",
   "version": "3.8.0"
  },
  "papermill": {
   "default_parameters": {},
   "duration": 189.48107,
   "end_time": "2024-10-09T15:26:17.513716",
   "environment_variables": {},
   "exception": null,
   "input_path": "8c.custom_aggregated_PCA_calculate_mahalanobis_distance.ipynb",
   "output_path": "8c.custom_aggregated_PCA_calculate_mahalanobis_distance.ipynb",
   "parameters": {},
   "start_time": "2024-10-09T15:23:08.032646",
   "version": "2.6.0"
  }
 },
 "nbformat": 4,
 "nbformat_minor": 5
}
