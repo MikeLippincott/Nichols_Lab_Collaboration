{
    "cells": [
        {
            "cell_type": "code",
            "execution_count": 1,
            "id": "18ecf759",
            "metadata": {
                "execution": {
                    "iopub.execute_input": "2024-05-06T13:29:49.428482Z",
                    "iopub.status.busy": "2024-05-06T13:29:49.426958Z",
                    "iopub.status.idle": "2024-05-06T13:29:49.753027Z",
                    "shell.execute_reply": "2024-05-06T13:29:49.748318Z"
                },
                "papermill": {
                    "duration": 0.330543,
                    "end_time": "2024-05-06T13:29:49.753960",
                    "exception": false,
                    "start_time": "2024-05-06T13:29:49.423417",
                    "status": "completed"
                },
                "tags": [],
                "vscode": {
                    "languageId": "r"
                }
            },
            "outputs": [],
            "source": [
                "# load libraries\n",
                "suppressWarnings(suppressPackageStartupMessages(library(ggplot2)))\n",
                "suppressWarnings(suppressPackageStartupMessages(library(dplyr)))\n",
                "suppressWarnings(suppressPackageStartupMessages(library(arrow)))\n",
                "suppressWarnings(suppressPackageStartupMessages(library(patchwork)))\n",
                "# import ggplot theme\n",
                "source(\"../../utils/figure_themes.r\")"
            ]
        },
        {
            "cell_type": "code",
            "execution_count": 2,
            "id": "11e1217f",
            "metadata": {
                "execution": {
                    "iopub.execute_input": "2024-05-06T13:29:49.772696Z",
                    "iopub.status.busy": "2024-05-06T13:29:49.757128Z",
                    "iopub.status.idle": "2024-05-06T13:29:49.948004Z",
                    "shell.execute_reply": "2024-05-06T13:29:49.947292Z"
                },
                "papermill": {
                    "duration": 0.193501,
                    "end_time": "2024-05-06T13:29:49.948862",
                    "exception": false,
                    "start_time": "2024-05-06T13:29:49.755361",
                    "status": "completed"
                },
                "tags": [],
                "vscode": {
                    "languageId": "r"
                }
            },
            "outputs": [
                {
                    "data": {
                        "text/html": [
                            "<table class=\"dataframe\">\n",
                            "<caption>A tibble: 6 \u00d7 246</caption>\n",
                            "<thead>\n",
                            "\t<tr><th scope=col>Metadata_genotype</th><th scope=col>Metadata_replicate</th><th scope=col>AreaShape_Area</th><th scope=col>AreaShape_CentralMoment_0_0</th><th scope=col>AreaShape_CentralMoment_0_1</th><th scope=col>AreaShape_CentralMoment_0_2</th><th scope=col>AreaShape_CentralMoment_0_3</th><th scope=col>AreaShape_CentralMoment_1_0</th><th scope=col>AreaShape_CentralMoment_1_1</th><th scope=col>AreaShape_CentralMoment_1_2</th><th scope=col>\u22ef</th><th scope=col>Texture_SumEntropy_OP_3_02_256</th><th scope=col>Texture_SumEntropy_OP_3_03_256</th><th scope=col>Texture_SumVariance_OP_3_00_256</th><th scope=col>Texture_SumVariance_OP_3_01_256</th><th scope=col>Texture_SumVariance_OP_3_02_256</th><th scope=col>Texture_SumVariance_OP_3_03_256</th><th scope=col>Texture_Variance_OP_3_00_256</th><th scope=col>Texture_Variance_OP_3_01_256</th><th scope=col>Texture_Variance_OP_3_02_256</th><th scope=col>Texture_Variance_OP_3_03_256</th></tr>\n",
                            "\t<tr><th scope=col>&lt;chr&gt;</th><th scope=col>&lt;chr&gt;</th><th scope=col>&lt;dbl&gt;</th><th scope=col>&lt;dbl&gt;</th><th scope=col>&lt;dbl&gt;</th><th scope=col>&lt;dbl&gt;</th><th scope=col>&lt;dbl&gt;</th><th scope=col>&lt;dbl&gt;</th><th scope=col>&lt;dbl&gt;</th><th scope=col>&lt;dbl&gt;</th><th scope=col>\u22ef</th><th scope=col>&lt;dbl&gt;</th><th scope=col>&lt;dbl&gt;</th><th scope=col>&lt;dbl&gt;</th><th scope=col>&lt;dbl&gt;</th><th scope=col>&lt;dbl&gt;</th><th scope=col>&lt;dbl&gt;</th><th scope=col>&lt;dbl&gt;</th><th scope=col>&lt;dbl&gt;</th><th scope=col>&lt;dbl&gt;</th><th scope=col>&lt;dbl&gt;</th></tr>\n",
                            "</thead>\n",
                            "<tbody>\n",
                            "\t<tr><td>high</td><td>1 </td><td>1.192966</td><td>1.192966</td><td> 0.54175256</td><td>-0.09847487</td><td> 0.7817362</td><td> 4.2018303</td><td>-0.9278737</td><td>-0.08596449</td><td>\u22ef</td><td>-0.2082104</td><td>-0.23807266</td><td>-1.0917116</td><td>-1.0500536</td><td>-1.0866094</td><td>-1.0891776</td><td>-1.1151266</td><td>-1.1242028</td><td>-1.1179528</td><td>-1.1217436</td></tr>\n",
                            "\t<tr><td>high</td><td>10</td><td>2.477908</td><td>2.477908</td><td> 1.31962606</td><td> 3.44472838</td><td>-1.7485946</td><td> 0.3583902</td><td>-3.2895193</td><td> 1.65054027</td><td>\u22ef</td><td> 1.2939544</td><td> 1.27071208</td><td> 1.2613638</td><td> 1.2841820</td><td> 1.1875076</td><td> 1.2705476</td><td> 1.1157257</td><td> 1.0969468</td><td> 1.1219693</td><td> 1.0955390</td></tr>\n",
                            "\t<tr><td>high</td><td>11</td><td>4.262414</td><td>4.262414</td><td> 1.26173108</td><td> 2.85293883</td><td> 0.5831822</td><td> 3.6024137</td><td>-0.5413249</td><td>-0.32861304</td><td>\u22ef</td><td> 1.3735418</td><td> 1.35646086</td><td> 1.1047649</td><td> 1.1416459</td><td> 1.0525320</td><td> 1.0969493</td><td> 0.9976509</td><td> 0.9725370</td><td> 1.0001664</td><td> 0.9804259</td></tr>\n",
                            "\t<tr><td>high</td><td>12</td><td>2.402476</td><td>2.402476</td><td> 0.04988604</td><td> 2.55823835</td><td>-0.9281710</td><td>-3.3057063</td><td>-1.9646186</td><td> 0.21535923</td><td>\u22ef</td><td> 0.6190094</td><td> 0.61786654</td><td>-0.1095573</td><td>-0.1197524</td><td>-0.1967998</td><td>-0.1358605</td><td>-0.2075640</td><td>-0.2187347</td><td>-0.2021711</td><td>-0.2135436</td></tr>\n",
                            "\t<tr><td>high</td><td>13</td><td>2.389777</td><td>2.389777</td><td>-1.10873607</td><td>-0.06893111</td><td> 0.1017650</td><td>-2.6899598</td><td>-0.9673454</td><td>-1.58886766</td><td>\u22ef</td><td> 0.1134128</td><td> 0.09548279</td><td>-0.6503412</td><td>-0.5913477</td><td>-0.6420772</td><td>-0.6448712</td><td>-0.6968174</td><td>-0.7125095</td><td>-0.7005716</td><td>-0.7043354</td></tr>\n",
                            "\t<tr><td>high</td><td>14</td><td>4.553584</td><td>4.553584</td><td>-4.77707191</td><td> 3.38343805</td><td> 0.2514737</td><td>-1.4277740</td><td>-3.1808175</td><td> 0.22174791</td><td>\u22ef</td><td> 2.0541319</td><td> 2.05166800</td><td> 2.5108502</td><td> 2.5418673</td><td> 2.4192843</td><td> 2.4975101</td><td> 2.3347969</td><td> 2.2960604</td><td> 2.3437433</td><td> 2.3082576</td></tr>\n",
                            "</tbody>\n",
                            "</table>\n"
                        ],
                        "text/latex": [
                            "A tibble: 6 \u00d7 246\n",
                            "\\begin{tabular}{lllllllllllllllllllll}\n",
                            " Metadata\\_genotype & Metadata\\_replicate & AreaShape\\_Area & AreaShape\\_CentralMoment\\_0\\_0 & AreaShape\\_CentralMoment\\_0\\_1 & AreaShape\\_CentralMoment\\_0\\_2 & AreaShape\\_CentralMoment\\_0\\_3 & AreaShape\\_CentralMoment\\_1\\_0 & AreaShape\\_CentralMoment\\_1\\_1 & AreaShape\\_CentralMoment\\_1\\_2 & \u22ef & Texture\\_SumEntropy\\_OP\\_3\\_02\\_256 & Texture\\_SumEntropy\\_OP\\_3\\_03\\_256 & Texture\\_SumVariance\\_OP\\_3\\_00\\_256 & Texture\\_SumVariance\\_OP\\_3\\_01\\_256 & Texture\\_SumVariance\\_OP\\_3\\_02\\_256 & Texture\\_SumVariance\\_OP\\_3\\_03\\_256 & Texture\\_Variance\\_OP\\_3\\_00\\_256 & Texture\\_Variance\\_OP\\_3\\_01\\_256 & Texture\\_Variance\\_OP\\_3\\_02\\_256 & Texture\\_Variance\\_OP\\_3\\_03\\_256\\\\\n",
                            " <chr> & <chr> & <dbl> & <dbl> & <dbl> & <dbl> & <dbl> & <dbl> & <dbl> & <dbl> & \u22ef & <dbl> & <dbl> & <dbl> & <dbl> & <dbl> & <dbl> & <dbl> & <dbl> & <dbl> & <dbl>\\\\\n",
                            "\\hline\n",
                            "\t high & 1  & 1.192966 & 1.192966 &  0.54175256 & -0.09847487 &  0.7817362 &  4.2018303 & -0.9278737 & -0.08596449 & \u22ef & -0.2082104 & -0.23807266 & -1.0917116 & -1.0500536 & -1.0866094 & -1.0891776 & -1.1151266 & -1.1242028 & -1.1179528 & -1.1217436\\\\\n",
                            "\t high & 10 & 2.477908 & 2.477908 &  1.31962606 &  3.44472838 & -1.7485946 &  0.3583902 & -3.2895193 &  1.65054027 & \u22ef &  1.2939544 &  1.27071208 &  1.2613638 &  1.2841820 &  1.1875076 &  1.2705476 &  1.1157257 &  1.0969468 &  1.1219693 &  1.0955390\\\\\n",
                            "\t high & 11 & 4.262414 & 4.262414 &  1.26173108 &  2.85293883 &  0.5831822 &  3.6024137 & -0.5413249 & -0.32861304 & \u22ef &  1.3735418 &  1.35646086 &  1.1047649 &  1.1416459 &  1.0525320 &  1.0969493 &  0.9976509 &  0.9725370 &  1.0001664 &  0.9804259\\\\\n",
                            "\t high & 12 & 2.402476 & 2.402476 &  0.04988604 &  2.55823835 & -0.9281710 & -3.3057063 & -1.9646186 &  0.21535923 & \u22ef &  0.6190094 &  0.61786654 & -0.1095573 & -0.1197524 & -0.1967998 & -0.1358605 & -0.2075640 & -0.2187347 & -0.2021711 & -0.2135436\\\\\n",
                            "\t high & 13 & 2.389777 & 2.389777 & -1.10873607 & -0.06893111 &  0.1017650 & -2.6899598 & -0.9673454 & -1.58886766 & \u22ef &  0.1134128 &  0.09548279 & -0.6503412 & -0.5913477 & -0.6420772 & -0.6448712 & -0.6968174 & -0.7125095 & -0.7005716 & -0.7043354\\\\\n",
                            "\t high & 14 & 4.553584 & 4.553584 & -4.77707191 &  3.38343805 &  0.2514737 & -1.4277740 & -3.1808175 &  0.22174791 & \u22ef &  2.0541319 &  2.05166800 &  2.5108502 &  2.5418673 &  2.4192843 &  2.4975101 &  2.3347969 &  2.2960604 &  2.3437433 &  2.3082576\\\\\n",
                            "\\end{tabular}\n"
                        ],
                        "text/markdown": [
                            "\n",
                            "A tibble: 6 \u00d7 246\n",
                            "\n",
                            "| Metadata_genotype &lt;chr&gt; | Metadata_replicate &lt;chr&gt; | AreaShape_Area &lt;dbl&gt; | AreaShape_CentralMoment_0_0 &lt;dbl&gt; | AreaShape_CentralMoment_0_1 &lt;dbl&gt; | AreaShape_CentralMoment_0_2 &lt;dbl&gt; | AreaShape_CentralMoment_0_3 &lt;dbl&gt; | AreaShape_CentralMoment_1_0 &lt;dbl&gt; | AreaShape_CentralMoment_1_1 &lt;dbl&gt; | AreaShape_CentralMoment_1_2 &lt;dbl&gt; | \u22ef \u22ef | Texture_SumEntropy_OP_3_02_256 &lt;dbl&gt; | Texture_SumEntropy_OP_3_03_256 &lt;dbl&gt; | Texture_SumVariance_OP_3_00_256 &lt;dbl&gt; | Texture_SumVariance_OP_3_01_256 &lt;dbl&gt; | Texture_SumVariance_OP_3_02_256 &lt;dbl&gt; | Texture_SumVariance_OP_3_03_256 &lt;dbl&gt; | Texture_Variance_OP_3_00_256 &lt;dbl&gt; | Texture_Variance_OP_3_01_256 &lt;dbl&gt; | Texture_Variance_OP_3_02_256 &lt;dbl&gt; | Texture_Variance_OP_3_03_256 &lt;dbl&gt; |\n",
                            "|---|---|---|---|---|---|---|---|---|---|---|---|---|---|---|---|---|---|---|---|---|\n",
                            "| high | 1  | 1.192966 | 1.192966 |  0.54175256 | -0.09847487 |  0.7817362 |  4.2018303 | -0.9278737 | -0.08596449 | \u22ef | -0.2082104 | -0.23807266 | -1.0917116 | -1.0500536 | -1.0866094 | -1.0891776 | -1.1151266 | -1.1242028 | -1.1179528 | -1.1217436 |\n",
                            "| high | 10 | 2.477908 | 2.477908 |  1.31962606 |  3.44472838 | -1.7485946 |  0.3583902 | -3.2895193 |  1.65054027 | \u22ef |  1.2939544 |  1.27071208 |  1.2613638 |  1.2841820 |  1.1875076 |  1.2705476 |  1.1157257 |  1.0969468 |  1.1219693 |  1.0955390 |\n",
                            "| high | 11 | 4.262414 | 4.262414 |  1.26173108 |  2.85293883 |  0.5831822 |  3.6024137 | -0.5413249 | -0.32861304 | \u22ef |  1.3735418 |  1.35646086 |  1.1047649 |  1.1416459 |  1.0525320 |  1.0969493 |  0.9976509 |  0.9725370 |  1.0001664 |  0.9804259 |\n",
                            "| high | 12 | 2.402476 | 2.402476 |  0.04988604 |  2.55823835 | -0.9281710 | -3.3057063 | -1.9646186 |  0.21535923 | \u22ef |  0.6190094 |  0.61786654 | -0.1095573 | -0.1197524 | -0.1967998 | -0.1358605 | -0.2075640 | -0.2187347 | -0.2021711 | -0.2135436 |\n",
                            "| high | 13 | 2.389777 | 2.389777 | -1.10873607 | -0.06893111 |  0.1017650 | -2.6899598 | -0.9673454 | -1.58886766 | \u22ef |  0.1134128 |  0.09548279 | -0.6503412 | -0.5913477 | -0.6420772 | -0.6448712 | -0.6968174 | -0.7125095 | -0.7005716 | -0.7043354 |\n",
                            "| high | 14 | 4.553584 | 4.553584 | -4.77707191 |  3.38343805 |  0.2514737 | -1.4277740 | -3.1808175 |  0.22174791 | \u22ef |  2.0541319 |  2.05166800 |  2.5108502 |  2.5418673 |  2.4192843 |  2.4975101 |  2.3347969 |  2.2960604 |  2.3437433 |  2.3082576 |\n",
                            "\n"
                        ],
                        "text/plain": [
                            "  Metadata_genotype Metadata_replicate AreaShape_Area\n",
                            "1 high              1                  1.192966      \n",
                            "2 high              10                 2.477908      \n",
                            "3 high              11                 4.262414      \n",
                            "4 high              12                 2.402476      \n",
                            "5 high              13                 2.389777      \n",
                            "6 high              14                 4.553584      \n",
                            "  AreaShape_CentralMoment_0_0 AreaShape_CentralMoment_0_1\n",
                            "1 1.192966                     0.54175256                \n",
                            "2 2.477908                     1.31962606                \n",
                            "3 4.262414                     1.26173108                \n",
                            "4 2.402476                     0.04988604                \n",
                            "5 2.389777                    -1.10873607                \n",
                            "6 4.553584                    -4.77707191                \n",
                            "  AreaShape_CentralMoment_0_2 AreaShape_CentralMoment_0_3\n",
                            "1 -0.09847487                  0.7817362                 \n",
                            "2  3.44472838                 -1.7485946                 \n",
                            "3  2.85293883                  0.5831822                 \n",
                            "4  2.55823835                 -0.9281710                 \n",
                            "5 -0.06893111                  0.1017650                 \n",
                            "6  3.38343805                  0.2514737                 \n",
                            "  AreaShape_CentralMoment_1_0 AreaShape_CentralMoment_1_1\n",
                            "1  4.2018303                  -0.9278737                 \n",
                            "2  0.3583902                  -3.2895193                 \n",
                            "3  3.6024137                  -0.5413249                 \n",
                            "4 -3.3057063                  -1.9646186                 \n",
                            "5 -2.6899598                  -0.9673454                 \n",
                            "6 -1.4277740                  -3.1808175                 \n",
                            "  AreaShape_CentralMoment_1_2 \u22ef Texture_SumEntropy_OP_3_02_256\n",
                            "1 -0.08596449                 \u22ef -0.2082104                    \n",
                            "2  1.65054027                 \u22ef  1.2939544                    \n",
                            "3 -0.32861304                 \u22ef  1.3735418                    \n",
                            "4  0.21535923                 \u22ef  0.6190094                    \n",
                            "5 -1.58886766                 \u22ef  0.1134128                    \n",
                            "6  0.22174791                 \u22ef  2.0541319                    \n",
                            "  Texture_SumEntropy_OP_3_03_256 Texture_SumVariance_OP_3_00_256\n",
                            "1 -0.23807266                    -1.0917116                     \n",
                            "2  1.27071208                     1.2613638                     \n",
                            "3  1.35646086                     1.1047649                     \n",
                            "4  0.61786654                    -0.1095573                     \n",
                            "5  0.09548279                    -0.6503412                     \n",
                            "6  2.05166800                     2.5108502                     \n",
                            "  Texture_SumVariance_OP_3_01_256 Texture_SumVariance_OP_3_02_256\n",
                            "1 -1.0500536                      -1.0866094                     \n",
                            "2  1.2841820                       1.1875076                     \n",
                            "3  1.1416459                       1.0525320                     \n",
                            "4 -0.1197524                      -0.1967998                     \n",
                            "5 -0.5913477                      -0.6420772                     \n",
                            "6  2.5418673                       2.4192843                     \n",
                            "  Texture_SumVariance_OP_3_03_256 Texture_Variance_OP_3_00_256\n",
                            "1 -1.0891776                      -1.1151266                  \n",
                            "2  1.2705476                       1.1157257                  \n",
                            "3  1.0969493                       0.9976509                  \n",
                            "4 -0.1358605                      -0.2075640                  \n",
                            "5 -0.6448712                      -0.6968174                  \n",
                            "6  2.4975101                       2.3347969                  \n",
                            "  Texture_Variance_OP_3_01_256 Texture_Variance_OP_3_02_256\n",
                            "1 -1.1242028                   -1.1179528                  \n",
                            "2  1.0969468                    1.1219693                  \n",
                            "3  0.9725370                    1.0001664                  \n",
                            "4 -0.2187347                   -0.2021711                  \n",
                            "5 -0.7125095                   -0.7005716                  \n",
                            "6  2.2960604                    2.3437433                  \n",
                            "  Texture_Variance_OP_3_03_256\n",
                            "1 -1.1217436                  \n",
                            "2  1.0955390                  \n",
                            "3  0.9804259                  \n",
                            "4 -0.2135436                  \n",
                            "5 -0.7043354                  \n",
                            "6  2.3082576                  "
                        ]
                    },
                    "metadata": {},
                    "output_type": "display_data"
                }
            ],
            "source": [
                "# path to the anova data\n",
                "sum_aggregated_anova_genotype_df_path <- file.path(\"..\",\"..\",\"data\",\"6.analysis_results\",\"sum_aggregated_anova_results.parquet\")\n",
                "sum_aggregated_data_path <- file.path(\"..\",\"..\",\"data\",\"5.converted_data\",\"sum_aggregated_data.parquet\")\n",
                "fig_path <- file.path(\"..\",\"figures\",\"sum_aggregated\")\n",
                "# create the figure directory if it does not exist\n",
                "if (!dir.exists(fig_path)){\n",
                "  dir.create(fig_path, recursive = TRUE)\n",
                "}\n",
                "\n",
                "# read the data\n",
                "sum_aggregated_data_df <- arrow::read_parquet(sum_aggregated_data_path)\n",
                "head(sum_aggregated_data_df)\n",
                "\n",
                "# read the anova data\n",
                "sum_aggregated_anova_df <- arrow::read_parquet(sum_aggregated_anova_genotype_df_path)\n"
            ]
        },
        {
            "cell_type": "markdown",
            "id": "e88a001f",
            "metadata": {
                "papermill": {
                    "duration": 0.001507,
                    "end_time": "2024-05-06T13:29:49.951847",
                    "exception": false,
                    "start_time": "2024-05-06T13:29:49.950340",
                    "status": "completed"
                },
                "tags": []
            },
            "source": [
                "## Genotype, side and identity level data"
            ]
        },
        {
            "cell_type": "markdown",
            "id": "f2690969",
            "metadata": {
                "papermill": {
                    "duration": 0.001142,
                    "end_time": "2024-05-06T13:29:49.954158",
                    "exception": false,
                    "start_time": "2024-05-06T13:29:49.953016",
                    "status": "completed"
                },
                "tags": []
            },
            "source": [
                "### ANOVA means"
            ]
        },
        {
            "cell_type": "code",
            "execution_count": 3,
            "id": "76d4211b",
            "metadata": {
                "execution": {
                    "iopub.execute_input": "2024-05-06T13:29:49.958043Z",
                    "iopub.status.busy": "2024-05-06T13:29:49.957446Z",
                    "iopub.status.idle": "2024-05-06T13:29:49.980936Z",
                    "shell.execute_reply": "2024-05-06T13:29:49.980281Z"
                },
                "papermill": {
                    "duration": 0.026445,
                    "end_time": "2024-05-06T13:29:49.981767",
                    "exception": false,
                    "start_time": "2024-05-06T13:29:49.955322",
                    "status": "completed"
                },
                "tags": [],
                "vscode": {
                    "languageId": "r"
                }
            },
            "outputs": [
                {
                    "data": {
                        "text/html": [
                            "<table class=\"dataframe\">\n",
                            "<caption>A tibble: 6 \u00d7 12</caption>\n",
                            "<thead>\n",
                            "\t<tr><th scope=col>group1</th><th scope=col>group2</th><th scope=col>meandiff</th><th scope=col>p-adj</th><th scope=col>lower</th><th scope=col>upper</th><th scope=col>reject</th><th scope=col>feature</th><th scope=col>anova_p_value</th><th scope=col>log10_anova_p_value</th><th scope=col>feature_type</th><th scope=col>feature_name</th></tr>\n",
                            "\t<tr><th scope=col>&lt;chr&gt;</th><th scope=col>&lt;chr&gt;</th><th scope=col>&lt;dbl&gt;</th><th scope=col>&lt;dbl&gt;</th><th scope=col>&lt;dbl&gt;</th><th scope=col>&lt;dbl&gt;</th><th scope=col>&lt;lgl&gt;</th><th scope=col>&lt;chr&gt;</th><th scope=col>&lt;dbl&gt;</th><th scope=col>&lt;dbl&gt;</th><th scope=col>&lt;chr&gt;</th><th scope=col>&lt;chr&gt;</th></tr>\n",
                            "</thead>\n",
                            "<tbody>\n",
                            "\t<tr><td>high </td><td>unsel</td><td> 0.0825</td><td>0.9923</td><td>-1.6185</td><td>1.7835</td><td>FALSE</td><td>RadialDistribution_ZernikePhase_OP_7_5</td><td>0.9666994</td><td>0.01470857</td><td>RadialDistribution</td><td>ZernikePhase </td></tr>\n",
                            "\t<tr><td>high </td><td>wt   </td><td> 0.1815</td><td>0.9635</td><td>-1.5195</td><td>1.8825</td><td>FALSE</td><td>RadialDistribution_ZernikePhase_OP_7_5</td><td>0.9666994</td><td>0.01470857</td><td>RadialDistribution</td><td>ZernikePhase </td></tr>\n",
                            "\t<tr><td>unsel</td><td>wt   </td><td> 0.0991</td><td>0.9890</td><td>-1.6019</td><td>1.8001</td><td>FALSE</td><td>RadialDistribution_ZernikePhase_OP_7_5</td><td>0.9666994</td><td>0.01470857</td><td>RadialDistribution</td><td>ZernikePhase </td></tr>\n",
                            "\t<tr><td>high </td><td>unsel</td><td>-0.0334</td><td>0.9988</td><td>-1.7630</td><td>1.6962</td><td>FALSE</td><td>AreaShape_CentralMoment_1_0           </td><td>0.8942034</td><td>0.04856369</td><td>AreaShape         </td><td>CentralMoment</td></tr>\n",
                            "\t<tr><td>high </td><td>wt   </td><td> 0.2730</td><td>0.9219</td><td>-1.4566</td><td>2.0027</td><td>FALSE</td><td>AreaShape_CentralMoment_1_0           </td><td>0.8942034</td><td>0.04856369</td><td>AreaShape         </td><td>CentralMoment</td></tr>\n",
                            "\t<tr><td>unsel</td><td>wt   </td><td> 0.3064</td><td>0.9027</td><td>-1.4232</td><td>2.0360</td><td>FALSE</td><td>AreaShape_CentralMoment_1_0           </td><td>0.8942034</td><td>0.04856369</td><td>AreaShape         </td><td>CentralMoment</td></tr>\n",
                            "</tbody>\n",
                            "</table>\n"
                        ],
                        "text/latex": [
                            "A tibble: 6 \u00d7 12\n",
                            "\\begin{tabular}{llllllllllll}\n",
                            " group1 & group2 & meandiff & p-adj & lower & upper & reject & feature & anova\\_p\\_value & log10\\_anova\\_p\\_value & feature\\_type & feature\\_name\\\\\n",
                            " <chr> & <chr> & <dbl> & <dbl> & <dbl> & <dbl> & <lgl> & <chr> & <dbl> & <dbl> & <chr> & <chr>\\\\\n",
                            "\\hline\n",
                            "\t high  & unsel &  0.0825 & 0.9923 & -1.6185 & 1.7835 & FALSE & RadialDistribution\\_ZernikePhase\\_OP\\_7\\_5 & 0.9666994 & 0.01470857 & RadialDistribution & ZernikePhase \\\\\n",
                            "\t high  & wt    &  0.1815 & 0.9635 & -1.5195 & 1.8825 & FALSE & RadialDistribution\\_ZernikePhase\\_OP\\_7\\_5 & 0.9666994 & 0.01470857 & RadialDistribution & ZernikePhase \\\\\n",
                            "\t unsel & wt    &  0.0991 & 0.9890 & -1.6019 & 1.8001 & FALSE & RadialDistribution\\_ZernikePhase\\_OP\\_7\\_5 & 0.9666994 & 0.01470857 & RadialDistribution & ZernikePhase \\\\\n",
                            "\t high  & unsel & -0.0334 & 0.9988 & -1.7630 & 1.6962 & FALSE & AreaShape\\_CentralMoment\\_1\\_0            & 0.8942034 & 0.04856369 & AreaShape          & CentralMoment\\\\\n",
                            "\t high  & wt    &  0.2730 & 0.9219 & -1.4566 & 2.0027 & FALSE & AreaShape\\_CentralMoment\\_1\\_0            & 0.8942034 & 0.04856369 & AreaShape          & CentralMoment\\\\\n",
                            "\t unsel & wt    &  0.3064 & 0.9027 & -1.4232 & 2.0360 & FALSE & AreaShape\\_CentralMoment\\_1\\_0            & 0.8942034 & 0.04856369 & AreaShape          & CentralMoment\\\\\n",
                            "\\end{tabular}\n"
                        ],
                        "text/markdown": [
                            "\n",
                            "A tibble: 6 \u00d7 12\n",
                            "\n",
                            "| group1 &lt;chr&gt; | group2 &lt;chr&gt; | meandiff &lt;dbl&gt; | p-adj &lt;dbl&gt; | lower &lt;dbl&gt; | upper &lt;dbl&gt; | reject &lt;lgl&gt; | feature &lt;chr&gt; | anova_p_value &lt;dbl&gt; | log10_anova_p_value &lt;dbl&gt; | feature_type &lt;chr&gt; | feature_name &lt;chr&gt; |\n",
                            "|---|---|---|---|---|---|---|---|---|---|---|---|\n",
                            "| high  | unsel |  0.0825 | 0.9923 | -1.6185 | 1.7835 | FALSE | RadialDistribution_ZernikePhase_OP_7_5 | 0.9666994 | 0.01470857 | RadialDistribution | ZernikePhase  |\n",
                            "| high  | wt    |  0.1815 | 0.9635 | -1.5195 | 1.8825 | FALSE | RadialDistribution_ZernikePhase_OP_7_5 | 0.9666994 | 0.01470857 | RadialDistribution | ZernikePhase  |\n",
                            "| unsel | wt    |  0.0991 | 0.9890 | -1.6019 | 1.8001 | FALSE | RadialDistribution_ZernikePhase_OP_7_5 | 0.9666994 | 0.01470857 | RadialDistribution | ZernikePhase  |\n",
                            "| high  | unsel | -0.0334 | 0.9988 | -1.7630 | 1.6962 | FALSE | AreaShape_CentralMoment_1_0            | 0.8942034 | 0.04856369 | AreaShape          | CentralMoment |\n",
                            "| high  | wt    |  0.2730 | 0.9219 | -1.4566 | 2.0027 | FALSE | AreaShape_CentralMoment_1_0            | 0.8942034 | 0.04856369 | AreaShape          | CentralMoment |\n",
                            "| unsel | wt    |  0.3064 | 0.9027 | -1.4232 | 2.0360 | FALSE | AreaShape_CentralMoment_1_0            | 0.8942034 | 0.04856369 | AreaShape          | CentralMoment |\n",
                            "\n"
                        ],
                        "text/plain": [
                            "  group1 group2 meandiff p-adj  lower   upper  reject\n",
                            "1 high   unsel   0.0825  0.9923 -1.6185 1.7835 FALSE \n",
                            "2 high   wt      0.1815  0.9635 -1.5195 1.8825 FALSE \n",
                            "3 unsel  wt      0.0991  0.9890 -1.6019 1.8001 FALSE \n",
                            "4 high   unsel  -0.0334  0.9988 -1.7630 1.6962 FALSE \n",
                            "5 high   wt      0.2730  0.9219 -1.4566 2.0027 FALSE \n",
                            "6 unsel  wt      0.3064  0.9027 -1.4232 2.0360 FALSE \n",
                            "  feature                                anova_p_value log10_anova_p_value\n",
                            "1 RadialDistribution_ZernikePhase_OP_7_5 0.9666994     0.01470857         \n",
                            "2 RadialDistribution_ZernikePhase_OP_7_5 0.9666994     0.01470857         \n",
                            "3 RadialDistribution_ZernikePhase_OP_7_5 0.9666994     0.01470857         \n",
                            "4 AreaShape_CentralMoment_1_0            0.8942034     0.04856369         \n",
                            "5 AreaShape_CentralMoment_1_0            0.8942034     0.04856369         \n",
                            "6 AreaShape_CentralMoment_1_0            0.8942034     0.04856369         \n",
                            "  feature_type       feature_name \n",
                            "1 RadialDistribution ZernikePhase \n",
                            "2 RadialDistribution ZernikePhase \n",
                            "3 RadialDistribution ZernikePhase \n",
                            "4 AreaShape          CentralMoment\n",
                            "5 AreaShape          CentralMoment\n",
                            "6 AreaShape          CentralMoment"
                        ]
                    },
                    "metadata": {},
                    "output_type": "display_data"
                }
            ],
            "source": [
                "\n",
                "sum_aggregated_anova_df$log10_anova_p_value <- -log10(sum_aggregated_anova_df$anova_p_value)\n",
                "# order the results by log10 anova p-value\n",
                "sum_aggregated_anova_df <- sum_aggregated_anova_df %>% arrange(log10_anova_p_value)\n",
                "# split the feature into 3 groups at \"_\"\n",
                "sum_aggregated_anova_df$feature_type <- sapply(strsplit(sum_aggregated_anova_df$feature, \"_\"), function(x) x[1])\n",
                "sum_aggregated_anova_df$feature_name <- sapply(strsplit(sum_aggregated_anova_df$feature, \"_\"), function(x) x[2])\n",
                "head(sum_aggregated_anova_df)\n"
            ]
        },
        {
            "cell_type": "code",
            "execution_count": 4,
            "id": "a3f791b0",
            "metadata": {
                "execution": {
                    "iopub.execute_input": "2024-05-06T13:29:49.987051Z",
                    "iopub.status.busy": "2024-05-06T13:29:49.986221Z",
                    "iopub.status.idle": "2024-05-06T13:29:52.128936Z",
                    "shell.execute_reply": "2024-05-06T13:29:52.128246Z"
                },
                "papermill": {
                    "duration": 2.146419,
                    "end_time": "2024-05-06T13:29:52.130161",
                    "exception": false,
                    "start_time": "2024-05-06T13:29:49.983742",
                    "status": "completed"
                },
                "tags": [],
                "vscode": {
                    "languageId": "r"
                }
            },
            "outputs": [
                {
                    "data": {
                        "image/png": "[encoded data removed]",
                        "text/plain": [
                            "plot without title"
                        ]
                    },
                    "metadata": {
                        "image/png": {
                            "height": 600,
                            "width": 1200
                        }
                    },
                    "output_type": "display_data"
                }
            ],
            "source": [
                "width <- 20\n",
                "height <- 10\n",
                "options(repr.plot.width = width, repr.plot.height = height)\n",
                "anova_plot <- (\n",
                "    # order the results by log10 anova p-value\n",
                "    ggplot(sum_aggregated_anova_df, aes(y = reorder(feature, log10_anova_p_value), x = log10_anova_p_value, fill = feature_type))\n",
                "    + geom_bar(stat = \"identity\")\n",
                "    # drop y axis labels\n",
                "    + theme(axis.text.x = element_text(angle = 90, hjust = 1))\n",
                "    + labs(title = \"ANOVA Analysis\", y = \"Feature\", x = \"-log10(ANOVA p-value)\", fill = \"Feature Type\")\n",
                "   \n",
                "    + figure_theme\n",
                "\n",
                "\n",
                "    + theme(axis.text.y = element_blank(), panel.grid.major = element_blank(), panel.grid.minor = element_blank())\n",
                "    + theme(axis.text.y = element_blank())\n",
                "    + geom_hline(yintercept = length(unique(sum_aggregated_anova_df$feature))-10, linetype = \"dashed\", color = \"black\")\n",
                "     \n",
                ")\n",
                "anova_plot\n",
                "# save the plot\n",
                "ggsave(file = \"sum_aggregatednova_plot.png\", plot = anova_plot, path = file.path(fig_path), width = width, height = height, dpi = 600)"
            ]
        },
        {
            "cell_type": "markdown",
            "id": "e4e89dfe",
            "metadata": {
                "papermill": {
                    "duration": 0.001925,
                    "end_time": "2024-05-06T13:29:52.134313",
                    "exception": false,
                    "start_time": "2024-05-06T13:29:52.132388",
                    "status": "completed"
                },
                "tags": []
            },
            "source": [
                "## Test for equality of variance "
            ]
        },
        {
            "cell_type": "code",
            "execution_count": 5,
            "id": "bc319a3c",
            "metadata": {
                "execution": {
                    "iopub.execute_input": "2024-05-06T13:29:52.139869Z",
                    "iopub.status.busy": "2024-05-06T13:29:52.139192Z",
                    "iopub.status.idle": "2024-05-06T13:29:52.153728Z",
                    "shell.execute_reply": "2024-05-06T13:29:52.153063Z"
                },
                "papermill": {
                    "duration": 0.018419,
                    "end_time": "2024-05-06T13:29:52.154578",
                    "exception": false,
                    "start_time": "2024-05-06T13:29:52.136159",
                    "status": "completed"
                },
                "tags": [],
                "vscode": {
                    "languageId": "r"
                }
            },
            "outputs": [
                {
                    "data": {
                        "text/html": [
                            "<table class=\"dataframe\">\n",
                            "<caption>A data.frame: 6 \u00d7 5</caption>\n",
                            "<thead>\n",
                            "\t<tr><th></th><th scope=col>X</th><th scope=col>feature</th><th scope=col>levene_statistic</th><th scope=col>levene_p_value</th><th scope=col>group</th></tr>\n",
                            "\t<tr><th></th><th scope=col>&lt;int&gt;</th><th scope=col>&lt;chr&gt;</th><th scope=col>&lt;dbl&gt;</th><th scope=col>&lt;dbl&gt;</th><th scope=col>&lt;chr&gt;</th></tr>\n",
                            "</thead>\n",
                            "<tbody>\n",
                            "\t<tr><th scope=row>1</th><td> 90</td><td>AreaShape_Zernike_8_4                 </td><td>1.841247e-05</td><td>0.9966091</td><td>high_vs_unsel</td></tr>\n",
                            "\t<tr><th scope=row>2</th><td>540</td><td>AreaShape_NormalizedMoment_3_3        </td><td>4.582473e-05</td><td>0.9946505</td><td>unsel_vs_wt  </td></tr>\n",
                            "\t<tr><th scope=row>3</th><td>920</td><td>RadialDistribution_ZernikePhase_OP_9_3</td><td>1.116004e-02</td><td>0.9889052</td><td>all          </td></tr>\n",
                            "\t<tr><th scope=row>4</th><td>248</td><td>AreaShape_CentralMoment_0_3           </td><td>2.635471e-04</td><td>0.9871715</td><td>high_vs_wt   </td></tr>\n",
                            "\t<tr><th scope=row>5</th><td>188</td><td>RadialDistribution_ZernikePhase_OP_9_3</td><td>3.381151e-04</td><td>0.9854698</td><td>high_vs_unsel</td></tr>\n",
                            "\t<tr><th scope=row>6</th><td>923</td><td>RadialDistribution_ZernikePhase_OP_9_9</td><td>2.116843e-02</td><td>0.9790653</td><td>all          </td></tr>\n",
                            "</tbody>\n",
                            "</table>\n"
                        ],
                        "text/latex": [
                            "A data.frame: 6 \u00d7 5\n",
                            "\\begin{tabular}{r|lllll}\n",
                            "  & X & feature & levene\\_statistic & levene\\_p\\_value & group\\\\\n",
                            "  & <int> & <chr> & <dbl> & <dbl> & <chr>\\\\\n",
                            "\\hline\n",
                            "\t1 &  90 & AreaShape\\_Zernike\\_8\\_4                  & 1.841247e-05 & 0.9966091 & high\\_vs\\_unsel\\\\\n",
                            "\t2 & 540 & AreaShape\\_NormalizedMoment\\_3\\_3         & 4.582473e-05 & 0.9946505 & unsel\\_vs\\_wt  \\\\\n",
                            "\t3 & 920 & RadialDistribution\\_ZernikePhase\\_OP\\_9\\_3 & 1.116004e-02 & 0.9889052 & all          \\\\\n",
                            "\t4 & 248 & AreaShape\\_CentralMoment\\_0\\_3            & 2.635471e-04 & 0.9871715 & high\\_vs\\_wt   \\\\\n",
                            "\t5 & 188 & RadialDistribution\\_ZernikePhase\\_OP\\_9\\_3 & 3.381151e-04 & 0.9854698 & high\\_vs\\_unsel\\\\\n",
                            "\t6 & 923 & RadialDistribution\\_ZernikePhase\\_OP\\_9\\_9 & 2.116843e-02 & 0.9790653 & all          \\\\\n",
                            "\\end{tabular}\n"
                        ],
                        "text/markdown": [
                            "\n",
                            "A data.frame: 6 \u00d7 5\n",
                            "\n",
                            "| <!--/--> | X &lt;int&gt; | feature &lt;chr&gt; | levene_statistic &lt;dbl&gt; | levene_p_value &lt;dbl&gt; | group &lt;chr&gt; |\n",
                            "|---|---|---|---|---|---|\n",
                            "| 1 |  90 | AreaShape_Zernike_8_4                  | 1.841247e-05 | 0.9966091 | high_vs_unsel |\n",
                            "| 2 | 540 | AreaShape_NormalizedMoment_3_3         | 4.582473e-05 | 0.9946505 | unsel_vs_wt   |\n",
                            "| 3 | 920 | RadialDistribution_ZernikePhase_OP_9_3 | 1.116004e-02 | 0.9889052 | all           |\n",
                            "| 4 | 248 | AreaShape_CentralMoment_0_3            | 2.635471e-04 | 0.9871715 | high_vs_wt    |\n",
                            "| 5 | 188 | RadialDistribution_ZernikePhase_OP_9_3 | 3.381151e-04 | 0.9854698 | high_vs_unsel |\n",
                            "| 6 | 923 | RadialDistribution_ZernikePhase_OP_9_9 | 2.116843e-02 | 0.9790653 | all           |\n",
                            "\n"
                        ],
                        "text/plain": [
                            "  X   feature                                levene_statistic levene_p_value\n",
                            "1  90 AreaShape_Zernike_8_4                  1.841247e-05     0.9966091     \n",
                            "2 540 AreaShape_NormalizedMoment_3_3         4.582473e-05     0.9946505     \n",
                            "3 920 RadialDistribution_ZernikePhase_OP_9_3 1.116004e-02     0.9889052     \n",
                            "4 248 AreaShape_CentralMoment_0_3            2.635471e-04     0.9871715     \n",
                            "5 188 RadialDistribution_ZernikePhase_OP_9_3 3.381151e-04     0.9854698     \n",
                            "6 923 RadialDistribution_ZernikePhase_OP_9_9 2.116843e-02     0.9790653     \n",
                            "  group        \n",
                            "1 high_vs_unsel\n",
                            "2 unsel_vs_wt  \n",
                            "3 all          \n",
                            "4 high_vs_wt   \n",
                            "5 high_vs_unsel\n",
                            "6 all          "
                        ]
                    },
                    "metadata": {},
                    "output_type": "display_data"
                }
            ],
            "source": [
                "# load levene data in \n",
                "sum_aggregated_levene_df_path <- file.path(\"..\",\"..\",\"data\",\"6.analysis_results\",\"sum_aggregated_levene_test_results.csv\")\n",
                "sum_aggregated_levene_df <- read.csv(sum_aggregated_levene_df_path)\n",
                "head(sum_aggregated_levene_df)"
            ]
        },
        {
            "cell_type": "markdown",
            "id": "69a72466",
            "metadata": {
                "papermill": {
                    "duration": 0.002138,
                    "end_time": "2024-05-06T13:29:52.159776",
                    "exception": false,
                    "start_time": "2024-05-06T13:29:52.157638",
                    "status": "completed"
                },
                "tags": []
            },
            "source": [
                "### Variances"
            ]
        },
        {
            "cell_type": "code",
            "execution_count": 6,
            "id": "ccb7da26",
            "metadata": {
                "execution": {
                    "iopub.execute_input": "2024-05-06T13:29:52.166606Z",
                    "iopub.status.busy": "2024-05-06T13:29:52.166031Z",
                    "iopub.status.idle": "2024-05-06T13:29:52.249674Z",
                    "shell.execute_reply": "2024-05-06T13:29:52.248956Z"
                },
                "papermill": {
                    "duration": 0.087568,
                    "end_time": "2024-05-06T13:29:52.250592",
                    "exception": false,
                    "start_time": "2024-05-06T13:29:52.163024",
                    "status": "completed"
                },
                "tags": [],
                "vscode": {
                    "languageId": "r"
                }
            },
            "outputs": [
                {
                    "data": {
                        "text/html": [
                            "<style>\n",
                            ".list-inline {list-style: none; margin:0; padding: 0}\n",
                            ".list-inline>li {display: inline-block}\n",
                            ".list-inline>li:not(:last-child)::after {content: \"\\00b7\"; padding: 0 .5ex}\n",
                            "</style>\n",
                            "<ol class=list-inline><li>'AreaShape_Zernike_2_0'</li><li>'Intensity_MeanIntensityEdge_OP'</li><li>'AreaShape_Zernike_0_0'</li><li>'Intensity_MaxIntensityEdge_OP'</li><li>'AreaShape_MinorAxisLength'</li><li>'AreaShape_MinFeretDiameter'</li><li>'AreaShape_MedianRadius'</li><li>'AreaShape_MeanRadius'</li><li>'AreaShape_Area'</li><li>'AreaShape_CentralMoment_0_0'</li><li>'AreaShape_SpatialMoment_0_0'</li><li>'AreaShape_ConvexArea'</li><li>'AreaShape_MaximumRadius'</li><li>'AreaShape_InertiaTensorEigenvalues_1'</li><li>'Intensity_StdIntensityEdge_OP'</li><li>'AreaShape_HuMoment_0'</li><li>'Intensity_LowerQuartileIntensity_OP'</li><li>'AreaShape_EquivalentDiameter'</li><li>'AreaShape_NormalizedMoment_2_0'</li><li>'AreaShape_SpatialMoment_1_0'</li></ol>\n"
                        ],
                        "text/latex": [
                            "\\begin{enumerate*}\n",
                            "\\item 'AreaShape\\_Zernike\\_2\\_0'\n",
                            "\\item 'Intensity\\_MeanIntensityEdge\\_OP'\n",
                            "\\item 'AreaShape\\_Zernike\\_0\\_0'\n",
                            "\\item 'Intensity\\_MaxIntensityEdge\\_OP'\n",
                            "\\item 'AreaShape\\_MinorAxisLength'\n",
                            "\\item 'AreaShape\\_MinFeretDiameter'\n",
                            "\\item 'AreaShape\\_MedianRadius'\n",
                            "\\item 'AreaShape\\_MeanRadius'\n",
                            "\\item 'AreaShape\\_Area'\n",
                            "\\item 'AreaShape\\_CentralMoment\\_0\\_0'\n",
                            "\\item 'AreaShape\\_SpatialMoment\\_0\\_0'\n",
                            "\\item 'AreaShape\\_ConvexArea'\n",
                            "\\item 'AreaShape\\_MaximumRadius'\n",
                            "\\item 'AreaShape\\_InertiaTensorEigenvalues\\_1'\n",
                            "\\item 'Intensity\\_StdIntensityEdge\\_OP'\n",
                            "\\item 'AreaShape\\_HuMoment\\_0'\n",
                            "\\item 'Intensity\\_LowerQuartileIntensity\\_OP'\n",
                            "\\item 'AreaShape\\_EquivalentDiameter'\n",
                            "\\item 'AreaShape\\_NormalizedMoment\\_2\\_0'\n",
                            "\\item 'AreaShape\\_SpatialMoment\\_1\\_0'\n",
                            "\\end{enumerate*}\n"
                        ],
                        "text/markdown": [
                            "1. 'AreaShape_Zernike_2_0'\n",
                            "2. 'Intensity_MeanIntensityEdge_OP'\n",
                            "3. 'AreaShape_Zernike_0_0'\n",
                            "4. 'Intensity_MaxIntensityEdge_OP'\n",
                            "5. 'AreaShape_MinorAxisLength'\n",
                            "6. 'AreaShape_MinFeretDiameter'\n",
                            "7. 'AreaShape_MedianRadius'\n",
                            "8. 'AreaShape_MeanRadius'\n",
                            "9. 'AreaShape_Area'\n",
                            "10. 'AreaShape_CentralMoment_0_0'\n",
                            "11. 'AreaShape_SpatialMoment_0_0'\n",
                            "12. 'AreaShape_ConvexArea'\n",
                            "13. 'AreaShape_MaximumRadius'\n",
                            "14. 'AreaShape_InertiaTensorEigenvalues_1'\n",
                            "15. 'Intensity_StdIntensityEdge_OP'\n",
                            "16. 'AreaShape_HuMoment_0'\n",
                            "17. 'Intensity_LowerQuartileIntensity_OP'\n",
                            "18. 'AreaShape_EquivalentDiameter'\n",
                            "19. 'AreaShape_NormalizedMoment_2_0'\n",
                            "20. 'AreaShape_SpatialMoment_1_0'\n",
                            "\n",
                            "\n"
                        ],
                        "text/plain": [
                            " [1] \"AreaShape_Zernike_2_0\"               \n",
                            " [2] \"Intensity_MeanIntensityEdge_OP\"      \n",
                            " [3] \"AreaShape_Zernike_0_0\"               \n",
                            " [4] \"Intensity_MaxIntensityEdge_OP\"       \n",
                            " [5] \"AreaShape_MinorAxisLength\"           \n",
                            " [6] \"AreaShape_MinFeretDiameter\"          \n",
                            " [7] \"AreaShape_MedianRadius\"              \n",
                            " [8] \"AreaShape_MeanRadius\"                \n",
                            " [9] \"AreaShape_Area\"                      \n",
                            "[10] \"AreaShape_CentralMoment_0_0\"         \n",
                            "[11] \"AreaShape_SpatialMoment_0_0\"         \n",
                            "[12] \"AreaShape_ConvexArea\"                \n",
                            "[13] \"AreaShape_MaximumRadius\"             \n",
                            "[14] \"AreaShape_InertiaTensorEigenvalues_1\"\n",
                            "[15] \"Intensity_StdIntensityEdge_OP\"       \n",
                            "[16] \"AreaShape_HuMoment_0\"                \n",
                            "[17] \"Intensity_LowerQuartileIntensity_OP\" \n",
                            "[18] \"AreaShape_EquivalentDiameter\"        \n",
                            "[19] \"AreaShape_NormalizedMoment_2_0\"      \n",
                            "[20] \"AreaShape_SpatialMoment_1_0\"         "
                        ]
                    },
                    "metadata": {},
                    "output_type": "display_data"
                },
                {
                    "data": {
                        "text/html": [
                            "<table class=\"dataframe\">\n",
                            "<caption>A tibble: 6 \u00d7 246</caption>\n",
                            "<thead>\n",
                            "\t<tr><th scope=col>Metadata_genotype</th><th scope=col>Metadata_replicate</th><th scope=col>AreaShape_Area</th><th scope=col>AreaShape_CentralMoment_0_0</th><th scope=col>AreaShape_CentralMoment_0_1</th><th scope=col>AreaShape_CentralMoment_0_2</th><th scope=col>AreaShape_CentralMoment_0_3</th><th scope=col>AreaShape_CentralMoment_1_0</th><th scope=col>AreaShape_CentralMoment_1_1</th><th scope=col>AreaShape_CentralMoment_1_2</th><th scope=col>\u22ef</th><th scope=col>Texture_SumEntropy_OP_3_02_256</th><th scope=col>Texture_SumEntropy_OP_3_03_256</th><th scope=col>Texture_SumVariance_OP_3_00_256</th><th scope=col>Texture_SumVariance_OP_3_01_256</th><th scope=col>Texture_SumVariance_OP_3_02_256</th><th scope=col>Texture_SumVariance_OP_3_03_256</th><th scope=col>Texture_Variance_OP_3_00_256</th><th scope=col>Texture_Variance_OP_3_01_256</th><th scope=col>Texture_Variance_OP_3_02_256</th><th scope=col>Texture_Variance_OP_3_03_256</th></tr>\n",
                            "\t<tr><th scope=col>&lt;fct&gt;</th><th scope=col>&lt;chr&gt;</th><th scope=col>&lt;dbl&gt;</th><th scope=col>&lt;dbl&gt;</th><th scope=col>&lt;dbl&gt;</th><th scope=col>&lt;dbl&gt;</th><th scope=col>&lt;dbl&gt;</th><th scope=col>&lt;dbl&gt;</th><th scope=col>&lt;dbl&gt;</th><th scope=col>&lt;dbl&gt;</th><th scope=col>\u22ef</th><th scope=col>&lt;dbl&gt;</th><th scope=col>&lt;dbl&gt;</th><th scope=col>&lt;dbl&gt;</th><th scope=col>&lt;dbl&gt;</th><th scope=col>&lt;dbl&gt;</th><th scope=col>&lt;dbl&gt;</th><th scope=col>&lt;dbl&gt;</th><th scope=col>&lt;dbl&gt;</th><th scope=col>&lt;dbl&gt;</th><th scope=col>&lt;dbl&gt;</th></tr>\n",
                            "</thead>\n",
                            "<tbody>\n",
                            "\t<tr><td>High-Severity</td><td>1 </td><td>1.192966</td><td>1.192966</td><td> 0.54175256</td><td>-0.09847487</td><td> 0.7817362</td><td> 4.2018303</td><td>-0.9278737</td><td>-0.08596449</td><td>\u22ef</td><td>-0.2082104</td><td>-0.23807266</td><td>-1.0917116</td><td>-1.0500536</td><td>-1.0866094</td><td>-1.0891776</td><td>-1.1151266</td><td>-1.1242028</td><td>-1.1179528</td><td>-1.1217436</td></tr>\n",
                            "\t<tr><td>High-Severity</td><td>10</td><td>2.477908</td><td>2.477908</td><td> 1.31962606</td><td> 3.44472838</td><td>-1.7485946</td><td> 0.3583902</td><td>-3.2895193</td><td> 1.65054027</td><td>\u22ef</td><td> 1.2939544</td><td> 1.27071208</td><td> 1.2613638</td><td> 1.2841820</td><td> 1.1875076</td><td> 1.2705476</td><td> 1.1157257</td><td> 1.0969468</td><td> 1.1219693</td><td> 1.0955390</td></tr>\n",
                            "\t<tr><td>High-Severity</td><td>11</td><td>4.262414</td><td>4.262414</td><td> 1.26173108</td><td> 2.85293883</td><td> 0.5831822</td><td> 3.6024137</td><td>-0.5413249</td><td>-0.32861304</td><td>\u22ef</td><td> 1.3735418</td><td> 1.35646086</td><td> 1.1047649</td><td> 1.1416459</td><td> 1.0525320</td><td> 1.0969493</td><td> 0.9976509</td><td> 0.9725370</td><td> 1.0001664</td><td> 0.9804259</td></tr>\n",
                            "\t<tr><td>High-Severity</td><td>12</td><td>2.402476</td><td>2.402476</td><td> 0.04988604</td><td> 2.55823835</td><td>-0.9281710</td><td>-3.3057063</td><td>-1.9646186</td><td> 0.21535923</td><td>\u22ef</td><td> 0.6190094</td><td> 0.61786654</td><td>-0.1095573</td><td>-0.1197524</td><td>-0.1967998</td><td>-0.1358605</td><td>-0.2075640</td><td>-0.2187347</td><td>-0.2021711</td><td>-0.2135436</td></tr>\n",
                            "\t<tr><td>High-Severity</td><td>13</td><td>2.389777</td><td>2.389777</td><td>-1.10873607</td><td>-0.06893111</td><td> 0.1017650</td><td>-2.6899598</td><td>-0.9673454</td><td>-1.58886766</td><td>\u22ef</td><td> 0.1134128</td><td> 0.09548279</td><td>-0.6503412</td><td>-0.5913477</td><td>-0.6420772</td><td>-0.6448712</td><td>-0.6968174</td><td>-0.7125095</td><td>-0.7005716</td><td>-0.7043354</td></tr>\n",
                            "\t<tr><td>High-Severity</td><td>14</td><td>4.553584</td><td>4.553584</td><td>-4.77707191</td><td> 3.38343805</td><td> 0.2514737</td><td>-1.4277740</td><td>-3.1808175</td><td> 0.22174791</td><td>\u22ef</td><td> 2.0541319</td><td> 2.05166800</td><td> 2.5108502</td><td> 2.5418673</td><td> 2.4192843</td><td> 2.4975101</td><td> 2.3347969</td><td> 2.2960604</td><td> 2.3437433</td><td> 2.3082576</td></tr>\n",
                            "</tbody>\n",
                            "</table>\n"
                        ],
                        "text/latex": [
                            "A tibble: 6 \u00d7 246\n",
                            "\\begin{tabular}{lllllllllllllllllllll}\n",
                            " Metadata\\_genotype & Metadata\\_replicate & AreaShape\\_Area & AreaShape\\_CentralMoment\\_0\\_0 & AreaShape\\_CentralMoment\\_0\\_1 & AreaShape\\_CentralMoment\\_0\\_2 & AreaShape\\_CentralMoment\\_0\\_3 & AreaShape\\_CentralMoment\\_1\\_0 & AreaShape\\_CentralMoment\\_1\\_1 & AreaShape\\_CentralMoment\\_1\\_2 & \u22ef & Texture\\_SumEntropy\\_OP\\_3\\_02\\_256 & Texture\\_SumEntropy\\_OP\\_3\\_03\\_256 & Texture\\_SumVariance\\_OP\\_3\\_00\\_256 & Texture\\_SumVariance\\_OP\\_3\\_01\\_256 & Texture\\_SumVariance\\_OP\\_3\\_02\\_256 & Texture\\_SumVariance\\_OP\\_3\\_03\\_256 & Texture\\_Variance\\_OP\\_3\\_00\\_256 & Texture\\_Variance\\_OP\\_3\\_01\\_256 & Texture\\_Variance\\_OP\\_3\\_02\\_256 & Texture\\_Variance\\_OP\\_3\\_03\\_256\\\\\n",
                            " <fct> & <chr> & <dbl> & <dbl> & <dbl> & <dbl> & <dbl> & <dbl> & <dbl> & <dbl> & \u22ef & <dbl> & <dbl> & <dbl> & <dbl> & <dbl> & <dbl> & <dbl> & <dbl> & <dbl> & <dbl>\\\\\n",
                            "\\hline\n",
                            "\t High-Severity & 1  & 1.192966 & 1.192966 &  0.54175256 & -0.09847487 &  0.7817362 &  4.2018303 & -0.9278737 & -0.08596449 & \u22ef & -0.2082104 & -0.23807266 & -1.0917116 & -1.0500536 & -1.0866094 & -1.0891776 & -1.1151266 & -1.1242028 & -1.1179528 & -1.1217436\\\\\n",
                            "\t High-Severity & 10 & 2.477908 & 2.477908 &  1.31962606 &  3.44472838 & -1.7485946 &  0.3583902 & -3.2895193 &  1.65054027 & \u22ef &  1.2939544 &  1.27071208 &  1.2613638 &  1.2841820 &  1.1875076 &  1.2705476 &  1.1157257 &  1.0969468 &  1.1219693 &  1.0955390\\\\\n",
                            "\t High-Severity & 11 & 4.262414 & 4.262414 &  1.26173108 &  2.85293883 &  0.5831822 &  3.6024137 & -0.5413249 & -0.32861304 & \u22ef &  1.3735418 &  1.35646086 &  1.1047649 &  1.1416459 &  1.0525320 &  1.0969493 &  0.9976509 &  0.9725370 &  1.0001664 &  0.9804259\\\\\n",
                            "\t High-Severity & 12 & 2.402476 & 2.402476 &  0.04988604 &  2.55823835 & -0.9281710 & -3.3057063 & -1.9646186 &  0.21535923 & \u22ef &  0.6190094 &  0.61786654 & -0.1095573 & -0.1197524 & -0.1967998 & -0.1358605 & -0.2075640 & -0.2187347 & -0.2021711 & -0.2135436\\\\\n",
                            "\t High-Severity & 13 & 2.389777 & 2.389777 & -1.10873607 & -0.06893111 &  0.1017650 & -2.6899598 & -0.9673454 & -1.58886766 & \u22ef &  0.1134128 &  0.09548279 & -0.6503412 & -0.5913477 & -0.6420772 & -0.6448712 & -0.6968174 & -0.7125095 & -0.7005716 & -0.7043354\\\\\n",
                            "\t High-Severity & 14 & 4.553584 & 4.553584 & -4.77707191 &  3.38343805 &  0.2514737 & -1.4277740 & -3.1808175 &  0.22174791 & \u22ef &  2.0541319 &  2.05166800 &  2.5108502 &  2.5418673 &  2.4192843 &  2.4975101 &  2.3347969 &  2.2960604 &  2.3437433 &  2.3082576\\\\\n",
                            "\\end{tabular}\n"
                        ],
                        "text/markdown": [
                            "\n",
                            "A tibble: 6 \u00d7 246\n",
                            "\n",
                            "| Metadata_genotype &lt;fct&gt; | Metadata_replicate &lt;chr&gt; | AreaShape_Area &lt;dbl&gt; | AreaShape_CentralMoment_0_0 &lt;dbl&gt; | AreaShape_CentralMoment_0_1 &lt;dbl&gt; | AreaShape_CentralMoment_0_2 &lt;dbl&gt; | AreaShape_CentralMoment_0_3 &lt;dbl&gt; | AreaShape_CentralMoment_1_0 &lt;dbl&gt; | AreaShape_CentralMoment_1_1 &lt;dbl&gt; | AreaShape_CentralMoment_1_2 &lt;dbl&gt; | \u22ef \u22ef | Texture_SumEntropy_OP_3_02_256 &lt;dbl&gt; | Texture_SumEntropy_OP_3_03_256 &lt;dbl&gt; | Texture_SumVariance_OP_3_00_256 &lt;dbl&gt; | Texture_SumVariance_OP_3_01_256 &lt;dbl&gt; | Texture_SumVariance_OP_3_02_256 &lt;dbl&gt; | Texture_SumVariance_OP_3_03_256 &lt;dbl&gt; | Texture_Variance_OP_3_00_256 &lt;dbl&gt; | Texture_Variance_OP_3_01_256 &lt;dbl&gt; | Texture_Variance_OP_3_02_256 &lt;dbl&gt; | Texture_Variance_OP_3_03_256 &lt;dbl&gt; |\n",
                            "|---|---|---|---|---|---|---|---|---|---|---|---|---|---|---|---|---|---|---|---|---|\n",
                            "| High-Severity | 1  | 1.192966 | 1.192966 |  0.54175256 | -0.09847487 |  0.7817362 |  4.2018303 | -0.9278737 | -0.08596449 | \u22ef | -0.2082104 | -0.23807266 | -1.0917116 | -1.0500536 | -1.0866094 | -1.0891776 | -1.1151266 | -1.1242028 | -1.1179528 | -1.1217436 |\n",
                            "| High-Severity | 10 | 2.477908 | 2.477908 |  1.31962606 |  3.44472838 | -1.7485946 |  0.3583902 | -3.2895193 |  1.65054027 | \u22ef |  1.2939544 |  1.27071208 |  1.2613638 |  1.2841820 |  1.1875076 |  1.2705476 |  1.1157257 |  1.0969468 |  1.1219693 |  1.0955390 |\n",
                            "| High-Severity | 11 | 4.262414 | 4.262414 |  1.26173108 |  2.85293883 |  0.5831822 |  3.6024137 | -0.5413249 | -0.32861304 | \u22ef |  1.3735418 |  1.35646086 |  1.1047649 |  1.1416459 |  1.0525320 |  1.0969493 |  0.9976509 |  0.9725370 |  1.0001664 |  0.9804259 |\n",
                            "| High-Severity | 12 | 2.402476 | 2.402476 |  0.04988604 |  2.55823835 | -0.9281710 | -3.3057063 | -1.9646186 |  0.21535923 | \u22ef |  0.6190094 |  0.61786654 | -0.1095573 | -0.1197524 | -0.1967998 | -0.1358605 | -0.2075640 | -0.2187347 | -0.2021711 | -0.2135436 |\n",
                            "| High-Severity | 13 | 2.389777 | 2.389777 | -1.10873607 | -0.06893111 |  0.1017650 | -2.6899598 | -0.9673454 | -1.58886766 | \u22ef |  0.1134128 |  0.09548279 | -0.6503412 | -0.5913477 | -0.6420772 | -0.6448712 | -0.6968174 | -0.7125095 | -0.7005716 | -0.7043354 |\n",
                            "| High-Severity | 14 | 4.553584 | 4.553584 | -4.77707191 |  3.38343805 |  0.2514737 | -1.4277740 | -3.1808175 |  0.22174791 | \u22ef |  2.0541319 |  2.05166800 |  2.5108502 |  2.5418673 |  2.4192843 |  2.4975101 |  2.3347969 |  2.2960604 |  2.3437433 |  2.3082576 |\n",
                            "\n"
                        ],
                        "text/plain": [
                            "  Metadata_genotype Metadata_replicate AreaShape_Area\n",
                            "1 High-Severity     1                  1.192966      \n",
                            "2 High-Severity     10                 2.477908      \n",
                            "3 High-Severity     11                 4.262414      \n",
                            "4 High-Severity     12                 2.402476      \n",
                            "5 High-Severity     13                 2.389777      \n",
                            "6 High-Severity     14                 4.553584      \n",
                            "  AreaShape_CentralMoment_0_0 AreaShape_CentralMoment_0_1\n",
                            "1 1.192966                     0.54175256                \n",
                            "2 2.477908                     1.31962606                \n",
                            "3 4.262414                     1.26173108                \n",
                            "4 2.402476                     0.04988604                \n",
                            "5 2.389777                    -1.10873607                \n",
                            "6 4.553584                    -4.77707191                \n",
                            "  AreaShape_CentralMoment_0_2 AreaShape_CentralMoment_0_3\n",
                            "1 -0.09847487                  0.7817362                 \n",
                            "2  3.44472838                 -1.7485946                 \n",
                            "3  2.85293883                  0.5831822                 \n",
                            "4  2.55823835                 -0.9281710                 \n",
                            "5 -0.06893111                  0.1017650                 \n",
                            "6  3.38343805                  0.2514737                 \n",
                            "  AreaShape_CentralMoment_1_0 AreaShape_CentralMoment_1_1\n",
                            "1  4.2018303                  -0.9278737                 \n",
                            "2  0.3583902                  -3.2895193                 \n",
                            "3  3.6024137                  -0.5413249                 \n",
                            "4 -3.3057063                  -1.9646186                 \n",
                            "5 -2.6899598                  -0.9673454                 \n",
                            "6 -1.4277740                  -3.1808175                 \n",
                            "  AreaShape_CentralMoment_1_2 \u22ef Texture_SumEntropy_OP_3_02_256\n",
                            "1 -0.08596449                 \u22ef -0.2082104                    \n",
                            "2  1.65054027                 \u22ef  1.2939544                    \n",
                            "3 -0.32861304                 \u22ef  1.3735418                    \n",
                            "4  0.21535923                 \u22ef  0.6190094                    \n",
                            "5 -1.58886766                 \u22ef  0.1134128                    \n",
                            "6  0.22174791                 \u22ef  2.0541319                    \n",
                            "  Texture_SumEntropy_OP_3_03_256 Texture_SumVariance_OP_3_00_256\n",
                            "1 -0.23807266                    -1.0917116                     \n",
                            "2  1.27071208                     1.2613638                     \n",
                            "3  1.35646086                     1.1047649                     \n",
                            "4  0.61786654                    -0.1095573                     \n",
                            "5  0.09548279                    -0.6503412                     \n",
                            "6  2.05166800                     2.5108502                     \n",
                            "  Texture_SumVariance_OP_3_01_256 Texture_SumVariance_OP_3_02_256\n",
                            "1 -1.0500536                      -1.0866094                     \n",
                            "2  1.2841820                       1.1875076                     \n",
                            "3  1.1416459                       1.0525320                     \n",
                            "4 -0.1197524                      -0.1967998                     \n",
                            "5 -0.5913477                      -0.6420772                     \n",
                            "6  2.5418673                       2.4192843                     \n",
                            "  Texture_SumVariance_OP_3_03_256 Texture_Variance_OP_3_00_256\n",
                            "1 -1.0891776                      -1.1151266                  \n",
                            "2  1.2705476                       1.1157257                  \n",
                            "3  1.0969493                       0.9976509                  \n",
                            "4 -0.1358605                      -0.2075640                  \n",
                            "5 -0.6448712                      -0.6968174                  \n",
                            "6  2.4975101                       2.3347969                  \n",
                            "  Texture_Variance_OP_3_01_256 Texture_Variance_OP_3_02_256\n",
                            "1 -1.1242028                   -1.1179528                  \n",
                            "2  1.0969468                    1.1219693                  \n",
                            "3  0.9725370                    1.0001664                  \n",
                            "4 -0.2187347                   -0.2021711                  \n",
                            "5 -0.7125095                   -0.7005716                  \n",
                            "6  2.2960604                    2.3437433                  \n",
                            "  Texture_Variance_OP_3_03_256\n",
                            "1 -1.1217436                  \n",
                            "2  1.0955390                  \n",
                            "3  0.9804259                  \n",
                            "4 -0.2135436                  \n",
                            "5 -0.7043354                  \n",
                            "6  2.3082576                  "
                        ]
                    },
                    "metadata": {},
                    "output_type": "display_data"
                }
            ],
            "source": [
                "width <- 4\n",
                "height <- 4\n",
                "options(repr.plot.width = width, repr.plot.height = height)\n",
                "# make a new column for the group1 and group2\n",
                "sum_aggregated_anova_df$comparison <- paste(sum_aggregated_anova_df$group1, sum_aggregated_anova_df$group2, sep = \" - \")\n",
                "\n",
                "# order the results by anova p-value\n",
                "sum_aggregated_anova_df <- sum_aggregated_anova_df %>% arrange(anova_p_value)\n",
                "features <- unique(sum_aggregated_anova_df$feature)[1:20]\n",
                "features\n",
                "top_20_sum_aggregated_anova_df <- sum_aggregated_anova_df %>% filter(feature %in% features)\n",
                "top_20_sum_aggregated_anova_df$log10_tukey_p_value <- -log10(top_20_sum_aggregated_anova_df$`p-adj`)\n",
                "# make the genotype a factor\n",
                "# replace the genotype values\n",
                "sum_aggregated_data_df$Metadata_genotype <- gsub(\"wt\", \"Wild Type\", sum_aggregated_data_df$Metadata_genotype)\n",
                "sum_aggregated_data_df$Metadata_genotype <- gsub(\"unsel\", \"Mid-Severity\", sum_aggregated_data_df$Metadata_genotype)\n",
                "sum_aggregated_data_df$Metadata_genotype <- gsub(\"high\", \"High-Severity\", sum_aggregated_data_df$Metadata_genotype)\n",
                "sum_aggregated_data_df$Metadata_genotype <- factor(\n",
                "    sum_aggregated_data_df$Metadata_genotype, \n",
                "    levels = c(\"Wild Type\", \"Mid-Severity\", \"High-Severity\")\n",
                ")\n",
                "head(sum_aggregated_data_df)"
            ]
        },
        {
            "cell_type": "code",
            "execution_count": 7,
            "id": "e4fc9fc5",
            "metadata": {
                "execution": {
                    "iopub.execute_input": "2024-05-06T13:29:52.257406Z",
                    "iopub.status.busy": "2024-05-06T13:29:52.256812Z",
                    "iopub.status.idle": "2024-05-06T13:30:04.258073Z",
                    "shell.execute_reply": "2024-05-06T13:30:04.257166Z"
                },
                "papermill": {
                    "duration": 12.005276,
                    "end_time": "2024-05-06T13:30:04.259056",
                    "exception": false,
                    "start_time": "2024-05-06T13:29:52.253780",
                    "status": "completed"
                },
                "tags": [],
                "vscode": {
                    "languageId": "r"
                }
            },
            "outputs": [
                {
                    "name": "stdout",
                    "output_type": "stream",
                    "text": [
                        "[1] \"AreaShape_Zernike_2_0\"\n"
                    ]
                },
                {
                    "name": "stdout",
                    "output_type": "stream",
                    "text": [
                        "[1] \"Intensity_MeanIntensityEdge_OP\"\n"
                    ]
                },
                {
                    "name": "stdout",
                    "output_type": "stream",
                    "text": [
                        "[1] \"AreaShape_Zernike_0_0\"\n"
                    ]
                },
                {
                    "name": "stdout",
                    "output_type": "stream",
                    "text": [
                        "[1] \"Intensity_MaxIntensityEdge_OP\"\n"
                    ]
                },
                {
                    "name": "stdout",
                    "output_type": "stream",
                    "text": [
                        "[1] \"AreaShape_MinorAxisLength\"\n"
                    ]
                },
                {
                    "name": "stdout",
                    "output_type": "stream",
                    "text": [
                        "[1] \"AreaShape_MinFeretDiameter\"\n"
                    ]
                },
                {
                    "name": "stdout",
                    "output_type": "stream",
                    "text": [
                        "[1] \"AreaShape_MedianRadius\"\n"
                    ]
                },
                {
                    "name": "stdout",
                    "output_type": "stream",
                    "text": [
                        "[1] \"AreaShape_MeanRadius\"\n"
                    ]
                },
                {
                    "name": "stdout",
                    "output_type": "stream",
                    "text": [
                        "[1] \"AreaShape_Area\"\n"
                    ]
                },
                {
                    "name": "stdout",
                    "output_type": "stream",
                    "text": [
                        "[1] \"AreaShape_CentralMoment_0_0\"\n"
                    ]
                },
                {
                    "name": "stdout",
                    "output_type": "stream",
                    "text": [
                        "[1] \"AreaShape_SpatialMoment_0_0\"\n"
                    ]
                },
                {
                    "name": "stdout",
                    "output_type": "stream",
                    "text": [
                        "[1] \"AreaShape_ConvexArea\"\n"
                    ]
                },
                {
                    "name": "stdout",
                    "output_type": "stream",
                    "text": [
                        "[1] \"AreaShape_MaximumRadius\"\n"
                    ]
                },
                {
                    "name": "stdout",
                    "output_type": "stream",
                    "text": [
                        "[1] \"AreaShape_InertiaTensorEigenvalues_1\"\n"
                    ]
                },
                {
                    "name": "stdout",
                    "output_type": "stream",
                    "text": [
                        "[1] \"Intensity_StdIntensityEdge_OP\"\n"
                    ]
                },
                {
                    "name": "stdout",
                    "output_type": "stream",
                    "text": [
                        "[1] \"AreaShape_HuMoment_0\"\n"
                    ]
                },
                {
                    "name": "stdout",
                    "output_type": "stream",
                    "text": [
                        "[1] \"Intensity_LowerQuartileIntensity_OP\"\n"
                    ]
                },
                {
                    "name": "stdout",
                    "output_type": "stream",
                    "text": [
                        "[1] \"AreaShape_EquivalentDiameter\"\n"
                    ]
                },
                {
                    "name": "stdout",
                    "output_type": "stream",
                    "text": [
                        "[1] \"AreaShape_NormalizedMoment_2_0\"\n"
                    ]
                },
                {
                    "name": "stdout",
                    "output_type": "stream",
                    "text": [
                        "[1] \"AreaShape_SpatialMoment_1_0\"\n"
                    ]
                }
            ],
            "source": [
                "width <- 8\n",
                "height <- 8\n",
                "\n",
                "list_of_genotype_anova_plots_by_genotype <- list()\n",
                "\n",
                "for (i in 1:length(features)){\n",
                "    print(features[i])\n",
                "    # get the top feature\n",
                "    tmp <- sum_aggregated_data_df %>% select(c(\"Metadata_genotype\", features[i]))\n",
                "    # aggregate the data to get the mean and standard deviation of the top feature\n",
                "    tmp <- tmp %>% group_by(Metadata_genotype) %>% summarise(mean = mean(!!as.name(features[i])), sd = sd(!!as.name(features[i])))\n",
                "    # calculate the variance where variance = sd^2\n",
                "    tmp$variance <- tmp$sd^2\n",
                "    title <- gsub(\"_\", \" \", features[i])\n",
                "    # plot the variability of the top feature\n",
                "    var_plot <- (\n",
                "        ggplot(tmp, aes(x = Metadata_genotype, y = variance, fill = Metadata_genotype)) \n",
                "        + geom_bar(stat = \"identity\")\n",
                "        + theme(axis.text.x = element_text(angle = 90, hjust = 1))\n",
                "        + labs(title = title, x = \"Genotype\", y = \"Variance\", fill = \"Genotype\")\n",
                "        + theme_bw()\n",
                "        + figure_theme\n",
                "    )\n",
                "    # save var plot\n",
                "    ggsave(file = paste0(\"sum_aggregated_\", features[i], \"_variance_plot_genotype.png\"), plot = var_plot, path = file.path(fig_path), width = width, height = height, dpi = 600)\n",
                "\n",
                "    list_of_genotype_anova_plots_by_genotype[[i]] <- var_plot\n",
                "}"
            ]
        }
    ],
    "metadata": {
        "kernelspec": {
            "display_name": "R",
            "language": "R",
            "name": "ir"
        },
        "language_info": {
            "codemirror_mode": "r",
            "file_extension": ".r",
            "mimetype": "text/x-r-source",
            "name": "R",
            "pygments_lexer": "r",
            "version": "4.2.2"
        },
        "papermill": {
            "default_parameters": {},
            "duration": 15.891154,
            "end_time": "2024-05-06T13:30:04.377272",
            "environment_variables": {},
            "exception": null,
            "input_path": "5b.sum_aggregated_anova_visualize.ipynb",
            "output_path": "5b.sum_aggregated_anova_visualize.ipynb",
            "parameters": {},
            "start_time": "2024-05-06T13:29:48.486118",
            "version": "2.6.0"
        }
    },
    "nbformat": 4,
    "nbformat_minor": 5
}
