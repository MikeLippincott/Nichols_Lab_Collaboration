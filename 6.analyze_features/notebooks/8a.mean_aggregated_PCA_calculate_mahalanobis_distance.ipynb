{
    "cells": [
        {
            "cell_type": "markdown",
            "id": "ab9209a8",
            "metadata": {
                "papermill": {
                    "duration": 0.003491,
                    "end_time": "2024-11-26T17:16:50.400742",
                    "exception": false,
                    "start_time": "2024-11-26T17:16:50.397251",
                    "status": "completed"
                },
                "tags": []
            },
            "source": [
                "This notebook calculates the Mahalanobis distance between points on a pca. \n",
                "I will document more about what Mahalanobis distance is and how it is calculated in this notebook."
            ]
        },
        {
            "cell_type": "code",
            "execution_count": 1,
            "id": "fb0c127b",
            "metadata": {
                "execution": {
                    "iopub.execute_input": "2024-11-26T17:16:50.407408Z",
                    "iopub.status.busy": "2024-11-26T17:16:50.406995Z",
                    "iopub.status.idle": "2024-11-26T17:16:51.177991Z",
                    "shell.execute_reply": "2024-11-26T17:16:51.177528Z"
                },
                "papermill": {
                    "duration": 0.775229,
                    "end_time": "2024-11-26T17:16:51.178999",
                    "exception": false,
                    "start_time": "2024-11-26T17:16:50.403770",
                    "status": "completed"
                },
                "tags": []
            },
            "outputs": [],
            "source": [
                "import itertools\n",
                "import pathlib\n",
                "\n",
                "import matplotlib.pyplot as plt\n",
                "import numpy as np\n",
                "import pandas as pd\n",
                "import seaborn as sns\n",
                "import tqdm\n",
                "from scipy.spatial.distance import mahalanobis\n",
                "from scipy.stats import f_oneway as anova\n",
                "from scipy.stats import ttest_ind\n",
                "from statsmodels.stats.multicomp import pairwise_tukeyhsd"
            ]
        },
        {
            "cell_type": "code",
            "execution_count": 2,
            "id": "3aaae5dd",
            "metadata": {
                "execution": {
                    "iopub.execute_input": "2024-11-26T17:16:51.185741Z",
                    "iopub.status.busy": "2024-11-26T17:16:51.185392Z",
                    "iopub.status.idle": "2024-11-26T17:16:51.230048Z",
                    "shell.execute_reply": "2024-11-26T17:16:51.229647Z"
                },
                "papermill": {
                    "duration": 0.04856,
                    "end_time": "2024-11-26T17:16:51.230654",
                    "exception": false,
                    "start_time": "2024-11-26T17:16:51.182094",
                    "status": "completed"
                },
                "tags": []
            },
            "outputs": [
                {
                    "name": "stdout",
                    "output_type": "stream",
                    "text": [
                        "(83, 86)\n"
                    ]
                },
                {
                    "data": {
                        "text/html": [
                            "<div>\n",
                            "<style scoped>\n",
                            "    .dataframe tbody tr th:only-of-type {\n",
                            "        vertical-align: middle;\n",
                            "    }\n",
                            "\n",
                            "    .dataframe tbody tr th {\n",
                            "        vertical-align: top;\n",
                            "    }\n",
                            "\n",
                            "    .dataframe thead th {\n",
                            "        text-align: right;\n",
                            "    }\n",
                            "</style>\n",
                            "<table border=\"1\" class=\"dataframe\">\n",
                            "  <thead>\n",
                            "    <tr style=\"text-align: right;\">\n",
                            "      <th></th>\n",
                            "      <th>Metadata_genotype</th>\n",
                            "      <th>Metadata_replicate</th>\n",
                            "      <th>Metadata_side</th>\n",
                            "      <th>PC1</th>\n",
                            "      <th>PC2</th>\n",
                            "      <th>PC3</th>\n",
                            "      <th>PC4</th>\n",
                            "      <th>PC5</th>\n",
                            "      <th>PC6</th>\n",
                            "      <th>PC7</th>\n",
                            "      <th>...</th>\n",
                            "      <th>PC74</th>\n",
                            "      <th>PC75</th>\n",
                            "      <th>PC76</th>\n",
                            "      <th>PC77</th>\n",
                            "      <th>PC78</th>\n",
                            "      <th>PC79</th>\n",
                            "      <th>PC80</th>\n",
                            "      <th>PC81</th>\n",
                            "      <th>PC82</th>\n",
                            "      <th>PC83</th>\n",
                            "    </tr>\n",
                            "  </thead>\n",
                            "  <tbody>\n",
                            "    <tr>\n",
                            "      <th>0</th>\n",
                            "      <td>High-Severity</td>\n",
                            "      <td>1</td>\n",
                            "      <td>L</td>\n",
                            "      <td>-7.710260</td>\n",
                            "      <td>-4.264421</td>\n",
                            "      <td>1.521397</td>\n",
                            "      <td>-1.390342</td>\n",
                            "      <td>9.410620</td>\n",
                            "      <td>-6.054486</td>\n",
                            "      <td>1.336078</td>\n",
                            "      <td>...</td>\n",
                            "      <td>0.213169</td>\n",
                            "      <td>0.034717</td>\n",
                            "      <td>0.129185</td>\n",
                            "      <td>-0.146640</td>\n",
                            "      <td>-0.081667</td>\n",
                            "      <td>-0.075119</td>\n",
                            "      <td>-0.020639</td>\n",
                            "      <td>0.058634</td>\n",
                            "      <td>0.028028</td>\n",
                            "      <td>9.906943e-16</td>\n",
                            "    </tr>\n",
                            "    <tr>\n",
                            "      <th>1</th>\n",
                            "      <td>High-Severity</td>\n",
                            "      <td>1</td>\n",
                            "      <td>R</td>\n",
                            "      <td>0.695800</td>\n",
                            "      <td>8.170808</td>\n",
                            "      <td>-1.217780</td>\n",
                            "      <td>-2.386591</td>\n",
                            "      <td>-2.609680</td>\n",
                            "      <td>1.468471</td>\n",
                            "      <td>4.371038</td>\n",
                            "      <td>...</td>\n",
                            "      <td>-0.215559</td>\n",
                            "      <td>-0.068413</td>\n",
                            "      <td>-0.266401</td>\n",
                            "      <td>-0.023500</td>\n",
                            "      <td>-0.054200</td>\n",
                            "      <td>-0.023511</td>\n",
                            "      <td>0.119934</td>\n",
                            "      <td>0.145838</td>\n",
                            "      <td>0.035305</td>\n",
                            "      <td>-8.556710e-17</td>\n",
                            "    </tr>\n",
                            "    <tr>\n",
                            "      <th>2</th>\n",
                            "      <td>High-Severity</td>\n",
                            "      <td>10</td>\n",
                            "      <td>L</td>\n",
                            "      <td>6.910961</td>\n",
                            "      <td>11.252120</td>\n",
                            "      <td>-2.831527</td>\n",
                            "      <td>-3.131419</td>\n",
                            "      <td>-2.634531</td>\n",
                            "      <td>3.551757</td>\n",
                            "      <td>-2.684211</td>\n",
                            "      <td>...</td>\n",
                            "      <td>-0.075988</td>\n",
                            "      <td>-0.123323</td>\n",
                            "      <td>-0.210824</td>\n",
                            "      <td>0.063699</td>\n",
                            "      <td>0.148910</td>\n",
                            "      <td>0.041040</td>\n",
                            "      <td>0.020007</td>\n",
                            "      <td>0.161693</td>\n",
                            "      <td>-0.143457</td>\n",
                            "      <td>-4.445563e-16</td>\n",
                            "    </tr>\n",
                            "    <tr>\n",
                            "      <th>3</th>\n",
                            "      <td>High-Severity</td>\n",
                            "      <td>10</td>\n",
                            "      <td>R</td>\n",
                            "      <td>2.179877</td>\n",
                            "      <td>6.184598</td>\n",
                            "      <td>-3.463740</td>\n",
                            "      <td>-0.260566</td>\n",
                            "      <td>-3.067898</td>\n",
                            "      <td>1.597567</td>\n",
                            "      <td>2.061996</td>\n",
                            "      <td>...</td>\n",
                            "      <td>0.416289</td>\n",
                            "      <td>0.348893</td>\n",
                            "      <td>0.151410</td>\n",
                            "      <td>0.326023</td>\n",
                            "      <td>-0.207744</td>\n",
                            "      <td>0.234788</td>\n",
                            "      <td>-0.024102</td>\n",
                            "      <td>-0.150510</td>\n",
                            "      <td>0.049366</td>\n",
                            "      <td>3.319675e-17</td>\n",
                            "    </tr>\n",
                            "    <tr>\n",
                            "      <th>4</th>\n",
                            "      <td>High-Severity</td>\n",
                            "      <td>11</td>\n",
                            "      <td>L</td>\n",
                            "      <td>1.336690</td>\n",
                            "      <td>9.305025</td>\n",
                            "      <td>3.279230</td>\n",
                            "      <td>0.938479</td>\n",
                            "      <td>6.459164</td>\n",
                            "      <td>-4.944010</td>\n",
                            "      <td>-1.393619</td>\n",
                            "      <td>...</td>\n",
                            "      <td>-0.028287</td>\n",
                            "      <td>0.092703</td>\n",
                            "      <td>0.038004</td>\n",
                            "      <td>0.095451</td>\n",
                            "      <td>0.043627</td>\n",
                            "      <td>0.006402</td>\n",
                            "      <td>-0.030578</td>\n",
                            "      <td>-0.017234</td>\n",
                            "      <td>0.008486</td>\n",
                            "      <td>-1.129520e-15</td>\n",
                            "    </tr>\n",
                            "  </tbody>\n",
                            "</table>\n",
                            "<p>5 rows \u00d7 86 columns</p>\n",
                            "</div>"
                        ],
                        "text/plain": [
                            "  Metadata_genotype Metadata_replicate Metadata_side       PC1        PC2  \\\n",
                            "0     High-Severity                  1             L -7.710260  -4.264421   \n",
                            "1     High-Severity                  1             R  0.695800   8.170808   \n",
                            "2     High-Severity                 10             L  6.910961  11.252120   \n",
                            "3     High-Severity                 10             R  2.179877   6.184598   \n",
                            "4     High-Severity                 11             L  1.336690   9.305025   \n",
                            "\n",
                            "        PC3       PC4       PC5       PC6       PC7  ...      PC74      PC75  \\\n",
                            "0  1.521397 -1.390342  9.410620 -6.054486  1.336078  ...  0.213169  0.034717   \n",
                            "1 -1.217780 -2.386591 -2.609680  1.468471  4.371038  ... -0.215559 -0.068413   \n",
                            "2 -2.831527 -3.131419 -2.634531  3.551757 -2.684211  ... -0.075988 -0.123323   \n",
                            "3 -3.463740 -0.260566 -3.067898  1.597567  2.061996  ...  0.416289  0.348893   \n",
                            "4  3.279230  0.938479  6.459164 -4.944010 -1.393619  ... -0.028287  0.092703   \n",
                            "\n",
                            "       PC76      PC77      PC78      PC79      PC80      PC81      PC82  \\\n",
                            "0  0.129185 -0.146640 -0.081667 -0.075119 -0.020639  0.058634  0.028028   \n",
                            "1 -0.266401 -0.023500 -0.054200 -0.023511  0.119934  0.145838  0.035305   \n",
                            "2 -0.210824  0.063699  0.148910  0.041040  0.020007  0.161693 -0.143457   \n",
                            "3  0.151410  0.326023 -0.207744  0.234788 -0.024102 -0.150510  0.049366   \n",
                            "4  0.038004  0.095451  0.043627  0.006402 -0.030578 -0.017234  0.008486   \n",
                            "\n",
                            "           PC83  \n",
                            "0  9.906943e-16  \n",
                            "1 -8.556710e-17  \n",
                            "2 -4.445563e-16  \n",
                            "3  3.319675e-17  \n",
                            "4 -1.129520e-15  \n",
                            "\n",
                            "[5 rows x 86 columns]"
                        ]
                    },
                    "execution_count": 2,
                    "metadata": {},
                    "output_type": "execute_result"
                }
            ],
            "source": [
                "# set the path to the data\n",
                "mean_aggregated_data_pca_path = pathlib.Path(\n",
                "    \"../../data/6.analysis_results/mean_aggregated_pca.parquet\"\n",
                ").resolve(strict=True)\n",
                "\n",
                "# read the data\n",
                "mean_aggregated_data_pca = pd.read_parquet(mean_aggregated_data_pca_path)\n",
                "print(mean_aggregated_data_pca.shape)\n",
                "mean_aggregated_data_pca.head()"
            ]
        },
        {
            "cell_type": "markdown",
            "id": "259d51ba",
            "metadata": {
                "papermill": {
                    "duration": 0.002951,
                    "end_time": "2024-11-26T17:16:51.236345",
                    "exception": false,
                    "start_time": "2024-11-26T17:16:51.233394",
                    "status": "completed"
                },
                "tags": []
            },
            "source": [
                "# Mahalanobis Distance\n",
                "For more in depth information on Mahalanobis distance, please refer to this [link](https://medium.com/@the_daft_introvert/mahalanobis-distance-5c11a757b099).\n",
                "Mahalanobis distance is a measure of the distance between a point P and a distribution D. \n",
                "It is a multi-dimensional generalization of the idea of measuring how many standard deviations away P is from the mean of D. \n",
                "This distance is zero if P is at the mean of D, and grows as P moves away from the mean along each principal component axis.\n",
                "The formula for Mahalanobis distance is given by:\n",
                "### $D^2 = (x - \\mu)^T \\Sigma^{-1} (x - \\mu)$\n",
                "where:\n",
                "- $D$ is the Mahalanobis distance"
            ]
        },
        {
            "cell_type": "markdown",
            "id": "6bfe16c2",
            "metadata": {
                "papermill": {
                    "duration": 0.002335,
                    "end_time": "2024-11-26T17:16:51.241142",
                    "exception": false,
                    "start_time": "2024-11-26T17:16:51.238807",
                    "status": "completed"
                },
                "tags": []
            },
            "source": [
                "## Caluclating Mahalanobis Distance on PCA \n",
                "Here I calculate the Mahalanobis distance between the points on the first two principal components of the data for each of the three genotypes."
            ]
        },
        {
            "cell_type": "code",
            "execution_count": 3,
            "id": "41688044",
            "metadata": {
                "execution": {
                    "iopub.execute_input": "2024-11-26T17:16:51.246838Z",
                    "iopub.status.busy": "2024-11-26T17:16:51.246443Z",
                    "iopub.status.idle": "2024-11-26T17:16:51.250182Z",
                    "shell.execute_reply": "2024-11-26T17:16:51.249880Z"
                },
                "papermill": {
                    "duration": 0.007181,
                    "end_time": "2024-11-26T17:16:51.250703",
                    "exception": false,
                    "start_time": "2024-11-26T17:16:51.243522",
                    "status": "completed"
                },
                "tags": []
            },
            "outputs": [
                {
                    "name": "stdout",
                    "output_type": "stream",
                    "text": [
                        "28 27 28\n"
                    ]
                }
            ],
            "source": [
                "# split the genotypes\n",
                "high_severity = mean_aggregated_data_pca[\n",
                "    mean_aggregated_data_pca[\"Metadata_genotype\"] == \"High-Severity\"\n",
                "]\n",
                "low_severity = mean_aggregated_data_pca[\n",
                "    mean_aggregated_data_pca[\"Metadata_genotype\"] == \"Mid-Severity\"\n",
                "]\n",
                "wt = mean_aggregated_data_pca[\n",
                "    mean_aggregated_data_pca[\"Metadata_genotype\"] == \"Wild Type\"\n",
                "]\n",
                "print(len(high_severity), len(low_severity), len(wt))"
            ]
        },
        {
            "cell_type": "code",
            "execution_count": 4,
            "id": "5e1432a9",
            "metadata": {
                "execution": {
                    "iopub.execute_input": "2024-11-26T17:16:51.256256Z",
                    "iopub.status.busy": "2024-11-26T17:16:51.255961Z",
                    "iopub.status.idle": "2024-11-26T17:16:51.259831Z",
                    "shell.execute_reply": "2024-11-26T17:16:51.259520Z"
                },
                "papermill": {
                    "duration": 0.007185,
                    "end_time": "2024-11-26T17:16:51.260346",
                    "exception": false,
                    "start_time": "2024-11-26T17:16:51.253161",
                    "status": "completed"
                },
                "tags": []
            },
            "outputs": [
                {
                    "name": "stdout",
                    "output_type": "stream",
                    "text": [
                        "(28, 83) (27, 83) (28, 83)\n"
                    ]
                }
            ],
            "source": [
                "# drop the the Metadata columns\n",
                "metadata_columns = high_severity.columns[high_severity.columns.str.contains(\"Metadata\")]\n",
                "high_severity = high_severity.drop(metadata_columns, axis=1)\n",
                "low_severity = low_severity.drop(metadata_columns, axis=1)\n",
                "wt = wt.drop(metadata_columns, axis=1)\n",
                "\n",
                "\n",
                "# convert the df to coordinates\n",
                "high_severity_coords = high_severity.to_numpy()\n",
                "low_severity_coords = low_severity.to_numpy()\n",
                "wt_coords = wt.to_numpy()\n",
                "print(high_severity_coords.shape, low_severity_coords.shape, wt_coords.shape)"
            ]
        },
        {
            "cell_type": "markdown",
            "id": "ab7a6ea5",
            "metadata": {
                "papermill": {
                    "duration": 0.002443,
                    "end_time": "2024-11-26T17:16:51.265335",
                    "exception": false,
                    "start_time": "2024-11-26T17:16:51.262892",
                    "status": "completed"
                },
                "tags": []
            },
            "source": [
                "#### High-Severity"
            ]
        },
        {
            "cell_type": "code",
            "execution_count": 5,
            "id": "992efa28",
            "metadata": {
                "execution": {
                    "iopub.execute_input": "2024-11-26T17:16:51.270968Z",
                    "iopub.status.busy": "2024-11-26T17:16:51.270728Z",
                    "iopub.status.idle": "2024-11-26T17:16:51.280634Z",
                    "shell.execute_reply": "2024-11-26T17:16:51.280047Z"
                },
                "papermill": {
                    "duration": 0.013433,
                    "end_time": "2024-11-26T17:16:51.281309",
                    "exception": false,
                    "start_time": "2024-11-26T17:16:51.267876",
                    "status": "completed"
                },
                "tags": []
            },
            "outputs": [
                {
                    "name": "stdout",
                    "output_type": "stream",
                    "text": [
                        "The mean mahalanobis distance for the High-Severity genotype is 11.762056342410409\n"
                    ]
                },
                {
                    "name": "stderr",
                    "output_type": "stream",
                    "text": [
                        "/home/lippincm/miniforge3/envs/op_cell_processing_env/lib/python3.8/site-packages/scipy/spatial/distance.py:1064: RuntimeWarning: invalid value encountered in sqrt\n",
                        "  return np.sqrt(m)\n"
                    ]
                }
            ],
            "source": [
                "# define the mean and the inverse covariance matrix needed for the mahalanobis distance calculation\n",
                "cov_matrix = np.cov(high_severity_coords, rowvar=False)\n",
                "inv_cov_matrix = np.linalg.inv(cov_matrix)\n",
                "# calculate the mahalanobis distance for each point within each genotype\n",
                "high_severity_mahalanobis_distances = []\n",
                "# calculate the mahalanobis distance for each point combination\n",
                "for point in itertools.combinations(high_severity_coords, 2):\n",
                "    distance = mahalanobis(point[0], point[1], inv_cov_matrix)\n",
                "    if np.isnan(distance):  # Check for NaN values\n",
                "        continue\n",
                "    high_severity_mahalanobis_distances.append(distance)\n",
                "mean_high_severity_mahalanobis_distance = np.mean(high_severity_mahalanobis_distances)\n",
                "print(\n",
                "    f\"The mean mahalanobis distance for the High-Severity genotype is {mean_high_severity_mahalanobis_distance}\"\n",
                ")"
            ]
        },
        {
            "cell_type": "markdown",
            "id": "27cad0b8",
            "metadata": {
                "papermill": {
                    "duration": 0.004505,
                    "end_time": "2024-11-26T17:16:51.290253",
                    "exception": false,
                    "start_time": "2024-11-26T17:16:51.285748",
                    "status": "completed"
                },
                "tags": []
            },
            "source": [
                "#### Low-Severity"
            ]
        },
        {
            "cell_type": "code",
            "execution_count": 6,
            "id": "a2370708",
            "metadata": {
                "execution": {
                    "iopub.execute_input": "2024-11-26T17:16:51.300267Z",
                    "iopub.status.busy": "2024-11-26T17:16:51.299816Z",
                    "iopub.status.idle": "2024-11-26T17:16:51.308899Z",
                    "shell.execute_reply": "2024-11-26T17:16:51.308492Z"
                },
                "papermill": {
                    "duration": 0.014986,
                    "end_time": "2024-11-26T17:16:51.309744",
                    "exception": false,
                    "start_time": "2024-11-26T17:16:51.294758",
                    "status": "completed"
                },
                "tags": []
            },
            "outputs": [
                {
                    "name": "stdout",
                    "output_type": "stream",
                    "text": [
                        "The mean mahalanobis distance for the low-Severity genotype is 13.336934733749693\n"
                    ]
                }
            ],
            "source": [
                "# define the mean and the inverse covariance matrix needed for the mahalanobis distance calculation\n",
                "cov_matrix = np.cov(low_severity_coords, rowvar=False)\n",
                "inv_cov_matrix = np.linalg.inv(cov_matrix)\n",
                "# calculate the mahalanobis distance for each point within each genotype\n",
                "low_severity_mahalanobis_distances = []\n",
                "# calculate the mahalanobis distance for each point\n",
                "for point in itertools.combinations(low_severity_coords, 2):\n",
                "    distance = mahalanobis(point[0], point[1], inv_cov_matrix)\n",
                "    if np.isnan(distance):  # Check for NaN values\n",
                "        continue\n",
                "    low_severity_mahalanobis_distances.append(distance)\n",
                "mean_low_severity_mahalanobis_distance = np.mean(low_severity_mahalanobis_distances)\n",
                "print(\n",
                "    f\"The mean mahalanobis distance for the low-Severity genotype is {mean_low_severity_mahalanobis_distance}\"\n",
                ")"
            ]
        },
        {
            "cell_type": "markdown",
            "id": "3cf92944",
            "metadata": {
                "papermill": {
                    "duration": 0.004454,
                    "end_time": "2024-11-26T17:16:51.318938",
                    "exception": false,
                    "start_time": "2024-11-26T17:16:51.314484",
                    "status": "completed"
                },
                "tags": []
            },
            "source": [
                "#### Wild Type"
            ]
        },
        {
            "cell_type": "code",
            "execution_count": 7,
            "id": "6de6ba74",
            "metadata": {
                "execution": {
                    "iopub.execute_input": "2024-11-26T17:16:51.328878Z",
                    "iopub.status.busy": "2024-11-26T17:16:51.328497Z",
                    "iopub.status.idle": "2024-11-26T17:16:51.337131Z",
                    "shell.execute_reply": "2024-11-26T17:16:51.336731Z"
                },
                "papermill": {
                    "duration": 0.014449,
                    "end_time": "2024-11-26T17:16:51.337893",
                    "exception": false,
                    "start_time": "2024-11-26T17:16:51.323444",
                    "status": "completed"
                },
                "tags": []
            },
            "outputs": [
                {
                    "name": "stdout",
                    "output_type": "stream",
                    "text": [
                        "The mean mahalanobis distance for the Wild Type genotype is 10.91427607576582\n"
                    ]
                }
            ],
            "source": [
                "# define the mean and the inverse covariance matrix needed for the mahalanobis distance calculation\n",
                "cov_matrix = np.cov(wt_coords, rowvar=False)\n",
                "inv_cov_matrix = np.linalg.inv(cov_matrix)\n",
                "# calculate the mahalanobis distance for each point within each genotype\n",
                "wt_mahalanobis_distances = []\n",
                "# calculate the mahalanobis distance for each point\n",
                "for point in itertools.combinations(wt_coords, 2):\n",
                "    distance = mahalanobis(point[0], point[1], inv_cov_matrix)\n",
                "    if np.isnan(distance):  # Check for NaN values\n",
                "        continue\n",
                "    wt_mahalanobis_distances.append(distance)\n",
                "mean_wt_mahalanobis_distance = np.mean(wt_mahalanobis_distances)\n",
                "print(\n",
                "    f\"The mean mahalanobis distance for the Wild Type genotype is {mean_wt_mahalanobis_distance}\"\n",
                ")"
            ]
        },
        {
            "cell_type": "markdown",
            "id": "2647b666",
            "metadata": {
                "papermill": {
                    "duration": 0.004508,
                    "end_time": "2024-11-26T17:16:51.347590",
                    "exception": false,
                    "start_time": "2024-11-26T17:16:51.343082",
                    "status": "completed"
                },
                "tags": []
            },
            "source": [
                "## Calculate the Mahalanobis distance for random shuffled data points"
            ]
        },
        {
            "cell_type": "code",
            "execution_count": 8,
            "id": "3bfab0cd",
            "metadata": {
                "execution": {
                    "iopub.execute_input": "2024-11-26T17:16:51.357431Z",
                    "iopub.status.busy": "2024-11-26T17:16:51.357202Z",
                    "iopub.status.idle": "2024-11-26T17:16:51.780866Z",
                    "shell.execute_reply": "2024-11-26T17:16:51.780474Z"
                },
                "papermill": {
                    "duration": 0.429699,
                    "end_time": "2024-11-26T17:16:51.781823",
                    "exception": false,
                    "start_time": "2024-11-26T17:16:51.352124",
                    "status": "completed"
                },
                "tags": []
            },
            "outputs": [],
            "source": [
                "# from the distribution of each PCA component, randomly sample 1000 points and calculate the mahalanobis distance\n",
                "# get the distribution of each PCA component\n",
                "high_severity_pca_component_distribution_std = high_severity.describe().loc[\"std\"]\n",
                "low_severity_pca_component_distribution_std = low_severity.describe().loc[\"std\"]\n",
                "wt_pca_component_distribution_std = wt.describe().loc[\"std\"]\n",
                "\n",
                "high_severity_pca_component_distribution_mean = high_severity.describe().loc[\"mean\"]\n",
                "low_severity_pca_component_distribution_mean = low_severity.describe().loc[\"mean\"]\n",
                "wt_pca_component_distribution_mean = wt.describe().loc[\"mean\"]"
            ]
        },
        {
            "cell_type": "code",
            "execution_count": 9,
            "id": "697a64eb",
            "metadata": {
                "execution": {
                    "iopub.execute_input": "2024-11-26T17:16:51.809477Z",
                    "iopub.status.busy": "2024-11-26T17:16:51.809102Z"
                },
                "papermill": {
                    "duration": 37.587029,
                    "end_time": "2024-11-26T17:17:29.371924",
                    "exception": false,
                    "start_time": "2024-11-26T17:16:51.784895",
                    "status": "completed"
                },
                "tags": []
            },
            "outputs": [
                {
                    "name": "stderr",
                    "output_type": "stream",
                    "text": [
                        "\r",
                        "  0%|                                                                              | 0/1000 [00:00<?, ?it/s]"
                    ]
                },
                {
                    "name": "stderr",
                    "output_type": "stream",
                    "text": [
                        "\r",
                        "  0%|                                                                      | 1/1000 [00:00<02:44,  6.08it/s]"
                    ]
                },
                {
                    "name": "stderr",
                    "output_type": "stream",
                    "text": [
                        "\r",
                        "  0%|\u258f                                                                     | 2/1000 [00:00<03:20,  4.98it/s]"
                    ]
                },
                {
                    "name": "stderr",
                    "output_type": "stream",
                    "text": [
                        "\r",
                        "  0%|\u258f                                                                     | 3/1000 [00:00<04:10,  3.98it/s]"
                    ]
                },
                {
                    "name": "stderr",
                    "output_type": "stream",
                    "text": [
                        "\r",
                        "  0%|\u258e                                                                     | 4/1000 [00:00<04:05,  4.05it/s]"
                    ]
                },
                {
                    "name": "stderr",
                    "output_type": "stream",
                    "text": [
                        "\r",
                        "  0%|\u258e                                                                     | 5/1000 [00:01<04:33,  3.64it/s]"
                    ]
                },
                {
                    "name": "stderr",
                    "output_type": "stream",
                    "text": [
                        "\r",
                        "  1%|\u258d                                                                     | 6/1000 [00:01<04:39,  3.55it/s]"
                    ]
                },
                {
                    "name": "stderr",
                    "output_type": "stream",
                    "text": [
                        "\r",
                        "  1%|\u258d                                                                     | 7/1000 [00:01<04:28,  3.70it/s]"
                    ]
                },
                {
                    "name": "stderr",
                    "output_type": "stream",
                    "text": [
                        "\r",
                        "  1%|\u258c                                                                     | 8/1000 [00:01<03:57,  4.18it/s]"
                    ]
                },
                {
                    "name": "stderr",
                    "output_type": "stream",
                    "text": [
                        "\r",
                        "  1%|\u258b                                                                     | 9/1000 [00:02<03:36,  4.57it/s]"
                    ]
                },
                {
                    "name": "stderr",
                    "output_type": "stream",
                    "text": [
                        "\r",
                        "  1%|\u258b                                                                    | 10/1000 [00:02<03:45,  4.39it/s]"
                    ]
                },
                {
                    "name": "stderr",
                    "output_type": "stream",
                    "text": [
                        "\r",
                        "  1%|\u258a                                                                    | 11/1000 [00:02<03:27,  4.77it/s]"
                    ]
                },
                {
                    "name": "stderr",
                    "output_type": "stream",
                    "text": [
                        "\r",
                        "  1%|\u258a                                                                    | 12/1000 [00:02<03:29,  4.72it/s]"
                    ]
                },
                {
                    "name": "stderr",
                    "output_type": "stream",
                    "text": [
                        "\r",
                        "  1%|\u2589                                                                    | 13/1000 [00:03<03:39,  4.50it/s]"
                    ]
                },
                {
                    "name": "stderr",
                    "output_type": "stream",
                    "text": [
                        "\r",
                        "  1%|\u2589                                                                    | 14/1000 [00:03<03:52,  4.25it/s]"
                    ]
                },
                {
                    "name": "stderr",
                    "output_type": "stream",
                    "text": [
                        "\r",
                        "  2%|\u2588                                                                    | 15/1000 [00:03<03:53,  4.21it/s]"
                    ]
                },
                {
                    "name": "stderr",
                    "output_type": "stream",
                    "text": [
                        "\r",
                        "  2%|\u2588                                                                    | 16/1000 [00:03<03:34,  4.59it/s]"
                    ]
                },
                {
                    "name": "stderr",
                    "output_type": "stream",
                    "text": [
                        "\r",
                        "  2%|\u2588\u258f                                                                   | 17/1000 [00:03<03:21,  4.88it/s]"
                    ]
                },
                {
                    "name": "stderr",
                    "output_type": "stream",
                    "text": [
                        "\r",
                        "  2%|\u2588\u258f                                                                   | 18/1000 [00:04<03:11,  5.12it/s]"
                    ]
                },
                {
                    "name": "stderr",
                    "output_type": "stream",
                    "text": [
                        "\r",
                        "  2%|\u2588\u258e                                                                   | 19/1000 [00:04<03:31,  4.63it/s]"
                    ]
                },
                {
                    "name": "stderr",
                    "output_type": "stream",
                    "text": [
                        "\r",
                        "  2%|\u2588\u258d                                                                   | 20/1000 [00:04<03:40,  4.45it/s]"
                    ]
                },
                {
                    "name": "stderr",
                    "output_type": "stream",
                    "text": [
                        "\r",
                        "  2%|\u2588\u258d                                                                   | 21/1000 [00:04<03:45,  4.34it/s]"
                    ]
                },
                {
                    "name": "stderr",
                    "output_type": "stream",
                    "text": [
                        "\r",
                        "  2%|\u2588\u258c                                                                   | 22/1000 [00:04<03:28,  4.69it/s]"
                    ]
                },
                {
                    "name": "stderr",
                    "output_type": "stream",
                    "text": [
                        "\r",
                        "  2%|\u2588\u258c                                                                   | 23/1000 [00:05<03:16,  4.97it/s]"
                    ]
                },
                {
                    "name": "stderr",
                    "output_type": "stream",
                    "text": [
                        "\r",
                        "  2%|\u2588\u258b                                                                   | 24/1000 [00:05<03:17,  4.94it/s]"
                    ]
                },
                {
                    "name": "stderr",
                    "output_type": "stream",
                    "text": [
                        "\r",
                        "  2%|\u2588\u258b                                                                   | 25/1000 [00:05<03:35,  4.52it/s]"
                    ]
                },
                {
                    "name": "stderr",
                    "output_type": "stream",
                    "text": [
                        "\r",
                        "  3%|\u2588\u258a                                                                   | 26/1000 [00:06<04:22,  3.72it/s]"
                    ]
                },
                {
                    "name": "stderr",
                    "output_type": "stream",
                    "text": [
                        "\r",
                        "  3%|\u2588\u258a                                                                   | 27/1000 [00:06<04:20,  3.73it/s]"
                    ]
                },
                {
                    "name": "stderr",
                    "output_type": "stream",
                    "text": [
                        "\r",
                        "  3%|\u2588\u2589                                                                   | 28/1000 [00:06<04:41,  3.45it/s]"
                    ]
                },
                {
                    "name": "stderr",
                    "output_type": "stream",
                    "text": [
                        "\r",
                        "  3%|\u2588\u2588                                                                   | 29/1000 [00:06<04:28,  3.61it/s]"
                    ]
                },
                {
                    "name": "stderr",
                    "output_type": "stream",
                    "text": [
                        "\r",
                        "  3%|\u2588\u2588                                                                   | 30/1000 [00:07<04:55,  3.28it/s]"
                    ]
                },
                {
                    "name": "stderr",
                    "output_type": "stream",
                    "text": [
                        "\r",
                        "  3%|\u2588\u2588\u258f                                                                  | 31/1000 [00:07<05:09,  3.13it/s]"
                    ]
                },
                {
                    "name": "stderr",
                    "output_type": "stream",
                    "text": [
                        "\r",
                        "  3%|\u2588\u2588\u258f                                                                  | 32/1000 [00:08<05:44,  2.81it/s]"
                    ]
                },
                {
                    "name": "stderr",
                    "output_type": "stream",
                    "text": [
                        "\r",
                        "  3%|\u2588\u2588\u258e                                                                  | 33/1000 [00:08<05:46,  2.79it/s]"
                    ]
                },
                {
                    "name": "stderr",
                    "output_type": "stream",
                    "text": [
                        "\r",
                        "  3%|\u2588\u2588\u258e                                                                  | 34/1000 [00:08<04:52,  3.30it/s]"
                    ]
                },
                {
                    "name": "stderr",
                    "output_type": "stream",
                    "text": [
                        "\r",
                        "  4%|\u2588\u2588\u258d                                                                  | 35/1000 [00:08<05:03,  3.18it/s]"
                    ]
                },
                {
                    "name": "stderr",
                    "output_type": "stream",
                    "text": [
                        "\r",
                        "  4%|\u2588\u2588\u258d                                                                  | 36/1000 [00:09<04:43,  3.40it/s]"
                    ]
                },
                {
                    "name": "stderr",
                    "output_type": "stream",
                    "text": [
                        "\r",
                        "  4%|\u2588\u2588\u258c                                                                  | 37/1000 [00:09<04:33,  3.52it/s]"
                    ]
                },
                {
                    "name": "stderr",
                    "output_type": "stream",
                    "text": [
                        "\r",
                        "  4%|\u2588\u2588\u258c                                                                  | 38/1000 [00:09<04:08,  3.87it/s]"
                    ]
                },
                {
                    "name": "stderr",
                    "output_type": "stream",
                    "text": [
                        "\r",
                        "  4%|\u2588\u2588\u258b                                                                  | 39/1000 [00:09<04:06,  3.91it/s]"
                    ]
                },
                {
                    "name": "stderr",
                    "output_type": "stream",
                    "text": [
                        "\r",
                        "  4%|\u2588\u2588\u258a                                                                  | 40/1000 [00:10<04:35,  3.48it/s]"
                    ]
                },
                {
                    "name": "stderr",
                    "output_type": "stream",
                    "text": [
                        "\r",
                        "  4%|\u2588\u2588\u258a                                                                  | 41/1000 [00:10<04:20,  3.68it/s]"
                    ]
                },
                {
                    "name": "stderr",
                    "output_type": "stream",
                    "text": [
                        "\r",
                        "  4%|\u2588\u2588\u2589                                                                  | 42/1000 [00:10<04:43,  3.38it/s]"
                    ]
                },
                {
                    "name": "stderr",
                    "output_type": "stream",
                    "text": [
                        "\r",
                        "  4%|\u2588\u2588\u2589                                                                  | 43/1000 [00:11<04:29,  3.56it/s]"
                    ]
                },
                {
                    "name": "stderr",
                    "output_type": "stream",
                    "text": [
                        "\r",
                        "  4%|\u2588\u2588\u2588                                                                  | 44/1000 [00:11<04:45,  3.35it/s]"
                    ]
                },
                {
                    "name": "stderr",
                    "output_type": "stream",
                    "text": [
                        "\r",
                        "  4%|\u2588\u2588\u2588                                                                  | 45/1000 [00:11<04:26,  3.58it/s]"
                    ]
                },
                {
                    "name": "stderr",
                    "output_type": "stream",
                    "text": [
                        "\r",
                        "  5%|\u2588\u2588\u2588\u258f                                                                 | 46/1000 [00:11<04:17,  3.71it/s]"
                    ]
                },
                {
                    "name": "stderr",
                    "output_type": "stream",
                    "text": [
                        "\r",
                        "  5%|\u2588\u2588\u2588\u258f                                                                 | 47/1000 [00:12<04:04,  3.89it/s]"
                    ]
                },
                {
                    "name": "stderr",
                    "output_type": "stream",
                    "text": [
                        "\r",
                        "  5%|\u2588\u2588\u2588\u258e                                                                 | 48/1000 [00:12<04:24,  3.60it/s]"
                    ]
                },
                {
                    "name": "stderr",
                    "output_type": "stream",
                    "text": [
                        "\r",
                        "  5%|\u2588\u2588\u2588\u258d                                                                 | 49/1000 [00:12<04:40,  3.38it/s]"
                    ]
                },
                {
                    "name": "stderr",
                    "output_type": "stream",
                    "text": [
                        "\r",
                        "  5%|\u2588\u2588\u2588\u258d                                                                 | 50/1000 [00:13<04:54,  3.22it/s]"
                    ]
                },
                {
                    "name": "stderr",
                    "output_type": "stream",
                    "text": [
                        "\r",
                        "  5%|\u2588\u2588\u2588\u258c                                                                 | 51/1000 [00:13<04:16,  3.70it/s]"
                    ]
                },
                {
                    "name": "stderr",
                    "output_type": "stream",
                    "text": [
                        "\r",
                        "  5%|\u2588\u2588\u2588\u258c                                                                 | 52/1000 [00:13<04:10,  3.78it/s]"
                    ]
                },
                {
                    "name": "stderr",
                    "output_type": "stream",
                    "text": [
                        "\r",
                        "  5%|\u2588\u2588\u2588\u258b                                                                 | 53/1000 [00:13<04:47,  3.29it/s]"
                    ]
                },
                {
                    "name": "stderr",
                    "output_type": "stream",
                    "text": [
                        "\r",
                        "  5%|\u2588\u2588\u2588\u258b                                                                 | 54/1000 [00:14<04:11,  3.77it/s]"
                    ]
                },
                {
                    "name": "stderr",
                    "output_type": "stream",
                    "text": [
                        "\r",
                        "  6%|\u2588\u2588\u2588\u258a                                                                 | 55/1000 [00:14<04:07,  3.82it/s]"
                    ]
                },
                {
                    "name": "stderr",
                    "output_type": "stream",
                    "text": [
                        "\r",
                        "  6%|\u2588\u2588\u2588\u258a                                                                 | 56/1000 [00:14<04:02,  3.89it/s]"
                    ]
                },
                {
                    "name": "stderr",
                    "output_type": "stream",
                    "text": [
                        "\r",
                        "  6%|\u2588\u2588\u2588\u2589                                                                 | 57/1000 [00:14<04:30,  3.48it/s]"
                    ]
                },
                {
                    "name": "stderr",
                    "output_type": "stream",
                    "text": [
                        "\r",
                        "  6%|\u2588\u2588\u2588\u2588                                                                 | 58/1000 [00:15<03:58,  3.95it/s]"
                    ]
                },
                {
                    "name": "stderr",
                    "output_type": "stream",
                    "text": [
                        "\r",
                        "  6%|\u2588\u2588\u2588\u2588                                                                 | 59/1000 [00:15<03:35,  4.38it/s]"
                    ]
                },
                {
                    "name": "stderr",
                    "output_type": "stream",
                    "text": [
                        "\r",
                        "  6%|\u2588\u2588\u2588\u2588\u258f                                                                | 60/1000 [00:15<03:23,  4.61it/s]"
                    ]
                },
                {
                    "name": "stderr",
                    "output_type": "stream",
                    "text": [
                        "\r",
                        "  6%|\u2588\u2588\u2588\u2588\u258f                                                                | 61/1000 [00:15<03:11,  4.90it/s]"
                    ]
                },
                {
                    "name": "stderr",
                    "output_type": "stream",
                    "text": [
                        "\r",
                        "  6%|\u2588\u2588\u2588\u2588\u258e                                                                | 62/1000 [00:15<03:22,  4.62it/s]"
                    ]
                },
                {
                    "name": "stderr",
                    "output_type": "stream",
                    "text": [
                        "\r",
                        "  6%|\u2588\u2588\u2588\u2588\u258e                                                                | 63/1000 [00:16<03:46,  4.13it/s]"
                    ]
                },
                {
                    "name": "stderr",
                    "output_type": "stream",
                    "text": [
                        "\r",
                        "  6%|\u2588\u2588\u2588\u2588\u258d                                                                | 64/1000 [00:16<04:15,  3.67it/s]"
                    ]
                },
                {
                    "name": "stderr",
                    "output_type": "stream",
                    "text": [
                        "\r",
                        "  6%|\u2588\u2588\u2588\u2588\u258d                                                                | 65/1000 [00:16<03:47,  4.11it/s]"
                    ]
                },
                {
                    "name": "stderr",
                    "output_type": "stream",
                    "text": [
                        "\r",
                        "  7%|\u2588\u2588\u2588\u2588\u258c                                                                | 66/1000 [00:16<03:40,  4.23it/s]"
                    ]
                },
                {
                    "name": "stderr",
                    "output_type": "stream",
                    "text": [
                        "\r",
                        "  7%|\u2588\u2588\u2588\u2588\u258c                                                                | 67/1000 [00:17<03:23,  4.57it/s]"
                    ]
                },
                {
                    "name": "stderr",
                    "output_type": "stream",
                    "text": [
                        "\r",
                        "  7%|\u2588\u2588\u2588\u2588\u258b                                                                | 68/1000 [00:17<03:21,  4.64it/s]"
                    ]
                },
                {
                    "name": "stderr",
                    "output_type": "stream",
                    "text": [
                        "\r",
                        "  7%|\u2588\u2588\u2588\u2588\u258a                                                                | 69/1000 [00:17<03:28,  4.46it/s]"
                    ]
                },
                {
                    "name": "stderr",
                    "output_type": "stream",
                    "text": [
                        "\r",
                        "  7%|\u2588\u2588\u2588\u2588\u258a                                                                | 70/1000 [00:17<03:14,  4.77it/s]"
                    ]
                },
                {
                    "name": "stderr",
                    "output_type": "stream",
                    "text": [
                        "\r",
                        "  7%|\u2588\u2588\u2588\u2588\u2589                                                                | 71/1000 [00:17<03:04,  5.03it/s]"
                    ]
                },
                {
                    "name": "stderr",
                    "output_type": "stream",
                    "text": [
                        "\r",
                        "  7%|\u2588\u2588\u2588\u2588\u2589                                                                | 72/1000 [00:18<02:59,  5.17it/s]"
                    ]
                },
                {
                    "name": "stderr",
                    "output_type": "stream",
                    "text": [
                        "\r",
                        "  7%|\u2588\u2588\u2588\u2588\u2588                                                                | 73/1000 [00:18<03:10,  4.86it/s]"
                    ]
                },
                {
                    "name": "stderr",
                    "output_type": "stream",
                    "text": [
                        "\r",
                        "  7%|\u2588\u2588\u2588\u2588\u2588                                                                | 74/1000 [00:18<03:02,  5.09it/s]"
                    ]
                },
                {
                    "name": "stderr",
                    "output_type": "stream",
                    "text": [
                        "\r",
                        "  8%|\u2588\u2588\u2588\u2588\u2588\u258f                                                               | 75/1000 [00:18<03:02,  5.06it/s]"
                    ]
                },
                {
                    "name": "stderr",
                    "output_type": "stream",
                    "text": [
                        "\r",
                        "  8%|\u2588\u2588\u2588\u2588\u2588\u258f                                                               | 76/1000 [00:18<02:56,  5.23it/s]"
                    ]
                },
                {
                    "name": "stderr",
                    "output_type": "stream",
                    "text": [
                        "\r",
                        "  8%|\u2588\u2588\u2588\u2588\u2588\u258e                                                               | 77/1000 [00:19<03:11,  4.81it/s]"
                    ]
                },
                {
                    "name": "stderr",
                    "output_type": "stream",
                    "text": [
                        "\r",
                        "  8%|\u2588\u2588\u2588\u2588\u2588\u258d                                                               | 78/1000 [00:19<03:09,  4.86it/s]"
                    ]
                },
                {
                    "name": "stderr",
                    "output_type": "stream",
                    "text": [
                        "\r",
                        "  8%|\u2588\u2588\u2588\u2588\u2588\u258d                                                               | 79/1000 [00:19<03:00,  5.09it/s]"
                    ]
                },
                {
                    "name": "stderr",
                    "output_type": "stream",
                    "text": [
                        "\r",
                        "  8%|\u2588\u2588\u2588\u2588\u2588\u258c                                                               | 80/1000 [00:19<03:14,  4.74it/s]"
                    ]
                },
                {
                    "name": "stderr",
                    "output_type": "stream",
                    "text": [
                        "\r",
                        "  8%|\u2588\u2588\u2588\u2588\u2588\u258c                                                               | 81/1000 [00:20<03:41,  4.16it/s]"
                    ]
                },
                {
                    "name": "stderr",
                    "output_type": "stream",
                    "text": [
                        "\r",
                        "  8%|\u2588\u2588\u2588\u2588\u2588\u258b                                                               | 82/1000 [00:20<03:22,  4.53it/s]"
                    ]
                },
                {
                    "name": "stderr",
                    "output_type": "stream",
                    "text": [
                        "\r",
                        "  8%|\u2588\u2588\u2588\u2588\u2588\u258b                                                               | 83/1000 [00:20<03:12,  4.75it/s]"
                    ]
                },
                {
                    "name": "stderr",
                    "output_type": "stream",
                    "text": [
                        "\r",
                        "  8%|\u2588\u2588\u2588\u2588\u2588\u258a                                                               | 84/1000 [00:20<03:04,  4.97it/s]"
                    ]
                },
                {
                    "name": "stderr",
                    "output_type": "stream",
                    "text": [
                        "\r",
                        "  8%|\u2588\u2588\u2588\u2588\u2588\u258a                                                               | 85/1000 [00:20<02:57,  5.16it/s]"
                    ]
                },
                {
                    "name": "stderr",
                    "output_type": "stream",
                    "text": [
                        "\r",
                        "  9%|\u2588\u2588\u2588\u2588\u2588\u2589                                                               | 86/1000 [00:21<02:59,  5.08it/s]"
                    ]
                },
                {
                    "name": "stderr",
                    "output_type": "stream",
                    "text": [
                        "\r",
                        "  9%|\u2588\u2588\u2588\u2588\u2588\u2588                                                               | 87/1000 [00:21<03:13,  4.73it/s]"
                    ]
                },
                {
                    "name": "stderr",
                    "output_type": "stream",
                    "text": [
                        "\r",
                        "  9%|\u2588\u2588\u2588\u2588\u2588\u2588                                                               | 88/1000 [00:21<03:31,  4.31it/s]"
                    ]
                },
                {
                    "name": "stderr",
                    "output_type": "stream",
                    "text": [
                        "\r",
                        "  9%|\u2588\u2588\u2588\u2588\u2588\u2588\u258f                                                              | 89/1000 [00:21<03:41,  4.11it/s]"
                    ]
                },
                {
                    "name": "stderr",
                    "output_type": "stream",
                    "text": [
                        "\r",
                        "  9%|\u2588\u2588\u2588\u2588\u2588\u2588\u258f                                                              | 90/1000 [00:22<03:29,  4.34it/s]"
                    ]
                },
                {
                    "name": "stderr",
                    "output_type": "stream",
                    "text": [
                        "\r",
                        "  9%|\u2588\u2588\u2588\u2588\u2588\u2588\u258e                                                              | 91/1000 [00:22<03:20,  4.53it/s]"
                    ]
                },
                {
                    "name": "stderr",
                    "output_type": "stream",
                    "text": [
                        "\r",
                        "  9%|\u2588\u2588\u2588\u2588\u2588\u2588\u258e                                                              | 92/1000 [00:22<04:00,  3.77it/s]"
                    ]
                },
                {
                    "name": "stderr",
                    "output_type": "stream",
                    "text": [
                        "\r",
                        "  9%|\u2588\u2588\u2588\u2588\u2588\u2588\u258d                                                              | 93/1000 [00:22<03:35,  4.20it/s]"
                    ]
                },
                {
                    "name": "stderr",
                    "output_type": "stream",
                    "text": [
                        "\r",
                        "  9%|\u2588\u2588\u2588\u2588\u2588\u2588\u258d                                                              | 94/1000 [00:23<03:45,  4.02it/s]"
                    ]
                },
                {
                    "name": "stderr",
                    "output_type": "stream",
                    "text": [
                        "\r",
                        " 10%|\u2588\u2588\u2588\u2588\u2588\u2588\u258c                                                              | 95/1000 [00:23<03:53,  3.88it/s]"
                    ]
                },
                {
                    "name": "stderr",
                    "output_type": "stream",
                    "text": [
                        "\r",
                        " 10%|\u2588\u2588\u2588\u2588\u2588\u2588\u258c                                                              | 96/1000 [00:23<03:50,  3.93it/s]"
                    ]
                },
                {
                    "name": "stderr",
                    "output_type": "stream",
                    "text": [
                        "\r",
                        " 10%|\u2588\u2588\u2588\u2588\u2588\u2588\u258b                                                              | 97/1000 [00:23<03:28,  4.34it/s]"
                    ]
                },
                {
                    "name": "stderr",
                    "output_type": "stream",
                    "text": [
                        "\r",
                        " 10%|\u2588\u2588\u2588\u2588\u2588\u2588\u258a                                                              | 98/1000 [00:23<03:12,  4.68it/s]"
                    ]
                },
                {
                    "name": "stderr",
                    "output_type": "stream",
                    "text": [
                        "\r",
                        " 10%|\u2588\u2588\u2588\u2588\u2588\u2588\u258a                                                              | 99/1000 [00:24<03:01,  4.95it/s]"
                    ]
                },
                {
                    "name": "stderr",
                    "output_type": "stream",
                    "text": [
                        "\r",
                        " 10%|\u2588\u2588\u2588\u2588\u2588\u2588\u258a                                                             | 100/1000 [00:24<03:13,  4.65it/s]"
                    ]
                },
                {
                    "name": "stderr",
                    "output_type": "stream",
                    "text": [
                        "\r",
                        " 10%|\u2588\u2588\u2588\u2588\u2588\u2588\u258a                                                             | 101/1000 [00:24<03:21,  4.46it/s]"
                    ]
                },
                {
                    "name": "stderr",
                    "output_type": "stream",
                    "text": [
                        "\r",
                        " 10%|\u2588\u2588\u2588\u2588\u2588\u2588\u2589                                                             | 102/1000 [00:24<03:24,  4.40it/s]"
                    ]
                },
                {
                    "name": "stderr",
                    "output_type": "stream",
                    "text": [
                        "\r",
                        " 10%|\u2588\u2588\u2588\u2588\u2588\u2588\u2588                                                             | 103/1000 [00:25<03:29,  4.29it/s]"
                    ]
                },
                {
                    "name": "stderr",
                    "output_type": "stream",
                    "text": [
                        "\r",
                        " 10%|\u2588\u2588\u2588\u2588\u2588\u2588\u2588                                                             | 104/1000 [00:25<03:12,  4.66it/s]"
                    ]
                },
                {
                    "name": "stderr",
                    "output_type": "stream",
                    "text": [
                        "\r",
                        " 10%|\u2588\u2588\u2588\u2588\u2588\u2588\u2588\u258f                                                            | 105/1000 [00:25<03:01,  4.94it/s]"
                    ]
                },
                {
                    "name": "stderr",
                    "output_type": "stream",
                    "text": [
                        "\r",
                        " 11%|\u2588\u2588\u2588\u2588\u2588\u2588\u2588\u258f                                                            | 106/1000 [00:25<02:53,  5.16it/s]"
                    ]
                },
                {
                    "name": "stderr",
                    "output_type": "stream",
                    "text": [
                        "\r",
                        " 11%|\u2588\u2588\u2588\u2588\u2588\u2588\u2588\u258e                                                            | 107/1000 [00:25<03:09,  4.71it/s]"
                    ]
                },
                {
                    "name": "stderr",
                    "output_type": "stream",
                    "text": [
                        "\r",
                        " 11%|\u2588\u2588\u2588\u2588\u2588\u2588\u2588\u258e                                                            | 108/1000 [00:26<03:24,  4.35it/s]"
                    ]
                },
                {
                    "name": "stderr",
                    "output_type": "stream",
                    "text": [
                        "\r",
                        " 11%|\u2588\u2588\u2588\u2588\u2588\u2588\u2588\u258d                                                            | 109/1000 [00:26<03:10,  4.69it/s]"
                    ]
                },
                {
                    "name": "stderr",
                    "output_type": "stream",
                    "text": [
                        "\r",
                        " 11%|\u2588\u2588\u2588\u2588\u2588\u2588\u2588\u258d                                                            | 110/1000 [00:26<02:59,  4.96it/s]"
                    ]
                },
                {
                    "name": "stderr",
                    "output_type": "stream",
                    "text": [
                        "\r",
                        " 11%|\u2588\u2588\u2588\u2588\u2588\u2588\u2588\u258c                                                            | 111/1000 [00:26<02:52,  5.17it/s]"
                    ]
                },
                {
                    "name": "stderr",
                    "output_type": "stream",
                    "text": [
                        "\r",
                        " 11%|\u2588\u2588\u2588\u2588\u2588\u2588\u2588\u258c                                                            | 112/1000 [00:26<02:46,  5.33it/s]"
                    ]
                },
                {
                    "name": "stderr",
                    "output_type": "stream",
                    "text": [
                        "\r",
                        " 11%|\u2588\u2588\u2588\u2588\u2588\u2588\u2588\u258b                                                            | 113/1000 [00:26<02:42,  5.46it/s]"
                    ]
                },
                {
                    "name": "stderr",
                    "output_type": "stream",
                    "text": [
                        "\r",
                        " 11%|\u2588\u2588\u2588\u2588\u2588\u2588\u2588\u258a                                                            | 114/1000 [00:27<02:39,  5.55it/s]"
                    ]
                },
                {
                    "name": "stderr",
                    "output_type": "stream",
                    "text": [
                        "\r",
                        " 12%|\u2588\u2588\u2588\u2588\u2588\u2588\u2588\u258a                                                            | 115/1000 [00:27<02:37,  5.61it/s]"
                    ]
                },
                {
                    "name": "stderr",
                    "output_type": "stream",
                    "text": [
                        "\r",
                        " 12%|\u2588\u2588\u2588\u2588\u2588\u2588\u2588\u2589                                                            | 116/1000 [00:27<02:49,  5.21it/s]"
                    ]
                },
                {
                    "name": "stderr",
                    "output_type": "stream",
                    "text": [
                        "\r",
                        " 12%|\u2588\u2588\u2588\u2588\u2588\u2588\u2588\u2589                                                            | 117/1000 [00:27<03:04,  4.79it/s]"
                    ]
                },
                {
                    "name": "stderr",
                    "output_type": "stream",
                    "text": [
                        "\r",
                        " 12%|\u2588\u2588\u2588\u2588\u2588\u2588\u2588\u2588                                                            | 118/1000 [00:27<02:54,  5.06it/s]"
                    ]
                },
                {
                    "name": "stderr",
                    "output_type": "stream",
                    "text": [
                        "\r",
                        " 12%|\u2588\u2588\u2588\u2588\u2588\u2588\u2588\u2588                                                            | 119/1000 [00:28<02:47,  5.25it/s]"
                    ]
                },
                {
                    "name": "stderr",
                    "output_type": "stream",
                    "text": [
                        "\r",
                        " 12%|\u2588\u2588\u2588\u2588\u2588\u2588\u2588\u2588\u258f                                                           | 120/1000 [00:28<03:04,  4.76it/s]"
                    ]
                },
                {
                    "name": "stderr",
                    "output_type": "stream",
                    "text": [
                        "\r",
                        " 12%|\u2588\u2588\u2588\u2588\u2588\u2588\u2588\u2588\u258f                                                           | 121/1000 [00:28<02:57,  4.95it/s]"
                    ]
                },
                {
                    "name": "stderr",
                    "output_type": "stream",
                    "text": [
                        "\r",
                        " 12%|\u2588\u2588\u2588\u2588\u2588\u2588\u2588\u2588\u258e                                                           | 122/1000 [00:28<02:49,  5.17it/s]"
                    ]
                },
                {
                    "name": "stderr",
                    "output_type": "stream",
                    "text": [
                        "\r",
                        " 12%|\u2588\u2588\u2588\u2588\u2588\u2588\u2588\u2588\u258e                                                           | 123/1000 [00:28<02:44,  5.33it/s]"
                    ]
                },
                {
                    "name": "stderr",
                    "output_type": "stream",
                    "text": [
                        "\r",
                        " 12%|\u2588\u2588\u2588\u2588\u2588\u2588\u2588\u2588\u258d                                                           | 124/1000 [00:29<02:40,  5.45it/s]"
                    ]
                },
                {
                    "name": "stderr",
                    "output_type": "stream",
                    "text": [
                        "\r",
                        " 12%|\u2588\u2588\u2588\u2588\u2588\u2588\u2588\u2588\u258c                                                           | 125/1000 [00:29<03:03,  4.78it/s]"
                    ]
                },
                {
                    "name": "stderr",
                    "output_type": "stream",
                    "text": [
                        "\r",
                        " 13%|\u2588\u2588\u2588\u2588\u2588\u2588\u2588\u2588\u258c                                                           | 126/1000 [00:29<02:53,  5.04it/s]"
                    ]
                },
                {
                    "name": "stderr",
                    "output_type": "stream",
                    "text": [
                        "\r",
                        " 13%|\u2588\u2588\u2588\u2588\u2588\u2588\u2588\u2588\u258b                                                           | 127/1000 [00:29<02:46,  5.24it/s]"
                    ]
                },
                {
                    "name": "stderr",
                    "output_type": "stream",
                    "text": [
                        "\r",
                        " 13%|\u2588\u2588\u2588\u2588\u2588\u2588\u2588\u2588\u258b                                                           | 128/1000 [00:29<02:41,  5.39it/s]"
                    ]
                },
                {
                    "name": "stderr",
                    "output_type": "stream",
                    "text": [
                        "\r",
                        " 13%|\u2588\u2588\u2588\u2588\u2588\u2588\u2588\u2588\u258a                                                           | 129/1000 [00:30<02:38,  5.49it/s]"
                    ]
                },
                {
                    "name": "stderr",
                    "output_type": "stream",
                    "text": [
                        "\r",
                        " 13%|\u2588\u2588\u2588\u2588\u2588\u2588\u2588\u2588\u258a                                                           | 130/1000 [00:30<03:29,  4.14it/s]"
                    ]
                },
                {
                    "name": "stderr",
                    "output_type": "stream",
                    "text": [
                        "\r",
                        " 13%|\u2588\u2588\u2588\u2588\u2588\u2588\u2588\u2588\u2589                                                           | 131/1000 [00:30<03:12,  4.52it/s]"
                    ]
                },
                {
                    "name": "stderr",
                    "output_type": "stream",
                    "text": [
                        "\r",
                        " 13%|\u2588\u2588\u2588\u2588\u2588\u2588\u2588\u2588\u2589                                                           | 132/1000 [00:30<03:17,  4.40it/s]"
                    ]
                },
                {
                    "name": "stderr",
                    "output_type": "stream",
                    "text": [
                        "\r",
                        " 13%|\u2588\u2588\u2588\u2588\u2588\u2588\u2588\u2588\u2588                                                           | 133/1000 [00:31<03:30,  4.12it/s]"
                    ]
                },
                {
                    "name": "stderr",
                    "output_type": "stream",
                    "text": [
                        "\r",
                        " 13%|\u2588\u2588\u2588\u2588\u2588\u2588\u2588\u2588\u2588                                                           | 134/1000 [00:31<04:21,  3.32it/s]"
                    ]
                },
                {
                    "name": "stderr",
                    "output_type": "stream",
                    "text": [
                        "\r",
                        " 14%|\u2588\u2588\u2588\u2588\u2588\u2588\u2588\u2588\u2588\u258f                                                          | 135/1000 [00:31<03:48,  3.79it/s]"
                    ]
                },
                {
                    "name": "stderr",
                    "output_type": "stream",
                    "text": [
                        "\r",
                        " 14%|\u2588\u2588\u2588\u2588\u2588\u2588\u2588\u2588\u2588\u258f                                                          | 136/1000 [00:31<03:43,  3.86it/s]"
                    ]
                },
                {
                    "name": "stderr",
                    "output_type": "stream",
                    "text": [
                        "\r",
                        " 14%|\u2588\u2588\u2588\u2588\u2588\u2588\u2588\u2588\u2588\u258e                                                          | 137/1000 [00:32<04:01,  3.57it/s]"
                    ]
                },
                {
                    "name": "stderr",
                    "output_type": "stream",
                    "text": [
                        "\r",
                        " 14%|\u2588\u2588\u2588\u2588\u2588\u2588\u2588\u2588\u2588\u258d                                                          | 138/1000 [00:32<03:33,  4.03it/s]"
                    ]
                },
                {
                    "name": "stderr",
                    "output_type": "stream",
                    "text": [
                        "\r",
                        " 14%|\u2588\u2588\u2588\u2588\u2588\u2588\u2588\u2588\u2588\u258d                                                          | 139/1000 [00:32<03:37,  3.95it/s]"
                    ]
                },
                {
                    "name": "stderr",
                    "output_type": "stream",
                    "text": [
                        "\r",
                        " 14%|\u2588\u2588\u2588\u2588\u2588\u2588\u2588\u2588\u2588\u258c                                                          | 140/1000 [00:33<03:58,  3.61it/s]"
                    ]
                },
                {
                    "name": "stderr",
                    "output_type": "stream",
                    "text": [
                        "\r",
                        " 14%|\u2588\u2588\u2588\u2588\u2588\u2588\u2588\u2588\u2588\u258c                                                          | 141/1000 [00:33<03:49,  3.74it/s]"
                    ]
                },
                {
                    "name": "stderr",
                    "output_type": "stream",
                    "text": [
                        "\r",
                        " 14%|\u2588\u2588\u2588\u2588\u2588\u2588\u2588\u2588\u2588\u258b                                                          | 142/1000 [00:33<03:44,  3.82it/s]"
                    ]
                },
                {
                    "name": "stderr",
                    "output_type": "stream",
                    "text": [
                        "\r",
                        " 14%|\u2588\u2588\u2588\u2588\u2588\u2588\u2588\u2588\u2588\u258b                                                          | 143/1000 [00:33<03:40,  3.89it/s]"
                    ]
                },
                {
                    "name": "stderr",
                    "output_type": "stream",
                    "text": [
                        "\r",
                        " 14%|\u2588\u2588\u2588\u2588\u2588\u2588\u2588\u2588\u2588\u258a                                                          | 144/1000 [00:34<03:57,  3.61it/s]"
                    ]
                },
                {
                    "name": "stderr",
                    "output_type": "stream",
                    "text": [
                        "\r",
                        " 14%|\u2588\u2588\u2588\u2588\u2588\u2588\u2588\u2588\u2588\u258a                                                          | 145/1000 [00:34<03:31,  4.05it/s]"
                    ]
                },
                {
                    "name": "stderr",
                    "output_type": "stream",
                    "text": [
                        "\r",
                        " 15%|\u2588\u2588\u2588\u2588\u2588\u2588\u2588\u2588\u2588\u2589                                                          | 146/1000 [00:34<03:12,  4.43it/s]"
                    ]
                },
                {
                    "name": "stderr",
                    "output_type": "stream",
                    "text": [
                        "\r",
                        " 15%|\u2588\u2588\u2588\u2588\u2588\u2588\u2588\u2588\u2588\u2589                                                          | 147/1000 [00:34<03:17,  4.32it/s]"
                    ]
                },
                {
                    "name": "stderr",
                    "output_type": "stream",
                    "text": [
                        "\r",
                        " 15%|\u2588\u2588\u2588\u2588\u2588\u2588\u2588\u2588\u2588\u2588                                                          | 148/1000 [00:34<03:21,  4.22it/s]"
                    ]
                },
                {
                    "name": "stderr",
                    "output_type": "stream",
                    "text": [
                        "\r",
                        " 15%|\u2588\u2588\u2588\u2588\u2588\u2588\u2588\u2588\u2588\u2588\u258f                                                         | 149/1000 [00:35<03:05,  4.58it/s]"
                    ]
                },
                {
                    "name": "stderr",
                    "output_type": "stream",
                    "text": [
                        "\r",
                        " 15%|\u2588\u2588\u2588\u2588\u2588\u2588\u2588\u2588\u2588\u2588\u258f                                                         | 150/1000 [00:35<02:54,  4.86it/s]"
                    ]
                },
                {
                    "name": "stderr",
                    "output_type": "stream",
                    "text": [
                        "\r",
                        " 15%|\u2588\u2588\u2588\u2588\u2588\u2588\u2588\u2588\u2588\u2588\u258e                                                         | 151/1000 [00:35<02:47,  5.08it/s]"
                    ]
                },
                {
                    "name": "stderr",
                    "output_type": "stream",
                    "text": [
                        "\r",
                        " 15%|\u2588\u2588\u2588\u2588\u2588\u2588\u2588\u2588\u2588\u2588\u258e                                                         | 152/1000 [00:35<02:51,  4.94it/s]"
                    ]
                },
                {
                    "name": "stderr",
                    "output_type": "stream",
                    "text": [
                        "\r",
                        " 15%|\u2588\u2588\u2588\u2588\u2588\u2588\u2588\u2588\u2588\u2588\u258d                                                         | 153/1000 [00:35<03:02,  4.64it/s]"
                    ]
                },
                {
                    "name": "stderr",
                    "output_type": "stream",
                    "text": [
                        "\r",
                        " 15%|\u2588\u2588\u2588\u2588\u2588\u2588\u2588\u2588\u2588\u2588\u258d                                                         | 154/1000 [00:36<03:02,  4.64it/s]"
                    ]
                },
                {
                    "name": "stderr",
                    "output_type": "stream",
                    "text": [
                        "\r",
                        " 16%|\u2588\u2588\u2588\u2588\u2588\u2588\u2588\u2588\u2588\u2588\u258c                                                         | 155/1000 [00:36<02:51,  4.92it/s]"
                    ]
                },
                {
                    "name": "stderr",
                    "output_type": "stream",
                    "text": [
                        "\r",
                        " 16%|\u2588\u2588\u2588\u2588\u2588\u2588\u2588\u2588\u2588\u2588\u258c                                                         | 156/1000 [00:36<03:02,  4.63it/s]"
                    ]
                },
                {
                    "name": "stderr",
                    "output_type": "stream",
                    "text": [
                        "\r",
                        " 16%|\u2588\u2588\u2588\u2588\u2588\u2588\u2588\u2588\u2588\u2588\u258b                                                         | 157/1000 [00:36<03:09,  4.45it/s]"
                    ]
                },
                {
                    "name": "stderr",
                    "output_type": "stream",
                    "text": [
                        "\r",
                        " 16%|\u2588\u2588\u2588\u2588\u2588\u2588\u2588\u2588\u2588\u2588\u258b                                                         | 158/1000 [00:37<02:57,  4.74it/s]"
                    ]
                },
                {
                    "name": "stderr",
                    "output_type": "stream",
                    "text": [
                        "\r",
                        " 16%|\u2588\u2588\u2588\u2588\u2588\u2588\u2588\u2588\u2588\u2588\u258a                                                         | 159/1000 [00:37<02:57,  4.74it/s]"
                    ]
                },
                {
                    "name": "stderr",
                    "output_type": "stream",
                    "text": [
                        "\r",
                        " 16%|\u2588\u2588\u2588\u2588\u2588\u2588\u2588\u2588\u2588\u2588\u2589                                                         | 160/1000 [00:37<03:08,  4.45it/s]"
                    ]
                },
                {
                    "name": "stderr",
                    "output_type": "stream",
                    "text": [
                        "\r",
                        " 16%|\u2588\u2588\u2588\u2588\u2588\u2588\u2588\u2588\u2588\u2588\u2589                                                         | 160/1000 [00:37<03:17,  4.26it/s]"
                    ]
                },
                {
                    "name": "stderr",
                    "output_type": "stream",
                    "text": [
                        "\n"
                    ]
                }
            ],
            "source": [
                "# do 1000 trials of sampling from each PCA component distribution\n",
                "# from the distribution of each PCA component, randomly sample 1000 points and calculate the mahalanobis distance\n",
                "\n",
                "# set the output mean Mahalanobis distance lists per genotype\n",
                "mean_high_severity_sampled_mahalanobis_distances_from_trials = []\n",
                "mean_low_severity_sampled_mahalanobis_distances_from_trials = []\n",
                "mean_wt_sampled_mahalanobis_distances_from_trials = []\n",
                "\n",
                "# sample 1000 points from the distribution of each PCA component\n",
                "num_pca_components = high_severity_pca_component_distribution_std.shape[0]\n",
                "num_samples = 100\n",
                "num_trials = 1000\n",
                "\n",
                "for trial in tqdm.tqdm(range(num_trials)):\n",
                "    high_severity_sampled_points = pd.DataFrame()\n",
                "    low_severity_sampled_points = pd.DataFrame()\n",
                "    wt_sampled_points = pd.DataFrame()\n",
                "\n",
                "    for i in range(num_pca_components):\n",
                "        high_severity_sampled_points[f\"PC{i+1}\"] = np.random.normal(\n",
                "            loc=high_severity_pca_component_distribution_mean[i],\n",
                "            scale=high_severity_pca_component_distribution_std[i],\n",
                "            size=num_samples,\n",
                "        )\n",
                "        low_severity_sampled_points[f\"PC{i+1}\"] = np.random.normal(\n",
                "            loc=low_severity_pca_component_distribution_mean[i],\n",
                "            scale=low_severity_pca_component_distribution_std[i],\n",
                "            size=num_samples,\n",
                "        )\n",
                "        wt_sampled_points[f\"PC{i+1}\"] = np.random.normal(\n",
                "            loc=wt_pca_component_distribution_mean[i],\n",
                "            scale=wt_pca_component_distribution_std[i],\n",
                "            size=num_samples,\n",
                "        )\n",
                "\n",
                "    inv_cov_matrix = np.linalg.inv(\n",
                "        np.cov(high_severity_sampled_points.to_numpy(), rowvar=False)\n",
                "    )\n",
                "    # calculate the mahalanobis distance for each point within each genotype\n",
                "    high_severity_sampled_mahalanobis_distances = []\n",
                "    # calculate the mahalanobis distance for each point combination\n",
                "    for point in itertools.combinations(high_severity_sampled_points.to_numpy(), 2):\n",
                "        distance = mahalanobis(point[0], point[1], inv_cov_matrix)\n",
                "        if np.isnan(distance):  # Check for NaN values\n",
                "            continue\n",
                "        high_severity_sampled_mahalanobis_distances.append(distance)\n",
                "\n",
                "    mean_high_severity_sampled_mahalanobis_distance = np.mean(\n",
                "        high_severity_sampled_mahalanobis_distances\n",
                "    )\n",
                "\n",
                "    inv_cov_matrix = np.linalg.inv(\n",
                "        np.cov(low_severity_sampled_points.to_numpy(), rowvar=False)\n",
                "    )\n",
                "    # calculate the mahalanobis distance for each point within each genotype\n",
                "    low_severity_sampled_mahalanobis_distances = []\n",
                "    # calculate the mahalanobis distance for each point combination\n",
                "    for point in itertools.combinations(low_severity_sampled_points.to_numpy(), 2):\n",
                "        distance = mahalanobis(point[0], point[1], inv_cov_matrix)\n",
                "        if np.isnan(distance):  # Check for NaN values\n",
                "            continue\n",
                "        low_severity_sampled_mahalanobis_distances.append(distance)\n",
                "\n",
                "    mean_low_severity_sampled_mahalanobis_distance = np.mean(\n",
                "        low_severity_sampled_mahalanobis_distances\n",
                "    )\n",
                "\n",
                "    inv_cov_matrix = np.linalg.inv(np.cov(wt_sampled_points.to_numpy(), rowvar=False))\n",
                "    # calculate the mahalanobis distance for each point within each genotype\n",
                "    wt_sampled_mahalanobis_distances = []\n",
                "    # calculate the mahalanobis distance for each point combination\n",
                "    for point in itertools.combinations(wt_sampled_points.to_numpy(), 2):\n",
                "        distance = mahalanobis(point[0], point[1], inv_cov_matrix)\n",
                "        if np.isnan(distance):  # Check for NaN values\n",
                "            continue\n",
                "        wt_sampled_mahalanobis_distances.append(distance)\n",
                "\n",
                "    mean_wt_sampled_mahalanobis_distance = np.mean(wt_sampled_mahalanobis_distances)\n",
                "\n",
                "    # append the average mahalanobis distance from the trial to the list for the trial per genotype\n",
                "    mean_high_severity_sampled_mahalanobis_distances_from_trials.append(\n",
                "        mean_high_severity_sampled_mahalanobis_distance\n",
                "    )\n",
                "    mean_low_severity_sampled_mahalanobis_distances_from_trials.append(\n",
                "        mean_low_severity_sampled_mahalanobis_distance\n",
                "    )\n",
                "    mean_wt_sampled_mahalanobis_distances_from_trials.append(\n",
                "        mean_wt_sampled_mahalanobis_distance\n",
                "    )"
            ]
        },
        {
            "cell_type": "code",
            "execution_count": null,
            "id": "a0661e87",
            "metadata": {
                "execution": {
                    "iopub.execute_input": "2024-11-07T18:19:48.574561Z",
                    "iopub.status.busy": "2024-11-07T18:19:48.574226Z",
                    "iopub.status.idle": "2024-11-07T18:19:48.577320Z",
                    "shell.execute_reply": "2024-11-07T18:19:48.577025Z"
                },
                "papermill": {
                    "duration": null,
                    "end_time": null,
                    "exception": null,
                    "start_time": null,
                    "status": "completed"
                },
                "tags": []
            },
            "outputs": [],
            "source": [
                "print(\n",
                "    f\"The high Mahalonobis distance for {num_trials} trials is: {round(np.mean(mean_high_severity_sampled_mahalanobis_distances_from_trials),0)}\"\n",
                ")\n",
                "print(\n",
                "    f\"The low Mahalonobis distance for {num_trials} trials is: {round(np.mean(mean_low_severity_sampled_mahalanobis_distances_from_trials),0)}\"\n",
                ")\n",
                "print(\n",
                "    f\"The wt Mahalonobis distance for {num_trials} trials is: {round(np.mean(mean_wt_sampled_mahalanobis_distances_from_trials),0)}\"\n",
                ")"
            ]
        },
        {
            "cell_type": "markdown",
            "id": "815b425c",
            "metadata": {
                "papermill": {
                    "duration": null,
                    "end_time": null,
                    "exception": null,
                    "start_time": null,
                    "status": "completed"
                },
                "tags": []
            },
            "source": [
                "### Show the mahalanobis distance for each genotype"
            ]
        },
        {
            "cell_type": "code",
            "execution_count": null,
            "id": "85c30be8",
            "metadata": {
                "execution": {
                    "iopub.execute_input": "2024-11-07T18:19:48.692854Z",
                    "iopub.status.busy": "2024-11-07T18:19:48.692600Z",
                    "iopub.status.idle": "2024-11-07T18:19:48.694958Z",
                    "shell.execute_reply": "2024-11-07T18:19:48.694653Z"
                },
                "papermill": {
                    "duration": null,
                    "end_time": null,
                    "exception": null,
                    "start_time": null,
                    "status": "completed"
                },
                "tags": []
            },
            "outputs": [],
            "source": [
                "print(\n",
                "    \"Mahalanobis distance for High-Severity: \", mean_high_severity_mahalanobis_distance\n",
                ")\n",
                "print(\"Mahalanobis distance for Low-Severity: \", mean_low_severity_mahalanobis_distance)\n",
                "print(\"Mahalanobis distance for Wild Type: \", mean_wt_mahalanobis_distance)"
            ]
        },
        {
            "cell_type": "code",
            "execution_count": null,
            "id": "a8f8881e",
            "metadata": {
                "execution": {
                    "iopub.execute_input": "2024-11-07T18:19:48.753245Z",
                    "iopub.status.busy": "2024-11-07T18:19:48.753112Z",
                    "iopub.status.idle": "2024-11-07T18:19:48.757813Z",
                    "shell.execute_reply": "2024-11-07T18:19:48.757475Z"
                },
                "papermill": {
                    "duration": null,
                    "end_time": null,
                    "exception": null,
                    "start_time": null,
                    "status": "completed"
                },
                "tags": []
            },
            "outputs": [],
            "source": [
                "# hypothesis testing the difference between the Mahalanobis distance of the sampled points and the actual points\n",
                "# calculate the p-value for the difference between the Mahalanobis distance of the sampled points and the actual points\n",
                "\n",
                "high_severity_p_value = ttest_ind(\n",
                "    high_severity_mahalanobis_distances,\n",
                "    mean_high_severity_sampled_mahalanobis_distances_from_trials,\n",
                ").pvalue\n",
                "low_severity_p_value = ttest_ind(\n",
                "    low_severity_mahalanobis_distances,\n",
                "    mean_low_severity_sampled_mahalanobis_distances_from_trials,\n",
                ").pvalue\n",
                "wt_p_value = ttest_ind(\n",
                "    wt_mahalanobis_distances, mean_wt_sampled_mahalanobis_distances_from_trials\n",
                ").pvalue\n",
                "\n",
                "print(\n",
                "    f\"The p-value for the difference between the Mahalanobis distance of the sampled points and the actual points for the High-Severity genotype is {high_severity_p_value}\"\n",
                ")\n",
                "print(\n",
                "    f\"The p-value for the difference between the Mahalanobis distance of the sampled points and the actual points for the Low-Severity genotype is {low_severity_p_value}\"\n",
                ")\n",
                "print(\n",
                "    f\"The p-value for the difference between the Mahalanobis distance of the sampled points and the actual points for the Wild Type genotype is {wt_p_value}\"\n",
                ")"
            ]
        },
        {
            "cell_type": "code",
            "execution_count": null,
            "id": "c4dc9f07",
            "metadata": {
                "execution": {
                    "iopub.execute_input": "2024-11-07T18:19:48.815993Z",
                    "iopub.status.busy": "2024-11-07T18:19:48.815856Z",
                    "iopub.status.idle": "2024-11-07T18:19:48.967179Z",
                    "shell.execute_reply": "2024-11-07T18:19:48.966864Z"
                },
                "papermill": {
                    "duration": null,
                    "end_time": null,
                    "exception": null,
                    "start_time": null,
                    "status": "completed"
                },
                "tags": []
            },
            "outputs": [],
            "source": [
                "# anova test the mahalanobis distance between the genotypes\n",
                "anova_result_across_genotypes = anova(\n",
                "    high_severity_mahalanobis_distances,\n",
                "    low_severity_mahalanobis_distances,\n",
                "    wt_mahalanobis_distances,\n",
                ")\n",
                "\n",
                "print(\n",
                "    f\"The p-value for the ANOVA across the genotypes is {anova_result_across_genotypes.pvalue}\"\n",
                ")\n",
                "\n",
                "# tukeys HSD test for the mahalanobis distance between the genotypes\n",
                "tukeys_result_across_genotypes = pairwise_tukeyhsd(\n",
                "    np.concatenate(\n",
                "        [\n",
                "            high_severity_mahalanobis_distances,\n",
                "            low_severity_mahalanobis_distances,\n",
                "            wt_mahalanobis_distances,\n",
                "        ]\n",
                "    ),\n",
                "    np.concatenate(\n",
                "        [\n",
                "            [\"High Severity\"] * len(high_severity_mahalanobis_distances),\n",
                "            [\"Low Severity\"] * len(low_severity_mahalanobis_distances),\n",
                "            [\"Wild Type\"] * len(wt_mahalanobis_distances),\n",
                "        ]\n",
                "    ),\n",
                ")\n",
                "# get the tukeys HSD results as a dataframe\n",
                "tukeys_result_across_genotypes_df = pd.DataFrame(\n",
                "    data=tukeys_result_across_genotypes._results_table.data[1:],\n",
                "    columns=tukeys_result_across_genotypes._results_table.data[0],\n",
                ")\n",
                "tukeys_result_across_genotypes_df"
            ]
        },
        {
            "cell_type": "markdown",
            "id": "08245986",
            "metadata": {
                "papermill": {
                    "duration": null,
                    "end_time": null,
                    "exception": null,
                    "start_time": null,
                    "status": "completed"
                },
                "tags": []
            },
            "source": [
                "### write the Mahanobis distance stats to a file"
            ]
        },
        {
            "cell_type": "code",
            "execution_count": null,
            "id": "df4a29d6",
            "metadata": {
                "execution": {
                    "iopub.execute_input": "2024-11-07T18:19:49.082320Z",
                    "iopub.status.busy": "2024-11-07T18:19:49.082175Z",
                    "iopub.status.idle": "2024-11-07T18:19:49.090281Z",
                    "shell.execute_reply": "2024-11-07T18:19:49.089981Z"
                },
                "papermill": {
                    "duration": null,
                    "end_time": null,
                    "exception": null,
                    "start_time": null,
                    "status": "completed"
                },
                "tags": []
            },
            "outputs": [],
            "source": [
                "# set the output dir\n",
                "mahalanobis_output_dir = pathlib.Path(\"../results/mean_aggregated_results/\").resolve()\n",
                "# make the dir if it does not exist\n",
                "mahalanobis_output_dir.mkdir(parents=True, exist_ok=True)\n",
                "\n",
                "# define the output file path\n",
                "mahalanobis_output_file_path = pathlib.Path(\n",
                "    mahalanobis_output_dir / \"mean_aggregated_mahalanobis_distance_results.csv\"\n",
                ").resolve()\n",
                "\n",
                "# compile the results into a df\n",
                "mahalanobis_results_df = pd.DataFrame(\n",
                "    {\n",
                "        \"Genotype\": [\"High-Severity\", \"Low-Severity\", \"Wild Type\"],\n",
                "        \"Actual Mean Mahalanobis Distance\": [\n",
                "            mean_high_severity_mahalanobis_distance,\n",
                "            mean_low_severity_mahalanobis_distance,\n",
                "            mean_wt_mahalanobis_distance,\n",
                "        ],\n",
                "        \"Sampled Mean Mahalanobis Distance\": [\n",
                "            np.mean(mean_high_severity_sampled_mahalanobis_distances_from_trials),\n",
                "            np.mean(mean_low_severity_sampled_mahalanobis_distances_from_trials),\n",
                "            np.mean(mean_wt_sampled_mahalanobis_distances_from_trials),\n",
                "        ],\n",
                "        \"p-Value for Actual compared to sampled\": [\n",
                "            high_severity_p_value,\n",
                "            low_severity_p_value,\n",
                "            wt_p_value,\n",
                "        ],\n",
                "        \"ANOVA Compared to High-Severity p-adj\": [\n",
                "            \"NA\",\n",
                "            tukeys_result_across_genotypes_df.loc[0, \"p-adj\"],\n",
                "            tukeys_result_across_genotypes_df.loc[1, \"p-adj\"],\n",
                "        ],\n",
                "        \"ANOVA Compared to Low-Severity p-adj\": [\n",
                "            tukeys_result_across_genotypes_df.loc[0, \"p-adj\"],\n",
                "            \"NA\",\n",
                "            tukeys_result_across_genotypes_df.loc[2, \"p-adj\"],\n",
                "        ],\n",
                "        \"ANOVA Compared to Wild Type p-adj\": [\n",
                "            tukeys_result_across_genotypes_df.loc[1, \"p-adj\"],\n",
                "            tukeys_result_across_genotypes_df.loc[2, \"p-adj\"],\n",
                "            \"NA\",\n",
                "        ],\n",
                "    }\n",
                ")\n",
                "mahalanobis_results_df"
            ]
        },
        {
            "cell_type": "code",
            "execution_count": null,
            "id": "6c350c37",
            "metadata": {
                "execution": {
                    "iopub.execute_input": "2024-11-07T18:19:49.148679Z",
                    "iopub.status.busy": "2024-11-07T18:19:49.148534Z",
                    "iopub.status.idle": "2024-11-07T18:19:49.193925Z",
                    "shell.execute_reply": "2024-11-07T18:19:49.193512Z"
                },
                "papermill": {
                    "duration": null,
                    "end_time": null,
                    "exception": null,
                    "start_time": null,
                    "status": "completed"
                },
                "tags": []
            },
            "outputs": [],
            "source": [
                "# output the results\n",
                "mahalanobis_results_df.to_csv(mahalanobis_output_file_path, index=False)"
            ]
        },
        {
            "cell_type": "markdown",
            "id": "a3564a28",
            "metadata": {
                "papermill": {
                    "duration": null,
                    "end_time": null,
                    "exception": null,
                    "start_time": null,
                    "status": "completed"
                },
                "tags": []
            },
            "source": [
                "#### Visualization of the last trial's sampled points"
            ]
        },
        {
            "cell_type": "code",
            "execution_count": null,
            "id": "a84237a3",
            "metadata": {
                "execution": {
                    "iopub.execute_input": "2024-11-07T18:19:49.311061Z",
                    "iopub.status.busy": "2024-11-07T18:19:49.310900Z",
                    "iopub.status.idle": "2024-11-07T18:19:49.551210Z",
                    "shell.execute_reply": "2024-11-07T18:19:49.550746Z"
                },
                "papermill": {
                    "duration": null,
                    "end_time": null,
                    "exception": null,
                    "start_time": null,
                    "status": "completed"
                },
                "tags": []
            },
            "outputs": [],
            "source": [
                "# annotate the genotypes of the sampled points\n",
                "high_severity_sampled_points[\"Metadata_genotype\"] = \"High-Severity\"\n",
                "low_severity_sampled_points[\"Metadata_genotype\"] = \"Mid-Severity\"\n",
                "wt_sampled_points[\"Metadata_genotype\"] = \"Wild Type\"\n",
                "# concat the genotype sampled points\n",
                "sampled_points = pd.concat(\n",
                "    [wt_sampled_points, low_severity_sampled_points, high_severity_sampled_points]\n",
                ")\n",
                "\n",
                "# plot the first 2 PCA components from the actual data\n",
                "# set up subplots\n",
                "plt.figure(figsize=(10, 5))\n",
                "# subplot 1\n",
                "plt.subplot(1, 2, 1)\n",
                "sns.scatterplot(\n",
                "    x=\"PC1\",\n",
                "    y=\"PC2\",\n",
                "    data=mean_aggregated_data_pca,\n",
                "    hue=\"Metadata_genotype\",\n",
                "    alpha=0.5,\n",
                ")\n",
                "plt.title(\"Real PCA\")\n",
                "\n",
                "# plot the first 2 PCA components from the sampled data\n",
                "# subplot 2\n",
                "plt.subplot(1, 2, 2)\n",
                "sns.scatterplot(\n",
                "    x=\"PC1\",\n",
                "    y=\"PC2\",\n",
                "    data=sampled_points,\n",
                "    hue=\"Metadata_genotype\",\n",
                "    alpha=0.5,\n",
                ")\n",
                "plt.title(\"Sampled PCA\")\n",
                "plt.show()"
            ]
        }
    ],
    "metadata": {
        "kernelspec": {
            "display_name": "op_cell_processing_env",
            "language": "python",
            "name": "python3"
        },
        "language_info": {
            "codemirror_mode": {
                "name": "ipython",
                "version": 3
            },
            "file_extension": ".py",
            "mimetype": "text/x-python",
            "name": "python",
            "nbconvert_exporter": "python",
            "pygments_lexer": "ipython3",
            "version": "3.8.0"
        },
        "papermill": {
            "default_parameters": {},
            "duration": 39.901416,
            "end_time": "2024-11-26T17:17:29.595036",
            "environment_variables": {},
            "exception": null,
            "input_path": "8a.mean_aggregated_PCA_calculate_mahalanobis_distance.ipynb",
            "output_path": "8a.mean_aggregated_PCA_calculate_mahalanobis_distance.ipynb",
            "parameters": {},
            "start_time": "2024-11-26T17:16:49.693620",
            "version": "2.6.0"
        }
    },
    "nbformat": 4,
    "nbformat_minor": 5
}
