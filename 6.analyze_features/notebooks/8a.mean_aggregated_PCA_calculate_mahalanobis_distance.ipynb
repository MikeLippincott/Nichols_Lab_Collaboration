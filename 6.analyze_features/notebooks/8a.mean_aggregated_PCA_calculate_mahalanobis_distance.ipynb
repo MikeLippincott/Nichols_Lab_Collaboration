{
 "cells": [
  {
   "cell_type": "markdown",
   "id": "ab9209a8",
   "metadata": {
    "papermill": {
     "duration": 0.002517,
     "end_time": "2024-05-07T20:19:37.021655",
     "exception": false,
     "start_time": "2024-05-07T20:19:37.019138",
     "status": "completed"
    },
    "tags": []
   },
   "source": [
    "This notebook calculates the Mahalanobis distance between points on a pca. \n",
    "I will document more about what Mahalanobis distance is and how it is calculated in this notebook."
   ]
  },
  {
   "cell_type": "code",
   "execution_count": 1,
   "id": "fb0c127b",
   "metadata": {
    "execution": {
     "iopub.execute_input": "2024-05-07T20:19:37.025498Z",
     "iopub.status.busy": "2024-05-07T20:19:37.025331Z",
     "iopub.status.idle": "2024-05-07T20:19:37.240281Z",
     "shell.execute_reply": "2024-05-07T20:19:37.239852Z"
    },
    "papermill": {
     "duration": 0.218257,
     "end_time": "2024-05-07T20:19:37.241481",
     "exception": false,
     "start_time": "2024-05-07T20:19:37.023224",
     "status": "completed"
    },
    "tags": []
   },
   "outputs": [],
   "source": [
    "import itertools\n",
    "import pathlib\n",
    "\n",
    "import numpy as np\n",
    "import pandas as pd\n",
    "from scipy.spatial.distance import mahalanobis"
   ]
  },
  {
   "cell_type": "code",
   "execution_count": 2,
   "id": "3aaae5dd",
   "metadata": {
    "execution": {
     "iopub.execute_input": "2024-05-07T20:19:37.246401Z",
     "iopub.status.busy": "2024-05-07T20:19:37.246010Z",
     "iopub.status.idle": "2024-05-07T20:19:37.270414Z",
     "shell.execute_reply": "2024-05-07T20:19:37.270088Z"
    },
    "papermill": {
     "duration": 0.027893,
     "end_time": "2024-05-07T20:19:37.271217",
     "exception": false,
     "start_time": "2024-05-07T20:19:37.243324",
     "status": "completed"
    },
    "tags": []
   },
   "outputs": [
    {
     "name": "stdout",
     "output_type": "stream",
     "text": [
      "(42, 44)\n"
     ]
    },
    {
     "data": {
      "text/html": [
       "<div>\n",
       "<style scoped>\n",
       "    .dataframe tbody tr th:only-of-type {\n",
       "        vertical-align: middle;\n",
       "    }\n",
       "\n",
       "    .dataframe tbody tr th {\n",
       "        vertical-align: top;\n",
       "    }\n",
       "\n",
       "    .dataframe thead th {\n",
       "        text-align: right;\n",
       "    }\n",
       "</style>\n",
       "<table border=\"1\" class=\"dataframe\">\n",
       "  <thead>\n",
       "    <tr style=\"text-align: right;\">\n",
       "      <th></th>\n",
       "      <th>Metadata_genotype</th>\n",
       "      <th>Metadata_replicate</th>\n",
       "      <th>PC1</th>\n",
       "      <th>PC2</th>\n",
       "      <th>PC3</th>\n",
       "      <th>PC4</th>\n",
       "      <th>PC5</th>\n",
       "      <th>PC6</th>\n",
       "      <th>PC7</th>\n",
       "      <th>PC8</th>\n",
       "      <th>...</th>\n",
       "      <th>PC33</th>\n",
       "      <th>PC34</th>\n",
       "      <th>PC35</th>\n",
       "      <th>PC36</th>\n",
       "      <th>PC37</th>\n",
       "      <th>PC38</th>\n",
       "      <th>PC39</th>\n",
       "      <th>PC40</th>\n",
       "      <th>PC41</th>\n",
       "      <th>PC42</th>\n",
       "    </tr>\n",
       "  </thead>\n",
       "  <tbody>\n",
       "    <tr>\n",
       "      <th>0</th>\n",
       "      <td>High-Severity</td>\n",
       "      <td>1</td>\n",
       "      <td>-4.463626</td>\n",
       "      <td>0.910478</td>\n",
       "      <td>-0.698875</td>\n",
       "      <td>0.566976</td>\n",
       "      <td>-4.560305</td>\n",
       "      <td>1.056442</td>\n",
       "      <td>-3.650984</td>\n",
       "      <td>0.277872</td>\n",
       "      <td>...</td>\n",
       "      <td>-0.791259</td>\n",
       "      <td>0.726986</td>\n",
       "      <td>0.229071</td>\n",
       "      <td>0.348503</td>\n",
       "      <td>0.634092</td>\n",
       "      <td>-0.438175</td>\n",
       "      <td>-0.376966</td>\n",
       "      <td>-0.014549</td>\n",
       "      <td>0.128560</td>\n",
       "      <td>4.718448e-16</td>\n",
       "    </tr>\n",
       "    <tr>\n",
       "      <th>1</th>\n",
       "      <td>High-Severity</td>\n",
       "      <td>10</td>\n",
       "      <td>-2.844801</td>\n",
       "      <td>-10.602309</td>\n",
       "      <td>-1.757871</td>\n",
       "      <td>3.941683</td>\n",
       "      <td>1.286207</td>\n",
       "      <td>-4.455326</td>\n",
       "      <td>2.564703</td>\n",
       "      <td>0.897907</td>\n",
       "      <td>...</td>\n",
       "      <td>-1.605235</td>\n",
       "      <td>0.672145</td>\n",
       "      <td>-0.103994</td>\n",
       "      <td>0.060747</td>\n",
       "      <td>-0.695912</td>\n",
       "      <td>0.371670</td>\n",
       "      <td>0.119873</td>\n",
       "      <td>0.039883</td>\n",
       "      <td>-0.136164</td>\n",
       "      <td>1.165734e-15</td>\n",
       "    </tr>\n",
       "    <tr>\n",
       "      <th>2</th>\n",
       "      <td>High-Severity</td>\n",
       "      <td>11</td>\n",
       "      <td>-4.548983</td>\n",
       "      <td>-11.578847</td>\n",
       "      <td>-1.552816</td>\n",
       "      <td>0.602868</td>\n",
       "      <td>-1.021713</td>\n",
       "      <td>3.416513</td>\n",
       "      <td>-4.019399</td>\n",
       "      <td>1.244113</td>\n",
       "      <td>...</td>\n",
       "      <td>0.096571</td>\n",
       "      <td>-0.206910</td>\n",
       "      <td>-0.238369</td>\n",
       "      <td>0.315117</td>\n",
       "      <td>0.234600</td>\n",
       "      <td>0.166068</td>\n",
       "      <td>0.286390</td>\n",
       "      <td>-0.320550</td>\n",
       "      <td>0.019834</td>\n",
       "      <td>7.771561e-16</td>\n",
       "    </tr>\n",
       "    <tr>\n",
       "      <th>3</th>\n",
       "      <td>High-Severity</td>\n",
       "      <td>12</td>\n",
       "      <td>-4.829458</td>\n",
       "      <td>-6.870317</td>\n",
       "      <td>-2.042322</td>\n",
       "      <td>4.536371</td>\n",
       "      <td>1.631897</td>\n",
       "      <td>-3.186172</td>\n",
       "      <td>0.149025</td>\n",
       "      <td>-1.399768</td>\n",
       "      <td>...</td>\n",
       "      <td>-0.020746</td>\n",
       "      <td>-1.472248</td>\n",
       "      <td>-0.280689</td>\n",
       "      <td>0.813294</td>\n",
       "      <td>0.319037</td>\n",
       "      <td>-0.640954</td>\n",
       "      <td>0.531615</td>\n",
       "      <td>-0.279482</td>\n",
       "      <td>-0.226789</td>\n",
       "      <td>3.330669e-16</td>\n",
       "    </tr>\n",
       "    <tr>\n",
       "      <th>4</th>\n",
       "      <td>High-Severity</td>\n",
       "      <td>13</td>\n",
       "      <td>-5.480261</td>\n",
       "      <td>-5.080208</td>\n",
       "      <td>-1.322221</td>\n",
       "      <td>6.153281</td>\n",
       "      <td>4.203624</td>\n",
       "      <td>-1.533926</td>\n",
       "      <td>-6.294147</td>\n",
       "      <td>-3.441142</td>\n",
       "      <td>...</td>\n",
       "      <td>-0.359992</td>\n",
       "      <td>0.431652</td>\n",
       "      <td>0.508141</td>\n",
       "      <td>-1.540595</td>\n",
       "      <td>0.355160</td>\n",
       "      <td>0.108158</td>\n",
       "      <td>-0.153803</td>\n",
       "      <td>0.133823</td>\n",
       "      <td>-0.035410</td>\n",
       "      <td>1.554312e-15</td>\n",
       "    </tr>\n",
       "  </tbody>\n",
       "</table>\n",
       "<p>5 rows × 44 columns</p>\n",
       "</div>"
      ],
      "text/plain": [
       "  Metadata_genotype Metadata_replicate       PC1        PC2       PC3  \\\n",
       "0     High-Severity                  1 -4.463626   0.910478 -0.698875   \n",
       "1     High-Severity                 10 -2.844801 -10.602309 -1.757871   \n",
       "2     High-Severity                 11 -4.548983 -11.578847 -1.552816   \n",
       "3     High-Severity                 12 -4.829458  -6.870317 -2.042322   \n",
       "4     High-Severity                 13 -5.480261  -5.080208 -1.322221   \n",
       "\n",
       "        PC4       PC5       PC6       PC7       PC8  ...      PC33      PC34  \\\n",
       "0  0.566976 -4.560305  1.056442 -3.650984  0.277872  ... -0.791259  0.726986   \n",
       "1  3.941683  1.286207 -4.455326  2.564703  0.897907  ... -1.605235  0.672145   \n",
       "2  0.602868 -1.021713  3.416513 -4.019399  1.244113  ...  0.096571 -0.206910   \n",
       "3  4.536371  1.631897 -3.186172  0.149025 -1.399768  ... -0.020746 -1.472248   \n",
       "4  6.153281  4.203624 -1.533926 -6.294147 -3.441142  ... -0.359992  0.431652   \n",
       "\n",
       "       PC35      PC36      PC37      PC38      PC39      PC40      PC41  \\\n",
       "0  0.229071  0.348503  0.634092 -0.438175 -0.376966 -0.014549  0.128560   \n",
       "1 -0.103994  0.060747 -0.695912  0.371670  0.119873  0.039883 -0.136164   \n",
       "2 -0.238369  0.315117  0.234600  0.166068  0.286390 -0.320550  0.019834   \n",
       "3 -0.280689  0.813294  0.319037 -0.640954  0.531615 -0.279482 -0.226789   \n",
       "4  0.508141 -1.540595  0.355160  0.108158 -0.153803  0.133823 -0.035410   \n",
       "\n",
       "           PC42  \n",
       "0  4.718448e-16  \n",
       "1  1.165734e-15  \n",
       "2  7.771561e-16  \n",
       "3  3.330669e-16  \n",
       "4  1.554312e-15  \n",
       "\n",
       "[5 rows x 44 columns]"
      ]
     },
     "execution_count": 2,
     "metadata": {},
     "output_type": "execute_result"
    }
   ],
   "source": [
    "# set the path to the data\n",
    "mean_aggregated_data_pca_path = pathlib.Path(\n",
    "    \"../../data/6.analysis_results/mean_aggregated_pca.parquet\"\n",
    ").resolve(strict=True)\n",
    "\n",
    "# read the data\n",
    "mean_aggregated_data_pca = pd.read_parquet(mean_aggregated_data_pca_path)\n",
    "print(mean_aggregated_data_pca.shape)\n",
    "mean_aggregated_data_pca.head()"
   ]
  },
  {
   "cell_type": "markdown",
   "id": "259d51ba",
   "metadata": {
    "papermill": {
     "duration": 0.002408,
     "end_time": "2024-05-07T20:19:37.275686",
     "exception": false,
     "start_time": "2024-05-07T20:19:37.273278",
     "status": "completed"
    },
    "tags": []
   },
   "source": [
    "# Mahalanobis Distance\n",
    "For more in depth information on Mahalanobis distance, please refer to this [link](https://medium.com/@the_daft_introvert/mahalanobis-distance-5c11a757b099).\n",
    "Mahalanobis distance is a measure of the distance between a point P and a distribution D. \n",
    "It is a multi-dimensional generalization of the idea of measuring how many standard deviations away P is from the mean of D. \n",
    "This distance is zero if P is at the mean of D, and grows as P moves away from the mean along each principal component axis.\n",
    "The formula for Mahalanobis distance is given by:\n",
    "### $D^2 = (x - \\mu)^T \\Sigma^{-1} (x - \\mu)$\n",
    "where:\n",
    "- $D$ is the Mahalanobis distance"
   ]
  },
  {
   "cell_type": "markdown",
   "id": "6bfe16c2",
   "metadata": {
    "papermill": {
     "duration": 0.002254,
     "end_time": "2024-05-07T20:19:37.280208",
     "exception": false,
     "start_time": "2024-05-07T20:19:37.277954",
     "status": "completed"
    },
    "tags": []
   },
   "source": [
    "## Caluclating Mahalanobis Distance on PCA components 1 and 2\n",
    "Here I calculate the Mahalanobis distance between the points on the first two principal components of the data for each of the three genotypes."
   ]
  },
  {
   "cell_type": "code",
   "execution_count": 3,
   "id": "41688044",
   "metadata": {
    "execution": {
     "iopub.execute_input": "2024-05-07T20:19:37.285701Z",
     "iopub.status.busy": "2024-05-07T20:19:37.285347Z",
     "iopub.status.idle": "2024-05-07T20:19:37.288881Z",
     "shell.execute_reply": "2024-05-07T20:19:37.288561Z"
    },
    "papermill": {
     "duration": 0.007181,
     "end_time": "2024-05-07T20:19:37.289661",
     "exception": false,
     "start_time": "2024-05-07T20:19:37.282480",
     "status": "completed"
    },
    "tags": []
   },
   "outputs": [
    {
     "name": "stdout",
     "output_type": "stream",
     "text": [
      "14 14 14\n"
     ]
    }
   ],
   "source": [
    "# split the genotypes\n",
    "high_severity = mean_aggregated_data_pca[\n",
    "    mean_aggregated_data_pca[\"Metadata_genotype\"] == \"High-Severity\"\n",
    "]\n",
    "low_severity = mean_aggregated_data_pca[\n",
    "    mean_aggregated_data_pca[\"Metadata_genotype\"] == \"Mid-Severity\"\n",
    "]\n",
    "wt = mean_aggregated_data_pca[\n",
    "    mean_aggregated_data_pca[\"Metadata_genotype\"] == \"Wild Type\"\n",
    "]\n",
    "print(len(high_severity), len(low_severity), len(wt))"
   ]
  },
  {
   "cell_type": "code",
   "execution_count": 4,
   "id": "5e1432a9",
   "metadata": {
    "execution": {
     "iopub.execute_input": "2024-05-07T20:19:37.294987Z",
     "iopub.status.busy": "2024-05-07T20:19:37.294659Z",
     "iopub.status.idle": "2024-05-07T20:19:37.298123Z",
     "shell.execute_reply": "2024-05-07T20:19:37.297797Z"
    },
    "papermill": {
     "duration": 0.007066,
     "end_time": "2024-05-07T20:19:37.298890",
     "exception": false,
     "start_time": "2024-05-07T20:19:37.291824",
     "status": "completed"
    },
    "tags": []
   },
   "outputs": [
    {
     "name": "stdout",
     "output_type": "stream",
     "text": [
      "(14, 42) (14, 42) (14, 42)\n"
     ]
    }
   ],
   "source": [
    "# drop the the Metadata columns\n",
    "high_severity = high_severity.drop(columns=[\"Metadata_genotype\", \"Metadata_replicate\"])\n",
    "low_severity = low_severity.drop(columns=[\"Metadata_genotype\", \"Metadata_replicate\"])\n",
    "wt = wt.drop(columns=[\"Metadata_genotype\", \"Metadata_replicate\"])\n",
    "# convert the df to coordinates\n",
    "high_severity_coords = high_severity.to_numpy()\n",
    "low_severity_coords = low_severity.to_numpy()\n",
    "wt_coords = wt.to_numpy()\n",
    "print(high_severity_coords.shape, low_severity_coords.shape, wt_coords.shape)"
   ]
  },
  {
   "cell_type": "markdown",
   "id": "ab7a6ea5",
   "metadata": {
    "papermill": {
     "duration": 0.002378,
     "end_time": "2024-05-07T20:19:37.303287",
     "exception": false,
     "start_time": "2024-05-07T20:19:37.300909",
     "status": "completed"
    },
    "tags": []
   },
   "source": [
    "#### High-Severity"
   ]
  },
  {
   "cell_type": "code",
   "execution_count": 5,
   "id": "992efa28",
   "metadata": {
    "execution": {
     "iopub.execute_input": "2024-05-07T20:19:37.308875Z",
     "iopub.status.busy": "2024-05-07T20:19:37.308549Z",
     "iopub.status.idle": "2024-05-07T20:19:37.313751Z",
     "shell.execute_reply": "2024-05-07T20:19:37.313324Z"
    },
    "papermill": {
     "duration": 0.008976,
     "end_time": "2024-05-07T20:19:37.314682",
     "exception": false,
     "start_time": "2024-05-07T20:19:37.305706",
     "status": "completed"
    },
    "tags": []
   },
   "outputs": [
    {
     "name": "stdout",
     "output_type": "stream",
     "text": [
      "The mean mahalanobis distance for the High-Severity genotype is 8.097040543955758\n"
     ]
    },
    {
     "name": "stderr",
     "output_type": "stream",
     "text": [
      "/home/lippincm/miniconda3/envs/op_cell_processing_env/lib/python3.8/site-packages/scipy/spatial/distance.py:1064: RuntimeWarning: invalid value encountered in sqrt\n",
      "  return np.sqrt(m)\n"
     ]
    }
   ],
   "source": [
    "# define the mean and the inverse covariance matrix needed for the mahalanobis distance calculation\n",
    "cov_matrix = np.cov(high_severity_coords, rowvar=False)\n",
    "inv_cov_matrix = np.linalg.inv(cov_matrix)\n",
    "# calculate the mahalanobis distance for each point within each genotype\n",
    "high_severity_mahalanobis_distances = []\n",
    "# calculate the mahalanobis distance for each point combination\n",
    "for point in itertools.combinations(high_severity_coords, 2):\n",
    "    distance = mahalanobis(point[0], point[1], inv_cov_matrix)\n",
    "    if np.isnan(distance):  # Check for NaN values\n",
    "        continue\n",
    "    high_severity_mahalanobis_distances.append(distance)\n",
    "mean_high_severity_mahalanobis_distance = np.mean(high_severity_mahalanobis_distances)\n",
    "print(\n",
    "    f\"The mean mahalanobis distance for the High-Severity genotype is {mean_high_severity_mahalanobis_distance}\"\n",
    ")"
   ]
  },
  {
   "cell_type": "markdown",
   "id": "27cad0b8",
   "metadata": {
    "papermill": {
     "duration": 0.002537,
     "end_time": "2024-05-07T20:19:37.319713",
     "exception": false,
     "start_time": "2024-05-07T20:19:37.317176",
     "status": "completed"
    },
    "tags": []
   },
   "source": [
    "#### Low-Severity"
   ]
  },
  {
   "cell_type": "code",
   "execution_count": 6,
   "id": "a2370708",
   "metadata": {
    "execution": {
     "iopub.execute_input": "2024-05-07T20:19:37.325550Z",
     "iopub.status.busy": "2024-05-07T20:19:37.325278Z",
     "iopub.status.idle": "2024-05-07T20:19:37.330141Z",
     "shell.execute_reply": "2024-05-07T20:19:37.329696Z"
    },
    "papermill": {
     "duration": 0.008968,
     "end_time": "2024-05-07T20:19:37.331159",
     "exception": false,
     "start_time": "2024-05-07T20:19:37.322191",
     "status": "completed"
    },
    "tags": []
   },
   "outputs": [
    {
     "name": "stdout",
     "output_type": "stream",
     "text": [
      "The mean mahalanobis distance for the low-Severity genotype is 9.470999807830797\n"
     ]
    }
   ],
   "source": [
    "# define the mean and the inverse covariance matrix needed for the mahalanobis distance calculation\n",
    "cov_matrix = np.cov(low_severity_coords, rowvar=False)\n",
    "inv_cov_matrix = np.linalg.inv(cov_matrix)\n",
    "# calculate the mahalanobis distance for each point within each genotype\n",
    "low_severity_mahalanobis_distances = []\n",
    "# calculate the mahalanobis distance for each point\n",
    "for point in itertools.combinations(low_severity_coords, 2):\n",
    "    distance = mahalanobis(point[0], point[1], inv_cov_matrix)\n",
    "    if np.isnan(distance):  # Check for NaN values\n",
    "        continue\n",
    "    low_severity_mahalanobis_distances.append(distance)\n",
    "mean_low_severity_mahalanobis_distance = np.mean(low_severity_mahalanobis_distances)\n",
    "print(\n",
    "    f\"The mean mahalanobis distance for the low-Severity genotype is {mean_low_severity_mahalanobis_distance}\"\n",
    ")"
   ]
  },
  {
   "cell_type": "markdown",
   "id": "3cf92944",
   "metadata": {
    "papermill": {
     "duration": 0.002912,
     "end_time": "2024-05-07T20:19:37.337038",
     "exception": false,
     "start_time": "2024-05-07T20:19:37.334126",
     "status": "completed"
    },
    "tags": []
   },
   "source": [
    "#### Wild Type"
   ]
  },
  {
   "cell_type": "code",
   "execution_count": 7,
   "id": "6de6ba74",
   "metadata": {
    "execution": {
     "iopub.execute_input": "2024-05-07T20:19:37.343712Z",
     "iopub.status.busy": "2024-05-07T20:19:37.343553Z",
     "iopub.status.idle": "2024-05-07T20:19:37.348858Z",
     "shell.execute_reply": "2024-05-07T20:19:37.348501Z"
    },
    "papermill": {
     "duration": 0.009745,
     "end_time": "2024-05-07T20:19:37.349790",
     "exception": false,
     "start_time": "2024-05-07T20:19:37.340045",
     "status": "completed"
    },
    "tags": []
   },
   "outputs": [
    {
     "name": "stdout",
     "output_type": "stream",
     "text": [
      "The mean mahalanobis distance for the Wild Type genotype is 11.67177275625835\n"
     ]
    }
   ],
   "source": [
    "# define the mean and the inverse covariance matrix needed for the mahalanobis distance calculation\n",
    "cov_matrix = np.cov(wt_coords, rowvar=False)\n",
    "inv_cov_matrix = np.linalg.inv(cov_matrix)\n",
    "# calculate the mahalanobis distance for each point within each genotype\n",
    "wt_mahalanobis_distances = []\n",
    "# calculate the mahalanobis distance for each point\n",
    "for point in itertools.combinations(wt_coords, 2):\n",
    "    distance = mahalanobis(point[0], point[1], inv_cov_matrix)\n",
    "    if np.isnan(distance):  # Check for NaN values\n",
    "        continue\n",
    "    wt_mahalanobis_distances.append(distance)\n",
    "mean_wt_mahalanobis_distance = np.mean(wt_mahalanobis_distances)\n",
    "print(\n",
    "    f\"The mean mahalanobis distance for the Wild Type genotype is {mean_wt_mahalanobis_distance}\"\n",
    ")"
   ]
  },
  {
   "cell_type": "markdown",
   "id": "8ce991c9",
   "metadata": {
    "papermill": {
     "duration": 0.002962,
     "end_time": "2024-05-07T20:19:37.355951",
     "exception": false,
     "start_time": "2024-05-07T20:19:37.352989",
     "status": "completed"
    },
    "tags": []
   },
   "source": [
    "### Show the mahalanobis distance for each genotype"
   ]
  },
  {
   "cell_type": "code",
   "execution_count": 8,
   "id": "1250e39e",
   "metadata": {
    "execution": {
     "iopub.execute_input": "2024-05-07T20:19:37.362674Z",
     "iopub.status.busy": "2024-05-07T20:19:37.362428Z",
     "iopub.status.idle": "2024-05-07T20:19:37.365090Z",
     "shell.execute_reply": "2024-05-07T20:19:37.364727Z"
    },
    "papermill": {
     "duration": 0.007199,
     "end_time": "2024-05-07T20:19:37.366132",
     "exception": false,
     "start_time": "2024-05-07T20:19:37.358933",
     "status": "completed"
    },
    "tags": []
   },
   "outputs": [
    {
     "name": "stdout",
     "output_type": "stream",
     "text": [
      "Mahalanobis distance for High-Severity:  8.097040543955758\n",
      "Mahalanobis distance for Low-Severity:  9.470999807830797\n",
      "Mahalanobis distance for Wild Type:  11.67177275625835\n"
     ]
    }
   ],
   "source": [
    "print(\n",
    "    \"Mahalanobis distance for High-Severity: \", mean_high_severity_mahalanobis_distance\n",
    ")\n",
    "print(\"Mahalanobis distance for Low-Severity: \", mean_low_severity_mahalanobis_distance)\n",
    "print(\"Mahalanobis distance for Wild Type: \", mean_wt_mahalanobis_distance)"
   ]
  }
 ],
 "metadata": {
  "kernelspec": {
   "display_name": "op_cell_processing_env",
   "language": "python",
   "name": "python3"
  },
  "language_info": {
   "codemirror_mode": {
    "name": "ipython",
    "version": 3
   },
   "file_extension": ".py",
   "mimetype": "text/x-python",
   "name": "python",
   "nbconvert_exporter": "python",
   "pygments_lexer": "ipython3",
   "version": "3.8.15"
  },
  "papermill": {
   "default_parameters": {},
   "duration": 1.257345,
   "end_time": "2024-05-07T20:19:37.584229",
   "environment_variables": {},
   "exception": null,
   "input_path": "8a.mean_aggregated_PCA_calculate_mahalanobis_distance.ipynb",
   "output_path": "8a.mean_aggregated_PCA_calculate_mahalanobis_distance.ipynb",
   "parameters": {},
   "start_time": "2024-05-07T20:19:36.326884",
   "version": "2.6.0"
  }
 },
 "nbformat": 4,
 "nbformat_minor": 5
}