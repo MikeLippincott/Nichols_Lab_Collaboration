{
    "cells": [
        {
            "cell_type": "code",
            "execution_count": 1,
            "metadata": {
                "vscode": {
                    "languageId": "r"
                }
            },
            "outputs": [],
            "source": [
                "# load libraries\n",
                "suppressWarnings(suppressPackageStartupMessages(library(ggplot2)))\n",
                "suppressWarnings(suppressPackageStartupMessages(library(dplyr)))\n",
                "suppressWarnings(suppressPackageStartupMessages(library(arrow)))\n",
                "suppressWarnings(suppressPackageStartupMessages(library(patchwork)))\n",
                "suppressWarnings(suppressPackageStartupMessages(library(ggsignif)))\n",
                "# import ggplot theme\n",
                "source(\"../../utils/figure_themes.r\")"
            ]
        },
        {
            "cell_type": "code",
            "execution_count": 2,
            "metadata": {
                "vscode": {
                    "languageId": "r"
                }
            },
            "outputs": [
                {
                    "data": {
                        "text/html": [
                            "<table class=\"dataframe\">\n",
                            "<caption>A tibble: 6 \u00d7 268</caption>\n",
                            "<thead>\n",
                            "\t<tr><th scope=col>Metadata_ImageNumber</th><th scope=col>Metadata_Image_FileName_OP</th><th scope=col>Metadata_ObjectNumber</th><th scope=col>Metadata_ConvertImageToObjects_Number_Object_Number</th><th scope=col>Metadata_ConvertImageToObjects_AreaShape_BoundingBoxArea</th><th scope=col>Metadata_ConvertImageToObjects_AreaShape_BoundingBoxMaximum_X</th><th scope=col>Metadata_ConvertImageToObjects_AreaShape_BoundingBoxMaximum_Y</th><th scope=col>Metadata_ConvertImageToObjects_AreaShape_BoundingBoxMinimum_X</th><th scope=col>Metadata_ConvertImageToObjects_AreaShape_BoundingBoxMinimum_Y</th><th scope=col>Metadata_ConvertImageToObjects_Location_CenterMassIntensity_X_OP</th><th scope=col>\u22ef</th><th scope=col>Texture_SumEntropy_OP_3_02_256</th><th scope=col>Texture_SumEntropy_OP_3_03_256</th><th scope=col>Texture_SumVariance_OP_3_00_256</th><th scope=col>Texture_SumVariance_OP_3_01_256</th><th scope=col>Texture_SumVariance_OP_3_02_256</th><th scope=col>Texture_SumVariance_OP_3_03_256</th><th scope=col>Texture_Variance_OP_3_00_256</th><th scope=col>Texture_Variance_OP_3_01_256</th><th scope=col>Texture_Variance_OP_3_02_256</th><th scope=col>Texture_Variance_OP_3_03_256</th></tr>\n",
                            "\t<tr><th scope=col>&lt;int&gt;</th><th scope=col>&lt;chr&gt;</th><th scope=col>&lt;int&gt;</th><th scope=col>&lt;int&gt;</th><th scope=col>&lt;dbl&gt;</th><th scope=col>&lt;dbl&gt;</th><th scope=col>&lt;dbl&gt;</th><th scope=col>&lt;dbl&gt;</th><th scope=col>&lt;dbl&gt;</th><th scope=col>&lt;dbl&gt;</th><th scope=col>\u22ef</th><th scope=col>&lt;dbl&gt;</th><th scope=col>&lt;dbl&gt;</th><th scope=col>&lt;dbl&gt;</th><th scope=col>&lt;dbl&gt;</th><th scope=col>&lt;dbl&gt;</th><th scope=col>&lt;dbl&gt;</th><th scope=col>&lt;dbl&gt;</th><th scope=col>&lt;dbl&gt;</th><th scope=col>&lt;dbl&gt;</th><th scope=col>&lt;dbl&gt;</th></tr>\n",
                            "</thead>\n",
                            "<tbody>\n",
                            "\t<tr><td>1</td><td>MAX_high_10_L.tiff</td><td>1</td><td>1</td><td>38250</td><td>269</td><td>182</td><td>44</td><td>12</td><td>131.5461</td><td>\u22ef</td><td>0.8414748</td><td>0.8345736</td><td> 1.14918564</td><td> 1.1522001</td><td> 1.07890507</td><td> 1.14484796</td><td> 1.04000878</td><td> 1.02573996</td><td> 1.04549223</td><td> 1.02761705</td></tr>\n",
                            "\t<tr><td>2</td><td>MAX_high_10_R.tiff</td><td>1</td><td>1</td><td>34170</td><td>208</td><td>245</td><td>38</td><td>44</td><td>106.9621</td><td>\u22ef</td><td>0.4524796</td><td>0.4361385</td><td> 0.11217819</td><td> 0.1319819</td><td> 0.10860250</td><td> 0.12569959</td><td> 0.07571690</td><td> 0.07120688</td><td> 0.07647711</td><td> 0.06792193</td></tr>\n",
                            "\t<tr><td>3</td><td>MAX_high_11_L.tiff</td><td>1</td><td>1</td><td>41736</td><td>250</td><td>267</td><td>62</td><td>45</td><td>131.3598</td><td>\u22ef</td><td>0.4948130</td><td>0.4908441</td><td>-0.01613966</td><td> 0.0010415</td><td>-0.02199706</td><td>-0.02099207</td><td>-0.03393425</td><td>-0.04263493</td><td>-0.03498345</td><td>-0.03876252</td></tr>\n",
                            "\t<tr><td>4</td><td>MAX_high_11_R.tiff</td><td>1</td><td>1</td><td>43616</td><td>212</td><td>272</td><td>24</td><td>40</td><td>101.0699</td><td>\u22ef</td><td>0.8787288</td><td>0.8656168</td><td> 1.12090459</td><td> 1.1406044</td><td> 1.07452904</td><td> 1.11794134</td><td> 1.03158516</td><td> 1.01517198</td><td> 1.03514983</td><td> 1.01918842</td></tr>\n",
                            "\t<tr><td>5</td><td>MAX_high_12_L.tiff</td><td>2</td><td>2</td><td>25894</td><td>283</td><td>155</td><td>69</td><td>34</td><td>164.5791</td><td>\u22ef</td><td>0.4767676</td><td>0.4826737</td><td> 0.17788587</td><td> 0.1479330</td><td> 0.10331342</td><td> 0.15645695</td><td> 0.11176513</td><td> 0.10784585</td><td> 0.11761376</td><td> 0.10885888</td></tr>\n",
                            "\t<tr><td>6</td><td>MAX_high_12_R.tiff</td><td>1</td><td>1</td><td>40920</td><td>229</td><td>265</td><td>43</td><td>45</td><td>119.3891</td><td>\u22ef</td><td>0.1422418</td><td>0.1351928</td><td>-0.28744321</td><td>-0.2676854</td><td>-0.30011318</td><td>-0.29231741</td><td>-0.31932910</td><td>-0.32658057</td><td>-0.31978483</td><td>-0.32240245</td></tr>\n",
                            "</tbody>\n",
                            "</table>\n"
                        ],
                        "text/latex": [
                            "A tibble: 6 \u00d7 268\n",
                            "\\begin{tabular}{lllllllllllllllllllll}\n",
                            " Metadata\\_ImageNumber & Metadata\\_Image\\_FileName\\_OP & Metadata\\_ObjectNumber & Metadata\\_ConvertImageToObjects\\_Number\\_Object\\_Number & Metadata\\_ConvertImageToObjects\\_AreaShape\\_BoundingBoxArea & Metadata\\_ConvertImageToObjects\\_AreaShape\\_BoundingBoxMaximum\\_X & Metadata\\_ConvertImageToObjects\\_AreaShape\\_BoundingBoxMaximum\\_Y & Metadata\\_ConvertImageToObjects\\_AreaShape\\_BoundingBoxMinimum\\_X & Metadata\\_ConvertImageToObjects\\_AreaShape\\_BoundingBoxMinimum\\_Y & Metadata\\_ConvertImageToObjects\\_Location\\_CenterMassIntensity\\_X\\_OP & \u22ef & Texture\\_SumEntropy\\_OP\\_3\\_02\\_256 & Texture\\_SumEntropy\\_OP\\_3\\_03\\_256 & Texture\\_SumVariance\\_OP\\_3\\_00\\_256 & Texture\\_SumVariance\\_OP\\_3\\_01\\_256 & Texture\\_SumVariance\\_OP\\_3\\_02\\_256 & Texture\\_SumVariance\\_OP\\_3\\_03\\_256 & Texture\\_Variance\\_OP\\_3\\_00\\_256 & Texture\\_Variance\\_OP\\_3\\_01\\_256 & Texture\\_Variance\\_OP\\_3\\_02\\_256 & Texture\\_Variance\\_OP\\_3\\_03\\_256\\\\\n",
                            " <int> & <chr> & <int> & <int> & <dbl> & <dbl> & <dbl> & <dbl> & <dbl> & <dbl> & \u22ef & <dbl> & <dbl> & <dbl> & <dbl> & <dbl> & <dbl> & <dbl> & <dbl> & <dbl> & <dbl>\\\\\n",
                            "\\hline\n",
                            "\t 1 & MAX\\_high\\_10\\_L.tiff & 1 & 1 & 38250 & 269 & 182 & 44 & 12 & 131.5461 & \u22ef & 0.8414748 & 0.8345736 &  1.14918564 &  1.1522001 &  1.07890507 &  1.14484796 &  1.04000878 &  1.02573996 &  1.04549223 &  1.02761705\\\\\n",
                            "\t 2 & MAX\\_high\\_10\\_R.tiff & 1 & 1 & 34170 & 208 & 245 & 38 & 44 & 106.9621 & \u22ef & 0.4524796 & 0.4361385 &  0.11217819 &  0.1319819 &  0.10860250 &  0.12569959 &  0.07571690 &  0.07120688 &  0.07647711 &  0.06792193\\\\\n",
                            "\t 3 & MAX\\_high\\_11\\_L.tiff & 1 & 1 & 41736 & 250 & 267 & 62 & 45 & 131.3598 & \u22ef & 0.4948130 & 0.4908441 & -0.01613966 &  0.0010415 & -0.02199706 & -0.02099207 & -0.03393425 & -0.04263493 & -0.03498345 & -0.03876252\\\\\n",
                            "\t 4 & MAX\\_high\\_11\\_R.tiff & 1 & 1 & 43616 & 212 & 272 & 24 & 40 & 101.0699 & \u22ef & 0.8787288 & 0.8656168 &  1.12090459 &  1.1406044 &  1.07452904 &  1.11794134 &  1.03158516 &  1.01517198 &  1.03514983 &  1.01918842\\\\\n",
                            "\t 5 & MAX\\_high\\_12\\_L.tiff & 2 & 2 & 25894 & 283 & 155 & 69 & 34 & 164.5791 & \u22ef & 0.4767676 & 0.4826737 &  0.17788587 &  0.1479330 &  0.10331342 &  0.15645695 &  0.11176513 &  0.10784585 &  0.11761376 &  0.10885888\\\\\n",
                            "\t 6 & MAX\\_high\\_12\\_R.tiff & 1 & 1 & 40920 & 229 & 265 & 43 & 45 & 119.3891 & \u22ef & 0.1422418 & 0.1351928 & -0.28744321 & -0.2676854 & -0.30011318 & -0.29231741 & -0.31932910 & -0.32658057 & -0.31978483 & -0.32240245\\\\\n",
                            "\\end{tabular}\n"
                        ],
                        "text/markdown": [
                            "\n",
                            "A tibble: 6 \u00d7 268\n",
                            "\n",
                            "| Metadata_ImageNumber &lt;int&gt; | Metadata_Image_FileName_OP &lt;chr&gt; | Metadata_ObjectNumber &lt;int&gt; | Metadata_ConvertImageToObjects_Number_Object_Number &lt;int&gt; | Metadata_ConvertImageToObjects_AreaShape_BoundingBoxArea &lt;dbl&gt; | Metadata_ConvertImageToObjects_AreaShape_BoundingBoxMaximum_X &lt;dbl&gt; | Metadata_ConvertImageToObjects_AreaShape_BoundingBoxMaximum_Y &lt;dbl&gt; | Metadata_ConvertImageToObjects_AreaShape_BoundingBoxMinimum_X &lt;dbl&gt; | Metadata_ConvertImageToObjects_AreaShape_BoundingBoxMinimum_Y &lt;dbl&gt; | Metadata_ConvertImageToObjects_Location_CenterMassIntensity_X_OP &lt;dbl&gt; | \u22ef \u22ef | Texture_SumEntropy_OP_3_02_256 &lt;dbl&gt; | Texture_SumEntropy_OP_3_03_256 &lt;dbl&gt; | Texture_SumVariance_OP_3_00_256 &lt;dbl&gt; | Texture_SumVariance_OP_3_01_256 &lt;dbl&gt; | Texture_SumVariance_OP_3_02_256 &lt;dbl&gt; | Texture_SumVariance_OP_3_03_256 &lt;dbl&gt; | Texture_Variance_OP_3_00_256 &lt;dbl&gt; | Texture_Variance_OP_3_01_256 &lt;dbl&gt; | Texture_Variance_OP_3_02_256 &lt;dbl&gt; | Texture_Variance_OP_3_03_256 &lt;dbl&gt; |\n",
                            "|---|---|---|---|---|---|---|---|---|---|---|---|---|---|---|---|---|---|---|---|---|\n",
                            "| 1 | MAX_high_10_L.tiff | 1 | 1 | 38250 | 269 | 182 | 44 | 12 | 131.5461 | \u22ef | 0.8414748 | 0.8345736 |  1.14918564 |  1.1522001 |  1.07890507 |  1.14484796 |  1.04000878 |  1.02573996 |  1.04549223 |  1.02761705 |\n",
                            "| 2 | MAX_high_10_R.tiff | 1 | 1 | 34170 | 208 | 245 | 38 | 44 | 106.9621 | \u22ef | 0.4524796 | 0.4361385 |  0.11217819 |  0.1319819 |  0.10860250 |  0.12569959 |  0.07571690 |  0.07120688 |  0.07647711 |  0.06792193 |\n",
                            "| 3 | MAX_high_11_L.tiff | 1 | 1 | 41736 | 250 | 267 | 62 | 45 | 131.3598 | \u22ef | 0.4948130 | 0.4908441 | -0.01613966 |  0.0010415 | -0.02199706 | -0.02099207 | -0.03393425 | -0.04263493 | -0.03498345 | -0.03876252 |\n",
                            "| 4 | MAX_high_11_R.tiff | 1 | 1 | 43616 | 212 | 272 | 24 | 40 | 101.0699 | \u22ef | 0.8787288 | 0.8656168 |  1.12090459 |  1.1406044 |  1.07452904 |  1.11794134 |  1.03158516 |  1.01517198 |  1.03514983 |  1.01918842 |\n",
                            "| 5 | MAX_high_12_L.tiff | 2 | 2 | 25894 | 283 | 155 | 69 | 34 | 164.5791 | \u22ef | 0.4767676 | 0.4826737 |  0.17788587 |  0.1479330 |  0.10331342 |  0.15645695 |  0.11176513 |  0.10784585 |  0.11761376 |  0.10885888 |\n",
                            "| 6 | MAX_high_12_R.tiff | 1 | 1 | 40920 | 229 | 265 | 43 | 45 | 119.3891 | \u22ef | 0.1422418 | 0.1351928 | -0.28744321 | -0.2676854 | -0.30011318 | -0.29231741 | -0.31932910 | -0.32658057 | -0.31978483 | -0.32240245 |\n",
                            "\n"
                        ],
                        "text/plain": [
                            "  Metadata_ImageNumber Metadata_Image_FileName_OP Metadata_ObjectNumber\n",
                            "1 1                    MAX_high_10_L.tiff         1                    \n",
                            "2 2                    MAX_high_10_R.tiff         1                    \n",
                            "3 3                    MAX_high_11_L.tiff         1                    \n",
                            "4 4                    MAX_high_11_R.tiff         1                    \n",
                            "5 5                    MAX_high_12_L.tiff         2                    \n",
                            "6 6                    MAX_high_12_R.tiff         1                    \n",
                            "  Metadata_ConvertImageToObjects_Number_Object_Number\n",
                            "1 1                                                  \n",
                            "2 1                                                  \n",
                            "3 1                                                  \n",
                            "4 1                                                  \n",
                            "5 2                                                  \n",
                            "6 1                                                  \n",
                            "  Metadata_ConvertImageToObjects_AreaShape_BoundingBoxArea\n",
                            "1 38250                                                   \n",
                            "2 34170                                                   \n",
                            "3 41736                                                   \n",
                            "4 43616                                                   \n",
                            "5 25894                                                   \n",
                            "6 40920                                                   \n",
                            "  Metadata_ConvertImageToObjects_AreaShape_BoundingBoxMaximum_X\n",
                            "1 269                                                          \n",
                            "2 208                                                          \n",
                            "3 250                                                          \n",
                            "4 212                                                          \n",
                            "5 283                                                          \n",
                            "6 229                                                          \n",
                            "  Metadata_ConvertImageToObjects_AreaShape_BoundingBoxMaximum_Y\n",
                            "1 182                                                          \n",
                            "2 245                                                          \n",
                            "3 267                                                          \n",
                            "4 272                                                          \n",
                            "5 155                                                          \n",
                            "6 265                                                          \n",
                            "  Metadata_ConvertImageToObjects_AreaShape_BoundingBoxMinimum_X\n",
                            "1 44                                                           \n",
                            "2 38                                                           \n",
                            "3 62                                                           \n",
                            "4 24                                                           \n",
                            "5 69                                                           \n",
                            "6 43                                                           \n",
                            "  Metadata_ConvertImageToObjects_AreaShape_BoundingBoxMinimum_Y\n",
                            "1 12                                                           \n",
                            "2 44                                                           \n",
                            "3 45                                                           \n",
                            "4 40                                                           \n",
                            "5 34                                                           \n",
                            "6 45                                                           \n",
                            "  Metadata_ConvertImageToObjects_Location_CenterMassIntensity_X_OP \u22ef\n",
                            "1 131.5461                                                         \u22ef\n",
                            "2 106.9621                                                         \u22ef\n",
                            "3 131.3598                                                         \u22ef\n",
                            "4 101.0699                                                         \u22ef\n",
                            "5 164.5791                                                         \u22ef\n",
                            "6 119.3891                                                         \u22ef\n",
                            "  Texture_SumEntropy_OP_3_02_256 Texture_SumEntropy_OP_3_03_256\n",
                            "1 0.8414748                      0.8345736                     \n",
                            "2 0.4524796                      0.4361385                     \n",
                            "3 0.4948130                      0.4908441                     \n",
                            "4 0.8787288                      0.8656168                     \n",
                            "5 0.4767676                      0.4826737                     \n",
                            "6 0.1422418                      0.1351928                     \n",
                            "  Texture_SumVariance_OP_3_00_256 Texture_SumVariance_OP_3_01_256\n",
                            "1  1.14918564                      1.1522001                     \n",
                            "2  0.11217819                      0.1319819                     \n",
                            "3 -0.01613966                      0.0010415                     \n",
                            "4  1.12090459                      1.1406044                     \n",
                            "5  0.17788587                      0.1479330                     \n",
                            "6 -0.28744321                     -0.2676854                     \n",
                            "  Texture_SumVariance_OP_3_02_256 Texture_SumVariance_OP_3_03_256\n",
                            "1  1.07890507                      1.14484796                    \n",
                            "2  0.10860250                      0.12569959                    \n",
                            "3 -0.02199706                     -0.02099207                    \n",
                            "4  1.07452904                      1.11794134                    \n",
                            "5  0.10331342                      0.15645695                    \n",
                            "6 -0.30011318                     -0.29231741                    \n",
                            "  Texture_Variance_OP_3_00_256 Texture_Variance_OP_3_01_256\n",
                            "1  1.04000878                   1.02573996                 \n",
                            "2  0.07571690                   0.07120688                 \n",
                            "3 -0.03393425                  -0.04263493                 \n",
                            "4  1.03158516                   1.01517198                 \n",
                            "5  0.11176513                   0.10784585                 \n",
                            "6 -0.31932910                  -0.32658057                 \n",
                            "  Texture_Variance_OP_3_02_256 Texture_Variance_OP_3_03_256\n",
                            "1  1.04549223                   1.02761705                 \n",
                            "2  0.07647711                   0.06792193                 \n",
                            "3 -0.03498345                  -0.03876252                 \n",
                            "4  1.03514983                   1.01918842                 \n",
                            "5  0.11761376                   0.10885888                 \n",
                            "6 -0.31978483                  -0.32240245                 "
                        ]
                    },
                    "metadata": {},
                    "output_type": "display_data"
                }
            ],
            "source": [
                "# path to the anova data\n",
                "anova_genotype_df_path <- file.path(\"..\",\"..\",\"data\",\"6.analysis_results\",\"anova_results_genotype.parquet\")\n",
                "anova_genotype_side_df_path <- file.path(\"..\",\"..\",\"data\",\"6.analysis_results\",\"anova_results_genotype_side.parquet\")\n",
                "anova_genotype_side_identity_df_path <- file.path(\"..\",\"..\",\"data\",\"6.analysis_results\",\"anova_results_genotype_side_identity.parquet\")\n",
                "data_path <- file.path(\"..\",\"..\",\"data\",\"5.converted_data\",\"normalized_feature_selected_output.parquet\")\n",
                "\n",
                "# read the data\n",
                "data_df <- arrow::read_parquet(data_path)\n",
                "head(data_df)\n",
                "\n",
                "# read the anova data\n",
                "anova_genotype_df <- arrow::read_parquet(anova_genotype_df_path)\n",
                "anova_genotype_side_df <- arrow::read_parquet(anova_genotype_side_df_path)\n",
                "anova_genotype_side_identity_df <- arrow::read_parquet(anova_genotype_side_identity_df_path)"
            ]
        },
        {
            "cell_type": "code",
            "execution_count": 3,
            "metadata": {
                "vscode": {
                    "languageId": "r"
                }
            },
            "outputs": [
                {
                    "data": {
                        "text/html": [
                            "<table class=\"dataframe\">\n",
                            "<caption>A data.frame: 6 \u00d7 6</caption>\n",
                            "<thead>\n",
                            "\t<tr><th></th><th scope=col>X</th><th scope=col>feature</th><th scope=col>levene_statistic</th><th scope=col>levene_p_value</th><th scope=col>group</th><th scope=col>significance</th></tr>\n",
                            "\t<tr><th></th><th scope=col>&lt;int&gt;</th><th scope=col>&lt;chr&gt;</th><th scope=col>&lt;dbl&gt;</th><th scope=col>&lt;dbl&gt;</th><th scope=col>&lt;chr&gt;</th><th scope=col>&lt;chr&gt;</th></tr>\n",
                            "</thead>\n",
                            "<tbody>\n",
                            "\t<tr><th scope=row>1</th><td>427</td><td>RadialDistribution_ZernikePhase_OP_8_2    </td><td>9.215577e-05</td><td>0.9923639</td><td>high_vs_wt   </td><td>ns</td></tr>\n",
                            "\t<tr><th scope=row>2</th><td>439</td><td>Texture_AngularSecondMoment_OP_3_03_256   </td><td>6.200963e-04</td><td>0.9801938</td><td>high_vs_wt   </td><td>ns</td></tr>\n",
                            "\t<tr><th scope=row>3</th><td>148</td><td>RadialDistribution_ZernikeMagnitude_OP_6_4</td><td>6.497006e-04</td><td>0.9797298</td><td>high_vs_unsel</td><td>ns</td></tr>\n",
                            "\t<tr><th scope=row>4</th><td>142</td><td>RadialDistribution_ZernikeMagnitude_OP_4_4</td><td>7.542741e-04</td><td>0.9781598</td><td>high_vs_unsel</td><td>ns</td></tr>\n",
                            "\t<tr><th scope=row>5</th><td>557</td><td>AreaShape_Zernike_1_1                     </td><td>7.959461e-04</td><td>0.9775457</td><td>unsel_vs_wt  </td><td>ns</td></tr>\n",
                            "\t<tr><th scope=row>6</th><td>273</td><td>AreaShape_InertiaTensor_0_0               </td><td>8.132388e-04</td><td>0.9773188</td><td>high_vs_wt   </td><td>ns</td></tr>\n",
                            "</tbody>\n",
                            "</table>\n"
                        ],
                        "text/latex": [
                            "A data.frame: 6 \u00d7 6\n",
                            "\\begin{tabular}{r|llllll}\n",
                            "  & X & feature & levene\\_statistic & levene\\_p\\_value & group & significance\\\\\n",
                            "  & <int> & <chr> & <dbl> & <dbl> & <chr> & <chr>\\\\\n",
                            "\\hline\n",
                            "\t1 & 427 & RadialDistribution\\_ZernikePhase\\_OP\\_8\\_2     & 9.215577e-05 & 0.9923639 & high\\_vs\\_wt    & ns\\\\\n",
                            "\t2 & 439 & Texture\\_AngularSecondMoment\\_OP\\_3\\_03\\_256    & 6.200963e-04 & 0.9801938 & high\\_vs\\_wt    & ns\\\\\n",
                            "\t3 & 148 & RadialDistribution\\_ZernikeMagnitude\\_OP\\_6\\_4 & 6.497006e-04 & 0.9797298 & high\\_vs\\_unsel & ns\\\\\n",
                            "\t4 & 142 & RadialDistribution\\_ZernikeMagnitude\\_OP\\_4\\_4 & 7.542741e-04 & 0.9781598 & high\\_vs\\_unsel & ns\\\\\n",
                            "\t5 & 557 & AreaShape\\_Zernike\\_1\\_1                      & 7.959461e-04 & 0.9775457 & unsel\\_vs\\_wt   & ns\\\\\n",
                            "\t6 & 273 & AreaShape\\_InertiaTensor\\_0\\_0                & 8.132388e-04 & 0.9773188 & high\\_vs\\_wt    & ns\\\\\n",
                            "\\end{tabular}\n"
                        ],
                        "text/markdown": [
                            "\n",
                            "A data.frame: 6 \u00d7 6\n",
                            "\n",
                            "| <!--/--> | X &lt;int&gt; | feature &lt;chr&gt; | levene_statistic &lt;dbl&gt; | levene_p_value &lt;dbl&gt; | group &lt;chr&gt; | significance &lt;chr&gt; |\n",
                            "|---|---|---|---|---|---|---|\n",
                            "| 1 | 427 | RadialDistribution_ZernikePhase_OP_8_2     | 9.215577e-05 | 0.9923639 | high_vs_wt    | ns |\n",
                            "| 2 | 439 | Texture_AngularSecondMoment_OP_3_03_256    | 6.200963e-04 | 0.9801938 | high_vs_wt    | ns |\n",
                            "| 3 | 148 | RadialDistribution_ZernikeMagnitude_OP_6_4 | 6.497006e-04 | 0.9797298 | high_vs_unsel | ns |\n",
                            "| 4 | 142 | RadialDistribution_ZernikeMagnitude_OP_4_4 | 7.542741e-04 | 0.9781598 | high_vs_unsel | ns |\n",
                            "| 5 | 557 | AreaShape_Zernike_1_1                      | 7.959461e-04 | 0.9775457 | unsel_vs_wt   | ns |\n",
                            "| 6 | 273 | AreaShape_InertiaTensor_0_0                | 8.132388e-04 | 0.9773188 | high_vs_wt    | ns |\n",
                            "\n"
                        ],
                        "text/plain": [
                            "  X   feature                                    levene_statistic\n",
                            "1 427 RadialDistribution_ZernikePhase_OP_8_2     9.215577e-05    \n",
                            "2 439 Texture_AngularSecondMoment_OP_3_03_256    6.200963e-04    \n",
                            "3 148 RadialDistribution_ZernikeMagnitude_OP_6_4 6.497006e-04    \n",
                            "4 142 RadialDistribution_ZernikeMagnitude_OP_4_4 7.542741e-04    \n",
                            "5 557 AreaShape_Zernike_1_1                      7.959461e-04    \n",
                            "6 273 AreaShape_InertiaTensor_0_0                8.132388e-04    \n",
                            "  levene_p_value group         significance\n",
                            "1 0.9923639      high_vs_wt    ns          \n",
                            "2 0.9801938      high_vs_wt    ns          \n",
                            "3 0.9797298      high_vs_unsel ns          \n",
                            "4 0.9781598      high_vs_unsel ns          \n",
                            "5 0.9775457      unsel_vs_wt   ns          \n",
                            "6 0.9773188      high_vs_wt    ns          "
                        ]
                    },
                    "metadata": {},
                    "output_type": "display_data"
                }
            ],
            "source": [
                "# load levene data in \n",
                "levene_df_path <- file.path(\"..\",\"..\",\"data\",\"6.analysis_results\",\"levene_test_results.csv\")\n",
                "levene_df <- read.csv(levene_df_path)\n",
                "# make a new column for ***\n",
                "levene_df$significance <- ifelse(\n",
                "    levene_df$levene_p_value < 0.001, \"***\", \n",
                "    ifelse(levene_df$levene_p_value < 0.01, \"**\", \n",
                "    ifelse(levene_df$levene_p_value < 0.05, \"*\", \n",
                "    \"ns\")\n",
                "    )\n",
                ")\n",
                "head(levene_df)"
            ]
        },
        {
            "cell_type": "code",
            "execution_count": 4,
            "metadata": {
                "vscode": {
                    "languageId": "r"
                }
            },
            "outputs": [
                {
                    "data": {
                        "text/html": [
                            "<style>\n",
                            ".list-inline {list-style: none; margin:0; padding: 0}\n",
                            ".list-inline>li {display: inline-block}\n",
                            ".list-inline>li:not(:last-child)::after {content: \"\\00b7\"; padding: 0 .5ex}\n",
                            "</style>\n",
                            "<ol class=list-inline><li>'AreaShape_ConvexArea'</li><li>'AreaShape_MinFeretDiameter'</li><li>'AreaShape_MinorAxisLength'</li><li>'AreaShape_Zernike_0_0'</li><li>'AreaShape_Area'</li><li>'AreaShape_CentralMoment_0_0'</li><li>'AreaShape_SpatialMoment_0_0'</li><li>'AreaShape_EquivalentDiameter'</li><li>'AreaShape_MedianRadius'</li><li>'Intensity_MeanIntensityEdge_OP'</li></ol>\n"
                        ],
                        "text/latex": [
                            "\\begin{enumerate*}\n",
                            "\\item 'AreaShape\\_ConvexArea'\n",
                            "\\item 'AreaShape\\_MinFeretDiameter'\n",
                            "\\item 'AreaShape\\_MinorAxisLength'\n",
                            "\\item 'AreaShape\\_Zernike\\_0\\_0'\n",
                            "\\item 'AreaShape\\_Area'\n",
                            "\\item 'AreaShape\\_CentralMoment\\_0\\_0'\n",
                            "\\item 'AreaShape\\_SpatialMoment\\_0\\_0'\n",
                            "\\item 'AreaShape\\_EquivalentDiameter'\n",
                            "\\item 'AreaShape\\_MedianRadius'\n",
                            "\\item 'Intensity\\_MeanIntensityEdge\\_OP'\n",
                            "\\end{enumerate*}\n"
                        ],
                        "text/markdown": [
                            "1. 'AreaShape_ConvexArea'\n",
                            "2. 'AreaShape_MinFeretDiameter'\n",
                            "3. 'AreaShape_MinorAxisLength'\n",
                            "4. 'AreaShape_Zernike_0_0'\n",
                            "5. 'AreaShape_Area'\n",
                            "6. 'AreaShape_CentralMoment_0_0'\n",
                            "7. 'AreaShape_SpatialMoment_0_0'\n",
                            "8. 'AreaShape_EquivalentDiameter'\n",
                            "9. 'AreaShape_MedianRadius'\n",
                            "10. 'Intensity_MeanIntensityEdge_OP'\n",
                            "\n",
                            "\n"
                        ],
                        "text/plain": [
                            " [1] \"AreaShape_ConvexArea\"           \"AreaShape_MinFeretDiameter\"    \n",
                            " [3] \"AreaShape_MinorAxisLength\"      \"AreaShape_Zernike_0_0\"         \n",
                            " [5] \"AreaShape_Area\"                 \"AreaShape_CentralMoment_0_0\"   \n",
                            " [7] \"AreaShape_SpatialMoment_0_0\"    \"AreaShape_EquivalentDiameter\"  \n",
                            " [9] \"AreaShape_MedianRadius\"         \"Intensity_MeanIntensityEdge_OP\""
                        ]
                    },
                    "metadata": {},
                    "output_type": "display_data"
                },
                {
                    "data": {
                        "text/html": [
                            "<table class=\"dataframe\">\n",
                            "<caption>A tibble: 6 \u00d7 268</caption>\n",
                            "<thead>\n",
                            "\t<tr><th scope=col>Metadata_ImageNumber</th><th scope=col>Metadata_Image_FileName_OP</th><th scope=col>Metadata_ObjectNumber</th><th scope=col>Metadata_ConvertImageToObjects_Number_Object_Number</th><th scope=col>Metadata_ConvertImageToObjects_AreaShape_BoundingBoxArea</th><th scope=col>Metadata_ConvertImageToObjects_AreaShape_BoundingBoxMaximum_X</th><th scope=col>Metadata_ConvertImageToObjects_AreaShape_BoundingBoxMaximum_Y</th><th scope=col>Metadata_ConvertImageToObjects_AreaShape_BoundingBoxMinimum_X</th><th scope=col>Metadata_ConvertImageToObjects_AreaShape_BoundingBoxMinimum_Y</th><th scope=col>Metadata_ConvertImageToObjects_Location_CenterMassIntensity_X_OP</th><th scope=col>\u22ef</th><th scope=col>Texture_SumEntropy_OP_3_02_256</th><th scope=col>Texture_SumEntropy_OP_3_03_256</th><th scope=col>Texture_SumVariance_OP_3_00_256</th><th scope=col>Texture_SumVariance_OP_3_01_256</th><th scope=col>Texture_SumVariance_OP_3_02_256</th><th scope=col>Texture_SumVariance_OP_3_03_256</th><th scope=col>Texture_Variance_OP_3_00_256</th><th scope=col>Texture_Variance_OP_3_01_256</th><th scope=col>Texture_Variance_OP_3_02_256</th><th scope=col>Texture_Variance_OP_3_03_256</th></tr>\n",
                            "\t<tr><th scope=col>&lt;int&gt;</th><th scope=col>&lt;chr&gt;</th><th scope=col>&lt;int&gt;</th><th scope=col>&lt;int&gt;</th><th scope=col>&lt;dbl&gt;</th><th scope=col>&lt;dbl&gt;</th><th scope=col>&lt;dbl&gt;</th><th scope=col>&lt;dbl&gt;</th><th scope=col>&lt;dbl&gt;</th><th scope=col>&lt;dbl&gt;</th><th scope=col>\u22ef</th><th scope=col>&lt;dbl&gt;</th><th scope=col>&lt;dbl&gt;</th><th scope=col>&lt;dbl&gt;</th><th scope=col>&lt;dbl&gt;</th><th scope=col>&lt;dbl&gt;</th><th scope=col>&lt;dbl&gt;</th><th scope=col>&lt;dbl&gt;</th><th scope=col>&lt;dbl&gt;</th><th scope=col>&lt;dbl&gt;</th><th scope=col>&lt;dbl&gt;</th></tr>\n",
                            "</thead>\n",
                            "<tbody>\n",
                            "\t<tr><td>1</td><td>MAX_high_10_L.tiff</td><td>1</td><td>1</td><td>38250</td><td>269</td><td>182</td><td>44</td><td>12</td><td>131.5461</td><td>\u22ef</td><td>0.8414748</td><td>0.8345736</td><td> 1.14918564</td><td> 1.1522001</td><td> 1.07890507</td><td> 1.14484796</td><td> 1.04000878</td><td> 1.02573996</td><td> 1.04549223</td><td> 1.02761705</td></tr>\n",
                            "\t<tr><td>2</td><td>MAX_high_10_R.tiff</td><td>1</td><td>1</td><td>34170</td><td>208</td><td>245</td><td>38</td><td>44</td><td>106.9621</td><td>\u22ef</td><td>0.4524796</td><td>0.4361385</td><td> 0.11217819</td><td> 0.1319819</td><td> 0.10860250</td><td> 0.12569959</td><td> 0.07571690</td><td> 0.07120688</td><td> 0.07647711</td><td> 0.06792193</td></tr>\n",
                            "\t<tr><td>3</td><td>MAX_high_11_L.tiff</td><td>1</td><td>1</td><td>41736</td><td>250</td><td>267</td><td>62</td><td>45</td><td>131.3598</td><td>\u22ef</td><td>0.4948130</td><td>0.4908441</td><td>-0.01613966</td><td> 0.0010415</td><td>-0.02199706</td><td>-0.02099207</td><td>-0.03393425</td><td>-0.04263493</td><td>-0.03498345</td><td>-0.03876252</td></tr>\n",
                            "\t<tr><td>4</td><td>MAX_high_11_R.tiff</td><td>1</td><td>1</td><td>43616</td><td>212</td><td>272</td><td>24</td><td>40</td><td>101.0699</td><td>\u22ef</td><td>0.8787288</td><td>0.8656168</td><td> 1.12090459</td><td> 1.1406044</td><td> 1.07452904</td><td> 1.11794134</td><td> 1.03158516</td><td> 1.01517198</td><td> 1.03514983</td><td> 1.01918842</td></tr>\n",
                            "\t<tr><td>5</td><td>MAX_high_12_L.tiff</td><td>2</td><td>2</td><td>25894</td><td>283</td><td>155</td><td>69</td><td>34</td><td>164.5791</td><td>\u22ef</td><td>0.4767676</td><td>0.4826737</td><td> 0.17788587</td><td> 0.1479330</td><td> 0.10331342</td><td> 0.15645695</td><td> 0.11176513</td><td> 0.10784585</td><td> 0.11761376</td><td> 0.10885888</td></tr>\n",
                            "\t<tr><td>6</td><td>MAX_high_12_R.tiff</td><td>1</td><td>1</td><td>40920</td><td>229</td><td>265</td><td>43</td><td>45</td><td>119.3891</td><td>\u22ef</td><td>0.1422418</td><td>0.1351928</td><td>-0.28744321</td><td>-0.2676854</td><td>-0.30011318</td><td>-0.29231741</td><td>-0.31932910</td><td>-0.32658057</td><td>-0.31978483</td><td>-0.32240245</td></tr>\n",
                            "</tbody>\n",
                            "</table>\n"
                        ],
                        "text/latex": [
                            "A tibble: 6 \u00d7 268\n",
                            "\\begin{tabular}{lllllllllllllllllllll}\n",
                            " Metadata\\_ImageNumber & Metadata\\_Image\\_FileName\\_OP & Metadata\\_ObjectNumber & Metadata\\_ConvertImageToObjects\\_Number\\_Object\\_Number & Metadata\\_ConvertImageToObjects\\_AreaShape\\_BoundingBoxArea & Metadata\\_ConvertImageToObjects\\_AreaShape\\_BoundingBoxMaximum\\_X & Metadata\\_ConvertImageToObjects\\_AreaShape\\_BoundingBoxMaximum\\_Y & Metadata\\_ConvertImageToObjects\\_AreaShape\\_BoundingBoxMinimum\\_X & Metadata\\_ConvertImageToObjects\\_AreaShape\\_BoundingBoxMinimum\\_Y & Metadata\\_ConvertImageToObjects\\_Location\\_CenterMassIntensity\\_X\\_OP & \u22ef & Texture\\_SumEntropy\\_OP\\_3\\_02\\_256 & Texture\\_SumEntropy\\_OP\\_3\\_03\\_256 & Texture\\_SumVariance\\_OP\\_3\\_00\\_256 & Texture\\_SumVariance\\_OP\\_3\\_01\\_256 & Texture\\_SumVariance\\_OP\\_3\\_02\\_256 & Texture\\_SumVariance\\_OP\\_3\\_03\\_256 & Texture\\_Variance\\_OP\\_3\\_00\\_256 & Texture\\_Variance\\_OP\\_3\\_01\\_256 & Texture\\_Variance\\_OP\\_3\\_02\\_256 & Texture\\_Variance\\_OP\\_3\\_03\\_256\\\\\n",
                            " <int> & <chr> & <int> & <int> & <dbl> & <dbl> & <dbl> & <dbl> & <dbl> & <dbl> & \u22ef & <dbl> & <dbl> & <dbl> & <dbl> & <dbl> & <dbl> & <dbl> & <dbl> & <dbl> & <dbl>\\\\\n",
                            "\\hline\n",
                            "\t 1 & MAX\\_high\\_10\\_L.tiff & 1 & 1 & 38250 & 269 & 182 & 44 & 12 & 131.5461 & \u22ef & 0.8414748 & 0.8345736 &  1.14918564 &  1.1522001 &  1.07890507 &  1.14484796 &  1.04000878 &  1.02573996 &  1.04549223 &  1.02761705\\\\\n",
                            "\t 2 & MAX\\_high\\_10\\_R.tiff & 1 & 1 & 34170 & 208 & 245 & 38 & 44 & 106.9621 & \u22ef & 0.4524796 & 0.4361385 &  0.11217819 &  0.1319819 &  0.10860250 &  0.12569959 &  0.07571690 &  0.07120688 &  0.07647711 &  0.06792193\\\\\n",
                            "\t 3 & MAX\\_high\\_11\\_L.tiff & 1 & 1 & 41736 & 250 & 267 & 62 & 45 & 131.3598 & \u22ef & 0.4948130 & 0.4908441 & -0.01613966 &  0.0010415 & -0.02199706 & -0.02099207 & -0.03393425 & -0.04263493 & -0.03498345 & -0.03876252\\\\\n",
                            "\t 4 & MAX\\_high\\_11\\_R.tiff & 1 & 1 & 43616 & 212 & 272 & 24 & 40 & 101.0699 & \u22ef & 0.8787288 & 0.8656168 &  1.12090459 &  1.1406044 &  1.07452904 &  1.11794134 &  1.03158516 &  1.01517198 &  1.03514983 &  1.01918842\\\\\n",
                            "\t 5 & MAX\\_high\\_12\\_L.tiff & 2 & 2 & 25894 & 283 & 155 & 69 & 34 & 164.5791 & \u22ef & 0.4767676 & 0.4826737 &  0.17788587 &  0.1479330 &  0.10331342 &  0.15645695 &  0.11176513 &  0.10784585 &  0.11761376 &  0.10885888\\\\\n",
                            "\t 6 & MAX\\_high\\_12\\_R.tiff & 1 & 1 & 40920 & 229 & 265 & 43 & 45 & 119.3891 & \u22ef & 0.1422418 & 0.1351928 & -0.28744321 & -0.2676854 & -0.30011318 & -0.29231741 & -0.31932910 & -0.32658057 & -0.31978483 & -0.32240245\\\\\n",
                            "\\end{tabular}\n"
                        ],
                        "text/markdown": [
                            "\n",
                            "A tibble: 6 \u00d7 268\n",
                            "\n",
                            "| Metadata_ImageNumber &lt;int&gt; | Metadata_Image_FileName_OP &lt;chr&gt; | Metadata_ObjectNumber &lt;int&gt; | Metadata_ConvertImageToObjects_Number_Object_Number &lt;int&gt; | Metadata_ConvertImageToObjects_AreaShape_BoundingBoxArea &lt;dbl&gt; | Metadata_ConvertImageToObjects_AreaShape_BoundingBoxMaximum_X &lt;dbl&gt; | Metadata_ConvertImageToObjects_AreaShape_BoundingBoxMaximum_Y &lt;dbl&gt; | Metadata_ConvertImageToObjects_AreaShape_BoundingBoxMinimum_X &lt;dbl&gt; | Metadata_ConvertImageToObjects_AreaShape_BoundingBoxMinimum_Y &lt;dbl&gt; | Metadata_ConvertImageToObjects_Location_CenterMassIntensity_X_OP &lt;dbl&gt; | \u22ef \u22ef | Texture_SumEntropy_OP_3_02_256 &lt;dbl&gt; | Texture_SumEntropy_OP_3_03_256 &lt;dbl&gt; | Texture_SumVariance_OP_3_00_256 &lt;dbl&gt; | Texture_SumVariance_OP_3_01_256 &lt;dbl&gt; | Texture_SumVariance_OP_3_02_256 &lt;dbl&gt; | Texture_SumVariance_OP_3_03_256 &lt;dbl&gt; | Texture_Variance_OP_3_00_256 &lt;dbl&gt; | Texture_Variance_OP_3_01_256 &lt;dbl&gt; | Texture_Variance_OP_3_02_256 &lt;dbl&gt; | Texture_Variance_OP_3_03_256 &lt;dbl&gt; |\n",
                            "|---|---|---|---|---|---|---|---|---|---|---|---|---|---|---|---|---|---|---|---|---|\n",
                            "| 1 | MAX_high_10_L.tiff | 1 | 1 | 38250 | 269 | 182 | 44 | 12 | 131.5461 | \u22ef | 0.8414748 | 0.8345736 |  1.14918564 |  1.1522001 |  1.07890507 |  1.14484796 |  1.04000878 |  1.02573996 |  1.04549223 |  1.02761705 |\n",
                            "| 2 | MAX_high_10_R.tiff | 1 | 1 | 34170 | 208 | 245 | 38 | 44 | 106.9621 | \u22ef | 0.4524796 | 0.4361385 |  0.11217819 |  0.1319819 |  0.10860250 |  0.12569959 |  0.07571690 |  0.07120688 |  0.07647711 |  0.06792193 |\n",
                            "| 3 | MAX_high_11_L.tiff | 1 | 1 | 41736 | 250 | 267 | 62 | 45 | 131.3598 | \u22ef | 0.4948130 | 0.4908441 | -0.01613966 |  0.0010415 | -0.02199706 | -0.02099207 | -0.03393425 | -0.04263493 | -0.03498345 | -0.03876252 |\n",
                            "| 4 | MAX_high_11_R.tiff | 1 | 1 | 43616 | 212 | 272 | 24 | 40 | 101.0699 | \u22ef | 0.8787288 | 0.8656168 |  1.12090459 |  1.1406044 |  1.07452904 |  1.11794134 |  1.03158516 |  1.01517198 |  1.03514983 |  1.01918842 |\n",
                            "| 5 | MAX_high_12_L.tiff | 2 | 2 | 25894 | 283 | 155 | 69 | 34 | 164.5791 | \u22ef | 0.4767676 | 0.4826737 |  0.17788587 |  0.1479330 |  0.10331342 |  0.15645695 |  0.11176513 |  0.10784585 |  0.11761376 |  0.10885888 |\n",
                            "| 6 | MAX_high_12_R.tiff | 1 | 1 | 40920 | 229 | 265 | 43 | 45 | 119.3891 | \u22ef | 0.1422418 | 0.1351928 | -0.28744321 | -0.2676854 | -0.30011318 | -0.29231741 | -0.31932910 | -0.32658057 | -0.31978483 | -0.32240245 |\n",
                            "\n"
                        ],
                        "text/plain": [
                            "  Metadata_ImageNumber Metadata_Image_FileName_OP Metadata_ObjectNumber\n",
                            "1 1                    MAX_high_10_L.tiff         1                    \n",
                            "2 2                    MAX_high_10_R.tiff         1                    \n",
                            "3 3                    MAX_high_11_L.tiff         1                    \n",
                            "4 4                    MAX_high_11_R.tiff         1                    \n",
                            "5 5                    MAX_high_12_L.tiff         2                    \n",
                            "6 6                    MAX_high_12_R.tiff         1                    \n",
                            "  Metadata_ConvertImageToObjects_Number_Object_Number\n",
                            "1 1                                                  \n",
                            "2 1                                                  \n",
                            "3 1                                                  \n",
                            "4 1                                                  \n",
                            "5 2                                                  \n",
                            "6 1                                                  \n",
                            "  Metadata_ConvertImageToObjects_AreaShape_BoundingBoxArea\n",
                            "1 38250                                                   \n",
                            "2 34170                                                   \n",
                            "3 41736                                                   \n",
                            "4 43616                                                   \n",
                            "5 25894                                                   \n",
                            "6 40920                                                   \n",
                            "  Metadata_ConvertImageToObjects_AreaShape_BoundingBoxMaximum_X\n",
                            "1 269                                                          \n",
                            "2 208                                                          \n",
                            "3 250                                                          \n",
                            "4 212                                                          \n",
                            "5 283                                                          \n",
                            "6 229                                                          \n",
                            "  Metadata_ConvertImageToObjects_AreaShape_BoundingBoxMaximum_Y\n",
                            "1 182                                                          \n",
                            "2 245                                                          \n",
                            "3 267                                                          \n",
                            "4 272                                                          \n",
                            "5 155                                                          \n",
                            "6 265                                                          \n",
                            "  Metadata_ConvertImageToObjects_AreaShape_BoundingBoxMinimum_X\n",
                            "1 44                                                           \n",
                            "2 38                                                           \n",
                            "3 62                                                           \n",
                            "4 24                                                           \n",
                            "5 69                                                           \n",
                            "6 43                                                           \n",
                            "  Metadata_ConvertImageToObjects_AreaShape_BoundingBoxMinimum_Y\n",
                            "1 12                                                           \n",
                            "2 44                                                           \n",
                            "3 45                                                           \n",
                            "4 40                                                           \n",
                            "5 34                                                           \n",
                            "6 45                                                           \n",
                            "  Metadata_ConvertImageToObjects_Location_CenterMassIntensity_X_OP \u22ef\n",
                            "1 131.5461                                                         \u22ef\n",
                            "2 106.9621                                                         \u22ef\n",
                            "3 131.3598                                                         \u22ef\n",
                            "4 101.0699                                                         \u22ef\n",
                            "5 164.5791                                                         \u22ef\n",
                            "6 119.3891                                                         \u22ef\n",
                            "  Texture_SumEntropy_OP_3_02_256 Texture_SumEntropy_OP_3_03_256\n",
                            "1 0.8414748                      0.8345736                     \n",
                            "2 0.4524796                      0.4361385                     \n",
                            "3 0.4948130                      0.4908441                     \n",
                            "4 0.8787288                      0.8656168                     \n",
                            "5 0.4767676                      0.4826737                     \n",
                            "6 0.1422418                      0.1351928                     \n",
                            "  Texture_SumVariance_OP_3_00_256 Texture_SumVariance_OP_3_01_256\n",
                            "1  1.14918564                      1.1522001                     \n",
                            "2  0.11217819                      0.1319819                     \n",
                            "3 -0.01613966                      0.0010415                     \n",
                            "4  1.12090459                      1.1406044                     \n",
                            "5  0.17788587                      0.1479330                     \n",
                            "6 -0.28744321                     -0.2676854                     \n",
                            "  Texture_SumVariance_OP_3_02_256 Texture_SumVariance_OP_3_03_256\n",
                            "1  1.07890507                      1.14484796                    \n",
                            "2  0.10860250                      0.12569959                    \n",
                            "3 -0.02199706                     -0.02099207                    \n",
                            "4  1.07452904                      1.11794134                    \n",
                            "5  0.10331342                      0.15645695                    \n",
                            "6 -0.30011318                     -0.29231741                    \n",
                            "  Texture_Variance_OP_3_00_256 Texture_Variance_OP_3_01_256\n",
                            "1  1.04000878                   1.02573996                 \n",
                            "2  0.07571690                   0.07120688                 \n",
                            "3 -0.03393425                  -0.04263493                 \n",
                            "4  1.03158516                   1.01517198                 \n",
                            "5  0.11176513                   0.10784585                 \n",
                            "6 -0.31932910                  -0.32658057                 \n",
                            "  Texture_Variance_OP_3_02_256 Texture_Variance_OP_3_03_256\n",
                            "1  1.04549223                   1.02761705                 \n",
                            "2  0.07647711                   0.06792193                 \n",
                            "3 -0.03498345                  -0.03876252                 \n",
                            "4  1.03514983                   1.01918842                 \n",
                            "5  0.11761376                   0.10885888                 \n",
                            "6 -0.31978483                  -0.32240245                 "
                        ]
                    },
                    "metadata": {},
                    "output_type": "display_data"
                }
            ],
            "source": [
                "width <- 4\n",
                "height <- 4\n",
                "options(repr.plot.width = width, repr.plot.height = height)\n",
                "# make a new column for the group1 and group2\n",
                "anova_genotype_side_identity_df$comparison <- paste(anova_genotype_side_identity_df$group1, anova_genotype_side_identity_df$group2, sep = \" - \")\n",
                "\n",
                "# order the results by anova p-value\n",
                "anova_genotype_side_identity_df <- anova_genotype_side_identity_df %>% arrange(anova_p_value)\n",
                "features <- unique(anova_genotype_side_identity_df$feature)[1:10]\n",
                "features\n",
                "top_10_anova_genotype_side_identity_df <- anova_genotype_side_identity_df %>% filter(feature %in% features)\n",
                "top_10_anova_genotype_side_identity_df$log10_tukey_p_value <- -log10(top_10_anova_genotype_side_identity_df$`p-adj`)\n",
                "# make the genotype a factor\n",
                "# replace the genotype values\n",
                "data_df$Metadata_genotype <- gsub(\"wt\", \"WT\", data_df$Metadata_genotype)\n",
                "data_df$Metadata_genotype <- gsub(\"unsel\", \"Unselected\", data_df$Metadata_genotype)\n",
                "data_df$Metadata_genotype <- gsub(\"high\", \"High\", data_df$Metadata_genotype)\n",
                "data_df$Metadata_genotype <- factor(\n",
                "    data_df$Metadata_genotype, \n",
                "    levels = c(\"WT\", \"Unselected\", \"High\")\n",
                ")\n",
                "head(data_df)"
            ]
        },
        {
            "cell_type": "code",
            "execution_count": 22,
            "metadata": {
                "vscode": {
                    "languageId": "r"
                }
            },
            "outputs": [
                {
                    "name": "stdout",
                    "output_type": "stream",
                    "text": [
                        "[1] \"AreaShape_ConvexArea\"\n"
                    ]
                },
                {
                    "name": "stderr",
                    "output_type": "stream",
                    "text": [
                        "\u001b[1m\u001b[22m`summarise()` has grouped output by 'Metadata_genotype'. You can override using\n",
                        "the `.groups` argument.\n"
                    ]
                },
                {
                    "name": "stdout",
                    "output_type": "stream",
                    "text": [
                        "[1] \"AreaShape_MinFeretDiameter\"\n"
                    ]
                },
                {
                    "name": "stderr",
                    "output_type": "stream",
                    "text": [
                        "\u001b[1m\u001b[22m`summarise()` has grouped output by 'Metadata_genotype'. You can override using\n",
                        "the `.groups` argument.\n"
                    ]
                },
                {
                    "name": "stdout",
                    "output_type": "stream",
                    "text": [
                        "[1] \"AreaShape_MinorAxisLength\"\n"
                    ]
                },
                {
                    "name": "stderr",
                    "output_type": "stream",
                    "text": [
                        "\u001b[1m\u001b[22m`summarise()` has grouped output by 'Metadata_genotype'. You can override using\n",
                        "the `.groups` argument.\n"
                    ]
                },
                {
                    "name": "stdout",
                    "output_type": "stream",
                    "text": [
                        "[1] \"AreaShape_Zernike_0_0\"\n"
                    ]
                },
                {
                    "name": "stderr",
                    "output_type": "stream",
                    "text": [
                        "\u001b[1m\u001b[22m`summarise()` has grouped output by 'Metadata_genotype'. You can override using\n",
                        "the `.groups` argument.\n"
                    ]
                },
                {
                    "name": "stdout",
                    "output_type": "stream",
                    "text": [
                        "[1] \"AreaShape_Area\"\n"
                    ]
                },
                {
                    "name": "stderr",
                    "output_type": "stream",
                    "text": [
                        "\u001b[1m\u001b[22m`summarise()` has grouped output by 'Metadata_genotype'. You can override using\n",
                        "the `.groups` argument.\n"
                    ]
                },
                {
                    "name": "stdout",
                    "output_type": "stream",
                    "text": [
                        "[1] \"AreaShape_CentralMoment_0_0\"\n"
                    ]
                },
                {
                    "name": "stderr",
                    "output_type": "stream",
                    "text": [
                        "\u001b[1m\u001b[22m`summarise()` has grouped output by 'Metadata_genotype'. You can override using\n",
                        "the `.groups` argument.\n"
                    ]
                },
                {
                    "name": "stdout",
                    "output_type": "stream",
                    "text": [
                        "[1] \"AreaShape_SpatialMoment_0_0\"\n"
                    ]
                },
                {
                    "name": "stderr",
                    "output_type": "stream",
                    "text": [
                        "\u001b[1m\u001b[22m`summarise()` has grouped output by 'Metadata_genotype'. You can override using\n",
                        "the `.groups` argument.\n"
                    ]
                },
                {
                    "name": "stdout",
                    "output_type": "stream",
                    "text": [
                        "[1] \"AreaShape_EquivalentDiameter\"\n"
                    ]
                },
                {
                    "name": "stderr",
                    "output_type": "stream",
                    "text": [
                        "\u001b[1m\u001b[22m`summarise()` has grouped output by 'Metadata_genotype'. You can override using\n",
                        "the `.groups` argument.\n"
                    ]
                },
                {
                    "name": "stdout",
                    "output_type": "stream",
                    "text": [
                        "[1] \"AreaShape_MedianRadius\"\n"
                    ]
                },
                {
                    "name": "stderr",
                    "output_type": "stream",
                    "text": [
                        "\u001b[1m\u001b[22m`summarise()` has grouped output by 'Metadata_genotype'. You can override using\n",
                        "the `.groups` argument.\n"
                    ]
                },
                {
                    "name": "stdout",
                    "output_type": "stream",
                    "text": [
                        "[1] \"Intensity_MeanIntensityEdge_OP\"\n"
                    ]
                },
                {
                    "name": "stderr",
                    "output_type": "stream",
                    "text": [
                        "\u001b[1m\u001b[22m`summarise()` has grouped output by 'Metadata_genotype'. You can override using\n",
                        "the `.groups` argument.\n"
                    ]
                }
            ],
            "source": [
                "width <- 8\n",
                "height <- 8\n",
                "\n",
                "list_of_genotype_side_identity_anova_plots_split_by_genotype <- list()\n",
                "list_of_genotype_side_identity_anova_plots_split_by_genotype_side <- list()\n",
                "\n",
                "for (i in 1:length(features)){\n",
                "    print(features[i])\n",
                "    # get the top feature\n",
                "    tmp <- data_df %>% select(c(\"Metadata_genotype\", \"Metadata_identity\", \"Metadata_side\", features[i]))\n",
                "    # aggregate the data to get the mean and standard deviation of the top feature\n",
                "    tmp <- tmp %>% group_by(Metadata_genotype) %>% summarise(mean = mean(!!as.name(features[i])), sd = sd(!!as.name(features[i])))\n",
                "    # get the AreaShape_ConvexArea feature\n",
                "    tmp_df <- levene_df %>% filter(feature == \"AreaShape_EquivalentDiameter\")\n",
                "    # get the high_vs_unselected significance\n",
                "    high_vs_unselected_significance <- tmp_df %>% filter(group == \"high_vs_unsel\")\n",
                "    high_vs_unselected_significance <- high_vs_unselected_significance$significance\n",
                "    WT_vs_unselected_significance <- tmp_df %>% filter(group == \"unsel_vs_wt\")\n",
                "    WT_vs_unselected_significance <- WT_vs_unselected_significance$significance\n",
                "    WT_vs_high_significance <- tmp_df %>% filter(group == \"high_vs_wt\")\n",
                "    WT_vs_high_significance <- WT_vs_high_significance$significance\n",
                "    all_significance <- tmp_df %>% filter(group == \"all\")\n",
                "    all_significance <- all_significance$significance\n",
                "    \n",
                "\n",
                "    # calculate the variance where variance = sd^2\n",
                "    tmp$variance <- tmp$sd^2\n",
                "    title <- gsub(\"_\", \" \", features[i])\n",
                "    # plot the variability of the top feature\n",
                "    var_plot <- (\n",
                "        ggplot(tmp, aes(x = Metadata_genotype, y = variance, fill = Metadata_genotype)) \n",
                "        + geom_bar(stat = \"identity\")\n",
                "        + theme(axis.text.x = element_text(angle = 90, hjust = 1))\n",
                "        + labs(title = title, x = \"Genotype\", y = \"Variance\", fill = \"Genotype\")\n",
                "        + theme_bw()\n",
                "        + figure_theme\n",
                "        + ylim(0,1)\n",
                "        # add significance bars\n",
                "        + geom_signif(\n",
                "            comparisons = list(c(\"High\",\"Unselected\")), \n",
                "            annotations = high_vs_unselected_significance,\n",
                "            textsize = 7\n",
                "        ) \n",
                "        + geom_signif(\n",
                "            comparisons = list(c(\"WT\",\"Unselected\")), \n",
                "            annotations = WT_vs_unselected_significance, \n",
                "            textsize = 7\n",
                "        )\n",
                "        + geom_signif(\n",
                "            comparisons = list(c(\"High\",\"WT\")), \n",
                "            annotations = WT_vs_high_significance,\n",
                "            textsize = 7,\n",
                "            vjust = 0.1,\n",
                "            y_position = c(0.9, 0.99)\n",
                "        )\n",
                "    )\n",
                "    # save var plot\n",
                "    ggsave(file = paste0(features[i], \"_variance_plot_genotype.png\"), plot = var_plot, path = file.path(\"..\", \"figures\"), width = width, height = height, dpi = 600)\n",
                "\n",
                "    list_of_genotype_side_identity_anova_plots_split_by_genotype[[i]] <- var_plot\n",
                "    # get the top feature\n",
                "    tmp <- data_df %>% select(c(\"Metadata_genotype\", \"Metadata_identity\", \"Metadata_side\", features[i]))\n",
                "    # aggregate the data to get the mean and standard deviation of the top feature\n",
                "    tmp <- tmp %>% group_by(Metadata_genotype, Metadata_side) %>% summarise(mean = mean(!!as.name(features[i])), sd = sd(!!as.name(features[i])))\n",
                "    # calculate the variance where variance = sd^2\n",
                "    tmp$variance <- tmp$sd^2\n",
                "    # plot the variability of the top feature\n",
                "    var_plot <- (\n",
                "        ggplot(tmp, aes(x = Metadata_genotype, y = variance, fill = Metadata_side)) \n",
                "        + geom_bar(stat = \"identity\", position = \"dodge\")\n",
                "        + theme(axis.text.x = element_text(angle = 90, hjust = 1))\n",
                "        + labs(title = title, x = \"Genotype\", y = \"Variance\", fill = \"Side\")\n",
                "\n",
                "        + theme_bw()\n",
                "        + figure_theme\n",
                "    )\n",
                "    # save var plot\n",
                "    ggsave(file = paste0(features[i], \"_variance_plot_genotype_side.png\"), plot = var_plot, path = file.path(\"..\", \"figures\"), width = width, height = height, dpi = 600)\n",
                "\n",
                "    list_of_genotype_side_identity_anova_plots_split_by_genotype_side[[i]] <- var_plot\n",
                "}"
            ]
        },
        {
            "cell_type": "code",
            "execution_count": 23,
            "metadata": {
                "vscode": {
                    "languageId": "r"
                }
            },
            "outputs": [
                {
                    "data": {
                        "image/png": "[encoded data removed]",
                        "text/plain": [
                            "plot without title"
                        ]
                    },
                    "metadata": {
                        "image/png": {
                            "height": 480,
                            "width": 480
                        }
                    },
                    "output_type": "display_data"
                }
            ],
            "source": [
                "width <- 8\n",
                "height <- 8\n",
                "options(repr.plot.width = width, repr.plot.height = height)\n",
                "list_of_genotype_side_identity_anova_plots_split_by_genotype[[1]]"
            ]
        }
    ],
    "metadata": {
        "kernelspec": {
            "display_name": "R",
            "language": "R",
            "name": "ir"
        },
        "language_info": {
            "codemirror_mode": "r",
            "file_extension": ".r",
            "mimetype": "text/x-r-source",
            "name": "R",
            "pygments_lexer": "r",
            "version": "4.2.2"
        }
    },
    "nbformat": 4,
    "nbformat_minor": 2
}
