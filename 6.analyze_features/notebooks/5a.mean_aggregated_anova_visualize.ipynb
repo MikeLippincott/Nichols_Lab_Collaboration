{
    "cells": [
        {
            "cell_type": "code",
            "execution_count": null,
            "id": "603b4a74",
            "metadata": {
                "execution": {
                    "iopub.execute_input": "2024-10-09T15:15:27.638287Z",
                    "iopub.status.busy": "2024-10-09T15:15:27.636459Z",
                    "iopub.status.idle": "2024-10-09T15:15:27.999280Z",
                    "shell.execute_reply": "2024-10-09T15:15:27.998429Z"
                },
                "papermill": {
                    "duration": 0.384174,
                    "end_time": "2024-10-09T15:15:28.000144",
                    "exception": false,
                    "start_time": "2024-10-09T15:15:27.615970",
                    "status": "completed"
                },
                "tags": [],
                "vscode": {
                    "languageId": "r"
                }
            },
            "outputs": [],
            "source": [
                "# load libraries\n",
                "suppressWarnings(suppressPackageStartupMessages(library(ggplot2)))\n",
                "suppressWarnings(suppressPackageStartupMessages(library(dplyr)))\n",
                "suppressWarnings(suppressPackageStartupMessages(library(arrow)))\n",
                "suppressWarnings(suppressPackageStartupMessages(library(patchwork)))\n",
                "suppressWarnings(suppressPackageStartupMessages(library(ggsignif)))\n",
                "# import ggplot theme\n",
                "source(\"../../utils/figure_themes.r\")"
            ]
        },
        {
            "cell_type": "code",
            "execution_count": null,
            "id": "5a572dc3",
            "metadata": {
                "execution": {
                    "iopub.execute_input": "2024-10-09T15:15:28.018482Z",
                    "iopub.status.busy": "2024-10-09T15:15:28.003940Z",
                    "iopub.status.idle": "2024-10-09T15:15:28.211503Z",
                    "shell.execute_reply": "2024-10-09T15:15:28.210702Z"
                },
                "papermill": {
                    "duration": 0.210439,
                    "end_time": "2024-10-09T15:15:28.212352",
                    "exception": false,
                    "start_time": "2024-10-09T15:15:28.001913",
                    "status": "completed"
                },
                "tags": [],
                "vscode": {
                    "languageId": "r"
                }
            },
            "outputs": [],
            "source": [
                "# path to the anova data\n",
                "mean_aggregated_anova_genotype_df_path <- file.path(\"..\",\"..\",\"data\",\"6.analysis_results\",\"mean_aggregated_anova_results.parquet\")\n",
                "mean_aggregated_data_path <- file.path(\"..\",\"..\",\"data\",\"5.converted_data\",\"mean_aggregated_data.parquet\")\n",
                "fig_path <- file.path(\"..\",\"figures\",\"mean_aggregated\")\n",
                "# create the figure directory if it does not exist\n",
                "if (!dir.exists(fig_path)){\n",
                "  dir.create(fig_path, recursive = TRUE)\n",
                "}\n",
                "\n",
                "individual_fig_path <- file.path(fig_path,\"individual_features\")\n",
                "# create the figure directory if it does not exist\n",
                "if (!dir.exists(individual_fig_path)){\n",
                "  dir.create(individual_fig_path, recursive = TRUE)\n",
                "}\n",
                "\n",
                "barplot_fig_path <- file.path(individual_fig_path,\"barplot\")\n",
                "# create the figure directory if it does not exist\n",
                "if (!dir.exists(barplot_fig_path)){\n",
                "  dir.create(barplot_fig_path, recursive = TRUE)\n",
                "}\n",
                "\n",
                "boxplot_fig_path <- file.path(individual_fig_path,\"boxplot\")\n",
                "# create the figure directory if it does not exist\n",
                "if (!dir.exists(boxplot_fig_path)){\n",
                "  dir.create(boxplot_fig_path, recursive = TRUE)\n",
                "}\n",
                "\n",
                "\n",
                "# read the data\n",
                "mean_aggregated_data_df <- arrow::read_parquet(mean_aggregated_data_path)\n",
                "head(mean_aggregated_data_df)\n",
                "\n",
                "# read the anova data\n",
                "mean_aggregated_anova_df <- arrow::read_parquet(mean_aggregated_anova_genotype_df_path)\n"
            ]
        },
        {
            "cell_type": "markdown",
            "id": "6d87ffd1",
            "metadata": {
                "papermill": {
                    "duration": 0.001775,
                    "end_time": "2024-10-09T15:15:28.216338",
                    "exception": false,
                    "start_time": "2024-10-09T15:15:28.214563",
                    "status": "completed"
                },
                "tags": []
            },
            "source": [
                "## Genotype, side and identity level data"
            ]
        },
        {
            "cell_type": "markdown",
            "id": "7d732436",
            "metadata": {
                "papermill": {
                    "duration": 0.002025,
                    "end_time": "2024-10-09T15:15:28.220147",
                    "exception": false,
                    "start_time": "2024-10-09T15:15:28.218122",
                    "status": "completed"
                },
                "tags": []
            },
            "source": [
                "### ANOVA means"
            ]
        },
        {
            "cell_type": "code",
            "execution_count": null,
            "id": "fc69c991",
            "metadata": {
                "execution": {
                    "iopub.execute_input": "2024-10-09T15:15:28.226253Z",
                    "iopub.status.busy": "2024-10-09T15:15:28.225499Z",
                    "iopub.status.idle": "2024-10-09T15:15:28.258871Z",
                    "shell.execute_reply": "2024-10-09T15:15:28.258150Z"
                },
                "papermill": {
                    "duration": 0.037615,
                    "end_time": "2024-10-09T15:15:28.259733",
                    "exception": false,
                    "start_time": "2024-10-09T15:15:28.222118",
                    "status": "completed"
                },
                "tags": [],
                "vscode": {
                    "languageId": "r"
                }
            },
            "outputs": [],
            "source": [
                "\n",
                "mean_aggregated_anova_df$log10_anova_p_value <- -log10(mean_aggregated_anova_df$anova_p_value)\n",
                "# order the results by log10 anova p-value\n",
                "mean_aggregated_anova_df <- mean_aggregated_anova_df %>% arrange(log10_anova_p_value)\n",
                "# split the feature into 3 groups at \"_\"\n",
                "mean_aggregated_anova_df$feature_type <- sapply(strsplit(mean_aggregated_anova_df$feature, \"_\"), function(x) x[1])\n",
                "mean_aggregated_anova_df$feature_name <- sapply(strsplit(mean_aggregated_anova_df$feature, \"_\"), function(x) x[2])\n",
                "head(mean_aggregated_anova_df)\n"
            ]
        },
        {
            "cell_type": "code",
            "execution_count": null,
            "id": "4a7ac65f",
            "metadata": {
                "execution": {
                    "iopub.execute_input": "2024-10-09T15:15:28.266208Z",
                    "iopub.status.busy": "2024-10-09T15:15:28.265396Z",
                    "iopub.status.idle": "2024-10-09T15:15:30.628938Z",
                    "shell.execute_reply": "2024-10-09T15:15:30.628211Z"
                },
                "papermill": {
                    "duration": 2.368077,
                    "end_time": "2024-10-09T15:15:30.630012",
                    "exception": false,
                    "start_time": "2024-10-09T15:15:28.261935",
                    "status": "completed"
                },
                "tags": [],
                "vscode": {
                    "languageId": "r"
                }
            },
            "outputs": [],
            "source": [
                "width <- 20\n",
                "height <- 10\n",
                "options(repr.plot.width = width, repr.plot.height = height)\n",
                "anova_plot <- (\n",
                "    # order the results by log10 anova p-value\n",
                "    ggplot(mean_aggregated_anova_df, aes(y = reorder(feature, log10_anova_p_value), x = log10_anova_p_value, fill = feature_type))\n",
                "    + geom_bar(stat = \"identity\")\n",
                "    # drop y axis labels\n",
                "    + theme(axis.text.x = element_text(angle = 90, hjust = 1))\n",
                "    + labs(title = \"ANOVA Analysis\", y = \"Feature\", x = \"-log10(ANOVA p-value)\", fill = \"Feature Type\")\n",
                "   \n",
                "    + figure_theme\n",
                "\n",
                "\n",
                "    + theme(axis.text.y = element_blank(), panel.grid.major = element_blank(), panel.grid.minor = element_blank())\n",
                "    + theme(axis.text.y = element_blank())\n",
                "    + geom_hline(yintercept = length(unique(mean_aggregated_anova_df$feature))-10, linetype = \"dashed\", color = \"black\")\n",
                "     \n",
                ")\n",
                "anova_plot\n",
                "# save the plot\n",
                "ggsave(file = \"mean_aggregated_anova_plot.png\", plot = anova_plot, path = file.path(fig_path), width = width, height = height, dpi = 600)"
            ]
        },
        {
            "cell_type": "markdown",
            "id": "ca8d48ef",
            "metadata": {
                "papermill": {
                    "duration": 0.00332,
                    "end_time": "2024-10-09T15:15:30.636802",
                    "exception": false,
                    "start_time": "2024-10-09T15:15:30.633482",
                    "status": "completed"
                },
                "tags": []
            },
            "source": [
                "## Test for equality of variance "
            ]
        },
        {
            "cell_type": "code",
            "execution_count": null,
            "id": "4c856a9c",
            "metadata": {
                "execution": {
                    "iopub.execute_input": "2024-10-09T15:15:30.644366Z",
                    "iopub.status.busy": "2024-10-09T15:15:30.643741Z",
                    "iopub.status.idle": "2024-10-09T15:15:30.660851Z",
                    "shell.execute_reply": "2024-10-09T15:15:30.660162Z"
                },
                "papermill": {
                    "duration": 0.021706,
                    "end_time": "2024-10-09T15:15:30.661636",
                    "exception": false,
                    "start_time": "2024-10-09T15:15:30.639930",
                    "status": "completed"
                },
                "tags": [],
                "vscode": {
                    "languageId": "r"
                }
            },
            "outputs": [],
            "source": [
                "# load levene data in \n",
                "mean_aggregated_levene_df_path <- file.path(\"..\",\"..\",\"data\",\"6.analysis_results\",\"mean_aggregated_levene_test_results.csv\")\n",
                "mean_aggregated_levene_df <- read.csv(mean_aggregated_levene_df_path)\n",
                "# make a new column for ***\n",
                "mean_aggregated_levene_df$significance <- ifelse(\n",
                "    mean_aggregated_levene_df$levene_p_value < 0.001, \"***\", \n",
                "    ifelse(mean_aggregated_levene_df$levene_p_value < 0.01, \"**\", \n",
                "    ifelse(mean_aggregated_levene_df$levene_p_value < 0.05, \"*\", \n",
                "    \"ns\")\n",
                "    )\n",
                ")\n",
                "head(mean_aggregated_levene_df)"
            ]
        },
        {
            "cell_type": "markdown",
            "id": "933ce2af",
            "metadata": {
                "papermill": {
                    "duration": 0.003193,
                    "end_time": "2024-10-09T15:15:30.668043",
                    "exception": false,
                    "start_time": "2024-10-09T15:15:30.664850",
                    "status": "completed"
                },
                "tags": []
            },
            "source": [
                "### Variances"
            ]
        },
        {
            "cell_type": "code",
            "execution_count": null,
            "id": "8c5cb2a5",
            "metadata": {
                "execution": {
                    "iopub.execute_input": "2024-10-09T15:15:30.676058Z",
                    "iopub.status.busy": "2024-10-09T15:15:30.675423Z",
                    "iopub.status.idle": "2024-10-09T15:15:30.774757Z",
                    "shell.execute_reply": "2024-10-09T15:15:30.773998Z"
                },
                "papermill": {
                    "duration": 0.104287,
                    "end_time": "2024-10-09T15:15:30.775595",
                    "exception": false,
                    "start_time": "2024-10-09T15:15:30.671308",
                    "status": "completed"
                },
                "tags": [],
                "vscode": {
                    "languageId": "r"
                }
            },
            "outputs": [],
            "source": [
                "width <- 4\n",
                "height <- 4\n",
                "options(repr.plot.width = width, repr.plot.height = height)\n",
                "# make a new column for the group1 and group2\n",
                "mean_aggregated_anova_df$comparison <- paste(mean_aggregated_anova_df$group1, mean_aggregated_anova_df$group2, sep = \" - \")\n",
                "\n",
                "# order the results by anova p-value\n",
                "mean_aggregated_anova_df <- mean_aggregated_anova_df %>% arrange(anova_p_value)\n",
                "features <- unique(mean_aggregated_anova_df$feature)\n",
                "top_20_mean_aggregated_anova_df <- mean_aggregated_anova_df %>% filter(feature %in% features)\n",
                "top_20_mean_aggregated_anova_df$log10_tukey_p_value <- -log10(top_20_mean_aggregated_anova_df$`p-adj`)\n",
                "# make the genotype a factor\n",
                "# replace the genotype values\n",
                "mean_aggregated_data_df$Metadata_genotype <- gsub(\"wt\", \"Wild Type\", mean_aggregated_data_df$Metadata_genotype)\n",
                "mean_aggregated_data_df$Metadata_genotype <- gsub(\"unsel\", \"Mid-Severity\", mean_aggregated_data_df$Metadata_genotype)\n",
                "mean_aggregated_data_df$Metadata_genotype <- gsub(\"high\", \"High-Severity\", mean_aggregated_data_df$Metadata_genotype)\n",
                "mean_aggregated_data_df$Metadata_genotype <- factor(\n",
                "    mean_aggregated_data_df$Metadata_genotype, \n",
                "    levels = c(\"Wild Type\", \"Mid-Severity\", \"High-Severity\")\n",
                ")\n",
                "head(mean_aggregated_data_df)"
            ]
        },
        {
            "cell_type": "code",
            "execution_count": null,
            "id": "ab9b2dc6",
            "metadata": {
                "execution": {
                    "iopub.execute_input": "2024-10-09T15:15:30.784935Z",
                    "iopub.status.busy": "2024-10-09T15:15:30.784318Z",
                    "iopub.status.idle": "2024-10-09T15:15:43.812195Z",
                    "shell.execute_reply": "2024-10-09T15:15:43.811255Z"
                },
                "papermill": {
                    "duration": 13.033517,
                    "end_time": "2024-10-09T15:15:43.813066",
                    "exception": false,
                    "start_time": "2024-10-09T15:15:30.779549",
                    "status": "completed"
                },
                "tags": [],
                "vscode": {
                    "languageId": "r"
                }
            },
            "outputs": [],
            "source": [
                "width <- 8\n",
                "height <- 8\n",
                "\n",
                "list_of_variance_bar_plots <- list()\n",
                "list_of_feature_box_plots <- list()\n",
                "\n",
                "for (i in 1:length(features)){\n",
                "    print(features[i])\n",
                "    # get the top feature\n",
                "    tmp <- mean_aggregated_data_df %>% select(c(\"Metadata_genotype\", features[i]))\n",
                "    # aggregate the data to get the mean and standard deviation of the top feature\n",
                "    tmp <- tmp %>% group_by(Metadata_genotype) %>% summarise(mean = mean(!!as.name(features[i])), sd = sd(!!as.name(features[i])))\n",
                "\n",
                "    # get the levene test result for the selected feature\n",
                "    tmp_levene <- mean_aggregated_levene_df %>% filter(feature == features[i])\n",
                "    WT_vs_high_significance <- tmp_levene %>% filter(group == \"high_vs_wt\")\n",
                "    WT_vs_unsel_significance <- tmp_levene %>% filter(group == \"unsel_vs_wt\")\n",
                "    unsel_vs_high_significance <- tmp_levene %>% filter(group == \"high_vs_unsel\")\n",
                "    WT_vs_high_significance <- WT_vs_high_significance$significance\n",
                "    WT_vs_unsel_significance <- WT_vs_unsel_significance$significance\n",
                "    unsel_vs_high_significance <- unsel_vs_high_significance$significance\n",
                "\n",
                "    # calculate the variance where variance = sd^2\n",
                "    tmp$variance <- tmp$sd^2\n",
                "    title <- gsub(\"_\", \" \", features[i])\n",
                "\n",
                "    # get the max value of the variance\n",
                "    max_var <- max(tmp$variance)\n",
                "    # add 0.3 to the max value to get the y max\n",
                "    max_var_plot <- max_var + 0.4\n",
                "\n",
                "\n",
                "    # plot the variability of the top feature\n",
                "    var_plot <- (\n",
                "        ggplot(tmp, aes(x = Metadata_genotype, y = variance, fill = Metadata_genotype)) \n",
                "        + geom_bar(stat = \"identity\")\n",
                "        + theme(axis.text.x = element_text(angle = 90, hjust = 1))\n",
                "        + labs(title = title, x = \"Genotype\", y = \"Variance\", fill = \"Genotype\")\n",
                "        + theme_bw()\n",
                "        + figure_theme\n",
                "     \n",
                "        + geom_signif(\n",
                "            comparisons = list(c(\"High-Severity\",\"Mid-Severity\")), \n",
                "            annotations = unsel_vs_high_significance,\n",
                "            textsize = 7,\n",
                "            y_position = c(max_var+0.1, max_var+0.15)        \n",
                "            ) \n",
                "        + geom_signif(\n",
                "            comparisons = list(c(\"Wild Type\",\"Mid-Severity\")), \n",
                "            annotations = WT_vs_unsel_significance, \n",
                "            textsize = 7,\n",
                "            y_position = c(max_var+0.1, max_var+0.15)        \n",
                "            )\n",
                "        + geom_signif(\n",
                "            comparisons = list(c(\"High-Severity\",\"Wild Type\")), \n",
                "            annotations = WT_vs_high_significance,\n",
                "            textsize = 7,\n",
                "            y_position = c(max_var+0.2, max_var+0.25)        \n",
                "        )\n",
                "           # remove the legend\n",
                "        + theme(legend.position = \"none\")\n",
                "        + ylim(0,max_var_plot)\n",
                "    )\n",
                "    # save var plot\n",
                "    ggsave(file = paste0(\"mean_aggregated_\", features[i], \"_variance_plot_genotype.png\"), plot = var_plot, path = file.path(barplot_fig_path), width = width, height = height, dpi = 600)\n",
                "\n",
                "     # get the max value of the variance\n",
                "    max_coord <- max(mean_aggregated_data_df[[features[i]]])\n",
                "    min_coord <- min(mean_aggregated_data_df[[features[i]]])\n",
                "    # add 0.3 to the max value to get the y max\n",
                "    max_coord_plot <- max_coord + 1.2\n",
                "    min_coord_plot <- min_coord - 1.2\n",
                "    boxplot <- (\n",
                "        ggplot(mean_aggregated_data_df, aes(x = Metadata_genotype, y = !!as.name(features[i]), fill = Metadata_genotype))\n",
                "        + geom_boxplot()\n",
                "        + labs(title = title, x = \"Genotype\", y = title, fill = \"Genotype\")\n",
                "        + theme_bw()\n",
                "        + figure_theme\n",
                "        + theme(legend.position = \"none\")\n",
                "         + geom_signif(\n",
                "            comparisons = list(c(\"High-Severity\",\"Mid-Severity\")), \n",
                "            annotations = unsel_vs_high_significance,\n",
                "            textsize = 7,\n",
                "            y_position = c(max_coord+0.1, max_coord+0.15)        \n",
                "            ) \n",
                "        + geom_signif(\n",
                "            comparisons = list(c(\"Wild Type\",\"Mid-Severity\")), \n",
                "            annotations = WT_vs_unsel_significance, \n",
                "            textsize = 7,\n",
                "            y_position = c(max_coord+0.1, max_coord+0.15)        \n",
                "            )\n",
                "        + geom_signif(\n",
                "            comparisons = list(c(\"High-Severity\",\"Wild Type\")), \n",
                "            annotations = WT_vs_high_significance,\n",
                "            textsize = 7,\n",
                "            y_position = c(max_coord+0.7, max_coord+0.9)        \n",
                "        )\n",
                "           # remove the legend\n",
                "        + theme(legend.position = \"none\")\n",
                "        + ylim(min_coord_plot,max_coord_plot)\n",
                "        \n",
                "        \n",
                "    )\n",
                "    ggsave(file = paste0(\"mean_aggregated_\", features[i], \"_boxplot.png\"), plot = boxplot, path = file.path(boxplot_fig_path), width = width, height = height, dpi = 600)\n",
                "\n",
                "\n",
                "    list_of_variance_bar_plots[[i]] <- var_plot\n",
                "    list_of_feature_box_plots[[i]] <- boxplot\n",
                "}"
            ]
        },
        {
            "cell_type": "code",
            "execution_count": null,
            "id": "b18db9bc",
            "metadata": {
                "execution": {
                    "iopub.execute_input": "2024-10-09T15:15:43.822742Z",
                    "iopub.status.busy": "2024-10-09T15:15:43.822029Z",
                    "iopub.status.idle": "2024-10-09T15:15:46.409033Z",
                    "shell.execute_reply": "2024-10-09T15:15:46.408348Z"
                },
                "papermill": {
                    "duration": 2.59334,
                    "end_time": "2024-10-09T15:15:46.410445",
                    "exception": false,
                    "start_time": "2024-10-09T15:15:43.817105",
                    "status": "completed"
                },
                "tags": [],
                "vscode": {
                    "languageId": "r"
                }
            },
            "outputs": [],
            "source": [
                "width <- 10\n",
                "height <- 4\n",
                "options(repr.plot.width = width, repr.plot.height = height)\n",
                "for (plot in list_of_variance_bar_plots){\n",
                "    print(plot)\n",
                "}\n",
                "for (plot in list_of_feature_box_plots){\n",
                "    print(plot)\n",
                "}"
            ]
        }
    ],
    "metadata": {
        "kernelspec": {
            "display_name": "R",
            "language": "R",
            "name": "ir"
        },
        "language_info": {
            "codemirror_mode": "r",
            "file_extension": ".r",
            "mimetype": "text/x-r-source",
            "name": "R",
            "pygments_lexer": "r",
            "version": "4.2.2"
        },
        "papermill": {
            "default_parameters": {},
            "duration": 19.713015,
            "end_time": "2024-10-09T15:15:46.547986",
            "environment_variables": {},
            "exception": null,
            "input_path": "5a.mean_aggregated_anova_visualize.ipynb",
            "output_path": "5a.mean_aggregated_anova_visualize.ipynb",
            "parameters": {},
            "start_time": "2024-10-09T15:15:26.834971",
            "version": "2.6.0"
        }
    },
    "nbformat": 4,
    "nbformat_minor": 5
}
