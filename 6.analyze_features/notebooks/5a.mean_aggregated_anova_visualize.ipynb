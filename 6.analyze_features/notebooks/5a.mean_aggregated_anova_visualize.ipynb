{
    "cells": [
        {
            "cell_type": "code",
            "execution_count": 1,
            "id": "603b4a74",
            "metadata": {
                "execution": {
                    "iopub.execute_input": "2024-05-04T20:34:41.976513Z",
                    "iopub.status.busy": "2024-05-04T20:34:41.973948Z",
                    "iopub.status.idle": "2024-05-04T20:34:42.758188Z",
                    "shell.execute_reply": "2024-05-04T20:34:42.756821Z"
                },
                "papermill": {
                    "duration": 0.84688,
                    "end_time": "2024-05-04T20:34:42.769698",
                    "exception": false,
                    "start_time": "2024-05-04T20:34:41.922818",
                    "status": "completed"
                },
                "tags": [],
                "vscode": {
                    "languageId": "r"
                }
            },
            "outputs": [],
            "source": [
                "# load libraries\n",
                "suppressWarnings(suppressPackageStartupMessages(library(ggplot2)))\n",
                "suppressWarnings(suppressPackageStartupMessages(library(dplyr)))\n",
                "suppressWarnings(suppressPackageStartupMessages(library(arrow)))\n",
                "suppressWarnings(suppressPackageStartupMessages(library(patchwork)))\n",
                "# import ggplot theme\n",
                "source(\"../../utils/figure_themes.r\")"
            ]
        },
        {
            "cell_type": "code",
            "execution_count": 2,
            "id": "5a572dc3",
            "metadata": {
                "execution": {
                    "iopub.execute_input": "2024-05-04T20:34:42.802023Z",
                    "iopub.status.busy": "2024-05-04T20:34:42.775066Z",
                    "iopub.status.idle": "2024-05-04T20:34:43.100668Z",
                    "shell.execute_reply": "2024-05-04T20:34:43.098569Z"
                },
                "papermill": {
                    "duration": 0.330213,
                    "end_time": "2024-05-04T20:34:43.102321",
                    "exception": false,
                    "start_time": "2024-05-04T20:34:42.772108",
                    "status": "completed"
                },
                "tags": [],
                "vscode": {
                    "languageId": "r"
                }
            },
            "outputs": [
                {
                    "data": {
                        "text/html": [
                            "<table class=\"dataframe\">\n",
                            "<caption>A tibble: 6 \u00d7 246</caption>\n",
                            "<thead>\n",
                            "\t<tr><th scope=col>Metadata_genotype</th><th scope=col>Metadata_replicate</th><th scope=col>AreaShape_Area</th><th scope=col>AreaShape_CentralMoment_0_0</th><th scope=col>AreaShape_CentralMoment_0_1</th><th scope=col>AreaShape_CentralMoment_0_2</th><th scope=col>AreaShape_CentralMoment_0_3</th><th scope=col>AreaShape_CentralMoment_1_0</th><th scope=col>AreaShape_CentralMoment_1_1</th><th scope=col>AreaShape_CentralMoment_1_2</th><th scope=col>\u22ef</th><th scope=col>Texture_SumEntropy_OP_3_02_256</th><th scope=col>Texture_SumEntropy_OP_3_03_256</th><th scope=col>Texture_SumVariance_OP_3_00_256</th><th scope=col>Texture_SumVariance_OP_3_01_256</th><th scope=col>Texture_SumVariance_OP_3_02_256</th><th scope=col>Texture_SumVariance_OP_3_03_256</th><th scope=col>Texture_Variance_OP_3_00_256</th><th scope=col>Texture_Variance_OP_3_01_256</th><th scope=col>Texture_Variance_OP_3_02_256</th><th scope=col>Texture_Variance_OP_3_03_256</th></tr>\n",
                            "\t<tr><th scope=col>&lt;chr&gt;</th><th scope=col>&lt;chr&gt;</th><th scope=col>&lt;dbl&gt;</th><th scope=col>&lt;dbl&gt;</th><th scope=col>&lt;dbl&gt;</th><th scope=col>&lt;dbl&gt;</th><th scope=col>&lt;dbl&gt;</th><th scope=col>&lt;dbl&gt;</th><th scope=col>&lt;dbl&gt;</th><th scope=col>&lt;dbl&gt;</th><th scope=col>\u22ef</th><th scope=col>&lt;dbl&gt;</th><th scope=col>&lt;dbl&gt;</th><th scope=col>&lt;dbl&gt;</th><th scope=col>&lt;dbl&gt;</th><th scope=col>&lt;dbl&gt;</th><th scope=col>&lt;dbl&gt;</th><th scope=col>&lt;dbl&gt;</th><th scope=col>&lt;dbl&gt;</th><th scope=col>&lt;dbl&gt;</th><th scope=col>&lt;dbl&gt;</th></tr>\n",
                            "</thead>\n",
                            "<tbody>\n",
                            "\t<tr><td>high</td><td>1 </td><td>0.5964828</td><td>0.5964828</td><td> 0.27087628</td><td>-0.04923743</td><td> 0.39086810</td><td> 2.1009152</td><td>-0.4639369</td><td>-0.04298225</td><td>\u22ef</td><td>-0.10410518</td><td>-0.11903633</td><td>-0.54585578</td><td>-0.52502679</td><td>-0.54330471</td><td>-0.54458881</td><td>-0.5575633</td><td>-0.5621014</td><td>-0.5589764</td><td>-0.5608718</td></tr>\n",
                            "\t<tr><td>high</td><td>10</td><td>1.2389540</td><td>1.2389540</td><td> 0.65981303</td><td> 1.72236419</td><td>-0.87429732</td><td> 0.1791951</td><td>-1.6447597</td><td> 0.82527013</td><td>\u22ef</td><td> 0.64697719</td><td> 0.63535604</td><td> 0.63068191</td><td> 0.64209101</td><td> 0.59375379</td><td> 0.63527378</td><td> 0.5578628</td><td> 0.5484734</td><td> 0.5609847</td><td> 0.5477695</td></tr>\n",
                            "\t<tr><td>high</td><td>11</td><td>2.1312071</td><td>2.1312071</td><td> 0.63086554</td><td> 1.42646941</td><td> 0.29159110</td><td> 1.8012069</td><td>-0.2706624</td><td>-0.16430652</td><td>\u22ef</td><td> 0.68677092</td><td> 0.67823043</td><td> 0.55238246</td><td> 0.57082297</td><td> 0.52626599</td><td> 0.54847464</td><td> 0.4988255</td><td> 0.4862685</td><td> 0.5000832</td><td> 0.4902130</td></tr>\n",
                            "\t<tr><td>high</td><td>12</td><td>1.2012381</td><td>1.2012381</td><td> 0.02494302</td><td> 1.27911918</td><td>-0.46408552</td><td>-1.6528531</td><td>-0.9823093</td><td> 0.10767961</td><td>\u22ef</td><td> 0.30950471</td><td> 0.30893327</td><td>-0.05477867</td><td>-0.05987619</td><td>-0.09839988</td><td>-0.06793023</td><td>-0.1037820</td><td>-0.1093674</td><td>-0.1010855</td><td>-0.1067718</td></tr>\n",
                            "\t<tr><td>high</td><td>13</td><td>1.1948884</td><td>1.1948884</td><td>-0.55436803</td><td>-0.03446555</td><td> 0.05088249</td><td>-1.3449799</td><td>-0.4836727</td><td>-0.79443383</td><td>\u22ef</td><td> 0.05670642</td><td> 0.04774139</td><td>-0.32517061</td><td>-0.29567384</td><td>-0.32103861</td><td>-0.32243559</td><td>-0.3484087</td><td>-0.3562547</td><td>-0.3502858</td><td>-0.3521677</td></tr>\n",
                            "\t<tr><td>high</td><td>14</td><td>2.2767921</td><td>2.2767921</td><td>-2.38853596</td><td> 1.69171903</td><td> 0.12573685</td><td>-0.7138870</td><td>-1.5904088</td><td> 0.11087396</td><td>\u22ef</td><td> 1.02706597</td><td> 1.02583400</td><td> 1.25542512</td><td> 1.27093366</td><td> 1.20964214</td><td> 1.24875506</td><td> 1.1673985</td><td> 1.1480302</td><td> 1.1718716</td><td> 1.1541288</td></tr>\n",
                            "</tbody>\n",
                            "</table>\n"
                        ],
                        "text/latex": [
                            "A tibble: 6 \u00d7 246\n",
                            "\\begin{tabular}{lllllllllllllllllllll}\n",
                            " Metadata\\_genotype & Metadata\\_replicate & AreaShape\\_Area & AreaShape\\_CentralMoment\\_0\\_0 & AreaShape\\_CentralMoment\\_0\\_1 & AreaShape\\_CentralMoment\\_0\\_2 & AreaShape\\_CentralMoment\\_0\\_3 & AreaShape\\_CentralMoment\\_1\\_0 & AreaShape\\_CentralMoment\\_1\\_1 & AreaShape\\_CentralMoment\\_1\\_2 & \u22ef & Texture\\_SumEntropy\\_OP\\_3\\_02\\_256 & Texture\\_SumEntropy\\_OP\\_3\\_03\\_256 & Texture\\_SumVariance\\_OP\\_3\\_00\\_256 & Texture\\_SumVariance\\_OP\\_3\\_01\\_256 & Texture\\_SumVariance\\_OP\\_3\\_02\\_256 & Texture\\_SumVariance\\_OP\\_3\\_03\\_256 & Texture\\_Variance\\_OP\\_3\\_00\\_256 & Texture\\_Variance\\_OP\\_3\\_01\\_256 & Texture\\_Variance\\_OP\\_3\\_02\\_256 & Texture\\_Variance\\_OP\\_3\\_03\\_256\\\\\n",
                            " <chr> & <chr> & <dbl> & <dbl> & <dbl> & <dbl> & <dbl> & <dbl> & <dbl> & <dbl> & \u22ef & <dbl> & <dbl> & <dbl> & <dbl> & <dbl> & <dbl> & <dbl> & <dbl> & <dbl> & <dbl>\\\\\n",
                            "\\hline\n",
                            "\t high & 1  & 0.5964828 & 0.5964828 &  0.27087628 & -0.04923743 &  0.39086810 &  2.1009152 & -0.4639369 & -0.04298225 & \u22ef & -0.10410518 & -0.11903633 & -0.54585578 & -0.52502679 & -0.54330471 & -0.54458881 & -0.5575633 & -0.5621014 & -0.5589764 & -0.5608718\\\\\n",
                            "\t high & 10 & 1.2389540 & 1.2389540 &  0.65981303 &  1.72236419 & -0.87429732 &  0.1791951 & -1.6447597 &  0.82527013 & \u22ef &  0.64697719 &  0.63535604 &  0.63068191 &  0.64209101 &  0.59375379 &  0.63527378 &  0.5578628 &  0.5484734 &  0.5609847 &  0.5477695\\\\\n",
                            "\t high & 11 & 2.1312071 & 2.1312071 &  0.63086554 &  1.42646941 &  0.29159110 &  1.8012069 & -0.2706624 & -0.16430652 & \u22ef &  0.68677092 &  0.67823043 &  0.55238246 &  0.57082297 &  0.52626599 &  0.54847464 &  0.4988255 &  0.4862685 &  0.5000832 &  0.4902130\\\\\n",
                            "\t high & 12 & 1.2012381 & 1.2012381 &  0.02494302 &  1.27911918 & -0.46408552 & -1.6528531 & -0.9823093 &  0.10767961 & \u22ef &  0.30950471 &  0.30893327 & -0.05477867 & -0.05987619 & -0.09839988 & -0.06793023 & -0.1037820 & -0.1093674 & -0.1010855 & -0.1067718\\\\\n",
                            "\t high & 13 & 1.1948884 & 1.1948884 & -0.55436803 & -0.03446555 &  0.05088249 & -1.3449799 & -0.4836727 & -0.79443383 & \u22ef &  0.05670642 &  0.04774139 & -0.32517061 & -0.29567384 & -0.32103861 & -0.32243559 & -0.3484087 & -0.3562547 & -0.3502858 & -0.3521677\\\\\n",
                            "\t high & 14 & 2.2767921 & 2.2767921 & -2.38853596 &  1.69171903 &  0.12573685 & -0.7138870 & -1.5904088 &  0.11087396 & \u22ef &  1.02706597 &  1.02583400 &  1.25542512 &  1.27093366 &  1.20964214 &  1.24875506 &  1.1673985 &  1.1480302 &  1.1718716 &  1.1541288\\\\\n",
                            "\\end{tabular}\n"
                        ],
                        "text/markdown": [
                            "\n",
                            "A tibble: 6 \u00d7 246\n",
                            "\n",
                            "| Metadata_genotype &lt;chr&gt; | Metadata_replicate &lt;chr&gt; | AreaShape_Area &lt;dbl&gt; | AreaShape_CentralMoment_0_0 &lt;dbl&gt; | AreaShape_CentralMoment_0_1 &lt;dbl&gt; | AreaShape_CentralMoment_0_2 &lt;dbl&gt; | AreaShape_CentralMoment_0_3 &lt;dbl&gt; | AreaShape_CentralMoment_1_0 &lt;dbl&gt; | AreaShape_CentralMoment_1_1 &lt;dbl&gt; | AreaShape_CentralMoment_1_2 &lt;dbl&gt; | \u22ef \u22ef | Texture_SumEntropy_OP_3_02_256 &lt;dbl&gt; | Texture_SumEntropy_OP_3_03_256 &lt;dbl&gt; | Texture_SumVariance_OP_3_00_256 &lt;dbl&gt; | Texture_SumVariance_OP_3_01_256 &lt;dbl&gt; | Texture_SumVariance_OP_3_02_256 &lt;dbl&gt; | Texture_SumVariance_OP_3_03_256 &lt;dbl&gt; | Texture_Variance_OP_3_00_256 &lt;dbl&gt; | Texture_Variance_OP_3_01_256 &lt;dbl&gt; | Texture_Variance_OP_3_02_256 &lt;dbl&gt; | Texture_Variance_OP_3_03_256 &lt;dbl&gt; |\n",
                            "|---|---|---|---|---|---|---|---|---|---|---|---|---|---|---|---|---|---|---|---|---|\n",
                            "| high | 1  | 0.5964828 | 0.5964828 |  0.27087628 | -0.04923743 |  0.39086810 |  2.1009152 | -0.4639369 | -0.04298225 | \u22ef | -0.10410518 | -0.11903633 | -0.54585578 | -0.52502679 | -0.54330471 | -0.54458881 | -0.5575633 | -0.5621014 | -0.5589764 | -0.5608718 |\n",
                            "| high | 10 | 1.2389540 | 1.2389540 |  0.65981303 |  1.72236419 | -0.87429732 |  0.1791951 | -1.6447597 |  0.82527013 | \u22ef |  0.64697719 |  0.63535604 |  0.63068191 |  0.64209101 |  0.59375379 |  0.63527378 |  0.5578628 |  0.5484734 |  0.5609847 |  0.5477695 |\n",
                            "| high | 11 | 2.1312071 | 2.1312071 |  0.63086554 |  1.42646941 |  0.29159110 |  1.8012069 | -0.2706624 | -0.16430652 | \u22ef |  0.68677092 |  0.67823043 |  0.55238246 |  0.57082297 |  0.52626599 |  0.54847464 |  0.4988255 |  0.4862685 |  0.5000832 |  0.4902130 |\n",
                            "| high | 12 | 1.2012381 | 1.2012381 |  0.02494302 |  1.27911918 | -0.46408552 | -1.6528531 | -0.9823093 |  0.10767961 | \u22ef |  0.30950471 |  0.30893327 | -0.05477867 | -0.05987619 | -0.09839988 | -0.06793023 | -0.1037820 | -0.1093674 | -0.1010855 | -0.1067718 |\n",
                            "| high | 13 | 1.1948884 | 1.1948884 | -0.55436803 | -0.03446555 |  0.05088249 | -1.3449799 | -0.4836727 | -0.79443383 | \u22ef |  0.05670642 |  0.04774139 | -0.32517061 | -0.29567384 | -0.32103861 | -0.32243559 | -0.3484087 | -0.3562547 | -0.3502858 | -0.3521677 |\n",
                            "| high | 14 | 2.2767921 | 2.2767921 | -2.38853596 |  1.69171903 |  0.12573685 | -0.7138870 | -1.5904088 |  0.11087396 | \u22ef |  1.02706597 |  1.02583400 |  1.25542512 |  1.27093366 |  1.20964214 |  1.24875506 |  1.1673985 |  1.1480302 |  1.1718716 |  1.1541288 |\n",
                            "\n"
                        ],
                        "text/plain": [
                            "  Metadata_genotype Metadata_replicate AreaShape_Area\n",
                            "1 high              1                  0.5964828     \n",
                            "2 high              10                 1.2389540     \n",
                            "3 high              11                 2.1312071     \n",
                            "4 high              12                 1.2012381     \n",
                            "5 high              13                 1.1948884     \n",
                            "6 high              14                 2.2767921     \n",
                            "  AreaShape_CentralMoment_0_0 AreaShape_CentralMoment_0_1\n",
                            "1 0.5964828                    0.27087628                \n",
                            "2 1.2389540                    0.65981303                \n",
                            "3 2.1312071                    0.63086554                \n",
                            "4 1.2012381                    0.02494302                \n",
                            "5 1.1948884                   -0.55436803                \n",
                            "6 2.2767921                   -2.38853596                \n",
                            "  AreaShape_CentralMoment_0_2 AreaShape_CentralMoment_0_3\n",
                            "1 -0.04923743                  0.39086810                \n",
                            "2  1.72236419                 -0.87429732                \n",
                            "3  1.42646941                  0.29159110                \n",
                            "4  1.27911918                 -0.46408552                \n",
                            "5 -0.03446555                  0.05088249                \n",
                            "6  1.69171903                  0.12573685                \n",
                            "  AreaShape_CentralMoment_1_0 AreaShape_CentralMoment_1_1\n",
                            "1  2.1009152                  -0.4639369                 \n",
                            "2  0.1791951                  -1.6447597                 \n",
                            "3  1.8012069                  -0.2706624                 \n",
                            "4 -1.6528531                  -0.9823093                 \n",
                            "5 -1.3449799                  -0.4836727                 \n",
                            "6 -0.7138870                  -1.5904088                 \n",
                            "  AreaShape_CentralMoment_1_2 \u22ef Texture_SumEntropy_OP_3_02_256\n",
                            "1 -0.04298225                 \u22ef -0.10410518                   \n",
                            "2  0.82527013                 \u22ef  0.64697719                   \n",
                            "3 -0.16430652                 \u22ef  0.68677092                   \n",
                            "4  0.10767961                 \u22ef  0.30950471                   \n",
                            "5 -0.79443383                 \u22ef  0.05670642                   \n",
                            "6  0.11087396                 \u22ef  1.02706597                   \n",
                            "  Texture_SumEntropy_OP_3_03_256 Texture_SumVariance_OP_3_00_256\n",
                            "1 -0.11903633                    -0.54585578                    \n",
                            "2  0.63535604                     0.63068191                    \n",
                            "3  0.67823043                     0.55238246                    \n",
                            "4  0.30893327                    -0.05477867                    \n",
                            "5  0.04774139                    -0.32517061                    \n",
                            "6  1.02583400                     1.25542512                    \n",
                            "  Texture_SumVariance_OP_3_01_256 Texture_SumVariance_OP_3_02_256\n",
                            "1 -0.52502679                     -0.54330471                    \n",
                            "2  0.64209101                      0.59375379                    \n",
                            "3  0.57082297                      0.52626599                    \n",
                            "4 -0.05987619                     -0.09839988                    \n",
                            "5 -0.29567384                     -0.32103861                    \n",
                            "6  1.27093366                      1.20964214                    \n",
                            "  Texture_SumVariance_OP_3_03_256 Texture_Variance_OP_3_00_256\n",
                            "1 -0.54458881                     -0.5575633                  \n",
                            "2  0.63527378                      0.5578628                  \n",
                            "3  0.54847464                      0.4988255                  \n",
                            "4 -0.06793023                     -0.1037820                  \n",
                            "5 -0.32243559                     -0.3484087                  \n",
                            "6  1.24875506                      1.1673985                  \n",
                            "  Texture_Variance_OP_3_01_256 Texture_Variance_OP_3_02_256\n",
                            "1 -0.5621014                   -0.5589764                  \n",
                            "2  0.5484734                    0.5609847                  \n",
                            "3  0.4862685                    0.5000832                  \n",
                            "4 -0.1093674                   -0.1010855                  \n",
                            "5 -0.3562547                   -0.3502858                  \n",
                            "6  1.1480302                    1.1718716                  \n",
                            "  Texture_Variance_OP_3_03_256\n",
                            "1 -0.5608718                  \n",
                            "2  0.5477695                  \n",
                            "3  0.4902130                  \n",
                            "4 -0.1067718                  \n",
                            "5 -0.3521677                  \n",
                            "6  1.1541288                  "
                        ]
                    },
                    "metadata": {},
                    "output_type": "display_data"
                }
            ],
            "source": [
                "# path to the anova data\n",
                "mean_aggregated_anova_genotype_df_path <- file.path(\"..\",\"..\",\"data\",\"6.analysis_results\",\"mean_aggregated_anova_results.parquet\")\n",
                "mean_aggregated_data_path <- file.path(\"..\",\"..\",\"data\",\"5.converted_data\",\"mean_aggregated_data.parquet\")\n",
                "fig_path <- file.path(\"..\",\"figures\",\"mean_aggregated\")\n",
                "# create the figure directory if it does not exist\n",
                "if (!dir.exists(fig_path)){\n",
                "  dir.create(fig_path, recursive = TRUE)\n",
                "}\n",
                "\n",
                "# read the data\n",
                "mean_aggregated_data_df <- arrow::read_parquet(mean_aggregated_data_path)\n",
                "head(mean_aggregated_data_df)\n",
                "\n",
                "# read the anova data\n",
                "mean_aggregated_anova_df <- arrow::read_parquet(mean_aggregated_anova_genotype_df_path)\n"
            ]
        },
        {
            "cell_type": "markdown",
            "id": "6d87ffd1",
            "metadata": {
                "papermill": {
                    "duration": 0.002297,
                    "end_time": "2024-05-04T20:34:43.107607",
                    "exception": false,
                    "start_time": "2024-05-04T20:34:43.105310",
                    "status": "completed"
                },
                "tags": []
            },
            "source": [
                "## Genotype, side and identity level data"
            ]
        },
        {
            "cell_type": "markdown",
            "id": "7d732436",
            "metadata": {
                "papermill": {
                    "duration": 0.002346,
                    "end_time": "2024-05-04T20:34:43.112142",
                    "exception": false,
                    "start_time": "2024-05-04T20:34:43.109796",
                    "status": "completed"
                },
                "tags": []
            },
            "source": [
                "### ANOVA means"
            ]
        },
        {
            "cell_type": "code",
            "execution_count": 3,
            "id": "fc69c991",
            "metadata": {
                "execution": {
                    "iopub.execute_input": "2024-05-04T20:34:43.120298Z",
                    "iopub.status.busy": "2024-05-04T20:34:43.119339Z",
                    "iopub.status.idle": "2024-05-04T20:34:43.163997Z",
                    "shell.execute_reply": "2024-05-04T20:34:43.162331Z"
                },
                "papermill": {
                    "duration": 0.051107,
                    "end_time": "2024-05-04T20:34:43.165473",
                    "exception": false,
                    "start_time": "2024-05-04T20:34:43.114366",
                    "status": "completed"
                },
                "tags": [],
                "vscode": {
                    "languageId": "r"
                }
            },
            "outputs": [
                {
                    "data": {
                        "text/html": [
                            "<table class=\"dataframe\">\n",
                            "<caption>A tibble: 6 \u00d7 12</caption>\n",
                            "<thead>\n",
                            "\t<tr><th scope=col>group1</th><th scope=col>group2</th><th scope=col>meandiff</th><th scope=col>p-adj</th><th scope=col>lower</th><th scope=col>upper</th><th scope=col>reject</th><th scope=col>feature</th><th scope=col>anova_p_value</th><th scope=col>log10_anova_p_value</th><th scope=col>feature_type</th><th scope=col>feature_name</th></tr>\n",
                            "\t<tr><th scope=col>&lt;chr&gt;</th><th scope=col>&lt;chr&gt;</th><th scope=col>&lt;dbl&gt;</th><th scope=col>&lt;dbl&gt;</th><th scope=col>&lt;dbl&gt;</th><th scope=col>&lt;dbl&gt;</th><th scope=col>&lt;lgl&gt;</th><th scope=col>&lt;chr&gt;</th><th scope=col>&lt;dbl&gt;</th><th scope=col>&lt;dbl&gt;</th><th scope=col>&lt;chr&gt;</th><th scope=col>&lt;chr&gt;</th></tr>\n",
                            "</thead>\n",
                            "<tbody>\n",
                            "\t<tr><td>high </td><td>unsel</td><td> 0.0435</td><td>0.9795</td><td>-0.5038</td><td>0.5909</td><td>FALSE</td><td>RadialDistribution_ZernikePhase_OP_7_5</td><td>0.9548407</td><td>0.02006906</td><td>RadialDistribution</td><td>ZernikePhase </td></tr>\n",
                            "\t<tr><td>high </td><td>wt   </td><td> 0.0674</td><td>0.9517</td><td>-0.4799</td><td>0.6147</td><td>FALSE</td><td>RadialDistribution_ZernikePhase_OP_7_5</td><td>0.9548407</td><td>0.02006906</td><td>RadialDistribution</td><td>ZernikePhase </td></tr>\n",
                            "\t<tr><td>unsel</td><td>wt   </td><td> 0.0239</td><td>0.9938</td><td>-0.5235</td><td>0.5712</td><td>FALSE</td><td>RadialDistribution_ZernikePhase_OP_7_5</td><td>0.9548407</td><td>0.02006906</td><td>RadialDistribution</td><td>ZernikePhase </td></tr>\n",
                            "\t<tr><td>high </td><td>unsel</td><td>-0.0133</td><td>0.9991</td><td>-0.8050</td><td>0.7785</td><td>FALSE</td><td>AreaShape_CentralMoment_1_0           </td><td>0.9440693</td><td>0.02499612</td><td>AreaShape         </td><td>CentralMoment</td></tr>\n",
                            "\t<tr><td>high </td><td>wt   </td><td> 0.0882</td><td>0.9602</td><td>-0.7035</td><td>0.8800</td><td>FALSE</td><td>AreaShape_CentralMoment_1_0           </td><td>0.9440693</td><td>0.02499612</td><td>AreaShape         </td><td>CentralMoment</td></tr>\n",
                            "\t<tr><td>unsel</td><td>wt   </td><td> 0.1015</td><td>0.9477</td><td>-0.6902</td><td>0.8932</td><td>FALSE</td><td>AreaShape_CentralMoment_1_0           </td><td>0.9440693</td><td>0.02499612</td><td>AreaShape         </td><td>CentralMoment</td></tr>\n",
                            "</tbody>\n",
                            "</table>\n"
                        ],
                        "text/latex": [
                            "A tibble: 6 \u00d7 12\n",
                            "\\begin{tabular}{llllllllllll}\n",
                            " group1 & group2 & meandiff & p-adj & lower & upper & reject & feature & anova\\_p\\_value & log10\\_anova\\_p\\_value & feature\\_type & feature\\_name\\\\\n",
                            " <chr> & <chr> & <dbl> & <dbl> & <dbl> & <dbl> & <lgl> & <chr> & <dbl> & <dbl> & <chr> & <chr>\\\\\n",
                            "\\hline\n",
                            "\t high  & unsel &  0.0435 & 0.9795 & -0.5038 & 0.5909 & FALSE & RadialDistribution\\_ZernikePhase\\_OP\\_7\\_5 & 0.9548407 & 0.02006906 & RadialDistribution & ZernikePhase \\\\\n",
                            "\t high  & wt    &  0.0674 & 0.9517 & -0.4799 & 0.6147 & FALSE & RadialDistribution\\_ZernikePhase\\_OP\\_7\\_5 & 0.9548407 & 0.02006906 & RadialDistribution & ZernikePhase \\\\\n",
                            "\t unsel & wt    &  0.0239 & 0.9938 & -0.5235 & 0.5712 & FALSE & RadialDistribution\\_ZernikePhase\\_OP\\_7\\_5 & 0.9548407 & 0.02006906 & RadialDistribution & ZernikePhase \\\\\n",
                            "\t high  & unsel & -0.0133 & 0.9991 & -0.8050 & 0.7785 & FALSE & AreaShape\\_CentralMoment\\_1\\_0            & 0.9440693 & 0.02499612 & AreaShape          & CentralMoment\\\\\n",
                            "\t high  & wt    &  0.0882 & 0.9602 & -0.7035 & 0.8800 & FALSE & AreaShape\\_CentralMoment\\_1\\_0            & 0.9440693 & 0.02499612 & AreaShape          & CentralMoment\\\\\n",
                            "\t unsel & wt    &  0.1015 & 0.9477 & -0.6902 & 0.8932 & FALSE & AreaShape\\_CentralMoment\\_1\\_0            & 0.9440693 & 0.02499612 & AreaShape          & CentralMoment\\\\\n",
                            "\\end{tabular}\n"
                        ],
                        "text/markdown": [
                            "\n",
                            "A tibble: 6 \u00d7 12\n",
                            "\n",
                            "| group1 &lt;chr&gt; | group2 &lt;chr&gt; | meandiff &lt;dbl&gt; | p-adj &lt;dbl&gt; | lower &lt;dbl&gt; | upper &lt;dbl&gt; | reject &lt;lgl&gt; | feature &lt;chr&gt; | anova_p_value &lt;dbl&gt; | log10_anova_p_value &lt;dbl&gt; | feature_type &lt;chr&gt; | feature_name &lt;chr&gt; |\n",
                            "|---|---|---|---|---|---|---|---|---|---|---|---|\n",
                            "| high  | unsel |  0.0435 | 0.9795 | -0.5038 | 0.5909 | FALSE | RadialDistribution_ZernikePhase_OP_7_5 | 0.9548407 | 0.02006906 | RadialDistribution | ZernikePhase  |\n",
                            "| high  | wt    |  0.0674 | 0.9517 | -0.4799 | 0.6147 | FALSE | RadialDistribution_ZernikePhase_OP_7_5 | 0.9548407 | 0.02006906 | RadialDistribution | ZernikePhase  |\n",
                            "| unsel | wt    |  0.0239 | 0.9938 | -0.5235 | 0.5712 | FALSE | RadialDistribution_ZernikePhase_OP_7_5 | 0.9548407 | 0.02006906 | RadialDistribution | ZernikePhase  |\n",
                            "| high  | unsel | -0.0133 | 0.9991 | -0.8050 | 0.7785 | FALSE | AreaShape_CentralMoment_1_0            | 0.9440693 | 0.02499612 | AreaShape          | CentralMoment |\n",
                            "| high  | wt    |  0.0882 | 0.9602 | -0.7035 | 0.8800 | FALSE | AreaShape_CentralMoment_1_0            | 0.9440693 | 0.02499612 | AreaShape          | CentralMoment |\n",
                            "| unsel | wt    |  0.1015 | 0.9477 | -0.6902 | 0.8932 | FALSE | AreaShape_CentralMoment_1_0            | 0.9440693 | 0.02499612 | AreaShape          | CentralMoment |\n",
                            "\n"
                        ],
                        "text/plain": [
                            "  group1 group2 meandiff p-adj  lower   upper  reject\n",
                            "1 high   unsel   0.0435  0.9795 -0.5038 0.5909 FALSE \n",
                            "2 high   wt      0.0674  0.9517 -0.4799 0.6147 FALSE \n",
                            "3 unsel  wt      0.0239  0.9938 -0.5235 0.5712 FALSE \n",
                            "4 high   unsel  -0.0133  0.9991 -0.8050 0.7785 FALSE \n",
                            "5 high   wt      0.0882  0.9602 -0.7035 0.8800 FALSE \n",
                            "6 unsel  wt      0.1015  0.9477 -0.6902 0.8932 FALSE \n",
                            "  feature                                anova_p_value log10_anova_p_value\n",
                            "1 RadialDistribution_ZernikePhase_OP_7_5 0.9548407     0.02006906         \n",
                            "2 RadialDistribution_ZernikePhase_OP_7_5 0.9548407     0.02006906         \n",
                            "3 RadialDistribution_ZernikePhase_OP_7_5 0.9548407     0.02006906         \n",
                            "4 AreaShape_CentralMoment_1_0            0.9440693     0.02499612         \n",
                            "5 AreaShape_CentralMoment_1_0            0.9440693     0.02499612         \n",
                            "6 AreaShape_CentralMoment_1_0            0.9440693     0.02499612         \n",
                            "  feature_type       feature_name \n",
                            "1 RadialDistribution ZernikePhase \n",
                            "2 RadialDistribution ZernikePhase \n",
                            "3 RadialDistribution ZernikePhase \n",
                            "4 AreaShape          CentralMoment\n",
                            "5 AreaShape          CentralMoment\n",
                            "6 AreaShape          CentralMoment"
                        ]
                    },
                    "metadata": {},
                    "output_type": "display_data"
                }
            ],
            "source": [
                "\n",
                "mean_aggregated_anova_df$log10_anova_p_value <- -log10(mean_aggregated_anova_df$anova_p_value)\n",
                "# order the results by log10 anova p-value\n",
                "mean_aggregated_anova_df <- mean_aggregated_anova_df %>% arrange(log10_anova_p_value)\n",
                "# split the feature into 3 groups at \"_\"\n",
                "mean_aggregated_anova_df$feature_type <- sapply(strsplit(mean_aggregated_anova_df$feature, \"_\"), function(x) x[1])\n",
                "mean_aggregated_anova_df$feature_name <- sapply(strsplit(mean_aggregated_anova_df$feature, \"_\"), function(x) x[2])\n",
                "head(mean_aggregated_anova_df)\n"
            ]
        },
        {
            "cell_type": "code",
            "execution_count": 4,
            "id": "4a7ac65f",
            "metadata": {
                "execution": {
                    "iopub.execute_input": "2024-05-04T20:34:43.173637Z",
                    "iopub.status.busy": "2024-05-04T20:34:43.172469Z",
                    "iopub.status.idle": "2024-05-04T20:34:46.555459Z",
                    "shell.execute_reply": "2024-05-04T20:34:46.554092Z"
                },
                "papermill": {
                    "duration": 3.388485,
                    "end_time": "2024-05-04T20:34:46.557232",
                    "exception": false,
                    "start_time": "2024-05-04T20:34:43.168747",
                    "status": "completed"
                },
                "tags": [],
                "vscode": {
                    "languageId": "r"
                }
            },
            "outputs": [
                {
                    "data": {
                        "image/png": "[encoded data removed]",
                        "text/plain": [
                            "plot without title"
                        ]
                    },
                    "metadata": {
                        "image/png": {
                            "height": 600,
                            "width": 1200
                        }
                    },
                    "output_type": "display_data"
                }
            ],
            "source": [
                "width <- 20\n",
                "height <- 10\n",
                "options(repr.plot.width = width, repr.plot.height = height)\n",
                "anova_plot <- (\n",
                "    # order the results by log10 anova p-value\n",
                "    ggplot(mean_aggregated_anova_df, aes(y = reorder(feature, log10_anova_p_value), x = log10_anova_p_value, fill = feature_type))\n",
                "    + geom_bar(stat = \"identity\")\n",
                "    # drop y axis labels\n",
                "    + theme(axis.text.x = element_text(angle = 90, hjust = 1))\n",
                "    + labs(title = \"ANOVA Analysis\", y = \"Feature\", x = \"-log10(ANOVA p-value)\", fill = \"Feature Type\")\n",
                "   \n",
                "    + figure_theme\n",
                "\n",
                "\n",
                "    + theme(axis.text.y = element_blank(), panel.grid.major = element_blank(), panel.grid.minor = element_blank())\n",
                "    + theme(axis.text.y = element_blank())\n",
                "    + geom_hline(yintercept = length(unique(mean_aggregated_anova_df$feature))-10, linetype = \"dashed\", color = \"black\")\n",
                "     \n",
                ")\n",
                "anova_plot\n",
                "# save the plot\n",
                "ggsave(file = \"mean_aggregated_anova_plot.png\", plot = anova_plot, path = file.path(fig_path), width = width, height = height, dpi = 600)"
            ]
        },
        {
            "cell_type": "markdown",
            "id": "ca8d48ef",
            "metadata": {
                "papermill": {
                    "duration": 0.00386,
                    "end_time": "2024-05-04T20:34:46.566442",
                    "exception": false,
                    "start_time": "2024-05-04T20:34:46.562582",
                    "status": "completed"
                },
                "tags": []
            },
            "source": [
                "## Test for equality of variance "
            ]
        },
        {
            "cell_type": "code",
            "execution_count": 5,
            "id": "4c856a9c",
            "metadata": {
                "execution": {
                    "iopub.execute_input": "2024-05-04T20:34:46.594411Z",
                    "iopub.status.busy": "2024-05-04T20:34:46.592635Z",
                    "iopub.status.idle": "2024-05-04T20:34:46.622168Z",
                    "shell.execute_reply": "2024-05-04T20:34:46.620503Z"
                },
                "papermill": {
                    "duration": 0.038032,
                    "end_time": "2024-05-04T20:34:46.623601",
                    "exception": false,
                    "start_time": "2024-05-04T20:34:46.585569",
                    "status": "completed"
                },
                "tags": [],
                "vscode": {
                    "languageId": "r"
                }
            },
            "outputs": [
                {
                    "data": {
                        "text/html": [
                            "<table class=\"dataframe\">\n",
                            "<caption>A data.frame: 6 \u00d7 5</caption>\n",
                            "<thead>\n",
                            "\t<tr><th></th><th scope=col>X</th><th scope=col>feature</th><th scope=col>levene_statistic</th><th scope=col>levene_p_value</th><th scope=col>group</th></tr>\n",
                            "\t<tr><th></th><th scope=col>&lt;int&gt;</th><th scope=col>&lt;chr&gt;</th><th scope=col>&lt;dbl&gt;</th><th scope=col>&lt;dbl&gt;</th><th scope=col>&lt;chr&gt;</th></tr>\n",
                            "</thead>\n",
                            "<tbody>\n",
                            "\t<tr><th scope=row>1</th><td>128</td><td>RadialDistribution_MeanFrac_OP_3of4   </td><td>5.743202e-06</td><td>0.9981062</td><td>high_vs_unsel</td></tr>\n",
                            "\t<tr><th scope=row>2</th><td>909</td><td>RadialDistribution_ZernikePhase_OP_6_6</td><td>1.928452e-03</td><td>0.9980735</td><td>all          </td></tr>\n",
                            "\t<tr><th scope=row>3</th><td>  0</td><td>AreaShape_Area                        </td><td>5.003355e-05</td><td>0.9944103</td><td>high_vs_unsel</td></tr>\n",
                            "\t<tr><th scope=row>4</th><td>  1</td><td>AreaShape_CentralMoment_0_0           </td><td>5.003355e-05</td><td>0.9944103</td><td>high_vs_unsel</td></tr>\n",
                            "\t<tr><th scope=row>5</th><td> 56</td><td>AreaShape_SpatialMoment_0_0           </td><td>5.003355e-05</td><td>0.9944103</td><td>high_vs_unsel</td></tr>\n",
                            "\t<tr><th scope=row>6</th><td>678</td><td>RadialDistribution_ZernikePhase_OP_9_7</td><td>2.582189e-04</td><td>0.9873019</td><td>unsel_vs_wt  </td></tr>\n",
                            "</tbody>\n",
                            "</table>\n"
                        ],
                        "text/latex": [
                            "A data.frame: 6 \u00d7 5\n",
                            "\\begin{tabular}{r|lllll}\n",
                            "  & X & feature & levene\\_statistic & levene\\_p\\_value & group\\\\\n",
                            "  & <int> & <chr> & <dbl> & <dbl> & <chr>\\\\\n",
                            "\\hline\n",
                            "\t1 & 128 & RadialDistribution\\_MeanFrac\\_OP\\_3of4    & 5.743202e-06 & 0.9981062 & high\\_vs\\_unsel\\\\\n",
                            "\t2 & 909 & RadialDistribution\\_ZernikePhase\\_OP\\_6\\_6 & 1.928452e-03 & 0.9980735 & all          \\\\\n",
                            "\t3 &   0 & AreaShape\\_Area                         & 5.003355e-05 & 0.9944103 & high\\_vs\\_unsel\\\\\n",
                            "\t4 &   1 & AreaShape\\_CentralMoment\\_0\\_0            & 5.003355e-05 & 0.9944103 & high\\_vs\\_unsel\\\\\n",
                            "\t5 &  56 & AreaShape\\_SpatialMoment\\_0\\_0            & 5.003355e-05 & 0.9944103 & high\\_vs\\_unsel\\\\\n",
                            "\t6 & 678 & RadialDistribution\\_ZernikePhase\\_OP\\_9\\_7 & 2.582189e-04 & 0.9873019 & unsel\\_vs\\_wt  \\\\\n",
                            "\\end{tabular}\n"
                        ],
                        "text/markdown": [
                            "\n",
                            "A data.frame: 6 \u00d7 5\n",
                            "\n",
                            "| <!--/--> | X &lt;int&gt; | feature &lt;chr&gt; | levene_statistic &lt;dbl&gt; | levene_p_value &lt;dbl&gt; | group &lt;chr&gt; |\n",
                            "|---|---|---|---|---|---|\n",
                            "| 1 | 128 | RadialDistribution_MeanFrac_OP_3of4    | 5.743202e-06 | 0.9981062 | high_vs_unsel |\n",
                            "| 2 | 909 | RadialDistribution_ZernikePhase_OP_6_6 | 1.928452e-03 | 0.9980735 | all           |\n",
                            "| 3 |   0 | AreaShape_Area                         | 5.003355e-05 | 0.9944103 | high_vs_unsel |\n",
                            "| 4 |   1 | AreaShape_CentralMoment_0_0            | 5.003355e-05 | 0.9944103 | high_vs_unsel |\n",
                            "| 5 |  56 | AreaShape_SpatialMoment_0_0            | 5.003355e-05 | 0.9944103 | high_vs_unsel |\n",
                            "| 6 | 678 | RadialDistribution_ZernikePhase_OP_9_7 | 2.582189e-04 | 0.9873019 | unsel_vs_wt   |\n",
                            "\n"
                        ],
                        "text/plain": [
                            "  X   feature                                levene_statistic levene_p_value\n",
                            "1 128 RadialDistribution_MeanFrac_OP_3of4    5.743202e-06     0.9981062     \n",
                            "2 909 RadialDistribution_ZernikePhase_OP_6_6 1.928452e-03     0.9980735     \n",
                            "3   0 AreaShape_Area                         5.003355e-05     0.9944103     \n",
                            "4   1 AreaShape_CentralMoment_0_0            5.003355e-05     0.9944103     \n",
                            "5  56 AreaShape_SpatialMoment_0_0            5.003355e-05     0.9944103     \n",
                            "6 678 RadialDistribution_ZernikePhase_OP_9_7 2.582189e-04     0.9873019     \n",
                            "  group        \n",
                            "1 high_vs_unsel\n",
                            "2 all          \n",
                            "3 high_vs_unsel\n",
                            "4 high_vs_unsel\n",
                            "5 high_vs_unsel\n",
                            "6 unsel_vs_wt  "
                        ]
                    },
                    "metadata": {},
                    "output_type": "display_data"
                }
            ],
            "source": [
                "# load levene data in \n",
                "mean_aggregated_levene_df_path <- file.path(\"..\",\"..\",\"data\",\"6.analysis_results\",\"mean_aggregated_levene_test_results.csv\")\n",
                "mean_aggregated_levene_df <- read.csv(mean_aggregated_levene_df_path)\n",
                "head(mean_aggregated_levene_df)"
            ]
        },
        {
            "cell_type": "markdown",
            "id": "933ce2af",
            "metadata": {
                "papermill": {
                    "duration": 0.004065,
                    "end_time": "2024-05-04T20:34:46.633584",
                    "exception": false,
                    "start_time": "2024-05-04T20:34:46.629519",
                    "status": "completed"
                },
                "tags": []
            },
            "source": [
                "### Variances"
            ]
        },
        {
            "cell_type": "code",
            "execution_count": 6,
            "id": "8c5cb2a5",
            "metadata": {
                "execution": {
                    "iopub.execute_input": "2024-05-04T20:34:46.643440Z",
                    "iopub.status.busy": "2024-05-04T20:34:46.642380Z",
                    "iopub.status.idle": "2024-05-04T20:34:46.801600Z",
                    "shell.execute_reply": "2024-05-04T20:34:46.798132Z"
                },
                "papermill": {
                    "duration": 0.165816,
                    "end_time": "2024-05-04T20:34:46.803286",
                    "exception": false,
                    "start_time": "2024-05-04T20:34:46.637470",
                    "status": "completed"
                },
                "tags": [],
                "vscode": {
                    "languageId": "r"
                }
            },
            "outputs": [
                {
                    "data": {
                        "text/html": [
                            "<style>\n",
                            ".list-inline {list-style: none; margin:0; padding: 0}\n",
                            ".list-inline>li {display: inline-block}\n",
                            ".list-inline>li:not(:last-child)::after {content: \"\\00b7\"; padding: 0 .5ex}\n",
                            "</style>\n",
                            "<ol class=list-inline><li>'AreaShape_Zernike_2_0'</li><li>'AreaShape_Zernike_0_0'</li><li>'AreaShape_HuMoment_0'</li><li>'AreaShape_MedianRadius'</li><li>'AreaShape_MaximumRadius'</li><li>'AreaShape_MeanRadius'</li><li>'Intensity_MeanIntensityEdge_OP'</li><li>'Intensity_StdIntensityEdge_OP'</li><li>'Intensity_MaxIntensityEdge_OP'</li><li>'AreaShape_NormalizedMoment_2_0'</li><li>'AreaShape_MinFeretDiameter'</li><li>'Granularity_3_OP'</li><li>'AreaShape_EquivalentDiameter'</li><li>'AreaShape_MinorAxisLength'</li><li>'Intensity_LowerQuartileIntensity_OP'</li><li>'AreaShape_Area'</li><li>'AreaShape_CentralMoment_0_0'</li><li>'AreaShape_SpatialMoment_0_0'</li><li>'AreaShape_HuMoment_1'</li><li>'AreaShape_SpatialMoment_1_0'</li></ol>\n"
                        ],
                        "text/latex": [
                            "\\begin{enumerate*}\n",
                            "\\item 'AreaShape\\_Zernike\\_2\\_0'\n",
                            "\\item 'AreaShape\\_Zernike\\_0\\_0'\n",
                            "\\item 'AreaShape\\_HuMoment\\_0'\n",
                            "\\item 'AreaShape\\_MedianRadius'\n",
                            "\\item 'AreaShape\\_MaximumRadius'\n",
                            "\\item 'AreaShape\\_MeanRadius'\n",
                            "\\item 'Intensity\\_MeanIntensityEdge\\_OP'\n",
                            "\\item 'Intensity\\_StdIntensityEdge\\_OP'\n",
                            "\\item 'Intensity\\_MaxIntensityEdge\\_OP'\n",
                            "\\item 'AreaShape\\_NormalizedMoment\\_2\\_0'\n",
                            "\\item 'AreaShape\\_MinFeretDiameter'\n",
                            "\\item 'Granularity\\_3\\_OP'\n",
                            "\\item 'AreaShape\\_EquivalentDiameter'\n",
                            "\\item 'AreaShape\\_MinorAxisLength'\n",
                            "\\item 'Intensity\\_LowerQuartileIntensity\\_OP'\n",
                            "\\item 'AreaShape\\_Area'\n",
                            "\\item 'AreaShape\\_CentralMoment\\_0\\_0'\n",
                            "\\item 'AreaShape\\_SpatialMoment\\_0\\_0'\n",
                            "\\item 'AreaShape\\_HuMoment\\_1'\n",
                            "\\item 'AreaShape\\_SpatialMoment\\_1\\_0'\n",
                            "\\end{enumerate*}\n"
                        ],
                        "text/markdown": [
                            "1. 'AreaShape_Zernike_2_0'\n",
                            "2. 'AreaShape_Zernike_0_0'\n",
                            "3. 'AreaShape_HuMoment_0'\n",
                            "4. 'AreaShape_MedianRadius'\n",
                            "5. 'AreaShape_MaximumRadius'\n",
                            "6. 'AreaShape_MeanRadius'\n",
                            "7. 'Intensity_MeanIntensityEdge_OP'\n",
                            "8. 'Intensity_StdIntensityEdge_OP'\n",
                            "9. 'Intensity_MaxIntensityEdge_OP'\n",
                            "10. 'AreaShape_NormalizedMoment_2_0'\n",
                            "11. 'AreaShape_MinFeretDiameter'\n",
                            "12. 'Granularity_3_OP'\n",
                            "13. 'AreaShape_EquivalentDiameter'\n",
                            "14. 'AreaShape_MinorAxisLength'\n",
                            "15. 'Intensity_LowerQuartileIntensity_OP'\n",
                            "16. 'AreaShape_Area'\n",
                            "17. 'AreaShape_CentralMoment_0_0'\n",
                            "18. 'AreaShape_SpatialMoment_0_0'\n",
                            "19. 'AreaShape_HuMoment_1'\n",
                            "20. 'AreaShape_SpatialMoment_1_0'\n",
                            "\n",
                            "\n"
                        ],
                        "text/plain": [
                            " [1] \"AreaShape_Zernike_2_0\"               \"AreaShape_Zernike_0_0\"              \n",
                            " [3] \"AreaShape_HuMoment_0\"                \"AreaShape_MedianRadius\"             \n",
                            " [5] \"AreaShape_MaximumRadius\"             \"AreaShape_MeanRadius\"               \n",
                            " [7] \"Intensity_MeanIntensityEdge_OP\"      \"Intensity_StdIntensityEdge_OP\"      \n",
                            " [9] \"Intensity_MaxIntensityEdge_OP\"       \"AreaShape_NormalizedMoment_2_0\"     \n",
                            "[11] \"AreaShape_MinFeretDiameter\"          \"Granularity_3_OP\"                   \n",
                            "[13] \"AreaShape_EquivalentDiameter\"        \"AreaShape_MinorAxisLength\"          \n",
                            "[15] \"Intensity_LowerQuartileIntensity_OP\" \"AreaShape_Area\"                     \n",
                            "[17] \"AreaShape_CentralMoment_0_0\"         \"AreaShape_SpatialMoment_0_0\"        \n",
                            "[19] \"AreaShape_HuMoment_1\"                \"AreaShape_SpatialMoment_1_0\"        "
                        ]
                    },
                    "metadata": {},
                    "output_type": "display_data"
                },
                {
                    "data": {
                        "text/html": [
                            "<table class=\"dataframe\">\n",
                            "<caption>A tibble: 6 \u00d7 246</caption>\n",
                            "<thead>\n",
                            "\t<tr><th scope=col>Metadata_genotype</th><th scope=col>Metadata_replicate</th><th scope=col>AreaShape_Area</th><th scope=col>AreaShape_CentralMoment_0_0</th><th scope=col>AreaShape_CentralMoment_0_1</th><th scope=col>AreaShape_CentralMoment_0_2</th><th scope=col>AreaShape_CentralMoment_0_3</th><th scope=col>AreaShape_CentralMoment_1_0</th><th scope=col>AreaShape_CentralMoment_1_1</th><th scope=col>AreaShape_CentralMoment_1_2</th><th scope=col>\u22ef</th><th scope=col>Texture_SumEntropy_OP_3_02_256</th><th scope=col>Texture_SumEntropy_OP_3_03_256</th><th scope=col>Texture_SumVariance_OP_3_00_256</th><th scope=col>Texture_SumVariance_OP_3_01_256</th><th scope=col>Texture_SumVariance_OP_3_02_256</th><th scope=col>Texture_SumVariance_OP_3_03_256</th><th scope=col>Texture_Variance_OP_3_00_256</th><th scope=col>Texture_Variance_OP_3_01_256</th><th scope=col>Texture_Variance_OP_3_02_256</th><th scope=col>Texture_Variance_OP_3_03_256</th></tr>\n",
                            "\t<tr><th scope=col>&lt;fct&gt;</th><th scope=col>&lt;chr&gt;</th><th scope=col>&lt;dbl&gt;</th><th scope=col>&lt;dbl&gt;</th><th scope=col>&lt;dbl&gt;</th><th scope=col>&lt;dbl&gt;</th><th scope=col>&lt;dbl&gt;</th><th scope=col>&lt;dbl&gt;</th><th scope=col>&lt;dbl&gt;</th><th scope=col>&lt;dbl&gt;</th><th scope=col>\u22ef</th><th scope=col>&lt;dbl&gt;</th><th scope=col>&lt;dbl&gt;</th><th scope=col>&lt;dbl&gt;</th><th scope=col>&lt;dbl&gt;</th><th scope=col>&lt;dbl&gt;</th><th scope=col>&lt;dbl&gt;</th><th scope=col>&lt;dbl&gt;</th><th scope=col>&lt;dbl&gt;</th><th scope=col>&lt;dbl&gt;</th><th scope=col>&lt;dbl&gt;</th></tr>\n",
                            "</thead>\n",
                            "<tbody>\n",
                            "\t<tr><td>High-Severity</td><td>1 </td><td>0.5964828</td><td>0.5964828</td><td> 0.27087628</td><td>-0.04923743</td><td> 0.39086810</td><td> 2.1009152</td><td>-0.4639369</td><td>-0.04298225</td><td>\u22ef</td><td>-0.10410518</td><td>-0.11903633</td><td>-0.54585578</td><td>-0.52502679</td><td>-0.54330471</td><td>-0.54458881</td><td>-0.5575633</td><td>-0.5621014</td><td>-0.5589764</td><td>-0.5608718</td></tr>\n",
                            "\t<tr><td>High-Severity</td><td>10</td><td>1.2389540</td><td>1.2389540</td><td> 0.65981303</td><td> 1.72236419</td><td>-0.87429732</td><td> 0.1791951</td><td>-1.6447597</td><td> 0.82527013</td><td>\u22ef</td><td> 0.64697719</td><td> 0.63535604</td><td> 0.63068191</td><td> 0.64209101</td><td> 0.59375379</td><td> 0.63527378</td><td> 0.5578628</td><td> 0.5484734</td><td> 0.5609847</td><td> 0.5477695</td></tr>\n",
                            "\t<tr><td>High-Severity</td><td>11</td><td>2.1312071</td><td>2.1312071</td><td> 0.63086554</td><td> 1.42646941</td><td> 0.29159110</td><td> 1.8012069</td><td>-0.2706624</td><td>-0.16430652</td><td>\u22ef</td><td> 0.68677092</td><td> 0.67823043</td><td> 0.55238246</td><td> 0.57082297</td><td> 0.52626599</td><td> 0.54847464</td><td> 0.4988255</td><td> 0.4862685</td><td> 0.5000832</td><td> 0.4902130</td></tr>\n",
                            "\t<tr><td>High-Severity</td><td>12</td><td>1.2012381</td><td>1.2012381</td><td> 0.02494302</td><td> 1.27911918</td><td>-0.46408552</td><td>-1.6528531</td><td>-0.9823093</td><td> 0.10767961</td><td>\u22ef</td><td> 0.30950471</td><td> 0.30893327</td><td>-0.05477867</td><td>-0.05987619</td><td>-0.09839988</td><td>-0.06793023</td><td>-0.1037820</td><td>-0.1093674</td><td>-0.1010855</td><td>-0.1067718</td></tr>\n",
                            "\t<tr><td>High-Severity</td><td>13</td><td>1.1948884</td><td>1.1948884</td><td>-0.55436803</td><td>-0.03446555</td><td> 0.05088249</td><td>-1.3449799</td><td>-0.4836727</td><td>-0.79443383</td><td>\u22ef</td><td> 0.05670642</td><td> 0.04774139</td><td>-0.32517061</td><td>-0.29567384</td><td>-0.32103861</td><td>-0.32243559</td><td>-0.3484087</td><td>-0.3562547</td><td>-0.3502858</td><td>-0.3521677</td></tr>\n",
                            "\t<tr><td>High-Severity</td><td>14</td><td>2.2767921</td><td>2.2767921</td><td>-2.38853596</td><td> 1.69171903</td><td> 0.12573685</td><td>-0.7138870</td><td>-1.5904088</td><td> 0.11087396</td><td>\u22ef</td><td> 1.02706597</td><td> 1.02583400</td><td> 1.25542512</td><td> 1.27093366</td><td> 1.20964214</td><td> 1.24875506</td><td> 1.1673985</td><td> 1.1480302</td><td> 1.1718716</td><td> 1.1541288</td></tr>\n",
                            "</tbody>\n",
                            "</table>\n"
                        ],
                        "text/latex": [
                            "A tibble: 6 \u00d7 246\n",
                            "\\begin{tabular}{lllllllllllllllllllll}\n",
                            " Metadata\\_genotype & Metadata\\_replicate & AreaShape\\_Area & AreaShape\\_CentralMoment\\_0\\_0 & AreaShape\\_CentralMoment\\_0\\_1 & AreaShape\\_CentralMoment\\_0\\_2 & AreaShape\\_CentralMoment\\_0\\_3 & AreaShape\\_CentralMoment\\_1\\_0 & AreaShape\\_CentralMoment\\_1\\_1 & AreaShape\\_CentralMoment\\_1\\_2 & \u22ef & Texture\\_SumEntropy\\_OP\\_3\\_02\\_256 & Texture\\_SumEntropy\\_OP\\_3\\_03\\_256 & Texture\\_SumVariance\\_OP\\_3\\_00\\_256 & Texture\\_SumVariance\\_OP\\_3\\_01\\_256 & Texture\\_SumVariance\\_OP\\_3\\_02\\_256 & Texture\\_SumVariance\\_OP\\_3\\_03\\_256 & Texture\\_Variance\\_OP\\_3\\_00\\_256 & Texture\\_Variance\\_OP\\_3\\_01\\_256 & Texture\\_Variance\\_OP\\_3\\_02\\_256 & Texture\\_Variance\\_OP\\_3\\_03\\_256\\\\\n",
                            " <fct> & <chr> & <dbl> & <dbl> & <dbl> & <dbl> & <dbl> & <dbl> & <dbl> & <dbl> & \u22ef & <dbl> & <dbl> & <dbl> & <dbl> & <dbl> & <dbl> & <dbl> & <dbl> & <dbl> & <dbl>\\\\\n",
                            "\\hline\n",
                            "\t High-Severity & 1  & 0.5964828 & 0.5964828 &  0.27087628 & -0.04923743 &  0.39086810 &  2.1009152 & -0.4639369 & -0.04298225 & \u22ef & -0.10410518 & -0.11903633 & -0.54585578 & -0.52502679 & -0.54330471 & -0.54458881 & -0.5575633 & -0.5621014 & -0.5589764 & -0.5608718\\\\\n",
                            "\t High-Severity & 10 & 1.2389540 & 1.2389540 &  0.65981303 &  1.72236419 & -0.87429732 &  0.1791951 & -1.6447597 &  0.82527013 & \u22ef &  0.64697719 &  0.63535604 &  0.63068191 &  0.64209101 &  0.59375379 &  0.63527378 &  0.5578628 &  0.5484734 &  0.5609847 &  0.5477695\\\\\n",
                            "\t High-Severity & 11 & 2.1312071 & 2.1312071 &  0.63086554 &  1.42646941 &  0.29159110 &  1.8012069 & -0.2706624 & -0.16430652 & \u22ef &  0.68677092 &  0.67823043 &  0.55238246 &  0.57082297 &  0.52626599 &  0.54847464 &  0.4988255 &  0.4862685 &  0.5000832 &  0.4902130\\\\\n",
                            "\t High-Severity & 12 & 1.2012381 & 1.2012381 &  0.02494302 &  1.27911918 & -0.46408552 & -1.6528531 & -0.9823093 &  0.10767961 & \u22ef &  0.30950471 &  0.30893327 & -0.05477867 & -0.05987619 & -0.09839988 & -0.06793023 & -0.1037820 & -0.1093674 & -0.1010855 & -0.1067718\\\\\n",
                            "\t High-Severity & 13 & 1.1948884 & 1.1948884 & -0.55436803 & -0.03446555 &  0.05088249 & -1.3449799 & -0.4836727 & -0.79443383 & \u22ef &  0.05670642 &  0.04774139 & -0.32517061 & -0.29567384 & -0.32103861 & -0.32243559 & -0.3484087 & -0.3562547 & -0.3502858 & -0.3521677\\\\\n",
                            "\t High-Severity & 14 & 2.2767921 & 2.2767921 & -2.38853596 &  1.69171903 &  0.12573685 & -0.7138870 & -1.5904088 &  0.11087396 & \u22ef &  1.02706597 &  1.02583400 &  1.25542512 &  1.27093366 &  1.20964214 &  1.24875506 &  1.1673985 &  1.1480302 &  1.1718716 &  1.1541288\\\\\n",
                            "\\end{tabular}\n"
                        ],
                        "text/markdown": [
                            "\n",
                            "A tibble: 6 \u00d7 246\n",
                            "\n",
                            "| Metadata_genotype &lt;fct&gt; | Metadata_replicate &lt;chr&gt; | AreaShape_Area &lt;dbl&gt; | AreaShape_CentralMoment_0_0 &lt;dbl&gt; | AreaShape_CentralMoment_0_1 &lt;dbl&gt; | AreaShape_CentralMoment_0_2 &lt;dbl&gt; | AreaShape_CentralMoment_0_3 &lt;dbl&gt; | AreaShape_CentralMoment_1_0 &lt;dbl&gt; | AreaShape_CentralMoment_1_1 &lt;dbl&gt; | AreaShape_CentralMoment_1_2 &lt;dbl&gt; | \u22ef \u22ef | Texture_SumEntropy_OP_3_02_256 &lt;dbl&gt; | Texture_SumEntropy_OP_3_03_256 &lt;dbl&gt; | Texture_SumVariance_OP_3_00_256 &lt;dbl&gt; | Texture_SumVariance_OP_3_01_256 &lt;dbl&gt; | Texture_SumVariance_OP_3_02_256 &lt;dbl&gt; | Texture_SumVariance_OP_3_03_256 &lt;dbl&gt; | Texture_Variance_OP_3_00_256 &lt;dbl&gt; | Texture_Variance_OP_3_01_256 &lt;dbl&gt; | Texture_Variance_OP_3_02_256 &lt;dbl&gt; | Texture_Variance_OP_3_03_256 &lt;dbl&gt; |\n",
                            "|---|---|---|---|---|---|---|---|---|---|---|---|---|---|---|---|---|---|---|---|---|\n",
                            "| High-Severity | 1  | 0.5964828 | 0.5964828 |  0.27087628 | -0.04923743 |  0.39086810 |  2.1009152 | -0.4639369 | -0.04298225 | \u22ef | -0.10410518 | -0.11903633 | -0.54585578 | -0.52502679 | -0.54330471 | -0.54458881 | -0.5575633 | -0.5621014 | -0.5589764 | -0.5608718 |\n",
                            "| High-Severity | 10 | 1.2389540 | 1.2389540 |  0.65981303 |  1.72236419 | -0.87429732 |  0.1791951 | -1.6447597 |  0.82527013 | \u22ef |  0.64697719 |  0.63535604 |  0.63068191 |  0.64209101 |  0.59375379 |  0.63527378 |  0.5578628 |  0.5484734 |  0.5609847 |  0.5477695 |\n",
                            "| High-Severity | 11 | 2.1312071 | 2.1312071 |  0.63086554 |  1.42646941 |  0.29159110 |  1.8012069 | -0.2706624 | -0.16430652 | \u22ef |  0.68677092 |  0.67823043 |  0.55238246 |  0.57082297 |  0.52626599 |  0.54847464 |  0.4988255 |  0.4862685 |  0.5000832 |  0.4902130 |\n",
                            "| High-Severity | 12 | 1.2012381 | 1.2012381 |  0.02494302 |  1.27911918 | -0.46408552 | -1.6528531 | -0.9823093 |  0.10767961 | \u22ef |  0.30950471 |  0.30893327 | -0.05477867 | -0.05987619 | -0.09839988 | -0.06793023 | -0.1037820 | -0.1093674 | -0.1010855 | -0.1067718 |\n",
                            "| High-Severity | 13 | 1.1948884 | 1.1948884 | -0.55436803 | -0.03446555 |  0.05088249 | -1.3449799 | -0.4836727 | -0.79443383 | \u22ef |  0.05670642 |  0.04774139 | -0.32517061 | -0.29567384 | -0.32103861 | -0.32243559 | -0.3484087 | -0.3562547 | -0.3502858 | -0.3521677 |\n",
                            "| High-Severity | 14 | 2.2767921 | 2.2767921 | -2.38853596 |  1.69171903 |  0.12573685 | -0.7138870 | -1.5904088 |  0.11087396 | \u22ef |  1.02706597 |  1.02583400 |  1.25542512 |  1.27093366 |  1.20964214 |  1.24875506 |  1.1673985 |  1.1480302 |  1.1718716 |  1.1541288 |\n",
                            "\n"
                        ],
                        "text/plain": [
                            "  Metadata_genotype Metadata_replicate AreaShape_Area\n",
                            "1 High-Severity     1                  0.5964828     \n",
                            "2 High-Severity     10                 1.2389540     \n",
                            "3 High-Severity     11                 2.1312071     \n",
                            "4 High-Severity     12                 1.2012381     \n",
                            "5 High-Severity     13                 1.1948884     \n",
                            "6 High-Severity     14                 2.2767921     \n",
                            "  AreaShape_CentralMoment_0_0 AreaShape_CentralMoment_0_1\n",
                            "1 0.5964828                    0.27087628                \n",
                            "2 1.2389540                    0.65981303                \n",
                            "3 2.1312071                    0.63086554                \n",
                            "4 1.2012381                    0.02494302                \n",
                            "5 1.1948884                   -0.55436803                \n",
                            "6 2.2767921                   -2.38853596                \n",
                            "  AreaShape_CentralMoment_0_2 AreaShape_CentralMoment_0_3\n",
                            "1 -0.04923743                  0.39086810                \n",
                            "2  1.72236419                 -0.87429732                \n",
                            "3  1.42646941                  0.29159110                \n",
                            "4  1.27911918                 -0.46408552                \n",
                            "5 -0.03446555                  0.05088249                \n",
                            "6  1.69171903                  0.12573685                \n",
                            "  AreaShape_CentralMoment_1_0 AreaShape_CentralMoment_1_1\n",
                            "1  2.1009152                  -0.4639369                 \n",
                            "2  0.1791951                  -1.6447597                 \n",
                            "3  1.8012069                  -0.2706624                 \n",
                            "4 -1.6528531                  -0.9823093                 \n",
                            "5 -1.3449799                  -0.4836727                 \n",
                            "6 -0.7138870                  -1.5904088                 \n",
                            "  AreaShape_CentralMoment_1_2 \u22ef Texture_SumEntropy_OP_3_02_256\n",
                            "1 -0.04298225                 \u22ef -0.10410518                   \n",
                            "2  0.82527013                 \u22ef  0.64697719                   \n",
                            "3 -0.16430652                 \u22ef  0.68677092                   \n",
                            "4  0.10767961                 \u22ef  0.30950471                   \n",
                            "5 -0.79443383                 \u22ef  0.05670642                   \n",
                            "6  0.11087396                 \u22ef  1.02706597                   \n",
                            "  Texture_SumEntropy_OP_3_03_256 Texture_SumVariance_OP_3_00_256\n",
                            "1 -0.11903633                    -0.54585578                    \n",
                            "2  0.63535604                     0.63068191                    \n",
                            "3  0.67823043                     0.55238246                    \n",
                            "4  0.30893327                    -0.05477867                    \n",
                            "5  0.04774139                    -0.32517061                    \n",
                            "6  1.02583400                     1.25542512                    \n",
                            "  Texture_SumVariance_OP_3_01_256 Texture_SumVariance_OP_3_02_256\n",
                            "1 -0.52502679                     -0.54330471                    \n",
                            "2  0.64209101                      0.59375379                    \n",
                            "3  0.57082297                      0.52626599                    \n",
                            "4 -0.05987619                     -0.09839988                    \n",
                            "5 -0.29567384                     -0.32103861                    \n",
                            "6  1.27093366                      1.20964214                    \n",
                            "  Texture_SumVariance_OP_3_03_256 Texture_Variance_OP_3_00_256\n",
                            "1 -0.54458881                     -0.5575633                  \n",
                            "2  0.63527378                      0.5578628                  \n",
                            "3  0.54847464                      0.4988255                  \n",
                            "4 -0.06793023                     -0.1037820                  \n",
                            "5 -0.32243559                     -0.3484087                  \n",
                            "6  1.24875506                      1.1673985                  \n",
                            "  Texture_Variance_OP_3_01_256 Texture_Variance_OP_3_02_256\n",
                            "1 -0.5621014                   -0.5589764                  \n",
                            "2  0.5484734                    0.5609847                  \n",
                            "3  0.4862685                    0.5000832                  \n",
                            "4 -0.1093674                   -0.1010855                  \n",
                            "5 -0.3562547                   -0.3502858                  \n",
                            "6  1.1480302                    1.1718716                  \n",
                            "  Texture_Variance_OP_3_03_256\n",
                            "1 -0.5608718                  \n",
                            "2  0.5477695                  \n",
                            "3  0.4902130                  \n",
                            "4 -0.1067718                  \n",
                            "5 -0.3521677                  \n",
                            "6  1.1541288                  "
                        ]
                    },
                    "metadata": {},
                    "output_type": "display_data"
                }
            ],
            "source": [
                "width <- 4\n",
                "height <- 4\n",
                "options(repr.plot.width = width, repr.plot.height = height)\n",
                "# make a new column for the group1 and group2\n",
                "mean_aggregated_anova_df$comparison <- paste(mean_aggregated_anova_df$group1, mean_aggregated_anova_df$group2, sep = \" - \")\n",
                "\n",
                "# order the results by anova p-value\n",
                "mean_aggregated_anova_df <- mean_aggregated_anova_df %>% arrange(anova_p_value)\n",
                "features <- unique(mean_aggregated_anova_df$feature)[1:20]\n",
                "features\n",
                "top_20_mean_aggregated_anova_df <- mean_aggregated_anova_df %>% filter(feature %in% features)\n",
                "top_20_mean_aggregated_anova_df$log10_tukey_p_value <- -log10(top_20_mean_aggregated_anova_df$`p-adj`)\n",
                "# make the genotype a factor\n",
                "# replace the genotype values\n",
                "mean_aggregated_data_df$Metadata_genotype <- gsub(\"wt\", \"Wild Type\", mean_aggregated_data_df$Metadata_genotype)\n",
                "mean_aggregated_data_df$Metadata_genotype <- gsub(\"unsel\", \"Mid-Severity\", mean_aggregated_data_df$Metadata_genotype)\n",
                "mean_aggregated_data_df$Metadata_genotype <- gsub(\"high\", \"High-Severity\", mean_aggregated_data_df$Metadata_genotype)\n",
                "mean_aggregated_data_df$Metadata_genotype <- factor(\n",
                "    mean_aggregated_data_df$Metadata_genotype, \n",
                "    levels = c(\"Wild Type\", \"Mid-Severity\", \"High-Severity\")\n",
                ")\n",
                "head(mean_aggregated_data_df)"
            ]
        },
        {
            "cell_type": "code",
            "execution_count": 7,
            "id": "ab9b2dc6",
            "metadata": {
                "execution": {
                    "iopub.execute_input": "2024-05-04T20:34:46.814932Z",
                    "iopub.status.busy": "2024-05-04T20:34:46.813860Z",
                    "iopub.status.idle": "2024-05-04T20:35:06.847772Z",
                    "shell.execute_reply": "2024-05-04T20:35:06.845356Z"
                },
                "papermill": {
                    "duration": 20.041335,
                    "end_time": "2024-05-04T20:35:06.849595",
                    "exception": false,
                    "start_time": "2024-05-04T20:34:46.808260",
                    "status": "completed"
                },
                "tags": [],
                "vscode": {
                    "languageId": "r"
                }
            },
            "outputs": [
                {
                    "name": "stdout",
                    "output_type": "stream",
                    "text": [
                        "[1] \"AreaShape_Zernike_2_0\"\n"
                    ]
                },
                {
                    "name": "stdout",
                    "output_type": "stream",
                    "text": [
                        "[1] \"AreaShape_Zernike_0_0\"\n"
                    ]
                },
                {
                    "name": "stdout",
                    "output_type": "stream",
                    "text": [
                        "[1] \"AreaShape_HuMoment_0\"\n"
                    ]
                },
                {
                    "name": "stdout",
                    "output_type": "stream",
                    "text": [
                        "[1] \"AreaShape_MedianRadius\"\n"
                    ]
                },
                {
                    "name": "stdout",
                    "output_type": "stream",
                    "text": [
                        "[1] \"AreaShape_MaximumRadius\"\n"
                    ]
                },
                {
                    "name": "stdout",
                    "output_type": "stream",
                    "text": [
                        "[1] \"AreaShape_MeanRadius\"\n"
                    ]
                },
                {
                    "name": "stdout",
                    "output_type": "stream",
                    "text": [
                        "[1] \"Intensity_MeanIntensityEdge_OP\"\n"
                    ]
                },
                {
                    "name": "stdout",
                    "output_type": "stream",
                    "text": [
                        "[1] \"Intensity_StdIntensityEdge_OP\"\n"
                    ]
                },
                {
                    "name": "stdout",
                    "output_type": "stream",
                    "text": [
                        "[1] \"Intensity_MaxIntensityEdge_OP\"\n"
                    ]
                },
                {
                    "name": "stdout",
                    "output_type": "stream",
                    "text": [
                        "[1] \"AreaShape_NormalizedMoment_2_0\"\n"
                    ]
                },
                {
                    "name": "stdout",
                    "output_type": "stream",
                    "text": [
                        "[1] \"AreaShape_MinFeretDiameter\"\n"
                    ]
                },
                {
                    "name": "stdout",
                    "output_type": "stream",
                    "text": [
                        "[1] \"Granularity_3_OP\"\n"
                    ]
                },
                {
                    "name": "stdout",
                    "output_type": "stream",
                    "text": [
                        "[1] \"AreaShape_EquivalentDiameter\"\n"
                    ]
                },
                {
                    "name": "stdout",
                    "output_type": "stream",
                    "text": [
                        "[1] \"AreaShape_MinorAxisLength\"\n"
                    ]
                },
                {
                    "name": "stdout",
                    "output_type": "stream",
                    "text": [
                        "[1] \"Intensity_LowerQuartileIntensity_OP\"\n"
                    ]
                },
                {
                    "name": "stdout",
                    "output_type": "stream",
                    "text": [
                        "[1] \"AreaShape_Area\"\n"
                    ]
                },
                {
                    "name": "stdout",
                    "output_type": "stream",
                    "text": [
                        "[1] \"AreaShape_CentralMoment_0_0\"\n"
                    ]
                },
                {
                    "name": "stdout",
                    "output_type": "stream",
                    "text": [
                        "[1] \"AreaShape_SpatialMoment_0_0\"\n"
                    ]
                },
                {
                    "name": "stdout",
                    "output_type": "stream",
                    "text": [
                        "[1] \"AreaShape_HuMoment_1\"\n"
                    ]
                },
                {
                    "name": "stdout",
                    "output_type": "stream",
                    "text": [
                        "[1] \"AreaShape_SpatialMoment_1_0\"\n"
                    ]
                }
            ],
            "source": [
                "width <- 8\n",
                "height <- 8\n",
                "\n",
                "list_of_genotype_anova_plots_by_genotype <- list()\n",
                "\n",
                "for (i in 1:length(features)){\n",
                "    print(features[i])\n",
                "    # get the top feature\n",
                "    tmp <- mean_aggregated_data_df %>% select(c(\"Metadata_genotype\", features[i]))\n",
                "    # aggregate the data to get the mean and standard deviation of the top feature\n",
                "    tmp <- tmp %>% group_by(Metadata_genotype) %>% summarise(mean = mean(!!as.name(features[i])), sd = sd(!!as.name(features[i])))\n",
                "    # calculate the variance where variance = sd^2\n",
                "    tmp$variance <- tmp$sd^2\n",
                "    title <- gsub(\"_\", \" \", features[i])\n",
                "    # plot the variability of the top feature\n",
                "    var_plot <- (\n",
                "        ggplot(tmp, aes(x = Metadata_genotype, y = variance, fill = Metadata_genotype)) \n",
                "        + geom_bar(stat = \"identity\")\n",
                "        + theme(axis.text.x = element_text(angle = 90, hjust = 1))\n",
                "        + labs(title = title, x = \"Genotype\", y = \"Variance\", fill = \"Genotype\")\n",
                "        + theme_bw()\n",
                "        + figure_theme\n",
                "    )\n",
                "    # save var plot\n",
                "    ggsave(file = paste0(\"mean_aggregated_\", features[i], \"_variance_plot_genotype.png\"), plot = var_plot, path = file.path(fig_path), width = width, height = height, dpi = 600)\n",
                "\n",
                "    list_of_genotype_anova_plots_by_genotype[[i]] <- var_plot\n",
                "}"
            ]
        }
    ],
    "metadata": {
        "kernelspec": {
            "display_name": "R",
            "language": "R",
            "name": "ir"
        },
        "language_info": {
            "codemirror_mode": "r",
            "file_extension": ".r",
            "mimetype": "text/x-r-source",
            "name": "R",
            "pygments_lexer": "r",
            "version": "4.2.2"
        },
        "papermill": {
            "default_parameters": {},
            "duration": 26.112719,
            "end_time": "2024-05-04T20:35:06.975396",
            "environment_variables": {},
            "exception": null,
            "input_path": "5a.mean_aggregated_anova_visualize.ipynb",
            "output_path": "5a.mean_aggregated_anova_visualize.ipynb",
            "parameters": {},
            "start_time": "2024-05-04T20:34:40.862677",
            "version": "2.6.0"
        }
    },
    "nbformat": 4,
    "nbformat_minor": 5
}
