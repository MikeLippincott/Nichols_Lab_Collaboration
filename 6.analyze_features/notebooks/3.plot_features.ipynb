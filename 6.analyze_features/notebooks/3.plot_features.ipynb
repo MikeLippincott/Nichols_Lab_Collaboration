{
    "cells": [
        {
            "cell_type": "code",
            "execution_count": 1,
            "metadata": {
                "vscode": {
                    "languageId": "r"
                }
            },
            "outputs": [],
            "source": [
                "# load libraries\n",
                "suppressWarnings(suppressPackageStartupMessages(library(ggplot2)))\n",
                "suppressWarnings(suppressPackageStartupMessages(library(tidyr)))\n",
                "suppressWarnings(suppressPackageStartupMessages(library(tidyverse)))\n",
                "suppressWarnings(suppressPackageStartupMessages(library(dplyr)))\n",
                "suppressWarnings(suppressPackageStartupMessages(library(arrow)))\n",
                "suppressWarnings(suppressPackageStartupMessages(library(patchwork)))\n",
                "suppressWarnings(suppressPackageStartupMessages(library(ggsignif)))\n",
                "# import ggplot theme\n",
                "source(\"../../utils/figure_themes.r\")"
            ]
        },
        {
            "cell_type": "markdown",
            "metadata": {},
            "source": [
                "### Plot the variance and the levene test for each feature type"
            ]
        },
        {
            "cell_type": "code",
            "execution_count": 10,
            "metadata": {
                "vscode": {
                    "languageId": "r"
                }
            },
            "outputs": [
                {
                    "data": {
                        "text/html": [
                            "<table class=\"dataframe\">\n",
                            "<caption>A data.frame: 6 × 4</caption>\n",
                            "<thead>\n",
                            "\t<tr><th></th><th scope=col>feature_group</th><th scope=col>levene_statistic</th><th scope=col>levene_p_value</th><th scope=col>group</th></tr>\n",
                            "\t<tr><th></th><th scope=col>&lt;chr&gt;</th><th scope=col>&lt;dbl&gt;</th><th scope=col>&lt;dbl&gt;</th><th scope=col>&lt;chr&gt;</th></tr>\n",
                            "</thead>\n",
                            "<tbody>\n",
                            "\t<tr><th scope=row>1</th><td>AreaShape</td><td> 40.552751</td><td>2.315178e-10</td><td>high_area_v_unsel_area          </td></tr>\n",
                            "\t<tr><th scope=row>2</th><td>AreaShape</td><td> 99.061181</td><td>6.899227e-23</td><td>high_area_v_wt_area             </td></tr>\n",
                            "\t<tr><th scope=row>3</th><td>AreaShape</td><td>  6.977668</td><td>8.295829e-03</td><td>unsel_area_v_wt_area            </td></tr>\n",
                            "\t<tr><th scope=row>4</th><td>Intensity</td><td> 39.619909</td><td>4.319952e-10</td><td>high_intensity_v_unsel_intensity</td></tr>\n",
                            "\t<tr><th scope=row>5</th><td>Intensity</td><td>  6.634521</td><td>1.011541e-02</td><td>high_intensity_v_wt_intensity   </td></tr>\n",
                            "\t<tr><th scope=row>6</th><td>Intensity</td><td>123.711278</td><td>9.596941e-28</td><td>unsel_intensity_v_wt_intensity  </td></tr>\n",
                            "</tbody>\n",
                            "</table>\n"
                        ],
                        "text/latex": [
                            "A data.frame: 6 × 4\n",
                            "\\begin{tabular}{r|llll}\n",
                            "  & feature\\_group & levene\\_statistic & levene\\_p\\_value & group\\\\\n",
                            "  & <chr> & <dbl> & <dbl> & <chr>\\\\\n",
                            "\\hline\n",
                            "\t1 & AreaShape &  40.552751 & 2.315178e-10 & high\\_area\\_v\\_unsel\\_area          \\\\\n",
                            "\t2 & AreaShape &  99.061181 & 6.899227e-23 & high\\_area\\_v\\_wt\\_area             \\\\\n",
                            "\t3 & AreaShape &   6.977668 & 8.295829e-03 & unsel\\_area\\_v\\_wt\\_area            \\\\\n",
                            "\t4 & Intensity &  39.619909 & 4.319952e-10 & high\\_intensity\\_v\\_unsel\\_intensity\\\\\n",
                            "\t5 & Intensity &   6.634521 & 1.011541e-02 & high\\_intensity\\_v\\_wt\\_intensity   \\\\\n",
                            "\t6 & Intensity & 123.711278 & 9.596941e-28 & unsel\\_intensity\\_v\\_wt\\_intensity  \\\\\n",
                            "\\end{tabular}\n"
                        ],
                        "text/markdown": [
                            "\n",
                            "A data.frame: 6 × 4\n",
                            "\n",
                            "| <!--/--> | feature_group &lt;chr&gt; | levene_statistic &lt;dbl&gt; | levene_p_value &lt;dbl&gt; | group &lt;chr&gt; |\n",
                            "|---|---|---|---|---|\n",
                            "| 1 | AreaShape |  40.552751 | 2.315178e-10 | high_area_v_unsel_area           |\n",
                            "| 2 | AreaShape |  99.061181 | 6.899227e-23 | high_area_v_wt_area              |\n",
                            "| 3 | AreaShape |   6.977668 | 8.295829e-03 | unsel_area_v_wt_area             |\n",
                            "| 4 | Intensity |  39.619909 | 4.319952e-10 | high_intensity_v_unsel_intensity |\n",
                            "| 5 | Intensity |   6.634521 | 1.011541e-02 | high_intensity_v_wt_intensity    |\n",
                            "| 6 | Intensity | 123.711278 | 9.596941e-28 | unsel_intensity_v_wt_intensity   |\n",
                            "\n"
                        ],
                        "text/plain": [
                            "  feature_group levene_statistic levene_p_value\n",
                            "1 AreaShape      40.552751       2.315178e-10  \n",
                            "2 AreaShape      99.061181       6.899227e-23  \n",
                            "3 AreaShape       6.977668       8.295829e-03  \n",
                            "4 Intensity      39.619909       4.319952e-10  \n",
                            "5 Intensity       6.634521       1.011541e-02  \n",
                            "6 Intensity     123.711278       9.596941e-28  \n",
                            "  group                           \n",
                            "1 high_area_v_unsel_area          \n",
                            "2 high_area_v_wt_area             \n",
                            "3 unsel_area_v_wt_area            \n",
                            "4 high_intensity_v_unsel_intensity\n",
                            "5 high_intensity_v_wt_intensity   \n",
                            "6 unsel_intensity_v_wt_intensity  "
                        ]
                    },
                    "metadata": {},
                    "output_type": "display_data"
                },
                {
                    "data": {
                        "text/html": [
                            "<table class=\"dataframe\">\n",
                            "<caption>A data.frame: 6 × 3</caption>\n",
                            "<thead>\n",
                            "\t<tr><th></th><th scope=col>Metadata_genotype</th><th scope=col>variance</th><th scope=col>feature_group</th></tr>\n",
                            "\t<tr><th></th><th scope=col>&lt;chr&gt;</th><th scope=col>&lt;dbl&gt;</th><th scope=col>&lt;chr&gt;</th></tr>\n",
                            "</thead>\n",
                            "<tbody>\n",
                            "\t<tr><th scope=row>1</th><td>High-Severity</td><td>0.5167622</td><td>AreaShape</td></tr>\n",
                            "\t<tr><th scope=row>2</th><td>High-Severity</td><td>0.7339399</td><td>AreaShape</td></tr>\n",
                            "\t<tr><th scope=row>3</th><td>High-Severity</td><td>0.3648957</td><td>AreaShape</td></tr>\n",
                            "\t<tr><th scope=row>4</th><td>High-Severity</td><td>1.6339921</td><td>AreaShape</td></tr>\n",
                            "\t<tr><th scope=row>5</th><td>High-Severity</td><td>0.3141811</td><td>AreaShape</td></tr>\n",
                            "\t<tr><th scope=row>6</th><td>High-Severity</td><td>0.7941645</td><td>AreaShape</td></tr>\n",
                            "</tbody>\n",
                            "</table>\n"
                        ],
                        "text/latex": [
                            "A data.frame: 6 × 3\n",
                            "\\begin{tabular}{r|lll}\n",
                            "  & Metadata\\_genotype & variance & feature\\_group\\\\\n",
                            "  & <chr> & <dbl> & <chr>\\\\\n",
                            "\\hline\n",
                            "\t1 & High-Severity & 0.5167622 & AreaShape\\\\\n",
                            "\t2 & High-Severity & 0.7339399 & AreaShape\\\\\n",
                            "\t3 & High-Severity & 0.3648957 & AreaShape\\\\\n",
                            "\t4 & High-Severity & 1.6339921 & AreaShape\\\\\n",
                            "\t5 & High-Severity & 0.3141811 & AreaShape\\\\\n",
                            "\t6 & High-Severity & 0.7941645 & AreaShape\\\\\n",
                            "\\end{tabular}\n"
                        ],
                        "text/markdown": [
                            "\n",
                            "A data.frame: 6 × 3\n",
                            "\n",
                            "| <!--/--> | Metadata_genotype &lt;chr&gt; | variance &lt;dbl&gt; | feature_group &lt;chr&gt; |\n",
                            "|---|---|---|---|\n",
                            "| 1 | High-Severity | 0.5167622 | AreaShape |\n",
                            "| 2 | High-Severity | 0.7339399 | AreaShape |\n",
                            "| 3 | High-Severity | 0.3648957 | AreaShape |\n",
                            "| 4 | High-Severity | 1.6339921 | AreaShape |\n",
                            "| 5 | High-Severity | 0.3141811 | AreaShape |\n",
                            "| 6 | High-Severity | 0.7941645 | AreaShape |\n",
                            "\n"
                        ],
                        "text/plain": [
                            "  Metadata_genotype variance  feature_group\n",
                            "1 High-Severity     0.5167622 AreaShape    \n",
                            "2 High-Severity     0.7339399 AreaShape    \n",
                            "3 High-Severity     0.3648957 AreaShape    \n",
                            "4 High-Severity     1.6339921 AreaShape    \n",
                            "5 High-Severity     0.3141811 AreaShape    \n",
                            "6 High-Severity     0.7941645 AreaShape    "
                        ]
                    },
                    "metadata": {},
                    "output_type": "display_data"
                },
                {
                    "data": {
                        "text/html": [
                            "<table class=\"dataframe\">\n",
                            "<caption>A data.frame: 6 × 7</caption>\n",
                            "<thead>\n",
                            "\t<tr><th></th><th scope=col>Metadata_genotype</th><th scope=col>feature_group</th><th scope=col>variance_mean</th><th scope=col>variance_std</th><th scope=col>variance_max</th><th scope=col>variance_min</th><th scope=col>variance_count</th></tr>\n",
                            "\t<tr><th></th><th scope=col>&lt;chr&gt;</th><th scope=col>&lt;chr&gt;</th><th scope=col>&lt;dbl&gt;</th><th scope=col>&lt;dbl&gt;</th><th scope=col>&lt;dbl&gt;</th><th scope=col>&lt;dbl&gt;</th><th scope=col>&lt;int&gt;</th></tr>\n",
                            "</thead>\n",
                            "<tbody>\n",
                            "\t<tr><th scope=row>1</th><td>High-Severity</td><td>AreaShape         </td><td>0.4487396</td><td>0.3840812</td><td>1.6339921</td><td>4.588858e-06</td><td>28</td></tr>\n",
                            "\t<tr><th scope=row>2</th><td>High-Severity</td><td>Granularity       </td><td>0.2781899</td><td>0.3579539</td><td>0.9811988</td><td>1.528730e-02</td><td> 6</td></tr>\n",
                            "\t<tr><th scope=row>3</th><td>High-Severity</td><td>Intensity         </td><td>0.5296292</td><td>0.2815652</td><td>1.1570140</td><td>1.290430e-01</td><td>15</td></tr>\n",
                            "\t<tr><th scope=row>4</th><td>High-Severity</td><td>Neighbors         </td><td>0.7302378</td><td>0.2378980</td><td>0.9534235</td><td>4.799491e-01</td><td> 3</td></tr>\n",
                            "\t<tr><th scope=row>5</th><td>High-Severity</td><td>RadialDistribution</td><td>0.7103045</td><td>0.1822159</td><td>1.0900223</td><td>4.928691e-01</td><td>12</td></tr>\n",
                            "\t<tr><th scope=row>6</th><td>Mid-Severity </td><td>AreaShape         </td><td>1.0057257</td><td>0.4108429</td><td>2.2208645</td><td>5.083263e-01</td><td>28</td></tr>\n",
                            "</tbody>\n",
                            "</table>\n"
                        ],
                        "text/latex": [
                            "A data.frame: 6 × 7\n",
                            "\\begin{tabular}{r|lllllll}\n",
                            "  & Metadata\\_genotype & feature\\_group & variance\\_mean & variance\\_std & variance\\_max & variance\\_min & variance\\_count\\\\\n",
                            "  & <chr> & <chr> & <dbl> & <dbl> & <dbl> & <dbl> & <int>\\\\\n",
                            "\\hline\n",
                            "\t1 & High-Severity & AreaShape          & 0.4487396 & 0.3840812 & 1.6339921 & 4.588858e-06 & 28\\\\\n",
                            "\t2 & High-Severity & Granularity        & 0.2781899 & 0.3579539 & 0.9811988 & 1.528730e-02 &  6\\\\\n",
                            "\t3 & High-Severity & Intensity          & 0.5296292 & 0.2815652 & 1.1570140 & 1.290430e-01 & 15\\\\\n",
                            "\t4 & High-Severity & Neighbors          & 0.7302378 & 0.2378980 & 0.9534235 & 4.799491e-01 &  3\\\\\n",
                            "\t5 & High-Severity & RadialDistribution & 0.7103045 & 0.1822159 & 1.0900223 & 4.928691e-01 & 12\\\\\n",
                            "\t6 & Mid-Severity  & AreaShape          & 1.0057257 & 0.4108429 & 2.2208645 & 5.083263e-01 & 28\\\\\n",
                            "\\end{tabular}\n"
                        ],
                        "text/markdown": [
                            "\n",
                            "A data.frame: 6 × 7\n",
                            "\n",
                            "| <!--/--> | Metadata_genotype &lt;chr&gt; | feature_group &lt;chr&gt; | variance_mean &lt;dbl&gt; | variance_std &lt;dbl&gt; | variance_max &lt;dbl&gt; | variance_min &lt;dbl&gt; | variance_count &lt;int&gt; |\n",
                            "|---|---|---|---|---|---|---|---|\n",
                            "| 1 | High-Severity | AreaShape          | 0.4487396 | 0.3840812 | 1.6339921 | 4.588858e-06 | 28 |\n",
                            "| 2 | High-Severity | Granularity        | 0.2781899 | 0.3579539 | 0.9811988 | 1.528730e-02 |  6 |\n",
                            "| 3 | High-Severity | Intensity          | 0.5296292 | 0.2815652 | 1.1570140 | 1.290430e-01 | 15 |\n",
                            "| 4 | High-Severity | Neighbors          | 0.7302378 | 0.2378980 | 0.9534235 | 4.799491e-01 |  3 |\n",
                            "| 5 | High-Severity | RadialDistribution | 0.7103045 | 0.1822159 | 1.0900223 | 4.928691e-01 | 12 |\n",
                            "| 6 | Mid-Severity  | AreaShape          | 1.0057257 | 0.4108429 | 2.2208645 | 5.083263e-01 | 28 |\n",
                            "\n"
                        ],
                        "text/plain": [
                            "  Metadata_genotype feature_group      variance_mean variance_std variance_max\n",
                            "1 High-Severity     AreaShape          0.4487396     0.3840812    1.6339921   \n",
                            "2 High-Severity     Granularity        0.2781899     0.3579539    0.9811988   \n",
                            "3 High-Severity     Intensity          0.5296292     0.2815652    1.1570140   \n",
                            "4 High-Severity     Neighbors          0.7302378     0.2378980    0.9534235   \n",
                            "5 High-Severity     RadialDistribution 0.7103045     0.1822159    1.0900223   \n",
                            "6 Mid-Severity      AreaShape          1.0057257     0.4108429    2.2208645   \n",
                            "  variance_min variance_count\n",
                            "1 4.588858e-06 28            \n",
                            "2 1.528730e-02  6            \n",
                            "3 1.290430e-01 15            \n",
                            "4 4.799491e-01  3            \n",
                            "5 4.928691e-01 12            \n",
                            "6 5.083263e-01 28            "
                        ]
                    },
                    "metadata": {},
                    "output_type": "display_data"
                }
            ],
            "source": [
                "# set path to read the data\n",
                "output_var_stats_path <- file.path(\"..\",\"..\",\"data\",\"6.analysis_results\",\"variance_results_feature_types_stats.csv\")\n",
                "output_var_path <- file.path(\"..\",\"..\",\"data\",\"6.analysis_results\",\"variance_results_feature_types.csv\")\n",
                "output_levene_path <- file.path(\"..\",\"..\",\"data\",\"6.analysis_results\",\"levene_test_results_feature_types.csv\")\n",
                "\n",
                "# read the data\n",
                "variance_stats_df <- read.csv(output_var_stats_path)\n",
                "variance_df <- read.csv(output_var_path)\n",
                "levene_df <- read.csv(output_levene_path)\n",
                "head(levene_df)\n",
                "head(variance_df)\n",
                "head(variance_stats_df)"
            ]
        },
        {
            "cell_type": "code",
            "execution_count": 17,
            "metadata": {
                "vscode": {
                    "languageId": "r"
                }
            },
            "outputs": [
                {
                    "data": {
                        "text/html": [
                            "<table class=\"dataframe\">\n",
                            "<caption>A data.frame: 6 × 5</caption>\n",
                            "<thead>\n",
                            "\t<tr><th></th><th scope=col>feature_group</th><th scope=col>levene_statistic</th><th scope=col>levene_p_value</th><th scope=col>group</th><th scope=col>significance</th></tr>\n",
                            "\t<tr><th></th><th scope=col>&lt;chr&gt;</th><th scope=col>&lt;dbl&gt;</th><th scope=col>&lt;dbl&gt;</th><th scope=col>&lt;chr&gt;</th><th scope=col>&lt;chr&gt;</th></tr>\n",
                            "</thead>\n",
                            "<tbody>\n",
                            "\t<tr><th scope=row>1</th><td>AreaShape</td><td> 40.552751</td><td>2.315178e-10</td><td>high_area_v_unsel_area          </td><td>***</td></tr>\n",
                            "\t<tr><th scope=row>2</th><td>AreaShape</td><td> 99.061181</td><td>6.899227e-23</td><td>high_area_v_wt_area             </td><td>***</td></tr>\n",
                            "\t<tr><th scope=row>3</th><td>AreaShape</td><td>  6.977668</td><td>8.295829e-03</td><td>unsel_area_v_wt_area            </td><td>** </td></tr>\n",
                            "\t<tr><th scope=row>4</th><td>Intensity</td><td> 39.619909</td><td>4.319952e-10</td><td>high_intensity_v_unsel_intensity</td><td>***</td></tr>\n",
                            "\t<tr><th scope=row>5</th><td>Intensity</td><td>  6.634521</td><td>1.011541e-02</td><td>high_intensity_v_wt_intensity   </td><td>*  </td></tr>\n",
                            "\t<tr><th scope=row>6</th><td>Intensity</td><td>123.711278</td><td>9.596941e-28</td><td>unsel_intensity_v_wt_intensity  </td><td>***</td></tr>\n",
                            "</tbody>\n",
                            "</table>\n"
                        ],
                        "text/latex": [
                            "A data.frame: 6 × 5\n",
                            "\\begin{tabular}{r|lllll}\n",
                            "  & feature\\_group & levene\\_statistic & levene\\_p\\_value & group & significance\\\\\n",
                            "  & <chr> & <dbl> & <dbl> & <chr> & <chr>\\\\\n",
                            "\\hline\n",
                            "\t1 & AreaShape &  40.552751 & 2.315178e-10 & high\\_area\\_v\\_unsel\\_area           & ***\\\\\n",
                            "\t2 & AreaShape &  99.061181 & 6.899227e-23 & high\\_area\\_v\\_wt\\_area              & ***\\\\\n",
                            "\t3 & AreaShape &   6.977668 & 8.295829e-03 & unsel\\_area\\_v\\_wt\\_area             & ** \\\\\n",
                            "\t4 & Intensity &  39.619909 & 4.319952e-10 & high\\_intensity\\_v\\_unsel\\_intensity & ***\\\\\n",
                            "\t5 & Intensity &   6.634521 & 1.011541e-02 & high\\_intensity\\_v\\_wt\\_intensity    & *  \\\\\n",
                            "\t6 & Intensity & 123.711278 & 9.596941e-28 & unsel\\_intensity\\_v\\_wt\\_intensity   & ***\\\\\n",
                            "\\end{tabular}\n"
                        ],
                        "text/markdown": [
                            "\n",
                            "A data.frame: 6 × 5\n",
                            "\n",
                            "| <!--/--> | feature_group &lt;chr&gt; | levene_statistic &lt;dbl&gt; | levene_p_value &lt;dbl&gt; | group &lt;chr&gt; | significance &lt;chr&gt; |\n",
                            "|---|---|---|---|---|---|\n",
                            "| 1 | AreaShape |  40.552751 | 2.315178e-10 | high_area_v_unsel_area           | *** |\n",
                            "| 2 | AreaShape |  99.061181 | 6.899227e-23 | high_area_v_wt_area              | *** |\n",
                            "| 3 | AreaShape |   6.977668 | 8.295829e-03 | unsel_area_v_wt_area             | **  |\n",
                            "| 4 | Intensity |  39.619909 | 4.319952e-10 | high_intensity_v_unsel_intensity | *** |\n",
                            "| 5 | Intensity |   6.634521 | 1.011541e-02 | high_intensity_v_wt_intensity    | *   |\n",
                            "| 6 | Intensity | 123.711278 | 9.596941e-28 | unsel_intensity_v_wt_intensity   | *** |\n",
                            "\n"
                        ],
                        "text/plain": [
                            "  feature_group levene_statistic levene_p_value\n",
                            "1 AreaShape      40.552751       2.315178e-10  \n",
                            "2 AreaShape      99.061181       6.899227e-23  \n",
                            "3 AreaShape       6.977668       8.295829e-03  \n",
                            "4 Intensity      39.619909       4.319952e-10  \n",
                            "5 Intensity       6.634521       1.011541e-02  \n",
                            "6 Intensity     123.711278       9.596941e-28  \n",
                            "  group                            significance\n",
                            "1 high_area_v_unsel_area           ***         \n",
                            "2 high_area_v_wt_area              ***         \n",
                            "3 unsel_area_v_wt_area             **          \n",
                            "4 high_intensity_v_unsel_intensity ***         \n",
                            "5 high_intensity_v_wt_intensity    *           \n",
                            "6 unsel_intensity_v_wt_intensity   ***         "
                        ]
                    },
                    "metadata": {},
                    "output_type": "display_data"
                }
            ],
            "source": [
                "# make a new column for ***\n",
                "levene_df$significance <- ifelse(\n",
                "    levene_df$levene_p_value < 0.001, \"***\", \n",
                "    ifelse(levene_df$levene_p_value < 0.01, \"**\", \n",
                "    ifelse(levene_df$levene_p_value < 0.05, \"*\", \n",
                "    \"ns\")\n",
                "    )\n",
                ")\n",
                "head(levene_df)"
            ]
        },
        {
            "cell_type": "code",
            "execution_count": 18,
            "metadata": {
                "vscode": {
                    "languageId": "r"
                }
            },
            "outputs": [],
            "source": [
                "# split the levene_df into dfs for each feature group\n",
                "levene_df_AreaShape <- levene_df %>% filter(feature_group == \"AreaShape\")\n",
                "levene_df_Intensity <- levene_df %>% filter(feature_group == \"Intensity\")\n",
                "levene_df_Granularity <- levene_df %>% filter(feature_group == \"Granularity\")\n",
                "levene_df_Neighbors <- levene_df %>% filter(feature_group == \"Neighbors\")\n",
                "levene_df_RadialDistribution <- levene_df %>% filter(feature_group == \"RadialDistribution\")\n",
                "\n",
                "# split the variance_df into dfs for each feature group\n",
                "variance_df_AreaShape <- variance_stats_df %>% filter(feature_group == \"AreaShape\")\n",
                "variance_df_Intensity <- variance_stats_df %>% filter(feature_group == \"Intensity\")\n",
                "variance_df_Granularity <- variance_stats_df %>% filter(feature_group == \"Granularity\")\n",
                "variance_df_Neighbors <- variance_stats_df %>% filter(feature_group == \"Neighbors\")\n",
                "variance_df_RadialDistribution <- variance_stats_df %>% filter(feature_group == \"RadialDistribution\")\n"
            ]
        },
        {
            "cell_type": "markdown",
            "metadata": {},
            "source": [
                "## Max variance plots"
            ]
        },
        {
            "cell_type": "code",
            "execution_count": 19,
            "metadata": {
                "vscode": {
                    "languageId": "r"
                }
            },
            "outputs": [
                {
                    "data": {
                        "text/html": [
                            "<table class=\"dataframe\">\n",
                            "<caption>A data.frame: 6 × 7</caption>\n",
                            "<thead>\n",
                            "\t<tr><th></th><th scope=col>Metadata_genotype</th><th scope=col>feature_group</th><th scope=col>variance_mean</th><th scope=col>variance_std</th><th scope=col>variance_max</th><th scope=col>variance_min</th><th scope=col>variance_count</th></tr>\n",
                            "\t<tr><th></th><th scope=col>&lt;chr&gt;</th><th scope=col>&lt;chr&gt;</th><th scope=col>&lt;dbl&gt;</th><th scope=col>&lt;dbl&gt;</th><th scope=col>&lt;dbl&gt;</th><th scope=col>&lt;dbl&gt;</th><th scope=col>&lt;int&gt;</th></tr>\n",
                            "</thead>\n",
                            "<tbody>\n",
                            "\t<tr><th scope=row>1</th><td>High-Severity</td><td>AreaShape         </td><td>0.4487396</td><td>0.3840812</td><td>1.6339921</td><td>4.588858e-06</td><td>28</td></tr>\n",
                            "\t<tr><th scope=row>2</th><td>High-Severity</td><td>Granularity       </td><td>0.2781899</td><td>0.3579539</td><td>0.9811988</td><td>1.528730e-02</td><td> 6</td></tr>\n",
                            "\t<tr><th scope=row>3</th><td>High-Severity</td><td>Intensity         </td><td>0.5296292</td><td>0.2815652</td><td>1.1570140</td><td>1.290430e-01</td><td>15</td></tr>\n",
                            "\t<tr><th scope=row>4</th><td>High-Severity</td><td>Neighbors         </td><td>0.7302378</td><td>0.2378980</td><td>0.9534235</td><td>4.799491e-01</td><td> 3</td></tr>\n",
                            "\t<tr><th scope=row>5</th><td>High-Severity</td><td>RadialDistribution</td><td>0.7103045</td><td>0.1822159</td><td>1.0900223</td><td>4.928691e-01</td><td>12</td></tr>\n",
                            "\t<tr><th scope=row>6</th><td>Mid-Severity </td><td>AreaShape         </td><td>1.0057257</td><td>0.4108429</td><td>2.2208645</td><td>5.083263e-01</td><td>28</td></tr>\n",
                            "</tbody>\n",
                            "</table>\n"
                        ],
                        "text/latex": [
                            "A data.frame: 6 × 7\n",
                            "\\begin{tabular}{r|lllllll}\n",
                            "  & Metadata\\_genotype & feature\\_group & variance\\_mean & variance\\_std & variance\\_max & variance\\_min & variance\\_count\\\\\n",
                            "  & <chr> & <chr> & <dbl> & <dbl> & <dbl> & <dbl> & <int>\\\\\n",
                            "\\hline\n",
                            "\t1 & High-Severity & AreaShape          & 0.4487396 & 0.3840812 & 1.6339921 & 4.588858e-06 & 28\\\\\n",
                            "\t2 & High-Severity & Granularity        & 0.2781899 & 0.3579539 & 0.9811988 & 1.528730e-02 &  6\\\\\n",
                            "\t3 & High-Severity & Intensity          & 0.5296292 & 0.2815652 & 1.1570140 & 1.290430e-01 & 15\\\\\n",
                            "\t4 & High-Severity & Neighbors          & 0.7302378 & 0.2378980 & 0.9534235 & 4.799491e-01 &  3\\\\\n",
                            "\t5 & High-Severity & RadialDistribution & 0.7103045 & 0.1822159 & 1.0900223 & 4.928691e-01 & 12\\\\\n",
                            "\t6 & Mid-Severity  & AreaShape          & 1.0057257 & 0.4108429 & 2.2208645 & 5.083263e-01 & 28\\\\\n",
                            "\\end{tabular}\n"
                        ],
                        "text/markdown": [
                            "\n",
                            "A data.frame: 6 × 7\n",
                            "\n",
                            "| <!--/--> | Metadata_genotype &lt;chr&gt; | feature_group &lt;chr&gt; | variance_mean &lt;dbl&gt; | variance_std &lt;dbl&gt; | variance_max &lt;dbl&gt; | variance_min &lt;dbl&gt; | variance_count &lt;int&gt; |\n",
                            "|---|---|---|---|---|---|---|---|\n",
                            "| 1 | High-Severity | AreaShape          | 0.4487396 | 0.3840812 | 1.6339921 | 4.588858e-06 | 28 |\n",
                            "| 2 | High-Severity | Granularity        | 0.2781899 | 0.3579539 | 0.9811988 | 1.528730e-02 |  6 |\n",
                            "| 3 | High-Severity | Intensity          | 0.5296292 | 0.2815652 | 1.1570140 | 1.290430e-01 | 15 |\n",
                            "| 4 | High-Severity | Neighbors          | 0.7302378 | 0.2378980 | 0.9534235 | 4.799491e-01 |  3 |\n",
                            "| 5 | High-Severity | RadialDistribution | 0.7103045 | 0.1822159 | 1.0900223 | 4.928691e-01 | 12 |\n",
                            "| 6 | Mid-Severity  | AreaShape          | 1.0057257 | 0.4108429 | 2.2208645 | 5.083263e-01 | 28 |\n",
                            "\n"
                        ],
                        "text/plain": [
                            "  Metadata_genotype feature_group      variance_mean variance_std variance_max\n",
                            "1 High-Severity     AreaShape          0.4487396     0.3840812    1.6339921   \n",
                            "2 High-Severity     Granularity        0.2781899     0.3579539    0.9811988   \n",
                            "3 High-Severity     Intensity          0.5296292     0.2815652    1.1570140   \n",
                            "4 High-Severity     Neighbors          0.7302378     0.2378980    0.9534235   \n",
                            "5 High-Severity     RadialDistribution 0.7103045     0.1822159    1.0900223   \n",
                            "6 Mid-Severity      AreaShape          1.0057257     0.4108429    2.2208645   \n",
                            "  variance_min variance_count\n",
                            "1 4.588858e-06 28            \n",
                            "2 1.528730e-02  6            \n",
                            "3 1.290430e-01 15            \n",
                            "4 4.799491e-01  3            \n",
                            "5 4.928691e-01 12            \n",
                            "6 5.083263e-01 28            "
                        ]
                    },
                    "metadata": {},
                    "output_type": "display_data"
                }
            ],
            "source": [
                "head(variance_stats_df)"
            ]
        },
        {
            "cell_type": "code",
            "execution_count": 20,
            "metadata": {
                "vscode": {
                    "languageId": "r"
                }
            },
            "outputs": [
                {
                    "data": {
                        "image/png": "[encoded data removed]",
                        "text/plain": [
                            "plot without title"
                        ]
                    },
                    "metadata": {
                        "image/png": {
                            "height": 300,
                            "width": 480
                        }
                    },
                    "output_type": "display_data"
                }
            ],
            "source": [
                "width <- 8\n",
                "height <- 5\n",
                "options(repr.plot.width=width, repr.plot.height=height)\n",
                "\n",
                "coef_gg <- (\n",
                "        ggplot(variance_stats_df, aes(x = Metadata_genotype, y = feature_group))\n",
                "        + geom_point(aes(fill = abs(variance_max)), pch = 22, size = 16)\n",
                "        # + facet_wrap(\"~compartment\", ncol = 3)\n",
                "        + theme_bw()\n",
                "        + scale_fill_continuous(\n",
                "            name=\"Top variance \\nper genotype and side\",\n",
                "            low = \"purple\",\n",
                "            high = \"green\",\n",
                "        )\n",
                "        + xlab(\"Genotype\")\n",
                "        + ylab(\"Feature\")\n",
                "        \n",
                "        + figure_theme\n",
                "        + theme(\n",
                "            axis.text.x = element_text(angle = 45, hjust = 1, size = 14),\n",
                "        )\n",
                "        # rotate x axis labels\n",
                "        + theme(axis.text.x = element_text(angle = 45, hjust = 1))\n",
                "        + theme(plot.title = element_text(hjust = 0.5))\n",
                "        # + ggplot2::coord_fixed()\n",
                "        )\n",
                "coef_gg\n",
                "# save the plot\n",
                "ggsave(file=\"top_variance_per_genotype_and_side.png\", plot=coef_gg, path= file.path(\"..\",\"figures\"), dpi=600, width=width, height=height, units=\"in\", limitsize = FALSE)"
            ]
        },
        {
            "cell_type": "markdown",
            "metadata": {},
            "source": [
                "## Variance plots with levene's test"
            ]
        },
        {
            "cell_type": "markdown",
            "metadata": {},
            "source": [
                "### AreaShape mean variance plot"
            ]
        },
        {
            "cell_type": "code",
            "execution_count": 40,
            "metadata": {
                "vscode": {
                    "languageId": "r"
                }
            },
            "outputs": [
                {
                    "data": {
                        "image/png": "[encoded data removed]",
                        "text/plain": [
                            "plot without title"
                        ]
                    },
                    "metadata": {
                        "image/png": {
                            "height": 300,
                            "width": 480
                        }
                    },
                    "output_type": "display_data"
                }
            ],
            "source": [
                "WT_vs_high_significance <- levene_df_AreaShape %>% filter(group == \"high_area_v_wt_area\")\n",
                "WT_vs_unsel_significance <- levene_df_AreaShape %>% filter(group == \"unsel_area_v_wt_area\")\n",
                "unsel_vs_high_significance <- levene_df_AreaShape %>% filter(group == \"high_area_v_unsel_area\")\n",
                "WT_vs_high_significance <- WT_vs_high_significance$significance\n",
                "WT_vs_unsel_significance <- WT_vs_unsel_significance$significance\n",
                "unsel_vs_high_significance <- unsel_vs_high_significance$significance\n",
                "\n",
                "areashape_plot <- (\n",
                "        ggplot(variance_df_AreaShape, aes(x = Metadata_genotype, y = variance_mean)) \n",
                "        + geom_bar(stat = \"identity\")\n",
                "        # add std deviation bars\n",
                "        + geom_errorbar(\n",
                "            aes(ymin = variance_mean - variance_std, ymax = variance_mean + variance_std),\n",
                "            width = 0.2\n",
                "        )\n",
                "        + labs(x = \"Genotype\", y = \"Variance\", fill = \"Genotype\")\n",
                "        + theme_bw()\n",
                "        # + figure_theme\n",
                "        # add significance bars\n",
                "        + geom_signif(\n",
                "            comparisons = list(c(\"High-Severity\",\"Mid-Severity\")), \n",
                "            annotations = unsel_vs_high_significance,\n",
                "            textsize = 7,\n",
                "            y_position = c(2, 3)        ) \n",
                "        + geom_signif(\n",
                "            comparisons = list(c(\"Wild Type\",\"Mid-Severity\")), \n",
                "            annotations = WT_vs_unsel_significance, \n",
                "            textsize = 7,\n",
                "            y_position = c(2, 3)        )\n",
                "        + geom_signif(\n",
                "            comparisons = list(c(\"High-Severity\",\"Wild Type\")), \n",
                "            annotations = WT_vs_high_significance,\n",
                "            textsize = 7,\n",
                "            vjust = 0.1,\n",
                "            y_position = c(1.5, 2)\n",
                "\n",
                "        )\n",
                "        # remove the legend\n",
                "        + theme(legend.position = \"none\")\n",
                "        + ylim(0, 2.5)\n",
                "    )\n",
                "areashape_plot"
            ]
        },
        {
            "cell_type": "markdown",
            "metadata": {},
            "source": [
                "### AreaShape boxplot"
            ]
        },
        {
            "cell_type": "code",
            "execution_count": 41,
            "metadata": {
                "vscode": {
                    "languageId": "r"
                }
            },
            "outputs": [
                {
                    "data": {
                        "image/png": "[encoded data removed]",
                        "text/plain": [
                            "plot without title"
                        ]
                    },
                    "metadata": {
                        "image/png": {
                            "height": 300,
                            "width": 480
                        }
                    },
                    "output_type": "display_data"
                }
            ],
            "source": [
                "areashape_var <- variance_df %>% filter(feature_group == \"AreaShape\")\n",
                "WT_vs_high_significance <- levene_df_AreaShape %>% filter(group == \"high_area_v_wt_area\")\n",
                "WT_vs_unsel_significance <- levene_df_AreaShape %>% filter(group == \"unsel_area_v_wt_area\")\n",
                "unsel_vs_high_significance <- levene_df_AreaShape %>% filter(group == \"high_area_v_unsel_area\")\n",
                "WT_vs_high_significance <- WT_vs_high_significance$significance\n",
                "WT_vs_unsel_significance <- WT_vs_unsel_significance$significance\n",
                "unsel_vs_high_significance <- unsel_vs_high_significance$significance\n",
                "width <- 8\n",
                "height <- 5\n",
                "options(repr.plot.width=width, repr.plot.height=height)\n",
                "areashape_plot <- (\n",
                "        ggplot(areashape_var, aes(x = Metadata_genotype, y = variance)) \n",
                "        + geom_boxplot(aes(fill = Metadata_genotype))\n",
                "        + labs(x = \"Genotype\", y = \"Variance\", fill = \"Genotype\")\n",
                "        # remove the x axis label\n",
                "        + theme(\n",
                "            axis.title.x=element_blank(), \n",
                "            axis.ticks.x = element_blank(),\n",
                "            axis.text.x = element_blank()\n",
                "        )\n",
                "        + theme_bw()\n",
                "        + figure_theme\n",
                "        # add significance bars\n",
                "        + geom_signif(\n",
                "            comparisons = list(c(\"High-Severity\",\"Mid-Severity\")), \n",
                "            annotations = unsel_vs_high_significance,\n",
                "            textsize = 7,\n",
                "            y_position = c(2.5, 3)       ) \n",
                "        + geom_signif(\n",
                "            comparisons = list(c(\"Wild Type\",\"Mid-Severity\")), \n",
                "            annotations = WT_vs_unsel_significance, \n",
                "            textsize = 7,\n",
                "            y_position = c(2.5, 3)        )\n",
                "        + geom_signif(\n",
                "            comparisons = list(c(\"High-Severity\",\"Wild Type\")), \n",
                "            annotations = WT_vs_high_significance,\n",
                "            textsize = 7,\n",
                "            vjust = 0.1,\n",
                "            y_position = c(1.8, 2)\n",
                "\n",
                "        )\n",
                "        # # remove the legend\n",
                "        + theme(legend.position = \"none\")\n",
                "        + ylim(0, 3)\n",
                "    )\n",
                "areashape_plot\n",
                "ggsave(file=\"variance_across_genotype_AreaShape.png\", plot=areashape_plot, path= file.path(\"..\",\"figures\"), dpi=600, width=width, height=height, units=\"in\", limitsize = FALSE)"
            ]
        },
        {
            "cell_type": "markdown",
            "metadata": {},
            "source": [
                "## From here downward are supplementary plots"
            ]
        },
        {
            "cell_type": "markdown",
            "metadata": {},
            "source": [
                "### Intensity mean variance plot"
            ]
        },
        {
            "cell_type": "code",
            "execution_count": null,
            "metadata": {
                "vscode": {
                    "languageId": "r"
                }
            },
            "outputs": [],
            "source": [
                "WT_vs_high_significance <- levene_df_Intensity %>% filter(group == \"high_intensity_v_wt_intensity\")\n",
                "WT_vs_unsel_significance <- levene_df_Intensity %>% filter(group == \"unsel_intensity_v_wt_intensity\")\n",
                "unsel_vs_high_significance <- levene_df_Intensity %>% filter(group == \"high_intensity_v_unsel_intensity\")\n",
                "WT_vs_high_significance <- WT_vs_high_significance$significance\n",
                "WT_vs_unsel_significance <- WT_vs_unsel_significance$significance\n",
                "unsel_vs_high_significance <- unsel_vs_high_significance$significance\n",
                "Intensity_plot <- (\n",
                "        ggplot(variance_df_Intensity, aes(x = Metadata_genotype, y = variance_mean)) \n",
                "        + geom_bar(stat = \"identity\")\n",
                "        + geom_errorbar(\n",
                "            aes(ymin = variance_mean - variance_std, ymax = variance_mean + variance_std),\n",
                "            width = 0.2\n",
                "        )\n",
                "        + labs(x = \"Genotype\", y = \"Variance\", fill = \"Genotype\")\n",
                "        + theme_bw()\n",
                "        + figure_theme\n",
                "        # add significance bars\n",
                "        + geom_signif(\n",
                "            comparisons = list(c(\"High-Severity\",\"Mid-Severity\")), \n",
                "            annotations = unsel_vs_high_significance,\n",
                "            textsize = 7,\n",
                "            y_position = c(2, 2.5),\n",
                "        ) \n",
                "        + geom_signif(\n",
                "            comparisons = list(c(\"Wild Type\",\"Mid-Severity\")), \n",
                "            annotations = WT_vs_unsel_significance, \n",
                "            textsize = 7,\n",
                "            y_position = c(2, 2.5),\n",
                "        )\n",
                "        + geom_signif(\n",
                "            comparisons = list(c(\"High-Severity\",\"Wild Type\")), \n",
                "            annotations = WT_vs_high_significance,\n",
                "            textsize = 7,\n",
                "            vjust = 0.1,\n",
                "            y_position = c(2, 2.5),\n",
                "\n",
                "        )\n",
                "        # remove the legend\n",
                "        + theme(legend.position = \"none\")\n",
                "        + ylim(0, 3)\n",
                "    )\n",
                "Intensity_plot"
            ]
        },
        {
            "cell_type": "markdown",
            "metadata": {},
            "source": [
                "## Granularity mean variance plot"
            ]
        },
        {
            "cell_type": "code",
            "execution_count": null,
            "metadata": {
                "vscode": {
                    "languageId": "r"
                }
            },
            "outputs": [],
            "source": [
                "WT_vs_high_significance <- levene_df_Granularity%>% filter(group == \"high_granularity_v_wt_granularity\")\n",
                "WT_vs_unsel_significance <- levene_df_Granularity %>% filter(group == \"unsel_granularity_v_wt_granularity\")\n",
                "unsel_vs_high_significance <- levene_df_Granularity %>% filter(group == \"high_granularity_v_unsel_granularity\")\n",
                "WT_vs_high_significance <- WT_vs_high_significance$significance\n",
                "WT_vs_unsel_significance <- WT_vs_unsel_significance$significance\n",
                "unsel_vs_high_significance <- unsel_vs_high_significance$significance\n",
                "Granularity_plot <- (\n",
                "        ggplot(variance_df_Granularity, aes(x = Metadata_genotype, y = variance_mean)) \n",
                "        + geom_bar(stat = \"identity\")\n",
                "        + geom_errorbar(\n",
                "            aes(ymin = variance_mean - variance_std, ymax = variance_mean + variance_std),\n",
                "            width = 0.2\n",
                "        )\n",
                "        + labs(x = \"Genotype\", y = \"Variance\", fill = \"Genotype\")\n",
                "        + theme_bw()\n",
                "        + figure_theme\n",
                "        # add significance bars\n",
                "        + geom_signif(\n",
                "            comparisons = list(c(\"High-Severity\",\"Mid-Severity\")), \n",
                "            annotations = unsel_vs_high_significance,\n",
                "            textsize = 7,\n",
                "            y_position = c(8, 9)\n",
                "        ) \n",
                "        + geom_signif(\n",
                "            comparisons = list(c(\"Wild Type\",\"Mid-Severity\")), \n",
                "            annotations = WT_vs_unsel_significance, \n",
                "            textsize = 7,\n",
                "            y_position = c(8, 9),\n",
                "        )\n",
                "        + geom_signif(\n",
                "            comparisons = list(c(\"High-Severity\",\"Wild Type\")), \n",
                "            annotations = WT_vs_high_significance,\n",
                "            textsize = 7,\n",
                "            vjust = 0.1,\n",
                "            y_position = c(9, 9.5),\n",
                "\n",
                "        )\n",
                "        # remove the legend\n",
                "        + theme(legend.position = \"none\")\n",
                "        + ylim(0, 10)\n",
                "    )\n",
                "Granularity_plot"
            ]
        },
        {
            "cell_type": "markdown",
            "metadata": {},
            "source": [
                "## Neighbors mean variance plot"
            ]
        },
        {
            "cell_type": "code",
            "execution_count": null,
            "metadata": {
                "vscode": {
                    "languageId": "r"
                }
            },
            "outputs": [],
            "source": [
                "WT_vs_high_significance <- levene_df_Neighbors%>% filter(group == \"high_neighbors_v_wt_neighbors\")\n",
                "WT_vs_unsel_significance <- levene_df_Neighbors %>% filter(group == \"unsel_neighbors_v_wt_neighbors\")\n",
                "unsel_vs_high_significance <- levene_df_Neighbors%>% filter(group == \"high_neighbors_v_unsel_neighbors\")\n",
                "WT_vs_high_significance <- WT_vs_high_significance$significance\n",
                "WT_vs_unsel_significance <- WT_vs_unsel_significance$significance\n",
                "unsel_vs_high_significance <- unsel_vs_high_significance$significance\n",
                "neighbors_plot <- (\n",
                "        ggplot(variance_df_Neighbors, aes(x = Metadata_genotype, y = variance_mean)) \n",
                "        + geom_bar(stat = \"identity\")\n",
                "        + geom_errorbar(\n",
                "            aes(ymin = variance_mean - variance_std, ymax = variance_mean + variance_std),\n",
                "            width = 0.2\n",
                "        )\n",
                "        + labs(x = \"Genotype\", y = \"Variance\", fill = \"Genotype\")\n",
                "        + theme_bw()\n",
                "        + figure_theme\n",
                "        # add significance bars\n",
                "        + geom_signif(\n",
                "            comparisons = list(c(\"High-Severity\",\"Mid-Severity\")), \n",
                "            annotations = unsel_vs_high_significance,\n",
                "            textsize = 7,\n",
                "            y_position = c(8, 9)\n",
                "        ) \n",
                "        + geom_signif(\n",
                "            comparisons = list(c(\"Wild Type\",\"Mid-Severity\")), \n",
                "            annotations = WT_vs_unsel_significance, \n",
                "            textsize = 7,\n",
                "            y_position = c(8, 9),\n",
                "        )\n",
                "        + geom_signif(\n",
                "            comparisons = list(c(\"High-Severity\",\"Wild Type\")), \n",
                "            annotations = WT_vs_high_significance,\n",
                "            textsize = 7,\n",
                "            vjust = 0.1,\n",
                "            y_position = c(9, 9.5),\n",
                "\n",
                "        )\n",
                "        # remove the legend\n",
                "        + theme(legend.position = \"none\")\n",
                "        # + ylim(0, 10)\n",
                "    )\n",
                "neighbors_plot"
            ]
        },
        {
            "cell_type": "markdown",
            "metadata": {},
            "source": [
                "## RadialDistribution mean variance plot"
            ]
        },
        {
            "cell_type": "code",
            "execution_count": null,
            "metadata": {
                "vscode": {
                    "languageId": "r"
                }
            },
            "outputs": [],
            "source": [
                "WT_vs_high_significance <- levene_df_RadialDistribution %>% filter(group == \"high_radial_v_wt_radial\")\n",
                "WT_vs_unsel_significance <- levene_df_RadialDistribution %>% filter(group == \"unsel_radial_v_wt_radial\")\n",
                "unsel_vs_high_significance <- levene_df_RadialDistribution %>% filter(group == \"high_radial_v_unsel_radial\")\n",
                "WT_vs_high_significance <- WT_vs_high_significance$significance\n",
                "WT_vs_unsel_significance <- WT_vs_unsel_significance$significance\n",
                "unsel_vs_high_significance <- unsel_vs_high_significance$significance\n",
                "RadialDistribution_plot <- (\n",
                "        ggplot(variance_df_RadialDistribution, aes(x = Metadata_genotype, y = variance_mean)) \n",
                "        + geom_bar(stat = \"identity\")\n",
                "        + geom_errorbar(\n",
                "            aes(ymin = variance_mean - variance_std, ymax = variance_mean + variance_std),\n",
                "            width = 0.2\n",
                "        )\n",
                "        + labs(x = \"Genotype\", y = \"Variance\", fill = \"Genotype\")\n",
                "        + theme_bw()\n",
                "        + figure_theme\n",
                "        # add significance bars\n",
                "        + geom_signif(\n",
                "            comparisons = list(c(\"High-Severity\",\"Mid-Severity\")), \n",
                "            annotations = unsel_vs_high_significance,\n",
                "            textsize = 7,\n",
                "            y_position = c(8, 9)\n",
                "        ) \n",
                "        + geom_signif(\n",
                "            comparisons = list(c(\"Wild Type\",\"Mid-Severity\")), \n",
                "            annotations = WT_vs_unsel_significance, \n",
                "            textsize = 7,\n",
                "            y_position = c(8, 9),\n",
                "        )\n",
                "        + geom_signif(\n",
                "            comparisons = list(c(\"High-Severity\",\"Wild Type\")), \n",
                "            annotations = WT_vs_high_significance,\n",
                "            textsize = 7,\n",
                "            vjust = 0.1,\n",
                "            y_position = c(9, 9.5),\n",
                "\n",
                "        )\n",
                "        # remove the legend\n",
                "        + theme(legend.position = \"none\")\n",
                "        + ylim(0, 10)\n",
                "    )\n",
                "RadialDistribution_plot"
            ]
        }
    ],
    "metadata": {
        "kernelspec": {
            "display_name": "R",
            "language": "R",
            "name": "ir"
        },
        "language_info": {
            "codemirror_mode": "r",
            "file_extension": ".r",
            "mimetype": "text/x-r-source",
            "name": "R",
            "pygments_lexer": "r",
            "version": "4.2.2"
        }
    },
    "nbformat": 4,
    "nbformat_minor": 2
}
