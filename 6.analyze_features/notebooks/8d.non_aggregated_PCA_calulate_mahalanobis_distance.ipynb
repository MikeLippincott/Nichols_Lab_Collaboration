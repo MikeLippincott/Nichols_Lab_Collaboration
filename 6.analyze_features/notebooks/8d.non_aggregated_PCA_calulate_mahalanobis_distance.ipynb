{
 "cells": [
  {
   "cell_type": "markdown",
   "id": "86b4fcf9",
   "metadata": {
    "papermill": {
     "duration": 0.002279,
     "end_time": "2024-05-07T17:58:21.139877",
     "exception": false,
     "start_time": "2024-05-07T17:58:21.137598",
     "status": "completed"
    },
    "tags": []
   },
   "source": [
    "This notebooke calculates the mahalnobis distance between points on a pca. \n",
    "I will document more about what mahalnobis distance is and how it is calculated in this notebook."
   ]
  },
  {
   "cell_type": "code",
   "execution_count": 1,
   "id": "c3b87838",
   "metadata": {
    "execution": {
     "iopub.execute_input": "2024-05-07T17:58:21.142962Z",
     "iopub.status.busy": "2024-05-07T17:58:21.142806Z",
     "iopub.status.idle": "2024-05-07T17:58:21.356416Z",
     "shell.execute_reply": "2024-05-07T17:58:21.356072Z"
    },
    "papermill": {
     "duration": 0.216604,
     "end_time": "2024-05-07T17:58:21.357646",
     "exception": false,
     "start_time": "2024-05-07T17:58:21.141042",
     "status": "completed"
    },
    "tags": []
   },
   "outputs": [],
   "source": [
    "import itertools\n",
    "import pathlib\n",
    "\n",
    "import numpy as np\n",
    "import pandas as pd\n",
    "from scipy.spatial.distance import mahalanobis"
   ]
  },
  {
   "cell_type": "code",
   "execution_count": 2,
   "id": "26a51e11",
   "metadata": {
    "execution": {
     "iopub.execute_input": "2024-05-07T17:58:21.362337Z",
     "iopub.status.busy": "2024-05-07T17:58:21.361865Z",
     "iopub.status.idle": "2024-05-07T17:58:21.392202Z",
     "shell.execute_reply": "2024-05-07T17:58:21.391821Z"
    },
    "papermill": {
     "duration": 0.033737,
     "end_time": "2024-05-07T17:58:21.393110",
     "exception": false,
     "start_time": "2024-05-07T17:58:21.359373",
     "status": "completed"
    },
    "tags": []
   },
   "outputs": [
    {
     "name": "stdout",
     "output_type": "stream",
     "text": [
      "(136, 160)\n"
     ]
    },
    {
     "data": {
      "text/html": [
       "<div>\n",
       "<style scoped>\n",
       "    .dataframe tbody tr th:only-of-type {\n",
       "        vertical-align: middle;\n",
       "    }\n",
       "\n",
       "    .dataframe tbody tr th {\n",
       "        vertical-align: top;\n",
       "    }\n",
       "\n",
       "    .dataframe thead th {\n",
       "        text-align: right;\n",
       "    }\n",
       "</style>\n",
       "<table border=\"1\" class=\"dataframe\">\n",
       "  <thead>\n",
       "    <tr style=\"text-align: right;\">\n",
       "      <th></th>\n",
       "      <th>Metadata_Image_FileName_OP</th>\n",
       "      <th>Metadata_ObjectNumber</th>\n",
       "      <th>Metadata_Object_ConvertImageToObjects_Number_Object_Number</th>\n",
       "      <th>Metadata_Object_ConvertImageToObjects_AreaShape_BoundingBoxArea</th>\n",
       "      <th>Metadata_Object_ConvertImageToObjects_AreaShape_BoundingBoxMaximum_X</th>\n",
       "      <th>Metadata_Object_ConvertImageToObjects_AreaShape_BoundingBoxMaximum_Y</th>\n",
       "      <th>Metadata_Object_ConvertImageToObjects_AreaShape_BoundingBoxMinimum_X</th>\n",
       "      <th>Metadata_Object_ConvertImageToObjects_AreaShape_BoundingBoxMinimum_Y</th>\n",
       "      <th>Metadata_Object_ConvertImageToObjects_Location_CenterMassIntensity_X_OP</th>\n",
       "      <th>Metadata_Object_ConvertImageToObjects_Location_CenterMassIntensity_Y_OP</th>\n",
       "      <th>...</th>\n",
       "      <th>PC127</th>\n",
       "      <th>PC128</th>\n",
       "      <th>PC129</th>\n",
       "      <th>PC130</th>\n",
       "      <th>PC131</th>\n",
       "      <th>PC132</th>\n",
       "      <th>PC133</th>\n",
       "      <th>PC134</th>\n",
       "      <th>PC135</th>\n",
       "      <th>PC136</th>\n",
       "    </tr>\n",
       "  </thead>\n",
       "  <tbody>\n",
       "    <tr>\n",
       "      <th>0</th>\n",
       "      <td>MAX_high_10_L.tiff</td>\n",
       "      <td>1</td>\n",
       "      <td>1</td>\n",
       "      <td>38250.0</td>\n",
       "      <td>269.0</td>\n",
       "      <td>182.0</td>\n",
       "      <td>44.0</td>\n",
       "      <td>12.0</td>\n",
       "      <td>131.546149</td>\n",
       "      <td>118.641091</td>\n",
       "      <td>...</td>\n",
       "      <td>0.117652</td>\n",
       "      <td>0.155063</td>\n",
       "      <td>0.035791</td>\n",
       "      <td>0.033521</td>\n",
       "      <td>0.009332</td>\n",
       "      <td>-0.014751</td>\n",
       "      <td>-0.012989</td>\n",
       "      <td>-0.064516</td>\n",
       "      <td>-0.006585</td>\n",
       "      <td>3.395151e-15</td>\n",
       "    </tr>\n",
       "    <tr>\n",
       "      <th>1</th>\n",
       "      <td>MAX_high_10_R.tiff</td>\n",
       "      <td>1</td>\n",
       "      <td>1</td>\n",
       "      <td>34170.0</td>\n",
       "      <td>208.0</td>\n",
       "      <td>245.0</td>\n",
       "      <td>38.0</td>\n",
       "      <td>44.0</td>\n",
       "      <td>106.962058</td>\n",
       "      <td>162.304190</td>\n",
       "      <td>...</td>\n",
       "      <td>-0.050774</td>\n",
       "      <td>-0.000231</td>\n",
       "      <td>-0.011883</td>\n",
       "      <td>-0.068140</td>\n",
       "      <td>0.053823</td>\n",
       "      <td>-0.025862</td>\n",
       "      <td>0.086305</td>\n",
       "      <td>0.075979</td>\n",
       "      <td>0.025904</td>\n",
       "      <td>9.477900e-15</td>\n",
       "    </tr>\n",
       "    <tr>\n",
       "      <th>2</th>\n",
       "      <td>MAX_high_11_L.tiff</td>\n",
       "      <td>1</td>\n",
       "      <td>1</td>\n",
       "      <td>41736.0</td>\n",
       "      <td>250.0</td>\n",
       "      <td>267.0</td>\n",
       "      <td>62.0</td>\n",
       "      <td>45.0</td>\n",
       "      <td>131.359827</td>\n",
       "      <td>159.444463</td>\n",
       "      <td>...</td>\n",
       "      <td>-0.015403</td>\n",
       "      <td>-0.002474</td>\n",
       "      <td>0.006404</td>\n",
       "      <td>-0.021172</td>\n",
       "      <td>0.037838</td>\n",
       "      <td>-0.011928</td>\n",
       "      <td>0.017286</td>\n",
       "      <td>-0.011387</td>\n",
       "      <td>0.025546</td>\n",
       "      <td>7.501035e-15</td>\n",
       "    </tr>\n",
       "    <tr>\n",
       "      <th>3</th>\n",
       "      <td>MAX_high_11_R.tiff</td>\n",
       "      <td>1</td>\n",
       "      <td>1</td>\n",
       "      <td>43616.0</td>\n",
       "      <td>212.0</td>\n",
       "      <td>272.0</td>\n",
       "      <td>24.0</td>\n",
       "      <td>40.0</td>\n",
       "      <td>101.069901</td>\n",
       "      <td>185.486430</td>\n",
       "      <td>...</td>\n",
       "      <td>0.092336</td>\n",
       "      <td>0.086684</td>\n",
       "      <td>0.055472</td>\n",
       "      <td>-0.042396</td>\n",
       "      <td>0.002888</td>\n",
       "      <td>-0.003778</td>\n",
       "      <td>-0.007987</td>\n",
       "      <td>0.028941</td>\n",
       "      <td>-0.024608</td>\n",
       "      <td>1.659239e-15</td>\n",
       "    </tr>\n",
       "    <tr>\n",
       "      <th>4</th>\n",
       "      <td>MAX_high_12_L.tiff</td>\n",
       "      <td>2</td>\n",
       "      <td>2</td>\n",
       "      <td>25894.0</td>\n",
       "      <td>283.0</td>\n",
       "      <td>155.0</td>\n",
       "      <td>69.0</td>\n",
       "      <td>34.0</td>\n",
       "      <td>164.579054</td>\n",
       "      <td>105.266522</td>\n",
       "      <td>...</td>\n",
       "      <td>-0.066545</td>\n",
       "      <td>-0.144671</td>\n",
       "      <td>-0.036247</td>\n",
       "      <td>0.084931</td>\n",
       "      <td>-0.027356</td>\n",
       "      <td>0.073964</td>\n",
       "      <td>0.025668</td>\n",
       "      <td>-0.018569</td>\n",
       "      <td>-0.011480</td>\n",
       "      <td>-2.480993e-16</td>\n",
       "    </tr>\n",
       "  </tbody>\n",
       "</table>\n",
       "<p>5 rows × 160 columns</p>\n",
       "</div>"
      ],
      "text/plain": [
       "  Metadata_Image_FileName_OP  Metadata_ObjectNumber  \\\n",
       "0         MAX_high_10_L.tiff                      1   \n",
       "1         MAX_high_10_R.tiff                      1   \n",
       "2         MAX_high_11_L.tiff                      1   \n",
       "3         MAX_high_11_R.tiff                      1   \n",
       "4         MAX_high_12_L.tiff                      2   \n",
       "\n",
       "   Metadata_Object_ConvertImageToObjects_Number_Object_Number  \\\n",
       "0                                                  1            \n",
       "1                                                  1            \n",
       "2                                                  1            \n",
       "3                                                  1            \n",
       "4                                                  2            \n",
       "\n",
       "   Metadata_Object_ConvertImageToObjects_AreaShape_BoundingBoxArea  \\\n",
       "0                                            38250.0                 \n",
       "1                                            34170.0                 \n",
       "2                                            41736.0                 \n",
       "3                                            43616.0                 \n",
       "4                                            25894.0                 \n",
       "\n",
       "   Metadata_Object_ConvertImageToObjects_AreaShape_BoundingBoxMaximum_X  \\\n",
       "0                                              269.0                      \n",
       "1                                              208.0                      \n",
       "2                                              250.0                      \n",
       "3                                              212.0                      \n",
       "4                                              283.0                      \n",
       "\n",
       "   Metadata_Object_ConvertImageToObjects_AreaShape_BoundingBoxMaximum_Y  \\\n",
       "0                                              182.0                      \n",
       "1                                              245.0                      \n",
       "2                                              267.0                      \n",
       "3                                              272.0                      \n",
       "4                                              155.0                      \n",
       "\n",
       "   Metadata_Object_ConvertImageToObjects_AreaShape_BoundingBoxMinimum_X  \\\n",
       "0                                               44.0                      \n",
       "1                                               38.0                      \n",
       "2                                               62.0                      \n",
       "3                                               24.0                      \n",
       "4                                               69.0                      \n",
       "\n",
       "   Metadata_Object_ConvertImageToObjects_AreaShape_BoundingBoxMinimum_Y  \\\n",
       "0                                               12.0                      \n",
       "1                                               44.0                      \n",
       "2                                               45.0                      \n",
       "3                                               40.0                      \n",
       "4                                               34.0                      \n",
       "\n",
       "   Metadata_Object_ConvertImageToObjects_Location_CenterMassIntensity_X_OP  \\\n",
       "0                                         131.546149                         \n",
       "1                                         106.962058                         \n",
       "2                                         131.359827                         \n",
       "3                                         101.069901                         \n",
       "4                                         164.579054                         \n",
       "\n",
       "   Metadata_Object_ConvertImageToObjects_Location_CenterMassIntensity_Y_OP  \\\n",
       "0                                         118.641091                         \n",
       "1                                         162.304190                         \n",
       "2                                         159.444463                         \n",
       "3                                         185.486430                         \n",
       "4                                         105.266522                         \n",
       "\n",
       "   ...     PC127     PC128     PC129     PC130     PC131     PC132     PC133  \\\n",
       "0  ...  0.117652  0.155063  0.035791  0.033521  0.009332 -0.014751 -0.012989   \n",
       "1  ... -0.050774 -0.000231 -0.011883 -0.068140  0.053823 -0.025862  0.086305   \n",
       "2  ... -0.015403 -0.002474  0.006404 -0.021172  0.037838 -0.011928  0.017286   \n",
       "3  ...  0.092336  0.086684  0.055472 -0.042396  0.002888 -0.003778 -0.007987   \n",
       "4  ... -0.066545 -0.144671 -0.036247  0.084931 -0.027356  0.073964  0.025668   \n",
       "\n",
       "      PC134     PC135         PC136  \n",
       "0 -0.064516 -0.006585  3.395151e-15  \n",
       "1  0.075979  0.025904  9.477900e-15  \n",
       "2 -0.011387  0.025546  7.501035e-15  \n",
       "3  0.028941 -0.024608  1.659239e-15  \n",
       "4 -0.018569 -0.011480 -2.480993e-16  \n",
       "\n",
       "[5 rows x 160 columns]"
      ]
     },
     "execution_count": 2,
     "metadata": {},
     "output_type": "execute_result"
    }
   ],
   "source": [
    "# set the path to the data\n",
    "non_aggregated_data_pca_path = pathlib.Path(\n",
    "    \"../../data/6.analysis_results/non_aggregated_pca.parquet\"\n",
    ").resolve(strict=True)\n",
    "\n",
    "# read the data\n",
    "non_aggregated_data_pca = pd.read_parquet(non_aggregated_data_pca_path)\n",
    "print(non_aggregated_data_pca.shape)\n",
    "non_aggregated_data_pca.head()"
   ]
  },
  {
   "cell_type": "markdown",
   "id": "923624ac",
   "metadata": {
    "papermill": {
     "duration": 0.001366,
     "end_time": "2024-05-07T17:58:21.395941",
     "exception": false,
     "start_time": "2024-05-07T17:58:21.394575",
     "status": "completed"
    },
    "tags": []
   },
   "source": [
    "# Mahalanobis Distance\n",
    "For more in depth information on Mahalanobis distance, please refer to this [link](https://medium.com/@the_daft_introvert/mahalanobis-distance-5c11a757b099).\n",
    "Mahalanobis distance is a measure of the distance between a point P and a distribution D. \n",
    "It is a multi-dimensional generalization of the idea of measuring how many standard deviations away P is from the mean of D. \n",
    "This distance is zero if P is at the mean of D, and grows as P moves away from the mean along each principal component axis.\n",
    "The formula for Mahalanobis distance is given by:\n",
    "### $D^2 = (x - \\mu)^T \\Sigma^{-1} (x - \\mu)$\n",
    "where:\n",
    "- $D$ is the Mahalanobis distance"
   ]
  },
  {
   "cell_type": "markdown",
   "id": "b578536c",
   "metadata": {
    "papermill": {
     "duration": 0.001203,
     "end_time": "2024-05-07T17:58:21.398398",
     "exception": false,
     "start_time": "2024-05-07T17:58:21.397195",
     "status": "completed"
    },
    "tags": []
   },
   "source": [
    "## Caluclating Mahalanobis Distance on PCA components 1 and 2\n",
    "Here I calculate the Mahalanobis distance between the points on the first two principal components of the data for each of the three genotypes."
   ]
  },
  {
   "cell_type": "code",
   "execution_count": 3,
   "id": "a8864ce8",
   "metadata": {
    "execution": {
     "iopub.execute_input": "2024-05-07T17:58:21.401752Z",
     "iopub.status.busy": "2024-05-07T17:58:21.401341Z",
     "iopub.status.idle": "2024-05-07T17:58:21.405161Z",
     "shell.execute_reply": "2024-05-07T17:58:21.404879Z"
    },
    "papermill": {
     "duration": 0.0063,
     "end_time": "2024-05-07T17:58:21.405914",
     "exception": false,
     "start_time": "2024-05-07T17:58:21.399614",
     "status": "completed"
    },
    "tags": []
   },
   "outputs": [
    {
     "name": "stdout",
     "output_type": "stream",
     "text": [
      "28 52 56\n"
     ]
    }
   ],
   "source": [
    "# split the genotypes\n",
    "high_severity = non_aggregated_data_pca[\n",
    "    non_aggregated_data_pca[\"Metadata_genotype\"] == \"High-Severity\"\n",
    "]\n",
    "low_severity = non_aggregated_data_pca[\n",
    "    non_aggregated_data_pca[\"Metadata_genotype\"] == \"Mid-Severity\"\n",
    "]\n",
    "wt = non_aggregated_data_pca[\n",
    "    non_aggregated_data_pca[\"Metadata_genotype\"] == \"Wild Type\"\n",
    "]\n",
    "print(len(high_severity), len(low_severity), len(wt))"
   ]
  },
  {
   "cell_type": "code",
   "execution_count": 4,
   "id": "4a9b3ab0",
   "metadata": {
    "execution": {
     "iopub.execute_input": "2024-05-07T17:58:21.409027Z",
     "iopub.status.busy": "2024-05-07T17:58:21.408785Z",
     "iopub.status.idle": "2024-05-07T17:58:21.412417Z",
     "shell.execute_reply": "2024-05-07T17:58:21.412144Z"
    },
    "papermill": {
     "duration": 0.005905,
     "end_time": "2024-05-07T17:58:21.413087",
     "exception": false,
     "start_time": "2024-05-07T17:58:21.407182",
     "status": "completed"
    },
    "tags": []
   },
   "outputs": [
    {
     "name": "stdout",
     "output_type": "stream",
     "text": [
      "(28, 136) (52, 136) (56, 136)\n"
     ]
    }
   ],
   "source": [
    "# drop the the Metadata columns\n",
    "metadata_cols = [col for col in non_aggregated_data_pca.columns if \"Metadata\" in col]\n",
    "high_severity = high_severity.drop(columns=metadata_cols)\n",
    "low_severity = low_severity.drop(columns=metadata_cols)\n",
    "wt = wt.drop(columns=metadata_cols)\n",
    "# convert the df to coordinates\n",
    "high_severity_coords = high_severity.to_numpy()\n",
    "low_severity_coords = low_severity.to_numpy()\n",
    "wt_coords = wt.to_numpy()\n",
    "print(high_severity_coords.shape, low_severity_coords.shape, wt_coords.shape)"
   ]
  },
  {
   "cell_type": "markdown",
   "id": "b7b77e09",
   "metadata": {
    "papermill": {
     "duration": 0.001329,
     "end_time": "2024-05-07T17:58:21.415762",
     "exception": false,
     "start_time": "2024-05-07T17:58:21.414433",
     "status": "completed"
    },
    "tags": []
   },
   "source": [
    "#### High-Severity"
   ]
  },
  {
   "cell_type": "code",
   "execution_count": 5,
   "id": "6e9790a9",
   "metadata": {
    "execution": {
     "iopub.execute_input": "2024-05-07T17:58:21.419117Z",
     "iopub.status.busy": "2024-05-07T17:58:21.418805Z",
     "iopub.status.idle": "2024-05-07T17:58:21.442596Z",
     "shell.execute_reply": "2024-05-07T17:58:21.442211Z"
    },
    "papermill": {
     "duration": 0.026514,
     "end_time": "2024-05-07T17:58:21.443604",
     "exception": false,
     "start_time": "2024-05-07T17:58:21.417090",
     "status": "completed"
    },
    "tags": []
   },
   "outputs": [
    {
     "name": "stdout",
     "output_type": "stream",
     "text": [
      "The mean mahalanobis distance for the High-Severity genotype is 13.031462562016376\n"
     ]
    },
    {
     "name": "stderr",
     "output_type": "stream",
     "text": [
      "/home/lippincm/miniconda3/envs/op_cell_processing_env/lib/python3.8/site-packages/scipy/spatial/distance.py:1064: RuntimeWarning: invalid value encountered in sqrt\n",
      "  return np.sqrt(m)\n"
     ]
    }
   ],
   "source": [
    "# define the mean and the inverse covariance matrix needed for the mahalanobis distance calculation\n",
    "cov_matrix = np.cov(high_severity_coords, rowvar=False)\n",
    "inv_cov_matrix = np.linalg.inv(cov_matrix)  # Use pseudo-inverse instead of inverse\n",
    "# calculate the mahalanobis distance for each point within each genotype\n",
    "high_severity_mahalanobis_distances = []\n",
    "# calculate the mahalanobis distance for each point combination\n",
    "for point in itertools.combinations(high_severity_coords, 2):\n",
    "    distance = mahalanobis(point[0], point[1], inv_cov_matrix)\n",
    "    if np.isnan(distance):  # Check for NaN values\n",
    "        continue\n",
    "    high_severity_mahalanobis_distances.append(distance)\n",
    "mean_high_severity_mahalanobis_distance = np.mean(high_severity_mahalanobis_distances)\n",
    "print(\n",
    "    f\"The mean mahalanobis distance for the High-Severity genotype is {mean_high_severity_mahalanobis_distance}\"\n",
    ")"
   ]
  },
  {
   "cell_type": "markdown",
   "id": "f42b0eb5",
   "metadata": {
    "papermill": {
     "duration": 0.002373,
     "end_time": "2024-05-07T17:58:21.448452",
     "exception": false,
     "start_time": "2024-05-07T17:58:21.446079",
     "status": "completed"
    },
    "tags": []
   },
   "source": [
    "#### Low-Severity"
   ]
  },
  {
   "cell_type": "code",
   "execution_count": 6,
   "id": "cdba6690",
   "metadata": {
    "execution": {
     "iopub.execute_input": "2024-05-07T17:58:21.454425Z",
     "iopub.status.busy": "2024-05-07T17:58:21.453976Z",
     "iopub.status.idle": "2024-05-07T17:58:21.489697Z",
     "shell.execute_reply": "2024-05-07T17:58:21.489320Z"
    },
    "papermill": {
     "duration": 0.039786,
     "end_time": "2024-05-07T17:58:21.490825",
     "exception": false,
     "start_time": "2024-05-07T17:58:21.451039",
     "status": "completed"
    },
    "tags": []
   },
   "outputs": [
    {
     "name": "stdout",
     "output_type": "stream",
     "text": [
      "The mean mahalanobis distance for the low-Severity genotype is 20.82320956626853\n"
     ]
    }
   ],
   "source": [
    "# define the mean and the inverse covariance matrix needed for the mahalanobis distance calculation\n",
    "cov_matrix = np.cov(low_severity_coords, rowvar=False)\n",
    "inv_cov_matrix = np.linalg.inv(cov_matrix)  # Use pseudo-inverse instead of inverse\n",
    "# calculate the mahalanobis distance for each point within each genotype\n",
    "low_severity_mahalanobis_distances = []\n",
    "# calculate the mahalanobis distance for each point\n",
    "for point in itertools.combinations(low_severity_coords, 2):\n",
    "    distance = mahalanobis(point[0], point[1], inv_cov_matrix)\n",
    "    if np.isnan(distance):  # Check for NaN values\n",
    "        continue\n",
    "    low_severity_mahalanobis_distances.append(distance)\n",
    "mean_low_severity_mahalanobis_distance = np.mean(low_severity_mahalanobis_distances)\n",
    "print(\n",
    "    f\"The mean mahalanobis distance for the low-Severity genotype is {mean_low_severity_mahalanobis_distance}\"\n",
    ")"
   ]
  },
  {
   "cell_type": "markdown",
   "id": "beb70c77",
   "metadata": {
    "papermill": {
     "duration": 0.002459,
     "end_time": "2024-05-07T17:58:21.496146",
     "exception": false,
     "start_time": "2024-05-07T17:58:21.493687",
     "status": "completed"
    },
    "tags": []
   },
   "source": [
    "#### Wild Type"
   ]
  },
  {
   "cell_type": "code",
   "execution_count": 7,
   "id": "ed8bb79f",
   "metadata": {
    "execution": {
     "iopub.execute_input": "2024-05-07T17:58:21.502150Z",
     "iopub.status.busy": "2024-05-07T17:58:21.501688Z",
     "iopub.status.idle": "2024-05-07T17:58:21.541642Z",
     "shell.execute_reply": "2024-05-07T17:58:21.541225Z"
    },
    "papermill": {
     "duration": 0.044115,
     "end_time": "2024-05-07T17:58:21.542782",
     "exception": false,
     "start_time": "2024-05-07T17:58:21.498667",
     "status": "completed"
    },
    "tags": []
   },
   "outputs": [
    {
     "name": "stdout",
     "output_type": "stream",
     "text": [
      "The mean mahalanobis distance for the Wild Type genotype is 11.534309928661042\n"
     ]
    }
   ],
   "source": [
    "# define the mean and the inverse covariance matrix needed for the mahalanobis distance calculation\n",
    "cov_matrix = np.cov(wt_coords, rowvar=False)\n",
    "inv_cov_matrix = np.linalg.inv(cov_matrix)  # Use pseudo-inverse instead of inverse\n",
    "# calculate the mahalanobis distance for each point within each genotype\n",
    "wt_mahalanobis_distances = []\n",
    "# calculate the mahalanobis distance for each point\n",
    "for point in itertools.combinations(wt_coords, 2):\n",
    "    distance = mahalanobis(point[0], point[1], inv_cov_matrix)\n",
    "    if np.isnan(distance):  # Check for NaN values\n",
    "        continue\n",
    "    wt_mahalanobis_distances.append(distance)\n",
    "mean_wt_mahalanobis_distance = np.mean(wt_mahalanobis_distances)\n",
    "print(\n",
    "    f\"The mean mahalanobis distance for the Wild Type genotype is {mean_wt_mahalanobis_distance}\"\n",
    ")"
   ]
  }
 ],
 "metadata": {
  "kernelspec": {
   "display_name": "op_cell_processing_env",
   "language": "python",
   "name": "python3"
  },
  "language_info": {
   "codemirror_mode": {
    "name": "ipython",
    "version": 3
   },
   "file_extension": ".py",
   "mimetype": "text/x-python",
   "name": "python",
   "nbconvert_exporter": "python",
   "pygments_lexer": "ipython3",
   "version": "3.8.15"
  },
  "papermill": {
   "default_parameters": {},
   "duration": 1.327156,
   "end_time": "2024-05-07T17:58:21.760504",
   "environment_variables": {},
   "exception": null,
   "input_path": "8d.non_aggregated_PCA_calulate_mahalanobis_distance.ipynb",
   "output_path": "8d.non_aggregated_PCA_calulate_mahalanobis_distance.ipynb",
   "parameters": {},
   "start_time": "2024-05-07T17:58:20.433348",
   "version": "2.6.0"
  }
 },
 "nbformat": 4,
 "nbformat_minor": 5
}