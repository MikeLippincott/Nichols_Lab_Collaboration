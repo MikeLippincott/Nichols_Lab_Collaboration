{
 "cells": [
  {
   "cell_type": "markdown",
   "id": "d617520a",
   "metadata": {
    "papermill": {
     "duration": 0.002535,
     "end_time": "2024-05-07T17:58:17.822264",
     "exception": false,
     "start_time": "2024-05-07T17:58:17.819729",
     "status": "completed"
    },
    "tags": []
   },
   "source": [
    "This notebooke calculates the mahalnobis distance between points on a pca. \n",
    "I will document more about what mahalnobis distance is and how it is calculated in this notebook."
   ]
  },
  {
   "cell_type": "code",
   "execution_count": 1,
   "id": "18e6ff30",
   "metadata": {
    "execution": {
     "iopub.execute_input": "2024-05-07T17:58:17.826324Z",
     "iopub.status.busy": "2024-05-07T17:58:17.825880Z",
     "iopub.status.idle": "2024-05-07T17:58:18.066478Z",
     "shell.execute_reply": "2024-05-07T17:58:18.066126Z"
    },
    "papermill": {
     "duration": 0.244651,
     "end_time": "2024-05-07T17:58:18.068224",
     "exception": false,
     "start_time": "2024-05-07T17:58:17.823573",
     "status": "completed"
    },
    "tags": []
   },
   "outputs": [],
   "source": [
    "import itertools\n",
    "import pathlib\n",
    "\n",
    "import numpy as np\n",
    "import pandas as pd\n",
    "from scipy.spatial.distance import mahalanobis"
   ]
  },
  {
   "cell_type": "code",
   "execution_count": 2,
   "id": "8c5db849",
   "metadata": {
    "execution": {
     "iopub.execute_input": "2024-05-07T17:58:18.074367Z",
     "iopub.status.busy": "2024-05-07T17:58:18.074173Z",
     "iopub.status.idle": "2024-05-07T17:58:18.098301Z",
     "shell.execute_reply": "2024-05-07T17:58:18.097971Z"
    },
    "papermill": {
     "duration": 0.028765,
     "end_time": "2024-05-07T17:58:18.099587",
     "exception": false,
     "start_time": "2024-05-07T17:58:18.070822",
     "status": "completed"
    },
    "tags": []
   },
   "outputs": [
    {
     "name": "stdout",
     "output_type": "stream",
     "text": [
      "(42, 44)\n"
     ]
    },
    {
     "data": {
      "text/html": [
       "<div>\n",
       "<style scoped>\n",
       "    .dataframe tbody tr th:only-of-type {\n",
       "        vertical-align: middle;\n",
       "    }\n",
       "\n",
       "    .dataframe tbody tr th {\n",
       "        vertical-align: top;\n",
       "    }\n",
       "\n",
       "    .dataframe thead th {\n",
       "        text-align: right;\n",
       "    }\n",
       "</style>\n",
       "<table border=\"1\" class=\"dataframe\">\n",
       "  <thead>\n",
       "    <tr style=\"text-align: right;\">\n",
       "      <th></th>\n",
       "      <th>Metadata_genotype</th>\n",
       "      <th>Metadata_replicate</th>\n",
       "      <th>PC1</th>\n",
       "      <th>PC2</th>\n",
       "      <th>PC3</th>\n",
       "      <th>PC4</th>\n",
       "      <th>PC5</th>\n",
       "      <th>PC6</th>\n",
       "      <th>PC7</th>\n",
       "      <th>PC8</th>\n",
       "      <th>...</th>\n",
       "      <th>PC33</th>\n",
       "      <th>PC34</th>\n",
       "      <th>PC35</th>\n",
       "      <th>PC36</th>\n",
       "      <th>PC37</th>\n",
       "      <th>PC38</th>\n",
       "      <th>PC39</th>\n",
       "      <th>PC40</th>\n",
       "      <th>PC41</th>\n",
       "      <th>PC42</th>\n",
       "    </tr>\n",
       "  </thead>\n",
       "  <tbody>\n",
       "    <tr>\n",
       "      <th>0</th>\n",
       "      <td>High-Severity</td>\n",
       "      <td>1</td>\n",
       "      <td>-2.612687</td>\n",
       "      <td>2.480900</td>\n",
       "      <td>1.038433</td>\n",
       "      <td>-2.124206</td>\n",
       "      <td>1.848401</td>\n",
       "      <td>-0.138879</td>\n",
       "      <td>0.610879</td>\n",
       "      <td>-1.240955</td>\n",
       "      <td>...</td>\n",
       "      <td>1.737607</td>\n",
       "      <td>0.665385</td>\n",
       "      <td>-1.508575</td>\n",
       "      <td>-0.002393</td>\n",
       "      <td>-1.269638</td>\n",
       "      <td>0.005696</td>\n",
       "      <td>0.640564</td>\n",
       "      <td>0.873191</td>\n",
       "      <td>-0.304305</td>\n",
       "      <td>-9.020562e-16</td>\n",
       "    </tr>\n",
       "    <tr>\n",
       "      <th>1</th>\n",
       "      <td>High-Severity</td>\n",
       "      <td>10</td>\n",
       "      <td>1.744949</td>\n",
       "      <td>8.499953</td>\n",
       "      <td>2.922399</td>\n",
       "      <td>-1.102377</td>\n",
       "      <td>-0.962470</td>\n",
       "      <td>1.636088</td>\n",
       "      <td>1.463812</td>\n",
       "      <td>2.400998</td>\n",
       "      <td>...</td>\n",
       "      <td>-0.030647</td>\n",
       "      <td>0.118004</td>\n",
       "      <td>-1.435196</td>\n",
       "      <td>2.127940</td>\n",
       "      <td>-0.683266</td>\n",
       "      <td>-0.594841</td>\n",
       "      <td>-0.847429</td>\n",
       "      <td>-0.543167</td>\n",
       "      <td>0.226587</td>\n",
       "      <td>-6.106227e-16</td>\n",
       "    </tr>\n",
       "    <tr>\n",
       "      <th>2</th>\n",
       "      <td>High-Severity</td>\n",
       "      <td>11</td>\n",
       "      <td>1.118178</td>\n",
       "      <td>10.555786</td>\n",
       "      <td>1.918724</td>\n",
       "      <td>-1.821125</td>\n",
       "      <td>1.678552</td>\n",
       "      <td>-0.607047</td>\n",
       "      <td>-1.070299</td>\n",
       "      <td>-0.952239</td>\n",
       "      <td>...</td>\n",
       "      <td>0.164507</td>\n",
       "      <td>1.273944</td>\n",
       "      <td>0.585109</td>\n",
       "      <td>0.301258</td>\n",
       "      <td>-0.100187</td>\n",
       "      <td>0.409482</td>\n",
       "      <td>0.292690</td>\n",
       "      <td>-0.419133</td>\n",
       "      <td>0.090811</td>\n",
       "      <td>-1.665335e-16</td>\n",
       "    </tr>\n",
       "    <tr>\n",
       "      <th>3</th>\n",
       "      <td>High-Severity</td>\n",
       "      <td>12</td>\n",
       "      <td>-0.267551</td>\n",
       "      <td>7.238575</td>\n",
       "      <td>3.193898</td>\n",
       "      <td>-0.921462</td>\n",
       "      <td>-1.421467</td>\n",
       "      <td>3.201197</td>\n",
       "      <td>0.876403</td>\n",
       "      <td>1.133883</td>\n",
       "      <td>...</td>\n",
       "      <td>-0.788146</td>\n",
       "      <td>0.724145</td>\n",
       "      <td>-0.588942</td>\n",
       "      <td>0.030300</td>\n",
       "      <td>0.712927</td>\n",
       "      <td>0.415672</td>\n",
       "      <td>2.116853</td>\n",
       "      <td>-0.583968</td>\n",
       "      <td>0.414338</td>\n",
       "      <td>-6.661338e-16</td>\n",
       "    </tr>\n",
       "    <tr>\n",
       "      <th>4</th>\n",
       "      <td>High-Severity</td>\n",
       "      <td>13</td>\n",
       "      <td>-0.810176</td>\n",
       "      <td>6.274105</td>\n",
       "      <td>4.030843</td>\n",
       "      <td>0.668752</td>\n",
       "      <td>-0.999091</td>\n",
       "      <td>3.636388</td>\n",
       "      <td>0.282499</td>\n",
       "      <td>-2.773985</td>\n",
       "      <td>...</td>\n",
       "      <td>-1.040199</td>\n",
       "      <td>-1.076102</td>\n",
       "      <td>-0.000303</td>\n",
       "      <td>-0.058833</td>\n",
       "      <td>-0.736013</td>\n",
       "      <td>0.174054</td>\n",
       "      <td>-0.917179</td>\n",
       "      <td>1.114349</td>\n",
       "      <td>0.339969</td>\n",
       "      <td>3.400058e-16</td>\n",
       "    </tr>\n",
       "  </tbody>\n",
       "</table>\n",
       "<p>5 rows × 44 columns</p>\n",
       "</div>"
      ],
      "text/plain": [
       "  Metadata_genotype Metadata_replicate       PC1        PC2       PC3  \\\n",
       "0     High-Severity                  1 -2.612687   2.480900  1.038433   \n",
       "1     High-Severity                 10  1.744949   8.499953  2.922399   \n",
       "2     High-Severity                 11  1.118178  10.555786  1.918724   \n",
       "3     High-Severity                 12 -0.267551   7.238575  3.193898   \n",
       "4     High-Severity                 13 -0.810176   6.274105  4.030843   \n",
       "\n",
       "        PC4       PC5       PC6       PC7       PC8  ...      PC33      PC34  \\\n",
       "0 -2.124206  1.848401 -0.138879  0.610879 -1.240955  ...  1.737607  0.665385   \n",
       "1 -1.102377 -0.962470  1.636088  1.463812  2.400998  ... -0.030647  0.118004   \n",
       "2 -1.821125  1.678552 -0.607047 -1.070299 -0.952239  ...  0.164507  1.273944   \n",
       "3 -0.921462 -1.421467  3.201197  0.876403  1.133883  ... -0.788146  0.724145   \n",
       "4  0.668752 -0.999091  3.636388  0.282499 -2.773985  ... -1.040199 -1.076102   \n",
       "\n",
       "       PC35      PC36      PC37      PC38      PC39      PC40      PC41  \\\n",
       "0 -1.508575 -0.002393 -1.269638  0.005696  0.640564  0.873191 -0.304305   \n",
       "1 -1.435196  2.127940 -0.683266 -0.594841 -0.847429 -0.543167  0.226587   \n",
       "2  0.585109  0.301258 -0.100187  0.409482  0.292690 -0.419133  0.090811   \n",
       "3 -0.588942  0.030300  0.712927  0.415672  2.116853 -0.583968  0.414338   \n",
       "4 -0.000303 -0.058833 -0.736013  0.174054 -0.917179  1.114349  0.339969   \n",
       "\n",
       "           PC42  \n",
       "0 -9.020562e-16  \n",
       "1 -6.106227e-16  \n",
       "2 -1.665335e-16  \n",
       "3 -6.661338e-16  \n",
       "4  3.400058e-16  \n",
       "\n",
       "[5 rows x 44 columns]"
      ]
     },
     "execution_count": 2,
     "metadata": {},
     "output_type": "execute_result"
    }
   ],
   "source": [
    "# set the path to the data\n",
    "sum_aggregated_data_pca_path = pathlib.Path(\n",
    "    \"../../data/6.analysis_results/sum_aggregated_pca.parquet\"\n",
    ").resolve(strict=True)\n",
    "\n",
    "# read the data\n",
    "sum_aggregated_data_pca = pd.read_parquet(sum_aggregated_data_pca_path)\n",
    "print(sum_aggregated_data_pca.shape)\n",
    "sum_aggregated_data_pca.head()"
   ]
  },
  {
   "cell_type": "markdown",
   "id": "65a31142",
   "metadata": {
    "papermill": {
     "duration": 0.001606,
     "end_time": "2024-05-07T17:58:18.103481",
     "exception": false,
     "start_time": "2024-05-07T17:58:18.101875",
     "status": "completed"
    },
    "tags": []
   },
   "source": [
    "# Mahalanobis Distance\n",
    "For more in depth information on Mahalanobis distance, please refer to this [link](https://medium.com/@the_daft_introvert/mahalanobis-distance-5c11a757b099).\n",
    "Mahalanobis distance is a measure of the distance between a point P and a distribution D. \n",
    "It is a multi-dimensional generalization of the idea of measuring how many standard deviations away P is from the mean of D. \n",
    "This distance is zero if P is at the mean of D, and grows as P moves away from the mean along each principal component axis.\n",
    "The formula for Mahalanobis distance is given by:\n",
    "### $D^2 = (x - \\mu)^T \\Sigma^{-1} (x - \\mu)$\n",
    "where:\n",
    "- $D$ is the Mahalanobis distance"
   ]
  },
  {
   "cell_type": "markdown",
   "id": "cc50c7b0",
   "metadata": {
    "papermill": {
     "duration": 0.001475,
     "end_time": "2024-05-07T17:58:18.106473",
     "exception": false,
     "start_time": "2024-05-07T17:58:18.104998",
     "status": "completed"
    },
    "tags": []
   },
   "source": [
    "## Caluclating Mahalanobis Distance on PCA components 1 and 2\n",
    "Here I calculate the Mahalanobis distance between the points on the first two principal components of the data for each of the three genotypes."
   ]
  },
  {
   "cell_type": "code",
   "execution_count": 3,
   "id": "a0332339",
   "metadata": {
    "execution": {
     "iopub.execute_input": "2024-05-07T17:58:18.110914Z",
     "iopub.status.busy": "2024-05-07T17:58:18.110767Z",
     "iopub.status.idle": "2024-05-07T17:58:18.114359Z",
     "shell.execute_reply": "2024-05-07T17:58:18.114087Z"
    },
    "papermill": {
     "duration": 0.006951,
     "end_time": "2024-05-07T17:58:18.115238",
     "exception": false,
     "start_time": "2024-05-07T17:58:18.108287",
     "status": "completed"
    },
    "tags": []
   },
   "outputs": [
    {
     "name": "stdout",
     "output_type": "stream",
     "text": [
      "14 14 14\n"
     ]
    }
   ],
   "source": [
    "# split the genotypes\n",
    "high_severity = sum_aggregated_data_pca[\n",
    "    sum_aggregated_data_pca[\"Metadata_genotype\"] == \"High-Severity\"\n",
    "]\n",
    "low_severity = sum_aggregated_data_pca[\n",
    "    sum_aggregated_data_pca[\"Metadata_genotype\"] == \"Mid-Severity\"\n",
    "]\n",
    "wt = sum_aggregated_data_pca[\n",
    "    sum_aggregated_data_pca[\"Metadata_genotype\"] == \"Wild Type\"\n",
    "]\n",
    "print(len(high_severity), len(low_severity), len(wt))"
   ]
  },
  {
   "cell_type": "code",
   "execution_count": 4,
   "id": "1e26db28",
   "metadata": {
    "execution": {
     "iopub.execute_input": "2024-05-07T17:58:18.119028Z",
     "iopub.status.busy": "2024-05-07T17:58:18.118891Z",
     "iopub.status.idle": "2024-05-07T17:58:18.122290Z",
     "shell.execute_reply": "2024-05-07T17:58:18.122049Z"
    },
    "papermill": {
     "duration": 0.006605,
     "end_time": "2024-05-07T17:58:18.123357",
     "exception": false,
     "start_time": "2024-05-07T17:58:18.116752",
     "status": "completed"
    },
    "tags": []
   },
   "outputs": [
    {
     "name": "stdout",
     "output_type": "stream",
     "text": [
      "(14, 42) (14, 42) (14, 42)\n"
     ]
    }
   ],
   "source": [
    "# drop the the Metadata columns\n",
    "high_severity = high_severity.drop(columns=[\"Metadata_genotype\", \"Metadata_replicate\"])\n",
    "low_severity = low_severity.drop(columns=[\"Metadata_genotype\", \"Metadata_replicate\"])\n",
    "wt = wt.drop(columns=[\"Metadata_genotype\", \"Metadata_replicate\"])\n",
    "# convert the df to coordinates\n",
    "high_severity_coords = high_severity.to_numpy()\n",
    "low_severity_coords = low_severity.to_numpy()\n",
    "wt_coords = wt.to_numpy()\n",
    "print(high_severity_coords.shape, low_severity_coords.shape, wt_coords.shape)"
   ]
  },
  {
   "cell_type": "markdown",
   "id": "39499b3b",
   "metadata": {
    "papermill": {
     "duration": 0.002078,
     "end_time": "2024-05-07T17:58:18.127563",
     "exception": false,
     "start_time": "2024-05-07T17:58:18.125485",
     "status": "completed"
    },
    "tags": []
   },
   "source": [
    "#### High-Severity"
   ]
  },
  {
   "cell_type": "code",
   "execution_count": 5,
   "id": "67922cdc",
   "metadata": {
    "execution": {
     "iopub.execute_input": "2024-05-07T17:58:18.132318Z",
     "iopub.status.busy": "2024-05-07T17:58:18.131953Z",
     "iopub.status.idle": "2024-05-07T17:58:18.136610Z",
     "shell.execute_reply": "2024-05-07T17:58:18.136283Z"
    },
    "papermill": {
     "duration": 0.00795,
     "end_time": "2024-05-07T17:58:18.137629",
     "exception": false,
     "start_time": "2024-05-07T17:58:18.129679",
     "status": "completed"
    },
    "tags": []
   },
   "outputs": [
    {
     "name": "stdout",
     "output_type": "stream",
     "text": [
      "The mean mahalanobis distance for the High-Severity genotype is 7.874466036404469\n"
     ]
    },
    {
     "name": "stderr",
     "output_type": "stream",
     "text": [
      "/home/lippincm/miniconda3/envs/op_cell_processing_env/lib/python3.8/site-packages/scipy/spatial/distance.py:1064: RuntimeWarning: invalid value encountered in sqrt\n",
      "  return np.sqrt(m)\n"
     ]
    }
   ],
   "source": [
    "# define the mean and the inverse covariance matrix needed for the mahalanobis distance calculation\n",
    "cov_matrix = np.cov(high_severity_coords, rowvar=False)\n",
    "inv_cov_matrix = np.linalg.inv(cov_matrix)  # Use pseudo-inverse instead of inverse\n",
    "# calculate the mahalanobis distance for each point within each genotype\n",
    "high_severity_mahalanobis_distances = []\n",
    "# calculate the mahalanobis distance for each point combination\n",
    "for point in itertools.combinations(high_severity_coords, 2):\n",
    "    distance = mahalanobis(point[0], point[1], inv_cov_matrix)\n",
    "    if np.isnan(distance):  # Check for NaN values\n",
    "        continue\n",
    "    high_severity_mahalanobis_distances.append(distance)\n",
    "mean_high_severity_mahalanobis_distance = np.mean(high_severity_mahalanobis_distances)\n",
    "print(\n",
    "    f\"The mean mahalanobis distance for the High-Severity genotype is {mean_high_severity_mahalanobis_distance}\"\n",
    ")"
   ]
  },
  {
   "cell_type": "markdown",
   "id": "00a62ed4",
   "metadata": {
    "papermill": {
     "duration": 0.002173,
     "end_time": "2024-05-07T17:58:18.142025",
     "exception": false,
     "start_time": "2024-05-07T17:58:18.139852",
     "status": "completed"
    },
    "tags": []
   },
   "source": [
    "#### Low-Severity"
   ]
  },
  {
   "cell_type": "code",
   "execution_count": 6,
   "id": "6f3c81c3",
   "metadata": {
    "execution": {
     "iopub.execute_input": "2024-05-07T17:58:18.147363Z",
     "iopub.status.busy": "2024-05-07T17:58:18.146955Z",
     "iopub.status.idle": "2024-05-07T17:58:18.152591Z",
     "shell.execute_reply": "2024-05-07T17:58:18.152153Z"
    },
    "papermill": {
     "duration": 0.00934,
     "end_time": "2024-05-07T17:58:18.153591",
     "exception": false,
     "start_time": "2024-05-07T17:58:18.144251",
     "status": "completed"
    },
    "tags": []
   },
   "outputs": [
    {
     "name": "stdout",
     "output_type": "stream",
     "text": [
      "The mean mahalanobis distance for the low-Severity genotype is 6.549257169182537\n"
     ]
    }
   ],
   "source": [
    "# define the mean and the inverse covariance matrix needed for the mahalanobis distance calculation\n",
    "cov_matrix = np.cov(low_severity_coords, rowvar=False)\n",
    "inv_cov_matrix = np.linalg.inv(cov_matrix)  # Use pseudo-inverse instead of inverse\n",
    "# calculate the mahalanobis distance for each point within each genotype\n",
    "low_severity_mahalanobis_distances = []\n",
    "# calculate the mahalanobis distance for each point\n",
    "for point in itertools.combinations(low_severity_coords, 2):\n",
    "    distance = mahalanobis(point[0], point[1], inv_cov_matrix)\n",
    "    if np.isnan(distance):  # Check for NaN values\n",
    "        continue\n",
    "    low_severity_mahalanobis_distances.append(distance)\n",
    "mean_low_severity_mahalanobis_distance = np.mean(low_severity_mahalanobis_distances)\n",
    "print(\n",
    "    f\"The mean mahalanobis distance for the low-Severity genotype is {mean_low_severity_mahalanobis_distance}\"\n",
    ")"
   ]
  },
  {
   "cell_type": "markdown",
   "id": "72b25dde",
   "metadata": {
    "papermill": {
     "duration": 0.002299,
     "end_time": "2024-05-07T17:58:18.158273",
     "exception": false,
     "start_time": "2024-05-07T17:58:18.155974",
     "status": "completed"
    },
    "tags": []
   },
   "source": [
    "#### Wild Type"
   ]
  },
  {
   "cell_type": "code",
   "execution_count": 7,
   "id": "df0d4e55",
   "metadata": {
    "execution": {
     "iopub.execute_input": "2024-05-07T17:58:18.164134Z",
     "iopub.status.busy": "2024-05-07T17:58:18.163980Z",
     "iopub.status.idle": "2024-05-07T17:58:18.169263Z",
     "shell.execute_reply": "2024-05-07T17:58:18.168906Z"
    },
    "papermill": {
     "duration": 0.009293,
     "end_time": "2024-05-07T17:58:18.170151",
     "exception": false,
     "start_time": "2024-05-07T17:58:18.160858",
     "status": "completed"
    },
    "tags": []
   },
   "outputs": [
    {
     "name": "stdout",
     "output_type": "stream",
     "text": [
      "The mean mahalanobis distance for the Wild Type genotype is 10.91040663213425\n"
     ]
    }
   ],
   "source": [
    "# define the mean and the inverse covariance matrix needed for the mahalanobis distance calculation\n",
    "cov_matrix = np.cov(wt_coords, rowvar=False)\n",
    "inv_cov_matrix = np.linalg.inv(cov_matrix)  # Use pseudo-inverse instead of inverse\n",
    "# calculate the mahalanobis distance for each point within each genotype\n",
    "wt_mahalanobis_distances = []\n",
    "# calculate the mahalanobis distance for each point\n",
    "for point in itertools.combinations(wt_coords, 2):\n",
    "    distance = mahalanobis(point[0], point[1], inv_cov_matrix)\n",
    "    if np.isnan(distance):  # Check for NaN values\n",
    "        continue\n",
    "    wt_mahalanobis_distances.append(distance)\n",
    "mean_wt_mahalanobis_distance = np.mean(wt_mahalanobis_distances)\n",
    "print(\n",
    "    f\"The mean mahalanobis distance for the Wild Type genotype is {mean_wt_mahalanobis_distance}\"\n",
    ")"
   ]
  }
 ],
 "metadata": {
  "kernelspec": {
   "display_name": "op_cell_processing_env",
   "language": "python",
   "name": "python3"
  },
  "language_info": {
   "codemirror_mode": {
    "name": "ipython",
    "version": 3
   },
   "file_extension": ".py",
   "mimetype": "text/x-python",
   "name": "python",
   "nbconvert_exporter": "python",
   "pygments_lexer": "ipython3",
   "version": "3.8.15"
  },
  "papermill": {
   "default_parameters": {},
   "duration": 1.28797,
   "end_time": "2024-05-07T17:58:18.388133",
   "environment_variables": {},
   "exception": null,
   "input_path": "8b.sum_aggregated_PCA_calulate_mahalanobis_distanc.ipynb",
   "output_path": "8b.sum_aggregated_PCA_calulate_mahalanobis_distanc.ipynb",
   "parameters": {},
   "start_time": "2024-05-07T17:58:17.100163",
   "version": "2.6.0"
  }
 },
 "nbformat": 4,
 "nbformat_minor": 5
}