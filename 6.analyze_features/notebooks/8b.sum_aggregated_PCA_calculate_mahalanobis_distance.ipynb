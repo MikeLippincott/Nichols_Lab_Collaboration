{
 "cells": [
  {
   "cell_type": "markdown",
   "id": "ab9209a8",
   "metadata": {
    "papermill": {
     "duration": 0.002951,
     "end_time": "2024-05-10T20:15:48.242823",
     "exception": false,
     "start_time": "2024-05-10T20:15:48.239872",
     "status": "completed"
    },
    "tags": []
   },
   "source": [
    "This notebook calculates the Mahalanobis distance between points on a pca. \n",
    "I will document more about what Mahalanobis distance is and how it is calculated in this notebook."
   ]
  },
  {
   "cell_type": "code",
   "execution_count": 1,
   "id": "fb0c127b",
   "metadata": {
    "execution": {
     "iopub.execute_input": "2024-05-10T20:15:48.248073Z",
     "iopub.status.busy": "2024-05-10T20:15:48.247691Z",
     "iopub.status.idle": "2024-05-10T20:15:48.765836Z",
     "shell.execute_reply": "2024-05-10T20:15:48.765381Z"
    },
    "papermill": {
     "duration": 0.521958,
     "end_time": "2024-05-10T20:15:48.767017",
     "exception": false,
     "start_time": "2024-05-10T20:15:48.245059",
     "status": "completed"
    },
    "tags": []
   },
   "outputs": [],
   "source": [
    "import itertools\n",
    "import pathlib\n",
    "\n",
    "import matplotlib.pyplot as plt\n",
    "import numpy as np\n",
    "import pandas as pd\n",
    "import seaborn as sns\n",
    "import tqdm\n",
    "from scipy.spatial.distance import mahalanobis\n",
    "from scipy.stats import f_oneway as anova\n",
    "from scipy.stats import ttest_ind\n",
    "from statsmodels.stats.multicomp import pairwise_tukeyhsd"
   ]
  },
  {
   "cell_type": "code",
   "execution_count": 2,
   "id": "3aaae5dd",
   "metadata": {
    "execution": {
     "iopub.execute_input": "2024-05-10T20:15:48.774095Z",
     "iopub.status.busy": "2024-05-10T20:15:48.773927Z",
     "iopub.status.idle": "2024-05-10T20:15:48.798586Z",
     "shell.execute_reply": "2024-05-10T20:15:48.798227Z"
    },
    "papermill": {
     "duration": 0.029205,
     "end_time": "2024-05-10T20:15:48.799585",
     "exception": false,
     "start_time": "2024-05-10T20:15:48.770380",
     "status": "completed"
    },
    "tags": []
   },
   "outputs": [
    {
     "name": "stdout",
     "output_type": "stream",
     "text": [
      "(42, 44)\n"
     ]
    },
    {
     "data": {
      "text/html": [
       "<div>\n",
       "<style scoped>\n",
       "    .dataframe tbody tr th:only-of-type {\n",
       "        vertical-align: middle;\n",
       "    }\n",
       "\n",
       "    .dataframe tbody tr th {\n",
       "        vertical-align: top;\n",
       "    }\n",
       "\n",
       "    .dataframe thead th {\n",
       "        text-align: right;\n",
       "    }\n",
       "</style>\n",
       "<table border=\"1\" class=\"dataframe\">\n",
       "  <thead>\n",
       "    <tr style=\"text-align: right;\">\n",
       "      <th></th>\n",
       "      <th>Metadata_genotype</th>\n",
       "      <th>Metadata_replicate</th>\n",
       "      <th>PC1</th>\n",
       "      <th>PC2</th>\n",
       "      <th>PC3</th>\n",
       "      <th>PC4</th>\n",
       "      <th>PC5</th>\n",
       "      <th>PC6</th>\n",
       "      <th>PC7</th>\n",
       "      <th>PC8</th>\n",
       "      <th>...</th>\n",
       "      <th>PC33</th>\n",
       "      <th>PC34</th>\n",
       "      <th>PC35</th>\n",
       "      <th>PC36</th>\n",
       "      <th>PC37</th>\n",
       "      <th>PC38</th>\n",
       "      <th>PC39</th>\n",
       "      <th>PC40</th>\n",
       "      <th>PC41</th>\n",
       "      <th>PC42</th>\n",
       "    </tr>\n",
       "  </thead>\n",
       "  <tbody>\n",
       "    <tr>\n",
       "      <th>0</th>\n",
       "      <td>High-Severity</td>\n",
       "      <td>1</td>\n",
       "      <td>-2.612687</td>\n",
       "      <td>2.480900</td>\n",
       "      <td>1.038433</td>\n",
       "      <td>-2.124206</td>\n",
       "      <td>1.848401</td>\n",
       "      <td>-0.138879</td>\n",
       "      <td>0.610879</td>\n",
       "      <td>-1.240955</td>\n",
       "      <td>...</td>\n",
       "      <td>1.737607</td>\n",
       "      <td>0.665385</td>\n",
       "      <td>-1.508575</td>\n",
       "      <td>-0.002393</td>\n",
       "      <td>-1.269638</td>\n",
       "      <td>0.005696</td>\n",
       "      <td>0.640564</td>\n",
       "      <td>0.873191</td>\n",
       "      <td>-0.304305</td>\n",
       "      <td>-9.020562e-16</td>\n",
       "    </tr>\n",
       "    <tr>\n",
       "      <th>1</th>\n",
       "      <td>High-Severity</td>\n",
       "      <td>10</td>\n",
       "      <td>1.744949</td>\n",
       "      <td>8.499953</td>\n",
       "      <td>2.922399</td>\n",
       "      <td>-1.102377</td>\n",
       "      <td>-0.962470</td>\n",
       "      <td>1.636088</td>\n",
       "      <td>1.463812</td>\n",
       "      <td>2.400998</td>\n",
       "      <td>...</td>\n",
       "      <td>-0.030647</td>\n",
       "      <td>0.118004</td>\n",
       "      <td>-1.435196</td>\n",
       "      <td>2.127940</td>\n",
       "      <td>-0.683266</td>\n",
       "      <td>-0.594841</td>\n",
       "      <td>-0.847429</td>\n",
       "      <td>-0.543167</td>\n",
       "      <td>0.226587</td>\n",
       "      <td>-6.106227e-16</td>\n",
       "    </tr>\n",
       "    <tr>\n",
       "      <th>2</th>\n",
       "      <td>High-Severity</td>\n",
       "      <td>11</td>\n",
       "      <td>1.118178</td>\n",
       "      <td>10.555786</td>\n",
       "      <td>1.918724</td>\n",
       "      <td>-1.821125</td>\n",
       "      <td>1.678552</td>\n",
       "      <td>-0.607047</td>\n",
       "      <td>-1.070299</td>\n",
       "      <td>-0.952239</td>\n",
       "      <td>...</td>\n",
       "      <td>0.164507</td>\n",
       "      <td>1.273944</td>\n",
       "      <td>0.585109</td>\n",
       "      <td>0.301258</td>\n",
       "      <td>-0.100187</td>\n",
       "      <td>0.409482</td>\n",
       "      <td>0.292690</td>\n",
       "      <td>-0.419133</td>\n",
       "      <td>0.090811</td>\n",
       "      <td>-1.665335e-16</td>\n",
       "    </tr>\n",
       "    <tr>\n",
       "      <th>3</th>\n",
       "      <td>High-Severity</td>\n",
       "      <td>12</td>\n",
       "      <td>-0.267551</td>\n",
       "      <td>7.238575</td>\n",
       "      <td>3.193898</td>\n",
       "      <td>-0.921462</td>\n",
       "      <td>-1.421467</td>\n",
       "      <td>3.201197</td>\n",
       "      <td>0.876403</td>\n",
       "      <td>1.133883</td>\n",
       "      <td>...</td>\n",
       "      <td>-0.788146</td>\n",
       "      <td>0.724145</td>\n",
       "      <td>-0.588942</td>\n",
       "      <td>0.030300</td>\n",
       "      <td>0.712927</td>\n",
       "      <td>0.415672</td>\n",
       "      <td>2.116853</td>\n",
       "      <td>-0.583968</td>\n",
       "      <td>0.414338</td>\n",
       "      <td>-6.661338e-16</td>\n",
       "    </tr>\n",
       "    <tr>\n",
       "      <th>4</th>\n",
       "      <td>High-Severity</td>\n",
       "      <td>13</td>\n",
       "      <td>-0.810176</td>\n",
       "      <td>6.274105</td>\n",
       "      <td>4.030843</td>\n",
       "      <td>0.668752</td>\n",
       "      <td>-0.999091</td>\n",
       "      <td>3.636388</td>\n",
       "      <td>0.282499</td>\n",
       "      <td>-2.773985</td>\n",
       "      <td>...</td>\n",
       "      <td>-1.040199</td>\n",
       "      <td>-1.076102</td>\n",
       "      <td>-0.000303</td>\n",
       "      <td>-0.058833</td>\n",
       "      <td>-0.736013</td>\n",
       "      <td>0.174054</td>\n",
       "      <td>-0.917179</td>\n",
       "      <td>1.114349</td>\n",
       "      <td>0.339969</td>\n",
       "      <td>3.400058e-16</td>\n",
       "    </tr>\n",
       "  </tbody>\n",
       "</table>\n",
       "<p>5 rows × 44 columns</p>\n",
       "</div>"
      ],
      "text/plain": [
       "  Metadata_genotype Metadata_replicate       PC1        PC2       PC3  \\\n",
       "0     High-Severity                  1 -2.612687   2.480900  1.038433   \n",
       "1     High-Severity                 10  1.744949   8.499953  2.922399   \n",
       "2     High-Severity                 11  1.118178  10.555786  1.918724   \n",
       "3     High-Severity                 12 -0.267551   7.238575  3.193898   \n",
       "4     High-Severity                 13 -0.810176   6.274105  4.030843   \n",
       "\n",
       "        PC4       PC5       PC6       PC7       PC8  ...      PC33      PC34  \\\n",
       "0 -2.124206  1.848401 -0.138879  0.610879 -1.240955  ...  1.737607  0.665385   \n",
       "1 -1.102377 -0.962470  1.636088  1.463812  2.400998  ... -0.030647  0.118004   \n",
       "2 -1.821125  1.678552 -0.607047 -1.070299 -0.952239  ...  0.164507  1.273944   \n",
       "3 -0.921462 -1.421467  3.201197  0.876403  1.133883  ... -0.788146  0.724145   \n",
       "4  0.668752 -0.999091  3.636388  0.282499 -2.773985  ... -1.040199 -1.076102   \n",
       "\n",
       "       PC35      PC36      PC37      PC38      PC39      PC40      PC41  \\\n",
       "0 -1.508575 -0.002393 -1.269638  0.005696  0.640564  0.873191 -0.304305   \n",
       "1 -1.435196  2.127940 -0.683266 -0.594841 -0.847429 -0.543167  0.226587   \n",
       "2  0.585109  0.301258 -0.100187  0.409482  0.292690 -0.419133  0.090811   \n",
       "3 -0.588942  0.030300  0.712927  0.415672  2.116853 -0.583968  0.414338   \n",
       "4 -0.000303 -0.058833 -0.736013  0.174054 -0.917179  1.114349  0.339969   \n",
       "\n",
       "           PC42  \n",
       "0 -9.020562e-16  \n",
       "1 -6.106227e-16  \n",
       "2 -1.665335e-16  \n",
       "3 -6.661338e-16  \n",
       "4  3.400058e-16  \n",
       "\n",
       "[5 rows x 44 columns]"
      ]
     },
     "execution_count": 2,
     "metadata": {},
     "output_type": "execute_result"
    }
   ],
   "source": [
    "# set the path to the data\n",
    "sum_aggregated_data_pca_path = pathlib.Path(\n",
    "    \"../../data/6.analysis_results/sum_aggregated_pca.parquet\"\n",
    ").resolve(strict=True)\n",
    "\n",
    "# read the data\n",
    "sum_aggregated_data_pca = pd.read_parquet(sum_aggregated_data_pca_path)\n",
    "print(sum_aggregated_data_pca.shape)\n",
    "sum_aggregated_data_pca.head()"
   ]
  },
  {
   "cell_type": "markdown",
   "id": "259d51ba",
   "metadata": {
    "papermill": {
     "duration": 0.003282,
     "end_time": "2024-05-10T20:15:48.806220",
     "exception": false,
     "start_time": "2024-05-10T20:15:48.802938",
     "status": "completed"
    },
    "tags": []
   },
   "source": [
    "# Mahalanobis Distance\n",
    "For more in depth information on Mahalanobis distance, please refer to this [link](https://medium.com/@the_daft_introvert/mahalanobis-distance-5c11a757b099).\n",
    "Mahalanobis distance is a measure of the distance between a point P and a distribution D. \n",
    "It is a multi-dimensional generalization of the idea of measuring how many standard deviations away P is from the mean of D. \n",
    "This distance is zero if P is at the mean of D, and grows as P moves away from the mean along each principal component axis.\n",
    "The formula for Mahalanobis distance is given by:\n",
    "### $D^2 = (x - \\mu)^T \\Sigma^{-1} (x - \\mu)$\n",
    "where:\n",
    "- $D$ is the Mahalanobis distance"
   ]
  },
  {
   "cell_type": "markdown",
   "id": "6bfe16c2",
   "metadata": {
    "papermill": {
     "duration": 0.003237,
     "end_time": "2024-05-10T20:15:48.812859",
     "exception": false,
     "start_time": "2024-05-10T20:15:48.809622",
     "status": "completed"
    },
    "tags": []
   },
   "source": [
    "## Caluclating Mahalanobis Distance on PCA \n",
    "Here I calculate the Mahalanobis distance between the points on the first two principal components of the data for each of the three genotypes."
   ]
  },
  {
   "cell_type": "code",
   "execution_count": 3,
   "id": "41688044",
   "metadata": {
    "execution": {
     "iopub.execute_input": "2024-05-10T20:15:48.820583Z",
     "iopub.status.busy": "2024-05-10T20:15:48.820264Z",
     "iopub.status.idle": "2024-05-10T20:15:48.823840Z",
     "shell.execute_reply": "2024-05-10T20:15:48.823509Z"
    },
    "papermill": {
     "duration": 0.008346,
     "end_time": "2024-05-10T20:15:48.824825",
     "exception": false,
     "start_time": "2024-05-10T20:15:48.816479",
     "status": "completed"
    },
    "tags": []
   },
   "outputs": [
    {
     "name": "stdout",
     "output_type": "stream",
     "text": [
      "14 14 14\n"
     ]
    }
   ],
   "source": [
    "# split the genotypes\n",
    "high_severity = sum_aggregated_data_pca[\n",
    "    sum_aggregated_data_pca[\"Metadata_genotype\"] == \"High-Severity\"\n",
    "]\n",
    "low_severity = sum_aggregated_data_pca[\n",
    "    sum_aggregated_data_pca[\"Metadata_genotype\"] == \"Mid-Severity\"\n",
    "]\n",
    "wt = sum_aggregated_data_pca[\n",
    "    sum_aggregated_data_pca[\"Metadata_genotype\"] == \"Wild Type\"\n",
    "]\n",
    "print(len(high_severity), len(low_severity), len(wt))"
   ]
  },
  {
   "cell_type": "code",
   "execution_count": 4,
   "id": "5e1432a9",
   "metadata": {
    "execution": {
     "iopub.execute_input": "2024-05-10T20:15:48.832082Z",
     "iopub.status.busy": "2024-05-10T20:15:48.831768Z",
     "iopub.status.idle": "2024-05-10T20:15:48.835241Z",
     "shell.execute_reply": "2024-05-10T20:15:48.834861Z"
    },
    "papermill": {
     "duration": 0.007984,
     "end_time": "2024-05-10T20:15:48.836023",
     "exception": false,
     "start_time": "2024-05-10T20:15:48.828039",
     "status": "completed"
    },
    "tags": []
   },
   "outputs": [
    {
     "name": "stdout",
     "output_type": "stream",
     "text": [
      "(14, 42) (14, 42) (14, 42)\n"
     ]
    }
   ],
   "source": [
    "# drop the the Metadata columns\n",
    "high_severity = high_severity.drop(columns=[\"Metadata_genotype\", \"Metadata_replicate\"])\n",
    "low_severity = low_severity.drop(columns=[\"Metadata_genotype\", \"Metadata_replicate\"])\n",
    "wt = wt.drop(columns=[\"Metadata_genotype\", \"Metadata_replicate\"])\n",
    "# convert the df to coordinates\n",
    "high_severity_coords = high_severity.to_numpy()\n",
    "low_severity_coords = low_severity.to_numpy()\n",
    "wt_coords = wt.to_numpy()\n",
    "print(high_severity_coords.shape, low_severity_coords.shape, wt_coords.shape)"
   ]
  },
  {
   "cell_type": "markdown",
   "id": "ab7a6ea5",
   "metadata": {
    "papermill": {
     "duration": 0.003512,
     "end_time": "2024-05-10T20:15:48.842892",
     "exception": false,
     "start_time": "2024-05-10T20:15:48.839380",
     "status": "completed"
    },
    "tags": []
   },
   "source": [
    "#### High-Severity"
   ]
  },
  {
   "cell_type": "code",
   "execution_count": 5,
   "id": "992efa28",
   "metadata": {
    "execution": {
     "iopub.execute_input": "2024-05-10T20:15:48.849747Z",
     "iopub.status.busy": "2024-05-10T20:15:48.849460Z",
     "iopub.status.idle": "2024-05-10T20:15:48.854443Z",
     "shell.execute_reply": "2024-05-10T20:15:48.854022Z"
    },
    "papermill": {
     "duration": 0.009241,
     "end_time": "2024-05-10T20:15:48.855334",
     "exception": false,
     "start_time": "2024-05-10T20:15:48.846093",
     "status": "completed"
    },
    "tags": []
   },
   "outputs": [
    {
     "name": "stdout",
     "output_type": "stream",
     "text": [
      "The mean mahalanobis distance for the High-Severity genotype is 7.874466036404469\n"
     ]
    },
    {
     "name": "stderr",
     "output_type": "stream",
     "text": [
      "/home/lippincm/miniconda3/envs/op_cell_processing_env/lib/python3.8/site-packages/scipy/spatial/distance.py:1064: RuntimeWarning: invalid value encountered in sqrt\n",
      "  return np.sqrt(m)\n"
     ]
    }
   ],
   "source": [
    "# define the mean and the inverse covariance matrix needed for the mahalanobis distance calculation\n",
    "cov_matrix = np.cov(high_severity_coords, rowvar=False)\n",
    "inv_cov_matrix = np.linalg.inv(cov_matrix)\n",
    "# calculate the mahalanobis distance for each point within each genotype\n",
    "high_severity_mahalanobis_distances = []\n",
    "# calculate the mahalanobis distance for each point combination\n",
    "for point in itertools.combinations(high_severity_coords, 2):\n",
    "    distance = mahalanobis(point[0], point[1], inv_cov_matrix)\n",
    "    if np.isnan(distance):  # Check for NaN values\n",
    "        continue\n",
    "    high_severity_mahalanobis_distances.append(distance)\n",
    "mean_high_severity_mahalanobis_distance = np.mean(high_severity_mahalanobis_distances)\n",
    "print(\n",
    "    f\"The mean mahalanobis distance for the High-Severity genotype is {mean_high_severity_mahalanobis_distance}\"\n",
    ")"
   ]
  },
  {
   "cell_type": "markdown",
   "id": "27cad0b8",
   "metadata": {
    "papermill": {
     "duration": 0.003896,
     "end_time": "2024-05-10T20:15:48.863011",
     "exception": false,
     "start_time": "2024-05-10T20:15:48.859115",
     "status": "completed"
    },
    "tags": []
   },
   "source": [
    "#### Low-Severity"
   ]
  },
  {
   "cell_type": "code",
   "execution_count": 6,
   "id": "a2370708",
   "metadata": {
    "execution": {
     "iopub.execute_input": "2024-05-10T20:15:48.871771Z",
     "iopub.status.busy": "2024-05-10T20:15:48.871473Z",
     "iopub.status.idle": "2024-05-10T20:15:48.876237Z",
     "shell.execute_reply": "2024-05-10T20:15:48.875861Z"
    },
    "papermill": {
     "duration": 0.010227,
     "end_time": "2024-05-10T20:15:48.877148",
     "exception": false,
     "start_time": "2024-05-10T20:15:48.866921",
     "status": "completed"
    },
    "tags": []
   },
   "outputs": [
    {
     "name": "stdout",
     "output_type": "stream",
     "text": [
      "The mean mahalanobis distance for the low-Severity genotype is 6.549257169182537\n"
     ]
    }
   ],
   "source": [
    "# define the mean and the inverse covariance matrix needed for the mahalanobis distance calculation\n",
    "cov_matrix = np.cov(low_severity_coords, rowvar=False)\n",
    "inv_cov_matrix = np.linalg.inv(cov_matrix)\n",
    "# calculate the mahalanobis distance for each point within each genotype\n",
    "low_severity_mahalanobis_distances = []\n",
    "# calculate the mahalanobis distance for each point\n",
    "for point in itertools.combinations(low_severity_coords, 2):\n",
    "    distance = mahalanobis(point[0], point[1], inv_cov_matrix)\n",
    "    if np.isnan(distance):  # Check for NaN values\n",
    "        continue\n",
    "    low_severity_mahalanobis_distances.append(distance)\n",
    "mean_low_severity_mahalanobis_distance = np.mean(low_severity_mahalanobis_distances)\n",
    "print(\n",
    "    f\"The mean mahalanobis distance for the low-Severity genotype is {mean_low_severity_mahalanobis_distance}\"\n",
    ")"
   ]
  },
  {
   "cell_type": "markdown",
   "id": "3cf92944",
   "metadata": {
    "papermill": {
     "duration": 0.004174,
     "end_time": "2024-05-10T20:15:48.885776",
     "exception": false,
     "start_time": "2024-05-10T20:15:48.881602",
     "status": "completed"
    },
    "tags": []
   },
   "source": [
    "#### Wild Type"
   ]
  },
  {
   "cell_type": "code",
   "execution_count": 7,
   "id": "6de6ba74",
   "metadata": {
    "execution": {
     "iopub.execute_input": "2024-05-10T20:15:48.895838Z",
     "iopub.status.busy": "2024-05-10T20:15:48.895643Z",
     "iopub.status.idle": "2024-05-10T20:15:48.901895Z",
     "shell.execute_reply": "2024-05-10T20:15:48.901516Z"
    },
    "papermill": {
     "duration": 0.012276,
     "end_time": "2024-05-10T20:15:48.902837",
     "exception": false,
     "start_time": "2024-05-10T20:15:48.890561",
     "status": "completed"
    },
    "tags": []
   },
   "outputs": [
    {
     "name": "stdout",
     "output_type": "stream",
     "text": [
      "The mean mahalanobis distance for the Wild Type genotype is 10.91040663213425\n"
     ]
    }
   ],
   "source": [
    "# define the mean and the inverse covariance matrix needed for the mahalanobis distance calculation\n",
    "cov_matrix = np.cov(wt_coords, rowvar=False)\n",
    "inv_cov_matrix = np.linalg.inv(cov_matrix)\n",
    "# calculate the mahalanobis distance for each point within each genotype\n",
    "wt_mahalanobis_distances = []\n",
    "# calculate the mahalanobis distance for each point\n",
    "for point in itertools.combinations(wt_coords, 2):\n",
    "    distance = mahalanobis(point[0], point[1], inv_cov_matrix)\n",
    "    if np.isnan(distance):  # Check for NaN values\n",
    "        continue\n",
    "    wt_mahalanobis_distances.append(distance)\n",
    "mean_wt_mahalanobis_distance = np.mean(wt_mahalanobis_distances)\n",
    "print(\n",
    "    f\"The mean mahalanobis distance for the Wild Type genotype is {mean_wt_mahalanobis_distance}\"\n",
    ")"
   ]
  },
  {
   "cell_type": "markdown",
   "id": "2647b666",
   "metadata": {
    "papermill": {
     "duration": 0.004542,
     "end_time": "2024-05-10T20:15:48.911850",
     "exception": false,
     "start_time": "2024-05-10T20:15:48.907308",
     "status": "completed"
    },
    "tags": []
   },
   "source": [
    "## Calculate the Mahalanobis distance for random shuffled data points"
   ]
  },
  {
   "cell_type": "code",
   "execution_count": 8,
   "id": "3bfab0cd",
   "metadata": {
    "execution": {
     "iopub.execute_input": "2024-05-10T20:15:48.921597Z",
     "iopub.status.busy": "2024-05-10T20:15:48.921410Z",
     "iopub.status.idle": "2024-05-10T20:15:49.111344Z",
     "shell.execute_reply": "2024-05-10T20:15:49.111066Z"
    },
    "papermill": {
     "duration": 0.195852,
     "end_time": "2024-05-10T20:15:49.112255",
     "exception": false,
     "start_time": "2024-05-10T20:15:48.916403",
     "status": "completed"
    },
    "tags": []
   },
   "outputs": [],
   "source": [
    "# from the distribution of each PCA component, randomly sample 1000 points and calculate the mahalanobis distance\n",
    "# get the distribution of each PCA component\n",
    "high_severity_pca_component_distribution_std = high_severity.describe().loc[\"std\"]\n",
    "low_severity_pca_component_distribution_std = low_severity.describe().loc[\"std\"]\n",
    "wt_pca_component_distribution_std = wt.describe().loc[\"std\"]\n",
    "\n",
    "high_severity_pca_component_distribution_mean = high_severity.describe().loc[\"mean\"]\n",
    "low_severity_pca_component_distribution_mean = low_severity.describe().loc[\"mean\"]\n",
    "wt_pca_component_distribution_mean = wt.describe().loc[\"mean\"]"
   ]
  },
  {
   "cell_type": "code",
   "execution_count": 9,
   "id": "697a64eb",
   "metadata": {
    "execution": {
     "iopub.execute_input": "2024-05-10T20:15:49.117879Z",
     "iopub.status.busy": "2024-05-10T20:15:49.117658Z",
     "iopub.status.idle": "2024-05-10T20:18:17.393446Z",
     "shell.execute_reply": "2024-05-10T20:18:17.392992Z"
    },
    "papermill": {
     "duration": 148.279658,
     "end_time": "2024-05-10T20:18:17.394554",
     "exception": false,
     "start_time": "2024-05-10T20:15:49.114896",
     "status": "completed"
    },
    "tags": []
   },
   "outputs": [
    {
     "name": "stderr",
     "output_type": "stream",
     "text": [
      "100%|██████████| 1000/1000 [09:36<00:00,  1.73it/s]\n"
     ]
    }
   ],
   "source": [
    "# do 1000 trials of sampling from each PCA component distribution\n",
    "# from the distribution of each PCA component, randomly sample 1000 points and calculate the mahalanobis distance\n",
    "\n",
    "# set the output mean Mahalanobis distance lists per genotype\n",
    "mean_high_severity_sampled_mahalanobis_distances_from_trials = []\n",
    "mean_low_severity_sampled_mahalanobis_distances_from_trials = []\n",
    "mean_wt_sampled_mahalanobis_distances_from_trials = []\n",
    "\n",
    "# sample 1000 points from the distribution of each PCA component\n",
    "num_pca_components = high_severity_pca_component_distribution_std.shape[0]\n",
    "num_samples = 100\n",
    "num_trials = 1000\n",
    "\n",
    "for trial in tqdm.tqdm(range(num_trials)):\n",
    "    high_severity_sampled_points = pd.DataFrame()\n",
    "    low_severity_sampled_points = pd.DataFrame()\n",
    "    wt_sampled_points = pd.DataFrame()\n",
    "\n",
    "    for i in range(num_pca_components):\n",
    "        high_severity_sampled_points[f\"PC{i+1}\"] = np.random.normal(\n",
    "            loc=high_severity_pca_component_distribution_mean[i],\n",
    "            scale=high_severity_pca_component_distribution_std[i],\n",
    "            size=num_samples,\n",
    "        )\n",
    "        low_severity_sampled_points[f\"PC{i+1}\"] = np.random.normal(\n",
    "            loc=low_severity_pca_component_distribution_mean[i],\n",
    "            scale=low_severity_pca_component_distribution_std[i],\n",
    "            size=num_samples,\n",
    "        )\n",
    "        wt_sampled_points[f\"PC{i+1}\"] = np.random.normal(\n",
    "            loc=wt_pca_component_distribution_mean[i],\n",
    "            scale=wt_pca_component_distribution_std[i],\n",
    "            size=num_samples,\n",
    "        )\n",
    "\n",
    "    inv_cov_matrix = np.linalg.inv(\n",
    "        np.cov(high_severity_sampled_points.to_numpy(), rowvar=False)\n",
    "    )\n",
    "    # calculate the mahalanobis distance for each point within each genotype\n",
    "    high_severity_sampled_mahalanobis_distances = []\n",
    "    # calculate the mahalanobis distance for each point combination\n",
    "    for point in itertools.combinations(high_severity_sampled_points.to_numpy(), 2):\n",
    "        distance = mahalanobis(point[0], point[1], inv_cov_matrix)\n",
    "        if np.isnan(distance):  # Check for NaN values\n",
    "            continue\n",
    "        high_severity_sampled_mahalanobis_distances.append(distance)\n",
    "\n",
    "    mean_high_severity_sampled_mahalanobis_distance = np.mean(\n",
    "        high_severity_sampled_mahalanobis_distances\n",
    "    )\n",
    "\n",
    "    inv_cov_matrix = np.linalg.inv(\n",
    "        np.cov(low_severity_sampled_points.to_numpy(), rowvar=False)\n",
    "    )\n",
    "    # calculate the mahalanobis distance for each point within each genotype\n",
    "    low_severity_sampled_mahalanobis_distances = []\n",
    "    # calculate the mahalanobis distance for each point combination\n",
    "    for point in itertools.combinations(low_severity_sampled_points.to_numpy(), 2):\n",
    "        distance = mahalanobis(point[0], point[1], inv_cov_matrix)\n",
    "        if np.isnan(distance):  # Check for NaN values\n",
    "            continue\n",
    "        low_severity_sampled_mahalanobis_distances.append(distance)\n",
    "\n",
    "    mean_low_severity_sampled_mahalanobis_distance = np.mean(\n",
    "        low_severity_sampled_mahalanobis_distances\n",
    "    )\n",
    "\n",
    "    inv_cov_matrix = np.linalg.inv(np.cov(wt_sampled_points.to_numpy(), rowvar=False))\n",
    "    # calculate the mahalanobis distance for each point within each genotype\n",
    "    wt_sampled_mahalanobis_distances = []\n",
    "    # calculate the mahalanobis distance for each point combination\n",
    "    for point in itertools.combinations(wt_sampled_points.to_numpy(), 2):\n",
    "        distance = mahalanobis(point[0], point[1], inv_cov_matrix)\n",
    "        if np.isnan(distance):  # Check for NaN values\n",
    "            continue\n",
    "        wt_sampled_mahalanobis_distances.append(distance)\n",
    "\n",
    "    mean_wt_sampled_mahalanobis_distance = np.mean(wt_sampled_mahalanobis_distances)\n",
    "\n",
    "    # append the average mahalanobis distance from the trial to the list for the trial per genotype\n",
    "    mean_high_severity_sampled_mahalanobis_distances_from_trials.append(\n",
    "        mean_high_severity_sampled_mahalanobis_distance\n",
    "    )\n",
    "    mean_low_severity_sampled_mahalanobis_distances_from_trials.append(\n",
    "        mean_low_severity_sampled_mahalanobis_distance\n",
    "    )\n",
    "    mean_wt_sampled_mahalanobis_distances_from_trials.append(\n",
    "        mean_wt_sampled_mahalanobis_distance\n",
    "    )"
   ]
  },
  {
   "cell_type": "code",
   "execution_count": 10,
   "id": "a0661e87",
   "metadata": {
    "execution": {
     "iopub.execute_input": "2024-05-10T20:18:17.460425Z",
     "iopub.status.busy": "2024-05-10T20:18:17.460134Z",
     "iopub.status.idle": "2024-05-10T20:18:17.463099Z",
     "shell.execute_reply": "2024-05-10T20:18:17.462816Z"
    },
    "papermill": {
     "duration": 0.03076,
     "end_time": "2024-05-10T20:18:17.463751",
     "exception": false,
     "start_time": "2024-05-10T20:18:17.432991",
     "status": "completed"
    },
    "tags": []
   },
   "outputs": [
    {
     "name": "stdout",
     "output_type": "stream",
     "text": [
      "The high Mahalonobis distance for 1000 trials is: 9.0\n",
      "The low Mahalonobis distance for 1000 trials is: 9.0\n",
      "The wt Mahalonobis distance for 1000 trials is: 9.0\n"
     ]
    }
   ],
   "source": [
    "print(\n",
    "    f\"The high Mahalonobis distance for {num_trials} trials is: {round(np.mean(mean_high_severity_sampled_mahalanobis_distances_from_trials),0)}\"\n",
    ")\n",
    "print(\n",
    "    f\"The low Mahalonobis distance for {num_trials} trials is: {round(np.mean(mean_low_severity_sampled_mahalanobis_distances_from_trials),0)}\"\n",
    ")\n",
    "print(\n",
    "    f\"The wt Mahalonobis distance for {num_trials} trials is: {round(np.mean(mean_wt_sampled_mahalanobis_distances_from_trials),0)}\"\n",
    ")"
   ]
  },
  {
   "cell_type": "markdown",
   "id": "815b425c",
   "metadata": {
    "papermill": {
     "duration": 0.025489,
     "end_time": "2024-05-10T20:18:17.514811",
     "exception": false,
     "start_time": "2024-05-10T20:18:17.489322",
     "status": "completed"
    },
    "tags": []
   },
   "source": [
    "### Show the mahalanobis distance for each genotype"
   ]
  },
  {
   "cell_type": "code",
   "execution_count": 11,
   "id": "85c30be8",
   "metadata": {
    "execution": {
     "iopub.execute_input": "2024-05-10T20:18:17.567248Z",
     "iopub.status.busy": "2024-05-10T20:18:17.566822Z",
     "iopub.status.idle": "2024-05-10T20:18:17.569620Z",
     "shell.execute_reply": "2024-05-10T20:18:17.569311Z"
    },
    "papermill": {
     "duration": 0.02998,
     "end_time": "2024-05-10T20:18:17.570316",
     "exception": false,
     "start_time": "2024-05-10T20:18:17.540336",
     "status": "completed"
    },
    "tags": []
   },
   "outputs": [
    {
     "name": "stdout",
     "output_type": "stream",
     "text": [
      "Mahalanobis distance for High-Severity:  7.874466036404469\n",
      "Mahalanobis distance for Low-Severity:  6.549257169182537\n",
      "Mahalanobis distance for Wild Type:  10.91040663213425\n"
     ]
    }
   ],
   "source": [
    "print(\n",
    "    \"Mahalanobis distance for High-Severity: \", mean_high_severity_mahalanobis_distance\n",
    ")\n",
    "print(\"Mahalanobis distance for Low-Severity: \", mean_low_severity_mahalanobis_distance)\n",
    "print(\"Mahalanobis distance for Wild Type: \", mean_wt_mahalanobis_distance)"
   ]
  },
  {
   "cell_type": "code",
   "execution_count": 12,
   "id": "a8f8881e",
   "metadata": {
    "execution": {
     "iopub.execute_input": "2024-05-10T20:18:17.621886Z",
     "iopub.status.busy": "2024-05-10T20:18:17.621755Z",
     "iopub.status.idle": "2024-05-10T20:18:17.626048Z",
     "shell.execute_reply": "2024-05-10T20:18:17.625717Z"
    },
    "papermill": {
     "duration": 0.030866,
     "end_time": "2024-05-10T20:18:17.626826",
     "exception": false,
     "start_time": "2024-05-10T20:18:17.595960",
     "status": "completed"
    },
    "tags": []
   },
   "outputs": [
    {
     "name": "stdout",
     "output_type": "stream",
     "text": [
      "The p-value for the difference between the Mahalanobis distance of the sampled points and the actual points for the High-Severity genotype is 1.1084360161965967e-35\n",
      "The p-value for the difference between the Mahalanobis distance of the sampled points and the actual points for the Low-Severity genotype is 1.5469559452922954e-109\n",
      "The p-value for the difference between the Mahalanobis distance of the sampled points and the actual points for the Wild Type genotype is 2.1813639657173208e-28\n"
     ]
    }
   ],
   "source": [
    "# hypothesis testing the difference between the Mahalanobis distance of the sampled points and the actual points\n",
    "# calculate the p-value for the difference between the Mahalanobis distance of the sampled points and the actual points\n",
    "\n",
    "high_severity_p_value = ttest_ind(\n",
    "    high_severity_mahalanobis_distances,\n",
    "    mean_high_severity_sampled_mahalanobis_distances_from_trials,\n",
    ").pvalue\n",
    "low_severity_p_value = ttest_ind(\n",
    "    low_severity_mahalanobis_distances,\n",
    "    mean_low_severity_sampled_mahalanobis_distances_from_trials,\n",
    ").pvalue\n",
    "wt_p_value = ttest_ind(\n",
    "    wt_mahalanobis_distances, mean_wt_sampled_mahalanobis_distances_from_trials\n",
    ").pvalue\n",
    "\n",
    "print(\n",
    "    f\"The p-value for the difference between the Mahalanobis distance of the sampled points and the actual points for the High-Severity genotype is {high_severity_p_value}\"\n",
    ")\n",
    "print(\n",
    "    f\"The p-value for the difference between the Mahalanobis distance of the sampled points and the actual points for the Low-Severity genotype is {low_severity_p_value}\"\n",
    ")\n",
    "print(\n",
    "    f\"The p-value for the difference between the Mahalanobis distance of the sampled points and the actual points for the Wild Type genotype is {wt_p_value}\"\n",
    ")"
   ]
  },
  {
   "cell_type": "code",
   "execution_count": 13,
   "id": "c4dc9f07",
   "metadata": {
    "execution": {
     "iopub.execute_input": "2024-05-10T20:18:17.677629Z",
     "iopub.status.busy": "2024-05-10T20:18:17.677500Z",
     "iopub.status.idle": "2024-05-10T20:18:17.813055Z",
     "shell.execute_reply": "2024-05-10T20:18:17.812790Z"
    },
    "papermill": {
     "duration": 0.161772,
     "end_time": "2024-05-10T20:18:17.813737",
     "exception": false,
     "start_time": "2024-05-10T20:18:17.651965",
     "status": "completed"
    },
    "tags": []
   },
   "outputs": [
    {
     "name": "stdout",
     "output_type": "stream",
     "text": [
      "The p-value for the ANOVA across the genotypes is 2.0498238697545267e-07\n"
     ]
    },
    {
     "data": {
      "text/html": [
       "<div>\n",
       "<style scoped>\n",
       "    .dataframe tbody tr th:only-of-type {\n",
       "        vertical-align: middle;\n",
       "    }\n",
       "\n",
       "    .dataframe tbody tr th {\n",
       "        vertical-align: top;\n",
       "    }\n",
       "\n",
       "    .dataframe thead th {\n",
       "        text-align: right;\n",
       "    }\n",
       "</style>\n",
       "<table border=\"1\" class=\"dataframe\">\n",
       "  <thead>\n",
       "    <tr style=\"text-align: right;\">\n",
       "      <th></th>\n",
       "      <th>group1</th>\n",
       "      <th>group2</th>\n",
       "      <th>meandiff</th>\n",
       "      <th>p-adj</th>\n",
       "      <th>lower</th>\n",
       "      <th>upper</th>\n",
       "      <th>reject</th>\n",
       "    </tr>\n",
       "  </thead>\n",
       "  <tbody>\n",
       "    <tr>\n",
       "      <th>0</th>\n",
       "      <td>High Severity</td>\n",
       "      <td>Low Severity</td>\n",
       "      <td>-1.3252</td>\n",
       "      <td>0.1468</td>\n",
       "      <td>-2.9899</td>\n",
       "      <td>0.3395</td>\n",
       "      <td>False</td>\n",
       "    </tr>\n",
       "    <tr>\n",
       "      <th>1</th>\n",
       "      <td>High Severity</td>\n",
       "      <td>Wild Type</td>\n",
       "      <td>3.0359</td>\n",
       "      <td>0.0003</td>\n",
       "      <td>1.2516</td>\n",
       "      <td>4.8203</td>\n",
       "      <td>True</td>\n",
       "    </tr>\n",
       "    <tr>\n",
       "      <th>2</th>\n",
       "      <td>Low Severity</td>\n",
       "      <td>Wild Type</td>\n",
       "      <td>4.3611</td>\n",
       "      <td>0.0000</td>\n",
       "      <td>2.5700</td>\n",
       "      <td>6.1523</td>\n",
       "      <td>True</td>\n",
       "    </tr>\n",
       "  </tbody>\n",
       "</table>\n",
       "</div>"
      ],
      "text/plain": [
       "          group1        group2  meandiff   p-adj   lower   upper  reject\n",
       "0  High Severity  Low Severity   -1.3252  0.1468 -2.9899  0.3395   False\n",
       "1  High Severity     Wild Type    3.0359  0.0003  1.2516  4.8203    True\n",
       "2   Low Severity     Wild Type    4.3611  0.0000  2.5700  6.1523    True"
      ]
     },
     "execution_count": 13,
     "metadata": {},
     "output_type": "execute_result"
    }
   ],
   "source": [
    "# anova test the mahalanobis distance between the genotypes\n",
    "anova_result_across_genotypes = anova(\n",
    "    high_severity_mahalanobis_distances,\n",
    "    low_severity_mahalanobis_distances,\n",
    "    wt_mahalanobis_distances,\n",
    ")\n",
    "\n",
    "print(\n",
    "    f\"The p-value for the ANOVA across the genotypes is {anova_result_across_genotypes.pvalue}\"\n",
    ")\n",
    "\n",
    "# tukeys HSD test for the mahalanobis distance between the genotypes\n",
    "tukeys_result_across_genotypes = pairwise_tukeyhsd(\n",
    "    np.concatenate(\n",
    "        [\n",
    "            high_severity_mahalanobis_distances,\n",
    "            low_severity_mahalanobis_distances,\n",
    "            wt_mahalanobis_distances,\n",
    "        ]\n",
    "    ),\n",
    "    np.concatenate(\n",
    "        [\n",
    "            [\"High Severity\"] * len(high_severity_mahalanobis_distances),\n",
    "            [\"Low Severity\"] * len(low_severity_mahalanobis_distances),\n",
    "            [\"Wild Type\"] * len(wt_mahalanobis_distances),\n",
    "        ]\n",
    "    ),\n",
    ")\n",
    "# get the tukeys HSD results as a dataframe\n",
    "tukeys_result_across_genotypes_df = pd.DataFrame(\n",
    "    data=tukeys_result_across_genotypes._results_table.data[1:],\n",
    "    columns=tukeys_result_across_genotypes._results_table.data[0],\n",
    ")\n",
    "tukeys_result_across_genotypes_df"
   ]
  },
  {
   "cell_type": "markdown",
   "id": "08245986",
   "metadata": {
    "papermill": {
     "duration": 0.027519,
     "end_time": "2024-05-10T20:18:17.867192",
     "exception": false,
     "start_time": "2024-05-10T20:18:17.839673",
     "status": "completed"
    },
    "tags": []
   },
   "source": [
    "### write the Mahanobis distance stats to a file"
   ]
  },
  {
   "cell_type": "code",
   "execution_count": 14,
   "id": "df4a29d6",
   "metadata": {
    "execution": {
     "iopub.execute_input": "2024-05-10T20:18:17.919361Z",
     "iopub.status.busy": "2024-05-10T20:18:17.919198Z",
     "iopub.status.idle": "2024-05-10T20:18:17.927041Z",
     "shell.execute_reply": "2024-05-10T20:18:17.926776Z"
    },
    "papermill": {
     "duration": 0.034837,
     "end_time": "2024-05-10T20:18:17.927654",
     "exception": false,
     "start_time": "2024-05-10T20:18:17.892817",
     "status": "completed"
    },
    "tags": []
   },
   "outputs": [
    {
     "data": {
      "text/html": [
       "<div>\n",
       "<style scoped>\n",
       "    .dataframe tbody tr th:only-of-type {\n",
       "        vertical-align: middle;\n",
       "    }\n",
       "\n",
       "    .dataframe tbody tr th {\n",
       "        vertical-align: top;\n",
       "    }\n",
       "\n",
       "    .dataframe thead th {\n",
       "        text-align: right;\n",
       "    }\n",
       "</style>\n",
       "<table border=\"1\" class=\"dataframe\">\n",
       "  <thead>\n",
       "    <tr style=\"text-align: right;\">\n",
       "      <th></th>\n",
       "      <th>Genotype</th>\n",
       "      <th>Actual Mean Mahalanobis Distance</th>\n",
       "      <th>Sampled Mean Mahalanobis Distance</th>\n",
       "      <th>p-Value for Actual compared to sampled</th>\n",
       "      <th>ANOVA Compared to High-Severity p-adj</th>\n",
       "      <th>ANOVA Compared to Low-Severity p-adj</th>\n",
       "      <th>ANOVA Compared to Wild Type p-adj</th>\n",
       "    </tr>\n",
       "  </thead>\n",
       "  <tbody>\n",
       "    <tr>\n",
       "      <th>0</th>\n",
       "      <td>High-Severity</td>\n",
       "      <td>7.874466</td>\n",
       "      <td>9.133822</td>\n",
       "      <td>1.108436e-35</td>\n",
       "      <td>NA</td>\n",
       "      <td>0.1468</td>\n",
       "      <td>0.0003</td>\n",
       "    </tr>\n",
       "    <tr>\n",
       "      <th>1</th>\n",
       "      <td>Low-Severity</td>\n",
       "      <td>6.549257</td>\n",
       "      <td>9.133719</td>\n",
       "      <td>1.546956e-109</td>\n",
       "      <td>0.1468</td>\n",
       "      <td>NA</td>\n",
       "      <td>0.0</td>\n",
       "    </tr>\n",
       "    <tr>\n",
       "      <th>2</th>\n",
       "      <td>Wild Type</td>\n",
       "      <td>10.910407</td>\n",
       "      <td>9.133772</td>\n",
       "      <td>2.181364e-28</td>\n",
       "      <td>0.0003</td>\n",
       "      <td>0.0</td>\n",
       "      <td>NA</td>\n",
       "    </tr>\n",
       "  </tbody>\n",
       "</table>\n",
       "</div>"
      ],
      "text/plain": [
       "        Genotype  Actual Mean Mahalanobis Distance  \\\n",
       "0  High-Severity                          7.874466   \n",
       "1   Low-Severity                          6.549257   \n",
       "2      Wild Type                         10.910407   \n",
       "\n",
       "   Sampled Mean Mahalanobis Distance  p-Value for Actual compared to sampled  \\\n",
       "0                           9.133822                            1.108436e-35   \n",
       "1                           9.133719                           1.546956e-109   \n",
       "2                           9.133772                            2.181364e-28   \n",
       "\n",
       "  ANOVA Compared to High-Severity p-adj ANOVA Compared to Low-Severity p-adj  \\\n",
       "0                                    NA                               0.1468   \n",
       "1                                0.1468                                   NA   \n",
       "2                                0.0003                                  0.0   \n",
       "\n",
       "  ANOVA Compared to Wild Type p-adj  \n",
       "0                            0.0003  \n",
       "1                               0.0  \n",
       "2                                NA  "
      ]
     },
     "execution_count": 14,
     "metadata": {},
     "output_type": "execute_result"
    }
   ],
   "source": [
    "# set the output dir\n",
    "mahalanobis_output_dir = pathlib.Path(\"../results/sum_aggregated_results/\").resolve()\n",
    "# make the dir if it does not exist\n",
    "mahalanobis_output_dir.mkdir(parents=True, exist_ok=True)\n",
    "\n",
    "# define the output file path\n",
    "mahalanobis_output_file_path = pathlib.Path(\n",
    "    mahalanobis_output_dir / \"sum_aggregated_mahalanobis_distance_results.csv\"\n",
    ").resolve()\n",
    "\n",
    "# compile the results into a df\n",
    "mahalanobis_results_df = pd.DataFrame(\n",
    "    {\n",
    "        \"Genotype\": [\"High-Severity\", \"Low-Severity\", \"Wild Type\"],\n",
    "        \"Actual Mean Mahalanobis Distance\": [\n",
    "            mean_high_severity_mahalanobis_distance,\n",
    "            mean_low_severity_mahalanobis_distance,\n",
    "            mean_wt_mahalanobis_distance,\n",
    "        ],\n",
    "        \"Sampled Mean Mahalanobis Distance\": [\n",
    "            np.mean(mean_high_severity_sampled_mahalanobis_distances_from_trials),\n",
    "            np.mean(mean_low_severity_sampled_mahalanobis_distances_from_trials),\n",
    "            np.mean(mean_wt_sampled_mahalanobis_distances_from_trials),\n",
    "        ],\n",
    "        \"p-Value for Actual compared to sampled\": [\n",
    "            high_severity_p_value,\n",
    "            low_severity_p_value,\n",
    "            wt_p_value,\n",
    "        ],\n",
    "        \"ANOVA Compared to High-Severity p-adj\": [\n",
    "            \"NA\",\n",
    "            tukeys_result_across_genotypes_df.loc[0, \"p-adj\"],\n",
    "            tukeys_result_across_genotypes_df.loc[1, \"p-adj\"],\n",
    "        ],\n",
    "        \"ANOVA Compared to Low-Severity p-adj\": [\n",
    "            tukeys_result_across_genotypes_df.loc[0, \"p-adj\"],\n",
    "            \"NA\",\n",
    "            tukeys_result_across_genotypes_df.loc[2, \"p-adj\"],\n",
    "        ],\n",
    "        \"ANOVA Compared to Wild Type p-adj\": [\n",
    "            tukeys_result_across_genotypes_df.loc[1, \"p-adj\"],\n",
    "            tukeys_result_across_genotypes_df.loc[2, \"p-adj\"],\n",
    "            \"NA\",\n",
    "        ],\n",
    "    }\n",
    ")\n",
    "mahalanobis_results_df"
   ]
  },
  {
   "cell_type": "code",
   "execution_count": 15,
   "id": "6c350c37",
   "metadata": {
    "execution": {
     "iopub.execute_input": "2024-05-10T20:18:17.979286Z",
     "iopub.status.busy": "2024-05-10T20:18:17.979157Z",
     "iopub.status.idle": "2024-05-10T20:18:17.982450Z",
     "shell.execute_reply": "2024-05-10T20:18:17.982056Z"
    },
    "papermill": {
     "duration": 0.030121,
     "end_time": "2024-05-10T20:18:17.983333",
     "exception": false,
     "start_time": "2024-05-10T20:18:17.953212",
     "status": "completed"
    },
    "tags": []
   },
   "outputs": [],
   "source": [
    "# output the results\n",
    "mahalanobis_results_df.to_csv(mahalanobis_output_file_path, index=False)"
   ]
  },
  {
   "cell_type": "markdown",
   "id": "a3564a28",
   "metadata": {
    "papermill": {
     "duration": 0.027925,
     "end_time": "2024-05-10T20:18:18.037108",
     "exception": false,
     "start_time": "2024-05-10T20:18:18.009183",
     "status": "completed"
    },
    "tags": []
   },
   "source": [
    "#### Visualization of the last trial's sampled points"
   ]
  },
  {
   "cell_type": "code",
   "execution_count": 16,
   "id": "a84237a3",
   "metadata": {
    "execution": {
     "iopub.execute_input": "2024-05-10T20:18:18.089442Z",
     "iopub.status.busy": "2024-05-10T20:18:18.089007Z",
     "iopub.status.idle": "2024-05-10T20:18:18.312175Z",
     "shell.execute_reply": "2024-05-10T20:18:18.311817Z"
    },
    "papermill": {
     "duration": 0.250238,
     "end_time": "2024-05-10T20:18:18.312971",
     "exception": false,
     "start_time": "2024-05-10T20:18:18.062733",
     "status": "completed"
    },
    "tags": []
   },
   "outputs": [
    {
     "data": {
      "image/png": "[encoded data removed]",
      "text/plain": [
       "<Figure size 1000x500 with 2 Axes>"
      ]
     },
     "metadata": {},
     "output_type": "display_data"
    }
   ],
   "source": [
    "# annotate the genotypes of the sampled points\n",
    "high_severity_sampled_points[\"Metadata_genotype\"] = \"High-Severity\"\n",
    "low_severity_sampled_points[\"Metadata_genotype\"] = \"Mid-Severity\"\n",
    "wt_sampled_points[\"Metadata_genotype\"] = \"Wild Type\"\n",
    "# concat the genotype sampled points\n",
    "sampled_points = pd.concat(\n",
    "    [wt_sampled_points, low_severity_sampled_points, high_severity_sampled_points]\n",
    ")\n",
    "\n",
    "# plot the first 2 PCA components from the actual data\n",
    "# set up subplots\n",
    "plt.figure(figsize=(10, 5))\n",
    "# subplot 1\n",
    "plt.subplot(1, 2, 1)\n",
    "sns.scatterplot(\n",
    "    x=\"PC1\",\n",
    "    y=\"PC2\",\n",
    "    data=sum_aggregated_data_pca,\n",
    "    hue=\"Metadata_genotype\",\n",
    "    alpha=0.5,\n",
    ")\n",
    "plt.title(\"Real PCA\")\n",
    "\n",
    "# plot the first 2 PCA components from the sampled data\n",
    "# subplot 2\n",
    "plt.subplot(1, 2, 2)\n",
    "sns.scatterplot(\n",
    "    x=\"PC1\",\n",
    "    y=\"PC2\",\n",
    "    data=sampled_points,\n",
    "    hue=\"Metadata_genotype\",\n",
    "    alpha=0.5,\n",
    ")\n",
    "plt.title(\"Sampled PCA\")\n",
    "plt.show()"
   ]
  }
 ],
 "metadata": {
  "kernelspec": {
   "display_name": "op_cell_processing_env",
   "language": "python",
   "name": "python3"
  },
  "language_info": {
   "codemirror_mode": {
    "name": "ipython",
    "version": 3
   },
   "file_extension": ".py",
   "mimetype": "text/x-python",
   "name": "python",
   "nbconvert_exporter": "python",
   "pygments_lexer": "ipython3",
   "version": "3.8.15"
  },
  "papermill": {
   "default_parameters": {},
   "duration": 151.006835,
   "end_time": "2024-05-10T20:18:18.555550",
   "environment_variables": {},
   "exception": null,
   "input_path": "8b.sum_aggregated_PCA_calculate_mahalanobis_distance.ipynb",
   "output_path": "8b.sum_aggregated_PCA_calculate_mahalanobis_distance.ipynb",
   "parameters": {},
   "start_time": "2024-05-10T20:15:47.548715",
   "version": "2.6.0"
  }
 },
 "nbformat": 4,
 "nbformat_minor": 5
}
