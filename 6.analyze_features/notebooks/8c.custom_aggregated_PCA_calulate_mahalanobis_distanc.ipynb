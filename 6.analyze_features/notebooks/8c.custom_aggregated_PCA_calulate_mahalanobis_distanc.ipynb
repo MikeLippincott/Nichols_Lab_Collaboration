{
 "cells": [
  {
   "cell_type": "markdown",
   "id": "9b0358d1",
   "metadata": {
    "papermill": {
     "duration": 0.002745,
     "end_time": "2024-05-07T17:58:19.488316",
     "exception": false,
     "start_time": "2024-05-07T17:58:19.485571",
     "status": "completed"
    },
    "tags": []
   },
   "source": [
    "This notebooke calculates the mahalnobis distance between points on a pca. \n",
    "I will document more about what mahalnobis distance is and how it is calculated in this notebook."
   ]
  },
  {
   "cell_type": "code",
   "execution_count": 1,
   "id": "b0afd757",
   "metadata": {
    "execution": {
     "iopub.execute_input": "2024-05-07T17:58:19.492376Z",
     "iopub.status.busy": "2024-05-07T17:58:19.491872Z",
     "iopub.status.idle": "2024-05-07T17:58:19.712960Z",
     "shell.execute_reply": "2024-05-07T17:58:19.712195Z"
    },
    "papermill": {
     "duration": 0.225116,
     "end_time": "2024-05-07T17:58:19.714768",
     "exception": false,
     "start_time": "2024-05-07T17:58:19.489652",
     "status": "completed"
    },
    "tags": []
   },
   "outputs": [],
   "source": [
    "import itertools\n",
    "import pathlib\n",
    "\n",
    "import numpy as np\n",
    "import pandas as pd\n",
    "from scipy.spatial.distance import mahalanobis"
   ]
  },
  {
   "cell_type": "code",
   "execution_count": 2,
   "id": "d9fcd714",
   "metadata": {
    "execution": {
     "iopub.execute_input": "2024-05-07T17:58:19.719021Z",
     "iopub.status.busy": "2024-05-07T17:58:19.718599Z",
     "iopub.status.idle": "2024-05-07T17:58:19.742932Z",
     "shell.execute_reply": "2024-05-07T17:58:19.742589Z"
    },
    "papermill": {
     "duration": 0.027467,
     "end_time": "2024-05-07T17:58:19.743884",
     "exception": false,
     "start_time": "2024-05-07T17:58:19.716417",
     "status": "completed"
    },
    "tags": []
   },
   "outputs": [
    {
     "name": "stdout",
     "output_type": "stream",
     "text": [
      "(42, 44)\n"
     ]
    },
    {
     "data": {
      "text/html": [
       "<div>\n",
       "<style scoped>\n",
       "    .dataframe tbody tr th:only-of-type {\n",
       "        vertical-align: middle;\n",
       "    }\n",
       "\n",
       "    .dataframe tbody tr th {\n",
       "        vertical-align: top;\n",
       "    }\n",
       "\n",
       "    .dataframe thead th {\n",
       "        text-align: right;\n",
       "    }\n",
       "</style>\n",
       "<table border=\"1\" class=\"dataframe\">\n",
       "  <thead>\n",
       "    <tr style=\"text-align: right;\">\n",
       "      <th></th>\n",
       "      <th>Metadata_genotype</th>\n",
       "      <th>Metadata_replicate</th>\n",
       "      <th>PC1</th>\n",
       "      <th>PC2</th>\n",
       "      <th>PC3</th>\n",
       "      <th>PC4</th>\n",
       "      <th>PC5</th>\n",
       "      <th>PC6</th>\n",
       "      <th>PC7</th>\n",
       "      <th>PC8</th>\n",
       "      <th>...</th>\n",
       "      <th>PC33</th>\n",
       "      <th>PC34</th>\n",
       "      <th>PC35</th>\n",
       "      <th>PC36</th>\n",
       "      <th>PC37</th>\n",
       "      <th>PC38</th>\n",
       "      <th>PC39</th>\n",
       "      <th>PC40</th>\n",
       "      <th>PC41</th>\n",
       "      <th>PC42</th>\n",
       "    </tr>\n",
       "  </thead>\n",
       "  <tbody>\n",
       "    <tr>\n",
       "      <th>0</th>\n",
       "      <td>High-Severity</td>\n",
       "      <td>1</td>\n",
       "      <td>-3.551833</td>\n",
       "      <td>1.694277</td>\n",
       "      <td>-1.057982</td>\n",
       "      <td>2.024396</td>\n",
       "      <td>-1.992981</td>\n",
       "      <td>0.695951</td>\n",
       "      <td>-2.506637</td>\n",
       "      <td>2.653554</td>\n",
       "      <td>...</td>\n",
       "      <td>-0.711233</td>\n",
       "      <td>-0.716861</td>\n",
       "      <td>2.068996</td>\n",
       "      <td>0.040072</td>\n",
       "      <td>0.386843</td>\n",
       "      <td>-0.791818</td>\n",
       "      <td>-0.132255</td>\n",
       "      <td>-0.097829</td>\n",
       "      <td>0.111679</td>\n",
       "      <td>-3.330669e-16</td>\n",
       "    </tr>\n",
       "    <tr>\n",
       "      <th>1</th>\n",
       "      <td>High-Severity</td>\n",
       "      <td>10</td>\n",
       "      <td>1.827234</td>\n",
       "      <td>9.854972</td>\n",
       "      <td>-3.656266</td>\n",
       "      <td>0.545399</td>\n",
       "      <td>0.556947</td>\n",
       "      <td>-3.294476</td>\n",
       "      <td>2.113450</td>\n",
       "      <td>-3.151756</td>\n",
       "      <td>...</td>\n",
       "      <td>-1.304867</td>\n",
       "      <td>-0.065046</td>\n",
       "      <td>0.669520</td>\n",
       "      <td>1.349892</td>\n",
       "      <td>0.039934</td>\n",
       "      <td>0.822436</td>\n",
       "      <td>-0.111957</td>\n",
       "      <td>0.414218</td>\n",
       "      <td>-0.206628</td>\n",
       "      <td>3.885781e-16</td>\n",
       "    </tr>\n",
       "    <tr>\n",
       "      <th>2</th>\n",
       "      <td>High-Severity</td>\n",
       "      <td>11</td>\n",
       "      <td>1.158860</td>\n",
       "      <td>11.349311</td>\n",
       "      <td>-1.585346</td>\n",
       "      <td>1.226329</td>\n",
       "      <td>-0.066575</td>\n",
       "      <td>0.671744</td>\n",
       "      <td>-2.975858</td>\n",
       "      <td>0.621060</td>\n",
       "      <td>...</td>\n",
       "      <td>0.368013</td>\n",
       "      <td>0.326056</td>\n",
       "      <td>-0.263525</td>\n",
       "      <td>-0.587959</td>\n",
       "      <td>0.027409</td>\n",
       "      <td>0.277153</td>\n",
       "      <td>-0.034362</td>\n",
       "      <td>-0.509301</td>\n",
       "      <td>-0.008851</td>\n",
       "      <td>0.000000e+00</td>\n",
       "    </tr>\n",
       "    <tr>\n",
       "      <th>3</th>\n",
       "      <td>High-Severity</td>\n",
       "      <td>12</td>\n",
       "      <td>-0.828966</td>\n",
       "      <td>7.901018</td>\n",
       "      <td>-3.988059</td>\n",
       "      <td>0.299961</td>\n",
       "      <td>1.412112</td>\n",
       "      <td>-3.638621</td>\n",
       "      <td>1.544118</td>\n",
       "      <td>0.413128</td>\n",
       "      <td>...</td>\n",
       "      <td>-0.420249</td>\n",
       "      <td>-1.959935</td>\n",
       "      <td>-0.644047</td>\n",
       "      <td>-1.414765</td>\n",
       "      <td>-0.877326</td>\n",
       "      <td>0.228329</td>\n",
       "      <td>0.235810</td>\n",
       "      <td>-1.171712</td>\n",
       "      <td>-0.368368</td>\n",
       "      <td>8.881784e-16</td>\n",
       "    </tr>\n",
       "    <tr>\n",
       "      <th>4</th>\n",
       "      <td>High-Severity</td>\n",
       "      <td>13</td>\n",
       "      <td>-1.699153</td>\n",
       "      <td>6.732809</td>\n",
       "      <td>-4.781742</td>\n",
       "      <td>-1.817189</td>\n",
       "      <td>2.407081</td>\n",
       "      <td>-4.115382</td>\n",
       "      <td>-0.429398</td>\n",
       "      <td>3.768067</td>\n",
       "      <td>...</td>\n",
       "      <td>-0.516264</td>\n",
       "      <td>0.301774</td>\n",
       "      <td>-0.060486</td>\n",
       "      <td>1.099896</td>\n",
       "      <td>1.179970</td>\n",
       "      <td>-0.913995</td>\n",
       "      <td>0.457430</td>\n",
       "      <td>0.465218</td>\n",
       "      <td>-0.151247</td>\n",
       "      <td>-4.996004e-16</td>\n",
       "    </tr>\n",
       "  </tbody>\n",
       "</table>\n",
       "<p>5 rows × 44 columns</p>\n",
       "</div>"
      ],
      "text/plain": [
       "  Metadata_genotype Metadata_replicate       PC1        PC2       PC3  \\\n",
       "0     High-Severity                  1 -3.551833   1.694277 -1.057982   \n",
       "1     High-Severity                 10  1.827234   9.854972 -3.656266   \n",
       "2     High-Severity                 11  1.158860  11.349311 -1.585346   \n",
       "3     High-Severity                 12 -0.828966   7.901018 -3.988059   \n",
       "4     High-Severity                 13 -1.699153   6.732809 -4.781742   \n",
       "\n",
       "        PC4       PC5       PC6       PC7       PC8  ...      PC33      PC34  \\\n",
       "0  2.024396 -1.992981  0.695951 -2.506637  2.653554  ... -0.711233 -0.716861   \n",
       "1  0.545399  0.556947 -3.294476  2.113450 -3.151756  ... -1.304867 -0.065046   \n",
       "2  1.226329 -0.066575  0.671744 -2.975858  0.621060  ...  0.368013  0.326056   \n",
       "3  0.299961  1.412112 -3.638621  1.544118  0.413128  ... -0.420249 -1.959935   \n",
       "4 -1.817189  2.407081 -4.115382 -0.429398  3.768067  ... -0.516264  0.301774   \n",
       "\n",
       "       PC35      PC36      PC37      PC38      PC39      PC40      PC41  \\\n",
       "0  2.068996  0.040072  0.386843 -0.791818 -0.132255 -0.097829  0.111679   \n",
       "1  0.669520  1.349892  0.039934  0.822436 -0.111957  0.414218 -0.206628   \n",
       "2 -0.263525 -0.587959  0.027409  0.277153 -0.034362 -0.509301 -0.008851   \n",
       "3 -0.644047 -1.414765 -0.877326  0.228329  0.235810 -1.171712 -0.368368   \n",
       "4 -0.060486  1.099896  1.179970 -0.913995  0.457430  0.465218 -0.151247   \n",
       "\n",
       "           PC42  \n",
       "0 -3.330669e-16  \n",
       "1  3.885781e-16  \n",
       "2  0.000000e+00  \n",
       "3  8.881784e-16  \n",
       "4 -4.996004e-16  \n",
       "\n",
       "[5 rows x 44 columns]"
      ]
     },
     "execution_count": 2,
     "metadata": {},
     "output_type": "execute_result"
    }
   ],
   "source": [
    "# set the path to the data\n",
    "custom_aggregated_data_pca_path = pathlib.Path(\n",
    "    \"../../data/6.analysis_results/custom_aggregated_pca.parquet\"\n",
    ").resolve(strict=True)\n",
    "\n",
    "# read the data\n",
    "custom_aggregated_data_pca = pd.read_parquet(custom_aggregated_data_pca_path)\n",
    "print(custom_aggregated_data_pca.shape)\n",
    "custom_aggregated_data_pca.head()"
   ]
  },
  {
   "cell_type": "markdown",
   "id": "952b6c21",
   "metadata": {
    "papermill": {
     "duration": 0.001634,
     "end_time": "2024-05-07T17:58:19.747750",
     "exception": false,
     "start_time": "2024-05-07T17:58:19.746116",
     "status": "completed"
    },
    "tags": []
   },
   "source": [
    "# Mahalanobis Distance\n",
    "For more in depth information on Mahalanobis distance, please refer to this [link](https://medium.com/@the_daft_introvert/mahalanobis-distance-5c11a757b099).\n",
    "Mahalanobis distance is a measure of the distance between a point P and a distribution D. \n",
    "It is a multi-dimensional generalization of the idea of measuring how many standard deviations away P is from the mean of D. \n",
    "This distance is zero if P is at the mean of D, and grows as P moves away from the mean along each principal component axis.\n",
    "The formula for Mahalanobis distance is given by:\n",
    "### $D^2 = (x - \\mu)^T \\Sigma^{-1} (x - \\mu)$\n",
    "where:\n",
    "- $D$ is the Mahalanobis distance"
   ]
  },
  {
   "cell_type": "markdown",
   "id": "7ddfc8c9",
   "metadata": {
    "papermill": {
     "duration": 0.001728,
     "end_time": "2024-05-07T17:58:19.751066",
     "exception": false,
     "start_time": "2024-05-07T17:58:19.749338",
     "status": "completed"
    },
    "tags": []
   },
   "source": [
    "## Caluclating Mahalanobis Distance on PCA components 1 and 2\n",
    "Here I calculate the Mahalanobis distance between the points on the first two principal components of the data for each of the three genotypes."
   ]
  },
  {
   "cell_type": "code",
   "execution_count": 3,
   "id": "f2e9c476",
   "metadata": {
    "execution": {
     "iopub.execute_input": "2024-05-07T17:58:19.755530Z",
     "iopub.status.busy": "2024-05-07T17:58:19.755115Z",
     "iopub.status.idle": "2024-05-07T17:58:19.758670Z",
     "shell.execute_reply": "2024-05-07T17:58:19.758344Z"
    },
    "papermill": {
     "duration": 0.006934,
     "end_time": "2024-05-07T17:58:19.759504",
     "exception": false,
     "start_time": "2024-05-07T17:58:19.752570",
     "status": "completed"
    },
    "tags": []
   },
   "outputs": [
    {
     "name": "stdout",
     "output_type": "stream",
     "text": [
      "14 14 14\n"
     ]
    }
   ],
   "source": [
    "# split the genotypes\n",
    "high_severity = custom_aggregated_data_pca[\n",
    "    custom_aggregated_data_pca[\"Metadata_genotype\"] == \"High-Severity\"\n",
    "]\n",
    "low_severity = custom_aggregated_data_pca[\n",
    "    custom_aggregated_data_pca[\"Metadata_genotype\"] == \"Mid-Severity\"\n",
    "]\n",
    "wt = custom_aggregated_data_pca[\n",
    "    custom_aggregated_data_pca[\"Metadata_genotype\"] == \"Wild Type\"\n",
    "]\n",
    "print(len(high_severity), len(low_severity), len(wt))"
   ]
  },
  {
   "cell_type": "code",
   "execution_count": 4,
   "id": "b69530c4",
   "metadata": {
    "execution": {
     "iopub.execute_input": "2024-05-07T17:58:19.764387Z",
     "iopub.status.busy": "2024-05-07T17:58:19.763996Z",
     "iopub.status.idle": "2024-05-07T17:58:19.767596Z",
     "shell.execute_reply": "2024-05-07T17:58:19.767268Z"
    },
    "papermill": {
     "duration": 0.007227,
     "end_time": "2024-05-07T17:58:19.768429",
     "exception": false,
     "start_time": "2024-05-07T17:58:19.761202",
     "status": "completed"
    },
    "tags": []
   },
   "outputs": [
    {
     "name": "stdout",
     "output_type": "stream",
     "text": [
      "(14, 42) (14, 42) (14, 42)\n"
     ]
    }
   ],
   "source": [
    "# drop the the Metadata columns\n",
    "high_severity = high_severity.drop(columns=[\"Metadata_genotype\", \"Metadata_replicate\"])\n",
    "low_severity = low_severity.drop(columns=[\"Metadata_genotype\", \"Metadata_replicate\"])\n",
    "wt = wt.drop(columns=[\"Metadata_genotype\", \"Metadata_replicate\"])\n",
    "# convert the df to coordinates\n",
    "high_severity_coords = high_severity.to_numpy()\n",
    "low_severity_coords = low_severity.to_numpy()\n",
    "wt_coords = wt.to_numpy()\n",
    "print(high_severity_coords.shape, low_severity_coords.shape, wt_coords.shape)"
   ]
  },
  {
   "cell_type": "markdown",
   "id": "f7b9578f",
   "metadata": {
    "papermill": {
     "duration": 0.001744,
     "end_time": "2024-05-07T17:58:19.771981",
     "exception": false,
     "start_time": "2024-05-07T17:58:19.770237",
     "status": "completed"
    },
    "tags": []
   },
   "source": [
    "#### High-Severity"
   ]
  },
  {
   "cell_type": "code",
   "execution_count": 5,
   "id": "2b763ad2",
   "metadata": {
    "execution": {
     "iopub.execute_input": "2024-05-07T17:58:19.776497Z",
     "iopub.status.busy": "2024-05-07T17:58:19.776109Z",
     "iopub.status.idle": "2024-05-07T17:58:19.781227Z",
     "shell.execute_reply": "2024-05-07T17:58:19.780751Z"
    },
    "papermill": {
     "duration": 0.008394,
     "end_time": "2024-05-07T17:58:19.782201",
     "exception": false,
     "start_time": "2024-05-07T17:58:19.773807",
     "status": "completed"
    },
    "tags": []
   },
   "outputs": [
    {
     "name": "stdout",
     "output_type": "stream",
     "text": [
      "The mean mahalanobis distance for the High-Severity genotype is 10.430999188235175\n"
     ]
    },
    {
     "name": "stderr",
     "output_type": "stream",
     "text": [
      "/home/lippincm/miniconda3/envs/op_cell_processing_env/lib/python3.8/site-packages/scipy/spatial/distance.py:1064: RuntimeWarning: invalid value encountered in sqrt\n",
      "  return np.sqrt(m)\n"
     ]
    }
   ],
   "source": [
    "# define the mean and the inverse covariance matrix needed for the mahalanobis distance calculation\n",
    "cov_matrix = np.cov(high_severity_coords, rowvar=False)\n",
    "inv_cov_matrix = np.linalg.inv(cov_matrix)  # Use pseudo-inverse instead of inverse\n",
    "# calculate the mahalanobis distance for each point within each genotype\n",
    "high_severity_mahalanobis_distances = []\n",
    "# calculate the mahalanobis distance for each point combination\n",
    "for point in itertools.combinations(high_severity_coords, 2):\n",
    "    distance = mahalanobis(point[0], point[1], inv_cov_matrix)\n",
    "    if np.isnan(distance):  # Check for NaN values\n",
    "        continue\n",
    "    high_severity_mahalanobis_distances.append(distance)\n",
    "mean_high_severity_mahalanobis_distance = np.mean(high_severity_mahalanobis_distances)\n",
    "print(\n",
    "    f\"The mean mahalanobis distance for the High-Severity genotype is {mean_high_severity_mahalanobis_distance}\"\n",
    ")"
   ]
  },
  {
   "cell_type": "markdown",
   "id": "50f6a1c1",
   "metadata": {
    "papermill": {
     "duration": 0.002223,
     "end_time": "2024-05-07T17:58:19.786697",
     "exception": false,
     "start_time": "2024-05-07T17:58:19.784474",
     "status": "completed"
    },
    "tags": []
   },
   "source": [
    "#### Low-Severity"
   ]
  },
  {
   "cell_type": "code",
   "execution_count": 6,
   "id": "03694ed3",
   "metadata": {
    "execution": {
     "iopub.execute_input": "2024-05-07T17:58:19.792061Z",
     "iopub.status.busy": "2024-05-07T17:58:19.791911Z",
     "iopub.status.idle": "2024-05-07T17:58:19.796531Z",
     "shell.execute_reply": "2024-05-07T17:58:19.796175Z"
    },
    "papermill": {
     "duration": 0.008408,
     "end_time": "2024-05-07T17:58:19.797527",
     "exception": false,
     "start_time": "2024-05-07T17:58:19.789119",
     "status": "completed"
    },
    "tags": []
   },
   "outputs": [
    {
     "name": "stdout",
     "output_type": "stream",
     "text": [
      "The mean mahalanobis distance for the low-Severity genotype is 5.312897445636516\n"
     ]
    }
   ],
   "source": [
    "# define the mean and the inverse covariance matrix needed for the mahalanobis distance calculation\n",
    "cov_matrix = np.cov(low_severity_coords, rowvar=False)\n",
    "inv_cov_matrix = np.linalg.inv(cov_matrix)  # Use pseudo-inverse instead of inverse\n",
    "# calculate the mahalanobis distance for each point within each genotype\n",
    "low_severity_mahalanobis_distances = []\n",
    "# calculate the mahalanobis distance for each point\n",
    "for point in itertools.combinations(low_severity_coords, 2):\n",
    "    distance = mahalanobis(point[0], point[1], inv_cov_matrix)\n",
    "    if np.isnan(distance):  # Check for NaN values\n",
    "        continue\n",
    "    low_severity_mahalanobis_distances.append(distance)\n",
    "mean_low_severity_mahalanobis_distance = np.mean(low_severity_mahalanobis_distances)\n",
    "print(\n",
    "    f\"The mean mahalanobis distance for the low-Severity genotype is {mean_low_severity_mahalanobis_distance}\"\n",
    ")"
   ]
  },
  {
   "cell_type": "markdown",
   "id": "3c7f62c6",
   "metadata": {
    "papermill": {
     "duration": 0.002601,
     "end_time": "2024-05-07T17:58:19.802838",
     "exception": false,
     "start_time": "2024-05-07T17:58:19.800237",
     "status": "completed"
    },
    "tags": []
   },
   "source": [
    "#### Wild Type"
   ]
  },
  {
   "cell_type": "code",
   "execution_count": 7,
   "id": "fa307b29",
   "metadata": {
    "execution": {
     "iopub.execute_input": "2024-05-07T17:58:19.808900Z",
     "iopub.status.busy": "2024-05-07T17:58:19.808640Z",
     "iopub.status.idle": "2024-05-07T17:58:19.816479Z",
     "shell.execute_reply": "2024-05-07T17:58:19.816112Z"
    },
    "papermill": {
     "duration": 0.011975,
     "end_time": "2024-05-07T17:58:19.817451",
     "exception": false,
     "start_time": "2024-05-07T17:58:19.805476",
     "status": "completed"
    },
    "tags": []
   },
   "outputs": [
    {
     "name": "stdout",
     "output_type": "stream",
     "text": [
      "The mean mahalanobis distance for the Wild Type genotype is 13.130021647019115\n"
     ]
    }
   ],
   "source": [
    "# define the mean and the inverse covariance matrix needed for the mahalanobis distance calculation\n",
    "cov_matrix = np.cov(wt_coords, rowvar=False)\n",
    "inv_cov_matrix = np.linalg.inv(cov_matrix)  # Use pseudo-inverse instead of inverse\n",
    "# calculate the mahalanobis distance for each point within each genotype\n",
    "wt_mahalanobis_distances = []\n",
    "# calculate the mahalanobis distance for each point\n",
    "for point in itertools.combinations(wt_coords, 2):\n",
    "    distance = mahalanobis(point[0], point[1], inv_cov_matrix)\n",
    "    if np.isnan(distance):  # Check for NaN values\n",
    "        continue\n",
    "    wt_mahalanobis_distances.append(distance)\n",
    "mean_wt_mahalanobis_distance = np.mean(wt_mahalanobis_distances)\n",
    "print(\n",
    "    f\"The mean mahalanobis distance for the Wild Type genotype is {mean_wt_mahalanobis_distance}\"\n",
    ")"
   ]
  }
 ],
 "metadata": {
  "kernelspec": {
   "display_name": "op_cell_processing_env",
   "language": "python",
   "name": "python3"
  },
  "language_info": {
   "codemirror_mode": {
    "name": "ipython",
    "version": 3
   },
   "file_extension": ".py",
   "mimetype": "text/x-python",
   "name": "python",
   "nbconvert_exporter": "python",
   "pygments_lexer": "ipython3",
   "version": "3.8.15"
  },
  "papermill": {
   "default_parameters": {},
   "duration": 1.274713,
   "end_time": "2024-05-07T17:58:20.036707",
   "environment_variables": {},
   "exception": null,
   "input_path": "8c.custom_aggregated_PCA_calulate_mahalanobis_distanc.ipynb",
   "output_path": "8c.custom_aggregated_PCA_calulate_mahalanobis_distanc.ipynb",
   "parameters": {},
   "start_time": "2024-05-07T17:58:18.761994",
   "version": "2.6.0"
  }
 },
 "nbformat": 4,
 "nbformat_minor": 5
}