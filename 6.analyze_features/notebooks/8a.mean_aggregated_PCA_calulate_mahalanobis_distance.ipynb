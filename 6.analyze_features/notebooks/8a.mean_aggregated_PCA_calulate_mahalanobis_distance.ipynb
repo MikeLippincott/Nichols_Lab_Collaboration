{
 "cells": [
  {
   "cell_type": "markdown",
   "id": "ab9209a8",
   "metadata": {
    "papermill": {
     "duration": 0.002569,
     "end_time": "2024-05-07T17:58:16.152879",
     "exception": false,
     "start_time": "2024-05-07T17:58:16.150310",
     "status": "completed"
    },
    "tags": []
   },
   "source": [
    "This notebooke calculates the mahalnobis distance between points on a pca. \n",
    "I will document more about what mahalnobis distance is and how it is calculated in this notebook."
   ]
  },
  {
   "cell_type": "code",
   "execution_count": 1,
   "id": "fb0c127b",
   "metadata": {
    "execution": {
     "iopub.execute_input": "2024-05-07T17:58:16.167557Z",
     "iopub.status.busy": "2024-05-07T17:58:16.167262Z",
     "iopub.status.idle": "2024-05-07T17:58:16.392497Z",
     "shell.execute_reply": "2024-05-07T17:58:16.392149Z"
    },
    "papermill": {
     "duration": 0.228509,
     "end_time": "2024-05-07T17:58:16.393704",
     "exception": false,
     "start_time": "2024-05-07T17:58:16.165195",
     "status": "completed"
    },
    "tags": []
   },
   "outputs": [],
   "source": [
    "import itertools\n",
    "import pathlib\n",
    "\n",
    "import numpy as np\n",
    "import pandas as pd\n",
    "from scipy.spatial.distance import mahalanobis"
   ]
  },
  {
   "cell_type": "code",
   "execution_count": 2,
   "id": "3aaae5dd",
   "metadata": {
    "execution": {
     "iopub.execute_input": "2024-05-07T17:58:16.399441Z",
     "iopub.status.busy": "2024-05-07T17:58:16.399119Z",
     "iopub.status.idle": "2024-05-07T17:58:16.423025Z",
     "shell.execute_reply": "2024-05-07T17:58:16.422759Z"
    },
    "papermill": {
     "duration": 0.028364,
     "end_time": "2024-05-07T17:58:16.423854",
     "exception": false,
     "start_time": "2024-05-07T17:58:16.395490",
     "status": "completed"
    },
    "tags": []
   },
   "outputs": [
    {
     "name": "stdout",
     "output_type": "stream",
     "text": [
      "(42, 44)\n"
     ]
    },
    {
     "data": {
      "text/html": [
       "<div>\n",
       "<style scoped>\n",
       "    .dataframe tbody tr th:only-of-type {\n",
       "        vertical-align: middle;\n",
       "    }\n",
       "\n",
       "    .dataframe tbody tr th {\n",
       "        vertical-align: top;\n",
       "    }\n",
       "\n",
       "    .dataframe thead th {\n",
       "        text-align: right;\n",
       "    }\n",
       "</style>\n",
       "<table border=\"1\" class=\"dataframe\">\n",
       "  <thead>\n",
       "    <tr style=\"text-align: right;\">\n",
       "      <th></th>\n",
       "      <th>Metadata_genotype</th>\n",
       "      <th>Metadata_replicate</th>\n",
       "      <th>PC1</th>\n",
       "      <th>PC2</th>\n",
       "      <th>PC3</th>\n",
       "      <th>PC4</th>\n",
       "      <th>PC5</th>\n",
       "      <th>PC6</th>\n",
       "      <th>PC7</th>\n",
       "      <th>PC8</th>\n",
       "      <th>...</th>\n",
       "      <th>PC33</th>\n",
       "      <th>PC34</th>\n",
       "      <th>PC35</th>\n",
       "      <th>PC36</th>\n",
       "      <th>PC37</th>\n",
       "      <th>PC38</th>\n",
       "      <th>PC39</th>\n",
       "      <th>PC40</th>\n",
       "      <th>PC41</th>\n",
       "      <th>PC42</th>\n",
       "    </tr>\n",
       "  </thead>\n",
       "  <tbody>\n",
       "    <tr>\n",
       "      <th>0</th>\n",
       "      <td>High-Severity</td>\n",
       "      <td>1</td>\n",
       "      <td>-4.463626</td>\n",
       "      <td>0.910478</td>\n",
       "      <td>-0.698875</td>\n",
       "      <td>0.566976</td>\n",
       "      <td>-4.560305</td>\n",
       "      <td>1.056442</td>\n",
       "      <td>-3.650984</td>\n",
       "      <td>0.277872</td>\n",
       "      <td>...</td>\n",
       "      <td>-0.791259</td>\n",
       "      <td>0.726986</td>\n",
       "      <td>0.229071</td>\n",
       "      <td>0.348503</td>\n",
       "      <td>0.634092</td>\n",
       "      <td>-0.438175</td>\n",
       "      <td>-0.376966</td>\n",
       "      <td>-0.014549</td>\n",
       "      <td>0.128560</td>\n",
       "      <td>4.718448e-16</td>\n",
       "    </tr>\n",
       "    <tr>\n",
       "      <th>1</th>\n",
       "      <td>High-Severity</td>\n",
       "      <td>10</td>\n",
       "      <td>-2.844801</td>\n",
       "      <td>-10.602309</td>\n",
       "      <td>-1.757871</td>\n",
       "      <td>3.941683</td>\n",
       "      <td>1.286207</td>\n",
       "      <td>-4.455326</td>\n",
       "      <td>2.564703</td>\n",
       "      <td>0.897907</td>\n",
       "      <td>...</td>\n",
       "      <td>-1.605235</td>\n",
       "      <td>0.672145</td>\n",
       "      <td>-0.103994</td>\n",
       "      <td>0.060747</td>\n",
       "      <td>-0.695912</td>\n",
       "      <td>0.371670</td>\n",
       "      <td>0.119873</td>\n",
       "      <td>0.039883</td>\n",
       "      <td>-0.136164</td>\n",
       "      <td>1.165734e-15</td>\n",
       "    </tr>\n",
       "    <tr>\n",
       "      <th>2</th>\n",
       "      <td>High-Severity</td>\n",
       "      <td>11</td>\n",
       "      <td>-4.548983</td>\n",
       "      <td>-11.578847</td>\n",
       "      <td>-1.552816</td>\n",
       "      <td>0.602868</td>\n",
       "      <td>-1.021713</td>\n",
       "      <td>3.416513</td>\n",
       "      <td>-4.019399</td>\n",
       "      <td>1.244113</td>\n",
       "      <td>...</td>\n",
       "      <td>0.096571</td>\n",
       "      <td>-0.206910</td>\n",
       "      <td>-0.238369</td>\n",
       "      <td>0.315117</td>\n",
       "      <td>0.234600</td>\n",
       "      <td>0.166068</td>\n",
       "      <td>0.286390</td>\n",
       "      <td>-0.320550</td>\n",
       "      <td>0.019834</td>\n",
       "      <td>7.771561e-16</td>\n",
       "    </tr>\n",
       "    <tr>\n",
       "      <th>3</th>\n",
       "      <td>High-Severity</td>\n",
       "      <td>12</td>\n",
       "      <td>-4.829458</td>\n",
       "      <td>-6.870317</td>\n",
       "      <td>-2.042322</td>\n",
       "      <td>4.536371</td>\n",
       "      <td>1.631897</td>\n",
       "      <td>-3.186172</td>\n",
       "      <td>0.149025</td>\n",
       "      <td>-1.399768</td>\n",
       "      <td>...</td>\n",
       "      <td>-0.020746</td>\n",
       "      <td>-1.472248</td>\n",
       "      <td>-0.280689</td>\n",
       "      <td>0.813294</td>\n",
       "      <td>0.319037</td>\n",
       "      <td>-0.640954</td>\n",
       "      <td>0.531615</td>\n",
       "      <td>-0.279482</td>\n",
       "      <td>-0.226789</td>\n",
       "      <td>3.330669e-16</td>\n",
       "    </tr>\n",
       "    <tr>\n",
       "      <th>4</th>\n",
       "      <td>High-Severity</td>\n",
       "      <td>13</td>\n",
       "      <td>-5.480261</td>\n",
       "      <td>-5.080208</td>\n",
       "      <td>-1.322221</td>\n",
       "      <td>6.153281</td>\n",
       "      <td>4.203624</td>\n",
       "      <td>-1.533926</td>\n",
       "      <td>-6.294147</td>\n",
       "      <td>-3.441142</td>\n",
       "      <td>...</td>\n",
       "      <td>-0.359992</td>\n",
       "      <td>0.431652</td>\n",
       "      <td>0.508141</td>\n",
       "      <td>-1.540595</td>\n",
       "      <td>0.355160</td>\n",
       "      <td>0.108158</td>\n",
       "      <td>-0.153803</td>\n",
       "      <td>0.133823</td>\n",
       "      <td>-0.035410</td>\n",
       "      <td>1.554312e-15</td>\n",
       "    </tr>\n",
       "  </tbody>\n",
       "</table>\n",
       "<p>5 rows × 44 columns</p>\n",
       "</div>"
      ],
      "text/plain": [
       "  Metadata_genotype Metadata_replicate       PC1        PC2       PC3  \\\n",
       "0     High-Severity                  1 -4.463626   0.910478 -0.698875   \n",
       "1     High-Severity                 10 -2.844801 -10.602309 -1.757871   \n",
       "2     High-Severity                 11 -4.548983 -11.578847 -1.552816   \n",
       "3     High-Severity                 12 -4.829458  -6.870317 -2.042322   \n",
       "4     High-Severity                 13 -5.480261  -5.080208 -1.322221   \n",
       "\n",
       "        PC4       PC5       PC6       PC7       PC8  ...      PC33      PC34  \\\n",
       "0  0.566976 -4.560305  1.056442 -3.650984  0.277872  ... -0.791259  0.726986   \n",
       "1  3.941683  1.286207 -4.455326  2.564703  0.897907  ... -1.605235  0.672145   \n",
       "2  0.602868 -1.021713  3.416513 -4.019399  1.244113  ...  0.096571 -0.206910   \n",
       "3  4.536371  1.631897 -3.186172  0.149025 -1.399768  ... -0.020746 -1.472248   \n",
       "4  6.153281  4.203624 -1.533926 -6.294147 -3.441142  ... -0.359992  0.431652   \n",
       "\n",
       "       PC35      PC36      PC37      PC38      PC39      PC40      PC41  \\\n",
       "0  0.229071  0.348503  0.634092 -0.438175 -0.376966 -0.014549  0.128560   \n",
       "1 -0.103994  0.060747 -0.695912  0.371670  0.119873  0.039883 -0.136164   \n",
       "2 -0.238369  0.315117  0.234600  0.166068  0.286390 -0.320550  0.019834   \n",
       "3 -0.280689  0.813294  0.319037 -0.640954  0.531615 -0.279482 -0.226789   \n",
       "4  0.508141 -1.540595  0.355160  0.108158 -0.153803  0.133823 -0.035410   \n",
       "\n",
       "           PC42  \n",
       "0  4.718448e-16  \n",
       "1  1.165734e-15  \n",
       "2  7.771561e-16  \n",
       "3  3.330669e-16  \n",
       "4  1.554312e-15  \n",
       "\n",
       "[5 rows x 44 columns]"
      ]
     },
     "execution_count": 2,
     "metadata": {},
     "output_type": "execute_result"
    }
   ],
   "source": [
    "# set the path to the data\n",
    "mean_aggregated_data_pca_path = pathlib.Path(\n",
    "    \"../../data/6.analysis_results/mean_aggregated_pca.parquet\"\n",
    ").resolve(strict=True)\n",
    "\n",
    "# read the data\n",
    "mean_aggregated_data_pca = pd.read_parquet(mean_aggregated_data_pca_path)\n",
    "print(mean_aggregated_data_pca.shape)\n",
    "mean_aggregated_data_pca.head()"
   ]
  },
  {
   "cell_type": "markdown",
   "id": "259d51ba",
   "metadata": {
    "papermill": {
     "duration": 0.001233,
     "end_time": "2024-05-07T17:58:16.426704",
     "exception": false,
     "start_time": "2024-05-07T17:58:16.425471",
     "status": "completed"
    },
    "tags": []
   },
   "source": [
    "# Mahalanobis Distance\n",
    "For more in depth information on Mahalanobis distance, please refer to this [link](https://medium.com/@the_daft_introvert/mahalanobis-distance-5c11a757b099).\n",
    "Mahalanobis distance is a measure of the distance between a point P and a distribution D. \n",
    "It is a multi-dimensional generalization of the idea of measuring how many standard deviations away P is from the mean of D. \n",
    "This distance is zero if P is at the mean of D, and grows as P moves away from the mean along each principal component axis.\n",
    "The formula for Mahalanobis distance is given by:\n",
    "### $D^2 = (x - \\mu)^T \\Sigma^{-1} (x - \\mu)$\n",
    "where:\n",
    "- $D$ is the Mahalanobis distance"
   ]
  },
  {
   "cell_type": "markdown",
   "id": "6bfe16c2",
   "metadata": {
    "papermill": {
     "duration": 0.001214,
     "end_time": "2024-05-07T17:58:16.429150",
     "exception": false,
     "start_time": "2024-05-07T17:58:16.427936",
     "status": "completed"
    },
    "tags": []
   },
   "source": [
    "## Caluclating Mahalanobis Distance on PCA components 1 and 2\n",
    "Here I calculate the Mahalanobis distance between the points on the first two principal components of the data for each of the three genotypes."
   ]
  },
  {
   "cell_type": "code",
   "execution_count": 3,
   "id": "41688044",
   "metadata": {
    "execution": {
     "iopub.execute_input": "2024-05-07T17:58:16.432303Z",
     "iopub.status.busy": "2024-05-07T17:58:16.432076Z",
     "iopub.status.idle": "2024-05-07T17:58:16.435266Z",
     "shell.execute_reply": "2024-05-07T17:58:16.435014Z"
    },
    "papermill": {
     "duration": 0.005513,
     "end_time": "2024-05-07T17:58:16.435882",
     "exception": false,
     "start_time": "2024-05-07T17:58:16.430369",
     "status": "completed"
    },
    "tags": []
   },
   "outputs": [
    {
     "name": "stdout",
     "output_type": "stream",
     "text": [
      "14 14 14\n"
     ]
    }
   ],
   "source": [
    "# split the genotypes\n",
    "high_severity = mean_aggregated_data_pca[\n",
    "    mean_aggregated_data_pca[\"Metadata_genotype\"] == \"High-Severity\"\n",
    "]\n",
    "low_severity = mean_aggregated_data_pca[\n",
    "    mean_aggregated_data_pca[\"Metadata_genotype\"] == \"Mid-Severity\"\n",
    "]\n",
    "wt = mean_aggregated_data_pca[\n",
    "    mean_aggregated_data_pca[\"Metadata_genotype\"] == \"Wild Type\"\n",
    "]\n",
    "print(len(high_severity), len(low_severity), len(wt))"
   ]
  },
  {
   "cell_type": "code",
   "execution_count": 4,
   "id": "5e1432a9",
   "metadata": {
    "execution": {
     "iopub.execute_input": "2024-05-07T17:58:16.448758Z",
     "iopub.status.busy": "2024-05-07T17:58:16.448470Z",
     "iopub.status.idle": "2024-05-07T17:58:16.451614Z",
     "shell.execute_reply": "2024-05-07T17:58:16.451348Z"
    },
    "papermill": {
     "duration": 0.015091,
     "end_time": "2024-05-07T17:58:16.452254",
     "exception": false,
     "start_time": "2024-05-07T17:58:16.437163",
     "status": "completed"
    },
    "tags": []
   },
   "outputs": [
    {
     "name": "stdout",
     "output_type": "stream",
     "text": [
      "(14, 42) (14, 42) (14, 42)\n"
     ]
    }
   ],
   "source": [
    "# drop the the Metadata columns\n",
    "high_severity = high_severity.drop(columns=[\"Metadata_genotype\", \"Metadata_replicate\"])\n",
    "low_severity = low_severity.drop(columns=[\"Metadata_genotype\", \"Metadata_replicate\"])\n",
    "wt = wt.drop(columns=[\"Metadata_genotype\", \"Metadata_replicate\"])\n",
    "# convert the df to coordinates\n",
    "high_severity_coords = high_severity.to_numpy()\n",
    "low_severity_coords = low_severity.to_numpy()\n",
    "wt_coords = wt.to_numpy()\n",
    "print(high_severity_coords.shape, low_severity_coords.shape, wt_coords.shape)"
   ]
  },
  {
   "cell_type": "markdown",
   "id": "ab7a6ea5",
   "metadata": {
    "papermill": {
     "duration": 0.001289,
     "end_time": "2024-05-07T17:58:16.454881",
     "exception": false,
     "start_time": "2024-05-07T17:58:16.453592",
     "status": "completed"
    },
    "tags": []
   },
   "source": [
    "#### High-Severity"
   ]
  },
  {
   "cell_type": "code",
   "execution_count": 5,
   "id": "992efa28",
   "metadata": {
    "execution": {
     "iopub.execute_input": "2024-05-07T17:58:16.458109Z",
     "iopub.status.busy": "2024-05-07T17:58:16.457912Z",
     "iopub.status.idle": "2024-05-07T17:58:16.462437Z",
     "shell.execute_reply": "2024-05-07T17:58:16.462091Z"
    },
    "papermill": {
     "duration": 0.007223,
     "end_time": "2024-05-07T17:58:16.463413",
     "exception": false,
     "start_time": "2024-05-07T17:58:16.456190",
     "status": "completed"
    },
    "tags": []
   },
   "outputs": [
    {
     "name": "stdout",
     "output_type": "stream",
     "text": [
      "The mean mahalanobis distance for the High-Severity genotype is 8.097040543955758\n"
     ]
    },
    {
     "name": "stderr",
     "output_type": "stream",
     "text": [
      "/home/lippincm/miniconda3/envs/op_cell_processing_env/lib/python3.8/site-packages/scipy/spatial/distance.py:1064: RuntimeWarning: invalid value encountered in sqrt\n",
      "  return np.sqrt(m)\n"
     ]
    }
   ],
   "source": [
    "# define the mean and the inverse covariance matrix needed for the mahalanobis distance calculation\n",
    "cov_matrix = np.cov(high_severity_coords, rowvar=False)\n",
    "inv_cov_matrix = np.linalg.inv(cov_matrix)  # Use pseudo-inverse instead of inverse\n",
    "# calculate the mahalanobis distance for each point within each genotype\n",
    "high_severity_mahalanobis_distances = []\n",
    "# calculate the mahalanobis distance for each point combination\n",
    "for point in itertools.combinations(high_severity_coords, 2):\n",
    "    distance = mahalanobis(point[0], point[1], inv_cov_matrix)\n",
    "    if np.isnan(distance):  # Check for NaN values\n",
    "        continue\n",
    "    high_severity_mahalanobis_distances.append(distance)\n",
    "mean_high_severity_mahalanobis_distance = np.mean(high_severity_mahalanobis_distances)\n",
    "print(\n",
    "    f\"The mean mahalanobis distance for the High-Severity genotype is {mean_high_severity_mahalanobis_distance}\"\n",
    ")"
   ]
  },
  {
   "cell_type": "markdown",
   "id": "27cad0b8",
   "metadata": {
    "papermill": {
     "duration": 0.002227,
     "end_time": "2024-05-07T17:58:16.467904",
     "exception": false,
     "start_time": "2024-05-07T17:58:16.465677",
     "status": "completed"
    },
    "tags": []
   },
   "source": [
    "#### Low-Severity"
   ]
  },
  {
   "cell_type": "code",
   "execution_count": 6,
   "id": "a2370708",
   "metadata": {
    "execution": {
     "iopub.execute_input": "2024-05-07T17:58:16.473085Z",
     "iopub.status.busy": "2024-05-07T17:58:16.472902Z",
     "iopub.status.idle": "2024-05-07T17:58:16.479049Z",
     "shell.execute_reply": "2024-05-07T17:58:16.478688Z"
    },
    "papermill": {
     "duration": 0.009781,
     "end_time": "2024-05-07T17:58:16.479958",
     "exception": false,
     "start_time": "2024-05-07T17:58:16.470177",
     "status": "completed"
    },
    "tags": []
   },
   "outputs": [
    {
     "name": "stdout",
     "output_type": "stream",
     "text": [
      "The mean mahalanobis distance for the low-Severity genotype is 9.470999807830797\n"
     ]
    }
   ],
   "source": [
    "# define the mean and the inverse covariance matrix needed for the mahalanobis distance calculation\n",
    "cov_matrix = np.cov(low_severity_coords, rowvar=False)\n",
    "inv_cov_matrix = np.linalg.inv(cov_matrix)  # Use pseudo-inverse instead of inverse\n",
    "# calculate the mahalanobis distance for each point within each genotype\n",
    "low_severity_mahalanobis_distances = []\n",
    "# calculate the mahalanobis distance for each point\n",
    "for point in itertools.combinations(low_severity_coords, 2):\n",
    "    distance = mahalanobis(point[0], point[1], inv_cov_matrix)\n",
    "    if np.isnan(distance):  # Check for NaN values\n",
    "        continue\n",
    "    low_severity_mahalanobis_distances.append(distance)\n",
    "mean_low_severity_mahalanobis_distance = np.mean(low_severity_mahalanobis_distances)\n",
    "print(\n",
    "    f\"The mean mahalanobis distance for the low-Severity genotype is {mean_low_severity_mahalanobis_distance}\"\n",
    ")"
   ]
  },
  {
   "cell_type": "markdown",
   "id": "3cf92944",
   "metadata": {
    "papermill": {
     "duration": 0.002347,
     "end_time": "2024-05-07T17:58:16.484871",
     "exception": false,
     "start_time": "2024-05-07T17:58:16.482524",
     "status": "completed"
    },
    "tags": []
   },
   "source": [
    "#### Wild Type"
   ]
  },
  {
   "cell_type": "code",
   "execution_count": 7,
   "id": "6de6ba74",
   "metadata": {
    "execution": {
     "iopub.execute_input": "2024-05-07T17:58:16.490328Z",
     "iopub.status.busy": "2024-05-07T17:58:16.490145Z",
     "iopub.status.idle": "2024-05-07T17:58:16.495607Z",
     "shell.execute_reply": "2024-05-07T17:58:16.495246Z"
    },
    "papermill": {
     "duration": 0.009215,
     "end_time": "2024-05-07T17:58:16.496500",
     "exception": false,
     "start_time": "2024-05-07T17:58:16.487285",
     "status": "completed"
    },
    "tags": []
   },
   "outputs": [
    {
     "name": "stdout",
     "output_type": "stream",
     "text": [
      "The mean mahalanobis distance for the Wild Type genotype is 11.67177275625835\n"
     ]
    }
   ],
   "source": [
    "# define the mean and the inverse covariance matrix needed for the mahalanobis distance calculation\n",
    "cov_matrix = np.cov(wt_coords, rowvar=False)\n",
    "inv_cov_matrix = np.linalg.inv(cov_matrix)  # Use pseudo-inverse instead of inverse\n",
    "# calculate the mahalanobis distance for each point within each genotype\n",
    "wt_mahalanobis_distances = []\n",
    "# calculate the mahalanobis distance for each point\n",
    "for point in itertools.combinations(wt_coords, 2):\n",
    "    distance = mahalanobis(point[0], point[1], inv_cov_matrix)\n",
    "    if np.isnan(distance):  # Check for NaN values\n",
    "        continue\n",
    "    wt_mahalanobis_distances.append(distance)\n",
    "mean_wt_mahalanobis_distance = np.mean(wt_mahalanobis_distances)\n",
    "print(\n",
    "    f\"The mean mahalanobis distance for the Wild Type genotype is {mean_wt_mahalanobis_distance}\"\n",
    ")"
   ]
  }
 ],
 "metadata": {
  "kernelspec": {
   "display_name": "op_cell_processing_env",
   "language": "python",
   "name": "python3"
  },
  "language_info": {
   "codemirror_mode": {
    "name": "ipython",
    "version": 3
   },
   "file_extension": ".py",
   "mimetype": "text/x-python",
   "name": "python",
   "nbconvert_exporter": "python",
   "pygments_lexer": "ipython3",
   "version": "3.8.15"
  },
  "papermill": {
   "default_parameters": {},
   "duration": 1.298994,
   "end_time": "2024-05-07T17:58:16.713957",
   "environment_variables": {},
   "exception": null,
   "input_path": "8a.mean_aggregated_PCA_calulate_mahalanobis_distance.ipynb",
   "output_path": "8a.mean_aggregated_PCA_calulate_mahalanobis_distance.ipynb",
   "parameters": {},
   "start_time": "2024-05-07T17:58:15.414963",
   "version": "2.6.0"
  }
 },
 "nbformat": 4,
 "nbformat_minor": 5
}