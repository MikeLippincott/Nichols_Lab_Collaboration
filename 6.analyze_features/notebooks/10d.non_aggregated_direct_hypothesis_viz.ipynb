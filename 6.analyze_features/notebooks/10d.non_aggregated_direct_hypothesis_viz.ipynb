{
    "cells": [
        {
            "cell_type": "code",
            "execution_count": null,
            "metadata": {},
            "outputs": [],
            "source": [
                "import pathlib\n",
                "\n",
                "import matplotlib.pyplot as plt\n",
                "import numpy as np\n",
                "import pandas as pd\n",
                "\n",
                "# plot the results\n",
                "import seaborn as sns"
            ]
        },
        {
            "cell_type": "code",
            "execution_count": null,
            "metadata": {},
            "outputs": [],
            "source": [
                "# load the final enrichment df\n",
                "final_enrichment_df_path = pathlib.Path(\n",
                "    \"../../data/6.analysis_results/non_aggregated_feature_group_enrichment.csv\"\n",
                ").resolve(strict=True)\n",
                "final_enrichment_df = pd.read_csv(final_enrichment_df_path)\n",
                "final_enrichment_df.head()"
            ]
        },
        {
            "cell_type": "code",
            "execution_count": null,
            "metadata": {},
            "outputs": [],
            "source": [
                "df_non_permuted = final_enrichment_df.loc[\n",
                "    final_enrichment_df[\"permutation\"] == \"non_permuted\"\n",
                "]\n",
                "# heatmap of true/false values for the hypothesis test bool against each feature type\n",
                "fig, ax = plt.subplots(figsize=(10, 10))\n",
                "sns.heatmap(\n",
                "    df_non_permuted.pivot(\n",
                "        index=\"hypothesis_test_bool\", columns=\"feature_group\", values=\"counts\"\n",
                "    ),\n",
                "    annot=True,\n",
                "    fmt=\"d\",\n",
                "    cmap=\"coolwarm\",\n",
                "    ax=ax,\n",
                ")\n",
                "plt.title(\"Enrichment of Hypothesis Test Bool for Each Feature Group\")\n",
                "plt.savefig(\"../figures/non_aggregated/feature_group_enrichment_heatmap.png\")\n",
                "plt.show()"
            ]
        },
        {
            "cell_type": "code",
            "execution_count": null,
            "metadata": {},
            "outputs": [],
            "source": [
                "df_permuted = final_enrichment_df.loc[final_enrichment_df[\"permutation\"] == \"permuted\"]\n",
                "fig, ax = plt.subplots(figsize=(10, 10))\n",
                "sns.heatmap(\n",
                "    df_permuted.pivot(\n",
                "        index=\"hypothesis_test_bool\", columns=\"feature_group\", values=\"counts\"\n",
                "    ),\n",
                "    annot=True,\n",
                "    fmt=\"d\",\n",
                "    cmap=\"coolwarm\",\n",
                "    ax=ax,\n",
                ")\n",
                "plt.title(\"Enrichment of Hypothesis Test for Each permuted Feature Group\")\n",
                "# label the x-axis\n",
                "plt.xlabel(\"Feature Group\")\n",
                "# label the y-axis\n",
                "plt.ylabel(\"Hypothesis Test Match\")\n",
                "# label the colorbar\n",
                "plt.savefig(\n",
                "    \"../figures/non_aggregated/feature_group_enrichment_heatmap_permutated_labels.png\"\n",
                ")"
            ]
        }
    ],
    "metadata": {
        "kernelspec": {
            "display_name": "op_cell_processing_env",
            "language": "python",
            "name": "python3"
        },
        "language_info": {
            "codemirror_mode": {
                "name": "ipython",
                "version": 3
            },
            "file_extension": ".py",
            "mimetype": "text/x-python",
            "name": "python",
            "nbconvert_exporter": "python",
            "pygments_lexer": "ipython3",
            "version": "3.8.0"
        }
    },
    "nbformat": 4,
    "nbformat_minor": 2
}
