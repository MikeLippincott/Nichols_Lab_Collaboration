{
 "cells": [
  {
   "cell_type": "code",
   "execution_count": 1,
   "id": "3db4d1cd",
   "metadata": {
    "execution": {
     "iopub.execute_input": "2024-05-15T21:04:42.249964Z",
     "iopub.status.busy": "2024-05-15T21:04:42.249726Z",
     "iopub.status.idle": "2024-05-15T21:04:42.877879Z",
     "shell.execute_reply": "2024-05-15T21:04:42.877457Z"
    },
    "papermill": {
     "duration": 0.633322,
     "end_time": "2024-05-15T21:04:42.879250",
     "exception": false,
     "start_time": "2024-05-15T21:04:42.245928",
     "status": "completed"
    },
    "tags": []
   },
   "outputs": [],
   "source": [
    "import pathlib\n",
    "\n",
    "import matplotlib.pyplot as plt\n",
    "import numpy as np\n",
    "import pandas as pd\n",
    "import seaborn as sns\n",
    "import statsmodels.api as sm\n",
    "import tqdm\n",
    "from scipy.stats import levene\n",
    "\n",
    "# import anova and tukeyhsd\n",
    "from statsmodels.formula.api import ols\n",
    "from statsmodels.stats.multicomp import pairwise_tukeyhsd"
   ]
  },
  {
   "cell_type": "code",
   "execution_count": 2,
   "id": "d112a2b6",
   "metadata": {
    "execution": {
     "iopub.execute_input": "2024-05-15T21:04:42.885936Z",
     "iopub.status.busy": "2024-05-15T21:04:42.885695Z",
     "iopub.status.idle": "2024-05-15T21:04:42.889992Z",
     "shell.execute_reply": "2024-05-15T21:04:42.889645Z"
    },
    "papermill": {
     "duration": 0.008477,
     "end_time": "2024-05-15T21:04:42.890799",
     "exception": false,
     "start_time": "2024-05-15T21:04:42.882322",
     "status": "completed"
    },
    "tags": []
   },
   "outputs": [],
   "source": [
    "def anova_function(features_df: pd.DataFrame, Metdata_column: str) -> pd.DataFrame:\n",
    "    \"\"\"\n",
    "    This function will take in a dataframe and a metadata column and return the results of an anova and tukeyhsd test for each feature.\n",
    "\n",
    "\n",
    "    Parameters\n",
    "    ----------\n",
    "    features_df : pd.DataFrame\n",
    "        The dataframe containing the features with only one metadata column\n",
    "    Metdata_column : str\n",
    "        The name of the metadata column to be used for the anova test\n",
    "\n",
    "    Returns\n",
    "    -------\n",
    "    pd.DataFrame\n",
    "        A dataframe containing the results of the anova and tukeyhsd test for each feature\n",
    "    \"\"\"\n",
    "\n",
    "    # anova and tukeyhsd for each feature\n",
    "    # create a pandas data frame to store the results\n",
    "    anova_results = pd.DataFrame()\n",
    "\n",
    "    # loop through each feature\n",
    "    for feature in tqdm.tqdm(features_df.columns[:-1]):\n",
    "        # create a model\n",
    "        model = ols(f\"{feature} ~ C({Metdata_column})\", data=features_df).fit()\n",
    "        # create an anova table\n",
    "        anova_table = sm.stats.anova_lm(model, typ=2)\n",
    "        # create a tukeyhsd table\n",
    "        tukeyhsd = pairwise_tukeyhsd(features_df[feature], features_df[Metdata_column])\n",
    "        # get the f-statistic based p-value\n",
    "        anova_p_value = anova_table[\"PR(>F)\"][0]\n",
    "        tmp = pd.DataFrame(\n",
    "            tukeyhsd._results_table.data, columns=tukeyhsd._results_table.data[0]\n",
    "        ).drop(0)\n",
    "        tmp.reset_index(inplace=True, drop=True)\n",
    "        # drop the first row\n",
    "        tmp[\"feature\"] = feature\n",
    "        tmp[\"anova_p_value\"] = anova_p_value\n",
    "        tmp = pd.DataFrame(tmp)\n",
    "\n",
    "        anova_results = pd.concat([anova_results, tmp], axis=0).reset_index(drop=True)\n",
    "    return anova_results"
   ]
  },
  {
   "cell_type": "code",
   "execution_count": 3,
   "id": "575d598b",
   "metadata": {
    "execution": {
     "iopub.execute_input": "2024-05-15T21:04:42.896149Z",
     "iopub.status.busy": "2024-05-15T21:04:42.895871Z",
     "iopub.status.idle": "2024-05-15T21:04:42.926134Z",
     "shell.execute_reply": "2024-05-15T21:04:42.925851Z"
    },
    "papermill": {
     "duration": 0.033796,
     "end_time": "2024-05-15T21:04:42.926833",
     "exception": false,
     "start_time": "2024-05-15T21:04:42.893037",
     "status": "completed"
    },
    "tags": []
   },
   "outputs": [
    {
     "data": {
      "text/html": [
       "<div>\n",
       "<style scoped>\n",
       "    .dataframe tbody tr th:only-of-type {\n",
       "        vertical-align: middle;\n",
       "    }\n",
       "\n",
       "    .dataframe tbody tr th {\n",
       "        vertical-align: top;\n",
       "    }\n",
       "\n",
       "    .dataframe thead th {\n",
       "        text-align: right;\n",
       "    }\n",
       "</style>\n",
       "<table border=\"1\" class=\"dataframe\">\n",
       "  <thead>\n",
       "    <tr style=\"text-align: right;\">\n",
       "      <th></th>\n",
       "      <th>Metadata_genotype</th>\n",
       "      <th>Metadata_replicate</th>\n",
       "      <th>Metadata_side</th>\n",
       "      <th>AreaShape_Area</th>\n",
       "      <th>AreaShape_CentralMoment_0_0</th>\n",
       "      <th>AreaShape_CentralMoment_0_1</th>\n",
       "      <th>AreaShape_CentralMoment_0_2</th>\n",
       "      <th>AreaShape_CentralMoment_0_3</th>\n",
       "      <th>AreaShape_CentralMoment_1_0</th>\n",
       "      <th>AreaShape_CentralMoment_1_1</th>\n",
       "      <th>...</th>\n",
       "      <th>Texture_SumEntropy_OP_3_02_256</th>\n",
       "      <th>Texture_SumEntropy_OP_3_03_256</th>\n",
       "      <th>Texture_SumVariance_OP_3_00_256</th>\n",
       "      <th>Texture_SumVariance_OP_3_01_256</th>\n",
       "      <th>Texture_SumVariance_OP_3_02_256</th>\n",
       "      <th>Texture_SumVariance_OP_3_03_256</th>\n",
       "      <th>Texture_Variance_OP_3_00_256</th>\n",
       "      <th>Texture_Variance_OP_3_01_256</th>\n",
       "      <th>Texture_Variance_OP_3_02_256</th>\n",
       "      <th>Texture_Variance_OP_3_03_256</th>\n",
       "    </tr>\n",
       "  </thead>\n",
       "  <tbody>\n",
       "    <tr>\n",
       "      <th>0</th>\n",
       "      <td>high</td>\n",
       "      <td>1</td>\n",
       "      <td>L</td>\n",
       "      <td>-0.178797</td>\n",
       "      <td>-0.178797</td>\n",
       "      <td>0.003558</td>\n",
       "      <td>-0.386796</td>\n",
       "      <td>0.280118</td>\n",
       "      <td>0.037998</td>\n",
       "      <td>0.434046</td>\n",
       "      <td>...</td>\n",
       "      <td>-0.627762</td>\n",
       "      <td>-0.644990</td>\n",
       "      <td>-0.903354</td>\n",
       "      <td>-0.890939</td>\n",
       "      <td>-0.896995</td>\n",
       "      <td>-0.902870</td>\n",
       "      <td>-0.896145</td>\n",
       "      <td>-0.898448</td>\n",
       "      <td>-0.898880</td>\n",
       "      <td>-0.896609</td>\n",
       "    </tr>\n",
       "    <tr>\n",
       "      <th>1</th>\n",
       "      <td>high</td>\n",
       "      <td>1</td>\n",
       "      <td>R</td>\n",
       "      <td>1.371763</td>\n",
       "      <td>1.371763</td>\n",
       "      <td>0.538195</td>\n",
       "      <td>0.288322</td>\n",
       "      <td>0.501618</td>\n",
       "      <td>4.163833</td>\n",
       "      <td>-1.361920</td>\n",
       "      <td>...</td>\n",
       "      <td>0.419551</td>\n",
       "      <td>0.406918</td>\n",
       "      <td>-0.188358</td>\n",
       "      <td>-0.159114</td>\n",
       "      <td>-0.189615</td>\n",
       "      <td>-0.186308</td>\n",
       "      <td>-0.218981</td>\n",
       "      <td>-0.225754</td>\n",
       "      <td>-0.219073</td>\n",
       "      <td>-0.225134</td>\n",
       "    </tr>\n",
       "    <tr>\n",
       "      <th>2</th>\n",
       "      <td>high</td>\n",
       "      <td>10</td>\n",
       "      <td>L</td>\n",
       "      <td>1.706234</td>\n",
       "      <td>1.706234</td>\n",
       "      <td>2.652373</td>\n",
       "      <td>3.280425</td>\n",
       "      <td>-1.992966</td>\n",
       "      <td>0.184630</td>\n",
       "      <td>-1.404376</td>\n",
       "      <td>...</td>\n",
       "      <td>0.841475</td>\n",
       "      <td>0.834574</td>\n",
       "      <td>1.149186</td>\n",
       "      <td>1.152200</td>\n",
       "      <td>1.078905</td>\n",
       "      <td>1.144848</td>\n",
       "      <td>1.040009</td>\n",
       "      <td>1.025740</td>\n",
       "      <td>1.045492</td>\n",
       "      <td>1.027617</td>\n",
       "    </tr>\n",
       "    <tr>\n",
       "      <th>3</th>\n",
       "      <td>high</td>\n",
       "      <td>10</td>\n",
       "      <td>R</td>\n",
       "      <td>0.771674</td>\n",
       "      <td>0.771674</td>\n",
       "      <td>-1.332747</td>\n",
       "      <td>0.164304</td>\n",
       "      <td>0.244371</td>\n",
       "      <td>0.173760</td>\n",
       "      <td>-1.885144</td>\n",
       "      <td>...</td>\n",
       "      <td>0.452480</td>\n",
       "      <td>0.436138</td>\n",
       "      <td>0.112178</td>\n",
       "      <td>0.131982</td>\n",
       "      <td>0.108602</td>\n",
       "      <td>0.125700</td>\n",
       "      <td>0.075717</td>\n",
       "      <td>0.071207</td>\n",
       "      <td>0.076477</td>\n",
       "      <td>0.067922</td>\n",
       "    </tr>\n",
       "    <tr>\n",
       "      <th>4</th>\n",
       "      <td>high</td>\n",
       "      <td>11</td>\n",
       "      <td>L</td>\n",
       "      <td>2.180858</td>\n",
       "      <td>2.180858</td>\n",
       "      <td>2.142686</td>\n",
       "      <td>1.838038</td>\n",
       "      <td>-0.077515</td>\n",
       "      <td>0.008650</td>\n",
       "      <td>0.876597</td>\n",
       "      <td>...</td>\n",
       "      <td>0.494813</td>\n",
       "      <td>0.490844</td>\n",
       "      <td>-0.016140</td>\n",
       "      <td>0.001041</td>\n",
       "      <td>-0.021997</td>\n",
       "      <td>-0.020992</td>\n",
       "      <td>-0.033934</td>\n",
       "      <td>-0.042635</td>\n",
       "      <td>-0.034983</td>\n",
       "      <td>-0.038763</td>\n",
       "    </tr>\n",
       "  </tbody>\n",
       "</table>\n",
       "<p>5 rows × 247 columns</p>\n",
       "</div>"
      ],
      "text/plain": [
       "  Metadata_genotype Metadata_replicate Metadata_side  AreaShape_Area  \\\n",
       "0              high                  1             L       -0.178797   \n",
       "1              high                  1             R        1.371763   \n",
       "2              high                 10             L        1.706234   \n",
       "3              high                 10             R        0.771674   \n",
       "4              high                 11             L        2.180858   \n",
       "\n",
       "   AreaShape_CentralMoment_0_0  AreaShape_CentralMoment_0_1  \\\n",
       "0                    -0.178797                     0.003558   \n",
       "1                     1.371763                     0.538195   \n",
       "2                     1.706234                     2.652373   \n",
       "3                     0.771674                    -1.332747   \n",
       "4                     2.180858                     2.142686   \n",
       "\n",
       "   AreaShape_CentralMoment_0_2  AreaShape_CentralMoment_0_3  \\\n",
       "0                    -0.386796                     0.280118   \n",
       "1                     0.288322                     0.501618   \n",
       "2                     3.280425                    -1.992966   \n",
       "3                     0.164304                     0.244371   \n",
       "4                     1.838038                    -0.077515   \n",
       "\n",
       "   AreaShape_CentralMoment_1_0  AreaShape_CentralMoment_1_1  ...  \\\n",
       "0                     0.037998                     0.434046  ...   \n",
       "1                     4.163833                    -1.361920  ...   \n",
       "2                     0.184630                    -1.404376  ...   \n",
       "3                     0.173760                    -1.885144  ...   \n",
       "4                     0.008650                     0.876597  ...   \n",
       "\n",
       "   Texture_SumEntropy_OP_3_02_256  Texture_SumEntropy_OP_3_03_256  \\\n",
       "0                       -0.627762                       -0.644990   \n",
       "1                        0.419551                        0.406918   \n",
       "2                        0.841475                        0.834574   \n",
       "3                        0.452480                        0.436138   \n",
       "4                        0.494813                        0.490844   \n",
       "\n",
       "   Texture_SumVariance_OP_3_00_256  Texture_SumVariance_OP_3_01_256  \\\n",
       "0                        -0.903354                        -0.890939   \n",
       "1                        -0.188358                        -0.159114   \n",
       "2                         1.149186                         1.152200   \n",
       "3                         0.112178                         0.131982   \n",
       "4                        -0.016140                         0.001041   \n",
       "\n",
       "   Texture_SumVariance_OP_3_02_256  Texture_SumVariance_OP_3_03_256  \\\n",
       "0                        -0.896995                        -0.902870   \n",
       "1                        -0.189615                        -0.186308   \n",
       "2                         1.078905                         1.144848   \n",
       "3                         0.108602                         0.125700   \n",
       "4                        -0.021997                        -0.020992   \n",
       "\n",
       "   Texture_Variance_OP_3_00_256  Texture_Variance_OP_3_01_256  \\\n",
       "0                     -0.896145                     -0.898448   \n",
       "1                     -0.218981                     -0.225754   \n",
       "2                      1.040009                      1.025740   \n",
       "3                      0.075717                      0.071207   \n",
       "4                     -0.033934                     -0.042635   \n",
       "\n",
       "   Texture_Variance_OP_3_02_256  Texture_Variance_OP_3_03_256  \n",
       "0                     -0.898880                     -0.896609  \n",
       "1                     -0.219073                     -0.225134  \n",
       "2                      1.045492                      1.027617  \n",
       "3                      0.076477                      0.067922  \n",
       "4                     -0.034983                     -0.038763  \n",
       "\n",
       "[5 rows x 247 columns]"
      ]
     },
     "execution_count": 3,
     "metadata": {},
     "output_type": "execute_result"
    }
   ],
   "source": [
    "file_path = pathlib.Path(\"../../data/5.converted_data/custom_aggregated_data.parquet\")\n",
    "df = pd.read_parquet(file_path)\n",
    "df.head()"
   ]
  },
  {
   "cell_type": "code",
   "execution_count": 4,
   "id": "3eb75b0d",
   "metadata": {
    "execution": {
     "iopub.execute_input": "2024-05-15T21:04:42.931620Z",
     "iopub.status.busy": "2024-05-15T21:04:42.931404Z",
     "iopub.status.idle": "2024-05-15T21:04:42.934070Z",
     "shell.execute_reply": "2024-05-15T21:04:42.933814Z"
    },
    "papermill": {
     "duration": 0.005693,
     "end_time": "2024-05-15T21:04:42.934684",
     "exception": false,
     "start_time": "2024-05-15T21:04:42.928991",
     "status": "completed"
    },
    "tags": []
   },
   "outputs": [],
   "source": [
    "# split the features and the metadata\n",
    "metadata = df.columns.str.contains(\"Metadata\")\n",
    "# filter the metadata\n",
    "metadata_df = df.loc[:, metadata]\n",
    "# filter the features\n",
    "features_df = df.loc[:, ~metadata]"
   ]
  },
  {
   "cell_type": "markdown",
   "id": "96b70907",
   "metadata": {
    "papermill": {
     "duration": 0.001931,
     "end_time": "2024-05-15T21:04:42.938590",
     "exception": false,
     "start_time": "2024-05-15T21:04:42.936659",
     "status": "completed"
    },
    "tags": []
   },
   "source": [
    "## Anova for genotype only"
   ]
  },
  {
   "cell_type": "code",
   "execution_count": 5,
   "id": "94a53b09",
   "metadata": {
    "execution": {
     "iopub.execute_input": "2024-05-15T21:04:42.943263Z",
     "iopub.status.busy": "2024-05-15T21:04:42.943052Z",
     "iopub.status.idle": "2024-05-15T21:05:10.387561Z",
     "shell.execute_reply": "2024-05-15T21:05:10.387242Z"
    },
    "papermill": {
     "duration": 27.447635,
     "end_time": "2024-05-15T21:05:10.388395",
     "exception": false,
     "start_time": "2024-05-15T21:04:42.940760",
     "status": "completed"
    },
    "tags": []
   },
   "outputs": [
    {
     "name": "stderr",
     "output_type": "stream",
     "text": [
      "\r",
      "  0%|                                                                          | 0/244 [00:00<?, ?it/s]"
     ]
    },
    {
     "name": "stderr",
     "output_type": "stream",
     "text": [
      "\r",
      "  0%|▎                                                                 | 1/244 [00:00<00:28,  8.54it/s]"
     ]
    },
    {
     "name": "stderr",
     "output_type": "stream",
     "text": [
      "\r",
      "  1%|▌                                                                 | 2/244 [00:00<00:27,  8.74it/s]"
     ]
    },
    {
     "name": "stderr",
     "output_type": "stream",
     "text": [
      "\r",
      "  1%|▊                                                                 | 3/244 [00:00<00:27,  8.88it/s]"
     ]
    },
    {
     "name": "stderr",
     "output_type": "stream",
     "text": [
      "\r",
      "  2%|█                                                                 | 4/244 [00:00<00:27,  8.86it/s]"
     ]
    },
    {
     "name": "stderr",
     "output_type": "stream",
     "text": [
      "\r",
      "  2%|█▎                                                                | 5/244 [00:00<00:26,  8.92it/s]"
     ]
    },
    {
     "name": "stderr",
     "output_type": "stream",
     "text": [
      "\r",
      "  2%|█▌                                                                | 6/244 [00:00<00:26,  9.11it/s]"
     ]
    },
    {
     "name": "stderr",
     "output_type": "stream",
     "text": [
      "\r",
      "  3%|█▉                                                                | 7/244 [00:00<00:26,  9.05it/s]"
     ]
    },
    {
     "name": "stderr",
     "output_type": "stream",
     "text": [
      "\r",
      "  3%|██▏                                                               | 8/244 [00:00<00:26,  9.06it/s]"
     ]
    },
    {
     "name": "stderr",
     "output_type": "stream",
     "text": [
      "\r",
      "  4%|██▍                                                               | 9/244 [00:01<00:26,  9.01it/s]"
     ]
    },
    {
     "name": "stderr",
     "output_type": "stream",
     "text": [
      "\r",
      "  4%|██▋                                                              | 10/244 [00:01<00:26,  8.97it/s]"
     ]
    },
    {
     "name": "stderr",
     "output_type": "stream",
     "text": [
      "\r",
      "  5%|██▉                                                              | 11/244 [00:01<00:26,  8.88it/s]"
     ]
    },
    {
     "name": "stderr",
     "output_type": "stream",
     "text": [
      "\r",
      "  5%|███▏                                                             | 12/244 [00:01<00:26,  8.85it/s]"
     ]
    },
    {
     "name": "stderr",
     "output_type": "stream",
     "text": [
      "\r",
      "  5%|███▍                                                             | 13/244 [00:01<00:26,  8.87it/s]"
     ]
    },
    {
     "name": "stderr",
     "output_type": "stream",
     "text": [
      "\r",
      "  6%|███▋                                                             | 14/244 [00:01<00:25,  8.86it/s]"
     ]
    },
    {
     "name": "stderr",
     "output_type": "stream",
     "text": [
      "\r",
      "  6%|███▉                                                             | 15/244 [00:01<00:25,  8.89it/s]"
     ]
    },
    {
     "name": "stderr",
     "output_type": "stream",
     "text": [
      "\r",
      "  7%|████▎                                                            | 16/244 [00:01<00:25,  8.91it/s]"
     ]
    },
    {
     "name": "stderr",
     "output_type": "stream",
     "text": [
      "\r",
      "  7%|████▌                                                            | 17/244 [00:01<00:25,  8.94it/s]"
     ]
    },
    {
     "name": "stderr",
     "output_type": "stream",
     "text": [
      "\r",
      "  7%|████▊                                                            | 18/244 [00:02<00:25,  8.93it/s]"
     ]
    },
    {
     "name": "stderr",
     "output_type": "stream",
     "text": [
      "\r",
      "  8%|█████                                                            | 19/244 [00:02<00:25,  8.91it/s]"
     ]
    },
    {
     "name": "stderr",
     "output_type": "stream",
     "text": [
      "\r",
      "  8%|█████▎                                                           | 20/244 [00:02<00:25,  8.86it/s]"
     ]
    },
    {
     "name": "stderr",
     "output_type": "stream",
     "text": [
      "\r",
      "  9%|█████▌                                                           | 21/244 [00:02<00:25,  8.80it/s]"
     ]
    },
    {
     "name": "stderr",
     "output_type": "stream",
     "text": [
      "\r",
      "  9%|█████▊                                                           | 22/244 [00:02<00:25,  8.79it/s]"
     ]
    },
    {
     "name": "stderr",
     "output_type": "stream",
     "text": [
      "\r",
      "  9%|██████▏                                                          | 23/244 [00:02<00:25,  8.77it/s]"
     ]
    },
    {
     "name": "stderr",
     "output_type": "stream",
     "text": [
      "\r",
      " 10%|██████▍                                                          | 24/244 [00:02<00:24,  8.82it/s]"
     ]
    },
    {
     "name": "stderr",
     "output_type": "stream",
     "text": [
      "\r",
      " 10%|██████▋                                                          | 25/244 [00:02<00:24,  8.82it/s]"
     ]
    },
    {
     "name": "stderr",
     "output_type": "stream",
     "text": [
      "\r",
      " 11%|██████▉                                                          | 26/244 [00:02<00:24,  8.84it/s]"
     ]
    },
    {
     "name": "stderr",
     "output_type": "stream",
     "text": [
      "\r",
      " 11%|███████▏                                                         | 27/244 [00:03<00:24,  8.82it/s]"
     ]
    },
    {
     "name": "stderr",
     "output_type": "stream",
     "text": [
      "\r",
      " 11%|███████▍                                                         | 28/244 [00:03<00:24,  8.83it/s]"
     ]
    },
    {
     "name": "stderr",
     "output_type": "stream",
     "text": [
      "\r",
      " 12%|███████▋                                                         | 29/244 [00:03<00:24,  8.82it/s]"
     ]
    },
    {
     "name": "stderr",
     "output_type": "stream",
     "text": [
      "\r",
      " 12%|███████▉                                                         | 30/244 [00:03<00:24,  8.82it/s]"
     ]
    },
    {
     "name": "stderr",
     "output_type": "stream",
     "text": [
      "\r",
      " 13%|████████▎                                                        | 31/244 [00:03<00:24,  8.83it/s]"
     ]
    },
    {
     "name": "stderr",
     "output_type": "stream",
     "text": [
      "\r",
      " 13%|████████▌                                                        | 32/244 [00:03<00:23,  8.84it/s]"
     ]
    },
    {
     "name": "stderr",
     "output_type": "stream",
     "text": [
      "\r",
      " 14%|████████▊                                                        | 33/244 [00:03<00:23,  8.83it/s]"
     ]
    },
    {
     "name": "stderr",
     "output_type": "stream",
     "text": [
      "\r",
      " 14%|█████████                                                        | 34/244 [00:03<00:23,  8.79it/s]"
     ]
    },
    {
     "name": "stderr",
     "output_type": "stream",
     "text": [
      "\r",
      " 14%|█████████▎                                                       | 35/244 [00:03<00:23,  8.81it/s]"
     ]
    },
    {
     "name": "stderr",
     "output_type": "stream",
     "text": [
      "\r",
      " 15%|█████████▌                                                       | 36/244 [00:04<00:23,  8.83it/s]"
     ]
    },
    {
     "name": "stderr",
     "output_type": "stream",
     "text": [
      "\r",
      " 15%|█████████▊                                                       | 37/244 [00:04<00:23,  8.81it/s]"
     ]
    },
    {
     "name": "stderr",
     "output_type": "stream",
     "text": [
      "\r",
      " 16%|██████████                                                       | 38/244 [00:04<00:23,  8.84it/s]"
     ]
    },
    {
     "name": "stderr",
     "output_type": "stream",
     "text": [
      "\r",
      " 16%|██████████▍                                                      | 39/244 [00:04<00:23,  8.86it/s]"
     ]
    },
    {
     "name": "stderr",
     "output_type": "stream",
     "text": [
      "\r",
      " 16%|██████████▋                                                      | 40/244 [00:04<00:22,  8.88it/s]"
     ]
    },
    {
     "name": "stderr",
     "output_type": "stream",
     "text": [
      "\r",
      " 17%|██████████▉                                                      | 41/244 [00:04<00:22,  8.88it/s]"
     ]
    },
    {
     "name": "stderr",
     "output_type": "stream",
     "text": [
      "\r",
      " 17%|███████████▏                                                     | 42/244 [00:04<00:22,  8.89it/s]"
     ]
    },
    {
     "name": "stderr",
     "output_type": "stream",
     "text": [
      "\r",
      " 18%|███████████▍                                                     | 43/244 [00:04<00:22,  8.95it/s]"
     ]
    },
    {
     "name": "stderr",
     "output_type": "stream",
     "text": [
      "\r",
      " 18%|███████████▋                                                     | 44/244 [00:04<00:22,  8.78it/s]"
     ]
    },
    {
     "name": "stderr",
     "output_type": "stream",
     "text": [
      "\r",
      " 18%|███████████▉                                                     | 45/244 [00:05<00:22,  8.81it/s]"
     ]
    },
    {
     "name": "stderr",
     "output_type": "stream",
     "text": [
      "\r",
      " 19%|████████████▎                                                    | 46/244 [00:05<00:22,  8.80it/s]"
     ]
    },
    {
     "name": "stderr",
     "output_type": "stream",
     "text": [
      "\r",
      " 19%|████████████▌                                                    | 47/244 [00:05<00:22,  8.87it/s]"
     ]
    },
    {
     "name": "stderr",
     "output_type": "stream",
     "text": [
      "\r",
      " 20%|████████████▊                                                    | 48/244 [00:05<00:22,  8.86it/s]"
     ]
    },
    {
     "name": "stderr",
     "output_type": "stream",
     "text": [
      "\r",
      " 20%|█████████████                                                    | 49/244 [00:05<00:22,  8.86it/s]"
     ]
    },
    {
     "name": "stderr",
     "output_type": "stream",
     "text": [
      "\r",
      " 20%|█████████████▎                                                   | 50/244 [00:05<00:21,  8.94it/s]"
     ]
    },
    {
     "name": "stderr",
     "output_type": "stream",
     "text": [
      "\r",
      " 21%|█████████████▌                                                   | 51/244 [00:05<00:21,  8.95it/s]"
     ]
    },
    {
     "name": "stderr",
     "output_type": "stream",
     "text": [
      "\r",
      " 21%|█████████████▊                                                   | 52/244 [00:05<00:21,  8.93it/s]"
     ]
    },
    {
     "name": "stderr",
     "output_type": "stream",
     "text": [
      "\r",
      " 22%|██████████████                                                   | 53/244 [00:05<00:21,  8.95it/s]"
     ]
    },
    {
     "name": "stderr",
     "output_type": "stream",
     "text": [
      "\r",
      " 22%|██████████████▍                                                  | 54/244 [00:06<00:21,  8.94it/s]"
     ]
    },
    {
     "name": "stderr",
     "output_type": "stream",
     "text": [
      "\r",
      " 23%|██████████████▋                                                  | 55/244 [00:06<00:21,  8.93it/s]"
     ]
    },
    {
     "name": "stderr",
     "output_type": "stream",
     "text": [
      "\r",
      " 23%|██████████████▉                                                  | 56/244 [00:06<00:20,  8.99it/s]"
     ]
    },
    {
     "name": "stderr",
     "output_type": "stream",
     "text": [
      "\r",
      " 23%|███████████████▏                                                 | 57/244 [00:06<00:20,  8.98it/s]"
     ]
    },
    {
     "name": "stderr",
     "output_type": "stream",
     "text": [
      "\r",
      " 24%|███████████████▍                                                 | 58/244 [00:06<00:20,  8.95it/s]"
     ]
    },
    {
     "name": "stderr",
     "output_type": "stream",
     "text": [
      "\r",
      " 24%|███████████████▋                                                 | 59/244 [00:06<00:20,  8.93it/s]"
     ]
    },
    {
     "name": "stderr",
     "output_type": "stream",
     "text": [
      "\r",
      " 25%|███████████████▉                                                 | 60/244 [00:06<00:20,  8.91it/s]"
     ]
    },
    {
     "name": "stderr",
     "output_type": "stream",
     "text": [
      "\r",
      " 25%|████████████████▎                                                | 61/244 [00:06<00:20,  8.90it/s]"
     ]
    },
    {
     "name": "stderr",
     "output_type": "stream",
     "text": [
      "\r",
      " 25%|████████████████▌                                                | 62/244 [00:06<00:20,  8.89it/s]"
     ]
    },
    {
     "name": "stderr",
     "output_type": "stream",
     "text": [
      "\r",
      " 26%|████████████████▊                                                | 63/244 [00:07<00:20,  8.88it/s]"
     ]
    },
    {
     "name": "stderr",
     "output_type": "stream",
     "text": [
      "\r",
      " 26%|█████████████████                                                | 64/244 [00:07<00:20,  8.88it/s]"
     ]
    },
    {
     "name": "stderr",
     "output_type": "stream",
     "text": [
      "\r",
      " 27%|█████████████████▎                                               | 65/244 [00:07<00:20,  8.87it/s]"
     ]
    },
    {
     "name": "stderr",
     "output_type": "stream",
     "text": [
      "\r",
      " 27%|█████████████████▌                                               | 66/244 [00:07<00:20,  8.88it/s]"
     ]
    },
    {
     "name": "stderr",
     "output_type": "stream",
     "text": [
      "\r",
      " 27%|█████████████████▊                                               | 67/244 [00:07<00:19,  8.89it/s]"
     ]
    },
    {
     "name": "stderr",
     "output_type": "stream",
     "text": [
      "\r",
      " 28%|██████████████████                                               | 68/244 [00:07<00:19,  8.89it/s]"
     ]
    },
    {
     "name": "stderr",
     "output_type": "stream",
     "text": [
      "\r",
      " 28%|██████████████████▍                                              | 69/244 [00:07<00:19,  8.90it/s]"
     ]
    },
    {
     "name": "stderr",
     "output_type": "stream",
     "text": [
      "\r",
      " 29%|██████████████████▋                                              | 70/244 [00:07<00:19,  8.93it/s]"
     ]
    },
    {
     "name": "stderr",
     "output_type": "stream",
     "text": [
      "\r",
      " 29%|██████████████████▉                                              | 71/244 [00:07<00:19,  8.94it/s]"
     ]
    },
    {
     "name": "stderr",
     "output_type": "stream",
     "text": [
      "\r",
      " 30%|███████████████████▏                                             | 72/244 [00:08<00:19,  8.92it/s]"
     ]
    },
    {
     "name": "stderr",
     "output_type": "stream",
     "text": [
      "\r",
      " 30%|███████████████████▍                                             | 73/244 [00:08<00:19,  8.90it/s]"
     ]
    },
    {
     "name": "stderr",
     "output_type": "stream",
     "text": [
      "\r",
      " 30%|███████████████████▋                                             | 74/244 [00:08<00:19,  8.88it/s]"
     ]
    },
    {
     "name": "stderr",
     "output_type": "stream",
     "text": [
      "\r",
      " 31%|███████████████████▉                                             | 75/244 [00:08<00:19,  8.85it/s]"
     ]
    },
    {
     "name": "stderr",
     "output_type": "stream",
     "text": [
      "\r",
      " 31%|████████████████████▏                                            | 76/244 [00:08<00:19,  8.83it/s]"
     ]
    },
    {
     "name": "stderr",
     "output_type": "stream",
     "text": [
      "\r",
      " 32%|████████████████████▌                                            | 77/244 [00:08<00:18,  8.81it/s]"
     ]
    },
    {
     "name": "stderr",
     "output_type": "stream",
     "text": [
      "\r",
      " 32%|████████████████████▊                                            | 78/244 [00:08<00:18,  8.87it/s]"
     ]
    },
    {
     "name": "stderr",
     "output_type": "stream",
     "text": [
      "\r",
      " 32%|█████████████████████                                            | 79/244 [00:08<00:18,  8.88it/s]"
     ]
    },
    {
     "name": "stderr",
     "output_type": "stream",
     "text": [
      "\r",
      " 33%|█████████████████████▎                                           | 80/244 [00:09<00:18,  8.86it/s]"
     ]
    },
    {
     "name": "stderr",
     "output_type": "stream",
     "text": [
      "\r",
      " 33%|█████████████████████▌                                           | 81/244 [00:09<00:18,  8.90it/s]"
     ]
    },
    {
     "name": "stderr",
     "output_type": "stream",
     "text": [
      "\r",
      " 34%|█████████████████████▊                                           | 82/244 [00:09<00:18,  8.88it/s]"
     ]
    },
    {
     "name": "stderr",
     "output_type": "stream",
     "text": [
      "\r",
      " 34%|██████████████████████                                           | 83/244 [00:09<00:17,  8.95it/s]"
     ]
    },
    {
     "name": "stderr",
     "output_type": "stream",
     "text": [
      "\r",
      " 34%|██████████████████████▍                                          | 84/244 [00:09<00:17,  8.94it/s]"
     ]
    },
    {
     "name": "stderr",
     "output_type": "stream",
     "text": [
      "\r",
      " 35%|██████████████████████▋                                          | 85/244 [00:09<00:17,  8.93it/s]"
     ]
    },
    {
     "name": "stderr",
     "output_type": "stream",
     "text": [
      "\r",
      " 35%|██████████████████████▉                                          | 86/244 [00:09<00:17,  8.93it/s]"
     ]
    },
    {
     "name": "stderr",
     "output_type": "stream",
     "text": [
      "\r",
      " 36%|███████████████████████▏                                         | 87/244 [00:09<00:17,  8.91it/s]"
     ]
    },
    {
     "name": "stderr",
     "output_type": "stream",
     "text": [
      "\r",
      " 36%|███████████████████████▍                                         | 88/244 [00:09<00:17,  8.95it/s]"
     ]
    },
    {
     "name": "stderr",
     "output_type": "stream",
     "text": [
      "\r",
      " 36%|███████████████████████▋                                         | 89/244 [00:10<00:17,  9.00it/s]"
     ]
    },
    {
     "name": "stderr",
     "output_type": "stream",
     "text": [
      "\r",
      " 37%|███████████████████████▉                                         | 90/244 [00:10<00:17,  8.99it/s]"
     ]
    },
    {
     "name": "stderr",
     "output_type": "stream",
     "text": [
      "\r",
      " 37%|████████████████████████▏                                        | 91/244 [00:10<00:17,  8.95it/s]"
     ]
    },
    {
     "name": "stderr",
     "output_type": "stream",
     "text": [
      "\r",
      " 38%|████████████████████████▌                                        | 92/244 [00:10<00:17,  8.93it/s]"
     ]
    },
    {
     "name": "stderr",
     "output_type": "stream",
     "text": [
      "\r",
      " 38%|████████████████████████▊                                        | 93/244 [00:10<00:16,  8.89it/s]"
     ]
    },
    {
     "name": "stderr",
     "output_type": "stream",
     "text": [
      "\r",
      " 39%|█████████████████████████                                        | 94/244 [00:10<00:17,  8.79it/s]"
     ]
    },
    {
     "name": "stderr",
     "output_type": "stream",
     "text": [
      "\r",
      " 39%|█████████████████████████▎                                       | 95/244 [00:10<00:16,  8.80it/s]"
     ]
    },
    {
     "name": "stderr",
     "output_type": "stream",
     "text": [
      "\r",
      " 39%|█████████████████████████▌                                       | 96/244 [00:10<00:16,  8.79it/s]"
     ]
    },
    {
     "name": "stderr",
     "output_type": "stream",
     "text": [
      "\r",
      " 40%|█████████████████████████▊                                       | 97/244 [00:10<00:16,  8.78it/s]"
     ]
    },
    {
     "name": "stderr",
     "output_type": "stream",
     "text": [
      "\r",
      " 40%|██████████████████████████                                       | 98/244 [00:11<00:16,  8.83it/s]"
     ]
    },
    {
     "name": "stderr",
     "output_type": "stream",
     "text": [
      "\r",
      " 41%|██████████████████████████▎                                      | 99/244 [00:11<00:16,  8.80it/s]"
     ]
    },
    {
     "name": "stderr",
     "output_type": "stream",
     "text": [
      "\r",
      " 41%|██████████████████████████▏                                     | 100/244 [00:11<00:16,  8.80it/s]"
     ]
    },
    {
     "name": "stderr",
     "output_type": "stream",
     "text": [
      "\r",
      " 41%|██████████████████████████▍                                     | 101/244 [00:11<00:16,  8.79it/s]"
     ]
    },
    {
     "name": "stderr",
     "output_type": "stream",
     "text": [
      "\r",
      " 42%|██████████████████████████▊                                     | 102/244 [00:11<00:16,  8.85it/s]"
     ]
    },
    {
     "name": "stderr",
     "output_type": "stream",
     "text": [
      "\r",
      " 42%|███████████████████████████                                     | 103/244 [00:11<00:15,  8.85it/s]"
     ]
    },
    {
     "name": "stderr",
     "output_type": "stream",
     "text": [
      "\r",
      " 43%|███████████████████████████▎                                    | 104/244 [00:11<00:15,  8.86it/s]"
     ]
    },
    {
     "name": "stderr",
     "output_type": "stream",
     "text": [
      "\r",
      " 43%|███████████████████████████▌                                    | 105/244 [00:11<00:15,  8.80it/s]"
     ]
    },
    {
     "name": "stderr",
     "output_type": "stream",
     "text": [
      "\r",
      " 43%|███████████████████████████▊                                    | 106/244 [00:11<00:15,  8.86it/s]"
     ]
    },
    {
     "name": "stderr",
     "output_type": "stream",
     "text": [
      "\r",
      " 44%|████████████████████████████                                    | 107/244 [00:12<00:15,  8.86it/s]"
     ]
    },
    {
     "name": "stderr",
     "output_type": "stream",
     "text": [
      "\r",
      " 44%|████████████████████████████▎                                   | 108/244 [00:12<00:15,  8.85it/s]"
     ]
    },
    {
     "name": "stderr",
     "output_type": "stream",
     "text": [
      "\r",
      " 45%|████████████████████████████▌                                   | 109/244 [00:12<00:15,  8.85it/s]"
     ]
    },
    {
     "name": "stderr",
     "output_type": "stream",
     "text": [
      "\r",
      " 45%|████████████████████████████▊                                   | 110/244 [00:12<00:15,  8.91it/s]"
     ]
    },
    {
     "name": "stderr",
     "output_type": "stream",
     "text": [
      "\r",
      " 45%|█████████████████████████████                                   | 111/244 [00:12<00:14,  8.90it/s]"
     ]
    },
    {
     "name": "stderr",
     "output_type": "stream",
     "text": [
      "\r",
      " 46%|█████████████████████████████▍                                  | 112/244 [00:12<00:14,  8.94it/s]"
     ]
    },
    {
     "name": "stderr",
     "output_type": "stream",
     "text": [
      "\r",
      " 46%|█████████████████████████████▋                                  | 113/244 [00:12<00:14,  8.92it/s]"
     ]
    },
    {
     "name": "stderr",
     "output_type": "stream",
     "text": [
      "\r",
      " 47%|█████████████████████████████▉                                  | 114/244 [00:12<00:14,  8.92it/s]"
     ]
    },
    {
     "name": "stderr",
     "output_type": "stream",
     "text": [
      "\r",
      " 47%|██████████████████████████████▏                                 | 115/244 [00:12<00:14,  8.95it/s]"
     ]
    },
    {
     "name": "stderr",
     "output_type": "stream",
     "text": [
      "\r",
      " 48%|██████████████████████████████▍                                 | 116/244 [00:13<00:14,  8.73it/s]"
     ]
    },
    {
     "name": "stderr",
     "output_type": "stream",
     "text": [
      "\r",
      " 48%|██████████████████████████████▋                                 | 117/244 [00:13<00:14,  8.74it/s]"
     ]
    },
    {
     "name": "stderr",
     "output_type": "stream",
     "text": [
      "\r",
      " 48%|██████████████████████████████▉                                 | 118/244 [00:13<00:14,  8.75it/s]"
     ]
    },
    {
     "name": "stderr",
     "output_type": "stream",
     "text": [
      "\r",
      " 49%|███████████████████████████████▏                                | 119/244 [00:13<00:14,  8.78it/s]"
     ]
    },
    {
     "name": "stderr",
     "output_type": "stream",
     "text": [
      "\r",
      " 49%|███████████████████████████████▍                                | 120/244 [00:13<00:14,  8.81it/s]"
     ]
    },
    {
     "name": "stderr",
     "output_type": "stream",
     "text": [
      "\r",
      " 50%|███████████████████████████████▋                                | 121/244 [00:13<00:13,  8.87it/s]"
     ]
    },
    {
     "name": "stderr",
     "output_type": "stream",
     "text": [
      "\r",
      " 50%|████████████████████████████████                                | 122/244 [00:13<00:13,  8.89it/s]"
     ]
    },
    {
     "name": "stderr",
     "output_type": "stream",
     "text": [
      "\r",
      " 50%|████████████████████████████████▎                               | 123/244 [00:13<00:13,  8.93it/s]"
     ]
    },
    {
     "name": "stderr",
     "output_type": "stream",
     "text": [
      "\r",
      " 51%|████████████████████████████████▌                               | 124/244 [00:13<00:13,  8.94it/s]"
     ]
    },
    {
     "name": "stderr",
     "output_type": "stream",
     "text": [
      "\r",
      " 51%|████████████████████████████████▊                               | 125/244 [00:14<00:13,  8.92it/s]"
     ]
    },
    {
     "name": "stderr",
     "output_type": "stream",
     "text": [
      "\r",
      " 52%|█████████████████████████████████                               | 126/244 [00:14<00:13,  8.93it/s]"
     ]
    },
    {
     "name": "stderr",
     "output_type": "stream",
     "text": [
      "\r",
      " 52%|█████████████████████████████████▎                              | 127/244 [00:14<00:13,  8.93it/s]"
     ]
    },
    {
     "name": "stderr",
     "output_type": "stream",
     "text": [
      "\r",
      " 52%|█████████████████████████████████▌                              | 128/244 [00:14<00:12,  8.95it/s]"
     ]
    },
    {
     "name": "stderr",
     "output_type": "stream",
     "text": [
      "\r",
      " 53%|█████████████████████████████████▊                              | 129/244 [00:14<00:12,  8.96it/s]"
     ]
    },
    {
     "name": "stderr",
     "output_type": "stream",
     "text": [
      "\r",
      " 53%|██████████████████████████████████                              | 130/244 [00:14<00:12,  8.94it/s]"
     ]
    },
    {
     "name": "stderr",
     "output_type": "stream",
     "text": [
      "\r",
      " 54%|██████████████████████████████████▎                             | 131/244 [00:14<00:12,  8.93it/s]"
     ]
    },
    {
     "name": "stderr",
     "output_type": "stream",
     "text": [
      "\r",
      " 54%|██████████████████████████████████▌                             | 132/244 [00:14<00:12,  9.04it/s]"
     ]
    },
    {
     "name": "stderr",
     "output_type": "stream",
     "text": [
      "\r",
      " 55%|██████████████████████████████████▉                             | 133/244 [00:14<00:12,  9.00it/s]"
     ]
    },
    {
     "name": "stderr",
     "output_type": "stream",
     "text": [
      "\r",
      " 55%|███████████████████████████████████▏                            | 134/244 [00:15<00:12,  8.96it/s]"
     ]
    },
    {
     "name": "stderr",
     "output_type": "stream",
     "text": [
      "\r",
      " 55%|███████████████████████████████████▍                            | 135/244 [00:15<00:12,  8.92it/s]"
     ]
    },
    {
     "name": "stderr",
     "output_type": "stream",
     "text": [
      "\r",
      " 56%|███████████████████████████████████▋                            | 136/244 [00:15<00:12,  8.97it/s]"
     ]
    },
    {
     "name": "stderr",
     "output_type": "stream",
     "text": [
      "\r",
      " 56%|███████████████████████████████████▉                            | 137/244 [00:15<00:11,  8.95it/s]"
     ]
    },
    {
     "name": "stderr",
     "output_type": "stream",
     "text": [
      "\r",
      " 57%|████████████████████████████████████▏                           | 138/244 [00:15<00:11,  8.98it/s]"
     ]
    },
    {
     "name": "stderr",
     "output_type": "stream",
     "text": [
      "\r",
      " 57%|████████████████████████████████████▍                           | 139/244 [00:15<00:11,  9.03it/s]"
     ]
    },
    {
     "name": "stderr",
     "output_type": "stream",
     "text": [
      "\r",
      " 57%|████████████████████████████████████▋                           | 140/244 [00:15<00:11,  9.04it/s]"
     ]
    },
    {
     "name": "stderr",
     "output_type": "stream",
     "text": [
      "\r",
      " 58%|████████████████████████████████████▉                           | 141/244 [00:15<00:11,  9.02it/s]"
     ]
    },
    {
     "name": "stderr",
     "output_type": "stream",
     "text": [
      "\r",
      " 58%|█████████████████████████████████████▏                          | 142/244 [00:15<00:11,  9.01it/s]"
     ]
    },
    {
     "name": "stderr",
     "output_type": "stream",
     "text": [
      "\r",
      " 59%|█████████████████████████████████████▌                          | 143/244 [00:16<00:11,  9.01it/s]"
     ]
    },
    {
     "name": "stderr",
     "output_type": "stream",
     "text": [
      "\r",
      " 59%|█████████████████████████████████████▊                          | 144/244 [00:16<00:11,  8.96it/s]"
     ]
    },
    {
     "name": "stderr",
     "output_type": "stream",
     "text": [
      "\r",
      " 59%|██████████████████████████████████████                          | 145/244 [00:16<00:11,  9.00it/s]"
     ]
    },
    {
     "name": "stderr",
     "output_type": "stream",
     "text": [
      "\r",
      " 60%|██████████████████████████████████████▎                         | 146/244 [00:16<00:10,  8.94it/s]"
     ]
    },
    {
     "name": "stderr",
     "output_type": "stream",
     "text": [
      "\r",
      " 60%|██████████████████████████████████████▌                         | 147/244 [00:16<00:10,  8.95it/s]"
     ]
    },
    {
     "name": "stderr",
     "output_type": "stream",
     "text": [
      "\r",
      " 61%|██████████████████████████████████████▊                         | 148/244 [00:16<00:10,  8.96it/s]"
     ]
    },
    {
     "name": "stderr",
     "output_type": "stream",
     "text": [
      "\r",
      " 61%|███████████████████████████████████████                         | 149/244 [00:16<00:10,  9.02it/s]"
     ]
    },
    {
     "name": "stderr",
     "output_type": "stream",
     "text": [
      "\r",
      " 61%|███████████████████████████████████████▎                        | 150/244 [00:16<00:10,  9.03it/s]"
     ]
    },
    {
     "name": "stderr",
     "output_type": "stream",
     "text": [
      "\r",
      " 62%|███████████████████████████████████████▌                        | 151/244 [00:16<00:10,  9.00it/s]"
     ]
    },
    {
     "name": "stderr",
     "output_type": "stream",
     "text": [
      "\r",
      " 62%|███████████████████████████████████████▊                        | 152/244 [00:17<00:10,  8.98it/s]"
     ]
    },
    {
     "name": "stderr",
     "output_type": "stream",
     "text": [
      "\r",
      " 63%|████████████████████████████████████████▏                       | 153/244 [00:17<00:10,  8.95it/s]"
     ]
    },
    {
     "name": "stderr",
     "output_type": "stream",
     "text": [
      "\r",
      " 63%|████████████████████████████████████████▍                       | 154/244 [00:17<00:10,  8.97it/s]"
     ]
    },
    {
     "name": "stderr",
     "output_type": "stream",
     "text": [
      "\r",
      " 64%|████████████████████████████████████████▋                       | 155/244 [00:17<00:09,  9.00it/s]"
     ]
    },
    {
     "name": "stderr",
     "output_type": "stream",
     "text": [
      "\r",
      " 64%|████████████████████████████████████████▉                       | 156/244 [00:17<00:09,  9.04it/s]"
     ]
    },
    {
     "name": "stderr",
     "output_type": "stream",
     "text": [
      "\r",
      " 64%|█████████████████████████████████████████▏                      | 157/244 [00:17<00:09,  9.09it/s]"
     ]
    },
    {
     "name": "stderr",
     "output_type": "stream",
     "text": [
      "\r",
      " 65%|█████████████████████████████████████████▍                      | 158/244 [00:17<00:09,  9.10it/s]"
     ]
    },
    {
     "name": "stderr",
     "output_type": "stream",
     "text": [
      "\r",
      " 65%|█████████████████████████████████████████▋                      | 159/244 [00:17<00:09,  9.07it/s]"
     ]
    },
    {
     "name": "stderr",
     "output_type": "stream",
     "text": [
      "\r",
      " 66%|█████████████████████████████████████████▉                      | 160/244 [00:17<00:09,  9.04it/s]"
     ]
    },
    {
     "name": "stderr",
     "output_type": "stream",
     "text": [
      "\r",
      " 66%|██████████████████████████████████████████▏                     | 161/244 [00:18<00:09,  9.05it/s]"
     ]
    },
    {
     "name": "stderr",
     "output_type": "stream",
     "text": [
      "\r",
      " 66%|██████████████████████████████████████████▍                     | 162/244 [00:18<00:09,  8.99it/s]"
     ]
    },
    {
     "name": "stderr",
     "output_type": "stream",
     "text": [
      "\r",
      " 67%|██████████████████████████████████████████▊                     | 163/244 [00:18<00:08,  9.00it/s]"
     ]
    },
    {
     "name": "stderr",
     "output_type": "stream",
     "text": [
      "\r",
      " 67%|███████████████████████████████████████████                     | 164/244 [00:18<00:08,  9.01it/s]"
     ]
    },
    {
     "name": "stderr",
     "output_type": "stream",
     "text": [
      "\r",
      " 68%|███████████████████████████████████████████▎                    | 165/244 [00:18<00:08,  8.97it/s]"
     ]
    },
    {
     "name": "stderr",
     "output_type": "stream",
     "text": [
      "\r",
      " 68%|███████████████████████████████████████████▌                    | 166/244 [00:18<00:08,  8.94it/s]"
     ]
    },
    {
     "name": "stderr",
     "output_type": "stream",
     "text": [
      "\r",
      " 68%|███████████████████████████████████████████▊                    | 167/244 [00:18<00:08,  8.96it/s]"
     ]
    },
    {
     "name": "stderr",
     "output_type": "stream",
     "text": [
      "\r",
      " 69%|████████████████████████████████████████████                    | 168/244 [00:18<00:08,  9.01it/s]"
     ]
    },
    {
     "name": "stderr",
     "output_type": "stream",
     "text": [
      "\r",
      " 69%|████████████████████████████████████████████▎                   | 169/244 [00:18<00:08,  8.97it/s]"
     ]
    },
    {
     "name": "stderr",
     "output_type": "stream",
     "text": [
      "\r",
      " 70%|████████████████████████████████████████████▌                   | 170/244 [00:19<00:08,  9.03it/s]"
     ]
    },
    {
     "name": "stderr",
     "output_type": "stream",
     "text": [
      "\r",
      " 70%|████████████████████████████████████████████▊                   | 171/244 [00:19<00:08,  9.08it/s]"
     ]
    },
    {
     "name": "stderr",
     "output_type": "stream",
     "text": [
      "\r",
      " 70%|█████████████████████████████████████████████                   | 172/244 [00:19<00:07,  9.08it/s]"
     ]
    },
    {
     "name": "stderr",
     "output_type": "stream",
     "text": [
      "\r",
      " 71%|█████████████████████████████████████████████▍                  | 173/244 [00:19<00:07,  9.04it/s]"
     ]
    },
    {
     "name": "stderr",
     "output_type": "stream",
     "text": [
      "\r",
      " 71%|█████████████████████████████████████████████▋                  | 174/244 [00:19<00:07,  9.06it/s]"
     ]
    },
    {
     "name": "stderr",
     "output_type": "stream",
     "text": [
      "\r",
      " 72%|█████████████████████████████████████████████▉                  | 175/244 [00:19<00:07,  9.01it/s]"
     ]
    },
    {
     "name": "stderr",
     "output_type": "stream",
     "text": [
      "\r",
      " 72%|██████████████████████████████████████████████▏                 | 176/244 [00:19<00:07,  9.07it/s]"
     ]
    },
    {
     "name": "stderr",
     "output_type": "stream",
     "text": [
      "\r",
      " 73%|██████████████████████████████████████████████▍                 | 177/244 [00:19<00:07,  9.11it/s]"
     ]
    },
    {
     "name": "stderr",
     "output_type": "stream",
     "text": [
      "\r",
      " 73%|██████████████████████████████████████████████▋                 | 178/244 [00:19<00:07,  9.08it/s]"
     ]
    },
    {
     "name": "stderr",
     "output_type": "stream",
     "text": [
      "\r",
      " 73%|██████████████████████████████████████████████▉                 | 179/244 [00:20<00:07,  9.09it/s]"
     ]
    },
    {
     "name": "stderr",
     "output_type": "stream",
     "text": [
      "\r",
      " 74%|███████████████████████████████████████████████▏                | 180/244 [00:20<00:06,  9.15it/s]"
     ]
    },
    {
     "name": "stderr",
     "output_type": "stream",
     "text": [
      "\r",
      " 74%|███████████████████████████████████████████████▍                | 181/244 [00:20<00:06,  9.21it/s]"
     ]
    },
    {
     "name": "stderr",
     "output_type": "stream",
     "text": [
      "\r",
      " 75%|███████████████████████████████████████████████▋                | 182/244 [00:20<00:06,  9.16it/s]"
     ]
    },
    {
     "name": "stderr",
     "output_type": "stream",
     "text": [
      "\r",
      " 75%|████████████████████████████████████████████████                | 183/244 [00:20<00:06,  9.07it/s]"
     ]
    },
    {
     "name": "stderr",
     "output_type": "stream",
     "text": [
      "\r",
      " 75%|████████████████████████████████████████████████▎               | 184/244 [00:20<00:06,  9.09it/s]"
     ]
    },
    {
     "name": "stderr",
     "output_type": "stream",
     "text": [
      "\r",
      " 76%|████████████████████████████████████████████████▌               | 185/244 [00:20<00:06,  9.05it/s]"
     ]
    },
    {
     "name": "stderr",
     "output_type": "stream",
     "text": [
      "\r",
      " 76%|████████████████████████████████████████████████▊               | 186/244 [00:20<00:06,  9.00it/s]"
     ]
    },
    {
     "name": "stderr",
     "output_type": "stream",
     "text": [
      "\r",
      " 77%|█████████████████████████████████████████████████               | 187/244 [00:20<00:06,  9.01it/s]"
     ]
    },
    {
     "name": "stderr",
     "output_type": "stream",
     "text": [
      "\r",
      " 77%|█████████████████████████████████████████████████▎              | 188/244 [00:21<00:06,  9.07it/s]"
     ]
    },
    {
     "name": "stderr",
     "output_type": "stream",
     "text": [
      "\r",
      " 77%|█████████████████████████████████████████████████▌              | 189/244 [00:21<00:06,  8.99it/s]"
     ]
    },
    {
     "name": "stderr",
     "output_type": "stream",
     "text": [
      "\r",
      " 78%|█████████████████████████████████████████████████▊              | 190/244 [00:21<00:06,  8.93it/s]"
     ]
    },
    {
     "name": "stderr",
     "output_type": "stream",
     "text": [
      "\r",
      " 78%|██████████████████████████████████████████████████              | 191/244 [00:21<00:05,  8.94it/s]"
     ]
    },
    {
     "name": "stderr",
     "output_type": "stream",
     "text": [
      "\r",
      " 79%|██████████████████████████████████████████████████▎             | 192/244 [00:21<00:05,  8.94it/s]"
     ]
    },
    {
     "name": "stderr",
     "output_type": "stream",
     "text": [
      "\r",
      " 79%|██████████████████████████████████████████████████▌             | 193/244 [00:21<00:05,  8.91it/s]"
     ]
    },
    {
     "name": "stderr",
     "output_type": "stream",
     "text": [
      "\r",
      " 80%|██████████████████████████████████████████████████▉             | 194/244 [00:21<00:05,  8.90it/s]"
     ]
    },
    {
     "name": "stderr",
     "output_type": "stream",
     "text": [
      "\r",
      " 80%|███████████████████████████████████████████████████▏            | 195/244 [00:21<00:05,  8.86it/s]"
     ]
    },
    {
     "name": "stderr",
     "output_type": "stream",
     "text": [
      "\r",
      " 80%|███████████████████████████████████████████████████▍            | 196/244 [00:21<00:05,  8.85it/s]"
     ]
    },
    {
     "name": "stderr",
     "output_type": "stream",
     "text": [
      "\r",
      " 81%|███████████████████████████████████████████████████▋            | 197/244 [00:22<00:05,  8.84it/s]"
     ]
    },
    {
     "name": "stderr",
     "output_type": "stream",
     "text": [
      "\r",
      " 81%|███████████████████████████████████████████████████▉            | 198/244 [00:22<00:05,  8.87it/s]"
     ]
    },
    {
     "name": "stderr",
     "output_type": "stream",
     "text": [
      "\r",
      " 82%|████████████████████████████████████████████████████▏           | 199/244 [00:22<00:05,  8.87it/s]"
     ]
    },
    {
     "name": "stderr",
     "output_type": "stream",
     "text": [
      "\r",
      " 82%|████████████████████████████████████████████████████▍           | 200/244 [00:22<00:04,  8.93it/s]"
     ]
    },
    {
     "name": "stderr",
     "output_type": "stream",
     "text": [
      "\r",
      " 82%|████████████████████████████████████████████████████▋           | 201/244 [00:22<00:04,  8.91it/s]"
     ]
    },
    {
     "name": "stderr",
     "output_type": "stream",
     "text": [
      "\r",
      " 83%|████████████████████████████████████████████████████▉           | 202/244 [00:22<00:04,  8.89it/s]"
     ]
    },
    {
     "name": "stderr",
     "output_type": "stream",
     "text": [
      "\r",
      " 83%|█████████████████████████████████████████████████████▏          | 203/244 [00:22<00:04,  8.85it/s]"
     ]
    },
    {
     "name": "stderr",
     "output_type": "stream",
     "text": [
      "\r",
      " 84%|█████████████████████████████████████████████████████▌          | 204/244 [00:22<00:04,  8.83it/s]"
     ]
    },
    {
     "name": "stderr",
     "output_type": "stream",
     "text": [
      "\r",
      " 84%|█████████████████████████████████████████████████████▊          | 205/244 [00:22<00:04,  8.82it/s]"
     ]
    },
    {
     "name": "stderr",
     "output_type": "stream",
     "text": [
      "\r",
      " 84%|██████████████████████████████████████████████████████          | 206/244 [00:23<00:04,  8.79it/s]"
     ]
    },
    {
     "name": "stderr",
     "output_type": "stream",
     "text": [
      "\r",
      " 85%|██████████████████████████████████████████████████████▎         | 207/244 [00:23<00:04,  8.75it/s]"
     ]
    },
    {
     "name": "stderr",
     "output_type": "stream",
     "text": [
      "\r",
      " 85%|██████████████████████████████████████████████████████▌         | 208/244 [00:23<00:04,  8.75it/s]"
     ]
    },
    {
     "name": "stderr",
     "output_type": "stream",
     "text": [
      "\r",
      " 86%|██████████████████████████████████████████████████████▊         | 209/244 [00:23<00:04,  8.74it/s]"
     ]
    },
    {
     "name": "stderr",
     "output_type": "stream",
     "text": [
      "\r",
      " 86%|███████████████████████████████████████████████████████         | 210/244 [00:23<00:03,  8.77it/s]"
     ]
    },
    {
     "name": "stderr",
     "output_type": "stream",
     "text": [
      "\r",
      " 86%|███████████████████████████████████████████████████████▎        | 211/244 [00:23<00:03,  8.78it/s]"
     ]
    },
    {
     "name": "stderr",
     "output_type": "stream",
     "text": [
      "\r",
      " 87%|███████████████████████████████████████████████████████▌        | 212/244 [00:23<00:03,  8.79it/s]"
     ]
    },
    {
     "name": "stderr",
     "output_type": "stream",
     "text": [
      "\r",
      " 87%|███████████████████████████████████████████████████████▊        | 213/244 [00:23<00:03,  8.80it/s]"
     ]
    },
    {
     "name": "stderr",
     "output_type": "stream",
     "text": [
      "\r",
      " 88%|████████████████████████████████████████████████████████▏       | 214/244 [00:24<00:03,  8.82it/s]"
     ]
    },
    {
     "name": "stderr",
     "output_type": "stream",
     "text": [
      "\r",
      " 88%|████████████████████████████████████████████████████████▍       | 215/244 [00:24<00:03,  8.82it/s]"
     ]
    },
    {
     "name": "stderr",
     "output_type": "stream",
     "text": [
      "\r",
      " 89%|████████████████████████████████████████████████████████▋       | 216/244 [00:24<00:03,  8.83it/s]"
     ]
    },
    {
     "name": "stderr",
     "output_type": "stream",
     "text": [
      "\r",
      " 89%|████████████████████████████████████████████████████████▉       | 217/244 [00:24<00:03,  8.89it/s]"
     ]
    },
    {
     "name": "stderr",
     "output_type": "stream",
     "text": [
      "\r",
      " 89%|█████████████████████████████████████████████████████████▏      | 218/244 [00:24<00:02,  8.92it/s]"
     ]
    },
    {
     "name": "stderr",
     "output_type": "stream",
     "text": [
      "\r",
      " 90%|█████████████████████████████████████████████████████████▍      | 219/244 [00:24<00:02,  8.94it/s]"
     ]
    },
    {
     "name": "stderr",
     "output_type": "stream",
     "text": [
      "\r",
      " 90%|█████████████████████████████████████████████████████████▋      | 220/244 [00:24<00:02,  8.94it/s]"
     ]
    },
    {
     "name": "stderr",
     "output_type": "stream",
     "text": [
      "\r",
      " 91%|█████████████████████████████████████████████████████████▉      | 221/244 [00:24<00:02,  8.92it/s]"
     ]
    },
    {
     "name": "stderr",
     "output_type": "stream",
     "text": [
      "\r",
      " 91%|██████████████████████████████████████████████████████████▏     | 222/244 [00:24<00:02,  8.90it/s]"
     ]
    },
    {
     "name": "stderr",
     "output_type": "stream",
     "text": [
      "\r",
      " 91%|██████████████████████████████████████████████████████████▍     | 223/244 [00:25<00:02,  8.89it/s]"
     ]
    },
    {
     "name": "stderr",
     "output_type": "stream",
     "text": [
      "\r",
      " 92%|██████████████████████████████████████████████████████████▊     | 224/244 [00:25<00:02,  8.90it/s]"
     ]
    },
    {
     "name": "stderr",
     "output_type": "stream",
     "text": [
      "\r",
      " 92%|███████████████████████████████████████████████████████████     | 225/244 [00:25<00:02,  8.89it/s]"
     ]
    },
    {
     "name": "stderr",
     "output_type": "stream",
     "text": [
      "\r",
      " 93%|███████████████████████████████████████████████████████████▎    | 226/244 [00:25<00:02,  8.91it/s]"
     ]
    },
    {
     "name": "stderr",
     "output_type": "stream",
     "text": [
      "\r",
      " 93%|███████████████████████████████████████████████████████████▌    | 227/244 [00:25<00:01,  8.89it/s]"
     ]
    },
    {
     "name": "stderr",
     "output_type": "stream",
     "text": [
      "\r",
      " 93%|███████████████████████████████████████████████████████████▊    | 228/244 [00:25<00:01,  8.94it/s]"
     ]
    },
    {
     "name": "stderr",
     "output_type": "stream",
     "text": [
      "\r",
      " 94%|████████████████████████████████████████████████████████████    | 229/244 [00:25<00:01,  8.95it/s]"
     ]
    },
    {
     "name": "stderr",
     "output_type": "stream",
     "text": [
      "\r",
      " 94%|████████████████████████████████████████████████████████████▎   | 230/244 [00:25<00:01,  8.79it/s]"
     ]
    },
    {
     "name": "stderr",
     "output_type": "stream",
     "text": [
      "\r",
      " 95%|████████████████████████████████████████████████████████████▌   | 231/244 [00:25<00:01,  8.79it/s]"
     ]
    },
    {
     "name": "stderr",
     "output_type": "stream",
     "text": [
      "\r",
      " 95%|████████████████████████████████████████████████████████████▊   | 232/244 [00:26<00:01,  8.67it/s]"
     ]
    },
    {
     "name": "stderr",
     "output_type": "stream",
     "text": [
      "\r",
      " 95%|█████████████████████████████████████████████████████████████   | 233/244 [00:26<00:01,  8.73it/s]"
     ]
    },
    {
     "name": "stderr",
     "output_type": "stream",
     "text": [
      "\r",
      " 96%|█████████████████████████████████████████████████████████████▍  | 234/244 [00:26<00:01,  8.83it/s]"
     ]
    },
    {
     "name": "stderr",
     "output_type": "stream",
     "text": [
      "\r",
      " 96%|█████████████████████████████████████████████████████████████▋  | 235/244 [00:26<00:01,  8.61it/s]"
     ]
    },
    {
     "name": "stderr",
     "output_type": "stream",
     "text": [
      "\r",
      " 97%|█████████████████████████████████████████████████████████████▉  | 236/244 [00:26<00:00,  8.60it/s]"
     ]
    },
    {
     "name": "stderr",
     "output_type": "stream",
     "text": [
      "\r",
      " 97%|██████████████████████████████████████████████████████████████▏ | 237/244 [00:26<00:00,  8.58it/s]"
     ]
    },
    {
     "name": "stderr",
     "output_type": "stream",
     "text": [
      "\r",
      " 98%|██████████████████████████████████████████████████████████████▍ | 238/244 [00:26<00:00,  8.59it/s]"
     ]
    },
    {
     "name": "stderr",
     "output_type": "stream",
     "text": [
      "\r",
      " 98%|██████████████████████████████████████████████████████████████▋ | 239/244 [00:26<00:00,  8.58it/s]"
     ]
    },
    {
     "name": "stderr",
     "output_type": "stream",
     "text": [
      "\r",
      " 98%|██████████████████████████████████████████████████████████████▉ | 240/244 [00:26<00:00,  8.60it/s]"
     ]
    },
    {
     "name": "stderr",
     "output_type": "stream",
     "text": [
      "\r",
      " 99%|███████████████████████████████████████████████████████████████▏| 241/244 [00:27<00:00,  8.60it/s]"
     ]
    },
    {
     "name": "stderr",
     "output_type": "stream",
     "text": [
      "\r",
      " 99%|███████████████████████████████████████████████████████████████▍| 242/244 [00:27<00:00,  8.60it/s]"
     ]
    },
    {
     "name": "stderr",
     "output_type": "stream",
     "text": [
      "\r",
      "100%|███████████████████████████████████████████████████████████████▋| 243/244 [00:27<00:00,  8.58it/s]"
     ]
    },
    {
     "name": "stderr",
     "output_type": "stream",
     "text": [
      "\r",
      "100%|████████████████████████████████████████████████████████████████| 244/244 [00:27<00:00,  8.58it/s]"
     ]
    },
    {
     "name": "stderr",
     "output_type": "stream",
     "text": [
      "\r",
      "100%|████████████████████████████████████████████████████████████████| 244/244 [00:27<00:00,  8.89it/s]"
     ]
    },
    {
     "name": "stdout",
     "output_type": "stream",
     "text": [
      "(732, 9)\n"
     ]
    },
    {
     "name": "stderr",
     "output_type": "stream",
     "text": [
      "\n"
     ]
    },
    {
     "data": {
      "text/html": [
       "<div>\n",
       "<style scoped>\n",
       "    .dataframe tbody tr th:only-of-type {\n",
       "        vertical-align: middle;\n",
       "    }\n",
       "\n",
       "    .dataframe tbody tr th {\n",
       "        vertical-align: top;\n",
       "    }\n",
       "\n",
       "    .dataframe thead th {\n",
       "        text-align: right;\n",
       "    }\n",
       "</style>\n",
       "<table border=\"1\" class=\"dataframe\">\n",
       "  <thead>\n",
       "    <tr style=\"text-align: right;\">\n",
       "      <th></th>\n",
       "      <th>group1</th>\n",
       "      <th>group2</th>\n",
       "      <th>meandiff</th>\n",
       "      <th>p-adj</th>\n",
       "      <th>lower</th>\n",
       "      <th>upper</th>\n",
       "      <th>reject</th>\n",
       "      <th>feature</th>\n",
       "      <th>anova_p_value</th>\n",
       "    </tr>\n",
       "  </thead>\n",
       "  <tbody>\n",
       "    <tr>\n",
       "      <th>0</th>\n",
       "      <td>high</td>\n",
       "      <td>unsel</td>\n",
       "      <td>-1.7236</td>\n",
       "      <td>0.0</td>\n",
       "      <td>-2.2266</td>\n",
       "      <td>-1.2205</td>\n",
       "      <td>True</td>\n",
       "      <td>AreaShape_Area</td>\n",
       "      <td>8.163020e-20</td>\n",
       "    </tr>\n",
       "    <tr>\n",
       "      <th>1</th>\n",
       "      <td>high</td>\n",
       "      <td>wt</td>\n",
       "      <td>-2.5954</td>\n",
       "      <td>0.0</td>\n",
       "      <td>-3.0938</td>\n",
       "      <td>-2.097</td>\n",
       "      <td>True</td>\n",
       "      <td>AreaShape_Area</td>\n",
       "      <td>8.163020e-20</td>\n",
       "    </tr>\n",
       "    <tr>\n",
       "      <th>2</th>\n",
       "      <td>unsel</td>\n",
       "      <td>wt</td>\n",
       "      <td>-0.8718</td>\n",
       "      <td>0.0003</td>\n",
       "      <td>-1.3749</td>\n",
       "      <td>-0.3688</td>\n",
       "      <td>True</td>\n",
       "      <td>AreaShape_Area</td>\n",
       "      <td>8.163020e-20</td>\n",
       "    </tr>\n",
       "    <tr>\n",
       "      <th>3</th>\n",
       "      <td>high</td>\n",
       "      <td>unsel</td>\n",
       "      <td>-1.5096</td>\n",
       "      <td>0.0</td>\n",
       "      <td>-1.8942</td>\n",
       "      <td>-1.125</td>\n",
       "      <td>True</td>\n",
       "      <td>AreaShape_CentralMoment_0_0</td>\n",
       "      <td>1.089545e-20</td>\n",
       "    </tr>\n",
       "    <tr>\n",
       "      <th>4</th>\n",
       "      <td>high</td>\n",
       "      <td>wt</td>\n",
       "      <td>-2.0158</td>\n",
       "      <td>0.0</td>\n",
       "      <td>-2.3969</td>\n",
       "      <td>-1.6347</td>\n",
       "      <td>True</td>\n",
       "      <td>AreaShape_CentralMoment_0_0</td>\n",
       "      <td>1.089545e-20</td>\n",
       "    </tr>\n",
       "  </tbody>\n",
       "</table>\n",
       "</div>"
      ],
      "text/plain": [
       "  group1 group2 meandiff   p-adj   lower   upper reject  \\\n",
       "0   high  unsel  -1.7236     0.0 -2.2266 -1.2205   True   \n",
       "1   high     wt  -2.5954     0.0 -3.0938  -2.097   True   \n",
       "2  unsel     wt  -0.8718  0.0003 -1.3749 -0.3688   True   \n",
       "3   high  unsel  -1.5096     0.0 -1.8942  -1.125   True   \n",
       "4   high     wt  -2.0158     0.0 -2.3969 -1.6347   True   \n",
       "\n",
       "                       feature  anova_p_value  \n",
       "0               AreaShape_Area   8.163020e-20  \n",
       "1               AreaShape_Area   8.163020e-20  \n",
       "2               AreaShape_Area   8.163020e-20  \n",
       "3  AreaShape_CentralMoment_0_0   1.089545e-20  \n",
       "4  AreaShape_CentralMoment_0_0   1.089545e-20  "
      ]
     },
     "execution_count": 5,
     "metadata": {},
     "output_type": "execute_result"
    }
   ],
   "source": [
    "anova_input_df = features_df.copy()\n",
    "anova_input_df[\"Metadata_genotype\"] = metadata_df[\"Metadata_genotype\"]\n",
    "anova_output_df = anova_function(anova_input_df, \"Metadata_genotype\")\n",
    "print(anova_output_df.shape)\n",
    "anova_output_df.head()"
   ]
  },
  {
   "cell_type": "code",
   "execution_count": 6,
   "id": "817e8227",
   "metadata": {
    "execution": {
     "iopub.execute_input": "2024-05-15T21:05:10.414798Z",
     "iopub.status.busy": "2024-05-15T21:05:10.414622Z",
     "iopub.status.idle": "2024-05-15T21:05:10.419347Z",
     "shell.execute_reply": "2024-05-15T21:05:10.419050Z"
    },
    "papermill": {
     "duration": 0.019304,
     "end_time": "2024-05-15T21:05:10.420168",
     "exception": false,
     "start_time": "2024-05-15T21:05:10.400864",
     "status": "completed"
    },
    "tags": []
   },
   "outputs": [],
   "source": [
    "# save the results\n",
    "output_file = pathlib.Path(\n",
    "    \"../../data/6.analysis_results/custom_aggregated_anova_results.parquet\"\n",
    ")\n",
    "output_file.parent.mkdir(exist_ok=True, parents=True)\n",
    "anova_output_df.to_parquet(output_file)"
   ]
  },
  {
   "cell_type": "markdown",
   "id": "83b31f35",
   "metadata": {
    "papermill": {
     "duration": 0.011033,
     "end_time": "2024-05-15T21:05:10.443879",
     "exception": false,
     "start_time": "2024-05-15T21:05:10.432846",
     "status": "completed"
    },
    "tags": []
   },
   "source": [
    "## Levene's test for homogeneity of variance"
   ]
  },
  {
   "cell_type": "code",
   "execution_count": 7,
   "id": "1e477019",
   "metadata": {
    "execution": {
     "iopub.execute_input": "2024-05-15T21:05:10.461185Z",
     "iopub.status.busy": "2024-05-15T21:05:10.460875Z",
     "iopub.status.idle": "2024-05-15T21:05:10.531951Z",
     "shell.execute_reply": "2024-05-15T21:05:10.531658Z"
    },
    "papermill": {
     "duration": 0.080319,
     "end_time": "2024-05-15T21:05:10.532634",
     "exception": false,
     "start_time": "2024-05-15T21:05:10.452315",
     "status": "completed"
    },
    "tags": []
   },
   "outputs": [
    {
     "name": "stderr",
     "output_type": "stream",
     "text": [
      "\r",
      "  0%|                                                                          | 0/244 [00:00<?, ?it/s]"
     ]
    },
    {
     "name": "stderr",
     "output_type": "stream",
     "text": [
      "\r",
      "100%|██████████████████████████████████████████████████████████████| 244/244 [00:00<00:00, 3910.56it/s]"
     ]
    },
    {
     "name": "stderr",
     "output_type": "stream",
     "text": [
      "\n"
     ]
    },
    {
     "data": {
      "text/html": [
       "<div>\n",
       "<style scoped>\n",
       "    .dataframe tbody tr th:only-of-type {\n",
       "        vertical-align: middle;\n",
       "    }\n",
       "\n",
       "    .dataframe tbody tr th {\n",
       "        vertical-align: top;\n",
       "    }\n",
       "\n",
       "    .dataframe thead th {\n",
       "        text-align: right;\n",
       "    }\n",
       "</style>\n",
       "<table border=\"1\" class=\"dataframe\">\n",
       "  <thead>\n",
       "    <tr style=\"text-align: right;\">\n",
       "      <th></th>\n",
       "      <th>feature</th>\n",
       "      <th>levene_statistic</th>\n",
       "      <th>levene_p_value</th>\n",
       "    </tr>\n",
       "  </thead>\n",
       "  <tbody>\n",
       "    <tr>\n",
       "      <th>0</th>\n",
       "      <td>AreaShape_Area</td>\n",
       "      <td>2.664096</td>\n",
       "      <td>7.583990e-02</td>\n",
       "    </tr>\n",
       "    <tr>\n",
       "      <th>1</th>\n",
       "      <td>AreaShape_CentralMoment_0_0</td>\n",
       "      <td>4.808285</td>\n",
       "      <td>1.066760e-02</td>\n",
       "    </tr>\n",
       "    <tr>\n",
       "      <th>2</th>\n",
       "      <td>AreaShape_CentralMoment_0_1</td>\n",
       "      <td>5.060027</td>\n",
       "      <td>8.525926e-03</td>\n",
       "    </tr>\n",
       "    <tr>\n",
       "      <th>3</th>\n",
       "      <td>AreaShape_CentralMoment_0_2</td>\n",
       "      <td>9.782865</td>\n",
       "      <td>1.581992e-04</td>\n",
       "    </tr>\n",
       "    <tr>\n",
       "      <th>4</th>\n",
       "      <td>AreaShape_CentralMoment_0_3</td>\n",
       "      <td>6.034346</td>\n",
       "      <td>3.623435e-03</td>\n",
       "    </tr>\n",
       "    <tr>\n",
       "      <th>...</th>\n",
       "      <td>...</td>\n",
       "      <td>...</td>\n",
       "      <td>...</td>\n",
       "    </tr>\n",
       "    <tr>\n",
       "      <th>239</th>\n",
       "      <td>Texture_SumVariance_OP_3_03_256</td>\n",
       "      <td>7.546945</td>\n",
       "      <td>9.942484e-04</td>\n",
       "    </tr>\n",
       "    <tr>\n",
       "      <th>240</th>\n",
       "      <td>Texture_Variance_OP_3_00_256</td>\n",
       "      <td>22.209099</td>\n",
       "      <td>2.129331e-08</td>\n",
       "    </tr>\n",
       "    <tr>\n",
       "      <th>241</th>\n",
       "      <td>Texture_Variance_OP_3_01_256</td>\n",
       "      <td>8.906770</td>\n",
       "      <td>3.218403e-04</td>\n",
       "    </tr>\n",
       "    <tr>\n",
       "      <th>242</th>\n",
       "      <td>Texture_Variance_OP_3_02_256</td>\n",
       "      <td>22.013897</td>\n",
       "      <td>2.414564e-08</td>\n",
       "    </tr>\n",
       "    <tr>\n",
       "      <th>243</th>\n",
       "      <td>Texture_Variance_OP_3_03_256</td>\n",
       "      <td>8.763949</td>\n",
       "      <td>3.617804e-04</td>\n",
       "    </tr>\n",
       "  </tbody>\n",
       "</table>\n",
       "<p>244 rows × 3 columns</p>\n",
       "</div>"
      ],
      "text/plain": [
       "                             feature  levene_statistic  levene_p_value\n",
       "0                     AreaShape_Area          2.664096    7.583990e-02\n",
       "1        AreaShape_CentralMoment_0_0          4.808285    1.066760e-02\n",
       "2        AreaShape_CentralMoment_0_1          5.060027    8.525926e-03\n",
       "3        AreaShape_CentralMoment_0_2          9.782865    1.581992e-04\n",
       "4        AreaShape_CentralMoment_0_3          6.034346    3.623435e-03\n",
       "..                               ...               ...             ...\n",
       "239  Texture_SumVariance_OP_3_03_256          7.546945    9.942484e-04\n",
       "240     Texture_Variance_OP_3_00_256         22.209099    2.129331e-08\n",
       "241     Texture_Variance_OP_3_01_256          8.906770    3.218403e-04\n",
       "242     Texture_Variance_OP_3_02_256         22.013897    2.414564e-08\n",
       "243     Texture_Variance_OP_3_03_256          8.763949    3.617804e-04\n",
       "\n",
       "[244 rows x 3 columns]"
      ]
     },
     "execution_count": 7,
     "metadata": {},
     "output_type": "execute_result"
    }
   ],
   "source": [
    "# split the df into three genotypes\n",
    "high_df = df[df[\"Metadata_genotype\"] == \"high\"]\n",
    "unsel_df = df[df[\"Metadata_genotype\"] == \"unsel\"]\n",
    "wt_df = df[df[\"Metadata_genotype\"] == \"wt\"]\n",
    "levene_test_results = {\"feature\": [], \"levene_statistic\": [], \"levene_p_value\": []}\n",
    "for feature in tqdm.tqdm(features_df.columns):\n",
    "    # calculate the levene test for each feature\n",
    "    levene_results = levene(wt_df[feature], unsel_df[feature], high_df[feature])\n",
    "    levene_test_results[\"feature\"].append(feature)\n",
    "    levene_test_results[\"levene_statistic\"].append(levene_results.statistic)\n",
    "    levene_test_results[\"levene_p_value\"].append(levene_results.pvalue)\n",
    "\n",
    "levene_test_results_df = pd.DataFrame(levene_test_results)\n",
    "levene_test_results_df"
   ]
  },
  {
   "cell_type": "markdown",
   "id": "942ff9a8",
   "metadata": {
    "papermill": {
     "duration": 0.008475,
     "end_time": "2024-05-15T21:05:10.549842",
     "exception": false,
     "start_time": "2024-05-15T21:05:10.541367",
     "status": "completed"
    },
    "tags": []
   },
   "source": [
    "## Calculate the levenes test statistic for the equality of variances"
   ]
  },
  {
   "cell_type": "code",
   "execution_count": 8,
   "id": "4144866b",
   "metadata": {
    "execution": {
     "iopub.execute_input": "2024-05-15T21:05:10.567633Z",
     "iopub.status.busy": "2024-05-15T21:05:10.567432Z",
     "iopub.status.idle": "2024-05-15T21:05:10.766547Z",
     "shell.execute_reply": "2024-05-15T21:05:10.766213Z"
    },
    "papermill": {
     "duration": 0.209047,
     "end_time": "2024-05-15T21:05:10.767547",
     "exception": false,
     "start_time": "2024-05-15T21:05:10.558500",
     "status": "completed"
    },
    "tags": []
   },
   "outputs": [
    {
     "name": "stderr",
     "output_type": "stream",
     "text": [
      "\r",
      "  0%|                                                                            | 0/4 [00:00<?, ?it/s]"
     ]
    },
    {
     "name": "stderr",
     "output_type": "stream",
     "text": [
      "/home/lippincm/miniconda3/envs/op_cell_processing_env/lib/python3.8/site-packages/scipy/stats/_morestats.py:2710: RuntimeWarning: invalid value encountered in scalar divide\n",
      "  W = numer / denom\n"
     ]
    },
    {
     "name": "stderr",
     "output_type": "stream",
     "text": [
      "\r",
      " 75%|███████████████████████████████████████████████████                 | 3/4 [00:00<00:00, 21.97it/s]"
     ]
    },
    {
     "name": "stderr",
     "output_type": "stream",
     "text": [
      "\r",
      "100%|████████████████████████████████████████████████████████████████████| 4/4 [00:00<00:00, 21.50it/s]"
     ]
    },
    {
     "name": "stderr",
     "output_type": "stream",
     "text": [
      "\n"
     ]
    },
    {
     "data": {
      "text/html": [
       "<div>\n",
       "<style scoped>\n",
       "    .dataframe tbody tr th:only-of-type {\n",
       "        vertical-align: middle;\n",
       "    }\n",
       "\n",
       "    .dataframe tbody tr th {\n",
       "        vertical-align: top;\n",
       "    }\n",
       "\n",
       "    .dataframe thead th {\n",
       "        text-align: right;\n",
       "    }\n",
       "</style>\n",
       "<table border=\"1\" class=\"dataframe\">\n",
       "  <thead>\n",
       "    <tr style=\"text-align: right;\">\n",
       "      <th></th>\n",
       "      <th>feature</th>\n",
       "      <th>levene_statistic</th>\n",
       "      <th>levene_p_value</th>\n",
       "      <th>group</th>\n",
       "    </tr>\n",
       "  </thead>\n",
       "  <tbody>\n",
       "    <tr>\n",
       "      <th>584</th>\n",
       "      <td>AreaShape_Zernike_9_7</td>\n",
       "      <td>0.000006</td>\n",
       "      <td>9.980628e-01</td>\n",
       "      <td>unsel_vs_wt</td>\n",
       "    </tr>\n",
       "    <tr>\n",
       "      <th>437</th>\n",
       "      <td>Texture_AngularSecondMoment_OP_3_01_256</td>\n",
       "      <td>0.000013</td>\n",
       "      <td>9.971029e-01</td>\n",
       "      <td>high_vs_wt</td>\n",
       "    </tr>\n",
       "    <tr>\n",
       "      <th>618</th>\n",
       "      <td>RadialDistribution_RadialCV_OP_1of4</td>\n",
       "      <td>0.000150</td>\n",
       "      <td>9.902816e-01</td>\n",
       "      <td>unsel_vs_wt</td>\n",
       "    </tr>\n",
       "    <tr>\n",
       "      <th>58</th>\n",
       "      <td>AreaShape_SpatialMoment_0_2</td>\n",
       "      <td>0.000379</td>\n",
       "      <td>9.845444e-01</td>\n",
       "      <td>high_vs_unsel</td>\n",
       "    </tr>\n",
       "    <tr>\n",
       "      <th>916</th>\n",
       "      <td>RadialDistribution_ZernikePhase_OP_8_4</td>\n",
       "      <td>0.017349</td>\n",
       "      <td>9.828045e-01</td>\n",
       "      <td>all</td>\n",
       "    </tr>\n",
       "    <tr>\n",
       "      <th>...</th>\n",
       "      <td>...</td>\n",
       "      <td>...</td>\n",
       "      <td>...</td>\n",
       "      <td>...</td>\n",
       "    </tr>\n",
       "    <tr>\n",
       "      <th>886</th>\n",
       "      <td>RadialDistribution_ZernikeMagnitude_OP_8_0</td>\n",
       "      <td>31.690623</td>\n",
       "      <td>7.309801e-11</td>\n",
       "      <td>all</td>\n",
       "    </tr>\n",
       "    <tr>\n",
       "      <th>888</th>\n",
       "      <td>RadialDistribution_ZernikeMagnitude_OP_8_4</td>\n",
       "      <td>32.285839</td>\n",
       "      <td>5.251345e-11</td>\n",
       "      <td>all</td>\n",
       "    </tr>\n",
       "    <tr>\n",
       "      <th>266</th>\n",
       "      <td>AreaShape_HuMoment_2</td>\n",
       "      <td>67.925962</td>\n",
       "      <td>4.025587e-11</td>\n",
       "      <td>high_vs_wt</td>\n",
       "    </tr>\n",
       "    <tr>\n",
       "      <th>872</th>\n",
       "      <td>RadialDistribution_ZernikeMagnitude_OP_4_0</td>\n",
       "      <td>42.876346</td>\n",
       "      <td>2.213991e-13</td>\n",
       "      <td>all</td>\n",
       "    </tr>\n",
       "    <tr>\n",
       "      <th>412</th>\n",
       "      <td>RadialDistribution_ZernikePhase_OP_4_0</td>\n",
       "      <td>NaN</td>\n",
       "      <td>NaN</td>\n",
       "      <td>high_vs_wt</td>\n",
       "    </tr>\n",
       "  </tbody>\n",
       "</table>\n",
       "<p>976 rows × 4 columns</p>\n",
       "</div>"
      ],
      "text/plain": [
       "                                        feature  levene_statistic  \\\n",
       "584                       AreaShape_Zernike_9_7          0.000006   \n",
       "437     Texture_AngularSecondMoment_OP_3_01_256          0.000013   \n",
       "618         RadialDistribution_RadialCV_OP_1of4          0.000150   \n",
       "58                  AreaShape_SpatialMoment_0_2          0.000379   \n",
       "916      RadialDistribution_ZernikePhase_OP_8_4          0.017349   \n",
       "..                                          ...               ...   \n",
       "886  RadialDistribution_ZernikeMagnitude_OP_8_0         31.690623   \n",
       "888  RadialDistribution_ZernikeMagnitude_OP_8_4         32.285839   \n",
       "266                        AreaShape_HuMoment_2         67.925962   \n",
       "872  RadialDistribution_ZernikeMagnitude_OP_4_0         42.876346   \n",
       "412      RadialDistribution_ZernikePhase_OP_4_0               NaN   \n",
       "\n",
       "     levene_p_value          group  \n",
       "584    9.980628e-01    unsel_vs_wt  \n",
       "437    9.971029e-01     high_vs_wt  \n",
       "618    9.902816e-01    unsel_vs_wt  \n",
       "58     9.845444e-01  high_vs_unsel  \n",
       "916    9.828045e-01            all  \n",
       "..              ...            ...  \n",
       "886    7.309801e-11            all  \n",
       "888    5.251345e-11            all  \n",
       "266    4.025587e-11     high_vs_wt  \n",
       "872    2.213991e-13            all  \n",
       "412             NaN     high_vs_wt  \n",
       "\n",
       "[976 rows x 4 columns]"
      ]
     },
     "execution_count": 8,
     "metadata": {},
     "output_type": "execute_result"
    }
   ],
   "source": [
    "# split the df into three genotypes\n",
    "high_df = df[df[\"Metadata_genotype\"] == \"high\"]\n",
    "unsel_df = df[df[\"Metadata_genotype\"] == \"unsel\"]\n",
    "wt_df = df[df[\"Metadata_genotype\"] == \"wt\"]\n",
    "group_dict = {\n",
    "    \"high_vs_unsel\": [high_df, unsel_df],\n",
    "    \"high_vs_wt\": [high_df, wt_df],\n",
    "    \"unsel_vs_wt\": [wt_df, unsel_df],\n",
    "    \"all\": [high_df, unsel_df, wt_df],\n",
    "}\n",
    "\n",
    "\n",
    "levene_test_results = {\n",
    "    \"feature\": [],\n",
    "    \"levene_statistic\": [],\n",
    "    \"levene_p_value\": [],\n",
    "    \"group\": [],\n",
    "}\n",
    "for group in tqdm.tqdm(group_dict.keys()):\n",
    "    for feature in features_df.columns:\n",
    "        # calculate the levene test for each feature\n",
    "        if not group == \"all\":\n",
    "            levene_results = levene(\n",
    "                group_dict[group][0][feature], group_dict[group][1][feature]\n",
    "            )\n",
    "            levene_test_results[\"feature\"].append(feature)\n",
    "            levene_test_results[\"levene_statistic\"].append(levene_results.statistic)\n",
    "            levene_test_results[\"levene_p_value\"].append(levene_results.pvalue)\n",
    "            levene_test_results[\"group\"].append(group)\n",
    "        else:\n",
    "            levene_results = levene(\n",
    "                group_dict[group][0][feature],\n",
    "                group_dict[group][1][feature],\n",
    "                group_dict[group][2][feature],\n",
    "            )\n",
    "            levene_test_results[\"feature\"].append(feature)\n",
    "            levene_test_results[\"levene_statistic\"].append(levene_results.statistic)\n",
    "            levene_test_results[\"levene_p_value\"].append(levene_results.pvalue)\n",
    "            levene_test_results[\"group\"].append(group)\n",
    "\n",
    "levene_test_results_df = pd.DataFrame(levene_test_results)\n",
    "\n",
    "# sort the levene test results levene_test_results_df\n",
    "# change the levene p-value to a float\n",
    "levene_test_results_df[\"levene_p_value\"] = levene_test_results_df[\n",
    "    \"levene_p_value\"\n",
    "].astype(float)\n",
    "levene_test_results_df = levene_test_results_df.sort_values(\n",
    "    \"levene_p_value\", ascending=False\n",
    ")\n",
    "levene_test_results_df"
   ]
  },
  {
   "cell_type": "code",
   "execution_count": 9,
   "id": "d06cbc84",
   "metadata": {
    "execution": {
     "iopub.execute_input": "2024-05-15T21:05:10.795350Z",
     "iopub.status.busy": "2024-05-15T21:05:10.795166Z",
     "iopub.status.idle": "2024-05-15T21:05:10.800853Z",
     "shell.execute_reply": "2024-05-15T21:05:10.800493Z"
    },
    "papermill": {
     "duration": 0.020642,
     "end_time": "2024-05-15T21:05:10.801719",
     "exception": false,
     "start_time": "2024-05-15T21:05:10.781077",
     "status": "completed"
    },
    "tags": []
   },
   "outputs": [],
   "source": [
    "# save the levene test results\n",
    "# out dir\n",
    "out_dir = pathlib.Path(\"../../data/6.analysis_results/\")\n",
    "# create the dir if it does not exist\n",
    "out_dir.mkdir(parents=True, exist_ok=True)\n",
    "levene_test_results_path = pathlib.Path(\n",
    "    out_dir / \"custom_aggregated_levene_test_results.csv\"\n",
    ")\n",
    "levene_test_results_df.to_csv(levene_test_results_path)"
   ]
  },
  {
   "cell_type": "markdown",
   "id": "386996ba",
   "metadata": {
    "papermill": {
     "duration": 0.011955,
     "end_time": "2024-05-15T21:05:10.826462",
     "exception": false,
     "start_time": "2024-05-15T21:05:10.814507",
     "status": "completed"
    },
    "tags": []
   },
   "source": [
    "### Calculate the levene test statistic for the aggregated data across feature types and genotypes"
   ]
  },
  {
   "cell_type": "code",
   "execution_count": 10,
   "id": "9523519c",
   "metadata": {
    "execution": {
     "iopub.execute_input": "2024-05-15T21:05:10.844092Z",
     "iopub.status.busy": "2024-05-15T21:05:10.843858Z",
     "iopub.status.idle": "2024-05-15T21:05:10.935498Z",
     "shell.execute_reply": "2024-05-15T21:05:10.935151Z"
    },
    "papermill": {
     "duration": 0.101333,
     "end_time": "2024-05-15T21:05:10.936266",
     "exception": false,
     "start_time": "2024-05-15T21:05:10.834933",
     "status": "completed"
    },
    "tags": []
   },
   "outputs": [
    {
     "data": {
      "text/html": [
       "<div>\n",
       "<style scoped>\n",
       "    .dataframe tbody tr th:only-of-type {\n",
       "        vertical-align: middle;\n",
       "    }\n",
       "\n",
       "    .dataframe tbody tr th {\n",
       "        vertical-align: top;\n",
       "    }\n",
       "\n",
       "    .dataframe thead th {\n",
       "        text-align: right;\n",
       "    }\n",
       "</style>\n",
       "<table border=\"1\" class=\"dataframe\">\n",
       "  <thead>\n",
       "    <tr style=\"text-align: right;\">\n",
       "      <th></th>\n",
       "      <th>Metadata_genotype</th>\n",
       "      <th>feature</th>\n",
       "      <th>value</th>\n",
       "      <th>feature_group</th>\n",
       "      <th>measurement</th>\n",
       "      <th>bone</th>\n",
       "      <th>parameter1</th>\n",
       "      <th>parameter2</th>\n",
       "      <th>parameter3</th>\n",
       "    </tr>\n",
       "  </thead>\n",
       "  <tbody>\n",
       "    <tr>\n",
       "      <th>0</th>\n",
       "      <td>High-Severity</td>\n",
       "      <td>AreaShape_Area</td>\n",
       "      <td>-0.178797</td>\n",
       "      <td>AreaShape</td>\n",
       "      <td>Area</td>\n",
       "      <td>None</td>\n",
       "      <td>None</td>\n",
       "      <td>None</td>\n",
       "      <td>None</td>\n",
       "    </tr>\n",
       "    <tr>\n",
       "      <th>1</th>\n",
       "      <td>High-Severity</td>\n",
       "      <td>AreaShape_Area</td>\n",
       "      <td>1.371763</td>\n",
       "      <td>AreaShape</td>\n",
       "      <td>Area</td>\n",
       "      <td>None</td>\n",
       "      <td>None</td>\n",
       "      <td>None</td>\n",
       "      <td>None</td>\n",
       "    </tr>\n",
       "    <tr>\n",
       "      <th>2</th>\n",
       "      <td>High-Severity</td>\n",
       "      <td>AreaShape_Area</td>\n",
       "      <td>1.706234</td>\n",
       "      <td>AreaShape</td>\n",
       "      <td>Area</td>\n",
       "      <td>None</td>\n",
       "      <td>None</td>\n",
       "      <td>None</td>\n",
       "      <td>None</td>\n",
       "    </tr>\n",
       "    <tr>\n",
       "      <th>3</th>\n",
       "      <td>High-Severity</td>\n",
       "      <td>AreaShape_Area</td>\n",
       "      <td>0.771674</td>\n",
       "      <td>AreaShape</td>\n",
       "      <td>Area</td>\n",
       "      <td>None</td>\n",
       "      <td>None</td>\n",
       "      <td>None</td>\n",
       "      <td>None</td>\n",
       "    </tr>\n",
       "    <tr>\n",
       "      <th>4</th>\n",
       "      <td>High-Severity</td>\n",
       "      <td>AreaShape_Area</td>\n",
       "      <td>2.180858</td>\n",
       "      <td>AreaShape</td>\n",
       "      <td>Area</td>\n",
       "      <td>None</td>\n",
       "      <td>None</td>\n",
       "      <td>None</td>\n",
       "      <td>None</td>\n",
       "    </tr>\n",
       "  </tbody>\n",
       "</table>\n",
       "</div>"
      ],
      "text/plain": [
       "  Metadata_genotype         feature     value feature_group measurement  bone  \\\n",
       "0     High-Severity  AreaShape_Area -0.178797     AreaShape        Area  None   \n",
       "1     High-Severity  AreaShape_Area  1.371763     AreaShape        Area  None   \n",
       "2     High-Severity  AreaShape_Area  1.706234     AreaShape        Area  None   \n",
       "3     High-Severity  AreaShape_Area  0.771674     AreaShape        Area  None   \n",
       "4     High-Severity  AreaShape_Area  2.180858     AreaShape        Area  None   \n",
       "\n",
       "  parameter1 parameter2 parameter3  \n",
       "0       None       None       None  \n",
       "1       None       None       None  \n",
       "2       None       None       None  \n",
       "3       None       None       None  \n",
       "4       None       None       None  "
      ]
     },
     "execution_count": 10,
     "metadata": {},
     "output_type": "execute_result"
    }
   ],
   "source": [
    "data_path = pathlib.Path(\n",
    "    \"../../data/5.converted_data/custom_aggregated_data.parquet\"\n",
    ").resolve(strict=True)\n",
    "# Read the data\n",
    "data = pd.read_parquet(data_path)\n",
    "\n",
    "# Drop all metadata except for the genotype data\n",
    "features_df = data.drop(columns=data.filter(like=\"Metadata\").columns)\n",
    "features_df[\"Metadata_genotype\"] = data[\"Metadata_genotype\"]\n",
    "\n",
    "\n",
    "# turn the features into a long format\n",
    "features_long_df = features_df.melt(\n",
    "    id_vars=\"Metadata_genotype\", var_name=\"feature\", value_name=\"value\"\n",
    ")\n",
    "features_long_df.head()\n",
    "# Separate the feature into different parts\n",
    "features_long_df[\n",
    "    [\"feature_group\", \"measurement\", \"bone\", \"parameter1\", \"parameter2\", \"parameter3\"]\n",
    "] = features_long_df[\"feature\"].str.split(\"_\", expand=True)\n",
    "\n",
    "# Replace the Metadata_genotype with the actual genotype name\n",
    "features_long_df[\"Metadata_genotype\"] = features_long_df[\"Metadata_genotype\"].replace(\n",
    "    {\"high\": \"High-Severity\", \"unsel\": \"Mid-Severity\", \"wt\": \"Wild Type\"}\n",
    ")\n",
    "features_long_df.head()"
   ]
  },
  {
   "cell_type": "code",
   "execution_count": 11,
   "id": "511be48d",
   "metadata": {
    "execution": {
     "iopub.execute_input": "2024-05-15T21:05:10.955094Z",
     "iopub.status.busy": "2024-05-15T21:05:10.954794Z",
     "iopub.status.idle": "2024-05-15T21:05:10.983119Z",
     "shell.execute_reply": "2024-05-15T21:05:10.982809Z"
    },
    "papermill": {
     "duration": 0.038553,
     "end_time": "2024-05-15T21:05:10.983871",
     "exception": false,
     "start_time": "2024-05-15T21:05:10.945318",
     "status": "completed"
    },
    "tags": []
   },
   "outputs": [
    {
     "name": "stderr",
     "output_type": "stream",
     "text": [
      "\r",
      "  0%|                                                                            | 0/5 [00:00<?, ?it/s]"
     ]
    },
    {
     "name": "stderr",
     "output_type": "stream",
     "text": [
      "\r",
      "100%|██████████████████████████████████████████████████████████████████| 5/5 [00:00<00:00, 1439.76it/s]"
     ]
    },
    {
     "name": "stderr",
     "output_type": "stream",
     "text": [
      "\n"
     ]
    },
    {
     "data": {
      "text/html": [
       "<div>\n",
       "<style scoped>\n",
       "    .dataframe tbody tr th:only-of-type {\n",
       "        vertical-align: middle;\n",
       "    }\n",
       "\n",
       "    .dataframe tbody tr th {\n",
       "        vertical-align: top;\n",
       "    }\n",
       "\n",
       "    .dataframe thead th {\n",
       "        text-align: right;\n",
       "    }\n",
       "</style>\n",
       "<table border=\"1\" class=\"dataframe\">\n",
       "  <thead>\n",
       "    <tr style=\"text-align: right;\">\n",
       "      <th></th>\n",
       "      <th>feature_group</th>\n",
       "      <th>levene_statistic</th>\n",
       "      <th>levene_p_value</th>\n",
       "      <th>group</th>\n",
       "    </tr>\n",
       "  </thead>\n",
       "  <tbody>\n",
       "    <tr>\n",
       "      <th>0</th>\n",
       "      <td>AreaShape</td>\n",
       "      <td>47.175905</td>\n",
       "      <td>7.222090e-12</td>\n",
       "      <td>high_area_v_unsel_area</td>\n",
       "    </tr>\n",
       "    <tr>\n",
       "      <th>1</th>\n",
       "      <td>AreaShape</td>\n",
       "      <td>113.242704</td>\n",
       "      <td>3.432556e-26</td>\n",
       "      <td>high_area_v_wt_area</td>\n",
       "    </tr>\n",
       "    <tr>\n",
       "      <th>2</th>\n",
       "      <td>AreaShape</td>\n",
       "      <td>7.530054</td>\n",
       "      <td>6.087899e-03</td>\n",
       "      <td>unsel_area_v_wt_area</td>\n",
       "    </tr>\n",
       "    <tr>\n",
       "      <th>3</th>\n",
       "      <td>Intensity</td>\n",
       "      <td>0.931100</td>\n",
       "      <td>3.348608e-01</td>\n",
       "      <td>high_intensity_v_unsel_intensity</td>\n",
       "    </tr>\n",
       "    <tr>\n",
       "      <th>4</th>\n",
       "      <td>Intensity</td>\n",
       "      <td>59.572829</td>\n",
       "      <td>3.351570e-14</td>\n",
       "      <td>high_intensity_v_wt_intensity</td>\n",
       "    </tr>\n",
       "  </tbody>\n",
       "</table>\n",
       "</div>"
      ],
      "text/plain": [
       "  feature_group  levene_statistic  levene_p_value  \\\n",
       "0     AreaShape         47.175905    7.222090e-12   \n",
       "1     AreaShape        113.242704    3.432556e-26   \n",
       "2     AreaShape          7.530054    6.087899e-03   \n",
       "3     Intensity          0.931100    3.348608e-01   \n",
       "4     Intensity         59.572829    3.351570e-14   \n",
       "\n",
       "                              group  \n",
       "0            high_area_v_unsel_area  \n",
       "1               high_area_v_wt_area  \n",
       "2              unsel_area_v_wt_area  \n",
       "3  high_intensity_v_unsel_intensity  \n",
       "4     high_intensity_v_wt_intensity  "
      ]
     },
     "execution_count": 11,
     "metadata": {},
     "output_type": "execute_result"
    }
   ],
   "source": [
    "# break each genotype and featuretype into a separate dataframe\n",
    "high_df = features_long_df[features_long_df[\"Metadata_genotype\"] == \"High-Severity\"]\n",
    "unsel_df = features_long_df[features_long_df[\"Metadata_genotype\"] == \"Mid-Severity\"]\n",
    "wt_df = features_long_df[features_long_df[\"Metadata_genotype\"] == \"Wild Type\"]\n",
    "\n",
    "# each feature group\n",
    "high_df_AreaShape = high_df[high_df[\"feature_group\"] == \"AreaShape\"]\n",
    "high_df_Intensity = high_df[high_df[\"feature_group\"] == \"Intensity\"]\n",
    "high_df_Neighbors = high_df[high_df[\"feature_group\"] == \"Neighbors\"]\n",
    "high_df_radial = high_df[high_df[\"feature_group\"] == \"RadialDistribution\"]\n",
    "high_df_Granularity = high_df[high_df[\"feature_group\"] == \"Granularity\"]\n",
    "\n",
    "unsel_df_AreaShape = unsel_df[unsel_df[\"feature_group\"] == \"AreaShape\"]\n",
    "unsel_df_Intensity = unsel_df[unsel_df[\"feature_group\"] == \"Intensity\"]\n",
    "unsel_df_Neighbors = unsel_df[unsel_df[\"feature_group\"] == \"Neighbors\"]\n",
    "unsel_df_radial = unsel_df[unsel_df[\"feature_group\"] == \"RadialDistribution\"]\n",
    "unsel_df_Granularity = unsel_df[unsel_df[\"feature_group\"] == \"Granularity\"]\n",
    "\n",
    "wt_df_AreaShape = wt_df[wt_df[\"feature_group\"] == \"AreaShape\"]\n",
    "wt_df_Intensity = wt_df[wt_df[\"feature_group\"] == \"Intensity\"]\n",
    "wt_df_Neighbors = wt_df[wt_df[\"feature_group\"] == \"Neighbors\"]\n",
    "wt_df_radial = wt_df[wt_df[\"feature_group\"] == \"RadialDistribution\"]\n",
    "wt_df_Granularity = wt_df[wt_df[\"feature_group\"] == \"Granularity\"]\n",
    "\n",
    "# levene test for each feature group\n",
    "levene_test_results = {\n",
    "    \"feature_group\": [],\n",
    "    \"levene_statistic\": [],\n",
    "    \"levene_p_value\": [],\n",
    "    \"group\": [],\n",
    "}\n",
    "\n",
    "group_dict = {\n",
    "    \"AreaShape\": {\n",
    "        \"high_area_v_unsel_area\": [high_df_AreaShape, unsel_df_AreaShape],\n",
    "        \"high_area_v_wt_area\": [high_df_AreaShape, wt_df_AreaShape],\n",
    "        \"unsel_area_v_wt_area\": [wt_df_AreaShape, unsel_df_AreaShape],\n",
    "    },\n",
    "    \"Intensity\": {\n",
    "        \"high_intensity_v_unsel_intensity\": [high_df_Intensity, unsel_df_Intensity],\n",
    "        \"high_intensity_v_wt_intensity\": [high_df_Intensity, wt_df_Intensity],\n",
    "        \"unsel_intensity_v_wt_intensity\": [wt_df_Intensity, unsel_df_Intensity],\n",
    "    },\n",
    "    \"Neighbors\": {\n",
    "        \"high_neighbors_v_unsel_neighbors\": [high_df_Neighbors, unsel_df_Neighbors],\n",
    "        \"high_neighbors_v_wt_neighbors\": [high_df_Neighbors, wt_df_Neighbors],\n",
    "        \"unsel_neighbors_v_wt_neighbors\": [wt_df_Neighbors, unsel_df_Neighbors],\n",
    "    },\n",
    "    \"RadialDistribution\": {\n",
    "        \"high_radial_v_unsel_radial\": [high_df_radial, unsel_df_radial],\n",
    "        \"high_radial_v_wt_radial\": [high_df_radial, wt_df_radial],\n",
    "        \"unsel_radial_v_wt_radial\": [wt_df_radial, unsel_df_radial],\n",
    "    },\n",
    "    \"Granularity\": {\n",
    "        \"high_granularity_v_unsel_granularity\": [\n",
    "            high_df_Granularity,\n",
    "            unsel_df_Granularity,\n",
    "        ],\n",
    "        \"high_granularity_v_wt_granularity\": [high_df_Granularity, wt_df_Granularity],\n",
    "        \"unsel_granularity_v_wt_granularity\": [wt_df_Granularity, unsel_df_Granularity],\n",
    "    },\n",
    "}\n",
    "\n",
    "for feature_group in tqdm.tqdm(group_dict.keys()):\n",
    "    for group in group_dict[feature_group].keys():\n",
    "        if not group == \"all\":\n",
    "            levene_results = levene(\n",
    "                group_dict[feature_group][group][0][\"value\"],\n",
    "                group_dict[feature_group][group][1][\"value\"],\n",
    "            )\n",
    "            # calculate the variance for each feature group\n",
    "\n",
    "            levene_test_results[\"feature_group\"].append(feature_group)\n",
    "            levene_test_results[\"levene_statistic\"].append(levene_results.statistic)\n",
    "            levene_test_results[\"levene_p_value\"].append(levene_results.pvalue)\n",
    "            levene_test_results[\"group\"].append(group)\n",
    "        else:\n",
    "            pass\n",
    "\n",
    "levene_test_results_df = pd.DataFrame(levene_test_results)\n",
    "levene_test_results_df.head()"
   ]
  },
  {
   "cell_type": "code",
   "execution_count": 12,
   "id": "38da113e",
   "metadata": {
    "execution": {
     "iopub.execute_input": "2024-05-15T21:05:11.002382Z",
     "iopub.status.busy": "2024-05-15T21:05:11.002161Z",
     "iopub.status.idle": "2024-05-15T21:05:11.004905Z",
     "shell.execute_reply": "2024-05-15T21:05:11.004620Z"
    },
    "papermill": {
     "duration": 0.012572,
     "end_time": "2024-05-15T21:05:11.005564",
     "exception": false,
     "start_time": "2024-05-15T21:05:10.992992",
     "status": "completed"
    },
    "tags": []
   },
   "outputs": [],
   "source": [
    "# save the levene test results\n",
    "# out dir\n",
    "out_dir = pathlib.Path(\"../../data/6.analysis_results/\")\n",
    "# create the dir if it does not exist\n",
    "out_dir.mkdir(parents=True, exist_ok=True)\n",
    "levene_test_results_path = pathlib.Path(\n",
    "    out_dir / \"custom_aggregated_levene_test_results_feature_types.csv\"\n",
    ")\n",
    "levene_test_results_df.to_csv(levene_test_results_path, index=False)"
   ]
  },
  {
   "cell_type": "code",
   "execution_count": 13,
   "id": "765c7701",
   "metadata": {
    "execution": {
     "iopub.execute_input": "2024-05-15T21:05:11.023717Z",
     "iopub.status.busy": "2024-05-15T21:05:11.023519Z",
     "iopub.status.idle": "2024-05-15T21:05:11.036673Z",
     "shell.execute_reply": "2024-05-15T21:05:11.036387Z"
    },
    "papermill": {
     "duration": 0.023012,
     "end_time": "2024-05-15T21:05:11.037341",
     "exception": false,
     "start_time": "2024-05-15T21:05:11.014329",
     "status": "completed"
    },
    "tags": []
   },
   "outputs": [
    {
     "data": {
      "text/html": [
       "<div>\n",
       "<style scoped>\n",
       "    .dataframe tbody tr th:only-of-type {\n",
       "        vertical-align: middle;\n",
       "    }\n",
       "\n",
       "    .dataframe tbody tr th {\n",
       "        vertical-align: top;\n",
       "    }\n",
       "\n",
       "    .dataframe thead th {\n",
       "        text-align: right;\n",
       "    }\n",
       "</style>\n",
       "<table border=\"1\" class=\"dataframe\">\n",
       "  <thead>\n",
       "    <tr style=\"text-align: right;\">\n",
       "      <th></th>\n",
       "      <th>Metadata_genotype</th>\n",
       "      <th>feature</th>\n",
       "      <th>value</th>\n",
       "    </tr>\n",
       "  </thead>\n",
       "  <tbody>\n",
       "    <tr>\n",
       "      <th>0</th>\n",
       "      <td>high</td>\n",
       "      <td>AreaShape_Area</td>\n",
       "      <td>-0.178797</td>\n",
       "    </tr>\n",
       "    <tr>\n",
       "      <th>1</th>\n",
       "      <td>high</td>\n",
       "      <td>AreaShape_Area</td>\n",
       "      <td>1.371763</td>\n",
       "    </tr>\n",
       "    <tr>\n",
       "      <th>2</th>\n",
       "      <td>high</td>\n",
       "      <td>AreaShape_Area</td>\n",
       "      <td>1.706234</td>\n",
       "    </tr>\n",
       "    <tr>\n",
       "      <th>3</th>\n",
       "      <td>high</td>\n",
       "      <td>AreaShape_Area</td>\n",
       "      <td>0.771674</td>\n",
       "    </tr>\n",
       "    <tr>\n",
       "      <th>4</th>\n",
       "      <td>high</td>\n",
       "      <td>AreaShape_Area</td>\n",
       "      <td>2.180858</td>\n",
       "    </tr>\n",
       "    <tr>\n",
       "      <th>...</th>\n",
       "      <td>...</td>\n",
       "      <td>...</td>\n",
       "      <td>...</td>\n",
       "    </tr>\n",
       "    <tr>\n",
       "      <th>20247</th>\n",
       "      <td>wt</td>\n",
       "      <td>Texture_Variance_OP_3_03_256</td>\n",
       "      <td>1.434540</td>\n",
       "    </tr>\n",
       "    <tr>\n",
       "      <th>20248</th>\n",
       "      <td>wt</td>\n",
       "      <td>Texture_Variance_OP_3_03_256</td>\n",
       "      <td>1.956497</td>\n",
       "    </tr>\n",
       "    <tr>\n",
       "      <th>20249</th>\n",
       "      <td>wt</td>\n",
       "      <td>Texture_Variance_OP_3_03_256</td>\n",
       "      <td>1.223845</td>\n",
       "    </tr>\n",
       "    <tr>\n",
       "      <th>20250</th>\n",
       "      <td>wt</td>\n",
       "      <td>Texture_Variance_OP_3_03_256</td>\n",
       "      <td>-1.017697</td>\n",
       "    </tr>\n",
       "    <tr>\n",
       "      <th>20251</th>\n",
       "      <td>wt</td>\n",
       "      <td>Texture_Variance_OP_3_03_256</td>\n",
       "      <td>-0.849900</td>\n",
       "    </tr>\n",
       "  </tbody>\n",
       "</table>\n",
       "<p>20252 rows × 3 columns</p>\n",
       "</div>"
      ],
      "text/plain": [
       "      Metadata_genotype                       feature     value\n",
       "0                  high                AreaShape_Area -0.178797\n",
       "1                  high                AreaShape_Area  1.371763\n",
       "2                  high                AreaShape_Area  1.706234\n",
       "3                  high                AreaShape_Area  0.771674\n",
       "4                  high                AreaShape_Area  2.180858\n",
       "...                 ...                           ...       ...\n",
       "20247                wt  Texture_Variance_OP_3_03_256  1.434540\n",
       "20248                wt  Texture_Variance_OP_3_03_256  1.956497\n",
       "20249                wt  Texture_Variance_OP_3_03_256  1.223845\n",
       "20250                wt  Texture_Variance_OP_3_03_256 -1.017697\n",
       "20251                wt  Texture_Variance_OP_3_03_256 -0.849900\n",
       "\n",
       "[20252 rows x 3 columns]"
      ]
     },
     "execution_count": 13,
     "metadata": {},
     "output_type": "execute_result"
    }
   ],
   "source": [
    "# Drop all metadata except for the genotype data\n",
    "features_df = data.drop(columns=data.filter(like=\"Metadata\").columns)\n",
    "features_df[\"Metadata_genotype\"] = data[\"Metadata_genotype\"]\n",
    "\n",
    "# turn the features into a long format\n",
    "features_long_df = features_df.melt(\n",
    "    id_vars=\"Metadata_genotype\", var_name=\"feature\", value_name=\"value\"\n",
    ")\n",
    "features_long_df"
   ]
  },
  {
   "cell_type": "code",
   "execution_count": 14,
   "id": "5a66a687",
   "metadata": {
    "execution": {
     "iopub.execute_input": "2024-05-15T21:05:11.055996Z",
     "iopub.status.busy": "2024-05-15T21:05:11.055782Z",
     "iopub.status.idle": "2024-05-15T21:05:11.060875Z",
     "shell.execute_reply": "2024-05-15T21:05:11.060588Z"
    },
    "papermill": {
     "duration": 0.015349,
     "end_time": "2024-05-15T21:05:11.061704",
     "exception": false,
     "start_time": "2024-05-15T21:05:11.046355",
     "status": "completed"
    },
    "tags": []
   },
   "outputs": [],
   "source": [
    "# get the variance for each feature group\n",
    "var_df = features_long_df.groupby([\"Metadata_genotype\", \"feature\"]).var().reset_index()\n",
    "var_df.head()\n",
    "# change the value column name to variance\n",
    "var_df.rename(columns={\"value\": \"variance\"}, inplace=True)"
   ]
  },
  {
   "cell_type": "code",
   "execution_count": 15,
   "id": "cb8cda14",
   "metadata": {
    "execution": {
     "iopub.execute_input": "2024-05-15T21:05:11.080630Z",
     "iopub.status.busy": "2024-05-15T21:05:11.080402Z",
     "iopub.status.idle": "2024-05-15T21:05:11.086875Z",
     "shell.execute_reply": "2024-05-15T21:05:11.086592Z"
    },
    "papermill": {
     "duration": 0.016772,
     "end_time": "2024-05-15T21:05:11.087752",
     "exception": false,
     "start_time": "2024-05-15T21:05:11.070980",
     "status": "completed"
    },
    "tags": []
   },
   "outputs": [],
   "source": [
    "var_df[\n",
    "    [\"feature_group\", \"measurement\", \"bone\", \"parameter1\", \"parameter2\", \"parameter3\"]\n",
    "] = var_df[\"feature\"].str.split(\"_\", expand=True)\n",
    "\n",
    "\n",
    "# Replace the Metadata_genotype with the actual genotype name\n",
    "var_df[\"Metadata_genotype\"] = var_df[\"Metadata_genotype\"].replace(\n",
    "    {\"high\": \"High-Severity\", \"unsel\": \"Mid-Severity\", \"wt\": \"Wild Type\"}\n",
    ")\n",
    "var_df\n",
    "var_df = var_df.drop(\n",
    "    columns=[\"feature\", \"measurement\", \"bone\", \"parameter1\", \"parameter2\", \"parameter3\"]\n",
    ")\n",
    "var_df\n",
    "# save the variance results\n",
    "var_path = pathlib.Path(\n",
    "    out_dir / \"custom_aggregated_variance_results_feature_types.csv\"\n",
    ")\n",
    "var_df.to_csv(var_path, index=False)"
   ]
  },
  {
   "cell_type": "code",
   "execution_count": 16,
   "id": "4022ee0a",
   "metadata": {
    "execution": {
     "iopub.execute_input": "2024-05-15T21:05:11.106433Z",
     "iopub.status.busy": "2024-05-15T21:05:11.106184Z",
     "iopub.status.idle": "2024-05-15T21:05:11.115500Z",
     "shell.execute_reply": "2024-05-15T21:05:11.115214Z"
    },
    "papermill": {
     "duration": 0.019439,
     "end_time": "2024-05-15T21:05:11.116174",
     "exception": false,
     "start_time": "2024-05-15T21:05:11.096735",
     "status": "completed"
    },
    "tags": []
   },
   "outputs": [
    {
     "data": {
      "text/html": [
       "<div>\n",
       "<style scoped>\n",
       "    .dataframe tbody tr th:only-of-type {\n",
       "        vertical-align: middle;\n",
       "    }\n",
       "\n",
       "    .dataframe tbody tr th {\n",
       "        vertical-align: top;\n",
       "    }\n",
       "\n",
       "    .dataframe thead th {\n",
       "        text-align: right;\n",
       "    }\n",
       "</style>\n",
       "<table border=\"1\" class=\"dataframe\">\n",
       "  <thead>\n",
       "    <tr style=\"text-align: right;\">\n",
       "      <th></th>\n",
       "      <th>Metadata_genotype</th>\n",
       "      <th>feature_group</th>\n",
       "      <th>variance_mean</th>\n",
       "      <th>variance_std</th>\n",
       "      <th>variance_max</th>\n",
       "      <th>variance_min</th>\n",
       "      <th>variance_count</th>\n",
       "    </tr>\n",
       "  </thead>\n",
       "  <tbody>\n",
       "    <tr>\n",
       "      <th>0</th>\n",
       "      <td>High-Severity</td>\n",
       "      <td>AreaShape</td>\n",
       "      <td>0.774588</td>\n",
       "      <td>0.669970</td>\n",
       "      <td>3.855982</td>\n",
       "      <td>0.000005</td>\n",
       "      <td>98</td>\n",
       "    </tr>\n",
       "    <tr>\n",
       "      <th>1</th>\n",
       "      <td>High-Severity</td>\n",
       "      <td>Granularity</td>\n",
       "      <td>0.278190</td>\n",
       "      <td>0.357954</td>\n",
       "      <td>0.981199</td>\n",
       "      <td>0.015287</td>\n",
       "      <td>6</td>\n",
       "    </tr>\n",
       "    <tr>\n",
       "      <th>2</th>\n",
       "      <td>High-Severity</td>\n",
       "      <td>Intensity</td>\n",
       "      <td>0.529629</td>\n",
       "      <td>0.281565</td>\n",
       "      <td>1.157014</td>\n",
       "      <td>0.129043</td>\n",
       "      <td>15</td>\n",
       "    </tr>\n",
       "    <tr>\n",
       "      <th>3</th>\n",
       "      <td>High-Severity</td>\n",
       "      <td>Neighbors</td>\n",
       "      <td>0.730238</td>\n",
       "      <td>0.237898</td>\n",
       "      <td>0.953424</td>\n",
       "      <td>0.479949</td>\n",
       "      <td>3</td>\n",
       "    </tr>\n",
       "    <tr>\n",
       "      <th>4</th>\n",
       "      <td>High-Severity</td>\n",
       "      <td>RadialDistribution</td>\n",
       "      <td>0.670404</td>\n",
       "      <td>0.430295</td>\n",
       "      <td>1.751219</td>\n",
       "      <td>0.000000</td>\n",
       "      <td>70</td>\n",
       "    </tr>\n",
       "    <tr>\n",
       "      <th>5</th>\n",
       "      <td>High-Severity</td>\n",
       "      <td>Texture</td>\n",
       "      <td>0.300315</td>\n",
       "      <td>0.206077</td>\n",
       "      <td>0.719217</td>\n",
       "      <td>0.032302</td>\n",
       "      <td>52</td>\n",
       "    </tr>\n",
       "    <tr>\n",
       "      <th>6</th>\n",
       "      <td>Mid-Severity</td>\n",
       "      <td>AreaShape</td>\n",
       "      <td>1.112337</td>\n",
       "      <td>0.783353</td>\n",
       "      <td>3.934014</td>\n",
       "      <td>0.165658</td>\n",
       "      <td>98</td>\n",
       "    </tr>\n",
       "    <tr>\n",
       "      <th>7</th>\n",
       "      <td>Mid-Severity</td>\n",
       "      <td>Granularity</td>\n",
       "      <td>0.792799</td>\n",
       "      <td>0.681926</td>\n",
       "      <td>1.982012</td>\n",
       "      <td>0.191056</td>\n",
       "      <td>6</td>\n",
       "    </tr>\n",
       "    <tr>\n",
       "      <th>8</th>\n",
       "      <td>Mid-Severity</td>\n",
       "      <td>Intensity</td>\n",
       "      <td>0.699825</td>\n",
       "      <td>0.633322</td>\n",
       "      <td>2.091309</td>\n",
       "      <td>0.076053</td>\n",
       "      <td>15</td>\n",
       "    </tr>\n",
       "    <tr>\n",
       "      <th>9</th>\n",
       "      <td>Mid-Severity</td>\n",
       "      <td>Neighbors</td>\n",
       "      <td>1.909325</td>\n",
       "      <td>1.552501</td>\n",
       "      <td>3.634385</td>\n",
       "      <td>0.624438</td>\n",
       "      <td>3</td>\n",
       "    </tr>\n",
       "    <tr>\n",
       "      <th>10</th>\n",
       "      <td>Mid-Severity</td>\n",
       "      <td>RadialDistribution</td>\n",
       "      <td>1.037992</td>\n",
       "      <td>0.860579</td>\n",
       "      <td>3.948718</td>\n",
       "      <td>0.118464</td>\n",
       "      <td>70</td>\n",
       "    </tr>\n",
       "    <tr>\n",
       "      <th>11</th>\n",
       "      <td>Mid-Severity</td>\n",
       "      <td>Texture</td>\n",
       "      <td>1.195520</td>\n",
       "      <td>1.073200</td>\n",
       "      <td>4.250567</td>\n",
       "      <td>0.025065</td>\n",
       "      <td>52</td>\n",
       "    </tr>\n",
       "    <tr>\n",
       "      <th>12</th>\n",
       "      <td>Wild Type</td>\n",
       "      <td>AreaShape</td>\n",
       "      <td>0.635713</td>\n",
       "      <td>0.770476</td>\n",
       "      <td>3.408750</td>\n",
       "      <td>0.008214</td>\n",
       "      <td>98</td>\n",
       "    </tr>\n",
       "    <tr>\n",
       "      <th>13</th>\n",
       "      <td>Wild Type</td>\n",
       "      <td>Granularity</td>\n",
       "      <td>0.918739</td>\n",
       "      <td>0.732088</td>\n",
       "      <td>2.066825</td>\n",
       "      <td>0.279023</td>\n",
       "      <td>6</td>\n",
       "    </tr>\n",
       "    <tr>\n",
       "      <th>14</th>\n",
       "      <td>Wild Type</td>\n",
       "      <td>Intensity</td>\n",
       "      <td>1.833508</td>\n",
       "      <td>1.434653</td>\n",
       "      <td>4.418142</td>\n",
       "      <td>0.249364</td>\n",
       "      <td>15</td>\n",
       "    </tr>\n",
       "    <tr>\n",
       "      <th>15</th>\n",
       "      <td>Wild Type</td>\n",
       "      <td>Neighbors</td>\n",
       "      <td>0.251546</td>\n",
       "      <td>0.065781</td>\n",
       "      <td>0.326869</td>\n",
       "      <td>0.205398</td>\n",
       "      <td>3</td>\n",
       "    </tr>\n",
       "    <tr>\n",
       "      <th>16</th>\n",
       "      <td>Wild Type</td>\n",
       "      <td>RadialDistribution</td>\n",
       "      <td>1.491039</td>\n",
       "      <td>1.196396</td>\n",
       "      <td>4.164180</td>\n",
       "      <td>0.000000</td>\n",
       "      <td>70</td>\n",
       "    </tr>\n",
       "    <tr>\n",
       "      <th>17</th>\n",
       "      <td>Wild Type</td>\n",
       "      <td>Texture</td>\n",
       "      <td>2.133485</td>\n",
       "      <td>1.542498</td>\n",
       "      <td>5.116441</td>\n",
       "      <td>0.182501</td>\n",
       "      <td>52</td>\n",
       "    </tr>\n",
       "  </tbody>\n",
       "</table>\n",
       "</div>"
      ],
      "text/plain": [
       "   Metadata_genotype       feature_group  variance_mean  variance_std  \\\n",
       "0      High-Severity           AreaShape       0.774588      0.669970   \n",
       "1      High-Severity         Granularity       0.278190      0.357954   \n",
       "2      High-Severity           Intensity       0.529629      0.281565   \n",
       "3      High-Severity           Neighbors       0.730238      0.237898   \n",
       "4      High-Severity  RadialDistribution       0.670404      0.430295   \n",
       "5      High-Severity             Texture       0.300315      0.206077   \n",
       "6       Mid-Severity           AreaShape       1.112337      0.783353   \n",
       "7       Mid-Severity         Granularity       0.792799      0.681926   \n",
       "8       Mid-Severity           Intensity       0.699825      0.633322   \n",
       "9       Mid-Severity           Neighbors       1.909325      1.552501   \n",
       "10      Mid-Severity  RadialDistribution       1.037992      0.860579   \n",
       "11      Mid-Severity             Texture       1.195520      1.073200   \n",
       "12         Wild Type           AreaShape       0.635713      0.770476   \n",
       "13         Wild Type         Granularity       0.918739      0.732088   \n",
       "14         Wild Type           Intensity       1.833508      1.434653   \n",
       "15         Wild Type           Neighbors       0.251546      0.065781   \n",
       "16         Wild Type  RadialDistribution       1.491039      1.196396   \n",
       "17         Wild Type             Texture       2.133485      1.542498   \n",
       "\n",
       "    variance_max  variance_min  variance_count  \n",
       "0       3.855982      0.000005              98  \n",
       "1       0.981199      0.015287               6  \n",
       "2       1.157014      0.129043              15  \n",
       "3       0.953424      0.479949               3  \n",
       "4       1.751219      0.000000              70  \n",
       "5       0.719217      0.032302              52  \n",
       "6       3.934014      0.165658              98  \n",
       "7       1.982012      0.191056               6  \n",
       "8       2.091309      0.076053              15  \n",
       "9       3.634385      0.624438               3  \n",
       "10      3.948718      0.118464              70  \n",
       "11      4.250567      0.025065              52  \n",
       "12      3.408750      0.008214              98  \n",
       "13      2.066825      0.279023               6  \n",
       "14      4.418142      0.249364              15  \n",
       "15      0.326869      0.205398               3  \n",
       "16      4.164180      0.000000              70  \n",
       "17      5.116441      0.182501              52  "
      ]
     },
     "execution_count": 16,
     "metadata": {},
     "output_type": "execute_result"
    }
   ],
   "source": [
    "# get the mean and stdev for each feature group's variance\n",
    "var_df = (\n",
    "    var_df.groupby([\"Metadata_genotype\", \"feature_group\"])\n",
    "    .agg([\"mean\", \"std\", \"max\", \"min\", \"count\"])\n",
    "    .reset_index()\n",
    ")\n",
    "# ungroup the columns\n",
    "var_df.columns = [\"_\".join(col).strip() for col in var_df.columns.values]\n",
    "# rename the Metadata_genotype_ column and the feature_group_ column\n",
    "var_df.rename(\n",
    "    columns={\n",
    "        \"Metadata_genotype_\": \"Metadata_genotype\",\n",
    "        \"feature_group_\": \"feature_group\",\n",
    "    },\n",
    "    inplace=True,\n",
    ")\n",
    "var_df"
   ]
  },
  {
   "cell_type": "code",
   "execution_count": 17,
   "id": "a657b8a4",
   "metadata": {
    "execution": {
     "iopub.execute_input": "2024-05-15T21:05:11.135199Z",
     "iopub.status.busy": "2024-05-15T21:05:11.134914Z",
     "iopub.status.idle": "2024-05-15T21:05:11.137582Z",
     "shell.execute_reply": "2024-05-15T21:05:11.137271Z"
    },
    "papermill": {
     "duration": 0.012888,
     "end_time": "2024-05-15T21:05:11.138291",
     "exception": false,
     "start_time": "2024-05-15T21:05:11.125403",
     "status": "completed"
    },
    "tags": []
   },
   "outputs": [],
   "source": [
    "# save the variance results\n",
    "var_path = pathlib.Path(\n",
    "    out_dir / \"custom_aggregated_variance_results_feature_types_stats.csv\"\n",
    ")\n",
    "var_df.to_csv(var_path, index=False)"
   ]
  }
 ],
 "metadata": {
  "kernelspec": {
   "display_name": "op_cell_processing_env",
   "language": "python",
   "name": "python3"
  },
  "language_info": {
   "codemirror_mode": {
    "name": "ipython",
    "version": 3
   },
   "file_extension": ".py",
   "mimetype": "text/x-python",
   "name": "python",
   "nbconvert_exporter": "python",
   "pygments_lexer": "ipython3",
   "version": "3.8.15"
  },
  "papermill": {
   "default_parameters": {},
   "duration": 29.911522,
   "end_time": "2024-05-15T21:05:11.463225",
   "environment_variables": {},
   "exception": null,
   "input_path": "3c.custom_aggregated_anova.ipynb",
   "output_path": "3c.custom_aggregated_anova.ipynb",
   "parameters": {},
   "start_time": "2024-05-15T21:04:41.551703",
   "version": "2.6.0"
  }
 },
 "nbformat": 4,
 "nbformat_minor": 5
}