{
 "cells": [
  {
   "cell_type": "markdown",
   "id": "ab9209a8",
   "metadata": {
    "papermill": {
     "duration": 0.002745,
     "end_time": "2024-05-09T15:00:10.495930",
     "exception": false,
     "start_time": "2024-05-09T15:00:10.493185",
     "status": "completed"
    },
    "tags": []
   },
   "source": [
    "This notebook calculates the Mahalanobis distance between points on a pca. \n",
    "I will document more about what Mahalanobis distance is and how it is calculated in this notebook."
   ]
  },
  {
   "cell_type": "code",
   "execution_count": 1,
   "id": "fb0c127b",
   "metadata": {
    "execution": {
     "iopub.execute_input": "2024-05-09T15:00:10.500646Z",
     "iopub.status.busy": "2024-05-09T15:00:10.500491Z",
     "iopub.status.idle": "2024-05-09T15:00:11.015945Z",
     "shell.execute_reply": "2024-05-09T15:00:11.015618Z"
    },
    "papermill": {
     "duration": 0.519356,
     "end_time": "2024-05-09T15:00:11.017173",
     "exception": false,
     "start_time": "2024-05-09T15:00:10.497817",
     "status": "completed"
    },
    "tags": []
   },
   "outputs": [],
   "source": [
    "import itertools\n",
    "import pathlib\n",
    "\n",
    "import matplotlib.pyplot as plt\n",
    "import numpy as np\n",
    "import pandas as pd\n",
    "import seaborn as sns\n",
    "import tqdm\n",
    "from scipy.spatial.distance import mahalanobis\n",
    "from scipy.stats import ttest_ind"
   ]
  },
  {
   "cell_type": "code",
   "execution_count": 2,
   "id": "3aaae5dd",
   "metadata": {
    "execution": {
     "iopub.execute_input": "2024-05-09T15:00:11.024353Z",
     "iopub.status.busy": "2024-05-09T15:00:11.024170Z",
     "iopub.status.idle": "2024-05-09T15:00:11.048142Z",
     "shell.execute_reply": "2024-05-09T15:00:11.047871Z"
    },
    "papermill": {
     "duration": 0.028226,
     "end_time": "2024-05-09T15:00:11.048786",
     "exception": false,
     "start_time": "2024-05-09T15:00:11.020560",
     "status": "completed"
    },
    "tags": []
   },
   "outputs": [
    {
     "name": "stdout",
     "output_type": "stream",
     "text": [
      "(42, 44)\n"
     ]
    },
    {
     "data": {
      "text/html": [
       "<div>\n",
       "<style scoped>\n",
       "    .dataframe tbody tr th:only-of-type {\n",
       "        vertical-align: middle;\n",
       "    }\n",
       "\n",
       "    .dataframe tbody tr th {\n",
       "        vertical-align: top;\n",
       "    }\n",
       "\n",
       "    .dataframe thead th {\n",
       "        text-align: right;\n",
       "    }\n",
       "</style>\n",
       "<table border=\"1\" class=\"dataframe\">\n",
       "  <thead>\n",
       "    <tr style=\"text-align: right;\">\n",
       "      <th></th>\n",
       "      <th>Metadata_genotype</th>\n",
       "      <th>Metadata_replicate</th>\n",
       "      <th>PC1</th>\n",
       "      <th>PC2</th>\n",
       "      <th>PC3</th>\n",
       "      <th>PC4</th>\n",
       "      <th>PC5</th>\n",
       "      <th>PC6</th>\n",
       "      <th>PC7</th>\n",
       "      <th>PC8</th>\n",
       "      <th>...</th>\n",
       "      <th>PC33</th>\n",
       "      <th>PC34</th>\n",
       "      <th>PC35</th>\n",
       "      <th>PC36</th>\n",
       "      <th>PC37</th>\n",
       "      <th>PC38</th>\n",
       "      <th>PC39</th>\n",
       "      <th>PC40</th>\n",
       "      <th>PC41</th>\n",
       "      <th>PC42</th>\n",
       "    </tr>\n",
       "  </thead>\n",
       "  <tbody>\n",
       "    <tr>\n",
       "      <th>0</th>\n",
       "      <td>High-Severity</td>\n",
       "      <td>1</td>\n",
       "      <td>-2.612687</td>\n",
       "      <td>2.480900</td>\n",
       "      <td>1.038433</td>\n",
       "      <td>-2.124206</td>\n",
       "      <td>1.848401</td>\n",
       "      <td>-0.138879</td>\n",
       "      <td>0.610879</td>\n",
       "      <td>-1.240955</td>\n",
       "      <td>...</td>\n",
       "      <td>1.737607</td>\n",
       "      <td>0.665385</td>\n",
       "      <td>-1.508575</td>\n",
       "      <td>-0.002393</td>\n",
       "      <td>-1.269638</td>\n",
       "      <td>0.005696</td>\n",
       "      <td>0.640564</td>\n",
       "      <td>0.873191</td>\n",
       "      <td>-0.304305</td>\n",
       "      <td>-9.020562e-16</td>\n",
       "    </tr>\n",
       "    <tr>\n",
       "      <th>1</th>\n",
       "      <td>High-Severity</td>\n",
       "      <td>10</td>\n",
       "      <td>1.744949</td>\n",
       "      <td>8.499953</td>\n",
       "      <td>2.922399</td>\n",
       "      <td>-1.102377</td>\n",
       "      <td>-0.962470</td>\n",
       "      <td>1.636088</td>\n",
       "      <td>1.463812</td>\n",
       "      <td>2.400998</td>\n",
       "      <td>...</td>\n",
       "      <td>-0.030647</td>\n",
       "      <td>0.118004</td>\n",
       "      <td>-1.435196</td>\n",
       "      <td>2.127940</td>\n",
       "      <td>-0.683266</td>\n",
       "      <td>-0.594841</td>\n",
       "      <td>-0.847429</td>\n",
       "      <td>-0.543167</td>\n",
       "      <td>0.226587</td>\n",
       "      <td>-6.106227e-16</td>\n",
       "    </tr>\n",
       "    <tr>\n",
       "      <th>2</th>\n",
       "      <td>High-Severity</td>\n",
       "      <td>11</td>\n",
       "      <td>1.118178</td>\n",
       "      <td>10.555786</td>\n",
       "      <td>1.918724</td>\n",
       "      <td>-1.821125</td>\n",
       "      <td>1.678552</td>\n",
       "      <td>-0.607047</td>\n",
       "      <td>-1.070299</td>\n",
       "      <td>-0.952239</td>\n",
       "      <td>...</td>\n",
       "      <td>0.164507</td>\n",
       "      <td>1.273944</td>\n",
       "      <td>0.585109</td>\n",
       "      <td>0.301258</td>\n",
       "      <td>-0.100187</td>\n",
       "      <td>0.409482</td>\n",
       "      <td>0.292690</td>\n",
       "      <td>-0.419133</td>\n",
       "      <td>0.090811</td>\n",
       "      <td>-1.665335e-16</td>\n",
       "    </tr>\n",
       "    <tr>\n",
       "      <th>3</th>\n",
       "      <td>High-Severity</td>\n",
       "      <td>12</td>\n",
       "      <td>-0.267551</td>\n",
       "      <td>7.238575</td>\n",
       "      <td>3.193898</td>\n",
       "      <td>-0.921462</td>\n",
       "      <td>-1.421467</td>\n",
       "      <td>3.201197</td>\n",
       "      <td>0.876403</td>\n",
       "      <td>1.133883</td>\n",
       "      <td>...</td>\n",
       "      <td>-0.788146</td>\n",
       "      <td>0.724145</td>\n",
       "      <td>-0.588942</td>\n",
       "      <td>0.030300</td>\n",
       "      <td>0.712927</td>\n",
       "      <td>0.415672</td>\n",
       "      <td>2.116853</td>\n",
       "      <td>-0.583968</td>\n",
       "      <td>0.414338</td>\n",
       "      <td>-6.661338e-16</td>\n",
       "    </tr>\n",
       "    <tr>\n",
       "      <th>4</th>\n",
       "      <td>High-Severity</td>\n",
       "      <td>13</td>\n",
       "      <td>-0.810176</td>\n",
       "      <td>6.274105</td>\n",
       "      <td>4.030843</td>\n",
       "      <td>0.668752</td>\n",
       "      <td>-0.999091</td>\n",
       "      <td>3.636388</td>\n",
       "      <td>0.282499</td>\n",
       "      <td>-2.773985</td>\n",
       "      <td>...</td>\n",
       "      <td>-1.040199</td>\n",
       "      <td>-1.076102</td>\n",
       "      <td>-0.000303</td>\n",
       "      <td>-0.058833</td>\n",
       "      <td>-0.736013</td>\n",
       "      <td>0.174054</td>\n",
       "      <td>-0.917179</td>\n",
       "      <td>1.114349</td>\n",
       "      <td>0.339969</td>\n",
       "      <td>3.400058e-16</td>\n",
       "    </tr>\n",
       "  </tbody>\n",
       "</table>\n",
       "<p>5 rows × 44 columns</p>\n",
       "</div>"
      ],
      "text/plain": [
       "  Metadata_genotype Metadata_replicate       PC1        PC2       PC3  \\\n",
       "0     High-Severity                  1 -2.612687   2.480900  1.038433   \n",
       "1     High-Severity                 10  1.744949   8.499953  2.922399   \n",
       "2     High-Severity                 11  1.118178  10.555786  1.918724   \n",
       "3     High-Severity                 12 -0.267551   7.238575  3.193898   \n",
       "4     High-Severity                 13 -0.810176   6.274105  4.030843   \n",
       "\n",
       "        PC4       PC5       PC6       PC7       PC8  ...      PC33      PC34  \\\n",
       "0 -2.124206  1.848401 -0.138879  0.610879 -1.240955  ...  1.737607  0.665385   \n",
       "1 -1.102377 -0.962470  1.636088  1.463812  2.400998  ... -0.030647  0.118004   \n",
       "2 -1.821125  1.678552 -0.607047 -1.070299 -0.952239  ...  0.164507  1.273944   \n",
       "3 -0.921462 -1.421467  3.201197  0.876403  1.133883  ... -0.788146  0.724145   \n",
       "4  0.668752 -0.999091  3.636388  0.282499 -2.773985  ... -1.040199 -1.076102   \n",
       "\n",
       "       PC35      PC36      PC37      PC38      PC39      PC40      PC41  \\\n",
       "0 -1.508575 -0.002393 -1.269638  0.005696  0.640564  0.873191 -0.304305   \n",
       "1 -1.435196  2.127940 -0.683266 -0.594841 -0.847429 -0.543167  0.226587   \n",
       "2  0.585109  0.301258 -0.100187  0.409482  0.292690 -0.419133  0.090811   \n",
       "3 -0.588942  0.030300  0.712927  0.415672  2.116853 -0.583968  0.414338   \n",
       "4 -0.000303 -0.058833 -0.736013  0.174054 -0.917179  1.114349  0.339969   \n",
       "\n",
       "           PC42  \n",
       "0 -9.020562e-16  \n",
       "1 -6.106227e-16  \n",
       "2 -1.665335e-16  \n",
       "3 -6.661338e-16  \n",
       "4  3.400058e-16  \n",
       "\n",
       "[5 rows x 44 columns]"
      ]
     },
     "execution_count": 2,
     "metadata": {},
     "output_type": "execute_result"
    }
   ],
   "source": [
    "# set the path to the data\n",
    "sum_aggregated_data_pca_path = pathlib.Path(\n",
    "    \"../../data/6.analysis_results/sum_aggregated_pca.parquet\"\n",
    ").resolve(strict=True)\n",
    "\n",
    "# read the data\n",
    "sum_aggregated_data_pca = pd.read_parquet(sum_aggregated_data_pca_path)\n",
    "print(sum_aggregated_data_pca.shape)\n",
    "sum_aggregated_data_pca.head()"
   ]
  },
  {
   "cell_type": "markdown",
   "id": "259d51ba",
   "metadata": {
    "papermill": {
     "duration": 0.001949,
     "end_time": "2024-05-09T15:00:11.052832",
     "exception": false,
     "start_time": "2024-05-09T15:00:11.050883",
     "status": "completed"
    },
    "tags": []
   },
   "source": [
    "# Mahalanobis Distance\n",
    "For more in depth information on Mahalanobis distance, please refer to this [link](https://medium.com/@the_daft_introvert/mahalanobis-distance-5c11a757b099).\n",
    "Mahalanobis distance is a measure of the distance between a point P and a distribution D. \n",
    "It is a multi-dimensional generalization of the idea of measuring how many standard deviations away P is from the mean of D. \n",
    "This distance is zero if P is at the mean of D, and grows as P moves away from the mean along each principal component axis.\n",
    "The formula for Mahalanobis distance is given by:\n",
    "### $D^2 = (x - \\mu)^T \\Sigma^{-1} (x - \\mu)$\n",
    "where:\n",
    "- $D$ is the Mahalanobis distance"
   ]
  },
  {
   "cell_type": "markdown",
   "id": "6bfe16c2",
   "metadata": {
    "papermill": {
     "duration": 0.001995,
     "end_time": "2024-05-09T15:00:11.056807",
     "exception": false,
     "start_time": "2024-05-09T15:00:11.054812",
     "status": "completed"
    },
    "tags": []
   },
   "source": [
    "## Caluclating Mahalanobis Distance on PCA components 1 and 2\n",
    "Here I calculate the Mahalanobis distance between the points on the first two principal components of the data for each of the three genotypes."
   ]
  },
  {
   "cell_type": "code",
   "execution_count": 3,
   "id": "41688044",
   "metadata": {
    "execution": {
     "iopub.execute_input": "2024-05-09T15:00:11.061534Z",
     "iopub.status.busy": "2024-05-09T15:00:11.061245Z",
     "iopub.status.idle": "2024-05-09T15:00:11.064521Z",
     "shell.execute_reply": "2024-05-09T15:00:11.064267Z"
    },
    "papermill": {
     "duration": 0.006352,
     "end_time": "2024-05-09T15:00:11.065134",
     "exception": false,
     "start_time": "2024-05-09T15:00:11.058782",
     "status": "completed"
    },
    "tags": []
   },
   "outputs": [
    {
     "name": "stdout",
     "output_type": "stream",
     "text": [
      "14 14 14\n"
     ]
    }
   ],
   "source": [
    "# split the genotypes\n",
    "high_severity = sum_aggregated_data_pca[\n",
    "    sum_aggregated_data_pca[\"Metadata_genotype\"] == \"High-Severity\"\n",
    "]\n",
    "low_severity = sum_aggregated_data_pca[\n",
    "    sum_aggregated_data_pca[\"Metadata_genotype\"] == \"Mid-Severity\"\n",
    "]\n",
    "wt = sum_aggregated_data_pca[\n",
    "    sum_aggregated_data_pca[\"Metadata_genotype\"] == \"Wild Type\"\n",
    "]\n",
    "print(len(high_severity), len(low_severity), len(wt))"
   ]
  },
  {
   "cell_type": "code",
   "execution_count": 4,
   "id": "5e1432a9",
   "metadata": {
    "execution": {
     "iopub.execute_input": "2024-05-09T15:00:11.069752Z",
     "iopub.status.busy": "2024-05-09T15:00:11.069489Z",
     "iopub.status.idle": "2024-05-09T15:00:11.072869Z",
     "shell.execute_reply": "2024-05-09T15:00:11.072615Z"
    },
    "papermill": {
     "duration": 0.006341,
     "end_time": "2024-05-09T15:00:11.073493",
     "exception": false,
     "start_time": "2024-05-09T15:00:11.067152",
     "status": "completed"
    },
    "tags": []
   },
   "outputs": [
    {
     "name": "stdout",
     "output_type": "stream",
     "text": [
      "(14, 42) (14, 42) (14, 42)\n"
     ]
    }
   ],
   "source": [
    "# drop the the Metadata columns\n",
    "high_severity = high_severity.drop(columns=[\"Metadata_genotype\", \"Metadata_replicate\"])\n",
    "low_severity = low_severity.drop(columns=[\"Metadata_genotype\", \"Metadata_replicate\"])\n",
    "wt = wt.drop(columns=[\"Metadata_genotype\", \"Metadata_replicate\"])\n",
    "# convert the df to coordinates\n",
    "high_severity_coords = high_severity.to_numpy()\n",
    "low_severity_coords = low_severity.to_numpy()\n",
    "wt_coords = wt.to_numpy()\n",
    "print(high_severity_coords.shape, low_severity_coords.shape, wt_coords.shape)"
   ]
  },
  {
   "cell_type": "markdown",
   "id": "ab7a6ea5",
   "metadata": {
    "papermill": {
     "duration": 0.001991,
     "end_time": "2024-05-09T15:00:11.077485",
     "exception": false,
     "start_time": "2024-05-09T15:00:11.075494",
     "status": "completed"
    },
    "tags": []
   },
   "source": [
    "#### High-Severity"
   ]
  },
  {
   "cell_type": "code",
   "execution_count": 5,
   "id": "992efa28",
   "metadata": {
    "execution": {
     "iopub.execute_input": "2024-05-09T15:00:11.082180Z",
     "iopub.status.busy": "2024-05-09T15:00:11.081876Z",
     "iopub.status.idle": "2024-05-09T15:00:11.086113Z",
     "shell.execute_reply": "2024-05-09T15:00:11.085761Z"
    },
    "papermill": {
     "duration": 0.00751,
     "end_time": "2024-05-09T15:00:11.087013",
     "exception": false,
     "start_time": "2024-05-09T15:00:11.079503",
     "status": "completed"
    },
    "tags": []
   },
   "outputs": [
    {
     "name": "stdout",
     "output_type": "stream",
     "text": [
      "The mean mahalanobis distance for the High-Severity genotype is 7.874466036404469\n"
     ]
    },
    {
     "name": "stderr",
     "output_type": "stream",
     "text": [
      "/home/lippincm/miniconda3/envs/op_cell_processing_env/lib/python3.8/site-packages/scipy/spatial/distance.py:1064: RuntimeWarning: invalid value encountered in sqrt\n",
      "  return np.sqrt(m)\n"
     ]
    }
   ],
   "source": [
    "# define the mean and the inverse covariance matrix needed for the mahalanobis distance calculation\n",
    "cov_matrix = np.cov(high_severity_coords, rowvar=False)\n",
    "inv_cov_matrix = np.linalg.inv(cov_matrix)\n",
    "# calculate the mahalanobis distance for each point within each genotype\n",
    "high_severity_mahalanobis_distances = []\n",
    "# calculate the mahalanobis distance for each point combination\n",
    "for point in itertools.combinations(high_severity_coords, 2):\n",
    "    distance = mahalanobis(point[0], point[1], inv_cov_matrix)\n",
    "    if np.isnan(distance):  # Check for NaN values\n",
    "        continue\n",
    "    high_severity_mahalanobis_distances.append(distance)\n",
    "mean_high_severity_mahalanobis_distance = np.mean(high_severity_mahalanobis_distances)\n",
    "print(\n",
    "    f\"The mean mahalanobis distance for the High-Severity genotype is {mean_high_severity_mahalanobis_distance}\"\n",
    ")"
   ]
  },
  {
   "cell_type": "markdown",
   "id": "27cad0b8",
   "metadata": {
    "papermill": {
     "duration": 0.00354,
     "end_time": "2024-05-09T15:00:11.094148",
     "exception": false,
     "start_time": "2024-05-09T15:00:11.090608",
     "status": "completed"
    },
    "tags": []
   },
   "source": [
    "#### Low-Severity"
   ]
  },
  {
   "cell_type": "code",
   "execution_count": 6,
   "id": "a2370708",
   "metadata": {
    "execution": {
     "iopub.execute_input": "2024-05-09T15:00:11.102625Z",
     "iopub.status.busy": "2024-05-09T15:00:11.102470Z",
     "iopub.status.idle": "2024-05-09T15:00:11.107106Z",
     "shell.execute_reply": "2024-05-09T15:00:11.106740Z"
    },
    "papermill": {
     "duration": 0.010232,
     "end_time": "2024-05-09T15:00:11.108004",
     "exception": false,
     "start_time": "2024-05-09T15:00:11.097772",
     "status": "completed"
    },
    "tags": []
   },
   "outputs": [
    {
     "name": "stdout",
     "output_type": "stream",
     "text": [
      "The mean mahalanobis distance for the low-Severity genotype is 6.549257169182537\n"
     ]
    }
   ],
   "source": [
    "# define the mean and the inverse covariance matrix needed for the mahalanobis distance calculation\n",
    "cov_matrix = np.cov(low_severity_coords, rowvar=False)\n",
    "inv_cov_matrix = np.linalg.inv(cov_matrix)\n",
    "# calculate the mahalanobis distance for each point within each genotype\n",
    "low_severity_mahalanobis_distances = []\n",
    "# calculate the mahalanobis distance for each point\n",
    "for point in itertools.combinations(low_severity_coords, 2):\n",
    "    distance = mahalanobis(point[0], point[1], inv_cov_matrix)\n",
    "    if np.isnan(distance):  # Check for NaN values\n",
    "        continue\n",
    "    low_severity_mahalanobis_distances.append(distance)\n",
    "mean_low_severity_mahalanobis_distance = np.mean(low_severity_mahalanobis_distances)\n",
    "print(\n",
    "    f\"The mean mahalanobis distance for the low-Severity genotype is {mean_low_severity_mahalanobis_distance}\"\n",
    ")"
   ]
  },
  {
   "cell_type": "markdown",
   "id": "3cf92944",
   "metadata": {
    "papermill": {
     "duration": 0.003666,
     "end_time": "2024-05-09T15:00:11.115503",
     "exception": false,
     "start_time": "2024-05-09T15:00:11.111837",
     "status": "completed"
    },
    "tags": []
   },
   "source": [
    "#### Wild Type"
   ]
  },
  {
   "cell_type": "code",
   "execution_count": 7,
   "id": "6de6ba74",
   "metadata": {
    "execution": {
     "iopub.execute_input": "2024-05-09T15:00:11.123754Z",
     "iopub.status.busy": "2024-05-09T15:00:11.123487Z",
     "iopub.status.idle": "2024-05-09T15:00:11.128216Z",
     "shell.execute_reply": "2024-05-09T15:00:11.127825Z"
    },
    "papermill": {
     "duration": 0.010029,
     "end_time": "2024-05-09T15:00:11.129257",
     "exception": false,
     "start_time": "2024-05-09T15:00:11.119228",
     "status": "completed"
    },
    "tags": []
   },
   "outputs": [
    {
     "name": "stdout",
     "output_type": "stream",
     "text": [
      "The mean mahalanobis distance for the Wild Type genotype is 10.91040663213425\n"
     ]
    }
   ],
   "source": [
    "# define the mean and the inverse covariance matrix needed for the mahalanobis distance calculation\n",
    "cov_matrix = np.cov(wt_coords, rowvar=False)\n",
    "inv_cov_matrix = np.linalg.inv(cov_matrix)\n",
    "# calculate the mahalanobis distance for each point within each genotype\n",
    "wt_mahalanobis_distances = []\n",
    "# calculate the mahalanobis distance for each point\n",
    "for point in itertools.combinations(wt_coords, 2):\n",
    "    distance = mahalanobis(point[0], point[1], inv_cov_matrix)\n",
    "    if np.isnan(distance):  # Check for NaN values\n",
    "        continue\n",
    "    wt_mahalanobis_distances.append(distance)\n",
    "mean_wt_mahalanobis_distance = np.mean(wt_mahalanobis_distances)\n",
    "print(\n",
    "    f\"The mean mahalanobis distance for the Wild Type genotype is {mean_wt_mahalanobis_distance}\"\n",
    ")"
   ]
  },
  {
   "cell_type": "markdown",
   "id": "2647b666",
   "metadata": {
    "papermill": {
     "duration": 0.004004,
     "end_time": "2024-05-09T15:00:11.137483",
     "exception": false,
     "start_time": "2024-05-09T15:00:11.133479",
     "status": "completed"
    },
    "tags": []
   },
   "source": [
    "## Calculate the Mahalanobis distance for random shuffled data points"
   ]
  },
  {
   "cell_type": "code",
   "execution_count": 8,
   "id": "3bfab0cd",
   "metadata": {
    "execution": {
     "iopub.execute_input": "2024-05-09T15:00:11.146381Z",
     "iopub.status.busy": "2024-05-09T15:00:11.146187Z",
     "iopub.status.idle": "2024-05-09T15:00:11.366592Z",
     "shell.execute_reply": "2024-05-09T15:00:11.366234Z"
    },
    "papermill": {
     "duration": 0.226214,
     "end_time": "2024-05-09T15:00:11.367730",
     "exception": false,
     "start_time": "2024-05-09T15:00:11.141516",
     "status": "completed"
    },
    "tags": []
   },
   "outputs": [],
   "source": [
    "# from the distribution of each PCA component, randomly sample 1000 points and calculate the mahalanobis distance\n",
    "# get the distribution of each PCA component\n",
    "high_severity_pca_component_distribution_std = high_severity.describe().loc[\"std\"]\n",
    "low_severity_pca_component_distribution_std = low_severity.describe().loc[\"std\"]\n",
    "wt_pca_component_distribution_std = wt.describe().loc[\"std\"]\n",
    "\n",
    "high_severity_pca_component_distribution_mean = high_severity.describe().loc[\"mean\"]\n",
    "low_severity_pca_component_distribution_mean = low_severity.describe().loc[\"mean\"]\n",
    "wt_pca_component_distribution_mean = wt.describe().loc[\"mean\"]"
   ]
  },
  {
   "cell_type": "code",
   "execution_count": 9,
   "id": "697a64eb",
   "metadata": {
    "execution": {
     "iopub.execute_input": "2024-05-09T15:00:11.373012Z",
     "iopub.status.busy": "2024-05-09T15:00:11.372865Z",
     "iopub.status.idle": "2024-05-09T15:02:36.802278Z",
     "shell.execute_reply": "2024-05-09T15:02:36.801855Z"
    },
    "papermill": {
     "duration": 145.433193,
     "end_time": "2024-05-09T15:02:36.803219",
     "exception": false,
     "start_time": "2024-05-09T15:00:11.370026",
     "status": "completed"
    },
    "tags": []
   },
   "outputs": [
    {
     "name": "stderr",
     "output_type": "stream",
     "text": [
      "\r",
      "  0%|                                                                                                                          | 0/1000 [00:00<?, ?it/s]"
     ]
    },
    {
     "name": "stderr",
     "output_type": "stream",
     "text": [
      "\r",
      "  0%|                                                                                                                  | 1/1000 [00:00<02:55,  5.69it/s]"
     ]
    },
    {
     "name": "stderr",
     "output_type": "stream",
     "text": [
      "\r",
      "  0%|▏                                                                                                                 | 2/1000 [00:00<02:37,  6.33it/s]"
     ]
    },
    {
     "name": "stderr",
     "output_type": "stream",
     "text": [
      "\r",
      "  0%|▎                                                                                                                 | 3/1000 [00:00<02:31,  6.57it/s]"
     ]
    },
    {
     "name": "stderr",
     "output_type": "stream",
     "text": [
      "\r",
      "  0%|▍                                                                                                                 | 4/1000 [00:00<02:33,  6.48it/s]"
     ]
    },
    {
     "name": "stderr",
     "output_type": "stream",
     "text": [
      "\r",
      "  0%|▌                                                                                                                 | 5/1000 [00:00<02:30,  6.61it/s]"
     ]
    },
    {
     "name": "stderr",
     "output_type": "stream",
     "text": [
      "\r",
      "  1%|▋                                                                                                                 | 6/1000 [00:00<02:28,  6.71it/s]"
     ]
    },
    {
     "name": "stderr",
     "output_type": "stream",
     "text": [
      "\r",
      "  1%|▊                                                                                                                 | 7/1000 [00:01<02:26,  6.77it/s]"
     ]
    },
    {
     "name": "stderr",
     "output_type": "stream",
     "text": [
      "\r",
      "  1%|▉                                                                                                                 | 8/1000 [00:01<02:27,  6.72it/s]"
     ]
    },
    {
     "name": "stderr",
     "output_type": "stream",
     "text": [
      "\r",
      "  1%|█                                                                                                                 | 9/1000 [00:01<02:27,  6.71it/s]"
     ]
    },
    {
     "name": "stderr",
     "output_type": "stream",
     "text": [
      "\r",
      "  1%|█▏                                                                                                               | 10/1000 [00:01<02:26,  6.76it/s]"
     ]
    },
    {
     "name": "stderr",
     "output_type": "stream",
     "text": [
      "\r",
      "  1%|█▏                                                                                                               | 11/1000 [00:01<02:30,  6.57it/s]"
     ]
    },
    {
     "name": "stderr",
     "output_type": "stream",
     "text": [
      "\r",
      "  1%|█▎                                                                                                               | 12/1000 [00:01<02:28,  6.66it/s]"
     ]
    },
    {
     "name": "stderr",
     "output_type": "stream",
     "text": [
      "\r",
      "  1%|█▍                                                                                                               | 13/1000 [00:01<02:27,  6.68it/s]"
     ]
    },
    {
     "name": "stderr",
     "output_type": "stream",
     "text": [
      "\r",
      "  1%|█▌                                                                                                               | 14/1000 [00:02<02:26,  6.74it/s]"
     ]
    },
    {
     "name": "stderr",
     "output_type": "stream",
     "text": [
      "\r",
      "  2%|█▋                                                                                                               | 15/1000 [00:02<02:25,  6.78it/s]"
     ]
    },
    {
     "name": "stderr",
     "output_type": "stream",
     "text": [
      "\r",
      "  2%|█▊                                                                                                               | 16/1000 [00:02<02:24,  6.82it/s]"
     ]
    },
    {
     "name": "stderr",
     "output_type": "stream",
     "text": [
      "\r",
      "  2%|█▉                                                                                                               | 17/1000 [00:02<02:24,  6.82it/s]"
     ]
    },
    {
     "name": "stderr",
     "output_type": "stream",
     "text": [
      "\r",
      "  2%|██                                                                                                               | 18/1000 [00:02<02:23,  6.84it/s]"
     ]
    },
    {
     "name": "stderr",
     "output_type": "stream",
     "text": [
      "\r",
      "  2%|██▏                                                                                                              | 19/1000 [00:02<02:23,  6.86it/s]"
     ]
    },
    {
     "name": "stderr",
     "output_type": "stream",
     "text": [
      "\r",
      "  2%|██▎                                                                                                              | 20/1000 [00:02<02:22,  6.87it/s]"
     ]
    },
    {
     "name": "stderr",
     "output_type": "stream",
     "text": [
      "\r",
      "  2%|██▎                                                                                                              | 21/1000 [00:03<02:23,  6.82it/s]"
     ]
    },
    {
     "name": "stderr",
     "output_type": "stream",
     "text": [
      "\r",
      "  2%|██▍                                                                                                              | 22/1000 [00:03<02:23,  6.84it/s]"
     ]
    },
    {
     "name": "stderr",
     "output_type": "stream",
     "text": [
      "\r",
      "  2%|██▌                                                                                                              | 23/1000 [00:03<02:22,  6.85it/s]"
     ]
    },
    {
     "name": "stderr",
     "output_type": "stream",
     "text": [
      "\r",
      "  2%|██▋                                                                                                              | 24/1000 [00:03<02:22,  6.86it/s]"
     ]
    },
    {
     "name": "stderr",
     "output_type": "stream",
     "text": [
      "\r",
      "  2%|██▊                                                                                                              | 25/1000 [00:03<02:22,  6.86it/s]"
     ]
    },
    {
     "name": "stderr",
     "output_type": "stream",
     "text": [
      "\r",
      "  3%|██▉                                                                                                              | 26/1000 [00:03<02:21,  6.87it/s]"
     ]
    },
    {
     "name": "stderr",
     "output_type": "stream",
     "text": [
      "\r",
      "  3%|███                                                                                                              | 27/1000 [00:04<02:21,  6.86it/s]"
     ]
    },
    {
     "name": "stderr",
     "output_type": "stream",
     "text": [
      "\r",
      "  3%|███▏                                                                                                             | 28/1000 [00:04<02:21,  6.85it/s]"
     ]
    },
    {
     "name": "stderr",
     "output_type": "stream",
     "text": [
      "\r",
      "  3%|███▎                                                                                                             | 29/1000 [00:04<02:21,  6.85it/s]"
     ]
    },
    {
     "name": "stderr",
     "output_type": "stream",
     "text": [
      "\r",
      "  3%|███▍                                                                                                             | 30/1000 [00:04<02:21,  6.86it/s]"
     ]
    },
    {
     "name": "stderr",
     "output_type": "stream",
     "text": [
      "\r",
      "  3%|███▌                                                                                                             | 31/1000 [00:04<02:21,  6.86it/s]"
     ]
    },
    {
     "name": "stderr",
     "output_type": "stream",
     "text": [
      "\r",
      "  3%|███▌                                                                                                             | 32/1000 [00:04<02:20,  6.87it/s]"
     ]
    },
    {
     "name": "stderr",
     "output_type": "stream",
     "text": [
      "\r",
      "  3%|███▋                                                                                                             | 33/1000 [00:04<02:20,  6.86it/s]"
     ]
    },
    {
     "name": "stderr",
     "output_type": "stream",
     "text": [
      "\r",
      "  3%|███▊                                                                                                             | 34/1000 [00:05<02:20,  6.87it/s]"
     ]
    },
    {
     "name": "stderr",
     "output_type": "stream",
     "text": [
      "\r",
      "  4%|███▉                                                                                                             | 35/1000 [00:05<02:20,  6.87it/s]"
     ]
    },
    {
     "name": "stderr",
     "output_type": "stream",
     "text": [
      "\r",
      "  4%|████                                                                                                             | 36/1000 [00:05<02:20,  6.85it/s]"
     ]
    },
    {
     "name": "stderr",
     "output_type": "stream",
     "text": [
      "\r",
      "  4%|████▏                                                                                                            | 37/1000 [00:05<02:20,  6.86it/s]"
     ]
    },
    {
     "name": "stderr",
     "output_type": "stream",
     "text": [
      "\r",
      "  4%|████▎                                                                                                            | 38/1000 [00:05<02:20,  6.86it/s]"
     ]
    },
    {
     "name": "stderr",
     "output_type": "stream",
     "text": [
      "\r",
      "  4%|████▍                                                                                                            | 39/1000 [00:05<02:19,  6.87it/s]"
     ]
    },
    {
     "name": "stderr",
     "output_type": "stream",
     "text": [
      "\r",
      "  4%|████▌                                                                                                            | 40/1000 [00:05<02:19,  6.87it/s]"
     ]
    },
    {
     "name": "stderr",
     "output_type": "stream",
     "text": [
      "\r",
      "  4%|████▋                                                                                                            | 41/1000 [00:06<02:19,  6.87it/s]"
     ]
    },
    {
     "name": "stderr",
     "output_type": "stream",
     "text": [
      "\r",
      "  4%|████▋                                                                                                            | 42/1000 [00:06<02:22,  6.73it/s]"
     ]
    },
    {
     "name": "stderr",
     "output_type": "stream",
     "text": [
      "\r",
      "  4%|████▊                                                                                                            | 43/1000 [00:06<02:23,  6.65it/s]"
     ]
    },
    {
     "name": "stderr",
     "output_type": "stream",
     "text": [
      "\r",
      "  4%|████▉                                                                                                            | 44/1000 [00:06<02:25,  6.56it/s]"
     ]
    },
    {
     "name": "stderr",
     "output_type": "stream",
     "text": [
      "\r",
      "  4%|█████                                                                                                            | 45/1000 [00:06<02:23,  6.64it/s]"
     ]
    },
    {
     "name": "stderr",
     "output_type": "stream",
     "text": [
      "\r",
      "  5%|█████▏                                                                                                           | 46/1000 [00:06<02:22,  6.71it/s]"
     ]
    },
    {
     "name": "stderr",
     "output_type": "stream",
     "text": [
      "\r",
      "  5%|█████▎                                                                                                           | 47/1000 [00:06<02:22,  6.70it/s]"
     ]
    },
    {
     "name": "stderr",
     "output_type": "stream",
     "text": [
      "\r",
      "  5%|█████▍                                                                                                           | 48/1000 [00:07<02:21,  6.74it/s]"
     ]
    },
    {
     "name": "stderr",
     "output_type": "stream",
     "text": [
      "\r",
      "  5%|█████▌                                                                                                           | 49/1000 [00:07<02:29,  6.36it/s]"
     ]
    },
    {
     "name": "stderr",
     "output_type": "stream",
     "text": [
      "\r",
      "  5%|█████▋                                                                                                           | 50/1000 [00:07<02:26,  6.50it/s]"
     ]
    },
    {
     "name": "stderr",
     "output_type": "stream",
     "text": [
      "\r",
      "  5%|█████▊                                                                                                           | 51/1000 [00:07<02:26,  6.48it/s]"
     ]
    },
    {
     "name": "stderr",
     "output_type": "stream",
     "text": [
      "\r",
      "  5%|█████▉                                                                                                           | 52/1000 [00:07<02:23,  6.58it/s]"
     ]
    },
    {
     "name": "stderr",
     "output_type": "stream",
     "text": [
      "\r",
      "  5%|█████▉                                                                                                           | 53/1000 [00:07<02:21,  6.67it/s]"
     ]
    },
    {
     "name": "stderr",
     "output_type": "stream",
     "text": [
      "\r",
      "  5%|██████                                                                                                           | 54/1000 [00:08<02:20,  6.73it/s]"
     ]
    },
    {
     "name": "stderr",
     "output_type": "stream",
     "text": [
      "\r",
      "  6%|██████▏                                                                                                          | 55/1000 [00:08<02:19,  6.77it/s]"
     ]
    },
    {
     "name": "stderr",
     "output_type": "stream",
     "text": [
      "\r",
      "  6%|██████▎                                                                                                          | 56/1000 [00:08<02:18,  6.80it/s]"
     ]
    },
    {
     "name": "stderr",
     "output_type": "stream",
     "text": [
      "\r",
      "  6%|██████▍                                                                                                          | 57/1000 [00:08<02:18,  6.81it/s]"
     ]
    },
    {
     "name": "stderr",
     "output_type": "stream",
     "text": [
      "\r",
      "  6%|██████▌                                                                                                          | 58/1000 [00:08<02:17,  6.83it/s]"
     ]
    },
    {
     "name": "stderr",
     "output_type": "stream",
     "text": [
      "\r",
      "  6%|██████▋                                                                                                          | 59/1000 [00:08<02:17,  6.84it/s]"
     ]
    },
    {
     "name": "stderr",
     "output_type": "stream",
     "text": [
      "\r",
      "  6%|██████▊                                                                                                          | 60/1000 [00:08<02:17,  6.84it/s]"
     ]
    },
    {
     "name": "stderr",
     "output_type": "stream",
     "text": [
      "\r",
      "  6%|██████▉                                                                                                          | 61/1000 [00:09<02:17,  6.84it/s]"
     ]
    },
    {
     "name": "stderr",
     "output_type": "stream",
     "text": [
      "\r",
      "  6%|███████                                                                                                          | 62/1000 [00:09<02:16,  6.85it/s]"
     ]
    },
    {
     "name": "stderr",
     "output_type": "stream",
     "text": [
      "\r",
      "  6%|███████                                                                                                          | 63/1000 [00:09<02:16,  6.85it/s]"
     ]
    },
    {
     "name": "stderr",
     "output_type": "stream",
     "text": [
      "\r",
      "  6%|███████▏                                                                                                         | 64/1000 [00:09<02:16,  6.86it/s]"
     ]
    },
    {
     "name": "stderr",
     "output_type": "stream",
     "text": [
      "\r",
      "  6%|███████▎                                                                                                         | 65/1000 [00:09<02:16,  6.87it/s]"
     ]
    },
    {
     "name": "stderr",
     "output_type": "stream",
     "text": [
      "\r",
      "  7%|███████▍                                                                                                         | 66/1000 [00:09<02:15,  6.88it/s]"
     ]
    },
    {
     "name": "stderr",
     "output_type": "stream",
     "text": [
      "\r",
      "  7%|███████▌                                                                                                         | 67/1000 [00:09<02:15,  6.88it/s]"
     ]
    },
    {
     "name": "stderr",
     "output_type": "stream",
     "text": [
      "\r",
      "  7%|███████▋                                                                                                         | 68/1000 [00:10<02:15,  6.88it/s]"
     ]
    },
    {
     "name": "stderr",
     "output_type": "stream",
     "text": [
      "\r",
      "  7%|███████▊                                                                                                         | 69/1000 [00:10<02:15,  6.87it/s]"
     ]
    },
    {
     "name": "stderr",
     "output_type": "stream",
     "text": [
      "\r",
      "  7%|███████▉                                                                                                         | 70/1000 [00:10<02:15,  6.88it/s]"
     ]
    },
    {
     "name": "stderr",
     "output_type": "stream",
     "text": [
      "\r",
      "  7%|████████                                                                                                         | 71/1000 [00:10<02:15,  6.87it/s]"
     ]
    },
    {
     "name": "stderr",
     "output_type": "stream",
     "text": [
      "\r",
      "  7%|████████▏                                                                                                        | 72/1000 [00:10<02:14,  6.88it/s]"
     ]
    },
    {
     "name": "stderr",
     "output_type": "stream",
     "text": [
      "\r",
      "  7%|████████▏                                                                                                        | 73/1000 [00:10<02:14,  6.88it/s]"
     ]
    },
    {
     "name": "stderr",
     "output_type": "stream",
     "text": [
      "\r",
      "  7%|████████▎                                                                                                        | 74/1000 [00:10<02:14,  6.88it/s]"
     ]
    },
    {
     "name": "stderr",
     "output_type": "stream",
     "text": [
      "\r",
      "  8%|████████▍                                                                                                        | 75/1000 [00:11<02:14,  6.88it/s]"
     ]
    },
    {
     "name": "stderr",
     "output_type": "stream",
     "text": [
      "\r",
      "  8%|████████▌                                                                                                        | 76/1000 [00:11<02:14,  6.89it/s]"
     ]
    },
    {
     "name": "stderr",
     "output_type": "stream",
     "text": [
      "\r",
      "  8%|████████▋                                                                                                        | 77/1000 [00:11<02:14,  6.89it/s]"
     ]
    },
    {
     "name": "stderr",
     "output_type": "stream",
     "text": [
      "\r",
      "  8%|████████▊                                                                                                        | 78/1000 [00:11<02:13,  6.89it/s]"
     ]
    },
    {
     "name": "stderr",
     "output_type": "stream",
     "text": [
      "\r",
      "  8%|████████▉                                                                                                        | 79/1000 [00:11<02:17,  6.69it/s]"
     ]
    },
    {
     "name": "stderr",
     "output_type": "stream",
     "text": [
      "\r",
      "  8%|█████████                                                                                                        | 80/1000 [00:11<02:16,  6.74it/s]"
     ]
    },
    {
     "name": "stderr",
     "output_type": "stream",
     "text": [
      "\r",
      "  8%|█████████▏                                                                                                       | 81/1000 [00:11<02:15,  6.77it/s]"
     ]
    },
    {
     "name": "stderr",
     "output_type": "stream",
     "text": [
      "\r",
      "  8%|█████████▎                                                                                                       | 82/1000 [00:12<02:14,  6.80it/s]"
     ]
    },
    {
     "name": "stderr",
     "output_type": "stream",
     "text": [
      "\r",
      "  8%|█████████▍                                                                                                       | 83/1000 [00:12<02:14,  6.82it/s]"
     ]
    },
    {
     "name": "stderr",
     "output_type": "stream",
     "text": [
      "\r",
      "  8%|█████████▍                                                                                                       | 84/1000 [00:12<02:14,  6.83it/s]"
     ]
    },
    {
     "name": "stderr",
     "output_type": "stream",
     "text": [
      "\r",
      "  8%|█████████▌                                                                                                       | 85/1000 [00:12<02:13,  6.84it/s]"
     ]
    },
    {
     "name": "stderr",
     "output_type": "stream",
     "text": [
      "\r",
      "  9%|█████████▋                                                                                                       | 86/1000 [00:12<02:13,  6.85it/s]"
     ]
    },
    {
     "name": "stderr",
     "output_type": "stream",
     "text": [
      "\r",
      "  9%|█████████▊                                                                                                       | 87/1000 [00:12<02:13,  6.86it/s]"
     ]
    },
    {
     "name": "stderr",
     "output_type": "stream",
     "text": [
      "\r",
      "  9%|█████████▉                                                                                                       | 88/1000 [00:12<02:12,  6.88it/s]"
     ]
    },
    {
     "name": "stderr",
     "output_type": "stream",
     "text": [
      "\r",
      "  9%|██████████                                                                                                       | 89/1000 [00:13<02:12,  6.88it/s]"
     ]
    },
    {
     "name": "stderr",
     "output_type": "stream",
     "text": [
      "\r",
      "  9%|██████████▏                                                                                                      | 90/1000 [00:13<02:12,  6.89it/s]"
     ]
    },
    {
     "name": "stderr",
     "output_type": "stream",
     "text": [
      "\r",
      "  9%|██████████▎                                                                                                      | 91/1000 [00:13<02:11,  6.90it/s]"
     ]
    },
    {
     "name": "stderr",
     "output_type": "stream",
     "text": [
      "\r",
      "  9%|██████████▍                                                                                                      | 92/1000 [00:13<02:11,  6.91it/s]"
     ]
    },
    {
     "name": "stderr",
     "output_type": "stream",
     "text": [
      "\r",
      "  9%|██████████▌                                                                                                      | 93/1000 [00:13<02:11,  6.91it/s]"
     ]
    },
    {
     "name": "stderr",
     "output_type": "stream",
     "text": [
      "\r",
      "  9%|██████████▌                                                                                                      | 94/1000 [00:13<02:11,  6.90it/s]"
     ]
    },
    {
     "name": "stderr",
     "output_type": "stream",
     "text": [
      "\r",
      " 10%|██████████▋                                                                                                      | 95/1000 [00:13<02:10,  6.91it/s]"
     ]
    },
    {
     "name": "stderr",
     "output_type": "stream",
     "text": [
      "\r",
      " 10%|██████████▊                                                                                                      | 96/1000 [00:14<02:10,  6.90it/s]"
     ]
    },
    {
     "name": "stderr",
     "output_type": "stream",
     "text": [
      "\r",
      " 10%|██████████▉                                                                                                      | 97/1000 [00:14<02:10,  6.90it/s]"
     ]
    },
    {
     "name": "stderr",
     "output_type": "stream",
     "text": [
      "\r",
      " 10%|███████████                                                                                                      | 98/1000 [00:14<02:10,  6.91it/s]"
     ]
    },
    {
     "name": "stderr",
     "output_type": "stream",
     "text": [
      "\r",
      " 10%|███████████▏                                                                                                     | 99/1000 [00:14<02:10,  6.91it/s]"
     ]
    },
    {
     "name": "stderr",
     "output_type": "stream",
     "text": [
      "\r",
      " 10%|███████████▏                                                                                                    | 100/1000 [00:14<02:10,  6.89it/s]"
     ]
    },
    {
     "name": "stderr",
     "output_type": "stream",
     "text": [
      "\r",
      " 10%|███████████▎                                                                                                    | 101/1000 [00:14<02:10,  6.90it/s]"
     ]
    },
    {
     "name": "stderr",
     "output_type": "stream",
     "text": [
      "\r",
      " 10%|███████████▍                                                                                                    | 102/1000 [00:15<02:10,  6.91it/s]"
     ]
    },
    {
     "name": "stderr",
     "output_type": "stream",
     "text": [
      "\r",
      " 10%|███████████▌                                                                                                    | 103/1000 [00:15<02:09,  6.91it/s]"
     ]
    },
    {
     "name": "stderr",
     "output_type": "stream",
     "text": [
      "\r",
      " 10%|███████████▋                                                                                                    | 104/1000 [00:15<02:09,  6.90it/s]"
     ]
    },
    {
     "name": "stderr",
     "output_type": "stream",
     "text": [
      "\r",
      " 10%|███████████▊                                                                                                    | 105/1000 [00:15<02:09,  6.90it/s]"
     ]
    },
    {
     "name": "stderr",
     "output_type": "stream",
     "text": [
      "\r",
      " 11%|███████████▊                                                                                                    | 106/1000 [00:15<02:11,  6.81it/s]"
     ]
    },
    {
     "name": "stderr",
     "output_type": "stream",
     "text": [
      "\r",
      " 11%|███████████▉                                                                                                    | 107/1000 [00:15<02:10,  6.84it/s]"
     ]
    },
    {
     "name": "stderr",
     "output_type": "stream",
     "text": [
      "\r",
      " 11%|████████████                                                                                                    | 108/1000 [00:15<02:10,  6.86it/s]"
     ]
    },
    {
     "name": "stderr",
     "output_type": "stream",
     "text": [
      "\r",
      " 11%|████████████▏                                                                                                   | 109/1000 [00:16<02:14,  6.62it/s]"
     ]
    },
    {
     "name": "stderr",
     "output_type": "stream",
     "text": [
      "\r",
      " 11%|████████████▎                                                                                                   | 110/1000 [00:16<02:17,  6.46it/s]"
     ]
    },
    {
     "name": "stderr",
     "output_type": "stream",
     "text": [
      "\r",
      " 11%|████████████▍                                                                                                   | 111/1000 [00:16<02:14,  6.59it/s]"
     ]
    },
    {
     "name": "stderr",
     "output_type": "stream",
     "text": [
      "\r",
      " 11%|████████████▌                                                                                                   | 112/1000 [00:16<02:13,  6.66it/s]"
     ]
    },
    {
     "name": "stderr",
     "output_type": "stream",
     "text": [
      "\r",
      " 11%|████████████▋                                                                                                   | 113/1000 [00:16<02:12,  6.69it/s]"
     ]
    },
    {
     "name": "stderr",
     "output_type": "stream",
     "text": [
      "\r",
      " 11%|████████████▊                                                                                                   | 114/1000 [00:16<02:11,  6.75it/s]"
     ]
    },
    {
     "name": "stderr",
     "output_type": "stream",
     "text": [
      "\r",
      " 12%|████████████▉                                                                                                   | 115/1000 [00:16<02:10,  6.79it/s]"
     ]
    },
    {
     "name": "stderr",
     "output_type": "stream",
     "text": [
      "\r",
      " 12%|████████████▉                                                                                                   | 116/1000 [00:17<02:09,  6.81it/s]"
     ]
    },
    {
     "name": "stderr",
     "output_type": "stream",
     "text": [
      "\r",
      " 12%|█████████████                                                                                                   | 117/1000 [00:17<02:09,  6.84it/s]"
     ]
    },
    {
     "name": "stderr",
     "output_type": "stream",
     "text": [
      "\r",
      " 12%|█████████████▏                                                                                                  | 118/1000 [00:17<02:08,  6.85it/s]"
     ]
    },
    {
     "name": "stderr",
     "output_type": "stream",
     "text": [
      "\r",
      " 12%|█████████████▎                                                                                                  | 119/1000 [00:17<02:08,  6.85it/s]"
     ]
    },
    {
     "name": "stderr",
     "output_type": "stream",
     "text": [
      "\r",
      " 12%|█████████████▍                                                                                                  | 120/1000 [00:17<02:08,  6.87it/s]"
     ]
    },
    {
     "name": "stderr",
     "output_type": "stream",
     "text": [
      "\r",
      " 12%|█████████████▌                                                                                                  | 121/1000 [00:17<02:07,  6.88it/s]"
     ]
    },
    {
     "name": "stderr",
     "output_type": "stream",
     "text": [
      "\r",
      " 12%|█████████████▋                                                                                                  | 122/1000 [00:17<02:07,  6.87it/s]"
     ]
    },
    {
     "name": "stderr",
     "output_type": "stream",
     "text": [
      "\r",
      " 12%|█████████████▊                                                                                                  | 123/1000 [00:18<02:07,  6.88it/s]"
     ]
    },
    {
     "name": "stderr",
     "output_type": "stream",
     "text": [
      "\r",
      " 12%|█████████████▉                                                                                                  | 124/1000 [00:18<02:07,  6.88it/s]"
     ]
    },
    {
     "name": "stderr",
     "output_type": "stream",
     "text": [
      "\r",
      " 12%|██████████████                                                                                                  | 125/1000 [00:18<02:07,  6.88it/s]"
     ]
    },
    {
     "name": "stderr",
     "output_type": "stream",
     "text": [
      "\r",
      " 13%|██████████████                                                                                                  | 126/1000 [00:18<02:06,  6.89it/s]"
     ]
    },
    {
     "name": "stderr",
     "output_type": "stream",
     "text": [
      "\r",
      " 13%|██████████████▏                                                                                                 | 127/1000 [00:18<02:06,  6.88it/s]"
     ]
    },
    {
     "name": "stderr",
     "output_type": "stream",
     "text": [
      "\r",
      " 13%|██████████████▎                                                                                                 | 128/1000 [00:18<02:06,  6.88it/s]"
     ]
    },
    {
     "name": "stderr",
     "output_type": "stream",
     "text": [
      "\r",
      " 13%|██████████████▍                                                                                                 | 129/1000 [00:18<02:06,  6.90it/s]"
     ]
    },
    {
     "name": "stderr",
     "output_type": "stream",
     "text": [
      "\r",
      " 13%|██████████████▌                                                                                                 | 130/1000 [00:19<02:06,  6.90it/s]"
     ]
    },
    {
     "name": "stderr",
     "output_type": "stream",
     "text": [
      "\r",
      " 13%|██████████████▋                                                                                                 | 131/1000 [00:19<02:05,  6.90it/s]"
     ]
    },
    {
     "name": "stderr",
     "output_type": "stream",
     "text": [
      "\r",
      " 13%|██████████████▊                                                                                                 | 132/1000 [00:19<02:05,  6.92it/s]"
     ]
    },
    {
     "name": "stderr",
     "output_type": "stream",
     "text": [
      "\r",
      " 13%|██████████████▉                                                                                                 | 133/1000 [00:19<02:06,  6.84it/s]"
     ]
    },
    {
     "name": "stderr",
     "output_type": "stream",
     "text": [
      "\r",
      " 13%|███████████████                                                                                                 | 134/1000 [00:19<02:06,  6.84it/s]"
     ]
    },
    {
     "name": "stderr",
     "output_type": "stream",
     "text": [
      "\r",
      " 14%|███████████████                                                                                                 | 135/1000 [00:19<02:05,  6.88it/s]"
     ]
    },
    {
     "name": "stderr",
     "output_type": "stream",
     "text": [
      "\r",
      " 14%|███████████████▏                                                                                                | 136/1000 [00:19<02:06,  6.81it/s]"
     ]
    },
    {
     "name": "stderr",
     "output_type": "stream",
     "text": [
      "\r",
      " 14%|███████████████▎                                                                                                | 137/1000 [00:20<02:06,  6.81it/s]"
     ]
    },
    {
     "name": "stderr",
     "output_type": "stream",
     "text": [
      "\r",
      " 14%|███████████████▍                                                                                                | 138/1000 [00:20<02:05,  6.85it/s]"
     ]
    },
    {
     "name": "stderr",
     "output_type": "stream",
     "text": [
      "\r",
      " 14%|███████████████▌                                                                                                | 139/1000 [00:20<02:05,  6.87it/s]"
     ]
    },
    {
     "name": "stderr",
     "output_type": "stream",
     "text": [
      "\r",
      " 14%|███████████████▋                                                                                                | 140/1000 [00:20<02:04,  6.89it/s]"
     ]
    },
    {
     "name": "stderr",
     "output_type": "stream",
     "text": [
      "\r",
      " 14%|███████████████▊                                                                                                | 141/1000 [00:20<02:04,  6.90it/s]"
     ]
    },
    {
     "name": "stderr",
     "output_type": "stream",
     "text": [
      "\r",
      " 14%|███████████████▉                                                                                                | 142/1000 [00:20<02:04,  6.89it/s]"
     ]
    },
    {
     "name": "stderr",
     "output_type": "stream",
     "text": [
      "\r",
      " 14%|████████████████                                                                                                | 143/1000 [00:21<02:04,  6.90it/s]"
     ]
    },
    {
     "name": "stderr",
     "output_type": "stream",
     "text": [
      "\r",
      " 14%|████████████████▏                                                                                               | 144/1000 [00:21<02:03,  6.91it/s]"
     ]
    },
    {
     "name": "stderr",
     "output_type": "stream",
     "text": [
      "\r",
      " 14%|████████████████▏                                                                                               | 145/1000 [00:21<02:03,  6.90it/s]"
     ]
    },
    {
     "name": "stderr",
     "output_type": "stream",
     "text": [
      "\r",
      " 15%|████████████████▎                                                                                               | 146/1000 [00:21<02:03,  6.91it/s]"
     ]
    },
    {
     "name": "stderr",
     "output_type": "stream",
     "text": [
      "\r",
      " 15%|████████████████▍                                                                                               | 147/1000 [00:21<02:03,  6.92it/s]"
     ]
    },
    {
     "name": "stderr",
     "output_type": "stream",
     "text": [
      "\r",
      " 15%|████████████████▌                                                                                               | 148/1000 [00:21<02:03,  6.89it/s]"
     ]
    },
    {
     "name": "stderr",
     "output_type": "stream",
     "text": [
      "\r",
      " 15%|████████████████▋                                                                                               | 149/1000 [00:21<02:03,  6.90it/s]"
     ]
    },
    {
     "name": "stderr",
     "output_type": "stream",
     "text": [
      "\r",
      " 15%|████████████████▊                                                                                               | 150/1000 [00:22<02:03,  6.91it/s]"
     ]
    },
    {
     "name": "stderr",
     "output_type": "stream",
     "text": [
      "\r",
      " 15%|████████████████▉                                                                                               | 151/1000 [00:22<02:03,  6.90it/s]"
     ]
    },
    {
     "name": "stderr",
     "output_type": "stream",
     "text": [
      "\r",
      " 15%|█████████████████                                                                                               | 152/1000 [00:22<02:02,  6.91it/s]"
     ]
    },
    {
     "name": "stderr",
     "output_type": "stream",
     "text": [
      "\r",
      " 15%|█████████████████▏                                                                                              | 153/1000 [00:22<02:02,  6.91it/s]"
     ]
    },
    {
     "name": "stderr",
     "output_type": "stream",
     "text": [
      "\r",
      " 15%|█████████████████▏                                                                                              | 154/1000 [00:22<02:02,  6.90it/s]"
     ]
    },
    {
     "name": "stderr",
     "output_type": "stream",
     "text": [
      "\r",
      " 16%|█████████████████▎                                                                                              | 155/1000 [00:22<02:03,  6.86it/s]"
     ]
    },
    {
     "name": "stderr",
     "output_type": "stream",
     "text": [
      "\r",
      " 16%|█████████████████▍                                                                                              | 156/1000 [00:22<02:02,  6.87it/s]"
     ]
    },
    {
     "name": "stderr",
     "output_type": "stream",
     "text": [
      "\r",
      " 16%|█████████████████▌                                                                                              | 157/1000 [00:23<02:02,  6.88it/s]"
     ]
    },
    {
     "name": "stderr",
     "output_type": "stream",
     "text": [
      "\r",
      " 16%|█████████████████▋                                                                                              | 158/1000 [00:23<02:02,  6.90it/s]"
     ]
    },
    {
     "name": "stderr",
     "output_type": "stream",
     "text": [
      "\r",
      " 16%|█████████████████▊                                                                                              | 159/1000 [00:23<02:01,  6.90it/s]"
     ]
    },
    {
     "name": "stderr",
     "output_type": "stream",
     "text": [
      "\r",
      " 16%|█████████████████▉                                                                                              | 160/1000 [00:23<02:01,  6.90it/s]"
     ]
    },
    {
     "name": "stderr",
     "output_type": "stream",
     "text": [
      "\r",
      " 16%|██████████████████                                                                                              | 161/1000 [00:23<02:01,  6.91it/s]"
     ]
    },
    {
     "name": "stderr",
     "output_type": "stream",
     "text": [
      "\r",
      " 16%|██████████████████▏                                                                                             | 162/1000 [00:23<02:01,  6.91it/s]"
     ]
    },
    {
     "name": "stderr",
     "output_type": "stream",
     "text": [
      "\r",
      " 16%|██████████████████▎                                                                                             | 163/1000 [00:23<02:01,  6.91it/s]"
     ]
    },
    {
     "name": "stderr",
     "output_type": "stream",
     "text": [
      "\r",
      " 16%|██████████████████▎                                                                                             | 164/1000 [00:24<02:00,  6.92it/s]"
     ]
    },
    {
     "name": "stderr",
     "output_type": "stream",
     "text": [
      "\r",
      " 16%|██████████████████▍                                                                                             | 165/1000 [00:24<02:00,  6.91it/s]"
     ]
    },
    {
     "name": "stderr",
     "output_type": "stream",
     "text": [
      "\r",
      " 17%|██████████████████▌                                                                                             | 166/1000 [00:24<02:00,  6.90it/s]"
     ]
    },
    {
     "name": "stderr",
     "output_type": "stream",
     "text": [
      "\r",
      " 17%|██████████████████▋                                                                                             | 167/1000 [00:24<02:00,  6.91it/s]"
     ]
    },
    {
     "name": "stderr",
     "output_type": "stream",
     "text": [
      "\r",
      " 17%|██████████████████▊                                                                                             | 168/1000 [00:24<02:00,  6.91it/s]"
     ]
    },
    {
     "name": "stderr",
     "output_type": "stream",
     "text": [
      "\r",
      " 17%|██████████████████▉                                                                                             | 169/1000 [00:24<02:00,  6.90it/s]"
     ]
    },
    {
     "name": "stderr",
     "output_type": "stream",
     "text": [
      "\r",
      " 17%|███████████████████                                                                                             | 170/1000 [00:24<02:00,  6.91it/s]"
     ]
    },
    {
     "name": "stderr",
     "output_type": "stream",
     "text": [
      "\r",
      " 17%|███████████████████▏                                                                                            | 171/1000 [00:25<01:59,  6.92it/s]"
     ]
    },
    {
     "name": "stderr",
     "output_type": "stream",
     "text": [
      "\r",
      " 17%|███████████████████▎                                                                                            | 172/1000 [00:25<01:59,  6.92it/s]"
     ]
    },
    {
     "name": "stderr",
     "output_type": "stream",
     "text": [
      "\r",
      " 17%|███████████████████▍                                                                                            | 173/1000 [00:25<01:59,  6.92it/s]"
     ]
    },
    {
     "name": "stderr",
     "output_type": "stream",
     "text": [
      "\r",
      " 17%|███████████████████▍                                                                                            | 174/1000 [00:25<01:59,  6.92it/s]"
     ]
    },
    {
     "name": "stderr",
     "output_type": "stream",
     "text": [
      "\r",
      " 18%|███████████████████▌                                                                                            | 175/1000 [00:25<01:59,  6.92it/s]"
     ]
    },
    {
     "name": "stderr",
     "output_type": "stream",
     "text": [
      "\r",
      " 18%|███████████████████▋                                                                                            | 176/1000 [00:25<01:59,  6.92it/s]"
     ]
    },
    {
     "name": "stderr",
     "output_type": "stream",
     "text": [
      "\r",
      " 18%|███████████████████▊                                                                                            | 177/1000 [00:25<01:59,  6.91it/s]"
     ]
    },
    {
     "name": "stderr",
     "output_type": "stream",
     "text": [
      "\r",
      " 18%|███████████████████▉                                                                                            | 178/1000 [00:26<01:58,  6.92it/s]"
     ]
    },
    {
     "name": "stderr",
     "output_type": "stream",
     "text": [
      "\r",
      " 18%|████████████████████                                                                                            | 179/1000 [00:26<01:58,  6.91it/s]"
     ]
    },
    {
     "name": "stderr",
     "output_type": "stream",
     "text": [
      "\r",
      " 18%|████████████████████▏                                                                                           | 180/1000 [00:26<01:58,  6.91it/s]"
     ]
    },
    {
     "name": "stderr",
     "output_type": "stream",
     "text": [
      "\r",
      " 18%|████████████████████▎                                                                                           | 181/1000 [00:26<01:58,  6.91it/s]"
     ]
    },
    {
     "name": "stderr",
     "output_type": "stream",
     "text": [
      "\r",
      " 18%|████████████████████▍                                                                                           | 182/1000 [00:26<01:58,  6.91it/s]"
     ]
    },
    {
     "name": "stderr",
     "output_type": "stream",
     "text": [
      "\r",
      " 18%|████████████████████▍                                                                                           | 183/1000 [00:26<01:58,  6.90it/s]"
     ]
    },
    {
     "name": "stderr",
     "output_type": "stream",
     "text": [
      "\r",
      " 18%|████████████████████▌                                                                                           | 184/1000 [00:26<01:58,  6.91it/s]"
     ]
    },
    {
     "name": "stderr",
     "output_type": "stream",
     "text": [
      "\r",
      " 18%|████████████████████▋                                                                                           | 185/1000 [00:27<01:58,  6.91it/s]"
     ]
    },
    {
     "name": "stderr",
     "output_type": "stream",
     "text": [
      "\r",
      " 19%|████████████████████▊                                                                                           | 186/1000 [00:27<01:57,  6.91it/s]"
     ]
    },
    {
     "name": "stderr",
     "output_type": "stream",
     "text": [
      "\r",
      " 19%|████████████████████▉                                                                                           | 187/1000 [00:27<01:57,  6.91it/s]"
     ]
    },
    {
     "name": "stderr",
     "output_type": "stream",
     "text": [
      "\r",
      " 19%|█████████████████████                                                                                           | 188/1000 [00:27<01:57,  6.91it/s]"
     ]
    },
    {
     "name": "stderr",
     "output_type": "stream",
     "text": [
      "\r",
      " 19%|█████████████████████▏                                                                                          | 189/1000 [00:27<01:57,  6.90it/s]"
     ]
    },
    {
     "name": "stderr",
     "output_type": "stream",
     "text": [
      "\r",
      " 19%|█████████████████████▎                                                                                          | 190/1000 [00:27<01:57,  6.90it/s]"
     ]
    },
    {
     "name": "stderr",
     "output_type": "stream",
     "text": [
      "\r",
      " 19%|█████████████████████▍                                                                                          | 191/1000 [00:27<01:56,  6.92it/s]"
     ]
    },
    {
     "name": "stderr",
     "output_type": "stream",
     "text": [
      "\r",
      " 19%|█████████████████████▌                                                                                          | 192/1000 [00:28<01:56,  6.91it/s]"
     ]
    },
    {
     "name": "stderr",
     "output_type": "stream",
     "text": [
      "\r",
      " 19%|█████████████████████▌                                                                                          | 193/1000 [00:28<01:57,  6.87it/s]"
     ]
    },
    {
     "name": "stderr",
     "output_type": "stream",
     "text": [
      "\r",
      " 19%|█████████████████████▋                                                                                          | 194/1000 [00:28<01:57,  6.89it/s]"
     ]
    },
    {
     "name": "stderr",
     "output_type": "stream",
     "text": [
      "\r",
      " 20%|█████████████████████▊                                                                                          | 195/1000 [00:28<01:57,  6.86it/s]"
     ]
    },
    {
     "name": "stderr",
     "output_type": "stream",
     "text": [
      "\r",
      " 20%|█████████████████████▉                                                                                          | 196/1000 [00:28<01:56,  6.87it/s]"
     ]
    },
    {
     "name": "stderr",
     "output_type": "stream",
     "text": [
      "\r",
      " 20%|██████████████████████                                                                                          | 197/1000 [00:28<01:56,  6.88it/s]"
     ]
    },
    {
     "name": "stderr",
     "output_type": "stream",
     "text": [
      "\r",
      " 20%|██████████████████████▏                                                                                         | 198/1000 [00:28<01:56,  6.89it/s]"
     ]
    },
    {
     "name": "stderr",
     "output_type": "stream",
     "text": [
      "\r",
      " 20%|██████████████████████▎                                                                                         | 199/1000 [00:29<01:56,  6.90it/s]"
     ]
    },
    {
     "name": "stderr",
     "output_type": "stream",
     "text": [
      "\r",
      " 20%|██████████████████████▍                                                                                         | 200/1000 [00:29<01:55,  6.90it/s]"
     ]
    },
    {
     "name": "stderr",
     "output_type": "stream",
     "text": [
      "\r",
      " 20%|██████████████████████▌                                                                                         | 201/1000 [00:29<01:55,  6.90it/s]"
     ]
    },
    {
     "name": "stderr",
     "output_type": "stream",
     "text": [
      "\r",
      " 20%|██████████████████████▌                                                                                         | 202/1000 [00:29<01:55,  6.90it/s]"
     ]
    },
    {
     "name": "stderr",
     "output_type": "stream",
     "text": [
      "\r",
      " 20%|██████████████████████▋                                                                                         | 203/1000 [00:29<02:01,  6.57it/s]"
     ]
    },
    {
     "name": "stderr",
     "output_type": "stream",
     "text": [
      "\r",
      " 20%|██████████████████████▊                                                                                         | 204/1000 [00:29<01:59,  6.65it/s]"
     ]
    },
    {
     "name": "stderr",
     "output_type": "stream",
     "text": [
      "\r",
      " 20%|██████████████████████▉                                                                                         | 205/1000 [00:30<01:58,  6.71it/s]"
     ]
    },
    {
     "name": "stderr",
     "output_type": "stream",
     "text": [
      "\r",
      " 21%|███████████████████████                                                                                         | 206/1000 [00:30<02:00,  6.61it/s]"
     ]
    },
    {
     "name": "stderr",
     "output_type": "stream",
     "text": [
      "\r",
      " 21%|███████████████████████▏                                                                                        | 207/1000 [00:30<02:05,  6.30it/s]"
     ]
    },
    {
     "name": "stderr",
     "output_type": "stream",
     "text": [
      "\r",
      " 21%|███████████████████████▎                                                                                        | 208/1000 [00:30<02:04,  6.35it/s]"
     ]
    },
    {
     "name": "stderr",
     "output_type": "stream",
     "text": [
      "\r",
      " 21%|███████████████████████▍                                                                                        | 209/1000 [00:30<02:01,  6.49it/s]"
     ]
    },
    {
     "name": "stderr",
     "output_type": "stream",
     "text": [
      "\r",
      " 21%|███████████████████████▌                                                                                        | 210/1000 [00:30<01:59,  6.61it/s]"
     ]
    },
    {
     "name": "stderr",
     "output_type": "stream",
     "text": [
      "\r",
      " 21%|███████████████████████▋                                                                                        | 211/1000 [00:30<01:57,  6.70it/s]"
     ]
    },
    {
     "name": "stderr",
     "output_type": "stream",
     "text": [
      "\r",
      " 21%|███████████████████████▋                                                                                        | 212/1000 [00:31<01:56,  6.77it/s]"
     ]
    },
    {
     "name": "stderr",
     "output_type": "stream",
     "text": [
      "\r",
      " 21%|███████████████████████▊                                                                                        | 213/1000 [00:31<02:02,  6.42it/s]"
     ]
    },
    {
     "name": "stderr",
     "output_type": "stream",
     "text": [
      "\r",
      " 21%|███████████████████████▉                                                                                        | 214/1000 [00:31<02:02,  6.43it/s]"
     ]
    },
    {
     "name": "stderr",
     "output_type": "stream",
     "text": [
      "\r",
      " 22%|████████████████████████                                                                                        | 215/1000 [00:31<01:59,  6.56it/s]"
     ]
    },
    {
     "name": "stderr",
     "output_type": "stream",
     "text": [
      "\r",
      " 22%|████████████████████████▏                                                                                       | 216/1000 [00:31<02:00,  6.53it/s]"
     ]
    },
    {
     "name": "stderr",
     "output_type": "stream",
     "text": [
      "\r",
      " 22%|████████████████████████▎                                                                                       | 217/1000 [00:31<01:57,  6.64it/s]"
     ]
    },
    {
     "name": "stderr",
     "output_type": "stream",
     "text": [
      "\r",
      " 22%|████████████████████████▍                                                                                       | 218/1000 [00:31<01:56,  6.73it/s]"
     ]
    },
    {
     "name": "stderr",
     "output_type": "stream",
     "text": [
      "\r",
      " 22%|████████████████████████▌                                                                                       | 219/1000 [00:32<01:55,  6.79it/s]"
     ]
    },
    {
     "name": "stderr",
     "output_type": "stream",
     "text": [
      "\r",
      " 22%|████████████████████████▋                                                                                       | 220/1000 [00:32<01:54,  6.83it/s]"
     ]
    },
    {
     "name": "stderr",
     "output_type": "stream",
     "text": [
      "\r",
      " 22%|████████████████████████▊                                                                                       | 221/1000 [00:32<01:53,  6.85it/s]"
     ]
    },
    {
     "name": "stderr",
     "output_type": "stream",
     "text": [
      "\r",
      " 22%|████████████████████████▊                                                                                       | 222/1000 [00:32<01:53,  6.87it/s]"
     ]
    },
    {
     "name": "stderr",
     "output_type": "stream",
     "text": [
      "\r",
      " 22%|████████████████████████▉                                                                                       | 223/1000 [00:32<01:52,  6.89it/s]"
     ]
    },
    {
     "name": "stderr",
     "output_type": "stream",
     "text": [
      "\r",
      " 22%|█████████████████████████                                                                                       | 224/1000 [00:32<01:52,  6.90it/s]"
     ]
    },
    {
     "name": "stderr",
     "output_type": "stream",
     "text": [
      "\r",
      " 22%|█████████████████████████▏                                                                                      | 225/1000 [00:33<01:52,  6.89it/s]"
     ]
    },
    {
     "name": "stderr",
     "output_type": "stream",
     "text": [
      "\r",
      " 23%|█████████████████████████▎                                                                                      | 226/1000 [00:33<01:52,  6.90it/s]"
     ]
    },
    {
     "name": "stderr",
     "output_type": "stream",
     "text": [
      "\r",
      " 23%|█████████████████████████▍                                                                                      | 227/1000 [00:33<01:52,  6.90it/s]"
     ]
    },
    {
     "name": "stderr",
     "output_type": "stream",
     "text": [
      "\r",
      " 23%|█████████████████████████▌                                                                                      | 228/1000 [00:33<01:51,  6.90it/s]"
     ]
    },
    {
     "name": "stderr",
     "output_type": "stream",
     "text": [
      "\r",
      " 23%|█████████████████████████▋                                                                                      | 229/1000 [00:33<01:51,  6.89it/s]"
     ]
    },
    {
     "name": "stderr",
     "output_type": "stream",
     "text": [
      "\r",
      " 23%|█████████████████████████▊                                                                                      | 230/1000 [00:33<01:51,  6.90it/s]"
     ]
    },
    {
     "name": "stderr",
     "output_type": "stream",
     "text": [
      "\r",
      " 23%|█████████████████████████▊                                                                                      | 231/1000 [00:33<01:51,  6.90it/s]"
     ]
    },
    {
     "name": "stderr",
     "output_type": "stream",
     "text": [
      "\r",
      " 23%|█████████████████████████▉                                                                                      | 232/1000 [00:34<01:51,  6.90it/s]"
     ]
    },
    {
     "name": "stderr",
     "output_type": "stream",
     "text": [
      "\r",
      " 23%|██████████████████████████                                                                                      | 233/1000 [00:34<01:51,  6.90it/s]"
     ]
    },
    {
     "name": "stderr",
     "output_type": "stream",
     "text": [
      "\r",
      " 23%|██████████████████████████▏                                                                                     | 234/1000 [00:34<01:50,  6.90it/s]"
     ]
    },
    {
     "name": "stderr",
     "output_type": "stream",
     "text": [
      "\r",
      " 24%|██████████████████████████▎                                                                                     | 235/1000 [00:34<01:50,  6.91it/s]"
     ]
    },
    {
     "name": "stderr",
     "output_type": "stream",
     "text": [
      "\r",
      " 24%|██████████████████████████▍                                                                                     | 236/1000 [00:34<01:50,  6.92it/s]"
     ]
    },
    {
     "name": "stderr",
     "output_type": "stream",
     "text": [
      "\r",
      " 24%|██████████████████████████▌                                                                                     | 237/1000 [00:34<01:50,  6.92it/s]"
     ]
    },
    {
     "name": "stderr",
     "output_type": "stream",
     "text": [
      "\r",
      " 24%|██████████████████████████▋                                                                                     | 238/1000 [00:34<01:50,  6.92it/s]"
     ]
    },
    {
     "name": "stderr",
     "output_type": "stream",
     "text": [
      "\r",
      " 24%|██████████████████████████▊                                                                                     | 239/1000 [00:35<01:49,  6.92it/s]"
     ]
    },
    {
     "name": "stderr",
     "output_type": "stream",
     "text": [
      "\r",
      " 24%|██████████████████████████▉                                                                                     | 240/1000 [00:35<01:49,  6.93it/s]"
     ]
    },
    {
     "name": "stderr",
     "output_type": "stream",
     "text": [
      "\r",
      " 24%|██████████████████████████▉                                                                                     | 241/1000 [00:35<01:49,  6.93it/s]"
     ]
    },
    {
     "name": "stderr",
     "output_type": "stream",
     "text": [
      "\r",
      " 24%|███████████████████████████                                                                                     | 242/1000 [00:35<01:49,  6.93it/s]"
     ]
    },
    {
     "name": "stderr",
     "output_type": "stream",
     "text": [
      "\r",
      " 24%|███████████████████████████▏                                                                                    | 243/1000 [00:35<01:49,  6.93it/s]"
     ]
    },
    {
     "name": "stderr",
     "output_type": "stream",
     "text": [
      "\r",
      " 24%|███████████████████████████▎                                                                                    | 244/1000 [00:35<01:49,  6.92it/s]"
     ]
    },
    {
     "name": "stderr",
     "output_type": "stream",
     "text": [
      "\r",
      " 24%|███████████████████████████▍                                                                                    | 245/1000 [00:35<01:49,  6.91it/s]"
     ]
    },
    {
     "name": "stderr",
     "output_type": "stream",
     "text": [
      "\r",
      " 25%|███████████████████████████▌                                                                                    | 246/1000 [00:36<01:49,  6.91it/s]"
     ]
    },
    {
     "name": "stderr",
     "output_type": "stream",
     "text": [
      "\r",
      " 25%|███████████████████████████▋                                                                                    | 247/1000 [00:36<01:49,  6.90it/s]"
     ]
    },
    {
     "name": "stderr",
     "output_type": "stream",
     "text": [
      "\r",
      " 25%|███████████████████████████▊                                                                                    | 248/1000 [00:36<01:48,  6.91it/s]"
     ]
    },
    {
     "name": "stderr",
     "output_type": "stream",
     "text": [
      "\r",
      " 25%|███████████████████████████▉                                                                                    | 249/1000 [00:36<01:48,  6.90it/s]"
     ]
    },
    {
     "name": "stderr",
     "output_type": "stream",
     "text": [
      "\r",
      " 25%|████████████████████████████                                                                                    | 250/1000 [00:36<01:48,  6.91it/s]"
     ]
    },
    {
     "name": "stderr",
     "output_type": "stream",
     "text": [
      "\r",
      " 25%|████████████████████████████                                                                                    | 251/1000 [00:36<01:48,  6.90it/s]"
     ]
    },
    {
     "name": "stderr",
     "output_type": "stream",
     "text": [
      "\r",
      " 25%|████████████████████████████▏                                                                                   | 252/1000 [00:36<01:48,  6.91it/s]"
     ]
    },
    {
     "name": "stderr",
     "output_type": "stream",
     "text": [
      "\r",
      " 25%|████████████████████████████▎                                                                                   | 253/1000 [00:37<01:48,  6.91it/s]"
     ]
    },
    {
     "name": "stderr",
     "output_type": "stream",
     "text": [
      "\r",
      " 25%|████████████████████████████▍                                                                                   | 254/1000 [00:37<01:47,  6.91it/s]"
     ]
    },
    {
     "name": "stderr",
     "output_type": "stream",
     "text": [
      "\r",
      " 26%|████████████████████████████▌                                                                                   | 255/1000 [00:37<01:47,  6.91it/s]"
     ]
    },
    {
     "name": "stderr",
     "output_type": "stream",
     "text": [
      "\r",
      " 26%|████████████████████████████▋                                                                                   | 256/1000 [00:37<01:47,  6.91it/s]"
     ]
    },
    {
     "name": "stderr",
     "output_type": "stream",
     "text": [
      "\r",
      " 26%|████████████████████████████▊                                                                                   | 257/1000 [00:37<01:47,  6.92it/s]"
     ]
    },
    {
     "name": "stderr",
     "output_type": "stream",
     "text": [
      "\r",
      " 26%|████████████████████████████▉                                                                                   | 258/1000 [00:37<01:47,  6.91it/s]"
     ]
    },
    {
     "name": "stderr",
     "output_type": "stream",
     "text": [
      "\r",
      " 26%|█████████████████████████████                                                                                   | 259/1000 [00:37<01:47,  6.91it/s]"
     ]
    },
    {
     "name": "stderr",
     "output_type": "stream",
     "text": [
      "\r",
      " 26%|█████████████████████████████                                                                                   | 260/1000 [00:38<01:47,  6.90it/s]"
     ]
    },
    {
     "name": "stderr",
     "output_type": "stream",
     "text": [
      "\r",
      " 26%|█████████████████████████████▏                                                                                  | 261/1000 [00:38<01:47,  6.90it/s]"
     ]
    },
    {
     "name": "stderr",
     "output_type": "stream",
     "text": [
      "\r",
      " 26%|█████████████████████████████▎                                                                                  | 262/1000 [00:38<01:47,  6.89it/s]"
     ]
    },
    {
     "name": "stderr",
     "output_type": "stream",
     "text": [
      "\r",
      " 26%|█████████████████████████████▍                                                                                  | 263/1000 [00:38<01:46,  6.90it/s]"
     ]
    },
    {
     "name": "stderr",
     "output_type": "stream",
     "text": [
      "\r",
      " 26%|█████████████████████████████▌                                                                                  | 264/1000 [00:38<01:46,  6.89it/s]"
     ]
    },
    {
     "name": "stderr",
     "output_type": "stream",
     "text": [
      "\r",
      " 26%|█████████████████████████████▋                                                                                  | 265/1000 [00:38<01:46,  6.89it/s]"
     ]
    },
    {
     "name": "stderr",
     "output_type": "stream",
     "text": [
      "\r",
      " 27%|█████████████████████████████▊                                                                                  | 266/1000 [00:38<01:46,  6.88it/s]"
     ]
    },
    {
     "name": "stderr",
     "output_type": "stream",
     "text": [
      "\r",
      " 27%|█████████████████████████████▉                                                                                  | 267/1000 [00:39<01:46,  6.89it/s]"
     ]
    },
    {
     "name": "stderr",
     "output_type": "stream",
     "text": [
      "\r",
      " 27%|██████████████████████████████                                                                                  | 268/1000 [00:39<01:46,  6.88it/s]"
     ]
    },
    {
     "name": "stderr",
     "output_type": "stream",
     "text": [
      "\r",
      " 27%|██████████████████████████████▏                                                                                 | 269/1000 [00:39<01:46,  6.89it/s]"
     ]
    },
    {
     "name": "stderr",
     "output_type": "stream",
     "text": [
      "\r",
      " 27%|██████████████████████████████▏                                                                                 | 270/1000 [00:39<01:46,  6.89it/s]"
     ]
    },
    {
     "name": "stderr",
     "output_type": "stream",
     "text": [
      "\r",
      " 27%|██████████████████████████████▎                                                                                 | 271/1000 [00:39<01:45,  6.88it/s]"
     ]
    },
    {
     "name": "stderr",
     "output_type": "stream",
     "text": [
      "\r",
      " 27%|██████████████████████████████▍                                                                                 | 272/1000 [00:39<01:45,  6.88it/s]"
     ]
    },
    {
     "name": "stderr",
     "output_type": "stream",
     "text": [
      "\r",
      " 27%|██████████████████████████████▌                                                                                 | 273/1000 [00:39<01:45,  6.89it/s]"
     ]
    },
    {
     "name": "stderr",
     "output_type": "stream",
     "text": [
      "\r",
      " 27%|██████████████████████████████▋                                                                                 | 274/1000 [00:40<01:45,  6.89it/s]"
     ]
    },
    {
     "name": "stderr",
     "output_type": "stream",
     "text": [
      "\r",
      " 28%|██████████████████████████████▊                                                                                 | 275/1000 [00:40<01:45,  6.89it/s]"
     ]
    },
    {
     "name": "stderr",
     "output_type": "stream",
     "text": [
      "\r",
      " 28%|██████████████████████████████▉                                                                                 | 276/1000 [00:40<01:45,  6.89it/s]"
     ]
    },
    {
     "name": "stderr",
     "output_type": "stream",
     "text": [
      "\r",
      " 28%|███████████████████████████████                                                                                 | 277/1000 [00:40<01:44,  6.89it/s]"
     ]
    },
    {
     "name": "stderr",
     "output_type": "stream",
     "text": [
      "\r",
      " 28%|███████████████████████████████▏                                                                                | 278/1000 [00:40<01:44,  6.88it/s]"
     ]
    },
    {
     "name": "stderr",
     "output_type": "stream",
     "text": [
      "\r",
      " 28%|███████████████████████████████▏                                                                                | 279/1000 [00:40<01:44,  6.89it/s]"
     ]
    },
    {
     "name": "stderr",
     "output_type": "stream",
     "text": [
      "\r",
      " 28%|███████████████████████████████▎                                                                                | 280/1000 [00:40<01:44,  6.90it/s]"
     ]
    },
    {
     "name": "stderr",
     "output_type": "stream",
     "text": [
      "\r",
      " 28%|███████████████████████████████▍                                                                                | 281/1000 [00:41<01:44,  6.90it/s]"
     ]
    },
    {
     "name": "stderr",
     "output_type": "stream",
     "text": [
      "\r",
      " 28%|███████████████████████████████▌                                                                                | 282/1000 [00:41<01:44,  6.90it/s]"
     ]
    },
    {
     "name": "stderr",
     "output_type": "stream",
     "text": [
      "\r",
      " 28%|███████████████████████████████▋                                                                                | 283/1000 [00:41<01:43,  6.90it/s]"
     ]
    },
    {
     "name": "stderr",
     "output_type": "stream",
     "text": [
      "\r",
      " 28%|███████████████████████████████▊                                                                                | 284/1000 [00:41<01:43,  6.89it/s]"
     ]
    },
    {
     "name": "stderr",
     "output_type": "stream",
     "text": [
      "\r",
      " 28%|███████████████████████████████▉                                                                                | 285/1000 [00:41<01:44,  6.87it/s]"
     ]
    },
    {
     "name": "stderr",
     "output_type": "stream",
     "text": [
      "\r",
      " 29%|████████████████████████████████                                                                                | 286/1000 [00:41<01:43,  6.87it/s]"
     ]
    },
    {
     "name": "stderr",
     "output_type": "stream",
     "text": [
      "\r",
      " 29%|████████████████████████████████▏                                                                               | 287/1000 [00:41<01:43,  6.88it/s]"
     ]
    },
    {
     "name": "stderr",
     "output_type": "stream",
     "text": [
      "\r",
      " 29%|████████████████████████████████▎                                                                               | 288/1000 [00:42<01:43,  6.87it/s]"
     ]
    },
    {
     "name": "stderr",
     "output_type": "stream",
     "text": [
      "\r",
      " 29%|████████████████████████████████▎                                                                               | 289/1000 [00:42<01:43,  6.88it/s]"
     ]
    },
    {
     "name": "stderr",
     "output_type": "stream",
     "text": [
      "\r",
      " 29%|████████████████████████████████▍                                                                               | 290/1000 [00:42<01:43,  6.88it/s]"
     ]
    },
    {
     "name": "stderr",
     "output_type": "stream",
     "text": [
      "\r",
      " 29%|████████████████████████████████▌                                                                               | 291/1000 [00:42<01:43,  6.88it/s]"
     ]
    },
    {
     "name": "stderr",
     "output_type": "stream",
     "text": [
      "\r",
      " 29%|████████████████████████████████▋                                                                               | 292/1000 [00:42<01:42,  6.88it/s]"
     ]
    },
    {
     "name": "stderr",
     "output_type": "stream",
     "text": [
      "\r",
      " 29%|████████████████████████████████▊                                                                               | 293/1000 [00:42<01:42,  6.88it/s]"
     ]
    },
    {
     "name": "stderr",
     "output_type": "stream",
     "text": [
      "\r",
      " 29%|████████████████████████████████▉                                                                               | 294/1000 [00:43<01:42,  6.88it/s]"
     ]
    },
    {
     "name": "stderr",
     "output_type": "stream",
     "text": [
      "\r",
      " 30%|█████████████████████████████████                                                                               | 295/1000 [00:43<01:42,  6.88it/s]"
     ]
    },
    {
     "name": "stderr",
     "output_type": "stream",
     "text": [
      "\r",
      " 30%|█████████████████████████████████▏                                                                              | 296/1000 [00:43<01:42,  6.88it/s]"
     ]
    },
    {
     "name": "stderr",
     "output_type": "stream",
     "text": [
      "\r",
      " 30%|█████████████████████████████████▎                                                                              | 297/1000 [00:43<01:42,  6.89it/s]"
     ]
    },
    {
     "name": "stderr",
     "output_type": "stream",
     "text": [
      "\r",
      " 30%|█████████████████████████████████▍                                                                              | 298/1000 [00:43<01:43,  6.79it/s]"
     ]
    },
    {
     "name": "stderr",
     "output_type": "stream",
     "text": [
      "\r",
      " 30%|█████████████████████████████████▍                                                                              | 299/1000 [00:43<01:44,  6.69it/s]"
     ]
    },
    {
     "name": "stderr",
     "output_type": "stream",
     "text": [
      "\r",
      " 30%|█████████████████████████████████▌                                                                              | 300/1000 [00:43<01:43,  6.74it/s]"
     ]
    },
    {
     "name": "stderr",
     "output_type": "stream",
     "text": [
      "\r",
      " 30%|█████████████████████████████████▋                                                                              | 301/1000 [00:44<01:42,  6.79it/s]"
     ]
    },
    {
     "name": "stderr",
     "output_type": "stream",
     "text": [
      "\r",
      " 30%|█████████████████████████████████▊                                                                              | 302/1000 [00:44<01:42,  6.81it/s]"
     ]
    },
    {
     "name": "stderr",
     "output_type": "stream",
     "text": [
      "\r",
      " 30%|█████████████████████████████████▉                                                                              | 303/1000 [00:44<01:42,  6.83it/s]"
     ]
    },
    {
     "name": "stderr",
     "output_type": "stream",
     "text": [
      "\r",
      " 30%|██████████████████████████████████                                                                              | 304/1000 [00:44<01:41,  6.84it/s]"
     ]
    },
    {
     "name": "stderr",
     "output_type": "stream",
     "text": [
      "\r",
      " 30%|██████████████████████████████████▏                                                                             | 305/1000 [00:44<01:41,  6.85it/s]"
     ]
    },
    {
     "name": "stderr",
     "output_type": "stream",
     "text": [
      "\r",
      " 31%|██████████████████████████████████▎                                                                             | 306/1000 [00:44<01:41,  6.82it/s]"
     ]
    },
    {
     "name": "stderr",
     "output_type": "stream",
     "text": [
      "\r",
      " 31%|██████████████████████████████████▍                                                                             | 307/1000 [00:44<01:41,  6.84it/s]"
     ]
    },
    {
     "name": "stderr",
     "output_type": "stream",
     "text": [
      "\r",
      " 31%|██████████████████████████████████▍                                                                             | 308/1000 [00:45<01:40,  6.85it/s]"
     ]
    },
    {
     "name": "stderr",
     "output_type": "stream",
     "text": [
      "\r",
      " 31%|██████████████████████████████████▌                                                                             | 309/1000 [00:45<01:40,  6.86it/s]"
     ]
    },
    {
     "name": "stderr",
     "output_type": "stream",
     "text": [
      "\r",
      " 31%|██████████████████████████████████▋                                                                             | 310/1000 [00:45<01:40,  6.87it/s]"
     ]
    },
    {
     "name": "stderr",
     "output_type": "stream",
     "text": [
      "\r",
      " 31%|██████████████████████████████████▊                                                                             | 311/1000 [00:45<01:40,  6.88it/s]"
     ]
    },
    {
     "name": "stderr",
     "output_type": "stream",
     "text": [
      "\r",
      " 31%|██████████████████████████████████▉                                                                             | 312/1000 [00:45<01:40,  6.87it/s]"
     ]
    },
    {
     "name": "stderr",
     "output_type": "stream",
     "text": [
      "\r",
      " 31%|███████████████████████████████████                                                                             | 313/1000 [00:45<01:39,  6.88it/s]"
     ]
    },
    {
     "name": "stderr",
     "output_type": "stream",
     "text": [
      "\r",
      " 31%|███████████████████████████████████▏                                                                            | 314/1000 [00:45<01:39,  6.88it/s]"
     ]
    },
    {
     "name": "stderr",
     "output_type": "stream",
     "text": [
      "\r",
      " 32%|███████████████████████████████████▎                                                                            | 315/1000 [00:46<01:39,  6.88it/s]"
     ]
    },
    {
     "name": "stderr",
     "output_type": "stream",
     "text": [
      "\r",
      " 32%|███████████████████████████████████▍                                                                            | 316/1000 [00:46<01:39,  6.88it/s]"
     ]
    },
    {
     "name": "stderr",
     "output_type": "stream",
     "text": [
      "\r",
      " 32%|███████████████████████████████████▌                                                                            | 317/1000 [00:46<01:39,  6.89it/s]"
     ]
    },
    {
     "name": "stderr",
     "output_type": "stream",
     "text": [
      "\r",
      " 32%|███████████████████████████████████▌                                                                            | 318/1000 [00:46<01:39,  6.88it/s]"
     ]
    },
    {
     "name": "stderr",
     "output_type": "stream",
     "text": [
      "\r",
      " 32%|███████████████████████████████████▋                                                                            | 319/1000 [00:46<01:38,  6.88it/s]"
     ]
    },
    {
     "name": "stderr",
     "output_type": "stream",
     "text": [
      "\r",
      " 32%|███████████████████████████████████▊                                                                            | 320/1000 [00:46<01:38,  6.88it/s]"
     ]
    },
    {
     "name": "stderr",
     "output_type": "stream",
     "text": [
      "\r",
      " 32%|███████████████████████████████████▉                                                                            | 321/1000 [00:46<01:38,  6.89it/s]"
     ]
    },
    {
     "name": "stderr",
     "output_type": "stream",
     "text": [
      "\r",
      " 32%|████████████████████████████████████                                                                            | 322/1000 [00:47<01:38,  6.88it/s]"
     ]
    },
    {
     "name": "stderr",
     "output_type": "stream",
     "text": [
      "\r",
      " 32%|████████████████████████████████████▏                                                                           | 323/1000 [00:47<01:38,  6.88it/s]"
     ]
    },
    {
     "name": "stderr",
     "output_type": "stream",
     "text": [
      "\r",
      " 32%|████████████████████████████████████▎                                                                           | 324/1000 [00:47<01:38,  6.88it/s]"
     ]
    },
    {
     "name": "stderr",
     "output_type": "stream",
     "text": [
      "\r",
      " 32%|████████████████████████████████████▍                                                                           | 325/1000 [00:47<01:38,  6.88it/s]"
     ]
    },
    {
     "name": "stderr",
     "output_type": "stream",
     "text": [
      "\r",
      " 33%|████████████████████████████████████▌                                                                           | 326/1000 [00:47<01:37,  6.88it/s]"
     ]
    },
    {
     "name": "stderr",
     "output_type": "stream",
     "text": [
      "\r",
      " 33%|████████████████████████████████████▌                                                                           | 327/1000 [00:47<01:37,  6.88it/s]"
     ]
    },
    {
     "name": "stderr",
     "output_type": "stream",
     "text": [
      "\r",
      " 33%|████████████████████████████████████▋                                                                           | 328/1000 [00:47<01:37,  6.88it/s]"
     ]
    },
    {
     "name": "stderr",
     "output_type": "stream",
     "text": [
      "\r",
      " 33%|████████████████████████████████████▊                                                                           | 329/1000 [00:48<01:37,  6.88it/s]"
     ]
    },
    {
     "name": "stderr",
     "output_type": "stream",
     "text": [
      "\r",
      " 33%|████████████████████████████████████▉                                                                           | 330/1000 [00:48<01:37,  6.88it/s]"
     ]
    },
    {
     "name": "stderr",
     "output_type": "stream",
     "text": [
      "\r",
      " 33%|█████████████████████████████████████                                                                           | 331/1000 [00:48<01:37,  6.87it/s]"
     ]
    },
    {
     "name": "stderr",
     "output_type": "stream",
     "text": [
      "\r",
      " 33%|█████████████████████████████████████▏                                                                          | 332/1000 [00:48<01:37,  6.87it/s]"
     ]
    },
    {
     "name": "stderr",
     "output_type": "stream",
     "text": [
      "\r",
      " 33%|█████████████████████████████████████▎                                                                          | 333/1000 [00:48<01:36,  6.88it/s]"
     ]
    },
    {
     "name": "stderr",
     "output_type": "stream",
     "text": [
      "\r",
      " 33%|█████████████████████████████████████▍                                                                          | 334/1000 [00:48<01:36,  6.88it/s]"
     ]
    },
    {
     "name": "stderr",
     "output_type": "stream",
     "text": [
      "\r",
      " 34%|█████████████████████████████████████▌                                                                          | 335/1000 [00:48<01:36,  6.89it/s]"
     ]
    },
    {
     "name": "stderr",
     "output_type": "stream",
     "text": [
      "\r",
      " 34%|█████████████████████████████████████▋                                                                          | 336/1000 [00:49<01:36,  6.90it/s]"
     ]
    },
    {
     "name": "stderr",
     "output_type": "stream",
     "text": [
      "\r",
      " 34%|█████████████████████████████████████▋                                                                          | 337/1000 [00:49<01:36,  6.90it/s]"
     ]
    },
    {
     "name": "stderr",
     "output_type": "stream",
     "text": [
      "\r",
      " 34%|█████████████████████████████████████▊                                                                          | 338/1000 [00:49<01:35,  6.90it/s]"
     ]
    },
    {
     "name": "stderr",
     "output_type": "stream",
     "text": [
      "\r",
      " 34%|█████████████████████████████████████▉                                                                          | 339/1000 [00:49<01:35,  6.90it/s]"
     ]
    },
    {
     "name": "stderr",
     "output_type": "stream",
     "text": [
      "\r",
      " 34%|██████████████████████████████████████                                                                          | 340/1000 [00:49<01:35,  6.89it/s]"
     ]
    },
    {
     "name": "stderr",
     "output_type": "stream",
     "text": [
      "\r",
      " 34%|██████████████████████████████████████▏                                                                         | 341/1000 [00:49<01:35,  6.90it/s]"
     ]
    },
    {
     "name": "stderr",
     "output_type": "stream",
     "text": [
      "\r",
      " 34%|██████████████████████████████████████▎                                                                         | 342/1000 [00:50<01:35,  6.91it/s]"
     ]
    },
    {
     "name": "stderr",
     "output_type": "stream",
     "text": [
      "\r",
      " 34%|██████████████████████████████████████▍                                                                         | 343/1000 [00:50<01:34,  6.92it/s]"
     ]
    },
    {
     "name": "stderr",
     "output_type": "stream",
     "text": [
      "\r",
      " 34%|██████████████████████████████████████▌                                                                         | 344/1000 [00:50<01:34,  6.92it/s]"
     ]
    },
    {
     "name": "stderr",
     "output_type": "stream",
     "text": [
      "\r",
      " 34%|██████████████████████████████████████▋                                                                         | 345/1000 [00:50<01:34,  6.93it/s]"
     ]
    },
    {
     "name": "stderr",
     "output_type": "stream",
     "text": [
      "\r",
      " 35%|██████████████████████████████████████▊                                                                         | 346/1000 [00:50<01:37,  6.72it/s]"
     ]
    },
    {
     "name": "stderr",
     "output_type": "stream",
     "text": [
      "\r",
      " 35%|██████████████████████████████████████▊                                                                         | 347/1000 [00:50<01:36,  6.78it/s]"
     ]
    },
    {
     "name": "stderr",
     "output_type": "stream",
     "text": [
      "\r",
      " 35%|██████████████████████████████████████▉                                                                         | 348/1000 [00:50<01:35,  6.81it/s]"
     ]
    },
    {
     "name": "stderr",
     "output_type": "stream",
     "text": [
      "\r",
      " 35%|███████████████████████████████████████                                                                         | 349/1000 [00:51<01:35,  6.85it/s]"
     ]
    },
    {
     "name": "stderr",
     "output_type": "stream",
     "text": [
      "\r",
      " 35%|███████████████████████████████████████▏                                                                        | 350/1000 [00:51<01:34,  6.87it/s]"
     ]
    },
    {
     "name": "stderr",
     "output_type": "stream",
     "text": [
      "\r",
      " 35%|███████████████████████████████████████▎                                                                        | 351/1000 [00:51<01:34,  6.89it/s]"
     ]
    },
    {
     "name": "stderr",
     "output_type": "stream",
     "text": [
      "\r",
      " 35%|███████████████████████████████████████▍                                                                        | 352/1000 [00:51<01:33,  6.90it/s]"
     ]
    },
    {
     "name": "stderr",
     "output_type": "stream",
     "text": [
      "\r",
      " 35%|███████████████████████████████████████▌                                                                        | 353/1000 [00:51<01:36,  6.71it/s]"
     ]
    },
    {
     "name": "stderr",
     "output_type": "stream",
     "text": [
      "\r",
      " 35%|███████████████████████████████████████▋                                                                        | 354/1000 [00:51<01:35,  6.78it/s]"
     ]
    },
    {
     "name": "stderr",
     "output_type": "stream",
     "text": [
      "\r",
      " 36%|███████████████████████████████████████▊                                                                        | 355/1000 [00:51<01:34,  6.83it/s]"
     ]
    },
    {
     "name": "stderr",
     "output_type": "stream",
     "text": [
      "\r",
      " 36%|███████████████████████████████████████▊                                                                        | 356/1000 [00:52<01:33,  6.86it/s]"
     ]
    },
    {
     "name": "stderr",
     "output_type": "stream",
     "text": [
      "\r",
      " 36%|███████████████████████████████████████▉                                                                        | 357/1000 [00:52<01:33,  6.89it/s]"
     ]
    },
    {
     "name": "stderr",
     "output_type": "stream",
     "text": [
      "\r",
      " 36%|████████████████████████████████████████                                                                        | 358/1000 [00:52<01:32,  6.91it/s]"
     ]
    },
    {
     "name": "stderr",
     "output_type": "stream",
     "text": [
      "\r",
      " 36%|████████████████████████████████████████▏                                                                       | 359/1000 [00:52<01:32,  6.91it/s]"
     ]
    },
    {
     "name": "stderr",
     "output_type": "stream",
     "text": [
      "\r",
      " 36%|████████████████████████████████████████▎                                                                       | 360/1000 [00:52<01:32,  6.91it/s]"
     ]
    },
    {
     "name": "stderr",
     "output_type": "stream",
     "text": [
      "\r",
      " 36%|████████████████████████████████████████▍                                                                       | 361/1000 [00:52<01:32,  6.93it/s]"
     ]
    },
    {
     "name": "stderr",
     "output_type": "stream",
     "text": [
      "\r",
      " 36%|████████████████████████████████████████▌                                                                       | 362/1000 [00:52<01:32,  6.92it/s]"
     ]
    },
    {
     "name": "stderr",
     "output_type": "stream",
     "text": [
      "\r",
      " 36%|████████████████████████████████████████▋                                                                       | 363/1000 [00:53<01:32,  6.91it/s]"
     ]
    },
    {
     "name": "stderr",
     "output_type": "stream",
     "text": [
      "\r",
      " 36%|████████████████████████████████████████▊                                                                       | 364/1000 [00:53<01:31,  6.92it/s]"
     ]
    },
    {
     "name": "stderr",
     "output_type": "stream",
     "text": [
      "\r",
      " 36%|████████████████████████████████████████▉                                                                       | 365/1000 [00:53<01:31,  6.93it/s]"
     ]
    },
    {
     "name": "stderr",
     "output_type": "stream",
     "text": [
      "\r",
      " 37%|████████████████████████████████████████▉                                                                       | 366/1000 [00:53<01:31,  6.93it/s]"
     ]
    },
    {
     "name": "stderr",
     "output_type": "stream",
     "text": [
      "\r",
      " 37%|█████████████████████████████████████████                                                                       | 367/1000 [00:53<01:31,  6.93it/s]"
     ]
    },
    {
     "name": "stderr",
     "output_type": "stream",
     "text": [
      "\r",
      " 37%|█████████████████████████████████████████▏                                                                      | 368/1000 [00:53<01:31,  6.93it/s]"
     ]
    },
    {
     "name": "stderr",
     "output_type": "stream",
     "text": [
      "\r",
      " 37%|█████████████████████████████████████████▎                                                                      | 369/1000 [00:53<01:31,  6.93it/s]"
     ]
    },
    {
     "name": "stderr",
     "output_type": "stream",
     "text": [
      "\r",
      " 37%|█████████████████████████████████████████▍                                                                      | 370/1000 [00:54<01:31,  6.92it/s]"
     ]
    },
    {
     "name": "stderr",
     "output_type": "stream",
     "text": [
      "\r",
      " 37%|█████████████████████████████████████████▌                                                                      | 371/1000 [00:54<01:30,  6.93it/s]"
     ]
    },
    {
     "name": "stderr",
     "output_type": "stream",
     "text": [
      "\r",
      " 37%|█████████████████████████████████████████▋                                                                      | 372/1000 [00:54<01:30,  6.93it/s]"
     ]
    },
    {
     "name": "stderr",
     "output_type": "stream",
     "text": [
      "\r",
      " 37%|█████████████████████████████████████████▊                                                                      | 373/1000 [00:54<01:30,  6.93it/s]"
     ]
    },
    {
     "name": "stderr",
     "output_type": "stream",
     "text": [
      "\r",
      " 37%|█████████████████████████████████████████▉                                                                      | 374/1000 [00:54<01:30,  6.92it/s]"
     ]
    },
    {
     "name": "stderr",
     "output_type": "stream",
     "text": [
      "\r",
      " 38%|██████████████████████████████████████████                                                                      | 375/1000 [00:54<01:30,  6.93it/s]"
     ]
    },
    {
     "name": "stderr",
     "output_type": "stream",
     "text": [
      "\r",
      " 38%|██████████████████████████████████████████                                                                      | 376/1000 [00:54<01:30,  6.92it/s]"
     ]
    },
    {
     "name": "stderr",
     "output_type": "stream",
     "text": [
      "\r",
      " 38%|██████████████████████████████████████████▏                                                                     | 377/1000 [00:55<01:29,  6.92it/s]"
     ]
    },
    {
     "name": "stderr",
     "output_type": "stream",
     "text": [
      "\r",
      " 38%|██████████████████████████████████████████▎                                                                     | 378/1000 [00:55<01:29,  6.92it/s]"
     ]
    },
    {
     "name": "stderr",
     "output_type": "stream",
     "text": [
      "\r",
      " 38%|██████████████████████████████████████████▍                                                                     | 379/1000 [00:55<01:29,  6.93it/s]"
     ]
    },
    {
     "name": "stderr",
     "output_type": "stream",
     "text": [
      "\r",
      " 38%|██████████████████████████████████████████▌                                                                     | 380/1000 [00:55<01:29,  6.93it/s]"
     ]
    },
    {
     "name": "stderr",
     "output_type": "stream",
     "text": [
      "\r",
      " 38%|██████████████████████████████████████████▋                                                                     | 381/1000 [00:55<01:29,  6.93it/s]"
     ]
    },
    {
     "name": "stderr",
     "output_type": "stream",
     "text": [
      "\r",
      " 38%|██████████████████████████████████████████▊                                                                     | 382/1000 [00:55<01:29,  6.92it/s]"
     ]
    },
    {
     "name": "stderr",
     "output_type": "stream",
     "text": [
      "\r",
      " 38%|██████████████████████████████████████████▉                                                                     | 383/1000 [00:55<01:29,  6.92it/s]"
     ]
    },
    {
     "name": "stderr",
     "output_type": "stream",
     "text": [
      "\r",
      " 38%|███████████████████████████████████████████                                                                     | 384/1000 [00:56<01:28,  6.92it/s]"
     ]
    },
    {
     "name": "stderr",
     "output_type": "stream",
     "text": [
      "\r",
      " 38%|███████████████████████████████████████████                                                                     | 385/1000 [00:56<01:28,  6.92it/s]"
     ]
    },
    {
     "name": "stderr",
     "output_type": "stream",
     "text": [
      "\r",
      " 39%|███████████████████████████████████████████▏                                                                    | 386/1000 [00:56<01:28,  6.93it/s]"
     ]
    },
    {
     "name": "stderr",
     "output_type": "stream",
     "text": [
      "\r",
      " 39%|███████████████████████████████████████████▎                                                                    | 387/1000 [00:56<01:28,  6.93it/s]"
     ]
    },
    {
     "name": "stderr",
     "output_type": "stream",
     "text": [
      "\r",
      " 39%|███████████████████████████████████████████▍                                                                    | 388/1000 [00:56<01:28,  6.92it/s]"
     ]
    },
    {
     "name": "stderr",
     "output_type": "stream",
     "text": [
      "\r",
      " 39%|███████████████████████████████████████████▌                                                                    | 389/1000 [00:56<01:28,  6.92it/s]"
     ]
    },
    {
     "name": "stderr",
     "output_type": "stream",
     "text": [
      "\r",
      " 39%|███████████████████████████████████████████▋                                                                    | 390/1000 [00:56<01:28,  6.91it/s]"
     ]
    },
    {
     "name": "stderr",
     "output_type": "stream",
     "text": [
      "\r",
      " 39%|███████████████████████████████████████████▊                                                                    | 391/1000 [00:57<01:28,  6.91it/s]"
     ]
    },
    {
     "name": "stderr",
     "output_type": "stream",
     "text": [
      "\r",
      " 39%|███████████████████████████████████████████▉                                                                    | 392/1000 [00:57<01:27,  6.92it/s]"
     ]
    },
    {
     "name": "stderr",
     "output_type": "stream",
     "text": [
      "\r",
      " 39%|████████████████████████████████████████████                                                                    | 393/1000 [00:57<01:27,  6.92it/s]"
     ]
    },
    {
     "name": "stderr",
     "output_type": "stream",
     "text": [
      "\r",
      " 39%|████████████████████████████████████████████▏                                                                   | 394/1000 [00:57<01:27,  6.92it/s]"
     ]
    },
    {
     "name": "stderr",
     "output_type": "stream",
     "text": [
      "\r",
      " 40%|████████████████████████████████████████████▏                                                                   | 395/1000 [00:57<01:27,  6.93it/s]"
     ]
    },
    {
     "name": "stderr",
     "output_type": "stream",
     "text": [
      "\r",
      " 40%|████████████████████████████████████████████▎                                                                   | 396/1000 [00:57<01:27,  6.92it/s]"
     ]
    },
    {
     "name": "stderr",
     "output_type": "stream",
     "text": [
      "\r",
      " 40%|████████████████████████████████████████████▍                                                                   | 397/1000 [00:57<01:27,  6.92it/s]"
     ]
    },
    {
     "name": "stderr",
     "output_type": "stream",
     "text": [
      "\r",
      " 40%|████████████████████████████████████████████▌                                                                   | 398/1000 [00:58<01:27,  6.91it/s]"
     ]
    },
    {
     "name": "stderr",
     "output_type": "stream",
     "text": [
      "\r",
      " 40%|████████████████████████████████████████████▋                                                                   | 399/1000 [00:58<01:26,  6.91it/s]"
     ]
    },
    {
     "name": "stderr",
     "output_type": "stream",
     "text": [
      "\r",
      " 40%|████████████████████████████████████████████▊                                                                   | 400/1000 [00:58<01:26,  6.91it/s]"
     ]
    },
    {
     "name": "stderr",
     "output_type": "stream",
     "text": [
      "\r",
      " 40%|████████████████████████████████████████████▉                                                                   | 401/1000 [00:58<01:26,  6.92it/s]"
     ]
    },
    {
     "name": "stderr",
     "output_type": "stream",
     "text": [
      "\r",
      " 40%|█████████████████████████████████████████████                                                                   | 402/1000 [00:58<01:26,  6.92it/s]"
     ]
    },
    {
     "name": "stderr",
     "output_type": "stream",
     "text": [
      "\r",
      " 40%|█████████████████████████████████████████████▏                                                                  | 403/1000 [00:58<01:26,  6.92it/s]"
     ]
    },
    {
     "name": "stderr",
     "output_type": "stream",
     "text": [
      "\r",
      " 40%|█████████████████████████████████████████████▏                                                                  | 404/1000 [00:58<01:26,  6.92it/s]"
     ]
    },
    {
     "name": "stderr",
     "output_type": "stream",
     "text": [
      "\r",
      " 40%|█████████████████████████████████████████████▎                                                                  | 405/1000 [00:59<01:25,  6.92it/s]"
     ]
    },
    {
     "name": "stderr",
     "output_type": "stream",
     "text": [
      "\r",
      " 41%|█████████████████████████████████████████████▍                                                                  | 406/1000 [00:59<01:25,  6.92it/s]"
     ]
    },
    {
     "name": "stderr",
     "output_type": "stream",
     "text": [
      "\r",
      " 41%|█████████████████████████████████████████████▌                                                                  | 407/1000 [00:59<01:25,  6.93it/s]"
     ]
    },
    {
     "name": "stderr",
     "output_type": "stream",
     "text": [
      "\r",
      " 41%|█████████████████████████████████████████████▋                                                                  | 408/1000 [00:59<01:25,  6.92it/s]"
     ]
    },
    {
     "name": "stderr",
     "output_type": "stream",
     "text": [
      "\r",
      " 41%|█████████████████████████████████████████████▊                                                                  | 409/1000 [00:59<01:25,  6.92it/s]"
     ]
    },
    {
     "name": "stderr",
     "output_type": "stream",
     "text": [
      "\r",
      " 41%|█████████████████████████████████████████████▉                                                                  | 410/1000 [00:59<01:25,  6.92it/s]"
     ]
    },
    {
     "name": "stderr",
     "output_type": "stream",
     "text": [
      "\r",
      " 41%|██████████████████████████████████████████████                                                                  | 411/1000 [00:59<01:25,  6.93it/s]"
     ]
    },
    {
     "name": "stderr",
     "output_type": "stream",
     "text": [
      "\r",
      " 41%|██████████████████████████████████████████████▏                                                                 | 412/1000 [01:00<01:24,  6.92it/s]"
     ]
    },
    {
     "name": "stderr",
     "output_type": "stream",
     "text": [
      "\r",
      " 41%|██████████████████████████████████████████████▎                                                                 | 413/1000 [01:00<01:24,  6.92it/s]"
     ]
    },
    {
     "name": "stderr",
     "output_type": "stream",
     "text": [
      "\r",
      " 41%|██████████████████████████████████████████████▎                                                                 | 414/1000 [01:00<01:24,  6.92it/s]"
     ]
    },
    {
     "name": "stderr",
     "output_type": "stream",
     "text": [
      "\r",
      " 42%|██████████████████████████████████████████████▍                                                                 | 415/1000 [01:00<01:24,  6.92it/s]"
     ]
    },
    {
     "name": "stderr",
     "output_type": "stream",
     "text": [
      "\r",
      " 42%|██████████████████████████████████████████████▌                                                                 | 416/1000 [01:00<01:24,  6.91it/s]"
     ]
    },
    {
     "name": "stderr",
     "output_type": "stream",
     "text": [
      "\r",
      " 42%|██████████████████████████████████████████████▋                                                                 | 417/1000 [01:00<01:24,  6.91it/s]"
     ]
    },
    {
     "name": "stderr",
     "output_type": "stream",
     "text": [
      "\r",
      " 42%|██████████████████████████████████████████████▊                                                                 | 418/1000 [01:01<01:24,  6.91it/s]"
     ]
    },
    {
     "name": "stderr",
     "output_type": "stream",
     "text": [
      "\r",
      " 42%|██████████████████████████████████████████████▉                                                                 | 419/1000 [01:01<01:24,  6.91it/s]"
     ]
    },
    {
     "name": "stderr",
     "output_type": "stream",
     "text": [
      "\r",
      " 42%|███████████████████████████████████████████████                                                                 | 420/1000 [01:01<01:23,  6.91it/s]"
     ]
    },
    {
     "name": "stderr",
     "output_type": "stream",
     "text": [
      "\r",
      " 42%|███████████████████████████████████████████████▏                                                                | 421/1000 [01:01<01:24,  6.88it/s]"
     ]
    },
    {
     "name": "stderr",
     "output_type": "stream",
     "text": [
      "\r",
      " 42%|███████████████████████████████████████████████▎                                                                | 422/1000 [01:01<01:24,  6.87it/s]"
     ]
    },
    {
     "name": "stderr",
     "output_type": "stream",
     "text": [
      "\r",
      " 42%|███████████████████████████████████████████████▍                                                                | 423/1000 [01:01<01:24,  6.82it/s]"
     ]
    },
    {
     "name": "stderr",
     "output_type": "stream",
     "text": [
      "\r",
      " 42%|███████████████████████████████████████████████▍                                                                | 424/1000 [01:01<01:24,  6.85it/s]"
     ]
    },
    {
     "name": "stderr",
     "output_type": "stream",
     "text": [
      "\r",
      " 42%|███████████████████████████████████████████████▌                                                                | 425/1000 [01:02<01:23,  6.88it/s]"
     ]
    },
    {
     "name": "stderr",
     "output_type": "stream",
     "text": [
      "\r",
      " 43%|███████████████████████████████████████████████▋                                                                | 426/1000 [01:02<01:23,  6.90it/s]"
     ]
    },
    {
     "name": "stderr",
     "output_type": "stream",
     "text": [
      "\r",
      " 43%|███████████████████████████████████████████████▊                                                                | 427/1000 [01:02<01:22,  6.90it/s]"
     ]
    },
    {
     "name": "stderr",
     "output_type": "stream",
     "text": [
      "\r",
      " 43%|███████████████████████████████████████████████▉                                                                | 428/1000 [01:02<01:24,  6.81it/s]"
     ]
    },
    {
     "name": "stderr",
     "output_type": "stream",
     "text": [
      "\r",
      " 43%|████████████████████████████████████████████████                                                                | 429/1000 [01:02<01:23,  6.84it/s]"
     ]
    },
    {
     "name": "stderr",
     "output_type": "stream",
     "text": [
      "\r",
      " 43%|████████████████████████████████████████████████▏                                                               | 430/1000 [01:02<01:23,  6.85it/s]"
     ]
    },
    {
     "name": "stderr",
     "output_type": "stream",
     "text": [
      "\r",
      " 43%|████████████████████████████████████████████████▎                                                               | 431/1000 [01:02<01:22,  6.87it/s]"
     ]
    },
    {
     "name": "stderr",
     "output_type": "stream",
     "text": [
      "\r",
      " 43%|████████████████████████████████████████████████▍                                                               | 432/1000 [01:03<01:22,  6.88it/s]"
     ]
    },
    {
     "name": "stderr",
     "output_type": "stream",
     "text": [
      "\r",
      " 43%|████████████████████████████████████████████████▍                                                               | 433/1000 [01:03<01:22,  6.90it/s]"
     ]
    },
    {
     "name": "stderr",
     "output_type": "stream",
     "text": [
      "\r",
      " 43%|████████████████████████████████████████████████▌                                                               | 434/1000 [01:03<01:21,  6.90it/s]"
     ]
    },
    {
     "name": "stderr",
     "output_type": "stream",
     "text": [
      "\r",
      " 44%|████████████████████████████████████████████████▋                                                               | 435/1000 [01:03<01:21,  6.91it/s]"
     ]
    },
    {
     "name": "stderr",
     "output_type": "stream",
     "text": [
      "\r",
      " 44%|████████████████████████████████████████████████▊                                                               | 436/1000 [01:03<01:21,  6.91it/s]"
     ]
    },
    {
     "name": "stderr",
     "output_type": "stream",
     "text": [
      "\r",
      " 44%|████████████████████████████████████████████████▉                                                               | 437/1000 [01:03<01:21,  6.92it/s]"
     ]
    },
    {
     "name": "stderr",
     "output_type": "stream",
     "text": [
      "\r",
      " 44%|█████████████████████████████████████████████████                                                               | 438/1000 [01:03<01:21,  6.92it/s]"
     ]
    },
    {
     "name": "stderr",
     "output_type": "stream",
     "text": [
      "\r",
      " 44%|█████████████████████████████████████████████████▏                                                              | 439/1000 [01:04<01:20,  6.93it/s]"
     ]
    },
    {
     "name": "stderr",
     "output_type": "stream",
     "text": [
      "\r",
      " 44%|█████████████████████████████████████████████████▎                                                              | 440/1000 [01:04<01:20,  6.92it/s]"
     ]
    },
    {
     "name": "stderr",
     "output_type": "stream",
     "text": [
      "\r",
      " 44%|█████████████████████████████████████████████████▍                                                              | 441/1000 [01:04<01:20,  6.92it/s]"
     ]
    },
    {
     "name": "stderr",
     "output_type": "stream",
     "text": [
      "\r",
      " 44%|█████████████████████████████████████████████████▌                                                              | 442/1000 [01:04<01:20,  6.91it/s]"
     ]
    },
    {
     "name": "stderr",
     "output_type": "stream",
     "text": [
      "\r",
      " 44%|█████████████████████████████████████████████████▌                                                              | 443/1000 [01:04<01:20,  6.92it/s]"
     ]
    },
    {
     "name": "stderr",
     "output_type": "stream",
     "text": [
      "\r",
      " 44%|█████████████████████████████████████████████████▋                                                              | 444/1000 [01:04<01:20,  6.91it/s]"
     ]
    },
    {
     "name": "stderr",
     "output_type": "stream",
     "text": [
      "\r",
      " 44%|█████████████████████████████████████████████████▊                                                              | 445/1000 [01:04<01:20,  6.93it/s]"
     ]
    },
    {
     "name": "stderr",
     "output_type": "stream",
     "text": [
      "\r",
      " 45%|█████████████████████████████████████████████████▉                                                              | 446/1000 [01:05<01:19,  6.93it/s]"
     ]
    },
    {
     "name": "stderr",
     "output_type": "stream",
     "text": [
      "\r",
      " 45%|██████████████████████████████████████████████████                                                              | 447/1000 [01:05<01:19,  6.93it/s]"
     ]
    },
    {
     "name": "stderr",
     "output_type": "stream",
     "text": [
      "\r",
      " 45%|██████████████████████████████████████████████████▏                                                             | 448/1000 [01:05<01:19,  6.93it/s]"
     ]
    },
    {
     "name": "stderr",
     "output_type": "stream",
     "text": [
      "\r",
      " 45%|██████████████████████████████████████████████████▎                                                             | 449/1000 [01:05<01:19,  6.93it/s]"
     ]
    },
    {
     "name": "stderr",
     "output_type": "stream",
     "text": [
      "\r",
      " 45%|██████████████████████████████████████████████████▍                                                             | 450/1000 [01:05<01:19,  6.94it/s]"
     ]
    },
    {
     "name": "stderr",
     "output_type": "stream",
     "text": [
      "\r",
      " 45%|██████████████████████████████████████████████████▌                                                             | 451/1000 [01:05<01:19,  6.94it/s]"
     ]
    },
    {
     "name": "stderr",
     "output_type": "stream",
     "text": [
      "\r",
      " 45%|██████████████████████████████████████████████████▌                                                             | 452/1000 [01:05<01:18,  6.94it/s]"
     ]
    },
    {
     "name": "stderr",
     "output_type": "stream",
     "text": [
      "\r",
      " 45%|██████████████████████████████████████████████████▋                                                             | 453/1000 [01:06<01:18,  6.94it/s]"
     ]
    },
    {
     "name": "stderr",
     "output_type": "stream",
     "text": [
      "\r",
      " 45%|██████████████████████████████████████████████████▊                                                             | 454/1000 [01:06<01:18,  6.98it/s]"
     ]
    },
    {
     "name": "stderr",
     "output_type": "stream",
     "text": [
      "\r",
      " 46%|██████████████████████████████████████████████████▉                                                             | 455/1000 [01:06<01:18,  6.97it/s]"
     ]
    },
    {
     "name": "stderr",
     "output_type": "stream",
     "text": [
      "\r",
      " 46%|███████████████████████████████████████████████████                                                             | 456/1000 [01:06<01:18,  6.96it/s]"
     ]
    },
    {
     "name": "stderr",
     "output_type": "stream",
     "text": [
      "\r",
      " 46%|███████████████████████████████████████████████████▏                                                            | 457/1000 [01:06<01:18,  6.95it/s]"
     ]
    },
    {
     "name": "stderr",
     "output_type": "stream",
     "text": [
      "\r",
      " 46%|███████████████████████████████████████████████████▎                                                            | 458/1000 [01:06<01:18,  6.94it/s]"
     ]
    },
    {
     "name": "stderr",
     "output_type": "stream",
     "text": [
      "\r",
      " 46%|███████████████████████████████████████████████████▍                                                            | 459/1000 [01:06<01:17,  6.94it/s]"
     ]
    },
    {
     "name": "stderr",
     "output_type": "stream",
     "text": [
      "\r",
      " 46%|███████████████████████████████████████████████████▌                                                            | 460/1000 [01:07<01:17,  6.93it/s]"
     ]
    },
    {
     "name": "stderr",
     "output_type": "stream",
     "text": [
      "\r",
      " 46%|███████████████████████████████████████████████████▋                                                            | 461/1000 [01:07<01:17,  6.94it/s]"
     ]
    },
    {
     "name": "stderr",
     "output_type": "stream",
     "text": [
      "\r",
      " 46%|███████████████████████████████████████████████████▋                                                            | 462/1000 [01:07<01:17,  6.94it/s]"
     ]
    },
    {
     "name": "stderr",
     "output_type": "stream",
     "text": [
      "\r",
      " 46%|███████████████████████████████████████████████████▊                                                            | 463/1000 [01:07<01:17,  6.94it/s]"
     ]
    },
    {
     "name": "stderr",
     "output_type": "stream",
     "text": [
      "\r",
      " 46%|███████████████████████████████████████████████████▉                                                            | 464/1000 [01:07<01:17,  6.94it/s]"
     ]
    },
    {
     "name": "stderr",
     "output_type": "stream",
     "text": [
      "\r",
      " 46%|████████████████████████████████████████████████████                                                            | 465/1000 [01:07<01:17,  6.95it/s]"
     ]
    },
    {
     "name": "stderr",
     "output_type": "stream",
     "text": [
      "\r",
      " 47%|████████████████████████████████████████████████████▏                                                           | 466/1000 [01:07<01:16,  6.94it/s]"
     ]
    },
    {
     "name": "stderr",
     "output_type": "stream",
     "text": [
      "\r",
      " 47%|████████████████████████████████████████████████████▎                                                           | 467/1000 [01:08<01:16,  6.94it/s]"
     ]
    },
    {
     "name": "stderr",
     "output_type": "stream",
     "text": [
      "\r",
      " 47%|████████████████████████████████████████████████████▍                                                           | 468/1000 [01:08<01:16,  6.94it/s]"
     ]
    },
    {
     "name": "stderr",
     "output_type": "stream",
     "text": [
      "\r",
      " 47%|████████████████████████████████████████████████████▌                                                           | 469/1000 [01:08<01:16,  6.95it/s]"
     ]
    },
    {
     "name": "stderr",
     "output_type": "stream",
     "text": [
      "\r",
      " 47%|████████████████████████████████████████████████████▋                                                           | 470/1000 [01:08<01:16,  6.95it/s]"
     ]
    },
    {
     "name": "stderr",
     "output_type": "stream",
     "text": [
      "\r",
      " 47%|████████████████████████████████████████████████████▊                                                           | 471/1000 [01:08<01:16,  6.95it/s]"
     ]
    },
    {
     "name": "stderr",
     "output_type": "stream",
     "text": [
      "\r",
      " 47%|████████████████████████████████████████████████████▊                                                           | 472/1000 [01:08<01:15,  6.95it/s]"
     ]
    },
    {
     "name": "stderr",
     "output_type": "stream",
     "text": [
      "\r",
      " 47%|████████████████████████████████████████████████████▉                                                           | 473/1000 [01:08<01:15,  6.95it/s]"
     ]
    },
    {
     "name": "stderr",
     "output_type": "stream",
     "text": [
      "\r",
      " 47%|█████████████████████████████████████████████████████                                                           | 474/1000 [01:09<01:15,  6.95it/s]"
     ]
    },
    {
     "name": "stderr",
     "output_type": "stream",
     "text": [
      "\r",
      " 48%|█████████████████████████████████████████████████████▏                                                          | 475/1000 [01:09<01:15,  6.95it/s]"
     ]
    },
    {
     "name": "stderr",
     "output_type": "stream",
     "text": [
      "\r",
      " 48%|█████████████████████████████████████████████████████▎                                                          | 476/1000 [01:09<01:15,  6.95it/s]"
     ]
    },
    {
     "name": "stderr",
     "output_type": "stream",
     "text": [
      "\r",
      " 48%|█████████████████████████████████████████████████████▍                                                          | 477/1000 [01:09<01:15,  6.95it/s]"
     ]
    },
    {
     "name": "stderr",
     "output_type": "stream",
     "text": [
      "\r",
      " 48%|█████████████████████████████████████████████████████▌                                                          | 478/1000 [01:09<01:15,  6.94it/s]"
     ]
    },
    {
     "name": "stderr",
     "output_type": "stream",
     "text": [
      "\r",
      " 48%|█████████████████████████████████████████████████████▋                                                          | 479/1000 [01:09<01:15,  6.94it/s]"
     ]
    },
    {
     "name": "stderr",
     "output_type": "stream",
     "text": [
      "\r",
      " 48%|█████████████████████████████████████████████████████▊                                                          | 480/1000 [01:09<01:14,  6.93it/s]"
     ]
    },
    {
     "name": "stderr",
     "output_type": "stream",
     "text": [
      "\r",
      " 48%|█████████████████████████████████████████████████████▊                                                          | 481/1000 [01:10<01:14,  6.93it/s]"
     ]
    },
    {
     "name": "stderr",
     "output_type": "stream",
     "text": [
      "\r",
      " 48%|█████████████████████████████████████████████████████▉                                                          | 482/1000 [01:10<01:14,  6.93it/s]"
     ]
    },
    {
     "name": "stderr",
     "output_type": "stream",
     "text": [
      "\r",
      " 48%|██████████████████████████████████████████████████████                                                          | 483/1000 [01:10<01:14,  6.93it/s]"
     ]
    },
    {
     "name": "stderr",
     "output_type": "stream",
     "text": [
      "\r",
      " 48%|██████████████████████████████████████████████████████▏                                                         | 484/1000 [01:10<01:14,  6.93it/s]"
     ]
    },
    {
     "name": "stderr",
     "output_type": "stream",
     "text": [
      "\r",
      " 48%|██████████████████████████████████████████████████████▎                                                         | 485/1000 [01:10<01:14,  6.93it/s]"
     ]
    },
    {
     "name": "stderr",
     "output_type": "stream",
     "text": [
      "\r",
      " 49%|██████████████████████████████████████████████████████▍                                                         | 486/1000 [01:10<01:14,  6.93it/s]"
     ]
    },
    {
     "name": "stderr",
     "output_type": "stream",
     "text": [
      "\r",
      " 49%|██████████████████████████████████████████████████████▌                                                         | 487/1000 [01:10<01:13,  6.93it/s]"
     ]
    },
    {
     "name": "stderr",
     "output_type": "stream",
     "text": [
      "\r",
      " 49%|██████████████████████████████████████████████████████▋                                                         | 488/1000 [01:11<01:13,  6.93it/s]"
     ]
    },
    {
     "name": "stderr",
     "output_type": "stream",
     "text": [
      "\r",
      " 49%|██████████████████████████████████████████████████████▊                                                         | 489/1000 [01:11<01:13,  6.94it/s]"
     ]
    },
    {
     "name": "stderr",
     "output_type": "stream",
     "text": [
      "\r",
      " 49%|██████████████████████████████████████████████████████▉                                                         | 490/1000 [01:11<01:13,  6.94it/s]"
     ]
    },
    {
     "name": "stderr",
     "output_type": "stream",
     "text": [
      "\r",
      " 49%|██████████████████████████████████████████████████████▉                                                         | 491/1000 [01:11<01:13,  6.93it/s]"
     ]
    },
    {
     "name": "stderr",
     "output_type": "stream",
     "text": [
      "\r",
      " 49%|███████████████████████████████████████████████████████                                                         | 492/1000 [01:11<01:14,  6.84it/s]"
     ]
    },
    {
     "name": "stderr",
     "output_type": "stream",
     "text": [
      "\r",
      " 49%|███████████████████████████████████████████████████████▏                                                        | 493/1000 [01:11<01:13,  6.88it/s]"
     ]
    },
    {
     "name": "stderr",
     "output_type": "stream",
     "text": [
      "\r",
      " 49%|███████████████████████████████████████████████████████▎                                                        | 494/1000 [01:11<01:13,  6.89it/s]"
     ]
    },
    {
     "name": "stderr",
     "output_type": "stream",
     "text": [
      "\r",
      " 50%|███████████████████████████████████████████████████████▍                                                        | 495/1000 [01:12<01:13,  6.91it/s]"
     ]
    },
    {
     "name": "stderr",
     "output_type": "stream",
     "text": [
      "\r",
      " 50%|███████████████████████████████████████████████████████▌                                                        | 496/1000 [01:12<01:12,  6.92it/s]"
     ]
    },
    {
     "name": "stderr",
     "output_type": "stream",
     "text": [
      "\r",
      " 50%|███████████████████████████████████████████████████████▋                                                        | 497/1000 [01:12<01:12,  6.93it/s]"
     ]
    },
    {
     "name": "stderr",
     "output_type": "stream",
     "text": [
      "\r",
      " 50%|███████████████████████████████████████████████████████▊                                                        | 498/1000 [01:12<01:12,  6.92it/s]"
     ]
    },
    {
     "name": "stderr",
     "output_type": "stream",
     "text": [
      "\r",
      " 50%|███████████████████████████████████████████████████████▉                                                        | 499/1000 [01:12<01:12,  6.93it/s]"
     ]
    },
    {
     "name": "stderr",
     "output_type": "stream",
     "text": [
      "\r",
      " 50%|████████████████████████████████████████████████████████                                                        | 500/1000 [01:12<01:12,  6.94it/s]"
     ]
    },
    {
     "name": "stderr",
     "output_type": "stream",
     "text": [
      "\r",
      " 50%|████████████████████████████████████████████████████████                                                        | 501/1000 [01:12<01:11,  6.94it/s]"
     ]
    },
    {
     "name": "stderr",
     "output_type": "stream",
     "text": [
      "\r",
      " 50%|████████████████████████████████████████████████████████▏                                                       | 502/1000 [01:13<01:11,  6.94it/s]"
     ]
    },
    {
     "name": "stderr",
     "output_type": "stream",
     "text": [
      "\r",
      " 50%|████████████████████████████████████████████████████████▎                                                       | 503/1000 [01:13<01:11,  6.95it/s]"
     ]
    },
    {
     "name": "stderr",
     "output_type": "stream",
     "text": [
      "\r",
      " 50%|████████████████████████████████████████████████████████▍                                                       | 504/1000 [01:13<01:11,  6.95it/s]"
     ]
    },
    {
     "name": "stderr",
     "output_type": "stream",
     "text": [
      "\r",
      " 50%|████████████████████████████████████████████████████████▌                                                       | 505/1000 [01:13<01:11,  6.94it/s]"
     ]
    },
    {
     "name": "stderr",
     "output_type": "stream",
     "text": [
      "\r",
      " 51%|████████████████████████████████████████████████████████▋                                                       | 506/1000 [01:13<01:11,  6.94it/s]"
     ]
    },
    {
     "name": "stderr",
     "output_type": "stream",
     "text": [
      "\r",
      " 51%|████████████████████████████████████████████████████████▊                                                       | 507/1000 [01:13<01:11,  6.94it/s]"
     ]
    },
    {
     "name": "stderr",
     "output_type": "stream",
     "text": [
      "\r",
      " 51%|████████████████████████████████████████████████████████▉                                                       | 508/1000 [01:14<01:10,  6.94it/s]"
     ]
    },
    {
     "name": "stderr",
     "output_type": "stream",
     "text": [
      "\r",
      " 51%|█████████████████████████████████████████████████████████                                                       | 509/1000 [01:14<01:10,  6.95it/s]"
     ]
    },
    {
     "name": "stderr",
     "output_type": "stream",
     "text": [
      "\r",
      " 51%|█████████████████████████████████████████████████████████                                                       | 510/1000 [01:14<01:10,  6.95it/s]"
     ]
    },
    {
     "name": "stderr",
     "output_type": "stream",
     "text": [
      "\r",
      " 51%|█████████████████████████████████████████████████████████▏                                                      | 511/1000 [01:14<01:10,  6.95it/s]"
     ]
    },
    {
     "name": "stderr",
     "output_type": "stream",
     "text": [
      "\r",
      " 51%|█████████████████████████████████████████████████████████▎                                                      | 512/1000 [01:14<01:10,  6.94it/s]"
     ]
    },
    {
     "name": "stderr",
     "output_type": "stream",
     "text": [
      "\r",
      " 51%|█████████████████████████████████████████████████████████▍                                                      | 513/1000 [01:14<01:10,  6.93it/s]"
     ]
    },
    {
     "name": "stderr",
     "output_type": "stream",
     "text": [
      "\r",
      " 51%|█████████████████████████████████████████████████████████▌                                                      | 514/1000 [01:14<01:10,  6.93it/s]"
     ]
    },
    {
     "name": "stderr",
     "output_type": "stream",
     "text": [
      "\r",
      " 52%|█████████████████████████████████████████████████████████▋                                                      | 515/1000 [01:15<01:09,  6.93it/s]"
     ]
    },
    {
     "name": "stderr",
     "output_type": "stream",
     "text": [
      "\r",
      " 52%|█████████████████████████████████████████████████████████▊                                                      | 516/1000 [01:15<01:09,  6.93it/s]"
     ]
    },
    {
     "name": "stderr",
     "output_type": "stream",
     "text": [
      "\r",
      " 52%|█████████████████████████████████████████████████████████▉                                                      | 517/1000 [01:15<01:09,  6.94it/s]"
     ]
    },
    {
     "name": "stderr",
     "output_type": "stream",
     "text": [
      "\r",
      " 52%|██████████████████████████████████████████████████████████                                                      | 518/1000 [01:15<01:09,  6.94it/s]"
     ]
    },
    {
     "name": "stderr",
     "output_type": "stream",
     "text": [
      "\r",
      " 52%|██████████████████████████████████████████████████████████▏                                                     | 519/1000 [01:15<01:12,  6.67it/s]"
     ]
    },
    {
     "name": "stderr",
     "output_type": "stream",
     "text": [
      "\r",
      " 52%|██████████████████████████████████████████████████████████▏                                                     | 520/1000 [01:15<01:11,  6.75it/s]"
     ]
    },
    {
     "name": "stderr",
     "output_type": "stream",
     "text": [
      "\r",
      " 52%|██████████████████████████████████████████████████████████▎                                                     | 521/1000 [01:15<01:10,  6.81it/s]"
     ]
    },
    {
     "name": "stderr",
     "output_type": "stream",
     "text": [
      "\r",
      " 52%|██████████████████████████████████████████████████████████▍                                                     | 522/1000 [01:16<01:09,  6.86it/s]"
     ]
    },
    {
     "name": "stderr",
     "output_type": "stream",
     "text": [
      "\r",
      " 52%|██████████████████████████████████████████████████████████▌                                                     | 523/1000 [01:16<01:09,  6.87it/s]"
     ]
    },
    {
     "name": "stderr",
     "output_type": "stream",
     "text": [
      "\r",
      " 52%|██████████████████████████████████████████████████████████▋                                                     | 524/1000 [01:16<01:09,  6.89it/s]"
     ]
    },
    {
     "name": "stderr",
     "output_type": "stream",
     "text": [
      "\r",
      " 52%|██████████████████████████████████████████████████████████▊                                                     | 525/1000 [01:16<01:08,  6.91it/s]"
     ]
    },
    {
     "name": "stderr",
     "output_type": "stream",
     "text": [
      "\r",
      " 53%|██████████████████████████████████████████████████████████▉                                                     | 526/1000 [01:16<01:08,  6.91it/s]"
     ]
    },
    {
     "name": "stderr",
     "output_type": "stream",
     "text": [
      "\r",
      " 53%|███████████████████████████████████████████████████████████                                                     | 527/1000 [01:16<01:08,  6.92it/s]"
     ]
    },
    {
     "name": "stderr",
     "output_type": "stream",
     "text": [
      "\r",
      " 53%|███████████████████████████████████████████████████████████▏                                                    | 528/1000 [01:16<01:08,  6.92it/s]"
     ]
    },
    {
     "name": "stderr",
     "output_type": "stream",
     "text": [
      "\r",
      " 53%|███████████████████████████████████████████████████████████▏                                                    | 529/1000 [01:17<01:07,  6.93it/s]"
     ]
    },
    {
     "name": "stderr",
     "output_type": "stream",
     "text": [
      "\r",
      " 53%|███████████████████████████████████████████████████████████▎                                                    | 530/1000 [01:17<01:08,  6.89it/s]"
     ]
    },
    {
     "name": "stderr",
     "output_type": "stream",
     "text": [
      "\r",
      " 53%|███████████████████████████████████████████████████████████▍                                                    | 531/1000 [01:17<01:07,  6.90it/s]"
     ]
    },
    {
     "name": "stderr",
     "output_type": "stream",
     "text": [
      "\r",
      " 53%|███████████████████████████████████████████████████████████▌                                                    | 532/1000 [01:17<01:07,  6.91it/s]"
     ]
    },
    {
     "name": "stderr",
     "output_type": "stream",
     "text": [
      "\r",
      " 53%|███████████████████████████████████████████████████████████▋                                                    | 533/1000 [01:17<01:07,  6.92it/s]"
     ]
    },
    {
     "name": "stderr",
     "output_type": "stream",
     "text": [
      "\r",
      " 53%|███████████████████████████████████████████████████████████▊                                                    | 534/1000 [01:17<01:07,  6.92it/s]"
     ]
    },
    {
     "name": "stderr",
     "output_type": "stream",
     "text": [
      "\r",
      " 54%|███████████████████████████████████████████████████████████▉                                                    | 535/1000 [01:17<01:07,  6.93it/s]"
     ]
    },
    {
     "name": "stderr",
     "output_type": "stream",
     "text": [
      "\r",
      " 54%|████████████████████████████████████████████████████████████                                                    | 536/1000 [01:18<01:06,  6.94it/s]"
     ]
    },
    {
     "name": "stderr",
     "output_type": "stream",
     "text": [
      "\r",
      " 54%|████████████████████████████████████████████████████████████▏                                                   | 537/1000 [01:18<01:06,  6.94it/s]"
     ]
    },
    {
     "name": "stderr",
     "output_type": "stream",
     "text": [
      "\r",
      " 54%|████████████████████████████████████████████████████████████▎                                                   | 538/1000 [01:18<01:06,  6.95it/s]"
     ]
    },
    {
     "name": "stderr",
     "output_type": "stream",
     "text": [
      "\r",
      " 54%|████████████████████████████████████████████████████████████▎                                                   | 539/1000 [01:18<01:06,  6.94it/s]"
     ]
    },
    {
     "name": "stderr",
     "output_type": "stream",
     "text": [
      "\r",
      " 54%|████████████████████████████████████████████████████████████▍                                                   | 540/1000 [01:18<01:06,  6.94it/s]"
     ]
    },
    {
     "name": "stderr",
     "output_type": "stream",
     "text": [
      "\r",
      " 54%|████████████████████████████████████████████████████████████▌                                                   | 541/1000 [01:18<01:06,  6.92it/s]"
     ]
    },
    {
     "name": "stderr",
     "output_type": "stream",
     "text": [
      "\r",
      " 54%|████████████████████████████████████████████████████████████▋                                                   | 542/1000 [01:18<01:08,  6.73it/s]"
     ]
    },
    {
     "name": "stderr",
     "output_type": "stream",
     "text": [
      "\r",
      " 54%|████████████████████████████████████████████████████████████▊                                                   | 543/1000 [01:19<01:07,  6.79it/s]"
     ]
    },
    {
     "name": "stderr",
     "output_type": "stream",
     "text": [
      "\r",
      " 54%|████████████████████████████████████████████████████████████▉                                                   | 544/1000 [01:19<01:06,  6.83it/s]"
     ]
    },
    {
     "name": "stderr",
     "output_type": "stream",
     "text": [
      "\r",
      " 55%|█████████████████████████████████████████████████████████████                                                   | 545/1000 [01:19<01:06,  6.87it/s]"
     ]
    },
    {
     "name": "stderr",
     "output_type": "stream",
     "text": [
      "\r",
      " 55%|█████████████████████████████████████████████████████████████▏                                                  | 546/1000 [01:19<01:05,  6.89it/s]"
     ]
    },
    {
     "name": "stderr",
     "output_type": "stream",
     "text": [
      "\r",
      " 55%|█████████████████████████████████████████████████████████████▎                                                  | 547/1000 [01:19<01:05,  6.90it/s]"
     ]
    },
    {
     "name": "stderr",
     "output_type": "stream",
     "text": [
      "\r",
      " 55%|█████████████████████████████████████████████████████████████▍                                                  | 548/1000 [01:19<01:05,  6.91it/s]"
     ]
    },
    {
     "name": "stderr",
     "output_type": "stream",
     "text": [
      "\r",
      " 55%|█████████████████████████████████████████████████████████████▍                                                  | 549/1000 [01:19<01:05,  6.92it/s]"
     ]
    },
    {
     "name": "stderr",
     "output_type": "stream",
     "text": [
      "\r",
      " 55%|█████████████████████████████████████████████████████████████▌                                                  | 550/1000 [01:20<01:05,  6.92it/s]"
     ]
    },
    {
     "name": "stderr",
     "output_type": "stream",
     "text": [
      "\r",
      " 55%|█████████████████████████████████████████████████████████████▋                                                  | 551/1000 [01:20<01:04,  6.92it/s]"
     ]
    },
    {
     "name": "stderr",
     "output_type": "stream",
     "text": [
      "\r",
      " 55%|█████████████████████████████████████████████████████████████▊                                                  | 552/1000 [01:20<01:04,  6.93it/s]"
     ]
    },
    {
     "name": "stderr",
     "output_type": "stream",
     "text": [
      "\r",
      " 55%|█████████████████████████████████████████████████████████████▉                                                  | 553/1000 [01:20<01:04,  6.94it/s]"
     ]
    },
    {
     "name": "stderr",
     "output_type": "stream",
     "text": [
      "\r",
      " 55%|██████████████████████████████████████████████████████████████                                                  | 554/1000 [01:20<01:04,  6.94it/s]"
     ]
    },
    {
     "name": "stderr",
     "output_type": "stream",
     "text": [
      "\r",
      " 56%|██████████████████████████████████████████████████████████████▏                                                 | 555/1000 [01:20<01:04,  6.94it/s]"
     ]
    },
    {
     "name": "stderr",
     "output_type": "stream",
     "text": [
      "\r",
      " 56%|██████████████████████████████████████████████████████████████▎                                                 | 556/1000 [01:20<01:03,  6.94it/s]"
     ]
    },
    {
     "name": "stderr",
     "output_type": "stream",
     "text": [
      "\r",
      " 56%|██████████████████████████████████████████████████████████████▍                                                 | 557/1000 [01:21<01:03,  6.94it/s]"
     ]
    },
    {
     "name": "stderr",
     "output_type": "stream",
     "text": [
      "\r",
      " 56%|██████████████████████████████████████████████████████████████▍                                                 | 558/1000 [01:21<01:03,  6.94it/s]"
     ]
    },
    {
     "name": "stderr",
     "output_type": "stream",
     "text": [
      "\r",
      " 56%|██████████████████████████████████████████████████████████████▌                                                 | 559/1000 [01:21<01:03,  6.94it/s]"
     ]
    },
    {
     "name": "stderr",
     "output_type": "stream",
     "text": [
      "\r",
      " 56%|██████████████████████████████████████████████████████████████▋                                                 | 560/1000 [01:21<01:03,  6.94it/s]"
     ]
    },
    {
     "name": "stderr",
     "output_type": "stream",
     "text": [
      "\r",
      " 56%|██████████████████████████████████████████████████████████████▊                                                 | 561/1000 [01:21<01:03,  6.94it/s]"
     ]
    },
    {
     "name": "stderr",
     "output_type": "stream",
     "text": [
      "\r",
      " 56%|██████████████████████████████████████████████████████████████▉                                                 | 562/1000 [01:21<01:03,  6.94it/s]"
     ]
    },
    {
     "name": "stderr",
     "output_type": "stream",
     "text": [
      "\r",
      " 56%|███████████████████████████████████████████████████████████████                                                 | 563/1000 [01:21<01:02,  6.95it/s]"
     ]
    },
    {
     "name": "stderr",
     "output_type": "stream",
     "text": [
      "\r",
      " 56%|███████████████████████████████████████████████████████████████▏                                                | 564/1000 [01:22<01:02,  6.94it/s]"
     ]
    },
    {
     "name": "stderr",
     "output_type": "stream",
     "text": [
      "\r",
      " 56%|███████████████████████████████████████████████████████████████▎                                                | 565/1000 [01:22<01:02,  6.95it/s]"
     ]
    },
    {
     "name": "stderr",
     "output_type": "stream",
     "text": [
      "\r",
      " 57%|███████████████████████████████████████████████████████████████▍                                                | 566/1000 [01:22<01:02,  6.95it/s]"
     ]
    },
    {
     "name": "stderr",
     "output_type": "stream",
     "text": [
      "\r",
      " 57%|███████████████████████████████████████████████████████████████▌                                                | 567/1000 [01:22<01:02,  6.95it/s]"
     ]
    },
    {
     "name": "stderr",
     "output_type": "stream",
     "text": [
      "\r",
      " 57%|███████████████████████████████████████████████████████████████▌                                                | 568/1000 [01:22<01:02,  6.94it/s]"
     ]
    },
    {
     "name": "stderr",
     "output_type": "stream",
     "text": [
      "\r",
      " 57%|███████████████████████████████████████████████████████████████▋                                                | 569/1000 [01:22<01:02,  6.94it/s]"
     ]
    },
    {
     "name": "stderr",
     "output_type": "stream",
     "text": [
      "\r",
      " 57%|███████████████████████████████████████████████████████████████▊                                                | 570/1000 [01:22<01:01,  6.94it/s]"
     ]
    },
    {
     "name": "stderr",
     "output_type": "stream",
     "text": [
      "\r",
      " 57%|███████████████████████████████████████████████████████████████▉                                                | 571/1000 [01:23<01:01,  6.94it/s]"
     ]
    },
    {
     "name": "stderr",
     "output_type": "stream",
     "text": [
      "\r",
      " 57%|████████████████████████████████████████████████████████████████                                                | 572/1000 [01:23<01:01,  6.95it/s]"
     ]
    },
    {
     "name": "stderr",
     "output_type": "stream",
     "text": [
      "\r",
      " 57%|████████████████████████████████████████████████████████████████▏                                               | 573/1000 [01:23<01:01,  6.94it/s]"
     ]
    },
    {
     "name": "stderr",
     "output_type": "stream",
     "text": [
      "\r",
      " 57%|████████████████████████████████████████████████████████████████▎                                               | 574/1000 [01:23<01:01,  6.94it/s]"
     ]
    },
    {
     "name": "stderr",
     "output_type": "stream",
     "text": [
      "\r",
      " 57%|████████████████████████████████████████████████████████████████▍                                               | 575/1000 [01:23<01:01,  6.94it/s]"
     ]
    },
    {
     "name": "stderr",
     "output_type": "stream",
     "text": [
      "\r",
      " 58%|████████████████████████████████████████████████████████████████▌                                               | 576/1000 [01:23<01:01,  6.94it/s]"
     ]
    },
    {
     "name": "stderr",
     "output_type": "stream",
     "text": [
      "\r",
      " 58%|████████████████████████████████████████████████████████████████▌                                               | 577/1000 [01:23<01:00,  6.95it/s]"
     ]
    },
    {
     "name": "stderr",
     "output_type": "stream",
     "text": [
      "\r",
      " 58%|████████████████████████████████████████████████████████████████▋                                               | 578/1000 [01:24<01:00,  6.94it/s]"
     ]
    },
    {
     "name": "stderr",
     "output_type": "stream",
     "text": [
      "\r",
      " 58%|████████████████████████████████████████████████████████████████▊                                               | 579/1000 [01:24<01:00,  6.94it/s]"
     ]
    },
    {
     "name": "stderr",
     "output_type": "stream",
     "text": [
      "\r",
      " 58%|████████████████████████████████████████████████████████████████▉                                               | 580/1000 [01:24<01:00,  6.95it/s]"
     ]
    },
    {
     "name": "stderr",
     "output_type": "stream",
     "text": [
      "\r",
      " 58%|█████████████████████████████████████████████████████████████████                                               | 581/1000 [01:24<01:00,  6.95it/s]"
     ]
    },
    {
     "name": "stderr",
     "output_type": "stream",
     "text": [
      "\r",
      " 58%|█████████████████████████████████████████████████████████████████▏                                              | 582/1000 [01:24<01:00,  6.95it/s]"
     ]
    },
    {
     "name": "stderr",
     "output_type": "stream",
     "text": [
      "\r",
      " 58%|█████████████████████████████████████████████████████████████████▎                                              | 583/1000 [01:24<01:00,  6.95it/s]"
     ]
    },
    {
     "name": "stderr",
     "output_type": "stream",
     "text": [
      "\r",
      " 58%|█████████████████████████████████████████████████████████████████▍                                              | 584/1000 [01:24<00:59,  6.95it/s]"
     ]
    },
    {
     "name": "stderr",
     "output_type": "stream",
     "text": [
      "\r",
      " 58%|█████████████████████████████████████████████████████████████████▌                                              | 585/1000 [01:25<00:59,  6.95it/s]"
     ]
    },
    {
     "name": "stderr",
     "output_type": "stream",
     "text": [
      "\r",
      " 59%|█████████████████████████████████████████████████████████████████▋                                              | 586/1000 [01:25<00:59,  6.95it/s]"
     ]
    },
    {
     "name": "stderr",
     "output_type": "stream",
     "text": [
      "\r",
      " 59%|█████████████████████████████████████████████████████████████████▋                                              | 587/1000 [01:25<00:59,  6.95it/s]"
     ]
    },
    {
     "name": "stderr",
     "output_type": "stream",
     "text": [
      "\r",
      " 59%|█████████████████████████████████████████████████████████████████▊                                              | 588/1000 [01:25<00:59,  6.94it/s]"
     ]
    },
    {
     "name": "stderr",
     "output_type": "stream",
     "text": [
      "\r",
      " 59%|█████████████████████████████████████████████████████████████████▉                                              | 589/1000 [01:25<00:59,  6.95it/s]"
     ]
    },
    {
     "name": "stderr",
     "output_type": "stream",
     "text": [
      "\r",
      " 59%|██████████████████████████████████████████████████████████████████                                              | 590/1000 [01:25<00:58,  6.95it/s]"
     ]
    },
    {
     "name": "stderr",
     "output_type": "stream",
     "text": [
      "\r",
      " 59%|██████████████████████████████████████████████████████████████████▏                                             | 591/1000 [01:26<00:58,  6.94it/s]"
     ]
    },
    {
     "name": "stderr",
     "output_type": "stream",
     "text": [
      "\r",
      " 59%|██████████████████████████████████████████████████████████████████▎                                             | 592/1000 [01:26<00:58,  6.95it/s]"
     ]
    },
    {
     "name": "stderr",
     "output_type": "stream",
     "text": [
      "\r",
      " 59%|██████████████████████████████████████████████████████████████████▍                                             | 593/1000 [01:26<00:58,  6.95it/s]"
     ]
    },
    {
     "name": "stderr",
     "output_type": "stream",
     "text": [
      "\r",
      " 59%|██████████████████████████████████████████████████████████████████▌                                             | 594/1000 [01:26<00:58,  6.95it/s]"
     ]
    },
    {
     "name": "stderr",
     "output_type": "stream",
     "text": [
      "\r",
      " 60%|██████████████████████████████████████████████████████████████████▋                                             | 595/1000 [01:26<00:58,  6.94it/s]"
     ]
    },
    {
     "name": "stderr",
     "output_type": "stream",
     "text": [
      "\r",
      " 60%|██████████████████████████████████████████████████████████████████▊                                             | 596/1000 [01:26<00:58,  6.93it/s]"
     ]
    },
    {
     "name": "stderr",
     "output_type": "stream",
     "text": [
      "\r",
      " 60%|██████████████████████████████████████████████████████████████████▊                                             | 597/1000 [01:26<00:58,  6.94it/s]"
     ]
    },
    {
     "name": "stderr",
     "output_type": "stream",
     "text": [
      "\r",
      " 60%|██████████████████████████████████████████████████████████████████▉                                             | 598/1000 [01:27<00:57,  6.94it/s]"
     ]
    },
    {
     "name": "stderr",
     "output_type": "stream",
     "text": [
      "\r",
      " 60%|███████████████████████████████████████████████████████████████████                                             | 599/1000 [01:27<00:57,  6.94it/s]"
     ]
    },
    {
     "name": "stderr",
     "output_type": "stream",
     "text": [
      "\r",
      " 60%|███████████████████████████████████████████████████████████████████▏                                            | 600/1000 [01:27<00:57,  6.94it/s]"
     ]
    },
    {
     "name": "stderr",
     "output_type": "stream",
     "text": [
      "\r",
      " 60%|███████████████████████████████████████████████████████████████████▎                                            | 601/1000 [01:27<00:57,  6.95it/s]"
     ]
    },
    {
     "name": "stderr",
     "output_type": "stream",
     "text": [
      "\r",
      " 60%|███████████████████████████████████████████████████████████████████▍                                            | 602/1000 [01:27<00:57,  6.95it/s]"
     ]
    },
    {
     "name": "stderr",
     "output_type": "stream",
     "text": [
      "\r",
      " 60%|███████████████████████████████████████████████████████████████████▌                                            | 603/1000 [01:27<00:57,  6.94it/s]"
     ]
    },
    {
     "name": "stderr",
     "output_type": "stream",
     "text": [
      "\r",
      " 60%|███████████████████████████████████████████████████████████████████▋                                            | 604/1000 [01:27<00:57,  6.94it/s]"
     ]
    },
    {
     "name": "stderr",
     "output_type": "stream",
     "text": [
      "\r",
      " 60%|███████████████████████████████████████████████████████████████████▊                                            | 605/1000 [01:28<00:56,  6.94it/s]"
     ]
    },
    {
     "name": "stderr",
     "output_type": "stream",
     "text": [
      "\r",
      " 61%|███████████████████████████████████████████████████████████████████▊                                            | 606/1000 [01:28<00:56,  6.95it/s]"
     ]
    },
    {
     "name": "stderr",
     "output_type": "stream",
     "text": [
      "\r",
      " 61%|███████████████████████████████████████████████████████████████████▉                                            | 607/1000 [01:28<00:56,  6.94it/s]"
     ]
    },
    {
     "name": "stderr",
     "output_type": "stream",
     "text": [
      "\r",
      " 61%|████████████████████████████████████████████████████████████████████                                            | 608/1000 [01:28<00:56,  6.94it/s]"
     ]
    },
    {
     "name": "stderr",
     "output_type": "stream",
     "text": [
      "\r",
      " 61%|████████████████████████████████████████████████████████████████████▏                                           | 609/1000 [01:28<00:56,  6.95it/s]"
     ]
    },
    {
     "name": "stderr",
     "output_type": "stream",
     "text": [
      "\r",
      " 61%|████████████████████████████████████████████████████████████████████▎                                           | 610/1000 [01:28<00:56,  6.95it/s]"
     ]
    },
    {
     "name": "stderr",
     "output_type": "stream",
     "text": [
      "\r",
      " 61%|████████████████████████████████████████████████████████████████████▍                                           | 611/1000 [01:28<00:56,  6.93it/s]"
     ]
    },
    {
     "name": "stderr",
     "output_type": "stream",
     "text": [
      "\r",
      " 61%|████████████████████████████████████████████████████████████████████▌                                           | 612/1000 [01:29<00:55,  6.94it/s]"
     ]
    },
    {
     "name": "stderr",
     "output_type": "stream",
     "text": [
      "\r",
      " 61%|████████████████████████████████████████████████████████████████████▋                                           | 613/1000 [01:29<00:55,  6.94it/s]"
     ]
    },
    {
     "name": "stderr",
     "output_type": "stream",
     "text": [
      "\r",
      " 61%|████████████████████████████████████████████████████████████████████▊                                           | 614/1000 [01:29<00:55,  6.94it/s]"
     ]
    },
    {
     "name": "stderr",
     "output_type": "stream",
     "text": [
      "\r",
      " 62%|████████████████████████████████████████████████████████████████████▉                                           | 615/1000 [01:29<00:55,  6.95it/s]"
     ]
    },
    {
     "name": "stderr",
     "output_type": "stream",
     "text": [
      "\r",
      " 62%|████████████████████████████████████████████████████████████████████▉                                           | 616/1000 [01:29<00:55,  6.95it/s]"
     ]
    },
    {
     "name": "stderr",
     "output_type": "stream",
     "text": [
      "\r",
      " 62%|█████████████████████████████████████████████████████████████████████                                           | 617/1000 [01:29<00:55,  6.95it/s]"
     ]
    },
    {
     "name": "stderr",
     "output_type": "stream",
     "text": [
      "\r",
      " 62%|█████████████████████████████████████████████████████████████████████▏                                          | 618/1000 [01:29<00:55,  6.94it/s]"
     ]
    },
    {
     "name": "stderr",
     "output_type": "stream",
     "text": [
      "\r",
      " 62%|█████████████████████████████████████████████████████████████████████▎                                          | 619/1000 [01:30<00:54,  6.94it/s]"
     ]
    },
    {
     "name": "stderr",
     "output_type": "stream",
     "text": [
      "\r",
      " 62%|█████████████████████████████████████████████████████████████████████▍                                          | 620/1000 [01:30<00:54,  6.94it/s]"
     ]
    },
    {
     "name": "stderr",
     "output_type": "stream",
     "text": [
      "\r",
      " 62%|█████████████████████████████████████████████████████████████████████▌                                          | 621/1000 [01:30<00:54,  6.94it/s]"
     ]
    },
    {
     "name": "stderr",
     "output_type": "stream",
     "text": [
      "\r",
      " 62%|█████████████████████████████████████████████████████████████████████▋                                          | 622/1000 [01:30<00:56,  6.64it/s]"
     ]
    },
    {
     "name": "stderr",
     "output_type": "stream",
     "text": [
      "\r",
      " 62%|█████████████████████████████████████████████████████████████████████▊                                          | 623/1000 [01:30<00:57,  6.61it/s]"
     ]
    },
    {
     "name": "stderr",
     "output_type": "stream",
     "text": [
      "\r",
      " 62%|█████████████████████████████████████████████████████████████████████▉                                          | 624/1000 [01:30<00:56,  6.70it/s]"
     ]
    },
    {
     "name": "stderr",
     "output_type": "stream",
     "text": [
      "\r",
      " 62%|██████████████████████████████████████████████████████████████████████                                          | 625/1000 [01:30<00:55,  6.78it/s]"
     ]
    },
    {
     "name": "stderr",
     "output_type": "stream",
     "text": [
      "\r",
      " 63%|██████████████████████████████████████████████████████████████████████                                          | 626/1000 [01:31<00:54,  6.83it/s]"
     ]
    },
    {
     "name": "stderr",
     "output_type": "stream",
     "text": [
      "\r",
      " 63%|██████████████████████████████████████████████████████████████████████▏                                         | 627/1000 [01:31<00:54,  6.86it/s]"
     ]
    },
    {
     "name": "stderr",
     "output_type": "stream",
     "text": [
      "\r",
      " 63%|██████████████████████████████████████████████████████████████████████▎                                         | 628/1000 [01:31<00:53,  6.89it/s]"
     ]
    },
    {
     "name": "stderr",
     "output_type": "stream",
     "text": [
      "\r",
      " 63%|██████████████████████████████████████████████████████████████████████▍                                         | 629/1000 [01:31<00:53,  6.90it/s]"
     ]
    },
    {
     "name": "stderr",
     "output_type": "stream",
     "text": [
      "\r",
      " 63%|██████████████████████████████████████████████████████████████████████▌                                         | 630/1000 [01:31<00:54,  6.74it/s]"
     ]
    },
    {
     "name": "stderr",
     "output_type": "stream",
     "text": [
      "\r",
      " 63%|██████████████████████████████████████████████████████████████████████▋                                         | 631/1000 [01:31<00:55,  6.69it/s]"
     ]
    },
    {
     "name": "stderr",
     "output_type": "stream",
     "text": [
      "\r",
      " 63%|██████████████████████████████████████████████████████████████████████▊                                         | 632/1000 [01:31<00:55,  6.65it/s]"
     ]
    },
    {
     "name": "stderr",
     "output_type": "stream",
     "text": [
      "\r",
      " 63%|██████████████████████████████████████████████████████████████████████▉                                         | 633/1000 [01:32<00:54,  6.71it/s]"
     ]
    },
    {
     "name": "stderr",
     "output_type": "stream",
     "text": [
      "\r",
      " 63%|███████████████████████████████████████████████████████████████████████                                         | 634/1000 [01:32<00:54,  6.75it/s]"
     ]
    },
    {
     "name": "stderr",
     "output_type": "stream",
     "text": [
      "\r",
      " 64%|███████████████████████████████████████████████████████████████████████                                         | 635/1000 [01:32<00:53,  6.81it/s]"
     ]
    },
    {
     "name": "stderr",
     "output_type": "stream",
     "text": [
      "\r",
      " 64%|███████████████████████████████████████████████████████████████████████▏                                        | 636/1000 [01:32<00:53,  6.85it/s]"
     ]
    },
    {
     "name": "stderr",
     "output_type": "stream",
     "text": [
      "\r",
      " 64%|███████████████████████████████████████████████████████████████████████▎                                        | 637/1000 [01:32<00:52,  6.89it/s]"
     ]
    },
    {
     "name": "stderr",
     "output_type": "stream",
     "text": [
      "\r",
      " 64%|███████████████████████████████████████████████████████████████████████▍                                        | 638/1000 [01:32<00:52,  6.90it/s]"
     ]
    },
    {
     "name": "stderr",
     "output_type": "stream",
     "text": [
      "\r",
      " 64%|███████████████████████████████████████████████████████████████████████▌                                        | 639/1000 [01:32<00:52,  6.92it/s]"
     ]
    },
    {
     "name": "stderr",
     "output_type": "stream",
     "text": [
      "\r",
      " 64%|███████████████████████████████████████████████████████████████████████▋                                        | 640/1000 [01:33<00:52,  6.92it/s]"
     ]
    },
    {
     "name": "stderr",
     "output_type": "stream",
     "text": [
      "\r",
      " 64%|███████████████████████████████████████████████████████████████████████▊                                        | 641/1000 [01:33<00:51,  6.92it/s]"
     ]
    },
    {
     "name": "stderr",
     "output_type": "stream",
     "text": [
      "\r",
      " 64%|███████████████████████████████████████████████████████████████████████▉                                        | 642/1000 [01:33<00:51,  6.91it/s]"
     ]
    },
    {
     "name": "stderr",
     "output_type": "stream",
     "text": [
      "\r",
      " 64%|████████████████████████████████████████████████████████████████████████                                        | 643/1000 [01:33<00:51,  6.92it/s]"
     ]
    },
    {
     "name": "stderr",
     "output_type": "stream",
     "text": [
      "\r",
      " 64%|████████████████████████████████████████████████████████████████████████▏                                       | 644/1000 [01:33<00:51,  6.93it/s]"
     ]
    },
    {
     "name": "stderr",
     "output_type": "stream",
     "text": [
      "\r",
      " 64%|████████████████████████████████████████████████████████████████████████▏                                       | 645/1000 [01:33<00:51,  6.91it/s]"
     ]
    },
    {
     "name": "stderr",
     "output_type": "stream",
     "text": [
      "\r",
      " 65%|████████████████████████████████████████████████████████████████████████▎                                       | 646/1000 [01:33<00:51,  6.92it/s]"
     ]
    },
    {
     "name": "stderr",
     "output_type": "stream",
     "text": [
      "\r",
      " 65%|████████████████████████████████████████████████████████████████████████▍                                       | 647/1000 [01:34<00:51,  6.92it/s]"
     ]
    },
    {
     "name": "stderr",
     "output_type": "stream",
     "text": [
      "\r",
      " 65%|████████████████████████████████████████████████████████████████████████▌                                       | 648/1000 [01:34<00:50,  6.92it/s]"
     ]
    },
    {
     "name": "stderr",
     "output_type": "stream",
     "text": [
      "\r",
      " 65%|████████████████████████████████████████████████████████████████████████▋                                       | 649/1000 [01:34<00:50,  6.92it/s]"
     ]
    },
    {
     "name": "stderr",
     "output_type": "stream",
     "text": [
      "\r",
      " 65%|████████████████████████████████████████████████████████████████████████▊                                       | 650/1000 [01:34<00:50,  6.93it/s]"
     ]
    },
    {
     "name": "stderr",
     "output_type": "stream",
     "text": [
      "\r",
      " 65%|████████████████████████████████████████████████████████████████████████▉                                       | 651/1000 [01:34<00:50,  6.91it/s]"
     ]
    },
    {
     "name": "stderr",
     "output_type": "stream",
     "text": [
      "\r",
      " 65%|█████████████████████████████████████████████████████████████████████████                                       | 652/1000 [01:34<00:50,  6.93it/s]"
     ]
    },
    {
     "name": "stderr",
     "output_type": "stream",
     "text": [
      "\r",
      " 65%|█████████████████████████████████████████████████████████████████████████▏                                      | 653/1000 [01:35<00:50,  6.93it/s]"
     ]
    },
    {
     "name": "stderr",
     "output_type": "stream",
     "text": [
      "\r",
      " 65%|█████████████████████████████████████████████████████████████████████████▏                                      | 654/1000 [01:35<00:50,  6.91it/s]"
     ]
    },
    {
     "name": "stderr",
     "output_type": "stream",
     "text": [
      "\r",
      " 66%|█████████████████████████████████████████████████████████████████████████▎                                      | 655/1000 [01:35<00:49,  6.92it/s]"
     ]
    },
    {
     "name": "stderr",
     "output_type": "stream",
     "text": [
      "\r",
      " 66%|█████████████████████████████████████████████████████████████████████████▍                                      | 656/1000 [01:35<00:49,  6.93it/s]"
     ]
    },
    {
     "name": "stderr",
     "output_type": "stream",
     "text": [
      "\r",
      " 66%|█████████████████████████████████████████████████████████████████████████▌                                      | 657/1000 [01:35<00:49,  6.93it/s]"
     ]
    },
    {
     "name": "stderr",
     "output_type": "stream",
     "text": [
      "\r",
      " 66%|█████████████████████████████████████████████████████████████████████████▋                                      | 658/1000 [01:35<00:49,  6.93it/s]"
     ]
    },
    {
     "name": "stderr",
     "output_type": "stream",
     "text": [
      "\r",
      " 66%|█████████████████████████████████████████████████████████████████████████▊                                      | 659/1000 [01:35<00:49,  6.94it/s]"
     ]
    },
    {
     "name": "stderr",
     "output_type": "stream",
     "text": [
      "\r",
      " 66%|█████████████████████████████████████████████████████████████████████████▉                                      | 660/1000 [01:36<00:49,  6.94it/s]"
     ]
    },
    {
     "name": "stderr",
     "output_type": "stream",
     "text": [
      "\r",
      " 66%|██████████████████████████████████████████████████████████████████████████                                      | 661/1000 [01:36<00:48,  6.94it/s]"
     ]
    },
    {
     "name": "stderr",
     "output_type": "stream",
     "text": [
      "\r",
      " 66%|██████████████████████████████████████████████████████████████████████████▏                                     | 662/1000 [01:36<00:48,  6.94it/s]"
     ]
    },
    {
     "name": "stderr",
     "output_type": "stream",
     "text": [
      "\r",
      " 66%|██████████████████████████████████████████████████████████████████████████▎                                     | 663/1000 [01:36<00:48,  6.95it/s]"
     ]
    },
    {
     "name": "stderr",
     "output_type": "stream",
     "text": [
      "\r",
      " 66%|██████████████████████████████████████████████████████████████████████████▎                                     | 664/1000 [01:36<00:48,  6.94it/s]"
     ]
    },
    {
     "name": "stderr",
     "output_type": "stream",
     "text": [
      "\r",
      " 66%|██████████████████████████████████████████████████████████████████████████▍                                     | 665/1000 [01:36<00:48,  6.94it/s]"
     ]
    },
    {
     "name": "stderr",
     "output_type": "stream",
     "text": [
      "\r",
      " 67%|██████████████████████████████████████████████████████████████████████████▌                                     | 666/1000 [01:36<00:48,  6.93it/s]"
     ]
    },
    {
     "name": "stderr",
     "output_type": "stream",
     "text": [
      "\r",
      " 67%|██████████████████████████████████████████████████████████████████████████▋                                     | 667/1000 [01:37<00:48,  6.93it/s]"
     ]
    },
    {
     "name": "stderr",
     "output_type": "stream",
     "text": [
      "\r",
      " 67%|██████████████████████████████████████████████████████████████████████████▊                                     | 668/1000 [01:37<00:47,  6.93it/s]"
     ]
    },
    {
     "name": "stderr",
     "output_type": "stream",
     "text": [
      "\r",
      " 67%|██████████████████████████████████████████████████████████████████████████▉                                     | 669/1000 [01:37<00:47,  6.94it/s]"
     ]
    },
    {
     "name": "stderr",
     "output_type": "stream",
     "text": [
      "\r",
      " 67%|███████████████████████████████████████████████████████████████████████████                                     | 670/1000 [01:37<00:47,  6.94it/s]"
     ]
    },
    {
     "name": "stderr",
     "output_type": "stream",
     "text": [
      "\r",
      " 67%|███████████████████████████████████████████████████████████████████████████▏                                    | 671/1000 [01:37<00:47,  6.94it/s]"
     ]
    },
    {
     "name": "stderr",
     "output_type": "stream",
     "text": [
      "\r",
      " 67%|███████████████████████████████████████████████████████████████████████████▎                                    | 672/1000 [01:37<00:47,  6.94it/s]"
     ]
    },
    {
     "name": "stderr",
     "output_type": "stream",
     "text": [
      "\r",
      " 67%|███████████████████████████████████████████████████████████████████████████▍                                    | 673/1000 [01:37<00:47,  6.94it/s]"
     ]
    },
    {
     "name": "stderr",
     "output_type": "stream",
     "text": [
      "\r",
      " 67%|███████████████████████████████████████████████████████████████████████████▍                                    | 674/1000 [01:38<00:46,  6.94it/s]"
     ]
    },
    {
     "name": "stderr",
     "output_type": "stream",
     "text": [
      "\r",
      " 68%|███████████████████████████████████████████████████████████████████████████▌                                    | 675/1000 [01:38<00:46,  6.95it/s]"
     ]
    },
    {
     "name": "stderr",
     "output_type": "stream",
     "text": [
      "\r",
      " 68%|███████████████████████████████████████████████████████████████████████████▋                                    | 676/1000 [01:38<00:46,  6.95it/s]"
     ]
    },
    {
     "name": "stderr",
     "output_type": "stream",
     "text": [
      "\r",
      " 68%|███████████████████████████████████████████████████████████████████████████▊                                    | 677/1000 [01:38<00:46,  6.94it/s]"
     ]
    },
    {
     "name": "stderr",
     "output_type": "stream",
     "text": [
      "\r",
      " 68%|███████████████████████████████████████████████████████████████████████████▉                                    | 678/1000 [01:38<00:46,  6.94it/s]"
     ]
    },
    {
     "name": "stderr",
     "output_type": "stream",
     "text": [
      "\r",
      " 68%|████████████████████████████████████████████████████████████████████████████                                    | 679/1000 [01:38<00:46,  6.94it/s]"
     ]
    },
    {
     "name": "stderr",
     "output_type": "stream",
     "text": [
      "\r",
      " 68%|████████████████████████████████████████████████████████████████████████████▏                                   | 680/1000 [01:38<00:46,  6.89it/s]"
     ]
    },
    {
     "name": "stderr",
     "output_type": "stream",
     "text": [
      "\r",
      " 68%|████████████████████████████████████████████████████████████████████████████▎                                   | 681/1000 [01:39<00:46,  6.91it/s]"
     ]
    },
    {
     "name": "stderr",
     "output_type": "stream",
     "text": [
      "\r",
      " 68%|████████████████████████████████████████████████████████████████████████████▍                                   | 682/1000 [01:39<00:45,  6.91it/s]"
     ]
    },
    {
     "name": "stderr",
     "output_type": "stream",
     "text": [
      "\r",
      " 68%|████████████████████████████████████████████████████████████████████████████▍                                   | 683/1000 [01:39<00:46,  6.87it/s]"
     ]
    },
    {
     "name": "stderr",
     "output_type": "stream",
     "text": [
      "\r",
      " 68%|████████████████████████████████████████████████████████████████████████████▌                                   | 684/1000 [01:39<00:45,  6.88it/s]"
     ]
    },
    {
     "name": "stderr",
     "output_type": "stream",
     "text": [
      "\r",
      " 68%|████████████████████████████████████████████████████████████████████████████▋                                   | 685/1000 [01:39<00:45,  6.89it/s]"
     ]
    },
    {
     "name": "stderr",
     "output_type": "stream",
     "text": [
      "\r",
      " 69%|████████████████████████████████████████████████████████████████████████████▊                                   | 686/1000 [01:39<00:45,  6.88it/s]"
     ]
    },
    {
     "name": "stderr",
     "output_type": "stream",
     "text": [
      "\r",
      " 69%|████████████████████████████████████████████████████████████████████████████▉                                   | 687/1000 [01:39<00:45,  6.89it/s]"
     ]
    },
    {
     "name": "stderr",
     "output_type": "stream",
     "text": [
      "\r",
      " 69%|█████████████████████████████████████████████████████████████████████████████                                   | 688/1000 [01:40<00:45,  6.91it/s]"
     ]
    },
    {
     "name": "stderr",
     "output_type": "stream",
     "text": [
      "\r",
      " 69%|█████████████████████████████████████████████████████████████████████████████▏                                  | 689/1000 [01:40<00:44,  6.92it/s]"
     ]
    },
    {
     "name": "stderr",
     "output_type": "stream",
     "text": [
      "\r",
      " 69%|█████████████████████████████████████████████████████████████████████████████▎                                  | 690/1000 [01:40<00:44,  6.91it/s]"
     ]
    },
    {
     "name": "stderr",
     "output_type": "stream",
     "text": [
      "\r",
      " 69%|█████████████████████████████████████████████████████████████████████████████▍                                  | 691/1000 [01:40<00:44,  6.91it/s]"
     ]
    },
    {
     "name": "stderr",
     "output_type": "stream",
     "text": [
      "\r",
      " 69%|█████████████████████████████████████████████████████████████████████████████▌                                  | 692/1000 [01:40<00:44,  6.92it/s]"
     ]
    },
    {
     "name": "stderr",
     "output_type": "stream",
     "text": [
      "\r",
      " 69%|█████████████████████████████████████████████████████████████████████████████▌                                  | 693/1000 [01:40<00:44,  6.91it/s]"
     ]
    },
    {
     "name": "stderr",
     "output_type": "stream",
     "text": [
      "\r",
      " 69%|█████████████████████████████████████████████████████████████████████████████▋                                  | 694/1000 [01:40<00:44,  6.90it/s]"
     ]
    },
    {
     "name": "stderr",
     "output_type": "stream",
     "text": [
      "\r",
      " 70%|█████████████████████████████████████████████████████████████████████████████▊                                  | 695/1000 [01:41<00:44,  6.91it/s]"
     ]
    },
    {
     "name": "stderr",
     "output_type": "stream",
     "text": [
      "\r",
      " 70%|█████████████████████████████████████████████████████████████████████████████▉                                  | 696/1000 [01:41<00:44,  6.91it/s]"
     ]
    },
    {
     "name": "stderr",
     "output_type": "stream",
     "text": [
      "\r",
      " 70%|██████████████████████████████████████████████████████████████████████████████                                  | 697/1000 [01:41<00:47,  6.44it/s]"
     ]
    },
    {
     "name": "stderr",
     "output_type": "stream",
     "text": [
      "\r",
      " 70%|██████████████████████████████████████████████████████████████████████████████▏                                 | 698/1000 [01:41<00:45,  6.58it/s]"
     ]
    },
    {
     "name": "stderr",
     "output_type": "stream",
     "text": [
      "\r",
      " 70%|██████████████████████████████████████████████████████████████████████████████▎                                 | 699/1000 [01:41<00:45,  6.56it/s]"
     ]
    },
    {
     "name": "stderr",
     "output_type": "stream",
     "text": [
      "\r",
      " 70%|██████████████████████████████████████████████████████████████████████████████▍                                 | 700/1000 [01:41<00:45,  6.66it/s]"
     ]
    },
    {
     "name": "stderr",
     "output_type": "stream",
     "text": [
      "\r",
      " 70%|██████████████████████████████████████████████████████████████████████████████▌                                 | 701/1000 [01:41<00:44,  6.74it/s]"
     ]
    },
    {
     "name": "stderr",
     "output_type": "stream",
     "text": [
      "\r",
      " 70%|██████████████████████████████████████████████████████████████████████████████▌                                 | 702/1000 [01:42<00:43,  6.80it/s]"
     ]
    },
    {
     "name": "stderr",
     "output_type": "stream",
     "text": [
      "\r",
      " 70%|██████████████████████████████████████████████████████████████████████████████▋                                 | 703/1000 [01:42<00:43,  6.83it/s]"
     ]
    },
    {
     "name": "stderr",
     "output_type": "stream",
     "text": [
      "\r",
      " 70%|██████████████████████████████████████████████████████████████████████████████▊                                 | 704/1000 [01:42<00:43,  6.86it/s]"
     ]
    },
    {
     "name": "stderr",
     "output_type": "stream",
     "text": [
      "\r",
      " 70%|██████████████████████████████████████████████████████████████████████████████▉                                 | 705/1000 [01:42<00:42,  6.88it/s]"
     ]
    },
    {
     "name": "stderr",
     "output_type": "stream",
     "text": [
      "\r",
      " 71%|███████████████████████████████████████████████████████████████████████████████                                 | 706/1000 [01:42<00:42,  6.89it/s]"
     ]
    },
    {
     "name": "stderr",
     "output_type": "stream",
     "text": [
      "\r",
      " 71%|███████████████████████████████████████████████████████████████████████████████▏                                | 707/1000 [01:42<00:42,  6.90it/s]"
     ]
    },
    {
     "name": "stderr",
     "output_type": "stream",
     "text": [
      "\r",
      " 71%|███████████████████████████████████████████████████████████████████████████████▎                                | 708/1000 [01:42<00:42,  6.91it/s]"
     ]
    },
    {
     "name": "stderr",
     "output_type": "stream",
     "text": [
      "\r",
      " 71%|███████████████████████████████████████████████████████████████████████████████▍                                | 709/1000 [01:43<00:42,  6.92it/s]"
     ]
    },
    {
     "name": "stderr",
     "output_type": "stream",
     "text": [
      "\r",
      " 71%|███████████████████████████████████████████████████████████████████████████████▌                                | 710/1000 [01:43<00:41,  6.92it/s]"
     ]
    },
    {
     "name": "stderr",
     "output_type": "stream",
     "text": [
      "\r",
      " 71%|███████████████████████████████████████████████████████████████████████████████▋                                | 711/1000 [01:43<00:41,  6.93it/s]"
     ]
    },
    {
     "name": "stderr",
     "output_type": "stream",
     "text": [
      "\r",
      " 71%|███████████████████████████████████████████████████████████████████████████████▋                                | 712/1000 [01:43<00:41,  6.92it/s]"
     ]
    },
    {
     "name": "stderr",
     "output_type": "stream",
     "text": [
      "\r",
      " 71%|███████████████████████████████████████████████████████████████████████████████▊                                | 713/1000 [01:43<00:41,  6.91it/s]"
     ]
    },
    {
     "name": "stderr",
     "output_type": "stream",
     "text": [
      "\r",
      " 71%|███████████████████████████████████████████████████████████████████████████████▉                                | 714/1000 [01:43<00:41,  6.89it/s]"
     ]
    },
    {
     "name": "stderr",
     "output_type": "stream",
     "text": [
      "\r",
      " 72%|████████████████████████████████████████████████████████████████████████████████                                | 715/1000 [01:44<00:41,  6.89it/s]"
     ]
    },
    {
     "name": "stderr",
     "output_type": "stream",
     "text": [
      "\r",
      " 72%|████████████████████████████████████████████████████████████████████████████████▏                               | 716/1000 [01:44<00:41,  6.89it/s]"
     ]
    },
    {
     "name": "stderr",
     "output_type": "stream",
     "text": [
      "\r",
      " 72%|████████████████████████████████████████████████████████████████████████████████▎                               | 717/1000 [01:44<00:41,  6.90it/s]"
     ]
    },
    {
     "name": "stderr",
     "output_type": "stream",
     "text": [
      "\r",
      " 72%|████████████████████████████████████████████████████████████████████████████████▍                               | 718/1000 [01:44<00:40,  6.90it/s]"
     ]
    },
    {
     "name": "stderr",
     "output_type": "stream",
     "text": [
      "\r",
      " 72%|████████████████████████████████████████████████████████████████████████████████▌                               | 719/1000 [01:44<00:40,  6.91it/s]"
     ]
    },
    {
     "name": "stderr",
     "output_type": "stream",
     "text": [
      "\r",
      " 72%|████████████████████████████████████████████████████████████████████████████████▋                               | 720/1000 [01:44<00:40,  6.91it/s]"
     ]
    },
    {
     "name": "stderr",
     "output_type": "stream",
     "text": [
      "\r",
      " 72%|████████████████████████████████████████████████████████████████████████████████▊                               | 721/1000 [01:44<00:40,  6.91it/s]"
     ]
    },
    {
     "name": "stderr",
     "output_type": "stream",
     "text": [
      "\r",
      " 72%|████████████████████████████████████████████████████████████████████████████████▊                               | 722/1000 [01:45<00:40,  6.88it/s]"
     ]
    },
    {
     "name": "stderr",
     "output_type": "stream",
     "text": [
      "\r",
      " 72%|████████████████████████████████████████████████████████████████████████████████▉                               | 723/1000 [01:45<00:40,  6.88it/s]"
     ]
    },
    {
     "name": "stderr",
     "output_type": "stream",
     "text": [
      "\r",
      " 72%|█████████████████████████████████████████████████████████████████████████████████                               | 724/1000 [01:45<00:40,  6.89it/s]"
     ]
    },
    {
     "name": "stderr",
     "output_type": "stream",
     "text": [
      "\r",
      " 72%|█████████████████████████████████████████████████████████████████████████████████▏                              | 725/1000 [01:45<00:39,  6.89it/s]"
     ]
    },
    {
     "name": "stderr",
     "output_type": "stream",
     "text": [
      "\r",
      " 73%|█████████████████████████████████████████████████████████████████████████████████▎                              | 726/1000 [01:45<00:39,  6.88it/s]"
     ]
    },
    {
     "name": "stderr",
     "output_type": "stream",
     "text": [
      "\r",
      " 73%|█████████████████████████████████████████████████████████████████████████████████▍                              | 727/1000 [01:45<00:39,  6.88it/s]"
     ]
    },
    {
     "name": "stderr",
     "output_type": "stream",
     "text": [
      "\r",
      " 73%|█████████████████████████████████████████████████████████████████████████████████▌                              | 728/1000 [01:45<00:39,  6.88it/s]"
     ]
    },
    {
     "name": "stderr",
     "output_type": "stream",
     "text": [
      "\r",
      " 73%|█████████████████████████████████████████████████████████████████████████████████▋                              | 729/1000 [01:46<00:39,  6.88it/s]"
     ]
    },
    {
     "name": "stderr",
     "output_type": "stream",
     "text": [
      "\r",
      " 73%|█████████████████████████████████████████████████████████████████████████████████▊                              | 730/1000 [01:46<00:39,  6.88it/s]"
     ]
    },
    {
     "name": "stderr",
     "output_type": "stream",
     "text": [
      "\r",
      " 73%|█████████████████████████████████████████████████████████████████████████████████▊                              | 731/1000 [01:46<00:39,  6.88it/s]"
     ]
    },
    {
     "name": "stderr",
     "output_type": "stream",
     "text": [
      "\r",
      " 73%|█████████████████████████████████████████████████████████████████████████████████▉                              | 732/1000 [01:46<00:38,  6.89it/s]"
     ]
    },
    {
     "name": "stderr",
     "output_type": "stream",
     "text": [
      "\r",
      " 73%|██████████████████████████████████████████████████████████████████████████████████                              | 733/1000 [01:46<00:38,  6.89it/s]"
     ]
    },
    {
     "name": "stderr",
     "output_type": "stream",
     "text": [
      "\r",
      " 73%|██████████████████████████████████████████████████████████████████████████████████▏                             | 734/1000 [01:46<00:38,  6.88it/s]"
     ]
    },
    {
     "name": "stderr",
     "output_type": "stream",
     "text": [
      "\r",
      " 74%|██████████████████████████████████████████████████████████████████████████████████▎                             | 735/1000 [01:46<00:38,  6.88it/s]"
     ]
    },
    {
     "name": "stderr",
     "output_type": "stream",
     "text": [
      "\r",
      " 74%|██████████████████████████████████████████████████████████████████████████████████▍                             | 736/1000 [01:47<00:38,  6.89it/s]"
     ]
    },
    {
     "name": "stderr",
     "output_type": "stream",
     "text": [
      "\r",
      " 74%|██████████████████████████████████████████████████████████████████████████████████▌                             | 737/1000 [01:47<00:38,  6.89it/s]"
     ]
    },
    {
     "name": "stderr",
     "output_type": "stream",
     "text": [
      "\r",
      " 74%|██████████████████████████████████████████████████████████████████████████████████▋                             | 738/1000 [01:47<00:38,  6.89it/s]"
     ]
    },
    {
     "name": "stderr",
     "output_type": "stream",
     "text": [
      "\r",
      " 74%|██████████████████████████████████████████████████████████████████████████████████▊                             | 739/1000 [01:47<00:37,  6.89it/s]"
     ]
    },
    {
     "name": "stderr",
     "output_type": "stream",
     "text": [
      "\r",
      " 74%|██████████████████████████████████████████████████████████████████████████████████▉                             | 740/1000 [01:47<00:37,  6.88it/s]"
     ]
    },
    {
     "name": "stderr",
     "output_type": "stream",
     "text": [
      "\r",
      " 74%|██████████████████████████████████████████████████████████████████████████████████▉                             | 741/1000 [01:47<00:37,  6.88it/s]"
     ]
    },
    {
     "name": "stderr",
     "output_type": "stream",
     "text": [
      "\r",
      " 74%|███████████████████████████████████████████████████████████████████████████████████                             | 742/1000 [01:47<00:37,  6.88it/s]"
     ]
    },
    {
     "name": "stderr",
     "output_type": "stream",
     "text": [
      "\r",
      " 74%|███████████████████████████████████████████████████████████████████████████████████▏                            | 743/1000 [01:48<00:37,  6.88it/s]"
     ]
    },
    {
     "name": "stderr",
     "output_type": "stream",
     "text": [
      "\r",
      " 74%|███████████████████████████████████████████████████████████████████████████████████▎                            | 744/1000 [01:48<00:37,  6.87it/s]"
     ]
    },
    {
     "name": "stderr",
     "output_type": "stream",
     "text": [
      "\r",
      " 74%|███████████████████████████████████████████████████████████████████████████████████▍                            | 745/1000 [01:48<00:37,  6.88it/s]"
     ]
    },
    {
     "name": "stderr",
     "output_type": "stream",
     "text": [
      "\r",
      " 75%|███████████████████████████████████████████████████████████████████████████████████▌                            | 746/1000 [01:48<00:36,  6.88it/s]"
     ]
    },
    {
     "name": "stderr",
     "output_type": "stream",
     "text": [
      "\r",
      " 75%|███████████████████████████████████████████████████████████████████████████████████▋                            | 747/1000 [01:48<00:36,  6.88it/s]"
     ]
    },
    {
     "name": "stderr",
     "output_type": "stream",
     "text": [
      "\r",
      " 75%|███████████████████████████████████████████████████████████████████████████████████▊                            | 748/1000 [01:48<00:36,  6.87it/s]"
     ]
    },
    {
     "name": "stderr",
     "output_type": "stream",
     "text": [
      "\r",
      " 75%|███████████████████████████████████████████████████████████████████████████████████▉                            | 749/1000 [01:48<00:36,  6.87it/s]"
     ]
    },
    {
     "name": "stderr",
     "output_type": "stream",
     "text": [
      "\r",
      " 75%|████████████████████████████████████████████████████████████████████████████████████                            | 750/1000 [01:49<00:36,  6.88it/s]"
     ]
    },
    {
     "name": "stderr",
     "output_type": "stream",
     "text": [
      "\r",
      " 75%|████████████████████████████████████████████████████████████████████████████████████                            | 751/1000 [01:49<00:36,  6.89it/s]"
     ]
    },
    {
     "name": "stderr",
     "output_type": "stream",
     "text": [
      "\r",
      " 75%|████████████████████████████████████████████████████████████████████████████████████▏                           | 752/1000 [01:49<00:36,  6.89it/s]"
     ]
    },
    {
     "name": "stderr",
     "output_type": "stream",
     "text": [
      "\r",
      " 75%|████████████████████████████████████████████████████████████████████████████████████▎                           | 753/1000 [01:49<00:35,  6.89it/s]"
     ]
    },
    {
     "name": "stderr",
     "output_type": "stream",
     "text": [
      "\r",
      " 75%|████████████████████████████████████████████████████████████████████████████████████▍                           | 754/1000 [01:49<00:35,  6.89it/s]"
     ]
    },
    {
     "name": "stderr",
     "output_type": "stream",
     "text": [
      "\r",
      " 76%|████████████████████████████████████████████████████████████████████████████████████▌                           | 755/1000 [01:49<00:35,  6.84it/s]"
     ]
    },
    {
     "name": "stderr",
     "output_type": "stream",
     "text": [
      "\r",
      " 76%|████████████████████████████████████████████████████████████████████████████████████▋                           | 756/1000 [01:49<00:35,  6.84it/s]"
     ]
    },
    {
     "name": "stderr",
     "output_type": "stream",
     "text": [
      "\r",
      " 76%|████████████████████████████████████████████████████████████████████████████████████▊                           | 757/1000 [01:50<00:35,  6.85it/s]"
     ]
    },
    {
     "name": "stderr",
     "output_type": "stream",
     "text": [
      "\r",
      " 76%|████████████████████████████████████████████████████████████████████████████████████▉                           | 758/1000 [01:50<00:35,  6.85it/s]"
     ]
    },
    {
     "name": "stderr",
     "output_type": "stream",
     "text": [
      "\r",
      " 76%|█████████████████████████████████████████████████████████████████████████████████████                           | 759/1000 [01:50<00:35,  6.86it/s]"
     ]
    },
    {
     "name": "stderr",
     "output_type": "stream",
     "text": [
      "\r",
      " 76%|█████████████████████████████████████████████████████████████████████████████████████                           | 760/1000 [01:50<00:34,  6.87it/s]"
     ]
    },
    {
     "name": "stderr",
     "output_type": "stream",
     "text": [
      "\r",
      " 76%|█████████████████████████████████████████████████████████████████████████████████████▏                          | 761/1000 [01:50<00:35,  6.78it/s]"
     ]
    },
    {
     "name": "stderr",
     "output_type": "stream",
     "text": [
      "\r",
      " 76%|█████████████████████████████████████████████████████████████████████████████████████▎                          | 762/1000 [01:50<00:35,  6.80it/s]"
     ]
    },
    {
     "name": "stderr",
     "output_type": "stream",
     "text": [
      "\r",
      " 76%|█████████████████████████████████████████████████████████████████████████████████████▍                          | 763/1000 [01:50<00:34,  6.82it/s]"
     ]
    },
    {
     "name": "stderr",
     "output_type": "stream",
     "text": [
      "\r",
      " 76%|█████████████████████████████████████████████████████████████████████████████████████▌                          | 764/1000 [01:51<00:34,  6.84it/s]"
     ]
    },
    {
     "name": "stderr",
     "output_type": "stream",
     "text": [
      "\r",
      " 76%|█████████████████████████████████████████████████████████████████████████████████████▋                          | 765/1000 [01:51<00:34,  6.86it/s]"
     ]
    },
    {
     "name": "stderr",
     "output_type": "stream",
     "text": [
      "\r",
      " 77%|█████████████████████████████████████████████████████████████████████████████████████▊                          | 766/1000 [01:51<00:34,  6.86it/s]"
     ]
    },
    {
     "name": "stderr",
     "output_type": "stream",
     "text": [
      "\r",
      " 77%|█████████████████████████████████████████████████████████████████████████████████████▉                          | 767/1000 [01:51<00:33,  6.86it/s]"
     ]
    },
    {
     "name": "stderr",
     "output_type": "stream",
     "text": [
      "\r",
      " 77%|██████████████████████████████████████████████████████████████████████████████████████                          | 768/1000 [01:51<00:33,  6.87it/s]"
     ]
    },
    {
     "name": "stderr",
     "output_type": "stream",
     "text": [
      "\r",
      " 77%|██████████████████████████████████████████████████████████████████████████████████████▏                         | 769/1000 [01:51<00:33,  6.88it/s]"
     ]
    },
    {
     "name": "stderr",
     "output_type": "stream",
     "text": [
      "\r",
      " 77%|██████████████████████████████████████████████████████████████████████████████████████▏                         | 770/1000 [01:52<00:33,  6.88it/s]"
     ]
    },
    {
     "name": "stderr",
     "output_type": "stream",
     "text": [
      "\r",
      " 77%|██████████████████████████████████████████████████████████████████████████████████████▎                         | 771/1000 [01:52<00:33,  6.88it/s]"
     ]
    },
    {
     "name": "stderr",
     "output_type": "stream",
     "text": [
      "\r",
      " 77%|██████████████████████████████████████████████████████████████████████████████████████▍                         | 772/1000 [01:52<00:33,  6.89it/s]"
     ]
    },
    {
     "name": "stderr",
     "output_type": "stream",
     "text": [
      "\r",
      " 77%|██████████████████████████████████████████████████████████████████████████████████████▌                         | 773/1000 [01:52<00:32,  6.88it/s]"
     ]
    },
    {
     "name": "stderr",
     "output_type": "stream",
     "text": [
      "\r",
      " 77%|██████████████████████████████████████████████████████████████████████████████████████▋                         | 774/1000 [01:52<00:32,  6.87it/s]"
     ]
    },
    {
     "name": "stderr",
     "output_type": "stream",
     "text": [
      "\r",
      " 78%|██████████████████████████████████████████████████████████████████████████████████████▊                         | 775/1000 [01:52<00:32,  6.88it/s]"
     ]
    },
    {
     "name": "stderr",
     "output_type": "stream",
     "text": [
      "\r",
      " 78%|██████████████████████████████████████████████████████████████████████████████████████▉                         | 776/1000 [01:52<00:32,  6.89it/s]"
     ]
    },
    {
     "name": "stderr",
     "output_type": "stream",
     "text": [
      "\r",
      " 78%|███████████████████████████████████████████████████████████████████████████████████████                         | 777/1000 [01:53<00:32,  6.89it/s]"
     ]
    },
    {
     "name": "stderr",
     "output_type": "stream",
     "text": [
      "\r",
      " 78%|███████████████████████████████████████████████████████████████████████████████████████▏                        | 778/1000 [01:53<00:32,  6.88it/s]"
     ]
    },
    {
     "name": "stderr",
     "output_type": "stream",
     "text": [
      "\r",
      " 78%|███████████████████████████████████████████████████████████████████████████████████████▏                        | 779/1000 [01:53<00:32,  6.88it/s]"
     ]
    },
    {
     "name": "stderr",
     "output_type": "stream",
     "text": [
      "\r",
      " 78%|███████████████████████████████████████████████████████████████████████████████████████▎                        | 780/1000 [01:53<00:31,  6.89it/s]"
     ]
    },
    {
     "name": "stderr",
     "output_type": "stream",
     "text": [
      "\r",
      " 78%|███████████████████████████████████████████████████████████████████████████████████████▍                        | 781/1000 [01:53<00:31,  6.90it/s]"
     ]
    },
    {
     "name": "stderr",
     "output_type": "stream",
     "text": [
      "\r",
      " 78%|███████████████████████████████████████████████████████████████████████████████████████▌                        | 782/1000 [01:53<00:31,  6.89it/s]"
     ]
    },
    {
     "name": "stderr",
     "output_type": "stream",
     "text": [
      "\r",
      " 78%|███████████████████████████████████████████████████████████████████████████████████████▋                        | 783/1000 [01:53<00:31,  6.88it/s]"
     ]
    },
    {
     "name": "stderr",
     "output_type": "stream",
     "text": [
      "\r",
      " 78%|███████████████████████████████████████████████████████████████████████████████████████▊                        | 784/1000 [01:54<00:31,  6.88it/s]"
     ]
    },
    {
     "name": "stderr",
     "output_type": "stream",
     "text": [
      "\r",
      " 78%|███████████████████████████████████████████████████████████████████████████████████████▉                        | 785/1000 [01:54<00:31,  6.89it/s]"
     ]
    },
    {
     "name": "stderr",
     "output_type": "stream",
     "text": [
      "\r",
      " 79%|████████████████████████████████████████████████████████████████████████████████████████                        | 786/1000 [01:54<00:31,  6.88it/s]"
     ]
    },
    {
     "name": "stderr",
     "output_type": "stream",
     "text": [
      "\r",
      " 79%|████████████████████████████████████████████████████████████████████████████████████████▏                       | 787/1000 [01:54<00:30,  6.89it/s]"
     ]
    },
    {
     "name": "stderr",
     "output_type": "stream",
     "text": [
      "\r",
      " 79%|████████████████████████████████████████████████████████████████████████████████████████▎                       | 788/1000 [01:54<00:30,  6.89it/s]"
     ]
    },
    {
     "name": "stderr",
     "output_type": "stream",
     "text": [
      "\r",
      " 79%|████████████████████████████████████████████████████████████████████████████████████████▎                       | 789/1000 [01:54<00:30,  6.89it/s]"
     ]
    },
    {
     "name": "stderr",
     "output_type": "stream",
     "text": [
      "\r",
      " 79%|████████████████████████████████████████████████████████████████████████████████████████▍                       | 790/1000 [01:54<00:30,  6.90it/s]"
     ]
    },
    {
     "name": "stderr",
     "output_type": "stream",
     "text": [
      "\r",
      " 79%|████████████████████████████████████████████████████████████████████████████████████████▌                       | 791/1000 [01:55<00:30,  6.89it/s]"
     ]
    },
    {
     "name": "stderr",
     "output_type": "stream",
     "text": [
      "\r",
      " 79%|████████████████████████████████████████████████████████████████████████████████████████▋                       | 792/1000 [01:55<00:30,  6.90it/s]"
     ]
    },
    {
     "name": "stderr",
     "output_type": "stream",
     "text": [
      "\r",
      " 79%|████████████████████████████████████████████████████████████████████████████████████████▊                       | 793/1000 [01:55<00:30,  6.90it/s]"
     ]
    },
    {
     "name": "stderr",
     "output_type": "stream",
     "text": [
      "\r",
      " 79%|████████████████████████████████████████████████████████████████████████████████████████▉                       | 794/1000 [01:55<00:29,  6.89it/s]"
     ]
    },
    {
     "name": "stderr",
     "output_type": "stream",
     "text": [
      "\r",
      " 80%|█████████████████████████████████████████████████████████████████████████████████████████                       | 795/1000 [01:55<00:29,  6.89it/s]"
     ]
    },
    {
     "name": "stderr",
     "output_type": "stream",
     "text": [
      "\r",
      " 80%|█████████████████████████████████████████████████████████████████████████████████████████▏                      | 796/1000 [01:55<00:29,  6.89it/s]"
     ]
    },
    {
     "name": "stderr",
     "output_type": "stream",
     "text": [
      "\r",
      " 80%|█████████████████████████████████████████████████████████████████████████████████████████▎                      | 797/1000 [01:55<00:29,  6.89it/s]"
     ]
    },
    {
     "name": "stderr",
     "output_type": "stream",
     "text": [
      "\r",
      " 80%|█████████████████████████████████████████████████████████████████████████████████████████▍                      | 798/1000 [01:56<00:29,  6.89it/s]"
     ]
    },
    {
     "name": "stderr",
     "output_type": "stream",
     "text": [
      "\r",
      " 80%|█████████████████████████████████████████████████████████████████████████████████████████▍                      | 799/1000 [01:56<00:29,  6.88it/s]"
     ]
    },
    {
     "name": "stderr",
     "output_type": "stream",
     "text": [
      "\r",
      " 80%|█████████████████████████████████████████████████████████████████████████████████████████▌                      | 800/1000 [01:56<00:29,  6.89it/s]"
     ]
    },
    {
     "name": "stderr",
     "output_type": "stream",
     "text": [
      "\r",
      " 80%|█████████████████████████████████████████████████████████████████████████████████████████▋                      | 801/1000 [01:56<00:28,  6.89it/s]"
     ]
    },
    {
     "name": "stderr",
     "output_type": "stream",
     "text": [
      "\r",
      " 80%|█████████████████████████████████████████████████████████████████████████████████████████▊                      | 802/1000 [01:56<00:28,  6.89it/s]"
     ]
    },
    {
     "name": "stderr",
     "output_type": "stream",
     "text": [
      "\r",
      " 80%|█████████████████████████████████████████████████████████████████████████████████████████▉                      | 803/1000 [01:56<00:28,  6.88it/s]"
     ]
    },
    {
     "name": "stderr",
     "output_type": "stream",
     "text": [
      "\r",
      " 80%|██████████████████████████████████████████████████████████████████████████████████████████                      | 804/1000 [01:56<00:28,  6.89it/s]"
     ]
    },
    {
     "name": "stderr",
     "output_type": "stream",
     "text": [
      "\r",
      " 80%|██████████████████████████████████████████████████████████████████████████████████████████▏                     | 805/1000 [01:57<00:28,  6.89it/s]"
     ]
    },
    {
     "name": "stderr",
     "output_type": "stream",
     "text": [
      "\r",
      " 81%|██████████████████████████████████████████████████████████████████████████████████████████▎                     | 806/1000 [01:57<00:28,  6.89it/s]"
     ]
    },
    {
     "name": "stderr",
     "output_type": "stream",
     "text": [
      "\r",
      " 81%|██████████████████████████████████████████████████████████████████████████████████████████▍                     | 807/1000 [01:57<00:27,  6.89it/s]"
     ]
    },
    {
     "name": "stderr",
     "output_type": "stream",
     "text": [
      "\r",
      " 81%|██████████████████████████████████████████████████████████████████████████████████████████▍                     | 808/1000 [01:57<00:27,  6.89it/s]"
     ]
    },
    {
     "name": "stderr",
     "output_type": "stream",
     "text": [
      "\r",
      " 81%|██████████████████████████████████████████████████████████████████████████████████████████▌                     | 809/1000 [01:57<00:27,  6.88it/s]"
     ]
    },
    {
     "name": "stderr",
     "output_type": "stream",
     "text": [
      "\r",
      " 81%|██████████████████████████████████████████████████████████████████████████████████████████▋                     | 810/1000 [01:57<00:27,  6.87it/s]"
     ]
    },
    {
     "name": "stderr",
     "output_type": "stream",
     "text": [
      "\r",
      " 81%|██████████████████████████████████████████████████████████████████████████████████████████▊                     | 811/1000 [01:57<00:27,  6.88it/s]"
     ]
    },
    {
     "name": "stderr",
     "output_type": "stream",
     "text": [
      "\r",
      " 81%|██████████████████████████████████████████████████████████████████████████████████████████▉                     | 812/1000 [01:58<00:27,  6.88it/s]"
     ]
    },
    {
     "name": "stderr",
     "output_type": "stream",
     "text": [
      "\r",
      " 81%|███████████████████████████████████████████████████████████████████████████████████████████                     | 813/1000 [01:58<00:27,  6.88it/s]"
     ]
    },
    {
     "name": "stderr",
     "output_type": "stream",
     "text": [
      "\r",
      " 81%|███████████████████████████████████████████████████████████████████████████████████████████▏                    | 814/1000 [01:58<00:27,  6.88it/s]"
     ]
    },
    {
     "name": "stderr",
     "output_type": "stream",
     "text": [
      "\r",
      " 82%|███████████████████████████████████████████████████████████████████████████████████████████▎                    | 815/1000 [01:58<00:26,  6.87it/s]"
     ]
    },
    {
     "name": "stderr",
     "output_type": "stream",
     "text": [
      "\r",
      " 82%|███████████████████████████████████████████████████████████████████████████████████████████▍                    | 816/1000 [01:58<00:26,  6.87it/s]"
     ]
    },
    {
     "name": "stderr",
     "output_type": "stream",
     "text": [
      "\r",
      " 82%|███████████████████████████████████████████████████████████████████████████████████████████▌                    | 817/1000 [01:58<00:26,  6.88it/s]"
     ]
    },
    {
     "name": "stderr",
     "output_type": "stream",
     "text": [
      "\r",
      " 82%|███████████████████████████████████████████████████████████████████████████████████████████▌                    | 818/1000 [01:58<00:26,  6.88it/s]"
     ]
    },
    {
     "name": "stderr",
     "output_type": "stream",
     "text": [
      "\r",
      " 82%|███████████████████████████████████████████████████████████████████████████████████████████▋                    | 819/1000 [01:59<00:26,  6.88it/s]"
     ]
    },
    {
     "name": "stderr",
     "output_type": "stream",
     "text": [
      "\r",
      " 82%|███████████████████████████████████████████████████████████████████████████████████████████▊                    | 820/1000 [01:59<00:26,  6.89it/s]"
     ]
    },
    {
     "name": "stderr",
     "output_type": "stream",
     "text": [
      "\r",
      " 82%|███████████████████████████████████████████████████████████████████████████████████████████▉                    | 821/1000 [01:59<00:25,  6.89it/s]"
     ]
    },
    {
     "name": "stderr",
     "output_type": "stream",
     "text": [
      "\r",
      " 82%|████████████████████████████████████████████████████████████████████████████████████████████                    | 822/1000 [01:59<00:25,  6.89it/s]"
     ]
    },
    {
     "name": "stderr",
     "output_type": "stream",
     "text": [
      "\r",
      " 82%|████████████████████████████████████████████████████████████████████████████████████████████▏                   | 823/1000 [01:59<00:25,  6.89it/s]"
     ]
    },
    {
     "name": "stderr",
     "output_type": "stream",
     "text": [
      "\r",
      " 82%|████████████████████████████████████████████████████████████████████████████████████████████▎                   | 824/1000 [01:59<00:25,  6.89it/s]"
     ]
    },
    {
     "name": "stderr",
     "output_type": "stream",
     "text": [
      "\r",
      " 82%|████████████████████████████████████████████████████████████████████████████████████████████▍                   | 825/1000 [01:59<00:25,  6.88it/s]"
     ]
    },
    {
     "name": "stderr",
     "output_type": "stream",
     "text": [
      "\r",
      " 83%|████████████████████████████████████████████████████████████████████████████████████████████▌                   | 826/1000 [02:00<00:25,  6.87it/s]"
     ]
    },
    {
     "name": "stderr",
     "output_type": "stream",
     "text": [
      "\r",
      " 83%|████████████████████████████████████████████████████████████████████████████████████████████▌                   | 827/1000 [02:00<00:25,  6.88it/s]"
     ]
    },
    {
     "name": "stderr",
     "output_type": "stream",
     "text": [
      "\r",
      " 83%|████████████████████████████████████████████████████████████████████████████████████████████▋                   | 828/1000 [02:00<00:25,  6.87it/s]"
     ]
    },
    {
     "name": "stderr",
     "output_type": "stream",
     "text": [
      "\r",
      " 83%|████████████████████████████████████████████████████████████████████████████████████████████▊                   | 829/1000 [02:00<00:25,  6.63it/s]"
     ]
    },
    {
     "name": "stderr",
     "output_type": "stream",
     "text": [
      "\r",
      " 83%|████████████████████████████████████████████████████████████████████████████████████████████▉                   | 830/1000 [02:00<00:27,  6.21it/s]"
     ]
    },
    {
     "name": "stderr",
     "output_type": "stream",
     "text": [
      "\r",
      " 83%|█████████████████████████████████████████████████████████████████████████████████████████████                   | 831/1000 [02:00<00:26,  6.40it/s]"
     ]
    },
    {
     "name": "stderr",
     "output_type": "stream",
     "text": [
      "\r",
      " 83%|█████████████████████████████████████████████████████████████████████████████████████████████▏                  | 832/1000 [02:01<00:25,  6.55it/s]"
     ]
    },
    {
     "name": "stderr",
     "output_type": "stream",
     "text": [
      "\r",
      " 83%|█████████████████████████████████████████████████████████████████████████████████████████████▎                  | 833/1000 [02:01<00:25,  6.66it/s]"
     ]
    },
    {
     "name": "stderr",
     "output_type": "stream",
     "text": [
      "\r",
      " 83%|█████████████████████████████████████████████████████████████████████████████████████████████▍                  | 834/1000 [02:01<00:24,  6.73it/s]"
     ]
    },
    {
     "name": "stderr",
     "output_type": "stream",
     "text": [
      "\r",
      " 84%|█████████████████████████████████████████████████████████████████████████████████████████████▌                  | 835/1000 [02:01<00:24,  6.79it/s]"
     ]
    },
    {
     "name": "stderr",
     "output_type": "stream",
     "text": [
      "\r",
      " 84%|█████████████████████████████████████████████████████████████████████████████████████████████▋                  | 836/1000 [02:01<00:24,  6.61it/s]"
     ]
    },
    {
     "name": "stderr",
     "output_type": "stream",
     "text": [
      "\r",
      " 84%|█████████████████████████████████████████████████████████████████████████████████████████████▋                  | 837/1000 [02:01<00:24,  6.68it/s]"
     ]
    },
    {
     "name": "stderr",
     "output_type": "stream",
     "text": [
      "\r",
      " 84%|█████████████████████████████████████████████████████████████████████████████████████████████▊                  | 838/1000 [02:01<00:24,  6.66it/s]"
     ]
    },
    {
     "name": "stderr",
     "output_type": "stream",
     "text": [
      "\r",
      " 84%|█████████████████████████████████████████████████████████████████████████████████████████████▉                  | 839/1000 [02:02<00:23,  6.73it/s]"
     ]
    },
    {
     "name": "stderr",
     "output_type": "stream",
     "text": [
      "\r",
      " 84%|██████████████████████████████████████████████████████████████████████████████████████████████                  | 840/1000 [02:02<00:23,  6.78it/s]"
     ]
    },
    {
     "name": "stderr",
     "output_type": "stream",
     "text": [
      "\r",
      " 84%|██████████████████████████████████████████████████████████████████████████████████████████████▏                 | 841/1000 [02:02<00:23,  6.82it/s]"
     ]
    },
    {
     "name": "stderr",
     "output_type": "stream",
     "text": [
      "\r",
      " 84%|██████████████████████████████████████████████████████████████████████████████████████████████▎                 | 842/1000 [02:02<00:23,  6.85it/s]"
     ]
    },
    {
     "name": "stderr",
     "output_type": "stream",
     "text": [
      "\r",
      " 84%|██████████████████████████████████████████████████████████████████████████████████████████████▍                 | 843/1000 [02:02<00:22,  6.87it/s]"
     ]
    },
    {
     "name": "stderr",
     "output_type": "stream",
     "text": [
      "\r",
      " 84%|██████████████████████████████████████████████████████████████████████████████████████████████▌                 | 844/1000 [02:02<00:22,  6.89it/s]"
     ]
    },
    {
     "name": "stderr",
     "output_type": "stream",
     "text": [
      "\r",
      " 84%|██████████████████████████████████████████████████████████████████████████████████████████████▋                 | 845/1000 [02:02<00:22,  6.90it/s]"
     ]
    },
    {
     "name": "stderr",
     "output_type": "stream",
     "text": [
      "\r",
      " 85%|██████████████████████████████████████████████████████████████████████████████████████████████▊                 | 846/1000 [02:03<00:22,  6.90it/s]"
     ]
    },
    {
     "name": "stderr",
     "output_type": "stream",
     "text": [
      "\r",
      " 85%|██████████████████████████████████████████████████████████████████████████████████████████████▊                 | 847/1000 [02:03<00:22,  6.90it/s]"
     ]
    },
    {
     "name": "stderr",
     "output_type": "stream",
     "text": [
      "\r",
      " 85%|██████████████████████████████████████████████████████████████████████████████████████████████▉                 | 848/1000 [02:03<00:22,  6.90it/s]"
     ]
    },
    {
     "name": "stderr",
     "output_type": "stream",
     "text": [
      "\r",
      " 85%|███████████████████████████████████████████████████████████████████████████████████████████████                 | 849/1000 [02:03<00:21,  6.91it/s]"
     ]
    },
    {
     "name": "stderr",
     "output_type": "stream",
     "text": [
      "\r",
      " 85%|███████████████████████████████████████████████████████████████████████████████████████████████▏                | 850/1000 [02:03<00:21,  6.91it/s]"
     ]
    },
    {
     "name": "stderr",
     "output_type": "stream",
     "text": [
      "\r",
      " 85%|███████████████████████████████████████████████████████████████████████████████████████████████▎                | 851/1000 [02:03<00:21,  6.91it/s]"
     ]
    },
    {
     "name": "stderr",
     "output_type": "stream",
     "text": [
      "\r",
      " 85%|███████████████████████████████████████████████████████████████████████████████████████████████▍                | 852/1000 [02:03<00:21,  6.91it/s]"
     ]
    },
    {
     "name": "stderr",
     "output_type": "stream",
     "text": [
      "\r",
      " 85%|███████████████████████████████████████████████████████████████████████████████████████████████▌                | 853/1000 [02:04<00:21,  6.91it/s]"
     ]
    },
    {
     "name": "stderr",
     "output_type": "stream",
     "text": [
      "\r",
      " 85%|███████████████████████████████████████████████████████████████████████████████████████████████▋                | 854/1000 [02:04<00:21,  6.91it/s]"
     ]
    },
    {
     "name": "stderr",
     "output_type": "stream",
     "text": [
      "\r",
      " 86%|███████████████████████████████████████████████████████████████████████████████████████████████▊                | 855/1000 [02:04<00:20,  6.91it/s]"
     ]
    },
    {
     "name": "stderr",
     "output_type": "stream",
     "text": [
      "\r",
      " 86%|███████████████████████████████████████████████████████████████████████████████████████████████▊                | 856/1000 [02:04<00:20,  6.92it/s]"
     ]
    },
    {
     "name": "stderr",
     "output_type": "stream",
     "text": [
      "\r",
      " 86%|███████████████████████████████████████████████████████████████████████████████████████████████▉                | 857/1000 [02:04<00:20,  6.92it/s]"
     ]
    },
    {
     "name": "stderr",
     "output_type": "stream",
     "text": [
      "\r",
      " 86%|████████████████████████████████████████████████████████████████████████████████████████████████                | 858/1000 [02:04<00:20,  6.92it/s]"
     ]
    },
    {
     "name": "stderr",
     "output_type": "stream",
     "text": [
      "\r",
      " 86%|████████████████████████████████████████████████████████████████████████████████████████████████▏               | 859/1000 [02:04<00:20,  6.92it/s]"
     ]
    },
    {
     "name": "stderr",
     "output_type": "stream",
     "text": [
      "\r",
      " 86%|████████████████████████████████████████████████████████████████████████████████████████████████▎               | 860/1000 [02:05<00:20,  6.92it/s]"
     ]
    },
    {
     "name": "stderr",
     "output_type": "stream",
     "text": [
      "\r",
      " 86%|████████████████████████████████████████████████████████████████████████████████████████████████▍               | 861/1000 [02:05<00:20,  6.92it/s]"
     ]
    },
    {
     "name": "stderr",
     "output_type": "stream",
     "text": [
      "\r",
      " 86%|████████████████████████████████████████████████████████████████████████████████████████████████▌               | 862/1000 [02:05<00:19,  6.92it/s]"
     ]
    },
    {
     "name": "stderr",
     "output_type": "stream",
     "text": [
      "\r",
      " 86%|████████████████████████████████████████████████████████████████████████████████████████████████▋               | 863/1000 [02:05<00:19,  6.91it/s]"
     ]
    },
    {
     "name": "stderr",
     "output_type": "stream",
     "text": [
      "\r",
      " 86%|████████████████████████████████████████████████████████████████████████████████████████████████▊               | 864/1000 [02:05<00:19,  6.92it/s]"
     ]
    },
    {
     "name": "stderr",
     "output_type": "stream",
     "text": [
      "\r",
      " 86%|████████████████████████████████████████████████████████████████████████████████████████████████▉               | 865/1000 [02:05<00:19,  6.92it/s]"
     ]
    },
    {
     "name": "stderr",
     "output_type": "stream",
     "text": [
      "\r",
      " 87%|████████████████████████████████████████████████████████████████████████████████████████████████▉               | 866/1000 [02:06<00:19,  6.92it/s]"
     ]
    },
    {
     "name": "stderr",
     "output_type": "stream",
     "text": [
      "\r",
      " 87%|█████████████████████████████████████████████████████████████████████████████████████████████████               | 867/1000 [02:06<00:19,  6.92it/s]"
     ]
    },
    {
     "name": "stderr",
     "output_type": "stream",
     "text": [
      "\r",
      " 87%|█████████████████████████████████████████████████████████████████████████████████████████████████▏              | 868/1000 [02:06<00:19,  6.92it/s]"
     ]
    },
    {
     "name": "stderr",
     "output_type": "stream",
     "text": [
      "\r",
      " 87%|█████████████████████████████████████████████████████████████████████████████████████████████████▎              | 869/1000 [02:06<00:18,  6.92it/s]"
     ]
    },
    {
     "name": "stderr",
     "output_type": "stream",
     "text": [
      "\r",
      " 87%|█████████████████████████████████████████████████████████████████████████████████████████████████▍              | 870/1000 [02:06<00:18,  6.93it/s]"
     ]
    },
    {
     "name": "stderr",
     "output_type": "stream",
     "text": [
      "\r",
      " 87%|█████████████████████████████████████████████████████████████████████████████████████████████████▌              | 871/1000 [02:06<00:18,  6.92it/s]"
     ]
    },
    {
     "name": "stderr",
     "output_type": "stream",
     "text": [
      "\r",
      " 87%|█████████████████████████████████████████████████████████████████████████████████████████████████▋              | 872/1000 [02:06<00:18,  6.92it/s]"
     ]
    },
    {
     "name": "stderr",
     "output_type": "stream",
     "text": [
      "\r",
      " 87%|█████████████████████████████████████████████████████████████████████████████████████████████████▊              | 873/1000 [02:07<00:18,  6.91it/s]"
     ]
    },
    {
     "name": "stderr",
     "output_type": "stream",
     "text": [
      "\r",
      " 87%|█████████████████████████████████████████████████████████████████████████████████████████████████▉              | 874/1000 [02:07<00:18,  6.91it/s]"
     ]
    },
    {
     "name": "stderr",
     "output_type": "stream",
     "text": [
      "\r",
      " 88%|██████████████████████████████████████████████████████████████████████████████████████████████████              | 875/1000 [02:07<00:18,  6.91it/s]"
     ]
    },
    {
     "name": "stderr",
     "output_type": "stream",
     "text": [
      "\r",
      " 88%|██████████████████████████████████████████████████████████████████████████████████████████████████              | 876/1000 [02:07<00:17,  6.91it/s]"
     ]
    },
    {
     "name": "stderr",
     "output_type": "stream",
     "text": [
      "\r",
      " 88%|██████████████████████████████████████████████████████████████████████████████████████████████████▏             | 877/1000 [02:07<00:17,  6.91it/s]"
     ]
    },
    {
     "name": "stderr",
     "output_type": "stream",
     "text": [
      "\r",
      " 88%|██████████████████████████████████████████████████████████████████████████████████████████████████▎             | 878/1000 [02:07<00:17,  6.91it/s]"
     ]
    },
    {
     "name": "stderr",
     "output_type": "stream",
     "text": [
      "\r",
      " 88%|██████████████████████████████████████████████████████████████████████████████████████████████████▍             | 879/1000 [02:07<00:17,  6.90it/s]"
     ]
    },
    {
     "name": "stderr",
     "output_type": "stream",
     "text": [
      "\r",
      " 88%|██████████████████████████████████████████████████████████████████████████████████████████████████▌             | 880/1000 [02:08<00:17,  6.91it/s]"
     ]
    },
    {
     "name": "stderr",
     "output_type": "stream",
     "text": [
      "\r",
      " 88%|██████████████████████████████████████████████████████████████████████████████████████████████████▋             | 881/1000 [02:08<00:17,  6.91it/s]"
     ]
    },
    {
     "name": "stderr",
     "output_type": "stream",
     "text": [
      "\r",
      " 88%|██████████████████████████████████████████████████████████████████████████████████████████████████▊             | 882/1000 [02:08<00:17,  6.91it/s]"
     ]
    },
    {
     "name": "stderr",
     "output_type": "stream",
     "text": [
      "\r",
      " 88%|██████████████████████████████████████████████████████████████████████████████████████████████████▉             | 883/1000 [02:08<00:16,  6.91it/s]"
     ]
    },
    {
     "name": "stderr",
     "output_type": "stream",
     "text": [
      "\r",
      " 88%|███████████████████████████████████████████████████████████████████████████████████████████████████             | 884/1000 [02:08<00:16,  6.91it/s]"
     ]
    },
    {
     "name": "stderr",
     "output_type": "stream",
     "text": [
      "\r",
      " 88%|███████████████████████████████████████████████████████████████████████████████████████████████████             | 885/1000 [02:08<00:16,  6.91it/s]"
     ]
    },
    {
     "name": "stderr",
     "output_type": "stream",
     "text": [
      "\r",
      " 89%|███████████████████████████████████████████████████████████████████████████████████████████████████▏            | 886/1000 [02:08<00:16,  6.91it/s]"
     ]
    },
    {
     "name": "stderr",
     "output_type": "stream",
     "text": [
      "\r",
      " 89%|███████████████████████████████████████████████████████████████████████████████████████████████████▎            | 887/1000 [02:09<00:16,  6.91it/s]"
     ]
    },
    {
     "name": "stderr",
     "output_type": "stream",
     "text": [
      "\r",
      " 89%|███████████████████████████████████████████████████████████████████████████████████████████████████▍            | 888/1000 [02:09<00:16,  6.91it/s]"
     ]
    },
    {
     "name": "stderr",
     "output_type": "stream",
     "text": [
      "\r",
      " 89%|███████████████████████████████████████████████████████████████████████████████████████████████████▌            | 889/1000 [02:09<00:16,  6.86it/s]"
     ]
    },
    {
     "name": "stderr",
     "output_type": "stream",
     "text": [
      "\r",
      " 89%|███████████████████████████████████████████████████████████████████████████████████████████████████▋            | 890/1000 [02:09<00:15,  6.88it/s]"
     ]
    },
    {
     "name": "stderr",
     "output_type": "stream",
     "text": [
      "\r",
      " 89%|███████████████████████████████████████████████████████████████████████████████████████████████████▊            | 891/1000 [02:09<00:15,  6.85it/s]"
     ]
    },
    {
     "name": "stderr",
     "output_type": "stream",
     "text": [
      "\r",
      " 89%|███████████████████████████████████████████████████████████████████████████████████████████████████▉            | 892/1000 [02:09<00:15,  6.87it/s]"
     ]
    },
    {
     "name": "stderr",
     "output_type": "stream",
     "text": [
      "\r",
      " 89%|████████████████████████████████████████████████████████████████████████████████████████████████████            | 893/1000 [02:09<00:15,  6.88it/s]"
     ]
    },
    {
     "name": "stderr",
     "output_type": "stream",
     "text": [
      "\r",
      " 89%|████████████████████████████████████████████████████████████████████████████████████████████████████▏           | 894/1000 [02:10<00:15,  6.89it/s]"
     ]
    },
    {
     "name": "stderr",
     "output_type": "stream",
     "text": [
      "\r",
      " 90%|████████████████████████████████████████████████████████████████████████████████████████████████████▏           | 895/1000 [02:10<00:15,  6.89it/s]"
     ]
    },
    {
     "name": "stderr",
     "output_type": "stream",
     "text": [
      "\r",
      " 90%|████████████████████████████████████████████████████████████████████████████████████████████████████▎           | 896/1000 [02:10<00:15,  6.90it/s]"
     ]
    },
    {
     "name": "stderr",
     "output_type": "stream",
     "text": [
      "\r",
      " 90%|████████████████████████████████████████████████████████████████████████████████████████████████████▍           | 897/1000 [02:10<00:14,  6.90it/s]"
     ]
    },
    {
     "name": "stderr",
     "output_type": "stream",
     "text": [
      "\r",
      " 90%|████████████████████████████████████████████████████████████████████████████████████████████████████▌           | 898/1000 [02:10<00:14,  6.91it/s]"
     ]
    },
    {
     "name": "stderr",
     "output_type": "stream",
     "text": [
      "\r",
      " 90%|████████████████████████████████████████████████████████████████████████████████████████████████████▋           | 899/1000 [02:10<00:14,  6.91it/s]"
     ]
    },
    {
     "name": "stderr",
     "output_type": "stream",
     "text": [
      "\r",
      " 90%|████████████████████████████████████████████████████████████████████████████████████████████████████▊           | 900/1000 [02:10<00:14,  6.91it/s]"
     ]
    },
    {
     "name": "stderr",
     "output_type": "stream",
     "text": [
      "\r",
      " 90%|████████████████████████████████████████████████████████████████████████████████████████████████████▉           | 901/1000 [02:11<00:14,  6.91it/s]"
     ]
    },
    {
     "name": "stderr",
     "output_type": "stream",
     "text": [
      "\r",
      " 90%|█████████████████████████████████████████████████████████████████████████████████████████████████████           | 902/1000 [02:11<00:14,  6.92it/s]"
     ]
    },
    {
     "name": "stderr",
     "output_type": "stream",
     "text": [
      "\r",
      " 90%|█████████████████████████████████████████████████████████████████████████████████████████████████████▏          | 903/1000 [02:11<00:14,  6.91it/s]"
     ]
    },
    {
     "name": "stderr",
     "output_type": "stream",
     "text": [
      "\r",
      " 90%|█████████████████████████████████████████████████████████████████████████████████████████████████████▏          | 904/1000 [02:11<00:13,  6.91it/s]"
     ]
    },
    {
     "name": "stderr",
     "output_type": "stream",
     "text": [
      "\r",
      " 90%|█████████████████████████████████████████████████████████████████████████████████████████████████████▎          | 905/1000 [02:11<00:13,  6.84it/s]"
     ]
    },
    {
     "name": "stderr",
     "output_type": "stream",
     "text": [
      "\r",
      " 91%|█████████████████████████████████████████████████████████████████████████████████████████████████████▍          | 906/1000 [02:11<00:13,  6.86it/s]"
     ]
    },
    {
     "name": "stderr",
     "output_type": "stream",
     "text": [
      "\r",
      " 91%|█████████████████████████████████████████████████████████████████████████████████████████████████████▌          | 907/1000 [02:11<00:13,  6.87it/s]"
     ]
    },
    {
     "name": "stderr",
     "output_type": "stream",
     "text": [
      "\r",
      " 91%|█████████████████████████████████████████████████████████████████████████████████████████████████████▋          | 908/1000 [02:12<00:13,  6.88it/s]"
     ]
    },
    {
     "name": "stderr",
     "output_type": "stream",
     "text": [
      "\r",
      " 91%|█████████████████████████████████████████████████████████████████████████████████████████████████████▊          | 909/1000 [02:12<00:13,  6.89it/s]"
     ]
    },
    {
     "name": "stderr",
     "output_type": "stream",
     "text": [
      "\r",
      " 91%|█████████████████████████████████████████████████████████████████████████████████████████████████████▉          | 910/1000 [02:12<00:13,  6.90it/s]"
     ]
    },
    {
     "name": "stderr",
     "output_type": "stream",
     "text": [
      "\r",
      " 91%|██████████████████████████████████████████████████████████████████████████████████████████████████████          | 911/1000 [02:12<00:12,  6.90it/s]"
     ]
    },
    {
     "name": "stderr",
     "output_type": "stream",
     "text": [
      "\r",
      " 91%|██████████████████████████████████████████████████████████████████████████████████████████████████████▏         | 912/1000 [02:12<00:12,  6.89it/s]"
     ]
    },
    {
     "name": "stderr",
     "output_type": "stream",
     "text": [
      "\r",
      " 91%|██████████████████████████████████████████████████████████████████████████████████████████████████████▎         | 913/1000 [02:12<00:12,  6.89it/s]"
     ]
    },
    {
     "name": "stderr",
     "output_type": "stream",
     "text": [
      "\r",
      " 91%|██████████████████████████████████████████████████████████████████████████████████████████████████████▎         | 914/1000 [02:12<00:12,  6.89it/s]"
     ]
    },
    {
     "name": "stderr",
     "output_type": "stream",
     "text": [
      "\r",
      " 92%|██████████████████████████████████████████████████████████████████████████████████████████████████████▍         | 915/1000 [02:13<00:12,  6.89it/s]"
     ]
    },
    {
     "name": "stderr",
     "output_type": "stream",
     "text": [
      "\r",
      " 92%|██████████████████████████████████████████████████████████████████████████████████████████████████████▌         | 916/1000 [02:13<00:12,  6.90it/s]"
     ]
    },
    {
     "name": "stderr",
     "output_type": "stream",
     "text": [
      "\r",
      " 92%|██████████████████████████████████████████████████████████████████████████████████████████████████████▋         | 917/1000 [02:13<00:12,  6.90it/s]"
     ]
    },
    {
     "name": "stderr",
     "output_type": "stream",
     "text": [
      "\r",
      " 92%|██████████████████████████████████████████████████████████████████████████████████████████████████████▊         | 918/1000 [02:13<00:11,  6.86it/s]"
     ]
    },
    {
     "name": "stderr",
     "output_type": "stream",
     "text": [
      "\r",
      " 92%|██████████████████████████████████████████████████████████████████████████████████████████████████████▉         | 919/1000 [02:13<00:11,  6.87it/s]"
     ]
    },
    {
     "name": "stderr",
     "output_type": "stream",
     "text": [
      "\r",
      " 92%|███████████████████████████████████████████████████████████████████████████████████████████████████████         | 920/1000 [02:13<00:11,  6.89it/s]"
     ]
    },
    {
     "name": "stderr",
     "output_type": "stream",
     "text": [
      "\r",
      " 92%|███████████████████████████████████████████████████████████████████████████████████████████████████████▏        | 921/1000 [02:13<00:11,  6.90it/s]"
     ]
    },
    {
     "name": "stderr",
     "output_type": "stream",
     "text": [
      "\r",
      " 92%|███████████████████████████████████████████████████████████████████████████████████████████████████████▎        | 922/1000 [02:14<00:11,  6.90it/s]"
     ]
    },
    {
     "name": "stderr",
     "output_type": "stream",
     "text": [
      "\r",
      " 92%|███████████████████████████████████████████████████████████████████████████████████████████████████████▍        | 923/1000 [02:14<00:11,  6.90it/s]"
     ]
    },
    {
     "name": "stderr",
     "output_type": "stream",
     "text": [
      "\r",
      " 92%|███████████████████████████████████████████████████████████████████████████████████████████████████████▍        | 924/1000 [02:14<00:11,  6.91it/s]"
     ]
    },
    {
     "name": "stderr",
     "output_type": "stream",
     "text": [
      "\r",
      " 92%|███████████████████████████████████████████████████████████████████████████████████████████████████████▌        | 925/1000 [02:14<00:10,  6.90it/s]"
     ]
    },
    {
     "name": "stderr",
     "output_type": "stream",
     "text": [
      "\r",
      " 93%|███████████████████████████████████████████████████████████████████████████████████████████████████████▋        | 926/1000 [02:14<00:10,  6.90it/s]"
     ]
    },
    {
     "name": "stderr",
     "output_type": "stream",
     "text": [
      "\r",
      " 93%|███████████████████████████████████████████████████████████████████████████████████████████████████████▊        | 927/1000 [02:14<00:10,  6.90it/s]"
     ]
    },
    {
     "name": "stderr",
     "output_type": "stream",
     "text": [
      "\r",
      " 93%|███████████████████████████████████████████████████████████████████████████████████████████████████████▉        | 928/1000 [02:14<00:10,  6.91it/s]"
     ]
    },
    {
     "name": "stderr",
     "output_type": "stream",
     "text": [
      "\r",
      " 93%|████████████████████████████████████████████████████████████████████████████████████████████████████████        | 929/1000 [02:15<00:10,  6.90it/s]"
     ]
    },
    {
     "name": "stderr",
     "output_type": "stream",
     "text": [
      "\r",
      " 93%|████████████████████████████████████████████████████████████████████████████████████████████████████████▏       | 930/1000 [02:15<00:10,  6.91it/s]"
     ]
    },
    {
     "name": "stderr",
     "output_type": "stream",
     "text": [
      "\r",
      " 93%|████████████████████████████████████████████████████████████████████████████████████████████████████████▎       | 931/1000 [02:15<00:09,  6.91it/s]"
     ]
    },
    {
     "name": "stderr",
     "output_type": "stream",
     "text": [
      "\r",
      " 93%|████████████████████████████████████████████████████████████████████████████████████████████████████████▍       | 932/1000 [02:15<00:09,  6.91it/s]"
     ]
    },
    {
     "name": "stderr",
     "output_type": "stream",
     "text": [
      "\r",
      " 93%|████████████████████████████████████████████████████████████████████████████████████████████████████████▍       | 933/1000 [02:15<00:09,  6.91it/s]"
     ]
    },
    {
     "name": "stderr",
     "output_type": "stream",
     "text": [
      "\r",
      " 93%|████████████████████████████████████████████████████████████████████████████████████████████████████████▌       | 934/1000 [02:15<00:09,  6.91it/s]"
     ]
    },
    {
     "name": "stderr",
     "output_type": "stream",
     "text": [
      "\r",
      " 94%|████████████████████████████████████████████████████████████████████████████████████████████████████████▋       | 935/1000 [02:16<00:09,  6.91it/s]"
     ]
    },
    {
     "name": "stderr",
     "output_type": "stream",
     "text": [
      "\r",
      " 94%|████████████████████████████████████████████████████████████████████████████████████████████████████████▊       | 936/1000 [02:16<00:09,  6.92it/s]"
     ]
    },
    {
     "name": "stderr",
     "output_type": "stream",
     "text": [
      "\r",
      " 94%|████████████████████████████████████████████████████████████████████████████████████████████████████████▉       | 937/1000 [02:16<00:09,  6.92it/s]"
     ]
    },
    {
     "name": "stderr",
     "output_type": "stream",
     "text": [
      "\r",
      " 94%|█████████████████████████████████████████████████████████████████████████████████████████████████████████       | 938/1000 [02:16<00:08,  6.92it/s]"
     ]
    },
    {
     "name": "stderr",
     "output_type": "stream",
     "text": [
      "\r",
      " 94%|█████████████████████████████████████████████████████████████████████████████████████████████████████████▏      | 939/1000 [02:16<00:08,  6.90it/s]"
     ]
    },
    {
     "name": "stderr",
     "output_type": "stream",
     "text": [
      "\r",
      " 94%|█████████████████████████████████████████████████████████████████████████████████████████████████████████▎      | 940/1000 [02:16<00:08,  6.90it/s]"
     ]
    },
    {
     "name": "stderr",
     "output_type": "stream",
     "text": [
      "\r",
      " 94%|█████████████████████████████████████████████████████████████████████████████████████████████████████████▍      | 941/1000 [02:16<00:08,  6.91it/s]"
     ]
    },
    {
     "name": "stderr",
     "output_type": "stream",
     "text": [
      "\r",
      " 94%|█████████████████████████████████████████████████████████████████████████████████████████████████████████▌      | 942/1000 [02:17<00:08,  6.92it/s]"
     ]
    },
    {
     "name": "stderr",
     "output_type": "stream",
     "text": [
      "\r",
      " 94%|█████████████████████████████████████████████████████████████████████████████████████████████████████████▌      | 943/1000 [02:17<00:08,  6.92it/s]"
     ]
    },
    {
     "name": "stderr",
     "output_type": "stream",
     "text": [
      "\r",
      " 94%|█████████████████████████████████████████████████████████████████████████████████████████████████████████▋      | 944/1000 [02:17<00:08,  6.92it/s]"
     ]
    },
    {
     "name": "stderr",
     "output_type": "stream",
     "text": [
      "\r",
      " 94%|█████████████████████████████████████████████████████████████████████████████████████████████████████████▊      | 945/1000 [02:17<00:07,  6.92it/s]"
     ]
    },
    {
     "name": "stderr",
     "output_type": "stream",
     "text": [
      "\r",
      " 95%|█████████████████████████████████████████████████████████████████████████████████████████████████████████▉      | 946/1000 [02:17<00:07,  6.92it/s]"
     ]
    },
    {
     "name": "stderr",
     "output_type": "stream",
     "text": [
      "\r",
      " 95%|██████████████████████████████████████████████████████████████████████████████████████████████████████████      | 947/1000 [02:17<00:07,  6.92it/s]"
     ]
    },
    {
     "name": "stderr",
     "output_type": "stream",
     "text": [
      "\r",
      " 95%|██████████████████████████████████████████████████████████████████████████████████████████████████████████▏     | 948/1000 [02:17<00:07,  6.92it/s]"
     ]
    },
    {
     "name": "stderr",
     "output_type": "stream",
     "text": [
      "\r",
      " 95%|██████████████████████████████████████████████████████████████████████████████████████████████████████████▎     | 949/1000 [02:18<00:07,  6.92it/s]"
     ]
    },
    {
     "name": "stderr",
     "output_type": "stream",
     "text": [
      "\r",
      " 95%|██████████████████████████████████████████████████████████████████████████████████████████████████████████▍     | 950/1000 [02:18<00:07,  6.92it/s]"
     ]
    },
    {
     "name": "stderr",
     "output_type": "stream",
     "text": [
      "\r",
      " 95%|██████████████████████████████████████████████████████████████████████████████████████████████████████████▌     | 951/1000 [02:18<00:07,  6.93it/s]"
     ]
    },
    {
     "name": "stderr",
     "output_type": "stream",
     "text": [
      "\r",
      " 95%|██████████████████████████████████████████████████████████████████████████████████████████████████████████▌     | 952/1000 [02:18<00:06,  6.92it/s]"
     ]
    },
    {
     "name": "stderr",
     "output_type": "stream",
     "text": [
      "\r",
      " 95%|██████████████████████████████████████████████████████████████████████████████████████████████████████████▋     | 953/1000 [02:18<00:06,  6.92it/s]"
     ]
    },
    {
     "name": "stderr",
     "output_type": "stream",
     "text": [
      "\r",
      " 95%|██████████████████████████████████████████████████████████████████████████████████████████████████████████▊     | 954/1000 [02:18<00:06,  6.92it/s]"
     ]
    },
    {
     "name": "stderr",
     "output_type": "stream",
     "text": [
      "\r",
      " 96%|██████████████████████████████████████████████████████████████████████████████████████████████████████████▉     | 955/1000 [02:18<00:06,  6.91it/s]"
     ]
    },
    {
     "name": "stderr",
     "output_type": "stream",
     "text": [
      "\r",
      " 96%|███████████████████████████████████████████████████████████████████████████████████████████████████████████     | 956/1000 [02:19<00:06,  6.91it/s]"
     ]
    },
    {
     "name": "stderr",
     "output_type": "stream",
     "text": [
      "\r",
      " 96%|███████████████████████████████████████████████████████████████████████████████████████████████████████████▏    | 957/1000 [02:19<00:06,  6.91it/s]"
     ]
    },
    {
     "name": "stderr",
     "output_type": "stream",
     "text": [
      "\r",
      " 96%|███████████████████████████████████████████████████████████████████████████████████████████████████████████▎    | 958/1000 [02:19<00:06,  6.89it/s]"
     ]
    },
    {
     "name": "stderr",
     "output_type": "stream",
     "text": [
      "\r",
      " 96%|███████████████████████████████████████████████████████████████████████████████████████████████████████████▍    | 959/1000 [02:19<00:05,  6.90it/s]"
     ]
    },
    {
     "name": "stderr",
     "output_type": "stream",
     "text": [
      "\r",
      " 96%|███████████████████████████████████████████████████████████████████████████████████████████████████████████▌    | 960/1000 [02:19<00:05,  6.91it/s]"
     ]
    },
    {
     "name": "stderr",
     "output_type": "stream",
     "text": [
      "\r",
      " 96%|███████████████████████████████████████████████████████████████████████████████████████████████████████████▋    | 961/1000 [02:19<00:05,  6.91it/s]"
     ]
    },
    {
     "name": "stderr",
     "output_type": "stream",
     "text": [
      "\r",
      " 96%|███████████████████████████████████████████████████████████████████████████████████████████████████████████▋    | 962/1000 [02:19<00:05,  6.92it/s]"
     ]
    },
    {
     "name": "stderr",
     "output_type": "stream",
     "text": [
      "\r",
      " 96%|███████████████████████████████████████████████████████████████████████████████████████████████████████████▊    | 963/1000 [02:20<00:05,  6.92it/s]"
     ]
    },
    {
     "name": "stderr",
     "output_type": "stream",
     "text": [
      "\r",
      " 96%|███████████████████████████████████████████████████████████████████████████████████████████████████████████▉    | 964/1000 [02:20<00:05,  6.92it/s]"
     ]
    },
    {
     "name": "stderr",
     "output_type": "stream",
     "text": [
      "\r",
      " 96%|████████████████████████████████████████████████████████████████████████████████████████████████████████████    | 965/1000 [02:20<00:05,  6.92it/s]"
     ]
    },
    {
     "name": "stderr",
     "output_type": "stream",
     "text": [
      "\r",
      " 97%|████████████████████████████████████████████████████████████████████████████████████████████████████████████▏   | 966/1000 [02:20<00:04,  6.92it/s]"
     ]
    },
    {
     "name": "stderr",
     "output_type": "stream",
     "text": [
      "\r",
      " 97%|████████████████████████████████████████████████████████████████████████████████████████████████████████████▎   | 967/1000 [02:20<00:04,  6.92it/s]"
     ]
    },
    {
     "name": "stderr",
     "output_type": "stream",
     "text": [
      "\r",
      " 97%|████████████████████████████████████████████████████████████████████████████████████████████████████████████▍   | 968/1000 [02:20<00:04,  6.91it/s]"
     ]
    },
    {
     "name": "stderr",
     "output_type": "stream",
     "text": [
      "\r",
      " 97%|████████████████████████████████████████████████████████████████████████████████████████████████████████████▌   | 969/1000 [02:20<00:04,  6.92it/s]"
     ]
    },
    {
     "name": "stderr",
     "output_type": "stream",
     "text": [
      "\r",
      " 97%|████████████████████████████████████████████████████████████████████████████████████████████████████████████▋   | 970/1000 [02:21<00:04,  6.91it/s]"
     ]
    },
    {
     "name": "stderr",
     "output_type": "stream",
     "text": [
      "\r",
      " 97%|████████████████████████████████████████████████████████████████████████████████████████████████████████████▊   | 971/1000 [02:21<00:04,  6.92it/s]"
     ]
    },
    {
     "name": "stderr",
     "output_type": "stream",
     "text": [
      "\r",
      " 97%|████████████████████████████████████████████████████████████████████████████████████████████████████████████▊   | 972/1000 [02:21<00:04,  6.92it/s]"
     ]
    },
    {
     "name": "stderr",
     "output_type": "stream",
     "text": [
      "\r",
      " 97%|████████████████████████████████████████████████████████████████████████████████████████████████████████████▉   | 973/1000 [02:21<00:03,  6.92it/s]"
     ]
    },
    {
     "name": "stderr",
     "output_type": "stream",
     "text": [
      "\r",
      " 97%|█████████████████████████████████████████████████████████████████████████████████████████████████████████████   | 974/1000 [02:21<00:03,  6.83it/s]"
     ]
    },
    {
     "name": "stderr",
     "output_type": "stream",
     "text": [
      "\r",
      " 98%|█████████████████████████████████████████████████████████████████████████████████████████████████████████████▏  | 975/1000 [02:21<00:03,  6.86it/s]"
     ]
    },
    {
     "name": "stderr",
     "output_type": "stream",
     "text": [
      "\r",
      " 98%|█████████████████████████████████████████████████████████████████████████████████████████████████████████████▎  | 976/1000 [02:21<00:03,  6.88it/s]"
     ]
    },
    {
     "name": "stderr",
     "output_type": "stream",
     "text": [
      "\r",
      " 98%|█████████████████████████████████████████████████████████████████████████████████████████████████████████████▍  | 977/1000 [02:22<00:03,  6.89it/s]"
     ]
    },
    {
     "name": "stderr",
     "output_type": "stream",
     "text": [
      "\r",
      " 98%|█████████████████████████████████████████████████████████████████████████████████████████████████████████████▌  | 978/1000 [02:22<00:03,  6.89it/s]"
     ]
    },
    {
     "name": "stderr",
     "output_type": "stream",
     "text": [
      "\r",
      " 98%|█████████████████████████████████████████████████████████████████████████████████████████████████████████████▋  | 979/1000 [02:22<00:03,  6.90it/s]"
     ]
    },
    {
     "name": "stderr",
     "output_type": "stream",
     "text": [
      "\r",
      " 98%|█████████████████████████████████████████████████████████████████████████████████████████████████████████████▊  | 980/1000 [02:22<00:02,  6.90it/s]"
     ]
    },
    {
     "name": "stderr",
     "output_type": "stream",
     "text": [
      "\r",
      " 98%|█████████████████████████████████████████████████████████████████████████████████████████████████████████████▊  | 981/1000 [02:22<00:02,  6.90it/s]"
     ]
    },
    {
     "name": "stderr",
     "output_type": "stream",
     "text": [
      "\r",
      " 98%|█████████████████████████████████████████████████████████████████████████████████████████████████████████████▉  | 982/1000 [02:22<00:02,  6.89it/s]"
     ]
    },
    {
     "name": "stderr",
     "output_type": "stream",
     "text": [
      "\r",
      " 98%|██████████████████████████████████████████████████████████████████████████████████████████████████████████████  | 983/1000 [02:22<00:02,  6.89it/s]"
     ]
    },
    {
     "name": "stderr",
     "output_type": "stream",
     "text": [
      "\r",
      " 98%|██████████████████████████████████████████████████████████████████████████████████████████████████████████████▏ | 984/1000 [02:23<00:02,  6.90it/s]"
     ]
    },
    {
     "name": "stderr",
     "output_type": "stream",
     "text": [
      "\r",
      " 98%|██████████████████████████████████████████████████████████████████████████████████████████████████████████████▎ | 985/1000 [02:23<00:02,  6.90it/s]"
     ]
    },
    {
     "name": "stderr",
     "output_type": "stream",
     "text": [
      "\r",
      " 99%|██████████████████████████████████████████████████████████████████████████████████████████████████████████████▍ | 986/1000 [02:23<00:02,  6.89it/s]"
     ]
    },
    {
     "name": "stderr",
     "output_type": "stream",
     "text": [
      "\r",
      " 99%|██████████████████████████████████████████████████████████████████████████████████████████████████████████████▌ | 987/1000 [02:23<00:01,  6.90it/s]"
     ]
    },
    {
     "name": "stderr",
     "output_type": "stream",
     "text": [
      "\r",
      " 99%|██████████████████████████████████████████████████████████████████████████████████████████████████████████████▋ | 988/1000 [02:23<00:01,  6.90it/s]"
     ]
    },
    {
     "name": "stderr",
     "output_type": "stream",
     "text": [
      "\r",
      " 99%|██████████████████████████████████████████████████████████████████████████████████████████████████████████████▊ | 989/1000 [02:23<00:01,  6.90it/s]"
     ]
    },
    {
     "name": "stderr",
     "output_type": "stream",
     "text": [
      "\r",
      " 99%|██████████████████████████████████████████████████████████████████████████████████████████████████████████████▉ | 990/1000 [02:23<00:01,  6.89it/s]"
     ]
    },
    {
     "name": "stderr",
     "output_type": "stream",
     "text": [
      "\r",
      " 99%|██████████████████████████████████████████████████████████████████████████████████████████████████████████████▉ | 991/1000 [02:24<00:01,  6.90it/s]"
     ]
    },
    {
     "name": "stderr",
     "output_type": "stream",
     "text": [
      "\r",
      " 99%|███████████████████████████████████████████████████████████████████████████████████████████████████████████████ | 992/1000 [02:24<00:01,  6.90it/s]"
     ]
    },
    {
     "name": "stderr",
     "output_type": "stream",
     "text": [
      "\r",
      " 99%|███████████████████████████████████████████████████████████████████████████████████████████████████████████████▏| 993/1000 [02:24<00:01,  6.90it/s]"
     ]
    },
    {
     "name": "stderr",
     "output_type": "stream",
     "text": [
      "\r",
      " 99%|███████████████████████████████████████████████████████████████████████████████████████████████████████████████▎| 994/1000 [02:24<00:00,  6.90it/s]"
     ]
    },
    {
     "name": "stderr",
     "output_type": "stream",
     "text": [
      "\r",
      "100%|███████████████████████████████████████████████████████████████████████████████████████████████████████████████▍| 995/1000 [02:24<00:00,  6.90it/s]"
     ]
    },
    {
     "name": "stderr",
     "output_type": "stream",
     "text": [
      "\r",
      "100%|███████████████████████████████████████████████████████████████████████████████████████████████████████████████▌| 996/1000 [02:24<00:00,  6.90it/s]"
     ]
    },
    {
     "name": "stderr",
     "output_type": "stream",
     "text": [
      "\r",
      "100%|███████████████████████████████████████████████████████████████████████████████████████████████████████████████▋| 997/1000 [02:24<00:00,  6.90it/s]"
     ]
    },
    {
     "name": "stderr",
     "output_type": "stream",
     "text": [
      "\r",
      "100%|███████████████████████████████████████████████████████████████████████████████████████████████████████████████▊| 998/1000 [02:25<00:00,  6.91it/s]"
     ]
    },
    {
     "name": "stderr",
     "output_type": "stream",
     "text": [
      "\r",
      "100%|███████████████████████████████████████████████████████████████████████████████████████████████████████████████▉| 999/1000 [02:25<00:00,  6.91it/s]"
     ]
    },
    {
     "name": "stderr",
     "output_type": "stream",
     "text": [
      "\r",
      "100%|███████████████████████████████████████████████████████████████████████████████████████████████████████████████| 1000/1000 [02:25<00:00,  6.91it/s]"
     ]
    },
    {
     "name": "stderr",
     "output_type": "stream",
     "text": [
      "\r",
      "100%|███████████████████████████████████████████████████████████████████████████████████████████████████████████████| 1000/1000 [02:25<00:00,  6.88it/s]"
     ]
    },
    {
     "name": "stderr",
     "output_type": "stream",
     "text": [
      "\n"
     ]
    }
   ],
   "source": [
    "# do 1000 trials of sampling from each PCA component distribution\n",
    "# from the distribution of each PCA component, randomly sample 1000 points and calculate the mahalanobis distance\n",
    "\n",
    "# set the output mean Mahalanobis distance lists per genotype\n",
    "mean_high_severity_sampled_mahalanobis_distances_from_trials = []\n",
    "mean_low_severity_sampled_mahalanobis_distances_from_trials = []\n",
    "mean_wt_sampled_mahalanobis_distances_from_trials = []\n",
    "\n",
    "# sample 1000 points from the distribution of each PCA component\n",
    "num_pca_components = high_severity_pca_component_distribution_std.shape[0]\n",
    "num_samples = 100\n",
    "num_trials = 1000\n",
    "\n",
    "for trial in tqdm.tqdm(range(num_trials)):\n",
    "    high_severity_sampled_points = pd.DataFrame()\n",
    "    low_severity_sampled_points = pd.DataFrame()\n",
    "    wt_sampled_points = pd.DataFrame()\n",
    "\n",
    "    for i in range(num_pca_components):\n",
    "        high_severity_sampled_points[f\"PC{i+1}\"] = np.random.normal(\n",
    "            loc=high_severity_pca_component_distribution_mean[i],\n",
    "            scale=high_severity_pca_component_distribution_std[i],\n",
    "            size=num_samples,\n",
    "        )\n",
    "        low_severity_sampled_points[f\"PC{i+1}\"] = np.random.normal(\n",
    "            loc=low_severity_pca_component_distribution_mean[i],\n",
    "            scale=low_severity_pca_component_distribution_std[i],\n",
    "            size=num_samples,\n",
    "        )\n",
    "        wt_sampled_points[f\"PC{i+1}\"] = np.random.normal(\n",
    "            loc=wt_pca_component_distribution_mean[i],\n",
    "            scale=wt_pca_component_distribution_std[i],\n",
    "            size=num_samples,\n",
    "        )\n",
    "\n",
    "    inv_cov_matrix = np.linalg.inv(\n",
    "        np.cov(high_severity_sampled_points.to_numpy(), rowvar=False)\n",
    "    )\n",
    "    # calculate the mahalanobis distance for each point within each genotype\n",
    "    high_severity_sampled_mahalanobis_distances = []\n",
    "    # calculate the mahalanobis distance for each point combination\n",
    "    for point in itertools.combinations(high_severity_sampled_points.to_numpy(), 2):\n",
    "        distance = mahalanobis(point[0], point[1], inv_cov_matrix)\n",
    "        if np.isnan(distance):  # Check for NaN values\n",
    "            continue\n",
    "        high_severity_sampled_mahalanobis_distances.append(distance)\n",
    "\n",
    "    mean_high_severity_sampled_mahalanobis_distance = np.mean(\n",
    "        high_severity_sampled_mahalanobis_distances\n",
    "    )\n",
    "\n",
    "    inv_cov_matrix = np.linalg.inv(\n",
    "        np.cov(low_severity_sampled_points.to_numpy(), rowvar=False)\n",
    "    )\n",
    "    # calculate the mahalanobis distance for each point within each genotype\n",
    "    low_severity_sampled_mahalanobis_distances = []\n",
    "    # calculate the mahalanobis distance for each point combination\n",
    "    for point in itertools.combinations(low_severity_sampled_points.to_numpy(), 2):\n",
    "        distance = mahalanobis(point[0], point[1], inv_cov_matrix)\n",
    "        if np.isnan(distance):  # Check for NaN values\n",
    "            continue\n",
    "        low_severity_sampled_mahalanobis_distances.append(distance)\n",
    "\n",
    "    mean_low_severity_sampled_mahalanobis_distance = np.mean(\n",
    "        low_severity_sampled_mahalanobis_distances\n",
    "    )\n",
    "\n",
    "    inv_cov_matrix = np.linalg.inv(np.cov(wt_sampled_points.to_numpy(), rowvar=False))\n",
    "    # calculate the mahalanobis distance for each point within each genotype\n",
    "    wt_sampled_mahalanobis_distances = []\n",
    "    # calculate the mahalanobis distance for each point combination\n",
    "    for point in itertools.combinations(wt_sampled_points.to_numpy(), 2):\n",
    "        distance = mahalanobis(point[0], point[1], inv_cov_matrix)\n",
    "        if np.isnan(distance):  # Check for NaN values\n",
    "            continue\n",
    "        wt_sampled_mahalanobis_distances.append(distance)\n",
    "\n",
    "    mean_wt_sampled_mahalanobis_distance = np.mean(wt_sampled_mahalanobis_distances)\n",
    "\n",
    "    # append the average mahalanobis distance from the trial to the list for the trial per genotype\n",
    "    mean_high_severity_sampled_mahalanobis_distances_from_trials.append(\n",
    "        mean_high_severity_sampled_mahalanobis_distance\n",
    "    )\n",
    "    mean_low_severity_sampled_mahalanobis_distances_from_trials.append(\n",
    "        mean_low_severity_sampled_mahalanobis_distance\n",
    "    )\n",
    "    mean_wt_sampled_mahalanobis_distances_from_trials.append(\n",
    "        mean_wt_sampled_mahalanobis_distance\n",
    "    )"
   ]
  },
  {
   "cell_type": "code",
   "execution_count": 10,
   "id": "a0661e87",
   "metadata": {
    "execution": {
     "iopub.execute_input": "2024-05-09T15:02:36.870285Z",
     "iopub.status.busy": "2024-05-09T15:02:36.869973Z",
     "iopub.status.idle": "2024-05-09T15:02:36.872653Z",
     "shell.execute_reply": "2024-05-09T15:02:36.872366Z"
    },
    "papermill": {
     "duration": 0.030708,
     "end_time": "2024-05-09T15:02:36.873368",
     "exception": false,
     "start_time": "2024-05-09T15:02:36.842660",
     "status": "completed"
    },
    "tags": []
   },
   "outputs": [
    {
     "name": "stdout",
     "output_type": "stream",
     "text": [
      "The high Mahalonobis distance for 1000 trials is: 9.0\n",
      "The low Mahalonobis distance for 1000 trials is: 9.0\n",
      "The wt Mahalonobis distance for 1000 trials is: 9.0\n"
     ]
    }
   ],
   "source": [
    "print(\n",
    "    f\"The high Mahalonobis distance for {num_trials} trials is: {round(np.mean(mean_high_severity_sampled_mahalanobis_distances_from_trials),0)}\"\n",
    ")\n",
    "print(\n",
    "    f\"The low Mahalonobis distance for {num_trials} trials is: {round(np.mean(mean_low_severity_sampled_mahalanobis_distances_from_trials),0)}\"\n",
    ")\n",
    "print(\n",
    "    f\"The wt Mahalonobis distance for {num_trials} trials is: {round(np.mean(mean_wt_sampled_mahalanobis_distances_from_trials),0)}\"\n",
    ")"
   ]
  },
  {
   "cell_type": "markdown",
   "id": "815b425c",
   "metadata": {
    "papermill": {
     "duration": 0.026798,
     "end_time": "2024-05-09T15:02:36.926907",
     "exception": false,
     "start_time": "2024-05-09T15:02:36.900109",
     "status": "completed"
    },
    "tags": []
   },
   "source": [
    "### Show the mahalanobis distance for each genotype"
   ]
  },
  {
   "cell_type": "code",
   "execution_count": 11,
   "id": "85c30be8",
   "metadata": {
    "execution": {
     "iopub.execute_input": "2024-05-09T15:02:36.981637Z",
     "iopub.status.busy": "2024-05-09T15:02:36.981291Z",
     "iopub.status.idle": "2024-05-09T15:02:36.983825Z",
     "shell.execute_reply": "2024-05-09T15:02:36.983502Z"
    },
    "papermill": {
     "duration": 0.030324,
     "end_time": "2024-05-09T15:02:36.984523",
     "exception": false,
     "start_time": "2024-05-09T15:02:36.954199",
     "status": "completed"
    },
    "tags": []
   },
   "outputs": [
    {
     "name": "stdout",
     "output_type": "stream",
     "text": [
      "Mahalanobis distance for High-Severity:  7.874466036404469\n",
      "Mahalanobis distance for Low-Severity:  6.549257169182537\n",
      "Mahalanobis distance for Wild Type:  10.91040663213425\n"
     ]
    }
   ],
   "source": [
    "print(\n",
    "    \"Mahalanobis distance for High-Severity: \", mean_high_severity_mahalanobis_distance\n",
    ")\n",
    "print(\"Mahalanobis distance for Low-Severity: \", mean_low_severity_mahalanobis_distance)\n",
    "print(\"Mahalanobis distance for Wild Type: \", mean_wt_mahalanobis_distance)"
   ]
  },
  {
   "cell_type": "code",
   "execution_count": 12,
   "id": "a8f8881e",
   "metadata": {
    "execution": {
     "iopub.execute_input": "2024-05-09T15:02:37.043345Z",
     "iopub.status.busy": "2024-05-09T15:02:37.042966Z",
     "iopub.status.idle": "2024-05-09T15:02:37.047821Z",
     "shell.execute_reply": "2024-05-09T15:02:37.047417Z"
    },
    "papermill": {
     "duration": 0.034765,
     "end_time": "2024-05-09T15:02:37.048629",
     "exception": false,
     "start_time": "2024-05-09T15:02:37.013864",
     "status": "completed"
    },
    "tags": []
   },
   "outputs": [
    {
     "name": "stdout",
     "output_type": "stream",
     "text": [
      "The p-value for the difference between the Mahalanobis distance of the sampled points and the actual points for the High-Severity genotype is 1.130564071748539e-35\n",
      "The p-value for the difference between the Mahalanobis distance of the sampled points and the actual points for the Low-Severity genotype is 1.5267848103181883e-109\n",
      "The p-value for the difference between the Mahalanobis distance of the sampled points and the actual points for the Wild Type genotype is 2.1839772762835533e-28\n"
     ]
    }
   ],
   "source": [
    "# hypothesis testing the difference between the Mahalanobis distance of the sampled points and the actual points\n",
    "# calculate the p-value for the difference between the Mahalanobis distance of the sampled points and the actual points\n",
    "\n",
    "high_severity_p_value = ttest_ind(\n",
    "    high_severity_mahalanobis_distances,\n",
    "    mean_high_severity_sampled_mahalanobis_distances_from_trials,\n",
    ").pvalue\n",
    "low_severity_p_value = ttest_ind(\n",
    "    low_severity_mahalanobis_distances,\n",
    "    mean_low_severity_sampled_mahalanobis_distances_from_trials,\n",
    ").pvalue\n",
    "wt_p_value = ttest_ind(\n",
    "    wt_mahalanobis_distances, mean_wt_sampled_mahalanobis_distances_from_trials\n",
    ").pvalue\n",
    "\n",
    "print(\n",
    "    f\"The p-value for the difference between the Mahalanobis distance of the sampled points and the actual points for the High-Severity genotype is {high_severity_p_value}\"\n",
    ")\n",
    "print(\n",
    "    f\"The p-value for the difference between the Mahalanobis distance of the sampled points and the actual points for the Low-Severity genotype is {low_severity_p_value}\"\n",
    ")\n",
    "print(\n",
    "    f\"The p-value for the difference between the Mahalanobis distance of the sampled points and the actual points for the Wild Type genotype is {wt_p_value}\"\n",
    ")"
   ]
  },
  {
   "cell_type": "markdown",
   "id": "5780a6d7",
   "metadata": {
    "papermill": {
     "duration": 0.026526,
     "end_time": "2024-05-09T15:02:37.103060",
     "exception": false,
     "start_time": "2024-05-09T15:02:37.076534",
     "status": "completed"
    },
    "tags": []
   },
   "source": [
    "### write the Mahanobis distance stats to a file"
   ]
  },
  {
   "cell_type": "code",
   "execution_count": 13,
   "id": "b48e845c",
   "metadata": {
    "execution": {
     "iopub.execute_input": "2024-05-09T15:02:37.157499Z",
     "iopub.status.busy": "2024-05-09T15:02:37.157276Z",
     "iopub.status.idle": "2024-05-09T15:02:37.164038Z",
     "shell.execute_reply": "2024-05-09T15:02:37.163691Z"
    },
    "papermill": {
     "duration": 0.034727,
     "end_time": "2024-05-09T15:02:37.164706",
     "exception": false,
     "start_time": "2024-05-09T15:02:37.129979",
     "status": "completed"
    },
    "tags": []
   },
   "outputs": [
    {
     "data": {
      "text/html": [
       "<div>\n",
       "<style scoped>\n",
       "    .dataframe tbody tr th:only-of-type {\n",
       "        vertical-align: middle;\n",
       "    }\n",
       "\n",
       "    .dataframe tbody tr th {\n",
       "        vertical-align: top;\n",
       "    }\n",
       "\n",
       "    .dataframe thead th {\n",
       "        text-align: right;\n",
       "    }\n",
       "</style>\n",
       "<table border=\"1\" class=\"dataframe\">\n",
       "  <thead>\n",
       "    <tr style=\"text-align: right;\">\n",
       "      <th></th>\n",
       "      <th>Genotype</th>\n",
       "      <th>Actual Mahalanobis Distance</th>\n",
       "      <th>Sampled Mahalanobis Distance</th>\n",
       "      <th>P-Value</th>\n",
       "    </tr>\n",
       "  </thead>\n",
       "  <tbody>\n",
       "    <tr>\n",
       "      <th>0</th>\n",
       "      <td>High-Severity</td>\n",
       "      <td>7.874466</td>\n",
       "      <td>9.133651</td>\n",
       "      <td>1.130564e-35</td>\n",
       "    </tr>\n",
       "    <tr>\n",
       "      <th>1</th>\n",
       "      <td>Low-Severity</td>\n",
       "      <td>6.549257</td>\n",
       "      <td>9.133804</td>\n",
       "      <td>1.526785e-109</td>\n",
       "    </tr>\n",
       "    <tr>\n",
       "      <th>2</th>\n",
       "      <td>Wild Type</td>\n",
       "      <td>10.910407</td>\n",
       "      <td>9.133790</td>\n",
       "      <td>2.183977e-28</td>\n",
       "    </tr>\n",
       "  </tbody>\n",
       "</table>\n",
       "</div>"
      ],
      "text/plain": [
       "        Genotype  Actual Mahalanobis Distance  Sampled Mahalanobis Distance  \\\n",
       "0  High-Severity                     7.874466                      9.133651   \n",
       "1   Low-Severity                     6.549257                      9.133804   \n",
       "2      Wild Type                    10.910407                      9.133790   \n",
       "\n",
       "         P-Value  \n",
       "0   1.130564e-35  \n",
       "1  1.526785e-109  \n",
       "2   2.183977e-28  "
      ]
     },
     "execution_count": 13,
     "metadata": {},
     "output_type": "execute_result"
    }
   ],
   "source": [
    "# set the output dir\n",
    "mahalanobis_output_dir = pathlib.Path(\n",
    "    \"../results/custom_aggregation_results/\"\n",
    ").resolve()\n",
    "# make the dir if it does not exist\n",
    "mahalanobis_output_dir.mkdir(parents=True, exist_ok=True)\n",
    "\n",
    "# define the output file path\n",
    "mahalanobis_output_file_path = pathlib.Path(\n",
    "    mahalanobis_output_dir / \"custom_aggregation_mahalanobis_distance_results.csv\"\n",
    ").resolve()\n",
    "\n",
    "# compile the results into a df\n",
    "mahalanobis_results_df = pd.DataFrame(\n",
    "    {\n",
    "        \"Genotype\": [\"High-Severity\", \"Low-Severity\", \"Wild Type\"],\n",
    "        \"Actual Mahalanobis Distance\": [\n",
    "            mean_high_severity_mahalanobis_distance,\n",
    "            mean_low_severity_mahalanobis_distance,\n",
    "            mean_wt_mahalanobis_distance,\n",
    "        ],\n",
    "        \"Sampled Mahalanobis Distance\": [\n",
    "            np.mean(mean_high_severity_sampled_mahalanobis_distances_from_trials),\n",
    "            np.mean(mean_low_severity_sampled_mahalanobis_distances_from_trials),\n",
    "            np.mean(mean_wt_sampled_mahalanobis_distances_from_trials),\n",
    "        ],\n",
    "        \"P-Value\": [high_severity_p_value, low_severity_p_value, wt_p_value],\n",
    "    }\n",
    ")\n",
    "mahalanobis_results_df"
   ]
  },
  {
   "cell_type": "code",
   "execution_count": 14,
   "id": "5bd9b260",
   "metadata": {
    "execution": {
     "iopub.execute_input": "2024-05-09T15:02:37.218041Z",
     "iopub.status.busy": "2024-05-09T15:02:37.217820Z",
     "iopub.status.idle": "2024-05-09T15:02:37.221165Z",
     "shell.execute_reply": "2024-05-09T15:02:37.220787Z"
    },
    "papermill": {
     "duration": 0.030797,
     "end_time": "2024-05-09T15:02:37.221916",
     "exception": false,
     "start_time": "2024-05-09T15:02:37.191119",
     "status": "completed"
    },
    "tags": []
   },
   "outputs": [],
   "source": [
    "# output the results\n",
    "mahalanobis_results_df.to_csv(mahalanobis_output_file_path, index=False)"
   ]
  },
  {
   "cell_type": "code",
   "execution_count": 15,
   "id": "a84237a3",
   "metadata": {
    "execution": {
     "iopub.execute_input": "2024-05-09T15:02:37.276136Z",
     "iopub.status.busy": "2024-05-09T15:02:37.275854Z",
     "iopub.status.idle": "2024-05-09T15:02:37.514467Z",
     "shell.execute_reply": "2024-05-09T15:02:37.514102Z"
    },
    "papermill": {
     "duration": 0.267062,
     "end_time": "2024-05-09T15:02:37.515224",
     "exception": false,
     "start_time": "2024-05-09T15:02:37.248162",
     "status": "completed"
    },
    "tags": []
   },
   "outputs": [
    {
     "data": {
      "image/png": "[encoded data removed]",
      "text/plain": [
       "<Figure size 1000x500 with 2 Axes>"
      ]
     },
     "metadata": {},
     "output_type": "display_data"
    }
   ],
   "source": [
    "# Visualization of the last trial's sampled points\n",
    "\n",
    "# annotate the genotypes of the sampled points\n",
    "high_severity_sampled_points[\"Metadata_genotype\"] = \"High-Severity\"\n",
    "low_severity_sampled_points[\"Metadata_genotype\"] = \"Mid-Severity\"\n",
    "wt_sampled_points[\"Metadata_genotype\"] = \"Wild Type\"\n",
    "# concat the genotype sampled points\n",
    "sampled_points = pd.concat(\n",
    "    [wt_sampled_points, low_severity_sampled_points, high_severity_sampled_points]\n",
    ")\n",
    "\n",
    "# plot the first 2 PCA components from the actual data\n",
    "# set up subplots\n",
    "plt.figure(figsize=(10, 5))\n",
    "# subplot 1\n",
    "plt.subplot(1, 2, 1)\n",
    "sns.scatterplot(\n",
    "    x=\"PC1\",\n",
    "    y=\"PC2\",\n",
    "    data=sum_aggregated_data_pca,\n",
    "    hue=\"Metadata_genotype\",\n",
    "    alpha=0.5,\n",
    ")\n",
    "plt.title(\"Real PCA\")\n",
    "\n",
    "# plot the first 2 PCA components from the sampled data\n",
    "# subplot 2\n",
    "plt.subplot(1, 2, 2)\n",
    "sns.scatterplot(\n",
    "    x=\"PC1\",\n",
    "    y=\"PC2\",\n",
    "    data=sampled_points,\n",
    "    hue=\"Metadata_genotype\",\n",
    "    alpha=0.5,\n",
    ")\n",
    "plt.title(\"Sampled PCA\")\n",
    "plt.show()"
   ]
  }
 ],
 "metadata": {
  "kernelspec": {
   "display_name": "op_cell_processing_env",
   "language": "python",
   "name": "python3"
  },
  "language_info": {
   "codemirror_mode": {
    "name": "ipython",
    "version": 3
   },
   "file_extension": ".py",
   "mimetype": "text/x-python",
   "name": "python",
   "nbconvert_exporter": "python",
   "pygments_lexer": "ipython3",
   "version": "3.8.15"
  },
  "papermill": {
   "default_parameters": {},
   "duration": 147.960405,
   "end_time": "2024-05-09T15:02:37.757586",
   "environment_variables": {},
   "exception": null,
   "input_path": "8c.custom_aggregated_PCA_calculate_mahalanobis_distance.ipynb",
   "output_path": "8c.custom_aggregated_PCA_calculate_mahalanobis_distance.ipynb",
   "parameters": {},
   "start_time": "2024-05-09T15:00:09.797181",
   "version": "2.6.0"
  }
 },
 "nbformat": 4,
 "nbformat_minor": 5
}