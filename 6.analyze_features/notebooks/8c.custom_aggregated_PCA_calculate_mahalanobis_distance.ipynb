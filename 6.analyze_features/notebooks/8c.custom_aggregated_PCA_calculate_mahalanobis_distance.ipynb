{
 "cells": [
  {
   "cell_type": "markdown",
   "id": "ab9209a8",
   "metadata": {
    "papermill": {
     "duration": 0.002831,
     "end_time": "2024-05-10T20:18:19.705965",
     "exception": false,
     "start_time": "2024-05-10T20:18:19.703134",
     "status": "completed"
    },
    "tags": []
   },
   "source": [
    "This notebook calculates the Mahalanobis distance between points on a pca. \n",
    "I will document more about what Mahalanobis distance is and how it is calculated in this notebook."
   ]
  },
  {
   "cell_type": "code",
   "execution_count": 1,
   "id": "fb0c127b",
   "metadata": {
    "execution": {
     "iopub.execute_input": "2024-05-10T20:18:19.711424Z",
     "iopub.status.busy": "2024-05-10T20:18:19.711247Z",
     "iopub.status.idle": "2024-05-10T20:18:20.210123Z",
     "shell.execute_reply": "2024-05-10T20:18:20.209746Z"
    },
    "papermill": {
     "duration": 0.503186,
     "end_time": "2024-05-10T20:18:20.211311",
     "exception": false,
     "start_time": "2024-05-10T20:18:19.708125",
     "status": "completed"
    },
    "tags": []
   },
   "outputs": [],
   "source": [
    "import itertools\n",
    "import pathlib\n",
    "\n",
    "import matplotlib.pyplot as plt\n",
    "import numpy as np\n",
    "import pandas as pd\n",
    "import seaborn as sns\n",
    "import tqdm\n",
    "from scipy.spatial.distance import mahalanobis\n",
    "from scipy.stats import f_oneway as anova\n",
    "from scipy.stats import ttest_ind\n",
    "from statsmodels.stats.multicomp import pairwise_tukeyhsd"
   ]
  },
  {
   "cell_type": "code",
   "execution_count": 2,
   "id": "3aaae5dd",
   "metadata": {
    "execution": {
     "iopub.execute_input": "2024-05-10T20:18:20.216347Z",
     "iopub.status.busy": "2024-05-10T20:18:20.216163Z",
     "iopub.status.idle": "2024-05-10T20:18:20.239249Z",
     "shell.execute_reply": "2024-05-10T20:18:20.238814Z"
    },
    "papermill": {
     "duration": 0.026658,
     "end_time": "2024-05-10T20:18:20.240196",
     "exception": false,
     "start_time": "2024-05-10T20:18:20.213538",
     "status": "completed"
    },
    "tags": []
   },
   "outputs": [
    {
     "name": "stdout",
     "output_type": "stream",
     "text": [
      "(42, 44)\n"
     ]
    },
    {
     "data": {
      "text/html": [
       "<div>\n",
       "<style scoped>\n",
       "    .dataframe tbody tr th:only-of-type {\n",
       "        vertical-align: middle;\n",
       "    }\n",
       "\n",
       "    .dataframe tbody tr th {\n",
       "        vertical-align: top;\n",
       "    }\n",
       "\n",
       "    .dataframe thead th {\n",
       "        text-align: right;\n",
       "    }\n",
       "</style>\n",
       "<table border=\"1\" class=\"dataframe\">\n",
       "  <thead>\n",
       "    <tr style=\"text-align: right;\">\n",
       "      <th></th>\n",
       "      <th>Metadata_genotype</th>\n",
       "      <th>Metadata_replicate</th>\n",
       "      <th>PC1</th>\n",
       "      <th>PC2</th>\n",
       "      <th>PC3</th>\n",
       "      <th>PC4</th>\n",
       "      <th>PC5</th>\n",
       "      <th>PC6</th>\n",
       "      <th>PC7</th>\n",
       "      <th>PC8</th>\n",
       "      <th>...</th>\n",
       "      <th>PC33</th>\n",
       "      <th>PC34</th>\n",
       "      <th>PC35</th>\n",
       "      <th>PC36</th>\n",
       "      <th>PC37</th>\n",
       "      <th>PC38</th>\n",
       "      <th>PC39</th>\n",
       "      <th>PC40</th>\n",
       "      <th>PC41</th>\n",
       "      <th>PC42</th>\n",
       "    </tr>\n",
       "  </thead>\n",
       "  <tbody>\n",
       "    <tr>\n",
       "      <th>0</th>\n",
       "      <td>High-Severity</td>\n",
       "      <td>1</td>\n",
       "      <td>-3.551833</td>\n",
       "      <td>1.694277</td>\n",
       "      <td>-1.057982</td>\n",
       "      <td>2.024396</td>\n",
       "      <td>-1.992981</td>\n",
       "      <td>0.695951</td>\n",
       "      <td>-2.506637</td>\n",
       "      <td>2.653554</td>\n",
       "      <td>...</td>\n",
       "      <td>-0.711233</td>\n",
       "      <td>-0.716861</td>\n",
       "      <td>2.068996</td>\n",
       "      <td>0.040072</td>\n",
       "      <td>0.386843</td>\n",
       "      <td>-0.791818</td>\n",
       "      <td>-0.132255</td>\n",
       "      <td>-0.097829</td>\n",
       "      <td>0.111679</td>\n",
       "      <td>-3.330669e-16</td>\n",
       "    </tr>\n",
       "    <tr>\n",
       "      <th>1</th>\n",
       "      <td>High-Severity</td>\n",
       "      <td>10</td>\n",
       "      <td>1.827234</td>\n",
       "      <td>9.854972</td>\n",
       "      <td>-3.656266</td>\n",
       "      <td>0.545399</td>\n",
       "      <td>0.556947</td>\n",
       "      <td>-3.294476</td>\n",
       "      <td>2.113450</td>\n",
       "      <td>-3.151756</td>\n",
       "      <td>...</td>\n",
       "      <td>-1.304867</td>\n",
       "      <td>-0.065046</td>\n",
       "      <td>0.669520</td>\n",
       "      <td>1.349892</td>\n",
       "      <td>0.039934</td>\n",
       "      <td>0.822436</td>\n",
       "      <td>-0.111957</td>\n",
       "      <td>0.414218</td>\n",
       "      <td>-0.206628</td>\n",
       "      <td>3.885781e-16</td>\n",
       "    </tr>\n",
       "    <tr>\n",
       "      <th>2</th>\n",
       "      <td>High-Severity</td>\n",
       "      <td>11</td>\n",
       "      <td>1.158860</td>\n",
       "      <td>11.349311</td>\n",
       "      <td>-1.585346</td>\n",
       "      <td>1.226329</td>\n",
       "      <td>-0.066575</td>\n",
       "      <td>0.671744</td>\n",
       "      <td>-2.975858</td>\n",
       "      <td>0.621060</td>\n",
       "      <td>...</td>\n",
       "      <td>0.368013</td>\n",
       "      <td>0.326056</td>\n",
       "      <td>-0.263525</td>\n",
       "      <td>-0.587959</td>\n",
       "      <td>0.027409</td>\n",
       "      <td>0.277153</td>\n",
       "      <td>-0.034362</td>\n",
       "      <td>-0.509301</td>\n",
       "      <td>-0.008851</td>\n",
       "      <td>0.000000e+00</td>\n",
       "    </tr>\n",
       "    <tr>\n",
       "      <th>3</th>\n",
       "      <td>High-Severity</td>\n",
       "      <td>12</td>\n",
       "      <td>-0.828966</td>\n",
       "      <td>7.901018</td>\n",
       "      <td>-3.988059</td>\n",
       "      <td>0.299961</td>\n",
       "      <td>1.412112</td>\n",
       "      <td>-3.638621</td>\n",
       "      <td>1.544118</td>\n",
       "      <td>0.413128</td>\n",
       "      <td>...</td>\n",
       "      <td>-0.420249</td>\n",
       "      <td>-1.959935</td>\n",
       "      <td>-0.644047</td>\n",
       "      <td>-1.414765</td>\n",
       "      <td>-0.877326</td>\n",
       "      <td>0.228329</td>\n",
       "      <td>0.235810</td>\n",
       "      <td>-1.171712</td>\n",
       "      <td>-0.368368</td>\n",
       "      <td>8.881784e-16</td>\n",
       "    </tr>\n",
       "    <tr>\n",
       "      <th>4</th>\n",
       "      <td>High-Severity</td>\n",
       "      <td>13</td>\n",
       "      <td>-1.699153</td>\n",
       "      <td>6.732809</td>\n",
       "      <td>-4.781742</td>\n",
       "      <td>-1.817189</td>\n",
       "      <td>2.407081</td>\n",
       "      <td>-4.115382</td>\n",
       "      <td>-0.429398</td>\n",
       "      <td>3.768067</td>\n",
       "      <td>...</td>\n",
       "      <td>-0.516264</td>\n",
       "      <td>0.301774</td>\n",
       "      <td>-0.060486</td>\n",
       "      <td>1.099896</td>\n",
       "      <td>1.179970</td>\n",
       "      <td>-0.913995</td>\n",
       "      <td>0.457430</td>\n",
       "      <td>0.465218</td>\n",
       "      <td>-0.151247</td>\n",
       "      <td>-4.996004e-16</td>\n",
       "    </tr>\n",
       "  </tbody>\n",
       "</table>\n",
       "<p>5 rows × 44 columns</p>\n",
       "</div>"
      ],
      "text/plain": [
       "  Metadata_genotype Metadata_replicate       PC1        PC2       PC3  \\\n",
       "0     High-Severity                  1 -3.551833   1.694277 -1.057982   \n",
       "1     High-Severity                 10  1.827234   9.854972 -3.656266   \n",
       "2     High-Severity                 11  1.158860  11.349311 -1.585346   \n",
       "3     High-Severity                 12 -0.828966   7.901018 -3.988059   \n",
       "4     High-Severity                 13 -1.699153   6.732809 -4.781742   \n",
       "\n",
       "        PC4       PC5       PC6       PC7       PC8  ...      PC33      PC34  \\\n",
       "0  2.024396 -1.992981  0.695951 -2.506637  2.653554  ... -0.711233 -0.716861   \n",
       "1  0.545399  0.556947 -3.294476  2.113450 -3.151756  ... -1.304867 -0.065046   \n",
       "2  1.226329 -0.066575  0.671744 -2.975858  0.621060  ...  0.368013  0.326056   \n",
       "3  0.299961  1.412112 -3.638621  1.544118  0.413128  ... -0.420249 -1.959935   \n",
       "4 -1.817189  2.407081 -4.115382 -0.429398  3.768067  ... -0.516264  0.301774   \n",
       "\n",
       "       PC35      PC36      PC37      PC38      PC39      PC40      PC41  \\\n",
       "0  2.068996  0.040072  0.386843 -0.791818 -0.132255 -0.097829  0.111679   \n",
       "1  0.669520  1.349892  0.039934  0.822436 -0.111957  0.414218 -0.206628   \n",
       "2 -0.263525 -0.587959  0.027409  0.277153 -0.034362 -0.509301 -0.008851   \n",
       "3 -0.644047 -1.414765 -0.877326  0.228329  0.235810 -1.171712 -0.368368   \n",
       "4 -0.060486  1.099896  1.179970 -0.913995  0.457430  0.465218 -0.151247   \n",
       "\n",
       "           PC42  \n",
       "0 -3.330669e-16  \n",
       "1  3.885781e-16  \n",
       "2  0.000000e+00  \n",
       "3  8.881784e-16  \n",
       "4 -4.996004e-16  \n",
       "\n",
       "[5 rows x 44 columns]"
      ]
     },
     "execution_count": 2,
     "metadata": {},
     "output_type": "execute_result"
    }
   ],
   "source": [
    "# set the path to the data\n",
    "custom_aggregated_data_pca_path = pathlib.Path(\n",
    "    \"../../data/6.analysis_results/custom_aggregated_pca.parquet\"\n",
    ").resolve(strict=True)\n",
    "\n",
    "# read the data\n",
    "custom_aggregated_data_pca = pd.read_parquet(custom_aggregated_data_pca_path)\n",
    "print(custom_aggregated_data_pca.shape)\n",
    "custom_aggregated_data_pca.head()"
   ]
  },
  {
   "cell_type": "markdown",
   "id": "259d51ba",
   "metadata": {
    "papermill": {
     "duration": 0.002154,
     "end_time": "2024-05-10T20:18:20.244892",
     "exception": false,
     "start_time": "2024-05-10T20:18:20.242738",
     "status": "completed"
    },
    "tags": []
   },
   "source": [
    "# Mahalanobis Distance\n",
    "For more in depth information on Mahalanobis distance, please refer to this [link](https://medium.com/@the_daft_introvert/mahalanobis-distance-5c11a757b099).\n",
    "Mahalanobis distance is a measure of the distance between a point P and a distribution D. \n",
    "It is a multi-dimensional generalization of the idea of measuring how many standard deviations away P is from the mean of D. \n",
    "This distance is zero if P is at the mean of D, and grows as P moves away from the mean along each principal component axis.\n",
    "The formula for Mahalanobis distance is given by:\n",
    "### $D^2 = (x - \\mu)^T \\Sigma^{-1} (x - \\mu)$\n",
    "where:\n",
    "- $D$ is the Mahalanobis distance"
   ]
  },
  {
   "cell_type": "markdown",
   "id": "6bfe16c2",
   "metadata": {
    "papermill": {
     "duration": 0.00218,
     "end_time": "2024-05-10T20:18:20.249270",
     "exception": false,
     "start_time": "2024-05-10T20:18:20.247090",
     "status": "completed"
    },
    "tags": []
   },
   "source": [
    "## Caluclating Mahalanobis Distance on PCA \n",
    "Here I calculate the Mahalanobis distance between the points on the first two principal components of the data for each of the three genotypes."
   ]
  },
  {
   "cell_type": "code",
   "execution_count": 3,
   "id": "41688044",
   "metadata": {
    "execution": {
     "iopub.execute_input": "2024-05-10T20:18:20.254524Z",
     "iopub.status.busy": "2024-05-10T20:18:20.254247Z",
     "iopub.status.idle": "2024-05-10T20:18:20.258593Z",
     "shell.execute_reply": "2024-05-10T20:18:20.258133Z"
    },
    "papermill": {
     "duration": 0.007877,
     "end_time": "2024-05-10T20:18:20.259251",
     "exception": false,
     "start_time": "2024-05-10T20:18:20.251374",
     "status": "completed"
    },
    "tags": []
   },
   "outputs": [
    {
     "name": "stdout",
     "output_type": "stream",
     "text": [
      "14 14 14\n"
     ]
    }
   ],
   "source": [
    "# split the genotypes\n",
    "high_severity = custom_aggregated_data_pca[\n",
    "    custom_aggregated_data_pca[\"Metadata_genotype\"] == \"High-Severity\"\n",
    "]\n",
    "low_severity = custom_aggregated_data_pca[\n",
    "    custom_aggregated_data_pca[\"Metadata_genotype\"] == \"Mid-Severity\"\n",
    "]\n",
    "wt = custom_aggregated_data_pca[\n",
    "    custom_aggregated_data_pca[\"Metadata_genotype\"] == \"Wild Type\"\n",
    "]\n",
    "print(len(high_severity), len(low_severity), len(wt))"
   ]
  },
  {
   "cell_type": "code",
   "execution_count": 4,
   "id": "5e1432a9",
   "metadata": {
    "execution": {
     "iopub.execute_input": "2024-05-10T20:18:20.264374Z",
     "iopub.status.busy": "2024-05-10T20:18:20.264028Z",
     "iopub.status.idle": "2024-05-10T20:18:20.267707Z",
     "shell.execute_reply": "2024-05-10T20:18:20.267361Z"
    },
    "papermill": {
     "duration": 0.007486,
     "end_time": "2024-05-10T20:18:20.268891",
     "exception": false,
     "start_time": "2024-05-10T20:18:20.261405",
     "status": "completed"
    },
    "tags": []
   },
   "outputs": [
    {
     "name": "stdout",
     "output_type": "stream",
     "text": [
      "(14, 42) (14, 42) (14, 42)\n"
     ]
    }
   ],
   "source": [
    "# drop the the Metadata columns\n",
    "high_severity = high_severity.drop(columns=[\"Metadata_genotype\", \"Metadata_replicate\"])\n",
    "low_severity = low_severity.drop(columns=[\"Metadata_genotype\", \"Metadata_replicate\"])\n",
    "wt = wt.drop(columns=[\"Metadata_genotype\", \"Metadata_replicate\"])\n",
    "# convert the df to coordinates\n",
    "high_severity_coords = high_severity.to_numpy()\n",
    "low_severity_coords = low_severity.to_numpy()\n",
    "wt_coords = wt.to_numpy()\n",
    "print(high_severity_coords.shape, low_severity_coords.shape, wt_coords.shape)"
   ]
  },
  {
   "cell_type": "markdown",
   "id": "ab7a6ea5",
   "metadata": {
    "papermill": {
     "duration": 0.002228,
     "end_time": "2024-05-10T20:18:20.274653",
     "exception": false,
     "start_time": "2024-05-10T20:18:20.272425",
     "status": "completed"
    },
    "tags": []
   },
   "source": [
    "#### High-Severity"
   ]
  },
  {
   "cell_type": "code",
   "execution_count": 5,
   "id": "992efa28",
   "metadata": {
    "execution": {
     "iopub.execute_input": "2024-05-10T20:18:20.280827Z",
     "iopub.status.busy": "2024-05-10T20:18:20.280334Z",
     "iopub.status.idle": "2024-05-10T20:18:20.287035Z",
     "shell.execute_reply": "2024-05-10T20:18:20.286534Z"
    },
    "papermill": {
     "duration": 0.011315,
     "end_time": "2024-05-10T20:18:20.288165",
     "exception": false,
     "start_time": "2024-05-10T20:18:20.276850",
     "status": "completed"
    },
    "tags": []
   },
   "outputs": [
    {
     "name": "stdout",
     "output_type": "stream",
     "text": [
      "The mean mahalanobis distance for the High-Severity genotype is 10.430999188235175\n"
     ]
    },
    {
     "name": "stderr",
     "output_type": "stream",
     "text": [
      "/home/lippincm/miniconda3/envs/op_cell_processing_env/lib/python3.8/site-packages/scipy/spatial/distance.py:1064: RuntimeWarning: invalid value encountered in sqrt\n",
      "  return np.sqrt(m)\n"
     ]
    }
   ],
   "source": [
    "# define the mean and the inverse covariance matrix needed for the mahalanobis distance calculation\n",
    "cov_matrix = np.cov(high_severity_coords, rowvar=False)\n",
    "inv_cov_matrix = np.linalg.inv(cov_matrix)\n",
    "# calculate the mahalanobis distance for each point within each genotype\n",
    "high_severity_mahalanobis_distances = []\n",
    "# calculate the mahalanobis distance for each point combination\n",
    "for point in itertools.combinations(high_severity_coords, 2):\n",
    "    distance = mahalanobis(point[0], point[1], inv_cov_matrix)\n",
    "    if np.isnan(distance):  # Check for NaN values\n",
    "        continue\n",
    "    high_severity_mahalanobis_distances.append(distance)\n",
    "mean_high_severity_mahalanobis_distance = np.mean(high_severity_mahalanobis_distances)\n",
    "print(\n",
    "    f\"The mean mahalanobis distance for the High-Severity genotype is {mean_high_severity_mahalanobis_distance}\"\n",
    ")"
   ]
  },
  {
   "cell_type": "markdown",
   "id": "27cad0b8",
   "metadata": {
    "papermill": {
     "duration": 0.003863,
     "end_time": "2024-05-10T20:18:20.296133",
     "exception": false,
     "start_time": "2024-05-10T20:18:20.292270",
     "status": "completed"
    },
    "tags": []
   },
   "source": [
    "#### Low-Severity"
   ]
  },
  {
   "cell_type": "code",
   "execution_count": 6,
   "id": "a2370708",
   "metadata": {
    "execution": {
     "iopub.execute_input": "2024-05-10T20:18:20.304924Z",
     "iopub.status.busy": "2024-05-10T20:18:20.304587Z",
     "iopub.status.idle": "2024-05-10T20:18:20.309696Z",
     "shell.execute_reply": "2024-05-10T20:18:20.309224Z"
    },
    "papermill": {
     "duration": 0.010903,
     "end_time": "2024-05-10T20:18:20.311035",
     "exception": false,
     "start_time": "2024-05-10T20:18:20.300132",
     "status": "completed"
    },
    "tags": []
   },
   "outputs": [
    {
     "name": "stdout",
     "output_type": "stream",
     "text": [
      "The mean mahalanobis distance for the low-Severity genotype is 5.312897445636516\n"
     ]
    }
   ],
   "source": [
    "# define the mean and the inverse covariance matrix needed for the mahalanobis distance calculation\n",
    "cov_matrix = np.cov(low_severity_coords, rowvar=False)\n",
    "inv_cov_matrix = np.linalg.inv(cov_matrix)\n",
    "# calculate the mahalanobis distance for each point within each genotype\n",
    "low_severity_mahalanobis_distances = []\n",
    "# calculate the mahalanobis distance for each point\n",
    "for point in itertools.combinations(low_severity_coords, 2):\n",
    "    distance = mahalanobis(point[0], point[1], inv_cov_matrix)\n",
    "    if np.isnan(distance):  # Check for NaN values\n",
    "        continue\n",
    "    low_severity_mahalanobis_distances.append(distance)\n",
    "mean_low_severity_mahalanobis_distance = np.mean(low_severity_mahalanobis_distances)\n",
    "print(\n",
    "    f\"The mean mahalanobis distance for the low-Severity genotype is {mean_low_severity_mahalanobis_distance}\"\n",
    ")"
   ]
  },
  {
   "cell_type": "markdown",
   "id": "3cf92944",
   "metadata": {
    "papermill": {
     "duration": 0.003978,
     "end_time": "2024-05-10T20:18:20.319216",
     "exception": false,
     "start_time": "2024-05-10T20:18:20.315238",
     "status": "completed"
    },
    "tags": []
   },
   "source": [
    "#### Wild Type"
   ]
  },
  {
   "cell_type": "code",
   "execution_count": 7,
   "id": "6de6ba74",
   "metadata": {
    "execution": {
     "iopub.execute_input": "2024-05-10T20:18:20.328082Z",
     "iopub.status.busy": "2024-05-10T20:18:20.327813Z",
     "iopub.status.idle": "2024-05-10T20:18:20.332836Z",
     "shell.execute_reply": "2024-05-10T20:18:20.332345Z"
    },
    "papermill": {
     "duration": 0.011016,
     "end_time": "2024-05-10T20:18:20.334266",
     "exception": false,
     "start_time": "2024-05-10T20:18:20.323250",
     "status": "completed"
    },
    "tags": []
   },
   "outputs": [
    {
     "name": "stdout",
     "output_type": "stream",
     "text": [
      "The mean mahalanobis distance for the Wild Type genotype is 13.130021647019115\n"
     ]
    }
   ],
   "source": [
    "# define the mean and the inverse covariance matrix needed for the mahalanobis distance calculation\n",
    "cov_matrix = np.cov(wt_coords, rowvar=False)\n",
    "inv_cov_matrix = np.linalg.inv(cov_matrix)\n",
    "# calculate the mahalanobis distance for each point within each genotype\n",
    "wt_mahalanobis_distances = []\n",
    "# calculate the mahalanobis distance for each point\n",
    "for point in itertools.combinations(wt_coords, 2):\n",
    "    distance = mahalanobis(point[0], point[1], inv_cov_matrix)\n",
    "    if np.isnan(distance):  # Check for NaN values\n",
    "        continue\n",
    "    wt_mahalanobis_distances.append(distance)\n",
    "mean_wt_mahalanobis_distance = np.mean(wt_mahalanobis_distances)\n",
    "print(\n",
    "    f\"The mean mahalanobis distance for the Wild Type genotype is {mean_wt_mahalanobis_distance}\"\n",
    ")"
   ]
  },
  {
   "cell_type": "markdown",
   "id": "2647b666",
   "metadata": {
    "papermill": {
     "duration": 0.004109,
     "end_time": "2024-05-10T20:18:20.342435",
     "exception": false,
     "start_time": "2024-05-10T20:18:20.338326",
     "status": "completed"
    },
    "tags": []
   },
   "source": [
    "## Calculate the Mahalanobis distance for random shuffled data points"
   ]
  },
  {
   "cell_type": "code",
   "execution_count": 8,
   "id": "3bfab0cd",
   "metadata": {
    "execution": {
     "iopub.execute_input": "2024-05-10T20:18:20.351449Z",
     "iopub.status.busy": "2024-05-10T20:18:20.351123Z",
     "iopub.status.idle": "2024-05-10T20:18:20.541725Z",
     "shell.execute_reply": "2024-05-10T20:18:20.541434Z"
    },
    "papermill": {
     "duration": 0.195962,
     "end_time": "2024-05-10T20:18:20.542511",
     "exception": false,
     "start_time": "2024-05-10T20:18:20.346549",
     "status": "completed"
    },
    "tags": []
   },
   "outputs": [],
   "source": [
    "# from the distribution of each PCA component, randomly sample 1000 points and calculate the mahalanobis distance\n",
    "# get the distribution of each PCA component\n",
    "high_severity_pca_component_distribution_std = high_severity.describe().loc[\"std\"]\n",
    "low_severity_pca_component_distribution_std = low_severity.describe().loc[\"std\"]\n",
    "wt_pca_component_distribution_std = wt.describe().loc[\"std\"]\n",
    "\n",
    "high_severity_pca_component_distribution_mean = high_severity.describe().loc[\"mean\"]\n",
    "low_severity_pca_component_distribution_mean = low_severity.describe().loc[\"mean\"]\n",
    "wt_pca_component_distribution_mean = wt.describe().loc[\"mean\"]"
   ]
  },
  {
   "cell_type": "code",
   "execution_count": 9,
   "id": "697a64eb",
   "metadata": {
    "execution": {
     "iopub.execute_input": "2024-05-10T20:18:20.547884Z",
     "iopub.status.busy": "2024-05-10T20:18:20.547771Z",
     "iopub.status.idle": "2024-05-10T20:20:45.893669Z",
     "shell.execute_reply": "2024-05-10T20:20:45.893221Z"
    },
    "papermill": {
     "duration": 145.349819,
     "end_time": "2024-05-10T20:20:45.894774",
     "exception": false,
     "start_time": "2024-05-10T20:18:20.544955",
     "status": "completed"
    },
    "tags": []
   },
   "outputs": [
    {
     "name": "stderr",
     "output_type": "stream",
     "text": [
      "100%|██████████| 1000/1000 [09:47<00:00,  1.70it/s]\n"
     ]
    }
   ],
   "source": [
    "# do 1000 trials of sampling from each PCA component distribution\n",
    "# from the distribution of each PCA component, randomly sample 1000 points and calculate the mahalanobis distance\n",
    "\n",
    "# set the output mean Mahalanobis distance lists per genotype\n",
    "mean_high_severity_sampled_mahalanobis_distances_from_trials = []\n",
    "mean_low_severity_sampled_mahalanobis_distances_from_trials = []\n",
    "mean_wt_sampled_mahalanobis_distances_from_trials = []\n",
    "\n",
    "# sample 1000 points from the distribution of each PCA component\n",
    "num_pca_components = high_severity_pca_component_distribution_std.shape[0]\n",
    "num_samples = 100\n",
    "num_trials = 1000\n",
    "\n",
    "for trial in tqdm.tqdm(range(num_trials)):\n",
    "    high_severity_sampled_points = pd.DataFrame()\n",
    "    low_severity_sampled_points = pd.DataFrame()\n",
    "    wt_sampled_points = pd.DataFrame()\n",
    "\n",
    "    for i in range(num_pca_components):\n",
    "        high_severity_sampled_points[f\"PC{i+1}\"] = np.random.normal(\n",
    "            loc=high_severity_pca_component_distribution_mean[i],\n",
    "            scale=high_severity_pca_component_distribution_std[i],\n",
    "            size=num_samples,\n",
    "        )\n",
    "        low_severity_sampled_points[f\"PC{i+1}\"] = np.random.normal(\n",
    "            loc=low_severity_pca_component_distribution_mean[i],\n",
    "            scale=low_severity_pca_component_distribution_std[i],\n",
    "            size=num_samples,\n",
    "        )\n",
    "        wt_sampled_points[f\"PC{i+1}\"] = np.random.normal(\n",
    "            loc=wt_pca_component_distribution_mean[i],\n",
    "            scale=wt_pca_component_distribution_std[i],\n",
    "            size=num_samples,\n",
    "        )\n",
    "\n",
    "    inv_cov_matrix = np.linalg.inv(\n",
    "        np.cov(high_severity_sampled_points.to_numpy(), rowvar=False)\n",
    "    )\n",
    "    # calculate the mahalanobis distance for each point within each genotype\n",
    "    high_severity_sampled_mahalanobis_distances = []\n",
    "    # calculate the mahalanobis distance for each point combination\n",
    "    for point in itertools.combinations(high_severity_sampled_points.to_numpy(), 2):\n",
    "        distance = mahalanobis(point[0], point[1], inv_cov_matrix)\n",
    "        if np.isnan(distance):  # Check for NaN values\n",
    "            continue\n",
    "        high_severity_sampled_mahalanobis_distances.append(distance)\n",
    "\n",
    "    mean_high_severity_sampled_mahalanobis_distance = np.mean(\n",
    "        high_severity_sampled_mahalanobis_distances\n",
    "    )\n",
    "\n",
    "    inv_cov_matrix = np.linalg.inv(\n",
    "        np.cov(low_severity_sampled_points.to_numpy(), rowvar=False)\n",
    "    )\n",
    "    # calculate the mahalanobis distance for each point within each genotype\n",
    "    low_severity_sampled_mahalanobis_distances = []\n",
    "    # calculate the mahalanobis distance for each point combination\n",
    "    for point in itertools.combinations(low_severity_sampled_points.to_numpy(), 2):\n",
    "        distance = mahalanobis(point[0], point[1], inv_cov_matrix)\n",
    "        if np.isnan(distance):  # Check for NaN values\n",
    "            continue\n",
    "        low_severity_sampled_mahalanobis_distances.append(distance)\n",
    "\n",
    "    mean_low_severity_sampled_mahalanobis_distance = np.mean(\n",
    "        low_severity_sampled_mahalanobis_distances\n",
    "    )\n",
    "\n",
    "    inv_cov_matrix = np.linalg.inv(np.cov(wt_sampled_points.to_numpy(), rowvar=False))\n",
    "    # calculate the mahalanobis distance for each point within each genotype\n",
    "    wt_sampled_mahalanobis_distances = []\n",
    "    # calculate the mahalanobis distance for each point combination\n",
    "    for point in itertools.combinations(wt_sampled_points.to_numpy(), 2):\n",
    "        distance = mahalanobis(point[0], point[1], inv_cov_matrix)\n",
    "        if np.isnan(distance):  # Check for NaN values\n",
    "            continue\n",
    "        wt_sampled_mahalanobis_distances.append(distance)\n",
    "\n",
    "    mean_wt_sampled_mahalanobis_distance = np.mean(wt_sampled_mahalanobis_distances)\n",
    "\n",
    "    # append the average mahalanobis distance from the trial to the list for the trial per genotype\n",
    "    mean_high_severity_sampled_mahalanobis_distances_from_trials.append(\n",
    "        mean_high_severity_sampled_mahalanobis_distance\n",
    "    )\n",
    "    mean_low_severity_sampled_mahalanobis_distances_from_trials.append(\n",
    "        mean_low_severity_sampled_mahalanobis_distance\n",
    "    )\n",
    "    mean_wt_sampled_mahalanobis_distances_from_trials.append(\n",
    "        mean_wt_sampled_mahalanobis_distance\n",
    "    )"
   ]
  },
  {
   "cell_type": "code",
   "execution_count": 10,
   "id": "a0661e87",
   "metadata": {
    "execution": {
     "iopub.execute_input": "2024-05-10T20:20:45.962238Z",
     "iopub.status.busy": "2024-05-10T20:20:45.961948Z",
     "iopub.status.idle": "2024-05-10T20:20:45.964919Z",
     "shell.execute_reply": "2024-05-10T20:20:45.964596Z"
    },
    "papermill": {
     "duration": 0.031421,
     "end_time": "2024-05-10T20:20:45.965655",
     "exception": false,
     "start_time": "2024-05-10T20:20:45.934234",
     "status": "completed"
    },
    "tags": []
   },
   "outputs": [
    {
     "name": "stdout",
     "output_type": "stream",
     "text": [
      "The high Mahalonobis distance for 1000 trials is: 9.0\n",
      "The low Mahalonobis distance for 1000 trials is: 9.0\n",
      "The wt Mahalonobis distance for 1000 trials is: 9.0\n"
     ]
    }
   ],
   "source": [
    "print(\n",
    "    f\"The high Mahalonobis distance for {num_trials} trials is: {round(np.mean(mean_high_severity_sampled_mahalanobis_distances_from_trials),0)}\"\n",
    ")\n",
    "print(\n",
    "    f\"The low Mahalonobis distance for {num_trials} trials is: {round(np.mean(mean_low_severity_sampled_mahalanobis_distances_from_trials),0)}\"\n",
    ")\n",
    "print(\n",
    "    f\"The wt Mahalonobis distance for {num_trials} trials is: {round(np.mean(mean_wt_sampled_mahalanobis_distances_from_trials),0)}\"\n",
    ")"
   ]
  },
  {
   "cell_type": "markdown",
   "id": "815b425c",
   "metadata": {
    "papermill": {
     "duration": 0.027052,
     "end_time": "2024-05-10T20:20:46.020084",
     "exception": false,
     "start_time": "2024-05-10T20:20:45.993032",
     "status": "completed"
    },
    "tags": []
   },
   "source": [
    "### Show the mahalanobis distance for each genotype"
   ]
  },
  {
   "cell_type": "code",
   "execution_count": 11,
   "id": "85c30be8",
   "metadata": {
    "execution": {
     "iopub.execute_input": "2024-05-10T20:20:46.074840Z",
     "iopub.status.busy": "2024-05-10T20:20:46.074683Z",
     "iopub.status.idle": "2024-05-10T20:20:46.077285Z",
     "shell.execute_reply": "2024-05-10T20:20:46.076981Z"
    },
    "papermill": {
     "duration": 0.030822,
     "end_time": "2024-05-10T20:20:46.077962",
     "exception": false,
     "start_time": "2024-05-10T20:20:46.047140",
     "status": "completed"
    },
    "tags": []
   },
   "outputs": [
    {
     "name": "stdout",
     "output_type": "stream",
     "text": [
      "Mahalanobis distance for High-Severity:  10.430999188235175\n",
      "Mahalanobis distance for Low-Severity:  5.312897445636516\n",
      "Mahalanobis distance for Wild Type:  13.130021647019115\n"
     ]
    }
   ],
   "source": [
    "print(\n",
    "    \"Mahalanobis distance for High-Severity: \", mean_high_severity_mahalanobis_distance\n",
    ")\n",
    "print(\"Mahalanobis distance for Low-Severity: \", mean_low_severity_mahalanobis_distance)\n",
    "print(\"Mahalanobis distance for Wild Type: \", mean_wt_mahalanobis_distance)"
   ]
  },
  {
   "cell_type": "code",
   "execution_count": 12,
   "id": "a8f8881e",
   "metadata": {
    "execution": {
     "iopub.execute_input": "2024-05-10T20:20:46.132914Z",
     "iopub.status.busy": "2024-05-10T20:20:46.132774Z",
     "iopub.status.idle": "2024-05-10T20:20:46.137181Z",
     "shell.execute_reply": "2024-05-10T20:20:46.136862Z"
    },
    "papermill": {
     "duration": 0.03256,
     "end_time": "2024-05-10T20:20:46.137862",
     "exception": false,
     "start_time": "2024-05-10T20:20:46.105302",
     "status": "completed"
    },
    "tags": []
   },
   "outputs": [
    {
     "name": "stdout",
     "output_type": "stream",
     "text": [
      "The p-value for the difference between the Mahalanobis distance of the sampled points and the actual points for the High-Severity genotype is 6.367519594037919e-19\n",
      "The p-value for the difference between the Mahalanobis distance of the sampled points and the actual points for the Low-Severity genotype is 3.070902620386499e-282\n",
      "The p-value for the difference between the Mahalanobis distance of the sampled points and the actual points for the Wild Type genotype is 7.64869899052468e-114\n"
     ]
    }
   ],
   "source": [
    "# hypothesis testing the difference between the Mahalanobis distance of the sampled points and the actual points\n",
    "# calculate the p-value for the difference between the Mahalanobis distance of the sampled points and the actual points\n",
    "\n",
    "high_severity_p_value = ttest_ind(\n",
    "    high_severity_mahalanobis_distances,\n",
    "    mean_high_severity_sampled_mahalanobis_distances_from_trials,\n",
    ").pvalue\n",
    "low_severity_p_value = ttest_ind(\n",
    "    low_severity_mahalanobis_distances,\n",
    "    mean_low_severity_sampled_mahalanobis_distances_from_trials,\n",
    ").pvalue\n",
    "wt_p_value = ttest_ind(\n",
    "    wt_mahalanobis_distances, mean_wt_sampled_mahalanobis_distances_from_trials\n",
    ").pvalue\n",
    "\n",
    "print(\n",
    "    f\"The p-value for the difference between the Mahalanobis distance of the sampled points and the actual points for the High-Severity genotype is {high_severity_p_value}\"\n",
    ")\n",
    "print(\n",
    "    f\"The p-value for the difference between the Mahalanobis distance of the sampled points and the actual points for the Low-Severity genotype is {low_severity_p_value}\"\n",
    ")\n",
    "print(\n",
    "    f\"The p-value for the difference between the Mahalanobis distance of the sampled points and the actual points for the Wild Type genotype is {wt_p_value}\"\n",
    ")"
   ]
  },
  {
   "cell_type": "code",
   "execution_count": 13,
   "id": "c4dc9f07",
   "metadata": {
    "execution": {
     "iopub.execute_input": "2024-05-10T20:20:46.193365Z",
     "iopub.status.busy": "2024-05-10T20:20:46.193220Z",
     "iopub.status.idle": "2024-05-10T20:20:46.312987Z",
     "shell.execute_reply": "2024-05-10T20:20:46.312688Z"
    },
    "papermill": {
     "duration": 0.148393,
     "end_time": "2024-05-10T20:20:46.313689",
     "exception": false,
     "start_time": "2024-05-10T20:20:46.165296",
     "status": "completed"
    },
    "tags": []
   },
   "outputs": [
    {
     "name": "stdout",
     "output_type": "stream",
     "text": [
      "The p-value for the ANOVA across the genotypes is 6.332399469845674e-17\n"
     ]
    },
    {
     "data": {
      "text/html": [
       "<div>\n",
       "<style scoped>\n",
       "    .dataframe tbody tr th:only-of-type {\n",
       "        vertical-align: middle;\n",
       "    }\n",
       "\n",
       "    .dataframe tbody tr th {\n",
       "        vertical-align: top;\n",
       "    }\n",
       "\n",
       "    .dataframe thead th {\n",
       "        text-align: right;\n",
       "    }\n",
       "</style>\n",
       "<table border=\"1\" class=\"dataframe\">\n",
       "  <thead>\n",
       "    <tr style=\"text-align: right;\">\n",
       "      <th></th>\n",
       "      <th>group1</th>\n",
       "      <th>group2</th>\n",
       "      <th>meandiff</th>\n",
       "      <th>p-adj</th>\n",
       "      <th>lower</th>\n",
       "      <th>upper</th>\n",
       "      <th>reject</th>\n",
       "    </tr>\n",
       "  </thead>\n",
       "  <tbody>\n",
       "    <tr>\n",
       "      <th>0</th>\n",
       "      <td>High Severity</td>\n",
       "      <td>Low Severity</td>\n",
       "      <td>-5.1181</td>\n",
       "      <td>0.0000</td>\n",
       "      <td>-7.0627</td>\n",
       "      <td>-3.1735</td>\n",
       "      <td>True</td>\n",
       "    </tr>\n",
       "    <tr>\n",
       "      <th>1</th>\n",
       "      <td>High Severity</td>\n",
       "      <td>Wild Type</td>\n",
       "      <td>2.6990</td>\n",
       "      <td>0.0048</td>\n",
       "      <td>0.6999</td>\n",
       "      <td>4.6981</td>\n",
       "      <td>True</td>\n",
       "    </tr>\n",
       "    <tr>\n",
       "      <th>2</th>\n",
       "      <td>Low Severity</td>\n",
       "      <td>Wild Type</td>\n",
       "      <td>7.8171</td>\n",
       "      <td>0.0000</td>\n",
       "      <td>5.9059</td>\n",
       "      <td>9.7283</td>\n",
       "      <td>True</td>\n",
       "    </tr>\n",
       "  </tbody>\n",
       "</table>\n",
       "</div>"
      ],
      "text/plain": [
       "          group1        group2  meandiff   p-adj   lower   upper  reject\n",
       "0  High Severity  Low Severity   -5.1181  0.0000 -7.0627 -3.1735    True\n",
       "1  High Severity     Wild Type    2.6990  0.0048  0.6999  4.6981    True\n",
       "2   Low Severity     Wild Type    7.8171  0.0000  5.9059  9.7283    True"
      ]
     },
     "execution_count": 13,
     "metadata": {},
     "output_type": "execute_result"
    }
   ],
   "source": [
    "# anova test the mahalanobis distance between the genotypes\n",
    "anova_result_across_genotypes = anova(\n",
    "    high_severity_mahalanobis_distances,\n",
    "    low_severity_mahalanobis_distances,\n",
    "    wt_mahalanobis_distances,\n",
    ")\n",
    "\n",
    "print(\n",
    "    f\"The p-value for the ANOVA across the genotypes is {anova_result_across_genotypes.pvalue}\"\n",
    ")\n",
    "\n",
    "# tukeys HSD test for the mahalanobis distance between the genotypes\n",
    "tukeys_result_across_genotypes = pairwise_tukeyhsd(\n",
    "    np.concatenate(\n",
    "        [\n",
    "            high_severity_mahalanobis_distances,\n",
    "            low_severity_mahalanobis_distances,\n",
    "            wt_mahalanobis_distances,\n",
    "        ]\n",
    "    ),\n",
    "    np.concatenate(\n",
    "        [\n",
    "            [\"High Severity\"] * len(high_severity_mahalanobis_distances),\n",
    "            [\"Low Severity\"] * len(low_severity_mahalanobis_distances),\n",
    "            [\"Wild Type\"] * len(wt_mahalanobis_distances),\n",
    "        ]\n",
    "    ),\n",
    ")\n",
    "# get the tukeys HSD results as a dataframe\n",
    "tukeys_result_across_genotypes_df = pd.DataFrame(\n",
    "    data=tukeys_result_across_genotypes._results_table.data[1:],\n",
    "    columns=tukeys_result_across_genotypes._results_table.data[0],\n",
    ")\n",
    "tukeys_result_across_genotypes_df"
   ]
  },
  {
   "cell_type": "markdown",
   "id": "08245986",
   "metadata": {
    "papermill": {
     "duration": 0.027003,
     "end_time": "2024-05-10T20:20:46.370550",
     "exception": false,
     "start_time": "2024-05-10T20:20:46.343547",
     "status": "completed"
    },
    "tags": []
   },
   "source": [
    "### write the Mahanobis distance stats to a file"
   ]
  },
  {
   "cell_type": "code",
   "execution_count": 14,
   "id": "df4a29d6",
   "metadata": {
    "execution": {
     "iopub.execute_input": "2024-05-10T20:20:46.426088Z",
     "iopub.status.busy": "2024-05-10T20:20:46.425624Z",
     "iopub.status.idle": "2024-05-10T20:20:46.433538Z",
     "shell.execute_reply": "2024-05-10T20:20:46.433259Z"
    },
    "papermill": {
     "duration": 0.036452,
     "end_time": "2024-05-10T20:20:46.434211",
     "exception": false,
     "start_time": "2024-05-10T20:20:46.397759",
     "status": "completed"
    },
    "tags": []
   },
   "outputs": [
    {
     "data": {
      "text/html": [
       "<div>\n",
       "<style scoped>\n",
       "    .dataframe tbody tr th:only-of-type {\n",
       "        vertical-align: middle;\n",
       "    }\n",
       "\n",
       "    .dataframe tbody tr th {\n",
       "        vertical-align: top;\n",
       "    }\n",
       "\n",
       "    .dataframe thead th {\n",
       "        text-align: right;\n",
       "    }\n",
       "</style>\n",
       "<table border=\"1\" class=\"dataframe\">\n",
       "  <thead>\n",
       "    <tr style=\"text-align: right;\">\n",
       "      <th></th>\n",
       "      <th>Genotype</th>\n",
       "      <th>Actual Mean Mahalanobis Distance</th>\n",
       "      <th>Sampled Mean Mahalanobis Distance</th>\n",
       "      <th>p-Value for Actual compared to sampled</th>\n",
       "      <th>ANOVA Compared to High-Severity p-adj</th>\n",
       "      <th>ANOVA Compared to Low-Severity p-adj</th>\n",
       "      <th>ANOVA Compared to Wild Type p-adj</th>\n",
       "    </tr>\n",
       "  </thead>\n",
       "  <tbody>\n",
       "    <tr>\n",
       "      <th>0</th>\n",
       "      <td>High-Severity</td>\n",
       "      <td>10.430999</td>\n",
       "      <td>9.133737</td>\n",
       "      <td>6.367520e-19</td>\n",
       "      <td>NA</td>\n",
       "      <td>0.0</td>\n",
       "      <td>0.0048</td>\n",
       "    </tr>\n",
       "    <tr>\n",
       "      <th>1</th>\n",
       "      <td>Low-Severity</td>\n",
       "      <td>5.312897</td>\n",
       "      <td>9.133745</td>\n",
       "      <td>3.070903e-282</td>\n",
       "      <td>0.0</td>\n",
       "      <td>NA</td>\n",
       "      <td>0.0</td>\n",
       "    </tr>\n",
       "    <tr>\n",
       "      <th>2</th>\n",
       "      <td>Wild Type</td>\n",
       "      <td>13.130022</td>\n",
       "      <td>9.133859</td>\n",
       "      <td>7.648699e-114</td>\n",
       "      <td>0.0048</td>\n",
       "      <td>0.0</td>\n",
       "      <td>NA</td>\n",
       "    </tr>\n",
       "  </tbody>\n",
       "</table>\n",
       "</div>"
      ],
      "text/plain": [
       "        Genotype  Actual Mean Mahalanobis Distance  \\\n",
       "0  High-Severity                         10.430999   \n",
       "1   Low-Severity                          5.312897   \n",
       "2      Wild Type                         13.130022   \n",
       "\n",
       "   Sampled Mean Mahalanobis Distance  p-Value for Actual compared to sampled  \\\n",
       "0                           9.133737                            6.367520e-19   \n",
       "1                           9.133745                           3.070903e-282   \n",
       "2                           9.133859                           7.648699e-114   \n",
       "\n",
       "  ANOVA Compared to High-Severity p-adj ANOVA Compared to Low-Severity p-adj  \\\n",
       "0                                    NA                                  0.0   \n",
       "1                                   0.0                                   NA   \n",
       "2                                0.0048                                  0.0   \n",
       "\n",
       "  ANOVA Compared to Wild Type p-adj  \n",
       "0                            0.0048  \n",
       "1                               0.0  \n",
       "2                                NA  "
      ]
     },
     "execution_count": 14,
     "metadata": {},
     "output_type": "execute_result"
    }
   ],
   "source": [
    "# set the output dir\n",
    "mahalanobis_output_dir = pathlib.Path(\"../results/custom_aggregated_results/\").resolve()\n",
    "# make the dir if it does not exist\n",
    "mahalanobis_output_dir.mkdir(parents=True, exist_ok=True)\n",
    "\n",
    "# define the output file path\n",
    "mahalanobis_output_file_path = pathlib.Path(\n",
    "    mahalanobis_output_dir / \"custom_aggregated_mahalanobis_distance_results.csv\"\n",
    ").resolve()\n",
    "\n",
    "# compile the results into a df\n",
    "mahalanobis_results_df = pd.DataFrame(\n",
    "    {\n",
    "        \"Genotype\": [\"High-Severity\", \"Low-Severity\", \"Wild Type\"],\n",
    "        \"Actual Mean Mahalanobis Distance\": [\n",
    "            mean_high_severity_mahalanobis_distance,\n",
    "            mean_low_severity_mahalanobis_distance,\n",
    "            mean_wt_mahalanobis_distance,\n",
    "        ],\n",
    "        \"Sampled Mean Mahalanobis Distance\": [\n",
    "            np.mean(mean_high_severity_sampled_mahalanobis_distances_from_trials),\n",
    "            np.mean(mean_low_severity_sampled_mahalanobis_distances_from_trials),\n",
    "            np.mean(mean_wt_sampled_mahalanobis_distances_from_trials),\n",
    "        ],\n",
    "        \"p-Value for Actual compared to sampled\": [\n",
    "            high_severity_p_value,\n",
    "            low_severity_p_value,\n",
    "            wt_p_value,\n",
    "        ],\n",
    "        \"ANOVA Compared to High-Severity p-adj\": [\n",
    "            \"NA\",\n",
    "            tukeys_result_across_genotypes_df.loc[0, \"p-adj\"],\n",
    "            tukeys_result_across_genotypes_df.loc[1, \"p-adj\"],\n",
    "        ],\n",
    "        \"ANOVA Compared to Low-Severity p-adj\": [\n",
    "            tukeys_result_across_genotypes_df.loc[0, \"p-adj\"],\n",
    "            \"NA\",\n",
    "            tukeys_result_across_genotypes_df.loc[2, \"p-adj\"],\n",
    "        ],\n",
    "        \"ANOVA Compared to Wild Type p-adj\": [\n",
    "            tukeys_result_across_genotypes_df.loc[1, \"p-adj\"],\n",
    "            tukeys_result_across_genotypes_df.loc[2, \"p-adj\"],\n",
    "            \"NA\",\n",
    "        ],\n",
    "    }\n",
    ")\n",
    "mahalanobis_results_df"
   ]
  },
  {
   "cell_type": "code",
   "execution_count": 15,
   "id": "6c350c37",
   "metadata": {
    "execution": {
     "iopub.execute_input": "2024-05-10T20:20:46.489558Z",
     "iopub.status.busy": "2024-05-10T20:20:46.489422Z",
     "iopub.status.idle": "2024-05-10T20:20:46.492452Z",
     "shell.execute_reply": "2024-05-10T20:20:46.492176Z"
    },
    "papermill": {
     "duration": 0.031552,
     "end_time": "2024-05-10T20:20:46.493207",
     "exception": false,
     "start_time": "2024-05-10T20:20:46.461655",
     "status": "completed"
    },
    "tags": []
   },
   "outputs": [],
   "source": [
    "# output the results\n",
    "mahalanobis_results_df.to_csv(mahalanobis_output_file_path, index=False)"
   ]
  },
  {
   "cell_type": "markdown",
   "id": "a3564a28",
   "metadata": {
    "papermill": {
     "duration": 0.02719,
     "end_time": "2024-05-10T20:20:46.547876",
     "exception": false,
     "start_time": "2024-05-10T20:20:46.520686",
     "status": "completed"
    },
    "tags": []
   },
   "source": [
    "#### Visualization of the last trial's sampled points"
   ]
  },
  {
   "cell_type": "code",
   "execution_count": 16,
   "id": "a84237a3",
   "metadata": {
    "execution": {
     "iopub.execute_input": "2024-05-10T20:20:46.603441Z",
     "iopub.status.busy": "2024-05-10T20:20:46.603228Z",
     "iopub.status.idle": "2024-05-10T20:20:46.827210Z",
     "shell.execute_reply": "2024-05-10T20:20:46.826757Z"
    },
    "papermill": {
     "duration": 0.252787,
     "end_time": "2024-05-10T20:20:46.828107",
     "exception": false,
     "start_time": "2024-05-10T20:20:46.575320",
     "status": "completed"
    },
    "tags": []
   },
   "outputs": [
    {
     "data": {
      "image/png": "[encoded data removed]",
      "text/plain": [
       "<Figure size 1000x500 with 2 Axes>"
      ]
     },
     "metadata": {},
     "output_type": "display_data"
    }
   ],
   "source": [
    "# annotate the genotypes of the sampled points\n",
    "high_severity_sampled_points[\"Metadata_genotype\"] = \"High-Severity\"\n",
    "low_severity_sampled_points[\"Metadata_genotype\"] = \"Mid-Severity\"\n",
    "wt_sampled_points[\"Metadata_genotype\"] = \"Wild Type\"\n",
    "# concat the genotype sampled points\n",
    "sampled_points = pd.concat(\n",
    "    [wt_sampled_points, low_severity_sampled_points, high_severity_sampled_points]\n",
    ")\n",
    "\n",
    "# plot the first 2 PCA components from the actual data\n",
    "# set up subplots\n",
    "plt.figure(figsize=(10, 5))\n",
    "# subplot 1\n",
    "plt.subplot(1, 2, 1)\n",
    "sns.scatterplot(\n",
    "    x=\"PC1\",\n",
    "    y=\"PC2\",\n",
    "    data=custom_aggregated_data_pca,\n",
    "    hue=\"Metadata_genotype\",\n",
    "    alpha=0.5,\n",
    ")\n",
    "plt.title(\"Real PCA\")\n",
    "\n",
    "# plot the first 2 PCA components from the sampled data\n",
    "# subplot 2\n",
    "plt.subplot(1, 2, 2)\n",
    "sns.scatterplot(\n",
    "    x=\"PC1\",\n",
    "    y=\"PC2\",\n",
    "    data=sampled_points,\n",
    "    hue=\"Metadata_genotype\",\n",
    "    alpha=0.5,\n",
    ")\n",
    "plt.title(\"Sampled PCA\")\n",
    "plt.show()"
   ]
  }
 ],
 "metadata": {
  "kernelspec": {
   "display_name": "op_cell_processing_env",
   "language": "python",
   "name": "python3"
  },
  "language_info": {
   "codemirror_mode": {
    "name": "ipython",
    "version": 3
   },
   "file_extension": ".py",
   "mimetype": "text/x-python",
   "name": "python",
   "nbconvert_exporter": "python",
   "pygments_lexer": "ipython3",
   "version": "3.8.15"
  },
  "papermill": {
   "default_parameters": {},
   "duration": 148.063481,
   "end_time": "2024-05-10T20:20:47.072509",
   "environment_variables": {},
   "exception": null,
   "input_path": "8c.custom_aggregated_PCA_calculate_mahalanobis_distance.ipynb",
   "output_path": "8c.custom_aggregated_PCA_calculate_mahalanobis_distance.ipynb",
   "parameters": {},
   "start_time": "2024-05-10T20:18:19.009028",
   "version": "2.6.0"
  }
 },
 "nbformat": 4,
 "nbformat_minor": 5
}
