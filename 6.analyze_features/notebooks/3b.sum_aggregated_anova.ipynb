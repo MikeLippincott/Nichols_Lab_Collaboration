{
    "cells": [
        {
            "cell_type": "code",
            "execution_count": 1,
            "id": "4648cf64",
            "metadata": {
                "execution": {
                    "iopub.execute_input": "2024-12-03T21:59:55.697834Z",
                    "iopub.status.busy": "2024-12-03T21:59:55.697498Z",
                    "iopub.status.idle": "2024-12-03T21:59:56.440649Z",
                    "shell.execute_reply": "2024-12-03T21:59:56.440212Z"
                },
                "papermill": {
                    "duration": 0.747733,
                    "end_time": "2024-12-03T21:59:56.441630",
                    "exception": false,
                    "start_time": "2024-12-03T21:59:55.693897",
                    "status": "completed"
                },
                "tags": []
            },
            "outputs": [],
            "source": [
                "import pathlib\n",
                "\n",
                "import matplotlib.pyplot as plt\n",
                "import numpy as np\n",
                "import pandas as pd\n",
                "import seaborn as sns\n",
                "import statsmodels.api as sm\n",
                "import tqdm\n",
                "from scipy.stats import levene\n",
                "\n",
                "# import anova and tukeyhsd\n",
                "from statsmodels.formula.api import ols\n",
                "from statsmodels.stats.multicomp import pairwise_tukeyhsd\n",
                "from statsmodels.stats.multitest import multipletests"
            ]
        },
        {
            "cell_type": "code",
            "execution_count": 2,
            "id": "3ef4e5ee",
            "metadata": {
                "execution": {
                    "iopub.execute_input": "2024-12-03T21:59:56.450901Z",
                    "iopub.status.busy": "2024-12-03T21:59:56.450519Z",
                    "iopub.status.idle": "2024-12-03T21:59:56.455344Z",
                    "shell.execute_reply": "2024-12-03T21:59:56.455009Z"
                },
                "papermill": {
                    "duration": 0.010416,
                    "end_time": "2024-12-03T21:59:56.455977",
                    "exception": false,
                    "start_time": "2024-12-03T21:59:56.445561",
                    "status": "completed"
                },
                "tags": []
            },
            "outputs": [],
            "source": [
                "def anova_function(features_df: pd.DataFrame, Metdata_column: str) -> pd.DataFrame:\n",
                "    \"\"\"\n",
                "    This function will take in a dataframe and a metadata column and return the results of an anova and tukeyhsd test for each feature.\n",
                "\n",
                "\n",
                "    Parameters\n",
                "    ----------\n",
                "    features_df : pd.DataFrame\n",
                "        The dataframe containing the features with only one metadata column\n",
                "    Metdata_column : str\n",
                "        The name of the metadata column to be used for the anova test\n",
                "\n",
                "    Returns\n",
                "    -------\n",
                "    pd.DataFrame\n",
                "        A dataframe containing the results of the anova and tukeyhsd test for each feature\n",
                "    \"\"\"\n",
                "\n",
                "    # anova and tukeyhsd for each feature\n",
                "    # create a pandas data frame to store the results\n",
                "    anova_results = pd.DataFrame()\n",
                "\n",
                "    # loop through each feature\n",
                "    for feature in tqdm.tqdm(features_df.columns[:-1]):\n",
                "        # create a model\n",
                "        model = ols(f\"{feature} ~ C({Metdata_column})\", data=features_df).fit()\n",
                "        # create an anova table\n",
                "        anova_table = sm.stats.anova_lm(model, typ=2)\n",
                "        # create a tukeyhsd table\n",
                "        tukeyhsd = pairwise_tukeyhsd(features_df[feature], features_df[Metdata_column])\n",
                "        # get the f-statistic based p-value\n",
                "        anova_p_value = anova_table[\"PR(>F)\"][0]\n",
                "        tmp = pd.DataFrame(\n",
                "            tukeyhsd._results_table.data, columns=tukeyhsd._results_table.data[0]\n",
                "        ).drop(0)\n",
                "        tmp.reset_index(inplace=True, drop=True)\n",
                "        # drop the first row\n",
                "        tmp[\"feature\"] = feature\n",
                "        tmp[\"anova_p_value\"] = anova_p_value\n",
                "        tmp = pd.DataFrame(tmp)\n",
                "\n",
                "        anova_results = pd.concat([anova_results, tmp], axis=0).reset_index(drop=True)\n",
                "    return anova_results"
            ]
        },
        {
            "cell_type": "code",
            "execution_count": 3,
            "id": "cd3312e2",
            "metadata": {
                "execution": {
                    "iopub.execute_input": "2024-12-03T21:59:56.463055Z",
                    "iopub.status.busy": "2024-12-03T21:59:56.462723Z",
                    "iopub.status.idle": "2024-12-03T21:59:56.497851Z",
                    "shell.execute_reply": "2024-12-03T21:59:56.497417Z"
                },
                "papermill": {
                    "duration": 0.039763,
                    "end_time": "2024-12-03T21:59:56.498595",
                    "exception": false,
                    "start_time": "2024-12-03T21:59:56.458832",
                    "status": "completed"
                },
                "tags": []
            },
            "outputs": [
                {
                    "data": {
                        "text/html": [
                            "<div>\n",
                            "<style scoped>\n",
                            "    .dataframe tbody tr th:only-of-type {\n",
                            "        vertical-align: middle;\n",
                            "    }\n",
                            "\n",
                            "    .dataframe tbody tr th {\n",
                            "        vertical-align: top;\n",
                            "    }\n",
                            "\n",
                            "    .dataframe thead th {\n",
                            "        text-align: right;\n",
                            "    }\n",
                            "</style>\n",
                            "<table border=\"1\" class=\"dataframe\">\n",
                            "  <thead>\n",
                            "    <tr style=\"text-align: right;\">\n",
                            "      <th></th>\n",
                            "      <th>Metadata_genotype</th>\n",
                            "      <th>Metadata_replicate</th>\n",
                            "      <th>Metadata_side</th>\n",
                            "      <th>AreaShape_Area</th>\n",
                            "      <th>AreaShape_CentralMoment_0_0</th>\n",
                            "      <th>AreaShape_CentralMoment_0_1</th>\n",
                            "      <th>AreaShape_CentralMoment_0_2</th>\n",
                            "      <th>AreaShape_CentralMoment_0_3</th>\n",
                            "      <th>AreaShape_CentralMoment_1_0</th>\n",
                            "      <th>AreaShape_CentralMoment_1_1</th>\n",
                            "      <th>...</th>\n",
                            "      <th>Texture_SumEntropy_OP_3_02_256</th>\n",
                            "      <th>Texture_SumEntropy_OP_3_03_256</th>\n",
                            "      <th>Texture_SumVariance_OP_3_00_256</th>\n",
                            "      <th>Texture_SumVariance_OP_3_01_256</th>\n",
                            "      <th>Texture_SumVariance_OP_3_02_256</th>\n",
                            "      <th>Texture_SumVariance_OP_3_03_256</th>\n",
                            "      <th>Texture_Variance_OP_3_00_256</th>\n",
                            "      <th>Texture_Variance_OP_3_01_256</th>\n",
                            "      <th>Texture_Variance_OP_3_02_256</th>\n",
                            "      <th>Texture_Variance_OP_3_03_256</th>\n",
                            "    </tr>\n",
                            "  </thead>\n",
                            "  <tbody>\n",
                            "    <tr>\n",
                            "      <th>0</th>\n",
                            "      <td>high</td>\n",
                            "      <td>1</td>\n",
                            "      <td>L</td>\n",
                            "      <td>-0.178797</td>\n",
                            "      <td>-0.178797</td>\n",
                            "      <td>0.003558</td>\n",
                            "      <td>-0.386796</td>\n",
                            "      <td>0.280118</td>\n",
                            "      <td>0.037998</td>\n",
                            "      <td>0.434046</td>\n",
                            "      <td>...</td>\n",
                            "      <td>-0.627762</td>\n",
                            "      <td>-0.644990</td>\n",
                            "      <td>-0.903354</td>\n",
                            "      <td>-0.890939</td>\n",
                            "      <td>-0.896995</td>\n",
                            "      <td>-0.902870</td>\n",
                            "      <td>-0.896145</td>\n",
                            "      <td>-0.898448</td>\n",
                            "      <td>-0.898880</td>\n",
                            "      <td>-0.896609</td>\n",
                            "    </tr>\n",
                            "    <tr>\n",
                            "      <th>1</th>\n",
                            "      <td>high</td>\n",
                            "      <td>1</td>\n",
                            "      <td>R</td>\n",
                            "      <td>1.371763</td>\n",
                            "      <td>1.371763</td>\n",
                            "      <td>0.538195</td>\n",
                            "      <td>0.288322</td>\n",
                            "      <td>0.501618</td>\n",
                            "      <td>4.163833</td>\n",
                            "      <td>-1.361920</td>\n",
                            "      <td>...</td>\n",
                            "      <td>0.419551</td>\n",
                            "      <td>0.406918</td>\n",
                            "      <td>-0.188358</td>\n",
                            "      <td>-0.159114</td>\n",
                            "      <td>-0.189615</td>\n",
                            "      <td>-0.186308</td>\n",
                            "      <td>-0.218981</td>\n",
                            "      <td>-0.225754</td>\n",
                            "      <td>-0.219073</td>\n",
                            "      <td>-0.225134</td>\n",
                            "    </tr>\n",
                            "    <tr>\n",
                            "      <th>2</th>\n",
                            "      <td>high</td>\n",
                            "      <td>10</td>\n",
                            "      <td>L</td>\n",
                            "      <td>1.706234</td>\n",
                            "      <td>1.706234</td>\n",
                            "      <td>2.652373</td>\n",
                            "      <td>3.280425</td>\n",
                            "      <td>-1.992966</td>\n",
                            "      <td>0.184630</td>\n",
                            "      <td>-1.404376</td>\n",
                            "      <td>...</td>\n",
                            "      <td>0.841475</td>\n",
                            "      <td>0.834574</td>\n",
                            "      <td>1.149186</td>\n",
                            "      <td>1.152200</td>\n",
                            "      <td>1.078905</td>\n",
                            "      <td>1.144848</td>\n",
                            "      <td>1.040009</td>\n",
                            "      <td>1.025740</td>\n",
                            "      <td>1.045492</td>\n",
                            "      <td>1.027617</td>\n",
                            "    </tr>\n",
                            "    <tr>\n",
                            "      <th>3</th>\n",
                            "      <td>high</td>\n",
                            "      <td>10</td>\n",
                            "      <td>R</td>\n",
                            "      <td>0.771674</td>\n",
                            "      <td>0.771674</td>\n",
                            "      <td>-1.332747</td>\n",
                            "      <td>0.164304</td>\n",
                            "      <td>0.244371</td>\n",
                            "      <td>0.173760</td>\n",
                            "      <td>-1.885144</td>\n",
                            "      <td>...</td>\n",
                            "      <td>0.452480</td>\n",
                            "      <td>0.436138</td>\n",
                            "      <td>0.112178</td>\n",
                            "      <td>0.131982</td>\n",
                            "      <td>0.108602</td>\n",
                            "      <td>0.125700</td>\n",
                            "      <td>0.075717</td>\n",
                            "      <td>0.071207</td>\n",
                            "      <td>0.076477</td>\n",
                            "      <td>0.067922</td>\n",
                            "    </tr>\n",
                            "    <tr>\n",
                            "      <th>4</th>\n",
                            "      <td>high</td>\n",
                            "      <td>11</td>\n",
                            "      <td>L</td>\n",
                            "      <td>2.180858</td>\n",
                            "      <td>2.180858</td>\n",
                            "      <td>2.142686</td>\n",
                            "      <td>1.838038</td>\n",
                            "      <td>-0.077515</td>\n",
                            "      <td>0.008650</td>\n",
                            "      <td>0.876597</td>\n",
                            "      <td>...</td>\n",
                            "      <td>0.494813</td>\n",
                            "      <td>0.490844</td>\n",
                            "      <td>-0.016140</td>\n",
                            "      <td>0.001041</td>\n",
                            "      <td>-0.021997</td>\n",
                            "      <td>-0.020992</td>\n",
                            "      <td>-0.033934</td>\n",
                            "      <td>-0.042635</td>\n",
                            "      <td>-0.034983</td>\n",
                            "      <td>-0.038763</td>\n",
                            "    </tr>\n",
                            "  </tbody>\n",
                            "</table>\n",
                            "<p>5 rows \u00d7 247 columns</p>\n",
                            "</div>"
                        ],
                        "text/plain": [
                            "  Metadata_genotype Metadata_replicate Metadata_side  AreaShape_Area  \\\n",
                            "0              high                  1             L       -0.178797   \n",
                            "1              high                  1             R        1.371763   \n",
                            "2              high                 10             L        1.706234   \n",
                            "3              high                 10             R        0.771674   \n",
                            "4              high                 11             L        2.180858   \n",
                            "\n",
                            "   AreaShape_CentralMoment_0_0  AreaShape_CentralMoment_0_1  \\\n",
                            "0                    -0.178797                     0.003558   \n",
                            "1                     1.371763                     0.538195   \n",
                            "2                     1.706234                     2.652373   \n",
                            "3                     0.771674                    -1.332747   \n",
                            "4                     2.180858                     2.142686   \n",
                            "\n",
                            "   AreaShape_CentralMoment_0_2  AreaShape_CentralMoment_0_3  \\\n",
                            "0                    -0.386796                     0.280118   \n",
                            "1                     0.288322                     0.501618   \n",
                            "2                     3.280425                    -1.992966   \n",
                            "3                     0.164304                     0.244371   \n",
                            "4                     1.838038                    -0.077515   \n",
                            "\n",
                            "   AreaShape_CentralMoment_1_0  AreaShape_CentralMoment_1_1  ...  \\\n",
                            "0                     0.037998                     0.434046  ...   \n",
                            "1                     4.163833                    -1.361920  ...   \n",
                            "2                     0.184630                    -1.404376  ...   \n",
                            "3                     0.173760                    -1.885144  ...   \n",
                            "4                     0.008650                     0.876597  ...   \n",
                            "\n",
                            "   Texture_SumEntropy_OP_3_02_256  Texture_SumEntropy_OP_3_03_256  \\\n",
                            "0                       -0.627762                       -0.644990   \n",
                            "1                        0.419551                        0.406918   \n",
                            "2                        0.841475                        0.834574   \n",
                            "3                        0.452480                        0.436138   \n",
                            "4                        0.494813                        0.490844   \n",
                            "\n",
                            "   Texture_SumVariance_OP_3_00_256  Texture_SumVariance_OP_3_01_256  \\\n",
                            "0                        -0.903354                        -0.890939   \n",
                            "1                        -0.188358                        -0.159114   \n",
                            "2                         1.149186                         1.152200   \n",
                            "3                         0.112178                         0.131982   \n",
                            "4                        -0.016140                         0.001041   \n",
                            "\n",
                            "   Texture_SumVariance_OP_3_02_256  Texture_SumVariance_OP_3_03_256  \\\n",
                            "0                        -0.896995                        -0.902870   \n",
                            "1                        -0.189615                        -0.186308   \n",
                            "2                         1.078905                         1.144848   \n",
                            "3                         0.108602                         0.125700   \n",
                            "4                        -0.021997                        -0.020992   \n",
                            "\n",
                            "   Texture_Variance_OP_3_00_256  Texture_Variance_OP_3_01_256  \\\n",
                            "0                     -0.896145                     -0.898448   \n",
                            "1                     -0.218981                     -0.225754   \n",
                            "2                      1.040009                      1.025740   \n",
                            "3                      0.075717                      0.071207   \n",
                            "4                     -0.033934                     -0.042635   \n",
                            "\n",
                            "   Texture_Variance_OP_3_02_256  Texture_Variance_OP_3_03_256  \n",
                            "0                     -0.898880                     -0.896609  \n",
                            "1                     -0.219073                     -0.225134  \n",
                            "2                      1.045492                      1.027617  \n",
                            "3                      0.076477                      0.067922  \n",
                            "4                     -0.034983                     -0.038763  \n",
                            "\n",
                            "[5 rows x 247 columns]"
                        ]
                    },
                    "execution_count": 3,
                    "metadata": {},
                    "output_type": "execute_result"
                }
            ],
            "source": [
                "file_path = pathlib.Path(\"../../data/5.converted_data/sum_aggregated_data.parquet\")\n",
                "df = pd.read_parquet(file_path)\n",
                "df.head()"
            ]
        },
        {
            "cell_type": "code",
            "execution_count": 4,
            "id": "c0ac438d",
            "metadata": {
                "execution": {
                    "iopub.execute_input": "2024-12-03T21:59:56.506757Z",
                    "iopub.status.busy": "2024-12-03T21:59:56.506270Z",
                    "iopub.status.idle": "2024-12-03T21:59:56.509472Z",
                    "shell.execute_reply": "2024-12-03T21:59:56.509135Z"
                },
                "papermill": {
                    "duration": 0.007933,
                    "end_time": "2024-12-03T21:59:56.510121",
                    "exception": false,
                    "start_time": "2024-12-03T21:59:56.502188",
                    "status": "completed"
                },
                "tags": []
            },
            "outputs": [],
            "source": [
                "# split the features and the metadata\n",
                "metadata = df.columns.str.contains(\"Metadata\")\n",
                "# filter the metadata\n",
                "metadata_df = df.loc[:, metadata]\n",
                "# filter the features\n",
                "features_df = df.loc[:, ~metadata]"
            ]
        },
        {
            "cell_type": "markdown",
            "id": "e43ab752",
            "metadata": {
                "papermill": {
                    "duration": 0.003646,
                    "end_time": "2024-12-03T21:59:56.517168",
                    "exception": false,
                    "start_time": "2024-12-03T21:59:56.513522",
                    "status": "completed"
                },
                "tags": []
            },
            "source": [
                "## Anova for genotype only"
            ]
        },
        {
            "cell_type": "code",
            "execution_count": 5,
            "id": "005dff65",
            "metadata": {
                "execution": {
                    "iopub.execute_input": "2024-12-03T21:59:56.524949Z",
                    "iopub.status.busy": "2024-12-03T21:59:56.524799Z",
                    "iopub.status.idle": "2024-12-03T22:00:24.975987Z",
                    "shell.execute_reply": "2024-12-03T22:00:24.975611Z"
                },
                "papermill": {
                    "duration": 28.455886,
                    "end_time": "2024-12-03T22:00:24.976677",
                    "exception": false,
                    "start_time": "2024-12-03T21:59:56.520791",
                    "status": "completed"
                },
                "tags": []
            },
            "outputs": [
                {
                    "name": "stderr",
                    "output_type": "stream",
                    "text": [
                        "\r",
                        "  0%|                                               | 0/244 [00:00<?, ?it/s]"
                    ]
                },
                {
                    "name": "stderr",
                    "output_type": "stream",
                    "text": [
                        "\r",
                        "  0%|\u258f                                      | 1/244 [00:00<00:29,  8.26it/s]"
                    ]
                },
                {
                    "name": "stderr",
                    "output_type": "stream",
                    "text": [
                        "\r",
                        "  1%|\u258e                                      | 2/244 [00:00<00:28,  8.44it/s]"
                    ]
                },
                {
                    "name": "stderr",
                    "output_type": "stream",
                    "text": [
                        "\r",
                        "  1%|\u258d                                      | 3/244 [00:00<00:28,  8.52it/s]"
                    ]
                },
                {
                    "name": "stderr",
                    "output_type": "stream",
                    "text": [
                        "\r",
                        "  2%|\u258b                                      | 4/244 [00:00<00:28,  8.50it/s]"
                    ]
                },
                {
                    "name": "stderr",
                    "output_type": "stream",
                    "text": [
                        "\r",
                        "  2%|\u258a                                      | 5/244 [00:00<00:27,  8.56it/s]"
                    ]
                },
                {
                    "name": "stderr",
                    "output_type": "stream",
                    "text": [
                        "\r",
                        "  2%|\u2589                                      | 6/244 [00:00<00:27,  8.67it/s]"
                    ]
                },
                {
                    "name": "stderr",
                    "output_type": "stream",
                    "text": [
                        "\r",
                        "  3%|\u2588                                      | 7/244 [00:00<00:27,  8.63it/s]"
                    ]
                },
                {
                    "name": "stderr",
                    "output_type": "stream",
                    "text": [
                        "\r",
                        "  3%|\u2588\u258e                                     | 8/244 [00:00<00:27,  8.68it/s]"
                    ]
                },
                {
                    "name": "stderr",
                    "output_type": "stream",
                    "text": [
                        "\r",
                        "  4%|\u2588\u258d                                     | 9/244 [00:01<00:27,  8.64it/s]"
                    ]
                },
                {
                    "name": "stderr",
                    "output_type": "stream",
                    "text": [
                        "\r",
                        "  4%|\u2588\u258c                                    | 10/244 [00:01<00:27,  8.63it/s]"
                    ]
                },
                {
                    "name": "stderr",
                    "output_type": "stream",
                    "text": [
                        "\r",
                        "  5%|\u2588\u258b                                    | 11/244 [00:01<00:27,  8.50it/s]"
                    ]
                },
                {
                    "name": "stderr",
                    "output_type": "stream",
                    "text": [
                        "\r",
                        "  5%|\u2588\u258a                                    | 12/244 [00:01<00:27,  8.43it/s]"
                    ]
                },
                {
                    "name": "stderr",
                    "output_type": "stream",
                    "text": [
                        "\r",
                        "  5%|\u2588\u2588                                    | 13/244 [00:01<00:27,  8.48it/s]"
                    ]
                },
                {
                    "name": "stderr",
                    "output_type": "stream",
                    "text": [
                        "\r",
                        "  6%|\u2588\u2588\u258f                                   | 14/244 [00:01<00:27,  8.48it/s]"
                    ]
                },
                {
                    "name": "stderr",
                    "output_type": "stream",
                    "text": [
                        "\r",
                        "  6%|\u2588\u2588\u258e                                   | 15/244 [00:01<00:26,  8.54it/s]"
                    ]
                },
                {
                    "name": "stderr",
                    "output_type": "stream",
                    "text": [
                        "\r",
                        "  7%|\u2588\u2588\u258d                                   | 16/244 [00:01<00:26,  8.59it/s]"
                    ]
                },
                {
                    "name": "stderr",
                    "output_type": "stream",
                    "text": [
                        "\r",
                        "  7%|\u2588\u2588\u258b                                   | 17/244 [00:01<00:26,  8.57it/s]"
                    ]
                },
                {
                    "name": "stderr",
                    "output_type": "stream",
                    "text": [
                        "\r",
                        "  7%|\u2588\u2588\u258a                                   | 18/244 [00:02<00:26,  8.55it/s]"
                    ]
                },
                {
                    "name": "stderr",
                    "output_type": "stream",
                    "text": [
                        "\r",
                        "  8%|\u2588\u2588\u2589                                   | 19/244 [00:02<00:26,  8.55it/s]"
                    ]
                },
                {
                    "name": "stderr",
                    "output_type": "stream",
                    "text": [
                        "\r",
                        "  8%|\u2588\u2588\u2588                                   | 20/244 [00:02<00:26,  8.30it/s]"
                    ]
                },
                {
                    "name": "stderr",
                    "output_type": "stream",
                    "text": [
                        "\r",
                        "  9%|\u2588\u2588\u2588\u258e                                  | 21/244 [00:02<00:26,  8.41it/s]"
                    ]
                },
                {
                    "name": "stderr",
                    "output_type": "stream",
                    "text": [
                        "\r",
                        "  9%|\u2588\u2588\u2588\u258d                                  | 22/244 [00:02<00:26,  8.45it/s]"
                    ]
                },
                {
                    "name": "stderr",
                    "output_type": "stream",
                    "text": [
                        "\r",
                        "  9%|\u2588\u2588\u2588\u258c                                  | 23/244 [00:02<00:26,  8.49it/s]"
                    ]
                },
                {
                    "name": "stderr",
                    "output_type": "stream",
                    "text": [
                        "\r",
                        " 10%|\u2588\u2588\u2588\u258b                                  | 24/244 [00:02<00:25,  8.58it/s]"
                    ]
                },
                {
                    "name": "stderr",
                    "output_type": "stream",
                    "text": [
                        "\r",
                        " 10%|\u2588\u2588\u2588\u2589                                  | 25/244 [00:02<00:25,  8.58it/s]"
                    ]
                },
                {
                    "name": "stderr",
                    "output_type": "stream",
                    "text": [
                        "\r",
                        " 11%|\u2588\u2588\u2588\u2588                                  | 26/244 [00:03<00:25,  8.64it/s]"
                    ]
                },
                {
                    "name": "stderr",
                    "output_type": "stream",
                    "text": [
                        "\r",
                        " 11%|\u2588\u2588\u2588\u2588\u258f                                 | 27/244 [00:03<00:25,  8.64it/s]"
                    ]
                },
                {
                    "name": "stderr",
                    "output_type": "stream",
                    "text": [
                        "\r",
                        " 11%|\u2588\u2588\u2588\u2588\u258e                                 | 28/244 [00:03<00:24,  8.65it/s]"
                    ]
                },
                {
                    "name": "stderr",
                    "output_type": "stream",
                    "text": [
                        "\r",
                        " 12%|\u2588\u2588\u2588\u2588\u258c                                 | 29/244 [00:03<00:24,  8.62it/s]"
                    ]
                },
                {
                    "name": "stderr",
                    "output_type": "stream",
                    "text": [
                        "\r",
                        " 12%|\u2588\u2588\u2588\u2588\u258b                                 | 30/244 [00:03<00:25,  8.54it/s]"
                    ]
                },
                {
                    "name": "stderr",
                    "output_type": "stream",
                    "text": [
                        "\r",
                        " 13%|\u2588\u2588\u2588\u2588\u258a                                 | 31/244 [00:03<00:24,  8.56it/s]"
                    ]
                },
                {
                    "name": "stderr",
                    "output_type": "stream",
                    "text": [
                        "\r",
                        " 13%|\u2588\u2588\u2588\u2588\u2589                                 | 32/244 [00:03<00:24,  8.57it/s]"
                    ]
                },
                {
                    "name": "stderr",
                    "output_type": "stream",
                    "text": [
                        "\r",
                        " 14%|\u2588\u2588\u2588\u2588\u2588\u258f                                | 33/244 [00:03<00:24,  8.60it/s]"
                    ]
                },
                {
                    "name": "stderr",
                    "output_type": "stream",
                    "text": [
                        "\r",
                        " 14%|\u2588\u2588\u2588\u2588\u2588\u258e                                | 34/244 [00:03<00:24,  8.53it/s]"
                    ]
                },
                {
                    "name": "stderr",
                    "output_type": "stream",
                    "text": [
                        "\r",
                        " 14%|\u2588\u2588\u2588\u2588\u2588\u258d                                | 35/244 [00:04<00:24,  8.59it/s]"
                    ]
                },
                {
                    "name": "stderr",
                    "output_type": "stream",
                    "text": [
                        "\r",
                        " 15%|\u2588\u2588\u2588\u2588\u2588\u258c                                | 36/244 [00:04<00:24,  8.62it/s]"
                    ]
                },
                {
                    "name": "stderr",
                    "output_type": "stream",
                    "text": [
                        "\r",
                        " 15%|\u2588\u2588\u2588\u2588\u2588\u258a                                | 37/244 [00:04<00:23,  8.63it/s]"
                    ]
                },
                {
                    "name": "stderr",
                    "output_type": "stream",
                    "text": [
                        "\r",
                        " 16%|\u2588\u2588\u2588\u2588\u2588\u2589                                | 38/244 [00:04<00:23,  8.65it/s]"
                    ]
                },
                {
                    "name": "stderr",
                    "output_type": "stream",
                    "text": [
                        "\r",
                        " 16%|\u2588\u2588\u2588\u2588\u2588\u2588                                | 39/244 [00:04<00:23,  8.65it/s]"
                    ]
                },
                {
                    "name": "stderr",
                    "output_type": "stream",
                    "text": [
                        "\r",
                        " 16%|\u2588\u2588\u2588\u2588\u2588\u2588\u258f                               | 40/244 [00:04<00:23,  8.65it/s]"
                    ]
                },
                {
                    "name": "stderr",
                    "output_type": "stream",
                    "text": [
                        "\r",
                        " 17%|\u2588\u2588\u2588\u2588\u2588\u2588\u258d                               | 41/244 [00:04<00:23,  8.62it/s]"
                    ]
                },
                {
                    "name": "stderr",
                    "output_type": "stream",
                    "text": [
                        "\r",
                        " 17%|\u2588\u2588\u2588\u2588\u2588\u2588\u258c                               | 42/244 [00:04<00:23,  8.55it/s]"
                    ]
                },
                {
                    "name": "stderr",
                    "output_type": "stream",
                    "text": [
                        "\r",
                        " 18%|\u2588\u2588\u2588\u2588\u2588\u2588\u258b                               | 43/244 [00:05<00:23,  8.58it/s]"
                    ]
                },
                {
                    "name": "stderr",
                    "output_type": "stream",
                    "text": [
                        "\r",
                        " 18%|\u2588\u2588\u2588\u2588\u2588\u2588\u258a                               | 44/244 [00:05<00:23,  8.59it/s]"
                    ]
                },
                {
                    "name": "stderr",
                    "output_type": "stream",
                    "text": [
                        "\r",
                        " 18%|\u2588\u2588\u2588\u2588\u2588\u2588\u2588                               | 45/244 [00:05<00:23,  8.61it/s]"
                    ]
                },
                {
                    "name": "stderr",
                    "output_type": "stream",
                    "text": [
                        "\r",
                        " 19%|\u2588\u2588\u2588\u2588\u2588\u2588\u2588\u258f                              | 46/244 [00:05<00:23,  8.46it/s]"
                    ]
                },
                {
                    "name": "stderr",
                    "output_type": "stream",
                    "text": [
                        "\r",
                        " 19%|\u2588\u2588\u2588\u2588\u2588\u2588\u2588\u258e                              | 47/244 [00:05<00:23,  8.52it/s]"
                    ]
                },
                {
                    "name": "stderr",
                    "output_type": "stream",
                    "text": [
                        "\r",
                        " 20%|\u2588\u2588\u2588\u2588\u2588\u2588\u2588\u258d                              | 48/244 [00:05<00:22,  8.54it/s]"
                    ]
                },
                {
                    "name": "stderr",
                    "output_type": "stream",
                    "text": [
                        "\r",
                        " 20%|\u2588\u2588\u2588\u2588\u2588\u2588\u2588\u258b                              | 49/244 [00:05<00:22,  8.53it/s]"
                    ]
                },
                {
                    "name": "stderr",
                    "output_type": "stream",
                    "text": [
                        "\r",
                        " 20%|\u2588\u2588\u2588\u2588\u2588\u2588\u2588\u258a                              | 50/244 [00:05<00:22,  8.52it/s]"
                    ]
                },
                {
                    "name": "stderr",
                    "output_type": "stream",
                    "text": [
                        "\r",
                        " 21%|\u2588\u2588\u2588\u2588\u2588\u2588\u2588\u2589                              | 51/244 [00:05<00:22,  8.54it/s]"
                    ]
                },
                {
                    "name": "stderr",
                    "output_type": "stream",
                    "text": [
                        "\r",
                        " 21%|\u2588\u2588\u2588\u2588\u2588\u2588\u2588\u2588                              | 52/244 [00:06<00:22,  8.55it/s]"
                    ]
                },
                {
                    "name": "stderr",
                    "output_type": "stream",
                    "text": [
                        "\r",
                        " 22%|\u2588\u2588\u2588\u2588\u2588\u2588\u2588\u2588\u258e                             | 53/244 [00:06<00:22,  8.60it/s]"
                    ]
                },
                {
                    "name": "stderr",
                    "output_type": "stream",
                    "text": [
                        "\r",
                        " 22%|\u2588\u2588\u2588\u2588\u2588\u2588\u2588\u2588\u258d                             | 54/244 [00:06<00:21,  8.66it/s]"
                    ]
                },
                {
                    "name": "stderr",
                    "output_type": "stream",
                    "text": [
                        "\r",
                        " 23%|\u2588\u2588\u2588\u2588\u2588\u2588\u2588\u2588\u258c                             | 55/244 [00:06<00:21,  8.66it/s]"
                    ]
                },
                {
                    "name": "stderr",
                    "output_type": "stream",
                    "text": [
                        "\r",
                        " 23%|\u2588\u2588\u2588\u2588\u2588\u2588\u2588\u2588\u258b                             | 56/244 [00:06<00:21,  8.67it/s]"
                    ]
                },
                {
                    "name": "stderr",
                    "output_type": "stream",
                    "text": [
                        "\r",
                        " 23%|\u2588\u2588\u2588\u2588\u2588\u2588\u2588\u2588\u2589                             | 57/244 [00:06<00:21,  8.67it/s]"
                    ]
                },
                {
                    "name": "stderr",
                    "output_type": "stream",
                    "text": [
                        "\r",
                        " 24%|\u2588\u2588\u2588\u2588\u2588\u2588\u2588\u2588\u2588                             | 58/244 [00:06<00:21,  8.65it/s]"
                    ]
                },
                {
                    "name": "stderr",
                    "output_type": "stream",
                    "text": [
                        "\r",
                        " 24%|\u2588\u2588\u2588\u2588\u2588\u2588\u2588\u2588\u2588\u258f                            | 59/244 [00:06<00:21,  8.64it/s]"
                    ]
                },
                {
                    "name": "stderr",
                    "output_type": "stream",
                    "text": [
                        "\r",
                        " 25%|\u2588\u2588\u2588\u2588\u2588\u2588\u2588\u2588\u2588\u258e                            | 60/244 [00:06<00:21,  8.62it/s]"
                    ]
                },
                {
                    "name": "stderr",
                    "output_type": "stream",
                    "text": [
                        "\r",
                        " 25%|\u2588\u2588\u2588\u2588\u2588\u2588\u2588\u2588\u2588\u258c                            | 61/244 [00:07<00:21,  8.62it/s]"
                    ]
                },
                {
                    "name": "stderr",
                    "output_type": "stream",
                    "text": [
                        "\r",
                        " 25%|\u2588\u2588\u2588\u2588\u2588\u2588\u2588\u2588\u2588\u258b                            | 62/244 [00:07<00:21,  8.61it/s]"
                    ]
                },
                {
                    "name": "stderr",
                    "output_type": "stream",
                    "text": [
                        "\r",
                        " 26%|\u2588\u2588\u2588\u2588\u2588\u2588\u2588\u2588\u2588\u258a                            | 63/244 [00:07<00:21,  8.59it/s]"
                    ]
                },
                {
                    "name": "stderr",
                    "output_type": "stream",
                    "text": [
                        "\r",
                        " 26%|\u2588\u2588\u2588\u2588\u2588\u2588\u2588\u2588\u2588\u2589                            | 64/244 [00:07<00:20,  8.60it/s]"
                    ]
                },
                {
                    "name": "stderr",
                    "output_type": "stream",
                    "text": [
                        "\r",
                        " 27%|\u2588\u2588\u2588\u2588\u2588\u2588\u2588\u2588\u2588\u2588                            | 65/244 [00:07<00:20,  8.60it/s]"
                    ]
                },
                {
                    "name": "stderr",
                    "output_type": "stream",
                    "text": [
                        "\r",
                        " 27%|\u2588\u2588\u2588\u2588\u2588\u2588\u2588\u2588\u2588\u2588\u258e                           | 66/244 [00:07<00:20,  8.61it/s]"
                    ]
                },
                {
                    "name": "stderr",
                    "output_type": "stream",
                    "text": [
                        "\r",
                        " 27%|\u2588\u2588\u2588\u2588\u2588\u2588\u2588\u2588\u2588\u2588\u258d                           | 67/244 [00:07<00:21,  8.24it/s]"
                    ]
                },
                {
                    "name": "stderr",
                    "output_type": "stream",
                    "text": [
                        "\r",
                        " 28%|\u2588\u2588\u2588\u2588\u2588\u2588\u2588\u2588\u2588\u2588\u258c                           | 68/244 [00:07<00:21,  8.05it/s]"
                    ]
                },
                {
                    "name": "stderr",
                    "output_type": "stream",
                    "text": [
                        "\r",
                        " 28%|\u2588\u2588\u2588\u2588\u2588\u2588\u2588\u2588\u2588\u2588\u258b                           | 69/244 [00:08<00:22,  7.82it/s]"
                    ]
                },
                {
                    "name": "stderr",
                    "output_type": "stream",
                    "text": [
                        "\r",
                        " 29%|\u2588\u2588\u2588\u2588\u2588\u2588\u2588\u2588\u2588\u2588\u2589                           | 70/244 [00:08<00:22,  7.78it/s]"
                    ]
                },
                {
                    "name": "stderr",
                    "output_type": "stream",
                    "text": [
                        "\r",
                        " 29%|\u2588\u2588\u2588\u2588\u2588\u2588\u2588\u2588\u2588\u2588\u2588                           | 71/244 [00:08<00:22,  7.77it/s]"
                    ]
                },
                {
                    "name": "stderr",
                    "output_type": "stream",
                    "text": [
                        "\r",
                        " 30%|\u2588\u2588\u2588\u2588\u2588\u2588\u2588\u2588\u2588\u2588\u2588\u258f                          | 72/244 [00:08<00:22,  7.78it/s]"
                    ]
                },
                {
                    "name": "stderr",
                    "output_type": "stream",
                    "text": [
                        "\r",
                        " 30%|\u2588\u2588\u2588\u2588\u2588\u2588\u2588\u2588\u2588\u2588\u2588\u258e                          | 73/244 [00:08<00:21,  7.78it/s]"
                    ]
                },
                {
                    "name": "stderr",
                    "output_type": "stream",
                    "text": [
                        "\r",
                        " 30%|\u2588\u2588\u2588\u2588\u2588\u2588\u2588\u2588\u2588\u2588\u2588\u258c                          | 74/244 [00:08<00:21,  8.01it/s]"
                    ]
                },
                {
                    "name": "stderr",
                    "output_type": "stream",
                    "text": [
                        "\r",
                        " 31%|\u2588\u2588\u2588\u2588\u2588\u2588\u2588\u2588\u2588\u2588\u2588\u258b                          | 75/244 [00:08<00:20,  8.28it/s]"
                    ]
                },
                {
                    "name": "stderr",
                    "output_type": "stream",
                    "text": [
                        "\r",
                        " 31%|\u2588\u2588\u2588\u2588\u2588\u2588\u2588\u2588\u2588\u2588\u2588\u258a                          | 76/244 [00:08<00:19,  8.47it/s]"
                    ]
                },
                {
                    "name": "stderr",
                    "output_type": "stream",
                    "text": [
                        "\r",
                        " 32%|\u2588\u2588\u2588\u2588\u2588\u2588\u2588\u2588\u2588\u2588\u2588\u2589                          | 77/244 [00:09<00:19,  8.59it/s]"
                    ]
                },
                {
                    "name": "stderr",
                    "output_type": "stream",
                    "text": [
                        "\r",
                        " 32%|\u2588\u2588\u2588\u2588\u2588\u2588\u2588\u2588\u2588\u2588\u2588\u2588\u258f                         | 78/244 [00:09<00:19,  8.68it/s]"
                    ]
                },
                {
                    "name": "stderr",
                    "output_type": "stream",
                    "text": [
                        "\r",
                        " 32%|\u2588\u2588\u2588\u2588\u2588\u2588\u2588\u2588\u2588\u2588\u2588\u2588\u258e                         | 79/244 [00:09<00:18,  8.78it/s]"
                    ]
                },
                {
                    "name": "stderr",
                    "output_type": "stream",
                    "text": [
                        "\r",
                        " 33%|\u2588\u2588\u2588\u2588\u2588\u2588\u2588\u2588\u2588\u2588\u2588\u2588\u258d                         | 80/244 [00:09<00:18,  8.83it/s]"
                    ]
                },
                {
                    "name": "stderr",
                    "output_type": "stream",
                    "text": [
                        "\r",
                        " 33%|\u2588\u2588\u2588\u2588\u2588\u2588\u2588\u2588\u2588\u2588\u2588\u2588\u258c                         | 81/244 [00:09<00:18,  8.90it/s]"
                    ]
                },
                {
                    "name": "stderr",
                    "output_type": "stream",
                    "text": [
                        "\r",
                        " 34%|\u2588\u2588\u2588\u2588\u2588\u2588\u2588\u2588\u2588\u2588\u2588\u2588\u258a                         | 82/244 [00:09<00:18,  8.95it/s]"
                    ]
                },
                {
                    "name": "stderr",
                    "output_type": "stream",
                    "text": [
                        "\r",
                        " 34%|\u2588\u2588\u2588\u2588\u2588\u2588\u2588\u2588\u2588\u2588\u2588\u2588\u2589                         | 83/244 [00:09<00:17,  9.04it/s]"
                    ]
                },
                {
                    "name": "stderr",
                    "output_type": "stream",
                    "text": [
                        "\r",
                        " 34%|\u2588\u2588\u2588\u2588\u2588\u2588\u2588\u2588\u2588\u2588\u2588\u2588\u2588                         | 84/244 [00:09<00:17,  9.02it/s]"
                    ]
                },
                {
                    "name": "stderr",
                    "output_type": "stream",
                    "text": [
                        "\r",
                        " 35%|\u2588\u2588\u2588\u2588\u2588\u2588\u2588\u2588\u2588\u2588\u2588\u2588\u2588\u258f                        | 85/244 [00:09<00:17,  8.98it/s]"
                    ]
                },
                {
                    "name": "stderr",
                    "output_type": "stream",
                    "text": [
                        "\r",
                        " 35%|\u2588\u2588\u2588\u2588\u2588\u2588\u2588\u2588\u2588\u2588\u2588\u2588\u2588\u258d                        | 86/244 [00:10<00:17,  8.87it/s]"
                    ]
                },
                {
                    "name": "stderr",
                    "output_type": "stream",
                    "text": [
                        "\r",
                        " 36%|\u2588\u2588\u2588\u2588\u2588\u2588\u2588\u2588\u2588\u2588\u2588\u2588\u2588\u258c                        | 87/244 [00:10<00:17,  8.78it/s]"
                    ]
                },
                {
                    "name": "stderr",
                    "output_type": "stream",
                    "text": [
                        "\r",
                        " 36%|\u2588\u2588\u2588\u2588\u2588\u2588\u2588\u2588\u2588\u2588\u2588\u2588\u2588\u258b                        | 88/244 [00:10<00:17,  8.76it/s]"
                    ]
                },
                {
                    "name": "stderr",
                    "output_type": "stream",
                    "text": [
                        "\r",
                        " 36%|\u2588\u2588\u2588\u2588\u2588\u2588\u2588\u2588\u2588\u2588\u2588\u2588\u2588\u258a                        | 89/244 [00:10<00:17,  8.74it/s]"
                    ]
                },
                {
                    "name": "stderr",
                    "output_type": "stream",
                    "text": [
                        "\r",
                        " 37%|\u2588\u2588\u2588\u2588\u2588\u2588\u2588\u2588\u2588\u2588\u2588\u2588\u2588\u2588                        | 90/244 [00:10<00:17,  8.66it/s]"
                    ]
                },
                {
                    "name": "stderr",
                    "output_type": "stream",
                    "text": [
                        "\r",
                        " 37%|\u2588\u2588\u2588\u2588\u2588\u2588\u2588\u2588\u2588\u2588\u2588\u2588\u2588\u2588\u258f                       | 91/244 [00:10<00:17,  8.63it/s]"
                    ]
                },
                {
                    "name": "stderr",
                    "output_type": "stream",
                    "text": [
                        "\r",
                        " 38%|\u2588\u2588\u2588\u2588\u2588\u2588\u2588\u2588\u2588\u2588\u2588\u2588\u2588\u2588\u258e                       | 92/244 [00:10<00:17,  8.63it/s]"
                    ]
                },
                {
                    "name": "stderr",
                    "output_type": "stream",
                    "text": [
                        "\r",
                        " 38%|\u2588\u2588\u2588\u2588\u2588\u2588\u2588\u2588\u2588\u2588\u2588\u2588\u2588\u2588\u258d                       | 93/244 [00:10<00:17,  8.63it/s]"
                    ]
                },
                {
                    "name": "stderr",
                    "output_type": "stream",
                    "text": [
                        "\r",
                        " 39%|\u2588\u2588\u2588\u2588\u2588\u2588\u2588\u2588\u2588\u2588\u2588\u2588\u2588\u2588\u258b                       | 94/244 [00:10<00:17,  8.64it/s]"
                    ]
                },
                {
                    "name": "stderr",
                    "output_type": "stream",
                    "text": [
                        "\r",
                        " 39%|\u2588\u2588\u2588\u2588\u2588\u2588\u2588\u2588\u2588\u2588\u2588\u2588\u2588\u2588\u258a                       | 95/244 [00:11<00:17,  8.68it/s]"
                    ]
                },
                {
                    "name": "stderr",
                    "output_type": "stream",
                    "text": [
                        "\r",
                        " 39%|\u2588\u2588\u2588\u2588\u2588\u2588\u2588\u2588\u2588\u2588\u2588\u2588\u2588\u2588\u2589                       | 96/244 [00:11<00:17,  8.69it/s]"
                    ]
                },
                {
                    "name": "stderr",
                    "output_type": "stream",
                    "text": [
                        "\r",
                        " 40%|\u2588\u2588\u2588\u2588\u2588\u2588\u2588\u2588\u2588\u2588\u2588\u2588\u2588\u2588\u2588                       | 97/244 [00:11<00:16,  8.70it/s]"
                    ]
                },
                {
                    "name": "stderr",
                    "output_type": "stream",
                    "text": [
                        "\r",
                        " 40%|\u2588\u2588\u2588\u2588\u2588\u2588\u2588\u2588\u2588\u2588\u2588\u2588\u2588\u2588\u2588\u258e                      | 98/244 [00:11<00:16,  8.70it/s]"
                    ]
                },
                {
                    "name": "stderr",
                    "output_type": "stream",
                    "text": [
                        "\r",
                        " 41%|\u2588\u2588\u2588\u2588\u2588\u2588\u2588\u2588\u2588\u2588\u2588\u2588\u2588\u2588\u2588\u258d                      | 99/244 [00:11<00:16,  8.67it/s]"
                    ]
                },
                {
                    "name": "stderr",
                    "output_type": "stream",
                    "text": [
                        "\r",
                        " 41%|\u2588\u2588\u2588\u2588\u2588\u2588\u2588\u2588\u2588\u2588\u2588\u2588\u2588\u2588\u2588\u258f                     | 100/244 [00:11<00:16,  8.67it/s]"
                    ]
                },
                {
                    "name": "stderr",
                    "output_type": "stream",
                    "text": [
                        "\r",
                        " 41%|\u2588\u2588\u2588\u2588\u2588\u2588\u2588\u2588\u2588\u2588\u2588\u2588\u2588\u2588\u2588\u258e                     | 101/244 [00:11<00:16,  8.65it/s]"
                    ]
                },
                {
                    "name": "stderr",
                    "output_type": "stream",
                    "text": [
                        "\r",
                        " 42%|\u2588\u2588\u2588\u2588\u2588\u2588\u2588\u2588\u2588\u2588\u2588\u2588\u2588\u2588\u2588\u258d                     | 102/244 [00:11<00:16,  8.69it/s]"
                    ]
                },
                {
                    "name": "stderr",
                    "output_type": "stream",
                    "text": [
                        "\r",
                        " 42%|\u2588\u2588\u2588\u2588\u2588\u2588\u2588\u2588\u2588\u2588\u2588\u2588\u2588\u2588\u2588\u258c                     | 103/244 [00:12<00:16,  8.69it/s]"
                    ]
                },
                {
                    "name": "stderr",
                    "output_type": "stream",
                    "text": [
                        "\r",
                        " 43%|\u2588\u2588\u2588\u2588\u2588\u2588\u2588\u2588\u2588\u2588\u2588\u2588\u2588\u2588\u2588\u258a                     | 104/244 [00:12<00:16,  8.73it/s]"
                    ]
                },
                {
                    "name": "stderr",
                    "output_type": "stream",
                    "text": [
                        "\r",
                        " 43%|\u2588\u2588\u2588\u2588\u2588\u2588\u2588\u2588\u2588\u2588\u2588\u2588\u2588\u2588\u2588\u2589                     | 105/244 [00:12<00:16,  8.68it/s]"
                    ]
                },
                {
                    "name": "stderr",
                    "output_type": "stream",
                    "text": [
                        "\r",
                        " 43%|\u2588\u2588\u2588\u2588\u2588\u2588\u2588\u2588\u2588\u2588\u2588\u2588\u2588\u2588\u2588\u2588                     | 106/244 [00:12<00:15,  8.69it/s]"
                    ]
                },
                {
                    "name": "stderr",
                    "output_type": "stream",
                    "text": [
                        "\r",
                        " 44%|\u2588\u2588\u2588\u2588\u2588\u2588\u2588\u2588\u2588\u2588\u2588\u2588\u2588\u2588\u2588\u2588\u258f                    | 107/244 [00:12<00:15,  8.60it/s]"
                    ]
                },
                {
                    "name": "stderr",
                    "output_type": "stream",
                    "text": [
                        "\r",
                        " 44%|\u2588\u2588\u2588\u2588\u2588\u2588\u2588\u2588\u2588\u2588\u2588\u2588\u2588\u2588\u2588\u2588\u258d                    | 108/244 [00:12<00:15,  8.61it/s]"
                    ]
                },
                {
                    "name": "stderr",
                    "output_type": "stream",
                    "text": [
                        "\r",
                        " 45%|\u2588\u2588\u2588\u2588\u2588\u2588\u2588\u2588\u2588\u2588\u2588\u2588\u2588\u2588\u2588\u2588\u258c                    | 109/244 [00:12<00:15,  8.62it/s]"
                    ]
                },
                {
                    "name": "stderr",
                    "output_type": "stream",
                    "text": [
                        "\r",
                        " 45%|\u2588\u2588\u2588\u2588\u2588\u2588\u2588\u2588\u2588\u2588\u2588\u2588\u2588\u2588\u2588\u2588\u258b                    | 110/244 [00:12<00:15,  8.62it/s]"
                    ]
                },
                {
                    "name": "stderr",
                    "output_type": "stream",
                    "text": [
                        "\r",
                        " 45%|\u2588\u2588\u2588\u2588\u2588\u2588\u2588\u2588\u2588\u2588\u2588\u2588\u2588\u2588\u2588\u2588\u258a                    | 111/244 [00:12<00:15,  8.62it/s]"
                    ]
                },
                {
                    "name": "stderr",
                    "output_type": "stream",
                    "text": [
                        "\r",
                        " 46%|\u2588\u2588\u2588\u2588\u2588\u2588\u2588\u2588\u2588\u2588\u2588\u2588\u2588\u2588\u2588\u2588\u2589                    | 112/244 [00:13<00:15,  8.63it/s]"
                    ]
                },
                {
                    "name": "stderr",
                    "output_type": "stream",
                    "text": [
                        "\r",
                        " 46%|\u2588\u2588\u2588\u2588\u2588\u2588\u2588\u2588\u2588\u2588\u2588\u2588\u2588\u2588\u2588\u2588\u2588\u258f                   | 113/244 [00:13<00:15,  8.60it/s]"
                    ]
                },
                {
                    "name": "stderr",
                    "output_type": "stream",
                    "text": [
                        "\r",
                        " 47%|\u2588\u2588\u2588\u2588\u2588\u2588\u2588\u2588\u2588\u2588\u2588\u2588\u2588\u2588\u2588\u2588\u2588\u258e                   | 114/244 [00:13<00:15,  8.62it/s]"
                    ]
                },
                {
                    "name": "stderr",
                    "output_type": "stream",
                    "text": [
                        "\r",
                        " 47%|\u2588\u2588\u2588\u2588\u2588\u2588\u2588\u2588\u2588\u2588\u2588\u2588\u2588\u2588\u2588\u2588\u2588\u258d                   | 115/244 [00:13<00:14,  8.66it/s]"
                    ]
                },
                {
                    "name": "stderr",
                    "output_type": "stream",
                    "text": [
                        "\r",
                        " 48%|\u2588\u2588\u2588\u2588\u2588\u2588\u2588\u2588\u2588\u2588\u2588\u2588\u2588\u2588\u2588\u2588\u2588\u258c                   | 116/244 [00:13<00:14,  8.68it/s]"
                    ]
                },
                {
                    "name": "stderr",
                    "output_type": "stream",
                    "text": [
                        "\r",
                        " 48%|\u2588\u2588\u2588\u2588\u2588\u2588\u2588\u2588\u2588\u2588\u2588\u2588\u2588\u2588\u2588\u2588\u2588\u258b                   | 117/244 [00:13<00:15,  8.32it/s]"
                    ]
                },
                {
                    "name": "stderr",
                    "output_type": "stream",
                    "text": [
                        "\r",
                        " 48%|\u2588\u2588\u2588\u2588\u2588\u2588\u2588\u2588\u2588\u2588\u2588\u2588\u2588\u2588\u2588\u2588\u2588\u2589                   | 118/244 [00:13<00:15,  8.06it/s]"
                    ]
                },
                {
                    "name": "stderr",
                    "output_type": "stream",
                    "text": [
                        "\r",
                        " 49%|\u2588\u2588\u2588\u2588\u2588\u2588\u2588\u2588\u2588\u2588\u2588\u2588\u2588\u2588\u2588\u2588\u2588\u2588                   | 119/244 [00:13<00:15,  8.20it/s]"
                    ]
                },
                {
                    "name": "stderr",
                    "output_type": "stream",
                    "text": [
                        "\r",
                        " 49%|\u2588\u2588\u2588\u2588\u2588\u2588\u2588\u2588\u2588\u2588\u2588\u2588\u2588\u2588\u2588\u2588\u2588\u2588\u258f                  | 120/244 [00:14<00:15,  8.25it/s]"
                    ]
                },
                {
                    "name": "stderr",
                    "output_type": "stream",
                    "text": [
                        "\r",
                        " 50%|\u2588\u2588\u2588\u2588\u2588\u2588\u2588\u2588\u2588\u2588\u2588\u2588\u2588\u2588\u2588\u2588\u2588\u2588\u258e                  | 121/244 [00:14<00:14,  8.39it/s]"
                    ]
                },
                {
                    "name": "stderr",
                    "output_type": "stream",
                    "text": [
                        "\r",
                        " 50%|\u2588\u2588\u2588\u2588\u2588\u2588\u2588\u2588\u2588\u2588\u2588\u2588\u2588\u2588\u2588\u2588\u2588\u2588\u258c                  | 122/244 [00:14<00:14,  8.46it/s]"
                    ]
                },
                {
                    "name": "stderr",
                    "output_type": "stream",
                    "text": [
                        "\r",
                        " 50%|\u2588\u2588\u2588\u2588\u2588\u2588\u2588\u2588\u2588\u2588\u2588\u2588\u2588\u2588\u2588\u2588\u2588\u2588\u258b                  | 123/244 [00:14<00:14,  8.54it/s]"
                    ]
                },
                {
                    "name": "stderr",
                    "output_type": "stream",
                    "text": [
                        "\r",
                        " 51%|\u2588\u2588\u2588\u2588\u2588\u2588\u2588\u2588\u2588\u2588\u2588\u2588\u2588\u2588\u2588\u2588\u2588\u2588\u258a                  | 124/244 [00:14<00:13,  8.58it/s]"
                    ]
                },
                {
                    "name": "stderr",
                    "output_type": "stream",
                    "text": [
                        "\r",
                        " 51%|\u2588\u2588\u2588\u2588\u2588\u2588\u2588\u2588\u2588\u2588\u2588\u2588\u2588\u2588\u2588\u2588\u2588\u2588\u2589                  | 125/244 [00:14<00:13,  8.59it/s]"
                    ]
                },
                {
                    "name": "stderr",
                    "output_type": "stream",
                    "text": [
                        "\r",
                        " 52%|\u2588\u2588\u2588\u2588\u2588\u2588\u2588\u2588\u2588\u2588\u2588\u2588\u2588\u2588\u2588\u2588\u2588\u2588\u2588                  | 126/244 [00:14<00:13,  8.63it/s]"
                    ]
                },
                {
                    "name": "stderr",
                    "output_type": "stream",
                    "text": [
                        "\r",
                        " 52%|\u2588\u2588\u2588\u2588\u2588\u2588\u2588\u2588\u2588\u2588\u2588\u2588\u2588\u2588\u2588\u2588\u2588\u2588\u2588\u258e                 | 127/244 [00:14<00:13,  8.61it/s]"
                    ]
                },
                {
                    "name": "stderr",
                    "output_type": "stream",
                    "text": [
                        "\r",
                        " 52%|\u2588\u2588\u2588\u2588\u2588\u2588\u2588\u2588\u2588\u2588\u2588\u2588\u2588\u2588\u2588\u2588\u2588\u2588\u2588\u258d                 | 128/244 [00:14<00:13,  8.61it/s]"
                    ]
                },
                {
                    "name": "stderr",
                    "output_type": "stream",
                    "text": [
                        "\r",
                        " 53%|\u2588\u2588\u2588\u2588\u2588\u2588\u2588\u2588\u2588\u2588\u2588\u2588\u2588\u2588\u2588\u2588\u2588\u2588\u2588\u258c                 | 129/244 [00:15<00:13,  8.64it/s]"
                    ]
                },
                {
                    "name": "stderr",
                    "output_type": "stream",
                    "text": [
                        "\r",
                        " 53%|\u2588\u2588\u2588\u2588\u2588\u2588\u2588\u2588\u2588\u2588\u2588\u2588\u2588\u2588\u2588\u2588\u2588\u2588\u2588\u258b                 | 130/244 [00:15<00:13,  8.61it/s]"
                    ]
                },
                {
                    "name": "stderr",
                    "output_type": "stream",
                    "text": [
                        "\r",
                        " 54%|\u2588\u2588\u2588\u2588\u2588\u2588\u2588\u2588\u2588\u2588\u2588\u2588\u2588\u2588\u2588\u2588\u2588\u2588\u2588\u258a                 | 131/244 [00:15<00:13,  8.66it/s]"
                    ]
                },
                {
                    "name": "stderr",
                    "output_type": "stream",
                    "text": [
                        "\r",
                        " 54%|\u2588\u2588\u2588\u2588\u2588\u2588\u2588\u2588\u2588\u2588\u2588\u2588\u2588\u2588\u2588\u2588\u2588\u2588\u2588\u2588                 | 132/244 [00:15<00:12,  8.74it/s]"
                    ]
                },
                {
                    "name": "stderr",
                    "output_type": "stream",
                    "text": [
                        "\r",
                        " 55%|\u2588\u2588\u2588\u2588\u2588\u2588\u2588\u2588\u2588\u2588\u2588\u2588\u2588\u2588\u2588\u2588\u2588\u2588\u2588\u2588\u258f                | 133/244 [00:15<00:12,  8.69it/s]"
                    ]
                },
                {
                    "name": "stderr",
                    "output_type": "stream",
                    "text": [
                        "\r",
                        " 55%|\u2588\u2588\u2588\u2588\u2588\u2588\u2588\u2588\u2588\u2588\u2588\u2588\u2588\u2588\u2588\u2588\u2588\u2588\u2588\u2588\u258e                | 134/244 [00:15<00:12,  8.64it/s]"
                    ]
                },
                {
                    "name": "stderr",
                    "output_type": "stream",
                    "text": [
                        "\r",
                        " 55%|\u2588\u2588\u2588\u2588\u2588\u2588\u2588\u2588\u2588\u2588\u2588\u2588\u2588\u2588\u2588\u2588\u2588\u2588\u2588\u2588\u258d                | 135/244 [00:15<00:12,  8.60it/s]"
                    ]
                },
                {
                    "name": "stderr",
                    "output_type": "stream",
                    "text": [
                        "\r",
                        " 56%|\u2588\u2588\u2588\u2588\u2588\u2588\u2588\u2588\u2588\u2588\u2588\u2588\u2588\u2588\u2588\u2588\u2588\u2588\u2588\u2588\u258c                | 136/244 [00:15<00:12,  8.60it/s]"
                    ]
                },
                {
                    "name": "stderr",
                    "output_type": "stream",
                    "text": [
                        "\r",
                        " 56%|\u2588\u2588\u2588\u2588\u2588\u2588\u2588\u2588\u2588\u2588\u2588\u2588\u2588\u2588\u2588\u2588\u2588\u2588\u2588\u2588\u258a                | 137/244 [00:16<00:12,  8.57it/s]"
                    ]
                },
                {
                    "name": "stderr",
                    "output_type": "stream",
                    "text": [
                        "\r",
                        " 57%|\u2588\u2588\u2588\u2588\u2588\u2588\u2588\u2588\u2588\u2588\u2588\u2588\u2588\u2588\u2588\u2588\u2588\u2588\u2588\u2588\u2589                | 138/244 [00:16<00:12,  8.58it/s]"
                    ]
                },
                {
                    "name": "stderr",
                    "output_type": "stream",
                    "text": [
                        "\r",
                        " 57%|\u2588\u2588\u2588\u2588\u2588\u2588\u2588\u2588\u2588\u2588\u2588\u2588\u2588\u2588\u2588\u2588\u2588\u2588\u2588\u2588\u2588                | 139/244 [00:16<00:12,  8.64it/s]"
                    ]
                },
                {
                    "name": "stderr",
                    "output_type": "stream",
                    "text": [
                        "\r",
                        " 57%|\u2588\u2588\u2588\u2588\u2588\u2588\u2588\u2588\u2588\u2588\u2588\u2588\u2588\u2588\u2588\u2588\u2588\u2588\u2588\u2588\u2588\u258f               | 140/244 [00:16<00:12,  8.65it/s]"
                    ]
                },
                {
                    "name": "stderr",
                    "output_type": "stream",
                    "text": [
                        "\r",
                        " 58%|\u2588\u2588\u2588\u2588\u2588\u2588\u2588\u2588\u2588\u2588\u2588\u2588\u2588\u2588\u2588\u2588\u2588\u2588\u2588\u2588\u2588\u258d               | 141/244 [00:16<00:11,  8.64it/s]"
                    ]
                },
                {
                    "name": "stderr",
                    "output_type": "stream",
                    "text": [
                        "\r",
                        " 58%|\u2588\u2588\u2588\u2588\u2588\u2588\u2588\u2588\u2588\u2588\u2588\u2588\u2588\u2588\u2588\u2588\u2588\u2588\u2588\u2588\u2588\u258c               | 142/244 [00:16<00:11,  8.63it/s]"
                    ]
                },
                {
                    "name": "stderr",
                    "output_type": "stream",
                    "text": [
                        "\r",
                        " 59%|\u2588\u2588\u2588\u2588\u2588\u2588\u2588\u2588\u2588\u2588\u2588\u2588\u2588\u2588\u2588\u2588\u2588\u2588\u2588\u2588\u2588\u258b               | 143/244 [00:16<00:11,  8.65it/s]"
                    ]
                },
                {
                    "name": "stderr",
                    "output_type": "stream",
                    "text": [
                        "\r",
                        " 59%|\u2588\u2588\u2588\u2588\u2588\u2588\u2588\u2588\u2588\u2588\u2588\u2588\u2588\u2588\u2588\u2588\u2588\u2588\u2588\u2588\u2588\u258a               | 144/244 [00:16<00:11,  8.57it/s]"
                    ]
                },
                {
                    "name": "stderr",
                    "output_type": "stream",
                    "text": [
                        "\r",
                        " 59%|\u2588\u2588\u2588\u2588\u2588\u2588\u2588\u2588\u2588\u2588\u2588\u2588\u2588\u2588\u2588\u2588\u2588\u2588\u2588\u2588\u2588\u2589               | 145/244 [00:16<00:11,  8.62it/s]"
                    ]
                },
                {
                    "name": "stderr",
                    "output_type": "stream",
                    "text": [
                        "\r",
                        " 60%|\u2588\u2588\u2588\u2588\u2588\u2588\u2588\u2588\u2588\u2588\u2588\u2588\u2588\u2588\u2588\u2588\u2588\u2588\u2588\u2588\u2588\u2588\u258f              | 146/244 [00:17<00:11,  8.62it/s]"
                    ]
                },
                {
                    "name": "stderr",
                    "output_type": "stream",
                    "text": [
                        "\r",
                        " 60%|\u2588\u2588\u2588\u2588\u2588\u2588\u2588\u2588\u2588\u2588\u2588\u2588\u2588\u2588\u2588\u2588\u2588\u2588\u2588\u2588\u2588\u2588\u258e              | 147/244 [00:17<00:11,  8.66it/s]"
                    ]
                },
                {
                    "name": "stderr",
                    "output_type": "stream",
                    "text": [
                        "\r",
                        " 61%|\u2588\u2588\u2588\u2588\u2588\u2588\u2588\u2588\u2588\u2588\u2588\u2588\u2588\u2588\u2588\u2588\u2588\u2588\u2588\u2588\u2588\u2588\u258d              | 148/244 [00:17<00:11,  8.69it/s]"
                    ]
                },
                {
                    "name": "stderr",
                    "output_type": "stream",
                    "text": [
                        "\r",
                        " 61%|\u2588\u2588\u2588\u2588\u2588\u2588\u2588\u2588\u2588\u2588\u2588\u2588\u2588\u2588\u2588\u2588\u2588\u2588\u2588\u2588\u2588\u2588\u258c              | 149/244 [00:17<00:10,  8.75it/s]"
                    ]
                },
                {
                    "name": "stderr",
                    "output_type": "stream",
                    "text": [
                        "\r",
                        " 61%|\u2588\u2588\u2588\u2588\u2588\u2588\u2588\u2588\u2588\u2588\u2588\u2588\u2588\u2588\u2588\u2588\u2588\u2588\u2588\u2588\u2588\u2588\u258b              | 150/244 [00:17<00:10,  8.75it/s]"
                    ]
                },
                {
                    "name": "stderr",
                    "output_type": "stream",
                    "text": [
                        "\r",
                        " 62%|\u2588\u2588\u2588\u2588\u2588\u2588\u2588\u2588\u2588\u2588\u2588\u2588\u2588\u2588\u2588\u2588\u2588\u2588\u2588\u2588\u2588\u2588\u2589              | 151/244 [00:17<00:10,  8.74it/s]"
                    ]
                },
                {
                    "name": "stderr",
                    "output_type": "stream",
                    "text": [
                        "\r",
                        " 62%|\u2588\u2588\u2588\u2588\u2588\u2588\u2588\u2588\u2588\u2588\u2588\u2588\u2588\u2588\u2588\u2588\u2588\u2588\u2588\u2588\u2588\u2588\u2588              | 152/244 [00:17<00:10,  8.73it/s]"
                    ]
                },
                {
                    "name": "stderr",
                    "output_type": "stream",
                    "text": [
                        "\r",
                        " 63%|\u2588\u2588\u2588\u2588\u2588\u2588\u2588\u2588\u2588\u2588\u2588\u2588\u2588\u2588\u2588\u2588\u2588\u2588\u2588\u2588\u2588\u2588\u2588\u258f             | 153/244 [00:17<00:10,  8.73it/s]"
                    ]
                },
                {
                    "name": "stderr",
                    "output_type": "stream",
                    "text": [
                        "\r",
                        " 63%|\u2588\u2588\u2588\u2588\u2588\u2588\u2588\u2588\u2588\u2588\u2588\u2588\u2588\u2588\u2588\u2588\u2588\u2588\u2588\u2588\u2588\u2588\u2588\u258e             | 154/244 [00:17<00:10,  8.76it/s]"
                    ]
                },
                {
                    "name": "stderr",
                    "output_type": "stream",
                    "text": [
                        "\r",
                        " 64%|\u2588\u2588\u2588\u2588\u2588\u2588\u2588\u2588\u2588\u2588\u2588\u2588\u2588\u2588\u2588\u2588\u2588\u2588\u2588\u2588\u2588\u2588\u2588\u258c             | 155/244 [00:18<00:10,  8.81it/s]"
                    ]
                },
                {
                    "name": "stderr",
                    "output_type": "stream",
                    "text": [
                        "\r",
                        " 64%|\u2588\u2588\u2588\u2588\u2588\u2588\u2588\u2588\u2588\u2588\u2588\u2588\u2588\u2588\u2588\u2588\u2588\u2588\u2588\u2588\u2588\u2588\u2588\u258b             | 156/244 [00:18<00:10,  8.78it/s]"
                    ]
                },
                {
                    "name": "stderr",
                    "output_type": "stream",
                    "text": [
                        "\r",
                        " 64%|\u2588\u2588\u2588\u2588\u2588\u2588\u2588\u2588\u2588\u2588\u2588\u2588\u2588\u2588\u2588\u2588\u2588\u2588\u2588\u2588\u2588\u2588\u2588\u258a             | 157/244 [00:18<00:09,  8.73it/s]"
                    ]
                },
                {
                    "name": "stderr",
                    "output_type": "stream",
                    "text": [
                        "\r",
                        " 65%|\u2588\u2588\u2588\u2588\u2588\u2588\u2588\u2588\u2588\u2588\u2588\u2588\u2588\u2588\u2588\u2588\u2588\u2588\u2588\u2588\u2588\u2588\u2588\u2589             | 158/244 [00:18<00:09,  8.74it/s]"
                    ]
                },
                {
                    "name": "stderr",
                    "output_type": "stream",
                    "text": [
                        "\r",
                        " 65%|\u2588\u2588\u2588\u2588\u2588\u2588\u2588\u2588\u2588\u2588\u2588\u2588\u2588\u2588\u2588\u2588\u2588\u2588\u2588\u2588\u2588\u2588\u2588\u2588             | 159/244 [00:18<00:09,  8.74it/s]"
                    ]
                },
                {
                    "name": "stderr",
                    "output_type": "stream",
                    "text": [
                        "\r",
                        " 66%|\u2588\u2588\u2588\u2588\u2588\u2588\u2588\u2588\u2588\u2588\u2588\u2588\u2588\u2588\u2588\u2588\u2588\u2588\u2588\u2588\u2588\u2588\u2588\u2588\u258e            | 160/244 [00:18<00:09,  8.77it/s]"
                    ]
                },
                {
                    "name": "stderr",
                    "output_type": "stream",
                    "text": [
                        "\r",
                        " 66%|\u2588\u2588\u2588\u2588\u2588\u2588\u2588\u2588\u2588\u2588\u2588\u2588\u2588\u2588\u2588\u2588\u2588\u2588\u2588\u2588\u2588\u2588\u2588\u2588\u258d            | 161/244 [00:18<00:09,  8.75it/s]"
                    ]
                },
                {
                    "name": "stderr",
                    "output_type": "stream",
                    "text": [
                        "\r",
                        " 66%|\u2588\u2588\u2588\u2588\u2588\u2588\u2588\u2588\u2588\u2588\u2588\u2588\u2588\u2588\u2588\u2588\u2588\u2588\u2588\u2588\u2588\u2588\u2588\u2588\u258c            | 162/244 [00:18<00:09,  8.75it/s]"
                    ]
                },
                {
                    "name": "stderr",
                    "output_type": "stream",
                    "text": [
                        "\r",
                        " 67%|\u2588\u2588\u2588\u2588\u2588\u2588\u2588\u2588\u2588\u2588\u2588\u2588\u2588\u2588\u2588\u2588\u2588\u2588\u2588\u2588\u2588\u2588\u2588\u2588\u258b            | 163/244 [00:18<00:09,  8.75it/s]"
                    ]
                },
                {
                    "name": "stderr",
                    "output_type": "stream",
                    "text": [
                        "\r",
                        " 67%|\u2588\u2588\u2588\u2588\u2588\u2588\u2588\u2588\u2588\u2588\u2588\u2588\u2588\u2588\u2588\u2588\u2588\u2588\u2588\u2588\u2588\u2588\u2588\u2588\u258a            | 164/244 [00:19<00:09,  8.73it/s]"
                    ]
                },
                {
                    "name": "stderr",
                    "output_type": "stream",
                    "text": [
                        "\r",
                        " 68%|\u2588\u2588\u2588\u2588\u2588\u2588\u2588\u2588\u2588\u2588\u2588\u2588\u2588\u2588\u2588\u2588\u2588\u2588\u2588\u2588\u2588\u2588\u2588\u2588\u2588            | 165/244 [00:19<00:09,  8.70it/s]"
                    ]
                },
                {
                    "name": "stderr",
                    "output_type": "stream",
                    "text": [
                        "\r",
                        " 68%|\u2588\u2588\u2588\u2588\u2588\u2588\u2588\u2588\u2588\u2588\u2588\u2588\u2588\u2588\u2588\u2588\u2588\u2588\u2588\u2588\u2588\u2588\u2588\u2588\u2588\u258f           | 166/244 [00:19<00:09,  8.65it/s]"
                    ]
                },
                {
                    "name": "stderr",
                    "output_type": "stream",
                    "text": [
                        "\r",
                        " 68%|\u2588\u2588\u2588\u2588\u2588\u2588\u2588\u2588\u2588\u2588\u2588\u2588\u2588\u2588\u2588\u2588\u2588\u2588\u2588\u2588\u2588\u2588\u2588\u2588\u2588\u258e           | 167/244 [00:19<00:08,  8.67it/s]"
                    ]
                },
                {
                    "name": "stderr",
                    "output_type": "stream",
                    "text": [
                        "\r",
                        " 69%|\u2588\u2588\u2588\u2588\u2588\u2588\u2588\u2588\u2588\u2588\u2588\u2588\u2588\u2588\u2588\u2588\u2588\u2588\u2588\u2588\u2588\u2588\u2588\u2588\u2588\u258d           | 168/244 [00:19<00:08,  8.74it/s]"
                    ]
                },
                {
                    "name": "stderr",
                    "output_type": "stream",
                    "text": [
                        "\r",
                        " 69%|\u2588\u2588\u2588\u2588\u2588\u2588\u2588\u2588\u2588\u2588\u2588\u2588\u2588\u2588\u2588\u2588\u2588\u2588\u2588\u2588\u2588\u2588\u2588\u2588\u2588\u258b           | 169/244 [00:19<00:08,  8.74it/s]"
                    ]
                },
                {
                    "name": "stderr",
                    "output_type": "stream",
                    "text": [
                        "\r",
                        " 70%|\u2588\u2588\u2588\u2588\u2588\u2588\u2588\u2588\u2588\u2588\u2588\u2588\u2588\u2588\u2588\u2588\u2588\u2588\u2588\u2588\u2588\u2588\u2588\u2588\u2588\u258a           | 170/244 [00:19<00:08,  8.84it/s]"
                    ]
                },
                {
                    "name": "stderr",
                    "output_type": "stream",
                    "text": [
                        "\r",
                        " 70%|\u2588\u2588\u2588\u2588\u2588\u2588\u2588\u2588\u2588\u2588\u2588\u2588\u2588\u2588\u2588\u2588\u2588\u2588\u2588\u2588\u2588\u2588\u2588\u2588\u2588\u2589           | 171/244 [00:19<00:08,  8.90it/s]"
                    ]
                },
                {
                    "name": "stderr",
                    "output_type": "stream",
                    "text": [
                        "\r",
                        " 70%|\u2588\u2588\u2588\u2588\u2588\u2588\u2588\u2588\u2588\u2588\u2588\u2588\u2588\u2588\u2588\u2588\u2588\u2588\u2588\u2588\u2588\u2588\u2588\u2588\u2588\u2588           | 172/244 [00:20<00:08,  8.92it/s]"
                    ]
                },
                {
                    "name": "stderr",
                    "output_type": "stream",
                    "text": [
                        "\r",
                        " 71%|\u2588\u2588\u2588\u2588\u2588\u2588\u2588\u2588\u2588\u2588\u2588\u2588\u2588\u2588\u2588\u2588\u2588\u2588\u2588\u2588\u2588\u2588\u2588\u2588\u2588\u2588\u258f          | 173/244 [00:20<00:07,  8.88it/s]"
                    ]
                },
                {
                    "name": "stderr",
                    "output_type": "stream",
                    "text": [
                        "\r",
                        " 71%|\u2588\u2588\u2588\u2588\u2588\u2588\u2588\u2588\u2588\u2588\u2588\u2588\u2588\u2588\u2588\u2588\u2588\u2588\u2588\u2588\u2588\u2588\u2588\u2588\u2588\u2588\u258d          | 174/244 [00:20<00:07,  8.89it/s]"
                    ]
                },
                {
                    "name": "stderr",
                    "output_type": "stream",
                    "text": [
                        "\r",
                        " 72%|\u2588\u2588\u2588\u2588\u2588\u2588\u2588\u2588\u2588\u2588\u2588\u2588\u2588\u2588\u2588\u2588\u2588\u2588\u2588\u2588\u2588\u2588\u2588\u2588\u2588\u2588\u258c          | 175/244 [00:20<00:07,  8.86it/s]"
                    ]
                },
                {
                    "name": "stderr",
                    "output_type": "stream",
                    "text": [
                        "\r",
                        " 72%|\u2588\u2588\u2588\u2588\u2588\u2588\u2588\u2588\u2588\u2588\u2588\u2588\u2588\u2588\u2588\u2588\u2588\u2588\u2588\u2588\u2588\u2588\u2588\u2588\u2588\u2588\u258b          | 176/244 [00:20<00:07,  8.92it/s]"
                    ]
                },
                {
                    "name": "stderr",
                    "output_type": "stream",
                    "text": [
                        "\r",
                        " 73%|\u2588\u2588\u2588\u2588\u2588\u2588\u2588\u2588\u2588\u2588\u2588\u2588\u2588\u2588\u2588\u2588\u2588\u2588\u2588\u2588\u2588\u2588\u2588\u2588\u2588\u2588\u258a          | 177/244 [00:20<00:07,  8.95it/s]"
                    ]
                },
                {
                    "name": "stderr",
                    "output_type": "stream",
                    "text": [
                        "\r",
                        " 73%|\u2588\u2588\u2588\u2588\u2588\u2588\u2588\u2588\u2588\u2588\u2588\u2588\u2588\u2588\u2588\u2588\u2588\u2588\u2588\u2588\u2588\u2588\u2588\u2588\u2588\u2588\u2589          | 178/244 [00:20<00:07,  8.92it/s]"
                    ]
                },
                {
                    "name": "stderr",
                    "output_type": "stream",
                    "text": [
                        "\r",
                        " 73%|\u2588\u2588\u2588\u2588\u2588\u2588\u2588\u2588\u2588\u2588\u2588\u2588\u2588\u2588\u2588\u2588\u2588\u2588\u2588\u2588\u2588\u2588\u2588\u2588\u2588\u2588\u2588\u258f         | 179/244 [00:20<00:07,  8.93it/s]"
                    ]
                },
                {
                    "name": "stderr",
                    "output_type": "stream",
                    "text": [
                        "\r",
                        " 74%|\u2588\u2588\u2588\u2588\u2588\u2588\u2588\u2588\u2588\u2588\u2588\u2588\u2588\u2588\u2588\u2588\u2588\u2588\u2588\u2588\u2588\u2588\u2588\u2588\u2588\u2588\u2588\u258e         | 180/244 [00:20<00:07,  8.93it/s]"
                    ]
                },
                {
                    "name": "stderr",
                    "output_type": "stream",
                    "text": [
                        "\r",
                        " 74%|\u2588\u2588\u2588\u2588\u2588\u2588\u2588\u2588\u2588\u2588\u2588\u2588\u2588\u2588\u2588\u2588\u2588\u2588\u2588\u2588\u2588\u2588\u2588\u2588\u2588\u2588\u2588\u258d         | 181/244 [00:21<00:07,  8.98it/s]"
                    ]
                },
                {
                    "name": "stderr",
                    "output_type": "stream",
                    "text": [
                        "\r",
                        " 75%|\u2588\u2588\u2588\u2588\u2588\u2588\u2588\u2588\u2588\u2588\u2588\u2588\u2588\u2588\u2588\u2588\u2588\u2588\u2588\u2588\u2588\u2588\u2588\u2588\u2588\u2588\u2588\u258c         | 182/244 [00:21<00:06,  8.93it/s]"
                    ]
                },
                {
                    "name": "stderr",
                    "output_type": "stream",
                    "text": [
                        "\r",
                        " 75%|\u2588\u2588\u2588\u2588\u2588\u2588\u2588\u2588\u2588\u2588\u2588\u2588\u2588\u2588\u2588\u2588\u2588\u2588\u2588\u2588\u2588\u2588\u2588\u2588\u2588\u2588\u2588\u258a         | 183/244 [00:21<00:06,  8.86it/s]"
                    ]
                },
                {
                    "name": "stderr",
                    "output_type": "stream",
                    "text": [
                        "\r",
                        " 75%|\u2588\u2588\u2588\u2588\u2588\u2588\u2588\u2588\u2588\u2588\u2588\u2588\u2588\u2588\u2588\u2588\u2588\u2588\u2588\u2588\u2588\u2588\u2588\u2588\u2588\u2588\u2588\u2589         | 184/244 [00:21<00:06,  8.85it/s]"
                    ]
                },
                {
                    "name": "stderr",
                    "output_type": "stream",
                    "text": [
                        "\r",
                        " 76%|\u2588\u2588\u2588\u2588\u2588\u2588\u2588\u2588\u2588\u2588\u2588\u2588\u2588\u2588\u2588\u2588\u2588\u2588\u2588\u2588\u2588\u2588\u2588\u2588\u2588\u2588\u2588\u2588         | 185/244 [00:21<00:06,  8.74it/s]"
                    ]
                },
                {
                    "name": "stderr",
                    "output_type": "stream",
                    "text": [
                        "\r",
                        " 76%|\u2588\u2588\u2588\u2588\u2588\u2588\u2588\u2588\u2588\u2588\u2588\u2588\u2588\u2588\u2588\u2588\u2588\u2588\u2588\u2588\u2588\u2588\u2588\u2588\u2588\u2588\u2588\u2588\u258f        | 186/244 [00:21<00:06,  8.64it/s]"
                    ]
                },
                {
                    "name": "stderr",
                    "output_type": "stream",
                    "text": [
                        "\r",
                        " 77%|\u2588\u2588\u2588\u2588\u2588\u2588\u2588\u2588\u2588\u2588\u2588\u2588\u2588\u2588\u2588\u2588\u2588\u2588\u2588\u2588\u2588\u2588\u2588\u2588\u2588\u2588\u2588\u2588\u258e        | 187/244 [00:21<00:06,  8.65it/s]"
                    ]
                },
                {
                    "name": "stderr",
                    "output_type": "stream",
                    "text": [
                        "\r",
                        " 77%|\u2588\u2588\u2588\u2588\u2588\u2588\u2588\u2588\u2588\u2588\u2588\u2588\u2588\u2588\u2588\u2588\u2588\u2588\u2588\u2588\u2588\u2588\u2588\u2588\u2588\u2588\u2588\u2588\u258c        | 188/244 [00:21<00:06,  8.74it/s]"
                    ]
                },
                {
                    "name": "stderr",
                    "output_type": "stream",
                    "text": [
                        "\r",
                        " 77%|\u2588\u2588\u2588\u2588\u2588\u2588\u2588\u2588\u2588\u2588\u2588\u2588\u2588\u2588\u2588\u2588\u2588\u2588\u2588\u2588\u2588\u2588\u2588\u2588\u2588\u2588\u2588\u2588\u258b        | 189/244 [00:21<00:06,  8.74it/s]"
                    ]
                },
                {
                    "name": "stderr",
                    "output_type": "stream",
                    "text": [
                        "\r",
                        " 78%|\u2588\u2588\u2588\u2588\u2588\u2588\u2588\u2588\u2588\u2588\u2588\u2588\u2588\u2588\u2588\u2588\u2588\u2588\u2588\u2588\u2588\u2588\u2588\u2588\u2588\u2588\u2588\u2588\u258a        | 190/244 [00:22<00:06,  8.77it/s]"
                    ]
                },
                {
                    "name": "stderr",
                    "output_type": "stream",
                    "text": [
                        "\r",
                        " 78%|\u2588\u2588\u2588\u2588\u2588\u2588\u2588\u2588\u2588\u2588\u2588\u2588\u2588\u2588\u2588\u2588\u2588\u2588\u2588\u2588\u2588\u2588\u2588\u2588\u2588\u2588\u2588\u2588\u2589        | 191/244 [00:22<00:06,  8.71it/s]"
                    ]
                },
                {
                    "name": "stderr",
                    "output_type": "stream",
                    "text": [
                        "\r",
                        " 79%|\u2588\u2588\u2588\u2588\u2588\u2588\u2588\u2588\u2588\u2588\u2588\u2588\u2588\u2588\u2588\u2588\u2588\u2588\u2588\u2588\u2588\u2588\u2588\u2588\u2588\u2588\u2588\u2588\u2588        | 192/244 [00:22<00:05,  8.76it/s]"
                    ]
                },
                {
                    "name": "stderr",
                    "output_type": "stream",
                    "text": [
                        "\r",
                        " 79%|\u2588\u2588\u2588\u2588\u2588\u2588\u2588\u2588\u2588\u2588\u2588\u2588\u2588\u2588\u2588\u2588\u2588\u2588\u2588\u2588\u2588\u2588\u2588\u2588\u2588\u2588\u2588\u2588\u2588\u258e       | 193/244 [00:22<00:05,  8.69it/s]"
                    ]
                },
                {
                    "name": "stderr",
                    "output_type": "stream",
                    "text": [
                        "\r",
                        " 80%|\u2588\u2588\u2588\u2588\u2588\u2588\u2588\u2588\u2588\u2588\u2588\u2588\u2588\u2588\u2588\u2588\u2588\u2588\u2588\u2588\u2588\u2588\u2588\u2588\u2588\u2588\u2588\u2588\u2588\u258d       | 194/244 [00:22<00:05,  8.49it/s]"
                    ]
                },
                {
                    "name": "stderr",
                    "output_type": "stream",
                    "text": [
                        "\r",
                        " 80%|\u2588\u2588\u2588\u2588\u2588\u2588\u2588\u2588\u2588\u2588\u2588\u2588\u2588\u2588\u2588\u2588\u2588\u2588\u2588\u2588\u2588\u2588\u2588\u2588\u2588\u2588\u2588\u2588\u2588\u258c       | 195/244 [00:22<00:05,  8.44it/s]"
                    ]
                },
                {
                    "name": "stderr",
                    "output_type": "stream",
                    "text": [
                        "\r",
                        " 80%|\u2588\u2588\u2588\u2588\u2588\u2588\u2588\u2588\u2588\u2588\u2588\u2588\u2588\u2588\u2588\u2588\u2588\u2588\u2588\u2588\u2588\u2588\u2588\u2588\u2588\u2588\u2588\u2588\u2588\u258b       | 196/244 [00:22<00:05,  8.45it/s]"
                    ]
                },
                {
                    "name": "stderr",
                    "output_type": "stream",
                    "text": [
                        "\r",
                        " 81%|\u2588\u2588\u2588\u2588\u2588\u2588\u2588\u2588\u2588\u2588\u2588\u2588\u2588\u2588\u2588\u2588\u2588\u2588\u2588\u2588\u2588\u2588\u2588\u2588\u2588\u2588\u2588\u2588\u2588\u258a       | 197/244 [00:22<00:05,  8.47it/s]"
                    ]
                },
                {
                    "name": "stderr",
                    "output_type": "stream",
                    "text": [
                        "\r",
                        " 81%|\u2588\u2588\u2588\u2588\u2588\u2588\u2588\u2588\u2588\u2588\u2588\u2588\u2588\u2588\u2588\u2588\u2588\u2588\u2588\u2588\u2588\u2588\u2588\u2588\u2588\u2588\u2588\u2588\u2588\u2588       | 198/244 [00:22<00:05,  8.48it/s]"
                    ]
                },
                {
                    "name": "stderr",
                    "output_type": "stream",
                    "text": [
                        "\r",
                        " 82%|\u2588\u2588\u2588\u2588\u2588\u2588\u2588\u2588\u2588\u2588\u2588\u2588\u2588\u2588\u2588\u2588\u2588\u2588\u2588\u2588\u2588\u2588\u2588\u2588\u2588\u2588\u2588\u2588\u2588\u2588\u258f      | 199/244 [00:23<00:05,  8.51it/s]"
                    ]
                },
                {
                    "name": "stderr",
                    "output_type": "stream",
                    "text": [
                        "\r",
                        " 82%|\u2588\u2588\u2588\u2588\u2588\u2588\u2588\u2588\u2588\u2588\u2588\u2588\u2588\u2588\u2588\u2588\u2588\u2588\u2588\u2588\u2588\u2588\u2588\u2588\u2588\u2588\u2588\u2588\u2588\u2588\u258e      | 200/244 [00:23<00:05,  8.54it/s]"
                    ]
                },
                {
                    "name": "stderr",
                    "output_type": "stream",
                    "text": [
                        "\r",
                        " 82%|\u2588\u2588\u2588\u2588\u2588\u2588\u2588\u2588\u2588\u2588\u2588\u2588\u2588\u2588\u2588\u2588\u2588\u2588\u2588\u2588\u2588\u2588\u2588\u2588\u2588\u2588\u2588\u2588\u2588\u2588\u258d      | 201/244 [00:23<00:05,  8.56it/s]"
                    ]
                },
                {
                    "name": "stderr",
                    "output_type": "stream",
                    "text": [
                        "\r",
                        " 83%|\u2588\u2588\u2588\u2588\u2588\u2588\u2588\u2588\u2588\u2588\u2588\u2588\u2588\u2588\u2588\u2588\u2588\u2588\u2588\u2588\u2588\u2588\u2588\u2588\u2588\u2588\u2588\u2588\u2588\u2588\u258b      | 202/244 [00:23<00:04,  8.57it/s]"
                    ]
                },
                {
                    "name": "stderr",
                    "output_type": "stream",
                    "text": [
                        "\r",
                        " 83%|\u2588\u2588\u2588\u2588\u2588\u2588\u2588\u2588\u2588\u2588\u2588\u2588\u2588\u2588\u2588\u2588\u2588\u2588\u2588\u2588\u2588\u2588\u2588\u2588\u2588\u2588\u2588\u2588\u2588\u2588\u258a      | 203/244 [00:23<00:04,  8.51it/s]"
                    ]
                },
                {
                    "name": "stderr",
                    "output_type": "stream",
                    "text": [
                        "\r",
                        " 84%|\u2588\u2588\u2588\u2588\u2588\u2588\u2588\u2588\u2588\u2588\u2588\u2588\u2588\u2588\u2588\u2588\u2588\u2588\u2588\u2588\u2588\u2588\u2588\u2588\u2588\u2588\u2588\u2588\u2588\u2588\u2589      | 204/244 [00:23<00:04,  8.48it/s]"
                    ]
                },
                {
                    "name": "stderr",
                    "output_type": "stream",
                    "text": [
                        "\r",
                        " 84%|\u2588\u2588\u2588\u2588\u2588\u2588\u2588\u2588\u2588\u2588\u2588\u2588\u2588\u2588\u2588\u2588\u2588\u2588\u2588\u2588\u2588\u2588\u2588\u2588\u2588\u2588\u2588\u2588\u2588\u2588\u2588      | 205/244 [00:23<00:04,  8.46it/s]"
                    ]
                },
                {
                    "name": "stderr",
                    "output_type": "stream",
                    "text": [
                        "\r",
                        " 84%|\u2588\u2588\u2588\u2588\u2588\u2588\u2588\u2588\u2588\u2588\u2588\u2588\u2588\u2588\u2588\u2588\u2588\u2588\u2588\u2588\u2588\u2588\u2588\u2588\u2588\u2588\u2588\u2588\u2588\u2588\u2588\u258f     | 206/244 [00:23<00:04,  8.42it/s]"
                    ]
                },
                {
                    "name": "stderr",
                    "output_type": "stream",
                    "text": [
                        "\r",
                        " 85%|\u2588\u2588\u2588\u2588\u2588\u2588\u2588\u2588\u2588\u2588\u2588\u2588\u2588\u2588\u2588\u2588\u2588\u2588\u2588\u2588\u2588\u2588\u2588\u2588\u2588\u2588\u2588\u2588\u2588\u2588\u2588\u258d     | 207/244 [00:24<00:04,  8.41it/s]"
                    ]
                },
                {
                    "name": "stderr",
                    "output_type": "stream",
                    "text": [
                        "\r",
                        " 85%|\u2588\u2588\u2588\u2588\u2588\u2588\u2588\u2588\u2588\u2588\u2588\u2588\u2588\u2588\u2588\u2588\u2588\u2588\u2588\u2588\u2588\u2588\u2588\u2588\u2588\u2588\u2588\u2588\u2588\u2588\u2588\u258c     | 208/244 [00:24<00:04,  8.43it/s]"
                    ]
                },
                {
                    "name": "stderr",
                    "output_type": "stream",
                    "text": [
                        "\r",
                        " 86%|\u2588\u2588\u2588\u2588\u2588\u2588\u2588\u2588\u2588\u2588\u2588\u2588\u2588\u2588\u2588\u2588\u2588\u2588\u2588\u2588\u2588\u2588\u2588\u2588\u2588\u2588\u2588\u2588\u2588\u2588\u2588\u258b     | 209/244 [00:24<00:04,  8.41it/s]"
                    ]
                },
                {
                    "name": "stderr",
                    "output_type": "stream",
                    "text": [
                        "\r",
                        " 86%|\u2588\u2588\u2588\u2588\u2588\u2588\u2588\u2588\u2588\u2588\u2588\u2588\u2588\u2588\u2588\u2588\u2588\u2588\u2588\u2588\u2588\u2588\u2588\u2588\u2588\u2588\u2588\u2588\u2588\u2588\u2588\u258a     | 210/244 [00:24<00:04,  8.36it/s]"
                    ]
                },
                {
                    "name": "stderr",
                    "output_type": "stream",
                    "text": [
                        "\r",
                        " 86%|\u2588\u2588\u2588\u2588\u2588\u2588\u2588\u2588\u2588\u2588\u2588\u2588\u2588\u2588\u2588\u2588\u2588\u2588\u2588\u2588\u2588\u2588\u2588\u2588\u2588\u2588\u2588\u2588\u2588\u2588\u2588\u2589     | 211/244 [00:24<00:03,  8.37it/s]"
                    ]
                },
                {
                    "name": "stderr",
                    "output_type": "stream",
                    "text": [
                        "\r",
                        " 87%|\u2588\u2588\u2588\u2588\u2588\u2588\u2588\u2588\u2588\u2588\u2588\u2588\u2588\u2588\u2588\u2588\u2588\u2588\u2588\u2588\u2588\u2588\u2588\u2588\u2588\u2588\u2588\u2588\u2588\u2588\u2588\u2588\u258f    | 212/244 [00:24<00:03,  8.39it/s]"
                    ]
                },
                {
                    "name": "stderr",
                    "output_type": "stream",
                    "text": [
                        "\r",
                        " 87%|\u2588\u2588\u2588\u2588\u2588\u2588\u2588\u2588\u2588\u2588\u2588\u2588\u2588\u2588\u2588\u2588\u2588\u2588\u2588\u2588\u2588\u2588\u2588\u2588\u2588\u2588\u2588\u2588\u2588\u2588\u2588\u2588\u258e    | 213/244 [00:24<00:03,  8.39it/s]"
                    ]
                },
                {
                    "name": "stderr",
                    "output_type": "stream",
                    "text": [
                        "\r",
                        " 88%|\u2588\u2588\u2588\u2588\u2588\u2588\u2588\u2588\u2588\u2588\u2588\u2588\u2588\u2588\u2588\u2588\u2588\u2588\u2588\u2588\u2588\u2588\u2588\u2588\u2588\u2588\u2588\u2588\u2588\u2588\u2588\u2588\u258d    | 214/244 [00:24<00:03,  8.42it/s]"
                    ]
                },
                {
                    "name": "stderr",
                    "output_type": "stream",
                    "text": [
                        "\r",
                        " 88%|\u2588\u2588\u2588\u2588\u2588\u2588\u2588\u2588\u2588\u2588\u2588\u2588\u2588\u2588\u2588\u2588\u2588\u2588\u2588\u2588\u2588\u2588\u2588\u2588\u2588\u2588\u2588\u2588\u2588\u2588\u2588\u2588\u258c    | 215/244 [00:25<00:03,  8.32it/s]"
                    ]
                },
                {
                    "name": "stderr",
                    "output_type": "stream",
                    "text": [
                        "\r",
                        " 89%|\u2588\u2588\u2588\u2588\u2588\u2588\u2588\u2588\u2588\u2588\u2588\u2588\u2588\u2588\u2588\u2588\u2588\u2588\u2588\u2588\u2588\u2588\u2588\u2588\u2588\u2588\u2588\u2588\u2588\u2588\u2588\u2588\u258a    | 216/244 [00:25<00:03,  8.20it/s]"
                    ]
                },
                {
                    "name": "stderr",
                    "output_type": "stream",
                    "text": [
                        "\r",
                        " 89%|\u2588\u2588\u2588\u2588\u2588\u2588\u2588\u2588\u2588\u2588\u2588\u2588\u2588\u2588\u2588\u2588\u2588\u2588\u2588\u2588\u2588\u2588\u2588\u2588\u2588\u2588\u2588\u2588\u2588\u2588\u2588\u2588\u2589    | 217/244 [00:25<00:03,  8.30it/s]"
                    ]
                },
                {
                    "name": "stderr",
                    "output_type": "stream",
                    "text": [
                        "\r",
                        " 89%|\u2588\u2588\u2588\u2588\u2588\u2588\u2588\u2588\u2588\u2588\u2588\u2588\u2588\u2588\u2588\u2588\u2588\u2588\u2588\u2588\u2588\u2588\u2588\u2588\u2588\u2588\u2588\u2588\u2588\u2588\u2588\u2588\u2588    | 218/244 [00:25<00:03,  8.37it/s]"
                    ]
                },
                {
                    "name": "stderr",
                    "output_type": "stream",
                    "text": [
                        "\r",
                        " 90%|\u2588\u2588\u2588\u2588\u2588\u2588\u2588\u2588\u2588\u2588\u2588\u2588\u2588\u2588\u2588\u2588\u2588\u2588\u2588\u2588\u2588\u2588\u2588\u2588\u2588\u2588\u2588\u2588\u2588\u2588\u2588\u2588\u2588\u258f   | 219/244 [00:25<00:02,  8.45it/s]"
                    ]
                },
                {
                    "name": "stderr",
                    "output_type": "stream",
                    "text": [
                        "\r",
                        " 90%|\u2588\u2588\u2588\u2588\u2588\u2588\u2588\u2588\u2588\u2588\u2588\u2588\u2588\u2588\u2588\u2588\u2588\u2588\u2588\u2588\u2588\u2588\u2588\u2588\u2588\u2588\u2588\u2588\u2588\u2588\u2588\u2588\u2588\u258e   | 220/244 [00:25<00:02,  8.54it/s]"
                    ]
                },
                {
                    "name": "stderr",
                    "output_type": "stream",
                    "text": [
                        "\r",
                        " 91%|\u2588\u2588\u2588\u2588\u2588\u2588\u2588\u2588\u2588\u2588\u2588\u2588\u2588\u2588\u2588\u2588\u2588\u2588\u2588\u2588\u2588\u2588\u2588\u2588\u2588\u2588\u2588\u2588\u2588\u2588\u2588\u2588\u2588\u258c   | 221/244 [00:25<00:02,  8.55it/s]"
                    ]
                },
                {
                    "name": "stderr",
                    "output_type": "stream",
                    "text": [
                        "\r",
                        " 91%|\u2588\u2588\u2588\u2588\u2588\u2588\u2588\u2588\u2588\u2588\u2588\u2588\u2588\u2588\u2588\u2588\u2588\u2588\u2588\u2588\u2588\u2588\u2588\u2588\u2588\u2588\u2588\u2588\u2588\u2588\u2588\u2588\u2588\u258b   | 222/244 [00:25<00:02,  8.57it/s]"
                    ]
                },
                {
                    "name": "stderr",
                    "output_type": "stream",
                    "text": [
                        "\r",
                        " 91%|\u2588\u2588\u2588\u2588\u2588\u2588\u2588\u2588\u2588\u2588\u2588\u2588\u2588\u2588\u2588\u2588\u2588\u2588\u2588\u2588\u2588\u2588\u2588\u2588\u2588\u2588\u2588\u2588\u2588\u2588\u2588\u2588\u2588\u258a   | 223/244 [00:25<00:02,  8.59it/s]"
                    ]
                },
                {
                    "name": "stderr",
                    "output_type": "stream",
                    "text": [
                        "\r",
                        " 92%|\u2588\u2588\u2588\u2588\u2588\u2588\u2588\u2588\u2588\u2588\u2588\u2588\u2588\u2588\u2588\u2588\u2588\u2588\u2588\u2588\u2588\u2588\u2588\u2588\u2588\u2588\u2588\u2588\u2588\u2588\u2588\u2588\u2588\u2589   | 224/244 [00:26<00:02,  8.62it/s]"
                    ]
                },
                {
                    "name": "stderr",
                    "output_type": "stream",
                    "text": [
                        "\r",
                        " 92%|\u2588\u2588\u2588\u2588\u2588\u2588\u2588\u2588\u2588\u2588\u2588\u2588\u2588\u2588\u2588\u2588\u2588\u2588\u2588\u2588\u2588\u2588\u2588\u2588\u2588\u2588\u2588\u2588\u2588\u2588\u2588\u2588\u2588\u2588   | 225/244 [00:26<00:02,  8.61it/s]"
                    ]
                },
                {
                    "name": "stderr",
                    "output_type": "stream",
                    "text": [
                        "\r",
                        " 93%|\u2588\u2588\u2588\u2588\u2588\u2588\u2588\u2588\u2588\u2588\u2588\u2588\u2588\u2588\u2588\u2588\u2588\u2588\u2588\u2588\u2588\u2588\u2588\u2588\u2588\u2588\u2588\u2588\u2588\u2588\u2588\u2588\u2588\u2588\u258e  | 226/244 [00:26<00:02,  8.62it/s]"
                    ]
                },
                {
                    "name": "stderr",
                    "output_type": "stream",
                    "text": [
                        "\r",
                        " 93%|\u2588\u2588\u2588\u2588\u2588\u2588\u2588\u2588\u2588\u2588\u2588\u2588\u2588\u2588\u2588\u2588\u2588\u2588\u2588\u2588\u2588\u2588\u2588\u2588\u2588\u2588\u2588\u2588\u2588\u2588\u2588\u2588\u2588\u2588\u258d  | 227/244 [00:26<00:01,  8.58it/s]"
                    ]
                },
                {
                    "name": "stderr",
                    "output_type": "stream",
                    "text": [
                        "\r",
                        " 93%|\u2588\u2588\u2588\u2588\u2588\u2588\u2588\u2588\u2588\u2588\u2588\u2588\u2588\u2588\u2588\u2588\u2588\u2588\u2588\u2588\u2588\u2588\u2588\u2588\u2588\u2588\u2588\u2588\u2588\u2588\u2588\u2588\u2588\u2588\u258c  | 228/244 [00:26<00:01,  8.57it/s]"
                    ]
                },
                {
                    "name": "stderr",
                    "output_type": "stream",
                    "text": [
                        "\r",
                        " 94%|\u2588\u2588\u2588\u2588\u2588\u2588\u2588\u2588\u2588\u2588\u2588\u2588\u2588\u2588\u2588\u2588\u2588\u2588\u2588\u2588\u2588\u2588\u2588\u2588\u2588\u2588\u2588\u2588\u2588\u2588\u2588\u2588\u2588\u2588\u258b  | 229/244 [00:26<00:01,  8.47it/s]"
                    ]
                },
                {
                    "name": "stderr",
                    "output_type": "stream",
                    "text": [
                        "\r",
                        " 94%|\u2588\u2588\u2588\u2588\u2588\u2588\u2588\u2588\u2588\u2588\u2588\u2588\u2588\u2588\u2588\u2588\u2588\u2588\u2588\u2588\u2588\u2588\u2588\u2588\u2588\u2588\u2588\u2588\u2588\u2588\u2588\u2588\u2588\u2588\u2589  | 230/244 [00:26<00:01,  8.32it/s]"
                    ]
                },
                {
                    "name": "stderr",
                    "output_type": "stream",
                    "text": [
                        "\r",
                        " 95%|\u2588\u2588\u2588\u2588\u2588\u2588\u2588\u2588\u2588\u2588\u2588\u2588\u2588\u2588\u2588\u2588\u2588\u2588\u2588\u2588\u2588\u2588\u2588\u2588\u2588\u2588\u2588\u2588\u2588\u2588\u2588\u2588\u2588\u2588\u2588  | 231/244 [00:26<00:01,  8.25it/s]"
                    ]
                },
                {
                    "name": "stderr",
                    "output_type": "stream",
                    "text": [
                        "\r",
                        " 95%|\u2588\u2588\u2588\u2588\u2588\u2588\u2588\u2588\u2588\u2588\u2588\u2588\u2588\u2588\u2588\u2588\u2588\u2588\u2588\u2588\u2588\u2588\u2588\u2588\u2588\u2588\u2588\u2588\u2588\u2588\u2588\u2588\u2588\u2588\u2588\u258f | 232/244 [00:27<00:01,  8.32it/s]"
                    ]
                },
                {
                    "name": "stderr",
                    "output_type": "stream",
                    "text": [
                        "\r",
                        " 95%|\u2588\u2588\u2588\u2588\u2588\u2588\u2588\u2588\u2588\u2588\u2588\u2588\u2588\u2588\u2588\u2588\u2588\u2588\u2588\u2588\u2588\u2588\u2588\u2588\u2588\u2588\u2588\u2588\u2588\u2588\u2588\u2588\u2588\u2588\u2588\u258e | 233/244 [00:27<00:01,  8.39it/s]"
                    ]
                },
                {
                    "name": "stderr",
                    "output_type": "stream",
                    "text": [
                        "\r",
                        " 96%|\u2588\u2588\u2588\u2588\u2588\u2588\u2588\u2588\u2588\u2588\u2588\u2588\u2588\u2588\u2588\u2588\u2588\u2588\u2588\u2588\u2588\u2588\u2588\u2588\u2588\u2588\u2588\u2588\u2588\u2588\u2588\u2588\u2588\u2588\u2588\u258d | 234/244 [00:27<00:01,  8.45it/s]"
                    ]
                },
                {
                    "name": "stderr",
                    "output_type": "stream",
                    "text": [
                        "\r",
                        " 96%|\u2588\u2588\u2588\u2588\u2588\u2588\u2588\u2588\u2588\u2588\u2588\u2588\u2588\u2588\u2588\u2588\u2588\u2588\u2588\u2588\u2588\u2588\u2588\u2588\u2588\u2588\u2588\u2588\u2588\u2588\u2588\u2588\u2588\u2588\u2588\u258b | 235/244 [00:27<00:01,  8.48it/s]"
                    ]
                },
                {
                    "name": "stderr",
                    "output_type": "stream",
                    "text": [
                        "\r",
                        " 97%|\u2588\u2588\u2588\u2588\u2588\u2588\u2588\u2588\u2588\u2588\u2588\u2588\u2588\u2588\u2588\u2588\u2588\u2588\u2588\u2588\u2588\u2588\u2588\u2588\u2588\u2588\u2588\u2588\u2588\u2588\u2588\u2588\u2588\u2588\u2588\u258a | 236/244 [00:27<00:00,  8.49it/s]"
                    ]
                },
                {
                    "name": "stderr",
                    "output_type": "stream",
                    "text": [
                        "\r",
                        " 97%|\u2588\u2588\u2588\u2588\u2588\u2588\u2588\u2588\u2588\u2588\u2588\u2588\u2588\u2588\u2588\u2588\u2588\u2588\u2588\u2588\u2588\u2588\u2588\u2588\u2588\u2588\u2588\u2588\u2588\u2588\u2588\u2588\u2588\u2588\u2588\u2589 | 237/244 [00:27<00:00,  8.50it/s]"
                    ]
                },
                {
                    "name": "stderr",
                    "output_type": "stream",
                    "text": [
                        "\r",
                        " 98%|\u2588\u2588\u2588\u2588\u2588\u2588\u2588\u2588\u2588\u2588\u2588\u2588\u2588\u2588\u2588\u2588\u2588\u2588\u2588\u2588\u2588\u2588\u2588\u2588\u2588\u2588\u2588\u2588\u2588\u2588\u2588\u2588\u2588\u2588\u2588\u2588 | 238/244 [00:27<00:00,  8.45it/s]"
                    ]
                },
                {
                    "name": "stderr",
                    "output_type": "stream",
                    "text": [
                        "\r",
                        " 98%|\u2588\u2588\u2588\u2588\u2588\u2588\u2588\u2588\u2588\u2588\u2588\u2588\u2588\u2588\u2588\u2588\u2588\u2588\u2588\u2588\u2588\u2588\u2588\u2588\u2588\u2588\u2588\u2588\u2588\u2588\u2588\u2588\u2588\u2588\u2588\u2588\u258f| 239/244 [00:27<00:00,  8.46it/s]"
                    ]
                },
                {
                    "name": "stderr",
                    "output_type": "stream",
                    "text": [
                        "\r",
                        " 98%|\u2588\u2588\u2588\u2588\u2588\u2588\u2588\u2588\u2588\u2588\u2588\u2588\u2588\u2588\u2588\u2588\u2588\u2588\u2588\u2588\u2588\u2588\u2588\u2588\u2588\u2588\u2588\u2588\u2588\u2588\u2588\u2588\u2588\u2588\u2588\u2588\u258d| 240/244 [00:27<00:00,  8.48it/s]"
                    ]
                },
                {
                    "name": "stderr",
                    "output_type": "stream",
                    "text": [
                        "\r",
                        " 99%|\u2588\u2588\u2588\u2588\u2588\u2588\u2588\u2588\u2588\u2588\u2588\u2588\u2588\u2588\u2588\u2588\u2588\u2588\u2588\u2588\u2588\u2588\u2588\u2588\u2588\u2588\u2588\u2588\u2588\u2588\u2588\u2588\u2588\u2588\u2588\u2588\u258c| 241/244 [00:28<00:00,  8.48it/s]"
                    ]
                },
                {
                    "name": "stderr",
                    "output_type": "stream",
                    "text": [
                        "\r",
                        " 99%|\u2588\u2588\u2588\u2588\u2588\u2588\u2588\u2588\u2588\u2588\u2588\u2588\u2588\u2588\u2588\u2588\u2588\u2588\u2588\u2588\u2588\u2588\u2588\u2588\u2588\u2588\u2588\u2588\u2588\u2588\u2588\u2588\u2588\u2588\u2588\u2588\u258b| 242/244 [00:28<00:00,  8.48it/s]"
                    ]
                },
                {
                    "name": "stderr",
                    "output_type": "stream",
                    "text": [
                        "\r",
                        "100%|\u2588\u2588\u2588\u2588\u2588\u2588\u2588\u2588\u2588\u2588\u2588\u2588\u2588\u2588\u2588\u2588\u2588\u2588\u2588\u2588\u2588\u2588\u2588\u2588\u2588\u2588\u2588\u2588\u2588\u2588\u2588\u2588\u2588\u2588\u2588\u2588\u258a| 243/244 [00:28<00:00,  8.40it/s]"
                    ]
                },
                {
                    "name": "stderr",
                    "output_type": "stream",
                    "text": [
                        "\r",
                        "100%|\u2588\u2588\u2588\u2588\u2588\u2588\u2588\u2588\u2588\u2588\u2588\u2588\u2588\u2588\u2588\u2588\u2588\u2588\u2588\u2588\u2588\u2588\u2588\u2588\u2588\u2588\u2588\u2588\u2588\u2588\u2588\u2588\u2588\u2588\u2588\u2588\u2588| 244/244 [00:28<00:00,  8.33it/s]"
                    ]
                },
                {
                    "name": "stderr",
                    "output_type": "stream",
                    "text": [
                        "\r",
                        "100%|\u2588\u2588\u2588\u2588\u2588\u2588\u2588\u2588\u2588\u2588\u2588\u2588\u2588\u2588\u2588\u2588\u2588\u2588\u2588\u2588\u2588\u2588\u2588\u2588\u2588\u2588\u2588\u2588\u2588\u2588\u2588\u2588\u2588\u2588\u2588\u2588\u2588| 244/244 [00:28<00:00,  8.58it/s]"
                    ]
                },
                {
                    "name": "stdout",
                    "output_type": "stream",
                    "text": [
                        "(732, 9)\n"
                    ]
                },
                {
                    "name": "stderr",
                    "output_type": "stream",
                    "text": [
                        "\n"
                    ]
                },
                {
                    "data": {
                        "text/html": [
                            "<div>\n",
                            "<style scoped>\n",
                            "    .dataframe tbody tr th:only-of-type {\n",
                            "        vertical-align: middle;\n",
                            "    }\n",
                            "\n",
                            "    .dataframe tbody tr th {\n",
                            "        vertical-align: top;\n",
                            "    }\n",
                            "\n",
                            "    .dataframe thead th {\n",
                            "        text-align: right;\n",
                            "    }\n",
                            "</style>\n",
                            "<table border=\"1\" class=\"dataframe\">\n",
                            "  <thead>\n",
                            "    <tr style=\"text-align: right;\">\n",
                            "      <th></th>\n",
                            "      <th>group1</th>\n",
                            "      <th>group2</th>\n",
                            "      <th>meandiff</th>\n",
                            "      <th>p-adj</th>\n",
                            "      <th>lower</th>\n",
                            "      <th>upper</th>\n",
                            "      <th>reject</th>\n",
                            "      <th>feature</th>\n",
                            "      <th>anova_p_value</th>\n",
                            "    </tr>\n",
                            "  </thead>\n",
                            "  <tbody>\n",
                            "    <tr>\n",
                            "      <th>0</th>\n",
                            "      <td>high</td>\n",
                            "      <td>unsel</td>\n",
                            "      <td>-1.7236</td>\n",
                            "      <td>0.0</td>\n",
                            "      <td>-2.2266</td>\n",
                            "      <td>-1.2205</td>\n",
                            "      <td>True</td>\n",
                            "      <td>AreaShape_Area</td>\n",
                            "      <td>8.163020e-20</td>\n",
                            "    </tr>\n",
                            "    <tr>\n",
                            "      <th>1</th>\n",
                            "      <td>high</td>\n",
                            "      <td>wt</td>\n",
                            "      <td>-2.5954</td>\n",
                            "      <td>0.0</td>\n",
                            "      <td>-3.0938</td>\n",
                            "      <td>-2.097</td>\n",
                            "      <td>True</td>\n",
                            "      <td>AreaShape_Area</td>\n",
                            "      <td>8.163020e-20</td>\n",
                            "    </tr>\n",
                            "    <tr>\n",
                            "      <th>2</th>\n",
                            "      <td>unsel</td>\n",
                            "      <td>wt</td>\n",
                            "      <td>-0.8718</td>\n",
                            "      <td>0.0003</td>\n",
                            "      <td>-1.3749</td>\n",
                            "      <td>-0.3688</td>\n",
                            "      <td>True</td>\n",
                            "      <td>AreaShape_Area</td>\n",
                            "      <td>8.163020e-20</td>\n",
                            "    </tr>\n",
                            "    <tr>\n",
                            "      <th>3</th>\n",
                            "      <td>high</td>\n",
                            "      <td>unsel</td>\n",
                            "      <td>-1.7236</td>\n",
                            "      <td>0.0</td>\n",
                            "      <td>-2.2266</td>\n",
                            "      <td>-1.2205</td>\n",
                            "      <td>True</td>\n",
                            "      <td>AreaShape_CentralMoment_0_0</td>\n",
                            "      <td>8.163020e-20</td>\n",
                            "    </tr>\n",
                            "    <tr>\n",
                            "      <th>4</th>\n",
                            "      <td>high</td>\n",
                            "      <td>wt</td>\n",
                            "      <td>-2.5954</td>\n",
                            "      <td>0.0</td>\n",
                            "      <td>-3.0938</td>\n",
                            "      <td>-2.097</td>\n",
                            "      <td>True</td>\n",
                            "      <td>AreaShape_CentralMoment_0_0</td>\n",
                            "      <td>8.163020e-20</td>\n",
                            "    </tr>\n",
                            "  </tbody>\n",
                            "</table>\n",
                            "</div>"
                        ],
                        "text/plain": [
                            "  group1 group2 meandiff   p-adj   lower   upper reject  \\\n",
                            "0   high  unsel  -1.7236     0.0 -2.2266 -1.2205   True   \n",
                            "1   high     wt  -2.5954     0.0 -3.0938  -2.097   True   \n",
                            "2  unsel     wt  -0.8718  0.0003 -1.3749 -0.3688   True   \n",
                            "3   high  unsel  -1.7236     0.0 -2.2266 -1.2205   True   \n",
                            "4   high     wt  -2.5954     0.0 -3.0938  -2.097   True   \n",
                            "\n",
                            "                       feature  anova_p_value  \n",
                            "0               AreaShape_Area   8.163020e-20  \n",
                            "1               AreaShape_Area   8.163020e-20  \n",
                            "2               AreaShape_Area   8.163020e-20  \n",
                            "3  AreaShape_CentralMoment_0_0   8.163020e-20  \n",
                            "4  AreaShape_CentralMoment_0_0   8.163020e-20  "
                        ]
                    },
                    "execution_count": 5,
                    "metadata": {},
                    "output_type": "execute_result"
                }
            ],
            "source": [
                "anova_input_df = features_df.copy()\n",
                "anova_input_df[\"Metadata_genotype\"] = metadata_df[\"Metadata_genotype\"]\n",
                "anova_output_df = anova_function(anova_input_df, \"Metadata_genotype\")\n",
                "print(anova_output_df.shape)\n",
                "anova_output_df.head()"
            ]
        },
        {
            "cell_type": "code",
            "execution_count": 6,
            "id": "9b05e092",
            "metadata": {
                "execution": {
                    "iopub.execute_input": "2024-12-03T22:00:25.001930Z",
                    "iopub.status.busy": "2024-12-03T22:00:25.001619Z",
                    "iopub.status.idle": "2024-12-03T22:00:25.007145Z",
                    "shell.execute_reply": "2024-12-03T22:00:25.006770Z"
                },
                "papermill": {
                    "duration": 0.018902,
                    "end_time": "2024-12-03T22:00:25.007879",
                    "exception": false,
                    "start_time": "2024-12-03T22:00:24.988977",
                    "status": "completed"
                },
                "tags": []
            },
            "outputs": [],
            "source": [
                "# save the results\n",
                "output_file = pathlib.Path(\n",
                "    \"../../data/6.analysis_results/sum_aggregated_anova_results.parquet\"\n",
                ")\n",
                "output_file.parent.mkdir(exist_ok=True, parents=True)\n",
                "anova_output_df.to_parquet(output_file)"
            ]
        },
        {
            "cell_type": "markdown",
            "id": "87434b5e",
            "metadata": {
                "papermill": {
                    "duration": 0.009549,
                    "end_time": "2024-12-03T22:00:25.027346",
                    "exception": false,
                    "start_time": "2024-12-03T22:00:25.017797",
                    "status": "completed"
                },
                "tags": []
            },
            "source": [
                "## Levene's test for homogeneity of variance across all groups"
            ]
        },
        {
            "cell_type": "code",
            "execution_count": 7,
            "id": "5b883991",
            "metadata": {
                "execution": {
                    "iopub.execute_input": "2024-12-03T22:00:25.048421Z",
                    "iopub.status.busy": "2024-12-03T22:00:25.048114Z",
                    "iopub.status.idle": "2024-12-03T22:00:25.130990Z",
                    "shell.execute_reply": "2024-12-03T22:00:25.130553Z"
                },
                "papermill": {
                    "duration": 0.094432,
                    "end_time": "2024-12-03T22:00:25.131627",
                    "exception": false,
                    "start_time": "2024-12-03T22:00:25.037195",
                    "status": "completed"
                },
                "tags": []
            },
            "outputs": [
                {
                    "name": "stderr",
                    "output_type": "stream",
                    "text": [
                        "\r",
                        "  0%|                                               | 0/244 [00:00<?, ?it/s]"
                    ]
                },
                {
                    "name": "stderr",
                    "output_type": "stream",
                    "text": [
                        "\r",
                        "100%|\u2588\u2588\u2588\u2588\u2588\u2588\u2588\u2588\u2588\u2588\u2588\u2588\u2588\u2588\u2588\u2588\u2588\u2588\u2588\u2588\u2588\u2588\u2588\u2588\u2588\u2588\u2588\u2588\u2588\u2588\u2588\u2588\u2588\u2588\u2588| 244/244 [00:00<00:00, 3360.84it/s]"
                    ]
                },
                {
                    "name": "stderr",
                    "output_type": "stream",
                    "text": [
                        "\n"
                    ]
                },
                {
                    "data": {
                        "text/html": [
                            "<div>\n",
                            "<style scoped>\n",
                            "    .dataframe tbody tr th:only-of-type {\n",
                            "        vertical-align: middle;\n",
                            "    }\n",
                            "\n",
                            "    .dataframe tbody tr th {\n",
                            "        vertical-align: top;\n",
                            "    }\n",
                            "\n",
                            "    .dataframe thead th {\n",
                            "        text-align: right;\n",
                            "    }\n",
                            "</style>\n",
                            "<table border=\"1\" class=\"dataframe\">\n",
                            "  <thead>\n",
                            "    <tr style=\"text-align: right;\">\n",
                            "      <th></th>\n",
                            "      <th>feature</th>\n",
                            "      <th>levene_statistic</th>\n",
                            "      <th>levene_p_value</th>\n",
                            "    </tr>\n",
                            "  </thead>\n",
                            "  <tbody>\n",
                            "    <tr>\n",
                            "      <th>0</th>\n",
                            "      <td>AreaShape_Area</td>\n",
                            "      <td>2.664096</td>\n",
                            "      <td>7.583990e-02</td>\n",
                            "    </tr>\n",
                            "    <tr>\n",
                            "      <th>1</th>\n",
                            "      <td>AreaShape_CentralMoment_0_0</td>\n",
                            "      <td>2.664096</td>\n",
                            "      <td>7.583990e-02</td>\n",
                            "    </tr>\n",
                            "    <tr>\n",
                            "      <th>2</th>\n",
                            "      <td>AreaShape_CentralMoment_0_1</td>\n",
                            "      <td>5.060027</td>\n",
                            "      <td>8.525926e-03</td>\n",
                            "    </tr>\n",
                            "    <tr>\n",
                            "      <th>3</th>\n",
                            "      <td>AreaShape_CentralMoment_0_2</td>\n",
                            "      <td>6.229443</td>\n",
                            "      <td>3.059520e-03</td>\n",
                            "    </tr>\n",
                            "    <tr>\n",
                            "      <th>4</th>\n",
                            "      <td>AreaShape_CentralMoment_0_3</td>\n",
                            "      <td>6.034346</td>\n",
                            "      <td>3.623435e-03</td>\n",
                            "    </tr>\n",
                            "    <tr>\n",
                            "      <th>...</th>\n",
                            "      <td>...</td>\n",
                            "      <td>...</td>\n",
                            "      <td>...</td>\n",
                            "    </tr>\n",
                            "    <tr>\n",
                            "      <th>239</th>\n",
                            "      <td>Texture_SumVariance_OP_3_03_256</td>\n",
                            "      <td>20.477001</td>\n",
                            "      <td>6.588550e-08</td>\n",
                            "    </tr>\n",
                            "    <tr>\n",
                            "      <th>240</th>\n",
                            "      <td>Texture_Variance_OP_3_00_256</td>\n",
                            "      <td>22.209099</td>\n",
                            "      <td>2.129331e-08</td>\n",
                            "    </tr>\n",
                            "    <tr>\n",
                            "      <th>241</th>\n",
                            "      <td>Texture_Variance_OP_3_01_256</td>\n",
                            "      <td>22.387635</td>\n",
                            "      <td>1.898711e-08</td>\n",
                            "    </tr>\n",
                            "    <tr>\n",
                            "      <th>242</th>\n",
                            "      <td>Texture_Variance_OP_3_02_256</td>\n",
                            "      <td>22.013897</td>\n",
                            "      <td>2.414564e-08</td>\n",
                            "    </tr>\n",
                            "    <tr>\n",
                            "      <th>243</th>\n",
                            "      <td>Texture_Variance_OP_3_03_256</td>\n",
                            "      <td>22.442080</td>\n",
                            "      <td>1.833603e-08</td>\n",
                            "    </tr>\n",
                            "  </tbody>\n",
                            "</table>\n",
                            "<p>244 rows \u00d7 3 columns</p>\n",
                            "</div>"
                        ],
                        "text/plain": [
                            "                             feature  levene_statistic  levene_p_value\n",
                            "0                     AreaShape_Area          2.664096    7.583990e-02\n",
                            "1        AreaShape_CentralMoment_0_0          2.664096    7.583990e-02\n",
                            "2        AreaShape_CentralMoment_0_1          5.060027    8.525926e-03\n",
                            "3        AreaShape_CentralMoment_0_2          6.229443    3.059520e-03\n",
                            "4        AreaShape_CentralMoment_0_3          6.034346    3.623435e-03\n",
                            "..                               ...               ...             ...\n",
                            "239  Texture_SumVariance_OP_3_03_256         20.477001    6.588550e-08\n",
                            "240     Texture_Variance_OP_3_00_256         22.209099    2.129331e-08\n",
                            "241     Texture_Variance_OP_3_01_256         22.387635    1.898711e-08\n",
                            "242     Texture_Variance_OP_3_02_256         22.013897    2.414564e-08\n",
                            "243     Texture_Variance_OP_3_03_256         22.442080    1.833603e-08\n",
                            "\n",
                            "[244 rows x 3 columns]"
                        ]
                    },
                    "execution_count": 7,
                    "metadata": {},
                    "output_type": "execute_result"
                }
            ],
            "source": [
                "# split the df into three genotypes\n",
                "high_df = df[df[\"Metadata_genotype\"] == \"high\"]\n",
                "unsel_df = df[df[\"Metadata_genotype\"] == \"unsel\"]\n",
                "wt_df = df[df[\"Metadata_genotype\"] == \"wt\"]\n",
                "levene_test_results = {\"feature\": [], \"levene_statistic\": [], \"levene_p_value\": []}\n",
                "for feature in tqdm.tqdm(features_df.columns):\n",
                "    # calculate the levene test for each feature\n",
                "    levene_results = levene(wt_df[feature], unsel_df[feature], high_df[feature])\n",
                "    levene_test_results[\"feature\"].append(feature)\n",
                "    levene_test_results[\"levene_statistic\"].append(levene_results.statistic)\n",
                "    levene_test_results[\"levene_p_value\"].append(levene_results.pvalue)\n",
                "\n",
                "levene_test_results_df = pd.DataFrame(levene_test_results)\n",
                "levene_test_results_df"
            ]
        },
        {
            "cell_type": "markdown",
            "id": "7068042c",
            "metadata": {
                "papermill": {
                    "duration": 0.009583,
                    "end_time": "2024-12-03T22:00:25.151220",
                    "exception": false,
                    "start_time": "2024-12-03T22:00:25.141637",
                    "status": "completed"
                },
                "tags": []
            },
            "source": [
                "## Calculate the levenes test statistic for the equality of variances\n",
                "## Pairwise"
            ]
        },
        {
            "cell_type": "code",
            "execution_count": 8,
            "id": "1b0ddc47",
            "metadata": {
                "execution": {
                    "iopub.execute_input": "2024-12-03T22:00:25.193593Z",
                    "iopub.status.busy": "2024-12-03T22:00:25.193086Z",
                    "iopub.status.idle": "2024-12-03T22:00:34.813998Z",
                    "shell.execute_reply": "2024-12-03T22:00:34.813634Z"
                },
                "papermill": {
                    "duration": 9.631496,
                    "end_time": "2024-12-03T22:00:34.814698",
                    "exception": false,
                    "start_time": "2024-12-03T22:00:25.183202",
                    "status": "completed"
                },
                "tags": []
            },
            "outputs": [
                {
                    "name": "stderr",
                    "output_type": "stream",
                    "text": [
                        "\r",
                        "  0%|                                               | 0/244 [00:00<?, ?it/s]"
                    ]
                },
                {
                    "name": "stderr",
                    "output_type": "stream",
                    "text": [
                        "\r",
                        "  1%|\u258d                                      | 3/244 [00:00<00:10, 22.22it/s]"
                    ]
                },
                {
                    "name": "stderr",
                    "output_type": "stream",
                    "text": [
                        "\r",
                        "  2%|\u2589                                      | 6/244 [00:00<00:09, 25.05it/s]"
                    ]
                },
                {
                    "name": "stderr",
                    "output_type": "stream",
                    "text": [
                        "\r",
                        "  4%|\u2588\u258d                                     | 9/244 [00:00<00:09, 25.83it/s]"
                    ]
                },
                {
                    "name": "stderr",
                    "output_type": "stream",
                    "text": [
                        "\r",
                        "  5%|\u2588\u258a                                    | 12/244 [00:00<00:09, 25.69it/s]"
                    ]
                },
                {
                    "name": "stderr",
                    "output_type": "stream",
                    "text": [
                        "\r",
                        "  6%|\u2588\u2588\u258e                                   | 15/244 [00:00<00:08, 26.82it/s]"
                    ]
                },
                {
                    "name": "stderr",
                    "output_type": "stream",
                    "text": [
                        "\r",
                        "  7%|\u2588\u2588\u258a                                   | 18/244 [00:00<00:08, 26.69it/s]"
                    ]
                },
                {
                    "name": "stderr",
                    "output_type": "stream",
                    "text": [
                        "\r",
                        "  9%|\u2588\u2588\u2588\u258e                                  | 21/244 [00:00<00:08, 27.64it/s]"
                    ]
                },
                {
                    "name": "stderr",
                    "output_type": "stream",
                    "text": [
                        "\r",
                        " 10%|\u2588\u2588\u2588\u258b                                  | 24/244 [00:00<00:07, 28.08it/s]"
                    ]
                },
                {
                    "name": "stderr",
                    "output_type": "stream",
                    "text": [
                        "\r",
                        " 11%|\u2588\u2588\u2588\u2588\u258e                                 | 28/244 [00:01<00:07, 28.96it/s]"
                    ]
                },
                {
                    "name": "stderr",
                    "output_type": "stream",
                    "text": [
                        "\r",
                        " 13%|\u2588\u2588\u2588\u2588\u2589                                 | 32/244 [00:01<00:07, 29.51it/s]"
                    ]
                },
                {
                    "name": "stderr",
                    "output_type": "stream",
                    "text": [
                        "\r",
                        " 14%|\u2588\u2588\u2588\u2588\u2588\u258d                                | 35/244 [00:01<00:07, 28.74it/s]"
                    ]
                },
                {
                    "name": "stderr",
                    "output_type": "stream",
                    "text": [
                        "\r",
                        " 16%|\u2588\u2588\u2588\u2588\u2588\u2589                                | 38/244 [00:01<00:07, 28.97it/s]"
                    ]
                },
                {
                    "name": "stderr",
                    "output_type": "stream",
                    "text": [
                        "\r",
                        " 17%|\u2588\u2588\u2588\u2588\u2588\u2588\u258d                               | 41/244 [00:01<00:07, 28.21it/s]"
                    ]
                },
                {
                    "name": "stderr",
                    "output_type": "stream",
                    "text": [
                        "\r",
                        " 18%|\u2588\u2588\u2588\u2588\u2588\u2588\u258a                               | 44/244 [00:01<00:07, 27.37it/s]"
                    ]
                },
                {
                    "name": "stderr",
                    "output_type": "stream",
                    "text": [
                        "\r",
                        " 19%|\u2588\u2588\u2588\u2588\u2588\u2588\u2588\u258e                              | 47/244 [00:01<00:07, 27.27it/s]"
                    ]
                },
                {
                    "name": "stderr",
                    "output_type": "stream",
                    "text": [
                        "\r",
                        " 20%|\u2588\u2588\u2588\u2588\u2588\u2588\u2588\u258a                              | 50/244 [00:01<00:06, 27.86it/s]"
                    ]
                },
                {
                    "name": "stderr",
                    "output_type": "stream",
                    "text": [
                        "\r",
                        " 22%|\u2588\u2588\u2588\u2588\u2588\u2588\u2588\u2588\u258e                             | 53/244 [00:01<00:07, 27.04it/s]"
                    ]
                },
                {
                    "name": "stderr",
                    "output_type": "stream",
                    "text": [
                        "\r",
                        " 23%|\u2588\u2588\u2588\u2588\u2588\u2588\u2588\u2588\u258b                             | 56/244 [00:02<00:06, 27.54it/s]"
                    ]
                },
                {
                    "name": "stderr",
                    "output_type": "stream",
                    "text": [
                        "\r",
                        " 24%|\u2588\u2588\u2588\u2588\u2588\u2588\u2588\u2588\u2588\u258f                            | 59/244 [00:02<00:06, 26.60it/s]"
                    ]
                },
                {
                    "name": "stderr",
                    "output_type": "stream",
                    "text": [
                        "\r",
                        " 25%|\u2588\u2588\u2588\u2588\u2588\u2588\u2588\u2588\u2588\u258b                            | 62/244 [00:02<00:06, 26.93it/s]"
                    ]
                },
                {
                    "name": "stderr",
                    "output_type": "stream",
                    "text": [
                        "\r",
                        " 27%|\u2588\u2588\u2588\u2588\u2588\u2588\u2588\u2588\u2588\u2588                            | 65/244 [00:02<00:06, 27.46it/s]"
                    ]
                },
                {
                    "name": "stderr",
                    "output_type": "stream",
                    "text": [
                        "\r",
                        " 28%|\u2588\u2588\u2588\u2588\u2588\u2588\u2588\u2588\u2588\u2588\u258c                           | 68/244 [00:02<00:06, 27.16it/s]"
                    ]
                },
                {
                    "name": "stderr",
                    "output_type": "stream",
                    "text": [
                        "\r",
                        " 29%|\u2588\u2588\u2588\u2588\u2588\u2588\u2588\u2588\u2588\u2588\u2588                           | 71/244 [00:02<00:07, 24.34it/s]"
                    ]
                },
                {
                    "name": "stderr",
                    "output_type": "stream",
                    "text": [
                        "\r",
                        " 30%|\u2588\u2588\u2588\u2588\u2588\u2588\u2588\u2588\u2588\u2588\u2588\u258c                          | 74/244 [00:02<00:07, 23.26it/s]"
                    ]
                },
                {
                    "name": "stderr",
                    "output_type": "stream",
                    "text": [
                        "\r",
                        " 32%|\u2588\u2588\u2588\u2588\u2588\u2588\u2588\u2588\u2588\u2588\u2588\u2589                          | 77/244 [00:02<00:07, 23.07it/s]"
                    ]
                },
                {
                    "name": "stderr",
                    "output_type": "stream",
                    "text": [
                        "\r",
                        " 33%|\u2588\u2588\u2588\u2588\u2588\u2588\u2588\u2588\u2588\u2588\u2588\u2588\u258d                         | 80/244 [00:03<00:06, 23.47it/s]"
                    ]
                },
                {
                    "name": "stderr",
                    "output_type": "stream",
                    "text": [
                        "\r",
                        " 34%|\u2588\u2588\u2588\u2588\u2588\u2588\u2588\u2588\u2588\u2588\u2588\u2588\u2589                         | 83/244 [00:03<00:07, 22.42it/s]"
                    ]
                },
                {
                    "name": "stderr",
                    "output_type": "stream",
                    "text": [
                        "\r",
                        " 35%|\u2588\u2588\u2588\u2588\u2588\u2588\u2588\u2588\u2588\u2588\u2588\u2588\u2588\u258d                        | 86/244 [00:03<00:07, 21.56it/s]"
                    ]
                },
                {
                    "name": "stderr",
                    "output_type": "stream",
                    "text": [
                        "\r",
                        " 36%|\u2588\u2588\u2588\u2588\u2588\u2588\u2588\u2588\u2588\u2588\u2588\u2588\u2588\u258a                        | 89/244 [00:03<00:07, 21.78it/s]"
                    ]
                },
                {
                    "name": "stderr",
                    "output_type": "stream",
                    "text": [
                        "\r",
                        " 38%|\u2588\u2588\u2588\u2588\u2588\u2588\u2588\u2588\u2588\u2588\u2588\u2588\u2588\u2588\u258e                       | 92/244 [00:03<00:06, 22.13it/s]"
                    ]
                },
                {
                    "name": "stderr",
                    "output_type": "stream",
                    "text": [
                        "\r",
                        " 39%|\u2588\u2588\u2588\u2588\u2588\u2588\u2588\u2588\u2588\u2588\u2588\u2588\u2588\u2588\u258a                       | 95/244 [00:03<00:06, 22.52it/s]"
                    ]
                },
                {
                    "name": "stderr",
                    "output_type": "stream",
                    "text": [
                        "\r",
                        " 40%|\u2588\u2588\u2588\u2588\u2588\u2588\u2588\u2588\u2588\u2588\u2588\u2588\u2588\u2588\u2588\u258e                      | 98/244 [00:03<00:06, 23.55it/s]"
                    ]
                },
                {
                    "name": "stderr",
                    "output_type": "stream",
                    "text": [
                        "\r",
                        " 41%|\u2588\u2588\u2588\u2588\u2588\u2588\u2588\u2588\u2588\u2588\u2588\u2588\u2588\u2588\u2588\u258e                     | 101/244 [00:03<00:05, 24.38it/s]"
                    ]
                },
                {
                    "name": "stderr",
                    "output_type": "stream",
                    "text": [
                        "\r",
                        " 43%|\u2588\u2588\u2588\u2588\u2588\u2588\u2588\u2588\u2588\u2588\u2588\u2588\u2588\u2588\u2588\u258a                     | 104/244 [00:04<00:05, 25.35it/s]"
                    ]
                },
                {
                    "name": "stderr",
                    "output_type": "stream",
                    "text": [
                        "\r",
                        " 44%|\u2588\u2588\u2588\u2588\u2588\u2588\u2588\u2588\u2588\u2588\u2588\u2588\u2588\u2588\u2588\u2588\u258f                    | 107/244 [00:04<00:05, 25.75it/s]"
                    ]
                },
                {
                    "name": "stderr",
                    "output_type": "stream",
                    "text": [
                        "\r",
                        " 45%|\u2588\u2588\u2588\u2588\u2588\u2588\u2588\u2588\u2588\u2588\u2588\u2588\u2588\u2588\u2588\u2588\u258b                    | 110/244 [00:04<00:05, 26.35it/s]"
                    ]
                },
                {
                    "name": "stderr",
                    "output_type": "stream",
                    "text": [
                        "\r",
                        " 46%|\u2588\u2588\u2588\u2588\u2588\u2588\u2588\u2588\u2588\u2588\u2588\u2588\u2588\u2588\u2588\u2588\u2588\u258f                   | 113/244 [00:04<00:04, 26.28it/s]"
                    ]
                },
                {
                    "name": "stderr",
                    "output_type": "stream",
                    "text": [
                        "\r",
                        " 48%|\u2588\u2588\u2588\u2588\u2588\u2588\u2588\u2588\u2588\u2588\u2588\u2588\u2588\u2588\u2588\u2588\u2588\u258c                   | 116/244 [00:04<00:05, 23.67it/s]"
                    ]
                },
                {
                    "name": "stderr",
                    "output_type": "stream",
                    "text": [
                        "\r",
                        " 49%|\u2588\u2588\u2588\u2588\u2588\u2588\u2588\u2588\u2588\u2588\u2588\u2588\u2588\u2588\u2588\u2588\u2588\u2588                   | 119/244 [00:04<00:05, 22.56it/s]"
                    ]
                },
                {
                    "name": "stderr",
                    "output_type": "stream",
                    "text": [
                        "\r",
                        " 50%|\u2588\u2588\u2588\u2588\u2588\u2588\u2588\u2588\u2588\u2588\u2588\u2588\u2588\u2588\u2588\u2588\u2588\u2588\u258c                  | 122/244 [00:04<00:05, 22.88it/s]"
                    ]
                },
                {
                    "name": "stderr",
                    "output_type": "stream",
                    "text": [
                        "\r",
                        " 51%|\u2588\u2588\u2588\u2588\u2588\u2588\u2588\u2588\u2588\u2588\u2588\u2588\u2588\u2588\u2588\u2588\u2588\u2588\u2589                  | 125/244 [00:04<00:04, 24.19it/s]"
                    ]
                },
                {
                    "name": "stderr",
                    "output_type": "stream",
                    "text": [
                        "\r",
                        " 52%|\u2588\u2588\u2588\u2588\u2588\u2588\u2588\u2588\u2588\u2588\u2588\u2588\u2588\u2588\u2588\u2588\u2588\u2588\u2588\u258d                 | 128/244 [00:05<00:04, 25.38it/s]"
                    ]
                },
                {
                    "name": "stderr",
                    "output_type": "stream",
                    "text": [
                        "\r",
                        " 54%|\u2588\u2588\u2588\u2588\u2588\u2588\u2588\u2588\u2588\u2588\u2588\u2588\u2588\u2588\u2588\u2588\u2588\u2588\u2588\u258a                 | 131/244 [00:05<00:04, 26.29it/s]"
                    ]
                },
                {
                    "name": "stderr",
                    "output_type": "stream",
                    "text": [
                        "\r",
                        " 55%|\u2588\u2588\u2588\u2588\u2588\u2588\u2588\u2588\u2588\u2588\u2588\u2588\u2588\u2588\u2588\u2588\u2588\u2588\u2588\u2588\u258e                | 134/244 [00:05<00:04, 26.79it/s]"
                    ]
                },
                {
                    "name": "stderr",
                    "output_type": "stream",
                    "text": [
                        "\r",
                        " 56%|\u2588\u2588\u2588\u2588\u2588\u2588\u2588\u2588\u2588\u2588\u2588\u2588\u2588\u2588\u2588\u2588\u2588\u2588\u2588\u2588\u258a                | 137/244 [00:05<00:03, 27.04it/s]"
                    ]
                },
                {
                    "name": "stderr",
                    "output_type": "stream",
                    "text": [
                        "\r",
                        " 57%|\u2588\u2588\u2588\u2588\u2588\u2588\u2588\u2588\u2588\u2588\u2588\u2588\u2588\u2588\u2588\u2588\u2588\u2588\u2588\u2588\u2588\u258f               | 140/244 [00:05<00:03, 26.47it/s]"
                    ]
                },
                {
                    "name": "stderr",
                    "output_type": "stream",
                    "text": [
                        "\r",
                        " 59%|\u2588\u2588\u2588\u2588\u2588\u2588\u2588\u2588\u2588\u2588\u2588\u2588\u2588\u2588\u2588\u2588\u2588\u2588\u2588\u2588\u2588\u258b               | 143/244 [00:05<00:03, 26.90it/s]"
                    ]
                },
                {
                    "name": "stderr",
                    "output_type": "stream",
                    "text": [
                        "\r",
                        " 60%|\u2588\u2588\u2588\u2588\u2588\u2588\u2588\u2588\u2588\u2588\u2588\u2588\u2588\u2588\u2588\u2588\u2588\u2588\u2588\u2588\u2588\u2588\u258f              | 146/244 [00:05<00:03, 27.24it/s]"
                    ]
                },
                {
                    "name": "stderr",
                    "output_type": "stream",
                    "text": [
                        "\r",
                        " 61%|\u2588\u2588\u2588\u2588\u2588\u2588\u2588\u2588\u2588\u2588\u2588\u2588\u2588\u2588\u2588\u2588\u2588\u2588\u2588\u2588\u2588\u2588\u258c              | 149/244 [00:05<00:03, 27.34it/s]"
                    ]
                },
                {
                    "name": "stderr",
                    "output_type": "stream",
                    "text": [
                        "\r",
                        " 62%|\u2588\u2588\u2588\u2588\u2588\u2588\u2588\u2588\u2588\u2588\u2588\u2588\u2588\u2588\u2588\u2588\u2588\u2588\u2588\u2588\u2588\u2588\u2588              | 152/244 [00:05<00:03, 27.33it/s]"
                    ]
                },
                {
                    "name": "stderr",
                    "output_type": "stream",
                    "text": [
                        "\r",
                        " 64%|\u2588\u2588\u2588\u2588\u2588\u2588\u2588\u2588\u2588\u2588\u2588\u2588\u2588\u2588\u2588\u2588\u2588\u2588\u2588\u2588\u2588\u2588\u2588\u258c             | 155/244 [00:06<00:03, 27.58it/s]"
                    ]
                },
                {
                    "name": "stderr",
                    "output_type": "stream",
                    "text": [
                        "\r",
                        " 65%|\u2588\u2588\u2588\u2588\u2588\u2588\u2588\u2588\u2588\u2588\u2588\u2588\u2588\u2588\u2588\u2588\u2588\u2588\u2588\u2588\u2588\u2588\u2588\u2589             | 158/244 [00:06<00:03, 27.33it/s]"
                    ]
                },
                {
                    "name": "stderr",
                    "output_type": "stream",
                    "text": [
                        "\r",
                        " 66%|\u2588\u2588\u2588\u2588\u2588\u2588\u2588\u2588\u2588\u2588\u2588\u2588\u2588\u2588\u2588\u2588\u2588\u2588\u2588\u2588\u2588\u2588\u2588\u2588\u258c            | 162/244 [00:06<00:02, 28.40it/s]"
                    ]
                },
                {
                    "name": "stderr",
                    "output_type": "stream",
                    "text": [
                        "\r",
                        " 68%|\u2588\u2588\u2588\u2588\u2588\u2588\u2588\u2588\u2588\u2588\u2588\u2588\u2588\u2588\u2588\u2588\u2588\u2588\u2588\u2588\u2588\u2588\u2588\u2588\u2588            | 165/244 [00:06<00:02, 28.64it/s]"
                    ]
                },
                {
                    "name": "stderr",
                    "output_type": "stream",
                    "text": [
                        "\r",
                        " 69%|\u2588\u2588\u2588\u2588\u2588\u2588\u2588\u2588\u2588\u2588\u2588\u2588\u2588\u2588\u2588\u2588\u2588\u2588\u2588\u2588\u2588\u2588\u2588\u2588\u2588\u258d           | 168/244 [00:06<00:02, 27.88it/s]"
                    ]
                },
                {
                    "name": "stderr",
                    "output_type": "stream",
                    "text": [
                        "/home/lippincm/miniforge3/envs/op_cell_processing_env/lib/python3.8/site-packages/scipy/stats/_morestats.py:2710: RuntimeWarning: invalid value encountered in scalar divide\n",
                        "  W = numer / denom\n"
                    ]
                },
                {
                    "name": "stderr",
                    "output_type": "stream",
                    "text": [
                        "\r",
                        " 70%|\u2588\u2588\u2588\u2588\u2588\u2588\u2588\u2588\u2588\u2588\u2588\u2588\u2588\u2588\u2588\u2588\u2588\u2588\u2588\u2588\u2588\u2588\u2588\u2588\u2588\u2589           | 171/244 [00:06<00:02, 27.52it/s]"
                    ]
                },
                {
                    "name": "stderr",
                    "output_type": "stream",
                    "text": [
                        "\r",
                        " 71%|\u2588\u2588\u2588\u2588\u2588\u2588\u2588\u2588\u2588\u2588\u2588\u2588\u2588\u2588\u2588\u2588\u2588\u2588\u2588\u2588\u2588\u2588\u2588\u2588\u2588\u2588\u258d          | 174/244 [00:06<00:02, 28.05it/s]"
                    ]
                },
                {
                    "name": "stderr",
                    "output_type": "stream",
                    "text": [
                        "\r",
                        " 73%|\u2588\u2588\u2588\u2588\u2588\u2588\u2588\u2588\u2588\u2588\u2588\u2588\u2588\u2588\u2588\u2588\u2588\u2588\u2588\u2588\u2588\u2588\u2588\u2588\u2588\u2588\u258a          | 177/244 [00:06<00:02, 28.37it/s]"
                    ]
                },
                {
                    "name": "stderr",
                    "output_type": "stream",
                    "text": [
                        "\r",
                        " 74%|\u2588\u2588\u2588\u2588\u2588\u2588\u2588\u2588\u2588\u2588\u2588\u2588\u2588\u2588\u2588\u2588\u2588\u2588\u2588\u2588\u2588\u2588\u2588\u2588\u2588\u2588\u2588\u258e         | 180/244 [00:06<00:02, 27.22it/s]"
                    ]
                },
                {
                    "name": "stderr",
                    "output_type": "stream",
                    "text": [
                        "\r",
                        " 75%|\u2588\u2588\u2588\u2588\u2588\u2588\u2588\u2588\u2588\u2588\u2588\u2588\u2588\u2588\u2588\u2588\u2588\u2588\u2588\u2588\u2588\u2588\u2588\u2588\u2588\u2588\u2588\u258a         | 183/244 [00:07<00:02, 24.98it/s]"
                    ]
                },
                {
                    "name": "stderr",
                    "output_type": "stream",
                    "text": [
                        "\r",
                        " 76%|\u2588\u2588\u2588\u2588\u2588\u2588\u2588\u2588\u2588\u2588\u2588\u2588\u2588\u2588\u2588\u2588\u2588\u2588\u2588\u2588\u2588\u2588\u2588\u2588\u2588\u2588\u2588\u2588\u258f        | 186/244 [00:07<00:02, 24.07it/s]"
                    ]
                },
                {
                    "name": "stderr",
                    "output_type": "stream",
                    "text": [
                        "\r",
                        " 77%|\u2588\u2588\u2588\u2588\u2588\u2588\u2588\u2588\u2588\u2588\u2588\u2588\u2588\u2588\u2588\u2588\u2588\u2588\u2588\u2588\u2588\u2588\u2588\u2588\u2588\u2588\u2588\u2588\u258b        | 189/244 [00:07<00:02, 24.90it/s]"
                    ]
                },
                {
                    "name": "stderr",
                    "output_type": "stream",
                    "text": [
                        "\r",
                        " 79%|\u2588\u2588\u2588\u2588\u2588\u2588\u2588\u2588\u2588\u2588\u2588\u2588\u2588\u2588\u2588\u2588\u2588\u2588\u2588\u2588\u2588\u2588\u2588\u2588\u2588\u2588\u2588\u2588\u2588        | 192/244 [00:07<00:02, 25.90it/s]"
                    ]
                },
                {
                    "name": "stderr",
                    "output_type": "stream",
                    "text": [
                        "\r",
                        " 80%|\u2588\u2588\u2588\u2588\u2588\u2588\u2588\u2588\u2588\u2588\u2588\u2588\u2588\u2588\u2588\u2588\u2588\u2588\u2588\u2588\u2588\u2588\u2588\u2588\u2588\u2588\u2588\u2588\u2588\u258c       | 195/244 [00:07<00:01, 25.98it/s]"
                    ]
                },
                {
                    "name": "stderr",
                    "output_type": "stream",
                    "text": [
                        "\r",
                        " 81%|\u2588\u2588\u2588\u2588\u2588\u2588\u2588\u2588\u2588\u2588\u2588\u2588\u2588\u2588\u2588\u2588\u2588\u2588\u2588\u2588\u2588\u2588\u2588\u2588\u2588\u2588\u2588\u2588\u2588\u2588       | 198/244 [00:07<00:01, 26.62it/s]"
                    ]
                },
                {
                    "name": "stderr",
                    "output_type": "stream",
                    "text": [
                        "\r",
                        " 82%|\u2588\u2588\u2588\u2588\u2588\u2588\u2588\u2588\u2588\u2588\u2588\u2588\u2588\u2588\u2588\u2588\u2588\u2588\u2588\u2588\u2588\u2588\u2588\u2588\u2588\u2588\u2588\u2588\u2588\u2588\u258d      | 201/244 [00:07<00:01, 26.24it/s]"
                    ]
                },
                {
                    "name": "stderr",
                    "output_type": "stream",
                    "text": [
                        "\r",
                        " 84%|\u2588\u2588\u2588\u2588\u2588\u2588\u2588\u2588\u2588\u2588\u2588\u2588\u2588\u2588\u2588\u2588\u2588\u2588\u2588\u2588\u2588\u2588\u2588\u2588\u2588\u2588\u2588\u2588\u2588\u2588\u2589      | 204/244 [00:07<00:01, 26.17it/s]"
                    ]
                },
                {
                    "name": "stderr",
                    "output_type": "stream",
                    "text": [
                        "\r",
                        " 85%|\u2588\u2588\u2588\u2588\u2588\u2588\u2588\u2588\u2588\u2588\u2588\u2588\u2588\u2588\u2588\u2588\u2588\u2588\u2588\u2588\u2588\u2588\u2588\u2588\u2588\u2588\u2588\u2588\u2588\u2588\u2588\u258d     | 207/244 [00:08<00:01, 23.69it/s]"
                    ]
                },
                {
                    "name": "stderr",
                    "output_type": "stream",
                    "text": [
                        "\r",
                        " 86%|\u2588\u2588\u2588\u2588\u2588\u2588\u2588\u2588\u2588\u2588\u2588\u2588\u2588\u2588\u2588\u2588\u2588\u2588\u2588\u2588\u2588\u2588\u2588\u2588\u2588\u2588\u2588\u2588\u2588\u2588\u2588\u258a     | 210/244 [00:08<00:01, 22.37it/s]"
                    ]
                },
                {
                    "name": "stderr",
                    "output_type": "stream",
                    "text": [
                        "\r",
                        " 87%|\u2588\u2588\u2588\u2588\u2588\u2588\u2588\u2588\u2588\u2588\u2588\u2588\u2588\u2588\u2588\u2588\u2588\u2588\u2588\u2588\u2588\u2588\u2588\u2588\u2588\u2588\u2588\u2588\u2588\u2588\u2588\u2588\u258e    | 213/244 [00:08<00:01, 20.86it/s]"
                    ]
                },
                {
                    "name": "stderr",
                    "output_type": "stream",
                    "text": [
                        "\r",
                        " 89%|\u2588\u2588\u2588\u2588\u2588\u2588\u2588\u2588\u2588\u2588\u2588\u2588\u2588\u2588\u2588\u2588\u2588\u2588\u2588\u2588\u2588\u2588\u2588\u2588\u2588\u2588\u2588\u2588\u2588\u2588\u2588\u2588\u258a    | 216/244 [00:08<00:01, 21.27it/s]"
                    ]
                },
                {
                    "name": "stderr",
                    "output_type": "stream",
                    "text": [
                        "\r",
                        " 90%|\u2588\u2588\u2588\u2588\u2588\u2588\u2588\u2588\u2588\u2588\u2588\u2588\u2588\u2588\u2588\u2588\u2588\u2588\u2588\u2588\u2588\u2588\u2588\u2588\u2588\u2588\u2588\u2588\u2588\u2588\u2588\u2588\u2588\u258f   | 219/244 [00:08<00:01, 21.20it/s]"
                    ]
                },
                {
                    "name": "stderr",
                    "output_type": "stream",
                    "text": [
                        "\r",
                        " 91%|\u2588\u2588\u2588\u2588\u2588\u2588\u2588\u2588\u2588\u2588\u2588\u2588\u2588\u2588\u2588\u2588\u2588\u2588\u2588\u2588\u2588\u2588\u2588\u2588\u2588\u2588\u2588\u2588\u2588\u2588\u2588\u2588\u2588\u258b   | 222/244 [00:08<00:01, 20.58it/s]"
                    ]
                },
                {
                    "name": "stderr",
                    "output_type": "stream",
                    "text": [
                        "\r",
                        " 92%|\u2588\u2588\u2588\u2588\u2588\u2588\u2588\u2588\u2588\u2588\u2588\u2588\u2588\u2588\u2588\u2588\u2588\u2588\u2588\u2588\u2588\u2588\u2588\u2588\u2588\u2588\u2588\u2588\u2588\u2588\u2588\u2588\u2588\u2588   | 225/244 [00:08<00:00, 20.18it/s]"
                    ]
                },
                {
                    "name": "stderr",
                    "output_type": "stream",
                    "text": [
                        "\r",
                        " 93%|\u2588\u2588\u2588\u2588\u2588\u2588\u2588\u2588\u2588\u2588\u2588\u2588\u2588\u2588\u2588\u2588\u2588\u2588\u2588\u2588\u2588\u2588\u2588\u2588\u2588\u2588\u2588\u2588\u2588\u2588\u2588\u2588\u2588\u2588\u258c  | 228/244 [00:09<00:00, 21.29it/s]"
                    ]
                },
                {
                    "name": "stderr",
                    "output_type": "stream",
                    "text": [
                        "\r",
                        " 95%|\u2588\u2588\u2588\u2588\u2588\u2588\u2588\u2588\u2588\u2588\u2588\u2588\u2588\u2588\u2588\u2588\u2588\u2588\u2588\u2588\u2588\u2588\u2588\u2588\u2588\u2588\u2588\u2588\u2588\u2588\u2588\u2588\u2588\u2588\u2588  | 231/244 [00:09<00:00, 23.12it/s]"
                    ]
                },
                {
                    "name": "stderr",
                    "output_type": "stream",
                    "text": [
                        "\r",
                        " 96%|\u2588\u2588\u2588\u2588\u2588\u2588\u2588\u2588\u2588\u2588\u2588\u2588\u2588\u2588\u2588\u2588\u2588\u2588\u2588\u2588\u2588\u2588\u2588\u2588\u2588\u2588\u2588\u2588\u2588\u2588\u2588\u2588\u2588\u2588\u2588\u258d | 234/244 [00:09<00:00, 23.98it/s]"
                    ]
                },
                {
                    "name": "stderr",
                    "output_type": "stream",
                    "text": [
                        "\r",
                        " 97%|\u2588\u2588\u2588\u2588\u2588\u2588\u2588\u2588\u2588\u2588\u2588\u2588\u2588\u2588\u2588\u2588\u2588\u2588\u2588\u2588\u2588\u2588\u2588\u2588\u2588\u2588\u2588\u2588\u2588\u2588\u2588\u2588\u2588\u2588\u2588\u2589 | 237/244 [00:09<00:00, 25.01it/s]"
                    ]
                },
                {
                    "name": "stderr",
                    "output_type": "stream",
                    "text": [
                        "\r",
                        " 98%|\u2588\u2588\u2588\u2588\u2588\u2588\u2588\u2588\u2588\u2588\u2588\u2588\u2588\u2588\u2588\u2588\u2588\u2588\u2588\u2588\u2588\u2588\u2588\u2588\u2588\u2588\u2588\u2588\u2588\u2588\u2588\u2588\u2588\u2588\u2588\u2588\u258d| 240/244 [00:09<00:00, 25.90it/s]"
                    ]
                },
                {
                    "name": "stderr",
                    "output_type": "stream",
                    "text": [
                        "\r",
                        "100%|\u2588\u2588\u2588\u2588\u2588\u2588\u2588\u2588\u2588\u2588\u2588\u2588\u2588\u2588\u2588\u2588\u2588\u2588\u2588\u2588\u2588\u2588\u2588\u2588\u2588\u2588\u2588\u2588\u2588\u2588\u2588\u2588\u2588\u2588\u2588\u2588\u258a| 243/244 [00:09<00:00, 26.97it/s]"
                    ]
                },
                {
                    "name": "stderr",
                    "output_type": "stream",
                    "text": [
                        "\r",
                        "100%|\u2588\u2588\u2588\u2588\u2588\u2588\u2588\u2588\u2588\u2588\u2588\u2588\u2588\u2588\u2588\u2588\u2588\u2588\u2588\u2588\u2588\u2588\u2588\u2588\u2588\u2588\u2588\u2588\u2588\u2588\u2588\u2588\u2588\u2588\u2588\u2588\u2588| 244/244 [00:09<00:00, 25.38it/s]"
                    ]
                },
                {
                    "name": "stderr",
                    "output_type": "stream",
                    "text": [
                        "\n"
                    ]
                }
            ],
            "source": [
                "# split the df into three genotypes\n",
                "high_df = df[df[\"Metadata_genotype\"] == \"high\"]\n",
                "unsel_df = df[df[\"Metadata_genotype\"] == \"unsel\"]\n",
                "wt_df = df[df[\"Metadata_genotype\"] == \"wt\"]\n",
                "group_dict = {\n",
                "    \"high_vs_unsel\": [high_df, unsel_df],\n",
                "    \"high_vs_wt\": [high_df, wt_df],\n",
                "    \"unsel_vs_wt\": [wt_df, unsel_df],\n",
                "}\n",
                "\n",
                "\n",
                "levene_test_results = {\n",
                "    \"feature\": [],\n",
                "    \"levene_statistic\": [],\n",
                "    \"levene_p_value\": [],\n",
                "    \"group\": [],\n",
                "    \"holm_bonferroni_p_value\": [],\n",
                "}\n",
                "\n",
                "for feature in tqdm.tqdm(features_df.columns):\n",
                "    levene_p_values = []\n",
                "    for group_comparison in group_dict.keys():\n",
                "        # calculate the levene test for each feature\n",
                "        levene_results = levene(\n",
                "            group_dict[group_comparison][0][feature],\n",
                "            group_dict[group_comparison][1][feature],\n",
                "        )\n",
                "        levene_test_results[\"feature\"].append(feature)\n",
                "        levene_test_results[\"levene_statistic\"].append(levene_results.statistic)\n",
                "        levene_test_results[\"levene_p_value\"].append(levene_results.pvalue)\n",
                "        levene_test_results[\"group\"].append(group_comparison)\n",
                "        levene_p_values.append(levene_results.pvalue)\n",
                "    levene_holm_bonferroni_p_values = multipletests(levene_p_values, method=\"holm\")[1]\n",
                "    # run holm-bonferroni correction on the p-values for each feature\n",
                "    [\n",
                "        levene_test_results[\"holm_bonferroni_p_value\"].append(p_value)\n",
                "        for p_value in levene_holm_bonferroni_p_values\n",
                "    ]"
            ]
        },
        {
            "cell_type": "code",
            "execution_count": 9,
            "id": "ad69519f",
            "metadata": {
                "execution": {
                    "iopub.execute_input": "2024-12-03T22:00:34.853042Z",
                    "iopub.status.busy": "2024-12-03T22:00:34.852412Z",
                    "iopub.status.idle": "2024-12-03T22:00:34.862089Z",
                    "shell.execute_reply": "2024-12-03T22:00:34.861732Z"
                },
                "papermill": {
                    "duration": 0.029425,
                    "end_time": "2024-12-03T22:00:34.862684",
                    "exception": false,
                    "start_time": "2024-12-03T22:00:34.833259",
                    "status": "completed"
                },
                "tags": []
            },
            "outputs": [
                {
                    "data": {
                        "text/html": [
                            "<div>\n",
                            "<style scoped>\n",
                            "    .dataframe tbody tr th:only-of-type {\n",
                            "        vertical-align: middle;\n",
                            "    }\n",
                            "\n",
                            "    .dataframe tbody tr th {\n",
                            "        vertical-align: top;\n",
                            "    }\n",
                            "\n",
                            "    .dataframe thead th {\n",
                            "        text-align: right;\n",
                            "    }\n",
                            "</style>\n",
                            "<table border=\"1\" class=\"dataframe\">\n",
                            "  <thead>\n",
                            "    <tr style=\"text-align: right;\">\n",
                            "      <th></th>\n",
                            "      <th>feature</th>\n",
                            "      <th>levene_statistic</th>\n",
                            "      <th>levene_p_value</th>\n",
                            "      <th>group</th>\n",
                            "      <th>holm_bonferroni_p_value</th>\n",
                            "    </tr>\n",
                            "  </thead>\n",
                            "  <tbody>\n",
                            "    <tr>\n",
                            "      <th>0</th>\n",
                            "      <td>AreaShape_Area</td>\n",
                            "      <td>1.312482</td>\n",
                            "      <td>2.570925e-01</td>\n",
                            "      <td>high_vs_unsel</td>\n",
                            "      <td>0.427459</td>\n",
                            "    </tr>\n",
                            "    <tr>\n",
                            "      <th>1</th>\n",
                            "      <td>AreaShape_Area</td>\n",
                            "      <td>1.583091</td>\n",
                            "      <td>2.137293e-01</td>\n",
                            "      <td>high_vs_wt</td>\n",
                            "      <td>0.427459</td>\n",
                            "    </tr>\n",
                            "    <tr>\n",
                            "      <th>2</th>\n",
                            "      <td>AreaShape_Area</td>\n",
                            "      <td>5.121513</td>\n",
                            "      <td>2.775241e-02</td>\n",
                            "      <td>unsel_vs_wt</td>\n",
                            "      <td>0.083257</td>\n",
                            "    </tr>\n",
                            "    <tr>\n",
                            "      <th>3</th>\n",
                            "      <td>AreaShape_CentralMoment_0_0</td>\n",
                            "      <td>1.312482</td>\n",
                            "      <td>2.570925e-01</td>\n",
                            "      <td>high_vs_unsel</td>\n",
                            "      <td>0.427459</td>\n",
                            "    </tr>\n",
                            "    <tr>\n",
                            "      <th>4</th>\n",
                            "      <td>AreaShape_CentralMoment_0_0</td>\n",
                            "      <td>1.583091</td>\n",
                            "      <td>2.137293e-01</td>\n",
                            "      <td>high_vs_wt</td>\n",
                            "      <td>0.427459</td>\n",
                            "    </tr>\n",
                            "    <tr>\n",
                            "      <th>...</th>\n",
                            "      <td>...</td>\n",
                            "      <td>...</td>\n",
                            "      <td>...</td>\n",
                            "      <td>...</td>\n",
                            "      <td>...</td>\n",
                            "    </tr>\n",
                            "    <tr>\n",
                            "      <th>727</th>\n",
                            "      <td>Texture_Variance_OP_3_02_256</td>\n",
                            "      <td>31.005530</td>\n",
                            "      <td>8.311402e-07</td>\n",
                            "      <td>high_vs_wt</td>\n",
                            "      <td>0.000002</td>\n",
                            "    </tr>\n",
                            "    <tr>\n",
                            "      <th>728</th>\n",
                            "      <td>Texture_Variance_OP_3_02_256</td>\n",
                            "      <td>20.806708</td>\n",
                            "      <td>3.042424e-05</td>\n",
                            "      <td>unsel_vs_wt</td>\n",
                            "      <td>0.000061</td>\n",
                            "    </tr>\n",
                            "    <tr>\n",
                            "      <th>729</th>\n",
                            "      <td>Texture_Variance_OP_3_03_256</td>\n",
                            "      <td>2.596131</td>\n",
                            "      <td>1.130651e-01</td>\n",
                            "      <td>high_vs_unsel</td>\n",
                            "      <td>0.113065</td>\n",
                            "    </tr>\n",
                            "    <tr>\n",
                            "      <th>730</th>\n",
                            "      <td>Texture_Variance_OP_3_03_256</td>\n",
                            "      <td>31.684924</td>\n",
                            "      <td>6.662003e-07</td>\n",
                            "      <td>high_vs_wt</td>\n",
                            "      <td>0.000002</td>\n",
                            "    </tr>\n",
                            "    <tr>\n",
                            "      <th>731</th>\n",
                            "      <td>Texture_Variance_OP_3_03_256</td>\n",
                            "      <td>21.093302</td>\n",
                            "      <td>2.733474e-05</td>\n",
                            "      <td>unsel_vs_wt</td>\n",
                            "      <td>0.000055</td>\n",
                            "    </tr>\n",
                            "  </tbody>\n",
                            "</table>\n",
                            "<p>732 rows \u00d7 5 columns</p>\n",
                            "</div>"
                        ],
                        "text/plain": [
                            "                          feature  levene_statistic  levene_p_value  \\\n",
                            "0                  AreaShape_Area          1.312482    2.570925e-01   \n",
                            "1                  AreaShape_Area          1.583091    2.137293e-01   \n",
                            "2                  AreaShape_Area          5.121513    2.775241e-02   \n",
                            "3     AreaShape_CentralMoment_0_0          1.312482    2.570925e-01   \n",
                            "4     AreaShape_CentralMoment_0_0          1.583091    2.137293e-01   \n",
                            "..                            ...               ...             ...   \n",
                            "727  Texture_Variance_OP_3_02_256         31.005530    8.311402e-07   \n",
                            "728  Texture_Variance_OP_3_02_256         20.806708    3.042424e-05   \n",
                            "729  Texture_Variance_OP_3_03_256          2.596131    1.130651e-01   \n",
                            "730  Texture_Variance_OP_3_03_256         31.684924    6.662003e-07   \n",
                            "731  Texture_Variance_OP_3_03_256         21.093302    2.733474e-05   \n",
                            "\n",
                            "             group  holm_bonferroni_p_value  \n",
                            "0    high_vs_unsel                 0.427459  \n",
                            "1       high_vs_wt                 0.427459  \n",
                            "2      unsel_vs_wt                 0.083257  \n",
                            "3    high_vs_unsel                 0.427459  \n",
                            "4       high_vs_wt                 0.427459  \n",
                            "..             ...                      ...  \n",
                            "727     high_vs_wt                 0.000002  \n",
                            "728    unsel_vs_wt                 0.000061  \n",
                            "729  high_vs_unsel                 0.113065  \n",
                            "730     high_vs_wt                 0.000002  \n",
                            "731    unsel_vs_wt                 0.000055  \n",
                            "\n",
                            "[732 rows x 5 columns]"
                        ]
                    },
                    "execution_count": 9,
                    "metadata": {},
                    "output_type": "execute_result"
                }
            ],
            "source": [
                "levene_test_results_df = pd.DataFrame(levene_test_results)\n",
                "\n",
                "# sort the levene test results levene_test_results_df\n",
                "# change the levene p-value to a float\n",
                "levene_test_results_df[\"levene_p_value\"] = levene_test_results_df[\n",
                "    \"levene_p_value\"\n",
                "].astype(float)\n",
                "levene_test_results_df = levene_test_results_df.sort_values(\n",
                "    [\"feature\", \"group\"], ascending=[True, True]\n",
                ")\n",
                "levene_test_results_df"
            ]
        },
        {
            "cell_type": "code",
            "execution_count": 10,
            "id": "42798e86",
            "metadata": {
                "execution": {
                    "iopub.execute_input": "2024-12-03T22:00:34.887252Z",
                    "iopub.status.busy": "2024-12-03T22:00:34.886901Z",
                    "iopub.status.idle": "2024-12-03T22:00:34.894152Z",
                    "shell.execute_reply": "2024-12-03T22:00:34.893697Z"
                },
                "papermill": {
                    "duration": 0.020299,
                    "end_time": "2024-12-03T22:00:34.894849",
                    "exception": false,
                    "start_time": "2024-12-03T22:00:34.874550",
                    "status": "completed"
                },
                "tags": []
            },
            "outputs": [],
            "source": [
                "# save the levene test results\n",
                "# out dir\n",
                "out_dir = pathlib.Path(\"../../data/6.analysis_results/\")\n",
                "# create the dir if it does not exist\n",
                "out_dir.mkdir(parents=True, exist_ok=True)\n",
                "levene_test_results_path = pathlib.Path(\n",
                "    out_dir / \"sum_aggregated_levene_test_results.csv\"\n",
                ")\n",
                "levene_test_results_df.to_csv(levene_test_results_path)"
            ]
        },
        {
            "cell_type": "markdown",
            "id": "d6c4e553",
            "metadata": {
                "papermill": {
                    "duration": 0.011671,
                    "end_time": "2024-12-03T22:00:34.918308",
                    "exception": false,
                    "start_time": "2024-12-03T22:00:34.906637",
                    "status": "completed"
                },
                "tags": []
            },
            "source": [
                "### Calculate the levene test statistic for the aggregated data across feature types and genotypes"
            ]
        },
        {
            "cell_type": "code",
            "execution_count": 11,
            "id": "e13520be",
            "metadata": {
                "execution": {
                    "iopub.execute_input": "2024-12-03T22:00:34.942471Z",
                    "iopub.status.busy": "2024-12-03T22:00:34.942145Z",
                    "iopub.status.idle": "2024-12-03T22:00:34.994742Z",
                    "shell.execute_reply": "2024-12-03T22:00:34.994249Z"
                },
                "papermill": {
                    "duration": 0.065423,
                    "end_time": "2024-12-03T22:00:34.995372",
                    "exception": false,
                    "start_time": "2024-12-03T22:00:34.929949",
                    "status": "completed"
                },
                "tags": []
            },
            "outputs": [
                {
                    "data": {
                        "text/html": [
                            "<div>\n",
                            "<style scoped>\n",
                            "    .dataframe tbody tr th:only-of-type {\n",
                            "        vertical-align: middle;\n",
                            "    }\n",
                            "\n",
                            "    .dataframe tbody tr th {\n",
                            "        vertical-align: top;\n",
                            "    }\n",
                            "\n",
                            "    .dataframe thead th {\n",
                            "        text-align: right;\n",
                            "    }\n",
                            "</style>\n",
                            "<table border=\"1\" class=\"dataframe\">\n",
                            "  <thead>\n",
                            "    <tr style=\"text-align: right;\">\n",
                            "      <th></th>\n",
                            "      <th>Metadata_genotype</th>\n",
                            "      <th>feature</th>\n",
                            "      <th>value</th>\n",
                            "      <th>feature_group</th>\n",
                            "      <th>measurement</th>\n",
                            "      <th>bone</th>\n",
                            "      <th>parameter1</th>\n",
                            "      <th>parameter2</th>\n",
                            "      <th>parameter3</th>\n",
                            "    </tr>\n",
                            "  </thead>\n",
                            "  <tbody>\n",
                            "    <tr>\n",
                            "      <th>0</th>\n",
                            "      <td>High-Severity</td>\n",
                            "      <td>AreaShape_Area</td>\n",
                            "      <td>-0.178797</td>\n",
                            "      <td>AreaShape</td>\n",
                            "      <td>Area</td>\n",
                            "      <td>None</td>\n",
                            "      <td>None</td>\n",
                            "      <td>None</td>\n",
                            "      <td>None</td>\n",
                            "    </tr>\n",
                            "    <tr>\n",
                            "      <th>1</th>\n",
                            "      <td>High-Severity</td>\n",
                            "      <td>AreaShape_Area</td>\n",
                            "      <td>1.371763</td>\n",
                            "      <td>AreaShape</td>\n",
                            "      <td>Area</td>\n",
                            "      <td>None</td>\n",
                            "      <td>None</td>\n",
                            "      <td>None</td>\n",
                            "      <td>None</td>\n",
                            "    </tr>\n",
                            "    <tr>\n",
                            "      <th>2</th>\n",
                            "      <td>High-Severity</td>\n",
                            "      <td>AreaShape_Area</td>\n",
                            "      <td>1.706234</td>\n",
                            "      <td>AreaShape</td>\n",
                            "      <td>Area</td>\n",
                            "      <td>None</td>\n",
                            "      <td>None</td>\n",
                            "      <td>None</td>\n",
                            "      <td>None</td>\n",
                            "    </tr>\n",
                            "    <tr>\n",
                            "      <th>3</th>\n",
                            "      <td>High-Severity</td>\n",
                            "      <td>AreaShape_Area</td>\n",
                            "      <td>0.771674</td>\n",
                            "      <td>AreaShape</td>\n",
                            "      <td>Area</td>\n",
                            "      <td>None</td>\n",
                            "      <td>None</td>\n",
                            "      <td>None</td>\n",
                            "      <td>None</td>\n",
                            "    </tr>\n",
                            "    <tr>\n",
                            "      <th>4</th>\n",
                            "      <td>High-Severity</td>\n",
                            "      <td>AreaShape_Area</td>\n",
                            "      <td>2.180858</td>\n",
                            "      <td>AreaShape</td>\n",
                            "      <td>Area</td>\n",
                            "      <td>None</td>\n",
                            "      <td>None</td>\n",
                            "      <td>None</td>\n",
                            "      <td>None</td>\n",
                            "    </tr>\n",
                            "  </tbody>\n",
                            "</table>\n",
                            "</div>"
                        ],
                        "text/plain": [
                            "  Metadata_genotype         feature     value feature_group measurement  bone  \\\n",
                            "0     High-Severity  AreaShape_Area -0.178797     AreaShape        Area  None   \n",
                            "1     High-Severity  AreaShape_Area  1.371763     AreaShape        Area  None   \n",
                            "2     High-Severity  AreaShape_Area  1.706234     AreaShape        Area  None   \n",
                            "3     High-Severity  AreaShape_Area  0.771674     AreaShape        Area  None   \n",
                            "4     High-Severity  AreaShape_Area  2.180858     AreaShape        Area  None   \n",
                            "\n",
                            "  parameter1 parameter2 parameter3  \n",
                            "0       None       None       None  \n",
                            "1       None       None       None  \n",
                            "2       None       None       None  \n",
                            "3       None       None       None  \n",
                            "4       None       None       None  "
                        ]
                    },
                    "execution_count": 11,
                    "metadata": {},
                    "output_type": "execute_result"
                }
            ],
            "source": [
                "data_path = pathlib.Path(\n",
                "    \"../../data/5.converted_data/sum_aggregated_data.parquet\"\n",
                ").resolve(strict=True)\n",
                "# Read the data\n",
                "data = pd.read_parquet(data_path)\n",
                "\n",
                "# Drop all metadata except for the genotype data\n",
                "features_df = data.drop(columns=data.filter(like=\"Metadata\").columns)\n",
                "features_df[\"Metadata_genotype\"] = data[\"Metadata_genotype\"]\n",
                "\n",
                "\n",
                "# turn the features into a long format\n",
                "features_long_df = features_df.melt(\n",
                "    id_vars=\"Metadata_genotype\", var_name=\"feature\", value_name=\"value\"\n",
                ")\n",
                "features_long_df.head()\n",
                "# Separate the feature into different parts\n",
                "features_long_df[\n",
                "    [\"feature_group\", \"measurement\", \"bone\", \"parameter1\", \"parameter2\", \"parameter3\"]\n",
                "] = features_long_df[\"feature\"].str.split(\"_\", expand=True)\n",
                "\n",
                "# Replace the Metadata_genotype with the actual genotype name\n",
                "features_long_df[\"Metadata_genotype\"] = features_long_df[\"Metadata_genotype\"].replace(\n",
                "    {\"high\": \"High-Severity\", \"unsel\": \"Mid-Severity\", \"wt\": \"Wild Type\"}\n",
                ")\n",
                "features_long_df.head()"
            ]
        },
        {
            "cell_type": "code",
            "execution_count": 12,
            "id": "130f089a",
            "metadata": {
                "execution": {
                    "iopub.execute_input": "2024-12-03T22:00:35.020628Z",
                    "iopub.status.busy": "2024-12-03T22:00:35.020169Z",
                    "iopub.status.idle": "2024-12-03T22:00:35.050461Z",
                    "shell.execute_reply": "2024-12-03T22:00:35.050001Z"
                },
                "papermill": {
                    "duration": 0.043413,
                    "end_time": "2024-12-03T22:00:35.051044",
                    "exception": false,
                    "start_time": "2024-12-03T22:00:35.007631",
                    "status": "completed"
                },
                "tags": []
            },
            "outputs": [
                {
                    "name": "stderr",
                    "output_type": "stream",
                    "text": [
                        "\r",
                        "  0%|                                                 | 0/5 [00:00<?, ?it/s]"
                    ]
                },
                {
                    "name": "stderr",
                    "output_type": "stream",
                    "text": [
                        "\r",
                        "100%|\u2588\u2588\u2588\u2588\u2588\u2588\u2588\u2588\u2588\u2588\u2588\u2588\u2588\u2588\u2588\u2588\u2588\u2588\u2588\u2588\u2588\u2588\u2588\u2588\u2588\u2588\u2588\u2588\u2588\u2588\u2588\u2588\u2588\u2588\u2588\u2588\u2588\u2588\u2588| 5/5 [00:00<00:00, 1300.88it/s]"
                    ]
                },
                {
                    "name": "stderr",
                    "output_type": "stream",
                    "text": [
                        "\n"
                    ]
                },
                {
                    "data": {
                        "text/html": [
                            "<div>\n",
                            "<style scoped>\n",
                            "    .dataframe tbody tr th:only-of-type {\n",
                            "        vertical-align: middle;\n",
                            "    }\n",
                            "\n",
                            "    .dataframe tbody tr th {\n",
                            "        vertical-align: top;\n",
                            "    }\n",
                            "\n",
                            "    .dataframe thead th {\n",
                            "        text-align: right;\n",
                            "    }\n",
                            "</style>\n",
                            "<table border=\"1\" class=\"dataframe\">\n",
                            "  <thead>\n",
                            "    <tr style=\"text-align: right;\">\n",
                            "      <th></th>\n",
                            "      <th>feature_group</th>\n",
                            "      <th>levene_statistic</th>\n",
                            "      <th>levene_p_value</th>\n",
                            "      <th>group</th>\n",
                            "    </tr>\n",
                            "  </thead>\n",
                            "  <tbody>\n",
                            "    <tr>\n",
                            "      <th>0</th>\n",
                            "      <td>AreaShape</td>\n",
                            "      <td>13.202147</td>\n",
                            "      <td>2.822326e-04</td>\n",
                            "      <td>high_area_v_unsel_area</td>\n",
                            "    </tr>\n",
                            "    <tr>\n",
                            "      <th>1</th>\n",
                            "      <td>AreaShape</td>\n",
                            "      <td>1.392542</td>\n",
                            "      <td>2.380274e-01</td>\n",
                            "      <td>high_area_v_wt_area</td>\n",
                            "    </tr>\n",
                            "    <tr>\n",
                            "      <th>2</th>\n",
                            "      <td>AreaShape</td>\n",
                            "      <td>6.455400</td>\n",
                            "      <td>1.108938e-02</td>\n",
                            "      <td>unsel_area_v_wt_area</td>\n",
                            "    </tr>\n",
                            "    <tr>\n",
                            "      <th>3</th>\n",
                            "      <td>Intensity</td>\n",
                            "      <td>3.499348</td>\n",
                            "      <td>6.174770e-02</td>\n",
                            "      <td>high_intensity_v_unsel_intensity</td>\n",
                            "    </tr>\n",
                            "    <tr>\n",
                            "      <th>4</th>\n",
                            "      <td>Intensity</td>\n",
                            "      <td>156.889400</td>\n",
                            "      <td>4.075314e-33</td>\n",
                            "      <td>high_intensity_v_wt_intensity</td>\n",
                            "    </tr>\n",
                            "  </tbody>\n",
                            "</table>\n",
                            "</div>"
                        ],
                        "text/plain": [
                            "  feature_group  levene_statistic  levene_p_value  \\\n",
                            "0     AreaShape         13.202147    2.822326e-04   \n",
                            "1     AreaShape          1.392542    2.380274e-01   \n",
                            "2     AreaShape          6.455400    1.108938e-02   \n",
                            "3     Intensity          3.499348    6.174770e-02   \n",
                            "4     Intensity        156.889400    4.075314e-33   \n",
                            "\n",
                            "                              group  \n",
                            "0            high_area_v_unsel_area  \n",
                            "1               high_area_v_wt_area  \n",
                            "2              unsel_area_v_wt_area  \n",
                            "3  high_intensity_v_unsel_intensity  \n",
                            "4     high_intensity_v_wt_intensity  "
                        ]
                    },
                    "execution_count": 12,
                    "metadata": {},
                    "output_type": "execute_result"
                }
            ],
            "source": [
                "# break each genotype and featuretype into a separate dataframe\n",
                "high_df = features_long_df[features_long_df[\"Metadata_genotype\"] == \"High-Severity\"]\n",
                "unsel_df = features_long_df[features_long_df[\"Metadata_genotype\"] == \"Mid-Severity\"]\n",
                "wt_df = features_long_df[features_long_df[\"Metadata_genotype\"] == \"Wild Type\"]\n",
                "\n",
                "# each feature group\n",
                "high_df_AreaShape = high_df[high_df[\"feature_group\"] == \"AreaShape\"]\n",
                "high_df_Intensity = high_df[high_df[\"feature_group\"] == \"Intensity\"]\n",
                "high_df_Neighbors = high_df[high_df[\"feature_group\"] == \"Neighbors\"]\n",
                "high_df_radial = high_df[high_df[\"feature_group\"] == \"RadialDistribution\"]\n",
                "high_df_Granularity = high_df[high_df[\"feature_group\"] == \"Granularity\"]\n",
                "\n",
                "unsel_df_AreaShape = unsel_df[unsel_df[\"feature_group\"] == \"AreaShape\"]\n",
                "unsel_df_Intensity = unsel_df[unsel_df[\"feature_group\"] == \"Intensity\"]\n",
                "unsel_df_Neighbors = unsel_df[unsel_df[\"feature_group\"] == \"Neighbors\"]\n",
                "unsel_df_radial = unsel_df[unsel_df[\"feature_group\"] == \"RadialDistribution\"]\n",
                "unsel_df_Granularity = unsel_df[unsel_df[\"feature_group\"] == \"Granularity\"]\n",
                "\n",
                "wt_df_AreaShape = wt_df[wt_df[\"feature_group\"] == \"AreaShape\"]\n",
                "wt_df_Intensity = wt_df[wt_df[\"feature_group\"] == \"Intensity\"]\n",
                "wt_df_Neighbors = wt_df[wt_df[\"feature_group\"] == \"Neighbors\"]\n",
                "wt_df_radial = wt_df[wt_df[\"feature_group\"] == \"RadialDistribution\"]\n",
                "wt_df_Granularity = wt_df[wt_df[\"feature_group\"] == \"Granularity\"]\n",
                "\n",
                "# levene test for each feature group\n",
                "levene_test_results = {\n",
                "    \"feature_group\": [],\n",
                "    \"levene_statistic\": [],\n",
                "    \"levene_p_value\": [],\n",
                "    \"group\": [],\n",
                "}\n",
                "\n",
                "group_dict = {\n",
                "    \"AreaShape\": {\n",
                "        \"high_area_v_unsel_area\": [high_df_AreaShape, unsel_df_AreaShape],\n",
                "        \"high_area_v_wt_area\": [high_df_AreaShape, wt_df_AreaShape],\n",
                "        \"unsel_area_v_wt_area\": [wt_df_AreaShape, unsel_df_AreaShape],\n",
                "    },\n",
                "    \"Intensity\": {\n",
                "        \"high_intensity_v_unsel_intensity\": [high_df_Intensity, unsel_df_Intensity],\n",
                "        \"high_intensity_v_wt_intensity\": [high_df_Intensity, wt_df_Intensity],\n",
                "        \"unsel_intensity_v_wt_intensity\": [wt_df_Intensity, unsel_df_Intensity],\n",
                "    },\n",
                "    \"Neighbors\": {\n",
                "        \"high_neighbors_v_unsel_neighbors\": [high_df_Neighbors, unsel_df_Neighbors],\n",
                "        \"high_neighbors_v_wt_neighbors\": [high_df_Neighbors, wt_df_Neighbors],\n",
                "        \"unsel_neighbors_v_wt_neighbors\": [wt_df_Neighbors, unsel_df_Neighbors],\n",
                "    },\n",
                "    \"RadialDistribution\": {\n",
                "        \"high_radial_v_unsel_radial\": [high_df_radial, unsel_df_radial],\n",
                "        \"high_radial_v_wt_radial\": [high_df_radial, wt_df_radial],\n",
                "        \"unsel_radial_v_wt_radial\": [wt_df_radial, unsel_df_radial],\n",
                "    },\n",
                "    \"Granularity\": {\n",
                "        \"high_granularity_v_unsel_granularity\": [\n",
                "            high_df_Granularity,\n",
                "            unsel_df_Granularity,\n",
                "        ],\n",
                "        \"high_granularity_v_wt_granularity\": [high_df_Granularity, wt_df_Granularity],\n",
                "        \"unsel_granularity_v_wt_granularity\": [wt_df_Granularity, unsel_df_Granularity],\n",
                "    },\n",
                "}\n",
                "\n",
                "for feature_group in tqdm.tqdm(group_dict.keys()):\n",
                "    for group in group_dict[feature_group].keys():\n",
                "        if not group == \"all\":\n",
                "            levene_results = levene(\n",
                "                group_dict[feature_group][group][0][\"value\"],\n",
                "                group_dict[feature_group][group][1][\"value\"],\n",
                "            )\n",
                "            # calculate the variance for each feature group\n",
                "\n",
                "            levene_test_results[\"feature_group\"].append(feature_group)\n",
                "            levene_test_results[\"levene_statistic\"].append(levene_results.statistic)\n",
                "            levene_test_results[\"levene_p_value\"].append(levene_results.pvalue)\n",
                "            levene_test_results[\"group\"].append(group)\n",
                "        else:\n",
                "            pass\n",
                "\n",
                "levene_test_results_df = pd.DataFrame(levene_test_results)\n",
                "levene_test_results_df.head()"
            ]
        },
        {
            "cell_type": "code",
            "execution_count": 13,
            "id": "59dead35",
            "metadata": {
                "execution": {
                    "iopub.execute_input": "2024-12-03T22:00:35.075756Z",
                    "iopub.status.busy": "2024-12-03T22:00:35.075458Z",
                    "iopub.status.idle": "2024-12-03T22:00:35.078865Z",
                    "shell.execute_reply": "2024-12-03T22:00:35.078463Z"
                },
                "papermill": {
                    "duration": 0.016371,
                    "end_time": "2024-12-03T22:00:35.079473",
                    "exception": false,
                    "start_time": "2024-12-03T22:00:35.063102",
                    "status": "completed"
                },
                "tags": []
            },
            "outputs": [],
            "source": [
                "# save the levene test results\n",
                "# out dir\n",
                "out_dir = pathlib.Path(\"../../data/6.analysis_results/\")\n",
                "# create the dir if it does not exist\n",
                "out_dir.mkdir(parents=True, exist_ok=True)\n",
                "levene_test_results_path = pathlib.Path(\n",
                "    out_dir / \"sum_aggregated_levene_test_results_feature_types.csv\"\n",
                ")\n",
                "levene_test_results_df.to_csv(levene_test_results_path, index=False)"
            ]
        },
        {
            "cell_type": "code",
            "execution_count": 14,
            "id": "ce88b8fa",
            "metadata": {
                "execution": {
                    "iopub.execute_input": "2024-12-03T22:00:35.104377Z",
                    "iopub.status.busy": "2024-12-03T22:00:35.104094Z",
                    "iopub.status.idle": "2024-12-03T22:00:35.126724Z",
                    "shell.execute_reply": "2024-12-03T22:00:35.126302Z"
                },
                "papermill": {
                    "duration": 0.035605,
                    "end_time": "2024-12-03T22:00:35.127284",
                    "exception": false,
                    "start_time": "2024-12-03T22:00:35.091679",
                    "status": "completed"
                },
                "tags": []
            },
            "outputs": [
                {
                    "data": {
                        "text/html": [
                            "<div>\n",
                            "<style scoped>\n",
                            "    .dataframe tbody tr th:only-of-type {\n",
                            "        vertical-align: middle;\n",
                            "    }\n",
                            "\n",
                            "    .dataframe tbody tr th {\n",
                            "        vertical-align: top;\n",
                            "    }\n",
                            "\n",
                            "    .dataframe thead th {\n",
                            "        text-align: right;\n",
                            "    }\n",
                            "</style>\n",
                            "<table border=\"1\" class=\"dataframe\">\n",
                            "  <thead>\n",
                            "    <tr style=\"text-align: right;\">\n",
                            "      <th></th>\n",
                            "      <th>Metadata_genotype</th>\n",
                            "      <th>feature</th>\n",
                            "      <th>variance</th>\n",
                            "    </tr>\n",
                            "  </thead>\n",
                            "  <tbody>\n",
                            "    <tr>\n",
                            "      <th>0</th>\n",
                            "      <td>high</td>\n",
                            "      <td>AreaShape_Area</td>\n",
                            "      <td>0.516762</td>\n",
                            "    </tr>\n",
                            "    <tr>\n",
                            "      <th>1</th>\n",
                            "      <td>high</td>\n",
                            "      <td>AreaShape_CentralMoment_0_0</td>\n",
                            "      <td>0.516762</td>\n",
                            "    </tr>\n",
                            "    <tr>\n",
                            "      <th>2</th>\n",
                            "      <td>high</td>\n",
                            "      <td>AreaShape_CentralMoment_0_1</td>\n",
                            "      <td>2.361025</td>\n",
                            "    </tr>\n",
                            "    <tr>\n",
                            "      <th>3</th>\n",
                            "      <td>high</td>\n",
                            "      <td>AreaShape_CentralMoment_0_2</td>\n",
                            "      <td>1.147158</td>\n",
                            "    </tr>\n",
                            "    <tr>\n",
                            "      <th>4</th>\n",
                            "      <td>high</td>\n",
                            "      <td>AreaShape_CentralMoment_0_3</td>\n",
                            "      <td>0.716030</td>\n",
                            "    </tr>\n",
                            "  </tbody>\n",
                            "</table>\n",
                            "</div>"
                        ],
                        "text/plain": [
                            "  Metadata_genotype                      feature  variance\n",
                            "0              high               AreaShape_Area  0.516762\n",
                            "1              high  AreaShape_CentralMoment_0_0  0.516762\n",
                            "2              high  AreaShape_CentralMoment_0_1  2.361025\n",
                            "3              high  AreaShape_CentralMoment_0_2  1.147158\n",
                            "4              high  AreaShape_CentralMoment_0_3  0.716030"
                        ]
                    },
                    "execution_count": 14,
                    "metadata": {},
                    "output_type": "execute_result"
                }
            ],
            "source": [
                "# Drop all metadata except for the genotype data\n",
                "features_df = data.drop(columns=data.filter(like=\"Metadata\").columns)\n",
                "features_df[\"Metadata_genotype\"] = data[\"Metadata_genotype\"]\n",
                "\n",
                "# turn the features into a long format\n",
                "features_long_df = features_df.melt(\n",
                "    id_vars=\"Metadata_genotype\", var_name=\"feature\", value_name=\"value\"\n",
                ")\n",
                "# get the variance for each feature for each genotype\n",
                "features_long_df\n",
                "all_features_var = features_long_df.groupby([\"Metadata_genotype\", \"feature\"]).var()\n",
                "# reset the index\n",
                "all_features_var = all_features_var.reset_index()\n",
                "all_features_var.rename(columns={\"value\": \"variance\"}, inplace=True)\n",
                "\n",
                "# save the variance results\n",
                "var_each_feature_path = pathlib.Path(\n",
                "    out_dir / \"sum_aggregated_variance_results_each_feature.csv\"\n",
                ")\n",
                "all_features_var.to_csv(var_each_feature_path, index=False)\n",
                "all_features_var.head()"
            ]
        },
        {
            "cell_type": "code",
            "execution_count": 15,
            "id": "d932dd19",
            "metadata": {
                "execution": {
                    "iopub.execute_input": "2024-12-03T22:00:35.152294Z",
                    "iopub.status.busy": "2024-12-03T22:00:35.151994Z",
                    "iopub.status.idle": "2024-12-03T22:00:35.158188Z",
                    "shell.execute_reply": "2024-12-03T22:00:35.157685Z"
                },
                "papermill": {
                    "duration": 0.019484,
                    "end_time": "2024-12-03T22:00:35.158928",
                    "exception": false,
                    "start_time": "2024-12-03T22:00:35.139444",
                    "status": "completed"
                },
                "tags": []
            },
            "outputs": [],
            "source": [
                "# get the variance for each feature group\n",
                "var_df = features_long_df.groupby([\"Metadata_genotype\", \"feature\"]).var().reset_index()\n",
                "var_df.head()\n",
                "# change the value column name to variance\n",
                "var_df.rename(columns={\"value\": \"variance\"}, inplace=True)"
            ]
        },
        {
            "cell_type": "code",
            "execution_count": 16,
            "id": "731c2b05",
            "metadata": {
                "execution": {
                    "iopub.execute_input": "2024-12-03T22:00:35.183980Z",
                    "iopub.status.busy": "2024-12-03T22:00:35.183675Z",
                    "iopub.status.idle": "2024-12-03T22:00:35.192095Z",
                    "shell.execute_reply": "2024-12-03T22:00:35.191738Z"
                },
                "papermill": {
                    "duration": 0.021629,
                    "end_time": "2024-12-03T22:00:35.192753",
                    "exception": false,
                    "start_time": "2024-12-03T22:00:35.171124",
                    "status": "completed"
                },
                "tags": []
            },
            "outputs": [],
            "source": [
                "var_df[\n",
                "    [\"feature_group\", \"measurement\", \"bone\", \"parameter1\", \"parameter2\", \"parameter3\"]\n",
                "] = var_df[\"feature\"].str.split(\"_\", expand=True)\n",
                "\n",
                "# Replace the Metadata_genotype with the actual genotype name\n",
                "var_df[\"Metadata_genotype\"] = var_df[\"Metadata_genotype\"].replace(\n",
                "    {\"high\": \"High-Severity\", \"unsel\": \"Mid-Severity\", \"wt\": \"Wild Type\"}\n",
                ")\n",
                "var_df\n",
                "var_df = var_df.drop(\n",
                "    columns=[\"feature\", \"measurement\", \"bone\", \"parameter1\", \"parameter2\", \"parameter3\"]\n",
                ")\n",
                "var_df\n",
                "# save the variance results\n",
                "var_path = pathlib.Path(out_dir / \"sum_aggregated_variance_results_feature_types.csv\")\n",
                "var_df.to_csv(var_path, index=False)"
            ]
        },
        {
            "cell_type": "code",
            "execution_count": 17,
            "id": "a41c62e3",
            "metadata": {
                "execution": {
                    "iopub.execute_input": "2024-12-03T22:00:35.217758Z",
                    "iopub.status.busy": "2024-12-03T22:00:35.217410Z",
                    "iopub.status.idle": "2024-12-03T22:00:35.229543Z",
                    "shell.execute_reply": "2024-12-03T22:00:35.229127Z"
                },
                "papermill": {
                    "duration": 0.025186,
                    "end_time": "2024-12-03T22:00:35.230106",
                    "exception": false,
                    "start_time": "2024-12-03T22:00:35.204920",
                    "status": "completed"
                },
                "tags": []
            },
            "outputs": [
                {
                    "data": {
                        "text/html": [
                            "<div>\n",
                            "<style scoped>\n",
                            "    .dataframe tbody tr th:only-of-type {\n",
                            "        vertical-align: middle;\n",
                            "    }\n",
                            "\n",
                            "    .dataframe tbody tr th {\n",
                            "        vertical-align: top;\n",
                            "    }\n",
                            "\n",
                            "    .dataframe thead th {\n",
                            "        text-align: right;\n",
                            "    }\n",
                            "</style>\n",
                            "<table border=\"1\" class=\"dataframe\">\n",
                            "  <thead>\n",
                            "    <tr style=\"text-align: right;\">\n",
                            "      <th></th>\n",
                            "      <th>Metadata_genotype</th>\n",
                            "      <th>feature_group</th>\n",
                            "      <th>variance_mean</th>\n",
                            "      <th>variance_std</th>\n",
                            "      <th>variance_max</th>\n",
                            "      <th>variance_min</th>\n",
                            "      <th>variance_count</th>\n",
                            "    </tr>\n",
                            "  </thead>\n",
                            "  <tbody>\n",
                            "    <tr>\n",
                            "      <th>0</th>\n",
                            "      <td>High-Severity</td>\n",
                            "      <td>AreaShape</td>\n",
                            "      <td>0.774588</td>\n",
                            "      <td>0.669970</td>\n",
                            "      <td>3.855982</td>\n",
                            "      <td>0.000005</td>\n",
                            "      <td>98</td>\n",
                            "    </tr>\n",
                            "    <tr>\n",
                            "      <th>1</th>\n",
                            "      <td>High-Severity</td>\n",
                            "      <td>Granularity</td>\n",
                            "      <td>0.278190</td>\n",
                            "      <td>0.357954</td>\n",
                            "      <td>0.981199</td>\n",
                            "      <td>0.015287</td>\n",
                            "      <td>6</td>\n",
                            "    </tr>\n",
                            "    <tr>\n",
                            "      <th>2</th>\n",
                            "      <td>High-Severity</td>\n",
                            "      <td>Intensity</td>\n",
                            "      <td>0.529629</td>\n",
                            "      <td>0.281565</td>\n",
                            "      <td>1.157014</td>\n",
                            "      <td>0.129043</td>\n",
                            "      <td>15</td>\n",
                            "    </tr>\n",
                            "    <tr>\n",
                            "      <th>3</th>\n",
                            "      <td>High-Severity</td>\n",
                            "      <td>Neighbors</td>\n",
                            "      <td>0.730238</td>\n",
                            "      <td>0.237898</td>\n",
                            "      <td>0.953424</td>\n",
                            "      <td>0.479949</td>\n",
                            "      <td>3</td>\n",
                            "    </tr>\n",
                            "    <tr>\n",
                            "      <th>4</th>\n",
                            "      <td>High-Severity</td>\n",
                            "      <td>RadialDistribution</td>\n",
                            "      <td>0.670404</td>\n",
                            "      <td>0.430295</td>\n",
                            "      <td>1.751219</td>\n",
                            "      <td>0.000000</td>\n",
                            "      <td>70</td>\n",
                            "    </tr>\n",
                            "    <tr>\n",
                            "      <th>5</th>\n",
                            "      <td>High-Severity</td>\n",
                            "      <td>Texture</td>\n",
                            "      <td>0.300315</td>\n",
                            "      <td>0.206077</td>\n",
                            "      <td>0.719217</td>\n",
                            "      <td>0.032302</td>\n",
                            "      <td>52</td>\n",
                            "    </tr>\n",
                            "    <tr>\n",
                            "      <th>6</th>\n",
                            "      <td>Mid-Severity</td>\n",
                            "      <td>AreaShape</td>\n",
                            "      <td>1.648415</td>\n",
                            "      <td>0.769366</td>\n",
                            "      <td>3.934014</td>\n",
                            "      <td>0.627254</td>\n",
                            "      <td>98</td>\n",
                            "    </tr>\n",
                            "    <tr>\n",
                            "      <th>7</th>\n",
                            "      <td>Mid-Severity</td>\n",
                            "      <td>Granularity</td>\n",
                            "      <td>1.180453</td>\n",
                            "      <td>0.542682</td>\n",
                            "      <td>1.982012</td>\n",
                            "      <td>0.713728</td>\n",
                            "      <td>6</td>\n",
                            "    </tr>\n",
                            "    <tr>\n",
                            "      <th>8</th>\n",
                            "      <td>Mid-Severity</td>\n",
                            "      <td>Intensity</td>\n",
                            "      <td>0.971769</td>\n",
                            "      <td>0.537520</td>\n",
                            "      <td>2.091309</td>\n",
                            "      <td>0.339192</td>\n",
                            "      <td>15</td>\n",
                            "    </tr>\n",
                            "    <tr>\n",
                            "      <th>9</th>\n",
                            "      <td>Mid-Severity</td>\n",
                            "      <td>Neighbors</td>\n",
                            "      <td>3.781692</td>\n",
                            "      <td>1.816360</td>\n",
                            "      <td>5.667220</td>\n",
                            "      <td>2.043471</td>\n",
                            "      <td>3</td>\n",
                            "    </tr>\n",
                            "    <tr>\n",
                            "      <th>10</th>\n",
                            "      <td>Mid-Severity</td>\n",
                            "      <td>RadialDistribution</td>\n",
                            "      <td>1.609278</td>\n",
                            "      <td>0.757007</td>\n",
                            "      <td>3.948718</td>\n",
                            "      <td>0.424658</td>\n",
                            "      <td>70</td>\n",
                            "    </tr>\n",
                            "    <tr>\n",
                            "      <th>11</th>\n",
                            "      <td>Mid-Severity</td>\n",
                            "      <td>Texture</td>\n",
                            "      <td>1.909842</td>\n",
                            "      <td>1.105863</td>\n",
                            "      <td>4.388057</td>\n",
                            "      <td>0.111543</td>\n",
                            "      <td>52</td>\n",
                            "    </tr>\n",
                            "    <tr>\n",
                            "      <th>12</th>\n",
                            "      <td>Wild Type</td>\n",
                            "      <td>AreaShape</td>\n",
                            "      <td>0.991282</td>\n",
                            "      <td>0.831995</td>\n",
                            "      <td>3.408750</td>\n",
                            "      <td>0.032856</td>\n",
                            "      <td>98</td>\n",
                            "    </tr>\n",
                            "    <tr>\n",
                            "      <th>13</th>\n",
                            "      <td>Wild Type</td>\n",
                            "      <td>Granularity</td>\n",
                            "      <td>1.380757</td>\n",
                            "      <td>0.358328</td>\n",
                            "      <td>2.066825</td>\n",
                            "      <td>1.116093</td>\n",
                            "      <td>6</td>\n",
                            "    </tr>\n",
                            "    <tr>\n",
                            "      <th>14</th>\n",
                            "      <td>Wild Type</td>\n",
                            "      <td>Intensity</td>\n",
                            "      <td>2.745615</td>\n",
                            "      <td>1.192441</td>\n",
                            "      <td>4.553478</td>\n",
                            "      <td>0.997455</td>\n",
                            "      <td>15</td>\n",
                            "    </tr>\n",
                            "    <tr>\n",
                            "      <th>15</th>\n",
                            "      <td>Wild Type</td>\n",
                            "      <td>Neighbors</td>\n",
                            "      <td>0.800787</td>\n",
                            "      <td>0.556367</td>\n",
                            "      <td>1.307476</td>\n",
                            "      <td>0.205398</td>\n",
                            "      <td>3</td>\n",
                            "    </tr>\n",
                            "    <tr>\n",
                            "      <th>16</th>\n",
                            "      <td>Wild Type</td>\n",
                            "      <td>RadialDistribution</td>\n",
                            "      <td>2.389621</td>\n",
                            "      <td>0.998530</td>\n",
                            "      <td>4.560626</td>\n",
                            "      <td>0.000000</td>\n",
                            "      <td>70</td>\n",
                            "    </tr>\n",
                            "    <tr>\n",
                            "      <th>17</th>\n",
                            "      <td>Wild Type</td>\n",
                            "      <td>Texture</td>\n",
                            "      <td>3.355692</td>\n",
                            "      <td>1.148533</td>\n",
                            "      <td>5.266871</td>\n",
                            "      <td>0.730004</td>\n",
                            "      <td>52</td>\n",
                            "    </tr>\n",
                            "  </tbody>\n",
                            "</table>\n",
                            "</div>"
                        ],
                        "text/plain": [
                            "   Metadata_genotype       feature_group  variance_mean  variance_std  \\\n",
                            "0      High-Severity           AreaShape       0.774588      0.669970   \n",
                            "1      High-Severity         Granularity       0.278190      0.357954   \n",
                            "2      High-Severity           Intensity       0.529629      0.281565   \n",
                            "3      High-Severity           Neighbors       0.730238      0.237898   \n",
                            "4      High-Severity  RadialDistribution       0.670404      0.430295   \n",
                            "5      High-Severity             Texture       0.300315      0.206077   \n",
                            "6       Mid-Severity           AreaShape       1.648415      0.769366   \n",
                            "7       Mid-Severity         Granularity       1.180453      0.542682   \n",
                            "8       Mid-Severity           Intensity       0.971769      0.537520   \n",
                            "9       Mid-Severity           Neighbors       3.781692      1.816360   \n",
                            "10      Mid-Severity  RadialDistribution       1.609278      0.757007   \n",
                            "11      Mid-Severity             Texture       1.909842      1.105863   \n",
                            "12         Wild Type           AreaShape       0.991282      0.831995   \n",
                            "13         Wild Type         Granularity       1.380757      0.358328   \n",
                            "14         Wild Type           Intensity       2.745615      1.192441   \n",
                            "15         Wild Type           Neighbors       0.800787      0.556367   \n",
                            "16         Wild Type  RadialDistribution       2.389621      0.998530   \n",
                            "17         Wild Type             Texture       3.355692      1.148533   \n",
                            "\n",
                            "    variance_max  variance_min  variance_count  \n",
                            "0       3.855982      0.000005              98  \n",
                            "1       0.981199      0.015287               6  \n",
                            "2       1.157014      0.129043              15  \n",
                            "3       0.953424      0.479949               3  \n",
                            "4       1.751219      0.000000              70  \n",
                            "5       0.719217      0.032302              52  \n",
                            "6       3.934014      0.627254              98  \n",
                            "7       1.982012      0.713728               6  \n",
                            "8       2.091309      0.339192              15  \n",
                            "9       5.667220      2.043471               3  \n",
                            "10      3.948718      0.424658              70  \n",
                            "11      4.388057      0.111543              52  \n",
                            "12      3.408750      0.032856              98  \n",
                            "13      2.066825      1.116093               6  \n",
                            "14      4.553478      0.997455              15  \n",
                            "15      1.307476      0.205398               3  \n",
                            "16      4.560626      0.000000              70  \n",
                            "17      5.266871      0.730004              52  "
                        ]
                    },
                    "execution_count": 17,
                    "metadata": {},
                    "output_type": "execute_result"
                }
            ],
            "source": [
                "# get the mean and stdev for each feature group's variance\n",
                "var_df = (\n",
                "    var_df.groupby([\"Metadata_genotype\", \"feature_group\"])\n",
                "    .agg([\"mean\", \"std\", \"max\", \"min\", \"count\"])\n",
                "    .reset_index()\n",
                ")\n",
                "# ungroup the columns\n",
                "var_df.columns = [\"_\".join(col).strip() for col in var_df.columns.values]\n",
                "# rename the Metadata_genotype_ column and the feature_group_ column\n",
                "var_df.rename(\n",
                "    columns={\n",
                "        \"Metadata_genotype_\": \"Metadata_genotype\",\n",
                "        \"feature_group_\": \"feature_group\",\n",
                "    },\n",
                "    inplace=True,\n",
                ")\n",
                "var_df"
            ]
        },
        {
            "cell_type": "code",
            "execution_count": 18,
            "id": "896d2a9b",
            "metadata": {
                "execution": {
                    "iopub.execute_input": "2024-12-03T22:00:35.255671Z",
                    "iopub.status.busy": "2024-12-03T22:00:35.255215Z",
                    "iopub.status.idle": "2024-12-03T22:00:35.258826Z",
                    "shell.execute_reply": "2024-12-03T22:00:35.258404Z"
                },
                "papermill": {
                    "duration": 0.01697,
                    "end_time": "2024-12-03T22:00:35.259482",
                    "exception": false,
                    "start_time": "2024-12-03T22:00:35.242512",
                    "status": "completed"
                },
                "tags": []
            },
            "outputs": [],
            "source": [
                "# save the variance results\n",
                "var_path = pathlib.Path(\n",
                "    out_dir / \"sum_aggregated_variance_results_feature_types_stats.csv\"\n",
                ")\n",
                "var_df.to_csv(var_path, index=False)"
            ]
        }
    ],
    "metadata": {
        "kernelspec": {
            "display_name": "op_cell_processing_env",
            "language": "python",
            "name": "python3"
        },
        "language_info": {
            "codemirror_mode": {
                "name": "ipython",
                "version": 3
            },
            "file_extension": ".py",
            "mimetype": "text/x-python",
            "name": "python",
            "nbconvert_exporter": "python",
            "pygments_lexer": "ipython3",
            "version": "3.8.0"
        },
        "papermill": {
            "default_parameters": {},
            "duration": 40.556341,
            "end_time": "2024-12-03T22:00:35.587498",
            "environment_variables": {},
            "exception": null,
            "input_path": "3b.sum_aggregated_anova.ipynb",
            "output_path": "3b.sum_aggregated_anova.ipynb",
            "parameters": {},
            "start_time": "2024-12-03T21:59:55.031157",
            "version": "2.6.0"
        }
    },
    "nbformat": 4,
    "nbformat_minor": 5
}
