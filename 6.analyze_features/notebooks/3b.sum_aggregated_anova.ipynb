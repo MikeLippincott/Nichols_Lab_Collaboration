{
 "cells": [
  {
   "cell_type": "code",
   "execution_count": 1,
   "id": "e47255f0",
   "metadata": {
    "execution": {
     "iopub.execute_input": "2024-05-10T20:09:59.200283Z",
     "iopub.status.busy": "2024-05-10T20:09:59.200150Z",
     "iopub.status.idle": "2024-05-10T20:09:59.831222Z",
     "shell.execute_reply": "2024-05-10T20:09:59.830890Z"
    },
    "papermill": {
     "duration": 0.636151,
     "end_time": "2024-05-10T20:09:59.832516",
     "exception": false,
     "start_time": "2024-05-10T20:09:59.196365",
     "status": "completed"
    },
    "tags": []
   },
   "outputs": [],
   "source": [
    "import pathlib\n",
    "\n",
    "import matplotlib.pyplot as plt\n",
    "import numpy as np\n",
    "import pandas as pd\n",
    "import seaborn as sns\n",
    "import statsmodels.api as sm\n",
    "import tqdm\n",
    "from scipy.stats import levene\n",
    "\n",
    "# import anova and tukeyhsd\n",
    "from statsmodels.formula.api import ols\n",
    "from statsmodels.stats.multicomp import pairwise_tukeyhsd"
   ]
  },
  {
   "cell_type": "code",
   "execution_count": 2,
   "id": "ff035d0e",
   "metadata": {
    "execution": {
     "iopub.execute_input": "2024-05-10T20:09:59.839127Z",
     "iopub.status.busy": "2024-05-10T20:09:59.838914Z",
     "iopub.status.idle": "2024-05-10T20:09:59.843566Z",
     "shell.execute_reply": "2024-05-10T20:09:59.843291Z"
    },
    "papermill": {
     "duration": 0.008977,
     "end_time": "2024-05-10T20:09:59.844595",
     "exception": false,
     "start_time": "2024-05-10T20:09:59.835618",
     "status": "completed"
    },
    "tags": []
   },
   "outputs": [],
   "source": [
    "def anova_function(features_df: pd.DataFrame, Metdata_column: str) -> pd.DataFrame:\n",
    "    \"\"\"\n",
    "    This function will take in a dataframe and a metadata column and return the results of an anova and tukeyhsd test for each feature.\n",
    "\n",
    "\n",
    "    Parameters\n",
    "    ----------\n",
    "    features_df : pd.DataFrame\n",
    "        The dataframe containing the features with only one metadata column\n",
    "    Metdata_column : str\n",
    "        The name of the metadata column to be used for the anova test\n",
    "\n",
    "    Returns\n",
    "    -------\n",
    "    pd.DataFrame\n",
    "        A dataframe containing the results of the anova and tukeyhsd test for each feature\n",
    "    \"\"\"\n",
    "\n",
    "    # anova and tukeyhsd for each feature\n",
    "    # create a pandas data frame to store the results\n",
    "    anova_results = pd.DataFrame()\n",
    "\n",
    "    # loop through each feature\n",
    "    for feature in tqdm.tqdm(features_df.columns[:-1]):\n",
    "        # create a model\n",
    "        model = ols(f\"{feature} ~ C({Metdata_column})\", data=features_df).fit()\n",
    "        # create an anova table\n",
    "        anova_table = sm.stats.anova_lm(model, typ=2)\n",
    "        # create a tukeyhsd table\n",
    "        tukeyhsd = pairwise_tukeyhsd(features_df[feature], features_df[Metdata_column])\n",
    "        # get the f-statistic based p-value\n",
    "        anova_p_value = anova_table[\"PR(>F)\"][0]\n",
    "        tmp = pd.DataFrame(\n",
    "            tukeyhsd._results_table.data, columns=tukeyhsd._results_table.data[0]\n",
    "        ).drop(0)\n",
    "        tmp.reset_index(inplace=True, drop=True)\n",
    "        # drop the first row\n",
    "        tmp[\"feature\"] = feature\n",
    "        tmp[\"anova_p_value\"] = anova_p_value\n",
    "        tmp = pd.DataFrame(tmp)\n",
    "\n",
    "        anova_results = pd.concat([anova_results, tmp], axis=0).reset_index(drop=True)\n",
    "    return anova_results"
   ]
  },
  {
   "cell_type": "code",
   "execution_count": 3,
   "id": "6004d020",
   "metadata": {
    "execution": {
     "iopub.execute_input": "2024-05-10T20:09:59.850964Z",
     "iopub.status.busy": "2024-05-10T20:09:59.850839Z",
     "iopub.status.idle": "2024-05-10T20:09:59.880309Z",
     "shell.execute_reply": "2024-05-10T20:09:59.880046Z"
    },
    "papermill": {
     "duration": 0.033295,
     "end_time": "2024-05-10T20:09:59.880951",
     "exception": false,
     "start_time": "2024-05-10T20:09:59.847656",
     "status": "completed"
    },
    "tags": []
   },
   "outputs": [
    {
     "data": {
      "text/html": [
       "<div>\n",
       "<style scoped>\n",
       "    .dataframe tbody tr th:only-of-type {\n",
       "        vertical-align: middle;\n",
       "    }\n",
       "\n",
       "    .dataframe tbody tr th {\n",
       "        vertical-align: top;\n",
       "    }\n",
       "\n",
       "    .dataframe thead th {\n",
       "        text-align: right;\n",
       "    }\n",
       "</style>\n",
       "<table border=\"1\" class=\"dataframe\">\n",
       "  <thead>\n",
       "    <tr style=\"text-align: right;\">\n",
       "      <th></th>\n",
       "      <th>Metadata_genotype</th>\n",
       "      <th>Metadata_replicate</th>\n",
       "      <th>AreaShape_Area</th>\n",
       "      <th>AreaShape_CentralMoment_0_0</th>\n",
       "      <th>AreaShape_CentralMoment_0_1</th>\n",
       "      <th>AreaShape_CentralMoment_0_2</th>\n",
       "      <th>AreaShape_CentralMoment_0_3</th>\n",
       "      <th>AreaShape_CentralMoment_1_0</th>\n",
       "      <th>AreaShape_CentralMoment_1_1</th>\n",
       "      <th>AreaShape_CentralMoment_1_2</th>\n",
       "      <th>...</th>\n",
       "      <th>Texture_SumEntropy_OP_3_02_256</th>\n",
       "      <th>Texture_SumEntropy_OP_3_03_256</th>\n",
       "      <th>Texture_SumVariance_OP_3_00_256</th>\n",
       "      <th>Texture_SumVariance_OP_3_01_256</th>\n",
       "      <th>Texture_SumVariance_OP_3_02_256</th>\n",
       "      <th>Texture_SumVariance_OP_3_03_256</th>\n",
       "      <th>Texture_Variance_OP_3_00_256</th>\n",
       "      <th>Texture_Variance_OP_3_01_256</th>\n",
       "      <th>Texture_Variance_OP_3_02_256</th>\n",
       "      <th>Texture_Variance_OP_3_03_256</th>\n",
       "    </tr>\n",
       "  </thead>\n",
       "  <tbody>\n",
       "    <tr>\n",
       "      <th>0</th>\n",
       "      <td>high</td>\n",
       "      <td>1</td>\n",
       "      <td>1.192966</td>\n",
       "      <td>1.192966</td>\n",
       "      <td>0.541753</td>\n",
       "      <td>-0.098475</td>\n",
       "      <td>0.781736</td>\n",
       "      <td>4.201830</td>\n",
       "      <td>-0.927874</td>\n",
       "      <td>-0.085964</td>\n",
       "      <td>...</td>\n",
       "      <td>-0.208210</td>\n",
       "      <td>-0.238073</td>\n",
       "      <td>-1.091712</td>\n",
       "      <td>-1.050054</td>\n",
       "      <td>-1.086609</td>\n",
       "      <td>-1.089178</td>\n",
       "      <td>-1.115127</td>\n",
       "      <td>-1.124203</td>\n",
       "      <td>-1.117953</td>\n",
       "      <td>-1.121744</td>\n",
       "    </tr>\n",
       "    <tr>\n",
       "      <th>1</th>\n",
       "      <td>high</td>\n",
       "      <td>10</td>\n",
       "      <td>2.477908</td>\n",
       "      <td>2.477908</td>\n",
       "      <td>1.319626</td>\n",
       "      <td>3.444728</td>\n",
       "      <td>-1.748595</td>\n",
       "      <td>0.358390</td>\n",
       "      <td>-3.289519</td>\n",
       "      <td>1.650540</td>\n",
       "      <td>...</td>\n",
       "      <td>1.293954</td>\n",
       "      <td>1.270712</td>\n",
       "      <td>1.261364</td>\n",
       "      <td>1.284182</td>\n",
       "      <td>1.187508</td>\n",
       "      <td>1.270548</td>\n",
       "      <td>1.115726</td>\n",
       "      <td>1.096947</td>\n",
       "      <td>1.121969</td>\n",
       "      <td>1.095539</td>\n",
       "    </tr>\n",
       "    <tr>\n",
       "      <th>2</th>\n",
       "      <td>high</td>\n",
       "      <td>11</td>\n",
       "      <td>4.262414</td>\n",
       "      <td>4.262414</td>\n",
       "      <td>1.261731</td>\n",
       "      <td>2.852939</td>\n",
       "      <td>0.583182</td>\n",
       "      <td>3.602414</td>\n",
       "      <td>-0.541325</td>\n",
       "      <td>-0.328613</td>\n",
       "      <td>...</td>\n",
       "      <td>1.373542</td>\n",
       "      <td>1.356461</td>\n",
       "      <td>1.104765</td>\n",
       "      <td>1.141646</td>\n",
       "      <td>1.052532</td>\n",
       "      <td>1.096949</td>\n",
       "      <td>0.997651</td>\n",
       "      <td>0.972537</td>\n",
       "      <td>1.000166</td>\n",
       "      <td>0.980426</td>\n",
       "    </tr>\n",
       "    <tr>\n",
       "      <th>3</th>\n",
       "      <td>high</td>\n",
       "      <td>12</td>\n",
       "      <td>2.402476</td>\n",
       "      <td>2.402476</td>\n",
       "      <td>0.049886</td>\n",
       "      <td>2.558238</td>\n",
       "      <td>-0.928171</td>\n",
       "      <td>-3.305706</td>\n",
       "      <td>-1.964619</td>\n",
       "      <td>0.215359</td>\n",
       "      <td>...</td>\n",
       "      <td>0.619009</td>\n",
       "      <td>0.617867</td>\n",
       "      <td>-0.109557</td>\n",
       "      <td>-0.119752</td>\n",
       "      <td>-0.196800</td>\n",
       "      <td>-0.135860</td>\n",
       "      <td>-0.207564</td>\n",
       "      <td>-0.218735</td>\n",
       "      <td>-0.202171</td>\n",
       "      <td>-0.213544</td>\n",
       "    </tr>\n",
       "    <tr>\n",
       "      <th>4</th>\n",
       "      <td>high</td>\n",
       "      <td>13</td>\n",
       "      <td>2.389777</td>\n",
       "      <td>2.389777</td>\n",
       "      <td>-1.108736</td>\n",
       "      <td>-0.068931</td>\n",
       "      <td>0.101765</td>\n",
       "      <td>-2.689960</td>\n",
       "      <td>-0.967345</td>\n",
       "      <td>-1.588868</td>\n",
       "      <td>...</td>\n",
       "      <td>0.113413</td>\n",
       "      <td>0.095483</td>\n",
       "      <td>-0.650341</td>\n",
       "      <td>-0.591348</td>\n",
       "      <td>-0.642077</td>\n",
       "      <td>-0.644871</td>\n",
       "      <td>-0.696817</td>\n",
       "      <td>-0.712509</td>\n",
       "      <td>-0.700572</td>\n",
       "      <td>-0.704335</td>\n",
       "    </tr>\n",
       "  </tbody>\n",
       "</table>\n",
       "<p>5 rows × 246 columns</p>\n",
       "</div>"
      ],
      "text/plain": [
       "  Metadata_genotype Metadata_replicate  AreaShape_Area  \\\n",
       "0              high                  1        1.192966   \n",
       "1              high                 10        2.477908   \n",
       "2              high                 11        4.262414   \n",
       "3              high                 12        2.402476   \n",
       "4              high                 13        2.389777   \n",
       "\n",
       "   AreaShape_CentralMoment_0_0  AreaShape_CentralMoment_0_1  \\\n",
       "0                     1.192966                     0.541753   \n",
       "1                     2.477908                     1.319626   \n",
       "2                     4.262414                     1.261731   \n",
       "3                     2.402476                     0.049886   \n",
       "4                     2.389777                    -1.108736   \n",
       "\n",
       "   AreaShape_CentralMoment_0_2  AreaShape_CentralMoment_0_3  \\\n",
       "0                    -0.098475                     0.781736   \n",
       "1                     3.444728                    -1.748595   \n",
       "2                     2.852939                     0.583182   \n",
       "3                     2.558238                    -0.928171   \n",
       "4                    -0.068931                     0.101765   \n",
       "\n",
       "   AreaShape_CentralMoment_1_0  AreaShape_CentralMoment_1_1  \\\n",
       "0                     4.201830                    -0.927874   \n",
       "1                     0.358390                    -3.289519   \n",
       "2                     3.602414                    -0.541325   \n",
       "3                    -3.305706                    -1.964619   \n",
       "4                    -2.689960                    -0.967345   \n",
       "\n",
       "   AreaShape_CentralMoment_1_2  ...  Texture_SumEntropy_OP_3_02_256  \\\n",
       "0                    -0.085964  ...                       -0.208210   \n",
       "1                     1.650540  ...                        1.293954   \n",
       "2                    -0.328613  ...                        1.373542   \n",
       "3                     0.215359  ...                        0.619009   \n",
       "4                    -1.588868  ...                        0.113413   \n",
       "\n",
       "   Texture_SumEntropy_OP_3_03_256  Texture_SumVariance_OP_3_00_256  \\\n",
       "0                       -0.238073                        -1.091712   \n",
       "1                        1.270712                         1.261364   \n",
       "2                        1.356461                         1.104765   \n",
       "3                        0.617867                        -0.109557   \n",
       "4                        0.095483                        -0.650341   \n",
       "\n",
       "   Texture_SumVariance_OP_3_01_256  Texture_SumVariance_OP_3_02_256  \\\n",
       "0                        -1.050054                        -1.086609   \n",
       "1                         1.284182                         1.187508   \n",
       "2                         1.141646                         1.052532   \n",
       "3                        -0.119752                        -0.196800   \n",
       "4                        -0.591348                        -0.642077   \n",
       "\n",
       "   Texture_SumVariance_OP_3_03_256  Texture_Variance_OP_3_00_256  \\\n",
       "0                        -1.089178                     -1.115127   \n",
       "1                         1.270548                      1.115726   \n",
       "2                         1.096949                      0.997651   \n",
       "3                        -0.135860                     -0.207564   \n",
       "4                        -0.644871                     -0.696817   \n",
       "\n",
       "   Texture_Variance_OP_3_01_256  Texture_Variance_OP_3_02_256  \\\n",
       "0                     -1.124203                     -1.117953   \n",
       "1                      1.096947                      1.121969   \n",
       "2                      0.972537                      1.000166   \n",
       "3                     -0.218735                     -0.202171   \n",
       "4                     -0.712509                     -0.700572   \n",
       "\n",
       "   Texture_Variance_OP_3_03_256  \n",
       "0                     -1.121744  \n",
       "1                      1.095539  \n",
       "2                      0.980426  \n",
       "3                     -0.213544  \n",
       "4                     -0.704335  \n",
       "\n",
       "[5 rows x 246 columns]"
      ]
     },
     "execution_count": 3,
     "metadata": {},
     "output_type": "execute_result"
    }
   ],
   "source": [
    "file_path = pathlib.Path(\"../../data/5.converted_data/sum_aggregated_data.parquet\")\n",
    "df = pd.read_parquet(file_path)\n",
    "df.head()"
   ]
  },
  {
   "cell_type": "code",
   "execution_count": 4,
   "id": "51f53e11",
   "metadata": {
    "execution": {
     "iopub.execute_input": "2024-05-10T20:09:59.885465Z",
     "iopub.status.busy": "2024-05-10T20:09:59.885108Z",
     "iopub.status.idle": "2024-05-10T20:09:59.887791Z",
     "shell.execute_reply": "2024-05-10T20:09:59.887547Z"
    },
    "papermill": {
     "duration": 0.00561,
     "end_time": "2024-05-10T20:09:59.888500",
     "exception": false,
     "start_time": "2024-05-10T20:09:59.882890",
     "status": "completed"
    },
    "tags": []
   },
   "outputs": [],
   "source": [
    "# split the features and the metadata\n",
    "metadata = df.columns.str.contains(\"Metadata\")\n",
    "# filter the metadata\n",
    "metadata_df = df.loc[:, metadata]\n",
    "# filter the features\n",
    "features_df = df.loc[:, ~metadata]"
   ]
  },
  {
   "cell_type": "markdown",
   "id": "8de23fde",
   "metadata": {
    "papermill": {
     "duration": 0.001771,
     "end_time": "2024-05-10T20:09:59.892117",
     "exception": false,
     "start_time": "2024-05-10T20:09:59.890346",
     "status": "completed"
    },
    "tags": []
   },
   "source": [
    "## Anova for genotype only"
   ]
  },
  {
   "cell_type": "code",
   "execution_count": 5,
   "id": "8ade82e3",
   "metadata": {
    "execution": {
     "iopub.execute_input": "2024-05-10T20:09:59.896452Z",
     "iopub.status.busy": "2024-05-10T20:09:59.896138Z",
     "iopub.status.idle": "2024-05-10T20:10:30.472517Z",
     "shell.execute_reply": "2024-05-10T20:10:30.472199Z"
    },
    "papermill": {
     "duration": 30.57981,
     "end_time": "2024-05-10T20:10:30.473781",
     "exception": false,
     "start_time": "2024-05-10T20:09:59.893971",
     "status": "completed"
    },
    "tags": []
   },
   "outputs": [
    {
     "name": "stderr",
     "output_type": "stream",
     "text": [
      "\r",
      "  0%|                                                                                                                                                                                                                                  | 0/244 [00:00<?, ?it/s]"
     ]
    },
    {
     "name": "stderr",
     "output_type": "stream",
     "text": [
      "\r",
      "  0%|▉                                                                                                                                                                                                                         | 1/244 [00:00<00:32,  7.59it/s]"
     ]
    },
    {
     "name": "stderr",
     "output_type": "stream",
     "text": [
      "\r",
      "  1%|█▊                                                                                                                                                                                                                        | 2/244 [00:00<00:31,  7.72it/s]"
     ]
    },
    {
     "name": "stderr",
     "output_type": "stream",
     "text": [
      "\r",
      "  1%|██▋                                                                                                                                                                                                                       | 3/244 [00:00<00:30,  7.90it/s]"
     ]
    },
    {
     "name": "stderr",
     "output_type": "stream",
     "text": [
      "\r",
      "  2%|███▌                                                                                                                                                                                                                      | 4/244 [00:00<00:30,  7.88it/s]"
     ]
    },
    {
     "name": "stderr",
     "output_type": "stream",
     "text": [
      "\r",
      "  2%|████▍                                                                                                                                                                                                                     | 5/244 [00:00<00:30,  7.96it/s]"
     ]
    },
    {
     "name": "stderr",
     "output_type": "stream",
     "text": [
      "\r",
      "  2%|█████▎                                                                                                                                                                                                                    | 6/244 [00:00<00:29,  8.15it/s]"
     ]
    },
    {
     "name": "stderr",
     "output_type": "stream",
     "text": [
      "\r",
      "  3%|██████▎                                                                                                                                                                                                                   | 7/244 [00:00<00:29,  8.05it/s]"
     ]
    },
    {
     "name": "stderr",
     "output_type": "stream",
     "text": [
      "\r",
      "  3%|███████▏                                                                                                                                                                                                                  | 8/244 [00:01<00:29,  8.07it/s]"
     ]
    },
    {
     "name": "stderr",
     "output_type": "stream",
     "text": [
      "\r",
      "  4%|████████                                                                                                                                                                                                                  | 9/244 [00:01<00:29,  7.98it/s]"
     ]
    },
    {
     "name": "stderr",
     "output_type": "stream",
     "text": [
      "\r",
      "  4%|████████▉                                                                                                                                                                                                                | 10/244 [00:01<00:29,  7.92it/s]"
     ]
    },
    {
     "name": "stderr",
     "output_type": "stream",
     "text": [
      "\r",
      "  5%|█████████▊                                                                                                                                                                                                               | 11/244 [00:01<00:29,  7.91it/s]"
     ]
    },
    {
     "name": "stderr",
     "output_type": "stream",
     "text": [
      "\r",
      "  5%|██████████▋                                                                                                                                                                                                              | 12/244 [00:01<00:29,  7.87it/s]"
     ]
    },
    {
     "name": "stderr",
     "output_type": "stream",
     "text": [
      "\r",
      "  5%|███████████▌                                                                                                                                                                                                             | 13/244 [00:01<00:29,  7.92it/s]"
     ]
    },
    {
     "name": "stderr",
     "output_type": "stream",
     "text": [
      "\r",
      "  6%|████████████▍                                                                                                                                                                                                            | 14/244 [00:01<00:29,  7.89it/s]"
     ]
    },
    {
     "name": "stderr",
     "output_type": "stream",
     "text": [
      "\r",
      "  6%|█████████████▎                                                                                                                                                                                                           | 15/244 [00:01<00:29,  7.88it/s]"
     ]
    },
    {
     "name": "stderr",
     "output_type": "stream",
     "text": [
      "\r",
      "  7%|██████████████▏                                                                                                                                                                                                          | 16/244 [00:02<00:28,  7.89it/s]"
     ]
    },
    {
     "name": "stderr",
     "output_type": "stream",
     "text": [
      "\r",
      "  7%|███████████████                                                                                                                                                                                                          | 17/244 [00:02<00:28,  7.88it/s]"
     ]
    },
    {
     "name": "stderr",
     "output_type": "stream",
     "text": [
      "\r",
      "  7%|████████████████                                                                                                                                                                                                         | 18/244 [00:02<00:28,  7.90it/s]"
     ]
    },
    {
     "name": "stderr",
     "output_type": "stream",
     "text": [
      "\r",
      "  8%|████████████████▉                                                                                                                                                                                                        | 19/244 [00:02<00:28,  7.89it/s]"
     ]
    },
    {
     "name": "stderr",
     "output_type": "stream",
     "text": [
      "\r",
      "  8%|█████████████████▊                                                                                                                                                                                                       | 20/244 [00:02<00:28,  7.89it/s]"
     ]
    },
    {
     "name": "stderr",
     "output_type": "stream",
     "text": [
      "\r",
      "  9%|██████████████████▋                                                                                                                                                                                                      | 21/244 [00:02<00:28,  7.90it/s]"
     ]
    },
    {
     "name": "stderr",
     "output_type": "stream",
     "text": [
      "\r",
      "  9%|███████████████████▌                                                                                                                                                                                                     | 22/244 [00:02<00:28,  7.93it/s]"
     ]
    },
    {
     "name": "stderr",
     "output_type": "stream",
     "text": [
      "\r",
      "  9%|████████████████████▍                                                                                                                                                                                                    | 23/244 [00:02<00:27,  7.90it/s]"
     ]
    },
    {
     "name": "stderr",
     "output_type": "stream",
     "text": [
      "\r",
      " 10%|█████████████████████▎                                                                                                                                                                                                   | 24/244 [00:03<00:27,  7.96it/s]"
     ]
    },
    {
     "name": "stderr",
     "output_type": "stream",
     "text": [
      "\r",
      " 10%|██████████████████████▏                                                                                                                                                                                                  | 25/244 [00:03<00:27,  7.93it/s]"
     ]
    },
    {
     "name": "stderr",
     "output_type": "stream",
     "text": [
      "\r",
      " 11%|███████████████████████                                                                                                                                                                                                  | 26/244 [00:03<00:27,  7.96it/s]"
     ]
    },
    {
     "name": "stderr",
     "output_type": "stream",
     "text": [
      "\r",
      " 11%|████████████████████████                                                                                                                                                                                                 | 27/244 [00:03<00:27,  7.94it/s]"
     ]
    },
    {
     "name": "stderr",
     "output_type": "stream",
     "text": [
      "\r",
      " 11%|████████████████████████▉                                                                                                                                                                                                | 28/244 [00:03<00:27,  7.95it/s]"
     ]
    },
    {
     "name": "stderr",
     "output_type": "stream",
     "text": [
      "\r",
      " 12%|█████████████████████████▊                                                                                                                                                                                               | 29/244 [00:03<00:27,  7.94it/s]"
     ]
    },
    {
     "name": "stderr",
     "output_type": "stream",
     "text": [
      "\r",
      " 12%|██████████████████████████▋                                                                                                                                                                                              | 30/244 [00:03<00:27,  7.92it/s]"
     ]
    },
    {
     "name": "stderr",
     "output_type": "stream",
     "text": [
      "\r",
      " 13%|███████████████████████████▌                                                                                                                                                                                             | 31/244 [00:03<00:26,  7.92it/s]"
     ]
    },
    {
     "name": "stderr",
     "output_type": "stream",
     "text": [
      "\r",
      " 13%|████████████████████████████▍                                                                                                                                                                                            | 32/244 [00:04<00:26,  7.93it/s]"
     ]
    },
    {
     "name": "stderr",
     "output_type": "stream",
     "text": [
      "\r",
      " 14%|█████████████████████████████▎                                                                                                                                                                                           | 33/244 [00:04<00:26,  7.95it/s]"
     ]
    },
    {
     "name": "stderr",
     "output_type": "stream",
     "text": [
      "\r",
      " 14%|██████████████████████████████▏                                                                                                                                                                                          | 34/244 [00:04<00:26,  7.95it/s]"
     ]
    },
    {
     "name": "stderr",
     "output_type": "stream",
     "text": [
      "\r",
      " 14%|███████████████████████████████▏                                                                                                                                                                                         | 35/244 [00:04<00:26,  8.00it/s]"
     ]
    },
    {
     "name": "stderr",
     "output_type": "stream",
     "text": [
      "\r",
      " 15%|████████████████████████████████                                                                                                                                                                                         | 36/244 [00:04<00:26,  7.97it/s]"
     ]
    },
    {
     "name": "stderr",
     "output_type": "stream",
     "text": [
      "\r",
      " 15%|████████████████████████████████▉                                                                                                                                                                                        | 37/244 [00:04<00:26,  7.95it/s]"
     ]
    },
    {
     "name": "stderr",
     "output_type": "stream",
     "text": [
      "\r",
      " 16%|█████████████████████████████████▊                                                                                                                                                                                       | 38/244 [00:04<00:25,  7.94it/s]"
     ]
    },
    {
     "name": "stderr",
     "output_type": "stream",
     "text": [
      "\r",
      " 16%|██████████████████████████████████▋                                                                                                                                                                                      | 39/244 [00:04<00:25,  7.93it/s]"
     ]
    },
    {
     "name": "stderr",
     "output_type": "stream",
     "text": [
      "\r",
      " 16%|███████████████████████████████████▌                                                                                                                                                                                     | 40/244 [00:05<00:25,  7.90it/s]"
     ]
    },
    {
     "name": "stderr",
     "output_type": "stream",
     "text": [
      "\r",
      " 17%|████████████████████████████████████▍                                                                                                                                                                                    | 41/244 [00:05<00:25,  7.88it/s]"
     ]
    },
    {
     "name": "stderr",
     "output_type": "stream",
     "text": [
      "\r",
      " 17%|█████████████████████████████████████▎                                                                                                                                                                                   | 42/244 [00:05<00:25,  7.90it/s]"
     ]
    },
    {
     "name": "stderr",
     "output_type": "stream",
     "text": [
      "\r",
      " 18%|██████████████████████████████████████▏                                                                                                                                                                                  | 43/244 [00:05<00:25,  7.97it/s]"
     ]
    },
    {
     "name": "stderr",
     "output_type": "stream",
     "text": [
      "\r",
      " 18%|███████████████████████████████████████▏                                                                                                                                                                                 | 44/244 [00:05<00:25,  7.96it/s]"
     ]
    },
    {
     "name": "stderr",
     "output_type": "stream",
     "text": [
      "\r",
      " 18%|████████████████████████████████████████                                                                                                                                                                                 | 45/244 [00:05<00:24,  7.98it/s]"
     ]
    },
    {
     "name": "stderr",
     "output_type": "stream",
     "text": [
      "\r",
      " 19%|████████████████████████████████████████▉                                                                                                                                                                                | 46/244 [00:05<00:24,  7.96it/s]"
     ]
    },
    {
     "name": "stderr",
     "output_type": "stream",
     "text": [
      "\r",
      " 19%|█████████████████████████████████████████▊                                                                                                                                                                               | 47/244 [00:05<00:24,  8.05it/s]"
     ]
    },
    {
     "name": "stderr",
     "output_type": "stream",
     "text": [
      "\r",
      " 20%|██████████████████████████████████████████▋                                                                                                                                                                              | 48/244 [00:06<00:24,  8.00it/s]"
     ]
    },
    {
     "name": "stderr",
     "output_type": "stream",
     "text": [
      "\r",
      " 20%|███████████████████████████████████████████▌                                                                                                                                                                             | 49/244 [00:06<00:24,  7.97it/s]"
     ]
    },
    {
     "name": "stderr",
     "output_type": "stream",
     "text": [
      "\r",
      " 20%|████████████████████████████████████████████▍                                                                                                                                                                            | 50/244 [00:06<00:24,  7.98it/s]"
     ]
    },
    {
     "name": "stderr",
     "output_type": "stream",
     "text": [
      "\r",
      " 21%|█████████████████████████████████████████████▎                                                                                                                                                                           | 51/244 [00:06<00:24,  8.01it/s]"
     ]
    },
    {
     "name": "stderr",
     "output_type": "stream",
     "text": [
      "\r",
      " 21%|██████████████████████████████████████████████▏                                                                                                                                                                          | 52/244 [00:06<00:24,  7.96it/s]"
     ]
    },
    {
     "name": "stderr",
     "output_type": "stream",
     "text": [
      "\r",
      " 22%|███████████████████████████████████████████████▏                                                                                                                                                                         | 53/244 [00:06<00:23,  7.98it/s]"
     ]
    },
    {
     "name": "stderr",
     "output_type": "stream",
     "text": [
      "\r",
      " 22%|████████████████████████████████████████████████                                                                                                                                                                         | 54/244 [00:06<00:23,  8.00it/s]"
     ]
    },
    {
     "name": "stderr",
     "output_type": "stream",
     "text": [
      "\r",
      " 23%|████████████████████████████████████████████████▉                                                                                                                                                                        | 55/244 [00:06<00:23,  7.96it/s]"
     ]
    },
    {
     "name": "stderr",
     "output_type": "stream",
     "text": [
      "\r",
      " 23%|█████████████████████████████████████████████████▊                                                                                                                                                                       | 56/244 [00:07<00:23,  7.99it/s]"
     ]
    },
    {
     "name": "stderr",
     "output_type": "stream",
     "text": [
      "\r",
      " 23%|██████████████████████████████████████████████████▋                                                                                                                                                                      | 57/244 [00:07<00:23,  7.97it/s]"
     ]
    },
    {
     "name": "stderr",
     "output_type": "stream",
     "text": [
      "\r",
      " 24%|███████████████████████████████████████████████████▌                                                                                                                                                                     | 58/244 [00:07<00:23,  7.96it/s]"
     ]
    },
    {
     "name": "stderr",
     "output_type": "stream",
     "text": [
      "\r",
      " 24%|████████████████████████████████████████████████████▍                                                                                                                                                                    | 59/244 [00:07<00:23,  7.92it/s]"
     ]
    },
    {
     "name": "stderr",
     "output_type": "stream",
     "text": [
      "\r",
      " 25%|█████████████████████████████████████████████████████▎                                                                                                                                                                   | 60/244 [00:07<00:23,  7.91it/s]"
     ]
    },
    {
     "name": "stderr",
     "output_type": "stream",
     "text": [
      "\r",
      " 25%|██████████████████████████████████████████████████████▎                                                                                                                                                                  | 61/244 [00:07<00:23,  7.90it/s]"
     ]
    },
    {
     "name": "stderr",
     "output_type": "stream",
     "text": [
      "\r",
      " 25%|███████████████████████████████████████████████████████▏                                                                                                                                                                 | 62/244 [00:07<00:23,  7.91it/s]"
     ]
    },
    {
     "name": "stderr",
     "output_type": "stream",
     "text": [
      "\r",
      " 26%|████████████████████████████████████████████████████████                                                                                                                                                                 | 63/244 [00:07<00:22,  7.92it/s]"
     ]
    },
    {
     "name": "stderr",
     "output_type": "stream",
     "text": [
      "\r",
      " 26%|████████████████████████████████████████████████████████▉                                                                                                                                                                | 64/244 [00:08<00:22,  7.92it/s]"
     ]
    },
    {
     "name": "stderr",
     "output_type": "stream",
     "text": [
      "\r",
      " 27%|█████████████████████████████████████████████████████████▊                                                                                                                                                               | 65/244 [00:08<00:22,  7.91it/s]"
     ]
    },
    {
     "name": "stderr",
     "output_type": "stream",
     "text": [
      "\r",
      " 27%|██████████████████████████████████████████████████████████▋                                                                                                                                                              | 66/244 [00:08<00:22,  7.91it/s]"
     ]
    },
    {
     "name": "stderr",
     "output_type": "stream",
     "text": [
      "\r",
      " 27%|███████████████████████████████████████████████████████████▌                                                                                                                                                             | 67/244 [00:08<00:22,  7.91it/s]"
     ]
    },
    {
     "name": "stderr",
     "output_type": "stream",
     "text": [
      "\r",
      " 28%|████████████████████████████████████████████████████████████▍                                                                                                                                                            | 68/244 [00:08<00:22,  7.90it/s]"
     ]
    },
    {
     "name": "stderr",
     "output_type": "stream",
     "text": [
      "\r",
      " 28%|█████████████████████████████████████████████████████████████▎                                                                                                                                                           | 69/244 [00:08<00:22,  7.91it/s]"
     ]
    },
    {
     "name": "stderr",
     "output_type": "stream",
     "text": [
      "\r",
      " 29%|██████████████████████████████████████████████████████████████▎                                                                                                                                                          | 70/244 [00:08<00:22,  7.89it/s]"
     ]
    },
    {
     "name": "stderr",
     "output_type": "stream",
     "text": [
      "\r",
      " 29%|███████████████████████████████████████████████████████████████▏                                                                                                                                                         | 71/244 [00:08<00:21,  7.91it/s]"
     ]
    },
    {
     "name": "stderr",
     "output_type": "stream",
     "text": [
      "\r",
      " 30%|████████████████████████████████████████████████████████████████                                                                                                                                                         | 72/244 [00:09<00:21,  7.90it/s]"
     ]
    },
    {
     "name": "stderr",
     "output_type": "stream",
     "text": [
      "\r",
      " 30%|████████████████████████████████████████████████████████████████▉                                                                                                                                                        | 73/244 [00:09<00:21,  7.89it/s]"
     ]
    },
    {
     "name": "stderr",
     "output_type": "stream",
     "text": [
      "\r",
      " 30%|█████████████████████████████████████████████████████████████████▊                                                                                                                                                       | 74/244 [00:09<00:21,  7.91it/s]"
     ]
    },
    {
     "name": "stderr",
     "output_type": "stream",
     "text": [
      "\r",
      " 31%|██████████████████████████████████████████████████████████████████▋                                                                                                                                                      | 75/244 [00:09<00:21,  7.90it/s]"
     ]
    },
    {
     "name": "stderr",
     "output_type": "stream",
     "text": [
      "\r",
      " 31%|███████████████████████████████████████████████████████████████████▌                                                                                                                                                     | 76/244 [00:09<00:21,  7.90it/s]"
     ]
    },
    {
     "name": "stderr",
     "output_type": "stream",
     "text": [
      "\r",
      " 32%|████████████████████████████████████████████████████████████████████▍                                                                                                                                                    | 77/244 [00:09<00:21,  7.89it/s]"
     ]
    },
    {
     "name": "stderr",
     "output_type": "stream",
     "text": [
      "\r",
      " 32%|█████████████████████████████████████████████████████████████████████▎                                                                                                                                                   | 78/244 [00:09<00:20,  7.91it/s]"
     ]
    },
    {
     "name": "stderr",
     "output_type": "stream",
     "text": [
      "\r",
      " 32%|██████████████████████████████████████████████████████████████████████▎                                                                                                                                                  | 79/244 [00:09<00:20,  7.95it/s]"
     ]
    },
    {
     "name": "stderr",
     "output_type": "stream",
     "text": [
      "\r",
      " 33%|███████████████████████████████████████████████████████████████████████▏                                                                                                                                                 | 80/244 [00:10<00:20,  7.92it/s]"
     ]
    },
    {
     "name": "stderr",
     "output_type": "stream",
     "text": [
      "\r",
      " 33%|████████████████████████████████████████████████████████████████████████                                                                                                                                                 | 81/244 [00:10<00:20,  7.96it/s]"
     ]
    },
    {
     "name": "stderr",
     "output_type": "stream",
     "text": [
      "\r",
      " 34%|████████████████████████████████████████████████████████████████████████▉                                                                                                                                                | 82/244 [00:10<00:20,  8.00it/s]"
     ]
    },
    {
     "name": "stderr",
     "output_type": "stream",
     "text": [
      "\r",
      " 34%|█████████████████████████████████████████████████████████████████████████▊                                                                                                                                               | 83/244 [00:10<00:19,  8.08it/s]"
     ]
    },
    {
     "name": "stderr",
     "output_type": "stream",
     "text": [
      "\r",
      " 34%|██████████████████████████████████████████████████████████████████████████▋                                                                                                                                              | 84/244 [00:10<00:19,  8.02it/s]"
     ]
    },
    {
     "name": "stderr",
     "output_type": "stream",
     "text": [
      "\r",
      " 35%|███████████████████████████████████████████████████████████████████████████▌                                                                                                                                             | 85/244 [00:10<00:19,  8.02it/s]"
     ]
    },
    {
     "name": "stderr",
     "output_type": "stream",
     "text": [
      "\r",
      " 35%|████████████████████████████████████████████████████████████████████████████▍                                                                                                                                            | 86/244 [00:10<00:19,  8.04it/s]"
     ]
    },
    {
     "name": "stderr",
     "output_type": "stream",
     "text": [
      "\r",
      " 36%|█████████████████████████████████████████████████████████████████████████████▎                                                                                                                                           | 87/244 [00:10<00:19,  7.97it/s]"
     ]
    },
    {
     "name": "stderr",
     "output_type": "stream",
     "text": [
      "\r",
      " 36%|██████████████████████████████████████████████████████████████████████████████▎                                                                                                                                          | 88/244 [00:11<00:19,  7.98it/s]"
     ]
    },
    {
     "name": "stderr",
     "output_type": "stream",
     "text": [
      "\r",
      " 36%|███████████████████████████████████████████████████████████████████████████████▏                                                                                                                                         | 89/244 [00:11<00:19,  8.00it/s]"
     ]
    },
    {
     "name": "stderr",
     "output_type": "stream",
     "text": [
      "\r",
      " 37%|████████████████████████████████████████████████████████████████████████████████                                                                                                                                         | 90/244 [00:11<00:19,  7.96it/s]"
     ]
    },
    {
     "name": "stderr",
     "output_type": "stream",
     "text": [
      "\r",
      " 37%|████████████████████████████████████████████████████████████████████████████████▉                                                                                                                                        | 91/244 [00:11<00:19,  7.94it/s]"
     ]
    },
    {
     "name": "stderr",
     "output_type": "stream",
     "text": [
      "\r",
      " 38%|█████████████████████████████████████████████████████████████████████████████████▊                                                                                                                                       | 92/244 [00:11<00:19,  7.94it/s]"
     ]
    },
    {
     "name": "stderr",
     "output_type": "stream",
     "text": [
      "\r",
      " 38%|██████████████████████████████████████████████████████████████████████████████████▋                                                                                                                                      | 93/244 [00:11<00:19,  7.94it/s]"
     ]
    },
    {
     "name": "stderr",
     "output_type": "stream",
     "text": [
      "\r",
      " 39%|███████████████████████████████████████████████████████████████████████████████████▌                                                                                                                                     | 94/244 [00:11<00:18,  7.94it/s]"
     ]
    },
    {
     "name": "stderr",
     "output_type": "stream",
     "text": [
      "\r",
      " 39%|████████████████████████████████████████████████████████████████████████████████████▍                                                                                                                                    | 95/244 [00:11<00:18,  7.97it/s]"
     ]
    },
    {
     "name": "stderr",
     "output_type": "stream",
     "text": [
      "\r",
      " 39%|█████████████████████████████████████████████████████████████████████████████████████▍                                                                                                                                   | 96/244 [00:12<00:18,  7.99it/s]"
     ]
    },
    {
     "name": "stderr",
     "output_type": "stream",
     "text": [
      "\r",
      " 40%|██████████████████████████████████████████████████████████████████████████████████████▎                                                                                                                                  | 97/244 [00:12<00:18,  8.02it/s]"
     ]
    },
    {
     "name": "stderr",
     "output_type": "stream",
     "text": [
      "\r",
      " 40%|███████████████████████████████████████████████████████████████████████████████████████▏                                                                                                                                 | 98/244 [00:12<00:18,  8.01it/s]"
     ]
    },
    {
     "name": "stderr",
     "output_type": "stream",
     "text": [
      "\r",
      " 41%|████████████████████████████████████████████████████████████████████████████████████████                                                                                                                                 | 99/244 [00:12<00:18,  7.96it/s]"
     ]
    },
    {
     "name": "stderr",
     "output_type": "stream",
     "text": [
      "\r",
      " 41%|████████████████████████████████████████████████████████████████████████████████████████▌                                                                                                                               | 100/244 [00:12<00:18,  7.94it/s]"
     ]
    },
    {
     "name": "stderr",
     "output_type": "stream",
     "text": [
      "\r",
      " 41%|█████████████████████████████████████████████████████████████████████████████████████████▍                                                                                                                              | 101/244 [00:12<00:18,  7.94it/s]"
     ]
    },
    {
     "name": "stderr",
     "output_type": "stream",
     "text": [
      "\r",
      " 42%|██████████████████████████████████████████████████████████████████████████████████████████▎                                                                                                                             | 102/244 [00:12<00:17,  7.97it/s]"
     ]
    },
    {
     "name": "stderr",
     "output_type": "stream",
     "text": [
      "\r",
      " 42%|███████████████████████████████████████████████████████████████████████████████████████████▏                                                                                                                            | 103/244 [00:12<00:17,  7.97it/s]"
     ]
    },
    {
     "name": "stderr",
     "output_type": "stream",
     "text": [
      "\r",
      " 43%|████████████████████████████████████████████████████████████████████████████████████████████                                                                                                                            | 104/244 [00:13<00:17,  8.03it/s]"
     ]
    },
    {
     "name": "stderr",
     "output_type": "stream",
     "text": [
      "\r",
      " 43%|████████████████████████████████████████████████████████████████████████████████████████████▉                                                                                                                           | 105/244 [00:13<00:17,  7.98it/s]"
     ]
    },
    {
     "name": "stderr",
     "output_type": "stream",
     "text": [
      "\r",
      " 43%|█████████████████████████████████████████████████████████████████████████████████████████████▊                                                                                                                          | 106/244 [00:13<00:17,  8.03it/s]"
     ]
    },
    {
     "name": "stderr",
     "output_type": "stream",
     "text": [
      "\r",
      " 44%|██████████████████████████████████████████████████████████████████████████████████████████████▋                                                                                                                         | 107/244 [00:13<00:17,  8.00it/s]"
     ]
    },
    {
     "name": "stderr",
     "output_type": "stream",
     "text": [
      "\r",
      " 44%|███████████████████████████████████████████████████████████████████████████████████████████████▌                                                                                                                        | 108/244 [00:13<00:17,  7.96it/s]"
     ]
    },
    {
     "name": "stderr",
     "output_type": "stream",
     "text": [
      "\r",
      " 45%|████████████████████████████████████████████████████████████████████████████████████████████████▍                                                                                                                       | 109/244 [00:13<00:17,  7.92it/s]"
     ]
    },
    {
     "name": "stderr",
     "output_type": "stream",
     "text": [
      "\r",
      " 45%|█████████████████████████████████████████████████████████████████████████████████████████████████▍                                                                                                                      | 110/244 [00:13<00:16,  7.91it/s]"
     ]
    },
    {
     "name": "stderr",
     "output_type": "stream",
     "text": [
      "\r",
      " 45%|██████████████████████████████████████████████████████████████████████████████████████████████████▎                                                                                                                     | 111/244 [00:13<00:16,  7.95it/s]"
     ]
    },
    {
     "name": "stderr",
     "output_type": "stream",
     "text": [
      "\r",
      " 46%|███████████████████████████████████████████████████████████████████████████████████████████████████▏                                                                                                                    | 112/244 [00:14<00:16,  7.94it/s]"
     ]
    },
    {
     "name": "stderr",
     "output_type": "stream",
     "text": [
      "\r",
      " 46%|████████████████████████████████████████████████████████████████████████████████████████████████████                                                                                                                    | 113/244 [00:14<00:16,  7.90it/s]"
     ]
    },
    {
     "name": "stderr",
     "output_type": "stream",
     "text": [
      "\r",
      " 47%|████████████████████████████████████████████████████████████████████████████████████████████████████▉                                                                                                                   | 114/244 [00:14<00:16,  7.87it/s]"
     ]
    },
    {
     "name": "stderr",
     "output_type": "stream",
     "text": [
      "\r",
      " 47%|█████████████████████████████████████████████████████████████████████████████████████████████████████▊                                                                                                                  | 115/244 [00:14<00:16,  7.95it/s]"
     ]
    },
    {
     "name": "stderr",
     "output_type": "stream",
     "text": [
      "\r",
      " 48%|██████████████████████████████████████████████████████████████████████████████████████████████████████▋                                                                                                                 | 116/244 [00:14<00:16,  7.99it/s]"
     ]
    },
    {
     "name": "stderr",
     "output_type": "stream",
     "text": [
      "\r",
      " 48%|███████████████████████████████████████████████████████████████████████████████████████████████████████▌                                                                                                                | 117/244 [00:14<00:15,  7.96it/s]"
     ]
    },
    {
     "name": "stderr",
     "output_type": "stream",
     "text": [
      "\r",
      " 48%|████████████████████████████████████████████████████████████████████████████████████████████████████████▍                                                                                                               | 118/244 [00:14<00:15,  7.96it/s]"
     ]
    },
    {
     "name": "stderr",
     "output_type": "stream",
     "text": [
      "\r",
      " 49%|█████████████████████████████████████████████████████████████████████████████████████████████████████████▎                                                                                                              | 119/244 [00:14<00:15,  7.92it/s]"
     ]
    },
    {
     "name": "stderr",
     "output_type": "stream",
     "text": [
      "\r",
      " 49%|██████████████████████████████████████████████████████████████████████████████████████████████████████████▏                                                                                                             | 120/244 [00:15<00:15,  7.90it/s]"
     ]
    },
    {
     "name": "stderr",
     "output_type": "stream",
     "text": [
      "\r",
      " 50%|███████████████████████████████████████████████████████████████████████████████████████████████████████████                                                                                                             | 121/244 [00:15<00:15,  7.95it/s]"
     ]
    },
    {
     "name": "stderr",
     "output_type": "stream",
     "text": [
      "\r",
      " 50%|████████████████████████████████████████████████████████████████████████████████████████████████████████████                                                                                                            | 122/244 [00:15<00:15,  7.93it/s]"
     ]
    },
    {
     "name": "stderr",
     "output_type": "stream",
     "text": [
      "\r",
      " 50%|████████████████████████████████████████████████████████████████████████████████████████████████████████████▉                                                                                                           | 123/244 [00:15<00:15,  7.99it/s]"
     ]
    },
    {
     "name": "stderr",
     "output_type": "stream",
     "text": [
      "\r",
      " 51%|█████████████████████████████████████████████████████████████████████████████████████████████████████████████▊                                                                                                          | 124/244 [00:15<00:14,  8.00it/s]"
     ]
    },
    {
     "name": "stderr",
     "output_type": "stream",
     "text": [
      "\r",
      " 51%|██████████████████████████████████████████████████████████████████████████████████████████████████████████████▋                                                                                                         | 125/244 [00:15<00:14,  7.99it/s]"
     ]
    },
    {
     "name": "stderr",
     "output_type": "stream",
     "text": [
      "\r",
      " 52%|███████████████████████████████████████████████████████████████████████████████████████████████████████████████▌                                                                                                        | 126/244 [00:15<00:14,  8.01it/s]"
     ]
    },
    {
     "name": "stderr",
     "output_type": "stream",
     "text": [
      "\r",
      " 52%|████████████████████████████████████████████████████████████████████████████████████████████████████████████████▍                                                                                                       | 127/244 [00:15<00:14,  7.98it/s]"
     ]
    },
    {
     "name": "stderr",
     "output_type": "stream",
     "text": [
      "\r",
      " 52%|█████████████████████████████████████████████████████████████████████████████████████████████████████████████████▎                                                                                                      | 128/244 [00:16<00:14,  8.00it/s]"
     ]
    },
    {
     "name": "stderr",
     "output_type": "stream",
     "text": [
      "\r",
      " 53%|██████████████████████████████████████████████████████████████████████████████████████████████████████████████████▏                                                                                                     | 129/244 [00:16<00:14,  8.02it/s]"
     ]
    },
    {
     "name": "stderr",
     "output_type": "stream",
     "text": [
      "\r",
      " 53%|███████████████████████████████████████████████████████████████████████████████████████████████████████████████████                                                                                                     | 130/244 [00:16<00:14,  8.02it/s]"
     ]
    },
    {
     "name": "stderr",
     "output_type": "stream",
     "text": [
      "\r",
      " 54%|███████████████████████████████████████████████████████████████████████████████████████████████████████████████████▉                                                                                                    | 131/244 [00:16<00:13,  8.08it/s]"
     ]
    },
    {
     "name": "stderr",
     "output_type": "stream",
     "text": [
      "\r",
      " 54%|████████████████████████████████████████████████████████████████████████████████████████████████████████████████████▊                                                                                                   | 132/244 [00:16<00:13,  8.21it/s]"
     ]
    },
    {
     "name": "stderr",
     "output_type": "stream",
     "text": [
      "\r",
      " 55%|█████████████████████████████████████████████████████████████████████████████████████████████████████████████████████▋                                                                                                  | 133/244 [00:16<00:13,  8.15it/s]"
     ]
    },
    {
     "name": "stderr",
     "output_type": "stream",
     "text": [
      "\r",
      " 55%|██████████████████████████████████████████████████████████████████████████████████████████████████████████████████████▌                                                                                                 | 134/244 [00:16<00:13,  8.08it/s]"
     ]
    },
    {
     "name": "stderr",
     "output_type": "stream",
     "text": [
      "\r",
      " 55%|███████████████████████████████████████████████████████████████████████████████████████████████████████████████████████▌                                                                                                | 135/244 [00:16<00:13,  8.01it/s]"
     ]
    },
    {
     "name": "stderr",
     "output_type": "stream",
     "text": [
      "\r",
      " 56%|████████████████████████████████████████████████████████████████████████████████████████████████████████████████████████▍                                                                                               | 136/244 [00:17<00:13,  8.01it/s]"
     ]
    },
    {
     "name": "stderr",
     "output_type": "stream",
     "text": [
      "\r",
      " 56%|█████████████████████████████████████████████████████████████████████████████████████████████████████████████████████████▎                                                                                              | 137/244 [00:17<00:13,  7.97it/s]"
     ]
    },
    {
     "name": "stderr",
     "output_type": "stream",
     "text": [
      "\r",
      " 57%|██████████████████████████████████████████████████████████████████████████████████████████████████████████████████████████▏                                                                                             | 138/244 [00:17<00:13,  7.97it/s]"
     ]
    },
    {
     "name": "stderr",
     "output_type": "stream",
     "text": [
      "\r",
      " 57%|███████████████████████████████████████████████████████████████████████████████████████████████████████████████████████████                                                                                             | 139/244 [00:17<00:13,  8.04it/s]"
     ]
    },
    {
     "name": "stderr",
     "output_type": "stream",
     "text": [
      "\r",
      " 57%|███████████████████████████████████████████████████████████████████████████████████████████████████████████████████████████▉                                                                                            | 140/244 [00:17<00:12,  8.04it/s]"
     ]
    },
    {
     "name": "stderr",
     "output_type": "stream",
     "text": [
      "\r",
      " 58%|████████████████████████████████████████████████████████████████████████████████████████████████████████████████████████████▊                                                                                           | 141/244 [00:17<00:12,  8.01it/s]"
     ]
    },
    {
     "name": "stderr",
     "output_type": "stream",
     "text": [
      "\r",
      " 58%|█████████████████████████████████████████████████████████████████████████████████████████████████████████████████████████████▋                                                                                          | 142/244 [00:17<00:12,  7.96it/s]"
     ]
    },
    {
     "name": "stderr",
     "output_type": "stream",
     "text": [
      "\r",
      " 59%|██████████████████████████████████████████████████████████████████████████████████████████████████████████████████████████████▌                                                                                         | 143/244 [00:17<00:12,  7.98it/s]"
     ]
    },
    {
     "name": "stderr",
     "output_type": "stream",
     "text": [
      "\r",
      " 59%|███████████████████████████████████████████████████████████████████████████████████████████████████████████████████████████████▍                                                                                        | 144/244 [00:18<00:12,  7.97it/s]"
     ]
    },
    {
     "name": "stderr",
     "output_type": "stream",
     "text": [
      "\r",
      " 59%|████████████████████████████████████████████████████████████████████████████████████████████████████████████████████████████████▎                                                                                       | 145/244 [00:18<00:12,  7.99it/s]"
     ]
    },
    {
     "name": "stderr",
     "output_type": "stream",
     "text": [
      "\r",
      " 60%|█████████████████████████████████████████████████████████████████████████████████████████████████████████████████████████████████▏                                                                                      | 146/244 [00:18<00:12,  7.95it/s]"
     ]
    },
    {
     "name": "stderr",
     "output_type": "stream",
     "text": [
      "\r",
      " 60%|██████████████████████████████████████████████████████████████████████████████████████████████████████████████████████████████████▏                                                                                     | 147/244 [00:18<00:12,  7.99it/s]"
     ]
    },
    {
     "name": "stderr",
     "output_type": "stream",
     "text": [
      "\r",
      " 61%|███████████████████████████████████████████████████████████████████████████████████████████████████████████████████████████████████                                                                                     | 148/244 [00:18<00:11,  8.02it/s]"
     ]
    },
    {
     "name": "stderr",
     "output_type": "stream",
     "text": [
      "\r",
      " 61%|███████████████████████████████████████████████████████████████████████████████████████████████████████████████████████████████████▉                                                                                    | 149/244 [00:18<00:11,  8.06it/s]"
     ]
    },
    {
     "name": "stderr",
     "output_type": "stream",
     "text": [
      "\r",
      " 61%|████████████████████████████████████████████████████████████████████████████████████████████████████████████████████████████████████▊                                                                                   | 150/244 [00:18<00:11,  8.04it/s]"
     ]
    },
    {
     "name": "stderr",
     "output_type": "stream",
     "text": [
      "\r",
      " 62%|█████████████████████████████████████████████████████████████████████████████████████████████████████████████████████████████████████▋                                                                                  | 151/244 [00:18<00:11,  8.01it/s]"
     ]
    },
    {
     "name": "stderr",
     "output_type": "stream",
     "text": [
      "\r",
      " 62%|██████████████████████████████████████████████████████████████████████████████████████████████████████████████████████████████████████▌                                                                                 | 152/244 [00:19<00:11,  7.99it/s]"
     ]
    },
    {
     "name": "stderr",
     "output_type": "stream",
     "text": [
      "\r",
      " 63%|███████████████████████████████████████████████████████████████████████████████████████████████████████████████████████████████████████▍                                                                                | 153/244 [00:19<00:11,  7.93it/s]"
     ]
    },
    {
     "name": "stderr",
     "output_type": "stream",
     "text": [
      "\r",
      " 63%|████████████████████████████████████████████████████████████████████████████████████████████████████████████████████████████████████████▎                                                                               | 154/244 [00:19<00:11,  7.97it/s]"
     ]
    },
    {
     "name": "stderr",
     "output_type": "stream",
     "text": [
      "\r",
      " 64%|█████████████████████████████████████████████████████████████████████████████████████████████████████████████████████████████████████████▏                                                                              | 155/244 [00:19<00:11,  8.02it/s]"
     ]
    },
    {
     "name": "stderr",
     "output_type": "stream",
     "text": [
      "\r",
      " 64%|██████████████████████████████████████████████████████████████████████████████████████████████████████████████████████████████████████████                                                                              | 156/244 [00:19<00:11,  7.99it/s]"
     ]
    },
    {
     "name": "stderr",
     "output_type": "stream",
     "text": [
      "\r",
      " 64%|██████████████████████████████████████████████████████████████████████████████████████████████████████████████████████████████████████████▉                                                                             | 157/244 [00:19<00:10,  8.02it/s]"
     ]
    },
    {
     "name": "stderr",
     "output_type": "stream",
     "text": [
      "\r",
      " 65%|███████████████████████████████████████████████████████████████████████████████████████████████████████████████████████████████████████████▊                                                                            | 158/244 [00:19<00:10,  8.03it/s]"
     ]
    },
    {
     "name": "stderr",
     "output_type": "stream",
     "text": [
      "\r",
      " 65%|████████████████████████████████████████████████████████████████████████████████████████████████████████████████████████████████████████████▊                                                                           | 159/244 [00:19<00:10,  8.05it/s]"
     ]
    },
    {
     "name": "stderr",
     "output_type": "stream",
     "text": [
      "\r",
      " 66%|█████████████████████████████████████████████████████████████████████████████████████████████████████████████████████████████████████████████▋                                                                          | 160/244 [00:20<00:10,  8.06it/s]"
     ]
    },
    {
     "name": "stderr",
     "output_type": "stream",
     "text": [
      "\r",
      " 66%|██████████████████████████████████████████████████████████████████████████████████████████████████████████████████████████████████████████████▌                                                                         | 161/244 [00:20<00:10,  8.06it/s]"
     ]
    },
    {
     "name": "stderr",
     "output_type": "stream",
     "text": [
      "\r",
      " 66%|███████████████████████████████████████████████████████████████████████████████████████████████████████████████████████████████████████████████▍                                                                        | 162/244 [00:20<00:10,  8.04it/s]"
     ]
    },
    {
     "name": "stderr",
     "output_type": "stream",
     "text": [
      "\r",
      " 67%|████████████████████████████████████████████████████████████████████████████████████████████████████████████████████████████████████████████████▎                                                                       | 163/244 [00:20<00:10,  8.04it/s]"
     ]
    },
    {
     "name": "stderr",
     "output_type": "stream",
     "text": [
      "\r",
      " 67%|█████████████████████████████████████████████████████████████████████████████████████████████████████████████████████████████████████████████████▏                                                                      | 164/244 [00:20<00:09,  8.03it/s]"
     ]
    },
    {
     "name": "stderr",
     "output_type": "stream",
     "text": [
      "\r",
      " 68%|██████████████████████████████████████████████████████████████████████████████████████████████████████████████████████████████████████████████████                                                                      | 165/244 [00:20<00:09,  7.98it/s]"
     ]
    },
    {
     "name": "stderr",
     "output_type": "stream",
     "text": [
      "\r",
      " 68%|██████████████████████████████████████████████████████████████████████████████████████████████████████████████████████████████████████████████████▉                                                                     | 166/244 [00:20<00:09,  7.94it/s]"
     ]
    },
    {
     "name": "stderr",
     "output_type": "stream",
     "text": [
      "\r",
      " 68%|███████████████████████████████████████████████████████████████████████████████████████████████████████████████████████████████████████████████████▊                                                                    | 167/244 [00:20<00:09,  7.94it/s]"
     ]
    },
    {
     "name": "stderr",
     "output_type": "stream",
     "text": [
      "\r",
      " 69%|████████████████████████████████████████████████████████████████████████████████████████████████████████████████████████████████████████████████████▋                                                                   | 168/244 [00:21<00:09,  8.01it/s]"
     ]
    },
    {
     "name": "stderr",
     "output_type": "stream",
     "text": [
      "\r",
      " 69%|█████████████████████████████████████████████████████████████████████████████████████████████████████████████████████████████████████████████████████▌                                                                  | 169/244 [00:21<00:09,  7.99it/s]"
     ]
    },
    {
     "name": "stderr",
     "output_type": "stream",
     "text": [
      "\r",
      " 70%|██████████████████████████████████████████████████████████████████████████████████████████████████████████████████████████████████████████████████████▍                                                                 | 170/244 [00:21<00:09,  8.10it/s]"
     ]
    },
    {
     "name": "stderr",
     "output_type": "stream",
     "text": [
      "\r",
      " 70%|███████████████████████████████████████████████████████████████████████████████████████████████████████████████████████████████████████████████████████▍                                                                | 171/244 [00:21<00:08,  8.19it/s]"
     ]
    },
    {
     "name": "stderr",
     "output_type": "stream",
     "text": [
      "\r",
      " 70%|████████████████████████████████████████████████████████████████████████████████████████████████████████████████████████████████████████████████████████▎                                                               | 172/244 [00:21<00:08,  8.21it/s]"
     ]
    },
    {
     "name": "stderr",
     "output_type": "stream",
     "text": [
      "\r",
      " 71%|█████████████████████████████████████████████████████████████████████████████████████████████████████████████████████████████████████████████████████████▏                                                              | 173/244 [00:21<00:08,  8.16it/s]"
     ]
    },
    {
     "name": "stderr",
     "output_type": "stream",
     "text": [
      "\r",
      " 71%|██████████████████████████████████████████████████████████████████████████████████████████████████████████████████████████████████████████████████████████                                                              | 174/244 [00:21<00:08,  8.17it/s]"
     ]
    },
    {
     "name": "stderr",
     "output_type": "stream",
     "text": [
      "\r",
      " 72%|██████████████████████████████████████████████████████████████████████████████████████████████████████████████████████████████████████████████████████████▉                                                             | 175/244 [00:21<00:08,  8.12it/s]"
     ]
    },
    {
     "name": "stderr",
     "output_type": "stream",
     "text": [
      "\r",
      " 72%|███████████████████████████████████████████████████████████████████████████████████████████████████████████████████████████████████████████████████████████▊                                                            | 176/244 [00:22<00:08,  8.21it/s]"
     ]
    },
    {
     "name": "stderr",
     "output_type": "stream",
     "text": [
      "\r",
      " 73%|████████████████████████████████████████████████████████████████████████████████████████████████████████████████████████████████████████████████████████████▋                                                           | 177/244 [00:22<00:08,  8.28it/s]"
     ]
    },
    {
     "name": "stderr",
     "output_type": "stream",
     "text": [
      "\r",
      " 73%|█████████████████████████████████████████████████████████████████████████████████████████████████████████████████████████████████████████████████████████████▌                                                          | 178/244 [00:22<00:08,  8.23it/s]"
     ]
    },
    {
     "name": "stderr",
     "output_type": "stream",
     "text": [
      "\r",
      " 73%|██████████████████████████████████████████████████████████████████████████████████████████████████████████████████████████████████████████████████████████████▍                                                         | 179/244 [00:22<00:07,  8.27it/s]"
     ]
    },
    {
     "name": "stderr",
     "output_type": "stream",
     "text": [
      "\r",
      " 74%|███████████████████████████████████████████████████████████████████████████████████████████████████████████████████████████████████████████████████████████████▎                                                        | 180/244 [00:22<00:07,  8.31it/s]"
     ]
    },
    {
     "name": "stderr",
     "output_type": "stream",
     "text": [
      "\r",
      " 74%|████████████████████████████████████████████████████████████████████████████████████████████████████████████████████████████████████████████████████████████████▏                                                       | 181/244 [00:22<00:07,  8.40it/s]"
     ]
    },
    {
     "name": "stderr",
     "output_type": "stream",
     "text": [
      "\r",
      " 75%|█████████████████████████████████████████████████████████████████████████████████████████████████████████████████████████████████████████████████████████████████                                                       | 182/244 [00:22<00:07,  8.36it/s]"
     ]
    },
    {
     "name": "stderr",
     "output_type": "stream",
     "text": [
      "\r",
      " 75%|██████████████████████████████████████████████████████████████████████████████████████████████████████████████████████████████████████████████████████████████████                                                      | 183/244 [00:22<00:07,  8.24it/s]"
     ]
    },
    {
     "name": "stderr",
     "output_type": "stream",
     "text": [
      "\r",
      " 75%|██████████████████████████████████████████████████████████████████████████████████████████████████████████████████████████████████████████████████████████████████▉                                                     | 184/244 [00:23<00:07,  8.25it/s]"
     ]
    },
    {
     "name": "stderr",
     "output_type": "stream",
     "text": [
      "\r",
      " 76%|███████████████████████████████████████████████████████████████████████████████████████████████████████████████████████████████████████████████████████████████████▊                                                    | 185/244 [00:23<00:07,  8.21it/s]"
     ]
    },
    {
     "name": "stderr",
     "output_type": "stream",
     "text": [
      "\r",
      " 76%|████████████████████████████████████████████████████████████████████████████████████████████████████████████████████████████████████████████████████████████████████▋                                                   | 186/244 [00:23<00:07,  8.16it/s]"
     ]
    },
    {
     "name": "stderr",
     "output_type": "stream",
     "text": [
      "\r",
      " 77%|█████████████████████████████████████████████████████████████████████████████████████████████████████████████████████████████████████████████████████████████████████▌                                                  | 187/244 [00:23<00:06,  8.22it/s]"
     ]
    },
    {
     "name": "stderr",
     "output_type": "stream",
     "text": [
      "\r",
      " 77%|██████████████████████████████████████████████████████████████████████████████████████████████████████████████████████████████████████████████████████████████████████▍                                                 | 188/244 [00:23<00:06,  8.32it/s]"
     ]
    },
    {
     "name": "stderr",
     "output_type": "stream",
     "text": [
      "\r",
      " 77%|███████████████████████████████████████████████████████████████████████████████████████████████████████████████████████████████████████████████████████████████████████▎                                                | 189/244 [00:23<00:06,  8.21it/s]"
     ]
    },
    {
     "name": "stderr",
     "output_type": "stream",
     "text": [
      "\r",
      " 78%|████████████████████████████████████████████████████████████████████████████████████████████████████████████████████████████████████████████████████████████████████████▏                                               | 190/244 [00:23<00:06,  8.16it/s]"
     ]
    },
    {
     "name": "stderr",
     "output_type": "stream",
     "text": [
      "\r",
      " 78%|█████████████████████████████████████████████████████████████████████████████████████████████████████████████████████████████████████████████████████████████████████████                                               | 191/244 [00:23<00:06,  8.13it/s]"
     ]
    },
    {
     "name": "stderr",
     "output_type": "stream",
     "text": [
      "\r",
      " 79%|█████████████████████████████████████████████████████████████████████████████████████████████████████████████████████████████████████████████████████████████████████████▉                                              | 192/244 [00:24<00:06,  8.20it/s]"
     ]
    },
    {
     "name": "stderr",
     "output_type": "stream",
     "text": [
      "\r",
      " 79%|██████████████████████████████████████████████████████████████████████████████████████████████████████████████████████████████████████████████████████████████████████████▊                                             | 193/244 [00:24<00:06,  8.09it/s]"
     ]
    },
    {
     "name": "stderr",
     "output_type": "stream",
     "text": [
      "\r",
      " 80%|███████████████████████████████████████████████████████████████████████████████████████████████████████████████████████████████████████████████████████████████████████████▋                                            | 194/244 [00:24<00:06,  8.02it/s]"
     ]
    },
    {
     "name": "stderr",
     "output_type": "stream",
     "text": [
      "\r",
      " 80%|████████████████████████████████████████████████████████████████████████████████████████████████████████████████████████████████████████████████████████████████████████████▌                                           | 195/244 [00:24<00:06,  7.99it/s]"
     ]
    },
    {
     "name": "stderr",
     "output_type": "stream",
     "text": [
      "\r",
      " 80%|█████████████████████████████████████████████████████████████████████████████████████████████████████████████████████████████████████████████████████████████████████████████▌                                          | 196/244 [00:24<00:06,  7.93it/s]"
     ]
    },
    {
     "name": "stderr",
     "output_type": "stream",
     "text": [
      "\r",
      " 81%|██████████████████████████████████████████████████████████████████████████████████████████████████████████████████████████████████████████████████████████████████████████████▍                                         | 197/244 [00:24<00:05,  7.93it/s]"
     ]
    },
    {
     "name": "stderr",
     "output_type": "stream",
     "text": [
      "\r",
      " 81%|███████████████████████████████████████████████████████████████████████████████████████████████████████████████████████████████████████████████████████████████████████████████▎                                        | 198/244 [00:24<00:05,  7.94it/s]"
     ]
    },
    {
     "name": "stderr",
     "output_type": "stream",
     "text": [
      "\r",
      " 82%|████████████████████████████████████████████████████████████████████████████████████████████████████████████████████████████████████████████████████████████████████████████████▏                                       | 199/244 [00:24<00:05,  7.93it/s]"
     ]
    },
    {
     "name": "stderr",
     "output_type": "stream",
     "text": [
      "\r",
      " 82%|█████████████████████████████████████████████████████████████████████████████████████████████████████████████████████████████████████████████████████████████████████████████████                                       | 200/244 [00:25<00:05,  7.93it/s]"
     ]
    },
    {
     "name": "stderr",
     "output_type": "stream",
     "text": [
      "\r",
      " 82%|█████████████████████████████████████████████████████████████████████████████████████████████████████████████████████████████████████████████████████████████████████████████████▉                                      | 201/244 [00:25<00:05,  7.92it/s]"
     ]
    },
    {
     "name": "stderr",
     "output_type": "stream",
     "text": [
      "\r",
      " 83%|██████████████████████████████████████████████████████████████████████████████████████████████████████████████████████████████████████████████████████████████████████████████████▊                                     | 202/244 [00:25<00:05,  7.91it/s]"
     ]
    },
    {
     "name": "stderr",
     "output_type": "stream",
     "text": [
      "\r",
      " 83%|███████████████████████████████████████████████████████████████████████████████████████████████████████████████████████████████████████████████████████████████████████████████████▋                                    | 203/244 [00:25<00:05,  7.88it/s]"
     ]
    },
    {
     "name": "stderr",
     "output_type": "stream",
     "text": [
      "\r",
      " 84%|████████████████████████████████████████████████████████████████████████████████████████████████████████████████████████████████████████████████████████████████████████████████████▌                                   | 204/244 [00:25<00:05,  7.86it/s]"
     ]
    },
    {
     "name": "stderr",
     "output_type": "stream",
     "text": [
      "\r",
      " 84%|█████████████████████████████████████████████████████████████████████████████████████████████████████████████████████████████████████████████████████████████████████████████████████▍                                  | 205/244 [00:25<00:04,  7.85it/s]"
     ]
    },
    {
     "name": "stderr",
     "output_type": "stream",
     "text": [
      "\r",
      " 84%|██████████████████████████████████████████████████████████████████████████████████████████████████████████████████████████████████████████████████████████████████████████████████████▎                                 | 206/244 [00:25<00:04,  7.86it/s]"
     ]
    },
    {
     "name": "stderr",
     "output_type": "stream",
     "text": [
      "\r",
      " 85%|███████████████████████████████████████████████████████████████████████████████████████████████████████████████████████████████████████████████████████████████████████████████████████▏                                | 207/244 [00:25<00:04,  7.86it/s]"
     ]
    },
    {
     "name": "stderr",
     "output_type": "stream",
     "text": [
      "\r",
      " 85%|████████████████████████████████████████████████████████████████████████████████████████████████████████████████████████████████████████████████████████████████████████████████████████▏                               | 208/244 [00:26<00:04,  7.83it/s]"
     ]
    },
    {
     "name": "stderr",
     "output_type": "stream",
     "text": [
      "\r",
      " 86%|█████████████████████████████████████████████████████████████████████████████████████████████████████████████████████████████████████████████████████████████████████████████████████████                               | 209/244 [00:26<00:04,  7.85it/s]"
     ]
    },
    {
     "name": "stderr",
     "output_type": "stream",
     "text": [
      "\r",
      " 86%|█████████████████████████████████████████████████████████████████████████████████████████████████████████████████████████████████████████████████████████████████████████████████████████▉                              | 210/244 [00:26<00:04,  7.86it/s]"
     ]
    },
    {
     "name": "stderr",
     "output_type": "stream",
     "text": [
      "\r",
      " 86%|██████████████████████████████████████████████████████████████████████████████████████████████████████████████████████████████████████████████████████████████████████████████████████████▊                             | 211/244 [00:26<00:04,  7.89it/s]"
     ]
    },
    {
     "name": "stderr",
     "output_type": "stream",
     "text": [
      "\r",
      " 87%|███████████████████████████████████████████████████████████████████████████████████████████████████████████████████████████████████████████████████████████████████████████████████████████▋                            | 212/244 [00:26<00:04,  7.91it/s]"
     ]
    },
    {
     "name": "stderr",
     "output_type": "stream",
     "text": [
      "\r",
      " 87%|████████████████████████████████████████████████████████████████████████████████████████████████████████████████████████████████████████████████████████████████████████████████████████████▌                           | 213/244 [00:26<00:03,  7.88it/s]"
     ]
    },
    {
     "name": "stderr",
     "output_type": "stream",
     "text": [
      "\r",
      " 88%|█████████████████████████████████████████████████████████████████████████████████████████████████████████████████████████████████████████████████████████████████████████████████████████████▍                          | 214/244 [00:26<00:03,  7.89it/s]"
     ]
    },
    {
     "name": "stderr",
     "output_type": "stream",
     "text": [
      "\r",
      " 88%|██████████████████████████████████████████████████████████████████████████████████████████████████████████████████████████████████████████████████████████████████████████████████████████████▎                         | 215/244 [00:26<00:03,  7.88it/s]"
     ]
    },
    {
     "name": "stderr",
     "output_type": "stream",
     "text": [
      "\r",
      " 89%|███████████████████████████████████████████████████████████████████████████████████████████████████████████████████████████████████████████████████████████████████████████████████████████████▏                        | 216/244 [00:27<00:03,  7.87it/s]"
     ]
    },
    {
     "name": "stderr",
     "output_type": "stream",
     "text": [
      "\r",
      " 89%|████████████████████████████████████████████████████████████████████████████████████████████████████████████████████████████████████████████████████████████████████████████████████████████████                        | 217/244 [00:27<00:03,  7.99it/s]"
     ]
    },
    {
     "name": "stderr",
     "output_type": "stream",
     "text": [
      "\r",
      " 89%|████████████████████████████████████████████████████████████████████████████████████████████████████████████████████████████████████████████████████████████████████████████████████████████████▉                       | 218/244 [00:27<00:03,  7.99it/s]"
     ]
    },
    {
     "name": "stderr",
     "output_type": "stream",
     "text": [
      "\r",
      " 90%|█████████████████████████████████████████████████████████████████████████████████████████████████████████████████████████████████████████████████████████████████████████████████████████████████▊                      | 219/244 [00:27<00:03,  8.05it/s]"
     ]
    },
    {
     "name": "stderr",
     "output_type": "stream",
     "text": [
      "\r",
      " 90%|██████████████████████████████████████████████████████████████████████████████████████████████████████████████████████████████████████████████████████████████████████████████████████████████████▊                     | 220/244 [00:27<00:02,  8.13it/s]"
     ]
    },
    {
     "name": "stderr",
     "output_type": "stream",
     "text": [
      "\r",
      " 91%|███████████████████████████████████████████████████████████████████████████████████████████████████████████████████████████████████████████████████████████████████████████████████████████████████▋                    | 221/244 [00:27<00:02,  8.09it/s]"
     ]
    },
    {
     "name": "stderr",
     "output_type": "stream",
     "text": [
      "\r",
      " 91%|████████████████████████████████████████████████████████████████████████████████████████████████████████████████████████████████████████████████████████████████████████████████████████████████████▌                   | 222/244 [00:27<00:02,  8.07it/s]"
     ]
    },
    {
     "name": "stderr",
     "output_type": "stream",
     "text": [
      "\r",
      " 91%|█████████████████████████████████████████████████████████████████████████████████████████████████████████████████████████████████████████████████████████████████████████████████████████████████████▍                  | 223/244 [00:27<00:02,  8.07it/s]"
     ]
    },
    {
     "name": "stderr",
     "output_type": "stream",
     "text": [
      "\r",
      " 92%|██████████████████████████████████████████████████████████████████████████████████████████████████████████████████████████████████████████████████████████████████████████████████████████████████████▎                 | 224/244 [00:28<00:02,  8.10it/s]"
     ]
    },
    {
     "name": "stderr",
     "output_type": "stream",
     "text": [
      "\r",
      " 92%|███████████████████████████████████████████████████████████████████████████████████████████████████████████████████████████████████████████████████████████████████████████████████████████████████████▏                | 225/244 [00:28<00:02,  8.06it/s]"
     ]
    },
    {
     "name": "stderr",
     "output_type": "stream",
     "text": [
      "\r",
      " 93%|████████████████████████████████████████████████████████████████████████████████████████████████████████████████████████████████████████████████████████████████████████████████████████████████████████                | 226/244 [00:28<00:02,  8.05it/s]"
     ]
    },
    {
     "name": "stderr",
     "output_type": "stream",
     "text": [
      "\r",
      " 93%|████████████████████████████████████████████████████████████████████████████████████████████████████████████████████████████████████████████████████████████████████████████████████████████████████████▉               | 227/244 [00:28<00:02,  8.01it/s]"
     ]
    },
    {
     "name": "stderr",
     "output_type": "stream",
     "text": [
      "\r",
      " 93%|█████████████████████████████████████████████████████████████████████████████████████████████████████████████████████████████████████████████████████████████████████████████████████████████████████████▊              | 228/244 [00:28<00:02,  7.96it/s]"
     ]
    },
    {
     "name": "stderr",
     "output_type": "stream",
     "text": [
      "\r",
      " 94%|██████████████████████████████████████████████████████████████████████████████████████████████████████████████████████████████████████████████████████████████████████████████████████████████████████████▋             | 229/244 [00:28<00:01,  7.92it/s]"
     ]
    },
    {
     "name": "stderr",
     "output_type": "stream",
     "text": [
      "\r",
      " 94%|███████████████████████████████████████████████████████████████████████████████████████████████████████████████████████████████████████████████████████████████████████████████████████████████████████████▌            | 230/244 [00:28<00:01,  7.90it/s]"
     ]
    },
    {
     "name": "stderr",
     "output_type": "stream",
     "text": [
      "\r",
      " 95%|████████████████████████████████████████████████████████████████████████████████████████████████████████████████████████████████████████████████████████████████████████████████████████████████████████████▍           | 231/244 [00:28<00:01,  7.89it/s]"
     ]
    },
    {
     "name": "stderr",
     "output_type": "stream",
     "text": [
      "\r",
      " 95%|█████████████████████████████████████████████████████████████████████████████████████████████████████████████████████████████████████████████████████████████████████████████████████████████████████████████▍          | 232/244 [00:29<00:01,  7.88it/s]"
     ]
    },
    {
     "name": "stderr",
     "output_type": "stream",
     "text": [
      "\r",
      " 95%|██████████████████████████████████████████████████████████████████████████████████████████████████████████████████████████████████████████████████████████████████████████████████████████████████████████████▎         | 233/244 [00:29<00:01,  7.89it/s]"
     ]
    },
    {
     "name": "stderr",
     "output_type": "stream",
     "text": [
      "\r",
      " 96%|███████████████████████████████████████████████████████████████████████████████████████████████████████████████████████████████████████████████████████████████████████████████████████████████████████████████▏        | 234/244 [00:29<00:01,  7.92it/s]"
     ]
    },
    {
     "name": "stderr",
     "output_type": "stream",
     "text": [
      "\r",
      " 96%|████████████████████████████████████████████████████████████████████████████████████████████████████████████████████████████████████████████████████████████████████████████████████████████████████████████████        | 235/244 [00:29<00:01,  7.93it/s]"
     ]
    },
    {
     "name": "stderr",
     "output_type": "stream",
     "text": [
      "\r",
      " 97%|████████████████████████████████████████████████████████████████████████████████████████████████████████████████████████████████████████████████████████████████████████████████████████████████████████████████▉       | 236/244 [00:29<00:01,  7.94it/s]"
     ]
    },
    {
     "name": "stderr",
     "output_type": "stream",
     "text": [
      "\r",
      " 97%|█████████████████████████████████████████████████████████████████████████████████████████████████████████████████████████████████████████████████████████████████████████████████████████████████████████████████▊      | 237/244 [00:29<00:00,  7.94it/s]"
     ]
    },
    {
     "name": "stderr",
     "output_type": "stream",
     "text": [
      "\r",
      " 98%|██████████████████████████████████████████████████████████████████████████████████████████████████████████████████████████████████████████████████████████████████████████████████████████████████████████████████▋     | 238/244 [00:29<00:00,  7.93it/s]"
     ]
    },
    {
     "name": "stderr",
     "output_type": "stream",
     "text": [
      "\r",
      " 98%|███████████████████████████████████████████████████████████████████████████████████████████████████████████████████████████████████████████████████████████████████████████████████████████████████████████████████▌    | 239/244 [00:29<00:00,  7.94it/s]"
     ]
    },
    {
     "name": "stderr",
     "output_type": "stream",
     "text": [
      "\r",
      " 98%|████████████████████████████████████████████████████████████████████████████████████████████████████████████████████████████████████████████████████████████████████████████████████████████████████████████████████▍   | 240/244 [00:30<00:00,  7.94it/s]"
     ]
    },
    {
     "name": "stderr",
     "output_type": "stream",
     "text": [
      "\r",
      " 99%|█████████████████████████████████████████████████████████████████████████████████████████████████████████████████████████████████████████████████████████████████████████████████████████████████████████████████████▎  | 241/244 [00:30<00:00,  7.93it/s]"
     ]
    },
    {
     "name": "stderr",
     "output_type": "stream",
     "text": [
      "\r",
      " 99%|██████████████████████████████████████████████████████████████████████████████████████████████████████████████████████████████████████████████████████████████████████████████████████████████████████████████████████▏ | 242/244 [00:30<00:00,  7.92it/s]"
     ]
    },
    {
     "name": "stderr",
     "output_type": "stream",
     "text": [
      "\r",
      "100%|███████████████████████████████████████████████████████████████████████████████████████████████████████████████████████████████████████████████████████████████████████████████████████████████████████████████████████ | 243/244 [00:30<00:00,  7.93it/s]"
     ]
    },
    {
     "name": "stderr",
     "output_type": "stream",
     "text": [
      "\r",
      "100%|████████████████████████████████████████████████████████████████████████████████████████████████████████████████████████████████████████████████████████████████████████████████████████████████████████████████████████| 244/244 [00:30<00:00,  7.91it/s]"
     ]
    },
    {
     "name": "stderr",
     "output_type": "stream",
     "text": [
      "\r",
      "100%|████████████████████████████████████████████████████████████████████████████████████████████████████████████████████████████████████████████████████████████████████████████████████████████████████████████████████████| 244/244 [00:30<00:00,  7.98it/s]"
     ]
    },
    {
     "name": "stdout",
     "output_type": "stream",
     "text": [
      "(732, 9)\n"
     ]
    },
    {
     "name": "stderr",
     "output_type": "stream",
     "text": [
      "\n"
     ]
    },
    {
     "data": {
      "text/html": [
       "<div>\n",
       "<style scoped>\n",
       "    .dataframe tbody tr th:only-of-type {\n",
       "        vertical-align: middle;\n",
       "    }\n",
       "\n",
       "    .dataframe tbody tr th {\n",
       "        vertical-align: top;\n",
       "    }\n",
       "\n",
       "    .dataframe thead th {\n",
       "        text-align: right;\n",
       "    }\n",
       "</style>\n",
       "<table border=\"1\" class=\"dataframe\">\n",
       "  <thead>\n",
       "    <tr style=\"text-align: right;\">\n",
       "      <th></th>\n",
       "      <th>group1</th>\n",
       "      <th>group2</th>\n",
       "      <th>meandiff</th>\n",
       "      <th>p-adj</th>\n",
       "      <th>lower</th>\n",
       "      <th>upper</th>\n",
       "      <th>reject</th>\n",
       "      <th>feature</th>\n",
       "      <th>anova_p_value</th>\n",
       "    </tr>\n",
       "  </thead>\n",
       "  <tbody>\n",
       "    <tr>\n",
       "      <th>0</th>\n",
       "      <td>high</td>\n",
       "      <td>unsel</td>\n",
       "      <td>-3.4266</td>\n",
       "      <td>0.0</td>\n",
       "      <td>-4.6531</td>\n",
       "      <td>-2.2001</td>\n",
       "      <td>True</td>\n",
       "      <td>AreaShape_Area</td>\n",
       "      <td>4.479053e-12</td>\n",
       "    </tr>\n",
       "    <tr>\n",
       "      <th>1</th>\n",
       "      <td>high</td>\n",
       "      <td>wt</td>\n",
       "      <td>-5.1908</td>\n",
       "      <td>0.0</td>\n",
       "      <td>-6.4173</td>\n",
       "      <td>-3.9643</td>\n",
       "      <td>True</td>\n",
       "      <td>AreaShape_Area</td>\n",
       "      <td>4.479053e-12</td>\n",
       "    </tr>\n",
       "    <tr>\n",
       "      <th>2</th>\n",
       "      <td>unsel</td>\n",
       "      <td>wt</td>\n",
       "      <td>-1.7642</td>\n",
       "      <td>0.0033</td>\n",
       "      <td>-2.9907</td>\n",
       "      <td>-0.5377</td>\n",
       "      <td>True</td>\n",
       "      <td>AreaShape_Area</td>\n",
       "      <td>4.479053e-12</td>\n",
       "    </tr>\n",
       "    <tr>\n",
       "      <th>3</th>\n",
       "      <td>high</td>\n",
       "      <td>unsel</td>\n",
       "      <td>-3.4266</td>\n",
       "      <td>0.0</td>\n",
       "      <td>-4.6531</td>\n",
       "      <td>-2.2001</td>\n",
       "      <td>True</td>\n",
       "      <td>AreaShape_CentralMoment_0_0</td>\n",
       "      <td>4.479053e-12</td>\n",
       "    </tr>\n",
       "    <tr>\n",
       "      <th>4</th>\n",
       "      <td>high</td>\n",
       "      <td>wt</td>\n",
       "      <td>-5.1908</td>\n",
       "      <td>0.0</td>\n",
       "      <td>-6.4173</td>\n",
       "      <td>-3.9643</td>\n",
       "      <td>True</td>\n",
       "      <td>AreaShape_CentralMoment_0_0</td>\n",
       "      <td>4.479053e-12</td>\n",
       "    </tr>\n",
       "  </tbody>\n",
       "</table>\n",
       "</div>"
      ],
      "text/plain": [
       "  group1 group2 meandiff   p-adj   lower   upper reject  \\\n",
       "0   high  unsel  -3.4266     0.0 -4.6531 -2.2001   True   \n",
       "1   high     wt  -5.1908     0.0 -6.4173 -3.9643   True   \n",
       "2  unsel     wt  -1.7642  0.0033 -2.9907 -0.5377   True   \n",
       "3   high  unsel  -3.4266     0.0 -4.6531 -2.2001   True   \n",
       "4   high     wt  -5.1908     0.0 -6.4173 -3.9643   True   \n",
       "\n",
       "                       feature  anova_p_value  \n",
       "0               AreaShape_Area   4.479053e-12  \n",
       "1               AreaShape_Area   4.479053e-12  \n",
       "2               AreaShape_Area   4.479053e-12  \n",
       "3  AreaShape_CentralMoment_0_0   4.479053e-12  \n",
       "4  AreaShape_CentralMoment_0_0   4.479053e-12  "
      ]
     },
     "execution_count": 5,
     "metadata": {},
     "output_type": "execute_result"
    }
   ],
   "source": [
    "anova_input_df = features_df.copy()\n",
    "anova_input_df[\"Metadata_genotype\"] = metadata_df[\"Metadata_genotype\"]\n",
    "anova_output_df = anova_function(anova_input_df, \"Metadata_genotype\")\n",
    "print(anova_output_df.shape)\n",
    "anova_output_df.head()"
   ]
  },
  {
   "cell_type": "code",
   "execution_count": 6,
   "id": "da95d2d2",
   "metadata": {
    "execution": {
     "iopub.execute_input": "2024-05-10T20:10:30.500518Z",
     "iopub.status.busy": "2024-05-10T20:10:30.500357Z",
     "iopub.status.idle": "2024-05-10T20:10:30.504884Z",
     "shell.execute_reply": "2024-05-10T20:10:30.504606Z"
    },
    "papermill": {
     "duration": 0.018686,
     "end_time": "2024-05-10T20:10:30.505770",
     "exception": false,
     "start_time": "2024-05-10T20:10:30.487084",
     "status": "completed"
    },
    "tags": []
   },
   "outputs": [],
   "source": [
    "# save the results\n",
    "output_file = pathlib.Path(\n",
    "    \"../../data/6.analysis_results/sum_aggregated_anova_results.parquet\"\n",
    ")\n",
    "output_file.parent.mkdir(exist_ok=True, parents=True)\n",
    "anova_output_df.to_parquet(output_file)"
   ]
  },
  {
   "cell_type": "markdown",
   "id": "e663d609",
   "metadata": {
    "papermill": {
     "duration": 0.011004,
     "end_time": "2024-05-10T20:10:30.528443",
     "exception": false,
     "start_time": "2024-05-10T20:10:30.517439",
     "status": "completed"
    },
    "tags": []
   },
   "source": [
    "## Levene's test for homogeneity of variance"
   ]
  },
  {
   "cell_type": "code",
   "execution_count": 7,
   "id": "d7260a2c",
   "metadata": {
    "execution": {
     "iopub.execute_input": "2024-05-10T20:10:30.544374Z",
     "iopub.status.busy": "2024-05-10T20:10:30.544076Z",
     "iopub.status.idle": "2024-05-10T20:10:30.613062Z",
     "shell.execute_reply": "2024-05-10T20:10:30.612809Z"
    },
    "papermill": {
     "duration": 0.078055,
     "end_time": "2024-05-10T20:10:30.614030",
     "exception": false,
     "start_time": "2024-05-10T20:10:30.535975",
     "status": "completed"
    },
    "tags": []
   },
   "outputs": [
    {
     "name": "stderr",
     "output_type": "stream",
     "text": [
      "\r",
      "  0%|                                                                                                                                                                                                                                  | 0/244 [00:00<?, ?it/s]"
     ]
    },
    {
     "name": "stderr",
     "output_type": "stream",
     "text": [
      "\r",
      "100%|██████████████████████████████████████████████████████████████████████████████████████████████████████████████████████████████████████████████████████████████████████████████████████████████████████████████████████| 244/244 [00:00<00:00, 4009.65it/s]"
     ]
    },
    {
     "name": "stderr",
     "output_type": "stream",
     "text": [
      "\n"
     ]
    },
    {
     "data": {
      "text/html": [
       "<div>\n",
       "<style scoped>\n",
       "    .dataframe tbody tr th:only-of-type {\n",
       "        vertical-align: middle;\n",
       "    }\n",
       "\n",
       "    .dataframe tbody tr th {\n",
       "        vertical-align: top;\n",
       "    }\n",
       "\n",
       "    .dataframe thead th {\n",
       "        text-align: right;\n",
       "    }\n",
       "</style>\n",
       "<table border=\"1\" class=\"dataframe\">\n",
       "  <thead>\n",
       "    <tr style=\"text-align: right;\">\n",
       "      <th></th>\n",
       "      <th>feature</th>\n",
       "      <th>levene_statistic</th>\n",
       "      <th>levene_p_value</th>\n",
       "    </tr>\n",
       "  </thead>\n",
       "  <tbody>\n",
       "    <tr>\n",
       "      <th>0</th>\n",
       "      <td>AreaShape_Area</td>\n",
       "      <td>2.514193</td>\n",
       "      <td>0.093966</td>\n",
       "    </tr>\n",
       "    <tr>\n",
       "      <th>1</th>\n",
       "      <td>AreaShape_CentralMoment_0_0</td>\n",
       "      <td>2.514193</td>\n",
       "      <td>0.093966</td>\n",
       "    </tr>\n",
       "    <tr>\n",
       "      <th>2</th>\n",
       "      <td>AreaShape_CentralMoment_0_1</td>\n",
       "      <td>1.881105</td>\n",
       "      <td>0.165992</td>\n",
       "    </tr>\n",
       "    <tr>\n",
       "      <th>3</th>\n",
       "      <td>AreaShape_CentralMoment_0_2</td>\n",
       "      <td>5.617614</td>\n",
       "      <td>0.007180</td>\n",
       "    </tr>\n",
       "    <tr>\n",
       "      <th>4</th>\n",
       "      <td>AreaShape_CentralMoment_0_3</td>\n",
       "      <td>1.489590</td>\n",
       "      <td>0.238011</td>\n",
       "    </tr>\n",
       "    <tr>\n",
       "      <th>...</th>\n",
       "      <td>...</td>\n",
       "      <td>...</td>\n",
       "      <td>...</td>\n",
       "    </tr>\n",
       "    <tr>\n",
       "      <th>239</th>\n",
       "      <td>Texture_SumVariance_OP_3_03_256</td>\n",
       "      <td>16.275324</td>\n",
       "      <td>0.000007</td>\n",
       "    </tr>\n",
       "    <tr>\n",
       "      <th>240</th>\n",
       "      <td>Texture_Variance_OP_3_00_256</td>\n",
       "      <td>15.940766</td>\n",
       "      <td>0.000009</td>\n",
       "    </tr>\n",
       "    <tr>\n",
       "      <th>241</th>\n",
       "      <td>Texture_Variance_OP_3_01_256</td>\n",
       "      <td>16.424118</td>\n",
       "      <td>0.000007</td>\n",
       "    </tr>\n",
       "    <tr>\n",
       "      <th>242</th>\n",
       "      <td>Texture_Variance_OP_3_02_256</td>\n",
       "      <td>15.899348</td>\n",
       "      <td>0.000009</td>\n",
       "    </tr>\n",
       "    <tr>\n",
       "      <th>243</th>\n",
       "      <td>Texture_Variance_OP_3_03_256</td>\n",
       "      <td>15.897527</td>\n",
       "      <td>0.000009</td>\n",
       "    </tr>\n",
       "  </tbody>\n",
       "</table>\n",
       "<p>244 rows × 3 columns</p>\n",
       "</div>"
      ],
      "text/plain": [
       "                             feature  levene_statistic  levene_p_value\n",
       "0                     AreaShape_Area          2.514193        0.093966\n",
       "1        AreaShape_CentralMoment_0_0          2.514193        0.093966\n",
       "2        AreaShape_CentralMoment_0_1          1.881105        0.165992\n",
       "3        AreaShape_CentralMoment_0_2          5.617614        0.007180\n",
       "4        AreaShape_CentralMoment_0_3          1.489590        0.238011\n",
       "..                               ...               ...             ...\n",
       "239  Texture_SumVariance_OP_3_03_256         16.275324        0.000007\n",
       "240     Texture_Variance_OP_3_00_256         15.940766        0.000009\n",
       "241     Texture_Variance_OP_3_01_256         16.424118        0.000007\n",
       "242     Texture_Variance_OP_3_02_256         15.899348        0.000009\n",
       "243     Texture_Variance_OP_3_03_256         15.897527        0.000009\n",
       "\n",
       "[244 rows x 3 columns]"
      ]
     },
     "execution_count": 7,
     "metadata": {},
     "output_type": "execute_result"
    }
   ],
   "source": [
    "# split the df into three genotypes\n",
    "high_df = df[df[\"Metadata_genotype\"] == \"high\"]\n",
    "unsel_df = df[df[\"Metadata_genotype\"] == \"unsel\"]\n",
    "wt_df = df[df[\"Metadata_genotype\"] == \"wt\"]\n",
    "levene_test_results = {\"feature\": [], \"levene_statistic\": [], \"levene_p_value\": []}\n",
    "for feature in tqdm.tqdm(features_df.columns):\n",
    "    # calculate the levene test for each feature\n",
    "    levene_results = levene(wt_df[feature], unsel_df[feature], high_df[feature])\n",
    "    levene_test_results[\"feature\"].append(feature)\n",
    "    levene_test_results[\"levene_statistic\"].append(levene_results.statistic)\n",
    "    levene_test_results[\"levene_p_value\"].append(levene_results.pvalue)\n",
    "\n",
    "levene_test_results_df = pd.DataFrame(levene_test_results)\n",
    "levene_test_results_df"
   ]
  },
  {
   "cell_type": "markdown",
   "id": "ec2ffb95",
   "metadata": {
    "papermill": {
     "duration": 0.007864,
     "end_time": "2024-05-10T20:10:30.629882",
     "exception": false,
     "start_time": "2024-05-10T20:10:30.622018",
     "status": "completed"
    },
    "tags": []
   },
   "source": [
    "## Calculate the levenes test statistic for the equality of variances"
   ]
  },
  {
   "cell_type": "code",
   "execution_count": 8,
   "id": "70b73ab6",
   "metadata": {
    "execution": {
     "iopub.execute_input": "2024-05-10T20:10:30.646389Z",
     "iopub.status.busy": "2024-05-10T20:10:30.645998Z",
     "iopub.status.idle": "2024-05-10T20:10:30.837413Z",
     "shell.execute_reply": "2024-05-10T20:10:30.837133Z"
    },
    "papermill": {
     "duration": 0.200981,
     "end_time": "2024-05-10T20:10:30.838647",
     "exception": false,
     "start_time": "2024-05-10T20:10:30.637666",
     "status": "completed"
    },
    "tags": []
   },
   "outputs": [
    {
     "name": "stderr",
     "output_type": "stream",
     "text": [
      "\r",
      "  0%|                                                                                                                                                                                                                                    | 0/4 [00:00<?, ?it/s]"
     ]
    },
    {
     "name": "stderr",
     "output_type": "stream",
     "text": [
      "/home/lippincm/miniconda3/envs/op_cell_processing_env/lib/python3.8/site-packages/scipy/stats/_morestats.py:2710: RuntimeWarning: invalid value encountered in scalar divide\n",
      "  W = numer / denom\n"
     ]
    },
    {
     "name": "stderr",
     "output_type": "stream",
     "text": [
      "\r",
      " 75%|█████████████████████████████████████████████████████████████████████████████████████████████████████████████████████████████████████████████████████████████████████                                                       | 3/4 [00:00<00:00, 22.79it/s]"
     ]
    },
    {
     "name": "stderr",
     "output_type": "stream",
     "text": [
      "\r",
      "100%|████████████████████████████████████████████████████████████████████████████████████████████████████████████████████████████████████████████████████████████████████████████████████████████████████████████████████████████| 4/4 [00:00<00:00, 22.28it/s]"
     ]
    },
    {
     "name": "stderr",
     "output_type": "stream",
     "text": [
      "\n"
     ]
    },
    {
     "data": {
      "text/html": [
       "<div>\n",
       "<style scoped>\n",
       "    .dataframe tbody tr th:only-of-type {\n",
       "        vertical-align: middle;\n",
       "    }\n",
       "\n",
       "    .dataframe tbody tr th {\n",
       "        vertical-align: top;\n",
       "    }\n",
       "\n",
       "    .dataframe thead th {\n",
       "        text-align: right;\n",
       "    }\n",
       "</style>\n",
       "<table border=\"1\" class=\"dataframe\">\n",
       "  <thead>\n",
       "    <tr style=\"text-align: right;\">\n",
       "      <th></th>\n",
       "      <th>feature</th>\n",
       "      <th>levene_statistic</th>\n",
       "      <th>levene_p_value</th>\n",
       "      <th>group</th>\n",
       "    </tr>\n",
       "  </thead>\n",
       "  <tbody>\n",
       "    <tr>\n",
       "      <th>90</th>\n",
       "      <td>AreaShape_Zernike_8_4</td>\n",
       "      <td>0.000018</td>\n",
       "      <td>9.966091e-01</td>\n",
       "      <td>high_vs_unsel</td>\n",
       "    </tr>\n",
       "    <tr>\n",
       "      <th>540</th>\n",
       "      <td>AreaShape_NormalizedMoment_3_3</td>\n",
       "      <td>0.000046</td>\n",
       "      <td>9.946505e-01</td>\n",
       "      <td>unsel_vs_wt</td>\n",
       "    </tr>\n",
       "    <tr>\n",
       "      <th>920</th>\n",
       "      <td>RadialDistribution_ZernikePhase_OP_9_3</td>\n",
       "      <td>0.011160</td>\n",
       "      <td>9.889052e-01</td>\n",
       "      <td>all</td>\n",
       "    </tr>\n",
       "    <tr>\n",
       "      <th>248</th>\n",
       "      <td>AreaShape_CentralMoment_0_3</td>\n",
       "      <td>0.000264</td>\n",
       "      <td>9.871715e-01</td>\n",
       "      <td>high_vs_wt</td>\n",
       "    </tr>\n",
       "    <tr>\n",
       "      <th>188</th>\n",
       "      <td>RadialDistribution_ZernikePhase_OP_9_3</td>\n",
       "      <td>0.000338</td>\n",
       "      <td>9.854698e-01</td>\n",
       "      <td>high_vs_unsel</td>\n",
       "    </tr>\n",
       "    <tr>\n",
       "      <th>...</th>\n",
       "      <td>...</td>\n",
       "      <td>...</td>\n",
       "      <td>...</td>\n",
       "      <td>...</td>\n",
       "    </tr>\n",
       "    <tr>\n",
       "      <th>886</th>\n",
       "      <td>RadialDistribution_ZernikeMagnitude_OP_8_0</td>\n",
       "      <td>32.022343</td>\n",
       "      <td>5.912358e-09</td>\n",
       "      <td>all</td>\n",
       "    </tr>\n",
       "    <tr>\n",
       "      <th>268</th>\n",
       "      <td>AreaShape_HuMoment_4</td>\n",
       "      <td>75.849212</td>\n",
       "      <td>3.469854e-09</td>\n",
       "      <td>high_vs_wt</td>\n",
       "    </tr>\n",
       "    <tr>\n",
       "      <th>887</th>\n",
       "      <td>RadialDistribution_ZernikeMagnitude_OP_8_2</td>\n",
       "      <td>34.456337</td>\n",
       "      <td>2.403516e-09</td>\n",
       "      <td>all</td>\n",
       "    </tr>\n",
       "    <tr>\n",
       "      <th>900</th>\n",
       "      <td>RadialDistribution_ZernikePhase_OP_4_0</td>\n",
       "      <td>66.314773</td>\n",
       "      <td>2.826278e-13</td>\n",
       "      <td>all</td>\n",
       "    </tr>\n",
       "    <tr>\n",
       "      <th>412</th>\n",
       "      <td>RadialDistribution_ZernikePhase_OP_4_0</td>\n",
       "      <td>NaN</td>\n",
       "      <td>NaN</td>\n",
       "      <td>high_vs_wt</td>\n",
       "    </tr>\n",
       "  </tbody>\n",
       "</table>\n",
       "<p>976 rows × 4 columns</p>\n",
       "</div>"
      ],
      "text/plain": [
       "                                        feature  levene_statistic  \\\n",
       "90                        AreaShape_Zernike_8_4          0.000018   \n",
       "540              AreaShape_NormalizedMoment_3_3          0.000046   \n",
       "920      RadialDistribution_ZernikePhase_OP_9_3          0.011160   \n",
       "248                 AreaShape_CentralMoment_0_3          0.000264   \n",
       "188      RadialDistribution_ZernikePhase_OP_9_3          0.000338   \n",
       "..                                          ...               ...   \n",
       "886  RadialDistribution_ZernikeMagnitude_OP_8_0         32.022343   \n",
       "268                        AreaShape_HuMoment_4         75.849212   \n",
       "887  RadialDistribution_ZernikeMagnitude_OP_8_2         34.456337   \n",
       "900      RadialDistribution_ZernikePhase_OP_4_0         66.314773   \n",
       "412      RadialDistribution_ZernikePhase_OP_4_0               NaN   \n",
       "\n",
       "     levene_p_value          group  \n",
       "90     9.966091e-01  high_vs_unsel  \n",
       "540    9.946505e-01    unsel_vs_wt  \n",
       "920    9.889052e-01            all  \n",
       "248    9.871715e-01     high_vs_wt  \n",
       "188    9.854698e-01  high_vs_unsel  \n",
       "..              ...            ...  \n",
       "886    5.912358e-09            all  \n",
       "268    3.469854e-09     high_vs_wt  \n",
       "887    2.403516e-09            all  \n",
       "900    2.826278e-13            all  \n",
       "412             NaN     high_vs_wt  \n",
       "\n",
       "[976 rows x 4 columns]"
      ]
     },
     "execution_count": 8,
     "metadata": {},
     "output_type": "execute_result"
    }
   ],
   "source": [
    "# split the df into three genotypes\n",
    "high_df = df[df[\"Metadata_genotype\"] == \"high\"]\n",
    "unsel_df = df[df[\"Metadata_genotype\"] == \"unsel\"]\n",
    "wt_df = df[df[\"Metadata_genotype\"] == \"wt\"]\n",
    "group_dict = {\n",
    "    \"high_vs_unsel\": [high_df, unsel_df],\n",
    "    \"high_vs_wt\": [high_df, wt_df],\n",
    "    \"unsel_vs_wt\": [wt_df, unsel_df],\n",
    "    \"all\": [high_df, unsel_df, wt_df],\n",
    "}\n",
    "\n",
    "\n",
    "levene_test_results = {\n",
    "    \"feature\": [],\n",
    "    \"levene_statistic\": [],\n",
    "    \"levene_p_value\": [],\n",
    "    \"group\": [],\n",
    "}\n",
    "for group in tqdm.tqdm(group_dict.keys()):\n",
    "    for feature in features_df.columns:\n",
    "        # calculate the levene test for each feature\n",
    "        if not group == \"all\":\n",
    "            levene_results = levene(\n",
    "                group_dict[group][0][feature], group_dict[group][1][feature]\n",
    "            )\n",
    "            levene_test_results[\"feature\"].append(feature)\n",
    "            levene_test_results[\"levene_statistic\"].append(levene_results.statistic)\n",
    "            levene_test_results[\"levene_p_value\"].append(levene_results.pvalue)\n",
    "            levene_test_results[\"group\"].append(group)\n",
    "        else:\n",
    "            levene_results = levene(\n",
    "                group_dict[group][0][feature],\n",
    "                group_dict[group][1][feature],\n",
    "                group_dict[group][2][feature],\n",
    "            )\n",
    "            levene_test_results[\"feature\"].append(feature)\n",
    "            levene_test_results[\"levene_statistic\"].append(levene_results.statistic)\n",
    "            levene_test_results[\"levene_p_value\"].append(levene_results.pvalue)\n",
    "            levene_test_results[\"group\"].append(group)\n",
    "\n",
    "levene_test_results_df = pd.DataFrame(levene_test_results)\n",
    "\n",
    "# sort the levene test results levene_test_results_df\n",
    "# change the levene p-value to a float\n",
    "levene_test_results_df[\"levene_p_value\"] = levene_test_results_df[\n",
    "    \"levene_p_value\"\n",
    "].astype(float)\n",
    "levene_test_results_df = levene_test_results_df.sort_values(\n",
    "    \"levene_p_value\", ascending=False\n",
    ")\n",
    "levene_test_results_df"
   ]
  },
  {
   "cell_type": "code",
   "execution_count": 9,
   "id": "2c21f5db",
   "metadata": {
    "execution": {
     "iopub.execute_input": "2024-05-10T20:10:30.866708Z",
     "iopub.status.busy": "2024-05-10T20:10:30.866560Z",
     "iopub.status.idle": "2024-05-10T20:10:30.872007Z",
     "shell.execute_reply": "2024-05-10T20:10:30.871729Z"
    },
    "papermill": {
     "duration": 0.020834,
     "end_time": "2024-05-10T20:10:30.873241",
     "exception": false,
     "start_time": "2024-05-10T20:10:30.852407",
     "status": "completed"
    },
    "tags": []
   },
   "outputs": [],
   "source": [
    "# save the levene test results\n",
    "# out dir\n",
    "out_dir = pathlib.Path(\"../../data/6.analysis_results/\")\n",
    "# create the dir if it does not exist\n",
    "out_dir.mkdir(parents=True, exist_ok=True)\n",
    "levene_test_results_path = pathlib.Path(\n",
    "    out_dir / \"sum_aggregated_levene_test_results.csv\"\n",
    ")\n",
    "levene_test_results_df.to_csv(levene_test_results_path)"
   ]
  },
  {
   "cell_type": "markdown",
   "id": "719ef5d2",
   "metadata": {
    "papermill": {
     "duration": 0.012053,
     "end_time": "2024-05-10T20:10:30.897031",
     "exception": false,
     "start_time": "2024-05-10T20:10:30.884978",
     "status": "completed"
    },
    "tags": []
   },
   "source": [
    "### Calculate the levene test statistic for the aggregated data across feature types and genotypes"
   ]
  },
  {
   "cell_type": "code",
   "execution_count": 10,
   "id": "11f07daa",
   "metadata": {
    "execution": {
     "iopub.execute_input": "2024-05-10T20:10:30.913875Z",
     "iopub.status.busy": "2024-05-10T20:10:30.913509Z",
     "iopub.status.idle": "2024-05-10T20:10:30.992385Z",
     "shell.execute_reply": "2024-05-10T20:10:30.992102Z"
    },
    "papermill": {
     "duration": 0.088018,
     "end_time": "2024-05-10T20:10:30.993092",
     "exception": false,
     "start_time": "2024-05-10T20:10:30.905074",
     "status": "completed"
    },
    "tags": []
   },
   "outputs": [
    {
     "data": {
      "text/html": [
       "<div>\n",
       "<style scoped>\n",
       "    .dataframe tbody tr th:only-of-type {\n",
       "        vertical-align: middle;\n",
       "    }\n",
       "\n",
       "    .dataframe tbody tr th {\n",
       "        vertical-align: top;\n",
       "    }\n",
       "\n",
       "    .dataframe thead th {\n",
       "        text-align: right;\n",
       "    }\n",
       "</style>\n",
       "<table border=\"1\" class=\"dataframe\">\n",
       "  <thead>\n",
       "    <tr style=\"text-align: right;\">\n",
       "      <th></th>\n",
       "      <th>Metadata_genotype</th>\n",
       "      <th>feature</th>\n",
       "      <th>value</th>\n",
       "      <th>feature_group</th>\n",
       "      <th>measurement</th>\n",
       "      <th>bone</th>\n",
       "      <th>parameter1</th>\n",
       "      <th>parameter2</th>\n",
       "      <th>parameter3</th>\n",
       "    </tr>\n",
       "  </thead>\n",
       "  <tbody>\n",
       "    <tr>\n",
       "      <th>0</th>\n",
       "      <td>High-Severity</td>\n",
       "      <td>AreaShape_Area</td>\n",
       "      <td>1.192966</td>\n",
       "      <td>AreaShape</td>\n",
       "      <td>Area</td>\n",
       "      <td>None</td>\n",
       "      <td>None</td>\n",
       "      <td>None</td>\n",
       "      <td>None</td>\n",
       "    </tr>\n",
       "    <tr>\n",
       "      <th>1</th>\n",
       "      <td>High-Severity</td>\n",
       "      <td>AreaShape_Area</td>\n",
       "      <td>2.477908</td>\n",
       "      <td>AreaShape</td>\n",
       "      <td>Area</td>\n",
       "      <td>None</td>\n",
       "      <td>None</td>\n",
       "      <td>None</td>\n",
       "      <td>None</td>\n",
       "    </tr>\n",
       "    <tr>\n",
       "      <th>2</th>\n",
       "      <td>High-Severity</td>\n",
       "      <td>AreaShape_Area</td>\n",
       "      <td>4.262414</td>\n",
       "      <td>AreaShape</td>\n",
       "      <td>Area</td>\n",
       "      <td>None</td>\n",
       "      <td>None</td>\n",
       "      <td>None</td>\n",
       "      <td>None</td>\n",
       "    </tr>\n",
       "    <tr>\n",
       "      <th>3</th>\n",
       "      <td>High-Severity</td>\n",
       "      <td>AreaShape_Area</td>\n",
       "      <td>2.402476</td>\n",
       "      <td>AreaShape</td>\n",
       "      <td>Area</td>\n",
       "      <td>None</td>\n",
       "      <td>None</td>\n",
       "      <td>None</td>\n",
       "      <td>None</td>\n",
       "    </tr>\n",
       "    <tr>\n",
       "      <th>4</th>\n",
       "      <td>High-Severity</td>\n",
       "      <td>AreaShape_Area</td>\n",
       "      <td>2.389777</td>\n",
       "      <td>AreaShape</td>\n",
       "      <td>Area</td>\n",
       "      <td>None</td>\n",
       "      <td>None</td>\n",
       "      <td>None</td>\n",
       "      <td>None</td>\n",
       "    </tr>\n",
       "  </tbody>\n",
       "</table>\n",
       "</div>"
      ],
      "text/plain": [
       "  Metadata_genotype         feature     value feature_group measurement  bone  \\\n",
       "0     High-Severity  AreaShape_Area  1.192966     AreaShape        Area  None   \n",
       "1     High-Severity  AreaShape_Area  2.477908     AreaShape        Area  None   \n",
       "2     High-Severity  AreaShape_Area  4.262414     AreaShape        Area  None   \n",
       "3     High-Severity  AreaShape_Area  2.402476     AreaShape        Area  None   \n",
       "4     High-Severity  AreaShape_Area  2.389777     AreaShape        Area  None   \n",
       "\n",
       "  parameter1 parameter2 parameter3  \n",
       "0       None       None       None  \n",
       "1       None       None       None  \n",
       "2       None       None       None  \n",
       "3       None       None       None  \n",
       "4       None       None       None  "
      ]
     },
     "execution_count": 10,
     "metadata": {},
     "output_type": "execute_result"
    }
   ],
   "source": [
    "data_path = pathlib.Path(\n",
    "    \"../../data/5.converted_data/sum_aggregated_data.parquet\"\n",
    ").resolve(strict=True)\n",
    "# Read the data\n",
    "data = pd.read_parquet(data_path)\n",
    "\n",
    "# Drop all metadata except for the genotype data\n",
    "features_df = data.drop(columns=data.filter(like=\"Metadata\").columns)\n",
    "features_df[\"Metadata_genotype\"] = data[\"Metadata_genotype\"]\n",
    "\n",
    "\n",
    "# turn the features into a long format\n",
    "features_long_df = features_df.melt(\n",
    "    id_vars=\"Metadata_genotype\", var_name=\"feature\", value_name=\"value\"\n",
    ")\n",
    "features_long_df.head()\n",
    "# Separate the feature into different parts\n",
    "features_long_df[\n",
    "    [\"feature_group\", \"measurement\", \"bone\", \"parameter1\", \"parameter2\", \"parameter3\"]\n",
    "] = features_long_df[\"feature\"].str.split(\"_\", expand=True)\n",
    "\n",
    "# Replace the Metadata_genotype with the actual genotype name\n",
    "features_long_df[\"Metadata_genotype\"] = features_long_df[\"Metadata_genotype\"].replace(\n",
    "    {\"high\": \"High-Severity\", \"unsel\": \"Mid-Severity\", \"wt\": \"Wild Type\"}\n",
    ")\n",
    "features_long_df.head()"
   ]
  },
  {
   "cell_type": "code",
   "execution_count": 11,
   "id": "857334f0",
   "metadata": {
    "execution": {
     "iopub.execute_input": "2024-05-10T20:10:31.010314Z",
     "iopub.status.busy": "2024-05-10T20:10:31.010170Z",
     "iopub.status.idle": "2024-05-10T20:10:31.032539Z",
     "shell.execute_reply": "2024-05-10T20:10:31.032278Z"
    },
    "papermill": {
     "duration": 0.031738,
     "end_time": "2024-05-10T20:10:31.033202",
     "exception": false,
     "start_time": "2024-05-10T20:10:31.001464",
     "status": "completed"
    },
    "tags": []
   },
   "outputs": [
    {
     "name": "stderr",
     "output_type": "stream",
     "text": [
      "\r",
      "  0%|                                                                                                                                                                                                                                    | 0/5 [00:00<?, ?it/s]"
     ]
    },
    {
     "name": "stderr",
     "output_type": "stream",
     "text": [
      "\r",
      "100%|██████████████████████████████████████████████████████████████████████████████████████████████████████████████████████████████████████████████████████████████████████████████████████████████████████████████████████████| 5/5 [00:00<00:00, 1510.05it/s]"
     ]
    },
    {
     "name": "stderr",
     "output_type": "stream",
     "text": [
      "\n"
     ]
    },
    {
     "data": {
      "text/html": [
       "<div>\n",
       "<style scoped>\n",
       "    .dataframe tbody tr th:only-of-type {\n",
       "        vertical-align: middle;\n",
       "    }\n",
       "\n",
       "    .dataframe tbody tr th {\n",
       "        vertical-align: top;\n",
       "    }\n",
       "\n",
       "    .dataframe thead th {\n",
       "        text-align: right;\n",
       "    }\n",
       "</style>\n",
       "<table border=\"1\" class=\"dataframe\">\n",
       "  <thead>\n",
       "    <tr style=\"text-align: right;\">\n",
       "      <th></th>\n",
       "      <th>feature_group</th>\n",
       "      <th>levene_statistic</th>\n",
       "      <th>levene_p_value</th>\n",
       "      <th>group</th>\n",
       "    </tr>\n",
       "  </thead>\n",
       "  <tbody>\n",
       "    <tr>\n",
       "      <th>0</th>\n",
       "      <td>AreaShape</td>\n",
       "      <td>0.000308</td>\n",
       "      <td>9.860078e-01</td>\n",
       "      <td>high_area_v_unsel_area</td>\n",
       "    </tr>\n",
       "    <tr>\n",
       "      <th>1</th>\n",
       "      <td>AreaShape</td>\n",
       "      <td>2.376294</td>\n",
       "      <td>1.233049e-01</td>\n",
       "      <td>high_area_v_wt_area</td>\n",
       "    </tr>\n",
       "    <tr>\n",
       "      <th>2</th>\n",
       "      <td>AreaShape</td>\n",
       "      <td>2.239614</td>\n",
       "      <td>1.346296e-01</td>\n",
       "      <td>unsel_area_v_wt_area</td>\n",
       "    </tr>\n",
       "    <tr>\n",
       "      <th>3</th>\n",
       "      <td>Intensity</td>\n",
       "      <td>2.984981</td>\n",
       "      <td>8.477890e-02</td>\n",
       "      <td>high_intensity_v_unsel_intensity</td>\n",
       "    </tr>\n",
       "    <tr>\n",
       "      <th>4</th>\n",
       "      <td>Intensity</td>\n",
       "      <td>82.922691</td>\n",
       "      <td>3.550921e-18</td>\n",
       "      <td>high_intensity_v_wt_intensity</td>\n",
       "    </tr>\n",
       "  </tbody>\n",
       "</table>\n",
       "</div>"
      ],
      "text/plain": [
       "  feature_group  levene_statistic  levene_p_value  \\\n",
       "0     AreaShape          0.000308    9.860078e-01   \n",
       "1     AreaShape          2.376294    1.233049e-01   \n",
       "2     AreaShape          2.239614    1.346296e-01   \n",
       "3     Intensity          2.984981    8.477890e-02   \n",
       "4     Intensity         82.922691    3.550921e-18   \n",
       "\n",
       "                              group  \n",
       "0            high_area_v_unsel_area  \n",
       "1               high_area_v_wt_area  \n",
       "2              unsel_area_v_wt_area  \n",
       "3  high_intensity_v_unsel_intensity  \n",
       "4     high_intensity_v_wt_intensity  "
      ]
     },
     "execution_count": 11,
     "metadata": {},
     "output_type": "execute_result"
    }
   ],
   "source": [
    "# break each genotype and featuretype into a separate dataframe\n",
    "high_df = features_long_df[features_long_df[\"Metadata_genotype\"] == \"High-Severity\"]\n",
    "unsel_df = features_long_df[features_long_df[\"Metadata_genotype\"] == \"Mid-Severity\"]\n",
    "wt_df = features_long_df[features_long_df[\"Metadata_genotype\"] == \"Wild Type\"]\n",
    "\n",
    "# each feature group\n",
    "high_df_AreaShape = high_df[high_df[\"feature_group\"] == \"AreaShape\"]\n",
    "high_df_Intensity = high_df[high_df[\"feature_group\"] == \"Intensity\"]\n",
    "high_df_Neighbors = high_df[high_df[\"feature_group\"] == \"Neighbors\"]\n",
    "high_df_radial = high_df[high_df[\"feature_group\"] == \"RadialDistribution\"]\n",
    "high_df_Granularity = high_df[high_df[\"feature_group\"] == \"Granularity\"]\n",
    "\n",
    "unsel_df_AreaShape = unsel_df[unsel_df[\"feature_group\"] == \"AreaShape\"]\n",
    "unsel_df_Intensity = unsel_df[unsel_df[\"feature_group\"] == \"Intensity\"]\n",
    "unsel_df_Neighbors = unsel_df[unsel_df[\"feature_group\"] == \"Neighbors\"]\n",
    "unsel_df_radial = unsel_df[unsel_df[\"feature_group\"] == \"RadialDistribution\"]\n",
    "unsel_df_Granularity = unsel_df[unsel_df[\"feature_group\"] == \"Granularity\"]\n",
    "\n",
    "wt_df_AreaShape = wt_df[wt_df[\"feature_group\"] == \"AreaShape\"]\n",
    "wt_df_Intensity = wt_df[wt_df[\"feature_group\"] == \"Intensity\"]\n",
    "wt_df_Neighbors = wt_df[wt_df[\"feature_group\"] == \"Neighbors\"]\n",
    "wt_df_radial = wt_df[wt_df[\"feature_group\"] == \"RadialDistribution\"]\n",
    "wt_df_Granularity = wt_df[wt_df[\"feature_group\"] == \"Granularity\"]\n",
    "\n",
    "# levene test for each feature group\n",
    "levene_test_results = {\n",
    "    \"feature_group\": [],\n",
    "    \"levene_statistic\": [],\n",
    "    \"levene_p_value\": [],\n",
    "    \"group\": [],\n",
    "}\n",
    "\n",
    "group_dict = {\n",
    "    \"AreaShape\": {\n",
    "        \"high_area_v_unsel_area\": [high_df_AreaShape, unsel_df_AreaShape],\n",
    "        \"high_area_v_wt_area\": [high_df_AreaShape, wt_df_AreaShape],\n",
    "        \"unsel_area_v_wt_area\": [wt_df_AreaShape, unsel_df_AreaShape],\n",
    "    },\n",
    "    \"Intensity\": {\n",
    "        \"high_intensity_v_unsel_intensity\": [high_df_Intensity, unsel_df_Intensity],\n",
    "        \"high_intensity_v_wt_intensity\": [high_df_Intensity, wt_df_Intensity],\n",
    "        \"unsel_intensity_v_wt_intensity\": [wt_df_Intensity, unsel_df_Intensity],\n",
    "    },\n",
    "    \"Neighbors\": {\n",
    "        \"high_neighbors_v_unsel_neighbors\": [high_df_Neighbors, unsel_df_Neighbors],\n",
    "        \"high_neighbors_v_wt_neighbors\": [high_df_Neighbors, wt_df_Neighbors],\n",
    "        \"unsel_neighbors_v_wt_neighbors\": [wt_df_Neighbors, unsel_df_Neighbors],\n",
    "    },\n",
    "    \"RadialDistribution\": {\n",
    "        \"high_radial_v_unsel_radial\": [high_df_radial, unsel_df_radial],\n",
    "        \"high_radial_v_wt_radial\": [high_df_radial, wt_df_radial],\n",
    "        \"unsel_radial_v_wt_radial\": [wt_df_radial, unsel_df_radial],\n",
    "    },\n",
    "    \"Granularity\": {\n",
    "        \"high_granularity_v_unsel_granularity\": [\n",
    "            high_df_Granularity,\n",
    "            unsel_df_Granularity,\n",
    "        ],\n",
    "        \"high_granularity_v_wt_granularity\": [high_df_Granularity, wt_df_Granularity],\n",
    "        \"unsel_granularity_v_wt_granularity\": [wt_df_Granularity, unsel_df_Granularity],\n",
    "    },\n",
    "}\n",
    "\n",
    "for feature_group in tqdm.tqdm(group_dict.keys()):\n",
    "    for group in group_dict[feature_group].keys():\n",
    "        if not group == \"all\":\n",
    "            levene_results = levene(\n",
    "                group_dict[feature_group][group][0][\"value\"],\n",
    "                group_dict[feature_group][group][1][\"value\"],\n",
    "            )\n",
    "            # calculate the variance for each feature group\n",
    "\n",
    "            levene_test_results[\"feature_group\"].append(feature_group)\n",
    "            levene_test_results[\"levene_statistic\"].append(levene_results.statistic)\n",
    "            levene_test_results[\"levene_p_value\"].append(levene_results.pvalue)\n",
    "            levene_test_results[\"group\"].append(group)\n",
    "        else:\n",
    "            pass\n",
    "\n",
    "levene_test_results_df = pd.DataFrame(levene_test_results)\n",
    "levene_test_results_df.head()"
   ]
  },
  {
   "cell_type": "code",
   "execution_count": 12,
   "id": "b22210f1",
   "metadata": {
    "execution": {
     "iopub.execute_input": "2024-05-10T20:10:31.051325Z",
     "iopub.status.busy": "2024-05-10T20:10:31.050922Z",
     "iopub.status.idle": "2024-05-10T20:10:31.053678Z",
     "shell.execute_reply": "2024-05-10T20:10:31.053432Z"
    },
    "papermill": {
     "duration": 0.01227,
     "end_time": "2024-05-10T20:10:31.054342",
     "exception": false,
     "start_time": "2024-05-10T20:10:31.042072",
     "status": "completed"
    },
    "tags": []
   },
   "outputs": [],
   "source": [
    "# save the levene test results\n",
    "# out dir\n",
    "out_dir = pathlib.Path(\"../../data/6.analysis_results/\")\n",
    "# create the dir if it does not exist\n",
    "out_dir.mkdir(parents=True, exist_ok=True)\n",
    "levene_test_results_path = pathlib.Path(\n",
    "    out_dir / \"sum_aggregated_levene_test_results_feature_types.csv\"\n",
    ")\n",
    "levene_test_results_df.to_csv(levene_test_results_path, index=False)"
   ]
  },
  {
   "cell_type": "code",
   "execution_count": 13,
   "id": "610626eb",
   "metadata": {
    "execution": {
     "iopub.execute_input": "2024-05-10T20:10:31.071587Z",
     "iopub.status.busy": "2024-05-10T20:10:31.071447Z",
     "iopub.status.idle": "2024-05-10T20:10:31.084146Z",
     "shell.execute_reply": "2024-05-10T20:10:31.083889Z"
    },
    "papermill": {
     "duration": 0.02211,
     "end_time": "2024-05-10T20:10:31.084808",
     "exception": false,
     "start_time": "2024-05-10T20:10:31.062698",
     "status": "completed"
    },
    "tags": []
   },
   "outputs": [
    {
     "data": {
      "text/html": [
       "<div>\n",
       "<style scoped>\n",
       "    .dataframe tbody tr th:only-of-type {\n",
       "        vertical-align: middle;\n",
       "    }\n",
       "\n",
       "    .dataframe tbody tr th {\n",
       "        vertical-align: top;\n",
       "    }\n",
       "\n",
       "    .dataframe thead th {\n",
       "        text-align: right;\n",
       "    }\n",
       "</style>\n",
       "<table border=\"1\" class=\"dataframe\">\n",
       "  <thead>\n",
       "    <tr style=\"text-align: right;\">\n",
       "      <th></th>\n",
       "      <th>Metadata_genotype</th>\n",
       "      <th>feature</th>\n",
       "      <th>value</th>\n",
       "    </tr>\n",
       "  </thead>\n",
       "  <tbody>\n",
       "    <tr>\n",
       "      <th>0</th>\n",
       "      <td>high</td>\n",
       "      <td>AreaShape_Area</td>\n",
       "      <td>1.192966</td>\n",
       "    </tr>\n",
       "    <tr>\n",
       "      <th>1</th>\n",
       "      <td>high</td>\n",
       "      <td>AreaShape_Area</td>\n",
       "      <td>2.477908</td>\n",
       "    </tr>\n",
       "    <tr>\n",
       "      <th>2</th>\n",
       "      <td>high</td>\n",
       "      <td>AreaShape_Area</td>\n",
       "      <td>4.262414</td>\n",
       "    </tr>\n",
       "    <tr>\n",
       "      <th>3</th>\n",
       "      <td>high</td>\n",
       "      <td>AreaShape_Area</td>\n",
       "      <td>2.402476</td>\n",
       "    </tr>\n",
       "    <tr>\n",
       "      <th>4</th>\n",
       "      <td>high</td>\n",
       "      <td>AreaShape_Area</td>\n",
       "      <td>2.389777</td>\n",
       "    </tr>\n",
       "    <tr>\n",
       "      <th>...</th>\n",
       "      <td>...</td>\n",
       "      <td>...</td>\n",
       "      <td>...</td>\n",
       "    </tr>\n",
       "    <tr>\n",
       "      <th>10243</th>\n",
       "      <td>wt</td>\n",
       "      <td>Texture_Variance_OP_3_03_256</td>\n",
       "      <td>5.298012</td>\n",
       "    </tr>\n",
       "    <tr>\n",
       "      <th>10244</th>\n",
       "      <td>wt</td>\n",
       "      <td>Texture_Variance_OP_3_03_256</td>\n",
       "      <td>4.250143</td>\n",
       "    </tr>\n",
       "    <tr>\n",
       "      <th>10245</th>\n",
       "      <td>wt</td>\n",
       "      <td>Texture_Variance_OP_3_03_256</td>\n",
       "      <td>4.989335</td>\n",
       "    </tr>\n",
       "    <tr>\n",
       "      <th>10246</th>\n",
       "      <td>wt</td>\n",
       "      <td>Texture_Variance_OP_3_03_256</td>\n",
       "      <td>6.360684</td>\n",
       "    </tr>\n",
       "    <tr>\n",
       "      <th>10247</th>\n",
       "      <td>wt</td>\n",
       "      <td>Texture_Variance_OP_3_03_256</td>\n",
       "      <td>-3.735193</td>\n",
       "    </tr>\n",
       "  </tbody>\n",
       "</table>\n",
       "<p>10248 rows × 3 columns</p>\n",
       "</div>"
      ],
      "text/plain": [
       "      Metadata_genotype                       feature     value\n",
       "0                  high                AreaShape_Area  1.192966\n",
       "1                  high                AreaShape_Area  2.477908\n",
       "2                  high                AreaShape_Area  4.262414\n",
       "3                  high                AreaShape_Area  2.402476\n",
       "4                  high                AreaShape_Area  2.389777\n",
       "...                 ...                           ...       ...\n",
       "10243                wt  Texture_Variance_OP_3_03_256  5.298012\n",
       "10244                wt  Texture_Variance_OP_3_03_256  4.250143\n",
       "10245                wt  Texture_Variance_OP_3_03_256  4.989335\n",
       "10246                wt  Texture_Variance_OP_3_03_256  6.360684\n",
       "10247                wt  Texture_Variance_OP_3_03_256 -3.735193\n",
       "\n",
       "[10248 rows x 3 columns]"
      ]
     },
     "execution_count": 13,
     "metadata": {},
     "output_type": "execute_result"
    }
   ],
   "source": [
    "# Drop all metadata except for the genotype data\n",
    "features_df = data.drop(columns=data.filter(like=\"Metadata\").columns)\n",
    "features_df[\"Metadata_genotype\"] = data[\"Metadata_genotype\"]\n",
    "\n",
    "# turn the features into a long format\n",
    "features_long_df = features_df.melt(\n",
    "    id_vars=\"Metadata_genotype\", var_name=\"feature\", value_name=\"value\"\n",
    ")\n",
    "features_long_df"
   ]
  },
  {
   "cell_type": "code",
   "execution_count": 14,
   "id": "69375a4b",
   "metadata": {
    "execution": {
     "iopub.execute_input": "2024-05-10T20:10:31.102631Z",
     "iopub.status.busy": "2024-05-10T20:10:31.102289Z",
     "iopub.status.idle": "2024-05-10T20:10:31.108210Z",
     "shell.execute_reply": "2024-05-10T20:10:31.107737Z"
    },
    "papermill": {
     "duration": 0.015814,
     "end_time": "2024-05-10T20:10:31.109047",
     "exception": false,
     "start_time": "2024-05-10T20:10:31.093233",
     "status": "completed"
    },
    "tags": []
   },
   "outputs": [],
   "source": [
    "# get the variance for each feature group\n",
    "var_df = features_long_df.groupby([\"Metadata_genotype\", \"feature\"]).var().reset_index()\n",
    "var_df.head()\n",
    "# change the value column name to variance\n",
    "var_df.rename(columns={\"value\": \"variance\"}, inplace=True)"
   ]
  },
  {
   "cell_type": "code",
   "execution_count": 15,
   "id": "dbcc80f5",
   "metadata": {
    "execution": {
     "iopub.execute_input": "2024-05-10T20:10:31.126924Z",
     "iopub.status.busy": "2024-05-10T20:10:31.126587Z",
     "iopub.status.idle": "2024-05-10T20:10:31.135157Z",
     "shell.execute_reply": "2024-05-10T20:10:31.134766Z"
    },
    "papermill": {
     "duration": 0.018176,
     "end_time": "2024-05-10T20:10:31.135988",
     "exception": false,
     "start_time": "2024-05-10T20:10:31.117812",
     "status": "completed"
    },
    "tags": []
   },
   "outputs": [],
   "source": [
    "var_df[\n",
    "    [\"feature_group\", \"measurement\", \"bone\", \"parameter1\", \"parameter2\", \"parameter3\"]\n",
    "] = var_df[\"feature\"].str.split(\"_\", expand=True)\n",
    "\n",
    "# Replace the Metadata_genotype with the actual genotype name\n",
    "var_df[\"Metadata_genotype\"] = var_df[\"Metadata_genotype\"].replace(\n",
    "    {\"high\": \"High-Severity\", \"unsel\": \"Mid-Severity\", \"wt\": \"Wild Type\"}\n",
    ")\n",
    "var_df\n",
    "var_df = var_df.drop(\n",
    "    columns=[\"feature\", \"measurement\", \"bone\", \"parameter1\", \"parameter2\", \"parameter3\"]\n",
    ")\n",
    "var_df\n",
    "# save the variance results\n",
    "var_path = pathlib.Path(out_dir / \"sum_aggregated_variance_results_feature_types.csv\")\n",
    "var_df.to_csv(var_path, index=False)"
   ]
  },
  {
   "cell_type": "code",
   "execution_count": 16,
   "id": "b14e049a",
   "metadata": {
    "execution": {
     "iopub.execute_input": "2024-05-10T20:10:31.153889Z",
     "iopub.status.busy": "2024-05-10T20:10:31.153496Z",
     "iopub.status.idle": "2024-05-10T20:10:31.166769Z",
     "shell.execute_reply": "2024-05-10T20:10:31.166390Z"
    },
    "papermill": {
     "duration": 0.022889,
     "end_time": "2024-05-10T20:10:31.167453",
     "exception": false,
     "start_time": "2024-05-10T20:10:31.144564",
     "status": "completed"
    },
    "tags": []
   },
   "outputs": [
    {
     "data": {
      "text/html": [
       "<div>\n",
       "<style scoped>\n",
       "    .dataframe tbody tr th:only-of-type {\n",
       "        vertical-align: middle;\n",
       "    }\n",
       "\n",
       "    .dataframe tbody tr th {\n",
       "        vertical-align: top;\n",
       "    }\n",
       "\n",
       "    .dataframe thead th {\n",
       "        text-align: right;\n",
       "    }\n",
       "</style>\n",
       "<table border=\"1\" class=\"dataframe\">\n",
       "  <thead>\n",
       "    <tr style=\"text-align: right;\">\n",
       "      <th></th>\n",
       "      <th>Metadata_genotype</th>\n",
       "      <th>feature_group</th>\n",
       "      <th>variance_mean</th>\n",
       "      <th>variance_std</th>\n",
       "      <th>variance_max</th>\n",
       "      <th>variance_min</th>\n",
       "      <th>variance_count</th>\n",
       "    </tr>\n",
       "  </thead>\n",
       "  <tbody>\n",
       "    <tr>\n",
       "      <th>0</th>\n",
       "      <td>High-Severity</td>\n",
       "      <td>AreaShape</td>\n",
       "      <td>1.696818</td>\n",
       "      <td>1.402680</td>\n",
       "      <td>8.228906</td>\n",
       "      <td>0.000009</td>\n",
       "      <td>98</td>\n",
       "    </tr>\n",
       "    <tr>\n",
       "      <th>1</th>\n",
       "      <td>High-Severity</td>\n",
       "      <td>Granularity</td>\n",
       "      <td>0.472217</td>\n",
       "      <td>0.548388</td>\n",
       "      <td>1.539938</td>\n",
       "      <td>0.043669</td>\n",
       "      <td>6</td>\n",
       "    </tr>\n",
       "    <tr>\n",
       "      <th>2</th>\n",
       "      <td>High-Severity</td>\n",
       "      <td>Intensity</td>\n",
       "      <td>1.322782</td>\n",
       "      <td>0.771950</td>\n",
       "      <td>3.331811</td>\n",
       "      <td>0.196161</td>\n",
       "      <td>15</td>\n",
       "    </tr>\n",
       "    <tr>\n",
       "      <th>3</th>\n",
       "      <td>High-Severity</td>\n",
       "      <td>Neighbors</td>\n",
       "      <td>1.908916</td>\n",
       "      <td>0.733588</td>\n",
       "      <td>2.668279</td>\n",
       "      <td>1.204154</td>\n",
       "      <td>3</td>\n",
       "    </tr>\n",
       "    <tr>\n",
       "      <th>4</th>\n",
       "      <td>High-Severity</td>\n",
       "      <td>RadialDistribution</td>\n",
       "      <td>1.527171</td>\n",
       "      <td>1.035597</td>\n",
       "      <td>5.207460</td>\n",
       "      <td>0.000000</td>\n",
       "      <td>70</td>\n",
       "    </tr>\n",
       "    <tr>\n",
       "      <th>5</th>\n",
       "      <td>High-Severity</td>\n",
       "      <td>Texture</td>\n",
       "      <td>0.792697</td>\n",
       "      <td>0.508977</td>\n",
       "      <td>1.702177</td>\n",
       "      <td>0.058432</td>\n",
       "      <td>52</td>\n",
       "    </tr>\n",
       "    <tr>\n",
       "      <th>6</th>\n",
       "      <td>Mid-Severity</td>\n",
       "      <td>AreaShape</td>\n",
       "      <td>3.624904</td>\n",
       "      <td>1.608754</td>\n",
       "      <td>8.625774</td>\n",
       "      <td>0.848783</td>\n",
       "      <td>98</td>\n",
       "    </tr>\n",
       "    <tr>\n",
       "      <th>7</th>\n",
       "      <td>Mid-Severity</td>\n",
       "      <td>Granularity</td>\n",
       "      <td>2.468493</td>\n",
       "      <td>1.770383</td>\n",
       "      <td>5.747638</td>\n",
       "      <td>0.970630</td>\n",
       "      <td>6</td>\n",
       "    </tr>\n",
       "    <tr>\n",
       "      <th>8</th>\n",
       "      <td>Mid-Severity</td>\n",
       "      <td>Intensity</td>\n",
       "      <td>3.273020</td>\n",
       "      <td>1.800369</td>\n",
       "      <td>7.563879</td>\n",
       "      <td>1.235410</td>\n",
       "      <td>15</td>\n",
       "    </tr>\n",
       "    <tr>\n",
       "      <th>9</th>\n",
       "      <td>Mid-Severity</td>\n",
       "      <td>Neighbors</td>\n",
       "      <td>7.405256</td>\n",
       "      <td>3.995037</td>\n",
       "      <td>11.900394</td>\n",
       "      <td>4.260122</td>\n",
       "      <td>3</td>\n",
       "    </tr>\n",
       "    <tr>\n",
       "      <th>10</th>\n",
       "      <td>Mid-Severity</td>\n",
       "      <td>RadialDistribution</td>\n",
       "      <td>3.608228</td>\n",
       "      <td>1.898628</td>\n",
       "      <td>8.614177</td>\n",
       "      <td>0.981129</td>\n",
       "      <td>70</td>\n",
       "    </tr>\n",
       "    <tr>\n",
       "      <th>11</th>\n",
       "      <td>Mid-Severity</td>\n",
       "      <td>Texture</td>\n",
       "      <td>5.652364</td>\n",
       "      <td>2.949971</td>\n",
       "      <td>12.002112</td>\n",
       "      <td>0.430453</td>\n",
       "      <td>52</td>\n",
       "    </tr>\n",
       "    <tr>\n",
       "      <th>12</th>\n",
       "      <td>Wild Type</td>\n",
       "      <td>AreaShape</td>\n",
       "      <td>1.862727</td>\n",
       "      <td>1.525145</td>\n",
       "      <td>6.773015</td>\n",
       "      <td>0.079804</td>\n",
       "      <td>98</td>\n",
       "    </tr>\n",
       "    <tr>\n",
       "      <th>13</th>\n",
       "      <td>Wild Type</td>\n",
       "      <td>Granularity</td>\n",
       "      <td>3.470570</td>\n",
       "      <td>1.461680</td>\n",
       "      <td>5.009983</td>\n",
       "      <td>1.155878</td>\n",
       "      <td>6</td>\n",
       "    </tr>\n",
       "    <tr>\n",
       "      <th>14</th>\n",
       "      <td>Wild Type</td>\n",
       "      <td>Intensity</td>\n",
       "      <td>9.361510</td>\n",
       "      <td>4.708962</td>\n",
       "      <td>16.759068</td>\n",
       "      <td>3.587699</td>\n",
       "      <td>15</td>\n",
       "    </tr>\n",
       "    <tr>\n",
       "      <th>15</th>\n",
       "      <td>Wild Type</td>\n",
       "      <td>Neighbors</td>\n",
       "      <td>2.017569</td>\n",
       "      <td>1.404816</td>\n",
       "      <td>3.165981</td>\n",
       "      <td>0.451208</td>\n",
       "      <td>3</td>\n",
       "    </tr>\n",
       "    <tr>\n",
       "      <th>16</th>\n",
       "      <td>Wild Type</td>\n",
       "      <td>RadialDistribution</td>\n",
       "      <td>6.436125</td>\n",
       "      <td>4.010908</td>\n",
       "      <td>14.609951</td>\n",
       "      <td>0.000000</td>\n",
       "      <td>70</td>\n",
       "    </tr>\n",
       "    <tr>\n",
       "      <th>17</th>\n",
       "      <td>Wild Type</td>\n",
       "      <td>Texture</td>\n",
       "      <td>11.573989</td>\n",
       "      <td>4.249021</td>\n",
       "      <td>20.655883</td>\n",
       "      <td>1.386615</td>\n",
       "      <td>52</td>\n",
       "    </tr>\n",
       "  </tbody>\n",
       "</table>\n",
       "</div>"
      ],
      "text/plain": [
       "   Metadata_genotype       feature_group  variance_mean  variance_std  \\\n",
       "0      High-Severity           AreaShape       1.696818      1.402680   \n",
       "1      High-Severity         Granularity       0.472217      0.548388   \n",
       "2      High-Severity           Intensity       1.322782      0.771950   \n",
       "3      High-Severity           Neighbors       1.908916      0.733588   \n",
       "4      High-Severity  RadialDistribution       1.527171      1.035597   \n",
       "5      High-Severity             Texture       0.792697      0.508977   \n",
       "6       Mid-Severity           AreaShape       3.624904      1.608754   \n",
       "7       Mid-Severity         Granularity       2.468493      1.770383   \n",
       "8       Mid-Severity           Intensity       3.273020      1.800369   \n",
       "9       Mid-Severity           Neighbors       7.405256      3.995037   \n",
       "10      Mid-Severity  RadialDistribution       3.608228      1.898628   \n",
       "11      Mid-Severity             Texture       5.652364      2.949971   \n",
       "12         Wild Type           AreaShape       1.862727      1.525145   \n",
       "13         Wild Type         Granularity       3.470570      1.461680   \n",
       "14         Wild Type           Intensity       9.361510      4.708962   \n",
       "15         Wild Type           Neighbors       2.017569      1.404816   \n",
       "16         Wild Type  RadialDistribution       6.436125      4.010908   \n",
       "17         Wild Type             Texture      11.573989      4.249021   \n",
       "\n",
       "    variance_max  variance_min  variance_count  \n",
       "0       8.228906      0.000009              98  \n",
       "1       1.539938      0.043669               6  \n",
       "2       3.331811      0.196161              15  \n",
       "3       2.668279      1.204154               3  \n",
       "4       5.207460      0.000000              70  \n",
       "5       1.702177      0.058432              52  \n",
       "6       8.625774      0.848783              98  \n",
       "7       5.747638      0.970630               6  \n",
       "8       7.563879      1.235410              15  \n",
       "9      11.900394      4.260122               3  \n",
       "10      8.614177      0.981129              70  \n",
       "11     12.002112      0.430453              52  \n",
       "12      6.773015      0.079804              98  \n",
       "13      5.009983      1.155878               6  \n",
       "14     16.759068      3.587699              15  \n",
       "15      3.165981      0.451208               3  \n",
       "16     14.609951      0.000000              70  \n",
       "17     20.655883      1.386615              52  "
      ]
     },
     "execution_count": 16,
     "metadata": {},
     "output_type": "execute_result"
    }
   ],
   "source": [
    "# get the mean and stdev for each feature group's variance\n",
    "var_df = (\n",
    "    var_df.groupby([\"Metadata_genotype\", \"feature_group\"])\n",
    "    .agg([\"mean\", \"std\", \"max\", \"min\", \"count\"])\n",
    "    .reset_index()\n",
    ")\n",
    "# ungroup the columns\n",
    "var_df.columns = [\"_\".join(col).strip() for col in var_df.columns.values]\n",
    "# rename the Metadata_genotype_ column and the feature_group_ column\n",
    "var_df.rename(\n",
    "    columns={\n",
    "        \"Metadata_genotype_\": \"Metadata_genotype\",\n",
    "        \"feature_group_\": \"feature_group\",\n",
    "    },\n",
    "    inplace=True,\n",
    ")\n",
    "var_df"
   ]
  },
  {
   "cell_type": "code",
   "execution_count": 17,
   "id": "25743d61",
   "metadata": {
    "execution": {
     "iopub.execute_input": "2024-05-10T20:10:31.185392Z",
     "iopub.status.busy": "2024-05-10T20:10:31.185015Z",
     "iopub.status.idle": "2024-05-10T20:10:31.188135Z",
     "shell.execute_reply": "2024-05-10T20:10:31.187755Z"
    },
    "papermill": {
     "duration": 0.012962,
     "end_time": "2024-05-10T20:10:31.188975",
     "exception": false,
     "start_time": "2024-05-10T20:10:31.176013",
     "status": "completed"
    },
    "tags": []
   },
   "outputs": [],
   "source": [
    "# save the variance results\n",
    "var_path = pathlib.Path(\n",
    "    out_dir / \"sum_aggregated_variance_results_feature_types_stats.csv\"\n",
    ")\n",
    "var_df.to_csv(var_path, index=False)"
   ]
  }
 ],
 "metadata": {
  "kernelspec": {
   "display_name": "op_cell_processing_env",
   "language": "python",
   "name": "python3"
  },
  "language_info": {
   "codemirror_mode": {
    "name": "ipython",
    "version": 3
   },
   "file_extension": ".py",
   "mimetype": "text/x-python",
   "name": "python",
   "nbconvert_exporter": "python",
   "pygments_lexer": "ipython3",
   "version": "3.8.15"
  },
  "papermill": {
   "default_parameters": {},
   "duration": 33.012447,
   "end_time": "2024-05-10T20:10:31.512288",
   "environment_variables": {},
   "exception": null,
   "input_path": "3b.sum_aggregated_anova.ipynb",
   "output_path": "3b.sum_aggregated_anova.ipynb",
   "parameters": {},
   "start_time": "2024-05-10T20:09:58.499841",
   "version": "2.6.0"
  }
 },
 "nbformat": 4,
 "nbformat_minor": 5
}