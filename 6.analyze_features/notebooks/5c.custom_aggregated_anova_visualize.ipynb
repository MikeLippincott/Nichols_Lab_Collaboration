{
    "cells": [
        {
            "cell_type": "code",
            "execution_count": null,
            "id": "603b4a74",
            "metadata": {
                "execution": {
                    "iopub.execute_input": "2024-10-09T15:16:07.351536Z",
                    "iopub.status.busy": "2024-10-09T15:16:07.349601Z",
                    "iopub.status.idle": "2024-10-09T15:16:07.692584Z",
                    "shell.execute_reply": "2024-10-09T15:16:07.691791Z"
                },
                "papermill": {
                    "duration": 0.348681,
                    "end_time": "2024-10-09T15:16:07.693632",
                    "exception": false,
                    "start_time": "2024-10-09T15:16:07.344951",
                    "status": "completed"
                },
                "tags": [],
                "vscode": {
                    "languageId": "r"
                }
            },
            "outputs": [],
            "source": [
                "# load libraries\n",
                "suppressWarnings(suppressPackageStartupMessages(library(ggplot2)))\n",
                "suppressWarnings(suppressPackageStartupMessages(library(dplyr)))\n",
                "suppressWarnings(suppressPackageStartupMessages(library(arrow)))\n",
                "suppressWarnings(suppressPackageStartupMessages(library(patchwork)))\n",
                "suppressWarnings(suppressPackageStartupMessages(library(ggsignif)))\n",
                "# import ggplot theme\n",
                "source(\"../../utils/figure_themes.r\")"
            ]
        },
        {
            "cell_type": "code",
            "execution_count": null,
            "id": "5a572dc3",
            "metadata": {
                "execution": {
                    "iopub.execute_input": "2024-10-09T15:16:07.711976Z",
                    "iopub.status.busy": "2024-10-09T15:16:07.698944Z",
                    "iopub.status.idle": "2024-10-09T15:16:07.891345Z",
                    "shell.execute_reply": "2024-10-09T15:16:07.890651Z"
                },
                "papermill": {
                    "duration": 0.196149,
                    "end_time": "2024-10-09T15:16:07.892293",
                    "exception": false,
                    "start_time": "2024-10-09T15:16:07.696144",
                    "status": "completed"
                },
                "tags": [],
                "vscode": {
                    "languageId": "r"
                }
            },
            "outputs": [],
            "source": [
                "# path to the anova data\n",
                "custom_aggregated_anova_genotype_df_path <- file.path(\"..\",\"..\",\"data\",\"6.analysis_results\",\"custom_aggregated_anova_results.parquet\")\n",
                "custom_aggregated_data_path <- file.path(\"..\",\"..\",\"data\",\"5.converted_data\",\"custom_aggregated_data.parquet\")\n",
                "fig_path <- file.path(\"..\",\"figures\",\"custom_aggregated\")\n",
                "# create the figure directory if it does not exist\n",
                "if (!dir.exists(fig_path)){\n",
                "  dir.create(fig_path, recursive = TRUE)\n",
                "}\n",
                "\n",
                "individual_fig_path <- file.path(fig_path,\"individual_features\")\n",
                "# create the figure directory if it does not exist\n",
                "if (!dir.exists(individual_fig_path)){\n",
                "  dir.create(individual_fig_path, recursive = TRUE)\n",
                "}\n",
                "\n",
                "barplot_fig_path <- file.path(individual_fig_path,\"barplot\")\n",
                "# create the figure directory if it does not exist\n",
                "if (!dir.exists(barplot_fig_path)){\n",
                "  dir.create(barplot_fig_path, recursive = TRUE)\n",
                "}\n",
                "\n",
                "boxplot_fig_path <- file.path(individual_fig_path,\"boxplot\")\n",
                "# create the figure directory if it does not exist\n",
                "if (!dir.exists(boxplot_fig_path)){\n",
                "  dir.create(boxplot_fig_path, recursive = TRUE)\n",
                "}\n",
                "\n",
                "\n",
                "# read the data\n",
                "custom_aggregated_data_df <- arrow::read_parquet(custom_aggregated_data_path)\n",
                "head(custom_aggregated_data_df)\n",
                "\n",
                "# read the anova data\n",
                "custom_aggregated_anova_df <- arrow::read_parquet(custom_aggregated_anova_genotype_df_path)\n"
            ]
        },
        {
            "cell_type": "markdown",
            "id": "6d87ffd1",
            "metadata": {
                "papermill": {
                    "duration": 0.00289,
                    "end_time": "2024-10-09T15:16:07.898680",
                    "exception": false,
                    "start_time": "2024-10-09T15:16:07.895790",
                    "status": "completed"
                },
                "tags": []
            },
            "source": [
                "## Genotype, side and identity level data"
            ]
        },
        {
            "cell_type": "markdown",
            "id": "7d732436",
            "metadata": {
                "papermill": {
                    "duration": 0.002912,
                    "end_time": "2024-10-09T15:16:07.904566",
                    "exception": false,
                    "start_time": "2024-10-09T15:16:07.901654",
                    "status": "completed"
                },
                "tags": []
            },
            "source": [
                "### ANOVA means"
            ]
        },
        {
            "cell_type": "code",
            "execution_count": null,
            "id": "fc69c991",
            "metadata": {
                "execution": {
                    "iopub.execute_input": "2024-10-09T15:16:07.911928Z",
                    "iopub.status.busy": "2024-10-09T15:16:07.911320Z",
                    "iopub.status.idle": "2024-10-09T15:16:07.942547Z",
                    "shell.execute_reply": "2024-10-09T15:16:07.941852Z"
                },
                "papermill": {
                    "duration": 0.035903,
                    "end_time": "2024-10-09T15:16:07.943429",
                    "exception": false,
                    "start_time": "2024-10-09T15:16:07.907526",
                    "status": "completed"
                },
                "tags": [],
                "vscode": {
                    "languageId": "r"
                }
            },
            "outputs": [],
            "source": [
                "\n",
                "custom_aggregated_anova_df$log10_anova_p_value <- -log10(custom_aggregated_anova_df$anova_p_value)\n",
                "# order the results by log10 anova p-value\n",
                "custom_aggregated_anova_df <- custom_aggregated_anova_df %>% arrange(log10_anova_p_value)\n",
                "# split the feature into 3 groups at \"_\"\n",
                "custom_aggregated_anova_df$feature_type <- sapply(strsplit(custom_aggregated_anova_df$feature, \"_\"), function(x) x[1])\n",
                "custom_aggregated_anova_df$feature_name <- sapply(strsplit(custom_aggregated_anova_df$feature, \"_\"), function(x) x[2])\n",
                "head(custom_aggregated_anova_df)\n"
            ]
        },
        {
            "cell_type": "code",
            "execution_count": null,
            "id": "4a7ac65f",
            "metadata": {
                "execution": {
                    "iopub.execute_input": "2024-10-09T15:16:07.950230Z",
                    "iopub.status.busy": "2024-10-09T15:16:07.949448Z",
                    "iopub.status.idle": "2024-10-09T15:16:10.206409Z",
                    "shell.execute_reply": "2024-10-09T15:16:10.205700Z"
                },
                "papermill": {
                    "duration": 2.262769,
                    "end_time": "2024-10-09T15:16:10.208719",
                    "exception": false,
                    "start_time": "2024-10-09T15:16:07.945950",
                    "status": "completed"
                },
                "tags": [],
                "vscode": {
                    "languageId": "r"
                }
            },
            "outputs": [],
            "source": [
                "width <- 20\n",
                "height <- 10\n",
                "options(repr.plot.width = width, repr.plot.height = height)\n",
                "anova_plot <- (\n",
                "    # order the results by log10 anova p-value\n",
                "    ggplot(custom_aggregated_anova_df, aes(y = reorder(feature, log10_anova_p_value), x = log10_anova_p_value, fill = feature_type))\n",
                "    + geom_bar(stat = \"identity\")\n",
                "    # drop y axis labels\n",
                "    + theme(axis.text.x = element_text(angle = 90, hjust = 1))\n",
                "    + labs(title = \"ANOVA Analysis\", y = \"Feature\", x = \"-log10(ANOVA p-value)\", fill = \"Feature Type\")\n",
                "   \n",
                "    + figure_theme\n",
                "\n",
                "\n",
                "    + theme(axis.text.y = element_blank(), panel.grid.major = element_blank(), panel.grid.minor = element_blank())\n",
                "    + theme(axis.text.y = element_blank())\n",
                "    + geom_hline(yintercept = length(unique(custom_aggregated_anova_df$feature))-10, linetype = \"dashed\", color = \"black\")\n",
                "     \n",
                ")\n",
                "anova_plot\n",
                "# save the plot\n",
                "ggsave(file = \"custom_aggregated_anova_plot.png\", plot = anova_plot, path = file.path(fig_path), width = width, height = height, dpi = 600)"
            ]
        },
        {
            "cell_type": "markdown",
            "id": "ca8d48ef",
            "metadata": {
                "papermill": {
                    "duration": 0.004424,
                    "end_time": "2024-10-09T15:16:10.218312",
                    "exception": false,
                    "start_time": "2024-10-09T15:16:10.213888",
                    "status": "completed"
                },
                "tags": []
            },
            "source": [
                "## Test for equality of variance "
            ]
        },
        {
            "cell_type": "code",
            "execution_count": null,
            "id": "4c856a9c",
            "metadata": {
                "execution": {
                    "iopub.execute_input": "2024-10-09T15:16:10.229125Z",
                    "iopub.status.busy": "2024-10-09T15:16:10.228552Z",
                    "iopub.status.idle": "2024-10-09T15:16:10.244993Z",
                    "shell.execute_reply": "2024-10-09T15:16:10.244327Z"
                },
                "papermill": {
                    "duration": 0.022726,
                    "end_time": "2024-10-09T15:16:10.245944",
                    "exception": false,
                    "start_time": "2024-10-09T15:16:10.223218",
                    "status": "completed"
                },
                "tags": [],
                "vscode": {
                    "languageId": "r"
                }
            },
            "outputs": [],
            "source": [
                "# load levene data in \n",
                "custom_aggregated_levene_df_path <- file.path(\"..\",\"..\",\"data\",\"6.analysis_results\",\"custom_aggregated_levene_test_results.csv\")\n",
                "custom_aggregated_levene_df <- read.csv(custom_aggregated_levene_df_path)\n",
                "# make a new column for ***\n",
                "custom_aggregated_levene_df$significance <- ifelse(\n",
                "    custom_aggregated_levene_df$levene_p_value < 0.001, \"***\", \n",
                "    ifelse(custom_aggregated_levene_df$levene_p_value < 0.01, \"**\", \n",
                "    ifelse(custom_aggregated_levene_df$levene_p_value < 0.05, \"*\", \n",
                "    \"ns\")\n",
                "    )\n",
                ")\n",
                "head(custom_aggregated_levene_df)"
            ]
        },
        {
            "cell_type": "markdown",
            "id": "933ce2af",
            "metadata": {
                "papermill": {
                    "duration": 0.004882,
                    "end_time": "2024-10-09T15:16:10.255612",
                    "exception": false,
                    "start_time": "2024-10-09T15:16:10.250730",
                    "status": "completed"
                },
                "tags": []
            },
            "source": [
                "### Variances"
            ]
        },
        {
            "cell_type": "code",
            "execution_count": null,
            "id": "8c5cb2a5",
            "metadata": {
                "execution": {
                    "iopub.execute_input": "2024-10-09T15:16:10.266618Z",
                    "iopub.status.busy": "2024-10-09T15:16:10.265894Z",
                    "iopub.status.idle": "2024-10-09T15:16:10.358430Z",
                    "shell.execute_reply": "2024-10-09T15:16:10.357712Z"
                },
                "papermill": {
                    "duration": 0.099177,
                    "end_time": "2024-10-09T15:16:10.359419",
                    "exception": false,
                    "start_time": "2024-10-09T15:16:10.260242",
                    "status": "completed"
                },
                "tags": [],
                "vscode": {
                    "languageId": "r"
                }
            },
            "outputs": [],
            "source": [
                "width <- 4\n",
                "height <- 4\n",
                "options(repr.plot.width = width, repr.plot.height = height)\n",
                "# make a new column for the group1 and group2\n",
                "custom_aggregated_anova_df$comparison <- paste(custom_aggregated_anova_df$group1, custom_aggregated_anova_df$group2, sep = \" - \")\n",
                "\n",
                "# order the results by anova p-value\n",
                "custom_aggregated_anova_df <- custom_aggregated_anova_df %>% arrange(anova_p_value)\n",
                "features <- unique(custom_aggregated_anova_df$feature)\n",
                "top_20_custom_aggregated_anova_df <- custom_aggregated_anova_df %>% filter(feature %in% features)\n",
                "top_20_custom_aggregated_anova_df$log10_tukey_p_value <- -log10(top_20_custom_aggregated_anova_df$`p-adj`)\n",
                "# make the genotype a factor\n",
                "# replace the genotype values\n",
                "custom_aggregated_data_df$Metadata_genotype <- gsub(\"wt\", \"Wild Type\", custom_aggregated_data_df$Metadata_genotype)\n",
                "custom_aggregated_data_df$Metadata_genotype <- gsub(\"unsel\", \"Mid-Severity\", custom_aggregated_data_df$Metadata_genotype)\n",
                "custom_aggregated_data_df$Metadata_genotype <- gsub(\"high\", \"High-Severity\", custom_aggregated_data_df$Metadata_genotype)\n",
                "custom_aggregated_data_df$Metadata_genotype <- factor(\n",
                "    custom_aggregated_data_df$Metadata_genotype, \n",
                "    levels = c(\"Wild Type\", \"Mid-Severity\", \"High-Severity\")\n",
                ")\n",
                "head(custom_aggregated_data_df)"
            ]
        },
        {
            "cell_type": "code",
            "execution_count": null,
            "id": "ab9b2dc6",
            "metadata": {
                "execution": {
                    "iopub.execute_input": "2024-10-09T15:16:10.371845Z",
                    "iopub.status.busy": "2024-10-09T15:16:10.371212Z",
                    "iopub.status.idle": "2024-10-09T15:16:23.607689Z",
                    "shell.execute_reply": "2024-10-09T15:16:23.606741Z"
                },
                "papermill": {
                    "duration": 13.243748,
                    "end_time": "2024-10-09T15:16:23.608879",
                    "exception": false,
                    "start_time": "2024-10-09T15:16:10.365131",
                    "status": "completed"
                },
                "tags": [],
                "vscode": {
                    "languageId": "r"
                }
            },
            "outputs": [],
            "source": [
                "width <- 8\n",
                "height <- 8\n",
                "\n",
                "list_of_variance_bar_plots <- list()\n",
                "list_of_feature_box_plots <- list()\n",
                "\n",
                "for (i in 1:length(features)){\n",
                "    print(features[i])\n",
                "    # get the top feature\n",
                "    tmp <- custom_aggregated_data_df %>% select(c(\"Metadata_genotype\", features[i]))\n",
                "    # aggregate the data to get the mean and standard deviation of the top feature\n",
                "    tmp <- tmp %>% group_by(Metadata_genotype) %>% summarise(mean = mean(!!as.name(features[i])), sd = sd(!!as.name(features[i])))\n",
                "\n",
                "    # get the levene test result for the selected feature\n",
                "    tmp_levene <- custom_aggregated_levene_df %>% filter(feature == features[i])\n",
                "    WT_vs_high_significance <- tmp_levene %>% filter(group == \"high_vs_wt\")\n",
                "    WT_vs_unsel_significance <- tmp_levene %>% filter(group == \"unsel_vs_wt\")\n",
                "    unsel_vs_high_significance <- tmp_levene %>% filter(group == \"high_vs_unsel\")\n",
                "    WT_vs_high_significance <- WT_vs_high_significance$significance\n",
                "    WT_vs_unsel_significance <- WT_vs_unsel_significance$significance\n",
                "    unsel_vs_high_significance <- unsel_vs_high_significance$significance\n",
                "\n",
                "    # calculate the variance where variance = sd^2\n",
                "    tmp$variance <- tmp$sd^2\n",
                "    title <- gsub(\"_\", \" \", features[i])\n",
                "\n",
                "    # get the max value of the variance\n",
                "    max_var <- max(tmp$variance)\n",
                "    # add 0.3 to the max value to get the y max\n",
                "    max_var_plot <- max_var + 0.4\n",
                "\n",
                "\n",
                "    # plot the variability of the top feature\n",
                "    var_plot <- (\n",
                "        ggplot(tmp, aes(x = Metadata_genotype, y = variance, fill = Metadata_genotype)) \n",
                "        + geom_bar(stat = \"identity\")\n",
                "        + theme(axis.text.x = element_text(angle = 90, hjust = 1))\n",
                "        + labs(title = title, x = \"Genotype\", y = \"Variance\", fill = \"Genotype\")\n",
                "        + theme_bw()\n",
                "        + figure_theme\n",
                "     \n",
                "        + geom_signif(\n",
                "            comparisons = list(c(\"High-Severity\",\"Mid-Severity\")), \n",
                "            annotations = unsel_vs_high_significance,\n",
                "            textsize = 7,\n",
                "            y_position = c(max_var+0.1, max_var+0.15)        \n",
                "            ) \n",
                "        + geom_signif(\n",
                "            comparisons = list(c(\"Wild Type\",\"Mid-Severity\")), \n",
                "            annotations = WT_vs_unsel_significance, \n",
                "            textsize = 7,\n",
                "            y_position = c(max_var+0.1, max_var+0.15)        \n",
                "            )\n",
                "        + geom_signif(\n",
                "            comparisons = list(c(\"High-Severity\",\"Wild Type\")), \n",
                "            annotations = WT_vs_high_significance,\n",
                "            textsize = 7,\n",
                "            y_position = c(max_var+0.2, max_var+0.25)        \n",
                "        )\n",
                "           # remove the legend\n",
                "        + theme(legend.position = \"none\")\n",
                "        + ylim(0,max_var_plot)\n",
                "    )\n",
                "    # save var plot\n",
                "    ggsave(file = paste0(\"custom_aggregated_\", features[i], \"_variance_plot_genotype.png\"), plot = var_plot, path = file.path(barplot_fig_path), width = width, height = height, dpi = 600)\n",
                "\n",
                "     # get the max value of the variance\n",
                "    max_coord <- max(custom_aggregated_data_df[[features[i]]])\n",
                "    min_coord <- min(custom_aggregated_data_df[[features[i]]])\n",
                "    # add 0.3 to the max value to get the y max\n",
                "    max_coord_plot <- max_coord + 1.2\n",
                "    min_coord_plot <- min_coord - 1.2\n",
                "    boxplot <- (\n",
                "        ggplot(custom_aggregated_data_df, aes(x = Metadata_genotype, y = !!as.name(features[i]), fill = Metadata_genotype))\n",
                "        + geom_boxplot()\n",
                "        + labs(title = title, x = \"Genotype\", y = title, fill = \"Genotype\")\n",
                "        + theme_bw()\n",
                "        + figure_theme\n",
                "        + theme(legend.position = \"none\")\n",
                "         + geom_signif(\n",
                "            comparisons = list(c(\"High-Severity\",\"Mid-Severity\")), \n",
                "            annotations = unsel_vs_high_significance,\n",
                "            textsize = 7,\n",
                "            y_position = c(max_coord+0.1, max_coord+0.15)        \n",
                "            ) \n",
                "        + geom_signif(\n",
                "            comparisons = list(c(\"Wild Type\",\"Mid-Severity\")), \n",
                "            annotations = WT_vs_unsel_significance, \n",
                "            textsize = 7,\n",
                "            y_position = c(max_coord+0.1, max_coord+0.15)        \n",
                "            )\n",
                "        + geom_signif(\n",
                "            comparisons = list(c(\"High-Severity\",\"Wild Type\")), \n",
                "            annotations = WT_vs_high_significance,\n",
                "            textsize = 7,\n",
                "            y_position = c(max_coord+0.7, max_coord+0.9)        \n",
                "        )\n",
                "           # remove the legend\n",
                "        + theme(legend.position = \"none\")\n",
                "        + ylim(min_coord_plot,max_coord_plot)\n",
                "        \n",
                "        \n",
                "    )\n",
                "    ggsave(file = paste0(\"custom_aggregated_\", features[i], \"_boxplot.png\"), plot = boxplot, path = file.path(boxplot_fig_path), width = width, height = height, dpi = 600)\n",
                "\n",
                "\n",
                "    list_of_variance_bar_plots[[i]] <- var_plot\n",
                "    list_of_feature_box_plots[[i]] <- boxplot\n",
                "}"
            ]
        },
        {
            "cell_type": "code",
            "execution_count": null,
            "id": "b18db9bc",
            "metadata": {
                "execution": {
                    "iopub.execute_input": "2024-10-09T15:16:23.623165Z",
                    "iopub.status.busy": "2024-10-09T15:16:23.622538Z",
                    "iopub.status.idle": "2024-10-09T15:16:26.243035Z",
                    "shell.execute_reply": "2024-10-09T15:16:26.242264Z"
                },
                "papermill": {
                    "duration": 2.62902,
                    "end_time": "2024-10-09T15:16:26.244372",
                    "exception": false,
                    "start_time": "2024-10-09T15:16:23.615352",
                    "status": "completed"
                },
                "tags": [],
                "vscode": {
                    "languageId": "r"
                }
            },
            "outputs": [],
            "source": [
                "width <- 10\n",
                "height <- 4\n",
                "options(repr.plot.width = width, repr.plot.height = height)\n",
                "for (plot in list_of_variance_bar_plots){\n",
                "    print(plot)\n",
                "}\n",
                "for (plot in list_of_feature_box_plots){\n",
                "    print(plot)\n",
                "}"
            ]
        }
    ],
    "metadata": {
        "kernelspec": {
            "display_name": "R",
            "language": "R",
            "name": "ir"
        },
        "language_info": {
            "codemirror_mode": "r",
            "file_extension": ".r",
            "mimetype": "text/x-r-source",
            "name": "R",
            "pygments_lexer": "r",
            "version": "4.2.2"
        },
        "papermill": {
            "default_parameters": {},
            "duration": 19.953308,
            "end_time": "2024-10-09T15:16:26.381831",
            "environment_variables": {},
            "exception": null,
            "input_path": "5a.mean_aggregated_anova_visualize.ipynb",
            "output_path": "5a.mean_aggregated_anova_visualize.ipynb",
            "parameters": {},
            "start_time": "2024-10-09T15:16:06.428523",
            "version": "2.6.0"
        }
    },
    "nbformat": 4,
    "nbformat_minor": 5
}
