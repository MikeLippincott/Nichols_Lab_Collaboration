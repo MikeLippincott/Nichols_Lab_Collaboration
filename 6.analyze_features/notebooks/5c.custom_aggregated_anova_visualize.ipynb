{
    "cells": [
        {
            "cell_type": "code",
            "execution_count": null,
            "id": "603b4a74",
            "metadata": {
                "execution": {
                    "iopub.execute_input": "2024-10-08T22:00:39.672400Z",
                    "iopub.status.busy": "2024-10-08T22:00:39.670382Z",
                    "iopub.status.idle": "2024-10-08T22:00:40.029971Z",
                    "shell.execute_reply": "2024-10-08T22:00:40.028627Z"
                },
                "papermill": {
                    "duration": 0.381661,
                    "end_time": "2024-10-08T22:00:40.031191",
                    "exception": false,
                    "start_time": "2024-10-08T22:00:39.649530",
                    "status": "completed"
                },
                "tags": [],
                "vscode": {
                    "languageId": "r"
                }
            },
            "outputs": [],
            "source": [
                "# load libraries\n",
                "suppressWarnings(suppressPackageStartupMessages(library(ggplot2)))\n",
                "suppressWarnings(suppressPackageStartupMessages(library(dplyr)))\n",
                "suppressWarnings(suppressPackageStartupMessages(library(arrow)))\n",
                "suppressWarnings(suppressPackageStartupMessages(library(patchwork)))\n",
                "suppressWarnings(suppressPackageStartupMessages(library(ggsignif)))\n",
                "# import ggplot theme\n",
                "source(\"../../utils/figure_themes.r\")"
            ]
        },
        {
            "cell_type": "code",
            "execution_count": null,
            "id": "5a572dc3",
            "metadata": {
                "execution": {
                    "iopub.execute_input": "2024-10-08T22:00:40.049380Z",
                    "iopub.status.busy": "2024-10-08T22:00:40.035095Z",
                    "iopub.status.idle": "2024-10-08T22:00:40.245550Z",
                    "shell.execute_reply": "2024-10-08T22:00:40.244776Z"
                },
                "papermill": {
                    "duration": 0.21358,
                    "end_time": "2024-10-08T22:00:40.246595",
                    "exception": false,
                    "start_time": "2024-10-08T22:00:40.033015",
                    "status": "completed"
                },
                "tags": [],
                "vscode": {
                    "languageId": "r"
                }
            },
            "outputs": [],
            "source": [
                "# path to the anova data\n",
                "custom_aggregated_anova_genotype_df_path <- file.path(\"..\",\"..\",\"data\",\"6.analysis_results\",\"custom_aggregated_anova_results.parquet\")\n",
                "custom_aggregated_data_path <- file.path(\"..\",\"..\",\"data\",\"5.converted_data\",\"custom_aggregated_data.parquet\")\n",
                "fig_path <- file.path(\"..\",\"figures\",\"custom_aggregated\")\n",
                "# create the figure directory if it does not exist\n",
                "if (!dir.exists(fig_path)){\n",
                "  dir.create(fig_path, recursive = TRUE)\n",
                "}\n",
                "\n",
                "individual_fig_path <- file.path(fig_path,\"individual_features\")\n",
                "# create the figure directory if it does not exist\n",
                "if (!dir.exists(individual_fig_path)){\n",
                "  dir.create(individual_fig_path, recursive = TRUE)\n",
                "}\n",
                "\n",
                "barplot_fig_path <- file.path(individual_fig_path,\"barplot\")\n",
                "# create the figure directory if it does not exist\n",
                "if (!dir.exists(barplot_fig_path)){\n",
                "  dir.create(barplot_fig_path, recursive = TRUE)\n",
                "}\n",
                "\n",
                "boxplot_fig_path <- file.path(individual_fig_path,\"boxplot\")\n",
                "# create the figure directory if it does not exist\n",
                "if (!dir.exists(boxplot_fig_path)){\n",
                "  dir.create(boxplot_fig_path, recursive = TRUE)\n",
                "}\n",
                "\n",
                "\n",
                "# read the data\n",
                "custom_aggregated_data_df <- arrow::read_parquet(custom_aggregated_data_path)\n",
                "head(custom_aggregated_data_df)\n",
                "\n",
                "# read the anova data\n",
                "custom_aggregated_anova_df <- arrow::read_parquet(custom_aggregated_anova_genotype_df_path)\n"
            ]
        },
        {
            "cell_type": "markdown",
            "id": "6d87ffd1",
            "metadata": {
                "papermill": {
                    "duration": 0.001474,
                    "end_time": "2024-10-08T22:00:40.249939",
                    "exception": false,
                    "start_time": "2024-10-08T22:00:40.248465",
                    "status": "completed"
                },
                "tags": []
            },
            "source": [
                "## Genotype, side and identity level data"
            ]
        },
        {
            "cell_type": "markdown",
            "id": "7d732436",
            "metadata": {
                "papermill": {
                    "duration": 0.001427,
                    "end_time": "2024-10-08T22:00:40.252822",
                    "exception": false,
                    "start_time": "2024-10-08T22:00:40.251395",
                    "status": "completed"
                },
                "tags": []
            },
            "source": [
                "### ANOVA means"
            ]
        },
        {
            "cell_type": "code",
            "execution_count": null,
            "id": "fc69c991",
            "metadata": {
                "execution": {
                    "iopub.execute_input": "2024-10-08T22:00:40.260163Z",
                    "iopub.status.busy": "2024-10-08T22:00:40.259494Z",
                    "iopub.status.idle": "2024-10-08T22:00:40.294466Z",
                    "shell.execute_reply": "2024-10-08T22:00:40.293602Z"
                },
                "papermill": {
                    "duration": 0.038394,
                    "end_time": "2024-10-08T22:00:40.295477",
                    "exception": false,
                    "start_time": "2024-10-08T22:00:40.257083",
                    "status": "completed"
                },
                "tags": [],
                "vscode": {
                    "languageId": "r"
                }
            },
            "outputs": [],
            "source": [
                "\n",
                "custom_aggregated_anova_df$log10_anova_p_value <- -log10(custom_aggregated_anova_df$anova_p_value)\n",
                "# order the results by log10 anova p-value\n",
                "custom_aggregated_anova_df <- custom_aggregated_anova_df %>% arrange(log10_anova_p_value)\n",
                "# split the feature into 3 groups at \"_\"\n",
                "custom_aggregated_anova_df$feature_type <- sapply(strsplit(custom_aggregated_anova_df$feature, \"_\"), function(x) x[1])\n",
                "custom_aggregated_anova_df$feature_name <- sapply(strsplit(custom_aggregated_anova_df$feature, \"_\"), function(x) x[2])\n",
                "head(custom_aggregated_anova_df)\n"
            ]
        },
        {
            "cell_type": "code",
            "execution_count": null,
            "id": "4a7ac65f",
            "metadata": {
                "execution": {
                    "iopub.execute_input": "2024-10-08T22:00:40.300513Z",
                    "iopub.status.busy": "2024-10-08T22:00:40.299675Z",
                    "iopub.status.idle": "2024-10-08T22:00:42.745642Z",
                    "shell.execute_reply": "2024-10-08T22:00:42.744590Z"
                },
                "papermill": {
                    "duration": 2.451786,
                    "end_time": "2024-10-08T22:00:42.749029",
                    "exception": false,
                    "start_time": "2024-10-08T22:00:40.297243",
                    "status": "completed"
                },
                "tags": [],
                "vscode": {
                    "languageId": "r"
                }
            },
            "outputs": [],
            "source": [
                "width <- 20\n",
                "height <- 10\n",
                "options(repr.plot.width = width, repr.plot.height = height)\n",
                "anova_plot <- (\n",
                "    # order the results by log10 anova p-value\n",
                "    ggplot(custom_aggregated_anova_df, aes(y = reorder(feature, log10_anova_p_value), x = log10_anova_p_value, fill = feature_type))\n",
                "    + geom_bar(stat = \"identity\")\n",
                "    # drop y axis labels\n",
                "    + theme(axis.text.x = element_text(angle = 90, hjust = 1))\n",
                "    + labs(title = \"ANOVA Analysis\", y = \"Feature\", x = \"-log10(ANOVA p-value)\", fill = \"Feature Type\")\n",
                "   \n",
                "    + figure_theme\n",
                "\n",
                "\n",
                "    + theme(axis.text.y = element_blank(), panel.grid.major = element_blank(), panel.grid.minor = element_blank())\n",
                "    + theme(axis.text.y = element_blank())\n",
                "    + geom_hline(yintercept = length(unique(custom_aggregated_anova_df$feature))-10, linetype = \"dashed\", color = \"black\")\n",
                "     \n",
                ")\n",
                "anova_plot\n",
                "# save the plot\n",
                "ggsave(file = \"custom_aggregated_anova_plot.png\", plot = anova_plot, path = file.path(fig_path), width = width, height = height, dpi = 600)"
            ]
        },
        {
            "cell_type": "markdown",
            "id": "ca8d48ef",
            "metadata": {
                "papermill": {
                    "duration": 0.003491,
                    "end_time": "2024-10-08T22:00:42.756750",
                    "exception": false,
                    "start_time": "2024-10-08T22:00:42.753259",
                    "status": "completed"
                },
                "tags": []
            },
            "source": [
                "## Test for equality of variance "
            ]
        },
        {
            "cell_type": "code",
            "execution_count": null,
            "id": "4c856a9c",
            "metadata": {
                "execution": {
                    "iopub.execute_input": "2024-10-08T22:00:42.767406Z",
                    "iopub.status.busy": "2024-10-08T22:00:42.766461Z",
                    "iopub.status.idle": "2024-10-08T22:00:42.794354Z",
                    "shell.execute_reply": "2024-10-08T22:00:42.792976Z"
                },
                "papermill": {
                    "duration": 0.033883,
                    "end_time": "2024-10-08T22:00:42.795559",
                    "exception": false,
                    "start_time": "2024-10-08T22:00:42.761676",
                    "status": "completed"
                },
                "tags": [],
                "vscode": {
                    "languageId": "r"
                }
            },
            "outputs": [],
            "source": [
                "# load levene data in \n",
                "custom_aggregated_levene_df_path <- file.path(\"..\",\"..\",\"data\",\"6.analysis_results\",\"custom_aggregated_levene_test_results.csv\")\n",
                "custom_aggregated_levene_df <- read.csv(custom_aggregated_levene_df_path)\n",
                "# make a new column for ***\n",
                "custom_aggregated_levene_df$significance <- ifelse(\n",
                "    custom_aggregated_levene_df$levene_p_value < 0.001, \"***\", \n",
                "    ifelse(custom_aggregated_levene_df$levene_p_value < 0.01, \"**\", \n",
                "    ifelse(custom_aggregated_levene_df$levene_p_value < 0.05, \"*\", \n",
                "    \"ns\")\n",
                "    )\n",
                ")\n",
                "head(custom_aggregated_levene_df)"
            ]
        },
        {
            "cell_type": "markdown",
            "id": "933ce2af",
            "metadata": {
                "papermill": {
                    "duration": 0.005392,
                    "end_time": "2024-10-08T22:00:42.805058",
                    "exception": false,
                    "start_time": "2024-10-08T22:00:42.799666",
                    "status": "completed"
                },
                "tags": []
            },
            "source": [
                "### Variances"
            ]
        },
        {
            "cell_type": "code",
            "execution_count": null,
            "id": "8c5cb2a5",
            "metadata": {
                "execution": {
                    "iopub.execute_input": "2024-10-08T22:00:42.814675Z",
                    "iopub.status.busy": "2024-10-08T22:00:42.813695Z",
                    "iopub.status.idle": "2024-10-08T22:00:42.971595Z",
                    "shell.execute_reply": "2024-10-08T22:00:42.970136Z"
                },
                "papermill": {
                    "duration": 0.163951,
                    "end_time": "2024-10-08T22:00:42.972796",
                    "exception": false,
                    "start_time": "2024-10-08T22:00:42.808845",
                    "status": "completed"
                },
                "tags": [],
                "vscode": {
                    "languageId": "r"
                }
            },
            "outputs": [],
            "source": [
                "width <- 4\n",
                "height <- 4\n",
                "options(repr.plot.width = width, repr.plot.height = height)\n",
                "# make a new column for the group1 and group2\n",
                "custom_aggregated_anova_df$comparison <- paste(custom_aggregated_anova_df$group1, custom_aggregated_anova_df$group2, sep = \" - \")\n",
                "\n",
                "# order the results by anova p-value\n",
                "custom_aggregated_anova_df <- custom_aggregated_anova_df %>% arrange(anova_p_value)\n",
                "features <- unique(custom_aggregated_anova_df$feature)\n",
                "top_20_custom_aggregated_anova_df <- custom_aggregated_anova_df %>% filter(feature %in% features)\n",
                "top_20_custom_aggregated_anova_df$log10_tukey_p_value <- -log10(top_20_custom_aggregated_anova_df$`p-adj`)\n",
                "# make the genotype a factor\n",
                "# replace the genotype values\n",
                "custom_aggregated_data_df$Metadata_genotype <- gsub(\"wt\", \"Wild Type\", custom_aggregated_data_df$Metadata_genotype)\n",
                "custom_aggregated_data_df$Metadata_genotype <- gsub(\"unsel\", \"Mid-Severity\", custom_aggregated_data_df$Metadata_genotype)\n",
                "custom_aggregated_data_df$Metadata_genotype <- gsub(\"high\", \"High-Severity\", custom_aggregated_data_df$Metadata_genotype)\n",
                "custom_aggregated_data_df$Metadata_genotype <- factor(\n",
                "    custom_aggregated_data_df$Metadata_genotype, \n",
                "    levels = c(\"Wild Type\", \"Mid-Severity\", \"High-Severity\")\n",
                ")\n",
                "head(custom_aggregated_data_df)"
            ]
        },
        {
            "cell_type": "code",
            "execution_count": null,
            "id": "ab9b2dc6",
            "metadata": {
                "execution": {
                    "iopub.execute_input": "2024-10-08T22:00:42.984113Z",
                    "iopub.status.busy": "2024-10-08T22:00:42.983117Z",
                    "iopub.status.idle": "2024-10-08T22:01:03.808028Z",
                    "shell.execute_reply": "2024-10-08T22:01:03.806657Z"
                },
                "papermill": {
                    "duration": 20.831643,
                    "end_time": "2024-10-08T22:01:03.809407",
                    "exception": false,
                    "start_time": "2024-10-08T22:00:42.977764",
                    "status": "completed"
                },
                "tags": [],
                "vscode": {
                    "languageId": "r"
                }
            },
            "outputs": [],
            "source": [
                "width <- 8\n",
                "height <- 8\n",
                "\n",
                "list_of_variance_bar_plots <- list()\n",
                "list_of_feature_box_plots <- list()\n",
                "\n",
                "for (i in 1:length(features)){\n",
                "    print(features[i])\n",
                "    # get the top feature\n",
                "    tmp <- custom_aggregated_data_df %>% select(c(\"Metadata_genotype\", features[i]))\n",
                "    # aggregate the data to get the mean and standard deviation of the top feature\n",
                "    tmp <- tmp %>% group_by(Metadata_genotype) %>% summarise(mean = mean(!!as.name(features[i])), sd = sd(!!as.name(features[i])))\n",
                "\n",
                "    # get the levene test result for the selected feature\n",
                "    tmp_levene <- custom_aggregated_levene_df %>% filter(feature == features[i])\n",
                "    WT_vs_high_significance <- tmp_levene %>% filter(group == \"high_vs_wt\")\n",
                "    WT_vs_unsel_significance <- tmp_levene %>% filter(group == \"unsel_vs_wt\")\n",
                "    unsel_vs_high_significance <- tmp_levene %>% filter(group == \"high_vs_unsel\")\n",
                "    WT_vs_high_significance <- WT_vs_high_significance$significance\n",
                "    WT_vs_unsel_significance <- WT_vs_unsel_significance$significance\n",
                "    unsel_vs_high_significance <- unsel_vs_high_significance$significance\n",
                "\n",
                "    # calculate the variance where variance = sd^2\n",
                "    tmp$variance <- tmp$sd^2\n",
                "    title <- gsub(\"_\", \" \", features[i])\n",
                "\n",
                "    # get the max value of the variance\n",
                "    max_var <- max(tmp$variance)\n",
                "    # add 0.3 to the max value to get the y max\n",
                "    max_var_plot <- max_var + 0.4\n",
                "\n",
                "\n",
                "    # plot the variability of the top feature\n",
                "    var_plot <- (\n",
                "        ggplot(tmp, aes(x = Metadata_genotype, y = variance, fill = Metadata_genotype)) \n",
                "        + geom_bar(stat = \"identity\")\n",
                "        + theme(axis.text.x = element_text(angle = 90, hjust = 1))\n",
                "        + labs(title = title, x = \"Genotype\", y = \"Variance\", fill = \"Genotype\")\n",
                "        + theme_bw()\n",
                "        + figure_theme\n",
                "     \n",
                "        + geom_signif(\n",
                "            comparisons = list(c(\"High-Severity\",\"Mid-Severity\")), \n",
                "            annotations = unsel_vs_high_significance,\n",
                "            textsize = 7,\n",
                "            y_position = c(max_var+0.1, max_var+0.15)        \n",
                "            ) \n",
                "        + geom_signif(\n",
                "            comparisons = list(c(\"Wild Type\",\"Mid-Severity\")), \n",
                "            annotations = WT_vs_unsel_significance, \n",
                "            textsize = 7,\n",
                "            y_position = c(max_var+0.1, max_var+0.15)        \n",
                "            )\n",
                "        + geom_signif(\n",
                "            comparisons = list(c(\"High-Severity\",\"Wild Type\")), \n",
                "            annotations = WT_vs_high_significance,\n",
                "            textsize = 7,\n",
                "            y_position = c(max_var+0.2, max_var+0.25)        \n",
                "        )\n",
                "           # remove the legend\n",
                "        + theme(legend.position = \"none\")\n",
                "        + ylim(0,max_var_plot)\n",
                "    )\n",
                "    # save var plot\n",
                "    ggsave(file = paste0(\"custom_aggregated_\", features[i], \"_variance_plot_genotype.png\"), plot = var_plot, path = file.path(barplot_fig_path), width = width, height = height, dpi = 600)\n",
                "\n",
                "     # get the max value of the variance\n",
                "    max_coord <- max(custom_aggregated_data_df[[features[i]]])\n",
                "    min_coord <- min(custom_aggregated_data_df[[features[i]]])\n",
                "    # add 0.3 to the max value to get the y max\n",
                "    max_coord_plot <- max_coord + 1.2\n",
                "    min_coord_plot <- min_coord - 1.2\n",
                "    boxplot <- (\n",
                "        ggplot(custom_aggregated_data_df, aes(x = Metadata_genotype, y = !!as.name(features[i]), fill = Metadata_genotype))\n",
                "        + geom_boxplot()\n",
                "        + labs(title = title, x = \"Genotype\", y = title, fill = \"Genotype\")\n",
                "        + theme_bw()\n",
                "        + figure_theme\n",
                "        + theme(legend.position = \"none\")\n",
                "         + geom_signif(\n",
                "            comparisons = list(c(\"High-Severity\",\"Mid-Severity\")), \n",
                "            annotations = unsel_vs_high_significance,\n",
                "            textsize = 7,\n",
                "            y_position = c(max_coord+0.1, max_coord+0.15)        \n",
                "            ) \n",
                "        + geom_signif(\n",
                "            comparisons = list(c(\"Wild Type\",\"Mid-Severity\")), \n",
                "            annotations = WT_vs_unsel_significance, \n",
                "            textsize = 7,\n",
                "            y_position = c(max_coord+0.1, max_coord+0.15)        \n",
                "            )\n",
                "        + geom_signif(\n",
                "            comparisons = list(c(\"High-Severity\",\"Wild Type\")), \n",
                "            annotations = WT_vs_high_significance,\n",
                "            textsize = 7,\n",
                "            y_position = c(max_coord+0.7, max_coord+0.9)        \n",
                "        )\n",
                "           # remove the legend\n",
                "        + theme(legend.position = \"none\")\n",
                "        + ylim(min_coord_plot,max_coord_plot)\n",
                "        \n",
                "        \n",
                "    )\n",
                "    ggsave(file = paste0(\"custom_aggregated_\", features[i], \"_boxplot.png\"), plot = boxplot, path = file.path(boxplot_fig_path), width = width, height = height, dpi = 600)\n",
                "\n",
                "\n",
                "    list_of_variance_bar_plots[[i]] <- var_plot\n",
                "    list_of_feature_box_plots[[i]] <- boxplot\n",
                "}"
            ]
        },
        {
            "cell_type": "code",
            "execution_count": null,
            "id": "b18db9bc",
            "metadata": {
                "execution": {
                    "iopub.execute_input": "2024-10-08T22:01:03.823243Z",
                    "iopub.status.busy": "2024-10-08T22:01:03.822113Z",
                    "iopub.status.idle": "2024-10-08T22:01:07.931722Z",
                    "shell.execute_reply": "2024-10-08T22:01:07.930874Z"
                },
                "papermill": {
                    "duration": 4.11731,
                    "end_time": "2024-10-08T22:01:07.932850",
                    "exception": false,
                    "start_time": "2024-10-08T22:01:03.815540",
                    "status": "completed"
                },
                "tags": [],
                "vscode": {
                    "languageId": "r"
                }
            },
            "outputs": [],
            "source": [
                "width <- 10\n",
                "height <- 4\n",
                "options(repr.plot.width = width, repr.plot.height = height)\n",
                "for (plot in list_of_variance_bar_plots){\n",
                "    print(plot)\n",
                "}\n",
                "for (plot in list_of_feature_box_plots){\n",
                "    print(plot)\n",
                "}"
            ]
        }
    ],
    "metadata": {
        "kernelspec": {
            "display_name": "R",
            "language": "R",
            "name": "ir"
        },
        "language_info": {
            "codemirror_mode": "r",
            "file_extension": ".r",
            "mimetype": "text/x-r-source",
            "name": "R",
            "pygments_lexer": "r",
            "version": "4.2.2"
        },
        "papermill": {
            "default_parameters": {},
            "duration": 29.181909,
            "end_time": "2024-10-08T22:01:08.068721",
            "environment_variables": {},
            "exception": null,
            "input_path": "5a.mean_aggregated_anova_visualize.ipynb",
            "output_path": "5a.mean_aggregated_anova_visualize.ipynb",
            "parameters": {},
            "start_time": "2024-10-08T22:00:38.886812",
            "version": "2.6.0"
        }
    },
    "nbformat": 4,
    "nbformat_minor": 5
}
