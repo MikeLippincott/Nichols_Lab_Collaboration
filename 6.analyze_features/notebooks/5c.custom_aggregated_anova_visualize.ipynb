{
    "cells": [
        {
            "cell_type": "code",
            "execution_count": 1,
            "id": "ede7f634",
            "metadata": {
                "execution": {
                    "iopub.execute_input": "2024-05-04T20:35:24.409346Z",
                    "iopub.status.busy": "2024-05-04T20:35:24.407738Z",
                    "iopub.status.idle": "2024-05-04T20:35:24.748417Z",
                    "shell.execute_reply": "2024-05-04T20:35:24.747597Z"
                },
                "papermill": {
                    "duration": 0.363442,
                    "end_time": "2024-05-04T20:35:24.753927",
                    "exception": false,
                    "start_time": "2024-05-04T20:35:24.390485",
                    "status": "completed"
                },
                "tags": [],
                "vscode": {
                    "languageId": "r"
                }
            },
            "outputs": [],
            "source": [
                "# load libraries\n",
                "suppressWarnings(suppressPackageStartupMessages(library(ggplot2)))\n",
                "suppressWarnings(suppressPackageStartupMessages(library(dplyr)))\n",
                "suppressWarnings(suppressPackageStartupMessages(library(arrow)))\n",
                "suppressWarnings(suppressPackageStartupMessages(library(patchwork)))\n",
                "# import ggplot theme\n",
                "source(\"../../utils/figure_themes.r\")"
            ]
        },
        {
            "cell_type": "code",
            "execution_count": 2,
            "id": "52a8a02f",
            "metadata": {
                "execution": {
                    "iopub.execute_input": "2024-05-04T20:35:24.772213Z",
                    "iopub.status.busy": "2024-05-04T20:35:24.758274Z",
                    "iopub.status.idle": "2024-05-04T20:35:24.950966Z",
                    "shell.execute_reply": "2024-05-04T20:35:24.950211Z"
                },
                "papermill": {
                    "duration": 0.195999,
                    "end_time": "2024-05-04T20:35:24.951844",
                    "exception": false,
                    "start_time": "2024-05-04T20:35:24.755845",
                    "status": "completed"
                },
                "tags": [],
                "vscode": {
                    "languageId": "r"
                }
            },
            "outputs": [
                {
                    "data": {
                        "text/html": [
                            "<table class=\"dataframe\">\n",
                            "<caption>A tibble: 6 \u00d7 246</caption>\n",
                            "<thead>\n",
                            "\t<tr><th scope=col>Metadata_genotype</th><th scope=col>Metadata_replicate</th><th scope=col>AreaShape_Area</th><th scope=col>AreaShape_CentralMoment_0_0</th><th scope=col>AreaShape_CentralMoment_0_1</th><th scope=col>AreaShape_CentralMoment_0_2</th><th scope=col>AreaShape_CentralMoment_0_3</th><th scope=col>AreaShape_CentralMoment_1_0</th><th scope=col>AreaShape_CentralMoment_1_1</th><th scope=col>AreaShape_CentralMoment_1_2</th><th scope=col>\u22ef</th><th scope=col>Texture_SumEntropy_OP_3_02_256</th><th scope=col>Texture_SumEntropy_OP_3_03_256</th><th scope=col>Texture_SumVariance_OP_3_00_256</th><th scope=col>Texture_SumVariance_OP_3_01_256</th><th scope=col>Texture_SumVariance_OP_3_02_256</th><th scope=col>Texture_SumVariance_OP_3_03_256</th><th scope=col>Texture_Variance_OP_3_00_256</th><th scope=col>Texture_Variance_OP_3_01_256</th><th scope=col>Texture_Variance_OP_3_02_256</th><th scope=col>Texture_Variance_OP_3_03_256</th></tr>\n",
                            "\t<tr><th scope=col>&lt;chr&gt;</th><th scope=col>&lt;chr&gt;</th><th scope=col>&lt;dbl&gt;</th><th scope=col>&lt;dbl&gt;</th><th scope=col>&lt;dbl&gt;</th><th scope=col>&lt;dbl&gt;</th><th scope=col>&lt;dbl&gt;</th><th scope=col>&lt;dbl&gt;</th><th scope=col>&lt;dbl&gt;</th><th scope=col>&lt;dbl&gt;</th><th scope=col>\u22ef</th><th scope=col>&lt;dbl&gt;</th><th scope=col>&lt;dbl&gt;</th><th scope=col>&lt;dbl&gt;</th><th scope=col>&lt;dbl&gt;</th><th scope=col>&lt;dbl&gt;</th><th scope=col>&lt;dbl&gt;</th><th scope=col>&lt;dbl&gt;</th><th scope=col>&lt;dbl&gt;</th><th scope=col>&lt;dbl&gt;</th><th scope=col>&lt;dbl&gt;</th></tr>\n",
                            "</thead>\n",
                            "<tbody>\n",
                            "\t<tr><td>high</td><td>1 </td><td>1.192966</td><td>0.5964828</td><td> 0.54175256</td><td>-0.04923743</td><td> 0.7817362</td><td> 2.1009152</td><td>-0.9278737</td><td>-0.04298225</td><td>\u22ef</td><td>-0.2082104</td><td>-0.11903633</td><td>-1.0917116</td><td>-0.52502679</td><td>-1.0866094</td><td>-0.54458881</td><td>-1.1151266</td><td>-0.5621014</td><td>-1.1179528</td><td>-0.5608718</td></tr>\n",
                            "\t<tr><td>high</td><td>10</td><td>2.477908</td><td>1.2389540</td><td> 1.31962606</td><td> 1.72236419</td><td>-1.7485946</td><td> 0.1791951</td><td>-3.2895193</td><td> 0.82527013</td><td>\u22ef</td><td> 1.2939544</td><td> 0.63535604</td><td> 1.2613638</td><td> 0.64209101</td><td> 1.1875076</td><td> 0.63527378</td><td> 1.1157257</td><td> 0.5484734</td><td> 1.1219693</td><td> 0.5477695</td></tr>\n",
                            "\t<tr><td>high</td><td>11</td><td>4.262414</td><td>2.1312071</td><td> 1.26173108</td><td> 1.42646941</td><td> 0.5831822</td><td> 1.8012069</td><td>-0.5413249</td><td>-0.16430652</td><td>\u22ef</td><td> 1.3735418</td><td> 0.67823043</td><td> 1.1047649</td><td> 0.57082297</td><td> 1.0525320</td><td> 0.54847464</td><td> 0.9976509</td><td> 0.4862685</td><td> 1.0001664</td><td> 0.4902130</td></tr>\n",
                            "\t<tr><td>high</td><td>12</td><td>2.402476</td><td>1.2012381</td><td> 0.04988604</td><td> 1.27911918</td><td>-0.9281710</td><td>-1.6528531</td><td>-1.9646186</td><td> 0.10767961</td><td>\u22ef</td><td> 0.6190094</td><td> 0.30893327</td><td>-0.1095573</td><td>-0.05987619</td><td>-0.1967998</td><td>-0.06793023</td><td>-0.2075640</td><td>-0.1093674</td><td>-0.2021711</td><td>-0.1067718</td></tr>\n",
                            "\t<tr><td>high</td><td>13</td><td>2.389777</td><td>1.1948884</td><td>-1.10873607</td><td>-0.03446555</td><td> 0.1017650</td><td>-1.3449799</td><td>-0.9673454</td><td>-0.79443383</td><td>\u22ef</td><td> 0.1134128</td><td> 0.04774139</td><td>-0.6503412</td><td>-0.29567384</td><td>-0.6420772</td><td>-0.32243559</td><td>-0.6968174</td><td>-0.3562547</td><td>-0.7005716</td><td>-0.3521677</td></tr>\n",
                            "\t<tr><td>high</td><td>14</td><td>4.553584</td><td>2.2767921</td><td>-4.77707191</td><td> 1.69171903</td><td> 0.2514737</td><td>-0.7138870</td><td>-3.1808175</td><td> 0.11087396</td><td>\u22ef</td><td> 2.0541319</td><td> 1.02583400</td><td> 2.5108502</td><td> 1.27093366</td><td> 2.4192843</td><td> 1.24875506</td><td> 2.3347969</td><td> 1.1480302</td><td> 2.3437433</td><td> 1.1541288</td></tr>\n",
                            "</tbody>\n",
                            "</table>\n"
                        ],
                        "text/latex": [
                            "A tibble: 6 \u00d7 246\n",
                            "\\begin{tabular}{lllllllllllllllllllll}\n",
                            " Metadata\\_genotype & Metadata\\_replicate & AreaShape\\_Area & AreaShape\\_CentralMoment\\_0\\_0 & AreaShape\\_CentralMoment\\_0\\_1 & AreaShape\\_CentralMoment\\_0\\_2 & AreaShape\\_CentralMoment\\_0\\_3 & AreaShape\\_CentralMoment\\_1\\_0 & AreaShape\\_CentralMoment\\_1\\_1 & AreaShape\\_CentralMoment\\_1\\_2 & \u22ef & Texture\\_SumEntropy\\_OP\\_3\\_02\\_256 & Texture\\_SumEntropy\\_OP\\_3\\_03\\_256 & Texture\\_SumVariance\\_OP\\_3\\_00\\_256 & Texture\\_SumVariance\\_OP\\_3\\_01\\_256 & Texture\\_SumVariance\\_OP\\_3\\_02\\_256 & Texture\\_SumVariance\\_OP\\_3\\_03\\_256 & Texture\\_Variance\\_OP\\_3\\_00\\_256 & Texture\\_Variance\\_OP\\_3\\_01\\_256 & Texture\\_Variance\\_OP\\_3\\_02\\_256 & Texture\\_Variance\\_OP\\_3\\_03\\_256\\\\\n",
                            " <chr> & <chr> & <dbl> & <dbl> & <dbl> & <dbl> & <dbl> & <dbl> & <dbl> & <dbl> & \u22ef & <dbl> & <dbl> & <dbl> & <dbl> & <dbl> & <dbl> & <dbl> & <dbl> & <dbl> & <dbl>\\\\\n",
                            "\\hline\n",
                            "\t high & 1  & 1.192966 & 0.5964828 &  0.54175256 & -0.04923743 &  0.7817362 &  2.1009152 & -0.9278737 & -0.04298225 & \u22ef & -0.2082104 & -0.11903633 & -1.0917116 & -0.52502679 & -1.0866094 & -0.54458881 & -1.1151266 & -0.5621014 & -1.1179528 & -0.5608718\\\\\n",
                            "\t high & 10 & 2.477908 & 1.2389540 &  1.31962606 &  1.72236419 & -1.7485946 &  0.1791951 & -3.2895193 &  0.82527013 & \u22ef &  1.2939544 &  0.63535604 &  1.2613638 &  0.64209101 &  1.1875076 &  0.63527378 &  1.1157257 &  0.5484734 &  1.1219693 &  0.5477695\\\\\n",
                            "\t high & 11 & 4.262414 & 2.1312071 &  1.26173108 &  1.42646941 &  0.5831822 &  1.8012069 & -0.5413249 & -0.16430652 & \u22ef &  1.3735418 &  0.67823043 &  1.1047649 &  0.57082297 &  1.0525320 &  0.54847464 &  0.9976509 &  0.4862685 &  1.0001664 &  0.4902130\\\\\n",
                            "\t high & 12 & 2.402476 & 1.2012381 &  0.04988604 &  1.27911918 & -0.9281710 & -1.6528531 & -1.9646186 &  0.10767961 & \u22ef &  0.6190094 &  0.30893327 & -0.1095573 & -0.05987619 & -0.1967998 & -0.06793023 & -0.2075640 & -0.1093674 & -0.2021711 & -0.1067718\\\\\n",
                            "\t high & 13 & 2.389777 & 1.1948884 & -1.10873607 & -0.03446555 &  0.1017650 & -1.3449799 & -0.9673454 & -0.79443383 & \u22ef &  0.1134128 &  0.04774139 & -0.6503412 & -0.29567384 & -0.6420772 & -0.32243559 & -0.6968174 & -0.3562547 & -0.7005716 & -0.3521677\\\\\n",
                            "\t high & 14 & 4.553584 & 2.2767921 & -4.77707191 &  1.69171903 &  0.2514737 & -0.7138870 & -3.1808175 &  0.11087396 & \u22ef &  2.0541319 &  1.02583400 &  2.5108502 &  1.27093366 &  2.4192843 &  1.24875506 &  2.3347969 &  1.1480302 &  2.3437433 &  1.1541288\\\\\n",
                            "\\end{tabular}\n"
                        ],
                        "text/markdown": [
                            "\n",
                            "A tibble: 6 \u00d7 246\n",
                            "\n",
                            "| Metadata_genotype &lt;chr&gt; | Metadata_replicate &lt;chr&gt; | AreaShape_Area &lt;dbl&gt; | AreaShape_CentralMoment_0_0 &lt;dbl&gt; | AreaShape_CentralMoment_0_1 &lt;dbl&gt; | AreaShape_CentralMoment_0_2 &lt;dbl&gt; | AreaShape_CentralMoment_0_3 &lt;dbl&gt; | AreaShape_CentralMoment_1_0 &lt;dbl&gt; | AreaShape_CentralMoment_1_1 &lt;dbl&gt; | AreaShape_CentralMoment_1_2 &lt;dbl&gt; | \u22ef \u22ef | Texture_SumEntropy_OP_3_02_256 &lt;dbl&gt; | Texture_SumEntropy_OP_3_03_256 &lt;dbl&gt; | Texture_SumVariance_OP_3_00_256 &lt;dbl&gt; | Texture_SumVariance_OP_3_01_256 &lt;dbl&gt; | Texture_SumVariance_OP_3_02_256 &lt;dbl&gt; | Texture_SumVariance_OP_3_03_256 &lt;dbl&gt; | Texture_Variance_OP_3_00_256 &lt;dbl&gt; | Texture_Variance_OP_3_01_256 &lt;dbl&gt; | Texture_Variance_OP_3_02_256 &lt;dbl&gt; | Texture_Variance_OP_3_03_256 &lt;dbl&gt; |\n",
                            "|---|---|---|---|---|---|---|---|---|---|---|---|---|---|---|---|---|---|---|---|---|\n",
                            "| high | 1  | 1.192966 | 0.5964828 |  0.54175256 | -0.04923743 |  0.7817362 |  2.1009152 | -0.9278737 | -0.04298225 | \u22ef | -0.2082104 | -0.11903633 | -1.0917116 | -0.52502679 | -1.0866094 | -0.54458881 | -1.1151266 | -0.5621014 | -1.1179528 | -0.5608718 |\n",
                            "| high | 10 | 2.477908 | 1.2389540 |  1.31962606 |  1.72236419 | -1.7485946 |  0.1791951 | -3.2895193 |  0.82527013 | \u22ef |  1.2939544 |  0.63535604 |  1.2613638 |  0.64209101 |  1.1875076 |  0.63527378 |  1.1157257 |  0.5484734 |  1.1219693 |  0.5477695 |\n",
                            "| high | 11 | 4.262414 | 2.1312071 |  1.26173108 |  1.42646941 |  0.5831822 |  1.8012069 | -0.5413249 | -0.16430652 | \u22ef |  1.3735418 |  0.67823043 |  1.1047649 |  0.57082297 |  1.0525320 |  0.54847464 |  0.9976509 |  0.4862685 |  1.0001664 |  0.4902130 |\n",
                            "| high | 12 | 2.402476 | 1.2012381 |  0.04988604 |  1.27911918 | -0.9281710 | -1.6528531 | -1.9646186 |  0.10767961 | \u22ef |  0.6190094 |  0.30893327 | -0.1095573 | -0.05987619 | -0.1967998 | -0.06793023 | -0.2075640 | -0.1093674 | -0.2021711 | -0.1067718 |\n",
                            "| high | 13 | 2.389777 | 1.1948884 | -1.10873607 | -0.03446555 |  0.1017650 | -1.3449799 | -0.9673454 | -0.79443383 | \u22ef |  0.1134128 |  0.04774139 | -0.6503412 | -0.29567384 | -0.6420772 | -0.32243559 | -0.6968174 | -0.3562547 | -0.7005716 | -0.3521677 |\n",
                            "| high | 14 | 4.553584 | 2.2767921 | -4.77707191 |  1.69171903 |  0.2514737 | -0.7138870 | -3.1808175 |  0.11087396 | \u22ef |  2.0541319 |  1.02583400 |  2.5108502 |  1.27093366 |  2.4192843 |  1.24875506 |  2.3347969 |  1.1480302 |  2.3437433 |  1.1541288 |\n",
                            "\n"
                        ],
                        "text/plain": [
                            "  Metadata_genotype Metadata_replicate AreaShape_Area\n",
                            "1 high              1                  1.192966      \n",
                            "2 high              10                 2.477908      \n",
                            "3 high              11                 4.262414      \n",
                            "4 high              12                 2.402476      \n",
                            "5 high              13                 2.389777      \n",
                            "6 high              14                 4.553584      \n",
                            "  AreaShape_CentralMoment_0_0 AreaShape_CentralMoment_0_1\n",
                            "1 0.5964828                    0.54175256                \n",
                            "2 1.2389540                    1.31962606                \n",
                            "3 2.1312071                    1.26173108                \n",
                            "4 1.2012381                    0.04988604                \n",
                            "5 1.1948884                   -1.10873607                \n",
                            "6 2.2767921                   -4.77707191                \n",
                            "  AreaShape_CentralMoment_0_2 AreaShape_CentralMoment_0_3\n",
                            "1 -0.04923743                  0.7817362                 \n",
                            "2  1.72236419                 -1.7485946                 \n",
                            "3  1.42646941                  0.5831822                 \n",
                            "4  1.27911918                 -0.9281710                 \n",
                            "5 -0.03446555                  0.1017650                 \n",
                            "6  1.69171903                  0.2514737                 \n",
                            "  AreaShape_CentralMoment_1_0 AreaShape_CentralMoment_1_1\n",
                            "1  2.1009152                  -0.9278737                 \n",
                            "2  0.1791951                  -3.2895193                 \n",
                            "3  1.8012069                  -0.5413249                 \n",
                            "4 -1.6528531                  -1.9646186                 \n",
                            "5 -1.3449799                  -0.9673454                 \n",
                            "6 -0.7138870                  -3.1808175                 \n",
                            "  AreaShape_CentralMoment_1_2 \u22ef Texture_SumEntropy_OP_3_02_256\n",
                            "1 -0.04298225                 \u22ef -0.2082104                    \n",
                            "2  0.82527013                 \u22ef  1.2939544                    \n",
                            "3 -0.16430652                 \u22ef  1.3735418                    \n",
                            "4  0.10767961                 \u22ef  0.6190094                    \n",
                            "5 -0.79443383                 \u22ef  0.1134128                    \n",
                            "6  0.11087396                 \u22ef  2.0541319                    \n",
                            "  Texture_SumEntropy_OP_3_03_256 Texture_SumVariance_OP_3_00_256\n",
                            "1 -0.11903633                    -1.0917116                     \n",
                            "2  0.63535604                     1.2613638                     \n",
                            "3  0.67823043                     1.1047649                     \n",
                            "4  0.30893327                    -0.1095573                     \n",
                            "5  0.04774139                    -0.6503412                     \n",
                            "6  1.02583400                     2.5108502                     \n",
                            "  Texture_SumVariance_OP_3_01_256 Texture_SumVariance_OP_3_02_256\n",
                            "1 -0.52502679                     -1.0866094                     \n",
                            "2  0.64209101                      1.1875076                     \n",
                            "3  0.57082297                      1.0525320                     \n",
                            "4 -0.05987619                     -0.1967998                     \n",
                            "5 -0.29567384                     -0.6420772                     \n",
                            "6  1.27093366                      2.4192843                     \n",
                            "  Texture_SumVariance_OP_3_03_256 Texture_Variance_OP_3_00_256\n",
                            "1 -0.54458881                     -1.1151266                  \n",
                            "2  0.63527378                      1.1157257                  \n",
                            "3  0.54847464                      0.9976509                  \n",
                            "4 -0.06793023                     -0.2075640                  \n",
                            "5 -0.32243559                     -0.6968174                  \n",
                            "6  1.24875506                      2.3347969                  \n",
                            "  Texture_Variance_OP_3_01_256 Texture_Variance_OP_3_02_256\n",
                            "1 -0.5621014                   -1.1179528                  \n",
                            "2  0.5484734                    1.1219693                  \n",
                            "3  0.4862685                    1.0001664                  \n",
                            "4 -0.1093674                   -0.2021711                  \n",
                            "5 -0.3562547                   -0.7005716                  \n",
                            "6  1.1480302                    2.3437433                  \n",
                            "  Texture_Variance_OP_3_03_256\n",
                            "1 -0.5608718                  \n",
                            "2  0.5477695                  \n",
                            "3  0.4902130                  \n",
                            "4 -0.1067718                  \n",
                            "5 -0.3521677                  \n",
                            "6  1.1541288                  "
                        ]
                    },
                    "metadata": {},
                    "output_type": "display_data"
                }
            ],
            "source": [
                "# path to the anova data\n",
                "custom_aggregated_anova_genotype_df_path <- file.path(\"..\",\"..\",\"data\",\"6.analysis_results\",\"custom_aggregated_anova_results.parquet\")\n",
                "custom_aggregated_data_path <- file.path(\"..\",\"..\",\"data\",\"5.converted_data\",\"custom_aggregated_data.parquet\")\n",
                "fig_path <- file.path(\"..\",\"figures\",\"custom_aggregated\")\n",
                "# create the figure directory if it does not exist\n",
                "if (!dir.exists(fig_path)){\n",
                "  dir.create(fig_path, recursive = TRUE)\n",
                "}\n",
                "\n",
                "# read the data\n",
                "custom_aggregated_data_df <- arrow::read_parquet(custom_aggregated_data_path)\n",
                "head(custom_aggregated_data_df)\n",
                "\n",
                "# read the anova data\n",
                "custom_aggregated_anova_df <- arrow::read_parquet(custom_aggregated_anova_genotype_df_path)\n"
            ]
        },
        {
            "cell_type": "markdown",
            "id": "7c6b5dda",
            "metadata": {
                "papermill": {
                    "duration": 0.002102,
                    "end_time": "2024-05-04T20:35:24.955926",
                    "exception": false,
                    "start_time": "2024-05-04T20:35:24.953824",
                    "status": "completed"
                },
                "tags": []
            },
            "source": [
                "## Genotype, side and identity level data"
            ]
        },
        {
            "cell_type": "markdown",
            "id": "5cd4953c",
            "metadata": {
                "papermill": {
                    "duration": 0.002151,
                    "end_time": "2024-05-04T20:35:24.960052",
                    "exception": false,
                    "start_time": "2024-05-04T20:35:24.957901",
                    "status": "completed"
                },
                "tags": []
            },
            "source": [
                "### ANOVA means"
            ]
        },
        {
            "cell_type": "code",
            "execution_count": 3,
            "id": "1a6cf350",
            "metadata": {
                "execution": {
                    "iopub.execute_input": "2024-05-04T20:35:24.965301Z",
                    "iopub.status.busy": "2024-05-04T20:35:24.964643Z",
                    "iopub.status.idle": "2024-05-04T20:35:24.988806Z",
                    "shell.execute_reply": "2024-05-04T20:35:24.988137Z"
                },
                "papermill": {
                    "duration": 0.02751,
                    "end_time": "2024-05-04T20:35:24.989648",
                    "exception": false,
                    "start_time": "2024-05-04T20:35:24.962138",
                    "status": "completed"
                },
                "tags": [],
                "vscode": {
                    "languageId": "r"
                }
            },
            "outputs": [
                {
                    "data": {
                        "text/html": [
                            "<table class=\"dataframe\">\n",
                            "<caption>A tibble: 6 \u00d7 12</caption>\n",
                            "<thead>\n",
                            "\t<tr><th scope=col>group1</th><th scope=col>group2</th><th scope=col>meandiff</th><th scope=col>p-adj</th><th scope=col>lower</th><th scope=col>upper</th><th scope=col>reject</th><th scope=col>feature</th><th scope=col>anova_p_value</th><th scope=col>log10_anova_p_value</th><th scope=col>feature_type</th><th scope=col>feature_name</th></tr>\n",
                            "\t<tr><th scope=col>&lt;chr&gt;</th><th scope=col>&lt;chr&gt;</th><th scope=col>&lt;dbl&gt;</th><th scope=col>&lt;dbl&gt;</th><th scope=col>&lt;dbl&gt;</th><th scope=col>&lt;dbl&gt;</th><th scope=col>&lt;lgl&gt;</th><th scope=col>&lt;chr&gt;</th><th scope=col>&lt;dbl&gt;</th><th scope=col>&lt;dbl&gt;</th><th scope=col>&lt;chr&gt;</th><th scope=col>&lt;chr&gt;</th></tr>\n",
                            "</thead>\n",
                            "<tbody>\n",
                            "\t<tr><td>high </td><td>unsel</td><td> 0.0825</td><td>0.9923</td><td>-1.6185</td><td>1.7835</td><td>FALSE</td><td>RadialDistribution_ZernikePhase_OP_7_5</td><td>0.9666994</td><td>0.01470857</td><td>RadialDistribution</td><td>ZernikePhase </td></tr>\n",
                            "\t<tr><td>high </td><td>wt   </td><td> 0.1815</td><td>0.9635</td><td>-1.5195</td><td>1.8825</td><td>FALSE</td><td>RadialDistribution_ZernikePhase_OP_7_5</td><td>0.9666994</td><td>0.01470857</td><td>RadialDistribution</td><td>ZernikePhase </td></tr>\n",
                            "\t<tr><td>unsel</td><td>wt   </td><td> 0.0991</td><td>0.9890</td><td>-1.6019</td><td>1.8001</td><td>FALSE</td><td>RadialDistribution_ZernikePhase_OP_7_5</td><td>0.9666994</td><td>0.01470857</td><td>RadialDistribution</td><td>ZernikePhase </td></tr>\n",
                            "\t<tr><td>high </td><td>unsel</td><td>-0.0133</td><td>0.9991</td><td>-0.8050</td><td>0.7785</td><td>FALSE</td><td>AreaShape_CentralMoment_1_0           </td><td>0.9440693</td><td>0.02499612</td><td>AreaShape         </td><td>CentralMoment</td></tr>\n",
                            "\t<tr><td>high </td><td>wt   </td><td> 0.0882</td><td>0.9602</td><td>-0.7035</td><td>0.8800</td><td>FALSE</td><td>AreaShape_CentralMoment_1_0           </td><td>0.9440693</td><td>0.02499612</td><td>AreaShape         </td><td>CentralMoment</td></tr>\n",
                            "\t<tr><td>unsel</td><td>wt   </td><td> 0.1015</td><td>0.9477</td><td>-0.6902</td><td>0.8932</td><td>FALSE</td><td>AreaShape_CentralMoment_1_0           </td><td>0.9440693</td><td>0.02499612</td><td>AreaShape         </td><td>CentralMoment</td></tr>\n",
                            "</tbody>\n",
                            "</table>\n"
                        ],
                        "text/latex": [
                            "A tibble: 6 \u00d7 12\n",
                            "\\begin{tabular}{llllllllllll}\n",
                            " group1 & group2 & meandiff & p-adj & lower & upper & reject & feature & anova\\_p\\_value & log10\\_anova\\_p\\_value & feature\\_type & feature\\_name\\\\\n",
                            " <chr> & <chr> & <dbl> & <dbl> & <dbl> & <dbl> & <lgl> & <chr> & <dbl> & <dbl> & <chr> & <chr>\\\\\n",
                            "\\hline\n",
                            "\t high  & unsel &  0.0825 & 0.9923 & -1.6185 & 1.7835 & FALSE & RadialDistribution\\_ZernikePhase\\_OP\\_7\\_5 & 0.9666994 & 0.01470857 & RadialDistribution & ZernikePhase \\\\\n",
                            "\t high  & wt    &  0.1815 & 0.9635 & -1.5195 & 1.8825 & FALSE & RadialDistribution\\_ZernikePhase\\_OP\\_7\\_5 & 0.9666994 & 0.01470857 & RadialDistribution & ZernikePhase \\\\\n",
                            "\t unsel & wt    &  0.0991 & 0.9890 & -1.6019 & 1.8001 & FALSE & RadialDistribution\\_ZernikePhase\\_OP\\_7\\_5 & 0.9666994 & 0.01470857 & RadialDistribution & ZernikePhase \\\\\n",
                            "\t high  & unsel & -0.0133 & 0.9991 & -0.8050 & 0.7785 & FALSE & AreaShape\\_CentralMoment\\_1\\_0            & 0.9440693 & 0.02499612 & AreaShape          & CentralMoment\\\\\n",
                            "\t high  & wt    &  0.0882 & 0.9602 & -0.7035 & 0.8800 & FALSE & AreaShape\\_CentralMoment\\_1\\_0            & 0.9440693 & 0.02499612 & AreaShape          & CentralMoment\\\\\n",
                            "\t unsel & wt    &  0.1015 & 0.9477 & -0.6902 & 0.8932 & FALSE & AreaShape\\_CentralMoment\\_1\\_0            & 0.9440693 & 0.02499612 & AreaShape          & CentralMoment\\\\\n",
                            "\\end{tabular}\n"
                        ],
                        "text/markdown": [
                            "\n",
                            "A tibble: 6 \u00d7 12\n",
                            "\n",
                            "| group1 &lt;chr&gt; | group2 &lt;chr&gt; | meandiff &lt;dbl&gt; | p-adj &lt;dbl&gt; | lower &lt;dbl&gt; | upper &lt;dbl&gt; | reject &lt;lgl&gt; | feature &lt;chr&gt; | anova_p_value &lt;dbl&gt; | log10_anova_p_value &lt;dbl&gt; | feature_type &lt;chr&gt; | feature_name &lt;chr&gt; |\n",
                            "|---|---|---|---|---|---|---|---|---|---|---|---|\n",
                            "| high  | unsel |  0.0825 | 0.9923 | -1.6185 | 1.7835 | FALSE | RadialDistribution_ZernikePhase_OP_7_5 | 0.9666994 | 0.01470857 | RadialDistribution | ZernikePhase  |\n",
                            "| high  | wt    |  0.1815 | 0.9635 | -1.5195 | 1.8825 | FALSE | RadialDistribution_ZernikePhase_OP_7_5 | 0.9666994 | 0.01470857 | RadialDistribution | ZernikePhase  |\n",
                            "| unsel | wt    |  0.0991 | 0.9890 | -1.6019 | 1.8001 | FALSE | RadialDistribution_ZernikePhase_OP_7_5 | 0.9666994 | 0.01470857 | RadialDistribution | ZernikePhase  |\n",
                            "| high  | unsel | -0.0133 | 0.9991 | -0.8050 | 0.7785 | FALSE | AreaShape_CentralMoment_1_0            | 0.9440693 | 0.02499612 | AreaShape          | CentralMoment |\n",
                            "| high  | wt    |  0.0882 | 0.9602 | -0.7035 | 0.8800 | FALSE | AreaShape_CentralMoment_1_0            | 0.9440693 | 0.02499612 | AreaShape          | CentralMoment |\n",
                            "| unsel | wt    |  0.1015 | 0.9477 | -0.6902 | 0.8932 | FALSE | AreaShape_CentralMoment_1_0            | 0.9440693 | 0.02499612 | AreaShape          | CentralMoment |\n",
                            "\n"
                        ],
                        "text/plain": [
                            "  group1 group2 meandiff p-adj  lower   upper  reject\n",
                            "1 high   unsel   0.0825  0.9923 -1.6185 1.7835 FALSE \n",
                            "2 high   wt      0.1815  0.9635 -1.5195 1.8825 FALSE \n",
                            "3 unsel  wt      0.0991  0.9890 -1.6019 1.8001 FALSE \n",
                            "4 high   unsel  -0.0133  0.9991 -0.8050 0.7785 FALSE \n",
                            "5 high   wt      0.0882  0.9602 -0.7035 0.8800 FALSE \n",
                            "6 unsel  wt      0.1015  0.9477 -0.6902 0.8932 FALSE \n",
                            "  feature                                anova_p_value log10_anova_p_value\n",
                            "1 RadialDistribution_ZernikePhase_OP_7_5 0.9666994     0.01470857         \n",
                            "2 RadialDistribution_ZernikePhase_OP_7_5 0.9666994     0.01470857         \n",
                            "3 RadialDistribution_ZernikePhase_OP_7_5 0.9666994     0.01470857         \n",
                            "4 AreaShape_CentralMoment_1_0            0.9440693     0.02499612         \n",
                            "5 AreaShape_CentralMoment_1_0            0.9440693     0.02499612         \n",
                            "6 AreaShape_CentralMoment_1_0            0.9440693     0.02499612         \n",
                            "  feature_type       feature_name \n",
                            "1 RadialDistribution ZernikePhase \n",
                            "2 RadialDistribution ZernikePhase \n",
                            "3 RadialDistribution ZernikePhase \n",
                            "4 AreaShape          CentralMoment\n",
                            "5 AreaShape          CentralMoment\n",
                            "6 AreaShape          CentralMoment"
                        ]
                    },
                    "metadata": {},
                    "output_type": "display_data"
                }
            ],
            "source": [
                "\n",
                "custom_aggregated_anova_df$log10_anova_p_value <- -log10(custom_aggregated_anova_df$anova_p_value)\n",
                "# order the results by log10 anova p-value\n",
                "custom_aggregated_anova_df <- custom_aggregated_anova_df %>% arrange(log10_anova_p_value)\n",
                "# split the feature into 3 groups at \"_\"\n",
                "custom_aggregated_anova_df$feature_type <- sapply(strsplit(custom_aggregated_anova_df$feature, \"_\"), function(x) x[1])\n",
                "custom_aggregated_anova_df$feature_name <- sapply(strsplit(custom_aggregated_anova_df$feature, \"_\"), function(x) x[2])\n",
                "head(custom_aggregated_anova_df)\n"
            ]
        },
        {
            "cell_type": "code",
            "execution_count": 4,
            "id": "a2d7686e",
            "metadata": {
                "execution": {
                    "iopub.execute_input": "2024-05-04T20:35:24.995296Z",
                    "iopub.status.busy": "2024-05-04T20:35:24.994421Z",
                    "iopub.status.idle": "2024-05-04T20:35:27.236299Z",
                    "shell.execute_reply": "2024-05-04T20:35:27.235597Z"
                },
                "papermill": {
                    "duration": 2.246074,
                    "end_time": "2024-05-04T20:35:27.237543",
                    "exception": false,
                    "start_time": "2024-05-04T20:35:24.991469",
                    "status": "completed"
                },
                "tags": [],
                "vscode": {
                    "languageId": "r"
                }
            },
            "outputs": [
                {
                    "data": {
                        "image/png": "[encoded data removed]",
                        "text/plain": [
                            "plot without title"
                        ]
                    },
                    "metadata": {
                        "image/png": {
                            "height": 600,
                            "width": 1200
                        }
                    },
                    "output_type": "display_data"
                }
            ],
            "source": [
                "width <- 20\n",
                "height <- 10\n",
                "options(repr.plot.width = width, repr.plot.height = height)\n",
                "anova_plot <- (\n",
                "    # order the results by log10 anova p-value\n",
                "    ggplot(custom_aggregated_anova_df, aes(y = reorder(feature, log10_anova_p_value), x = log10_anova_p_value, fill = feature_type))\n",
                "    + geom_bar(stat = \"identity\")\n",
                "    # drop y axis labels\n",
                "    + theme(axis.text.x = element_text(angle = 90, hjust = 1))\n",
                "    + labs(title = \"ANOVA Analysis\", y = \"Feature\", x = \"-log10(ANOVA p-value)\", fill = \"Feature Type\")\n",
                "   \n",
                "    + figure_theme\n",
                "\n",
                "\n",
                "    + theme(axis.text.y = element_blank(), panel.grid.major = element_blank(), panel.grid.minor = element_blank())\n",
                "    + theme(axis.text.y = element_blank())\n",
                "    + geom_hline(yintercept = length(unique(custom_aggregated_anova_df$feature))-10, linetype = \"dashed\", color = \"black\")\n",
                "     \n",
                ")\n",
                "anova_plot\n",
                "# save the plot\n",
                "ggsave(file = \"custom_aggregatednova_plot.png\", plot = anova_plot, path = file.path(fig_path), width = width, height = height, dpi = 600)"
            ]
        },
        {
            "cell_type": "markdown",
            "id": "d63f3471",
            "metadata": {
                "papermill": {
                    "duration": 0.002702,
                    "end_time": "2024-05-04T20:35:27.242497",
                    "exception": false,
                    "start_time": "2024-05-04T20:35:27.239795",
                    "status": "completed"
                },
                "tags": []
            },
            "source": [
                "## Test for equality of variance "
            ]
        },
        {
            "cell_type": "code",
            "execution_count": 5,
            "id": "6528a401",
            "metadata": {
                "execution": {
                    "iopub.execute_input": "2024-05-04T20:35:27.249638Z",
                    "iopub.status.busy": "2024-05-04T20:35:27.249006Z",
                    "iopub.status.idle": "2024-05-04T20:35:27.264112Z",
                    "shell.execute_reply": "2024-05-04T20:35:27.263421Z"
                },
                "papermill": {
                    "duration": 0.019629,
                    "end_time": "2024-05-04T20:35:27.264976",
                    "exception": false,
                    "start_time": "2024-05-04T20:35:27.245347",
                    "status": "completed"
                },
                "tags": [],
                "vscode": {
                    "languageId": "r"
                }
            },
            "outputs": [
                {
                    "data": {
                        "text/html": [
                            "<table class=\"dataframe\">\n",
                            "<caption>A data.frame: 6 \u00d7 5</caption>\n",
                            "<thead>\n",
                            "\t<tr><th></th><th scope=col>X</th><th scope=col>feature</th><th scope=col>levene_statistic</th><th scope=col>levene_p_value</th><th scope=col>group</th></tr>\n",
                            "\t<tr><th></th><th scope=col>&lt;int&gt;</th><th scope=col>&lt;chr&gt;</th><th scope=col>&lt;dbl&gt;</th><th scope=col>&lt;dbl&gt;</th><th scope=col>&lt;chr&gt;</th></tr>\n",
                            "</thead>\n",
                            "<tbody>\n",
                            "\t<tr><th scope=row>1</th><td>909</td><td>RadialDistribution_ZernikePhase_OP_6_6</td><td>1.928452e-03</td><td>0.9980735</td><td>all          </td></tr>\n",
                            "\t<tr><th scope=row>2</th><td> 90</td><td>AreaShape_Zernike_8_4                 </td><td>1.841247e-05</td><td>0.9966091</td><td>high_vs_unsel</td></tr>\n",
                            "\t<tr><th scope=row>3</th><td>540</td><td>AreaShape_NormalizedMoment_3_3        </td><td>4.582473e-05</td><td>0.9946505</td><td>unsel_vs_wt  </td></tr>\n",
                            "\t<tr><th scope=row>4</th><td>  1</td><td>AreaShape_CentralMoment_0_0           </td><td>5.003355e-05</td><td>0.9944103</td><td>high_vs_unsel</td></tr>\n",
                            "\t<tr><th scope=row>5</th><td>920</td><td>RadialDistribution_ZernikePhase_OP_9_3</td><td>1.116004e-02</td><td>0.9889052</td><td>all          </td></tr>\n",
                            "\t<tr><th scope=row>6</th><td>248</td><td>AreaShape_CentralMoment_0_3           </td><td>2.635471e-04</td><td>0.9871715</td><td>high_vs_wt   </td></tr>\n",
                            "</tbody>\n",
                            "</table>\n"
                        ],
                        "text/latex": [
                            "A data.frame: 6 \u00d7 5\n",
                            "\\begin{tabular}{r|lllll}\n",
                            "  & X & feature & levene\\_statistic & levene\\_p\\_value & group\\\\\n",
                            "  & <int> & <chr> & <dbl> & <dbl> & <chr>\\\\\n",
                            "\\hline\n",
                            "\t1 & 909 & RadialDistribution\\_ZernikePhase\\_OP\\_6\\_6 & 1.928452e-03 & 0.9980735 & all          \\\\\n",
                            "\t2 &  90 & AreaShape\\_Zernike\\_8\\_4                  & 1.841247e-05 & 0.9966091 & high\\_vs\\_unsel\\\\\n",
                            "\t3 & 540 & AreaShape\\_NormalizedMoment\\_3\\_3         & 4.582473e-05 & 0.9946505 & unsel\\_vs\\_wt  \\\\\n",
                            "\t4 &   1 & AreaShape\\_CentralMoment\\_0\\_0            & 5.003355e-05 & 0.9944103 & high\\_vs\\_unsel\\\\\n",
                            "\t5 & 920 & RadialDistribution\\_ZernikePhase\\_OP\\_9\\_3 & 1.116004e-02 & 0.9889052 & all          \\\\\n",
                            "\t6 & 248 & AreaShape\\_CentralMoment\\_0\\_3            & 2.635471e-04 & 0.9871715 & high\\_vs\\_wt   \\\\\n",
                            "\\end{tabular}\n"
                        ],
                        "text/markdown": [
                            "\n",
                            "A data.frame: 6 \u00d7 5\n",
                            "\n",
                            "| <!--/--> | X &lt;int&gt; | feature &lt;chr&gt; | levene_statistic &lt;dbl&gt; | levene_p_value &lt;dbl&gt; | group &lt;chr&gt; |\n",
                            "|---|---|---|---|---|---|\n",
                            "| 1 | 909 | RadialDistribution_ZernikePhase_OP_6_6 | 1.928452e-03 | 0.9980735 | all           |\n",
                            "| 2 |  90 | AreaShape_Zernike_8_4                  | 1.841247e-05 | 0.9966091 | high_vs_unsel |\n",
                            "| 3 | 540 | AreaShape_NormalizedMoment_3_3         | 4.582473e-05 | 0.9946505 | unsel_vs_wt   |\n",
                            "| 4 |   1 | AreaShape_CentralMoment_0_0            | 5.003355e-05 | 0.9944103 | high_vs_unsel |\n",
                            "| 5 | 920 | RadialDistribution_ZernikePhase_OP_9_3 | 1.116004e-02 | 0.9889052 | all           |\n",
                            "| 6 | 248 | AreaShape_CentralMoment_0_3            | 2.635471e-04 | 0.9871715 | high_vs_wt    |\n",
                            "\n"
                        ],
                        "text/plain": [
                            "  X   feature                                levene_statistic levene_p_value\n",
                            "1 909 RadialDistribution_ZernikePhase_OP_6_6 1.928452e-03     0.9980735     \n",
                            "2  90 AreaShape_Zernike_8_4                  1.841247e-05     0.9966091     \n",
                            "3 540 AreaShape_NormalizedMoment_3_3         4.582473e-05     0.9946505     \n",
                            "4   1 AreaShape_CentralMoment_0_0            5.003355e-05     0.9944103     \n",
                            "5 920 RadialDistribution_ZernikePhase_OP_9_3 1.116004e-02     0.9889052     \n",
                            "6 248 AreaShape_CentralMoment_0_3            2.635471e-04     0.9871715     \n",
                            "  group        \n",
                            "1 all          \n",
                            "2 high_vs_unsel\n",
                            "3 unsel_vs_wt  \n",
                            "4 high_vs_unsel\n",
                            "5 all          \n",
                            "6 high_vs_wt   "
                        ]
                    },
                    "metadata": {},
                    "output_type": "display_data"
                }
            ],
            "source": [
                "# load levene data in \n",
                "custom_aggregated_levene_df_path <- file.path(\"..\",\"..\",\"data\",\"6.analysis_results\",\"custom_aggregated_levene_test_results.csv\")\n",
                "custom_aggregated_levene_df <- read.csv(custom_aggregated_levene_df_path)\n",
                "head(custom_aggregated_levene_df)"
            ]
        },
        {
            "cell_type": "markdown",
            "id": "2332ec9a",
            "metadata": {
                "papermill": {
                    "duration": 0.003145,
                    "end_time": "2024-05-04T20:35:27.271111",
                    "exception": false,
                    "start_time": "2024-05-04T20:35:27.267966",
                    "status": "completed"
                },
                "tags": []
            },
            "source": [
                "### Variances"
            ]
        },
        {
            "cell_type": "code",
            "execution_count": 6,
            "id": "11f311fd",
            "metadata": {
                "execution": {
                    "iopub.execute_input": "2024-05-04T20:35:27.278578Z",
                    "iopub.status.busy": "2024-05-04T20:35:27.277942Z",
                    "iopub.status.idle": "2024-05-04T20:35:27.364829Z",
                    "shell.execute_reply": "2024-05-04T20:35:27.364096Z"
                },
                "papermill": {
                    "duration": 0.091396,
                    "end_time": "2024-05-04T20:35:27.365729",
                    "exception": false,
                    "start_time": "2024-05-04T20:35:27.274333",
                    "status": "completed"
                },
                "tags": [],
                "vscode": {
                    "languageId": "r"
                }
            },
            "outputs": [
                {
                    "data": {
                        "text/html": [
                            "<style>\n",
                            ".list-inline {list-style: none; margin:0; padding: 0}\n",
                            ".list-inline>li {display: inline-block}\n",
                            ".list-inline>li:not(:last-child)::after {content: \"\\00b7\"; padding: 0 .5ex}\n",
                            "</style>\n",
                            "<ol class=list-inline><li>'AreaShape_Zernike_2_0'</li><li>'AreaShape_Zernike_0_0'</li><li>'AreaShape_MedianRadius'</li><li>'AreaShape_MaximumRadius'</li><li>'Intensity_MeanIntensityEdge_OP'</li><li>'AreaShape_MinFeretDiameter'</li><li>'Intensity_MaxIntensityEdge_OP'</li><li>'AreaShape_NormalizedMoment_2_0'</li><li>'AreaShape_MeanRadius'</li><li>'AreaShape_Area'</li><li>'AreaShape_SpatialMoment_0_0'</li><li>'AreaShape_ConvexArea'</li><li>'AreaShape_MinorAxisLength'</li><li>'AreaShape_InertiaTensorEigenvalues_1'</li><li>'Intensity_StdIntensityEdge_OP'</li><li>'AreaShape_HuMoment_0'</li><li>'Intensity_LowerQuartileIntensity_OP'</li><li>'AreaShape_EquivalentDiameter'</li><li>'AreaShape_SpatialMoment_1_0'</li><li>'AreaShape_CentralMoment_0_0'</li></ol>\n"
                        ],
                        "text/latex": [
                            "\\begin{enumerate*}\n",
                            "\\item 'AreaShape\\_Zernike\\_2\\_0'\n",
                            "\\item 'AreaShape\\_Zernike\\_0\\_0'\n",
                            "\\item 'AreaShape\\_MedianRadius'\n",
                            "\\item 'AreaShape\\_MaximumRadius'\n",
                            "\\item 'Intensity\\_MeanIntensityEdge\\_OP'\n",
                            "\\item 'AreaShape\\_MinFeretDiameter'\n",
                            "\\item 'Intensity\\_MaxIntensityEdge\\_OP'\n",
                            "\\item 'AreaShape\\_NormalizedMoment\\_2\\_0'\n",
                            "\\item 'AreaShape\\_MeanRadius'\n",
                            "\\item 'AreaShape\\_Area'\n",
                            "\\item 'AreaShape\\_SpatialMoment\\_0\\_0'\n",
                            "\\item 'AreaShape\\_ConvexArea'\n",
                            "\\item 'AreaShape\\_MinorAxisLength'\n",
                            "\\item 'AreaShape\\_InertiaTensorEigenvalues\\_1'\n",
                            "\\item 'Intensity\\_StdIntensityEdge\\_OP'\n",
                            "\\item 'AreaShape\\_HuMoment\\_0'\n",
                            "\\item 'Intensity\\_LowerQuartileIntensity\\_OP'\n",
                            "\\item 'AreaShape\\_EquivalentDiameter'\n",
                            "\\item 'AreaShape\\_SpatialMoment\\_1\\_0'\n",
                            "\\item 'AreaShape\\_CentralMoment\\_0\\_0'\n",
                            "\\end{enumerate*}\n"
                        ],
                        "text/markdown": [
                            "1. 'AreaShape_Zernike_2_0'\n",
                            "2. 'AreaShape_Zernike_0_0'\n",
                            "3. 'AreaShape_MedianRadius'\n",
                            "4. 'AreaShape_MaximumRadius'\n",
                            "5. 'Intensity_MeanIntensityEdge_OP'\n",
                            "6. 'AreaShape_MinFeretDiameter'\n",
                            "7. 'Intensity_MaxIntensityEdge_OP'\n",
                            "8. 'AreaShape_NormalizedMoment_2_0'\n",
                            "9. 'AreaShape_MeanRadius'\n",
                            "10. 'AreaShape_Area'\n",
                            "11. 'AreaShape_SpatialMoment_0_0'\n",
                            "12. 'AreaShape_ConvexArea'\n",
                            "13. 'AreaShape_MinorAxisLength'\n",
                            "14. 'AreaShape_InertiaTensorEigenvalues_1'\n",
                            "15. 'Intensity_StdIntensityEdge_OP'\n",
                            "16. 'AreaShape_HuMoment_0'\n",
                            "17. 'Intensity_LowerQuartileIntensity_OP'\n",
                            "18. 'AreaShape_EquivalentDiameter'\n",
                            "19. 'AreaShape_SpatialMoment_1_0'\n",
                            "20. 'AreaShape_CentralMoment_0_0'\n",
                            "\n",
                            "\n"
                        ],
                        "text/plain": [
                            " [1] \"AreaShape_Zernike_2_0\"               \n",
                            " [2] \"AreaShape_Zernike_0_0\"               \n",
                            " [3] \"AreaShape_MedianRadius\"              \n",
                            " [4] \"AreaShape_MaximumRadius\"             \n",
                            " [5] \"Intensity_MeanIntensityEdge_OP\"      \n",
                            " [6] \"AreaShape_MinFeretDiameter\"          \n",
                            " [7] \"Intensity_MaxIntensityEdge_OP\"       \n",
                            " [8] \"AreaShape_NormalizedMoment_2_0\"      \n",
                            " [9] \"AreaShape_MeanRadius\"                \n",
                            "[10] \"AreaShape_Area\"                      \n",
                            "[11] \"AreaShape_SpatialMoment_0_0\"         \n",
                            "[12] \"AreaShape_ConvexArea\"                \n",
                            "[13] \"AreaShape_MinorAxisLength\"           \n",
                            "[14] \"AreaShape_InertiaTensorEigenvalues_1\"\n",
                            "[15] \"Intensity_StdIntensityEdge_OP\"       \n",
                            "[16] \"AreaShape_HuMoment_0\"                \n",
                            "[17] \"Intensity_LowerQuartileIntensity_OP\" \n",
                            "[18] \"AreaShape_EquivalentDiameter\"        \n",
                            "[19] \"AreaShape_SpatialMoment_1_0\"         \n",
                            "[20] \"AreaShape_CentralMoment_0_0\"         "
                        ]
                    },
                    "metadata": {},
                    "output_type": "display_data"
                },
                {
                    "data": {
                        "text/html": [
                            "<table class=\"dataframe\">\n",
                            "<caption>A tibble: 6 \u00d7 246</caption>\n",
                            "<thead>\n",
                            "\t<tr><th scope=col>Metadata_genotype</th><th scope=col>Metadata_replicate</th><th scope=col>AreaShape_Area</th><th scope=col>AreaShape_CentralMoment_0_0</th><th scope=col>AreaShape_CentralMoment_0_1</th><th scope=col>AreaShape_CentralMoment_0_2</th><th scope=col>AreaShape_CentralMoment_0_3</th><th scope=col>AreaShape_CentralMoment_1_0</th><th scope=col>AreaShape_CentralMoment_1_1</th><th scope=col>AreaShape_CentralMoment_1_2</th><th scope=col>\u22ef</th><th scope=col>Texture_SumEntropy_OP_3_02_256</th><th scope=col>Texture_SumEntropy_OP_3_03_256</th><th scope=col>Texture_SumVariance_OP_3_00_256</th><th scope=col>Texture_SumVariance_OP_3_01_256</th><th scope=col>Texture_SumVariance_OP_3_02_256</th><th scope=col>Texture_SumVariance_OP_3_03_256</th><th scope=col>Texture_Variance_OP_3_00_256</th><th scope=col>Texture_Variance_OP_3_01_256</th><th scope=col>Texture_Variance_OP_3_02_256</th><th scope=col>Texture_Variance_OP_3_03_256</th></tr>\n",
                            "\t<tr><th scope=col>&lt;fct&gt;</th><th scope=col>&lt;chr&gt;</th><th scope=col>&lt;dbl&gt;</th><th scope=col>&lt;dbl&gt;</th><th scope=col>&lt;dbl&gt;</th><th scope=col>&lt;dbl&gt;</th><th scope=col>&lt;dbl&gt;</th><th scope=col>&lt;dbl&gt;</th><th scope=col>&lt;dbl&gt;</th><th scope=col>&lt;dbl&gt;</th><th scope=col>\u22ef</th><th scope=col>&lt;dbl&gt;</th><th scope=col>&lt;dbl&gt;</th><th scope=col>&lt;dbl&gt;</th><th scope=col>&lt;dbl&gt;</th><th scope=col>&lt;dbl&gt;</th><th scope=col>&lt;dbl&gt;</th><th scope=col>&lt;dbl&gt;</th><th scope=col>&lt;dbl&gt;</th><th scope=col>&lt;dbl&gt;</th><th scope=col>&lt;dbl&gt;</th></tr>\n",
                            "</thead>\n",
                            "<tbody>\n",
                            "\t<tr><td>High-Severity</td><td>1 </td><td>1.192966</td><td>0.5964828</td><td> 0.54175256</td><td>-0.04923743</td><td> 0.7817362</td><td> 2.1009152</td><td>-0.9278737</td><td>-0.04298225</td><td>\u22ef</td><td>-0.2082104</td><td>-0.11903633</td><td>-1.0917116</td><td>-0.52502679</td><td>-1.0866094</td><td>-0.54458881</td><td>-1.1151266</td><td>-0.5621014</td><td>-1.1179528</td><td>-0.5608718</td></tr>\n",
                            "\t<tr><td>High-Severity</td><td>10</td><td>2.477908</td><td>1.2389540</td><td> 1.31962606</td><td> 1.72236419</td><td>-1.7485946</td><td> 0.1791951</td><td>-3.2895193</td><td> 0.82527013</td><td>\u22ef</td><td> 1.2939544</td><td> 0.63535604</td><td> 1.2613638</td><td> 0.64209101</td><td> 1.1875076</td><td> 0.63527378</td><td> 1.1157257</td><td> 0.5484734</td><td> 1.1219693</td><td> 0.5477695</td></tr>\n",
                            "\t<tr><td>High-Severity</td><td>11</td><td>4.262414</td><td>2.1312071</td><td> 1.26173108</td><td> 1.42646941</td><td> 0.5831822</td><td> 1.8012069</td><td>-0.5413249</td><td>-0.16430652</td><td>\u22ef</td><td> 1.3735418</td><td> 0.67823043</td><td> 1.1047649</td><td> 0.57082297</td><td> 1.0525320</td><td> 0.54847464</td><td> 0.9976509</td><td> 0.4862685</td><td> 1.0001664</td><td> 0.4902130</td></tr>\n",
                            "\t<tr><td>High-Severity</td><td>12</td><td>2.402476</td><td>1.2012381</td><td> 0.04988604</td><td> 1.27911918</td><td>-0.9281710</td><td>-1.6528531</td><td>-1.9646186</td><td> 0.10767961</td><td>\u22ef</td><td> 0.6190094</td><td> 0.30893327</td><td>-0.1095573</td><td>-0.05987619</td><td>-0.1967998</td><td>-0.06793023</td><td>-0.2075640</td><td>-0.1093674</td><td>-0.2021711</td><td>-0.1067718</td></tr>\n",
                            "\t<tr><td>High-Severity</td><td>13</td><td>2.389777</td><td>1.1948884</td><td>-1.10873607</td><td>-0.03446555</td><td> 0.1017650</td><td>-1.3449799</td><td>-0.9673454</td><td>-0.79443383</td><td>\u22ef</td><td> 0.1134128</td><td> 0.04774139</td><td>-0.6503412</td><td>-0.29567384</td><td>-0.6420772</td><td>-0.32243559</td><td>-0.6968174</td><td>-0.3562547</td><td>-0.7005716</td><td>-0.3521677</td></tr>\n",
                            "\t<tr><td>High-Severity</td><td>14</td><td>4.553584</td><td>2.2767921</td><td>-4.77707191</td><td> 1.69171903</td><td> 0.2514737</td><td>-0.7138870</td><td>-3.1808175</td><td> 0.11087396</td><td>\u22ef</td><td> 2.0541319</td><td> 1.02583400</td><td> 2.5108502</td><td> 1.27093366</td><td> 2.4192843</td><td> 1.24875506</td><td> 2.3347969</td><td> 1.1480302</td><td> 2.3437433</td><td> 1.1541288</td></tr>\n",
                            "</tbody>\n",
                            "</table>\n"
                        ],
                        "text/latex": [
                            "A tibble: 6 \u00d7 246\n",
                            "\\begin{tabular}{lllllllllllllllllllll}\n",
                            " Metadata\\_genotype & Metadata\\_replicate & AreaShape\\_Area & AreaShape\\_CentralMoment\\_0\\_0 & AreaShape\\_CentralMoment\\_0\\_1 & AreaShape\\_CentralMoment\\_0\\_2 & AreaShape\\_CentralMoment\\_0\\_3 & AreaShape\\_CentralMoment\\_1\\_0 & AreaShape\\_CentralMoment\\_1\\_1 & AreaShape\\_CentralMoment\\_1\\_2 & \u22ef & Texture\\_SumEntropy\\_OP\\_3\\_02\\_256 & Texture\\_SumEntropy\\_OP\\_3\\_03\\_256 & Texture\\_SumVariance\\_OP\\_3\\_00\\_256 & Texture\\_SumVariance\\_OP\\_3\\_01\\_256 & Texture\\_SumVariance\\_OP\\_3\\_02\\_256 & Texture\\_SumVariance\\_OP\\_3\\_03\\_256 & Texture\\_Variance\\_OP\\_3\\_00\\_256 & Texture\\_Variance\\_OP\\_3\\_01\\_256 & Texture\\_Variance\\_OP\\_3\\_02\\_256 & Texture\\_Variance\\_OP\\_3\\_03\\_256\\\\\n",
                            " <fct> & <chr> & <dbl> & <dbl> & <dbl> & <dbl> & <dbl> & <dbl> & <dbl> & <dbl> & \u22ef & <dbl> & <dbl> & <dbl> & <dbl> & <dbl> & <dbl> & <dbl> & <dbl> & <dbl> & <dbl>\\\\\n",
                            "\\hline\n",
                            "\t High-Severity & 1  & 1.192966 & 0.5964828 &  0.54175256 & -0.04923743 &  0.7817362 &  2.1009152 & -0.9278737 & -0.04298225 & \u22ef & -0.2082104 & -0.11903633 & -1.0917116 & -0.52502679 & -1.0866094 & -0.54458881 & -1.1151266 & -0.5621014 & -1.1179528 & -0.5608718\\\\\n",
                            "\t High-Severity & 10 & 2.477908 & 1.2389540 &  1.31962606 &  1.72236419 & -1.7485946 &  0.1791951 & -3.2895193 &  0.82527013 & \u22ef &  1.2939544 &  0.63535604 &  1.2613638 &  0.64209101 &  1.1875076 &  0.63527378 &  1.1157257 &  0.5484734 &  1.1219693 &  0.5477695\\\\\n",
                            "\t High-Severity & 11 & 4.262414 & 2.1312071 &  1.26173108 &  1.42646941 &  0.5831822 &  1.8012069 & -0.5413249 & -0.16430652 & \u22ef &  1.3735418 &  0.67823043 &  1.1047649 &  0.57082297 &  1.0525320 &  0.54847464 &  0.9976509 &  0.4862685 &  1.0001664 &  0.4902130\\\\\n",
                            "\t High-Severity & 12 & 2.402476 & 1.2012381 &  0.04988604 &  1.27911918 & -0.9281710 & -1.6528531 & -1.9646186 &  0.10767961 & \u22ef &  0.6190094 &  0.30893327 & -0.1095573 & -0.05987619 & -0.1967998 & -0.06793023 & -0.2075640 & -0.1093674 & -0.2021711 & -0.1067718\\\\\n",
                            "\t High-Severity & 13 & 2.389777 & 1.1948884 & -1.10873607 & -0.03446555 &  0.1017650 & -1.3449799 & -0.9673454 & -0.79443383 & \u22ef &  0.1134128 &  0.04774139 & -0.6503412 & -0.29567384 & -0.6420772 & -0.32243559 & -0.6968174 & -0.3562547 & -0.7005716 & -0.3521677\\\\\n",
                            "\t High-Severity & 14 & 4.553584 & 2.2767921 & -4.77707191 &  1.69171903 &  0.2514737 & -0.7138870 & -3.1808175 &  0.11087396 & \u22ef &  2.0541319 &  1.02583400 &  2.5108502 &  1.27093366 &  2.4192843 &  1.24875506 &  2.3347969 &  1.1480302 &  2.3437433 &  1.1541288\\\\\n",
                            "\\end{tabular}\n"
                        ],
                        "text/markdown": [
                            "\n",
                            "A tibble: 6 \u00d7 246\n",
                            "\n",
                            "| Metadata_genotype &lt;fct&gt; | Metadata_replicate &lt;chr&gt; | AreaShape_Area &lt;dbl&gt; | AreaShape_CentralMoment_0_0 &lt;dbl&gt; | AreaShape_CentralMoment_0_1 &lt;dbl&gt; | AreaShape_CentralMoment_0_2 &lt;dbl&gt; | AreaShape_CentralMoment_0_3 &lt;dbl&gt; | AreaShape_CentralMoment_1_0 &lt;dbl&gt; | AreaShape_CentralMoment_1_1 &lt;dbl&gt; | AreaShape_CentralMoment_1_2 &lt;dbl&gt; | \u22ef \u22ef | Texture_SumEntropy_OP_3_02_256 &lt;dbl&gt; | Texture_SumEntropy_OP_3_03_256 &lt;dbl&gt; | Texture_SumVariance_OP_3_00_256 &lt;dbl&gt; | Texture_SumVariance_OP_3_01_256 &lt;dbl&gt; | Texture_SumVariance_OP_3_02_256 &lt;dbl&gt; | Texture_SumVariance_OP_3_03_256 &lt;dbl&gt; | Texture_Variance_OP_3_00_256 &lt;dbl&gt; | Texture_Variance_OP_3_01_256 &lt;dbl&gt; | Texture_Variance_OP_3_02_256 &lt;dbl&gt; | Texture_Variance_OP_3_03_256 &lt;dbl&gt; |\n",
                            "|---|---|---|---|---|---|---|---|---|---|---|---|---|---|---|---|---|---|---|---|---|\n",
                            "| High-Severity | 1  | 1.192966 | 0.5964828 |  0.54175256 | -0.04923743 |  0.7817362 |  2.1009152 | -0.9278737 | -0.04298225 | \u22ef | -0.2082104 | -0.11903633 | -1.0917116 | -0.52502679 | -1.0866094 | -0.54458881 | -1.1151266 | -0.5621014 | -1.1179528 | -0.5608718 |\n",
                            "| High-Severity | 10 | 2.477908 | 1.2389540 |  1.31962606 |  1.72236419 | -1.7485946 |  0.1791951 | -3.2895193 |  0.82527013 | \u22ef |  1.2939544 |  0.63535604 |  1.2613638 |  0.64209101 |  1.1875076 |  0.63527378 |  1.1157257 |  0.5484734 |  1.1219693 |  0.5477695 |\n",
                            "| High-Severity | 11 | 4.262414 | 2.1312071 |  1.26173108 |  1.42646941 |  0.5831822 |  1.8012069 | -0.5413249 | -0.16430652 | \u22ef |  1.3735418 |  0.67823043 |  1.1047649 |  0.57082297 |  1.0525320 |  0.54847464 |  0.9976509 |  0.4862685 |  1.0001664 |  0.4902130 |\n",
                            "| High-Severity | 12 | 2.402476 | 1.2012381 |  0.04988604 |  1.27911918 | -0.9281710 | -1.6528531 | -1.9646186 |  0.10767961 | \u22ef |  0.6190094 |  0.30893327 | -0.1095573 | -0.05987619 | -0.1967998 | -0.06793023 | -0.2075640 | -0.1093674 | -0.2021711 | -0.1067718 |\n",
                            "| High-Severity | 13 | 2.389777 | 1.1948884 | -1.10873607 | -0.03446555 |  0.1017650 | -1.3449799 | -0.9673454 | -0.79443383 | \u22ef |  0.1134128 |  0.04774139 | -0.6503412 | -0.29567384 | -0.6420772 | -0.32243559 | -0.6968174 | -0.3562547 | -0.7005716 | -0.3521677 |\n",
                            "| High-Severity | 14 | 4.553584 | 2.2767921 | -4.77707191 |  1.69171903 |  0.2514737 | -0.7138870 | -3.1808175 |  0.11087396 | \u22ef |  2.0541319 |  1.02583400 |  2.5108502 |  1.27093366 |  2.4192843 |  1.24875506 |  2.3347969 |  1.1480302 |  2.3437433 |  1.1541288 |\n",
                            "\n"
                        ],
                        "text/plain": [
                            "  Metadata_genotype Metadata_replicate AreaShape_Area\n",
                            "1 High-Severity     1                  1.192966      \n",
                            "2 High-Severity     10                 2.477908      \n",
                            "3 High-Severity     11                 4.262414      \n",
                            "4 High-Severity     12                 2.402476      \n",
                            "5 High-Severity     13                 2.389777      \n",
                            "6 High-Severity     14                 4.553584      \n",
                            "  AreaShape_CentralMoment_0_0 AreaShape_CentralMoment_0_1\n",
                            "1 0.5964828                    0.54175256                \n",
                            "2 1.2389540                    1.31962606                \n",
                            "3 2.1312071                    1.26173108                \n",
                            "4 1.2012381                    0.04988604                \n",
                            "5 1.1948884                   -1.10873607                \n",
                            "6 2.2767921                   -4.77707191                \n",
                            "  AreaShape_CentralMoment_0_2 AreaShape_CentralMoment_0_3\n",
                            "1 -0.04923743                  0.7817362                 \n",
                            "2  1.72236419                 -1.7485946                 \n",
                            "3  1.42646941                  0.5831822                 \n",
                            "4  1.27911918                 -0.9281710                 \n",
                            "5 -0.03446555                  0.1017650                 \n",
                            "6  1.69171903                  0.2514737                 \n",
                            "  AreaShape_CentralMoment_1_0 AreaShape_CentralMoment_1_1\n",
                            "1  2.1009152                  -0.9278737                 \n",
                            "2  0.1791951                  -3.2895193                 \n",
                            "3  1.8012069                  -0.5413249                 \n",
                            "4 -1.6528531                  -1.9646186                 \n",
                            "5 -1.3449799                  -0.9673454                 \n",
                            "6 -0.7138870                  -3.1808175                 \n",
                            "  AreaShape_CentralMoment_1_2 \u22ef Texture_SumEntropy_OP_3_02_256\n",
                            "1 -0.04298225                 \u22ef -0.2082104                    \n",
                            "2  0.82527013                 \u22ef  1.2939544                    \n",
                            "3 -0.16430652                 \u22ef  1.3735418                    \n",
                            "4  0.10767961                 \u22ef  0.6190094                    \n",
                            "5 -0.79443383                 \u22ef  0.1134128                    \n",
                            "6  0.11087396                 \u22ef  2.0541319                    \n",
                            "  Texture_SumEntropy_OP_3_03_256 Texture_SumVariance_OP_3_00_256\n",
                            "1 -0.11903633                    -1.0917116                     \n",
                            "2  0.63535604                     1.2613638                     \n",
                            "3  0.67823043                     1.1047649                     \n",
                            "4  0.30893327                    -0.1095573                     \n",
                            "5  0.04774139                    -0.6503412                     \n",
                            "6  1.02583400                     2.5108502                     \n",
                            "  Texture_SumVariance_OP_3_01_256 Texture_SumVariance_OP_3_02_256\n",
                            "1 -0.52502679                     -1.0866094                     \n",
                            "2  0.64209101                      1.1875076                     \n",
                            "3  0.57082297                      1.0525320                     \n",
                            "4 -0.05987619                     -0.1967998                     \n",
                            "5 -0.29567384                     -0.6420772                     \n",
                            "6  1.27093366                      2.4192843                     \n",
                            "  Texture_SumVariance_OP_3_03_256 Texture_Variance_OP_3_00_256\n",
                            "1 -0.54458881                     -1.1151266                  \n",
                            "2  0.63527378                      1.1157257                  \n",
                            "3  0.54847464                      0.9976509                  \n",
                            "4 -0.06793023                     -0.2075640                  \n",
                            "5 -0.32243559                     -0.6968174                  \n",
                            "6  1.24875506                      2.3347969                  \n",
                            "  Texture_Variance_OP_3_01_256 Texture_Variance_OP_3_02_256\n",
                            "1 -0.5621014                   -1.1179528                  \n",
                            "2  0.5484734                    1.1219693                  \n",
                            "3  0.4862685                    1.0001664                  \n",
                            "4 -0.1093674                   -0.2021711                  \n",
                            "5 -0.3562547                   -0.7005716                  \n",
                            "6  1.1480302                    2.3437433                  \n",
                            "  Texture_Variance_OP_3_03_256\n",
                            "1 -0.5608718                  \n",
                            "2  0.5477695                  \n",
                            "3  0.4902130                  \n",
                            "4 -0.1067718                  \n",
                            "5 -0.3521677                  \n",
                            "6  1.1541288                  "
                        ]
                    },
                    "metadata": {},
                    "output_type": "display_data"
                }
            ],
            "source": [
                "width <- 4\n",
                "height <- 4\n",
                "options(repr.plot.width = width, repr.plot.height = height)\n",
                "# make a new column for the group1 and group2\n",
                "custom_aggregated_anova_df$comparison <- paste(custom_aggregated_anova_df$group1, custom_aggregated_anova_df$group2, sep = \" - \")\n",
                "\n",
                "# order the results by anova p-value\n",
                "custom_aggregated_anova_df <- custom_aggregated_anova_df %>% arrange(anova_p_value)\n",
                "features <- unique(custom_aggregated_anova_df$feature)[1:20]\n",
                "features\n",
                "top_20_custom_aggregated_anova_df <- custom_aggregated_anova_df %>% filter(feature %in% features)\n",
                "top_20_custom_aggregated_anova_df$log10_tukey_p_value <- -log10(top_20_custom_aggregated_anova_df$`p-adj`)\n",
                "# make the genotype a factor\n",
                "# replace the genotype values\n",
                "custom_aggregated_data_df$Metadata_genotype <- gsub(\"wt\", \"Wild Type\", custom_aggregated_data_df$Metadata_genotype)\n",
                "custom_aggregated_data_df$Metadata_genotype <- gsub(\"unsel\", \"Mid-Severity\", custom_aggregated_data_df$Metadata_genotype)\n",
                "custom_aggregated_data_df$Metadata_genotype <- gsub(\"high\", \"High-Severity\", custom_aggregated_data_df$Metadata_genotype)\n",
                "custom_aggregated_data_df$Metadata_genotype <- factor(\n",
                "    custom_aggregated_data_df$Metadata_genotype, \n",
                "    levels = c(\"Wild Type\", \"Mid-Severity\", \"High-Severity\")\n",
                ")\n",
                "head(custom_aggregated_data_df)"
            ]
        },
        {
            "cell_type": "code",
            "execution_count": 7,
            "id": "428d0878",
            "metadata": {
                "execution": {
                    "iopub.execute_input": "2024-05-04T20:35:27.374394Z",
                    "iopub.status.busy": "2024-05-04T20:35:27.373673Z",
                    "iopub.status.idle": "2024-05-04T20:35:39.584370Z",
                    "shell.execute_reply": "2024-05-04T20:35:39.583405Z"
                },
                "papermill": {
                    "duration": 12.215973,
                    "end_time": "2024-05-04T20:35:39.585480",
                    "exception": false,
                    "start_time": "2024-05-04T20:35:27.369507",
                    "status": "completed"
                },
                "tags": [],
                "vscode": {
                    "languageId": "r"
                }
            },
            "outputs": [
                {
                    "name": "stdout",
                    "output_type": "stream",
                    "text": [
                        "[1] \"AreaShape_Zernike_2_0\"\n"
                    ]
                },
                {
                    "name": "stdout",
                    "output_type": "stream",
                    "text": [
                        "[1] \"AreaShape_Zernike_0_0\"\n"
                    ]
                },
                {
                    "name": "stdout",
                    "output_type": "stream",
                    "text": [
                        "[1] \"AreaShape_MedianRadius\"\n"
                    ]
                },
                {
                    "name": "stdout",
                    "output_type": "stream",
                    "text": [
                        "[1] \"AreaShape_MaximumRadius\"\n"
                    ]
                },
                {
                    "name": "stdout",
                    "output_type": "stream",
                    "text": [
                        "[1] \"Intensity_MeanIntensityEdge_OP\"\n"
                    ]
                },
                {
                    "name": "stdout",
                    "output_type": "stream",
                    "text": [
                        "[1] \"AreaShape_MinFeretDiameter\"\n"
                    ]
                },
                {
                    "name": "stdout",
                    "output_type": "stream",
                    "text": [
                        "[1] \"Intensity_MaxIntensityEdge_OP\"\n"
                    ]
                },
                {
                    "name": "stdout",
                    "output_type": "stream",
                    "text": [
                        "[1] \"AreaShape_NormalizedMoment_2_0\"\n"
                    ]
                },
                {
                    "name": "stdout",
                    "output_type": "stream",
                    "text": [
                        "[1] \"AreaShape_MeanRadius\"\n"
                    ]
                },
                {
                    "name": "stdout",
                    "output_type": "stream",
                    "text": [
                        "[1] \"AreaShape_Area\"\n"
                    ]
                },
                {
                    "name": "stdout",
                    "output_type": "stream",
                    "text": [
                        "[1] \"AreaShape_SpatialMoment_0_0\"\n"
                    ]
                },
                {
                    "name": "stdout",
                    "output_type": "stream",
                    "text": [
                        "[1] \"AreaShape_ConvexArea\"\n"
                    ]
                },
                {
                    "name": "stdout",
                    "output_type": "stream",
                    "text": [
                        "[1] \"AreaShape_MinorAxisLength\"\n"
                    ]
                },
                {
                    "name": "stdout",
                    "output_type": "stream",
                    "text": [
                        "[1] \"AreaShape_InertiaTensorEigenvalues_1\"\n"
                    ]
                },
                {
                    "name": "stdout",
                    "output_type": "stream",
                    "text": [
                        "[1] \"Intensity_StdIntensityEdge_OP\"\n"
                    ]
                },
                {
                    "name": "stdout",
                    "output_type": "stream",
                    "text": [
                        "[1] \"AreaShape_HuMoment_0\"\n"
                    ]
                },
                {
                    "name": "stdout",
                    "output_type": "stream",
                    "text": [
                        "[1] \"Intensity_LowerQuartileIntensity_OP\"\n"
                    ]
                },
                {
                    "name": "stdout",
                    "output_type": "stream",
                    "text": [
                        "[1] \"AreaShape_EquivalentDiameter\"\n"
                    ]
                },
                {
                    "name": "stdout",
                    "output_type": "stream",
                    "text": [
                        "[1] \"AreaShape_SpatialMoment_1_0\"\n"
                    ]
                },
                {
                    "name": "stdout",
                    "output_type": "stream",
                    "text": [
                        "[1] \"AreaShape_CentralMoment_0_0\"\n"
                    ]
                }
            ],
            "source": [
                "width <- 8\n",
                "height <- 8\n",
                "\n",
                "list_of_genotype_anova_plots_by_genotype <- list()\n",
                "\n",
                "for (i in 1:length(features)){\n",
                "    print(features[i])\n",
                "    # get the top feature\n",
                "    tmp <- custom_aggregated_data_df %>% select(c(\"Metadata_genotype\", features[i]))\n",
                "    # aggregate the data to get the mean and standard deviation of the top feature\n",
                "    tmp <- tmp %>% group_by(Metadata_genotype) %>% summarise(mean = mean(!!as.name(features[i])), sd = sd(!!as.name(features[i])))\n",
                "    # calculate the variance where variance = sd^2\n",
                "    tmp$variance <- tmp$sd^2\n",
                "    title <- gsub(\"_\", \" \", features[i])\n",
                "    # plot the variability of the top feature\n",
                "    var_plot <- (\n",
                "        ggplot(tmp, aes(x = Metadata_genotype, y = variance, fill = Metadata_genotype)) \n",
                "        + geom_bar(stat = \"identity\")\n",
                "        + theme(axis.text.x = element_text(angle = 90, hjust = 1))\n",
                "        + labs(title = title, x = \"Genotype\", y = \"Variance\", fill = \"Genotype\")\n",
                "        + theme_bw()\n",
                "        + figure_theme\n",
                "    )\n",
                "    # save var plot\n",
                "    ggsave(file = paste0(\"custom_aggregated_\", features[i], \"_variance_plot_genotype.png\"), plot = var_plot, path = file.path(fig_path), width = width, height = height, dpi = 600)\n",
                "\n",
                "    list_of_genotype_anova_plots_by_genotype[[i]] <- var_plot\n",
                "}"
            ]
        }
    ],
    "metadata": {
        "kernelspec": {
            "display_name": "R",
            "language": "R",
            "name": "ir"
        },
        "language_info": {
            "codemirror_mode": "r",
            "file_extension": ".r",
            "mimetype": "text/x-r-source",
            "name": "R",
            "pygments_lexer": "r",
            "version": "4.2.2"
        },
        "papermill": {
            "default_parameters": {},
            "duration": 16.067656,
            "end_time": "2024-05-04T20:35:39.704646",
            "environment_variables": {},
            "exception": null,
            "input_path": "5c.custom_aggregated_anova_visualize.ipynb",
            "output_path": "5c.custom_aggregated_anova_visualize.ipynb",
            "parameters": {},
            "start_time": "2024-05-04T20:35:23.636990",
            "version": "2.6.0"
        }
    },
    "nbformat": 4,
    "nbformat_minor": 5
}
