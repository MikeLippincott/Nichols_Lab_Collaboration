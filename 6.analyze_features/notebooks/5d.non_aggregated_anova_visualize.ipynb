{
    "cells": [
        {
            "cell_type": "code",
            "execution_count": 1,
            "id": "ede7f634",
            "metadata": {
                "execution": {
                    "iopub.execute_input": "2024-05-04T20:35:24.409346Z",
                    "iopub.status.busy": "2024-05-04T20:35:24.407738Z",
                    "iopub.status.idle": "2024-05-04T20:35:24.748417Z",
                    "shell.execute_reply": "2024-05-04T20:35:24.747597Z"
                },
                "papermill": {
                    "duration": 0.363442,
                    "end_time": "2024-05-04T20:35:24.753927",
                    "exception": false,
                    "start_time": "2024-05-04T20:35:24.390485",
                    "status": "completed"
                },
                "tags": [],
                "vscode": {
                    "languageId": "r"
                }
            },
            "outputs": [],
            "source": [
                "# load libraries\n",
                "suppressWarnings(suppressPackageStartupMessages(library(ggplot2)))\n",
                "suppressWarnings(suppressPackageStartupMessages(library(dplyr)))\n",
                "suppressWarnings(suppressPackageStartupMessages(library(arrow)))\n",
                "suppressWarnings(suppressPackageStartupMessages(library(patchwork)))\n",
                "# import ggplot theme\n",
                "source(\"../../utils/figure_themes.r\")"
            ]
        },
        {
            "cell_type": "code",
            "execution_count": 2,
            "id": "52a8a02f",
            "metadata": {
                "execution": {
                    "iopub.execute_input": "2024-05-04T20:35:24.772213Z",
                    "iopub.status.busy": "2024-05-04T20:35:24.758274Z",
                    "iopub.status.idle": "2024-05-04T20:35:24.950966Z",
                    "shell.execute_reply": "2024-05-04T20:35:24.950211Z"
                },
                "papermill": {
                    "duration": 0.195999,
                    "end_time": "2024-05-04T20:35:24.951844",
                    "exception": false,
                    "start_time": "2024-05-04T20:35:24.755845",
                    "status": "completed"
                },
                "tags": [],
                "vscode": {
                    "languageId": "r"
                }
            },
            "outputs": [
                {
                    "data": {
                        "text/html": [
                            "<table class=\"dataframe\">\n",
                            "<caption>A tibble: 6 \u00d7 268</caption>\n",
                            "<thead>\n",
                            "\t<tr><th scope=col>Metadata_Image_FileName_OP</th><th scope=col>Metadata_ObjectNumber</th><th scope=col>Metadata_Object_ConvertImageToObjects_Number_Object_Number</th><th scope=col>Metadata_Object_ConvertImageToObjects_AreaShape_BoundingBoxArea</th><th scope=col>Metadata_Object_ConvertImageToObjects_AreaShape_BoundingBoxMaximum_X</th><th scope=col>Metadata_Object_ConvertImageToObjects_AreaShape_BoundingBoxMaximum_Y</th><th scope=col>Metadata_Object_ConvertImageToObjects_AreaShape_BoundingBoxMinimum_X</th><th scope=col>Metadata_Object_ConvertImageToObjects_AreaShape_BoundingBoxMinimum_Y</th><th scope=col>Metadata_Object_ConvertImageToObjects_Location_CenterMassIntensity_X_OP</th><th scope=col>Metadata_Object_ConvertImageToObjects_Location_CenterMassIntensity_Y_OP</th><th scope=col>\u22ef</th><th scope=col>Texture_SumEntropy_OP_3_02_256</th><th scope=col>Texture_SumEntropy_OP_3_03_256</th><th scope=col>Texture_SumVariance_OP_3_00_256</th><th scope=col>Texture_SumVariance_OP_3_01_256</th><th scope=col>Texture_SumVariance_OP_3_02_256</th><th scope=col>Texture_SumVariance_OP_3_03_256</th><th scope=col>Texture_Variance_OP_3_00_256</th><th scope=col>Texture_Variance_OP_3_01_256</th><th scope=col>Texture_Variance_OP_3_02_256</th><th scope=col>Texture_Variance_OP_3_03_256</th></tr>\n",
                            "\t<tr><th scope=col>&lt;chr&gt;</th><th scope=col>&lt;int&gt;</th><th scope=col>&lt;int&gt;</th><th scope=col>&lt;dbl&gt;</th><th scope=col>&lt;dbl&gt;</th><th scope=col>&lt;dbl&gt;</th><th scope=col>&lt;dbl&gt;</th><th scope=col>&lt;dbl&gt;</th><th scope=col>&lt;dbl&gt;</th><th scope=col>&lt;dbl&gt;</th><th scope=col>\u22ef</th><th scope=col>&lt;dbl&gt;</th><th scope=col>&lt;dbl&gt;</th><th scope=col>&lt;dbl&gt;</th><th scope=col>&lt;dbl&gt;</th><th scope=col>&lt;dbl&gt;</th><th scope=col>&lt;dbl&gt;</th><th scope=col>&lt;dbl&gt;</th><th scope=col>&lt;dbl&gt;</th><th scope=col>&lt;dbl&gt;</th><th scope=col>&lt;dbl&gt;</th></tr>\n",
                            "</thead>\n",
                            "<tbody>\n",
                            "\t<tr><td>MAX_high_10_L.tiff</td><td>1</td><td>1</td><td>38250</td><td>269</td><td>182</td><td>44</td><td>12</td><td>131.5461</td><td>118.6411</td><td>\u22ef</td><td>0.8414748</td><td>0.8345736</td><td> 1.14918564</td><td> 1.1522001</td><td> 1.07890507</td><td> 1.14484796</td><td> 1.04000878</td><td> 1.02573996</td><td> 1.04549223</td><td> 1.02761705</td></tr>\n",
                            "\t<tr><td>MAX_high_10_R.tiff</td><td>1</td><td>1</td><td>34170</td><td>208</td><td>245</td><td>38</td><td>44</td><td>106.9621</td><td>162.3042</td><td>\u22ef</td><td>0.4524796</td><td>0.4361385</td><td> 0.11217819</td><td> 0.1319819</td><td> 0.10860250</td><td> 0.12569959</td><td> 0.07571690</td><td> 0.07120688</td><td> 0.07647711</td><td> 0.06792193</td></tr>\n",
                            "\t<tr><td>MAX_high_11_L.tiff</td><td>1</td><td>1</td><td>41736</td><td>250</td><td>267</td><td>62</td><td>45</td><td>131.3598</td><td>159.4445</td><td>\u22ef</td><td>0.4948130</td><td>0.4908441</td><td>-0.01613966</td><td> 0.0010415</td><td>-0.02199706</td><td>-0.02099207</td><td>-0.03393425</td><td>-0.04263493</td><td>-0.03498345</td><td>-0.03876252</td></tr>\n",
                            "\t<tr><td>MAX_high_11_R.tiff</td><td>1</td><td>1</td><td>43616</td><td>212</td><td>272</td><td>24</td><td>40</td><td>101.0699</td><td>185.4864</td><td>\u22ef</td><td>0.8787288</td><td>0.8656168</td><td> 1.12090459</td><td> 1.1406044</td><td> 1.07452904</td><td> 1.11794134</td><td> 1.03158516</td><td> 1.01517198</td><td> 1.03514983</td><td> 1.01918842</td></tr>\n",
                            "\t<tr><td>MAX_high_12_L.tiff</td><td>2</td><td>2</td><td>25894</td><td>283</td><td>155</td><td>69</td><td>34</td><td>164.5791</td><td>105.2665</td><td>\u22ef</td><td>0.4767676</td><td>0.4826737</td><td> 0.17788587</td><td> 0.1479330</td><td> 0.10331342</td><td> 0.15645695</td><td> 0.11176513</td><td> 0.10784585</td><td> 0.11761376</td><td> 0.10885888</td></tr>\n",
                            "\t<tr><td>MAX_high_12_R.tiff</td><td>1</td><td>1</td><td>40920</td><td>229</td><td>265</td><td>43</td><td>45</td><td>119.3891</td><td>173.5103</td><td>\u22ef</td><td>0.1422418</td><td>0.1351928</td><td>-0.28744321</td><td>-0.2676854</td><td>-0.30011318</td><td>-0.29231741</td><td>-0.31932910</td><td>-0.32658057</td><td>-0.31978483</td><td>-0.32240245</td></tr>\n",
                            "</tbody>\n",
                            "</table>\n"
                        ],
                        "text/latex": [
                            "A tibble: 6 \u00d7 268\n",
                            "\\begin{tabular}{lllllllllllllllllllll}\n",
                            " Metadata\\_Image\\_FileName\\_OP & Metadata\\_ObjectNumber & Metadata\\_Object\\_ConvertImageToObjects\\_Number\\_Object\\_Number & Metadata\\_Object\\_ConvertImageToObjects\\_AreaShape\\_BoundingBoxArea & Metadata\\_Object\\_ConvertImageToObjects\\_AreaShape\\_BoundingBoxMaximum\\_X & Metadata\\_Object\\_ConvertImageToObjects\\_AreaShape\\_BoundingBoxMaximum\\_Y & Metadata\\_Object\\_ConvertImageToObjects\\_AreaShape\\_BoundingBoxMinimum\\_X & Metadata\\_Object\\_ConvertImageToObjects\\_AreaShape\\_BoundingBoxMinimum\\_Y & Metadata\\_Object\\_ConvertImageToObjects\\_Location\\_CenterMassIntensity\\_X\\_OP & Metadata\\_Object\\_ConvertImageToObjects\\_Location\\_CenterMassIntensity\\_Y\\_OP & \u22ef & Texture\\_SumEntropy\\_OP\\_3\\_02\\_256 & Texture\\_SumEntropy\\_OP\\_3\\_03\\_256 & Texture\\_SumVariance\\_OP\\_3\\_00\\_256 & Texture\\_SumVariance\\_OP\\_3\\_01\\_256 & Texture\\_SumVariance\\_OP\\_3\\_02\\_256 & Texture\\_SumVariance\\_OP\\_3\\_03\\_256 & Texture\\_Variance\\_OP\\_3\\_00\\_256 & Texture\\_Variance\\_OP\\_3\\_01\\_256 & Texture\\_Variance\\_OP\\_3\\_02\\_256 & Texture\\_Variance\\_OP\\_3\\_03\\_256\\\\\n",
                            " <chr> & <int> & <int> & <dbl> & <dbl> & <dbl> & <dbl> & <dbl> & <dbl> & <dbl> & \u22ef & <dbl> & <dbl> & <dbl> & <dbl> & <dbl> & <dbl> & <dbl> & <dbl> & <dbl> & <dbl>\\\\\n",
                            "\\hline\n",
                            "\t MAX\\_high\\_10\\_L.tiff & 1 & 1 & 38250 & 269 & 182 & 44 & 12 & 131.5461 & 118.6411 & \u22ef & 0.8414748 & 0.8345736 &  1.14918564 &  1.1522001 &  1.07890507 &  1.14484796 &  1.04000878 &  1.02573996 &  1.04549223 &  1.02761705\\\\\n",
                            "\t MAX\\_high\\_10\\_R.tiff & 1 & 1 & 34170 & 208 & 245 & 38 & 44 & 106.9621 & 162.3042 & \u22ef & 0.4524796 & 0.4361385 &  0.11217819 &  0.1319819 &  0.10860250 &  0.12569959 &  0.07571690 &  0.07120688 &  0.07647711 &  0.06792193\\\\\n",
                            "\t MAX\\_high\\_11\\_L.tiff & 1 & 1 & 41736 & 250 & 267 & 62 & 45 & 131.3598 & 159.4445 & \u22ef & 0.4948130 & 0.4908441 & -0.01613966 &  0.0010415 & -0.02199706 & -0.02099207 & -0.03393425 & -0.04263493 & -0.03498345 & -0.03876252\\\\\n",
                            "\t MAX\\_high\\_11\\_R.tiff & 1 & 1 & 43616 & 212 & 272 & 24 & 40 & 101.0699 & 185.4864 & \u22ef & 0.8787288 & 0.8656168 &  1.12090459 &  1.1406044 &  1.07452904 &  1.11794134 &  1.03158516 &  1.01517198 &  1.03514983 &  1.01918842\\\\\n",
                            "\t MAX\\_high\\_12\\_L.tiff & 2 & 2 & 25894 & 283 & 155 & 69 & 34 & 164.5791 & 105.2665 & \u22ef & 0.4767676 & 0.4826737 &  0.17788587 &  0.1479330 &  0.10331342 &  0.15645695 &  0.11176513 &  0.10784585 &  0.11761376 &  0.10885888\\\\\n",
                            "\t MAX\\_high\\_12\\_R.tiff & 1 & 1 & 40920 & 229 & 265 & 43 & 45 & 119.3891 & 173.5103 & \u22ef & 0.1422418 & 0.1351928 & -0.28744321 & -0.2676854 & -0.30011318 & -0.29231741 & -0.31932910 & -0.32658057 & -0.31978483 & -0.32240245\\\\\n",
                            "\\end{tabular}\n"
                        ],
                        "text/markdown": [
                            "\n",
                            "A tibble: 6 \u00d7 268\n",
                            "\n",
                            "| Metadata_Image_FileName_OP &lt;chr&gt; | Metadata_ObjectNumber &lt;int&gt; | Metadata_Object_ConvertImageToObjects_Number_Object_Number &lt;int&gt; | Metadata_Object_ConvertImageToObjects_AreaShape_BoundingBoxArea &lt;dbl&gt; | Metadata_Object_ConvertImageToObjects_AreaShape_BoundingBoxMaximum_X &lt;dbl&gt; | Metadata_Object_ConvertImageToObjects_AreaShape_BoundingBoxMaximum_Y &lt;dbl&gt; | Metadata_Object_ConvertImageToObjects_AreaShape_BoundingBoxMinimum_X &lt;dbl&gt; | Metadata_Object_ConvertImageToObjects_AreaShape_BoundingBoxMinimum_Y &lt;dbl&gt; | Metadata_Object_ConvertImageToObjects_Location_CenterMassIntensity_X_OP &lt;dbl&gt; | Metadata_Object_ConvertImageToObjects_Location_CenterMassIntensity_Y_OP &lt;dbl&gt; | \u22ef \u22ef | Texture_SumEntropy_OP_3_02_256 &lt;dbl&gt; | Texture_SumEntropy_OP_3_03_256 &lt;dbl&gt; | Texture_SumVariance_OP_3_00_256 &lt;dbl&gt; | Texture_SumVariance_OP_3_01_256 &lt;dbl&gt; | Texture_SumVariance_OP_3_02_256 &lt;dbl&gt; | Texture_SumVariance_OP_3_03_256 &lt;dbl&gt; | Texture_Variance_OP_3_00_256 &lt;dbl&gt; | Texture_Variance_OP_3_01_256 &lt;dbl&gt; | Texture_Variance_OP_3_02_256 &lt;dbl&gt; | Texture_Variance_OP_3_03_256 &lt;dbl&gt; |\n",
                            "|---|---|---|---|---|---|---|---|---|---|---|---|---|---|---|---|---|---|---|---|---|\n",
                            "| MAX_high_10_L.tiff | 1 | 1 | 38250 | 269 | 182 | 44 | 12 | 131.5461 | 118.6411 | \u22ef | 0.8414748 | 0.8345736 |  1.14918564 |  1.1522001 |  1.07890507 |  1.14484796 |  1.04000878 |  1.02573996 |  1.04549223 |  1.02761705 |\n",
                            "| MAX_high_10_R.tiff | 1 | 1 | 34170 | 208 | 245 | 38 | 44 | 106.9621 | 162.3042 | \u22ef | 0.4524796 | 0.4361385 |  0.11217819 |  0.1319819 |  0.10860250 |  0.12569959 |  0.07571690 |  0.07120688 |  0.07647711 |  0.06792193 |\n",
                            "| MAX_high_11_L.tiff | 1 | 1 | 41736 | 250 | 267 | 62 | 45 | 131.3598 | 159.4445 | \u22ef | 0.4948130 | 0.4908441 | -0.01613966 |  0.0010415 | -0.02199706 | -0.02099207 | -0.03393425 | -0.04263493 | -0.03498345 | -0.03876252 |\n",
                            "| MAX_high_11_R.tiff | 1 | 1 | 43616 | 212 | 272 | 24 | 40 | 101.0699 | 185.4864 | \u22ef | 0.8787288 | 0.8656168 |  1.12090459 |  1.1406044 |  1.07452904 |  1.11794134 |  1.03158516 |  1.01517198 |  1.03514983 |  1.01918842 |\n",
                            "| MAX_high_12_L.tiff | 2 | 2 | 25894 | 283 | 155 | 69 | 34 | 164.5791 | 105.2665 | \u22ef | 0.4767676 | 0.4826737 |  0.17788587 |  0.1479330 |  0.10331342 |  0.15645695 |  0.11176513 |  0.10784585 |  0.11761376 |  0.10885888 |\n",
                            "| MAX_high_12_R.tiff | 1 | 1 | 40920 | 229 | 265 | 43 | 45 | 119.3891 | 173.5103 | \u22ef | 0.1422418 | 0.1351928 | -0.28744321 | -0.2676854 | -0.30011318 | -0.29231741 | -0.31932910 | -0.32658057 | -0.31978483 | -0.32240245 |\n",
                            "\n"
                        ],
                        "text/plain": [
                            "  Metadata_Image_FileName_OP Metadata_ObjectNumber\n",
                            "1 MAX_high_10_L.tiff         1                    \n",
                            "2 MAX_high_10_R.tiff         1                    \n",
                            "3 MAX_high_11_L.tiff         1                    \n",
                            "4 MAX_high_11_R.tiff         1                    \n",
                            "5 MAX_high_12_L.tiff         2                    \n",
                            "6 MAX_high_12_R.tiff         1                    \n",
                            "  Metadata_Object_ConvertImageToObjects_Number_Object_Number\n",
                            "1 1                                                         \n",
                            "2 1                                                         \n",
                            "3 1                                                         \n",
                            "4 1                                                         \n",
                            "5 2                                                         \n",
                            "6 1                                                         \n",
                            "  Metadata_Object_ConvertImageToObjects_AreaShape_BoundingBoxArea\n",
                            "1 38250                                                          \n",
                            "2 34170                                                          \n",
                            "3 41736                                                          \n",
                            "4 43616                                                          \n",
                            "5 25894                                                          \n",
                            "6 40920                                                          \n",
                            "  Metadata_Object_ConvertImageToObjects_AreaShape_BoundingBoxMaximum_X\n",
                            "1 269                                                                 \n",
                            "2 208                                                                 \n",
                            "3 250                                                                 \n",
                            "4 212                                                                 \n",
                            "5 283                                                                 \n",
                            "6 229                                                                 \n",
                            "  Metadata_Object_ConvertImageToObjects_AreaShape_BoundingBoxMaximum_Y\n",
                            "1 182                                                                 \n",
                            "2 245                                                                 \n",
                            "3 267                                                                 \n",
                            "4 272                                                                 \n",
                            "5 155                                                                 \n",
                            "6 265                                                                 \n",
                            "  Metadata_Object_ConvertImageToObjects_AreaShape_BoundingBoxMinimum_X\n",
                            "1 44                                                                  \n",
                            "2 38                                                                  \n",
                            "3 62                                                                  \n",
                            "4 24                                                                  \n",
                            "5 69                                                                  \n",
                            "6 43                                                                  \n",
                            "  Metadata_Object_ConvertImageToObjects_AreaShape_BoundingBoxMinimum_Y\n",
                            "1 12                                                                  \n",
                            "2 44                                                                  \n",
                            "3 45                                                                  \n",
                            "4 40                                                                  \n",
                            "5 34                                                                  \n",
                            "6 45                                                                  \n",
                            "  Metadata_Object_ConvertImageToObjects_Location_CenterMassIntensity_X_OP\n",
                            "1 131.5461                                                               \n",
                            "2 106.9621                                                               \n",
                            "3 131.3598                                                               \n",
                            "4 101.0699                                                               \n",
                            "5 164.5791                                                               \n",
                            "6 119.3891                                                               \n",
                            "  Metadata_Object_ConvertImageToObjects_Location_CenterMassIntensity_Y_OP \u22ef\n",
                            "1 118.6411                                                                \u22ef\n",
                            "2 162.3042                                                                \u22ef\n",
                            "3 159.4445                                                                \u22ef\n",
                            "4 185.4864                                                                \u22ef\n",
                            "5 105.2665                                                                \u22ef\n",
                            "6 173.5103                                                                \u22ef\n",
                            "  Texture_SumEntropy_OP_3_02_256 Texture_SumEntropy_OP_3_03_256\n",
                            "1 0.8414748                      0.8345736                     \n",
                            "2 0.4524796                      0.4361385                     \n",
                            "3 0.4948130                      0.4908441                     \n",
                            "4 0.8787288                      0.8656168                     \n",
                            "5 0.4767676                      0.4826737                     \n",
                            "6 0.1422418                      0.1351928                     \n",
                            "  Texture_SumVariance_OP_3_00_256 Texture_SumVariance_OP_3_01_256\n",
                            "1  1.14918564                      1.1522001                     \n",
                            "2  0.11217819                      0.1319819                     \n",
                            "3 -0.01613966                      0.0010415                     \n",
                            "4  1.12090459                      1.1406044                     \n",
                            "5  0.17788587                      0.1479330                     \n",
                            "6 -0.28744321                     -0.2676854                     \n",
                            "  Texture_SumVariance_OP_3_02_256 Texture_SumVariance_OP_3_03_256\n",
                            "1  1.07890507                      1.14484796                    \n",
                            "2  0.10860250                      0.12569959                    \n",
                            "3 -0.02199706                     -0.02099207                    \n",
                            "4  1.07452904                      1.11794134                    \n",
                            "5  0.10331342                      0.15645695                    \n",
                            "6 -0.30011318                     -0.29231741                    \n",
                            "  Texture_Variance_OP_3_00_256 Texture_Variance_OP_3_01_256\n",
                            "1  1.04000878                   1.02573996                 \n",
                            "2  0.07571690                   0.07120688                 \n",
                            "3 -0.03393425                  -0.04263493                 \n",
                            "4  1.03158516                   1.01517198                 \n",
                            "5  0.11176513                   0.10784585                 \n",
                            "6 -0.31932910                  -0.32658057                 \n",
                            "  Texture_Variance_OP_3_02_256 Texture_Variance_OP_3_03_256\n",
                            "1  1.04549223                   1.02761705                 \n",
                            "2  0.07647711                   0.06792193                 \n",
                            "3 -0.03498345                  -0.03876252                 \n",
                            "4  1.03514983                   1.01918842                 \n",
                            "5  0.11761376                   0.10885888                 \n",
                            "6 -0.31978483                  -0.32240245                 "
                        ]
                    },
                    "metadata": {},
                    "output_type": "display_data"
                }
            ],
            "source": [
                "# path to the anova data\n",
                "non_aggregated_anova_genotype_df_path <- file.path(\"..\",\"..\",\"data\",\"6.analysis_results\",\"non_aggregated_anova_results.parquet\")\n",
                "non_aggregated_data_path <- file.path(\"..\",\"..\",\"data\",\"5.converted_data\",\"non_aggregated_data.parquet\")\n",
                "fig_path <- file.path(\"..\",\"figures\",\"non_aggregated\")\n",
                "# create the figure directory if it does not exist\n",
                "if (!dir.exists(fig_path)){\n",
                "  dir.create(fig_path, recursive = TRUE)\n",
                "}\n",
                "\n",
                "# read the data\n",
                "non_aggregated_data_df <- arrow::read_parquet(non_aggregated_data_path)\n",
                "head(non_aggregated_data_df)\n",
                "\n",
                "# read the anova data\n",
                "non_aggregated_anova_df <- arrow::read_parquet(non_aggregated_anova_genotype_df_path)\n"
            ]
        },
        {
            "cell_type": "markdown",
            "id": "7c6b5dda",
            "metadata": {
                "papermill": {
                    "duration": 0.002102,
                    "end_time": "2024-05-04T20:35:24.955926",
                    "exception": false,
                    "start_time": "2024-05-04T20:35:24.953824",
                    "status": "completed"
                },
                "tags": []
            },
            "source": [
                "## Genotype, side and identity level data"
            ]
        },
        {
            "cell_type": "markdown",
            "id": "5cd4953c",
            "metadata": {
                "papermill": {
                    "duration": 0.002151,
                    "end_time": "2024-05-04T20:35:24.960052",
                    "exception": false,
                    "start_time": "2024-05-04T20:35:24.957901",
                    "status": "completed"
                },
                "tags": []
            },
            "source": [
                "### ANOVA means"
            ]
        },
        {
            "cell_type": "code",
            "execution_count": 3,
            "id": "1a6cf350",
            "metadata": {
                "execution": {
                    "iopub.execute_input": "2024-05-04T20:35:24.965301Z",
                    "iopub.status.busy": "2024-05-04T20:35:24.964643Z",
                    "iopub.status.idle": "2024-05-04T20:35:24.988806Z",
                    "shell.execute_reply": "2024-05-04T20:35:24.988137Z"
                },
                "papermill": {
                    "duration": 0.02751,
                    "end_time": "2024-05-04T20:35:24.989648",
                    "exception": false,
                    "start_time": "2024-05-04T20:35:24.962138",
                    "status": "completed"
                },
                "tags": [],
                "vscode": {
                    "languageId": "r"
                }
            },
            "outputs": [
                {
                    "data": {
                        "text/html": [
                            "<table class=\"dataframe\">\n",
                            "<caption>A tibble: 6 \u00d7 12</caption>\n",
                            "<thead>\n",
                            "\t<tr><th scope=col>group1</th><th scope=col>group2</th><th scope=col>meandiff</th><th scope=col>p-adj</th><th scope=col>lower</th><th scope=col>upper</th><th scope=col>reject</th><th scope=col>feature</th><th scope=col>anova_p_value</th><th scope=col>log10_anova_p_value</th><th scope=col>feature_type</th><th scope=col>feature_name</th></tr>\n",
                            "\t<tr><th scope=col>&lt;chr&gt;</th><th scope=col>&lt;chr&gt;</th><th scope=col>&lt;dbl&gt;</th><th scope=col>&lt;dbl&gt;</th><th scope=col>&lt;dbl&gt;</th><th scope=col>&lt;dbl&gt;</th><th scope=col>&lt;lgl&gt;</th><th scope=col>&lt;chr&gt;</th><th scope=col>&lt;dbl&gt;</th><th scope=col>&lt;dbl&gt;</th><th scope=col>&lt;chr&gt;</th><th scope=col>&lt;chr&gt;</th></tr>\n",
                            "</thead>\n",
                            "<tbody>\n",
                            "\t<tr><td>high </td><td>unsel</td><td>0.0425</td><td>0.9824</td><td>-0.5191</td><td>0.6042</td><td>FALSE</td><td>RadialDistribution_ZernikePhase_OP_7_5</td><td>0.9593022</td><td>0.01804454</td><td>RadialDistribution</td><td>ZernikePhase </td></tr>\n",
                            "\t<tr><td>high </td><td>wt   </td><td>0.0674</td><td>0.9553</td><td>-0.4872</td><td>0.6220</td><td>FALSE</td><td>RadialDistribution_ZernikePhase_OP_7_5</td><td>0.9593022</td><td>0.01804454</td><td>RadialDistribution</td><td>ZernikePhase </td></tr>\n",
                            "\t<tr><td>unsel</td><td>wt   </td><td>0.0249</td><td>0.9910</td><td>-0.4366</td><td>0.4863</td><td>FALSE</td><td>RadialDistribution_ZernikePhase_OP_7_5</td><td>0.9593022</td><td>0.01804454</td><td>RadialDistribution</td><td>ZernikePhase </td></tr>\n",
                            "\t<tr><td>high </td><td>unsel</td><td>0.0094</td><td>0.9991</td><td>-0.5519</td><td>0.5708</td><td>FALSE</td><td>AreaShape_CentralMoment_1_0           </td><td>0.8963440</td><td>0.04752526</td><td>AreaShape         </td><td>CentralMoment</td></tr>\n",
                            "\t<tr><td>high </td><td>wt   </td><td>0.0882</td><td>0.9246</td><td>-0.4661</td><td>0.6425</td><td>FALSE</td><td>AreaShape_CentralMoment_1_0           </td><td>0.8963440</td><td>0.04752526</td><td>AreaShape         </td><td>CentralMoment</td></tr>\n",
                            "\t<tr><td>unsel</td><td>wt   </td><td>0.0788</td><td>0.9137</td><td>-0.3824</td><td>0.5400</td><td>FALSE</td><td>AreaShape_CentralMoment_1_0           </td><td>0.8963440</td><td>0.04752526</td><td>AreaShape         </td><td>CentralMoment</td></tr>\n",
                            "</tbody>\n",
                            "</table>\n"
                        ],
                        "text/latex": [
                            "A tibble: 6 \u00d7 12\n",
                            "\\begin{tabular}{llllllllllll}\n",
                            " group1 & group2 & meandiff & p-adj & lower & upper & reject & feature & anova\\_p\\_value & log10\\_anova\\_p\\_value & feature\\_type & feature\\_name\\\\\n",
                            " <chr> & <chr> & <dbl> & <dbl> & <dbl> & <dbl> & <lgl> & <chr> & <dbl> & <dbl> & <chr> & <chr>\\\\\n",
                            "\\hline\n",
                            "\t high  & unsel & 0.0425 & 0.9824 & -0.5191 & 0.6042 & FALSE & RadialDistribution\\_ZernikePhase\\_OP\\_7\\_5 & 0.9593022 & 0.01804454 & RadialDistribution & ZernikePhase \\\\\n",
                            "\t high  & wt    & 0.0674 & 0.9553 & -0.4872 & 0.6220 & FALSE & RadialDistribution\\_ZernikePhase\\_OP\\_7\\_5 & 0.9593022 & 0.01804454 & RadialDistribution & ZernikePhase \\\\\n",
                            "\t unsel & wt    & 0.0249 & 0.9910 & -0.4366 & 0.4863 & FALSE & RadialDistribution\\_ZernikePhase\\_OP\\_7\\_5 & 0.9593022 & 0.01804454 & RadialDistribution & ZernikePhase \\\\\n",
                            "\t high  & unsel & 0.0094 & 0.9991 & -0.5519 & 0.5708 & FALSE & AreaShape\\_CentralMoment\\_1\\_0            & 0.8963440 & 0.04752526 & AreaShape          & CentralMoment\\\\\n",
                            "\t high  & wt    & 0.0882 & 0.9246 & -0.4661 & 0.6425 & FALSE & AreaShape\\_CentralMoment\\_1\\_0            & 0.8963440 & 0.04752526 & AreaShape          & CentralMoment\\\\\n",
                            "\t unsel & wt    & 0.0788 & 0.9137 & -0.3824 & 0.5400 & FALSE & AreaShape\\_CentralMoment\\_1\\_0            & 0.8963440 & 0.04752526 & AreaShape          & CentralMoment\\\\\n",
                            "\\end{tabular}\n"
                        ],
                        "text/markdown": [
                            "\n",
                            "A tibble: 6 \u00d7 12\n",
                            "\n",
                            "| group1 &lt;chr&gt; | group2 &lt;chr&gt; | meandiff &lt;dbl&gt; | p-adj &lt;dbl&gt; | lower &lt;dbl&gt; | upper &lt;dbl&gt; | reject &lt;lgl&gt; | feature &lt;chr&gt; | anova_p_value &lt;dbl&gt; | log10_anova_p_value &lt;dbl&gt; | feature_type &lt;chr&gt; | feature_name &lt;chr&gt; |\n",
                            "|---|---|---|---|---|---|---|---|---|---|---|---|\n",
                            "| high  | unsel | 0.0425 | 0.9824 | -0.5191 | 0.6042 | FALSE | RadialDistribution_ZernikePhase_OP_7_5 | 0.9593022 | 0.01804454 | RadialDistribution | ZernikePhase  |\n",
                            "| high  | wt    | 0.0674 | 0.9553 | -0.4872 | 0.6220 | FALSE | RadialDistribution_ZernikePhase_OP_7_5 | 0.9593022 | 0.01804454 | RadialDistribution | ZernikePhase  |\n",
                            "| unsel | wt    | 0.0249 | 0.9910 | -0.4366 | 0.4863 | FALSE | RadialDistribution_ZernikePhase_OP_7_5 | 0.9593022 | 0.01804454 | RadialDistribution | ZernikePhase  |\n",
                            "| high  | unsel | 0.0094 | 0.9991 | -0.5519 | 0.5708 | FALSE | AreaShape_CentralMoment_1_0            | 0.8963440 | 0.04752526 | AreaShape          | CentralMoment |\n",
                            "| high  | wt    | 0.0882 | 0.9246 | -0.4661 | 0.6425 | FALSE | AreaShape_CentralMoment_1_0            | 0.8963440 | 0.04752526 | AreaShape          | CentralMoment |\n",
                            "| unsel | wt    | 0.0788 | 0.9137 | -0.3824 | 0.5400 | FALSE | AreaShape_CentralMoment_1_0            | 0.8963440 | 0.04752526 | AreaShape          | CentralMoment |\n",
                            "\n"
                        ],
                        "text/plain": [
                            "  group1 group2 meandiff p-adj  lower   upper  reject\n",
                            "1 high   unsel  0.0425   0.9824 -0.5191 0.6042 FALSE \n",
                            "2 high   wt     0.0674   0.9553 -0.4872 0.6220 FALSE \n",
                            "3 unsel  wt     0.0249   0.9910 -0.4366 0.4863 FALSE \n",
                            "4 high   unsel  0.0094   0.9991 -0.5519 0.5708 FALSE \n",
                            "5 high   wt     0.0882   0.9246 -0.4661 0.6425 FALSE \n",
                            "6 unsel  wt     0.0788   0.9137 -0.3824 0.5400 FALSE \n",
                            "  feature                                anova_p_value log10_anova_p_value\n",
                            "1 RadialDistribution_ZernikePhase_OP_7_5 0.9593022     0.01804454         \n",
                            "2 RadialDistribution_ZernikePhase_OP_7_5 0.9593022     0.01804454         \n",
                            "3 RadialDistribution_ZernikePhase_OP_7_5 0.9593022     0.01804454         \n",
                            "4 AreaShape_CentralMoment_1_0            0.8963440     0.04752526         \n",
                            "5 AreaShape_CentralMoment_1_0            0.8963440     0.04752526         \n",
                            "6 AreaShape_CentralMoment_1_0            0.8963440     0.04752526         \n",
                            "  feature_type       feature_name \n",
                            "1 RadialDistribution ZernikePhase \n",
                            "2 RadialDistribution ZernikePhase \n",
                            "3 RadialDistribution ZernikePhase \n",
                            "4 AreaShape          CentralMoment\n",
                            "5 AreaShape          CentralMoment\n",
                            "6 AreaShape          CentralMoment"
                        ]
                    },
                    "metadata": {},
                    "output_type": "display_data"
                }
            ],
            "source": [
                "\n",
                "non_aggregated_anova_df$log10_anova_p_value <- -log10(non_aggregated_anova_df$anova_p_value)\n",
                "# order the results by log10 anova p-value\n",
                "non_aggregated_anova_df <- non_aggregated_anova_df %>% arrange(log10_anova_p_value)\n",
                "# split the feature into 3 groups at \"_\"\n",
                "non_aggregated_anova_df$feature_type <- sapply(strsplit(non_aggregated_anova_df$feature, \"_\"), function(x) x[1])\n",
                "non_aggregated_anova_df$feature_name <- sapply(strsplit(non_aggregated_anova_df$feature, \"_\"), function(x) x[2])\n",
                "head(non_aggregated_anova_df)\n"
            ]
        },
        {
            "cell_type": "code",
            "execution_count": 4,
            "id": "a2d7686e",
            "metadata": {
                "execution": {
                    "iopub.execute_input": "2024-05-04T20:35:24.995296Z",
                    "iopub.status.busy": "2024-05-04T20:35:24.994421Z",
                    "iopub.status.idle": "2024-05-04T20:35:27.236299Z",
                    "shell.execute_reply": "2024-05-04T20:35:27.235597Z"
                },
                "papermill": {
                    "duration": 2.246074,
                    "end_time": "2024-05-04T20:35:27.237543",
                    "exception": false,
                    "start_time": "2024-05-04T20:35:24.991469",
                    "status": "completed"
                },
                "tags": [],
                "vscode": {
                    "languageId": "r"
                }
            },
            "outputs": [
                {
                    "data": {
                        "image/png": "[encoded data removed]",
                        "text/plain": [
                            "plot without title"
                        ]
                    },
                    "metadata": {
                        "image/png": {
                            "height": 600,
                            "width": 1200
                        }
                    },
                    "output_type": "display_data"
                }
            ],
            "source": [
                "width <- 20\n",
                "height <- 10\n",
                "options(repr.plot.width = width, repr.plot.height = height)\n",
                "anova_plot <- (\n",
                "    # order the results by log10 anova p-value\n",
                "    ggplot(non_aggregated_anova_df, aes(y = reorder(feature, log10_anova_p_value), x = log10_anova_p_value, fill = feature_type))\n",
                "    + geom_bar(stat = \"identity\")\n",
                "    # drop y axis labels\n",
                "    + theme(axis.text.x = element_text(angle = 90, hjust = 1))\n",
                "    + labs(title = \"ANOVA Analysis\", y = \"Feature\", x = \"-log10(ANOVA p-value)\", fill = \"Feature Type\")\n",
                "   \n",
                "    + figure_theme\n",
                "\n",
                "\n",
                "    + theme(axis.text.y = element_blank(), panel.grid.major = element_blank(), panel.grid.minor = element_blank())\n",
                "    + theme(axis.text.y = element_blank())\n",
                "    + geom_hline(yintercept = length(unique(non_aggregated_anova_df$feature))-10, linetype = \"dashed\", color = \"black\")\n",
                "     \n",
                ")\n",
                "anova_plot\n",
                "# save the plot\n",
                "ggsave(file = \"non_aggregatednova_plot.png\", plot = anova_plot, path = file.path(fig_path), width = width, height = height, dpi = 600)"
            ]
        },
        {
            "cell_type": "markdown",
            "id": "d63f3471",
            "metadata": {
                "papermill": {
                    "duration": 0.002702,
                    "end_time": "2024-05-04T20:35:27.242497",
                    "exception": false,
                    "start_time": "2024-05-04T20:35:27.239795",
                    "status": "completed"
                },
                "tags": []
            },
            "source": [
                "## Test for equality of variance "
            ]
        },
        {
            "cell_type": "code",
            "execution_count": 5,
            "id": "6528a401",
            "metadata": {
                "execution": {
                    "iopub.execute_input": "2024-05-04T20:35:27.249638Z",
                    "iopub.status.busy": "2024-05-04T20:35:27.249006Z",
                    "iopub.status.idle": "2024-05-04T20:35:27.264112Z",
                    "shell.execute_reply": "2024-05-04T20:35:27.263421Z"
                },
                "papermill": {
                    "duration": 0.019629,
                    "end_time": "2024-05-04T20:35:27.264976",
                    "exception": false,
                    "start_time": "2024-05-04T20:35:27.245347",
                    "status": "completed"
                },
                "tags": [],
                "vscode": {
                    "languageId": "r"
                }
            },
            "outputs": [
                {
                    "data": {
                        "text/html": [
                            "<table class=\"dataframe\">\n",
                            "<caption>A data.frame: 6 \u00d7 5</caption>\n",
                            "<thead>\n",
                            "\t<tr><th></th><th scope=col>X</th><th scope=col>feature</th><th scope=col>levene_statistic</th><th scope=col>levene_p_value</th><th scope=col>group</th></tr>\n",
                            "\t<tr><th></th><th scope=col>&lt;int&gt;</th><th scope=col>&lt;chr&gt;</th><th scope=col>&lt;dbl&gt;</th><th scope=col>&lt;dbl&gt;</th><th scope=col>&lt;chr&gt;</th></tr>\n",
                            "</thead>\n",
                            "<tbody>\n",
                            "\t<tr><th scope=row>1</th><td>427</td><td>RadialDistribution_ZernikePhase_OP_8_2    </td><td>9.215577e-05</td><td>0.9923639</td><td>high_vs_wt   </td></tr>\n",
                            "\t<tr><th scope=row>2</th><td>439</td><td>Texture_AngularSecondMoment_OP_3_03_256   </td><td>6.200963e-04</td><td>0.9801938</td><td>high_vs_wt   </td></tr>\n",
                            "\t<tr><th scope=row>3</th><td>148</td><td>RadialDistribution_ZernikeMagnitude_OP_6_4</td><td>6.497006e-04</td><td>0.9797298</td><td>high_vs_unsel</td></tr>\n",
                            "\t<tr><th scope=row>4</th><td>142</td><td>RadialDistribution_ZernikeMagnitude_OP_4_4</td><td>7.542741e-04</td><td>0.9781598</td><td>high_vs_unsel</td></tr>\n",
                            "\t<tr><th scope=row>5</th><td>557</td><td>AreaShape_Zernike_1_1                     </td><td>7.959461e-04</td><td>0.9775457</td><td>unsel_vs_wt  </td></tr>\n",
                            "\t<tr><th scope=row>6</th><td>273</td><td>AreaShape_InertiaTensor_0_0               </td><td>8.132388e-04</td><td>0.9773188</td><td>high_vs_wt   </td></tr>\n",
                            "</tbody>\n",
                            "</table>\n"
                        ],
                        "text/latex": [
                            "A data.frame: 6 \u00d7 5\n",
                            "\\begin{tabular}{r|lllll}\n",
                            "  & X & feature & levene\\_statistic & levene\\_p\\_value & group\\\\\n",
                            "  & <int> & <chr> & <dbl> & <dbl> & <chr>\\\\\n",
                            "\\hline\n",
                            "\t1 & 427 & RadialDistribution\\_ZernikePhase\\_OP\\_8\\_2     & 9.215577e-05 & 0.9923639 & high\\_vs\\_wt   \\\\\n",
                            "\t2 & 439 & Texture\\_AngularSecondMoment\\_OP\\_3\\_03\\_256    & 6.200963e-04 & 0.9801938 & high\\_vs\\_wt   \\\\\n",
                            "\t3 & 148 & RadialDistribution\\_ZernikeMagnitude\\_OP\\_6\\_4 & 6.497006e-04 & 0.9797298 & high\\_vs\\_unsel\\\\\n",
                            "\t4 & 142 & RadialDistribution\\_ZernikeMagnitude\\_OP\\_4\\_4 & 7.542741e-04 & 0.9781598 & high\\_vs\\_unsel\\\\\n",
                            "\t5 & 557 & AreaShape\\_Zernike\\_1\\_1                      & 7.959461e-04 & 0.9775457 & unsel\\_vs\\_wt  \\\\\n",
                            "\t6 & 273 & AreaShape\\_InertiaTensor\\_0\\_0                & 8.132388e-04 & 0.9773188 & high\\_vs\\_wt   \\\\\n",
                            "\\end{tabular}\n"
                        ],
                        "text/markdown": [
                            "\n",
                            "A data.frame: 6 \u00d7 5\n",
                            "\n",
                            "| <!--/--> | X &lt;int&gt; | feature &lt;chr&gt; | levene_statistic &lt;dbl&gt; | levene_p_value &lt;dbl&gt; | group &lt;chr&gt; |\n",
                            "|---|---|---|---|---|---|\n",
                            "| 1 | 427 | RadialDistribution_ZernikePhase_OP_8_2     | 9.215577e-05 | 0.9923639 | high_vs_wt    |\n",
                            "| 2 | 439 | Texture_AngularSecondMoment_OP_3_03_256    | 6.200963e-04 | 0.9801938 | high_vs_wt    |\n",
                            "| 3 | 148 | RadialDistribution_ZernikeMagnitude_OP_6_4 | 6.497006e-04 | 0.9797298 | high_vs_unsel |\n",
                            "| 4 | 142 | RadialDistribution_ZernikeMagnitude_OP_4_4 | 7.542741e-04 | 0.9781598 | high_vs_unsel |\n",
                            "| 5 | 557 | AreaShape_Zernike_1_1                      | 7.959461e-04 | 0.9775457 | unsel_vs_wt   |\n",
                            "| 6 | 273 | AreaShape_InertiaTensor_0_0                | 8.132388e-04 | 0.9773188 | high_vs_wt    |\n",
                            "\n"
                        ],
                        "text/plain": [
                            "  X   feature                                    levene_statistic\n",
                            "1 427 RadialDistribution_ZernikePhase_OP_8_2     9.215577e-05    \n",
                            "2 439 Texture_AngularSecondMoment_OP_3_03_256    6.200963e-04    \n",
                            "3 148 RadialDistribution_ZernikeMagnitude_OP_6_4 6.497006e-04    \n",
                            "4 142 RadialDistribution_ZernikeMagnitude_OP_4_4 7.542741e-04    \n",
                            "5 557 AreaShape_Zernike_1_1                      7.959461e-04    \n",
                            "6 273 AreaShape_InertiaTensor_0_0                8.132388e-04    \n",
                            "  levene_p_value group        \n",
                            "1 0.9923639      high_vs_wt   \n",
                            "2 0.9801938      high_vs_wt   \n",
                            "3 0.9797298      high_vs_unsel\n",
                            "4 0.9781598      high_vs_unsel\n",
                            "5 0.9775457      unsel_vs_wt  \n",
                            "6 0.9773188      high_vs_wt   "
                        ]
                    },
                    "metadata": {},
                    "output_type": "display_data"
                }
            ],
            "source": [
                "# load levene data in \n",
                "non_aggregated_levene_df_path <- file.path(\"..\",\"..\",\"data\",\"6.analysis_results\",\"non_aggregated_levene_test_results.csv\")\n",
                "non_aggregated_levene_df <- read.csv(non_aggregated_levene_df_path)\n",
                "head(non_aggregated_levene_df)"
            ]
        },
        {
            "cell_type": "markdown",
            "id": "2332ec9a",
            "metadata": {
                "papermill": {
                    "duration": 0.003145,
                    "end_time": "2024-05-04T20:35:27.271111",
                    "exception": false,
                    "start_time": "2024-05-04T20:35:27.267966",
                    "status": "completed"
                },
                "tags": []
            },
            "source": [
                "### Variances"
            ]
        },
        {
            "cell_type": "code",
            "execution_count": 6,
            "id": "11f311fd",
            "metadata": {
                "execution": {
                    "iopub.execute_input": "2024-05-04T20:35:27.278578Z",
                    "iopub.status.busy": "2024-05-04T20:35:27.277942Z",
                    "iopub.status.idle": "2024-05-04T20:35:27.364829Z",
                    "shell.execute_reply": "2024-05-04T20:35:27.364096Z"
                },
                "papermill": {
                    "duration": 0.091396,
                    "end_time": "2024-05-04T20:35:27.365729",
                    "exception": false,
                    "start_time": "2024-05-04T20:35:27.274333",
                    "status": "completed"
                },
                "tags": [],
                "vscode": {
                    "languageId": "r"
                }
            },
            "outputs": [
                {
                    "data": {
                        "text/html": [
                            "<style>\n",
                            ".list-inline {list-style: none; margin:0; padding: 0}\n",
                            ".list-inline>li {display: inline-block}\n",
                            ".list-inline>li:not(:last-child)::after {content: \"\\00b7\"; padding: 0 .5ex}\n",
                            "</style>\n",
                            "<ol class=list-inline><li>'Intensity_MeanIntensityEdge_OP'</li><li>'Intensity_MaxIntensityEdge_OP'</li><li>'Intensity_StdIntensityEdge_OP'</li><li>'Intensity_LowerQuartileIntensity_OP'</li><li>'AreaShape_Zernike_2_0'</li><li>'AreaShape_Area'</li><li>'AreaShape_CentralMoment_0_0'</li><li>'AreaShape_SpatialMoment_0_0'</li><li>'AreaShape_MedianRadius'</li><li>'AreaShape_SpatialMoment_1_0'</li><li>'AreaShape_ConvexArea'</li><li>'AreaShape_MeanRadius'</li><li>'AreaShape_EquivalentDiameter'</li><li>'AreaShape_InertiaTensorEigenvalues_1'</li><li>'AreaShape_SpatialMoment_2_0'</li><li>'Intensity_MinIntensityEdge_OP'</li><li>'Intensity_MinIntensity_OP'</li><li>'AreaShape_SpatialMoment_0_1'</li><li>'AreaShape_MinorAxisLength'</li><li>'AreaShape_SpatialMoment_1_1'</li></ol>\n"
                        ],
                        "text/latex": [
                            "\\begin{enumerate*}\n",
                            "\\item 'Intensity\\_MeanIntensityEdge\\_OP'\n",
                            "\\item 'Intensity\\_MaxIntensityEdge\\_OP'\n",
                            "\\item 'Intensity\\_StdIntensityEdge\\_OP'\n",
                            "\\item 'Intensity\\_LowerQuartileIntensity\\_OP'\n",
                            "\\item 'AreaShape\\_Zernike\\_2\\_0'\n",
                            "\\item 'AreaShape\\_Area'\n",
                            "\\item 'AreaShape\\_CentralMoment\\_0\\_0'\n",
                            "\\item 'AreaShape\\_SpatialMoment\\_0\\_0'\n",
                            "\\item 'AreaShape\\_MedianRadius'\n",
                            "\\item 'AreaShape\\_SpatialMoment\\_1\\_0'\n",
                            "\\item 'AreaShape\\_ConvexArea'\n",
                            "\\item 'AreaShape\\_MeanRadius'\n",
                            "\\item 'AreaShape\\_EquivalentDiameter'\n",
                            "\\item 'AreaShape\\_InertiaTensorEigenvalues\\_1'\n",
                            "\\item 'AreaShape\\_SpatialMoment\\_2\\_0'\n",
                            "\\item 'Intensity\\_MinIntensityEdge\\_OP'\n",
                            "\\item 'Intensity\\_MinIntensity\\_OP'\n",
                            "\\item 'AreaShape\\_SpatialMoment\\_0\\_1'\n",
                            "\\item 'AreaShape\\_MinorAxisLength'\n",
                            "\\item 'AreaShape\\_SpatialMoment\\_1\\_1'\n",
                            "\\end{enumerate*}\n"
                        ],
                        "text/markdown": [
                            "1. 'Intensity_MeanIntensityEdge_OP'\n",
                            "2. 'Intensity_MaxIntensityEdge_OP'\n",
                            "3. 'Intensity_StdIntensityEdge_OP'\n",
                            "4. 'Intensity_LowerQuartileIntensity_OP'\n",
                            "5. 'AreaShape_Zernike_2_0'\n",
                            "6. 'AreaShape_Area'\n",
                            "7. 'AreaShape_CentralMoment_0_0'\n",
                            "8. 'AreaShape_SpatialMoment_0_0'\n",
                            "9. 'AreaShape_MedianRadius'\n",
                            "10. 'AreaShape_SpatialMoment_1_0'\n",
                            "11. 'AreaShape_ConvexArea'\n",
                            "12. 'AreaShape_MeanRadius'\n",
                            "13. 'AreaShape_EquivalentDiameter'\n",
                            "14. 'AreaShape_InertiaTensorEigenvalues_1'\n",
                            "15. 'AreaShape_SpatialMoment_2_0'\n",
                            "16. 'Intensity_MinIntensityEdge_OP'\n",
                            "17. 'Intensity_MinIntensity_OP'\n",
                            "18. 'AreaShape_SpatialMoment_0_1'\n",
                            "19. 'AreaShape_MinorAxisLength'\n",
                            "20. 'AreaShape_SpatialMoment_1_1'\n",
                            "\n",
                            "\n"
                        ],
                        "text/plain": [
                            " [1] \"Intensity_MeanIntensityEdge_OP\"      \n",
                            " [2] \"Intensity_MaxIntensityEdge_OP\"       \n",
                            " [3] \"Intensity_StdIntensityEdge_OP\"       \n",
                            " [4] \"Intensity_LowerQuartileIntensity_OP\" \n",
                            " [5] \"AreaShape_Zernike_2_0\"               \n",
                            " [6] \"AreaShape_Area\"                      \n",
                            " [7] \"AreaShape_CentralMoment_0_0\"         \n",
                            " [8] \"AreaShape_SpatialMoment_0_0\"         \n",
                            " [9] \"AreaShape_MedianRadius\"              \n",
                            "[10] \"AreaShape_SpatialMoment_1_0\"         \n",
                            "[11] \"AreaShape_ConvexArea\"                \n",
                            "[12] \"AreaShape_MeanRadius\"                \n",
                            "[13] \"AreaShape_EquivalentDiameter\"        \n",
                            "[14] \"AreaShape_InertiaTensorEigenvalues_1\"\n",
                            "[15] \"AreaShape_SpatialMoment_2_0\"         \n",
                            "[16] \"Intensity_MinIntensityEdge_OP\"       \n",
                            "[17] \"Intensity_MinIntensity_OP\"           \n",
                            "[18] \"AreaShape_SpatialMoment_0_1\"         \n",
                            "[19] \"AreaShape_MinorAxisLength\"           \n",
                            "[20] \"AreaShape_SpatialMoment_1_1\"         "
                        ]
                    },
                    "metadata": {},
                    "output_type": "display_data"
                },
                {
                    "data": {
                        "text/html": [
                            "<table class=\"dataframe\">\n",
                            "<caption>A tibble: 6 \u00d7 268</caption>\n",
                            "<thead>\n",
                            "\t<tr><th scope=col>Metadata_Image_FileName_OP</th><th scope=col>Metadata_ObjectNumber</th><th scope=col>Metadata_Object_ConvertImageToObjects_Number_Object_Number</th><th scope=col>Metadata_Object_ConvertImageToObjects_AreaShape_BoundingBoxArea</th><th scope=col>Metadata_Object_ConvertImageToObjects_AreaShape_BoundingBoxMaximum_X</th><th scope=col>Metadata_Object_ConvertImageToObjects_AreaShape_BoundingBoxMaximum_Y</th><th scope=col>Metadata_Object_ConvertImageToObjects_AreaShape_BoundingBoxMinimum_X</th><th scope=col>Metadata_Object_ConvertImageToObjects_AreaShape_BoundingBoxMinimum_Y</th><th scope=col>Metadata_Object_ConvertImageToObjects_Location_CenterMassIntensity_X_OP</th><th scope=col>Metadata_Object_ConvertImageToObjects_Location_CenterMassIntensity_Y_OP</th><th scope=col>\u22ef</th><th scope=col>Texture_SumEntropy_OP_3_02_256</th><th scope=col>Texture_SumEntropy_OP_3_03_256</th><th scope=col>Texture_SumVariance_OP_3_00_256</th><th scope=col>Texture_SumVariance_OP_3_01_256</th><th scope=col>Texture_SumVariance_OP_3_02_256</th><th scope=col>Texture_SumVariance_OP_3_03_256</th><th scope=col>Texture_Variance_OP_3_00_256</th><th scope=col>Texture_Variance_OP_3_01_256</th><th scope=col>Texture_Variance_OP_3_02_256</th><th scope=col>Texture_Variance_OP_3_03_256</th></tr>\n",
                            "\t<tr><th scope=col>&lt;chr&gt;</th><th scope=col>&lt;int&gt;</th><th scope=col>&lt;int&gt;</th><th scope=col>&lt;dbl&gt;</th><th scope=col>&lt;dbl&gt;</th><th scope=col>&lt;dbl&gt;</th><th scope=col>&lt;dbl&gt;</th><th scope=col>&lt;dbl&gt;</th><th scope=col>&lt;dbl&gt;</th><th scope=col>&lt;dbl&gt;</th><th scope=col>\u22ef</th><th scope=col>&lt;dbl&gt;</th><th scope=col>&lt;dbl&gt;</th><th scope=col>&lt;dbl&gt;</th><th scope=col>&lt;dbl&gt;</th><th scope=col>&lt;dbl&gt;</th><th scope=col>&lt;dbl&gt;</th><th scope=col>&lt;dbl&gt;</th><th scope=col>&lt;dbl&gt;</th><th scope=col>&lt;dbl&gt;</th><th scope=col>&lt;dbl&gt;</th></tr>\n",
                            "</thead>\n",
                            "<tbody>\n",
                            "\t<tr><td>MAX_high_10_L.tiff</td><td>1</td><td>1</td><td>38250</td><td>269</td><td>182</td><td>44</td><td>12</td><td>131.5461</td><td>118.6411</td><td>\u22ef</td><td>0.8414748</td><td>0.8345736</td><td> 1.14918564</td><td> 1.1522001</td><td> 1.07890507</td><td> 1.14484796</td><td> 1.04000878</td><td> 1.02573996</td><td> 1.04549223</td><td> 1.02761705</td></tr>\n",
                            "\t<tr><td>MAX_high_10_R.tiff</td><td>1</td><td>1</td><td>34170</td><td>208</td><td>245</td><td>38</td><td>44</td><td>106.9621</td><td>162.3042</td><td>\u22ef</td><td>0.4524796</td><td>0.4361385</td><td> 0.11217819</td><td> 0.1319819</td><td> 0.10860250</td><td> 0.12569959</td><td> 0.07571690</td><td> 0.07120688</td><td> 0.07647711</td><td> 0.06792193</td></tr>\n",
                            "\t<tr><td>MAX_high_11_L.tiff</td><td>1</td><td>1</td><td>41736</td><td>250</td><td>267</td><td>62</td><td>45</td><td>131.3598</td><td>159.4445</td><td>\u22ef</td><td>0.4948130</td><td>0.4908441</td><td>-0.01613966</td><td> 0.0010415</td><td>-0.02199706</td><td>-0.02099207</td><td>-0.03393425</td><td>-0.04263493</td><td>-0.03498345</td><td>-0.03876252</td></tr>\n",
                            "\t<tr><td>MAX_high_11_R.tiff</td><td>1</td><td>1</td><td>43616</td><td>212</td><td>272</td><td>24</td><td>40</td><td>101.0699</td><td>185.4864</td><td>\u22ef</td><td>0.8787288</td><td>0.8656168</td><td> 1.12090459</td><td> 1.1406044</td><td> 1.07452904</td><td> 1.11794134</td><td> 1.03158516</td><td> 1.01517198</td><td> 1.03514983</td><td> 1.01918842</td></tr>\n",
                            "\t<tr><td>MAX_high_12_L.tiff</td><td>2</td><td>2</td><td>25894</td><td>283</td><td>155</td><td>69</td><td>34</td><td>164.5791</td><td>105.2665</td><td>\u22ef</td><td>0.4767676</td><td>0.4826737</td><td> 0.17788587</td><td> 0.1479330</td><td> 0.10331342</td><td> 0.15645695</td><td> 0.11176513</td><td> 0.10784585</td><td> 0.11761376</td><td> 0.10885888</td></tr>\n",
                            "\t<tr><td>MAX_high_12_R.tiff</td><td>1</td><td>1</td><td>40920</td><td>229</td><td>265</td><td>43</td><td>45</td><td>119.3891</td><td>173.5103</td><td>\u22ef</td><td>0.1422418</td><td>0.1351928</td><td>-0.28744321</td><td>-0.2676854</td><td>-0.30011318</td><td>-0.29231741</td><td>-0.31932910</td><td>-0.32658057</td><td>-0.31978483</td><td>-0.32240245</td></tr>\n",
                            "</tbody>\n",
                            "</table>\n"
                        ],
                        "text/latex": [
                            "A tibble: 6 \u00d7 268\n",
                            "\\begin{tabular}{lllllllllllllllllllll}\n",
                            " Metadata\\_Image\\_FileName\\_OP & Metadata\\_ObjectNumber & Metadata\\_Object\\_ConvertImageToObjects\\_Number\\_Object\\_Number & Metadata\\_Object\\_ConvertImageToObjects\\_AreaShape\\_BoundingBoxArea & Metadata\\_Object\\_ConvertImageToObjects\\_AreaShape\\_BoundingBoxMaximum\\_X & Metadata\\_Object\\_ConvertImageToObjects\\_AreaShape\\_BoundingBoxMaximum\\_Y & Metadata\\_Object\\_ConvertImageToObjects\\_AreaShape\\_BoundingBoxMinimum\\_X & Metadata\\_Object\\_ConvertImageToObjects\\_AreaShape\\_BoundingBoxMinimum\\_Y & Metadata\\_Object\\_ConvertImageToObjects\\_Location\\_CenterMassIntensity\\_X\\_OP & Metadata\\_Object\\_ConvertImageToObjects\\_Location\\_CenterMassIntensity\\_Y\\_OP & \u22ef & Texture\\_SumEntropy\\_OP\\_3\\_02\\_256 & Texture\\_SumEntropy\\_OP\\_3\\_03\\_256 & Texture\\_SumVariance\\_OP\\_3\\_00\\_256 & Texture\\_SumVariance\\_OP\\_3\\_01\\_256 & Texture\\_SumVariance\\_OP\\_3\\_02\\_256 & Texture\\_SumVariance\\_OP\\_3\\_03\\_256 & Texture\\_Variance\\_OP\\_3\\_00\\_256 & Texture\\_Variance\\_OP\\_3\\_01\\_256 & Texture\\_Variance\\_OP\\_3\\_02\\_256 & Texture\\_Variance\\_OP\\_3\\_03\\_256\\\\\n",
                            " <chr> & <int> & <int> & <dbl> & <dbl> & <dbl> & <dbl> & <dbl> & <dbl> & <dbl> & \u22ef & <dbl> & <dbl> & <dbl> & <dbl> & <dbl> & <dbl> & <dbl> & <dbl> & <dbl> & <dbl>\\\\\n",
                            "\\hline\n",
                            "\t MAX\\_high\\_10\\_L.tiff & 1 & 1 & 38250 & 269 & 182 & 44 & 12 & 131.5461 & 118.6411 & \u22ef & 0.8414748 & 0.8345736 &  1.14918564 &  1.1522001 &  1.07890507 &  1.14484796 &  1.04000878 &  1.02573996 &  1.04549223 &  1.02761705\\\\\n",
                            "\t MAX\\_high\\_10\\_R.tiff & 1 & 1 & 34170 & 208 & 245 & 38 & 44 & 106.9621 & 162.3042 & \u22ef & 0.4524796 & 0.4361385 &  0.11217819 &  0.1319819 &  0.10860250 &  0.12569959 &  0.07571690 &  0.07120688 &  0.07647711 &  0.06792193\\\\\n",
                            "\t MAX\\_high\\_11\\_L.tiff & 1 & 1 & 41736 & 250 & 267 & 62 & 45 & 131.3598 & 159.4445 & \u22ef & 0.4948130 & 0.4908441 & -0.01613966 &  0.0010415 & -0.02199706 & -0.02099207 & -0.03393425 & -0.04263493 & -0.03498345 & -0.03876252\\\\\n",
                            "\t MAX\\_high\\_11\\_R.tiff & 1 & 1 & 43616 & 212 & 272 & 24 & 40 & 101.0699 & 185.4864 & \u22ef & 0.8787288 & 0.8656168 &  1.12090459 &  1.1406044 &  1.07452904 &  1.11794134 &  1.03158516 &  1.01517198 &  1.03514983 &  1.01918842\\\\\n",
                            "\t MAX\\_high\\_12\\_L.tiff & 2 & 2 & 25894 & 283 & 155 & 69 & 34 & 164.5791 & 105.2665 & \u22ef & 0.4767676 & 0.4826737 &  0.17788587 &  0.1479330 &  0.10331342 &  0.15645695 &  0.11176513 &  0.10784585 &  0.11761376 &  0.10885888\\\\\n",
                            "\t MAX\\_high\\_12\\_R.tiff & 1 & 1 & 40920 & 229 & 265 & 43 & 45 & 119.3891 & 173.5103 & \u22ef & 0.1422418 & 0.1351928 & -0.28744321 & -0.2676854 & -0.30011318 & -0.29231741 & -0.31932910 & -0.32658057 & -0.31978483 & -0.32240245\\\\\n",
                            "\\end{tabular}\n"
                        ],
                        "text/markdown": [
                            "\n",
                            "A tibble: 6 \u00d7 268\n",
                            "\n",
                            "| Metadata_Image_FileName_OP &lt;chr&gt; | Metadata_ObjectNumber &lt;int&gt; | Metadata_Object_ConvertImageToObjects_Number_Object_Number &lt;int&gt; | Metadata_Object_ConvertImageToObjects_AreaShape_BoundingBoxArea &lt;dbl&gt; | Metadata_Object_ConvertImageToObjects_AreaShape_BoundingBoxMaximum_X &lt;dbl&gt; | Metadata_Object_ConvertImageToObjects_AreaShape_BoundingBoxMaximum_Y &lt;dbl&gt; | Metadata_Object_ConvertImageToObjects_AreaShape_BoundingBoxMinimum_X &lt;dbl&gt; | Metadata_Object_ConvertImageToObjects_AreaShape_BoundingBoxMinimum_Y &lt;dbl&gt; | Metadata_Object_ConvertImageToObjects_Location_CenterMassIntensity_X_OP &lt;dbl&gt; | Metadata_Object_ConvertImageToObjects_Location_CenterMassIntensity_Y_OP &lt;dbl&gt; | \u22ef \u22ef | Texture_SumEntropy_OP_3_02_256 &lt;dbl&gt; | Texture_SumEntropy_OP_3_03_256 &lt;dbl&gt; | Texture_SumVariance_OP_3_00_256 &lt;dbl&gt; | Texture_SumVariance_OP_3_01_256 &lt;dbl&gt; | Texture_SumVariance_OP_3_02_256 &lt;dbl&gt; | Texture_SumVariance_OP_3_03_256 &lt;dbl&gt; | Texture_Variance_OP_3_00_256 &lt;dbl&gt; | Texture_Variance_OP_3_01_256 &lt;dbl&gt; | Texture_Variance_OP_3_02_256 &lt;dbl&gt; | Texture_Variance_OP_3_03_256 &lt;dbl&gt; |\n",
                            "|---|---|---|---|---|---|---|---|---|---|---|---|---|---|---|---|---|---|---|---|---|\n",
                            "| MAX_high_10_L.tiff | 1 | 1 | 38250 | 269 | 182 | 44 | 12 | 131.5461 | 118.6411 | \u22ef | 0.8414748 | 0.8345736 |  1.14918564 |  1.1522001 |  1.07890507 |  1.14484796 |  1.04000878 |  1.02573996 |  1.04549223 |  1.02761705 |\n",
                            "| MAX_high_10_R.tiff | 1 | 1 | 34170 | 208 | 245 | 38 | 44 | 106.9621 | 162.3042 | \u22ef | 0.4524796 | 0.4361385 |  0.11217819 |  0.1319819 |  0.10860250 |  0.12569959 |  0.07571690 |  0.07120688 |  0.07647711 |  0.06792193 |\n",
                            "| MAX_high_11_L.tiff | 1 | 1 | 41736 | 250 | 267 | 62 | 45 | 131.3598 | 159.4445 | \u22ef | 0.4948130 | 0.4908441 | -0.01613966 |  0.0010415 | -0.02199706 | -0.02099207 | -0.03393425 | -0.04263493 | -0.03498345 | -0.03876252 |\n",
                            "| MAX_high_11_R.tiff | 1 | 1 | 43616 | 212 | 272 | 24 | 40 | 101.0699 | 185.4864 | \u22ef | 0.8787288 | 0.8656168 |  1.12090459 |  1.1406044 |  1.07452904 |  1.11794134 |  1.03158516 |  1.01517198 |  1.03514983 |  1.01918842 |\n",
                            "| MAX_high_12_L.tiff | 2 | 2 | 25894 | 283 | 155 | 69 | 34 | 164.5791 | 105.2665 | \u22ef | 0.4767676 | 0.4826737 |  0.17788587 |  0.1479330 |  0.10331342 |  0.15645695 |  0.11176513 |  0.10784585 |  0.11761376 |  0.10885888 |\n",
                            "| MAX_high_12_R.tiff | 1 | 1 | 40920 | 229 | 265 | 43 | 45 | 119.3891 | 173.5103 | \u22ef | 0.1422418 | 0.1351928 | -0.28744321 | -0.2676854 | -0.30011318 | -0.29231741 | -0.31932910 | -0.32658057 | -0.31978483 | -0.32240245 |\n",
                            "\n"
                        ],
                        "text/plain": [
                            "  Metadata_Image_FileName_OP Metadata_ObjectNumber\n",
                            "1 MAX_high_10_L.tiff         1                    \n",
                            "2 MAX_high_10_R.tiff         1                    \n",
                            "3 MAX_high_11_L.tiff         1                    \n",
                            "4 MAX_high_11_R.tiff         1                    \n",
                            "5 MAX_high_12_L.tiff         2                    \n",
                            "6 MAX_high_12_R.tiff         1                    \n",
                            "  Metadata_Object_ConvertImageToObjects_Number_Object_Number\n",
                            "1 1                                                         \n",
                            "2 1                                                         \n",
                            "3 1                                                         \n",
                            "4 1                                                         \n",
                            "5 2                                                         \n",
                            "6 1                                                         \n",
                            "  Metadata_Object_ConvertImageToObjects_AreaShape_BoundingBoxArea\n",
                            "1 38250                                                          \n",
                            "2 34170                                                          \n",
                            "3 41736                                                          \n",
                            "4 43616                                                          \n",
                            "5 25894                                                          \n",
                            "6 40920                                                          \n",
                            "  Metadata_Object_ConvertImageToObjects_AreaShape_BoundingBoxMaximum_X\n",
                            "1 269                                                                 \n",
                            "2 208                                                                 \n",
                            "3 250                                                                 \n",
                            "4 212                                                                 \n",
                            "5 283                                                                 \n",
                            "6 229                                                                 \n",
                            "  Metadata_Object_ConvertImageToObjects_AreaShape_BoundingBoxMaximum_Y\n",
                            "1 182                                                                 \n",
                            "2 245                                                                 \n",
                            "3 267                                                                 \n",
                            "4 272                                                                 \n",
                            "5 155                                                                 \n",
                            "6 265                                                                 \n",
                            "  Metadata_Object_ConvertImageToObjects_AreaShape_BoundingBoxMinimum_X\n",
                            "1 44                                                                  \n",
                            "2 38                                                                  \n",
                            "3 62                                                                  \n",
                            "4 24                                                                  \n",
                            "5 69                                                                  \n",
                            "6 43                                                                  \n",
                            "  Metadata_Object_ConvertImageToObjects_AreaShape_BoundingBoxMinimum_Y\n",
                            "1 12                                                                  \n",
                            "2 44                                                                  \n",
                            "3 45                                                                  \n",
                            "4 40                                                                  \n",
                            "5 34                                                                  \n",
                            "6 45                                                                  \n",
                            "  Metadata_Object_ConvertImageToObjects_Location_CenterMassIntensity_X_OP\n",
                            "1 131.5461                                                               \n",
                            "2 106.9621                                                               \n",
                            "3 131.3598                                                               \n",
                            "4 101.0699                                                               \n",
                            "5 164.5791                                                               \n",
                            "6 119.3891                                                               \n",
                            "  Metadata_Object_ConvertImageToObjects_Location_CenterMassIntensity_Y_OP \u22ef\n",
                            "1 118.6411                                                                \u22ef\n",
                            "2 162.3042                                                                \u22ef\n",
                            "3 159.4445                                                                \u22ef\n",
                            "4 185.4864                                                                \u22ef\n",
                            "5 105.2665                                                                \u22ef\n",
                            "6 173.5103                                                                \u22ef\n",
                            "  Texture_SumEntropy_OP_3_02_256 Texture_SumEntropy_OP_3_03_256\n",
                            "1 0.8414748                      0.8345736                     \n",
                            "2 0.4524796                      0.4361385                     \n",
                            "3 0.4948130                      0.4908441                     \n",
                            "4 0.8787288                      0.8656168                     \n",
                            "5 0.4767676                      0.4826737                     \n",
                            "6 0.1422418                      0.1351928                     \n",
                            "  Texture_SumVariance_OP_3_00_256 Texture_SumVariance_OP_3_01_256\n",
                            "1  1.14918564                      1.1522001                     \n",
                            "2  0.11217819                      0.1319819                     \n",
                            "3 -0.01613966                      0.0010415                     \n",
                            "4  1.12090459                      1.1406044                     \n",
                            "5  0.17788587                      0.1479330                     \n",
                            "6 -0.28744321                     -0.2676854                     \n",
                            "  Texture_SumVariance_OP_3_02_256 Texture_SumVariance_OP_3_03_256\n",
                            "1  1.07890507                      1.14484796                    \n",
                            "2  0.10860250                      0.12569959                    \n",
                            "3 -0.02199706                     -0.02099207                    \n",
                            "4  1.07452904                      1.11794134                    \n",
                            "5  0.10331342                      0.15645695                    \n",
                            "6 -0.30011318                     -0.29231741                    \n",
                            "  Texture_Variance_OP_3_00_256 Texture_Variance_OP_3_01_256\n",
                            "1  1.04000878                   1.02573996                 \n",
                            "2  0.07571690                   0.07120688                 \n",
                            "3 -0.03393425                  -0.04263493                 \n",
                            "4  1.03158516                   1.01517198                 \n",
                            "5  0.11176513                   0.10784585                 \n",
                            "6 -0.31932910                  -0.32658057                 \n",
                            "  Texture_Variance_OP_3_02_256 Texture_Variance_OP_3_03_256\n",
                            "1  1.04549223                   1.02761705                 \n",
                            "2  0.07647711                   0.06792193                 \n",
                            "3 -0.03498345                  -0.03876252                 \n",
                            "4  1.03514983                   1.01918842                 \n",
                            "5  0.11761376                   0.10885888                 \n",
                            "6 -0.31978483                  -0.32240245                 "
                        ]
                    },
                    "metadata": {},
                    "output_type": "display_data"
                }
            ],
            "source": [
                "width <- 4\n",
                "height <- 4\n",
                "options(repr.plot.width = width, repr.plot.height = height)\n",
                "# make a new column for the group1 and group2\n",
                "non_aggregated_anova_df$comparison <- paste(non_aggregated_anova_df$group1, non_aggregated_anova_df$group2, sep = \" - \")\n",
                "\n",
                "# order the results by anova p-value\n",
                "non_aggregated_anova_df <- non_aggregated_anova_df %>% arrange(anova_p_value)\n",
                "features <- unique(non_aggregated_anova_df$feature)[1:20]\n",
                "features\n",
                "top_20_non_aggregated_anova_df <- non_aggregated_anova_df %>% filter(feature %in% features)\n",
                "top_20_non_aggregated_anova_df$log10_tukey_p_value <- -log10(top_20_non_aggregated_anova_df$`p-adj`)\n",
                "# make the genotype a factor\n",
                "# replace the genotype values\n",
                "non_aggregated_data_df$Metadata_genotype <- gsub(\"wt\", \"Wild Type\", non_aggregated_data_df$Metadata_genotype)\n",
                "non_aggregated_data_df$Metadata_genotype <- gsub(\"unsel\", \"Mid-Severity\", non_aggregated_data_df$Metadata_genotype)\n",
                "non_aggregated_data_df$Metadata_genotype <- gsub(\"high\", \"High-Severity\", non_aggregated_data_df$Metadata_genotype)\n",
                "non_aggregated_data_df$Metadata_genotype <- factor(\n",
                "    non_aggregated_data_df$Metadata_genotype, \n",
                "    levels = c(\"Wild Type\", \"Mid-Severity\", \"High-Severity\")\n",
                ")\n",
                "head(non_aggregated_data_df)"
            ]
        },
        {
            "cell_type": "code",
            "execution_count": 7,
            "id": "428d0878",
            "metadata": {
                "execution": {
                    "iopub.execute_input": "2024-05-04T20:35:27.374394Z",
                    "iopub.status.busy": "2024-05-04T20:35:27.373673Z",
                    "iopub.status.idle": "2024-05-04T20:35:39.584370Z",
                    "shell.execute_reply": "2024-05-04T20:35:39.583405Z"
                },
                "papermill": {
                    "duration": 12.215973,
                    "end_time": "2024-05-04T20:35:39.585480",
                    "exception": false,
                    "start_time": "2024-05-04T20:35:27.369507",
                    "status": "completed"
                },
                "tags": [],
                "vscode": {
                    "languageId": "r"
                }
            },
            "outputs": [
                {
                    "name": "stdout",
                    "output_type": "stream",
                    "text": [
                        "[1] \"Intensity_MeanIntensityEdge_OP\"\n",
                        "[1] \"Intensity_MaxIntensityEdge_OP\"\n",
                        "[1] \"Intensity_StdIntensityEdge_OP\"\n",
                        "[1] \"Intensity_LowerQuartileIntensity_OP\"\n",
                        "[1] \"AreaShape_Zernike_2_0\"\n",
                        "[1] \"AreaShape_Area\"\n",
                        "[1] \"AreaShape_CentralMoment_0_0\"\n",
                        "[1] \"AreaShape_SpatialMoment_0_0\"\n",
                        "[1] \"AreaShape_MedianRadius\"\n",
                        "[1] \"AreaShape_SpatialMoment_1_0\"\n",
                        "[1] \"AreaShape_ConvexArea\"\n",
                        "[1] \"AreaShape_MeanRadius\"\n",
                        "[1] \"AreaShape_EquivalentDiameter\"\n",
                        "[1] \"AreaShape_InertiaTensorEigenvalues_1\"\n",
                        "[1] \"AreaShape_SpatialMoment_2_0\"\n",
                        "[1] \"Intensity_MinIntensityEdge_OP\"\n",
                        "[1] \"Intensity_MinIntensity_OP\"\n",
                        "[1] \"AreaShape_SpatialMoment_0_1\"\n",
                        "[1] \"AreaShape_MinorAxisLength\"\n",
                        "[1] \"AreaShape_SpatialMoment_1_1\"\n"
                    ]
                }
            ],
            "source": [
                "width <- 8\n",
                "height <- 8\n",
                "\n",
                "list_of_genotype_anova_plots_by_genotype <- list()\n",
                "\n",
                "for (i in 1:length(features)){\n",
                "    print(features[i])\n",
                "    # get the top feature\n",
                "    tmp <- non_aggregated_data_df %>% select(c(\"Metadata_genotype\", features[i]))\n",
                "    # aggregate the data to get the mean and standard deviation of the top feature\n",
                "    tmp <- tmp %>% group_by(Metadata_genotype) %>% summarise(mean = mean(!!as.name(features[i])), sd = sd(!!as.name(features[i])))\n",
                "    # calculate the variance where variance = sd^2\n",
                "    tmp$variance <- tmp$sd^2\n",
                "    title <- gsub(\"_\", \" \", features[i])\n",
                "    # plot the variability of the top feature\n",
                "    var_plot <- (\n",
                "        ggplot(tmp, aes(x = Metadata_genotype, y = variance, fill = Metadata_genotype)) \n",
                "        + geom_bar(stat = \"identity\")\n",
                "        + theme(axis.text.x = element_text(angle = 90, hjust = 1))\n",
                "        + labs(title = title, x = \"Genotype\", y = \"Variance\", fill = \"Genotype\")\n",
                "        + theme_bw()\n",
                "        + figure_theme\n",
                "    )\n",
                "    # save var plot\n",
                "    ggsave(file = paste0(\"non_aggregated_\", features[i], \"_variance_plot_genotype.png\"), plot = var_plot, path = file.path(fig_path), width = width, height = height, dpi = 600)\n",
                "\n",
                "    list_of_genotype_anova_plots_by_genotype[[i]] <- var_plot\n",
                "}"
            ]
        }
    ],
    "metadata": {
        "kernelspec": {
            "display_name": "R",
            "language": "R",
            "name": "ir"
        },
        "language_info": {
            "codemirror_mode": "r",
            "file_extension": ".r",
            "mimetype": "text/x-r-source",
            "name": "R",
            "pygments_lexer": "r",
            "version": "4.2.2"
        },
        "papermill": {
            "default_parameters": {},
            "duration": 16.067656,
            "end_time": "2024-05-04T20:35:39.704646",
            "environment_variables": {},
            "exception": null,
            "input_path": "5c.custom_aggregated_anova_visualize.ipynb",
            "output_path": "5c.custom_aggregated_anova_visualize.ipynb",
            "parameters": {},
            "start_time": "2024-05-04T20:35:23.636990",
            "version": "2.6.0"
        }
    },
    "nbformat": 4,
    "nbformat_minor": 5
}
