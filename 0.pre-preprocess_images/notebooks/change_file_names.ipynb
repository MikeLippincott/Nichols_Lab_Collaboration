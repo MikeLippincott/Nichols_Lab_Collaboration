{
 "cells": [
  {
   "cell_type": "markdown",
   "metadata": {},
   "source": [
    "Replace the strings to rename the file names"
   ]
  },
  {
   "cell_type": "code",
   "execution_count": null,
   "metadata": {},
   "outputs": [],
   "source": [
    "import pathlib"
   ]
  },
  {
   "cell_type": "code",
   "execution_count": null,
   "metadata": {},
   "outputs": [],
   "source": [
    "# set path to the input files\n",
    "input_path = pathlib.Path(\"../../data/00.raw_images_ims/\").resolve()\n",
    "\n",
    "# set path to the output files\n",
    "output_path = pathlib.Path(\"../../data/0.raw_images_tiff/\").resolve()\n",
    "\n",
    "# create output path if it does not exist\n",
    "output_path.mkdir(parents=True, exist_ok=True)\n",
    "\n",
    "# get all files in the input path\n",
    "files = input_path.glob(\"*.ims\")"
   ]
  },
  {
   "cell_type": "code",
   "execution_count": null,
   "metadata": {},
   "outputs": [],
   "source": [
    "for file in files:\n",
    "    new_file = (\n",
    "        str(file)\n",
    "        .replace(\" \", \"_\")\n",
    "        .replace(\"561_RFP_CF40_iXon_EMCCD_\", \"\")\n",
    "        .replace(\"Protocol_7_\", \"\")\n",
    "        .replace(\"CZC14992TJ\", \"\")\n",
    "        .split(\"_2024-\")[0]\n",
    "    )\n",
    "    new_file = f\"{new_file}.ims\"\n",
    "    print(file)\n",
    "    # rename the file\n",
    "    file.rename(new_file)"
   ]
  }
 ],
 "metadata": {
  "kernelspec": {
   "display_name": "op_sam_env",
   "language": "python",
   "name": "python3"
  },
  "language_info": {
   "codemirror_mode": {
    "name": "ipython",
    "version": 3
   },
   "file_extension": ".py",
   "mimetype": "text/x-python",
   "name": "python",
   "nbconvert_exporter": "python",
   "pygments_lexer": "ipython3",
   "version": "3.9.18"
  }
 },
 "nbformat": 4,
 "nbformat_minor": 2
}
