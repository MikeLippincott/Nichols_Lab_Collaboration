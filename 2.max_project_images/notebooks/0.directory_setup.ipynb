{
 "cells": [
  {
   "cell_type": "markdown",
   "metadata": {},
   "source": [
    "Please run me prior to running the ImageJ Macro. I will create the necessary folders and download the necessary files for the ImageJ Macro to run."
   ]
  },
  {
   "cell_type": "code",
   "execution_count": 1,
   "metadata": {},
   "outputs": [],
   "source": [
    "import pathlib"
   ]
  },
  {
   "cell_type": "code",
   "execution_count": 2,
   "metadata": {},
   "outputs": [],
   "source": [
    "# import image_path\n",
    "image_path = pathlib.Path(\"../../data/2.crops/\")\n",
    "# max_projection paths\n",
    "max_projection_path = pathlib.Path(\"../../data/3.maximum_projections_and_masks\")\n",
    "\n",
    "# create directories if they don't exist\n",
    "image_path.mkdir(parents=True, exist_ok=True)\n",
    "max_projection_path.mkdir(parents=True, exist_ok=True)"
   ]
  },
  {
   "cell_type": "code",
   "execution_count": 3,
   "metadata": {},
   "outputs": [
    {
     "name": "stdout",
     "output_type": "stream",
     "text": [
      "Paths created.\n",
      "Please ensure that the raw images are in the folder \"data/0.raw_images\".\n"
     ]
    }
   ],
   "source": [
    "print(\"Paths created.\")\n",
    "print('Please ensure that the raw images are in the folder \"data/0.raw_images\".')"
   ]
  }
 ],
 "metadata": {
  "kernelspec": {
   "display_name": "op_env",
   "language": "python",
   "name": "python3"
  },
  "language_info": {
   "codemirror_mode": {
    "name": "ipython",
    "version": 3
   },
   "file_extension": ".py",
   "mimetype": "text/x-python",
   "name": "python",
   "nbconvert_exporter": "python",
   "pygments_lexer": "ipython3",
   "version": "3.9.18"
  }
 },
 "nbformat": 4,
 "nbformat_minor": 2
}
