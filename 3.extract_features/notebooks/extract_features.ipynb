{
 "cells": [
  {
   "attachments": {},
   "cell_type": "markdown",
   "metadata": {},
   "source": [
    "# Run CellProfiler `OP_pipe.cppipe` pipeline\n",
    "\n",
    "In this notebook, we run the CellProfiler analysis pipeline to perform feature extraction to output CSV files."
   ]
  },
  {
   "attachments": {},
   "cell_type": "markdown",
   "metadata": {},
   "source": [
    "## Import libraries"
   ]
  },
  {
   "cell_type": "code",
   "execution_count": 1,
   "metadata": {},
   "outputs": [],
   "source": [
    "from __future__ import annotations\n",
    "\n",
    "import os\n",
    "import pathlib\n",
    "import subprocess\n",
    "import sys\n",
    "from typing import Optional"
   ]
  },
  {
   "attachments": {},
   "cell_type": "markdown",
   "metadata": {},
   "source": [
    "## Set paths and variables\n"
   ]
  },
  {
   "cell_type": "code",
   "execution_count": 2,
   "metadata": {},
   "outputs": [],
   "source": [
    "# set paths for CellProfiler\n",
    "path_to_pipeline = pathlib.Path(\"../pipelines/OP_pipe.cppipe\").resolve()\n",
    "\n",
    "path_to_input = pathlib.Path(\"../../data/1.maximum_projections_and_masks/\").resolve()\n",
    "\n",
    "path_to_output = pathlib.Path(\"../../data/2.sqlite_output/\").resolve()"
   ]
  },
  {
   "attachments": {},
   "cell_type": "markdown",
   "metadata": {},
   "source": [
    "## Run CellProfiler analysis pipeline for each cell type\n",
    "\n",
    "In this notebook, we do not run the full pipelines as we use the python file to complete the whole run."
   ]
  },
  {
   "cell_type": "code",
   "execution_count": 3,
   "metadata": {},
   "outputs": [],
   "source": [
    "def run_cellprofiler(\n",
    "    path_to_pipeline: str,\n",
    "    path_to_input: str,\n",
    "    path_to_output: str,\n",
    "    sqlite_name: Optional[None | str] = None,\n",
    "    hardcode_sqlite_name: Optional[str | None] = None,\n",
    "    analysis_run: Optional[bool | False] = False,\n",
    "    rename_sqlite_file: Optional[bool | False] = False,\n",
    "):\n",
    "    \"\"\"Run CellProfiler on data using LoadData CSV. It can be used for both a illumination correction pipeline and analysis pipeline.\n",
    "\n",
    "    Args:\n",
    "        path_to_pipeline (str):\n",
    "            path to the CellProfiler .cppipe file with the segmentation and feature measurement modules\n",
    "        path_to_input (str):\n",
    "            path to the input folder with the images to be analyzed\n",
    "        path_to_output (str):\n",
    "            path to the output folder (the directory will be created if it doesn't already exist)\n",
    "        sqlite_name (str, optional):\n",
    "            string with name for SQLite file for an analysis pipeline to either be renamed and/or to check to see if the\n",
    "            run has already happened (default is None)\n",
    "        analysis_run (bool, optional):\n",
    "            will run an analysis pipeline and can rename sqlite files if using one pipeline for multiple datasets (default is False)\n",
    "        rename_sqlite_file (bool, optional):\n",
    "            will rename the outputted SQLite file from the CellProfiler pipeline and rename it when using one\n",
    "            pipeline for multiple datasets. If kept as default, the SQLite file will not be renamed and the sqlite_name is used to\n",
    "            find if the analysis pipeline has already been ran (default is False)\n",
    "    \"\"\"\n",
    "    # check to make sure the paths to files are correct and they exists before running CellProfiler\n",
    "    if not pathlib.Path.exists(path_to_pipeline):\n",
    "        raise FileNotFoundError(f\"Directory '{path_to_pipeline}' does not exist\")\n",
    "\n",
    "    # make logs directory\n",
    "    log_dir = pathlib.Path(\"./logs\")\n",
    "    os.makedirs(log_dir, exist_ok=True)\n",
    "\n",
    "    if not analysis_run:\n",
    "\n",
    "        # a log file is created for each plate or data set name that holds all outputs and errors\n",
    "        with open(\n",
    "            pathlib.Path(f\"logs/cellprofiler_output.log\"),\n",
    "            \"w\",\n",
    "        ) as cellprofiler_output_file:\n",
    "            # run CellProfiler pipeline\n",
    "            command = [\n",
    "                \"cellprofiler\",\n",
    "                \"-c\",\n",
    "                \"-r\",\n",
    "                \"-p\",\n",
    "                path_to_pipeline,\n",
    "                \"-i\",\n",
    "                path_to_input,\n",
    "                \"-o\",\n",
    "                path_to_output,\n",
    "            ]\n",
    "            subprocess.run(\n",
    "                command,\n",
    "                stdout=cellprofiler_output_file,\n",
    "                stderr=cellprofiler_output_file,\n",
    "                check=True,\n",
    "            )\n",
    "            print(\n",
    "                f\"The CellProfiler run has been completed with log. Please check log file for any errors.\"\n",
    "            )\n",
    "\n",
    "    if analysis_run:\n",
    "        # runs through any files that are in the output path and checks to see if analysis pipeline was already run\n",
    "        if any(\n",
    "            files.name.startswith(sqlite_name)\n",
    "            for files in pathlib.Path(path_to_output).iterdir()\n",
    "        ):\n",
    "            raise NameError(\n",
    "                f\"The file {sqlite_name}.sqlite has already been renamed! This means it was probably already analyzed.\"\n",
    "            )\n",
    "\n",
    "        # a log file is created for each plate or data set name that holds all outputs and errors\n",
    "        with open(\n",
    "            pathlib.Path(f\"logs/cellprofiler_output.log\"),\n",
    "            \"w\",\n",
    "        ) as cellprofiler_output_file:\n",
    "            # run CellProfiler for an analysis run\n",
    "            command = [\n",
    "                \"cellprofiler\",\n",
    "                \"-c\",\n",
    "                \"-r\",\n",
    "                \"-p\",\n",
    "                path_to_pipeline,\n",
    "                \"-i\",\n",
    "                path_to_input,\n",
    "                \"-o\",\n",
    "                path_to_output,\n",
    "            ]\n",
    "            subprocess.run(\n",
    "                command,\n",
    "                stdout=cellprofiler_output_file,\n",
    "                stderr=cellprofiler_output_file,\n",
    "                check=True,\n",
    "            )\n",
    "\n",
    "        if rename_sqlite_file:\n",
    "            # rename the outputted .sqlite file to the specified sqlite name if running one analysis pipeline\n",
    "            rename_sqlite_file(\n",
    "                sqlite_dir_path=pathlib.Path(path_to_output),\n",
    "                name=sqlite_name,\n",
    "                hardcode_sqlite_name=hardcode_sqlite_name,\n",
    "            )"
   ]
  },
  {
   "cell_type": "code",
   "execution_count": 5,
   "metadata": {},
   "outputs": [],
   "source": [
    "# run analysis pipeline\n",
    "run_cellprofiler(\n",
    "    path_to_pipeline=path_to_pipeline,\n",
    "    path_to_input=path_to_input,\n",
    "    path_to_output=path_to_output,\n",
    "    # name each SQLite file name from each CellProfiler pipeline\n",
    "    sqlite_name=\"OP_quantification\",\n",
    "    hardcode_sqlite_name=\"OP_quantification\",\n",
    "    # make analysis_run True to run an analysis pipeline\n",
    "    analysis_run=True,\n",
    ")"
   ]
  }
 ],
 "metadata": {
  "kernelspec": {
   "display_name": "interstellar_data",
   "language": "python",
   "name": "python3"
  },
  "language_info": {
   "codemirror_mode": {
    "name": "ipython",
    "version": 3
   },
   "file_extension": ".py",
   "mimetype": "text/x-python",
   "name": "python",
   "nbconvert_exporter": "python",
   "pygments_lexer": "ipython3",
   "version": "3.9.18"
  },
  "orig_nbformat": 4,
  "vscode": {
   "interpreter": {
    "hash": "81d75d885d2ea0d6e4463847eda8ca25badfb37040b8b8c25aecaa84e569f150"
   }
  }
 },
 "nbformat": 4,
 "nbformat_minor": 2
}
