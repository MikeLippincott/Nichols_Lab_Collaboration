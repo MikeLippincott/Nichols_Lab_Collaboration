{
 "cells": [
  {
   "attachments": {},
   "cell_type": "markdown",
   "metadata": {},
   "source": [
    "# Run CellProfiler `OP_pipe.cppipe` pipeline\n",
    "\n",
    "In this notebook, we run the CellProfiler analysis pipeline to perform feature extraction to output CSV files."
   ]
  },
  {
   "attachments": {},
   "cell_type": "markdown",
   "metadata": {},
   "source": [
    "## Import libraries"
   ]
  },
  {
   "cell_type": "code",
   "execution_count": null,
   "metadata": {},
   "outputs": [],
   "source": [
    "from __future__ import annotations\n",
    "\n",
    "import pathlib\n",
    "import sys\n",
    "\n",
    "sys.path.append(\"../../utils/\")\n",
    "\n",
    "from cellprofiler_utils import (  # imported from utils and written by Jenna Tomkinson\n",
    "    run_cellprofiler,\n",
    ")"
   ]
  },
  {
   "attachments": {},
   "cell_type": "markdown",
   "metadata": {},
   "source": [
    "## Set paths and variables\n"
   ]
  },
  {
   "cell_type": "code",
   "execution_count": null,
   "metadata": {},
   "outputs": [],
   "source": [
    "# set paths for CellProfiler\n",
    "path_to_pipeline = pathlib.Path(\"../pipelines/OP_pipe.cppipe\").resolve()\n",
    "\n",
    "path_to_input = pathlib.Path(\"../../data/3.maximum_projections_and_masks/\").resolve()\n",
    "\n",
    "path_to_output = pathlib.Path(\"../../data/4.sqlite_output/\").resolve()\n",
    "# make sure the output directory exists if not create it\n",
    "path_to_output.mkdir(parents=True, exist_ok=True)"
   ]
  },
  {
   "attachments": {},
   "cell_type": "markdown",
   "metadata": {},
   "source": [
    "## Run CellProfiler analysis pipeline for each cell type\n",
    "\n",
    "In this notebook, we do not run the full pipelines as we use the python file to complete the whole run."
   ]
  },
  {
   "cell_type": "code",
   "execution_count": null,
   "metadata": {},
   "outputs": [],
   "source": [
    "# run analysis pipeline\n",
    "run_cellprofiler(\n",
    "    path_to_pipeline=path_to_pipeline,\n",
    "    path_to_input=path_to_input,\n",
    "    path_to_output=path_to_output,\n",
    "    # name each SQLite file name from each CellProfiler pipeline\n",
    "    sqlite_name=\"OP_quantification\",\n",
    "    hardcode_sqlite_name=\"output\",\n",
    "    # make analysis_run True to run an analysis pipeline\n",
    "    analysis_run=True,\n",
    ")"
   ]
  }
 ],
 "metadata": {
  "kernelspec": {
   "display_name": "interstellar_data",
   "language": "python",
   "name": "python3"
  },
  "language_info": {
   "codemirror_mode": {
    "name": "ipython",
    "version": 3
   },
   "file_extension": ".py",
   "mimetype": "text/x-python",
   "name": "python",
   "nbconvert_exporter": "python",
   "pygments_lexer": "ipython3",
   "version": "3.8.0"
  },
  "orig_nbformat": 4,
  "vscode": {
   "interpreter": {
    "hash": "81d75d885d2ea0d6e4463847eda8ca25badfb37040b8b8c25aecaa84e569f150"
   }
  }
 },
 "nbformat": 4,
 "nbformat_minor": 2
}
